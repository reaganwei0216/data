{
 "cells": [
  {
   "cell_type": "code",
   "execution_count": null,
   "metadata": {},
   "outputs": [],
   "source": [
    "import json\n",
    "import requests\n",
    "import pandas as pd\n",
    "from base64 import b64encode\n",
    "\n",
    "username = '123456789'\n",
    "password = '123456789'\n",
    "\n",
    "access_token = b64encode((username+':'+password).encode('utf-8')).decode('utf-8')\n",
    "headers = {\n",
    "\n",
    "    \"Authorization\": \"Basic {0}\".format(access_token) # Replaces as \"Authorization\": \"Basic WdfV0Adh4Kdf=\"\n",
    "\n",
    "}\n",
    "url='http://httpbin.org/basic-auth/123456789/123456789'\n",
    "res=requests.get(url,headers=headers)\n",
    "json.loads(res.text)"
   ]
  }
 ],
 "metadata": {
  "kernelspec": {
   "display_name": "Python 3",
   "language": "python",
   "name": "python3"
  },
  "language_info": {
   "codemirror_mode": {
    "name": "ipython",
    "version": 3
   },
   "file_extension": ".py",
   "mimetype": "text/x-python",
   "name": "python",
   "nbconvert_exporter": "python",
   "pygments_lexer": "ipython3",
   "version": "3.7.5"
  }
 },
 "nbformat": 4,
 "nbformat_minor": 2
}
