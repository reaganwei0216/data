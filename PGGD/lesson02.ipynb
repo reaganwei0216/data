{
 "cells": [
  {
   "cell_type": "markdown",
   "metadata": {},
   "source": [
    "<a id=\"syntax\"></a>\n",
    "## Lesson 2 - Learn Python Today\n",
    "\n",
    "In this tutorial we will cover some basic aspects of Python using IPython (Jupyter) notebooks. \n",
    "\n",
    "### Table of Contents\n",
    "\n",
    "* [Jupyter Notebook操作基礎](#JupyterNotebook)\n",
    "* [Python 用作計算機](#Calculator)\n",
    "* [Python 變數與註解](#PythonVariable)"
   ]
  },
  {
   "cell_type": "markdown",
   "metadata": {},
   "source": [
    "<a id=\"JupyterNotebook\"></a>\n",
    "### Jupyter Notebook操作基礎\n",
    "\n",
    "- 是一個寫程式的工具\n",
    "- 逐行執行並且做到資料視覺化\n",
    "- 由於其逐行執行的特性，適合 Python 初學者從中了解程式邏輯"
   ]
  },
  {
   "cell_type": "markdown",
   "metadata": {},
   "source": [
    "透過命令提示字元\n",
    "\n",
    "步驟 1：開啟命令提示字元，輸入 jupyter notebook\n",
    "\n",
    "<img src=\"images/StartNotebook.png\">"
   ]
  },
  {
   "cell_type": "markdown",
   "metadata": {},
   "source": [
    "步驟 2：按下鍵盤 Enter，開始執行\n",
    "\n",
    "<img src=\"images/EnterNotebook.png\">"
   ]
  },
  {
   "cell_type": "markdown",
   "metadata": {},
   "source": [
    "步驟 3：完成\n",
    "\n",
    "成功開啟會自動打開瀏覽器，到 Jupyter Notebook 頁面\n",
    "\n",
    "<img src=\"images/JupyterNotebook.png\">"
   ]
  },
  {
   "cell_type": "markdown",
   "metadata": {},
   "source": [
    "#### 使用 Jupyter Notebook 撰寫 Python\n",
    "\n",
    "- 注意：\n",
    "透過 Jupyter Notebook 建立的 Python 檔副檔名是 .ipynb，與一般的 .py 檔不同"
   ]
  },
  {
   "cell_type": "markdown",
   "metadata": {},
   "source": [
    "步驟 1：\n",
    "\n",
    "選取 Python 檔要存放的位置，教學以 C:\\David程式設計基礎\\ 為例\n",
    "\n",
    "<img src=\"images/notebook_dashboard.png\">\n",
    "\n",
    "小抄：請勿在 /~home 或 C:\\Windows\\ 下執行，在執行之前請先切換路徑至工作路徑。"
   ]
  },
  {
   "cell_type": "markdown",
   "metadata": {},
   "source": [
    "步驟 2：\n",
    "\n",
    "按下 New▼ 下拉選單，選擇Python3。\n",
    "\n",
    "<img src=\"images/notebook_new.png\">"
   ]
  },
  {
   "cell_type": "markdown",
   "metadata": {},
   "source": [
    "步驟3：\n",
    "\n",
    "修改檔案名稱，點擊上方Untitled方塊，於跳出的對話視窗中，修改你的檔案名稱：Hello David\n",
    "\n",
    "<img src=\"images/notebook_rename.png\">"
   ]
  },
  {
   "cell_type": "markdown",
   "metadata": {},
   "source": [
    "Jupyter Notebook 工具列按鈕介紹\n",
    "\n",
    "在頁面上方有一排按鈕，本節對當中較常用的做介紹\n",
    "\n",
    "<img src=\"images/notebook_toolbar.png\" width=\"480\">"
   ]
  },
  {
   "cell_type": "markdown",
   "metadata": {},
   "source": [
    "### LAB: Playaround with Jupyter Notebook\n",
    "\n",
    "1. 請新建一個新的 Notebook。\n",
    "2. 選擇 Python 3 做為直譯環境。\n",
    "3. 變更檔案名稱為 MyPython。\n",
    "4. 新增 2 個空白 cell。\n",
    "5. 刪除 1 個空白 cell。\n",
    "6. 執行 1 個 cell。\n",
    "7. 清除 Kernel。"
   ]
  },
  {
   "cell_type": "code",
   "execution_count": null,
   "metadata": {},
   "outputs": [],
   "source": []
  },
  {
   "cell_type": "markdown",
   "metadata": {},
   "source": [
    "我的第一個 Python 程式。\n",
    "\n",
    "各式程式語言的第一個教學都是印出 Hello World，因此這邊也以印出 Hello World 作為範例\n",
    "\n",
    "一般要透過 Python 印出字串時，會透過 print() 函式來達成，如下："
   ]
  },
  {
   "cell_type": "code",
   "execution_count": 1,
   "metadata": {},
   "outputs": [
    {
     "name": "stdout",
     "output_type": "stream",
     "text": [
      "Hello World\n"
     ]
    }
   ],
   "source": [
    "print('Hello World')"
   ]
  },
  {
   "cell_type": "markdown",
   "metadata": {},
   "source": [
    "但是 Jupyter Notebook 的特性是不需透過 print() 直接執行即可印出結果，如下："
   ]
  },
  {
   "cell_type": "code",
   "execution_count": 2,
   "metadata": {},
   "outputs": [
    {
     "data": {
      "text/plain": [
       "'Hello World'"
      ]
     },
     "execution_count": 2,
     "metadata": {},
     "output_type": "execute_result"
    }
   ],
   "source": [
    "'Hello World'"
   ]
  },
  {
   "cell_type": "markdown",
   "metadata": {},
   "source": [
    "當然，在初學期間建議養成印出結果記得用上 print() 的好習慣，你會發現這幾個字，會是你日後鍵盤上常敲的幾個字喔 !"
   ]
  },
  {
   "cell_type": "markdown",
   "metadata": {},
   "source": [
    "要執行 Cell 有 3 種方式：\n",
    "\n",
    "- 按下界面上的 Run\n",
    "- 按鍵盤的 Ctrl + Enter"
   ]
  },
  {
   "cell_type": "markdown",
   "metadata": {},
   "source": [
    "若要一邊執行 Cell 又希望能自動新增一個 ROW cell：\n",
    "\n",
    "- 按鍵盤的 Alt + Enter"
   ]
  },
  {
   "cell_type": "markdown",
   "metadata": {},
   "source": [
    "Recap:\n",
    "\n",
    "- 執行 jupyter notebook 開啟 Python 開發環境。\n",
    "- 建立 Python3 kernel 的 notebook 程式檔案。\n",
    "- Jupyter notebook的程式副檔名為 *.ipynb 並非為 *.py\n",
    "- Jupyter Notebook 工具列按鈕介紹\n",
    "- Hello Word"
   ]
  },
  {
   "cell_type": "markdown",
   "metadata": {},
   "source": [
    "<a id=\"Calculator\"></a>\n",
    "### Math and calculator"
   ]
  },
  {
   "cell_type": "markdown",
   "metadata": {},
   "source": [
    "<a id=\"Calculator\"></a>\n",
    "電腦程式語言，用作數學計算機運算，當然沒問題了!"
   ]
  },
  {
   "cell_type": "code",
   "execution_count": 3,
   "metadata": {},
   "outputs": [
    {
     "data": {
      "text/plain": [
       "20"
      ]
     },
     "execution_count": 3,
     "metadata": {},
     "output_type": "execute_result"
    }
   ],
   "source": [
    "2 * (2+8)"
   ]
  },
  {
   "cell_type": "markdown",
   "metadata": {},
   "source": [
    "### LAB\n",
    "\n",
    "試試看拿Cell來當計算機"
   ]
  },
  {
   "cell_type": "code",
   "execution_count": null,
   "metadata": {},
   "outputs": [],
   "source": []
  },
  {
   "cell_type": "markdown",
   "metadata": {},
   "source": [
    "次方運算： 2的3次方：\n",
    "\n",
    "$2^3$"
   ]
  },
  {
   "cell_type": "code",
   "execution_count": 4,
   "metadata": {},
   "outputs": [
    {
     "data": {
      "text/plain": [
       "8"
      ]
     },
     "execution_count": 4,
     "metadata": {},
     "output_type": "execute_result"
    }
   ],
   "source": [
    "2**3"
   ]
  },
  {
   "cell_type": "markdown",
   "metadata": {},
   "source": [
    "試試看除法"
   ]
  },
  {
   "cell_type": "code",
   "execution_count": 5,
   "metadata": {},
   "outputs": [
    {
     "data": {
      "text/plain": [
       "0.3333333333333333"
      ]
     },
     "execution_count": 5,
     "metadata": {},
     "output_type": "execute_result"
    }
   ],
   "source": [
    "1/3"
   ]
  },
  {
   "cell_type": "markdown",
   "metadata": {},
   "source": [
    "複雜的計算可以用括號, 記得程式語言永遠是小括號，沒有大括號。"
   ]
  },
  {
   "cell_type": "code",
   "execution_count": 6,
   "metadata": {},
   "outputs": [
    {
     "data": {
      "text/plain": [
       "14.0625"
      ]
     },
     "execution_count": 6,
     "metadata": {},
     "output_type": "execute_result"
    }
   ],
   "source": [
    "(1+(2+3/4))**2"
   ]
  },
  {
   "cell_type": "markdown",
   "metadata": {},
   "source": [
    "<a id=\"PythonVariable\"></a>\n",
    "## Python 變數與註解"
   ]
  },
  {
   "cell_type": "markdown",
   "metadata": {},
   "source": [
    "### 變數\n",
    "\n",
    "Python 的變數不需要經過宣告, 直接可以使用。"
   ]
  },
  {
   "cell_type": "code",
   "execution_count": 7,
   "metadata": {},
   "outputs": [],
   "source": [
    "# variables\n",
    "a = 3"
   ]
  },
  {
   "cell_type": "code",
   "execution_count": 8,
   "metadata": {},
   "outputs": [
    {
     "data": {
      "text/plain": [
       "3"
      ]
     },
     "execution_count": 8,
     "metadata": {},
     "output_type": "execute_result"
    }
   ],
   "source": [
    "a"
   ]
  },
  {
   "cell_type": "code",
   "execution_count": 9,
   "metadata": {},
   "outputs": [
    {
     "data": {
      "text/plain": [
       "6"
      ]
     },
     "execution_count": 9,
     "metadata": {},
     "output_type": "execute_result"
    }
   ],
   "source": [
    "a + 3"
   ]
  },
  {
   "cell_type": "markdown",
   "metadata": {},
   "source": [
    "### Python 3 variable name can using 中文"
   ]
  },
  {
   "cell_type": "code",
   "execution_count": 10,
   "metadata": {},
   "outputs": [],
   "source": [
    "底 = 3"
   ]
  },
  {
   "cell_type": "code",
   "execution_count": 11,
   "metadata": {},
   "outputs": [
    {
     "data": {
      "text/plain": [
       "3"
      ]
     },
     "execution_count": 11,
     "metadata": {},
     "output_type": "execute_result"
    }
   ],
   "source": [
    "底"
   ]
  },
  {
   "cell_type": "code",
   "execution_count": 12,
   "metadata": {},
   "outputs": [],
   "source": [
    "高 = 6"
   ]
  },
  {
   "cell_type": "code",
   "execution_count": 13,
   "metadata": {},
   "outputs": [],
   "source": [
    "面積 = (底 * 高) / 2"
   ]
  },
  {
   "cell_type": "code",
   "execution_count": 14,
   "metadata": {},
   "outputs": [
    {
     "data": {
      "text/plain": [
       "9.0"
      ]
     },
     "execution_count": 14,
     "metadata": {},
     "output_type": "execute_result"
    }
   ],
   "source": [
    "面積"
   ]
  },
  {
   "cell_type": "code",
   "execution_count": 15,
   "metadata": {},
   "outputs": [
    {
     "data": {
      "text/plain": [
       "9.0"
      ]
     },
     "execution_count": 15,
     "metadata": {},
     "output_type": "execute_result"
    }
   ],
   "source": [
    "底 = 3\n",
    "高 = 6\n",
    "面積 = (底 * 高) / 2\n",
    "面積"
   ]
  },
  {
   "cell_type": "code",
   "execution_count": 16,
   "metadata": {},
   "outputs": [
    {
     "data": {
      "text/plain": [
       "10"
      ]
     },
     "execution_count": 16,
     "metadata": {},
     "output_type": "execute_result"
    }
   ],
   "source": [
    "x = 2 # 將等號右邊的值，assign給等號左邊的變數 (variable)\n",
    "y = 5\n",
    "x * y"
   ]
  },
  {
   "cell_type": "markdown",
   "metadata": {},
   "source": [
    "$ x^y $"
   ]
  },
  {
   "cell_type": "code",
   "execution_count": 17,
   "metadata": {},
   "outputs": [
    {
     "data": {
      "text/plain": [
       "32"
      ]
     },
     "execution_count": 17,
     "metadata": {},
     "output_type": "execute_result"
    }
   ],
   "source": [
    "x ** y"
   ]
  },
  {
   "cell_type": "code",
   "execution_count": 18,
   "metadata": {},
   "outputs": [
    {
     "data": {
      "text/plain": [
       "0"
      ]
     },
     "execution_count": 18,
     "metadata": {},
     "output_type": "execute_result"
    }
   ],
   "source": [
    "# Floor Division則是直接忽略小數點以後的所有數字\n",
    "x // y"
   ]
  },
  {
   "cell_type": "markdown",
   "metadata": {},
   "source": [
    "### LAB: 數字魔術\n",
    "\n",
    "1. 在 1 個 cell 中，建立變數 a。\n",
    "2. 賦予這 a 變數一個五位數字的整數，五個數字要不同，如：74691\n",
    "3. 建立變數 b，使用 a 的五個數字再隨意組成另外一個五位數，如：49167\n",
    "4. 比較兩個變數 a, b ，將較大數減去較小數得差，存於變數 c，如：74691-49167 = 25524\n",
    "5. 隨意選擇相減的差 c 中的一位數，如 25524 中選擇 5，存於變數 ans，並將 2524 存於變數 d。\n",
    "6. 將變數 d 各個數位上的數字相加求和，直到和為1位數，再用9減去這個1位數，就是 ans 了。\n",
    "\n",
    "如上述的2524，2+5+2+4=13，和是2位數，不是1位數，繼續相加，1+3=4，4是1位數，9-4=5，所以可以得出對方選擇的數字就是5。\n"
   ]
  },
  {
   "cell_type": "code",
   "execution_count": null,
   "metadata": {},
   "outputs": [],
   "source": []
  },
  {
   "cell_type": "markdown",
   "metadata": {},
   "source": [
    "### 程式中寫註解 (Annotation)\n",
    "\n",
    "撰寫程式註解讓自己想起來當初在寫什麼"
   ]
  },
  {
   "cell_type": "code",
   "execution_count": 19,
   "metadata": {},
   "outputs": [],
   "source": [
    "# comment out 註解掉一行命令\n",
    "a = 10"
   ]
  },
  {
   "cell_type": "code",
   "execution_count": 20,
   "metadata": {},
   "outputs": [
    {
     "data": {
      "text/plain": [
       "1"
      ]
     },
     "execution_count": 20,
     "metadata": {},
     "output_type": "execute_result"
    }
   ],
   "source": [
    "'''\n",
    "asda\n",
    "sdfasdf\n",
    "'''\n",
    "\n",
    "1"
   ]
  },
  {
   "cell_type": "code",
   "execution_count": null,
   "metadata": {},
   "outputs": [],
   "source": []
  },
  {
   "cell_type": "code",
   "execution_count": null,
   "metadata": {},
   "outputs": [],
   "source": []
  },
  {
   "cell_type": "code",
   "execution_count": 21,
   "metadata": {},
   "outputs": [
    {
     "data": {
      "text/plain": [
       "1"
      ]
     },
     "execution_count": 21,
     "metadata": {},
     "output_type": "execute_result"
    }
   ],
   "source": [
    "'''\n",
    "利用「三引號」字串，註解寫成了文章了\n",
    "還可以換行喔! 下面一行 1 是測試用的啦~\n",
    "'''\n",
    "1"
   ]
  },
  {
   "cell_type": "markdown",
   "metadata": {},
   "source": [
    "### Recap"
   ]
  },
  {
   "cell_type": "markdown",
   "metadata": {},
   "source": [
    "- Python Syntax (comment out, data type)"
   ]
  },
  {
   "cell_type": "markdown",
   "metadata": {},
   "source": [
    "### LAB"
   ]
  },
  {
   "cell_type": "markdown",
   "metadata": {},
   "source": [
    "一元一次方程：2x + 5 = 13，求 x?"
   ]
  },
  {
   "cell_type": "code",
   "execution_count": 22,
   "metadata": {},
   "outputs": [
    {
     "name": "stdout",
     "output_type": "stream",
     "text": [
      "4.0\n"
     ]
    }
   ],
   "source": [
    "x = (13-5)/2\n",
    "print(x)"
   ]
  },
  {
   "cell_type": "markdown",
   "metadata": {},
   "source": [
    "### 計算出來了嗎?"
   ]
  },
  {
   "cell_type": "code",
   "execution_count": 23,
   "metadata": {},
   "outputs": [
    {
     "data": {
      "text/plain": [
       "'拍手拍手拍手'"
      ]
     },
     "execution_count": 23,
     "metadata": {},
     "output_type": "execute_result"
    }
   ],
   "source": [
    "\"拍手\" * 3"
   ]
  },
  {
   "cell_type": "code",
   "execution_count": 24,
   "metadata": {},
   "outputs": [
    {
     "name": "stdout",
     "output_type": "stream",
     "text": [
      "====================\n",
      "4.0\n",
      "====================\n"
     ]
    }
   ],
   "source": [
    "print(\"=\"*20)\n",
    "print(x)\n",
    "print(\"=\"*20)"
   ]
  },
  {
   "cell_type": "code",
   "execution_count": null,
   "metadata": {},
   "outputs": [],
   "source": []
  }
 ],
 "metadata": {
  "kernelspec": {
   "display_name": "Python 3",
   "language": "python",
   "name": "python3"
  },
  "language_info": {
   "codemirror_mode": {
    "name": "ipython",
    "version": 3
   },
   "file_extension": ".py",
   "mimetype": "text/x-python",
   "name": "python",
   "nbconvert_exporter": "python",
   "pygments_lexer": "ipython3",
   "version": "3.6.7"
  }
 },
 "nbformat": 4,
 "nbformat_minor": 2
}
