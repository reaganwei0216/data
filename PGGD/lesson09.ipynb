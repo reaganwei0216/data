{
 "cells": [
  {
   "cell_type": "markdown",
   "metadata": {},
   "source": [
    "## Lesson 9 - Getting Started with Neo4j\n",
    "\n",
    "\n",
    "\n",
    "\n",
    "\n",
    "### Table of Contents\n",
    "\n",
    "* [What is a Graph Database?](#WhatisaGraphDatabase)\n",
    "* [Graph Database](#Neo4jGraphDatabase)\n",
    "* [Why Neo4j](#WhyNeo4j)\n",
    "* [The Neo4j Graph Platform](#Neo4jGraphPlatform)\n",
    "* [Neo4j Browser](#Neo4jBrowser)\n",
    "* [Neo4j Desktop](#Neo4jDesktop)\n",
    "* [Neo4j Sandbox](#Neo4jSandbox)\n",
    "* [Neo4j Bloom](#Neo4jBloom)\n",
    "* [Neo4j Libraries](#Libraries)\n",
    "* [Neo4j Drivers and language support](#Diver)\n",
    "* [Use cases for graph databases](#UseCasesGaphDatabases)"
   ]
  },
  {
   "cell_type": "markdown",
   "metadata": {},
   "source": [
    "<a id=\"WhatisaGraphDatabase\"></a>\n",
    "## What is a Graph Database?"
   ]
  },
  {
   "cell_type": "markdown",
   "metadata": {},
   "source": [
    "<a id=\"ipython\"></a>\n",
    "\n",
    "### What is  Neo4j\n",
    "\n",
    "Taking the first steps with Neo4j?\n",
    "\n",
    "These introductory tutorials and developer guides will guide you through much of your initial learning for Neo4j and give you resources to continue your education.\n",
    "\n",
    "<img src=\"images/getting_stated.png\">\n",
    "\n",
    "Connected information is everywhere in the world around us. Neo4j was built to efficiently store, handle, and query highly-connected data in your data model. With a powerful and flexible data model, you can represent your real-world, variably-structured information without a loss of richness.\n",
    "\n",
    "- Neo4j Graph Platform\n",
    "\n",
    "At Neo4j, we want to provide options to solve many different kinds of business and technical needs. Our goal is that our products are simple and fit your use case, whatever it may be. Whether you are relying upon graphs for transactions, market analysis, operations optimizations, or anything else, Neo4j strives to provide a seamless process for integrating our tools with the rest of your existing system.\n",
    "\n",
    "Capabilities in the Neo4j graph platform include aiding developers to import data to the graph, business analysts to explore the data with ease, and data scientists to make decisions based on analysis results. No matter your role within your organization, we want to put the power of the graph and Neo4j within reach to help you maximize business value and achieve technical needs.\n",
    "\n",
    "- Graph Data Modeling\n",
    "\n",
    "The richness of graph data and the performance of your queries depends closely on how the data is modeled. Data in Neo4j should resemble the real-world information and relationships, but data modeling focuses on understanding what questions the data will answer and what types of information you need from it.\n",
    "\n",
    "Your data model may also impact the queries you write and the performance of the results returned. Choosing to store certain pieces of data as properties versus separate nodes and determining how to structure your relationships is part of the process to maintain good data and maximize query performance.\n",
    "\n",
    "- Cypher - A Next-Generation Query Language\n",
    "\n",
    "We wanted to make querying graph data not only fun, but easy to learn, understand, and use for everyone. That’s why we created a human-friendly, declarative query language which uses ASCII-Art to represent visual graph patterns for finding or updating data in Neo4j.\n",
    "\n",
    "Cypher was based on the power of SQL, but optimized specifically for graphs. The syntax is concise and straightforward, allowing users to easily write all the normal CRUD operations in a simple and maintainable way.\n",
    "\n",
    "- Graph Visualization\n",
    "\n",
    "Visualizations often provide a better understanding of your data than textual formats can support. As one of our customers said of graph visualization, \"I can look at a graph of transactions and fraudulent activity pops out for me.\"\n",
    "\n",
    "Neo4j offers methods for visualizing data, such as Neo4j Browser for developers, Neo4j Bloom for analysts and others looking for natural language search, and libraries for developers to embed graphs directly into their applications. We also have several partners providing additional options in this space to fit a variety of visualization needs.\n",
    "\n",
    "- Data Import\n",
    "\n",
    "If you are looking to bring data into Neo4j from another source, Neo4j has a variety of tools and partner applications for different approaches to the data import problem. We want to maximize value by simplifying the import process and allow you to start analyzing your graph data sooner.\n",
    "\n",
    "Our goal in this area to help developers transfer some of their own relevant data into Neo4j to see how it would look and what a graph database can help them do with it. We also have options for other types of data import, including integrations with other vendor products and tools. This area aids businesses to transport data from technology to technology as easily and smoothly as possible.\n",
    "\n",
    "- Drivers for Popular Programming Languages\n",
    "\n",
    "Developing applications using Neo4j is straightforward. Using the binary \"Bolt\" protocol, we provide officially-supported drivers for languages such as .Net, Java (also Spring), JavaScript, and Python. Other drivers for the binary and the http protocol are developed by our active contributor community.\n",
    "\n",
    "These drivers allow developers to build applications and integrations using the programming language(s) of their choice and easily interact with data in the Neo4j database.v\n",
    "\n",
    "- Deploying Neo4j\n",
    "\n",
    "If you are looking to run Neo4j in production environments, we provide various options for types of deployments and configurations. Neo4j provides options for causal clustering, performance tuning, cloud deployment, backups and failovers, and more. We also have tools to plan and manage your deployments and preferences, including a calculator to help you know how much hardware you will need to run your data in Neo4j.\n",
    "\n",
    "From local to cloud deployments and anything in between, we can help satisfy your preferences and requirements. While each implementation will have its own advantages and difficulties, the power to choose resides in the business and technical needs of your company."
   ]
  },
  {
   "cell_type": "markdown",
   "metadata": {},
   "source": [
    "<a id=\"Neo4jGraphDatabase\"></a>\n",
    "## Neo4j is a Graph Database\n",
    "\n",
    "\n",
    "#### Graph DB 的三種模型\n",
    "\n",
    "為了避免各位直接把 GraphDB 和 Neo4j 劃上等號，在此先從 Graph DB 開始介紹，目前 Graph DB 有三大模型如下：\n",
    "\n",
    "##### Property Graphs\n",
    "\n",
    "Neo4j 就是這一類，藉由許多的 nodes、relations、properties 所組合而成\n",
    "\n",
    "##### Hypergraphs\n",
    "\n",
    "和前者的差別在於，一個 relation 可以連接多個 nodes，很適合用於資料彼此有大量的「多對多」關係的情境\n",
    "\n",
    "##### Triple Stores\n",
    "使用 W3C 的 RDF（資源描述框架）\n",
    "\n",
    "\n",
    "- What is a graph?\n",
    "\n",
    "圖是物件的集合，每個物件與其他物件都有關聯。\n",
    "\n",
    "圖學是用於數學分析目的的數據建模的一種有用方法，並且已經存在了很長時間。第一次使用圖學是 Leonhard Euler 在1735年提出的；他用圖論來證明著名的 Seven Bridges of Konigsberg problem (一筆畫與柯尼斯堡七橋問題)。\n",
    "\n",
    "您小時候有沒有玩過益智遊戲中的「一筆畫」呢？就是一個圖型內有數個節點，然後有數條線將它串連起來。遊戲的方法很簡單，就是可以從任何一個點開始走起，必須把每個點都走過一遍，而每個點都不能重複走過，這就是一筆畫的玩法。事實上，這個俗稱一筆畫的遊戲，其實就是來自拓撲學中的「七橋問題」。\n",
    "在拓撲學的歷史上，第一個的難題源自於東普魯士，普列戈利亞河畔的柯尼斯堡（今日俄羅斯的加里寧格勒）。當時的市區跨越普列戈利亞河兩岸，河的中心有兩座小島，小島與兩岸之間有七座橋相連。\n",
    "由於當地的居民在散步時，常常會經過許多橋，因此便引發了一些人的好奇心，他們想了解是否有可能在每座橋只走一次的前提下，將所有橋都走遍，這就是著名的柯尼斯堡「七橋問題」。\n",
    "這個問題，後來被瑞士數學家李昂哈德·尤拉（Leonhard Euler，1707~1783）於1735年所解決。\n",
    "\n",
    "<img src=\"images/SevenBridges.png\">\n",
    "\n",
    "尤拉發現，島與橋的實際位置及距離，並不是解決問題的重點。重要的是這些橋的連結方式。因此，七橋問題可以從實體的地圖，畫成如網路圖（上下兩個點是兩岸，中間左右兩個點是兩座島，七條線是七座橋）。\n",
    "\n",
    "尤拉指出，網路圖中的節點，如果有奇數條線向外延伸出去，可以稱為「奇數點」；如果有偶數條線，就稱為「偶數點」。而如果這個圖形必須符合兩個條件，這個問題才有解。\n",
    "\n",
    "首先，圖形的每個點都必須是偶數點；其次，如果圖形中有奇數點，奇數點最多也只能有兩個，因為，為了要一次走完，一定要在奇數點開始或結束，所以最多只能有兩個奇數點。至於奇數點的線條數則不一定要一樣，一個三的奇數點，可以搭配五的奇數點。\n",
    "\n",
    "由於柯尼斯堡七橋問題的網路中，因為所有四個陸地都被奇數數量的橋樑所接觸，即有四個奇數點，所以這個問題「無解」。如果您有興趣，不妨拿出來筆來自己畫一畫，甚至可以出題目自己來試試。"
   ]
  },
  {
   "cell_type": "markdown",
   "metadata": {},
   "source": [
    "### Anything can be a graph\n",
    "\n",
    "如果圖是一種抽象的數學工具，為什麼我們要在意呢？\n",
    "\n",
    "我們很在意，因為任何數據集都可以表示為圖形。任何結構或概念，無論多麼簡單或複雜，都可以分解為一組相互之間具有某種關係的組成部分。\n",
    "\n",
    "例如，可以將Internet建模為網際網絡。\n",
    "\n",
    "<img src=\"images/TheInternetAsAGraph.png\">\n",
    "\n",
    "在另一個極端的複雜性範例，單個分子可以表示為其組成原子的圖，或表示為亞原子粒子圖的原子 (subatomic particles)。\n",
    "\n",
    "<img src=\"images/AWaterMoleculeAsAGraph.png\">\n",
    "\n",
    "甚至是交通路線選擇、社群網路人際關係、進而衍生至機器學習、深度學習等領域，任何大小資料，皆可以圖學的方式來充分描述它。"
   ]
  },
  {
   "cell_type": "markdown",
   "metadata": {},
   "source": [
    "### Graph concepts – nodes and relationships\n",
    "\n",
    "我們將從定義 Neo4j 中組成圖形的物件開始。注意這些是這些物件的 Neo4j 術語。最初的數學術語是 「頂點」(Vertex)和「邊」(Edge)，之所以用術語來表達，是因為它更直觀地描述了物件所代表的含義。\n",
    "\n",
    "我們將從兩個節點(Node)開始，這兩個節點相互關聯，用一條線將它們連接起來，這條線又稱之為關係(Relationship)，而節點(Node)和與關係(Relationship)所組成的即為圖的基礎了。\n",
    "\n",
    "<img src=\"images/GraphComponents.png\">"
   ]
  },
  {
   "cell_type": "markdown",
   "metadata": {},
   "source": [
    "### Nodes\n",
    "\n",
    "節點(Node)是圖的主要物件，之所以這麼說，並不是因為節點包含的數據多於關係（儘管通常比關係多），而是因為擁有沒有任何關係的節點是完全可以接受的。相反，沒有任何節點是不可能有關係的。\n",
    "\n",
    "在Neo4j中，每個節點都有不同的顏色，也許是為了區分其類型(類別)與另一個節點。例如，藍色節點表示一個人，而該人節點的名稱為 Jane。綠色節點表示車輛，該車輛節點具有汽車類型。\n",
    "\n",
    "<img src=\"images/GraphConcepts-Nodes.png\">\n",
    "\n",
    "在數學上，節點定義為 “兩個或多個邊（關係）相交的點”。這定義並不容易理解，但是，它提供了有關如何使用圖形的重要見解。\n",
    "\n",
    "由於將數據建模為圖形的全部的節點全都用上，因此考慮節點的一種有用方法是將它們視為海上的小島，而要連接起所有小島的航線(關係)，就是節點的集合。\n",
    "\n",
    "這些關係通常具有資訊，您需要確定哪些連接關係值得注意，哪些應該忽略。關係就是那些連接線。"
   ]
  },
  {
   "cell_type": "markdown",
   "metadata": {},
   "source": [
    "### Relationships\n",
    "\n",
    "接下來，讓我們在Neo4j中定義一個關係(Relationships)。\n",
    "\n",
    "關係是節點之間的鏈接。關係以其最簡單的形式表示，除了它們鏈接的是兩個節點之外，通常不需要夾帶資訊(但也可以有）。\n",
    "                                                 \n",
    "<img src=\"images/GraphConcepts-Relationships.png\">\n",
    "\n",
    "例如，關係可以包括方向。 “Jane擁有汽車”與“Jane擁有汽車”的關係大不相同，Jane和她的汽車之間的關係的方向抓住了這一點。 Neo4j中要求提供關係指向。\n",
    "\n",
    "此外，關係可以包含任意數量的其他數據，例如權重或關係類型。例如，Jane和她的汽車之間的關係屬於OWNS類型。與方向類似，類型是Neo4j關係的必需元素，儘管所有其他數據都是optional的。\n",
    "\n",
    "在Neo4j中，關係數據的目的是減少 “收集和檢查” 的需要 (gather and inspect)，通常可以依據關係查詢出所有具有相同關係的節點，然後掃描目標節點數據以確定哪些是具有意義，進而過濾沒有意義的節點，直到疊代查詢不到更多延伸的節點為止。相反，我們可以使用關係中附帶的資訊，也可以用來過濾沒有意義的關係。"
   ]
  },
  {
   "cell_type": "markdown",
   "metadata": {},
   "source": [
    "### Traversing a graph\n",
    "\n",
    "如前所述，圖的重點是遵循一系列節點和關係。找到這樣的路線的過程就是遍歷的定義。有多種遍歷圖的方式，並且有圖算法執行從隨機(random)，最短路徑(shortest path) 到最長路徑(longest path)的所有類型的遍歷。\n",
    "\n",
    "在Neo4j中，任何查詢路徑都是經過優化的，因為這是在圖形中執行的基礎方式，在遍歷 Neo4j 圖的過程中，節點可能會被多次訪問，但是關係僅被遍歷一次。這在Neo4j中稱為路徑。\n",
    "\n",
    "<img src=\"images/GraphConcepts-Traversal.png\">\n",
    "\n",
    "關係(Relationships)具有方向和類型，在此範例中，儘管多次訪問了 「2」 節點，但是遍歷節點之間的關係不會超過一次。"
   ]
  },
  {
   "cell_type": "markdown",
   "metadata": {},
   "source": [
    "### What is a graph database?\n",
    "\n",
    "<img src=\"images/GraphDatabaseInEnterprise.png\" width=100%>\n",
    "\n",
    "A graph database is an online database management system with Create, Read, Update, and Delete (CRUD) operations working on a graph data model.\n",
    "\n",
    "Graph databases are often used as part of an Enterprise online transaction processing (OLTP) system. Accordingly, they are normally optimized for transactional performance, and engineered with transactional integrity and operational availability in mind.\n",
    "\n",
    "Unlike other databases, relationships take first priority in graph databases. This means your application doesn’t have to infer data connections using foreign keys or out-of-band processing, such as MapReduce. By assembling the simple abstractions of nodes and relationships into connected structures, graph databases enable us to build sophisticated models that map closely to our problem domain. Data scientists can use the relationships in a data model to help enterprises make important business decisions."
   ]
  },
  {
   "cell_type": "markdown",
   "metadata": {},
   "source": [
    "### Nodes, Relationships, Property graph model, Training data model"
   ]
  },
  {
   "cell_type": "markdown",
   "metadata": {},
   "source": [
    "- Nodes\n",
    "\n",
    "Each node represents an entity (a person, place, thing, category or other piece of data). With Neo4j, nodes can have labels that are used to define types for nodes. For example, a Location node is a node with the label Location. That same node can also have a label, Residence. Another Location node can also have a label, Business. A label can be used to group nodes of the same type. For example, you may want to retrieve all of the Business nodes.\n",
    "\n",
    "<img src=\"images/Nodes.png\" width=50%>\n",
    "\n",
    "- Relationships\n",
    "\n",
    "Each relationship represents how two nodes are connected. For example, the two nodes Person and Location, might have the relationship LIVES_AT pointing from a Person node to Location node. A relationship represents the verb or action between two entities. The MARRIED relationship is defined from one Person node to another Person node. Although the relationship is created as directional, it can be queried in a non-directional manner. That is, you can query if two Person nodes have a MARRIED relationship, regardless of the direction of the relationship. For some data models, the direction of the relationship is significant. For example, in Facebook, using the IS_FRIEND relationship is used to indicate which Person invited the other Person to be a friend.\n",
    "\n",
    "<img src=\"images/Relationships.png\" width=50%>\n",
    "\n",
    "- Property graph model\n",
    "\n",
    "The Neo4j database is a property graph. You can add properties to nodes and relationships to further enrich the graph model.\n",
    "\n",
    "<img src=\"images/Properties.png\" width=50%>\n",
    "\n",
    "This enables you to closely align data and connections in the graph to your real-world application. For example, a Person node might have a property, name and a Location node might have a property, address. In addition, a relationship, MARRIED , might have a property, since.\n",
    "\n",
    "- Training data model\n",
    "\n",
    "For this training, we will use a Movies graph to get you started with accessing the data in a Neo4j database.\n",
    "\n",
    "The data model is very simple, it includes entities such as:\n",
    "\n",
    "1. Movie\n",
    "2. Person/Actor/Director\n",
    "\n",
    "that are implemented as nodes in the graph.\n",
    "\n",
    "People are related to Movies using these relationships:\n",
    "\n",
    "1. DIRECTED\n",
    "2. ACTED_IN\n",
    "3. WROTE\n",
    "4. REVIEWED\n",
    "\n",
    "People, who have reviewed movies, are related to each other using the FOLLOWS relationships."
   ]
  },
  {
   "cell_type": "markdown",
   "metadata": {},
   "source": [
    "<a id=\"WhyNeo4j\"></a>\n",
    "## Why Neo4j\n",
    "\n",
    "為何特別選 Neo4j 作為本堂課的圖資料庫呢？一來是 Neo4j 這幾年持續的進步與改善，再者，Neo4j已經在圖資料庫領域中，領先於排名第一的 Graph DB。\n",
    "\n",
    "Neo4j 是當前最受歡迎的 Graph DBMS，可以做到傳統 RDBMS 很難表達的複雜關係。Adobe 用 Neo4j 取代 Cassandra；eBay 用 Neo4j 取代 MySQL，他們在效能的提升、或資料量的壓縮都取得非常好的成果\n",
    "\n",
    "- Native vs. Non-Native graph database\n",
    "\n",
    "官方對 Neo4j 的定義中，就直接強調它是 Native graph database，這指的是，它底層儲存的不只是資料，也一併儲存了資料彼此的關係，這也是為何 Neo4j 在大量複雜資料中尋找關係時，非常快速有效率，因為關係早就都儲存好了！\n",
    "\n",
    "Non-Native 的 Graph DB 則是先將資料儲存在我們相對熟悉的 MySQL、Cassandra、HBase 等資料庫，再透過演算法將資料的關係給層層疊疊找出來，模擬成 Graph DB，所以效能會相對較差。\n",
    "\n",
    "說到查詢效能，底下是官網的範例，相同目的的查詢，SQL 卻寫了更多的語法，也花費更多時間。如果您的資料有類似這樣多層次的複雜關係，就可以考慮使用 Neo4j！\n",
    "\n",
    "<b>相同目的，使用Neo4j查詢的敘述</b>\n",
    "<img src=\"images/neo4j_cypher_sample.jpg\">\n",
    "\n",
    "<b>相同目的，使用SQL查詢的敘述</b>\n",
    "<img src=\"images/sql_as_graph_query.jpg\">\n",
    "\n",
    "Cypher 是 Neo4j 的查詢語言，簡單直覺，稍晚我們再回過頭來學習。"
   ]
  },
  {
   "cell_type": "markdown",
   "metadata": {},
   "source": [
    "### Neo4j 授權模式\n",
    "\n",
    "Neo4j 共有 2 個版本：Community 和 Enterprise\n",
    "\n",
    "Community 版本是以 GPL v3 開放原始碼授權（[Neo4j Github](https://github.com/neo4j)）\n",
    "\n",
    "Enterprise 版本則除了 Community 版本所有功能之外，還支援群集、多資料庫、無限制節點、平行運算、角色安全性存取、負載平衡、動態擴展、LDAP / AD 整合 ... 等等許多商用還境的條件，有以下三種使用方式\n",
    "\n",
    "- 商用授權\n",
    "- 開發者授權 (開發者可下載 Neo4j Desktop 在本機上使用企業版的所有功能)\n",
    "- 評估授權 (30 天的免費商用，以及專家支援)\n",
    "\n",
    "而商用授權的部分，還有特別針對新創（原則上員工數 <= 50）公司的共創計畫，以及雲端環境依使用時數計費的 Neo4j Aura。以上先讓大家對各種授權有個概念，不管你是開發者還是企業經營者，都可以評估對自己最適合的授權，課程中會以 Neo4j Desktop 作為練習。"
   ]
  },
  {
   "cell_type": "markdown",
   "metadata": {},
   "source": [
    "### Neo4j Desktop (Enterprise edition for Developers)\n",
    "\n",
    "在官方網站下載 [Neo4j Desktop](https://neo4j.com/download/) 版本使用，它整合了開發管理工具，可以同時管理多個 Project、多個 Database、甚至也能連接到遠端的 Neo4j Server 進行查詢。並且可以直接安裝各種套件，例如 APOC Library - 開發者的共用函式庫、Graph algorithms - 資料分析常用的演算法庫、 GraphQL plugins - 可用 GraphQL 語法查詢 Neo4j DB、ETL Tool - 可匯入關連式資料庫。\n",
    "\n",
    "<img src=\"images/DownloadNeo4j.png\">"
   ]
  },
  {
   "cell_type": "markdown",
   "metadata": {},
   "source": [
    "它其實就是給開發者用的單機企業版，包含了幾乎商用企業版的所有功能，當然也包括無限制節點、無限制資料庫等。\n",
    "\n",
    "目前最新版是 Neo4j Desktop 4.1.3+，支援多種作業系統 MacOS/Windows/Ubuntu/Fedora/Debian。並已包含了 Neo4j Server、Neo4j Browser、Neo4j Bloom，而 Plugin 的部分也都可以透過 Desktop 介面直接下載安裝，非常方便。\n",
    "\n",
    "接下來我們簡單介紹幾個重點操作囉！左上角有三個按鈕，分別是\n",
    "\n",
    "- Projects : 可以新增很多個 Project、而一個 Project 可以有多個 Database\n",
    "- DBMSs : DB Server 的版本，不同的資料庫可以使用不同的版本\n",
    "- Graph Apps : 這邊可以看到你已經安裝了哪些工具\n",
    "\n",
    "<img src=\"images/neo4j_desktop_guide1.png\">\n",
    "\n",
    "中間區塊則是資料庫的管理，包括查詢工具（Neo4j Browser）、圖形分析（Neo4j Bloom）、關聯資料庫匯入（ETL）或是自行安裝你需要的工具與套件，也可以查詢 Logs、資料庫底層設定（記憶體、安全性等等）。"
   ]
  },
  {
   "cell_type": "markdown",
   "metadata": {},
   "source": [
    "### 其他平台的安裝\n",
    "\n",
    "官方網站除了直接提供安裝檔案，如果你比較喜歡用套件管理工具或是 Docker，也可以有以下選擇\n",
    "\n",
    "<b>Neo4j for Debian/Ubuntu</b>\n",
    "\n",
    "```console\n",
    "wget -O - https://debian.neo4j.com/neotechnology.gpg.key | sudo apt-key add -\n",
    "echo 'deb https://debian.neo4j.com stable latest' | sudo tee /etc/apt/sources.list.d/neo4j.list\n",
    "sudo apt-get update\n",
    "\n",
    "sudo apt-get install neo4j # community edition\n",
    "sudo apt-get install neo4j-enterprise # enterprise edition\n",
    "```\n",
    "\n",
    "<b>Neo4j for Linux Yum</b>\n",
    "```console\n",
    "rpm --import https://debian.neo4j.com/neotechnology.gpg.key\n",
    "cat <<EOF>  /etc/yum.repos.d/neo4j.repo\n",
    "[neo4j]\n",
    "name=Neo4j Yum Repo\n",
    "baseurl=http://yum.neo4j.com/stable\n",
    "enabled=1\n",
    "gpgcheck=1\n",
    "EOF\n",
    "\n",
    "sudo yum install neo4j # community edition\n",
    "sudo yum install neo4j-enterprise # enterprise edition\n",
    "```\n",
    "\n",
    "<b>Neo4j for Docker</b>\n",
    "```console\n",
    "docker run \\\n",
    "    --publish=7474:7474 --publish=7687:7687 \\\n",
    "    --volume=$HOME/neo4j/data:/data \\\n",
    "    neo4j\n",
    "```\n",
    "\n",
    "如果你還不想安裝，想先體驗 Neo4j 的話，也可以用 [Sandbox](https://neo4j.com/sandbox/) 直接線上操作，裡面已經有許多預先載入的範例資料。"
   ]
  },
  {
   "cell_type": "markdown",
   "metadata": {},
   "source": [
    "<a id=\"Neo4jGraphPlatform\"></a>\n",
    "## The Neo4j Graph Platform\n",
    "\n",
    "The Neo4j Graph Platform includes components that enable you to develop your graph-enabled application.\n",
    "\n",
    "<img src=\"images/Neo4jPlatform.png\" width=100%>\n",
    "\n",
    "It is used by developers, administrators, data analysts, and data scientists to access application data. Developers create the data in the graph by either importing it into the graph or using the Cypher language to implement the data model. In addition, developers are responsible for integrating the graph with other systems and database management system (DBMS) installations. Admins manage the processes and files related to the Neo4j installation. Data scientists and data analysts typically use a combination Cypher queries, as well as tools to analyze the data. End-users typically use applications written by developers to access the graph data.\n",
    "\n",
    "- Components of the Neo4j Graph Platform\n",
    "\n",
    "To better understand the Neo4j Graph Platform, you will learn about these components and the benefits they provide.\n",
    "\n",
    "- Neo4j DBMS\n",
    "- Neo4j Aura\n",
    "- Neo4j Sandbox\n",
    "- Neo4j Desktop\n",
    "- Neo4j graph applications\n",
    "- Neo4j Browser\n",
    "- Neo4j Bloom\n",
    "- cypher-shell\n",
    "- Neo4j libraries\n",
    "- Neo4j drivers\n",
    "- Neo4j integration\n",
    "- Neo4j administration tools"
   ]
  },
  {
   "cell_type": "markdown",
   "metadata": {},
   "source": [
    "### Neo4j DBMS (Database Management System)\n",
    "\n",
    "The heart of the Neo4j Graph Platform is the Neo4j DBMS. The Neo4j DBMS includes processes and resources needed to manage a single Neo4j instance or a set of Neo4j instances that form a cluster. A Neo4j instance is a single process that runs the Neo4j server code. A Neo4j instance at a minimum contains two databases, the system database and the default database, neo4j.\n",
    "\n",
    "<img src=\"images/Neo4jDBMS.png\" width=40%>\n",
    "\n",
    "The system database stores metadata about the databases for the installation, as well as security configuration. The default database (named neo4j by default) is the “user” database where you implement your graph data model."
   ]
  },
  {
   "cell_type": "markdown",
   "metadata": {},
   "source": [
    "### Neo4j 4.0 DBMS\n",
    "\n",
    "In Neo4j Enterprise Edition 4.0, you may have more than one “user” database.\n",
    "\n",
    "<img src=\"images/MultipleDatabases.png\" width=50%>\n",
    "\n",
    "Here we have three “user” databases that hold the application data. You specify one of the databases as the default database.\n",
    "\n",
    "Next, you will learn about some features of Neo4j DBMS that make it different from traditional relational database management system (RDBMS)."
   ]
  },
  {
   "cell_type": "markdown",
   "metadata": {},
   "source": [
    "### Neo4j DBMS: Index-free adjacency (無索引鄰接)\n",
    "\n",
    "<img src=\"images/IFA-1.png\" width=50%>\n",
    "<a href=\"https://medium.com/@dmccreary/how-to-explain-index-free-adjacency-to-your-manager\" target=_blank>Image credit: Dan McCreary</a>\n",
    "\n",
    "Most people would follow these simple steps:\n",
    "\n",
    "- Leave my house.\n",
    "- Point myself towards Anne’s house.\n",
    "- Walk to Anne’s house.\n",
    "\n",
    "Here is an example of how index-free adjacency (IFA) works. Suppose you bake a pie for your friend Anne. You want to delivery it quickly, so she can enjoy it while it is still warm. How would you go about delivering it?\n",
    "\n",
    "This takes maybe 30 seconds, and the pie is piping hot when you get there. No wasted time or effort. This is how index-free adjacency operates."
   ]
  },
  {
   "cell_type": "markdown",
   "metadata": {},
   "source": [
    "### Contrast index-free adjacency with RDBMS\n",
    "\n",
    "By contrast, a traditional RDBMS cannot do this. It must use a central index.\n",
    "\n",
    "<img src=\"images/IFA-2.png\" width=50%>\n",
    "<a href=\"https://medium.com/@dmccreary/how-to-explain-index-free-adjacency-to-your-manager\" target=_blank>Image credit: Dan McCreary</a>\n",
    "\n",
    "In a RDBMS world, the pie-delivery process would go like this:\n",
    "\n",
    "- Leave my house.\n",
    "- Walk to the town hall. It contains a Central Index containing the addresses of everyone in town. Stand in line. Everyone looking for an address needs to do the same thing you are, so there is a wait.\n",
    "- Tell the search agent whom you’re looking for. They will look up Anne’s address in the index (note that the larger the town, the longer it takes to do the search). The agent gives you Anne’s address.\n",
    "\n",
    "- Enter the address into the map app on your phone, and follow the directions to Anne’s house.\n",
    "\n",
    "This is obviously inefficient. You needed to walk twice as far, had to wait in line, and had to wait for a search process to complete. But to make matters even worse, there is no concept of “learning the route”, no matter how many times you take it. Every single time you want to visit Anne’s house, you need to follow these same steps!\n",
    "\n",
    "With index-free adjacency, when a node or relationship is written to the database, it is stored in the database as connected and any subsequent access to the data is done using pointer navigation which is very fast. Since Neo4j is a native graph database (i.e. it has a graph as its core data model), it supports very large graphs where connected data can be traversed in constant time without the need for an index."
   ]
  },
  {
   "cell_type": "markdown",
   "metadata": {},
   "source": [
    "### Neo4j DBMS: Clusters\n",
    "\n",
    "<img src=\"images/Clustering.png\">\n",
    "\n",
    "Neo4j supports clusters that provide high availability, scalability for read access to the data, and failover which is important to many enterprises. Neo4j clusters are only available with Neo4j Enterprise Edition."
   ]
  },
  {
   "cell_type": "markdown",
   "metadata": {},
   "source": [
    "### Neo4j DBMS: Graph engine\n",
    "\n",
    "<img src=\"images/Neo4jDatabase.png\">\n",
    "\n",
    "The Neo4j graph engine is used to interpret Cypher statements and also executes kernel-level code to store and retrieve data, whether it is on disk, or cached in memory. The graph engine has been improved with every release of Neo4j to provide the most efficient access to an application’s graph data. There are many ways that you can tune the performance of the engine to suit your particular application needs."
   ]
  },
  {
   "cell_type": "markdown",
   "metadata": {},
   "source": [
    "### Neo4j Aura\n",
    "\n",
    "<img src=\"images/Aura.png\">\n",
    "\n",
    "Neo4j Aura is the simplest way to run the Neo4j DBMS in the cloud.\n",
    "\n",
    "Completely automated and fully-managed, Neo4j Aura delivers the world’s most flexible, reliable and developer-friendly graph database as a service. With Neo4j Aura, you leave the day-to-day management of your database to the same engineers who built Neo4j, freeing you to focus on building rich graph-powered applications. Backups are done automatically for you and the database is available 24×7. In addition, the Neo4j Aura team will ensure that the database instance is always up-to-date with the latest version of Neo4j. To use Neo4j Aura, you must pay a monthly subscription fee which is based upon the size of your graph.\n",
    "\n",
    "Once you create a Neo4j Database at the Neo4j Aura site, it will be managed by Neo4j."
   ]
  },
  {
   "cell_type": "markdown",
   "metadata": {},
   "source": [
    "### Neo4j graph applications\n",
    "\n",
    "Graph applications provide specific functionality to users that make their roles as developers, administrators, data scientists, or data analysts easier. Some of them are Web browser-based and some run in their own JVM. Graph applications are written by Neo4j engineers or Neo4j community members. Many of the graph applications supported by Neo4j are the work of Neo4j Labs. Some graph applications are supported by Neo4j and some are not, so you must be aware of the type of support you can receive for a particular graph application. You typically install graph applications from your Neo4j Desktop environment from https://install.graphapp.io/.\n",
    "\n",
    "Here are some Neo4j graph applications:\n",
    "\n",
    "<img src=\"images/GraphApps.png\">"
   ]
  },
  {
   "cell_type": "markdown",
   "metadata": {},
   "source": [
    "<a id=\"Neo4jDesktop\"></a>\n",
    "## Neo4j Desktop\n",
    "\n",
    "Neo4j Desktop is intended for developers who want to develop a Neo4j application and test it on their local machine. It is free to use. Neo4j Desktop is a UI that enables you to create projects, each with their own Neo4j DBMS instances where you can easily add or remove graph applications and libraries for use with your Neo4j DBMS. It includes an application called Neo4j Browser which is the UI you use to access the started database using Cypher queries.\n",
    "\n",
    "<img src=\"images/Neo4jDesktop.png\">\n",
    "\n",
    "Here are some of the graph applications you can use:\n",
    "\n",
    "- Neo4j Browser: UI for testing Cypher queries and visualizing the graph.\n",
    "- Neo4j Bloom: A tool for exploring graphs and generating Cypher code.\n",
    "- Neo4j ETL Tool: UI for connecting to a data source to import into the graph.\n",
    "- Halin: Monitor your Neo4j DBMS.\n",
    "- Query Log Analyzer: Analyze queries that executed on your system.\n",
    "- Neo4j Cloud Tool: Tools for working with Neo4j Aura.\n",
    "- Graph Algos Playground: Run graph algorithms and generate code for them."
   ]
  },
  {
   "cell_type": "markdown",
   "metadata": {},
   "source": [
    "<a id=\"Neo4jBrowser\"></a>\n",
    "\n",
    "## Neo4j Browser\n",
    "\n",
    "Open Neo4j Browser from Neo4j Desktop\n",
    "\n",
    "<img src=\"images/Neo4jBrowser.png\">\n",
    "\n",
    "Neo4j Browser is a graph application that comes with Neo4j Desktop. You typically use it to access a database that is running locally, but you can use it to access a remote database.\n",
    "\n",
    "If you save your frequently-used Cypher code in favorites, you can download them so you can use them elsewhere (like in your application code)."
   ]
  },
  {
   "cell_type": "markdown",
   "metadata": {},
   "source": [
    "<a id=\"Neo4jSandbox\"></a>\n",
    "\n",
    "## Neo4j Sandbox"
   ]
  },
  {
   "cell_type": "markdown",
   "metadata": {},
   "source": [
    "The Neo4j Sandbox is way that you can begin development with Neo4j. It is a free, temporary, and cloud-based instance of a Neo4j Server with its associated graph that you can access from any Web browser. The database in a Sandbox may be blank or it may be pre-populated. It is started automatically for you when you create the Sandbox.\n",
    "\n",
    "By default, the Neo4j Sandbox is available for three days, but you can extend it for up to 10 days. If you do not want to install Neo4j Desktop on your system, consider creating a Neo4j Sandbox. You must make sure that you extend your lease of the Sandbox, otherwise you will lose your graph and any saved Cypher scripts you have created in the Sandbox. However, you can use Neo4j Browser Sync to save Cypher scripts from your Sandbox. We recommend you use the Neo4j Desktop or Neo4j Aura for a real development project. The Sandbox is intended as a temporary environment or for learning about the features of Neo4j as well as specific graph use-cases.\n",
    "\n",
    "You create a Sandbox by creating an account at the Neo4j Sandbox site.\n",
    "\n",
    "<a herf=\"https://sandbox.neo4j.com/onboarding\" taget=_blank>Neo4j Sandbox</a>\n",
    "\n",
    "<img src=\"images/Neo4jSandBox.png\">"
   ]
  },
  {
   "cell_type": "markdown",
   "metadata": {},
   "source": [
    "<a id=\"Neo4jBloom\"></a>\n",
    "\n",
    "## Neo4j Bloom\n",
    "\n",
    "Neo4j Bloom is a Neo4j-supported graph application where you can experience:\n",
    "\n",
    "- Visual presentation of your graph data tangibly reveals non-obvious connections.\n",
    "- Easy-to-understand visualizations explain data connectedness to every colleague.\n",
    "- Codeless search tools let you quickly explore your data without technical expertise.\n",
    "- Browsing tools make it easy for you to discover new insights from your data.\n",
    "\n",
    "<img src=\"images/Bloom.png\">\n",
    "\n",
    "Visit the <a href=\"https://neo4j.com/bloom/\" target=_blank>Bloom page</a> to learn more about Neo4j Bloom."
   ]
  },
  {
   "cell_type": "markdown",
   "metadata": {},
   "source": [
    "<a id=\"Libraries\"></a>\n",
    "\n",
    "## Neo4j Libraries\n",
    "\n",
    "Just as there are graph applications written by Neo4j engineers and Neo4j community members, there are libraries you can incorporate into your application. A library is also called a plug-in as it is used to extend what you can do in Cypher. Some libraries are available in Neo4j Desktop, while you must download and install other libraries.\n",
    "\n",
    "In early 2020, some functions and procedures from the Graph Algorithms Library will be officially supported by Neo4j as the Graph Data Science Library (GDS). Before that, support for this library has come from and will continue to come from Neo4j Labs for the algorithms that are not officially supported by Neo4j.\n",
    "\n",
    "One of the most popular libraries that is used by most developers is Awesome Procedures of Cypher (APOC). This library has close to 500 procedures and functions that extend Cypher in ways that make your programming in Cypher much easier for complex tasks. Since APOC is so widely-used by developers, it comes already-installed in a Neo4j Sandbox and Neo4j Aura.\n",
    "\n",
    "Another library that also comes with Neo4j Desktop is GraphQL. GraphQL is an open-source query language for querying parts of a graph. It is not as flexible or powerful as Cypher, but it is used by some applications.\n",
    "\n",
    "A very popular library for graph visualization is neoviz.js, another project of Neo4j Labs.\n",
    "\n",
    "Here are the plugins that come with Neo4j Desktop:\n",
    "\n",
    "<img src=\"images/Plugins.png\">"
   ]
  },
  {
   "cell_type": "markdown",
   "metadata": {},
   "source": [
    "<a id=\"Diver\"></a>\n",
    "\n",
    "## Neo4j Drivers and language support\n",
    "\n",
    "Here are some drivers that Neo4j supports:\n",
    "\n",
    "<img src=\"images/Drivers.png\">\n",
    "\n",
    "Because Neo4j is open source, you can delve into the details of how the Neo4j Database is accessed, but most developers simply use Neo4j without needing a deeper understanding of the underlying code. Neo4j provides a full stack that implements all levels of access to the database and clustering layer where you can use our published APIs. The language used for querying the Neo4j database is Cypher, an open source language.\n",
    "\n",
    "In addition, Neo4j supports Java, JavaScript, Python, C#, and Go drivers out-of-the box that use Neo4j’s bolt protocol for binary access to the database layer. Bolt is an efficient binary protocol that compresses data sent over the wire as well as encrypting the data. For example, you can write a Java application that uses the Bolt driver to access the Neo4j database, and the application may use other packages that allow data integration between Neo4j and other data stores or uses as common framework such as spring. You download drivers from the Neo4j driver <a href=\"https://neo4j.com/download-center/#drivers\" target=_blank>download page</a>.\n",
    "\n",
    "It is also possible for you to develop your own server-side extensions in Java that access the data in the database directly without using Cypher. The Neo4j community has developed drivers for a number of languages including Ruby, PHP, and R.\n",
    "\n",
    "You can also extend the functionality of Neo4j by creating user defined functions and procedures that are callable from Cypher."
   ]
  },
  {
   "cell_type": "markdown",
   "metadata": {},
   "source": [
    "<a id=\"UseCasesGaphDatabases\"></a>\n",
    "## Use cases for graph databases\n",
    "\n",
    "The biggest value that graphs bring to an application is their ability to store relationships and connections as first-class entities.\n",
    "\n",
    "For instance, the early adopters of graph technology built their businesses around the value of data relationships. These companies have now become industry leaders: LinkedIn, Google, Facebook, and PayPal.\n",
    "\n",
    "There are many uses for graph databases in an enterprise. Here are some of them:\n",
    "\n",
    "<img src=\"images/UseCases.png\">\n",
    "\n",
    "You can read more about how customers are using Neo4j <a hef=\"https://neo4j.com/use-cases\" target=_blank>here</a>."
   ]
  },
  {
   "cell_type": "markdown",
   "metadata": {},
   "source": [
    "## Summary\n",
    "\n",
    "You should now be able to:\n",
    "\n",
    "- Describe what a graph is.\n",
    "- Describe what a graph database is.\n",
    "- Describe some common use cases for using a graph database.\n",
    "- Describe the Neo4j property graph model.\n",
    "- Whiteboard a graph data model."
   ]
  },
  {
   "cell_type": "code",
   "execution_count": null,
   "metadata": {},
   "outputs": [],
   "source": []
  }
 ],
 "metadata": {
  "kernelspec": {
   "display_name": "Python 3",
   "language": "python",
   "name": "python3"
  },
  "language_info": {
   "codemirror_mode": {
    "name": "ipython",
    "version": 3
   },
   "file_extension": ".py",
   "mimetype": "text/x-python",
   "name": "python",
   "nbconvert_exporter": "python",
   "pygments_lexer": "ipython3",
   "version": "3.6.7"
  }
 },
 "nbformat": 4,
 "nbformat_minor": 2
}
