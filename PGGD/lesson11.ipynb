{
 "cells": [
  {
   "cell_type": "markdown",
   "metadata": {},
   "source": [
    "## Lesson 11 - Import, LOAD CSV,  Upgrade database and more Cypher\n",
    "\n",
    "\n",
    "\n",
    "\n",
    "\n",
    "### Table of Contents\n",
    "\n",
    "* [Neo4j-Admin Import Standalone Server](#neo4j-admin)\n",
    "* [Import CSV by Cypher (in Neo4j Browser)](#ImportCSVCypher)\n",
    "* [Import CSV by Cypher shell](#ImportCSVShell)\n",
    "* [Bulk Import CSV](#BulkImportCSV)\n",
    "* [Import CSV and Create Relationships](#ImportNodeRelationshipsCypher)\n",
    "* [Recommendations – Movie Database](#MovieRecommendations)\n",
    "\n",
    "\n"
   ]
  },
  {
   "cell_type": "markdown",
   "metadata": {},
   "source": [
    "<a id=\"neo4j-admin\"></a>\n",
    "## Neo4j-Admin Import Standalone Server\n",
    "\n",
    "Run the Neo4j-Admin import to create the database. In this example, we are running a bulk import into a new database called dataload1. Node labels are STORE.\n",
    "\n",
    "```\n",
    " ./bin/neo4j-admin import --database=dataload1 --nodes=:STORE=\"/home/ubuntu/tmp/header.csv,/home/ubuntu/tmp/nodes.csv\" --skip-duplicate-nodes=true --high-io=true\n",
    "```"
   ]
  },
  {
   "cell_type": "markdown",
   "metadata": {},
   "source": [
    "### Log into Neo4j under Cypher Shell\n",
    "\n",
    "```\n",
    ":use system\n",
    "create database dataload1\n",
    "show databases\n",
    ":use dataload1\n",
    "MATCH (n:STORE) return n limit 3;\n",
    "```"
   ]
  },
  {
   "cell_type": "markdown",
   "metadata": {},
   "source": [
    "### Run a second Neo4j-Admin import to create another database\n",
    "\n",
    "In this example, we are running a bulk import into a new database called dataload2. Node labels are STORE.\n",
    "\n",
    "```\n",
    "./bin/neo4j-admin import --database=dataload2 --nodes=:STORE=\"/home/ubuntu/tmp/header.csv,/home/ubuntu/tmp/nodes.csv\" --skip-duplicate-nodes=true --high-io=true\n",
    "```"
   ]
  },
  {
   "cell_type": "markdown",
   "metadata": {},
   "source": [
    "```\n",
    ":use system\n",
    "create database dataload2\n",
    "show databases\n",
    ":use dataload2\n",
    "MATCH (n:STORE) return n limit 3;\n",
    "```"
   ]
  },
  {
   "cell_type": "markdown",
   "metadata": {},
   "source": [
    "### Neo4j-Admin Import Cluster\n",
    "\n",
    "Run the Neo4j-Admin import on each cluster member to create the database. In this example, we are running a bulk import into a new database called dataload1. Node labels are STORE\n",
    "\n",
    "```\n",
    "./bin/neo4j-admin import --database=dataload1 --nodes=:STORE=\"/home/ubuntu/tmp/header.csv,/home/ubuntu/tmp/nodes.csv\" --skip-duplicate-nodes=true --high-io=true\n",
    "```\n",
    "\n",
    "Log into the Neo4j 4.0 Cluster Leader. Once the database is created on the cluster leader, it will be propagated to the other cluster members.\n",
    "\n",
    "```\n",
    ":use system\n",
    "create database dataload1\n",
    "show databases\n",
    ":use dataload1\n",
    "MATCH (n:STORE) return n limit 3;\n",
    "```"
   ]
  },
  {
   "cell_type": "markdown",
   "metadata": {},
   "source": [
    "### Neo4j-Admin Restore\n",
    "\n",
    "In this example, we will backup the dataload1 database and use it to create a new dataload3 database.\n",
    "\n",
    "```\n",
    "./bin/neo4j-admin backup --backup-dir=/home/ubuntu/tmp/backups --database=dataload1\n",
    " ./bin/neo4j-admin restore --from=/home/ubuntu/tmp/backups/dataload1 --database=dataload3\n",
    "```\n",
    "\n",
    "If you want to replace an existing 4.0 database using neo4j-admin restore, you would run the following:\n",
    "\n",
    "```\n",
    ":use system\n",
    "stop database dataload2\n",
    "```\n",
    "\n",
    "```\n",
    "./bin/neo4j-admin restore --from=/home/ubuntu/tmp/backups/dataload1 --database=dataload2 --force\n",
    "```\n",
    "\n",
    "```\n",
    "start database dataload2\n",
    "MATCH (n:STORE) return n limit 3;\n",
    "```"
   ]
  },
  {
   "cell_type": "markdown",
   "metadata": {},
   "source": [
    "<a id=\"ImportCSVCypher\"></a>\n",
    "## Import CSV by Cypher (in Neo4j Browser)\n",
    "\n",
    "Neo4j 預設情況下，基於安全性的考量，要匯入的 csv 檔案必須先放到該資料庫的 Import Folder，每個資料庫的位置不同，以系統取得的某個資料庫的 Import Folder 如下：\n",
    "\n",
    "Windows OS\n",
    "```python\n",
    "C:\\Users\\davidlanz\\AppData\\Local\\Neo4j\\Relate\\Data\\dbmss\\dbms-968206b1-4a6f-4b9d-af79-0901e1e819a6\n",
    "```\n",
    "\n",
    "Mac OS\n",
    "```python\n",
    "/Users/davidlanz/Library/Application Support/com.Neo4j.Relate/Data/dbmss/dbms-5aab44e4-5d1d-4b91-94ef-84a7653d534f/import\n",
    "```\n",
    "\n",
    "查詢 Import Folder 的步驟，先點選資料庫的 Manage\n",
    "\n",
    "<img src=\"images/ManageDatabase.png\">\n",
    "\n",
    "在 Open Folder 中選擇 Import 即可\n",
    "\n",
    "<img src=\"images/ImportFromManageDashboard.png\">"
   ]
  },
  {
   "cell_type": "markdown",
   "metadata": {},
   "source": [
    "### 準備 movie.csv\n",
    "\n",
    "路徑: ./csv/sample/movie.csv\n",
    "\n",
    "```\n",
    "id,title,country,year\n",
    "1,Wall Street,USA,1987\n",
    "2,The American President,USA,1995\n",
    "3,The Shawshank Redemption,USA,1994\n",
    "```"
   ]
  },
  {
   "cell_type": "markdown",
   "metadata": {},
   "source": [
    "把 CSV 檔案複製到 Import Folder 之後就可以開始操作了，\n",
    "\n",
    "<img src=\"images/open_import_folder.png\" width=800>\n",
    "\n",
    "檔案都必須以 file:/// 作為開頭，以下直接提供範例\n",
    "\n",
    "從 movies.csv 讀入資料，一次讀取一行，並列出前面十行的內容。這部分只是讀取 CSV，並沒有建立或匯入任何圖形資料庫。\n",
    "\n",
    "```\n",
    "LOAD CSV FROM \"file:///movies.csv\" AS line\n",
    "RETURN line\n",
    "LIMIT 10\n",
    "```"
   ]
  },
  {
   "cell_type": "markdown",
   "metadata": {},
   "source": [
    "<img src=\"images/LOAD_CSV_1.png\" width=800>"
   ]
  },
  {
   "cell_type": "markdown",
   "metadata": {},
   "source": [
    "CSV 也可以是網路位置\n",
    "\n",
    "```\n",
    "LOAD CSV FROM \"http://www.somewhere/movies.csv\" AS line\n",
    "RETURN line\n",
    "LIMIT 10\n",
    "```\n",
    "\n",
    "從 movies.csv 讀入資料，一次讀取一行，並將第一欄作為 title 屬性，第二欄作為 released 屬性建立 Movie 節點。\n",
    "\n",
    "```\n",
    "LOAD CSV FROM \"file:///movies.csv\" AS line\n",
    "CREATE (:Movie { title: line[0], released: line[1]})\n",
    "```\n",
    "\n",
    "與前例相同，差別是有引用 CSV Header，語法更直覺。另外，也可以自訂 CSV 分隔符號。"
   ]
  },
  {
   "cell_type": "markdown",
   "metadata": {},
   "source": [
    "<a id=\"ImportCSVShell\"></a>\n",
    "## Import CSV by Cypher shell\n",
    "\n",
    "不過實務上，匯入 CSV 如果會是個定期作業，當然就無法總是透過 Neo4j Browser 操作，建議用 cypher-shell 命令列工具會更有彈性，以下舉例，暫不做深入介紹。\n",
    "\n",
    "```\n",
    "bin/cypher-shell -u neo4j -p neo4j 'LOAD CSV FROM \"file:///movies.csv\" AS line RETURN line LIMIT 5'\n",
    "```"
   ]
  },
  {
   "cell_type": "markdown",
   "metadata": {},
   "source": [
    "<a id=\"BulkImportCSV\"></a>\n",
    "## Bulk Import CSV\n",
    "\n",
    "如果要匯入的 CSV 資料量相當大，建議多加上 USING PERIODIC COMMIT 敘述，讓 Neo4j 每匯入一定數量的資料行之後就 commit，避免在交易過程中耗費大量記憶體。因為整個 LOAD CSV 預設就是一筆交易，只有全部成功或是全部失敗，但 CSV 檔案太大就會導致 Neo4j 一直在讀取而無法完成交易，最後記憶體就會耗盡。\n",
    "\n",
    "```\n",
    ":auto USING PERIODIC COMMIT\n",
    "LOAD CSV WITH HEADERS FROM \"file:///movies.csv\" AS line\n",
    "CREATE (:Movie { title: line.title, released: line.released})\n",
    "```\n",
    "\n",
    "PERIODIC COMMIT 預設是每 1000 筆就 commit一次，你可以修改預設值如下，改為 2000 筆 commit 一次。\n",
    "\n",
    "```\n",
    ":auto USING PERIODIC COMMIT 2000\n",
    "LOAD CSV WITH HEADERS FROM \"file:///movies.csv\" AS line\n",
    "CREATE (:Movie { title: line.title, released: line.released})\n",
    "```"
   ]
  },
  {
   "cell_type": "markdown",
   "metadata": {},
   "source": [
    "<a id=\"ImportNodeRelationshipsCypher\"></a>\n",
    "## Import CSV and Create Relationships\n",
    "\n"
   ]
  },
  {
   "cell_type": "markdown",
   "metadata": {},
   "source": [
    "### 準備 movie.csv\n",
    "\n",
    "路徑: ./csv/sample/movie.csv\n",
    "\n",
    "```\n",
    "id,title,country,year\n",
    "1,Wall Street,USA,1987\n",
    "2,The American President,USA,1995\n",
    "3,The Shawshank Redemption,USA,1994\n",
    "```\n",
    "\n",
    "### 準備  persons.csv\n",
    "\n",
    "路徑: ./csv/sample/persons.csv\n",
    "\n",
    "```\n",
    "id,name\n",
    "1,Charlie Sheen\n",
    "2,Michael Douglas\n",
    "3,Martin Sheen\n",
    "4,Morgan Freeman\n",
    "```\n",
    "\n",
    "### 準備  roles.csv\n",
    "\n",
    "路徑: ./csv/sample/persons.csv\n",
    "\n",
    "```\n",
    "personId,movieId,role\n",
    "1,1,Bud Fox\n",
    "4,1,Carl Fox\n",
    "3,1,Gordon Gekko\n",
    "4,2,A.J. MacInerney\n",
    "3,2,President Andrew Shepherd\n",
    "5,3,Ellis Boyd 'Red' Redding\n",
    "```\n",
    "\n",
    "Before starting our imports, we will prepare our database by creating indexes and constraints. Since we expect the id property on Person and Movie to be unique in each set, we will create a unique constraint. This protects us from invalid data since constraint creation will fail if there are multiple nodes with the same id property."
   ]
  },
  {
   "cell_type": "markdown",
   "metadata": {},
   "source": [
    "Creating a unique constraint also implicitly creates a unique index. The id property is a temporary property used to look up the appropriate nodes for a relationship when importing the third file. By indexing the id property, node lookup (e.g. by MATCH) will be much faster.\n",
    "\n",
    "### Create CONSTRAINT on Person\n",
    "```\n",
    "CREATE CONSTRAINT personIdConstraint ON (person:Person) ASSERT person.id IS UNIQUE\n",
    "```"
   ]
  },
  {
   "cell_type": "markdown",
   "metadata": {},
   "source": [
    "<img src=\"images/create_constraint_person.png\">"
   ]
  },
  {
   "cell_type": "markdown",
   "metadata": {},
   "source": [
    "### Create CONSTRAINT on Movie\n",
    "\n",
    "```\n",
    "CREATE CONSTRAINT movieIdConstraint ON (movie:Movie) ASSERT movie.id IS UNIQUE\n",
    "```"
   ]
  },
  {
   "cell_type": "markdown",
   "metadata": {},
   "source": [
    "<img src=\"images/create_constraint_movie.png\">"
   ]
  },
  {
   "cell_type": "markdown",
   "metadata": {},
   "source": [
    "### Create INDEX for Country\n",
    "\n",
    "```\n",
    "CREATE INDEX FOR (c:Country) ON (c.name)\n",
    "```"
   ]
  },
  {
   "cell_type": "markdown",
   "metadata": {},
   "source": [
    "<img src=\"images/create_index_by_country_name.png\">"
   ]
  },
  {
   "cell_type": "markdown",
   "metadata": {},
   "source": [
    "### Copy  movie.csv, persons.csv and roles.csv to import folder\n",
    "\n",
    "<img src=\"images/copy_csv_to_import_folder_person.png\">"
   ]
  },
  {
   "cell_type": "markdown",
   "metadata": {},
   "source": [
    "In this example, the CSV files are stored in the default import directory on the database server, and we can access them using a file:/// URL. Other locations are configurable, and additionally, LOAD CSV supports accessing CSV files via HTTPS, HTTP, and FTP. For complete instructions, see Cypher Manual → LOAD CSV.\n",
    "\n",
    "Using the following Cypher queries, we will create a node for each person, a node for each movie and a relationship between the two with a property denoting the role. We are also keeping track of the country in which each movie was made.\n",
    "\n",
    "Let’s start with importing the persons.csv file. Here is the Cypher used to do the import:\n",
    "\n",
    "### LOAD CSV with Persons, create Person nodes\n",
    "```\n",
    "LOAD CSV WITH HEADERS FROM \"file:///persons.csv\" AS csvLine\n",
    "CREATE (p:Person {id: toInteger(csvLine.id), name: csvLine.name})\n",
    "```"
   ]
  },
  {
   "cell_type": "markdown",
   "metadata": {},
   "source": [
    "<img src=\"images/load_csv_person.png\">\n",
    "\n",
    "Now, let’s import the movies. This time, we are also creating a relationship to the country in which the movie was made. We are using MERGE to create nodes that represent countries. Using MERGE avoids creating duplicate country nodes in the case where multiple movies have been made in the same country."
   ]
  },
  {
   "cell_type": "markdown",
   "metadata": {},
   "source": [
    "### LOAD CSV with Movies, create Movie nodes\n",
    "\n",
    "```\n",
    "LOAD CSV WITH HEADERS FROM \"file:///movies.csv\" AS csvLine\n",
    "MERGE (country:Country {name: csvLine.country})\n",
    "CREATE (movie:Movie {id: toInteger(csvLine.id), title: csvLine.title, year:toInteger(csvLine.year)})\n",
    "CREATE (movie)-[:MADE_IN]->(country)\n",
    "```"
   ]
  },
  {
   "cell_type": "markdown",
   "metadata": {},
   "source": [
    "<img src=\"images/load_csv_movies.png\">\n",
    "\n",
    "Finally, we will create relationships between the persons and the movies; one actor can participate in many movies, and one movie has many actors in it. Now importing the relationships is a matter of finding the nodes and then creating relationships between them."
   ]
  },
  {
   "cell_type": "markdown",
   "metadata": {},
   "source": [
    "### LOAD CSV with Roles, create  relationships between the persons and the movies\n",
    "\n",
    "```\n",
    ":auto USING PERIODIC COMMIT 500\n",
    "LOAD CSV WITH HEADERS FROM \"file:///roles.csv\" AS csvLine\n",
    "MATCH (person:Person {id: toInteger(csvLine.personId)}),(movie:Movie {id: toInteger(csvLine.movieId)})\n",
    "CREATE (person)-[:PLAYED {role: csvLine.role}]->(movie)\n",
    "```"
   ]
  },
  {
   "cell_type": "markdown",
   "metadata": {},
   "source": [
    "<img src=\"images/load_csv_roles_periodic.png\">"
   ]
  },
  {
   "cell_type": "markdown",
   "metadata": {},
   "source": [
    "For larger data files, it is useful to use the hint USING PERIODIC COMMIT clause of LOAD CSV. This hint tells Neo4j that the query might build up inordinate amounts of transaction state, and so needs to be periodically committed. For more information, \n",
    "\n",
    "Finally, since the id property was only necessary to import the relationships, we can drop the constraints and the id property from all movie and person nodes."
   ]
  },
  {
   "cell_type": "markdown",
   "metadata": {},
   "source": [
    "### Cypher query\n",
    "```\n",
    "MATCH (n)-[r]-(m) RETURN *\n",
    "```"
   ]
  },
  {
   "cell_type": "markdown",
   "metadata": {},
   "source": [
    "<img src=\"images/cypher_match_when_load_csv.png\">"
   ]
  },
  {
   "cell_type": "markdown",
   "metadata": {},
   "source": [
    "<img src=\"images/person_movie_country.png\">"
   ]
  },
  {
   "cell_type": "markdown",
   "metadata": {},
   "source": [
    "<img src=\"images/load_csv_relationships_flowchart.png\">"
   ]
  },
  {
   "cell_type": "markdown",
   "metadata": {},
   "source": [
    "We can delete CONSTRAINT by using Cypher query down below, BUT not now (以下 Cypher 請不要現在執行)\n",
    "\n",
    "```\n",
    "DROP CONSTRAINT personIdConstraint\n",
    "```\n",
    "\n",
    "```\n",
    "DROP CONSTRAINT movieIdConstraint\n",
    "```\n",
    "\n",
    "Or Delete id on each node:\n",
    "\n",
    "```\n",
    "MATCH (n)\n",
    "WHERE n:Person OR n:Movie\n",
    "REMOVE n.id\n",
    "```"
   ]
  },
  {
   "cell_type": "markdown",
   "metadata": {},
   "source": []
  },
  {
   "cell_type": "markdown",
   "metadata": {},
   "source": [
    "<a id=\"MovieRecommendations\"></a>\n",
    "## Recommendations – Movie Database\n",
    "\n",
    "https://www.dropbox.com/s/aktlosj8bvd579e/recommendations.db.zip?dl=0\n",
    "\n",
    "### 解壓縮 graph.db，複製資料夾至新建資料庫的 databases 資料夾\n",
    "<img src=\"images/restore_upgrade_old_graphdb.png\">\n",
    "\n",
    "### 修改設定(settings)中的設定升級為true\n",
    "<img src=\"images/neo4j_settings_upgrade_true.png\">"
   ]
  },
  {
   "cell_type": "markdown",
   "metadata": {},
   "source": [
    "### General search\n",
    "```\n",
    "MATCH (n)-[r]-(m) RETURN * LIMIT 25\n",
    "```\n",
    "\n",
    "<img src=\"images/movie recommendation_match_all.png\">"
   ]
  },
  {
   "cell_type": "markdown",
   "metadata": {},
   "source": [
    "### Query Movie title: Titanic (鐵達尼號)\n",
    "```\n",
    "MATCH p=(n:Movie {title: \"Titanic\"})-[:DIRECTED|ACTED_IN|IN_GENRE]-(m) RETURN p LIMIT 25\n",
    "```\n",
    "<img src=\"images/cypher_movie_titanic_relationships.png\">"
   ]
  },
  {
   "cell_type": "markdown",
   "metadata": {},
   "source": [
    "### Query Movie title: Inception (全面啟動)\n",
    "```\n",
    "MATCH p=(n:Movie {title: \"Inception\"})-[:DIRECTED|ACTED_IN|IN_GENRE]-(m) RETURN p LIMIT 25\n",
    "```\n",
    "<img src=\"images/cypher_movie_inception.png\">"
   ]
  },
  {
   "cell_type": "markdown",
   "metadata": {},
   "source": [
    "### 對於電影，最簡單的相似度是基於 genres (電影類型) 這個屬性\n",
    "\n",
    "```\n",
    "MATCH (m:Movie)-[:IN_GENRE]->(g:Genre)<-[:IN_GENRE]-(rec:Movie)\n",
    "WHERE m.title = \"Inception\"\n",
    "WITH rec, COLLECT(g.name) AS genres, COUNT(*) AS commonGenres\n",
    "RETURN rec.title, genres, commonGenres\n",
    "ORDER BY commonGenres DESC LIMIT 10;\n",
    "```\n",
    "<img src=\"images/cypher_movie_genres_inception.png\">"
   ]
  },
  {
   "cell_type": "markdown",
   "metadata": {},
   "source": [
    "以上方法完全忽略用戶的個性化，因此無法達到千人千面，現在考慮個性化。推薦用戶A沒看過的但和已看過的風格類似的影片，查詢語法：\n",
    "\n",
    "```\n",
    "MATCH (u:User {name: \"Angelica Rodriguez\"})-[r:RATED]->(m:Movie),\n",
    "      (m)-[:IN_GENRE]->(g:Genre)<-[:IN_GENRE]-(rec:Movie)\n",
    "WHERE NOT EXISTS( (u)-[:RATED]->(rec) )\n",
    "WITH rec, [g.name, COUNT(*)] AS scores\n",
    "RETURN rec.title AS recommendation, rec.year AS year,\n",
    "COLLECT(scores) AS scoreComponents,\n",
    "REDUCE (s=0, x in COLLECT(scores) | s+x[1]) AS score\n",
    "ORDER BY score DESC LIMIT 10\n",
    "```\n",
    "\n",
    "1. MATCH A這個人(Angelica Rodriguez)看的電影關聯到的電影類型(genre)，以此去找rec候選影片。\n",
    "2. WHERE，表示A沒RATE過，也就是沒看過。\n",
    "3. WITH，表示看每部推薦候選rec，它對應的genre都出現了幾次(在第一行的MATCH查詢中)，也就是這種類型(genre)的電影A看過多少次。匯集作為scores。因為每部電影rec都可能屬於多個genre，因此後半部分要用一個list[]表達。\n",
    "4. RETURN，表示要回傳的資料內容，第一個是電影title，第二個電影發行year，第三個把scorers設定為scoreComponent，第四個是對第三個中每項的第二個元素求和為score。\n",
    "5. ORDER，表示按score降冪排列，取前10名。\n",
    "\n",
    "<img src=\"images/cypher_movie_personalized_top_10.png\">\n",
    "\n",
    "上圖表示這些電影預測A可能也會喜歡。"
   ]
  },
  {
   "cell_type": "markdown",
   "metadata": {},
   "source": [
    "### 多種屬性，加權式計算相似度\n",
    "以上只使用電影類型 genre 一個屬性，而且是很粗糙的累加計分作為推薦策略，而為求更多種組合(結合多種屬性/特性)，採用加權(weighting)策略，比如，除了電影類型(gener)，我們還可以根據演員/導演等等的相似度來判斷兩個電影的相似度。\n",
    "\n",
    "```\n",
    "MATCH (m:Movie) WHERE m.title = \"Inception\"\n",
    "MATCH (m)-[:IN_GENRE]->(g:Genre)<-[:IN_GENRE]-(rec:Movie)\n",
    "\n",
    "WITH m, rec, COUNT(*) AS gs\n",
    "\n",
    "OPTIONAL MATCH (m)<-[:ACTED_IN]-(a:Actor)-[:ACTED_IN]->(rec)\n",
    "WITH m, rec, gs, COUNT(a) AS as\n",
    "\n",
    "OPTIONAL MATCH (m)<-[:DIRECTED]-(d:Director)-[:DIRECTED]->(rec)\n",
    "WITH m, rec, gs, as, COUNT(d) AS ds\n",
    "\n",
    "RETURN rec.title AS recommendation, (5*gs)+(3*as)+(4*ds) AS score ORDER BY score DESC LIMIT 100\n",
    "```\n",
    "\n",
    "1. MATCH，搜尋全面啟動這部電影，用m表示。\n",
    "2. MATCH，收集和 m 擁有共同電影分類 genre 的候選電影，以rec代表，同時也收集 genre 用 g 表示。\n",
    "3. WITH，往下傳遞變數 m, rec, 同時把 g 分類的統計數量以 gs 表示。\n",
    "4. OPTIONAL MATCH，考慮在 m,rec 的條件下，有交集的演員 a。\n",
    "5. WITH，往下傳遞變數 m, rec, gs, 並把 a 統計總數以 as 表示。\n",
    "6. 處理導演相似性。\n",
    "7. RETURN，最主要看score，把genre, actor, director這三個屬性的計數分別乘以 5, 3, 4 的權重，然後將之相加成為最後的 score。\n",
    "\n",
    "<img src=\"images/cypher_movie_recommendation_inception_mul;ti_weight.png\">"
   ]
  },
  {
   "cell_type": "markdown",
   "metadata": {},
   "source": [
    "### 「相似度」計算: Jaccard距離 (Jaccard distance, 雅卡爾)\n",
    "\n",
    "所謂「相似度」，說法其實並不精確，只能算一個相關程度的計算公式，要成為一個嚴格意義上的相似度距離，則需要滿足眾多條件。比如：穩定、語義清晰等等，接著介紹業界最最簡單的相似度度量：Jaccard相似度。主要用來衡量兩個集合的相似程度。\n",
    "\n",
    "若A和B是集合，則A和B聯集是有所有A的元素和所有B的元素，而沒有其他元素的集合。A和B的聯集通常寫作\"A ∪ B\"。形式上：\n",
    "\n",
    "- x是A ∪ B的元素，若且唯若\n",
    "- x是A的元素，或\n",
    "- x是B的元素\n",
    "\n",
    "舉例：集合 {1,2,3} 和 {2,3,4} 的 聯集 是{1,2,3,4}\n",
    "\n",
    "A和B的交集寫作\"A ∩ B\"。形式上：\n",
    "\n",
    "- x屬於A ∩ B B若且唯若\n",
    "- x屬於A且x屬於B\n",
    "\n",
    "舉例：集合 {1,2,3} 和 {2,3,4} 的 交集 是{1,2,3}\n",
    "\n",
    "<img src=\"images/cypher_similarity_jaccard.png\">\n",
    "\n",
    "### 以Jaccard相似度查詢與 Inception (全面啟動)的電影分類 (genre) 相似的集合\n",
    "\n",
    "Jaccard指數是0到1之間的數字，表示兩個集合的相似程度，兩個完全相同集合的Jaccard指數是1。如果兩個集合沒有共同元素，則Jaccard索引為0。藉由將兩個集合的交集的大小除以兩個集合的並集來計算Jaccard相似度，可以計算電影類型集的Jaccard指數，以確定兩部電影的相似程度。\n",
    "\n",
    "以下是以電影類型為基礎，查詢哪些電影是跟《全面啟動》Jaccard 指數最相似的電影？\n",
    "\n",
    "```\n",
    "MATCH (m:Movie {title: \"Inception\"})-[:IN_GENRE]->(g:Genre)-[:IN_GENRE]-(other:Movie)\n",
    "WITH m, other, COUNT(g) AS intersection, COLLECT(g.name) AS i\n",
    "MATCH (m)-[:IN_GENRE]->(mg:Genre)\n",
    "WITH m,other, intersection,i, COLLECT(mg.name) AS s1\n",
    "MATCH (other)-[:IN_GENRE]->(og:Genre)\n",
    "WITH m,other,intersection,i, s1, COLLECT(og.name) AS s2\n",
    "\n",
    "WITH m,other,intersection,s1,s2\n",
    "\n",
    "WITH m,other,intersection,s1+[x IN s2 WHERE NOT x IN s1] AS union, s1, s2\n",
    "\n",
    "RETURN m.title, other.title, s1,s2,((1.0*intersection)/SIZE(union)) AS jaccard ORDER BY jaccard DESC LIMIT 100\n",
    "```\n",
    "1. 查詢出電影Inception和與它類型相關性的電影集 other\n",
    "2. count(g) 其實就是電影Inception和電影集other 的流派交集的數量（共同類型）\n",
    "3. s1+[x IN s2 WHERE NOT x IN s1] AS union  此 union 即是s1 和 s2 的並集（集合s1 加上 s2中不包含s1 的那部分）\n",
    "4. ((1.0*intersection)/SIZE(union)) AS jaccard  根據上面的Jaccard指數公式計算所得的指數(index)\n",
    "\n",
    "\n",
    "<img src=\"images/cypher_movie_recommendation_Jaccard_distance.png\">"
   ]
  },
  {
   "cell_type": "markdown",
   "metadata": {},
   "source": [
    "### 將 genre, actor, director 這些條件都加進來計算距離\n",
    "\n",
    "```\n",
    "MATCH (m:Movie {title: \"Inception\"})-[:IN_GENRE|:ACTED_IN|:DIRECTED]-(t)<-[:IN_GENRE|:ACTED_IN|:DIRECTED]-(other:Movie)\n",
    "WITH m, other, COUNT(t) AS intersection, COLLECT(t.name) AS i\n",
    "MATCH (m)-[:IN_GENRE|:ACTED_IN|:DIRECTED]-(mt)\n",
    "WITH m,other, intersection,i, COLLECT(mt.name) AS s1\n",
    "MATCH (other)-[:IN_GENRE|:ACTED_IN|:DIRECTED]-(ot)\n",
    "WITH m,other,intersection,i, s1, COLLECT(ot.name) AS s2\n",
    "\n",
    "WITH m,other,intersection,s1,s2\n",
    "\n",
    "WITH m,other,intersection,s1+[x IN s2 WHERE NOT x IN s1] AS union, s1, s2\n",
    "\n",
    "RETURN m.title, other.title, s1,s2,((1.0*intersection)/SIZE(union)) AS jaccard ORDER BY jaccard DESC LIMIT 100\n",
    "\n",
    "```\n",
    "<img src=\"images/cypher_movie_recommendation_Jaccard_distance_2.png\">"
   ]
  },
  {
   "cell_type": "markdown",
   "metadata": {},
   "source": [
    "## Bonus round\n",
    "\n",
    "You can skip duplicate Nodes, and set high I/O mode to import database by following command:\n",
    "\n",
    "```\n",
    "--skip-duplicate-nodes=true --high-io=true\n",
    "```"
   ]
  },
  {
   "cell_type": "code",
   "execution_count": null,
   "metadata": {},
   "outputs": [],
   "source": []
  }
 ],
 "metadata": {
  "kernelspec": {
   "display_name": "Python 3",
   "language": "python",
   "name": "python3"
  },
  "language_info": {
   "codemirror_mode": {
    "name": "ipython",
    "version": 3
   },
   "file_extension": ".py",
   "mimetype": "text/x-python",
   "name": "python",
   "nbconvert_exporter": "python",
   "pygments_lexer": "ipython3",
   "version": "3.6.7"
  }
 },
 "nbformat": 4,
 "nbformat_minor": 2
}
