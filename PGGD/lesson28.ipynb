{
 "cells": [
  {
   "cell_type": "markdown",
   "metadata": {},
   "source": [
    "## Lesson 28 - Neo4j Analysis using E-Commerce Data\n",
    "\n",
    "\n",
    "\n",
    "\n",
    "\n",
    "\n",
    "### Table of Contents\n",
    "\n",
    "* [The Data](#the_data)\n",
    "* [Import data](#import_data)\n",
    "* [The graph](#the_graph)\n",
    "* [Conclusion](#conclusion)\n",
    "\n",
    "\n",
    "\n"
   ]
  },
  {
   "cell_type": "markdown",
   "metadata": {},
   "source": [
    "<a id=\"the_data\"></a>\n",
    "## The Data\n",
    "\n",
    "Relational databases are logical way to manage data, but on the other hand, alternative approaches such as graph database can be more useful in many cases. It’s known that huge companies in various industries such as eBay, Airbnb, Cisco and many others use the graph database. At this point, Neo4j shows itself as a graph database platform for managing the data.\n",
    "In this lesson, we'll create an graph from the e-commerce data, using Neo4j and also touch on analysis.\n",
    "\n",
    "First of all, you can find the e-commerce data [here](https://www.kaggle.com/carrie1/ecommerce-data). At first glance, it’s clearly seen that the data consists of transactions. Therefore, the data includes a series of columns such as customer, purchased products, quantity and date of transaction.\n",
    "\n",
    "It would be a step in the right direction to plan the schema before inserting data to Neo4j. The schema aimed to be builded in present study is as follows,\n",
    "\n",
    "<img src=\"images/e-commerce-graph-nodes.png\">"
   ]
  },
  {
   "cell_type": "markdown",
   "metadata": {},
   "source": [
    "<a id=\"import_data\"></a>\n",
    "## Import data\n",
    "We can start with the customers now. Creating a constraint before creating nodes both prevents duplication and performs better because it uses MERGE locks. You can create the constraint as follows,\n",
    "\n",
    "```\n",
    "CREATE CONSTRAINT ON (customer:Customer) ASSERT customer.customerID IS UNIQUE\n",
    "```\n",
    "\n",
    "### Customer nodes\n",
    "Please notice that, having uniqueness for a property value is only useful in the graph if the property exists. Then you can create customer nodes as follows,\n",
    "\n",
    "```\n",
    ":auto \n",
    "USING PERIODIC COMMIT\n",
    "LOAD CSV WITH HEADERS\n",
    "FROM 'file:///e-commerce-data.csv'\n",
    "AS line\n",
    "WITH \n",
    "  toInteger(line.CustomerID) AS CustomerID, \n",
    "  line WHERE NOT line.CustomerID IS null\n",
    "MERGE(customer:Customer {customerID: CustomerID})\n",
    "ON CREATE SET customer.country = line.Country\n",
    "```"
   ]
  },
  {
   "cell_type": "markdown",
   "metadata": {},
   "source": [
    "After creating customer nodes, it’ll be even easier to create product and transaction nodes. Likewise, firstly it would be correct to create constraint for product nodes.\n",
    "\n",
    "```\n",
    "CREATE CONSTRAINT ON (product:Product) ASSERT product.stockCode IS UNIQUE\n",
    "```"
   ]
  },
  {
   "cell_type": "markdown",
   "metadata": {},
   "source": [
    "There is an important point in here, when you create a constraint, Neo4j will create an index. Cypher will use that index for lookups just like other indexes. Therefore, there’s no need to create a separate index. In fact, if you try to create a constraint when there’s already an index, you’ll get an error.\n",
    "\n",
    "### Product nodes\n",
    "After taking into account all of these, you can create product nodes as follows,\n",
    "\n",
    "```\n",
    ":auto \n",
    "USING PERIODIC COMMIT\n",
    "LOAD CSV WITH HEADERS\n",
    "FROM 'file:///e-commerce-data.csv'\n",
    "AS line\n",
    "MERGE(product:Product {stockCode: line.StockCode})\n",
    "ON CREATE SET product.description = line.Description\n",
    "```\n",
    "\n",
    "As you can see above, ON CREATE statement is used when creating nodes. If the node needs to be created, merge a node and set the properties. Similarly, you can also use the statement ON MATCH if the node already exists."
   ]
  },
  {
   "cell_type": "markdown",
   "metadata": {},
   "source": [
    "### Transaction nodes\n",
    "It'll be nice to create transaction nodes just before start dealing with relationships as follows,\n",
    "\n",
    "```\n",
    "CREATE CONSTRAINT ON (transaction:Transaction) ASSERT transaction.transactionID IS UNIQUE;\n",
    "```\n",
    "\n",
    "```\n",
    ":auto \n",
    "USING PERIODIC COMMIT\n",
    "LOAD CSV WITH HEADERS\n",
    "FROM 'file:///e-commerce-data.csv'\n",
    "AS line\n",
    "MERGE(transaction:Transaction {transactionID: line.InvoiceNo})\n",
    "ON CREATE SET transaction.transactionDate = line.InvoiceDate\n",
    "```"
   ]
  },
  {
   "cell_type": "markdown",
   "metadata": {},
   "source": [
    "Looking at the Cypher statements above, you can see that semicolon is used to separate Cypher statements. In general, you don't need to end a Cypher statement with a semi-colon, but if you want to execute multiple Cypher statements, you must separate them.\n",
    "\n",
    "The nodes in the graph are ready, but these nodes have no connection with each other. The connections capture the semantic relationships and context of the nodes in the graph. As it’s known, 3 types of nodes are available in the graph: Customer, transaction and product. As David mentioned at the beginning of this section, having relationships between customer-transaction and transaction-product will make this graph much more logical. The customer MADE a transaction and the transaction CONTAINS products. Here is the Cypher statement to building MADE relationships,\n",
    "\n",
    "### Relationships of Customer and Transaction\n",
    "```\n",
    ":auto \n",
    "USING PERIODIC COMMIT\n",
    "LOAD CSV WITH HEADERS\n",
    "FROM 'file:///e-commerce-data.csv'\n",
    "AS line\n",
    "WITH toInteger(line.CustomerID) AS CustomerID, line.InvoiceNo AS InvoiceNo\n",
    "MATCH (customer:Customer {customerID: CustomerID})\n",
    "MATCH (transaction:Transaction {transactionID: InvoiceNo})\n",
    "MERGE (customer)-[:MADE]->(transaction)\n",
    "```"
   ]
  },
  {
   "cell_type": "markdown",
   "metadata": {},
   "source": [
    "Let's finalize the graph by creating CONTAINS relationships,\n",
    "\n",
    "```\n",
    ":auto \n",
    "USING PERIODIC COMMIT\n",
    "LOAD CSV WITH HEADERS\n",
    "FROM 'file:///e-commerce-data.csv'\n",
    "AS line\n",
    "WITH line.InvoiceNo AS InvoiceNo, line.StockCode AS StockCode, toInteger(line.UnitPrice) AS UnitPrice, toInteger(line.Quantity) AS Quantity\n",
    "MATCH (product:Product {stockCode: StockCode})\n",
    "MATCH (transaction:Transaction {transactionID: InvoiceNo})\n",
    "MERGE (transaction)-[s:CONTAINS]->(product)\n",
    "SET s.price = UnitPrice*Quantity\n",
    "```"
   ]
  },
  {
   "cell_type": "markdown",
   "metadata": {},
   "source": [
    "<a id=\"the_graph\"></a>\n",
    "## The graph\n",
    "\n",
    "You can now check the schema of the graph with the statement \n",
    "```\n",
    "CALL db.schema.visualization()\n",
    "```\n",
    "The result is like that,\n",
    "\n",
    "<img src=\"images/e-commerce-transaction-relationships.png\">\n",
    "\n",
    "Keep in mind that you can create the graph in a different way. For instance, the transaction could have been a relationship, not a node, and we could call it BOUGHT. As you can imagine, which one you choose depends on your business problem. At this point, you should set the rules and build the structure accordingly."
   ]
  },
  {
   "cell_type": "markdown",
   "metadata": {},
   "source": [
    "## RFM Analysis\n",
    "\n",
    "RFM analysis is a behavior-based approach grouping customers into segments. It groups the customers on the basis of their previous purchase transactions. Here are the three dimensions of RFM,\n",
    "- Recency: How recently did the customer purchase?\n",
    "- Frequency: How often do they purchase?\n",
    "- Monetary Value: How much do they spend?\n",
    "\n",
    "Segmenting customers using RFM analysis is an important point for companies that sell in many industries. Because companies want to know the customers that are valuable to them and to ensure loyalty for all their customers.\n",
    "\n",
    "Before we start, we need installed APOC\n",
    "<img src=\"images/e-commerce-install-apoc.png\">\n",
    "\n",
    "After mentioning the dimensions of the RFM and the significance of the customer segmentation, we can get the recency, frequency and monetary value with following python code,"
   ]
  },
  {
   "cell_type": "code",
   "execution_count": 1,
   "metadata": {},
   "outputs": [],
   "source": [
    "from py2neo import Graph\n",
    "import pandas as pd\n",
    "\n",
    "host = 'localhost'\n",
    "port = 7687\n",
    "user = 'neo4j'\n",
    "password = '42840667'\n",
    "\n",
    "graph = Graph(\n",
    "    host=host,\n",
    "    port=port,\n",
    "    user=user,\n",
    "    password=password\n",
    ")\n",
    "tx = graph.begin()\n",
    "\n",
    "query = \"\"\"\n",
    "  MATCH (c:Customer)-[r1:MADE]->(t:Transaction)-[r2:CONTAINS]->(product:Product)\n",
    "  WITH SUM(r2.price) AS monetary,\n",
    "     COUNT(DISTINCT t) AS frequency,\n",
    "       c.customerID AS customer,\n",
    "       MIN(\n",
    "        duration.inDays(\n",
    "        date(datetime({epochmillis: apoc.date.parse(t.transactionDate, 'ms', 'MM/dd/yyyy')})), \n",
    "        date()\n",
    "      ).days\n",
    "    ) AS recency\n",
    "  RETURN customer, recency, frequency, monetary\n",
    "\"\"\"\n",
    "\n",
    "# create the dataframe\n",
    "results = tx.run(query).data()\n",
    "df = pd.DataFrame(results)"
   ]
  },
  {
   "cell_type": "code",
   "execution_count": 2,
   "metadata": {},
   "outputs": [
    {
     "data": {
      "text/html": [
       "<div>\n",
       "<style scoped>\n",
       "    .dataframe tbody tr th:only-of-type {\n",
       "        vertical-align: middle;\n",
       "    }\n",
       "\n",
       "    .dataframe tbody tr th {\n",
       "        vertical-align: top;\n",
       "    }\n",
       "\n",
       "    .dataframe thead th {\n",
       "        text-align: right;\n",
       "    }\n",
       "</style>\n",
       "<table border=\"1\" class=\"dataframe\">\n",
       "  <thead>\n",
       "    <tr style=\"text-align: right;\">\n",
       "      <th></th>\n",
       "      <th>customer</th>\n",
       "      <th>recency</th>\n",
       "      <th>frequency</th>\n",
       "      <th>monetary</th>\n",
       "    </tr>\n",
       "  </thead>\n",
       "  <tbody>\n",
       "    <tr>\n",
       "      <th>0</th>\n",
       "      <td>17850</td>\n",
       "      <td>3674</td>\n",
       "      <td>35</td>\n",
       "      <td>4521</td>\n",
       "    </tr>\n",
       "    <tr>\n",
       "      <th>1</th>\n",
       "      <td>13047</td>\n",
       "      <td>3403</td>\n",
       "      <td>18</td>\n",
       "      <td>2304</td>\n",
       "    </tr>\n",
       "    <tr>\n",
       "      <th>2</th>\n",
       "      <td>12583</td>\n",
       "      <td>3374</td>\n",
       "      <td>18</td>\n",
       "      <td>4370</td>\n",
       "    </tr>\n",
       "    <tr>\n",
       "      <th>3</th>\n",
       "      <td>13748</td>\n",
       "      <td>3467</td>\n",
       "      <td>5</td>\n",
       "      <td>710</td>\n",
       "    </tr>\n",
       "    <tr>\n",
       "      <th>4</th>\n",
       "      <td>15100</td>\n",
       "      <td>3702</td>\n",
       "      <td>6</td>\n",
       "      <td>580</td>\n",
       "    </tr>\n",
       "  </tbody>\n",
       "</table>\n",
       "</div>"
      ],
      "text/plain": [
       "   customer  recency  frequency  monetary\n",
       "0     17850     3674         35      4521\n",
       "1     13047     3403         18      2304\n",
       "2     12583     3374         18      4370\n",
       "3     13748     3467          5       710\n",
       "4     15100     3702          6       580"
      ]
     },
     "execution_count": 2,
     "metadata": {},
     "output_type": "execute_result"
    }
   ],
   "source": [
    "df.head()"
   ]
  },
  {
   "cell_type": "code",
   "execution_count": 3,
   "metadata": {},
   "outputs": [],
   "source": [
    "# edit the recency value\n",
    "df['recency'] = df['recency'] - df['recency'].min()"
   ]
  },
  {
   "cell_type": "code",
   "execution_count": 4,
   "metadata": {},
   "outputs": [
    {
     "data": {
      "text/html": [
       "<div>\n",
       "<style scoped>\n",
       "    .dataframe tbody tr th:only-of-type {\n",
       "        vertical-align: middle;\n",
       "    }\n",
       "\n",
       "    .dataframe tbody tr th {\n",
       "        vertical-align: top;\n",
       "    }\n",
       "\n",
       "    .dataframe thead th {\n",
       "        text-align: right;\n",
       "    }\n",
       "</style>\n",
       "<table border=\"1\" class=\"dataframe\">\n",
       "  <thead>\n",
       "    <tr style=\"text-align: right;\">\n",
       "      <th></th>\n",
       "      <th>customer</th>\n",
       "      <th>recency</th>\n",
       "      <th>frequency</th>\n",
       "      <th>monetary</th>\n",
       "    </tr>\n",
       "  </thead>\n",
       "  <tbody>\n",
       "    <tr>\n",
       "      <th>4367</th>\n",
       "      <td>13436</td>\n",
       "      <td>1</td>\n",
       "      <td>1</td>\n",
       "      <td>148</td>\n",
       "    </tr>\n",
       "    <tr>\n",
       "      <th>4368</th>\n",
       "      <td>15520</td>\n",
       "      <td>1</td>\n",
       "      <td>1</td>\n",
       "      <td>236</td>\n",
       "    </tr>\n",
       "    <tr>\n",
       "      <th>4369</th>\n",
       "      <td>13298</td>\n",
       "      <td>1</td>\n",
       "      <td>1</td>\n",
       "      <td>288</td>\n",
       "    </tr>\n",
       "    <tr>\n",
       "      <th>4370</th>\n",
       "      <td>14569</td>\n",
       "      <td>1</td>\n",
       "      <td>1</td>\n",
       "      <td>179</td>\n",
       "    </tr>\n",
       "    <tr>\n",
       "      <th>4371</th>\n",
       "      <td>12713</td>\n",
       "      <td>0</td>\n",
       "      <td>1</td>\n",
       "      <td>624</td>\n",
       "    </tr>\n",
       "  </tbody>\n",
       "</table>\n",
       "</div>"
      ],
      "text/plain": [
       "      customer  recency  frequency  monetary\n",
       "4367     13436        1          1       148\n",
       "4368     15520        1          1       236\n",
       "4369     13298        1          1       288\n",
       "4370     14569        1          1       179\n",
       "4371     12713        0          1       624"
      ]
     },
     "execution_count": 4,
     "metadata": {},
     "output_type": "execute_result"
    }
   ],
   "source": [
    "df.tail()"
   ]
  },
  {
   "cell_type": "markdown",
   "metadata": {},
   "source": [
    "Then, it would be a correct step to define the segments by creating percentiles for dimensions. Please keep in mind that the segmentation here can be taken to a much more advanced level and is often not that simple. Real world problems can be more complex."
   ]
  },
  {
   "cell_type": "code",
   "execution_count": 5,
   "metadata": {},
   "outputs": [],
   "source": [
    "# three quantiles to rfm values\n",
    "df['r_val'] = pd.qcut(df['recency'], q=3, labels=range(3, 0, -1))\n",
    "df['f_val'] = pd.qcut(df['frequency'], q=3, labels=range(1, 4))\n",
    "df['m_val'] = pd.qcut(df['monetary'], q=3, labels=range(1, 4))"
   ]
  },
  {
   "cell_type": "code",
   "execution_count": 6,
   "metadata": {},
   "outputs": [
    {
     "data": {
      "text/html": [
       "<div>\n",
       "<style scoped>\n",
       "    .dataframe tbody tr th:only-of-type {\n",
       "        vertical-align: middle;\n",
       "    }\n",
       "\n",
       "    .dataframe tbody tr th {\n",
       "        vertical-align: top;\n",
       "    }\n",
       "\n",
       "    .dataframe thead th {\n",
       "        text-align: right;\n",
       "    }\n",
       "</style>\n",
       "<table border=\"1\" class=\"dataframe\">\n",
       "  <thead>\n",
       "    <tr style=\"text-align: right;\">\n",
       "      <th></th>\n",
       "      <th>customer</th>\n",
       "      <th>recency</th>\n",
       "      <th>frequency</th>\n",
       "      <th>monetary</th>\n",
       "      <th>r_val</th>\n",
       "      <th>f_val</th>\n",
       "      <th>m_val</th>\n",
       "      <th>rfm_val</th>\n",
       "    </tr>\n",
       "  </thead>\n",
       "  <tbody>\n",
       "    <tr>\n",
       "      <th>0</th>\n",
       "      <td>17850</td>\n",
       "      <td>302</td>\n",
       "      <td>35</td>\n",
       "      <td>4521</td>\n",
       "      <td>1</td>\n",
       "      <td>3</td>\n",
       "      <td>3</td>\n",
       "      <td>133</td>\n",
       "    </tr>\n",
       "    <tr>\n",
       "      <th>1</th>\n",
       "      <td>13047</td>\n",
       "      <td>31</td>\n",
       "      <td>18</td>\n",
       "      <td>2304</td>\n",
       "      <td>2</td>\n",
       "      <td>3</td>\n",
       "      <td>3</td>\n",
       "      <td>233</td>\n",
       "    </tr>\n",
       "    <tr>\n",
       "      <th>2</th>\n",
       "      <td>12583</td>\n",
       "      <td>2</td>\n",
       "      <td>18</td>\n",
       "      <td>4370</td>\n",
       "      <td>3</td>\n",
       "      <td>3</td>\n",
       "      <td>3</td>\n",
       "      <td>333</td>\n",
       "    </tr>\n",
       "    <tr>\n",
       "      <th>3</th>\n",
       "      <td>13748</td>\n",
       "      <td>95</td>\n",
       "      <td>5</td>\n",
       "      <td>710</td>\n",
       "      <td>1</td>\n",
       "      <td>3</td>\n",
       "      <td>2</td>\n",
       "      <td>132</td>\n",
       "    </tr>\n",
       "    <tr>\n",
       "      <th>4</th>\n",
       "      <td>15100</td>\n",
       "      <td>330</td>\n",
       "      <td>6</td>\n",
       "      <td>580</td>\n",
       "      <td>1</td>\n",
       "      <td>3</td>\n",
       "      <td>2</td>\n",
       "      <td>132</td>\n",
       "    </tr>\n",
       "  </tbody>\n",
       "</table>\n",
       "</div>"
      ],
      "text/plain": [
       "   customer  recency  frequency  monetary r_val f_val m_val rfm_val\n",
       "0     17850      302         35      4521     1     3     3     133\n",
       "1     13047       31         18      2304     2     3     3     233\n",
       "2     12583        2         18      4370     3     3     3     333\n",
       "3     13748       95          5       710     1     3     2     132\n",
       "4     15100      330          6       580     1     3     2     132"
      ]
     },
     "execution_count": 6,
     "metadata": {},
     "output_type": "execute_result"
    }
   ],
   "source": [
    "# create the segment value\n",
    "df['rfm_val'] = (\n",
    "    df['r_val'].astype(str) + \n",
    "    df['f_val'].astype(str) + \n",
    "    df['m_val'].astype(str)\n",
    ")\n",
    "\n",
    "df.head()"
   ]
  },
  {
   "cell_type": "code",
   "execution_count": 7,
   "metadata": {},
   "outputs": [],
   "source": [
    "# example names for segments\n",
    "mapping = {\n",
    "    'Best customers': '333',\n",
    "    'No purchases recently': '133',\n",
    "    'Low loyalty': '111',\n",
    "    'New customers': '311'\n",
    "}"
   ]
  },
  {
   "cell_type": "code",
   "execution_count": 8,
   "metadata": {},
   "outputs": [
    {
     "data": {
      "text/plain": [
       "customer     15953\n",
       "recency         15\n",
       "frequency       10\n",
       "monetary      1066\n",
       "r_val            3\n",
       "Name: 311, dtype: object"
      ]
     },
     "execution_count": 8,
     "metadata": {},
     "output_type": "execute_result"
    }
   ],
   "source": [
    "rowData = df.loc[311,:]\n",
    "rowData.head()"
   ]
  },
  {
   "cell_type": "code",
   "execution_count": 9,
   "metadata": {},
   "outputs": [
    {
     "ename": "NameError",
     "evalue": "name 'v' is not defined",
     "output_type": "error",
     "traceback": [
      "\u001b[1;31m---------------------------------------------------------------------------\u001b[0m",
      "\u001b[1;31mNameError\u001b[0m                                 Traceback (most recent call last)",
      "\u001b[1;32m<ipython-input-9-b4afb65b1e42>\u001b[0m in \u001b[0;36m<module>\u001b[1;34m\u001b[0m\n\u001b[1;32m----> 1\u001b[1;33m \u001b[0mdf\u001b[0m\u001b[1;33m[\u001b[0m\u001b[0mdf\u001b[0m\u001b[1;33m.\u001b[0m\u001b[0mrfm_val\u001b[0m \u001b[1;33m==\u001b[0m \u001b[0mv\u001b[0m\u001b[1;33m]\u001b[0m\u001b[1;33m.\u001b[0m\u001b[0mdescribe\u001b[0m\u001b[1;33m(\u001b[0m\u001b[1;33m)\u001b[0m\u001b[1;33m.\u001b[0m\u001b[0mT\u001b[0m\u001b[1;33m\u001b[0m\u001b[1;33m\u001b[0m\u001b[0m\n\u001b[0m",
      "\u001b[1;31mNameError\u001b[0m: name 'v' is not defined"
     ]
    }
   ],
   "source": [
    "df[df.rfm_val == v].describe().T"
   ]
  },
  {
   "cell_type": "code",
   "execution_count": null,
   "metadata": {},
   "outputs": [],
   "source": [
    "# print the results\n",
    "for k, v in mapping.items():\n",
    "    print(k + ',')\n",
    "    print(df[df.rfm_val == v].drop('customer', axis=1).describe().T)\n",
    "    print()"
   ]
  },
  {
   "cell_type": "markdown",
   "metadata": {},
   "source": [
    "As you can see in the output, there are descriptive statistics to segments. For instance, looking at the statistics of the best customers, it’s seen that they have recently purchased, frequently purchased, and the monetary value was quite high. Therefore, it’s important that customers in this segment are kept by the company.\n",
    "\n",
    "There will be different approaches to other segments. This is natural considering the purpose of segmentation. It’s a big impact to develop different approaches for segments and to improve customer loyalty. For instance, you can see the descriptions and required actions to the four segments as follows,"
   ]
  },
  {
   "cell_type": "code",
   "execution_count": null,
   "metadata": {},
   "outputs": [],
   "source": [
    "df"
   ]
  },
  {
   "cell_type": "markdown",
   "metadata": {},
   "source": [
    "<a id=\"conclusion\"></a>\n",
    "## Conclusion\n",
    "\n",
    "As mentioned at the beginning of the lesson, different approaches may be needed to find solutions to problems in business life. At this point, it’ll be necessary to identify the problem quite well and build the solution step by step. Although it is not a viable solution to all problems, trying different approaches to tackle an issue would be both beneficial for your company and your career development.\n",
    "\n",
    "It would be useful for you to get a head start on customer segmentation with this practice."
   ]
  }
 ],
 "metadata": {
  "kernelspec": {
   "display_name": "Python 3",
   "language": "python",
   "name": "python3"
  },
  "language_info": {
   "codemirror_mode": {
    "name": "ipython",
    "version": 3
   },
   "file_extension": ".py",
   "mimetype": "text/x-python",
   "name": "python",
   "nbconvert_exporter": "python",
   "pygments_lexer": "ipython3",
   "version": "3.6.7"
  }
 },
 "nbformat": 4,
 "nbformat_minor": 2
}
