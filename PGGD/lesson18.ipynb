{
 "cells": [
  {
   "cell_type": "markdown",
   "metadata": {},
   "source": [
    "## Lesson 18 - Text Analytics & Word2Vec\n",
    "\n",
    "\n",
    "\n",
    "\n",
    "\n",
    "### Table of Contents\n",
    "\n",
    "* [Word2vec挖掘語義相似關係](#word2vec-movie-scripts)\n",
    "* [Word2vec 轉成高維空間向量 - 以字為單位](#word2vec_word)\n",
    "* [Word2vec 轉成高維空間向量 - 以詞彙為單位](#word2vec_keyword)\n",
    "* [計算 三詞彙 Cosine 相似度](#three_keyword)\n",
    "* [Save Word2vec model](#save_model)\n",
    "* [Load Word2vec model](#load_model)\n",
    "* [Load text file in folder to train Word2Vec model](#Load-text-file-in-folder-to-train-Word2Vec-model)\n"
   ]
  },
  {
   "cell_type": "markdown",
   "metadata": {},
   "source": [
    "<a id=\"word2vec-movie-scripts\"></a>\n",
    "## Word2vec挖掘語義相似關係\n",
    "\n",
    "Word2vec is a technique for natural language processing. The word2vec algorithm uses a neural network model to learn word associations from a large corpus of text. Once trained, such a model can detect synonymous words or suggest additional words for a partial sentence. \n",
    "\n",
    "文章分析中也經常會用到word2vec將文字轉化為詞向量的形式，用以挖掘詞彙在語句前後的相似關係。使用word2vec測試一下模型效果。導入gensim 後，將文章轉化為模型所需的輸入形式，即可開始進行訓練，產出每個詞彙的向量格式，訓練模型的定義：\n",
    "\n",
    "![Word2Vec（詞向量）](images/Word2Vec.png)"
   ]
  },
  {
   "cell_type": "markdown",
   "metadata": {},
   "source": [
    "在Word2Vec出來之前，我們常用的主要是`one hot encoding`的方法，也就是對於每一個單字進行編碼，即用在一個位置為1，其餘位置為0的向量來表示。\n",
    "向量的維度就是我們單字量的大小，向量的每一個位置，只能用來表示唯一的一個單字。\n",
    "\n",
    "舉個例子，假設我們的有詞庫只有10個單字，分別是:\n",
    "比，特，幣，昨，天，就，開，始，大，漲。 以one hot encoding的方法來表示每一個詞，那麼有下面的結果:\n",
    "\n",
    "\n",
    "比 → [1,0,0,0,0,0,0,0,0,0] <br>\n",
    "特 → [0,1,0,0,0,0,0,0,0,0] <br> \n",
    "幣 → [0,0,1,0,0,0,0,0,0,0] <br>\n",
    "昨 → [0,0,0,1,0,0,0,0,0,0] <br>\n",
    "天 → [0,0,0,0,1,0,0,0,0,0] <br>\n",
    "就 → [0,0,0,0,0,1,0,0,0,0] <br>\n",
    "開 → [0,0,0,0,0,0,1,0,0,0] <br>\n",
    "始 → [0,0,0,0,0,0,0,1,0,0] <br>\n",
    "大 → [0,0,0,0,0,0,0,0,1,0] <br>\n",
    "漲 → [0,0,0,0,0,0,0,0,0,1] <br>\n",
    "\n",
    "\n",
    "可以看到對於每一個單字，唯一的一個向量對它進行了表示。那麼很顯然這種表示方法至少有下面的一些缺陷\n",
    "\n",
    "1. 在常見的距離下面，單字與單字間的距離都是沒有差別的，\"比\"和\"特\"的距離和\"比\"和\"漲\"的距離是一樣的\n",
    "2. 隨著單字量的增加，向量的維度也隨之增加，對於詞庫中沒有的新字，無法以唯一的向量一對一的mapping對映\n",
    "3. 當單字量較多時，高維度向量對運算速度大大降低效率，無法適應於即時的訓練與作出調整\n",
    "\n",
    "所以，字向量的提出目的就是解決上面提到的這些問題。而英文可能是用於Word(字)，中文則是要以詞彙(至少兩個字)的向量來做訓練。\n",
    "\n",
    "1. 如果詞彙向量有N個，那麼可以用一個n維的向量來表示每一個詞彙，並且 n 遠遠小於N，常見的n為100到300維\n",
    "2. 詞彙向量每一個位置不再是只能取0和1的數值，而是可以取任意的實數\n",
    "3. 詞彙向量之間的差在一定程度上是有意義的，比如，台北的詞向量為 v1，台南的詞向量為 v2, 西雅圖的詞向量為 v3 , 紐約的詞向量為 v4 ，藉由word2vec學習出來的這些詞向量大致都有相符的特徵。這個近似關係，或是說城市關係，也正是受到word2vec的啟發，在知識圖譜表示學習中，衍生了一些名為Trans的編碼演算法\n",
    "4. 除此之外，地名和地名在詞向量空間中的距離比地名和動物的詞向量距離近，等等，換句話說就是描述同一屬性和種類的詞向量的距離要小於不同屬性和種類的詞向量的距離"
   ]
  },
  {
   "cell_type": "markdown",
   "metadata": {},
   "source": [
    "<a id=\"word2vec_word\"></a>\n",
    "## Word2vec 轉成高維空間向量 - 以字為單位"
   ]
  },
  {
   "cell_type": "code",
   "execution_count": 1,
   "metadata": {},
   "outputs": [],
   "source": [
    "from gensim.models import Word2Vec\n",
    "\n",
    "sentences_raw = '47歲的國民黨榮譽主席連戰二公子連勝武，2009年與相戀4年的華航空姐路永佳結婚，育有1子2女，夫妻倆人前恩愛，堪稱名人界的模範夫妻，但22日《蘋果新聞網》直擊連勝武爆出婚外情，對象是身高約170公分的骨感妹！當天她與藝人朋友聚餐，連勝武獨自搭車去找她，小倆口十指緊扣步出餐廳，連勝武摟著她的腰上車轉赴酒吧續攤，酒酣耳熱之際，兩人深情撫摸著對方臉龐擁吻，喝茫的骨感妹不知傾吐什麼，哭成淚人兒，連勝武露出疼惜之情拿面紙幫她拭淚；凌晨2點多，不勝酒力的骨感妹到洗手間嘔吐，之後連勝武扶著她上車，一同返回她在中山區的住處過夜。路永佳今接受《蘋果新聞網》獨家專訪表示，「不知道這個（兩人關係）程度是到什麼程度」，她冷靜回應：「我必須跟他一起面對 ，今天如果是他做了什麼事情，他要自己出來負責，可是因為家是我們的，所以家裡的部分我要面對，我也不能逃避。」原先，路永佳答應《蘋果》，9點會請連勝武聯繫記者，但至截稿前尚未取得連勝武回應。 連勝武十指緊扣骨感妹走出餐廳。 上周五（22日）晚間8點多，記者目擊年約35歲的骨感妹，一身黑色系打扮，獨自前往內湖的高檔養生藥膳餐廳「福慧根湯」與賴薇如、熊熊等藝人聚會，烏黑長髮披肩、身高約170公分的骨感妹。用餐1小時後，骨感妹一臉開心地走出包廂到門口「煲電話粥」，言談時一臉幸福的模樣。晚間10點半，連勝武戴著口罩搭車到餐廳找她，深夜11點，連勝武與背著Chanel包的骨感妹邊戴起口罩邊步出餐廳，冷不防地隔著口罩親她的臉頰調情，再順勢牽起她的手，十指緊扣走到馬路上，還貼心幫她穿好外套，摟著她的腰等計程車。骨感妹走出餐廳外講電話，臉上流露幸福模樣。小倆口在計程車內頭靠在一起，不時隔著口罩接吻，隨後來到通化街巷內的酒吧續攤，互動宛如熱戀中的情人。小倆口點好酒開始暢聊談心，1個多小時後，兩人逐漸喝開，動作也開始放開，無法自已的牽起手來，並放到大腿上；接著她從頭開始向下撫摸至他的臉龐，順勢摸著嘴唇調情，深情地彼此凝視。接著連勝武向服務生說「再一杯」，兩人續杯暢飲，依然十指緊扣，並磨起鼻子，然後親吻臉頰，再聊了一下便熱烈地接吻起來。之後喝茫的骨感妹邊聊邊掉下眼淚，連勝武見狀抿嘴流露出不捨的神情，並拿起面紙幫她拭淚，她被安慰後反而更激動地說著，連勝武見狀立刻又拿面紙替她拭淚，並輕撫她的臉。連勝武前來餐廳帶骨感妹離開，2人十指緊扣如膠似漆。凌晨2點多，不勝酒力的骨感妹突然起身飛奔至洗手間狂吐，廁所一片狼藉滿地穢物，不知情的連勝武坐在座位上滑手機回訊息，她回座之後，小倆口繼續牽著手談心。不到10分鐘，她再度起身，此時連勝武才驚覺有異，問她：「妳還好嗎？」骨感妹二度到女廁嘔吐，頻頻發出乾嘔的聲音，連勝武起身埋單，她返回後，兩人又聊了一會兒才離開酒吧。連勝武與骨感妹上了計程車後戴上口罩，只見她將頭靠在連勝武的肩上，他也沉醉在她的溫柔鄉，看似自然地在車內隔著口罩親吻彼此。酒意未退的2人持續在車內溫存，她撫摸著連勝武的臉龐，連勝武索性將口罩脫下，忘情地激吻一陣，才又將口罩戴上。2人在女方位於中山區的住處附近下車，連勝武隨即從她身後環抱，扶著她的側胸一路走進巷內，就連在公寓門前找鑰匙時仍緊抱著。骨感妹開門後，連勝武也跟著一起入內。沒多久一輛計程車駛來，等了20幾分鐘沒人下樓便開走，直到23日清晨4點左右都未見連勝武從該公寓正門離開。對於連勝武外面行為，路永佳表示，事前沒有感受先生的生活有狀況，「但確實因疫情關係，大家都沒辦法出國，朋友都喜歡連勝武，他也愛熱鬧，所以飯局變多了，交際也變得越來越複雜，而我忙小孩，也不太干涉他，所以不知道發生什麼事情。」即便看到、聽到先生與女生過從甚密的訊息，路永佳的語氣冷靜、態度包容展現高EQ：「如果是他做了什麼事情，我必須跟他一起面對，他要出來自己負責，可是因為家是我們的，所以家裡的部分我要面對，我也不能逃避。我不知道這個（兩人關係）程度是到什麼程度，現在講離婚太突然了，我沒有辦法說，畢竟我們還有三個小孩，先看看狀況，以三個小孩為重」最後她還是為先生緩頰，「他的人緣很好，朋友都喜歡他，他也愛熱鬧。他是一個很好的人，對我也很好，他是一個很好的先生，認識他和我的朋友都知道的；至於當爸爸的部分，需要多努力一下，但是他對小孩也不錯啦。」連勝武摟著骨感妹的小蠻腰在路口等計程車。連勝武與骨感妹在計程車內耳鬢廝磨，不時隔著口罩接吻。連勝武與骨感妹到通化街巷內酒吧續攤。骨感妹從連勝武的額頭輕撫到他的嘴唇。連勝武與骨感妹情到深處，無法自己的熱吻起來。黃湯下肚，骨感妹大吐苦水邊講邊哭，連勝武面露不捨替她拭淚。連勝武埋單後，與骨感妹離開酒吧。連勝武扶著骨感妹一同搭上計程車。骨感妹（後）靠在連勝武肩上，輕撫他臉龐。連勝武摟著骨感妹在中山區下車。連勝武攙扶著骨感妹，一同走向張女住處。連勝武（前）與骨感妹一起走進女方家門，直至清晨未見他離去。連勝武和路永佳結婚11年。連勝武和路永佳結婚11年。'\n",
    "model = Word2Vec(sentences_raw, sg=1, size=250,  window=5,  min_count=1,  negative=3, sample=0.001, hs=1, workers=4)  "
   ]
  },
  {
   "cell_type": "code",
   "execution_count": 2,
   "metadata": {},
   "outputs": [
    {
     "data": {
      "text/plain": [
       "522"
      ]
     },
     "execution_count": 2,
     "metadata": {},
     "output_type": "execute_result"
    }
   ],
   "source": [
    "len(model.wv.index2word)"
   ]
  },
  {
   "cell_type": "code",
   "execution_count": 3,
   "metadata": {},
   "outputs": [
    {
     "name": "stdout",
     "output_type": "stream",
     "text": [
      "妹\n",
      "著\n",
      "一\n",
      "他\n",
      "人\n",
      "不\n",
      "到\n",
      "情\n",
      "車\n",
      "口\n",
      "後\n"
     ]
    }
   ],
   "source": [
    "# 檢視字詞\n",
    "for i in range(9,20):\n",
    "    print(model.wv.index2word[i])"
   ]
  },
  {
   "cell_type": "code",
   "execution_count": 4,
   "metadata": {},
   "outputs": [
    {
     "name": "stderr",
     "output_type": "stream",
     "text": [
      "D:\\Anaconda3\\lib\\site-packages\\ipykernel_launcher.py:1: DeprecationWarning: Call to deprecated `__getitem__` (Method will be removed in 4.0.0, use self.wv.__getitem__() instead).\n",
      "  \"\"\"Entry point for launching an IPython kernel.\n"
     ]
    },
    {
     "data": {
      "text/plain": [
       "array([-1.7949782e-03, -1.2461718e-03, -1.5766241e-03,  1.9535627e-03,\n",
       "        1.7471313e-03, -1.8572459e-03,  1.5724741e-03, -1.8176987e-03,\n",
       "       -3.0904743e-04,  1.8574044e-04, -1.6251500e-03, -1.4588892e-03,\n",
       "       -8.1168761e-04, -1.7675897e-03,  1.1630853e-03, -1.7692036e-03,\n",
       "        7.4888836e-04,  4.1992177e-04, -1.7930850e-04,  1.4886686e-03,\n",
       "       -1.4293054e-03, -1.8114827e-03,  1.3400569e-03, -9.8771381e-04,\n",
       "        5.7287520e-04,  1.8858287e-03,  6.6864042e-04,  6.5233104e-04,\n",
       "       -1.8636630e-03,  5.9006538e-04,  2.0712326e-04, -4.0441073e-04,\n",
       "        1.6341800e-03, -1.7758164e-03,  2.0429754e-04,  1.7850052e-03,\n",
       "        7.7052385e-04, -1.5735216e-03,  5.1568745e-04, -1.3533053e-03,\n",
       "       -1.7080347e-03, -1.6521226e-03,  1.4789554e-03,  7.2403607e-04,\n",
       "        1.3599575e-03,  1.1410867e-03, -1.4108787e-03, -1.1883867e-03,\n",
       "       -1.8731265e-03,  7.4646570e-04, -5.0212367e-04, -6.5935514e-04,\n",
       "        1.6013201e-03, -1.4073316e-03, -1.4279857e-03, -1.2483587e-03,\n",
       "        1.4915034e-03,  4.9176818e-04, -1.4728245e-03, -1.2915609e-03,\n",
       "       -2.7857645e-04, -6.7620759e-04, -6.6976936e-05,  1.2497586e-03,\n",
       "        1.9038514e-03,  1.0184298e-03, -8.1234210e-04,  1.9721054e-03,\n",
       "        8.5676846e-04,  1.1030737e-03,  1.0142013e-03, -9.9190795e-05,\n",
       "        1.5194078e-03, -1.7794271e-03,  6.7819038e-04,  1.7851612e-03,\n",
       "       -1.0955181e-03, -4.5860748e-04,  9.5219491e-04, -1.9472226e-03,\n",
       "        1.1396734e-03,  1.1844169e-03,  8.5268359e-05, -1.7215571e-03,\n",
       "        6.1165442e-04,  1.5234381e-03, -8.5438666e-04,  1.5697833e-03,\n",
       "       -3.9517335e-04, -6.6626078e-04, -5.2605290e-04,  3.6059317e-04,\n",
       "       -9.2647731e-04, -1.8486859e-03,  6.6707574e-04, -1.5707377e-03,\n",
       "        7.5981946e-04,  1.8065830e-03,  1.4572589e-03, -5.9342833e-04,\n",
       "       -2.4716122e-04,  9.9409302e-04, -1.5410104e-04,  1.8958438e-03,\n",
       "       -2.4417747e-04, -1.6954854e-03,  1.9611081e-03, -2.7220367e-04,\n",
       "        1.1604469e-03,  9.9537974e-05,  1.4807057e-03, -6.5032789e-04,\n",
       "       -1.5154957e-04, -1.8666218e-03, -5.3280429e-04,  1.5986398e-03,\n",
       "        3.7902230e-04, -9.4658317e-04,  6.7531335e-04,  1.6818702e-03,\n",
       "       -1.8678125e-03,  2.7050707e-04,  1.0380049e-03,  1.6168988e-03,\n",
       "       -1.0024772e-03, -3.7145583e-04,  5.3070928e-04, -1.4246912e-03,\n",
       "       -1.2890084e-03, -1.7114346e-03,  1.3218767e-03, -1.5040946e-03,\n",
       "       -2.5333674e-04,  2.5084548e-04,  1.5905652e-03, -1.5906392e-03,\n",
       "        5.5568514e-04,  7.9935975e-04, -8.5645920e-04, -8.5504854e-04,\n",
       "        1.3441276e-03, -1.8391300e-03,  1.1409546e-04,  1.5864440e-03,\n",
       "        6.1725493e-04, -1.5707558e-03, -1.1196325e-03,  2.3310882e-04,\n",
       "        5.6324783e-04, -4.1816107e-04, -1.5867586e-03, -1.0564232e-03,\n",
       "        1.5684020e-03, -1.7099935e-03, -1.7225750e-03,  1.5716992e-04,\n",
       "       -4.0327082e-04,  1.3221923e-03, -5.0209514e-05,  1.6406926e-03,\n",
       "        1.4306346e-03,  1.1740392e-03, -1.2005966e-03,  1.6293444e-03,\n",
       "       -1.2859672e-03, -7.8684016e-04,  3.5014650e-04,  1.8068913e-03,\n",
       "        3.1180985e-04,  1.2177193e-03,  1.8707801e-03, -1.7967939e-03,\n",
       "        5.5225630e-04,  2.5034184e-04,  6.0473136e-05, -1.8252243e-03,\n",
       "        4.5919145e-04, -1.8277945e-03,  4.6012501e-04,  1.3881245e-04,\n",
       "        3.4138485e-04, -1.6190214e-03,  2.5413108e-05, -1.3293971e-03,\n",
       "       -9.2394860e-04, -1.7171385e-03, -6.8431924e-04,  1.2005107e-03,\n",
       "        7.0529431e-04, -1.0078407e-03, -4.0967047e-04,  1.7639986e-03,\n",
       "       -1.6766931e-03, -1.4818724e-03, -3.6957953e-04,  1.9096398e-03,\n",
       "       -1.9245609e-03,  2.0925369e-05,  1.6215628e-03, -1.2439720e-03,\n",
       "       -4.5149357e-04,  3.2625141e-04, -1.9593793e-04,  1.7298822e-04,\n",
       "        1.7103336e-03, -1.1278142e-03, -5.3771638e-04, -1.8046532e-03,\n",
       "       -1.5688065e-03,  3.7015558e-04,  1.8224278e-03, -2.1698736e-04,\n",
       "       -3.4300354e-04,  1.9728523e-03,  7.2888733e-04, -1.2365417e-03,\n",
       "        1.2983572e-04,  1.0896308e-03,  1.2510774e-03,  2.8285268e-04,\n",
       "        2.7368977e-04, -1.5737226e-03, -1.6123043e-04, -1.2283513e-03,\n",
       "       -1.5368985e-03,  5.1172019e-04, -2.4855512e-04,  1.1062520e-03,\n",
       "       -3.3885878e-04,  1.2690278e-03, -1.3303510e-03,  9.3543960e-04,\n",
       "       -1.4236533e-03, -1.1223707e-03, -8.8204816e-04,  1.9563856e-03,\n",
       "       -1.4965815e-04,  1.8022832e-03,  8.2931633e-04,  9.9743798e-04,\n",
       "       -6.8573345e-04, -2.9261803e-04,  6.6291199e-05,  2.3986748e-04,\n",
       "        5.1976149e-05,  1.4867472e-03,  1.2273856e-03, -1.0820180e-03,\n",
       "       -1.0684388e-03,  6.1755191e-04], dtype=float32)"
      ]
     },
     "execution_count": 4,
     "metadata": {},
     "output_type": "execute_result"
    }
   ],
   "source": [
    "vector = model['妹']\n",
    "vector"
   ]
  },
  {
   "cell_type": "code",
   "execution_count": 14,
   "metadata": {},
   "outputs": [
    {
     "name": "stdout",
     "output_type": "stream",
     "text": [
      "藥, 0.17\n",
      "直, 0.17\n",
      "唇, 0.16\n",
      "水, 0.16\n",
      "麼, 0.15\n"
     ]
    },
    {
     "name": "stderr",
     "output_type": "stream",
     "text": [
      "D:\\Anaconda3\\lib\\site-packages\\ipykernel_launcher.py:2: DeprecationWarning: Call to deprecated `most_similar` (Method will be removed in 4.0.0, use self.wv.most_similar() instead).\n",
      "  \n"
     ]
    }
   ],
   "source": [
    "# 顯示空間和字距離相近的字\n",
    "res = model.most_similar('妹', topn=100)  # 此字有出現在 corpus 當中\n",
    "for item in res[:5]:\n",
    "    print(\"{}, {}\".format(item[0], str(round(item[1], 2))) )"
   ]
  },
  {
   "cell_type": "code",
   "execution_count": 15,
   "metadata": {},
   "outputs": [
    {
     "name": "stderr",
     "output_type": "stream",
     "text": [
      "D:\\Anaconda3\\lib\\site-packages\\ipykernel_launcher.py:2: DeprecationWarning: Call to deprecated `__getitem__` (Method will be removed in 4.0.0, use self.wv.__getitem__() instead).\n",
      "  \n"
     ]
    },
    {
     "ename": "KeyError",
     "evalue": "\"word '婚外情' not in vocabulary\"",
     "output_type": "error",
     "traceback": [
      "\u001b[1;31m---------------------------------------------------------------------------\u001b[0m",
      "\u001b[1;31mKeyError\u001b[0m                                  Traceback (most recent call last)",
      "\u001b[1;32m<ipython-input-15-d85c5c02806d>\u001b[0m in \u001b[0;36m<module>\u001b[1;34m\u001b[0m\n\u001b[0;32m      1\u001b[0m \u001b[1;31m# word '婚外情' not in vocabulary\u001b[0m\u001b[1;33m\u001b[0m\u001b[1;33m\u001b[0m\u001b[1;33m\u001b[0m\u001b[0m\n\u001b[1;32m----> 2\u001b[1;33m \u001b[0mvector\u001b[0m \u001b[1;33m=\u001b[0m \u001b[0mmodel\u001b[0m\u001b[1;33m[\u001b[0m\u001b[1;34m'婚外情'\u001b[0m\u001b[1;33m]\u001b[0m\u001b[1;33m\u001b[0m\u001b[1;33m\u001b[0m\u001b[0m\n\u001b[0m",
      "\u001b[1;32mD:\\Anaconda3\\lib\\site-packages\\gensim\\utils.py\u001b[0m in \u001b[0;36mnew_func1\u001b[1;34m(*args, **kwargs)\u001b[0m\n\u001b[0;32m   1445\u001b[0m                     \u001b[0mstacklevel\u001b[0m\u001b[1;33m=\u001b[0m\u001b[1;36m2\u001b[0m\u001b[1;33m\u001b[0m\u001b[1;33m\u001b[0m\u001b[0m\n\u001b[0;32m   1446\u001b[0m                 )\n\u001b[1;32m-> 1447\u001b[1;33m                 \u001b[1;32mreturn\u001b[0m \u001b[0mfunc\u001b[0m\u001b[1;33m(\u001b[0m\u001b[1;33m*\u001b[0m\u001b[0margs\u001b[0m\u001b[1;33m,\u001b[0m \u001b[1;33m**\u001b[0m\u001b[0mkwargs\u001b[0m\u001b[1;33m)\u001b[0m\u001b[1;33m\u001b[0m\u001b[1;33m\u001b[0m\u001b[0m\n\u001b[0m\u001b[0;32m   1448\u001b[0m \u001b[1;33m\u001b[0m\u001b[0m\n\u001b[0;32m   1449\u001b[0m             \u001b[1;32mreturn\u001b[0m \u001b[0mnew_func1\u001b[0m\u001b[1;33m\u001b[0m\u001b[1;33m\u001b[0m\u001b[0m\n",
      "\u001b[1;32mD:\\Anaconda3\\lib\\site-packages\\gensim\\models\\word2vec.py\u001b[0m in \u001b[0;36m__getitem__\u001b[1;34m(self, words)\u001b[0m\n\u001b[0;32m   1119\u001b[0m \u001b[1;33m\u001b[0m\u001b[0m\n\u001b[0;32m   1120\u001b[0m         \"\"\"\n\u001b[1;32m-> 1121\u001b[1;33m         \u001b[1;32mreturn\u001b[0m \u001b[0mself\u001b[0m\u001b[1;33m.\u001b[0m\u001b[0mwv\u001b[0m\u001b[1;33m.\u001b[0m\u001b[0m__getitem__\u001b[0m\u001b[1;33m(\u001b[0m\u001b[0mwords\u001b[0m\u001b[1;33m)\u001b[0m\u001b[1;33m\u001b[0m\u001b[1;33m\u001b[0m\u001b[0m\n\u001b[0m\u001b[0;32m   1122\u001b[0m \u001b[1;33m\u001b[0m\u001b[0m\n\u001b[0;32m   1123\u001b[0m     \u001b[1;33m@\u001b[0m\u001b[0mdeprecated\u001b[0m\u001b[1;33m(\u001b[0m\u001b[1;34m\"Method will be removed in 4.0.0, use self.wv.__contains__() instead\"\u001b[0m\u001b[1;33m)\u001b[0m\u001b[1;33m\u001b[0m\u001b[1;33m\u001b[0m\u001b[0m\n",
      "\u001b[1;32mD:\\Anaconda3\\lib\\site-packages\\gensim\\models\\keyedvectors.py\u001b[0m in \u001b[0;36m__getitem__\u001b[1;34m(self, entities)\u001b[0m\n\u001b[0;32m    351\u001b[0m         \u001b[1;32mif\u001b[0m \u001b[0misinstance\u001b[0m\u001b[1;33m(\u001b[0m\u001b[0mentities\u001b[0m\u001b[1;33m,\u001b[0m \u001b[0mstring_types\u001b[0m\u001b[1;33m)\u001b[0m\u001b[1;33m:\u001b[0m\u001b[1;33m\u001b[0m\u001b[1;33m\u001b[0m\u001b[0m\n\u001b[0;32m    352\u001b[0m             \u001b[1;31m# allow calls like trained_model['office'], as a shorthand for trained_model[['office']]\u001b[0m\u001b[1;33m\u001b[0m\u001b[1;33m\u001b[0m\u001b[1;33m\u001b[0m\u001b[0m\n\u001b[1;32m--> 353\u001b[1;33m             \u001b[1;32mreturn\u001b[0m \u001b[0mself\u001b[0m\u001b[1;33m.\u001b[0m\u001b[0mget_vector\u001b[0m\u001b[1;33m(\u001b[0m\u001b[0mentities\u001b[0m\u001b[1;33m)\u001b[0m\u001b[1;33m\u001b[0m\u001b[1;33m\u001b[0m\u001b[0m\n\u001b[0m\u001b[0;32m    354\u001b[0m \u001b[1;33m\u001b[0m\u001b[0m\n\u001b[0;32m    355\u001b[0m         \u001b[1;32mreturn\u001b[0m \u001b[0mvstack\u001b[0m\u001b[1;33m(\u001b[0m\u001b[1;33m[\u001b[0m\u001b[0mself\u001b[0m\u001b[1;33m.\u001b[0m\u001b[0mget_vector\u001b[0m\u001b[1;33m(\u001b[0m\u001b[0mentity\u001b[0m\u001b[1;33m)\u001b[0m \u001b[1;32mfor\u001b[0m \u001b[0mentity\u001b[0m \u001b[1;32min\u001b[0m \u001b[0mentities\u001b[0m\u001b[1;33m]\u001b[0m\u001b[1;33m)\u001b[0m\u001b[1;33m\u001b[0m\u001b[1;33m\u001b[0m\u001b[0m\n",
      "\u001b[1;32mD:\\Anaconda3\\lib\\site-packages\\gensim\\models\\keyedvectors.py\u001b[0m in \u001b[0;36mget_vector\u001b[1;34m(self, word)\u001b[0m\n\u001b[0;32m    469\u001b[0m \u001b[1;33m\u001b[0m\u001b[0m\n\u001b[0;32m    470\u001b[0m     \u001b[1;32mdef\u001b[0m \u001b[0mget_vector\u001b[0m\u001b[1;33m(\u001b[0m\u001b[0mself\u001b[0m\u001b[1;33m,\u001b[0m \u001b[0mword\u001b[0m\u001b[1;33m)\u001b[0m\u001b[1;33m:\u001b[0m\u001b[1;33m\u001b[0m\u001b[1;33m\u001b[0m\u001b[0m\n\u001b[1;32m--> 471\u001b[1;33m         \u001b[1;32mreturn\u001b[0m \u001b[0mself\u001b[0m\u001b[1;33m.\u001b[0m\u001b[0mword_vec\u001b[0m\u001b[1;33m(\u001b[0m\u001b[0mword\u001b[0m\u001b[1;33m)\u001b[0m\u001b[1;33m\u001b[0m\u001b[1;33m\u001b[0m\u001b[0m\n\u001b[0m\u001b[0;32m    472\u001b[0m \u001b[1;33m\u001b[0m\u001b[0m\n\u001b[0;32m    473\u001b[0m     \u001b[1;32mdef\u001b[0m \u001b[0mwords_closer_than\u001b[0m\u001b[1;33m(\u001b[0m\u001b[0mself\u001b[0m\u001b[1;33m,\u001b[0m \u001b[0mw1\u001b[0m\u001b[1;33m,\u001b[0m \u001b[0mw2\u001b[0m\u001b[1;33m)\u001b[0m\u001b[1;33m:\u001b[0m\u001b[1;33m\u001b[0m\u001b[1;33m\u001b[0m\u001b[0m\n",
      "\u001b[1;32mD:\\Anaconda3\\lib\\site-packages\\gensim\\models\\keyedvectors.py\u001b[0m in \u001b[0;36mword_vec\u001b[1;34m(self, word, use_norm)\u001b[0m\n\u001b[0;32m    466\u001b[0m             \u001b[1;32mreturn\u001b[0m \u001b[0mresult\u001b[0m\u001b[1;33m\u001b[0m\u001b[1;33m\u001b[0m\u001b[0m\n\u001b[0;32m    467\u001b[0m         \u001b[1;32melse\u001b[0m\u001b[1;33m:\u001b[0m\u001b[1;33m\u001b[0m\u001b[1;33m\u001b[0m\u001b[0m\n\u001b[1;32m--> 468\u001b[1;33m             \u001b[1;32mraise\u001b[0m \u001b[0mKeyError\u001b[0m\u001b[1;33m(\u001b[0m\u001b[1;34m\"word '%s' not in vocabulary\"\u001b[0m \u001b[1;33m%\u001b[0m \u001b[0mword\u001b[0m\u001b[1;33m)\u001b[0m\u001b[1;33m\u001b[0m\u001b[1;33m\u001b[0m\u001b[0m\n\u001b[0m\u001b[0;32m    469\u001b[0m \u001b[1;33m\u001b[0m\u001b[0m\n\u001b[0;32m    470\u001b[0m     \u001b[1;32mdef\u001b[0m \u001b[0mget_vector\u001b[0m\u001b[1;33m(\u001b[0m\u001b[0mself\u001b[0m\u001b[1;33m,\u001b[0m \u001b[0mword\u001b[0m\u001b[1;33m)\u001b[0m\u001b[1;33m:\u001b[0m\u001b[1;33m\u001b[0m\u001b[1;33m\u001b[0m\u001b[0m\n",
      "\u001b[1;31mKeyError\u001b[0m: \"word '婚外情' not in vocabulary\""
     ]
    }
   ],
   "source": [
    "# word '婚外情' not in vocabulary\n",
    "vector = model['婚外情']"
   ]
  },
  {
   "cell_type": "code",
   "execution_count": 16,
   "metadata": {},
   "outputs": [
    {
     "name": "stderr",
     "output_type": "stream",
     "text": [
      "D:\\Anaconda3\\lib\\site-packages\\ipykernel_launcher.py:2: DeprecationWarning: Call to deprecated `similarity` (Method will be removed in 4.0.0, use self.wv.similarity() instead).\n",
      "  \n"
     ]
    },
    {
     "data": {
      "text/plain": [
       "0.0103410585"
      ]
     },
     "execution_count": 16,
     "metadata": {},
     "output_type": "execute_result"
    }
   ],
   "source": [
    "# 計算兩字的相似度\n",
    "model.similarity('妹', '吻')"
   ]
  },
  {
   "cell_type": "markdown",
   "metadata": {},
   "source": [
    "<a id=\"word2vec_keyword\"></a>\n",
    "## Word2vec 轉成高維空間向量 - 以詞彙為單位"
   ]
  },
  {
   "cell_type": "code",
   "execution_count": 17,
   "metadata": {},
   "outputs": [
    {
     "name": "stderr",
     "output_type": "stream",
     "text": [
      "Building prefix dict from the default dictionary ...\n",
      "Loading model from cache C:\\Users\\princ\\AppData\\Local\\Temp\\jieba.cache\n",
      "Loading model cost 0.708 seconds.\n",
      "Prefix dict has been built succesfully.\n"
     ]
    }
   ],
   "source": [
    "import jieba\n",
    "\n",
    "jieba.initialize()\n",
    "jieba.load_userdict('dict/mydic.txt')"
   ]
  },
  {
   "cell_type": "code",
   "execution_count": 18,
   "metadata": {},
   "outputs": [],
   "source": [
    "def jiebaCut(x):\n",
    "    punct = set(u''' :!),.:;?]}$¢'\"、。〉》」』】〕〗〞︰︱︳﹐､﹒﹔﹕﹖﹗﹚﹜﹞！），．：；？｜｝︴︶︸︺︼︾﹀﹂﹄﹏､～￠々‖•·ˇˉ―--′’”([{£¥'\"‵〈《「『【〔〖（［｛￡￥〝︵︷︹︻︽︿﹁﹃﹙﹛﹝（｛“‘-—_…''')\n",
    "    # punct |= set(exception)\n",
    "    words = [word.strip().replace('\\n','') for word in jieba.cut(x, cut_all=False) if (len(word.strip()) >= 2) and ( not any(ext in word for ext in punct) )]\n",
    "    return words\n",
    "\n",
    "sentences_list = []\n",
    "sentences_list.append(sentences_raw)\n",
    "sentences_list.append('日前蔡依珊出席時尚活動，提及小叔連勝武約會骨感妹被拍到，近期是否成為家人聊天之間關心的話題？蔡依珊正色表示，「因為我不是當事人，真的不便做評論。」接著被問到自己有沒有什麼經營婚姻之道，可以避免野花的出現，她表示，「不敢說自己有什麽婚姻經營之道，就是把自己顧好，夫妻互相尊重。」關於把自己顧好的部分，也不是說要維持在最佳巔峰狀態，「那樣真的太累了，其實就是吃好、睡好，也不用給自己太大壓力，看心情吧，想放鬆就放鬆，想打扮的時候也可以好好的打理一番，不用說很刻意。」')\n",
    "sentences_list.append('連家小兒子連勝武爆出婚外情，哥哥連勝文今天(1/30)到內湖參加單車公益活動時，不斷被媒體追問，對於弟弟外遇的事情，連勝文：「(家人知道嗎？) 呃...應該會知道吧。我沒有聽說(父親知道)什麼東西，因為我只有跟我弟弟說，希望他未來能夠謹言慎行。」')\n",
    "\n",
    "sentences = list(map(jiebaCut, sentences_list))\n",
    "model = Word2Vec(sentences, size=250,  window=5,  min_count=1,  negative=3, workers=4)"
   ]
  },
  {
   "cell_type": "code",
   "execution_count": 19,
   "metadata": {},
   "outputs": [
    {
     "data": {
      "text/plain": [
       "449"
      ]
     },
     "execution_count": 19,
     "metadata": {},
     "output_type": "execute_result"
    }
   ],
   "source": [
    "len(model.wv.index2word)"
   ]
  },
  {
   "cell_type": "code",
   "execution_count": 20,
   "metadata": {},
   "outputs": [
    {
     "data": {
      "text/plain": [
       "array([[-1.9739293e-03, -1.6404660e-03,  1.3326459e-03, ...,\n",
       "        -1.7136821e-05, -2.0090824e-03,  1.8703668e-04],\n",
       "       [-1.5786896e-03,  9.0298452e-04, -1.1577907e-03, ...,\n",
       "         1.1557548e-03,  9.9379336e-04, -1.7935510e-03],\n",
       "       [-6.6615292e-04,  1.0790558e-03,  4.2394520e-04, ...,\n",
       "        -9.9070638e-04, -3.8672163e-04, -1.1404554e-03],\n",
       "       ...,\n",
       "       [ 1.7132302e-03, -2.9933444e-04, -1.9530570e-03, ...,\n",
       "        -1.4407132e-03, -1.2370271e-03,  7.8031677e-04],\n",
       "       [ 1.7427499e-03, -4.7618491e-04,  8.1199854e-05, ...,\n",
       "        -7.5259717e-04, -1.0728630e-04,  1.7445704e-03],\n",
       "       [-6.0563965e-04,  5.5704114e-04,  1.2025083e-03, ...,\n",
       "         8.8062504e-04,  1.6316262e-03,  1.5058012e-03]], dtype=float32)"
      ]
     },
     "execution_count": 20,
     "metadata": {},
     "output_type": "execute_result"
    }
   ],
   "source": [
    "#文字以向量形式呈現\n",
    "model.wv.vectors"
   ]
  },
  {
   "cell_type": "code",
   "execution_count": 21,
   "metadata": {},
   "outputs": [
    {
     "name": "stdout",
     "output_type": "stream",
     "text": [
      "連勝武\n",
      "骨感妹\n",
      "口罩\n",
      "自己\n",
      "路永佳\n",
      "餐廳\n",
      "知道\n",
      "什麼\n",
      "十指\n",
      "緊扣\n"
     ]
    }
   ],
   "source": [
    "for x in model.wv.index2word[:10]:\n",
    "    print(x)"
   ]
  },
  {
   "cell_type": "code",
   "execution_count": 22,
   "metadata": {},
   "outputs": [
    {
     "name": "stdout",
     "output_type": "stream",
     "text": [
      "談心, 0.17\n",
      "深情, 0.16\n",
      "起來, 0.15\n",
      "左右, 0.15\n",
      "牽著手, 0.14\n",
      "點半, 0.14\n",
      "先生, 0.13\n",
      "眼淚, 0.13\n",
      "前來, 0.12\n",
      "路上, 0.12\n"
     ]
    },
    {
     "name": "stderr",
     "output_type": "stream",
     "text": [
      "D:\\Anaconda3\\lib\\site-packages\\ipykernel_launcher.py:2: DeprecationWarning: Call to deprecated `most_similar` (Method will be removed in 4.0.0, use self.wv.most_similar() instead).\n",
      "  \n"
     ]
    }
   ],
   "source": [
    "# 顯示空間和字距離相近的詞彙\n",
    "res = model.most_similar('骨感妹', topn=100)  # 此詞彙有出現在 corpus 當中\n",
    "for item in res[:10]:\n",
    "    print(\"{}, {}\".format(item[0], str(round(item[1], 2))) )"
   ]
  },
  {
   "cell_type": "code",
   "execution_count": 23,
   "metadata": {},
   "outputs": [
    {
     "name": "stdout",
     "output_type": "stream",
     "text": [
      "-0.07379925\n"
     ]
    },
    {
     "name": "stderr",
     "output_type": "stream",
     "text": [
      "D:\\Anaconda3\\lib\\site-packages\\ipykernel_launcher.py:2: DeprecationWarning: Call to deprecated `similarity` (Method will be removed in 4.0.0, use self.wv.similarity() instead).\n",
      "  \n"
     ]
    }
   ],
   "source": [
    "# 計算 兩詞彙 Cosine 相似度\n",
    "res = model.similarity('連勝武', '骨感妹')\n",
    "print(res)"
   ]
  },
  {
   "cell_type": "code",
   "execution_count": 24,
   "metadata": {},
   "outputs": [
    {
     "name": "stdout",
     "output_type": "stream",
     "text": [
      "-0.024684161\n"
     ]
    },
    {
     "name": "stderr",
     "output_type": "stream",
     "text": [
      "D:\\Anaconda3\\lib\\site-packages\\ipykernel_launcher.py:1: DeprecationWarning: Call to deprecated `similarity` (Method will be removed in 4.0.0, use self.wv.similarity() instead).\n",
      "  \"\"\"Entry point for launching an IPython kernel.\n"
     ]
    }
   ],
   "source": [
    "res = model.similarity('連勝武', '路永佳')\n",
    "print(res)"
   ]
  },
  {
   "cell_type": "code",
   "execution_count": 28,
   "metadata": {},
   "outputs": [
    {
     "name": "stdout",
     "output_type": "stream",
     "text": [
      "不用, 0.24\n",
      "深情, 0.18\n",
      "為重, 0.17\n",
      "所以, 0.16\n",
      "返回, 0.14\n",
      "內耳鬢, 0.14\n",
      "十指, 0.13\n",
      "還貼, 0.13\n",
      "只見, 0.13\n",
      "小時, 0.13\n"
     ]
    },
    {
     "name": "stderr",
     "output_type": "stream",
     "text": [
      "D:\\Anaconda3\\lib\\site-packages\\ipykernel_launcher.py:2: DeprecationWarning: Call to deprecated `most_similar` (Method will be removed in 4.0.0, use self.wv.most_similar() instead).\n",
      "  \n"
     ]
    }
   ],
   "source": [
    "# 顯示空間和字距離相近的詞彙\n",
    "res = model.most_similar('連勝武', topn=100)  # 此詞彙有出現在 corpus 當中\n",
    "for item in res[:10]:\n",
    "    print(\"{}, {}\".format(item[0], str(round(item[1], 2))) )"
   ]
  },
  {
   "cell_type": "code",
   "execution_count": 40,
   "metadata": {},
   "outputs": [
    {
     "name": "stdout",
     "output_type": "stream",
     "text": [
      "0.12965415\n"
     ]
    },
    {
     "name": "stderr",
     "output_type": "stream",
     "text": [
      "D:\\Anaconda3\\lib\\site-packages\\ipykernel_launcher.py:2: DeprecationWarning: Call to deprecated `similarity` (Method will be removed in 4.0.0, use self.wv.similarity() instead).\n",
      "  \n"
     ]
    }
   ],
   "source": [
    "# 計算 兩詞彙 Cosine 相似度\n",
    "res = model.similarity('連勝武', '十指')\n",
    "print(res)"
   ]
  },
  {
   "cell_type": "code",
   "execution_count": 50,
   "metadata": {},
   "outputs": [
    {
     "name": "stdout",
     "output_type": "stream",
     "text": [
      "溫柔, 0.18\n",
      "深處, 0.17\n",
      "邊講邊, 0.17\n",
      "緩頰, 0.17\n",
      "附近, 0.15\n",
      "過從, 0.14\n",
      "疫情, 0.14\n",
      "關心, 0.14\n",
      "好好, 0.14\n",
      "展現, 0.14\n"
     ]
    }
   ],
   "source": [
    "res = model.most_similar('婚外情', topn=100)  # 此詞彙有出現在 corpus 當中\n",
    "for item in res[:10]:\n",
    "    print(\"{}, {}\".format(item[0], str(round(item[1], 2))) )"
   ]
  },
  {
   "cell_type": "markdown",
   "metadata": {},
   "source": [
    "### 重新校稿一次，這次將他與她替換為人名\n",
    "「連勝武」與「骨感妹」空間距離為負，反倒是與妻子路永佳距離為正，回顧新聞描述，大多以人名加上第三人稱組成一句，所以懷疑是否是Word2vec學不會主動詞，所以再手動將文章中的他與她置換為人名，重新訓練。"
   ]
  },
  {
   "cell_type": "code",
   "execution_count": 33,
   "metadata": {},
   "outputs": [],
   "source": [
    "sentences_revised = '47歲的國民黨榮譽主席連戰二公子連勝武，2009年與相戀4年的華航空姐路永佳結婚，育有1子2女，夫妻倆人前恩愛，堪稱名人界的模範夫妻，但22日《蘋果新聞網》直擊連勝武爆出婚外情，連勝武外遇對象是身高約170公分的骨感妹！當天骨感妹與藝人朋友聚餐，連勝武獨自搭車去找骨感妹，小倆口十指緊扣步出餐廳，連勝武摟著骨感妹的腰上車轉赴酒吧續攤，酒酣耳熱之際，兩人深情撫摸著對方臉龐擁吻，喝茫的骨感妹不知傾吐什麼，哭成淚人兒，連勝武露出疼惜之情拿面紙幫骨感妹拭淚；凌晨2點多，不勝酒力的骨感妹到洗手間嘔吐，之後連勝武扶著骨感妹上車，一同返回骨感妹在中山區的住處過夜。路永佳今接受蘋果新聞網獨家專訪表示，「不知道兩人關係程度是到什麼程度」，路永佳冷靜回應：「路永佳必須跟連勝武一起面對 ，今天如果是他做了什麼事情，連勝武要自己出來負責，可是因為家是我們的，所以家裡的部分我要面對，我也不能逃避。」原先，路永佳答應蘋果，9點會請連勝武聯繫記者，但至截稿前尚未取得連勝武回應。 連勝武十指緊扣骨感妹走出餐廳。 上周五（22日）晚間8點多，記者目擊年約35歲的骨感妹，一身黑色系打扮，獨自前往內湖的高檔養生藥膳餐廳「福慧根湯」與賴薇如、熊熊等藝人聚會，烏黑長髮披肩、身高約170公分的骨感妹。用餐1小時後，骨感妹一臉開心地走出包廂到門口「煲電話粥」，言談時一臉幸福的模樣。晚間10點半，連勝武戴著口罩搭車到餐廳找骨感妹，深夜11點，連勝武與背著Chanel包的骨感妹邊戴起口罩邊步出餐廳，連勝武冷不防地隔著口罩親骨感妹的臉頰調情，連勝武再順勢牽起骨感妹的手，十指緊扣走到馬路上，連勝武還貼心幫骨感妹穿好外套，連勝武摟著骨感妹的腰等計程車。骨感妹走出餐廳外講電話，臉上流露幸福模樣。小倆口在計程車內頭靠在一起，不時隔著口罩接吻，隨後來到通化街巷內的酒吧續攤，互動宛如熱戀中的情人。小倆口點好酒開始暢聊談心，1個多小時後，兩人逐漸喝開，動作也開始放開，無法自已的牽起手來，並放到大腿上；接著她從頭開始向下撫摸至他的臉龐，順勢摸著嘴唇調情，連勝武與骨感妹深情地彼此凝視。接著連勝武向服務生說「再一杯」，兩人續杯暢飲，依然十指緊扣，並磨起鼻子，然後連勝武親吻骨感妹的臉頰，再聊了一下便熱烈地接吻起來。之後喝茫的骨感妹邊聊邊掉下眼淚，連勝武見狀抿嘴流露出不捨的神情，連勝武拿起面紙幫骨感妹拭淚，骨感妹被安慰後反而更激動地說著，連勝武見狀立刻又拿面紙替骨感妹拭淚，連勝武輕撫骨感妹的臉。連勝武前來餐廳帶骨感妹離開，2人十指緊扣如膠似漆。凌晨2點多，不勝酒力的骨感妹突然起身飛奔至洗手間狂吐，廁所一片狼藉滿地穢物，不知情的連勝武坐在座位上滑手機回訊息，骨感妹回座之後，小倆口繼續牽著手談心。不到10分鐘，骨感妹再度起身，此時連勝武才驚覺有異，問骨感妹：「妳還好嗎？」骨感妹二度到女廁嘔吐，頻頻發出乾嘔的聲音，連勝武起身埋單，骨感妹返回後，兩人又聊了一會兒才離開酒吧。連勝武與骨感妹上了計程車後戴上口罩，只見骨感妹將頭靠在連勝武的肩上，連勝武也沉醉在骨感妹的溫柔鄉，看似自然地在車內隔著口罩親吻彼此。酒意未退的2人持續在車內溫存，骨感妹撫摸著連勝武的臉龐，連勝武索性將口罩脫下，忘情地激吻一陣，才又將口罩戴上。2人在女方位於中山區的住處附近下車，連勝武隨即從骨感妹身後環抱，連勝武扶著骨感妹的側胸一路走進巷內，就連在公寓門前找鑰匙時仍緊抱著。骨感妹開門後，連勝武也跟著一起入內。沒多久一輛計程車駛來，等了20幾分鐘沒人下樓便開走，直到23日清晨4點左右都未見連勝武從該公寓正門離開。對於連勝武外面行為，路永佳表示，事前沒有感受先生的生活有狀況，「但確實因疫情關係，大家都沒辦法出國，朋友都喜歡連勝武，他也愛熱鬧，所以飯局變多了，交際也變得越來越複雜，而我忙小孩，也不太干涉他，所以不知道發生什麼事情。」即便看到、聽到先生與女生過從甚密的訊息，路永佳的語氣冷靜、態度包容展現高EQ：「如果是他做了什麼事情，我必須跟他一起面對，他要出來自己負責，可是因為家是我們的，所以家裡的部分我要面對，我也不能逃避。我不知道這個（兩人關係）程度是到什麼程度，現在講離婚太突然了，我沒有辦法說，畢竟我們還有三個小孩，先看看狀況，以三個小孩為重」最後她還是為先生緩頰，「他的人緣很好，朋友都喜歡他，他也愛熱鬧。他是一個很好的人，對我也很好，他是一個很好的先生，認識他和我的朋友都知道的；至於當爸爸的部分，需要多努力一下，但是他對小孩也不錯啦。」連勝武摟著骨感妹的小蠻腰在路口等計程車。連勝武與骨感妹在計程車內耳鬢廝磨，不時隔著口罩接吻。連勝武與骨感妹到通化街巷內酒吧續攤。骨感妹從連勝武的額頭輕撫到他的嘴唇。連勝武與骨感妹情到深處，無法自己的熱吻起來。黃湯下肚，骨感妹大吐苦水邊講邊哭，連勝武面露不捨替她拭淚。連勝武埋單後與骨感妹離開酒吧。連勝武扶著骨感妹一同搭上計程車。骨感妹（後）靠在連勝武肩上，輕撫他臉龐。連勝武摟著骨感妹在中山區下車。連勝武攙扶著骨感妹，一同走向張女住處。連勝武（前）與骨感妹一起走進女方家門，直至清晨未見他離去。連勝武和路永佳結婚11年。連勝武和路永佳結婚11年。日前蔡依珊出席時尚活動，提及小叔連勝武約會骨感妹被拍到，近期是否成為家人聊天之間關心的話題？蔡依珊正色表示，「因為我不是當事人，真的不便做評論。」接著被問到自己有沒有什麼經營婚姻之道，可以避免野花的出現，她表示，「不敢說自己有什麽婚姻經營之道，就是把自己顧好，夫妻互相尊重。」關於把自己顧好的部分，也不是說要維持在最佳巔峰狀態，「那樣真的太累了，其實就是吃好、睡好，也不用給自己太大壓力，看心情吧，想放鬆就放鬆，想打扮的時候也可以好好的打理一番，不用說很刻意。」連家小兒子連勝武爆出婚外情，哥哥連勝文今天(1/30)到內湖參加單車公益活動時，不斷被媒體追問，對於弟弟外遇的事情，連勝文：「(家人知道嗎？) 呃...應該會知道吧。我沒有聽說(父親知道)什麼東西，因為我只有跟我弟弟說，希望他未來能夠謹言慎行。」'\n",
    "sentences_revised_list = sentences_revised.split('，')\n",
    "sentences = list(map(jiebaCut, sentences_revised_list))"
   ]
  },
  {
   "cell_type": "code",
   "execution_count": 34,
   "metadata": {},
   "outputs": [
    {
     "data": {
      "text/plain": [
       "[['47', '國民黨', '榮譽', '主席', '連戰', '公子', '連勝武'],\n",
       " ['2009', '相戀', '航空', '路永佳', '結婚'],\n",
       " ['育有'],\n",
       " ['夫妻', '前恩愛']]"
      ]
     },
     "execution_count": 34,
     "metadata": {},
     "output_type": "execute_result"
    }
   ],
   "source": [
    "sentences[:4]"
   ]
  },
  {
   "cell_type": "code",
   "execution_count": 35,
   "metadata": {},
   "outputs": [
    {
     "name": "stdout",
     "output_type": "stream",
     "text": [
      "連勝武\n",
      "骨感妹\n",
      "路永佳\n",
      "口罩\n",
      "自己\n",
      "餐廳\n",
      "知道\n",
      "什麼\n",
      "十指\n",
      "緊扣\n"
     ]
    }
   ],
   "source": [
    "model = Word2Vec(sentences, size=250,  window=5,  min_count=1,  negative=3, workers=4)\n",
    "for x in model.wv.index2word[:10]:\n",
    "    print(x)"
   ]
  },
  {
   "cell_type": "code",
   "execution_count": 36,
   "metadata": {},
   "outputs": [
    {
     "name": "stdout",
     "output_type": "stream",
     "text": [
      "-0.07319609\n"
     ]
    },
    {
     "name": "stderr",
     "output_type": "stream",
     "text": [
      "D:\\Anaconda3\\lib\\site-packages\\ipykernel_launcher.py:2: DeprecationWarning: Call to deprecated `similarity` (Method will be removed in 4.0.0, use self.wv.similarity() instead).\n",
      "  \n"
     ]
    }
   ],
   "source": [
    "# 計算 兩詞彙 Cosine 相似度\n",
    "res = model.similarity('連勝武', '骨感妹')\n",
    "print(res)"
   ]
  },
  {
   "cell_type": "code",
   "execution_count": 38,
   "metadata": {},
   "outputs": [
    {
     "name": "stdout",
     "output_type": "stream",
     "text": [
      "-0.03360855\n"
     ]
    },
    {
     "name": "stderr",
     "output_type": "stream",
     "text": [
      "D:\\Anaconda3\\lib\\site-packages\\ipykernel_launcher.py:2: DeprecationWarning: Call to deprecated `similarity` (Method will be removed in 4.0.0, use self.wv.similarity() instead).\n",
      "  \n"
     ]
    }
   ],
   "source": [
    "# 計算 兩詞彙 Cosine 相似度\n",
    "res = model.similarity('連勝武', '親吻')\n",
    "print(res)"
   ]
  },
  {
   "cell_type": "markdown",
   "metadata": {},
   "source": [
    "### Conclusion\n",
    "\n",
    "得到幾乎相同的模型，即使在同一句話上下文都提到，也不會因此改變空間上的距離，這是因為每一句話描述的都是`不同的事`，所以不能找到描述A時，模型推估這個位置應該要填上B所致，藉此訓練，讓我們更理解Word2vec的模型結果。"
   ]
  },
  {
   "cell_type": "markdown",
   "metadata": {},
   "source": [
    "<a id=\"three_keyword\"></a>\n",
    "## 計算 三詞彙 Cosine 相似度"
   ]
  },
  {
   "cell_type": "code",
   "execution_count": 44,
   "metadata": {},
   "outputs": [
    {
     "name": "stdout",
     "output_type": "stream",
     "text": [
      "連勝武之於骨感妹，如親吻之於: \n",
      "深情, 0.24562428891658783\n",
      "點半, 0.21018190681934357\n",
      "只見, 0.1992698460817337\n",
      "20, 0.13939644396305084\n",
      "尚未, 0.13560235500335693\n",
      "入內, 0.1355920135974884\n",
      "嘔吐, 0.13272947072982788\n",
      "先生, 0.13181033730506897\n",
      "街巷, 0.13078582286834717\n",
      "直擊, 0.13024142384529114\n"
     ]
    },
    {
     "name": "stderr",
     "output_type": "stream",
     "text": [
      "D:\\Anaconda3\\lib\\site-packages\\ipykernel_launcher.py:1: DeprecationWarning: Call to deprecated `most_similar` (Method will be removed in 4.0.0, use self.wv.most_similar() instead).\n",
      "  \"\"\"Entry point for launching an IPython kernel.\n"
     ]
    }
   ],
   "source": [
    "res = model.most_similar(['連勝武', '骨感妹'], ['親吻'], topn= 100)\n",
    "print(\"%s之於%s，如%s之於: \" % ('連勝武', '骨感妹', '親吻'))\n",
    "for item in res[:10]:\n",
    "    print(\"{}, {}\".format(item[0], str(item[1])))"
   ]
  },
  {
   "cell_type": "markdown",
   "metadata": {},
   "source": [
    "<a id=\"save_model\"></a>\n",
    "## Save Word2vec model"
   ]
  },
  {
   "cell_type": "code",
   "execution_count": 45,
   "metadata": {},
   "outputs": [],
   "source": [
    "modelname = \"model/Word2Vec/word2vec_news.bin\"\n",
    "model.wv.save_word2vec_format(modelname, binary=True)"
   ]
  },
  {
   "cell_type": "markdown",
   "metadata": {},
   "source": [
    "<a id=\"load_model\"></a>\n",
    "## Load Word2vec model"
   ]
  },
  {
   "cell_type": "code",
   "execution_count": 46,
   "metadata": {},
   "outputs": [],
   "source": [
    "from gensim.models import word2vec, keyedvectors\n",
    "\n",
    "modelname = \"model/Word2Vec/word2vec_news.bin\"\n",
    "model = keyedvectors.KeyedVectors.load_word2vec_format(modelname,binary=True)"
   ]
  },
  {
   "cell_type": "code",
   "execution_count": 51,
   "metadata": {},
   "outputs": [
    {
     "name": "stdout",
     "output_type": "stream",
     "text": [
      "0.17089297\n"
     ]
    }
   ],
   "source": [
    "# 測試 Word2Vec model\n",
    "res = model.similarity('骨感妹', '談心')\n",
    "print(res)"
   ]
  },
  {
   "cell_type": "markdown",
   "metadata": {},
   "source": [
    "<a id=\"Load-text-file-in-folder-to-train-Word2Vec-model\"></a>\n",
    "## Load text file in folder to train Word2Vec model"
   ]
  },
  {
   "cell_type": "code",
   "execution_count": 52,
   "metadata": {},
   "outputs": [],
   "source": [
    "import os\n",
    "import jieba\n",
    "from gensim.models import Word2Vec\n",
    "\n",
    "jieba.initialize()\n",
    "jieba.load_userdict('dict/mydic.txt')\n",
    "\n",
    "class Sentences(object):\n",
    "    def __init__(self, dirname):\n",
    "        self.dirname = dirname\n",
    "        jieba.load_userdict(\"dict/mydic.txt\")\n",
    "\n",
    "    def __iter__(self):\n",
    "        for fname in os.listdir(self.dirname):\n",
    "            for line in open(os.path.join(self.dirname, fname), encoding='utf-8'):\n",
    "                punct = set(u''' :!),.:;?]}$¢'\"、。〉》」』】〕〗〞︰︱︳﹐､﹒﹔﹕﹖﹗﹚﹜﹞！），．：；？｜｝︴︶︸︺︼︾﹀﹂﹄﹏､～￠々‖•·ˇˉ―--′’”([{£¥'\"‵〈《「『【〔〖（［｛￡￥〝︵︷︹︻︽︿﹁﹃﹙﹛﹝（｛“‘-—_…''')\n",
    "                # punct |= set(exception)\n",
    "                words = [word for word in jieba.cut(line, cut_all=False) if (len(word.strip()) >= 2) and ( not any(ext in word for ext in punct) )]\n",
    "                yield words"
   ]
  },
  {
   "cell_type": "code",
   "execution_count": 54,
   "metadata": {},
   "outputs": [],
   "source": [
    "# 新聞\n",
    "folder_path = \"./data/news/\"\n",
    "sentences = Sentences(folder_path)\n",
    "model = Word2Vec(sentences, size=250,  window=5,  min_count=1,  negative=3, workers=4)"
   ]
  },
  {
   "cell_type": "code",
   "execution_count": 55,
   "metadata": {},
   "outputs": [
    {
     "data": {
      "text/plain": [
       "['連勝武',\n",
       " '骨感妹',\n",
       " '路永佳',\n",
       " '賴薇如',\n",
       " '蘋果',\n",
       " '新聞',\n",
       " '外遇',\n",
       " '自己',\n",
       " '知道',\n",
       " '朋友',\n",
       " '表示',\n",
       " '小孩',\n",
       " '媒體',\n",
       " '一起',\n",
       " '中心',\n",
       " '連戰',\n",
       " '就是',\n",
       " 'IG',\n",
       " '回應',\n",
       " '記者']"
      ]
     },
     "execution_count": 55,
     "metadata": {},
     "output_type": "execute_result"
    }
   ],
   "source": [
    "model.wv.index2word[:20]"
   ]
  },
  {
   "cell_type": "markdown",
   "metadata": {},
   "source": [
    "### Save corpus Word2Vec Model"
   ]
  },
  {
   "cell_type": "code",
   "execution_count": 56,
   "metadata": {},
   "outputs": [],
   "source": [
    "modelname = \"model/Word2Vec/word2vec_corpus.bin\"\n",
    "model.wv.save_word2vec_format(modelname, binary=True)"
   ]
  },
  {
   "cell_type": "markdown",
   "metadata": {},
   "source": [
    "### Load corpus Word2Vec Model"
   ]
  },
  {
   "cell_type": "code",
   "execution_count": 57,
   "metadata": {},
   "outputs": [],
   "source": [
    "from gensim.models import word2vec, keyedvectors\n",
    "\n",
    "modelname = \"model/Word2Vec/word2vec_corpus.bin\"\n",
    "model = keyedvectors.KeyedVectors.load_word2vec_format(modelname,binary=True)"
   ]
  },
  {
   "cell_type": "code",
   "execution_count": 58,
   "metadata": {},
   "outputs": [
    {
     "name": "stderr",
     "output_type": "stream",
     "text": [
      "D:\\Anaconda3\\lib\\site-packages\\ipykernel_launcher.py:1: DeprecationWarning: Call to deprecated `wv` (Attribute will be removed in 4.0.0, use self instead).\n",
      "  \"\"\"Entry point for launching an IPython kernel.\n"
     ]
    },
    {
     "data": {
      "text/plain": [
       "['連勝武',\n",
       " '骨感妹',\n",
       " '路永佳',\n",
       " '賴薇如',\n",
       " '蘋果',\n",
       " '新聞',\n",
       " '外遇',\n",
       " '自己',\n",
       " '知道',\n",
       " '朋友',\n",
       " '表示',\n",
       " '小孩',\n",
       " '媒體',\n",
       " '一起',\n",
       " '中心',\n",
       " '連戰',\n",
       " '就是',\n",
       " 'IG',\n",
       " '回應',\n",
       " '記者',\n",
       " '獨家',\n",
       " 'APP',\n",
       " '看到',\n",
       " '連勝文',\n",
       " '掌握',\n",
       " '婚姻',\n",
       " '一個',\n",
       " '大家',\n",
       " '免費',\n",
       " '婚外情',\n",
       " '不是',\n",
       " '報導',\n",
       " '無廣告',\n",
       " '爆料',\n",
       " '特勤',\n",
       " '國民黨',\n",
       " '11',\n",
       " '新聞網',\n",
       " '什麼',\n",
       " '網友',\n",
       " '女兒',\n",
       " '夫妻',\n",
       " '娛樂',\n",
       " '富商',\n",
       " '我們',\n",
       " '下載',\n",
       " '真的',\n",
       " '爆出',\n",
       " '所以',\n",
       " '熊熊',\n",
       " '閨密',\n",
       " '主席',\n",
       " '因為',\n",
       " '女方',\n",
       " '時事',\n",
       " '妻子',\n",
       " '沒有',\n",
       " '孩子',\n",
       " '結婚',\n",
       " '餐廳',\n",
       " '升級',\n",
       " '壹會員',\n",
       " '獨享',\n",
       " '事情',\n",
       " '可以',\n",
       " '完整',\n",
       " '兩人',\n",
       " '豪門',\n",
       " '不能',\n",
       " '還是',\n",
       " '28',\n",
       " '覺得',\n",
       " '處理',\n",
       " '好友',\n",
       " '甚至',\n",
       " '提供',\n",
       " '照片',\n",
       " '翻攝',\n",
       " '小模',\n",
       " '榮譽',\n",
       " '富豪',\n",
       " '友人',\n",
       " '這個',\n",
       " '可能',\n",
       " '即點',\n",
       " '臉書',\n",
       " '只有',\n",
       " '不過',\n",
       " '先生',\n",
       " '還有',\n",
       " '透露',\n",
       " '閨蜜',\n",
       " '現在',\n",
       " '過夜',\n",
       " '老婆',\n",
       " '一名',\n",
       " '老公',\n",
       " '認識',\n",
       " '台灣',\n",
       " '清楚',\n",
       " '仔直擊',\n",
       " '偷吃',\n",
       " '家庭',\n",
       " '大人',\n",
       " '只是',\n",
       " '酒吧',\n",
       " '直擊',\n",
       " '口罩',\n",
       " '認為',\n",
       " '怎麼',\n",
       " '發現',\n",
       " '他們',\n",
       " '連家',\n",
       " '這樣',\n",
       " '正宮',\n",
       " '起底',\n",
       " '而且',\n",
       " '女星',\n",
       " '面對',\n",
       " '台北',\n",
       " '子女',\n",
       " '曝光',\n",
       " '如果',\n",
       " '小三',\n",
       " '伴遊',\n",
       " '生活',\n",
       " '10',\n",
       " '弟弟',\n",
       " '疫苗',\n",
       " '女生',\n",
       " '次子',\n",
       " '一位',\n",
       " '姓小模',\n",
       " '冰箱',\n",
       " '事件',\n",
       " '日前',\n",
       " '親密',\n",
       " '男人',\n",
       " '開始',\n",
       " '多年',\n",
       " '歐洲',\n",
       " '藝人',\n",
       " '其實',\n",
       " '應該',\n",
       " '離開',\n",
       " '立新',\n",
       " '一座',\n",
       " '十指',\n",
       " '緊扣',\n",
       " '一同',\n",
       " '狀況',\n",
       " '女人',\n",
       " '感情',\n",
       " '有人',\n",
       " '不會',\n",
       " '疑似',\n",
       " '澄清',\n",
       " '對方',\n",
       " '一下',\n",
       " '留言',\n",
       " '是否',\n",
       " '動態',\n",
       " '方式',\n",
       " '前夫',\n",
       " '眉批',\n",
       " '22',\n",
       " '非常',\n",
       " '聞網',\n",
       " '當然',\n",
       " '熱吻',\n",
       " '清晨',\n",
       " '中山',\n",
       " '骨感',\n",
       " '出席',\n",
       " '物以',\n",
       " '類聚',\n",
       " '鄰居',\n",
       " '兩歲',\n",
       " '突然',\n",
       " '相處',\n",
       " '計程車',\n",
       " '如今',\n",
       " '中時',\n",
       " '同學',\n",
       " '蔡依珊',\n",
       " '很多',\n",
       " '爸爸',\n",
       " '最近',\n",
       " '結果',\n",
       " '政治',\n",
       " '第一',\n",
       " '時候',\n",
       " 'YouTube',\n",
       " '合照',\n",
       " '讀者',\n",
       " '鄰居證實',\n",
       " '標題',\n",
       " '冷靜',\n",
       " '必須',\n",
       " '出來',\n",
       " '聚會',\n",
       " '知情',\n",
       " '需要',\n",
       " '30',\n",
       " '美女',\n",
       " '文章',\n",
       " '分享',\n",
       " '平面',\n",
       " '交往',\n",
       " '頻道',\n",
       " '安晨',\n",
       " '這種',\n",
       " '今天',\n",
       " '繼續',\n",
       " '至於',\n",
       " '八卦',\n",
       " '互動',\n",
       " '公開',\n",
       " '希望',\n",
       " '似乎',\n",
       " '解鎖',\n",
       " '中國',\n",
       " '喜歡',\n",
       " '震撼',\n",
       " '幸福',\n",
       " '請問',\n",
       " '連方',\n",
       " '全面',\n",
       " '風波',\n",
       " '如何',\n",
       " '身材',\n",
       " '週刊',\n",
       " '連戰二兒子',\n",
       " '問卦',\n",
       " '離婚',\n",
       " '不要',\n",
       " '消息',\n",
       " '露面',\n",
       " '婆婆',\n",
       " '對象',\n",
       " '影片',\n",
       " '妻小',\n",
       " '路上',\n",
       " '部分',\n",
       " '只能',\n",
       " '家人',\n",
       " '以及',\n",
       " '回到',\n",
       " '香港',\n",
       " '外界',\n",
       " 'App',\n",
       " '隨時',\n",
       " '出遊',\n",
       " '公子',\n",
       " '背著',\n",
       " '一定',\n",
       " '當時',\n",
       " '女子',\n",
       " '媽媽',\n",
       " '小三是',\n",
       " '節目',\n",
       " '一樣',\n",
       " '完全',\n",
       " '其他',\n",
       " '程度',\n",
       " '疫情',\n",
       " '竟然',\n",
       " '對此',\n",
       " '之間',\n",
       " '問題',\n",
       " '甜蜜',\n",
       " '品牌',\n",
       " '高挑',\n",
       " '千呼',\n",
       " '萬喚',\n",
       " '付費會員',\n",
       " '明星',\n",
       " '內幕',\n",
       " '想要',\n",
       " '空姐',\n",
       " '到底',\n",
       " '回家',\n",
       " '狄志為',\n",
       " '別人',\n",
       " '直接',\n",
       " '相當',\n",
       " '直言',\n",
       " '社會',\n",
       " '心情',\n",
       " '航空',\n",
       " '用餐',\n",
       " '不到',\n",
       " '公寓',\n",
       " '19',\n",
       " '早就',\n",
       " '李德',\n",
       " '正面',\n",
       " '外型',\n",
       " '至今',\n",
       " '醫師',\n",
       " '這位',\n",
       " '扶正',\n",
       " '張姓',\n",
       " '接受',\n",
       " '晚間',\n",
       " '感覺',\n",
       " '雖然',\n",
       " '提到',\n",
       " '閱讀',\n",
       " '默認',\n",
       " '亮紅燈',\n",
       " '身為',\n",
       " '低調',\n",
       " '重要',\n",
       " '全新',\n",
       " '去年',\n",
       " '不然',\n",
       " '公分',\n",
       " '聚餐',\n",
       " '小倆',\n",
       " '可是',\n",
       " '無法',\n",
       " '連結',\n",
       " '29',\n",
       " '已經',\n",
       " '問到',\n",
       " '當事人',\n",
       " '時間',\n",
       " '端倪',\n",
       " '男友',\n",
       " '活動',\n",
       " '這件',\n",
       " '姚韻',\n",
       " 'Gossiping',\n",
       " '一直',\n",
       " '辦法',\n",
       " '人家',\n",
       " '2010',\n",
       " '兒子',\n",
       " '內容',\n",
       " '這次',\n",
       " '出軌',\n",
       " '強調',\n",
       " '公司',\n",
       " 'Talk',\n",
       " '名人',\n",
       " '過從',\n",
       " '甚密',\n",
       " '來源',\n",
       " '回香',\n",
       " '當天',\n",
       " '續攤',\n",
       " '一路',\n",
       " '另一半',\n",
       " '立委',\n",
       " '了解',\n",
       " '原來',\n",
       " '成為',\n",
       " '平常',\n",
       " '改版',\n",
       " 'goo',\n",
       " 'gl',\n",
       " '尷尬',\n",
       " '好事',\n",
       " '總統',\n",
       " '偷情',\n",
       " '有個',\n",
       " 'Podcast',\n",
       " '而是',\n",
       " '深情',\n",
       " '尚未',\n",
       " '接吻',\n",
       " '努力',\n",
       " '資料',\n",
       " '還要',\n",
       " '只要',\n",
       " '兩個',\n",
       " '遇到',\n",
       " '傳出',\n",
       " '年前',\n",
       " '一事',\n",
       " '夫婦',\n",
       " '當年',\n",
       " '閨過',\n",
       " '豪門婚',\n",
       " '遊歐洲',\n",
       " '在家',\n",
       " '姊妹',\n",
       " '億元',\n",
       " '閨蜜成',\n",
       " 'Video',\n",
       " '開心',\n",
       " '身高',\n",
       " '負責',\n",
       " '家裡',\n",
       " '走出',\n",
       " '35',\n",
       " '小時',\n",
       " '看似',\n",
       " '左右',\n",
       " '發生',\n",
       " '元配',\n",
       " '支持',\n",
       " '以上',\n",
       " '育有',\n",
       " '想到',\n",
       " '印象',\n",
       " '爆發',\n",
       " '此事',\n",
       " '引發',\n",
       " '最後還',\n",
       " '因此',\n",
       " '不想',\n",
       " 'Ali',\n",
       " '眼科',\n",
       " '女模',\n",
       " '膳湯',\n",
       " '這些',\n",
       " '返回',\n",
       " '電話',\n",
       " 'EQ',\n",
       " '超貼',\n",
       " '那麼',\n",
       " '那個',\n",
       " '工作',\n",
       " '不同',\n",
       " '壓力',\n",
       " '出面',\n",
       " '二兒子',\n",
       " 'PO',\n",
       " '訂閱',\n",
       " '合體',\n",
       " '近日',\n",
       " '宣布',\n",
       " '加入',\n",
       " '關心',\n",
       " '回覆',\n",
       " '最好',\n",
       " '未來',\n",
       " '170',\n",
       " '面紙',\n",
       " '凌晨',\n",
       " '點多',\n",
       " '起身',\n",
       " '外面',\n",
       " '但是',\n",
       " '不少',\n",
       " '綜合',\n",
       " '資深',\n",
       " '特別',\n",
       " '過程',\n",
       " '已婚',\n",
       " '坦言',\n",
       " '直播',\n",
       " '相交',\n",
       " '小三已',\n",
       " '諷刺',\n",
       " '幾乎',\n",
       " '被問',\n",
       " '曲艾玲',\n",
       " '比較',\n",
       " '獨自',\n",
       " '搭車',\n",
       " '區的',\n",
       " '兩人關',\n",
       " '接著',\n",
       " '看看',\n",
       " '不錯',\n",
       " '是不是',\n",
       " '好像',\n",
       " '勝武',\n",
       " '26',\n",
       " '指出',\n",
       " '擁吻',\n",
       " '18',\n",
       " '哪位',\n",
       " '以類',\n",
       " '2017',\n",
       " '隔離',\n",
       " '發言人',\n",
       " '丈夫',\n",
       " '一天',\n",
       " '嫁入',\n",
       " '妹妹',\n",
       " '惡劣',\n",
       " '台獨',\n",
       " '道德',\n",
       " '故意',\n",
       " '再捕',\n",
       " '獲現',\n",
       " '首度',\n",
       " '引述',\n",
       " '之銘言',\n",
       " '這是',\n",
       " '一句',\n",
       " '日報',\n",
       " '撫摸',\n",
       " '不知',\n",
       " '前往',\n",
       " '彼此',\n",
       " '起來',\n",
       " '態度',\n",
       " '以前',\n",
       " '焦點',\n",
       " '身上',\n",
       " '好好',\n",
       " '並非',\n",
       " '婚戒',\n",
       " '現身',\n",
       " '今日',\n",
       " '心疼',\n",
       " '27',\n",
       " '底下',\n",
       " '自稱',\n",
       " '台北市',\n",
       " '受到',\n",
       " 'TVBS',\n",
       " '喝藥',\n",
       " '牽出',\n",
       " '迷糊',\n",
       " 'Doris',\n",
       " '萬元',\n",
       " '謹言',\n",
       " '慎行',\n",
       " '形象',\n",
       " '有些',\n",
       " '畫面',\n",
       " '47',\n",
       " '身邊',\n",
       " '署名',\n",
       " '象是',\n",
       " '一身',\n",
       " '感受',\n",
       " '越來',\n",
       " '聽到',\n",
       " '講離婚',\n",
       " '沒什麼',\n",
       " '共同',\n",
       " '不用',\n",
       " '之前',\n",
       " '喝酒',\n",
       " '貼文',\n",
       " '話題',\n",
       " '回答',\n",
       " '出身',\n",
       " '父母',\n",
       " '加上',\n",
       " '選擇',\n",
       " '表現',\n",
       " '目前',\n",
       " 'LINE',\n",
       " '最新',\n",
       " '旅遊',\n",
       " '有關',\n",
       " '小三一夥',\n",
       " '親朋',\n",
       " '刪除',\n",
       " '媳婦',\n",
       " '同遊',\n",
       " '影響',\n",
       " '指揮',\n",
       " '2019',\n",
       " '日本',\n",
       " '漂亮',\n",
       " '老天',\n",
       " '東區',\n",
       " '扶梯',\n",
       " '文彥',\n",
       " '金箔',\n",
       " '根本',\n",
       " '林佳樺',\n",
       " '2009',\n",
       " '專訪',\n",
       " '要面',\n",
       " '不能逃避',\n",
       " '模樣',\n",
       " '牽起',\n",
       " '不時',\n",
       " '扶著',\n",
       " '出國',\n",
       " '網址',\n",
       " '大概',\n",
       " '而已',\n",
       " '事實',\n",
       " '不管',\n",
       " '私下',\n",
       " '哥哥',\n",
       " '女孩',\n",
       " '參加',\n",
       " '十分',\n",
       " '家中',\n",
       " '過去',\n",
       " '幫忙',\n",
       " '理由',\n",
       " '生日',\n",
       " '謝謝',\n",
       " '不僅',\n",
       " '曖昧',\n",
       " '風暴',\n",
       " '不易',\n",
       " '不見',\n",
       " '委屈',\n",
       " '2015',\n",
       " '12',\n",
       " '攻擊',\n",
       " '特稿',\n",
       " '投資',\n",
       " '年代',\n",
       " 'po',\n",
       " '14',\n",
       " '照顧',\n",
       " '討論',\n",
       " '道歉',\n",
       " '看過',\n",
       " '深陷',\n",
       " '專家',\n",
       " '東西',\n",
       " '照曝光',\n",
       " '這女',\n",
       " '才能',\n",
       " '醫院',\n",
       " '快來',\n",
       " '名嘴',\n",
       " '申請',\n",
       " '踢娜',\n",
       " 'Tina',\n",
       " '邱明玉',\n",
       " '被民眾',\n",
       " '意外',\n",
       " '家族',\n",
       " '45',\n",
       " '愛情',\n",
       " '內文',\n",
       " '步出',\n",
       " '上車',\n",
       " '打扮',\n",
       " '臉頰',\n",
       " '調情',\n",
       " '順勢',\n",
       " '立刻',\n",
       " '車內',\n",
       " '愛熱鬧',\n",
       " '交際',\n",
       " 'Sent',\n",
       " 'from',\n",
       " '資訊',\n",
       " '遭爆',\n",
       " '晚上',\n",
       " '婚變',\n",
       " '昔日',\n",
       " '緋聞',\n",
       " '本報',\n",
       " '正妹',\n",
       " '住處',\n",
       " '訪問',\n",
       " '香閨過',\n",
       " '發文',\n",
       " '形容',\n",
       " '密友',\n",
       " 'Android',\n",
       " '廣告',\n",
       " '往下',\n",
       " '清清白白',\n",
       " '地主',\n",
       " '之誼',\n",
       " '接獲',\n",
       " '取自',\n",
       " '出門',\n",
       " '出生',\n",
       " '關鍵',\n",
       " '反應',\n",
       " '或是',\n",
       " '爆氣',\n",
       " 'AV',\n",
       " '16',\n",
       " '過年',\n",
       " '張震',\n",
       " '親熱',\n",
       " '不勝',\n",
       " '酒力',\n",
       " '洗手',\n",
       " '取得',\n",
       " '藥膳',\n",
       " '一臉',\n",
       " '通化',\n",
       " '街巷',\n",
       " '談心',\n",
       " '嘴唇',\n",
       " '手機',\n",
       " '再度',\n",
       " '發出',\n",
       " '埋單',\n",
       " '計程',\n",
       " '肩上',\n",
       " '自然',\n",
       " '隨即',\n",
       " '20',\n",
       " '沒人',\n",
       " '23',\n",
       " '語氣',\n",
       " '展現',\n",
       " '為重',\n",
       " '人緣',\n",
       " '輕撫',\n",
       " '搭上',\n",
       " '包含',\n",
       " '國家',\n",
       " '變成',\n",
       " '外表',\n",
       " '通常',\n",
       " '然而',\n",
       " '至少',\n",
       " '風雨',\n",
       " '剝蝦',\n",
       " '再次',\n",
       " '笑容',\n",
       " '系資料',\n",
       " '2018',\n",
       " '感到',\n",
       " '身分',\n",
       " '酒店',\n",
       " '這幾天',\n",
       " '每天',\n",
       " 'iOS',\n",
       " '很大',\n",
       " '當初',\n",
       " 'YT',\n",
       " '出去',\n",
       " '交情',\n",
       " '還曾',\n",
       " '遊玩',\n",
       " '知名',\n",
       " '之道',\n",
       " '防疫',\n",
       " '本土',\n",
       " '不敢',\n",
       " '每個',\n",
       " '作品',\n",
       " '訴苦',\n",
       " '陰謀論',\n",
       " '沾腥',\n",
       " '小女生',\n",
       " '50',\n",
       " '求證',\n",
       " '容易',\n",
       " '制裁',\n",
       " '份子',\n",
       " '血淚',\n",
       " '更多星聞',\n",
       " '訴訟',\n",
       " '怒斥',\n",
       " '地方',\n",
       " '做到',\n",
       " '厲害',\n",
       " '養生',\n",
       " '深夜',\n",
       " '臉上',\n",
       " '安慰',\n",
       " '此時',\n",
       " '還好',\n",
       " '附近',\n",
       " '多久',\n",
       " '直到',\n",
       " '三天',\n",
       " '水桶',\n",
       " '注意',\n",
       " '人物',\n",
       " '奇怪',\n",
       " '原因',\n",
       " '關注',\n",
       " '導致',\n",
       " '那些',\n",
       " '要求',\n",
       " '不知情',\n",
       " '超過',\n",
       " '這段',\n",
       " '先前',\n",
       " '時常',\n",
       " '延伸',\n",
       " '流出',\n",
       " '抱怨',\n",
       " 'vs',\n",
       " '還會',\n",
       " '尊重',\n",
       " '總是',\n",
       " '密切',\n",
       " '或者',\n",
       " '外人',\n",
       " '提醒',\n",
       " '認真',\n",
       " '天天',\n",
       " 'bWvmsn',\n",
       " '2Ctu8A',\n",
       " '偷拍',\n",
       " '在意',\n",
       " '評論',\n",
       " '搶著認',\n",
       " '壞事',\n",
       " '無聊',\n",
       " '飲料',\n",
       " '根據',\n",
       " '場合',\n",
       " '追問',\n",
       " '居家',\n",
       " '台辦',\n",
       " '隱私',\n",
       " '摩擦',\n",
       " '查勤',\n",
       " '進入',\n",
       " '08',\n",
       " '爆卦',\n",
       " '享受',\n",
       " '播客',\n",
       " '作客',\n",
       " 'SoundOn',\n",
       " 'Apple',\n",
       " 'Google',\n",
       " 'Spotify',\n",
       " 'KKBOX',\n",
       " '激出',\n",
       " '少奶',\n",
       " '揭豪門',\n",
       " '婚防出',\n",
       " '軌絕',\n",
       " '新黨',\n",
       " '問及',\n",
       " '智庫',\n",
       " '批評',\n",
       " '男方',\n",
       " '酣耳熱',\n",
       " '之際',\n",
       " '方臉',\n",
       " '龐擁',\n",
       " '上周五',\n",
       " '慧根',\n",
       " '門口',\n",
       " '點半',\n",
       " '外套',\n",
       " '宛如',\n",
       " '熱戀',\n",
       " '坐在',\n",
       " '親吻',\n",
       " '方位',\n",
       " '行為',\n",
       " '畢竟',\n",
       " '三個',\n",
       " '走進',\n",
       " '張貼',\n",
       " '三日',\n",
       " '演唱',\n",
       " '準備',\n",
       " '就算',\n",
       " '法院',\n",
       " '發言',\n",
       " '好奇',\n",
       " '第二',\n",
       " '出事',\n",
       " '會不會',\n",
       " '所謂',\n",
       " '機率',\n",
       " '女友',\n",
       " '家過',\n",
       " '平時',\n",
       " '立場',\n",
       " '本刊',\n",
       " '住家',\n",
       " '唯一',\n",
       " '出現',\n",
       " '個性',\n",
       " '稍早',\n",
       " '公婆',\n",
       " '怎樣',\n",
       " '亮麗',\n",
       " '人知',\n",
       " 'Instagram',\n",
       " '戀情',\n",
       " '還在',\n",
       " '保守',\n",
       " '霸氣',\n",
       " '一手',\n",
       " '裡面',\n",
       " '重點',\n",
       " '驚傳',\n",
       " '00',\n",
       " '經常',\n",
       " '出去玩',\n",
       " '名牌',\n",
       " '主動',\n",
       " '尤其',\n",
       " '身家',\n",
       " '陷入',\n",
       " '狄志偉',\n",
       " '男性',\n",
       " '其中',\n",
       " '夫人',\n",
       " '新冠',\n",
       " '公子哥',\n",
       " '介入',\n",
       " '小姐',\n",
       " '一行',\n",
       " '年初',\n",
       " '懷孕',\n",
       " '證實',\n",
       " '約會',\n",
       " '系列',\n",
       " '八點',\n",
       " '遭酸',\n",
       " '所有',\n",
       " '並且',\n",
       " '林真',\n",
       " '葛斯齊',\n",
       " '恐龍',\n",
       " '腳印',\n",
       " '來賓',\n",
       " '這也',\n",
       " '王傑',\n",
       " '我錯',\n",
       " '原諒',\n",
       " '這句',\n",
       " '中國國',\n",
       " '捷運手',\n",
       " '左側',\n",
       " '趕時間',\n",
       " '發放',\n",
       " '獎學金',\n",
       " '丟到',\n",
       " '許男',\n",
       " '小甜甜',\n",
       " '男生',\n",
       " '剛好',\n",
       " '露出',\n",
       " '黑色',\n",
       " '包廂',\n",
       " '驚覺',\n",
       " '頻頻',\n",
       " '只見',\n",
       " '即便',\n",
       " '一則',\n",
       " '算額度',\n",
       " 'JPTT',\n",
       " 'on',\n",
       " 'my',\n",
       " '大事',\n",
       " '改成',\n",
       " '還沒',\n",
       " '曾經',\n",
       " '帶著',\n",
       " '受訪',\n",
       " '貼心',\n",
       " '這名',\n",
       " '爬山',\n",
       " '亮眼',\n",
       " '國中',\n",
       " '融洽',\n",
       " '看起',\n",
       " '近年',\n",
       " '時尚',\n",
       " '事業',\n",
       " '一次',\n",
       " '2012',\n",
       " '15',\n",
       " '搶先',\n",
       " '你們',\n",
       " '進連戰家',\n",
       " '年產',\n",
       " '一言難',\n",
       " '深感',\n",
       " '追星',\n",
       " '21',\n",
       " '此外',\n",
       " '當小三',\n",
       " '著認',\n",
       " '代都',\n",
       " '還被',\n",
       " '費用',\n",
       " '英文',\n",
       " '許多',\n",
       " '限時',\n",
       " '昨日',\n",
       " '保護',\n",
       " '真相',\n",
       " '鄭爽',\n",
       " '請點',\n",
       " '娛樂圈',\n",
       " '美國',\n",
       " '2021',\n",
       " '確診',\n",
       " '降臨',\n",
       " '身旁',\n",
       " '主持人',\n",
       " '40',\n",
       " '單位',\n",
       " '不好',\n",
       " '情同',\n",
       " '符合',\n",
       " '旅行',\n",
       " '玻璃',\n",
       " '終結',\n",
       " '該名',\n",
       " '想像',\n",
       " ...]"
      ]
     },
     "execution_count": 58,
     "metadata": {},
     "output_type": "execute_result"
    }
   ],
   "source": [
    "model.wv.index2word"
   ]
  },
  {
   "cell_type": "code",
   "execution_count": 59,
   "metadata": {},
   "outputs": [
    {
     "name": "stdout",
     "output_type": "stream",
     "text": [
      "[-2.96347914e-03 -3.30780429e-04  6.43712818e-04 -7.23797304e-04\n",
      "  2.01448472e-03 -2.59222812e-03 -3.24690569e-04  5.67208102e-04\n",
      "  8.06614105e-03  1.09496329e-03  4.93030879e-04  2.06478941e-03\n",
      "  2.75848812e-04 -8.80425912e-04 -2.23653973e-03  1.29257515e-03\n",
      " -4.77554349e-05  2.63878290e-04 -3.66014452e-03  9.08842660e-04\n",
      "  4.37977770e-03 -6.75586169e-04 -3.06305895e-03  3.08475527e-03\n",
      "  3.22636543e-03 -1.49841735e-03  1.32640079e-03  1.01776570e-02\n",
      "  2.35088286e-03  5.29658901e-05  6.21119421e-03  6.50613662e-03\n",
      "  4.22141794e-03 -4.99548996e-03  7.53667700e-05  1.69475900e-03\n",
      "  2.31890334e-03 -2.65312288e-03 -1.68244576e-03  2.72793142e-04\n",
      "  3.97135271e-03  3.75816529e-03  3.65428324e-03  2.25795386e-03\n",
      "  7.40123587e-03  7.74662057e-03  4.40187380e-03  2.52083549e-03\n",
      " -4.43423633e-03  2.24489602e-04 -4.07959521e-03  2.53182533e-03\n",
      " -3.49686574e-03  2.86570750e-03 -2.75145238e-03  8.51622783e-04\n",
      "  6.65672764e-04 -1.35641615e-03  2.34290143e-03  2.32370640e-03\n",
      "  4.42383811e-03 -7.07902620e-03  2.07641954e-03  4.94072307e-03\n",
      " -1.03289844e-03  1.17631361e-03  1.01796293e-03 -5.42564143e-04\n",
      "  4.80012549e-03  1.52508717e-03 -3.47678713e-03 -5.16705168e-03\n",
      " -5.82130020e-03 -5.49075427e-03 -1.29130366e-03  4.50830115e-03\n",
      " -9.71414614e-03 -2.97098258e-03  5.59034571e-03 -1.07458979e-03\n",
      " -5.86722512e-03  4.18893620e-03  1.30953675e-03  3.35495966e-03\n",
      " -4.24269587e-03  3.31619708e-03 -4.59804060e-03 -4.21374541e-04\n",
      "  7.01217330e-04  4.63235378e-03 -7.62695039e-04  3.16057797e-03\n",
      " -1.61649520e-03  5.15199266e-03 -1.34745927e-03  3.68981098e-04\n",
      " -2.26402492e-03  1.91731309e-03  8.71173223e-04 -5.10019890e-04\n",
      " -1.97304483e-03  1.20006700e-03 -2.27082730e-03 -2.51665432e-03\n",
      "  3.02854576e-03  2.04971246e-03 -3.86606902e-03  3.28643853e-03\n",
      "  3.01455380e-03 -5.40835131e-03 -6.66442467e-03  1.68188615e-03\n",
      " -2.08083587e-03  1.29743305e-03 -2.50707293e-04  2.47832132e-03\n",
      " -9.31741088e-04  3.77106783e-03 -3.03986599e-04  2.36039492e-03\n",
      "  2.83891591e-03  4.45952034e-03 -8.82790599e-04 -2.91677867e-03\n",
      "  6.39000675e-03  1.47982070e-03 -3.24611538e-05  1.44563476e-03\n",
      " -1.75669929e-03 -9.48380039e-04 -7.17663614e-04 -4.89724707e-03\n",
      "  2.27088900e-03 -1.10069916e-04 -2.36109423e-04 -5.04700001e-03\n",
      "  3.48841946e-04  5.75456815e-03  4.75241104e-03 -5.26278513e-03\n",
      "  8.10667407e-05 -2.00310093e-03  6.87622232e-03 -4.30428749e-03\n",
      " -8.39340850e-04 -1.50804524e-03  4.02323902e-03  7.86946248e-03\n",
      " -4.16434743e-03 -2.35811574e-03 -2.77108839e-03  1.22878782e-03\n",
      " -2.86481087e-03  1.16403808e-03 -6.31961739e-03  4.71785059e-03\n",
      "  5.74495876e-03 -5.24573028e-03  2.80788983e-03 -5.82385052e-04\n",
      " -4.08551516e-03 -3.52674583e-03  3.64627969e-03  8.69246200e-04\n",
      "  4.40365588e-03  3.81975027e-04  2.26575253e-03  5.47194248e-03\n",
      " -2.72957236e-03  3.76268220e-03  3.92684992e-03  2.80808262e-03\n",
      "  5.44311991e-03 -1.20911619e-03  5.22695307e-04 -1.96988788e-03\n",
      "  2.83203274e-03  1.82600075e-03  2.71474174e-03 -5.82002010e-03\n",
      " -2.88970233e-03 -8.79294705e-03  2.87837727e-04 -3.70248989e-03\n",
      " -4.78116237e-03  2.85983412e-03 -2.01737648e-03  1.86439196e-03\n",
      " -2.24259845e-03  3.06800561e-04  1.93183741e-03 -3.94095760e-03\n",
      "  3.36943194e-03  5.03921835e-03 -4.66923881e-03 -2.27675214e-03\n",
      " -2.93177925e-03  3.97612760e-03 -2.14360747e-03 -5.36836917e-03\n",
      "  6.08333445e-04 -1.64568203e-03  4.01806645e-03 -2.23810016e-03\n",
      " -5.64408442e-03  2.81124492e-03 -1.15766760e-03  2.51384219e-03\n",
      " -5.30920504e-03  1.54317264e-03  3.26613779e-03  1.71788887e-03\n",
      " -1.80629540e-05  3.62032326e-04  2.55748117e-03 -4.58615832e-03\n",
      " -6.52154163e-03 -2.90634390e-03  3.38417315e-03 -2.29620351e-03\n",
      " -2.27477704e-03  4.18421812e-03  2.02754047e-03  9.26556473e-04\n",
      "  2.04824563e-03 -4.52782353e-03 -6.27914444e-04  3.80964950e-03\n",
      " -2.72913859e-03 -3.25218611e-03 -3.06935515e-03  1.07582682e-03\n",
      "  1.20565051e-03 -1.53710810e-03 -4.17858968e-03 -3.11747496e-03\n",
      "  2.30300054e-03  2.42959638e-03 -3.59533099e-03 -9.04537446e-04\n",
      "  1.49674353e-03  2.04000552e-03  3.40402056e-03 -5.19565772e-04\n",
      "  2.55440851e-03  2.98553403e-03  1.34390488e-03  3.37621337e-03\n",
      " -2.40325346e-03  8.73237790e-04]\n"
     ]
    }
   ],
   "source": [
    "# 測試訓練好的詞向量模型，使用 model[keyWord] 取出 keyword 這個詞彙的詞向量\n",
    "keyWord = '外遇'\n",
    "print(model[keyWord])"
   ]
  },
  {
   "cell_type": "code",
   "execution_count": 60,
   "metadata": {},
   "outputs": [
    {
     "name": "stdout",
     "output_type": "stream",
     "text": [
      "知道, 0.81\n",
      "爆料, 0.81\n",
      "媒體, 0.8\n",
      "自己, 0.8\n",
      "照片, 0.79\n",
      "回應, 0.79\n",
      "夫妻, 0.79\n",
      "爆出, 0.78\n",
      "朋友, 0.78\n",
      "11, 0.78\n"
     ]
    }
   ],
   "source": [
    "# 顯示空間和字距離相近的關聯詞彙\n",
    "res = model.most_similar('婚外情',topn = 100)  # 此詞彙有出現在 corpus 當中\n",
    "for item in res[:10]:\n",
    "    print(\"{}, {}\".format(item[0], str(round(item[1], 2))) )"
   ]
  },
  {
   "cell_type": "code",
   "execution_count": 61,
   "metadata": {},
   "outputs": [
    {
     "data": {
      "text/plain": [
       "0.80834943"
      ]
     },
     "execution_count": 61,
     "metadata": {},
     "output_type": "execute_result"
    }
   ],
   "source": [
    "model.similarity('婚外情', '爆料')"
   ]
  },
  {
   "cell_type": "markdown",
   "metadata": {},
   "source": [
    "## Summary\n",
    "\n",
    "如何評價所建「詞向量」的好壞？\n",
    "\n",
    "依照 word2vec 的原理，詞意相近的詞在向量空間當中的距離是接近的，但會因為「文本內容性質的差異」而有所不同，例如在新聞類的文本中，「台灣」字詞會常與地名或時事事件等字詞距離接近；然而若是跟 PTT 論壇相關的文本，「台灣」字詞可能會更常與「鄉民/島民/魯蛇/溫拿」這類聊天用語的字詞距離靠近；總之，可以透過所訓練之詞向量距離，觀察他們語意是否相近去做衡量。\n",
    "\n",
    "其次是準備訓練集，必須將文章整理成一列(row)一篇，組成的語料(corpus)若太少，則無法歸納出較好的相似性，因為機器學習，是要讓機器從語料中找到規則，所以大量的語料是進行斷詞與Word2vec必要條件之一。"
   ]
  }
 ],
 "metadata": {
  "kernelspec": {
   "display_name": "Python 3",
   "language": "python",
   "name": "python3"
  },
  "language_info": {
   "codemirror_mode": {
    "name": "ipython",
    "version": 3
   },
   "file_extension": ".py",
   "mimetype": "text/x-python",
   "name": "python",
   "nbconvert_exporter": "python",
   "pygments_lexer": "ipython3",
   "version": "3.6.7"
  }
 },
 "nbformat": 4,
 "nbformat_minor": 2
}
