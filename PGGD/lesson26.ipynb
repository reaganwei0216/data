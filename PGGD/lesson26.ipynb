{
 "cells": [
  {
   "cell_type": "markdown",
   "metadata": {},
   "source": [
    "## Lesson 26 - Social Graph with TENET v2.0\n",
    "\n",
    "\n",
    "\n",
    "\n",
    "\n",
    "### Table of Contents\n",
    "\n",
    "* [TENET天能](#tenet)\n",
    "* [Create Keyword Node](#create_keyword)\n",
    "* [Create More FB Post Node](#create_fb_post_node)\n",
    "* [Create More FB User Node](#create_fb_user_node)\n",
    "* [Relationship of MFB Post and User](#relationship_fb_post_user)\n",
    "* [Relationship of MFB Post keywords and post](#relationship_fb_keyword_post)\n",
    "* [Relationship of MFB Post hashtag and post](#relationship_fb_hashtag_post)\n",
    "* [Create More News Post Node](#create_news_node)\n",
    "* [Create More News User Node](#create_news_user)\n",
    "* [Relationship of MNews Post and User](#relationship_news_post_user)\n",
    "* [Relationship of MNews Post keywords and post](#relationship_news_keyword_post)\n",
    "* [Relationship of MNews Post hashtag and post](#relationship_news_hashtag_post)\n",
    "* [Create More Forum Post Node](#create_forum_post_node)\n",
    "* [Create More Forum User Node](#create_forum_user_node)\n",
    "* [Relationship of MForum Post and User](#relationship_forum_post_user)\n",
    "* [Relationship of MForum Post keywords and post](#relationship_forum_keyword_post)\n",
    "* [Relationship of MForum Post hashtag and post](#relationship_forum_hashtag_post)\n",
    "* [Create More PTT Post Node](#create_ptt_post_node)\n",
    "* [Create More PTT User Node](#create_ptt_user_node)\n",
    "* [Relationship of MPtt Post and User](#relationship_ptt_post_user)\n",
    "* [Relationship of MPtt Post keywords and post](#relationship_ptt_keyword_user)\n",
    "* [Relationship of MPtt Post hashtag and post](#relationship_ptt_hashtag_user)\n",
    "* [Import to Neo4j](#import_neo4j)\n",
    "\n",
    "\n"
   ]
  },
  {
   "cell_type": "markdown",
   "metadata": {},
   "source": [
    "<a id=\"tenet\"></a>\n",
    "## TENET天能\n",
    "\n",
    "- 上映日期：2020-08-27\n",
    "- 期待度 99% 網友想看 滿意度 4.1 綜合評分\n",
    "- 資料區間：上映前一周2020-08-17 ~ 上映後一個月2020-09-27\n",
    "- 資料來源：Facebook, Forum, News, PTT"
   ]
  },
  {
   "cell_type": "code",
   "execution_count": 1,
   "metadata": {},
   "outputs": [],
   "source": [
    "import csv\n",
    "import json\n",
    "import time\n",
    "import requests\n",
    "import datetime\n",
    "import pandas as pd\n",
    "from datetime import (datetime as dt, timedelta as td)\n",
    "import numpy as np\n",
    "from urllib.parse import quote, unquote\n",
    "\n",
    "pd.options.mode.chained_assignment = None"
   ]
  },
  {
   "cell_type": "code",
   "execution_count": 2,
   "metadata": {},
   "outputs": [],
   "source": [
    "def extract_hashtag(content):\n",
    "    hashtags = []\n",
    "    if type(content)==float:\n",
    "        return \"\"\n",
    "    if '#' in content:\n",
    "        for h in content.split('#')[1:]:\n",
    "            hashtags.append('#'+h.split(' ')[0].replace('\\n','').replace('、','').strip())\n",
    "    return \"/\".join(hashtags) if hashtags else \"\"\n",
    "\n",
    "def extract_mention(content):\n",
    "    mentions = []\n",
    "    if type(content)==float:\n",
    "        return \"\"\n",
    "    if '@' in content:\n",
    "        for h in content.split('@')[1:]:\n",
    "            mentions.append('@'+h.split(' ')[0].replace('\\n','').replace('、','').strip())\n",
    "    return \"/\".join(mentions) if mentions else \"\"\n",
    "\n",
    "def get_keyword_id(keyword):\n",
    "    return hashtag_keyword_map[str(keyword).strip()]\n",
    "\n",
    "def add_quote(keyword):\n",
    "    return '\"'+str(keyword).replace('\\n', ' ').replace('\\r', ' ').strip()+'\"'\n",
    "\n",
    "def replace_double_quote(s):\n",
    "    return str(s).strip().replace('\"',\"'\")\n",
    "\n",
    "def if_in_list(item, target_list):\n",
    "    if item not in target_list:\n",
    "        return 0\n",
    "    return 1"
   ]
  },
  {
   "cell_type": "code",
   "execution_count": 3,
   "metadata": {},
   "outputs": [
    {
     "name": "stderr",
     "output_type": "stream",
     "text": [
      "Building prefix dict from the default dictionary ...\n",
      "Dumping model to file cache C:\\Users\\princ\\AppData\\Local\\Temp\\jieba.cache\n",
      "Loading model cost 0.863 seconds.\n",
      "Prefix dict has been built succesfully.\n",
      "Building prefix dict from D:\\Programming\\Python\\Neo4j\\課程\\dict\\dict.big.txt ...\n",
      "Dumping model to file cache C:\\Users\\princ\\AppData\\Local\\Temp\\jieba.u2119b7327cb8dafa65534ff0e37256b6.cache\n",
      "Loading model cost 1.623 seconds.\n",
      "Prefix dict has been built succesfully.\n"
     ]
    }
   ],
   "source": [
    "import jieba\n",
    "import jieba.analyse\n",
    "\n",
    "jieba.initialize()\n",
    "jieba.set_dictionary(\"./dict/dict.big.txt\")\n",
    "jieba.load_userdict('./dict/mydic.txt')\n",
    "\n",
    "wantWordList = set()\n",
    "with open('./dict/mydic.txt', 'r', encoding=\"utf8\") as file:\n",
    "    wantWordList = file.readlines()\n",
    "    wantWordList = [wantword.strip('\\n').replace('\\ufeff','').strip().split(' ')[0] for wantword in wantWordList]\n",
    "\n",
    "stopwords = set()\n",
    "with open('./dict/stopwords.txt', 'r', encoding=\"utf8\") as file:\n",
    "    stopwords = file.readlines()\n",
    "    stopwords = [stopword.strip('\\n').strip() for stopword in stopwords]\n",
    "except_file = open(\"./dict/hippo_exception_word.txt\", encoding='utf-8')\n",
    "exception = except_file.read().split(',')\n",
    "exception.append(\" \")\n",
    "\n",
    "punct = set(u''':!),.:;?]}$¢'\"、。〉》」』】〕〗〞︰︱︳﹐､﹒﹔﹕﹖﹗﹚﹜﹞！），．：；？｜｝︴︶︸︺︼︾﹀﹂﹄﹏､～￠々‖•·ˇˉ―--′’”([{£¥'\"‵〈《「『【〔〖（［｛￡￥〝︵︷︹︻︽︿﹁﹃﹙﹛﹝（｛“‘-—_…''')\n",
    "punct |= set(exception)\n",
    "punct = list(punct)\n",
    "stopwords = set(stopwords+punct)\n",
    "\n",
    "names = set()\n",
    "with open('./dict/name.txt', 'r', encoding=\"utf-8\") as file:\n",
    "    names= file.readlines()\n",
    "    names = [name.strip('\\n').strip() for name in names]\n",
    "\n",
    "def segmentWord(text):\n",
    "    words = [word for word in jieba.cut(text, cut_all=False) if len(word.strip())>1 and (word not in stopwords)  ]\n",
    "    return \"/\".join(set(words))"
   ]
  },
  {
   "cell_type": "code",
   "execution_count": 4,
   "metadata": {},
   "outputs": [],
   "source": [
    "fileName = \"天能\"\n",
    "df_more_fb = pd.read_excel(f\"./data/excel/{fileName}.xlsx\", sheet_name='Facebook', dtype={'content':str})\n",
    "df_more_news = pd.read_excel(f\"./data/excel/{fileName}.xlsx\", sheet_name='News', dtype={'content':str})\n",
    "df_more_ptt = pd.read_excel(f\"./data/excel/{fileName}.xlsx\", sheet_name='PTT', dtype={'content':str})\n",
    "df_more_forum = pd.read_excel(f\"./data/excel/{fileName}.xlsx\", sheet_name='Forum', dtype={'content':str})\n",
    "if 'dataId' in df_more_fb:\n",
    "    del df_more_fb['dataId']\n",
    "if 'dataId' in df_more_news:\n",
    "    del df_more_news['dataId']\n",
    "if 'dataId' in df_more_ptt:\n",
    "    del df_more_ptt['dataId']\n",
    "if 'dataId' in df_more_forum:\n",
    "    del df_more_forum['dataId']\n",
    "df_more_fb.fillna('', inplace=True)\n",
    "df_more_news.fillna('', inplace=True)\n",
    "df_more_ptt.fillna('', inplace=True)\n",
    "df_more_forum.fillna('', inplace=True)"
   ]
  },
  {
   "cell_type": "markdown",
   "metadata": {},
   "source": [
    "<a id=\"create_keyword\"></a>\n",
    "## Create Keyword Node"
   ]
  },
  {
   "cell_type": "code",
   "execution_count": 5,
   "metadata": {},
   "outputs": [],
   "source": [
    "df_more_fb['keywords'] = list(map(segmentWord, df_more_fb['content']))\n",
    "df_more_news['keywords'] = list(map(segmentWord, df_more_news['content']))\n",
    "df_more_ptt['keywords'] = list(map(segmentWord, df_more_ptt['content']))\n",
    "df_more_forum['keywords'] = list(map(segmentWord, df_more_forum['content']))"
   ]
  },
  {
   "cell_type": "code",
   "execution_count": 6,
   "metadata": {},
   "outputs": [],
   "source": [
    "df_more_fb['hashtags'] = list(map(extract_hashtag, df_more_fb['content']))\n",
    "df_more_news['hashtags'] = list(map(extract_hashtag, df_more_news['content']))\n",
    "df_more_ptt['hashtags'] = list(map(extract_hashtag, df_more_ptt['content']))\n",
    "df_more_forum['hashtags'] = list(map(extract_hashtag, df_more_forum['content']))"
   ]
  },
  {
   "cell_type": "code",
   "execution_count": 7,
   "metadata": {},
   "outputs": [],
   "source": [
    "df_more_fb['mention'] = list(map(extract_mention, df_more_fb['content']))\n",
    "df_more_news['mention'] = list(map(extract_mention, df_more_news['content']))\n",
    "df_more_ptt['mention'] = list(map(extract_mention, df_more_ptt['content']))\n",
    "df_more_forum['mention'] = list(map(extract_mention, df_more_forum['content']))"
   ]
  },
  {
   "cell_type": "code",
   "execution_count": 8,
   "metadata": {},
   "outputs": [],
   "source": [
    "more_fb_keyword_list = list(df_more_fb[df_more_fb['keywords'].str.len() > 0]['keywords'])\n",
    "more_news_keyword_list = list(df_more_news[df_more_news['keywords'].str.len() > 0]['keywords'])\n",
    "more_ptt_keyword_list = list(df_more_ptt[df_more_ptt['keywords'].str.len() > 0]['keywords'])\n",
    "more_forum_keyword_list = list(df_more_forum[df_more_forum['keywords'].str.len() > 0]['keywords'])"
   ]
  },
  {
   "cell_type": "code",
   "execution_count": 9,
   "metadata": {},
   "outputs": [],
   "source": [
    "more_fb_hashtags_list = list(df_more_fb[df_more_fb['hashtags'].str.len() > 0]['hashtags'])\n",
    "more_news_hashtags_list = list(df_more_news[df_more_news['hashtags'].str.len() > 0]['hashtags'])\n",
    "more_ptt_hashtags_list = list(df_more_ptt[df_more_ptt['hashtags'].str.len() > 0]['hashtags'])\n",
    "more_forum_hashtags_list = list(df_more_forum[df_more_forum['hashtags'].str.len() > 0]['hashtags'])"
   ]
  },
  {
   "cell_type": "code",
   "execution_count": 10,
   "metadata": {},
   "outputs": [],
   "source": [
    "more_fb_mention_list = list(df_more_fb[df_more_fb['mention'].str.len() > 0]['mention'])\n",
    "more_news_mention_list = list(df_more_news[df_more_news['mention'].str.len() > 0]['mention'])\n",
    "more_ptt_mention_list = list(df_more_ptt[df_more_ptt['mention'].str.len() > 0]['mention'])\n",
    "more_forum_mention_list = list(df_more_forum[df_more_forum['mention'].str.len() > 0]['mention'])"
   ]
  },
  {
   "cell_type": "code",
   "execution_count": 11,
   "metadata": {},
   "outputs": [
    {
     "data": {
      "text/plain": [
       "['#每一張海報都好酷/#爆編拼圖難割捨啊?場次時間：8/25（二）19：00＠美麗華大直影城/#是看IMAX無誤???/#限時一小時_1900前下好離手/#快閃爆好康/#2200與上週節目爆好康同時開獎/#中獎者需要今晚2359前回覆相關資料_並需自付郵資轉帳/#逾時不候/#販賣票券者絕不寬待/#這麼棒的電影節目還需要你的持續鼓勵pressplay.cc/popcornTENET/#Tenet/#天能/#RobertPattinson/#ElizabethDebicki',\n",
       " '#TENET天能',\n",
       " '#全面啟動/#GQ經典片單/#GQ電影',\n",
       " '#這選角「黛安娜王妃是一種精神。她的言語以及事蹟存於許多人心中。能夠在這個打從第一季起便深得我心的影集中飾演她，真的是此生至高無上的榮幸。」/#伊莉莎白戴比基/#王冠》不但確定會推出到第六季，隨著劇中時代越來越接近現代，不少劇迷也期待看見黛安娜王妃能出現其中，而這位王妃也確定將由曾演出《紳士密令》《天能》的影星伊莉莎白戴比基來詮釋。',\n",
       " '#台南新天地/#新光影城/#天能/#電影場次全面預購中',\n",
       " '#諾蘭導演【/#TENET天能】8月27日(四)上映/#林口威秀/#期待已久的大片',\n",
       " '#逆轉時空。導演/#克里斯多夫諾蘭/#約翰大衛華盛頓/#羅伯派汀森/#伊莉莎白戴比姬/#米高肯恩/#肯尼斯布萊納【/#天能】[保謢級]']"
      ]
     },
     "execution_count": 11,
     "metadata": {},
     "output_type": "execute_result"
    }
   ],
   "source": [
    "more_fb_hashtags_list[3:10]"
   ]
  },
  {
   "cell_type": "code",
   "execution_count": 12,
   "metadata": {},
   "outputs": [],
   "source": [
    "df_keyword = pd.DataFrame(more_fb_keyword_list+more_news_keyword_list+more_ptt_keyword_list+more_forum_keyword_list, columns=['keywords'])\n",
    "bag_keyword_list = []\n",
    "global_bag_keyword_list = []\n",
    "keyword_id_map = {}\n",
    "cnt_keyword = 100_000_000\n",
    "for index, row in df_keyword.iterrows():\n",
    "    for keyword in row['keywords'].split('/'):\n",
    "        if keyword.strip() not in global_bag_keyword_list:\n",
    "            cnt_keyword = cnt_keyword+1\n",
    "            cnt_keyword_code = \"K\"+str(cnt_keyword)\n",
    "            keyword_id_map[keyword] = cnt_keyword_code\n",
    "            bag_keyword_list.append({\"id\":cnt_keyword_code, \"keyword\":keyword})\n",
    "            global_bag_keyword_list.append(keyword)\n",
    "\n",
    "if global_bag_keyword_list:\n",
    "    # Create keyword nodes\n",
    "    all_keyword_nodes = pd.DataFrame(bag_keyword_list)\n",
    "    all_keyword_nodes = all_keyword_nodes.rename(columns={'id':'Keyword:ID'})\n",
    "    all_keyword_nodes[\":LABEL\"] = \"Keywords\"\n",
    "    all_keyword_nodes[\"keyword\"] = all_keyword_nodes[\"keyword\"].apply(lambda x : replace_double_quote(x))\n",
    "    all_keyword_nodes[\"keyword\"] = all_keyword_nodes[\"keyword\"].apply(lambda x: add_quote(x))\n",
    "    all_keyword_nodes.to_csv(f'opt/csv/more_tenet/post_keyword_nodes.csv', index=False, encoding='utf-8', quoting=csv.QUOTE_NONE, escapechar='\\\\')\n",
    "else:\n",
    "    # Create empty keyword nodes\n",
    "    keyword_id_map = {}\n",
    "    all_keyword_nodes = pd.DataFrame(columns=['Keyword:ID', 'keyword', ':LABEL'])\n",
    "    all_keyword_nodes.to_csv(f'opt/csv/more_tenet/post_keyword_nodes.csv', index=False, encoding='utf-8', quoting=csv.QUOTE_NONE, escapechar='\\\\')"
   ]
  },
  {
   "cell_type": "code",
   "execution_count": 13,
   "metadata": {},
   "outputs": [],
   "source": [
    "df_hashtags = pd.DataFrame(more_fb_hashtags_list+more_news_hashtags_list+more_ptt_hashtags_list+more_forum_hashtags_list, columns=['hashtags'])\n",
    "bag_hashtags_list = []\n",
    "global_bag_hashtags_list = []\n",
    "hashtags_id_map = {}\n",
    "cnt_hashtags = 100_000_000\n",
    "for index, row in df_hashtags.iterrows():\n",
    "    for hashtags in row['hashtags'].split('/'):\n",
    "        if hashtags.strip() not in global_bag_hashtags_list:\n",
    "            cnt_hashtags = cnt_hashtags+1\n",
    "            cnt_hashtags_code = \"H\"+str(cnt_hashtags)\n",
    "            hashtags_id_map[hashtags] = cnt_hashtags_code\n",
    "            bag_hashtags_list.append({\"id\":cnt_hashtags_code, \"hashtags\":hashtags})\n",
    "            global_bag_hashtags_list.append(hashtags)\n",
    "\n",
    "if global_bag_hashtags_list:\n",
    "    # Create hashtags nodes\n",
    "    all_hashtags_nodes = pd.DataFrame(bag_hashtags_list)\n",
    "    all_hashtags_nodes = all_hashtags_nodes.rename(columns={'id':'Hashtag:ID'})\n",
    "    all_hashtags_nodes[\":LABEL\"] = \"Hashtag\"\n",
    "    all_hashtags_nodes[\"hashtags\"] = all_hashtags_nodes[\"hashtags\"].apply(lambda x : replace_double_quote(x))\n",
    "    all_hashtags_nodes[\"hashtags\"] = all_hashtags_nodes[\"hashtags\"].apply(lambda x: add_quote(x))\n",
    "    all_hashtags_nodes.to_csv(f'opt/csv/more_tenet/post_hashtags_nodes.csv', index=False, encoding='utf-8', quoting=csv.QUOTE_NONE, escapechar='\\\\')\n",
    "else:\n",
    "    # Create empty hashtags nodes\n",
    "    hashtags_id_map = {}\n",
    "    all_hashtags_nodes = pd.DataFrame(columns=['Hashtag:ID', 'hashtags', ':LABEL'])\n",
    "    all_hashtags_nodes.to_csv(f'opt/csv/more_tenet/post_hashtags_nodes.csv', index=False, encoding='utf-8', quoting=csv.QUOTE_NONE, escapechar='\\\\')"
   ]
  },
  {
   "cell_type": "code",
   "execution_count": 14,
   "metadata": {},
   "outputs": [],
   "source": [
    "df_mention = pd.DataFrame(more_fb_mention_list+more_news_mention_list+more_ptt_mention_list+more_forum_mention_list, columns=['mention'])\n",
    "bag_mention_list = []\n",
    "global_bag_mention_list = []\n",
    "mention_id_map = {}\n",
    "cnt_mention = 100_000_000\n",
    "for index, row in df_mention.iterrows():\n",
    "    for mention in row['mention'].split('/'):\n",
    "        if mention.strip() not in global_bag_mention_list:\n",
    "            cnt_mention = cnt_mention+1\n",
    "            cnt_mention_code = \"M\"+str(cnt_mention)\n",
    "            mention_id_map[mention] = cnt_mention_code\n",
    "            bag_mention_list.append({\"id\":cnt_mention_code, \"mention\":mention})\n",
    "            global_bag_mention_list.append(mention)\n",
    "\n",
    "if global_bag_mention_list:\n",
    "    # Create mention nodes\n",
    "    all_mention_nodes = pd.DataFrame(bag_mention_list)\n",
    "    all_mention_nodes = all_mention_nodes.rename(columns={'id':'Mention:ID'})\n",
    "    all_mention_nodes[\":LABEL\"] = \"MENTIONS\"\n",
    "    all_mention_nodes[\"mention\"] = all_mention_nodes[\"mention\"].apply(lambda x : replace_double_quote(x))\n",
    "    all_mention_nodes[\"mention\"] = all_mention_nodes[\"mention\"].apply(lambda x: add_quote(x))\n",
    "    all_mention_nodes.to_csv(f'opt/csv/more_tenet/post_mention_nodes.csv', index=False, encoding='utf-8', quoting=csv.QUOTE_NONE, escapechar='\\\\')\n",
    "else:\n",
    "    # Create empty mention nodes\n",
    "    mention_id_map = {}\n",
    "    all_mention_nodes = pd.DataFrame(columns=['Mention:ID', 'mention', ':LABEL'])\n",
    "    all_mention_nodes.to_csv(f'opt/csv/more_tenet/post_mention_nodes.csv', index=False, encoding='utf-8', quoting=csv.QUOTE_NONE, escapechar='\\\\')"
   ]
  },
  {
   "cell_type": "markdown",
   "metadata": {},
   "source": [
    "<a id=\"create_fb_post_node\"></a>\n",
    "## Create More FB Post Node"
   ]
  },
  {
   "cell_type": "code",
   "execution_count": 15,
   "metadata": {},
   "outputs": [
    {
     "data": {
      "text/plain": [
       "Index(['postLink', 'pageId', 'fromId', 'fromName', 'caption', 'description',\n",
       "       'linkName', 'link', 'picture', 'likes', 'comments', 'shares',\n",
       "       'totalResponse', 'postType', 'time', 'crawlTime', 'sentiment',\n",
       "       'reactionLove', 'reactionWow', 'reactionHaha', 'reactionSad',\n",
       "       'reactionAngry', 'reactions', 'content', 'keyword', 'keywords',\n",
       "       'hashtags', 'mention'],\n",
       "      dtype='object')"
      ]
     },
     "execution_count": 15,
     "metadata": {},
     "output_type": "execute_result"
    }
   ],
   "source": [
    "df = df_more_fb.copy()\n",
    "df.columns"
   ]
  },
  {
   "cell_type": "code",
   "execution_count": 16,
   "metadata": {},
   "outputs": [
    {
     "name": "stdout",
     "output_type": "stream",
     "text": [
      "1510\n"
     ]
    },
    {
     "data": {
      "text/html": [
       "<div>\n",
       "<style scoped>\n",
       "    .dataframe tbody tr th:only-of-type {\n",
       "        vertical-align: middle;\n",
       "    }\n",
       "\n",
       "    .dataframe tbody tr th {\n",
       "        vertical-align: top;\n",
       "    }\n",
       "\n",
       "    .dataframe thead th {\n",
       "        text-align: right;\n",
       "    }\n",
       "</style>\n",
       "<table border=\"1\" class=\"dataframe\">\n",
       "  <thead>\n",
       "    <tr style=\"text-align: right;\">\n",
       "      <th></th>\n",
       "      <th>MFBPost:ID</th>\n",
       "      <th>description</th>\n",
       "      <th>fromName</th>\n",
       "      <th>content</th>\n",
       "      <th>link</th>\n",
       "      <th>picture</th>\n",
       "      <th>likes</th>\n",
       "      <th>comments</th>\n",
       "      <th>shares</th>\n",
       "      <th>postType</th>\n",
       "      <th>time</th>\n",
       "      <th>reactionLove</th>\n",
       "      <th>reactionWow</th>\n",
       "      <th>reactionHaha</th>\n",
       "      <th>reactionSad</th>\n",
       "      <th>reactionAngry</th>\n",
       "      <th>:LABEL</th>\n",
       "    </tr>\n",
       "  </thead>\n",
       "  <tbody>\n",
       "    <tr>\n",
       "      <th>0</th>\n",
       "      <td>MFB_https://www.facebook.com/504302659615499/p...</td>\n",
       "      <td>\"#禾浩辰 #活屍 #GetTheHellOut PART2 https://youtu.b...</td>\n",
       "      <td>\"爆米花看電影\"</td>\n",
       "      <td>\"希望X編有 #天能 幫爆米花看電影推上Youtube首頁熱門影片 （這個願望，只要大家多多...</td>\n",
       "      <td>https://popcornmoviestw.pros.si/GTHO02</td>\n",
       "      <td>https://external-nrt1-1.xx.fbcdn.net/safe_imag...</td>\n",
       "      <td>52</td>\n",
       "      <td>29</td>\n",
       "      <td>1</td>\n",
       "      <td>link</td>\n",
       "      <td>2020-08-17 23:21:03</td>\n",
       "      <td>11</td>\n",
       "      <td>1</td>\n",
       "      <td>0</td>\n",
       "      <td>8</td>\n",
       "      <td>0</td>\n",
       "      <td>MFBPost</td>\n",
       "    </tr>\n",
       "  </tbody>\n",
       "</table>\n",
       "</div>"
      ],
      "text/plain": [
       "                                          MFBPost:ID  \\\n",
       "0  MFB_https://www.facebook.com/504302659615499/p...   \n",
       "\n",
       "                                         description  fromName  \\\n",
       "0  \"#禾浩辰 #活屍 #GetTheHellOut PART2 https://youtu.b...  \"爆米花看電影\"   \n",
       "\n",
       "                                             content  \\\n",
       "0  \"希望X編有 #天能 幫爆米花看電影推上Youtube首頁熱門影片 （這個願望，只要大家多多...   \n",
       "\n",
       "                                     link  \\\n",
       "0  https://popcornmoviestw.pros.si/GTHO02   \n",
       "\n",
       "                                             picture  likes  comments  shares  \\\n",
       "0  https://external-nrt1-1.xx.fbcdn.net/safe_imag...     52        29       1   \n",
       "\n",
       "  postType                 time  reactionLove  reactionWow  reactionHaha  \\\n",
       "0     link  2020-08-17 23:21:03            11            1             0   \n",
       "\n",
       "   reactionSad  reactionAngry   :LABEL  \n",
       "0            8              0  MFBPost  "
      ]
     },
     "execution_count": 16,
     "metadata": {},
     "output_type": "execute_result"
    }
   ],
   "source": [
    "# Post:ID,text,:LABEL\n",
    "mfb_post_nodes = df[['postLink','description','fromName','content','link','picture','likes','comments','shares','postType','time','reactionLove','reactionWow','reactionHaha','reactionSad','reactionAngry']]\n",
    "mfb_post_nodes[\":LABEL\"] = \"MFBPost\"\n",
    "mfb_post_nodes = mfb_post_nodes.rename(columns={'postLink': 'MFBPost:ID'})\n",
    "mfb_post_nodes = mfb_post_nodes.drop_duplicates(subset='MFBPost:ID', keep=\"first\")\n",
    "\n",
    "mfb_post_nodes[\"MFBPost:ID\"] = mfb_post_nodes[\"MFBPost:ID\"].apply(lambda x: \"MFB_\"+str(x))\n",
    "mfb_post_nodes[\"description\"] = mfb_post_nodes[\"description\"].apply(lambda x : replace_double_quote(x))\n",
    "mfb_post_nodes[\"description\"] = mfb_post_nodes[\"description\"].apply(lambda x : add_quote(x))\n",
    "mfb_post_nodes[\"fromName\"] = mfb_post_nodes[\"fromName\"].apply(lambda x : replace_double_quote(x))\n",
    "mfb_post_nodes[\"fromName\"] = mfb_post_nodes[\"fromName\"].apply(lambda x : add_quote(x))\n",
    "mfb_post_nodes[\"content\"] = mfb_post_nodes[\"content\"].apply(lambda x:str(x).replace('\\n',' ').strip())\n",
    "mfb_post_nodes[\"content\"] = mfb_post_nodes[\"content\"].apply(lambda x : replace_double_quote(x))\n",
    "mfb_post_nodes[\"content\"] = mfb_post_nodes[\"content\"].apply(lambda x : add_quote(x))\n",
    "mfb_post_nodes.to_csv('opt/csv/more_tenet/mfb_post_nodes.csv', index=False, encoding='utf-8', quoting=csv.QUOTE_NONE, escapechar='\\\\')\n",
    "print(mfb_post_nodes.shape[0])\n",
    "mfb_post_nodes.head(1)"
   ]
  },
  {
   "cell_type": "markdown",
   "metadata": {},
   "source": [
    "<a id=\"create_fb_user_node\"></a>\n",
    "## Create More FB User Node"
   ]
  },
  {
   "cell_type": "code",
   "execution_count": 17,
   "metadata": {},
   "outputs": [
    {
     "name": "stdout",
     "output_type": "stream",
     "text": [
      "488\n"
     ]
    },
    {
     "data": {
      "text/html": [
       "<div>\n",
       "<style scoped>\n",
       "    .dataframe tbody tr th:only-of-type {\n",
       "        vertical-align: middle;\n",
       "    }\n",
       "\n",
       "    .dataframe tbody tr th {\n",
       "        vertical-align: top;\n",
       "    }\n",
       "\n",
       "    .dataframe thead th {\n",
       "        text-align: right;\n",
       "    }\n",
       "</style>\n",
       "<table border=\"1\" class=\"dataframe\">\n",
       "  <thead>\n",
       "    <tr style=\"text-align: right;\">\n",
       "      <th></th>\n",
       "      <th>MFBUser:ID</th>\n",
       "      <th>username</th>\n",
       "      <th>fromId</th>\n",
       "      <th>link</th>\n",
       "      <th>:LABEL</th>\n",
       "    </tr>\n",
       "  </thead>\n",
       "  <tbody>\n",
       "    <tr>\n",
       "      <th>0</th>\n",
       "      <td>MFB_504302659615499</td>\n",
       "      <td>\"爆米花看電影\"</td>\n",
       "      <td>5.04303e+14</td>\n",
       "      <td>https://www.facebook.com/504302659615499.0</td>\n",
       "      <td>MFBUser</td>\n",
       "    </tr>\n",
       "  </tbody>\n",
       "</table>\n",
       "</div>"
      ],
      "text/plain": [
       "            MFBUser:ID  username       fromId  \\\n",
       "0  MFB_504302659615499  \"爆米花看電影\"  5.04303e+14   \n",
       "\n",
       "                                         link   :LABEL  \n",
       "0  https://www.facebook.com/504302659615499.0  MFBUser  "
      ]
     },
     "execution_count": 17,
     "metadata": {},
     "output_type": "execute_result"
    }
   ],
   "source": [
    "# MFBUser:ID,username,:LABEL\n",
    "\n",
    "mfb_user_nodes = df[['postLink','pageId','fromId','fromName']]\n",
    "\n",
    "mfb_user_nodes = mfb_user_nodes.rename(columns={'pageId':'MFBUser:ID', 'fromName': 'username'})\n",
    "mfb_user_nodes[\":LABEL\"] = \"MFBUser\"\n",
    "mfb_user_nodes = mfb_user_nodes.drop_duplicates(subset='MFBUser:ID', keep=\"first\")\n",
    "\n",
    "mfb_user_nodes[\"link\"] = mfb_user_nodes[\"fromId\"].apply(lambda x : f\"https://www.facebook.com/{x}\")\n",
    "mfb_user_nodes[\"MFBUser:ID\"] = mfb_user_nodes[\"MFBUser:ID\"].apply(lambda x: \"MFB_\"+str(x))\n",
    "mfb_user_nodes[\"username\"] = mfb_user_nodes[\"username\"].apply(lambda x : replace_double_quote(x))\n",
    "mfb_user_nodes[\"username\"] = mfb_user_nodes[\"username\"].apply(lambda x : add_quote(x))\n",
    "mfb_user_nodes = mfb_user_nodes[[\"MFBUser:ID\",\"username\",\"fromId\",\"link\",\":LABEL\"]]\n",
    "mfb_user_nodes.to_csv('opt/csv/more_tenet/mfb_user_nodes.csv', index=False, encoding='utf-8', quoting=csv.QUOTE_NONE, escapechar='\\\\')\n",
    "print(mfb_user_nodes.shape[0])\n",
    "mfb_user_nodes.head(1)"
   ]
  },
  {
   "cell_type": "markdown",
   "metadata": {},
   "source": [
    "<a id=\"relationship_fb_post_user\"></a>\n",
    "## Relationship of MFB Post and User"
   ]
  },
  {
   "cell_type": "code",
   "execution_count": 18,
   "metadata": {},
   "outputs": [
    {
     "name": "stdout",
     "output_type": "stream",
     "text": [
      "1510\n"
     ]
    },
    {
     "data": {
      "text/html": [
       "<div>\n",
       "<style scoped>\n",
       "    .dataframe tbody tr th:only-of-type {\n",
       "        vertical-align: middle;\n",
       "    }\n",
       "\n",
       "    .dataframe tbody tr th {\n",
       "        vertical-align: top;\n",
       "    }\n",
       "\n",
       "    .dataframe thead th {\n",
       "        text-align: right;\n",
       "    }\n",
       "</style>\n",
       "<table border=\"1\" class=\"dataframe\">\n",
       "  <thead>\n",
       "    <tr style=\"text-align: right;\">\n",
       "      <th></th>\n",
       "      <th>:START_ID</th>\n",
       "      <th>username</th>\n",
       "      <th>pageId</th>\n",
       "      <th>link</th>\n",
       "      <th>:END_ID</th>\n",
       "      <th>:TYPE</th>\n",
       "    </tr>\n",
       "  </thead>\n",
       "  <tbody>\n",
       "    <tr>\n",
       "      <th>1066</th>\n",
       "      <td>MFB_466505160192708</td>\n",
       "      <td>\"Initium Media 端傳媒\"</td>\n",
       "      <td>466505160192708</td>\n",
       "      <td>MFB_466505160192708</td>\n",
       "      <td>MFB_https://www.facebook.com/466505160192708/p...</td>\n",
       "      <td>POSTS</td>\n",
       "    </tr>\n",
       "  </tbody>\n",
       "</table>\n",
       "</div>"
      ],
      "text/plain": [
       "                :START_ID             username           pageId  \\\n",
       "1066  MFB_466505160192708  \"Initium Media 端傳媒\"  466505160192708   \n",
       "\n",
       "                     link                                            :END_ID  \\\n",
       "1066  MFB_466505160192708  MFB_https://www.facebook.com/466505160192708/p...   \n",
       "\n",
       "      :TYPE  \n",
       "1066  POSTS  "
      ]
     },
     "execution_count": 18,
     "metadata": {},
     "output_type": "execute_result"
    }
   ],
   "source": [
    "# :START_ID,text,:END_ID,:TYPE\n",
    "\n",
    "to_id_list = list(mfb_post_nodes['MFBPost:ID'])\n",
    "\n",
    "MFB_user_post_relation = df[['pageId','fromName','postLink']]\n",
    "MFB_user_post_relation[\":START_ID\"] = MFB_user_post_relation[\"pageId\"].apply(lambda x:\"MFB_\"+str(x))\n",
    "MFB_user_post_relation = MFB_user_post_relation.rename(columns={'fromName': 'username',\n",
    "                                                                'postLink': ':END_ID'})\n",
    "MFB_user_post_relation[\":END_ID\"] = MFB_user_post_relation[\":END_ID\"].apply(lambda x:\"MFB_\"+str(x))\n",
    "MFB_user_post_relation[\"link\"] = MFB_user_post_relation[\"pageId\"].apply(lambda x:\"MFB_\"+str(x))\n",
    "MFB_user_post_relation[\"in_list\"] = MFB_user_post_relation[':END_ID'].apply(lambda x:if_in_list(x, to_id_list))\n",
    "MFB_user_post_relation = MFB_user_post_relation[MFB_user_post_relation['in_list']==1]\n",
    "del MFB_user_post_relation['in_list']\n",
    "MFB_user_post_relation[':TYPE'] = 'POSTS'\n",
    "MFB_user_post_relation = MFB_user_post_relation[[\":START_ID\",\"username\",\"pageId\",\"link\",\":END_ID\",\":TYPE\"]]\n",
    "MFB_user_post_relation[\"username\"] = MFB_user_post_relation[\"username\"].apply(lambda x : replace_double_quote(x))\n",
    "MFB_user_post_relation[\"username\"] = MFB_user_post_relation[\"username\"].apply(lambda x : add_quote(x))\n",
    "MFB_user_post_relation.to_csv('opt/csv/more_tenet/mfb_user_post_rel.csv', index=False, encoding='utf-8', quoting=csv.QUOTE_NONE, escapechar='\\\\')\n",
    "print(MFB_user_post_relation.shape[0])\n",
    "MFB_user_post_relation.sample(1)"
   ]
  },
  {
   "cell_type": "markdown",
   "metadata": {},
   "source": [
    "<a id=\"relationship_fb_keyword_post\"></a>\n",
    "## Relationship of MFB Post keywords and post"
   ]
  },
  {
   "cell_type": "code",
   "execution_count": 19,
   "metadata": {},
   "outputs": [
    {
     "name": "stdout",
     "output_type": "stream",
     "text": [
      "73563\n"
     ]
    },
    {
     "data": {
      "text/html": [
       "<div>\n",
       "<style scoped>\n",
       "    .dataframe tbody tr th:only-of-type {\n",
       "        vertical-align: middle;\n",
       "    }\n",
       "\n",
       "    .dataframe tbody tr th {\n",
       "        vertical-align: top;\n",
       "    }\n",
       "\n",
       "    .dataframe thead th {\n",
       "        text-align: right;\n",
       "    }\n",
       "</style>\n",
       "<table border=\"1\" class=\"dataframe\">\n",
       "  <thead>\n",
       "    <tr style=\"text-align: right;\">\n",
       "      <th></th>\n",
       "      <th>:START_ID</th>\n",
       "      <th>keyword</th>\n",
       "      <th>:END_ID</th>\n",
       "      <th>:TYPE</th>\n",
       "    </tr>\n",
       "  </thead>\n",
       "  <tbody>\n",
       "    <tr>\n",
       "      <th>34922</th>\n",
       "      <td>K100002758</td>\n",
       "      <td>\"完美\"</td>\n",
       "      <td>MFB_https://www.facebook.com/483575261691223/p...</td>\n",
       "      <td>RELATED_TO</td>\n",
       "    </tr>\n",
       "  </tbody>\n",
       "</table>\n",
       "</div>"
      ],
      "text/plain": [
       "        :START_ID keyword                                            :END_ID  \\\n",
       "34922  K100002758    \"完美\"  MFB_https://www.facebook.com/483575261691223/p...   \n",
       "\n",
       "            :TYPE  \n",
       "34922  RELATED_TO  "
      ]
     },
     "execution_count": 19,
     "metadata": {},
     "output_type": "execute_result"
    }
   ],
   "source": [
    "to_id_list = list(mfb_post_nodes['MFBPost:ID'])\n",
    "MFB_keyword_list = []\n",
    "for index, row in df_more_fb[df_more_fb['keywords']!=''].iterrows():\n",
    "    for keyword in row['keywords'].replace('\\n',' ').strip().split('/'):\n",
    "        MFB_keyword_list.append({\"keyword\":keyword, \"postId\":row['postLink']})\n",
    "\n",
    "MFB_keyword_nodes = pd.DataFrame(MFB_keyword_list)\n",
    "MFB_keyword_relation = MFB_keyword_nodes[['keyword','postId']]\n",
    "MFB_keyword_relation = MFB_keyword_relation.rename(columns={'keyword': 'keyword',\n",
    "                                                            'postId': ':END_ID'})\n",
    "MFB_keyword_relation[\":START_ID\"] =  MFB_keyword_relation[\"keyword\"].map(keyword_id_map)\n",
    "MFB_keyword_relation[\":END_ID\"] = MFB_keyword_relation[\":END_ID\"].apply(lambda x:\"MFB_\"+str(x))\n",
    "MFB_keyword_relation['in_list'] = MFB_keyword_relation[':END_ID'].apply(lambda x:if_in_list(x, to_id_list))\n",
    "MFB_keyword_relation = MFB_keyword_relation[MFB_keyword_relation['in_list']==1]\n",
    "del MFB_keyword_relation['in_list']\n",
    "MFB_keyword_relation[':TYPE'] = 'RELATED_TO'\n",
    "MFB_keyword_relation[\"keyword\"] = MFB_keyword_relation[\"keyword\"].apply(lambda x : replace_double_quote(x))\n",
    "MFB_keyword_relation[\"keyword\"] = MFB_keyword_relation[\"keyword\"].apply(lambda x : add_quote(x))\n",
    "MFB_keyword_relation = MFB_keyword_relation[[\":START_ID\",\"keyword\",\":END_ID\",\":TYPE\"]]\n",
    "MFB_keyword_relation.to_csv('opt/csv/more_tenet/mfb_post_keyword_rel.csv', index=False, encoding='utf-8', quoting=csv.QUOTE_NONE, escapechar='\\\\')\n",
    "print(MFB_keyword_relation.shape[0])\n",
    "MFB_keyword_relation.sample()"
   ]
  },
  {
   "cell_type": "markdown",
   "metadata": {},
   "source": [
    "<a id=\"relationship_fb_hashtag_post\"></a>\n",
    "## Relationship of MFB Post hashtag and post"
   ]
  },
  {
   "cell_type": "code",
   "execution_count": 20,
   "metadata": {},
   "outputs": [
    {
     "name": "stdout",
     "output_type": "stream",
     "text": [
      "4661\n"
     ]
    },
    {
     "data": {
      "text/html": [
       "<div>\n",
       "<style scoped>\n",
       "    .dataframe tbody tr th:only-of-type {\n",
       "        vertical-align: middle;\n",
       "    }\n",
       "\n",
       "    .dataframe tbody tr th {\n",
       "        vertical-align: top;\n",
       "    }\n",
       "\n",
       "    .dataframe thead th {\n",
       "        text-align: right;\n",
       "    }\n",
       "</style>\n",
       "<table border=\"1\" class=\"dataframe\">\n",
       "  <thead>\n",
       "    <tr style=\"text-align: right;\">\n",
       "      <th></th>\n",
       "      <th>:START_ID</th>\n",
       "      <th>hashtag</th>\n",
       "      <th>:END_ID</th>\n",
       "      <th>:TYPE</th>\n",
       "    </tr>\n",
       "  </thead>\n",
       "  <tbody>\n",
       "    <tr>\n",
       "      <th>0</th>\n",
       "      <td>H100000001</td>\n",
       "      <td>\"#天能\"</td>\n",
       "      <td>MFB_https://www.facebook.com/504302659615499/p...</td>\n",
       "      <td>TAGS</td>\n",
       "    </tr>\n",
       "  </tbody>\n",
       "</table>\n",
       "</div>"
      ],
      "text/plain": [
       "    :START_ID hashtag                                            :END_ID :TYPE\n",
       "0  H100000001   \"#天能\"  MFB_https://www.facebook.com/504302659615499/p...  TAGS"
      ]
     },
     "execution_count": 20,
     "metadata": {},
     "output_type": "execute_result"
    }
   ],
   "source": [
    "to_id_list = list(mfb_post_nodes['MFBPost:ID'])\n",
    "MFB_hashtag_list = []\n",
    "for index, row in df_more_fb[df_more_fb['hashtags']!=''].iterrows():\n",
    "    for hashtag in row['hashtags'].replace('\\n',' ').strip().split('/'):\n",
    "        MFB_hashtag_list.append({\"hashtag\":hashtag, \"postId\":row['postLink']})\n",
    "\n",
    "if len(MFB_hashtag_list)>0:\n",
    "    MFB_hashtag_nodes = pd.DataFrame(MFB_hashtag_list)\n",
    "    MFB_hashtag_relation = MFB_hashtag_nodes[['hashtag','postId']]\n",
    "    MFB_hashtag_relation = MFB_hashtag_relation.rename(columns={'hashtag': 'hashtag',\n",
    "                                                                'postId': ':END_ID'})\n",
    "    MFB_hashtag_relation[\":START_ID\"] =  MFB_hashtag_relation[\"hashtag\"].map(hashtags_id_map)\n",
    "    MFB_hashtag_relation[\":END_ID\"] = MFB_hashtag_relation[\":END_ID\"].apply(lambda x:\"MFB_\"+str(x))\n",
    "    MFB_hashtag_relation['in_list'] = MFB_hashtag_relation[':END_ID'].apply(lambda x:if_in_list(x, to_id_list))\n",
    "    MFB_hashtag_relation = MFB_hashtag_relation[MFB_hashtag_relation['in_list']==1]\n",
    "    del MFB_hashtag_relation['in_list']\n",
    "    MFB_hashtag_relation[':TYPE'] = 'TAGS'\n",
    "    MFB_hashtag_relation[\"hashtag\"] = MFB_hashtag_relation[\"hashtag\"].apply(lambda x : replace_double_quote(x))\n",
    "    MFB_hashtag_relation[\"hashtag\"] = MFB_hashtag_relation[\"hashtag\"].apply(lambda x : add_quote(x))\n",
    "    MFB_hashtag_relation = MFB_hashtag_relation[[\":START_ID\",\"hashtag\",\":END_ID\",\":TYPE\"]]\n",
    "    MFB_hashtag_relation.to_csv('opt/csv/more_tenet/mfb_post_hashtag_rel.csv', index=False, encoding='utf-8', quoting=csv.QUOTE_NONE, escapechar='\\\\')\n",
    "    print(MFB_hashtag_relation.shape[0])\n",
    "else:\n",
    "    MFB_hashtag_relation = pd.DataFrame(columns=[\":START_ID\",\"hashtag\",\":END_ID\",\":TYPE\"])\n",
    "    MFB_hashtag_relation.to_csv('opt/csv/more_tenet/mnews_post_hashtag_rel.csv', index=False, encoding='utf-8', quoting=csv.QUOTE_NONE, escapechar='\\\\')\n",
    "MFB_hashtag_relation.head(1)"
   ]
  },
  {
   "cell_type": "markdown",
   "metadata": {},
   "source": [
    "<a id=\"create_news_node\"></a>\n",
    "## Create More News Post Node"
   ]
  },
  {
   "cell_type": "code",
   "execution_count": 21,
   "metadata": {},
   "outputs": [
    {
     "data": {
      "text/plain": [
       "Index(['sitename', 'type', 'url', 'title', 'content', 'time', 'crawlTime',\n",
       "       'sentiment', 'author', 'keyword', 'keywords', 'hashtags', 'mention'],\n",
       "      dtype='object')"
      ]
     },
     "execution_count": 21,
     "metadata": {},
     "output_type": "execute_result"
    }
   ],
   "source": [
    "df = df_more_news.copy()\n",
    "df.columns"
   ]
  },
  {
   "cell_type": "code",
   "execution_count": 22,
   "metadata": {},
   "outputs": [
    {
     "data": {
      "text/html": [
       "<div>\n",
       "<style scoped>\n",
       "    .dataframe tbody tr th:only-of-type {\n",
       "        vertical-align: middle;\n",
       "    }\n",
       "\n",
       "    .dataframe tbody tr th {\n",
       "        vertical-align: top;\n",
       "    }\n",
       "\n",
       "    .dataframe thead th {\n",
       "        text-align: right;\n",
       "    }\n",
       "</style>\n",
       "<table border=\"1\" class=\"dataframe\">\n",
       "  <thead>\n",
       "    <tr style=\"text-align: right;\">\n",
       "      <th></th>\n",
       "      <th>sitename</th>\n",
       "      <th>type</th>\n",
       "      <th>url</th>\n",
       "      <th>title</th>\n",
       "      <th>content</th>\n",
       "      <th>time</th>\n",
       "      <th>crawlTime</th>\n",
       "      <th>sentiment</th>\n",
       "      <th>author</th>\n",
       "      <th>keyword</th>\n",
       "      <th>keywords</th>\n",
       "      <th>hashtags</th>\n",
       "      <th>mention</th>\n",
       "    </tr>\n",
       "  </thead>\n",
       "  <tbody>\n",
       "    <tr>\n",
       "      <th>491</th>\n",
       "      <td>match生活網</td>\n",
       "      <td>即時新聞</td>\n",
       "      <td>http://m.match.net.tw/pc/news/entertainment/20...</td>\n",
       "      <td>諾蘭經典之作《星際效應》 下月8日重返大銀幕</td>\n",
       "      <td>導演克里斯多夫諾蘭執導的新作《天能》在台上映以來掀起熱烈討論，觀影人次也突破百萬，繼續保持票...</td>\n",
       "      <td>2020-09-15 23:27:00</td>\n",
       "      <td>2020-09-16 00:21:05</td>\n",
       "      <td>positive</td>\n",
       "      <td>match生活網</td>\n",
       "      <td>天能\"AND\"電影</td>\n",
       "      <td>討論/2014/Top/星際/遙遠/西卡/視覺/計劃/動搖/造成/250/主要演員/評分/執...</td>\n",
       "      <td></td>\n",
       "      <td></td>\n",
       "    </tr>\n",
       "  </tbody>\n",
       "</table>\n",
       "</div>"
      ],
      "text/plain": [
       "     sitename  type                                                url  \\\n",
       "491  match生活網  即時新聞  http://m.match.net.tw/pc/news/entertainment/20...   \n",
       "\n",
       "                      title  \\\n",
       "491  諾蘭經典之作《星際效應》 下月8日重返大銀幕   \n",
       "\n",
       "                                               content                 time  \\\n",
       "491  導演克里斯多夫諾蘭執導的新作《天能》在台上映以來掀起熱烈討論，觀影人次也突破百萬，繼續保持票...  2020-09-15 23:27:00   \n",
       "\n",
       "               crawlTime sentiment    author    keyword  \\\n",
       "491  2020-09-16 00:21:05  positive  match生活網  天能\"AND\"電影   \n",
       "\n",
       "                                              keywords hashtags mention  \n",
       "491  討論/2014/Top/星際/遙遠/西卡/視覺/計劃/動搖/造成/250/主要演員/評分/執...                   "
      ]
     },
     "execution_count": 22,
     "metadata": {},
     "output_type": "execute_result"
    }
   ],
   "source": [
    "df.sample()"
   ]
  },
  {
   "cell_type": "code",
   "execution_count": 23,
   "metadata": {},
   "outputs": [
    {
     "name": "stdout",
     "output_type": "stream",
     "text": [
      "943\n"
     ]
    },
    {
     "data": {
      "text/html": [
       "<div>\n",
       "<style scoped>\n",
       "    .dataframe tbody tr th:only-of-type {\n",
       "        vertical-align: middle;\n",
       "    }\n",
       "\n",
       "    .dataframe tbody tr th {\n",
       "        vertical-align: top;\n",
       "    }\n",
       "\n",
       "    .dataframe thead th {\n",
       "        text-align: right;\n",
       "    }\n",
       "</style>\n",
       "<table border=\"1\" class=\"dataframe\">\n",
       "  <thead>\n",
       "    <tr style=\"text-align: right;\">\n",
       "      <th></th>\n",
       "      <th>MNewsPost:ID</th>\n",
       "      <th>sitename</th>\n",
       "      <th>title</th>\n",
       "      <th>content</th>\n",
       "      <th>type</th>\n",
       "      <th>author</th>\n",
       "      <th>time</th>\n",
       "      <th>:LABEL</th>\n",
       "    </tr>\n",
       "  </thead>\n",
       "  <tbody>\n",
       "    <tr>\n",
       "      <th>0</th>\n",
       "      <td>MNews_https://star.ettoday.net/news/1787084</td>\n",
       "      <td>\"ETtoday\"</td>\n",
       "      <td>\"李芷婷零下10度看展「老神在在」　曝台灣賞雪秘境！\"</td>\n",
       "      <td>\"記者翁子涵／台北報導 李芷婷日前推出首張專輯《美麗舊世界》，原本今年還計畫去日本或韓國旅遊...</td>\n",
       "      <td>\"影劇\"</td>\n",
       "      <td>\"ETtoday\"</td>\n",
       "      <td>2020-08-17 22:11:00</td>\n",
       "      <td>MNewsPost</td>\n",
       "    </tr>\n",
       "  </tbody>\n",
       "</table>\n",
       "</div>"
      ],
      "text/plain": [
       "                                  MNewsPost:ID   sitename  \\\n",
       "0  MNews_https://star.ettoday.net/news/1787084  \"ETtoday\"   \n",
       "\n",
       "                         title  \\\n",
       "0  \"李芷婷零下10度看展「老神在在」　曝台灣賞雪秘境！\"   \n",
       "\n",
       "                                             content  type     author  \\\n",
       "0  \"記者翁子涵／台北報導 李芷婷日前推出首張專輯《美麗舊世界》，原本今年還計畫去日本或韓國旅遊...  \"影劇\"  \"ETtoday\"   \n",
       "\n",
       "                  time     :LABEL  \n",
       "0  2020-08-17 22:11:00  MNewsPost  "
      ]
     },
     "execution_count": 23,
     "metadata": {},
     "output_type": "execute_result"
    }
   ],
   "source": [
    "# Post:ID,text,:LABEL\n",
    "mnews_post_nodes = df[['url','sitename','title','content','type','author','time']]\n",
    "mnews_post_nodes[\":LABEL\"] = \"MNewsPost\"\n",
    "mnews_post_nodes = mnews_post_nodes.rename(columns={'url': 'MNewsPost:ID'})\n",
    "mnews_post_nodes = mnews_post_nodes.drop_duplicates(subset='MNewsPost:ID', keep=\"first\")\n",
    "\n",
    "mnews_post_nodes[\"MNewsPost:ID\"] = mnews_post_nodes[\"MNewsPost:ID\"].apply(lambda x: \"MNews_\"+str(x))\n",
    "mnews_post_nodes[\"sitename\"] = mnews_post_nodes[\"sitename\"].apply(lambda x : replace_double_quote(x))\n",
    "mnews_post_nodes[\"sitename\"] = mnews_post_nodes[\"sitename\"].apply(lambda x : add_quote(x))\n",
    "mnews_post_nodes[\"type\"] = mnews_post_nodes[\"type\"].apply(lambda x : replace_double_quote(x))\n",
    "mnews_post_nodes[\"type\"] = mnews_post_nodes[\"type\"].apply(lambda x : add_quote(x))\n",
    "mnews_post_nodes[\"title\"] = mnews_post_nodes[\"title\"].apply(lambda x : replace_double_quote(x))\n",
    "mnews_post_nodes[\"title\"] = mnews_post_nodes[\"title\"].apply(lambda x : add_quote(x))\n",
    "mnews_post_nodes[\"author\"] = mnews_post_nodes[\"author\"].apply(lambda x : replace_double_quote(x))\n",
    "mnews_post_nodes[\"author\"] = mnews_post_nodes[\"author\"].apply(lambda x : add_quote(x))\n",
    "mnews_post_nodes[\"content\"] = mnews_post_nodes[\"content\"].apply(lambda x:str(x).replace('\\n',' ').strip())\n",
    "mnews_post_nodes[\"content\"] = mnews_post_nodes[\"content\"].apply(lambda x : replace_double_quote(x))\n",
    "mnews_post_nodes[\"content\"] = mnews_post_nodes[\"content\"].apply(lambda x : add_quote(x))\n",
    "mnews_post_nodes.to_csv('opt/csv/more_tenet/mnews_post_nodes.csv', index=False, encoding='utf-8', quoting=csv.QUOTE_NONE, escapechar='\\\\')\n",
    "print(mnews_post_nodes.shape[0])\n",
    "mnews_post_nodes.head(1)"
   ]
  },
  {
   "cell_type": "markdown",
   "metadata": {},
   "source": [
    "<a id=\"create_news_user\"></a>\n",
    "## Create More News User Node"
   ]
  },
  {
   "cell_type": "code",
   "execution_count": 24,
   "metadata": {},
   "outputs": [
    {
     "name": "stdout",
     "output_type": "stream",
     "text": [
      "61\n"
     ]
    },
    {
     "data": {
      "text/html": [
       "<div>\n",
       "<style scoped>\n",
       "    .dataframe tbody tr th:only-of-type {\n",
       "        vertical-align: middle;\n",
       "    }\n",
       "\n",
       "    .dataframe tbody tr th {\n",
       "        vertical-align: top;\n",
       "    }\n",
       "\n",
       "    .dataframe thead th {\n",
       "        text-align: right;\n",
       "    }\n",
       "</style>\n",
       "<table border=\"1\" class=\"dataframe\">\n",
       "  <thead>\n",
       "    <tr style=\"text-align: right;\">\n",
       "      <th></th>\n",
       "      <th>MNewsUser:ID</th>\n",
       "      <th>username</th>\n",
       "      <th>type</th>\n",
       "      <th>:LABEL</th>\n",
       "    </tr>\n",
       "  </thead>\n",
       "  <tbody>\n",
       "    <tr>\n",
       "      <th>0</th>\n",
       "      <td>MNews_ETtoday</td>\n",
       "      <td>\"ETtoday\"</td>\n",
       "      <td>\"影劇\"</td>\n",
       "      <td>MNewsUser</td>\n",
       "    </tr>\n",
       "  </tbody>\n",
       "</table>\n",
       "</div>"
      ],
      "text/plain": [
       "    MNewsUser:ID   username  type     :LABEL\n",
       "0  MNews_ETtoday  \"ETtoday\"  \"影劇\"  MNewsUser"
      ]
     },
     "execution_count": 24,
     "metadata": {},
     "output_type": "execute_result"
    }
   ],
   "source": [
    "# MNewsUser:ID,username,:LABEL\n",
    "\n",
    "mnews_user_nodes = df[['sitename','author','type']]\n",
    "\n",
    "mnews_user_nodes = mnews_user_nodes.rename(columns={'sitename':'MNewsUser:ID', 'author': 'username'})\n",
    "mnews_user_nodes[\":LABEL\"] = \"MNewsUser\"\n",
    "mnews_user_nodes = mnews_user_nodes.drop_duplicates(subset='MNewsUser:ID', keep=\"first\")\n",
    "\n",
    "mnews_user_nodes[\"MNewsUser:ID\"] = mnews_user_nodes[\"MNewsUser:ID\"].apply(lambda x: \"MNews_\"+str(x))\n",
    "mnews_user_nodes[\"username\"] = mnews_user_nodes[\"username\"].apply(lambda x : replace_double_quote(x))\n",
    "mnews_user_nodes[\"username\"] = mnews_user_nodes[\"username\"].apply(lambda x : add_quote(x))\n",
    "mnews_user_nodes[\"type\"] = mnews_user_nodes[\"type\"].apply(lambda x : replace_double_quote(x))\n",
    "mnews_user_nodes[\"type\"] = mnews_user_nodes[\"type\"].apply(lambda x : add_quote(x))\n",
    "mnews_user_nodes = mnews_user_nodes[[\"MNewsUser:ID\",\"username\",\"type\",\":LABEL\"]]\n",
    "mnews_user_nodes.to_csv('opt/csv/more_tenet/mnews_user_nodes.csv', index=False, encoding='utf-8', quoting=csv.QUOTE_NONE, escapechar='\\\\')\n",
    "print(mnews_user_nodes.shape[0])\n",
    "mnews_user_nodes.head(1)"
   ]
  },
  {
   "cell_type": "markdown",
   "metadata": {},
   "source": [
    "<a id=\"relationship_news_post_user\"></a>\n",
    "## Relationship of MNews Post and User"
   ]
  },
  {
   "cell_type": "code",
   "execution_count": 25,
   "metadata": {},
   "outputs": [
    {
     "name": "stdout",
     "output_type": "stream",
     "text": [
      "943\n"
     ]
    },
    {
     "data": {
      "text/html": [
       "<div>\n",
       "<style scoped>\n",
       "    .dataframe tbody tr th:only-of-type {\n",
       "        vertical-align: middle;\n",
       "    }\n",
       "\n",
       "    .dataframe tbody tr th {\n",
       "        vertical-align: top;\n",
       "    }\n",
       "\n",
       "    .dataframe thead th {\n",
       "        text-align: right;\n",
       "    }\n",
       "</style>\n",
       "<table border=\"1\" class=\"dataframe\">\n",
       "  <thead>\n",
       "    <tr style=\"text-align: right;\">\n",
       "      <th></th>\n",
       "      <th>:START_ID</th>\n",
       "      <th>username</th>\n",
       "      <th>:END_ID</th>\n",
       "      <th>:TYPE</th>\n",
       "    </tr>\n",
       "  </thead>\n",
       "  <tbody>\n",
       "    <tr>\n",
       "      <th>262</th>\n",
       "      <td>MNews_妞新聞</td>\n",
       "      <td>\"妞新聞\"</td>\n",
       "      <td>MNews_https://www.niusnews.com/=P2qe5sy2</td>\n",
       "      <td>POSTS</td>\n",
       "    </tr>\n",
       "  </tbody>\n",
       "</table>\n",
       "</div>"
      ],
      "text/plain": [
       "     :START_ID username                                   :END_ID  :TYPE\n",
       "262  MNews_妞新聞    \"妞新聞\"  MNews_https://www.niusnews.com/=P2qe5sy2  POSTS"
      ]
     },
     "execution_count": 25,
     "metadata": {},
     "output_type": "execute_result"
    }
   ],
   "source": [
    "# :START_ID,text,:END_ID,:TYPE\n",
    "\n",
    "to_id_list = list(mnews_post_nodes['MNewsPost:ID'])\n",
    "\n",
    "MNews_user_post_relation = df[['sitename','author','url']]\n",
    "MNews_user_post_relation[\":START_ID\"] = MNews_user_post_relation[\"sitename\"].apply(lambda x:\"MNews_\"+str(x))\n",
    "MNews_user_post_relation = MNews_user_post_relation.rename(columns={'author':'username', 'url':':END_ID'})\n",
    "MNews_user_post_relation[\":END_ID\"] = MNews_user_post_relation[\":END_ID\"].apply(lambda x:\"MNews_\"+str(x))\n",
    "MNews_user_post_relation[\"in_list\"] = MNews_user_post_relation[':END_ID'].apply(lambda x:if_in_list(x, to_id_list))\n",
    "MNews_user_post_relation = MNews_user_post_relation[MNews_user_post_relation['in_list']==1]\n",
    "del MNews_user_post_relation['in_list']\n",
    "MNews_user_post_relation[':TYPE'] = 'POSTS'\n",
    "MNews_user_post_relation = MNews_user_post_relation[[\":START_ID\",\"username\",\":END_ID\",\":TYPE\"]]\n",
    "MNews_user_post_relation[\"username\"] = MNews_user_post_relation[\"username\"].apply(lambda x : replace_double_quote(x))\n",
    "MNews_user_post_relation[\"username\"] = MNews_user_post_relation[\"username\"].apply(lambda x : add_quote(x))\n",
    "MNews_user_post_relation.to_csv('opt/csv/more_tenet/mnews_user_post_rel.csv', index=False, encoding='utf-8', quoting=csv.QUOTE_NONE, escapechar='\\\\')\n",
    "print(MNews_user_post_relation.shape[0])\n",
    "MNews_user_post_relation.sample(1)"
   ]
  },
  {
   "cell_type": "markdown",
   "metadata": {},
   "source": [
    "<a id=\"relationship_news_keyword_post\"></a>\n",
    "## Relationship of MNews Post keywords and post"
   ]
  },
  {
   "cell_type": "code",
   "execution_count": 26,
   "metadata": {},
   "outputs": [
    {
     "name": "stdout",
     "output_type": "stream",
     "text": [
      "216929\n"
     ]
    },
    {
     "data": {
      "text/html": [
       "<div>\n",
       "<style scoped>\n",
       "    .dataframe tbody tr th:only-of-type {\n",
       "        vertical-align: middle;\n",
       "    }\n",
       "\n",
       "    .dataframe tbody tr th {\n",
       "        vertical-align: top;\n",
       "    }\n",
       "\n",
       "    .dataframe thead th {\n",
       "        text-align: right;\n",
       "    }\n",
       "</style>\n",
       "<table border=\"1\" class=\"dataframe\">\n",
       "  <thead>\n",
       "    <tr style=\"text-align: right;\">\n",
       "      <th></th>\n",
       "      <th>:START_ID</th>\n",
       "      <th>keyword</th>\n",
       "      <th>:END_ID</th>\n",
       "      <th>:TYPE</th>\n",
       "    </tr>\n",
       "  </thead>\n",
       "  <tbody>\n",
       "    <tr>\n",
       "      <th>160091</th>\n",
       "      <td>K100005137</td>\n",
       "      <td>\"改編自\"</td>\n",
       "      <td>MNews_https://today.line.me/tw/v2/article/1eGlzp</td>\n",
       "      <td>RELATED_TO</td>\n",
       "    </tr>\n",
       "  </tbody>\n",
       "</table>\n",
       "</div>"
      ],
      "text/plain": [
       "         :START_ID keyword                                           :END_ID  \\\n",
       "160091  K100005137   \"改編自\"  MNews_https://today.line.me/tw/v2/article/1eGlzp   \n",
       "\n",
       "             :TYPE  \n",
       "160091  RELATED_TO  "
      ]
     },
     "execution_count": 26,
     "metadata": {},
     "output_type": "execute_result"
    }
   ],
   "source": [
    "to_id_list = list(mnews_post_nodes['MNewsPost:ID'])\n",
    "MNews_keyword_list = []\n",
    "for index, row in df_more_news[df_more_news['keywords']!=''].iterrows():\n",
    "    for keyword in row['keywords'].replace('\\n',' ').strip().split('/'):\n",
    "        MNews_keyword_list.append({\"keyword\":keyword, \"postId\":row['url']})\n",
    "\n",
    "MNews_keyword_nodes = pd.DataFrame(MNews_keyword_list)\n",
    "MNews_keyword_relation = MNews_keyword_nodes[['keyword','postId']]\n",
    "MNews_keyword_relation = MNews_keyword_relation.rename(columns={'keyword': 'keyword',\n",
    "                                                            'postId': ':END_ID'})\n",
    "MNews_keyword_relation[\":START_ID\"] =  MNews_keyword_relation[\"keyword\"].map(keyword_id_map)\n",
    "MNews_keyword_relation[\":END_ID\"] = MNews_keyword_relation[\":END_ID\"].apply(lambda x:\"MNews_\"+str(x))\n",
    "MNews_keyword_relation['in_list'] = MNews_keyword_relation[':END_ID'].apply(lambda x:if_in_list(x, to_id_list))\n",
    "MNews_keyword_relation = MNews_keyword_relation[MNews_keyword_relation['in_list']==1]\n",
    "del MNews_keyword_relation['in_list']\n",
    "MNews_keyword_relation[':TYPE'] = 'RELATED_TO'\n",
    "MNews_keyword_relation[\"keyword\"] = MNews_keyword_relation[\"keyword\"].apply(lambda x : replace_double_quote(x))\n",
    "MNews_keyword_relation[\"keyword\"] = MNews_keyword_relation[\"keyword\"].apply(lambda x : add_quote(x))\n",
    "MNews_keyword_relation = MNews_keyword_relation[[\":START_ID\",\"keyword\",\":END_ID\",\":TYPE\"]]\n",
    "MNews_keyword_relation.to_csv('opt/csv/more_tenet/mnews_post_keyword_rel.csv', index=False, encoding='utf-8', quoting=csv.QUOTE_NONE, escapechar='\\\\')\n",
    "print(MNews_keyword_relation.shape[0])\n",
    "MNews_keyword_relation.sample()"
   ]
  },
  {
   "cell_type": "markdown",
   "metadata": {},
   "source": [
    "<a id=\"relationship_news_hashtag_post\"></a>\n",
    "## Relationship of MNews Post hashtag and post"
   ]
  },
  {
   "cell_type": "code",
   "execution_count": 27,
   "metadata": {},
   "outputs": [
    {
     "name": "stdout",
     "output_type": "stream",
     "text": [
      "189\n"
     ]
    },
    {
     "data": {
      "text/html": [
       "<div>\n",
       "<style scoped>\n",
       "    .dataframe tbody tr th:only-of-type {\n",
       "        vertical-align: middle;\n",
       "    }\n",
       "\n",
       "    .dataframe tbody tr th {\n",
       "        vertical-align: top;\n",
       "    }\n",
       "\n",
       "    .dataframe thead th {\n",
       "        text-align: right;\n",
       "    }\n",
       "</style>\n",
       "<table border=\"1\" class=\"dataframe\">\n",
       "  <thead>\n",
       "    <tr style=\"text-align: right;\">\n",
       "      <th></th>\n",
       "      <th>:START_ID</th>\n",
       "      <th>hashtag</th>\n",
       "      <th>:END_ID</th>\n",
       "      <th>:TYPE</th>\n",
       "    </tr>\n",
       "  </thead>\n",
       "  <tbody>\n",
       "    <tr>\n",
       "      <th>0</th>\n",
       "      <td>H100000438</td>\n",
       "      <td>\"#\"</td>\n",
       "      <td>MNews_https://www.chinatimes.com/newspapers/20...</td>\n",
       "      <td>RELATED_TO</td>\n",
       "    </tr>\n",
       "  </tbody>\n",
       "</table>\n",
       "</div>"
      ],
      "text/plain": [
       "    :START_ID hashtag                                            :END_ID  \\\n",
       "0  H100000438     \"#\"  MNews_https://www.chinatimes.com/newspapers/20...   \n",
       "\n",
       "        :TYPE  \n",
       "0  RELATED_TO  "
      ]
     },
     "execution_count": 27,
     "metadata": {},
     "output_type": "execute_result"
    }
   ],
   "source": [
    "to_id_list = list(mnews_post_nodes['MNewsPost:ID'])\n",
    "MNews_hashtag_list = []\n",
    "for index, row in df_more_news[df_more_news['hashtags']!=''].iterrows():\n",
    "    for hashtag in row['hashtags'].replace('\\n',' ').strip().split('/'):\n",
    "        MNews_hashtag_list.append({\"hashtag\":hashtag, \"postId\":row['url']})\n",
    "\n",
    "if len(MNews_hashtag_list)>0:\n",
    "    MNews_hashtag_nodes = pd.DataFrame(MNews_hashtag_list)\n",
    "    MNews_hashtag_relation = MNews_hashtag_nodes[['hashtag','postId']]\n",
    "    MNews_hashtag_relation = MNews_hashtag_relation.rename(columns={'hashtag': 'hashtag',\n",
    "                                                                'postId': ':END_ID'})\n",
    "    MNews_hashtag_relation[\":START_ID\"] =  MNews_hashtag_relation[\"hashtag\"].map(hashtags_id_map)\n",
    "    MNews_hashtag_relation[\":END_ID\"] = MNews_hashtag_relation[\":END_ID\"].apply(lambda x:\"MNews_\"+str(x))\n",
    "    MNews_hashtag_relation['in_list'] = MNews_hashtag_relation[':END_ID'].apply(lambda x:if_in_list(x, to_id_list))\n",
    "    MNews_hashtag_relation = MNews_hashtag_relation[MNews_hashtag_relation['in_list']==1]\n",
    "    del MNews_hashtag_relation['in_list']\n",
    "    MNews_hashtag_relation[':TYPE'] = 'RELATED_TO'\n",
    "    MNews_hashtag_relation[\"hashtag\"] = MNews_hashtag_relation[\"hashtag\"].apply(lambda x : replace_double_quote(x))\n",
    "    MNews_hashtag_relation[\"hashtag\"] = MNews_hashtag_relation[\"hashtag\"].apply(lambda x : add_quote(x))\n",
    "    MNews_hashtag_relation = MNews_hashtag_relation[[\":START_ID\",\"hashtag\",\":END_ID\",\":TYPE\"]]\n",
    "    MNews_hashtag_relation.to_csv('opt/csv/more_tenet/mnews_post_hashtag_rel.csv', index=False, encoding='utf-8', quoting=csv.QUOTE_NONE, escapechar='\\\\')\n",
    "    print(MNews_hashtag_relation.shape[0])\n",
    "else:\n",
    "    MNews_hashtag_relation = pd.DataFrame(columns=[\":START_ID\",\"hashtag\",\":END_ID\",\":TYPE\"])\n",
    "    MNews_hashtag_relation.to_csv('opt/csv/more_tenet/mnews_post_hashtag_rel.csv', index=False, encoding='utf-8', quoting=csv.QUOTE_NONE, escapechar='\\\\')\n",
    "MNews_hashtag_relation.head(1)"
   ]
  },
  {
   "cell_type": "markdown",
   "metadata": {},
   "source": [
    "<a id=\"create_forum_post_node\"></a>\n",
    "## Create More Forum Post Node"
   ]
  },
  {
   "cell_type": "code",
   "execution_count": 28,
   "metadata": {},
   "outputs": [
    {
     "data": {
      "text/plain": [
       "Index(['forum', 'channel', 'url', 'title', 'content', 'replyCount', 'time',\n",
       "       'crawlTime', 'author', 'isReply', 'sentiment', 'postNumInThread',\n",
       "       'keyword', 'keywords', 'hashtags', 'mention'],\n",
       "      dtype='object')"
      ]
     },
     "execution_count": 28,
     "metadata": {},
     "output_type": "execute_result"
    }
   ],
   "source": [
    "df = df_more_forum.copy()\n",
    "df.columns"
   ]
  },
  {
   "cell_type": "code",
   "execution_count": 29,
   "metadata": {},
   "outputs": [
    {
     "data": {
      "text/html": [
       "<div>\n",
       "<style scoped>\n",
       "    .dataframe tbody tr th:only-of-type {\n",
       "        vertical-align: middle;\n",
       "    }\n",
       "\n",
       "    .dataframe tbody tr th {\n",
       "        vertical-align: top;\n",
       "    }\n",
       "\n",
       "    .dataframe thead th {\n",
       "        text-align: right;\n",
       "    }\n",
       "</style>\n",
       "<table border=\"1\" class=\"dataframe\">\n",
       "  <thead>\n",
       "    <tr style=\"text-align: right;\">\n",
       "      <th></th>\n",
       "      <th>forum</th>\n",
       "      <th>channel</th>\n",
       "      <th>url</th>\n",
       "      <th>title</th>\n",
       "      <th>content</th>\n",
       "      <th>replyCount</th>\n",
       "      <th>time</th>\n",
       "      <th>crawlTime</th>\n",
       "      <th>author</th>\n",
       "      <th>isReply</th>\n",
       "      <th>sentiment</th>\n",
       "      <th>postNumInThread</th>\n",
       "      <th>keyword</th>\n",
       "      <th>keywords</th>\n",
       "      <th>hashtags</th>\n",
       "      <th>mention</th>\n",
       "    </tr>\n",
       "  </thead>\n",
       "  <tbody>\n",
       "    <tr>\n",
       "      <th>248</th>\n",
       "      <td>Mobile01</td>\n",
       "      <td>腕錶綜合討論</td>\n",
       "      <td>https://www.mobile01.com/topicdetail.php?f=376...</td>\n",
       "      <td>「Hamilton Khaki Pilot」漢米爾頓卡其飛行計時錶 - 開別人箱開箱文</td>\n",
       "      <td>▲\\n回顧這兩年，開箱類型總是離不開電競周邊與3C產品\\n即便期間自己也買了新錶紀念人生里程...</td>\n",
       "      <td>1</td>\n",
       "      <td>2020-12-14 22:35:00</td>\n",
       "      <td>2020-12-15 06:34:49</td>\n",
       "      <td>Mr.Lazy</td>\n",
       "      <td>False</td>\n",
       "      <td>neutral</td>\n",
       "      <td>1</td>\n",
       "      <td>天能\"AND\"電影</td>\n",
       "      <td>絕地/標誌/成名/搞笑/功能/131/小勞勃道/乾淨/美感/當作/又換/外太空/並快/扣式/...</td>\n",
       "      <td>#10引言分享</td>\n",
       "      <td></td>\n",
       "    </tr>\n",
       "  </tbody>\n",
       "</table>\n",
       "</div>"
      ],
      "text/plain": [
       "        forum channel                                                url  \\\n",
       "248  Mobile01  腕錶綜合討論  https://www.mobile01.com/topicdetail.php?f=376...   \n",
       "\n",
       "                                           title  \\\n",
       "248  「Hamilton Khaki Pilot」漢米爾頓卡其飛行計時錶 - 開別人箱開箱文   \n",
       "\n",
       "                                               content replyCount  \\\n",
       "248  ▲\\n回顧這兩年，開箱類型總是離不開電競周邊與3C產品\\n即便期間自己也買了新錶紀念人生里程...          1   \n",
       "\n",
       "                    time            crawlTime   author  isReply sentiment  \\\n",
       "248  2020-12-14 22:35:00  2020-12-15 06:34:49  Mr.Lazy    False   neutral   \n",
       "\n",
       "     postNumInThread    keyword  \\\n",
       "248                1  天能\"AND\"電影   \n",
       "\n",
       "                                              keywords hashtags mention  \n",
       "248  絕地/標誌/成名/搞笑/功能/131/小勞勃道/乾淨/美感/當作/又換/外太空/並快/扣式/...  #10引言分享          "
      ]
     },
     "execution_count": 29,
     "metadata": {},
     "output_type": "execute_result"
    }
   ],
   "source": [
    "df.sample()"
   ]
  },
  {
   "cell_type": "code",
   "execution_count": 30,
   "metadata": {},
   "outputs": [
    {
     "name": "stdout",
     "output_type": "stream",
     "text": [
      "139\n"
     ]
    },
    {
     "data": {
      "text/html": [
       "<div>\n",
       "<style scoped>\n",
       "    .dataframe tbody tr th:only-of-type {\n",
       "        vertical-align: middle;\n",
       "    }\n",
       "\n",
       "    .dataframe tbody tr th {\n",
       "        vertical-align: top;\n",
       "    }\n",
       "\n",
       "    .dataframe thead th {\n",
       "        text-align: right;\n",
       "    }\n",
       "</style>\n",
       "<table border=\"1\" class=\"dataframe\">\n",
       "  <thead>\n",
       "    <tr style=\"text-align: right;\">\n",
       "      <th></th>\n",
       "      <th>MForumPost:ID</th>\n",
       "      <th>forum</th>\n",
       "      <th>channel</th>\n",
       "      <th>title</th>\n",
       "      <th>content</th>\n",
       "      <th>author</th>\n",
       "      <th>replyCount</th>\n",
       "      <th>isReply</th>\n",
       "      <th>postNumInThread</th>\n",
       "      <th>time</th>\n",
       "      <th>:LABEL</th>\n",
       "    </tr>\n",
       "  </thead>\n",
       "  <tbody>\n",
       "    <tr>\n",
       "      <th>0</th>\n",
       "      <td>MForum_https://www.mobile01.com/topicdetail.ph...</td>\n",
       "      <td>\"Mobile01\"</td>\n",
       "      <td>\"小惡魔影城\"</td>\n",
       "      <td>\"諾蘭最新神作提前燒腦！ 小惡魔邀你前往《天能》全台試映會！\"</td>\n",
       "      <td>\"諾蘭最新神作天能 必看 悶太久 好就沒去電影院了\"</td>\n",
       "      <td>\"crazyyo\"</td>\n",
       "      <td></td>\n",
       "      <td>True</td>\n",
       "      <td>379</td>\n",
       "      <td>2020-08-18 23:57:00</td>\n",
       "      <td>MForumPost</td>\n",
       "    </tr>\n",
       "  </tbody>\n",
       "</table>\n",
       "</div>"
      ],
      "text/plain": [
       "                                       MForumPost:ID       forum  channel  \\\n",
       "0  MForum_https://www.mobile01.com/topicdetail.ph...  \"Mobile01\"  \"小惡魔影城\"   \n",
       "\n",
       "                             title                     content     author  \\\n",
       "0  \"諾蘭最新神作提前燒腦！ 小惡魔邀你前往《天能》全台試映會！\"  \"諾蘭最新神作天能 必看 悶太久 好就沒去電影院了\"  \"crazyyo\"   \n",
       "\n",
       "  replyCount  isReply  postNumInThread                 time      :LABEL  \n",
       "0                True              379  2020-08-18 23:57:00  MForumPost  "
      ]
     },
     "execution_count": 30,
     "metadata": {},
     "output_type": "execute_result"
    }
   ],
   "source": [
    "# Post:ID,text,:LABEL\n",
    "mforum_post_nodes = df[['url','forum','channel','title','content','author','replyCount','isReply','postNumInThread','time']]\n",
    "mforum_post_nodes[\":LABEL\"] = \"MForumPost\"\n",
    "mforum_post_nodes = mforum_post_nodes.rename(columns={'url': 'MForumPost:ID'})\n",
    "mforum_post_nodes = mforum_post_nodes.drop_duplicates(subset='MForumPost:ID', keep=\"first\")\n",
    "\n",
    "mforum_post_nodes[\"MForumPost:ID\"] = mforum_post_nodes[\"MForumPost:ID\"].apply(lambda x: \"MForum_\"+str(x))\n",
    "mforum_post_nodes[\"forum\"] = mforum_post_nodes[\"forum\"].apply(lambda x : replace_double_quote(x))\n",
    "mforum_post_nodes[\"forum\"] = mforum_post_nodes[\"forum\"].apply(lambda x : add_quote(x))\n",
    "mforum_post_nodes[\"channel\"] = mforum_post_nodes[\"channel\"].apply(lambda x : replace_double_quote(x))\n",
    "mforum_post_nodes[\"channel\"] = mforum_post_nodes[\"channel\"].apply(lambda x : add_quote(x))\n",
    "mforum_post_nodes[\"title\"] = mforum_post_nodes[\"title\"].apply(lambda x : replace_double_quote(x))\n",
    "mforum_post_nodes[\"title\"] = mforum_post_nodes[\"title\"].apply(lambda x : add_quote(x))\n",
    "mforum_post_nodes[\"author\"] = mforum_post_nodes[\"author\"].apply(lambda x : replace_double_quote(x))\n",
    "mforum_post_nodes[\"author\"] = mforum_post_nodes[\"author\"].apply(lambda x : add_quote(x))\n",
    "mforum_post_nodes[\"content\"] = mforum_post_nodes[\"content\"].apply(lambda x:str(x).replace('\\n',' ').strip())\n",
    "mforum_post_nodes[\"content\"] = mforum_post_nodes[\"content\"].apply(lambda x : replace_double_quote(x))\n",
    "mforum_post_nodes[\"content\"] = mforum_post_nodes[\"content\"].apply(lambda x : add_quote(x))\n",
    "mforum_post_nodes.to_csv('opt/csv/more_tenet/mforum_post_nodes.csv', index=False, encoding='utf-8', quoting=csv.QUOTE_NONE, escapechar='\\\\')\n",
    "print(mforum_post_nodes.shape[0])\n",
    "mforum_post_nodes.head(1)"
   ]
  },
  {
   "cell_type": "markdown",
   "metadata": {},
   "source": [
    "<a id=\"create_forum_user_node\"></a>\n",
    "## Create More Forum User Node"
   ]
  },
  {
   "cell_type": "code",
   "execution_count": 31,
   "metadata": {},
   "outputs": [
    {
     "name": "stdout",
     "output_type": "stream",
     "text": [
      "3\n"
     ]
    },
    {
     "data": {
      "text/html": [
       "<div>\n",
       "<style scoped>\n",
       "    .dataframe tbody tr th:only-of-type {\n",
       "        vertical-align: middle;\n",
       "    }\n",
       "\n",
       "    .dataframe tbody tr th {\n",
       "        vertical-align: top;\n",
       "    }\n",
       "\n",
       "    .dataframe thead th {\n",
       "        text-align: right;\n",
       "    }\n",
       "</style>\n",
       "<table border=\"1\" class=\"dataframe\">\n",
       "  <thead>\n",
       "    <tr style=\"text-align: right;\">\n",
       "      <th></th>\n",
       "      <th>MForumUser:ID</th>\n",
       "      <th>username</th>\n",
       "      <th>channel</th>\n",
       "      <th>:LABEL</th>\n",
       "    </tr>\n",
       "  </thead>\n",
       "  <tbody>\n",
       "    <tr>\n",
       "      <th>0</th>\n",
       "      <td>MForum_Mobile01</td>\n",
       "      <td>\"crazyyo\"</td>\n",
       "      <td>\"小惡魔影城\"</td>\n",
       "      <td>MForumUser</td>\n",
       "    </tr>\n",
       "  </tbody>\n",
       "</table>\n",
       "</div>"
      ],
      "text/plain": [
       "     MForumUser:ID   username  channel      :LABEL\n",
       "0  MForum_Mobile01  \"crazyyo\"  \"小惡魔影城\"  MForumUser"
      ]
     },
     "execution_count": 31,
     "metadata": {},
     "output_type": "execute_result"
    }
   ],
   "source": [
    "# MForumUser:ID,username,:LABEL\n",
    "\n",
    "mforum_user_nodes = df[['forum','channel','author']]\n",
    "\n",
    "mforum_user_nodes = mforum_user_nodes.rename(columns={'forum':'MForumUser:ID', 'author': 'username'})\n",
    "mforum_user_nodes[\":LABEL\"] = \"MForumUser\"\n",
    "mforum_user_nodes = mforum_user_nodes.drop_duplicates(subset='MForumUser:ID', keep=\"first\")\n",
    "\n",
    "mforum_user_nodes[\"MForumUser:ID\"] = mforum_user_nodes[\"MForumUser:ID\"].apply(lambda x: \"MForum_\"+str(x))\n",
    "mforum_user_nodes[\"username\"] = mforum_user_nodes[\"username\"].apply(lambda x : replace_double_quote(x))\n",
    "mforum_user_nodes[\"username\"] = mforum_user_nodes[\"username\"].apply(lambda x : add_quote(x))\n",
    "mforum_user_nodes[\"channel\"] = mforum_user_nodes[\"channel\"].apply(lambda x : replace_double_quote(x))\n",
    "mforum_user_nodes[\"channel\"] = mforum_user_nodes[\"channel\"].apply(lambda x : add_quote(x))\n",
    "mforum_user_nodes = mforum_user_nodes[[\"MForumUser:ID\",\"username\",\"channel\",\":LABEL\"]]\n",
    "mforum_user_nodes.to_csv('opt/csv/more_tenet/mforum_user_nodes.csv', index=False, encoding='utf-8', quoting=csv.QUOTE_NONE, escapechar='\\\\')\n",
    "print(mforum_user_nodes.shape[0])\n",
    "mforum_user_nodes.head(1)"
   ]
  },
  {
   "cell_type": "markdown",
   "metadata": {},
   "source": [
    "<a id=\"relationship_forum_post_user\"></a>\n",
    "## Relationship of MForum Post and User"
   ]
  },
  {
   "cell_type": "code",
   "execution_count": 32,
   "metadata": {},
   "outputs": [
    {
     "name": "stdout",
     "output_type": "stream",
     "text": [
      "249\n"
     ]
    },
    {
     "data": {
      "text/html": [
       "<div>\n",
       "<style scoped>\n",
       "    .dataframe tbody tr th:only-of-type {\n",
       "        vertical-align: middle;\n",
       "    }\n",
       "\n",
       "    .dataframe tbody tr th {\n",
       "        vertical-align: top;\n",
       "    }\n",
       "\n",
       "    .dataframe thead th {\n",
       "        text-align: right;\n",
       "    }\n",
       "</style>\n",
       "<table border=\"1\" class=\"dataframe\">\n",
       "  <thead>\n",
       "    <tr style=\"text-align: right;\">\n",
       "      <th></th>\n",
       "      <th>:START_ID</th>\n",
       "      <th>username</th>\n",
       "      <th>:END_ID</th>\n",
       "      <th>:TYPE</th>\n",
       "    </tr>\n",
       "  </thead>\n",
       "  <tbody>\n",
       "    <tr>\n",
       "      <th>121</th>\n",
       "      <td>MForum_Mobile01</td>\n",
       "      <td>\"soziwow\"</td>\n",
       "      <td>MForum_https://www.mobile01.com/topicdetail.ph...</td>\n",
       "      <td>POSTS</td>\n",
       "    </tr>\n",
       "  </tbody>\n",
       "</table>\n",
       "</div>"
      ],
      "text/plain": [
       "           :START_ID   username  \\\n",
       "121  MForum_Mobile01  \"soziwow\"   \n",
       "\n",
       "                                               :END_ID  :TYPE  \n",
       "121  MForum_https://www.mobile01.com/topicdetail.ph...  POSTS  "
      ]
     },
     "execution_count": 32,
     "metadata": {},
     "output_type": "execute_result"
    }
   ],
   "source": [
    "# :START_ID,text,:END_ID,:TYPE\n",
    "\n",
    "to_id_list = list(mforum_post_nodes['MForumPost:ID'])\n",
    "\n",
    "MForum_user_post_relation = df[['forum','author','url']]\n",
    "MForum_user_post_relation[\":START_ID\"] = MForum_user_post_relation[\"forum\"].apply(lambda x:\"MForum_\"+str(x))\n",
    "MForum_user_post_relation = MForum_user_post_relation.rename(columns={'author':'username', 'url':':END_ID'})\n",
    "MForum_user_post_relation[\":END_ID\"] = MForum_user_post_relation[\":END_ID\"].apply(lambda x:\"MForum_\"+str(x))\n",
    "MForum_user_post_relation[\"in_list\"] = MForum_user_post_relation[':END_ID'].apply(lambda x:if_in_list(x, to_id_list))\n",
    "MForum_user_post_relation = MForum_user_post_relation[MForum_user_post_relation['in_list']==1]\n",
    "del MForum_user_post_relation['in_list']\n",
    "MForum_user_post_relation[':TYPE'] = 'POSTS'\n",
    "MForum_user_post_relation = MForum_user_post_relation[[\":START_ID\",\"username\",\":END_ID\",\":TYPE\"]]\n",
    "MForum_user_post_relation[\"username\"] = MForum_user_post_relation[\"username\"].apply(lambda x : replace_double_quote(x))\n",
    "MForum_user_post_relation[\"username\"] = MForum_user_post_relation[\"username\"].apply(lambda x : add_quote(x))\n",
    "MForum_user_post_relation.to_csv('opt/csv/more_tenet/mforum_user_post_rel.csv', index=False, encoding='utf-8', quoting=csv.QUOTE_NONE, escapechar='\\\\')\n",
    "print(MForum_user_post_relation.shape[0])\n",
    "MForum_user_post_relation.sample(1)"
   ]
  },
  {
   "cell_type": "markdown",
   "metadata": {},
   "source": [
    "<a id=\"relationship_forum_keyword_post\"></a>\n",
    "## Relationship of MForum Post keywords and post"
   ]
  },
  {
   "cell_type": "code",
   "execution_count": 33,
   "metadata": {},
   "outputs": [
    {
     "name": "stdout",
     "output_type": "stream",
     "text": [
      "22540\n"
     ]
    },
    {
     "data": {
      "text/html": [
       "<div>\n",
       "<style scoped>\n",
       "    .dataframe tbody tr th:only-of-type {\n",
       "        vertical-align: middle;\n",
       "    }\n",
       "\n",
       "    .dataframe tbody tr th {\n",
       "        vertical-align: top;\n",
       "    }\n",
       "\n",
       "    .dataframe thead th {\n",
       "        text-align: right;\n",
       "    }\n",
       "</style>\n",
       "<table border=\"1\" class=\"dataframe\">\n",
       "  <thead>\n",
       "    <tr style=\"text-align: right;\">\n",
       "      <th></th>\n",
       "      <th>:START_ID</th>\n",
       "      <th>keyword</th>\n",
       "      <th>:END_ID</th>\n",
       "      <th>:TYPE</th>\n",
       "    </tr>\n",
       "  </thead>\n",
       "  <tbody>\n",
       "    <tr>\n",
       "      <th>21381</th>\n",
       "      <td>K100001854</td>\n",
       "      <td>\"蝙蝠俠\"</td>\n",
       "      <td>MForum_https://www.mobile01.com/topicdetail.ph...</td>\n",
       "      <td>RELATED_TO</td>\n",
       "    </tr>\n",
       "  </tbody>\n",
       "</table>\n",
       "</div>"
      ],
      "text/plain": [
       "        :START_ID keyword                                            :END_ID  \\\n",
       "21381  K100001854   \"蝙蝠俠\"  MForum_https://www.mobile01.com/topicdetail.ph...   \n",
       "\n",
       "            :TYPE  \n",
       "21381  RELATED_TO  "
      ]
     },
     "execution_count": 33,
     "metadata": {},
     "output_type": "execute_result"
    }
   ],
   "source": [
    "to_id_list = list(mforum_post_nodes['MForumPost:ID'])\n",
    "MForum_keyword_list = []\n",
    "for index, row in df_more_forum[df_more_forum['keywords']!=''].iterrows():\n",
    "    for keyword in row['keywords'].replace('\\n',' ').strip().split('/'):\n",
    "        MForum_keyword_list.append({\"keyword\":keyword, \"postId\":row['url']})\n",
    "\n",
    "MForum_keyword_nodes = pd.DataFrame(MForum_keyword_list)\n",
    "MForum_keyword_relation = MForum_keyword_nodes[['keyword','postId']]\n",
    "MForum_keyword_relation = MForum_keyword_relation.rename(columns={'keyword': 'keyword',\n",
    "                                                            'postId': ':END_ID'})\n",
    "MForum_keyword_relation[\":START_ID\"] =  MForum_keyword_relation[\"keyword\"].map(keyword_id_map)\n",
    "MForum_keyword_relation[\":END_ID\"] = MForum_keyword_relation[\":END_ID\"].apply(lambda x:\"MForum_\"+str(x))\n",
    "MForum_keyword_relation['in_list'] = MForum_keyword_relation[':END_ID'].apply(lambda x:if_in_list(x, to_id_list))\n",
    "MForum_keyword_relation = MForum_keyword_relation[MForum_keyword_relation['in_list']==1]\n",
    "del MForum_keyword_relation['in_list']\n",
    "MForum_keyword_relation[':TYPE'] = 'RELATED_TO'\n",
    "MForum_keyword_relation[\"keyword\"] = MForum_keyword_relation[\"keyword\"].apply(lambda x : replace_double_quote(x))\n",
    "MForum_keyword_relation[\"keyword\"] = MForum_keyword_relation[\"keyword\"].apply(lambda x : add_quote(x))\n",
    "MForum_keyword_relation = MForum_keyword_relation[[\":START_ID\",\"keyword\",\":END_ID\",\":TYPE\"]]\n",
    "MForum_keyword_relation.to_csv('opt/csv/more_tenet/mforum_post_keyword_rel.csv', index=False, encoding='utf-8', quoting=csv.QUOTE_NONE, escapechar='\\\\')\n",
    "print(MForum_keyword_relation.shape[0])\n",
    "MForum_keyword_relation.sample()"
   ]
  },
  {
   "cell_type": "markdown",
   "metadata": {},
   "source": [
    "<a id=\"relationship_forum_hashtag_post\"></a>\n",
    "## Relationship of MForum Post hashtag and post"
   ]
  },
  {
   "cell_type": "code",
   "execution_count": 34,
   "metadata": {},
   "outputs": [
    {
     "name": "stdout",
     "output_type": "stream",
     "text": [
      "38\n"
     ]
    },
    {
     "data": {
      "text/html": [
       "<div>\n",
       "<style scoped>\n",
       "    .dataframe tbody tr th:only-of-type {\n",
       "        vertical-align: middle;\n",
       "    }\n",
       "\n",
       "    .dataframe tbody tr th {\n",
       "        vertical-align: top;\n",
       "    }\n",
       "\n",
       "    .dataframe thead th {\n",
       "        text-align: right;\n",
       "    }\n",
       "</style>\n",
       "<table border=\"1\" class=\"dataframe\">\n",
       "  <thead>\n",
       "    <tr style=\"text-align: right;\">\n",
       "      <th></th>\n",
       "      <th>:START_ID</th>\n",
       "      <th>hashtag</th>\n",
       "      <th>:END_ID</th>\n",
       "      <th>:TYPE</th>\n",
       "    </tr>\n",
       "  </thead>\n",
       "  <tbody>\n",
       "    <tr>\n",
       "      <th>0</th>\n",
       "      <td>H100002798</td>\n",
       "      <td>\"#1\"</td>\n",
       "      <td>MForum_https://www.mobile01.com/topicdetail.ph...</td>\n",
       "      <td>RELATED_TO</td>\n",
       "    </tr>\n",
       "  </tbody>\n",
       "</table>\n",
       "</div>"
      ],
      "text/plain": [
       "    :START_ID hashtag                                            :END_ID  \\\n",
       "0  H100002798    \"#1\"  MForum_https://www.mobile01.com/topicdetail.ph...   \n",
       "\n",
       "        :TYPE  \n",
       "0  RELATED_TO  "
      ]
     },
     "execution_count": 34,
     "metadata": {},
     "output_type": "execute_result"
    }
   ],
   "source": [
    "to_id_list = list(mforum_post_nodes['MForumPost:ID'])\n",
    "MForum_hashtag_list = []\n",
    "for index, row in df_more_forum[df_more_forum['hashtags']!=''].iterrows():\n",
    "    for hashtag in row['hashtags'].replace('\\n',' ').strip().split('/'):\n",
    "        MForum_hashtag_list.append({\"hashtag\":hashtag, \"postId\":row['url']})\n",
    "\n",
    "if len(MForum_hashtag_list)>0:\n",
    "    MForum_hashtag_nodes = pd.DataFrame(MForum_hashtag_list)\n",
    "    MForum_hashtag_relation = MForum_hashtag_nodes[['hashtag','postId']]\n",
    "    MForum_hashtag_relation = MForum_hashtag_relation.rename(columns={'hashtag': 'hashtag',\n",
    "                                                                'postId': ':END_ID'})\n",
    "    MForum_hashtag_relation[\":START_ID\"] =  MForum_hashtag_relation[\"hashtag\"].map(hashtags_id_map)\n",
    "    MForum_hashtag_relation[\":END_ID\"] = MForum_hashtag_relation[\":END_ID\"].apply(lambda x:\"MForum_\"+str(x))\n",
    "    MForum_hashtag_relation['in_list'] = MForum_hashtag_relation[':END_ID'].apply(lambda x:if_in_list(x, to_id_list))\n",
    "    MForum_hashtag_relation = MForum_hashtag_relation[MForum_hashtag_relation['in_list']==1]\n",
    "    del MForum_hashtag_relation['in_list']\n",
    "    MForum_hashtag_relation[':TYPE'] = 'RELATED_TO'\n",
    "    MForum_hashtag_relation[\"hashtag\"] = MForum_hashtag_relation[\"hashtag\"].apply(lambda x : replace_double_quote(x))\n",
    "    MForum_hashtag_relation[\"hashtag\"] = MForum_hashtag_relation[\"hashtag\"].apply(lambda x : add_quote(x))\n",
    "    MForum_hashtag_relation = MForum_hashtag_relation[[\":START_ID\",\"hashtag\",\":END_ID\",\":TYPE\"]]\n",
    "    MForum_hashtag_relation.to_csv('opt/csv/more_tenet/mforum_post_hashtag_rel.csv', index=False, encoding='utf-8', quoting=csv.QUOTE_NONE, escapechar='\\\\')\n",
    "    print(MForum_hashtag_relation.shape[0])\n",
    "else:\n",
    "    MForum_hashtag_relation = pd.DataFrame(columns=[\":START_ID\",\"hashtag\",\":END_ID\",\":TYPE\"])\n",
    "    MForum_hashtag_relation.to_csv('opt/csv/more_tenet/mforum_post_hashtag_rel.csv', index=False, encoding='utf-8', quoting=csv.QUOTE_NONE, escapechar='\\\\')\n",
    "MForum_hashtag_relation.head(1)"
   ]
  },
  {
   "cell_type": "markdown",
   "metadata": {},
   "source": [
    "<a id=\"create_ptt_post_node\"></a>\n",
    "## Create More PTT Post Node"
   ]
  },
  {
   "cell_type": "code",
   "execution_count": 35,
   "metadata": {},
   "outputs": [
    {
     "data": {
      "text/plain": [
       "Index(['board', 'url', 'author', 'title', 'content', 'replyCount', 'time',\n",
       "       'crawlTime', 'isReply', 'sentiment', 'bull', 'comment', 'bear',\n",
       "       'keyword', 'keywords', 'hashtags', 'mention'],\n",
       "      dtype='object')"
      ]
     },
     "execution_count": 35,
     "metadata": {},
     "output_type": "execute_result"
    }
   ],
   "source": [
    "df = df_more_ptt.copy()\n",
    "df.columns"
   ]
  },
  {
   "cell_type": "code",
   "execution_count": 36,
   "metadata": {},
   "outputs": [
    {
     "data": {
      "text/html": [
       "<div>\n",
       "<style scoped>\n",
       "    .dataframe tbody tr th:only-of-type {\n",
       "        vertical-align: middle;\n",
       "    }\n",
       "\n",
       "    .dataframe tbody tr th {\n",
       "        vertical-align: top;\n",
       "    }\n",
       "\n",
       "    .dataframe thead th {\n",
       "        text-align: right;\n",
       "    }\n",
       "</style>\n",
       "<table border=\"1\" class=\"dataframe\">\n",
       "  <thead>\n",
       "    <tr style=\"text-align: right;\">\n",
       "      <th></th>\n",
       "      <th>board</th>\n",
       "      <th>url</th>\n",
       "      <th>author</th>\n",
       "      <th>title</th>\n",
       "      <th>content</th>\n",
       "      <th>replyCount</th>\n",
       "      <th>time</th>\n",
       "      <th>crawlTime</th>\n",
       "      <th>isReply</th>\n",
       "      <th>sentiment</th>\n",
       "      <th>bull</th>\n",
       "      <th>comment</th>\n",
       "      <th>bear</th>\n",
       "      <th>keyword</th>\n",
       "      <th>keywords</th>\n",
       "      <th>hashtags</th>\n",
       "      <th>mention</th>\n",
       "    </tr>\n",
       "  </thead>\n",
       "  <tbody>\n",
       "    <tr>\n",
       "      <th>341</th>\n",
       "      <td>Gossiping</td>\n",
       "      <td>https://www.ptt.cc/bbs/Gossiping/M.1598753691....</td>\n",
       "      <td>oblivionion</td>\n",
       "      <td>[問卦] 高雄人在電影院椅子撒尿？</td>\n",
       "      <td>如題\\n爆x公社網友爆料\\n在高雄的電影院 看天能\\n坐到椅子都是滿滿的尿\\n全身褲子濕透\\...</td>\n",
       "      <td>88</td>\n",
       "      <td>2020-08-30 10:14:45</td>\n",
       "      <td>2020-08-30 23:47:57</td>\n",
       "      <td>False</td>\n",
       "      <td>neutral</td>\n",
       "      <td>55</td>\n",
       "      <td>28</td>\n",
       "      <td>5</td>\n",
       "      <td>天能\"AND\"電影</td>\n",
       "      <td>電影院/看天能/高雄/網友/濕透/全身/公社/沾滿/滿滿的/褲子/爆料/椅子</td>\n",
       "      <td></td>\n",
       "      <td></td>\n",
       "    </tr>\n",
       "  </tbody>\n",
       "</table>\n",
       "</div>"
      ],
      "text/plain": [
       "         board                                                url  \\\n",
       "341  Gossiping  https://www.ptt.cc/bbs/Gossiping/M.1598753691....   \n",
       "\n",
       "          author              title  \\\n",
       "341  oblivionion  [問卦] 高雄人在電影院椅子撒尿？   \n",
       "\n",
       "                                               content  replyCount  \\\n",
       "341  如題\\n爆x公社網友爆料\\n在高雄的電影院 看天能\\n坐到椅子都是滿滿的尿\\n全身褲子濕透\\...          88   \n",
       "\n",
       "                    time            crawlTime  isReply sentiment  bull  \\\n",
       "341  2020-08-30 10:14:45  2020-08-30 23:47:57    False   neutral    55   \n",
       "\n",
       "     comment  bear    keyword                                keywords  \\\n",
       "341       28     5  天能\"AND\"電影  電影院/看天能/高雄/網友/濕透/全身/公社/沾滿/滿滿的/褲子/爆料/椅子   \n",
       "\n",
       "    hashtags mention  \n",
       "341                   "
      ]
     },
     "execution_count": 36,
     "metadata": {},
     "output_type": "execute_result"
    }
   ],
   "source": [
    "df.sample()"
   ]
  },
  {
   "cell_type": "code",
   "execution_count": 37,
   "metadata": {},
   "outputs": [
    {
     "name": "stdout",
     "output_type": "stream",
     "text": [
      "1444\n"
     ]
    },
    {
     "data": {
      "text/html": [
       "<div>\n",
       "<style scoped>\n",
       "    .dataframe tbody tr th:only-of-type {\n",
       "        vertical-align: middle;\n",
       "    }\n",
       "\n",
       "    .dataframe tbody tr th {\n",
       "        vertical-align: top;\n",
       "    }\n",
       "\n",
       "    .dataframe thead th {\n",
       "        text-align: right;\n",
       "    }\n",
       "</style>\n",
       "<table border=\"1\" class=\"dataframe\">\n",
       "  <thead>\n",
       "    <tr style=\"text-align: right;\">\n",
       "      <th></th>\n",
       "      <th>MPttPost:ID</th>\n",
       "      <th>board</th>\n",
       "      <th>title</th>\n",
       "      <th>content</th>\n",
       "      <th>author</th>\n",
       "      <th>replyCount</th>\n",
       "      <th>bull</th>\n",
       "      <th>comment</th>\n",
       "      <th>bear</th>\n",
       "      <th>time</th>\n",
       "      <th>:LABEL</th>\n",
       "    </tr>\n",
       "  </thead>\n",
       "  <tbody>\n",
       "    <tr>\n",
       "      <th>0</th>\n",
       "      <td>MPtt_https://www.ptt.cc/bbs/AllTogether/M.1597...</td>\n",
       "      <td>AllTogether</td>\n",
       "      <td>\"[徵女] 七夕徵個緣分\"</td>\n",
       "      <td>\"父親節剛過，就被念怎麼還是單身 我也不想阿QQ 就身邊真的沒什麼異性 希望能靠著七夕題材 ...</td>\n",
       "      <td>\"yiyuyi\"</td>\n",
       "      <td>0</td>\n",
       "      <td>0</td>\n",
       "      <td>0</td>\n",
       "      <td>0</td>\n",
       "      <td>2020-08-17 23:42:59</td>\n",
       "      <td>MPttPost</td>\n",
       "    </tr>\n",
       "  </tbody>\n",
       "</table>\n",
       "</div>"
      ],
      "text/plain": [
       "                                         MPttPost:ID        board  \\\n",
       "0  MPtt_https://www.ptt.cc/bbs/AllTogether/M.1597...  AllTogether   \n",
       "\n",
       "           title                                            content    author  \\\n",
       "0  \"[徵女] 七夕徵個緣分\"  \"父親節剛過，就被念怎麼還是單身 我也不想阿QQ 就身邊真的沒什麼異性 希望能靠著七夕題材 ...  \"yiyuyi\"   \n",
       "\n",
       "   replyCount  bull  comment  bear                 time    :LABEL  \n",
       "0           0     0        0     0  2020-08-17 23:42:59  MPttPost  "
      ]
     },
     "execution_count": 37,
     "metadata": {},
     "output_type": "execute_result"
    }
   ],
   "source": [
    "# Post:ID,text,:LABEL\n",
    "mptt_post_nodes = df[['url','board','title','content','author','replyCount','bull','comment','bear','time']]\n",
    "mptt_post_nodes[\":LABEL\"] = \"MPttPost\"\n",
    "mptt_post_nodes = mptt_post_nodes.rename(columns={'url': 'MPttPost:ID'})\n",
    "mptt_post_nodes = mptt_post_nodes.drop_duplicates(subset='MPttPost:ID', keep=\"first\")\n",
    "\n",
    "mptt_post_nodes[\"MPttPost:ID\"] = mptt_post_nodes[\"MPttPost:ID\"].apply(lambda x: \"MPtt_\"+str(x))\n",
    "mptt_post_nodes[\"title\"] = mptt_post_nodes[\"title\"].apply(lambda x : replace_double_quote(x))\n",
    "mptt_post_nodes[\"title\"] = mptt_post_nodes[\"title\"].apply(lambda x : add_quote(x))\n",
    "mptt_post_nodes[\"author\"] = mptt_post_nodes[\"author\"].apply(lambda x : replace_double_quote(x))\n",
    "mptt_post_nodes[\"author\"] = mptt_post_nodes[\"author\"].apply(lambda x : add_quote(x))\n",
    "mptt_post_nodes[\"content\"] = mptt_post_nodes[\"content\"].apply(lambda x:str(x).replace('\\n',' ').strip())\n",
    "mptt_post_nodes[\"content\"] = mptt_post_nodes[\"content\"].apply(lambda x : replace_double_quote(x))\n",
    "mptt_post_nodes[\"content\"] = mptt_post_nodes[\"content\"].apply(lambda x : add_quote(x))\n",
    "mptt_post_nodes.to_csv('opt/csv/more_tenet/mptt_post_nodes.csv', index=False, encoding='utf-8', quoting=csv.QUOTE_NONE, escapechar='\\\\')\n",
    "print(mptt_post_nodes.shape[0])\n",
    "mptt_post_nodes.head(1)"
   ]
  },
  {
   "cell_type": "markdown",
   "metadata": {},
   "source": [
    "<a id=\"create_ptt_user_node\"></a>\n",
    "## Create More PTT User Node"
   ]
  },
  {
   "cell_type": "code",
   "execution_count": 38,
   "metadata": {},
   "outputs": [
    {
     "name": "stdout",
     "output_type": "stream",
     "text": [
      "827\n"
     ]
    },
    {
     "data": {
      "text/html": [
       "<div>\n",
       "<style scoped>\n",
       "    .dataframe tbody tr th:only-of-type {\n",
       "        vertical-align: middle;\n",
       "    }\n",
       "\n",
       "    .dataframe tbody tr th {\n",
       "        vertical-align: top;\n",
       "    }\n",
       "\n",
       "    .dataframe thead th {\n",
       "        text-align: right;\n",
       "    }\n",
       "</style>\n",
       "<table border=\"1\" class=\"dataframe\">\n",
       "  <thead>\n",
       "    <tr style=\"text-align: right;\">\n",
       "      <th></th>\n",
       "      <th>MPttUser:ID</th>\n",
       "      <th>username</th>\n",
       "      <th>:LABEL</th>\n",
       "    </tr>\n",
       "  </thead>\n",
       "  <tbody>\n",
       "    <tr>\n",
       "      <th>0</th>\n",
       "      <td>MPtt_yiyuyi</td>\n",
       "      <td>\"yiyuyi\"</td>\n",
       "      <td>MPttUser</td>\n",
       "    </tr>\n",
       "  </tbody>\n",
       "</table>\n",
       "</div>"
      ],
      "text/plain": [
       "   MPttUser:ID  username    :LABEL\n",
       "0  MPtt_yiyuyi  \"yiyuyi\"  MPttUser"
      ]
     },
     "execution_count": 38,
     "metadata": {},
     "output_type": "execute_result"
    }
   ],
   "source": [
    "# MPttUser:ID,username,:LABEL\n",
    "\n",
    "mptt_user_nodes = df[['author']]\n",
    "mptt_user_nodes['username'] = mptt_user_nodes[\"author\"]\n",
    "mptt_user_nodes = mptt_user_nodes.rename(columns={'author':'MPttUser:ID'})\n",
    "mptt_user_nodes[\":LABEL\"] = \"MPttUser\"\n",
    "mptt_user_nodes = mptt_user_nodes.drop_duplicates(subset='MPttUser:ID', keep=\"first\")\n",
    "\n",
    "mptt_user_nodes[\"MPttUser:ID\"] = mptt_user_nodes[\"MPttUser:ID\"].apply(lambda x: \"MPtt_\"+str(x))\n",
    "mptt_user_nodes[\"username\"] = mptt_user_nodes[\"username\"].apply(lambda x : replace_double_quote(x))\n",
    "mptt_user_nodes[\"username\"] = mptt_user_nodes[\"username\"].apply(lambda x : add_quote(x))\n",
    "# mptt_user_nodes[\"MPttUser:ID\"] = mptt_user_nodes[\"MPttUser:ID\"].apply(lambda x : replace_double_quote(x))\n",
    "# mptt_user_nodes[\"MPttUser:ID\"] = mptt_user_nodes[\"MPttUser:ID\"].apply(lambda x : add_quote(x))\n",
    "mptt_user_nodes = mptt_user_nodes[[\"MPttUser:ID\",\"username\",\":LABEL\"]]\n",
    "mptt_user_nodes.to_csv('opt/csv/more_tenet/mptt_user_nodes.csv', index=False, encoding='utf-8', quoting=csv.QUOTE_NONE, escapechar='\\\\')\n",
    "print(mptt_user_nodes.shape[0])\n",
    "mptt_user_nodes.head(1)"
   ]
  },
  {
   "cell_type": "markdown",
   "metadata": {},
   "source": [
    "<a id=\"relationship_ptt_post_user\"></a>\n",
    "## Relationship of MPtt Post and User"
   ]
  },
  {
   "cell_type": "code",
   "execution_count": 39,
   "metadata": {},
   "outputs": [
    {
     "name": "stdout",
     "output_type": "stream",
     "text": [
      "1444\n"
     ]
    },
    {
     "data": {
      "text/html": [
       "<div>\n",
       "<style scoped>\n",
       "    .dataframe tbody tr th:only-of-type {\n",
       "        vertical-align: middle;\n",
       "    }\n",
       "\n",
       "    .dataframe tbody tr th {\n",
       "        vertical-align: top;\n",
       "    }\n",
       "\n",
       "    .dataframe thead th {\n",
       "        text-align: right;\n",
       "    }\n",
       "</style>\n",
       "<table border=\"1\" class=\"dataframe\">\n",
       "  <thead>\n",
       "    <tr style=\"text-align: right;\">\n",
       "      <th></th>\n",
       "      <th>:START_ID</th>\n",
       "      <th>username</th>\n",
       "      <th>:END_ID</th>\n",
       "      <th>:TYPE</th>\n",
       "    </tr>\n",
       "  </thead>\n",
       "  <tbody>\n",
       "    <tr>\n",
       "      <th>1382</th>\n",
       "      <td>MPtt_laramusic</td>\n",
       "      <td>\"laramusic\"</td>\n",
       "      <td>MPtt_https://www.ptt.cc/bbs/Drama-Ticket/M.160...</td>\n",
       "      <td>POSTS</td>\n",
       "    </tr>\n",
       "  </tbody>\n",
       "</table>\n",
       "</div>"
      ],
      "text/plain": [
       "           :START_ID     username  \\\n",
       "1382  MPtt_laramusic  \"laramusic\"   \n",
       "\n",
       "                                                :END_ID  :TYPE  \n",
       "1382  MPtt_https://www.ptt.cc/bbs/Drama-Ticket/M.160...  POSTS  "
      ]
     },
     "execution_count": 39,
     "metadata": {},
     "output_type": "execute_result"
    }
   ],
   "source": [
    "# :START_ID,text,:END_ID,:TYPE\n",
    "\n",
    "to_id_list = list(mptt_post_nodes['MPttPost:ID'])\n",
    "\n",
    "MPtt_user_post_relation = df[['author','url']]\n",
    "MPtt_user_post_relation[\":START_ID\"] = MPtt_user_post_relation[\"author\"].apply(lambda x:\"MPtt_\"+str(x))\n",
    "MPtt_user_post_relation = MPtt_user_post_relation.rename(columns={'author':'username', 'url':':END_ID'})\n",
    "MPtt_user_post_relation[\":END_ID\"] = MPtt_user_post_relation[\":END_ID\"].apply(lambda x:\"MPtt_\"+str(x))\n",
    "MPtt_user_post_relation[\"in_list\"] = MPtt_user_post_relation[':END_ID'].apply(lambda x:if_in_list(x, to_id_list))\n",
    "MPtt_user_post_relation = MPtt_user_post_relation[MPtt_user_post_relation['in_list']==1]\n",
    "del MPtt_user_post_relation['in_list']\n",
    "MPtt_user_post_relation[':TYPE'] = 'POSTS'\n",
    "MPtt_user_post_relation = MPtt_user_post_relation[[\":START_ID\",\"username\",\":END_ID\",\":TYPE\"]]\n",
    "MPtt_user_post_relation[\"username\"] = MPtt_user_post_relation[\"username\"].apply(lambda x : replace_double_quote(x))\n",
    "MPtt_user_post_relation[\"username\"] = MPtt_user_post_relation[\"username\"].apply(lambda x : add_quote(x))\n",
    "MPtt_user_post_relation.to_csv('opt/csv/more_tenet/mptt_user_post_rel.csv', index=False, encoding='utf-8', quoting=csv.QUOTE_NONE, escapechar='\\\\')\n",
    "print(MPtt_user_post_relation.shape[0])\n",
    "MPtt_user_post_relation.sample(1)"
   ]
  },
  {
   "cell_type": "markdown",
   "metadata": {},
   "source": [
    "<a id=\"relationship_ptt_keyword_user\"></a>\n",
    "## Relationship of MPtt Post keywords and post"
   ]
  },
  {
   "cell_type": "code",
   "execution_count": 40,
   "metadata": {},
   "outputs": [
    {
     "name": "stdout",
     "output_type": "stream",
     "text": [
      "233684\n"
     ]
    },
    {
     "data": {
      "text/html": [
       "<div>\n",
       "<style scoped>\n",
       "    .dataframe tbody tr th:only-of-type {\n",
       "        vertical-align: middle;\n",
       "    }\n",
       "\n",
       "    .dataframe tbody tr th {\n",
       "        vertical-align: top;\n",
       "    }\n",
       "\n",
       "    .dataframe thead th {\n",
       "        text-align: right;\n",
       "    }\n",
       "</style>\n",
       "<table border=\"1\" class=\"dataframe\">\n",
       "  <thead>\n",
       "    <tr style=\"text-align: right;\">\n",
       "      <th></th>\n",
       "      <th>:START_ID</th>\n",
       "      <th>keyword</th>\n",
       "      <th>:END_ID</th>\n",
       "      <th>:TYPE</th>\n",
       "    </tr>\n",
       "  </thead>\n",
       "  <tbody>\n",
       "    <tr>\n",
       "      <th>23563</th>\n",
       "      <td>K100046350</td>\n",
       "      <td>\"188\"</td>\n",
       "      <td>MPtt_https://www.ptt.cc/bbs/Drama-Ticket/M.159...</td>\n",
       "      <td>RELATED_TO</td>\n",
       "    </tr>\n",
       "  </tbody>\n",
       "</table>\n",
       "</div>"
      ],
      "text/plain": [
       "        :START_ID keyword                                            :END_ID  \\\n",
       "23563  K100046350   \"188\"  MPtt_https://www.ptt.cc/bbs/Drama-Ticket/M.159...   \n",
       "\n",
       "            :TYPE  \n",
       "23563  RELATED_TO  "
      ]
     },
     "execution_count": 40,
     "metadata": {},
     "output_type": "execute_result"
    }
   ],
   "source": [
    "to_id_list = list(mptt_post_nodes['MPttPost:ID'])\n",
    "MPtt_keyword_list = []\n",
    "for index, row in df_more_ptt[df_more_ptt['keywords']!=''].iterrows():\n",
    "    for keyword in row['keywords'].replace('\\n',' ').strip().split('/'):\n",
    "        MPtt_keyword_list.append({\"keyword\":keyword, \"postId\":row['url']})\n",
    "\n",
    "MPtt_keyword_nodes = pd.DataFrame(MPtt_keyword_list)\n",
    "MPtt_keyword_relation = MPtt_keyword_nodes[['keyword','postId']]\n",
    "MPtt_keyword_relation = MPtt_keyword_relation.rename(columns={'keyword': 'keyword',\n",
    "                                                            'postId': ':END_ID'})\n",
    "MPtt_keyword_relation[\":START_ID\"] =  MPtt_keyword_relation[\"keyword\"].map(keyword_id_map)\n",
    "MPtt_keyword_relation[\":END_ID\"] = MPtt_keyword_relation[\":END_ID\"].apply(lambda x:\"MPtt_\"+str(x))\n",
    "MPtt_keyword_relation['in_list'] = MPtt_keyword_relation[':END_ID'].apply(lambda x:if_in_list(x, to_id_list))\n",
    "MPtt_keyword_relation = MPtt_keyword_relation[MPtt_keyword_relation['in_list']==1]\n",
    "del MPtt_keyword_relation['in_list']\n",
    "MPtt_keyword_relation[':TYPE'] = 'RELATED_TO'\n",
    "MPtt_keyword_relation[\"keyword\"] = MPtt_keyword_relation[\"keyword\"].apply(lambda x : replace_double_quote(x))\n",
    "MPtt_keyword_relation[\"keyword\"] = MPtt_keyword_relation[\"keyword\"].apply(lambda x : add_quote(x))\n",
    "MPtt_keyword_relation = MPtt_keyword_relation[[\":START_ID\",\"keyword\",\":END_ID\",\":TYPE\"]]\n",
    "MPtt_keyword_relation.to_csv('opt/csv/more_tenet/mptt_post_keyword_rel.csv', index=False, encoding='utf-8', quoting=csv.QUOTE_NONE, escapechar='\\\\')\n",
    "print(MPtt_keyword_relation.shape[0])\n",
    "MPtt_keyword_relation.sample()"
   ]
  },
  {
   "cell_type": "markdown",
   "metadata": {},
   "source": [
    "<a id=\"relationship_ptt_hashtag_user\"></a>\n",
    "## Relationship of MPtt Post hashtag and post"
   ]
  },
  {
   "cell_type": "code",
   "execution_count": 41,
   "metadata": {},
   "outputs": [
    {
     "name": "stdout",
     "output_type": "stream",
     "text": [
      "283\n"
     ]
    },
    {
     "data": {
      "text/html": [
       "<div>\n",
       "<style scoped>\n",
       "    .dataframe tbody tr th:only-of-type {\n",
       "        vertical-align: middle;\n",
       "    }\n",
       "\n",
       "    .dataframe tbody tr th {\n",
       "        vertical-align: top;\n",
       "    }\n",
       "\n",
       "    .dataframe thead th {\n",
       "        text-align: right;\n",
       "    }\n",
       "</style>\n",
       "<table border=\"1\" class=\"dataframe\">\n",
       "  <thead>\n",
       "    <tr style=\"text-align: right;\">\n",
       "      <th></th>\n",
       "      <th>:START_ID</th>\n",
       "      <th>hashtag</th>\n",
       "      <th>:END_ID</th>\n",
       "      <th>:TYPE</th>\n",
       "    </tr>\n",
       "  </thead>\n",
       "  <tbody>\n",
       "    <tr>\n",
       "      <th>0</th>\n",
       "      <td>H100002681</td>\n",
       "      <td>\"#1VEm8SB9\"</td>\n",
       "      <td>MPtt_https://www.ptt.cc/bbs/movie/M.1597702829...</td>\n",
       "      <td>RELATED_TO</td>\n",
       "    </tr>\n",
       "  </tbody>\n",
       "</table>\n",
       "</div>"
      ],
      "text/plain": [
       "    :START_ID      hashtag                                            :END_ID  \\\n",
       "0  H100002681  \"#1VEm8SB9\"  MPtt_https://www.ptt.cc/bbs/movie/M.1597702829...   \n",
       "\n",
       "        :TYPE  \n",
       "0  RELATED_TO  "
      ]
     },
     "execution_count": 41,
     "metadata": {},
     "output_type": "execute_result"
    }
   ],
   "source": [
    "to_id_list = list(mptt_post_nodes['MPttPost:ID'])\n",
    "MPtt_hashtag_list = []\n",
    "for index, row in df_more_ptt[df_more_ptt['hashtags']!=''].iterrows():\n",
    "    for hashtag in row['hashtags'].replace('\\n',' ').strip().split('/'):\n",
    "        MPtt_hashtag_list.append({\"hashtag\":hashtag, \"postId\":row['url']})\n",
    "\n",
    "if len(MPtt_hashtag_list)>0:\n",
    "    MPtt_hashtag_nodes = pd.DataFrame(MPtt_hashtag_list)\n",
    "    MPtt_hashtag_relation = MPtt_hashtag_nodes[['hashtag','postId']]\n",
    "    MPtt_hashtag_relation = MPtt_hashtag_relation.rename(columns={'hashtag': 'hashtag',\n",
    "                                                                'postId': ':END_ID'})\n",
    "    MPtt_hashtag_relation[\":START_ID\"] =  MPtt_hashtag_relation[\"hashtag\"].map(hashtags_id_map)\n",
    "    MPtt_hashtag_relation[\":END_ID\"] = MPtt_hashtag_relation[\":END_ID\"].apply(lambda x:\"MPtt_\"+str(x))\n",
    "    MPtt_hashtag_relation['in_list'] = MPtt_hashtag_relation[':END_ID'].apply(lambda x:if_in_list(x, to_id_list))\n",
    "    MPtt_hashtag_relation = MPtt_hashtag_relation[MPtt_hashtag_relation['in_list']==1]\n",
    "    del MPtt_hashtag_relation['in_list']\n",
    "    MPtt_hashtag_relation[':TYPE'] = 'RELATED_TO'\n",
    "    MPtt_hashtag_relation[\"hashtag\"] = MPtt_hashtag_relation[\"hashtag\"].apply(lambda x : replace_double_quote(x))\n",
    "    MPtt_hashtag_relation[\"hashtag\"] = MPtt_hashtag_relation[\"hashtag\"].apply(lambda x : add_quote(x))\n",
    "    MPtt_hashtag_relation = MPtt_hashtag_relation[[\":START_ID\",\"hashtag\",\":END_ID\",\":TYPE\"]]\n",
    "    MPtt_hashtag_relation.to_csv('opt/csv/more_tenet/mptt_post_hashtag_rel.csv', index=False, encoding='utf-8', quoting=csv.QUOTE_NONE, escapechar='\\\\')\n",
    "    print(MPtt_hashtag_relation.shape[0])\n",
    "else:\n",
    "    MPtt_hashtag_relation = pd.DataFrame(columns=[\":START_ID\",\"hashtag\",\":END_ID\",\":TYPE\"])\n",
    "    MPtt_hashtag_relation.to_csv('opt/csv/more_tenet/mptt_post_hashtag_rel.csv', index=False, encoding='utf-8', quoting=csv.QUOTE_NONE, escapechar='\\\\')\n",
    "MPtt_hashtag_relation.head(1)"
   ]
  },
  {
   "cell_type": "markdown",
   "metadata": {},
   "source": [
    "<a id=\"import_neo4j\"></a>\n",
    "## Import to Neo4j"
   ]
  },
  {
   "cell_type": "markdown",
   "metadata": {},
   "source": [
    "```\n",
    ".\\bin\\neo4j-admin import --nodes=import/mfb_post_nodes.csv --nodes=import/mfb_user_nodes.csv --nodes=import/mforum_post_nodes.csv --nodes=import/mforum_user_nodes.csv --nodes=import/mnews_post_nodes.csv --nodes=import/mnews_user_nodes.csv --nodes=import/mptt_post_nodes.csv --nodes=import/mptt_user_nodes.csv --nodes=import/post_hashtags_nodes.csv --nodes=import/post_keyword_nodes.csv --nodes=import/post_mention_nodes.csv --relationships=import/mfb_post_hashtag_rel.csv --relationships=import/mfb_post_keyword_rel.csv --relationships=import/mfb_user_post_rel.csv --relationships=import/mforum_post_hashtag_rel.csv --relationships=import/mforum_post_keyword_rel.csv --relationships=import/mforum_user_post_rel.csv --relationships=import/mnews_post_hashtag_rel.csv --relationships=import/mnews_post_keyword_rel.csv --relationships=import/mnews_user_post_rel.csv --relationships=import/mptt_post_hashtag_rel.csv --relationships=import/mptt_post_keyword_rel.csv --relationships=import/mptt_user_post_rel.csv\n",
    "```"
   ]
  },
  {
   "cell_type": "markdown",
   "metadata": {},
   "source": [
    "## Homework\n",
    "- Import data to neo4j.\n",
    "- Create Mention relationships between user, post.\n",
    "- Generate Cypher query to see if any connection between each nodes.\n"
   ]
  }
 ],
 "metadata": {
  "kernelspec": {
   "display_name": "Python 3",
   "language": "python",
   "name": "python3"
  },
  "language_info": {
   "codemirror_mode": {
    "name": "ipython",
    "version": 3
   },
   "file_extension": ".py",
   "mimetype": "text/x-python",
   "name": "python",
   "nbconvert_exporter": "python",
   "pygments_lexer": "ipython3",
   "version": "3.6.7"
  }
 },
 "nbformat": 4,
 "nbformat_minor": 2
}
