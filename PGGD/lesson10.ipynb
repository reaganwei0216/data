{
 "cells": [
  {
   "cell_type": "markdown",
   "metadata": {},
   "source": [
    "## Lesson 10 - Create Nodes, Relations using  Cypher\n",
    "\n",
    "\n",
    "\n",
    "\n",
    "\n",
    "### Table of Contents\n",
    "\n",
    "* [Introduction to Cypher](#IntroductionCypher)\n",
    "* [Creating Nodes and Relationships in the Graph](#CreatingNodesRelationshipsGraph)\n",
    "* [Explore Movie Graph](#ImportMovieGraph)\n",
    "* [Creating Nodes and Relationships in the Graph  with Cypher](#CreatingNodesRelationshipsGraph)\n",
    "* [Neo4j databases and graphs](#DefaultNeo4jDatasets)\n",
    "* [Neo4j Sandbox](#Neo4jSandbox)\n",
    "\n",
    "\n"
   ]
  },
  {
   "cell_type": "markdown",
   "metadata": {},
   "source": [
    "<a id=\"IntroductionCypher\"></a>\n",
    "## Introduction to Cypher\n",
    "\n",
    "Cypher is the query language you use to retrieve data from the Neo4j Database, as well as create and update the data.\n",
    "\n",
    "At the end of this module, you should be able to write Cypher statements to:\n",
    "\n",
    "- Retrieve nodes from the graph.\n",
    "- Filter nodes retrieved using labels and property values of nodes.\n",
    "- Retrieve property values from nodes in the graph.\n",
    "- Filter nodes retrieved using relationships."
   ]
  },
  {
   "cell_type": "markdown",
   "metadata": {},
   "source": [
    "### What is Cypher?\n",
    "\n",
    "Cypher is a declarative query language that allows for expressive and efficient querying and updating of graph data. Cypher is a relatively simple and very powerful language. Complex database queries can easily be expressed through Cypher, allowing you to focus on your domain instead of getting lost in the syntax of database access.\n",
    "\n",
    "Cypher is designed to be a human-friendly query language, suitable for both developers and other professionals. The guiding goal is to make the simple things easy, and the complex things possible."
   ]
  },
  {
   "cell_type": "markdown",
   "metadata": {},
   "source": [
    "### Cypher is ASCII art\n",
    "\n",
    "Optimized for being read by humans, Cypher's construct uses English prose and iconography (called ASCII Art) to make queries more self-explanatory.Cypher is ASCII art\n",
    "\n",
    "<img src=\"images/AsciiArt.png\" width=80%>"
   ]
  },
  {
   "cell_type": "markdown",
   "metadata": {},
   "source": [
    "### Cypher to express what to retrieve not how\n",
    "\n",
    "Being a declarative language, Cypher focuses on the clarity of expressing what to retrieve from a graph, not on how to retrieve it. You can think of Cypher as mapping English language sentence structure to patterns in a graph. For example, the nouns are nodes of the graph, the verbs are the relationships in the graph, and the adjectives and adverbs are the properties.\n",
    "\n",
    "<img src=\"images/Nouns.png\">\n",
    "\n",
    "This is in contrast to imperative, programmatic APIs for database access. This approach makes query optimization an implementation detail instead of a burden on the developer, removing the requirement to update all traversals just because the physical database structure has changed.\n",
    "\n",
    "Cypher is inspired by a number of different approaches and builds upon established practices for expressive querying. Many of the Cypher keywords like [WHERE] and [ORDER BY] are inspired by SQL. The pattern matching functionality of Cypher borrows concepts from SPARQL. And some of the collection semantics have been borrowed from languages such as Haskell and Python.\n",
    "\n",
    "The Cypher language has been made available to anyone to implement and use via openCypher (opencypher.org), allowing any database vendor, researcher or other interested party to reap the benefits of our years of effort and experience in developing a first class graph query language."
   ]
  },
  {
   "cell_type": "markdown",
   "metadata": {},
   "source": [
    "<a id=\"ImportMovieGraph\"></a>\n",
    "## 匯入電影資料集 (Explore Movie Graph)\n",
    "\n",
    "於console列中輸入以下命令，並按下右方的三角形按鈕執行\n",
    "\n",
    "```:play movie-graph```\n",
    "\n",
    "The Movie Graph is a mini graph application containing actors and directors that are related through the movies they've collaborated on.\n",
    "\n",
    "This guide will show you how to:\n",
    "\n",
    "- Create: insert movie data into the graph\n",
    "- Find: retrieve individual movies and actors\n",
    "- Query: discover related actors and directors\n",
    "- Solve: the Bacon Path\n",
    "\n",
    "<img src=\"images/MovieGraph01.png\">"
   ]
  },
  {
   "cell_type": "markdown",
   "metadata": {},
   "source": [
    "會跳出電影資料庫的教學，翻到第二頁後點選 CREATE 指令如圖\n",
    "\n",
    "<img src=\"images/MovieGraph02.png\">\n",
    "\n",
    "執行後就會產生電影資料庫囉！（※注意：請只執行一次）\n",
    "\n",
    "Movie DB 是內建的迷你電影資料庫，儲存著許多電影、導演以及演員們的關係圖，是官方作為 Cypher 語法教學與練習的基礎。\n",
    "\n",
    "如果你想看 Cypher 完全基礎教學，請輸入\n",
    "\n",
    "```:play cypher```\n"
   ]
  },
  {
   "cell_type": "markdown",
   "metadata": {},
   "source": [
    "### 請找出湯姆漢克有演的電影，年份是 1990 ~ 2000，最多列出 10 筆\n",
    "\n",
    "```\n",
    "MATCH (tom:Person {name: \"Tom Hanks\"})-[:ACTED_IN]->(tomHanksMovies)\n",
    "WHERE tomHanksMovies.released >= 1990 AND tomHanksMovies.released < 2000\n",
    "RETURN tom, tomHanksMovies\n",
    "LIMIT 10\n",
    "```\n",
    "\n",
    "<img src=\"images/MovieGraph03.png\">"
   ]
  },
  {
   "cell_type": "markdown",
   "metadata": {},
   "source": [
    "### 請找出電影「雲圖」的所有導演，而這些導演們還有哪些其他作品？\n",
    "\n",
    "```\n",
    "MATCH (cloudAtlas {title: \"Cloud Atlas\"})<-[:DIRECTED]-(directors)-[:DIRECTED]->(m)\n",
    "RETURN *\n",
    "```\n",
    "\n",
    "<img src=\"images/MovieGraph04.png\">\n"
   ]
  },
  {
   "cell_type": "markdown",
   "metadata": {},
   "source": [
    "### 請找出有哪些人曾和湯姆漢克一起演出，分別是哪些電影？\n",
    "\n",
    "```\n",
    "MATCH (tom:Person {name:\"Tom Hanks\"})-[:ACTED_IN]->(m)<-[:ACTED_IN]-(coActors)\n",
    "RETURN coActors\n",
    "```\n",
    "\n",
    "<img src=\"images/MovieGraph05.png\">"
   ]
  },
  {
   "cell_type": "markdown",
   "metadata": {},
   "source": [
    "### 請列出所有跟電影「駭客任務 The Matrix」有關的人有誰？分別是什麼樣的關係？\n",
    "\n",
    "```\n",
    "MATCH (people:Person)-[relatedTo]-(:Movie {title: \"The Matrix\"}) RETURN people.name, Type(relatedTo), relatedTo\n",
    "```\n",
    "\n",
    "<img src=\"images/MovieGraph06.png\">"
   ]
  },
  {
   "cell_type": "markdown",
   "metadata": {},
   "source": [
    "上述查詢將關係當做了變數做查詢，所以導演或演員們都會被找出。\n",
    "\n",
    "接下來我們試著新增自己喜歡的電影、導演和演員們，首先我們看看克里斯多福·諾蘭有沒有存在資料庫中?\n",
    "\n",
    "```\n",
    "MATCH (p:Person) WHERE p.name =~ '.*Nolan.*'\n",
    "RETURN p\n",
    "```\n",
    "\n",
    "<img src=\"images/MovieGraph07.png\">\n",
    "\n",
    "這是以規則運算式來做查詢，只要名字包含了 \"Nolan\"，就會被找到，就像是 SQL 的 LIKE 語法；做 LIKE 查詢還有一個方法如下：\n",
    "\n",
    "```\n",
    "MATCH (p:Person) WHERE p.name CONTAINS 'Nolan'\n",
    "RETURN p\n",
    "```\n",
    "\n",
    "<img src=\"images/MovieGraph08.png\">"
   ]
  },
  {
   "cell_type": "markdown",
   "metadata": {},
   "source": [
    "查詢結果是，這位大導演還未被加入這個電影資料庫，那我們自己來建立吧！這邊我想改用中文，畢竟在台灣，大部分還是會以中譯來命名。\n",
    "\n",
    "```\n",
    "CREATE (nolan:Person {name: '諾蘭'}),\n",
    "(m1:Movie {title: '星際效應', released: 2014}),\n",
    "(m2:Movie {title: '全面啟動', released: 2010}),\n",
    "(m3:Movie {title: 'TENET天能', released: 2020}),\n",
    "(nolan)-[:DIRECTED]->(m1),\n",
    "(nolan)-[:DIRECTED]->(m2),\n",
    "(nolan)-[:DIRECTED]->(m3)\n",
    "```\n",
    "\n",
    "<img src=\"images/MovieGraph09.png\">"
   ]
  },
  {
   "cell_type": "markdown",
   "metadata": {},
   "source": [
    "再執行查詢導演名稱：\n",
    "\n",
    "```\n",
    "MATCH (p:Person) WHERE p.name =~ '.*諾蘭.*'\n",
    "RETURN p\n",
    "```\n",
    "\n",
    "<img src=\"images/MovieGraph10.png\">"
   ]
  },
  {
   "cell_type": "markdown",
   "metadata": {},
   "source": [
    "雖然只有一個點，點擊導演「諾蘭」後，展開與其的關聯，即可看見剛才建立他所導演的電影關聯了。\n",
    "\n",
    "<img src=\"images/MovieGraph11.png\">"
   ]
  },
  {
   "cell_type": "markdown",
   "metadata": {},
   "source": [
    "## Neo4j 看圖說故事 - 諾蘭執導的電影\n",
    "\n",
    "最近有一部很火紅的電影 - 天能，身邊朋友們都說好看，所以為了看懂，大衛也去三刷了，如果用圖來說故事，會是怎樣的世界觀?"
   ]
  },
  {
   "cell_type": "markdown",
   "metadata": {},
   "source": [
    "#### 新增 Node 前都得先確認是否存在嗎？\n",
    "\n",
    "傳統資料庫中，若想找諾蘭的電影，會先確認他是否存在資料庫中？沒有的話才新增，但難道每次都得先 MATCH 後 CREATE ? 有沒有更方便的做法？\n",
    "\n",
    "```\n",
    "MERGE (nolan:Person {name: '諾蘭'})\n",
    "RETURN nolan\n",
    "```\n",
    "\n",
    "MERGE 會先比對這筆資料是否已存在？沒有的話才新增，否則取既有的資料即可。除了讓語法更簡潔方便，也同時解決可能會重複新增 Node 的問題。"
   ]
  },
  {
   "cell_type": "markdown",
   "metadata": {},
   "source": [
    "#### 類似的資料或關係，只能不斷 Copy-Paste Cypher敘述嗎?\n",
    "\n",
    "如每一次新增一個諾蘭的電影，並指定其導演關係，就要重複貼上如下:\n",
    "\n",
    "```\n",
    "CREATE (nolan:Person {name: '諾蘭'}),\n",
    "(m1:Movie {title: '星際效應', released: 2014}),\n",
    "(m2:Movie {title: '全面啟動', released: 2010}),\n",
    "(m3:Movie {title: 'TENET天能', released: 2020}),\n",
    "(nolan)-[:DIRECTED]->(m1),\n",
    "(nolan)-[:DIRECTED]->(m2),\n",
    "(nolan)-[:DIRECTED]->(m3)\n",
    "```\n",
    "\n",
    "但是他的電影很多啊！上面的語法只是新增其中三個，每次都要重複寫 Movie，有什麼方法可以更簡潔的輸入呢？接下來我們介紹 UNWIND\n",
    "\n",
    "根據官方文件：\"With UNWIND, you can transform any list back into individual rows.\" 請留意 `list`和`individual rows`，說明輸入只要是列表就行，輸出是每一個元素，利用 UNWIND 可以將陣列元素轉換成一筆一筆的資料列，做個簡單的舉例：\n",
    "\n",
    "\n",
    "```\n",
    "UNWIND [1, 2, 3, NULL, 5] AS x RETURN x\n",
    "\n",
    "output:\n",
    "x\n",
    "1\n",
    "2\n",
    "3\n",
    "null\n",
    "5\n",
    "```\n",
    "\n",
    "我們將語法修改如下\n",
    "\n",
    "```\n",
    "UNWIND [\n",
    "    {title: '追隨', released: 1998},\n",
    "    {title: '記憶拼圖', released: 2000},\n",
    "    {title: '針鋒相對', released: 2002},\n",
    "    {title: '蝙蝠俠：開戰時刻', released: 2005},\n",
    "    {title: '頂尖對決', released: 2006},\n",
    "    {title: '黑暗騎士', released: 2008},\n",
    "    {title: '全面啟動', released: 2010},\n",
    "    {title: '黑暗騎士：黎明昇起', released: 2012},\n",
    "    {title: '星際效應', released: 2014},\n",
    "    {title: '敦克爾克大行動', released: 2017},\n",
    "    {title: 'TENET天能', released: 2020}\n",
    "] AS p\n",
    "CREATE (m:Movie) SET m = p\n",
    "RETURN m\n",
    "```\n",
    "\n",
    "<img src=\"images/MovieGraph12.png\">\n",
    "\n",
    "如此一來就可以不斷新增諾蘭所有的電影。"
   ]
  },
  {
   "cell_type": "markdown",
   "metadata": {},
   "source": [
    "#### 如何同時新增所有電影並指派關係？\n",
    "\n",
    "上面的語法解決了一直輸入 Movie 的問題，但沒有建立導演關係，那我們把前兩個做法合併起來試試：\n",
    "\n",
    "```\n",
    "MERGE (nolan:Person {name: '諾蘭'})\n",
    "UNWIND [\n",
    "    {title: '追隨', released: 1998},\n",
    "    {title: '記憶拼圖', released: 2000},\n",
    "    {title: '針鋒相對', released: 2002},\n",
    "    {title: '蝙蝠俠：開戰時刻', released: 2005},\n",
    "    {title: '頂尖對決', released: 2006},\n",
    "    {title: '黑暗騎士', released: 2008},\n",
    "    {title: '全面啟動', released: 2010},\n",
    "    {title: '黑暗騎士：黎明昇起', released: 2012},\n",
    "    {title: '星際效應', released: 2014},\n",
    "    {title: '敦克爾克大行動', released: 2017},\n",
    "    {title: 'TENET天能', released: 2020}\n",
    "] AS p\n",
    "CREATE (m:Movie) SET m = p\n",
    "CREATE (nolan)-[:DIRECTED]->(m)\n",
    "RETURN nolan, m\n",
    "```\n",
    "\n",
    "<img src=\"images/MovieGraph13.png\">\n",
    "\n",
    "會出現了如上的錯誤訊息，告訴我們 MERGE 和 UNWIND 之間必須有 WITH ，這是因為 Cypher 語言並不是 CRUD 讓你可以隨意排列組合操作的，必須有一定的順序，最常見的情境是：先查詢比對，後新增修改，這個是系統默認允許的隱性操作，不需要額外處理。\n",
    "\n",
    "除了這樣的順序之外，其他都需要注意不能讓查詢和新增/刪除/修改同時操作，而是要視為各自獨立的區塊，用 WITH 來介接。正確的寫法如下\n",
    "\n",
    "```\n",
    "MERGE (nolan:Person {name: '諾蘭'})\n",
    "WITH nolan\n",
    "UNWIND [\n",
    "    {title: '追隨', released: 1998},\n",
    "    {title: '記憶拼圖', released: 2000},\n",
    "    {title: '針鋒相對', released: 2002},\n",
    "    {title: '蝙蝠俠：開戰時刻', released: 2005},\n",
    "    {title: '頂尖對決', released: 2006},\n",
    "    {title: '黑暗騎士', released: 2008},\n",
    "    {title: '全面啟動', released: 2010},\n",
    "    {title: '黑暗騎士：黎明昇起', released: 2012},\n",
    "    {title: '星際效應', released: 2014},\n",
    "    {title: '敦克爾克大行動', released: 2017},\n",
    "    {title: 'TENET天能', released: 2020}\n",
    "] AS p\n",
    "CREATE (m:Movie) SET m = p\n",
    "CREATE (nolan)-[:DIRECTED]->(m)\n",
    "RETURN nolan, m\n",
    "```\n",
    "\n",
    "<img src=\"images/MovieGraph14.png\">"
   ]
  },
  {
   "cell_type": "markdown",
   "metadata": {},
   "source": [
    "#### 談到了 UNWIND，也順便看看 FOREACH 的做法，如下 (請勿重複執行)\n",
    "\n",
    "```\n",
    "MERGE (nolan:Person {name: '諾蘭'})\n",
    "WITH nolan, [\n",
    "    {title: '追隨', released: 1998},\n",
    "    {title: '記憶拼圖', released: 2000},\n",
    "    {title: '針鋒相對', released: 2002},\n",
    "    {title: '蝙蝠俠：開戰時刻', released: 2005},\n",
    "    {title: '頂尖對決', released: 2006},\n",
    "    {title: '黑暗騎士', released: 2008},\n",
    "    {title: '全面啟動', released: 2010},\n",
    "    {title: '黑暗騎士：黎明昇起', released: 2012},\n",
    "    {title: '星際效應', released: 2014},\n",
    "    {title: '敦克爾克大行動', released: 2017},\n",
    "    {title: 'TENET天能', released: 2020}\n",
    "] AS movies\n",
    "FOREACH (p in movies | \n",
    "    CREATE (m:Movie) SET m = p\n",
    "    CREATE (nolan)-[:DIRECTED]->(m)\n",
    ")\n",
    "RETURN nolan\n",
    "```\n",
    "\n",
    "FOREACH 與 UNWIND 不同的是，前者是純粹程式邏輯操作，而不是把資料展開，所以最後 RETURN 時無法回傳所有電影。\n",
    "\n",
    "<img src=\"images/MovieGraph15.png\">"
   ]
  },
  {
   "cell_type": "markdown",
   "metadata": {},
   "source": [
    "#### 更新資料\n",
    "\n",
    "為人物增加年齡與性別兩個屬性，並更新 updated 為最新時間戳\n",
    "\n",
    "```\n",
    "UNWIND [{age:50}, {gender:'male'}] as property\n",
    "MERGE (nolan:Person {name: '諾蘭'})\n",
    "SET nolan += property\n",
    "SET nolan.updated = timestamp()\n",
    "```\n",
    "\n",
    "<img src=\"images/MovieGraph16.png\">"
   ]
  },
  {
   "cell_type": "markdown",
   "metadata": {},
   "source": [
    "#### 更新 Relation Property\n",
    "\n",
    "SET 可以更新 Node Property，也可以更新 Relation Property\n",
    "\n",
    "```\n",
    "MATCH (p:Person {name: 'Jessica Thompson'})-[r:REVIEWED]->(m:Movie) WHERE ID(m) = 86\n",
    "SET r.rating = 85\n",
    "```\n"
   ]
  },
  {
   "cell_type": "markdown",
   "metadata": {},
   "source": [
    "#### 刪除 Node\n",
    "\n",
    "```\n",
    "MATCH (nolan:Person {name: '諾蘭'})\n",
    "DELETE nolan\n",
    "```\n",
    "\n",
    "<img src=\"images/MovieGraph17.png\">\n",
    "\n",
    "刪除 Node 時常會遇到如下錯誤訊息，存有任何關係的 Node 是不能直接刪除的\n",
    "\n",
    "所以請先 MATCH relations 並刪除後，再刪除 Node。另一個作法是連同 Relation 一並刪除，但這樣的操作就要特別小心\n",
    "\n",
    "```\n",
    "MATCH (nolan:Person {name: '諾蘭'})\n",
    "DETACH DELETE nolan\n",
    "```\n",
    "\n",
    "<img src=\"images/MovieGraph18.png\">"
   ]
  },
  {
   "cell_type": "markdown",
   "metadata": {},
   "source": [
    "#### 根據深度搜尋\n",
    "\n",
    "這是官方電影資料庫的範例，目的是查詢 Kevin Bacon 四度關係內的所有Node，不包含自己。\n",
    "\n",
    "```\n",
    "MATCH (bacon:Person {name:\"Kevin Bacon\"})-[*1..4]-(hollywood)\n",
    "RETURN DISTINCT hollywood\n",
    "```\n",
    "\n",
    "<img src=\"images/MovieGraph19.png\">"
   ]
  },
  {
   "cell_type": "markdown",
   "metadata": {},
   "source": [
    "#### 如果回傳的結果要包含自己，則是從 0 開始\n",
    "\n",
    "```\n",
    "MATCH (bacon:Person {name:\"Kevin Bacon\"})-[*0..4]-(hollywood)\n",
    "RETURN DISTINCT hollywood\n",
    "```\n",
    "\n",
    "<img src=\"images/MovieGraph20.png\">"
   ]
  },
  {
   "cell_type": "markdown",
   "metadata": {},
   "source": [
    "#### 尋找最短路徑\n",
    "\n",
    "官方範例，目的是尋找 Kevin Bacon 到 Meg Ryan 的最短路徑，可以說是圖算領域很常見的需求\n",
    "\n",
    "shortestPath 是 Cypher 內建函數\n",
    "\n",
    "[*] 指的是無限制深度，這要小心使用，否則可能會導致搜索量太大造成查詢 timeout！\n",
    "\n",
    "```\n",
    "MATCH p=shortestPath(\n",
    "(bacon:Person {name:\"Kevin Bacon\"})-[*]-(meg:Person {name:\"Meg Ryan\"})\n",
    ")\n",
    "RETURN p\n",
    "```\n",
    "\n",
    "<img src=\"images/MovieGraph21.png\">"
   ]
  },
  {
   "cell_type": "markdown",
   "metadata": {},
   "source": [
    "<a id=\"CreatingNodesRelationshipsGraph\"></a>\n",
    "## Creating Nodes and Relationships in the Graph  with Cypher"
   ]
  },
  {
   "cell_type": "markdown",
   "metadata": {},
   "source": [
    "To ensure you will not add double names\n",
    "\n",
    "`CREATE CONSTRAINT ON (p:Person) ASSERT p.name IS UNIQUE`"
   ]
  },
  {
   "cell_type": "markdown",
   "metadata": {},
   "source": [
    "Add “Ann” and “Dan” to the database. Ann and Dan love each other. Ann owns a pet, “Sam”, and she drives Dan’s car. Use separate queries:\n",
    "\n",
    "`CREATE (:Person{name:'Ann'}) – [:LOVES] ->(:Person {name:'Dan'})`\n",
    "\n",
    "`MERGE (p:Person{name:'Ann'}) CREATE (p)-[:HAS_PET]->(:Dog {name:'Sam'})`\n",
    "\n",
    "`MERGE (p:Person{name:'Ann'}), (dan:Person{name:'Dan'}) CREATE (p)-[:DRIVES]->(car:Car{brand:'Volvo'})<-[:OWNS]-(dan)`"
   ]
  },
  {
   "cell_type": "markdown",
   "metadata": {},
   "source": [
    "<img src=\"images/image03.png\">"
   ]
  },
  {
   "cell_type": "markdown",
   "metadata": {},
   "source": [
    "When you’ve made a mistake, or you’d like to redo.. This is the most efficient way to remove all data in the database (NOTE: later on you’d have to find more specific ways to delete, since you’ll lose all data this way):\n",
    "\n",
    "`Match (n) DETACH DELETE n`\n",
    "\n",
    "<img src=\"images/image02.png\">"
   ]
  },
  {
   "cell_type": "markdown",
   "metadata": {},
   "source": [
    "You can also add them this way in separate queries:\n",
    "\n",
    "`CREATE (ann:Person{name:'Ann'}) – [:LOVES] ->(dan:Person {name:'Dan'})`\n",
    "\n",
    "`MERGE (ann:Person{name:'Ann'}) CREATE (ann)-[:HAS_PET]->(dog:Dog {name:'Sam'})`\n",
    "\n",
    "`MERGE (ann:Person{name:'Ann'}) CREATE (ann)-[:DRIVES]->(car:Car {brand:'Volvo'})`\n",
    "\n",
    "`MATCH (dan:Person {name:'Dan'}), ((car:Car {brand:'Volvo'})) MERGE (dan)<-[:OWNS]-(car)`"
   ]
  },
  {
   "cell_type": "markdown",
   "metadata": {},
   "source": [
    "### Clean Nodes\n",
    "\n",
    "`Match (n) DETACH DELETE n`"
   ]
  },
  {
   "cell_type": "markdown",
   "metadata": {},
   "source": [
    "### Or add them all at once (as one query):\n",
    "\n",
    "```\n",
    "CREATE (ann:Person{name:'Ann'}) – [:LOVES] ->(dan:Person {name:'Dan'})\n",
    "CREATE (ann)-[:HAS_PET]->(dog:Dog {name:'Sam'})\n",
    "CREATE (ann)-[:DRIVES]->(car:Car {brand:'Volvo'})<-[:OWNS]-(dan)\n",
    "```"
   ]
  },
  {
   "cell_type": "markdown",
   "metadata": {},
   "source": [
    "### Clean Nodes\n",
    "\n",
    "`Match (n) DETACH DELETE n`"
   ]
  },
  {
   "cell_type": "markdown",
   "metadata": {},
   "source": [
    "### Adding all nodes separately, and then connect them with relationships:\n",
    "\n",
    "```\n",
    "CREATE (ann:Person{name:'Ann', age:32})\n",
    "CREATE (dan:Person {name:'Dan', age:33})\n",
    "CREATE (sam:Dog {name:'Sam', gender:'male'})\n",
    "CREATE (car:Car {brand:'Volvo'})\n",
    "```"
   ]
  },
  {
   "cell_type": "markdown",
   "metadata": {},
   "source": [
    "`Match (ann:Person {name:'Ann'}),(dan:Person {name:'Dan'}) CREATE (ann)-[:LOVES]->(dan)<-[:LOVES]-(ann)`\n",
    "\n",
    "`Match (ann:Person{name:'Ann'}),(sam:Dog{name:'Sam'}) CREATE (ann)-[:HAS_PET]->(sam)`\n",
    "\n",
    "`Match (ann:Person{name:'Ann'}),(sam:Dog{name:'Sam'}) CREATE (sam)-[:PET_OF]->(ann)`\n",
    "\n",
    "`Match (ann:Person{name:'Ann'}), (dan:Person{name:'Dan'}), (car:Car{brand:'Volvo'}) CREATE (ann)-[:DRIVES]->(car)<-[:OWNS]-(dan)`"
   ]
  },
  {
   "cell_type": "markdown",
   "metadata": {},
   "source": [
    "### Show all entries in the graph\n",
    "\n",
    "`MATCH (n) RETURN n`\n",
    "\n",
    "<img src=\"images/image04.png\">"
   ]
  },
  {
   "cell_type": "markdown",
   "metadata": {},
   "source": [
    "### Now, we've had our fun. We can now create some more data and relationships:\n",
    "\n",
    "`CREATE (jack:Person {name:'Jack', age:42, position:'manager'})`\n",
    "\n",
    "`MATCH (jack:Person{name:'Jack'}), (dan:Person{name:'Dan'}) CREATE (jack) - [:BOSS_OF] -> (dan)`\n",
    "\n",
    "`MATCH (dan:Person{name:'Dan'}) CREATE (dan) - [:SUPERVISES] -> (jojo:Person {name:'Jojo', age:25, position:'student'})`"
   ]
  },
  {
   "cell_type": "markdown",
   "metadata": {},
   "source": [
    "###  Create some Movie, user who rates a Movie\n",
    "\n",
    "```\n",
    "CREATE (Inception:Movie{title:'Inception', director: 'Christopher Nolan'})\n",
    "CREATE (DarkKnight:Movie {title:'The Dark Knight', director: 'Christopher Nolan'})\n",
    "CREATE (beasts:Movie{title:'Fantastic Beasts: the crimes of Grindelwald', director: 'David Yates'})\n",
    "CREATE (shawshank:Movie {title:'The Shawshank Redemption', director: 'Frank Darabont'})\n",
    "CREATE (forrest:Movie {title:'Forrest Gump', director: 'Robert Zemeckis'})\n",
    "CREATE (matrix:Movie {title:'The Matrix', director: 'Lana Wachowski & Lilly Wachowski'})\n",
    "```\n",
    "\n",
    "```\n",
    "CREATE (Peter:User {name: 'Peter N', age:30})\n",
    "CREATE (Ryan:User {name: 'Ryan A', age:20})\n",
    "CREATE (Sam:User {name: 'Sam Sheldon', age:35})\n",
    "CREATE (Inception)-[:RATED {rating:9}]->(Peter)\n",
    "CREATE (Inception)-[:RATED {rating:8}]->(Sam)\n",
    "CREATE (DarkKnight)-[:RATED {rating:6}]->(Peter)\n",
    "CREATE (DarkKnight)-[:RATED {rating:7}]->(Sam)\n",
    "```"
   ]
  },
  {
   "cell_type": "markdown",
   "metadata": {},
   "source": [
    "### Add some more relationships:\n",
    "\n",
    "`MATCH (sam:User {name: 'Sam Sheldon', age:35}), (dan:Person{name:'Dan', age:33}) CREATE (sam) - [:BROTHER] -> (dan)`\n",
    "\n",
    "`MATCH (ryan:User {name: 'Ryan A', age:20}), (jack:Person{name:'Jack', age:42}) CREATE (ryan) - [:BROTHER] -> (jack)`\n",
    "\n",
    "`MATCH (jojo:Person {name: 'Jojo'}), (peter:Person {name: 'Peter N'}) CREATE (jojo) - [:SISTER] -> (peter)`\n",
    "\n",
    "### To make sure nodes for people are labelled the same (Person instead of User):\n",
    "```\n",
    "MATCH (n:User) \n",
    "WHERE ID(n) IN [10, 11, 12]\n",
    "REMOVE n:User\n",
    "SET n:Person\n",
    "```"
   ]
  },
  {
   "cell_type": "markdown",
   "metadata": {},
   "source": [
    "### Ryan is a true movie fanatic and rates all movies he's been watching lately. Also, Sam and Dan rate some movies they watched:\n",
    "\n",
    "`MATCH (ryan:Person {name: 'Ryan A', age:20}), (inception:Movie{title:'Inception'}) CREATE (ryan) - [:RATED{rating: 9}] -> (inception)`\n",
    "\n",
    "`MATCH (forrest:Movie{title:'Forrest Gump'}) CREATE (ryan) - [:RATED{rating: 7}] -> (forrest)`\n",
    "\n",
    "`MATCH (beasts:Movie {title:'Fantastic Beasts: the crimes of Grindelwald'}) CREATE (ryan) - [:RATED{rating: 8}] -> (beasts)`\n",
    "\n",
    "`MATCH (dark:Movie {title:'The Dark Knight'}) CREATE (ryan) - [:RATED{rating: 6}] -> (dark)`\n",
    "\n",
    "`MATCH (matrix:Movie {title:'The Matrix'}) CREATE (ryan) - [:RATED{rating: 10}] -> (matrix)`\n",
    "\n",
    "`MATCH (shawshank:Movie {title:'The Shawshank Redemption'}) CREATE (ryan) - [:RATED{rating: 9}] -> (shawshank)`\n",
    "\n",
    "`MATCH (sam:Person {name: 'Sam Sheldon', age: 35}) CREATE (sam) - [:RATED{rating: 9}] -> (beasts)`\n",
    "\n",
    "`MATCH (dan:Person {name: 'Dan'}) CREATE (dan) - [:RATED{rating: 9}] -> (beasts)`\n",
    "\n",
    "### Make Jojo rate all movies with a 2:\n",
    "`MATCH (jojo:Person {name: 'Jojo'}), (m:Movie) CREATE (jojo) - [:RATED {rating: 2}] -> (m)`\n",
    "\n",
    "###  Let's show all entries in the graph:\n",
    "`MATCH (n) RETURN n`\n",
    "\n",
    "<img src=\"images/image05.png\">"
   ]
  },
  {
   "cell_type": "markdown",
   "metadata": {},
   "source": [
    "<a id=\"DefaultNeo4jDatasets\"></a>\n",
    "## Neo4j databases and graphs\n",
    "\n",
    "<b>預存資料集</b>\n",
    "\n",
    "除了電影資料庫之外，還有其他許多預存資料集或範例可供操作，例如經典的北風資料庫，可說是學 SQL 最佳範例。\n",
    "\n",
    "```\n",
    ":play movie-graph\n",
    "```\n",
    "```\n",
    ":play northwind-graph\n",
    "```\n",
    "```\n",
    ":play got\n",
    "```\n",
    "```\n",
    ":play ukcompanies\n",
    "```\n",
    "```\n",
    ":play listings\n",
    "```\n",
    "```\n",
    ":play football_transfers\n",
    "```\n",
    "\n",
    "直接在 Neo4j Browser 輸入上述指令，依照指示步驟建立或匯入預存資料集。"
   ]
  },
  {
   "cell_type": "markdown",
   "metadata": {},
   "source": [
    "### 社群分享的 graph\n",
    "\n",
    "除了官方預定義的資料及之外，Neo4j最迷人的地方，就是廣大社群網友上傳分享的資料集。\n",
    "\n",
    "#### Graph Gallery\n",
    "\n",
    "GraphGist 是讓網友們可以自由分享資料集的地方，包含各種情境或行業例如財務、運動、社群、健康、網路、運輸 ... 你可以上去尋找有興趣的資料集做研究和練習。\n",
    "\n",
    "想要安裝 Graph Gallery 的資料集，請在 Neo4j Desktop 選擇 Graph Apps Gallery\n",
    "\n",
    "<img src=\"images/Neo4j_Desktop_Sidebar.jpg\">\n",
    "\n",
    "然後安裝 Graph Gallery，或是透過[Graph Gallery官方網站](https://install.graphapp.io) 安裝也可以。\n",
    "\n",
    "<img src=\"images/Neo4j_Graph_Gallery.jpg\">\n",
    "\n",
    "安裝成功後就，從 Neo4j Desktop 點選 Graph Gallery 就可以看到畫面，之後在想要安裝的圖形資料點選 Play as Browser Guide 即可。\n",
    "\n",
    "若你按下Install按鈕沒有反應，則可以複製套件的[連結](https://neo.jfrog.io/neo/api/npm/npm/graph-gallery)，貼在 Install 輸入方框中。\n",
    "\n",
    "<img src=\"images/GraphGalleryManualInstallation.png\">\n",
    "\n",
    "<img src=\"images/GraphAppInstallation.png\">\n",
    "\n",
    "<img src=\"images/GraphExamples.png\">"
   ]
  },
  {
   "cell_type": "markdown",
   "metadata": {},
   "source": [
    "<a id=\"Neo4jSandbox\"></a>\n",
    "\n",
    "## Neo4j Sandbox\n",
    "\n",
    "Sandbox 讓你可以連安裝 Neo4j 都不需要！直接在瀏覽器連線遠端資料庫，並線上操作。主要是讓還沒搞懂 Neo4j，不想安裝軟體的使用者可以先行體驗，所以也會有很豐富的預存資料集可供練習，畫面如下：\n",
    "\n",
    "<img src=\"images/Neo4j_Sandbox.jpg\">\n",
    "\n"
   ]
  },
  {
   "cell_type": "markdown",
   "metadata": {},
   "source": [
    "Blank Sandbox 顧名思義就是開一個空的資料庫讓你自由操作。\n",
    "\n",
    "Twitter 則是會要求連接你的 Twitter 帳號並建立社群網路圖。\n",
    "\n",
    "其他資料集有興趣的話也都可以嘗試。不過 Sandbox 資料庫預設只會保留 3 天，最多延長 7 天變成 10 天，畢竟只是體驗的版本。\n",
    "\n",
    "<img src=\"images/Neo4jSandBox.png\">"
   ]
  },
  {
   "cell_type": "markdown",
   "metadata": {},
   "source": [
    "### Neo4j Sandbox 遠端連線\n",
    "\n",
    "Sandbox 雖然只是體驗版資料庫，但麻雀雖小五臟俱全，它是可以讓你真的做遠端連線資料庫，在 Neo4j Desktop 建立新的資料庫，選擇 Connect to Remote DBMS。\n",
    "\n",
    "<img src=\"images/Neo4j_Desktop_Create_new_db.jpg\">\n",
    "\n",
    "接者回到瀏覽器你的 Sandbox 畫面，點選 Connection Details，這邊會需要的資訊是 Username、Password、Bolt URL\n",
    "\n",
    "<img src=\"images/Neo4j_Sandbox_Connection_Detail.jpg\">\n",
    "\n",
    "再回到 Neo4j Desktop，依序輸入上述三項資訊，之後點選 Connect 即可。\n",
    "\n",
    "<img src=\"images/Neo4j_Desktop_Remote_1.jpg\">"
   ]
  },
  {
   "cell_type": "markdown",
   "metadata": {},
   "source": [
    "## Summary\n",
    "\n",
    "You should now be able to:\n",
    "\n",
    "- Create your own node, relationships, attributes with your graph.\n",
    "- Using SandBox as your play ground of Neo4j.\n",
    "- Import Neo4j default datasets into Graph.\n",
    "- Explore Neo4j Browser."
   ]
  },
  {
   "cell_type": "code",
   "execution_count": null,
   "metadata": {},
   "outputs": [],
   "source": []
  }
 ],
 "metadata": {
  "kernelspec": {
   "display_name": "Python 3",
   "language": "python",
   "name": "python3"
  },
  "language_info": {
   "codemirror_mode": {
    "name": "ipython",
    "version": 3
   },
   "file_extension": ".py",
   "mimetype": "text/x-python",
   "name": "python",
   "nbconvert_exporter": "python",
   "pygments_lexer": "ipython3",
   "version": "3.6.7"
  }
 },
 "nbformat": 4,
 "nbformat_minor": 2
}
