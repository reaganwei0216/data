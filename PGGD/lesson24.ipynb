{
 "cells": [
  {
   "cell_type": "markdown",
   "metadata": {},
   "source": [
    "## Lesson 24 - Movie Database Flask API\n",
    "\n",
    "\n",
    "\n",
    "\n",
    "\n",
    "### Table of Contents\n",
    "\n",
    "* [Movie Graph with Flask API](#movie_graph_flask)\n"
   ]
  },
  {
   "cell_type": "markdown",
   "metadata": {},
   "source": [
    "<a id=\"movie_graph_flask\"></a>\n",
    "## Movie Graph with Flask API\n",
    "<img src=\"images/neo4j_movie_template_web_model.png\">"
   ]
  },
  {
   "cell_type": "markdown",
   "metadata": {},
   "source": [
    "### flask-api\n",
    "\n",
    "update flask-api/.env file\n",
    "\n",
    "```\n",
    "python -m venv api\n",
    "virtualenv api\n",
    "api\\Scripts\\activate\n",
    "api\\Scripts\\pip.exe install -r requirements.txt\n",
    "api\\Scripts\\flask run\n",
    "```\n",
    "\n",
    "<img src=\"images/movie_flask_api.png\">\n",
    "\n",
    "### Web\n",
    "\n",
    "update web/.env file\n",
    "\n",
    "```\n",
    "npm install\n",
    "npm start\n",
    "```\n",
    "\n",
    "<img src=\"images/movie_web_nodejs_npm_install.png\">\n",
    "\n",
    "https://github.com/neo4j-examples/neo4j-movies-template"
   ]
  },
  {
   "cell_type": "markdown",
   "metadata": {},
   "source": [
    "<img src=\"images/neo4j_movie_web_template.png\">\n",
    "\n",
    "<img src=\"images/neo4j_movie_web_details_page.png\">"
   ]
  }
 ],
 "metadata": {
  "kernelspec": {
   "display_name": "Python 3",
   "language": "python",
   "name": "python3"
  },
  "language_info": {
   "codemirror_mode": {
    "name": "ipython",
    "version": 3
   },
   "file_extension": ".py",
   "mimetype": "text/x-python",
   "name": "python",
   "nbconvert_exporter": "python",
   "pygments_lexer": "ipython3",
   "version": "3.6.7"
  }
 },
 "nbformat": 4,
 "nbformat_minor": 2
}
