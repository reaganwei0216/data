{
 "cells": [
  {
   "cell_type": "markdown",
   "metadata": {},
   "source": [
    "<a id=\"syntax\"></a>\n",
    "\n",
    "## Lesson 3 - Python Basics\n",
    "\n",
    "In this section we will cover some basic aspects of Python using IPython (Jupyter) notebooks. \n",
    "\n",
    "### Table of Contents\n",
    "\n",
    "* [Data Type, Operators 基礎變數資料型別與運算子](#BasicDataType)\n",
    "* [Python List and Dictionary複合資料型別](#ListDictionary)\n",
    "* [Python Markdown 製作筆記](#Markdown)"
   ]
  },
  {
   "cell_type": "markdown",
   "metadata": {},
   "source": [
    "<a id=\"BasicDataType\"></a>\n",
    "\n",
    "### Basic Data Types"
   ]
  },
  {
   "cell_type": "markdown",
   "metadata": {},
   "source": [
    "#### Integer"
   ]
  },
  {
   "cell_type": "code",
   "execution_count": 1,
   "metadata": {},
   "outputs": [
    {
     "data": {
      "text/plain": [
       "int"
      ]
     },
     "execution_count": 1,
     "metadata": {},
     "output_type": "execute_result"
    }
   ],
   "source": [
    "a = 8\n",
    "type(8)"
   ]
  },
  {
   "cell_type": "code",
   "execution_count": 2,
   "metadata": {},
   "outputs": [
    {
     "data": {
      "text/plain": [
       "15"
      ]
     },
     "execution_count": 2,
     "metadata": {},
     "output_type": "execute_result"
    }
   ],
   "source": [
    "b = 7\n",
    "c = a + b\n",
    "c"
   ]
  },
  {
   "cell_type": "code",
   "execution_count": 3,
   "metadata": {},
   "outputs": [
    {
     "data": {
      "text/plain": [
       "int"
      ]
     },
     "execution_count": 3,
     "metadata": {},
     "output_type": "execute_result"
    }
   ],
   "source": [
    "type(c)"
   ]
  },
  {
   "cell_type": "code",
   "execution_count": 4,
   "metadata": {},
   "outputs": [
    {
     "data": {
      "text/plain": [
       "'15'"
      ]
     },
     "execution_count": 4,
     "metadata": {},
     "output_type": "execute_result"
    }
   ],
   "source": [
    "# Convert Integer to String\n",
    "d = str(c)\n",
    "d"
   ]
  },
  {
   "cell_type": "code",
   "execution_count": 5,
   "metadata": {},
   "outputs": [
    {
     "data": {
      "text/plain": [
       "str"
      ]
     },
     "execution_count": 5,
     "metadata": {},
     "output_type": "execute_result"
    }
   ],
   "source": [
    "type(d)"
   ]
  },
  {
   "cell_type": "code",
   "execution_count": 6,
   "metadata": {},
   "outputs": [
    {
     "data": {
      "text/plain": [
       "15"
      ]
     },
     "execution_count": 6,
     "metadata": {},
     "output_type": "execute_result"
    }
   ],
   "source": [
    "e = int(d)\n",
    "e"
   ]
  },
  {
   "cell_type": "code",
   "execution_count": 7,
   "metadata": {},
   "outputs": [
    {
     "data": {
      "text/plain": [
       "int"
      ]
     },
     "execution_count": 7,
     "metadata": {},
     "output_type": "execute_result"
    }
   ],
   "source": [
    "type(e)"
   ]
  },
  {
   "cell_type": "code",
   "execution_count": 8,
   "metadata": {},
   "outputs": [
    {
     "ename": "ValueError",
     "evalue": "invalid literal for int() with base 10: '1a2b'",
     "output_type": "error",
     "traceback": [
      "\u001b[1;31m---------------------------------------------------------------------------\u001b[0m",
      "\u001b[1;31mValueError\u001b[0m                                Traceback (most recent call last)",
      "\u001b[1;32m<ipython-input-8-483bd80ff543>\u001b[0m in \u001b[0;36m<module>\u001b[1;34m\u001b[0m\n\u001b[0;32m      1\u001b[0m \u001b[1;31m# String can NOT convert to integer, so this cell will cause exception.\u001b[0m\u001b[1;33m\u001b[0m\u001b[1;33m\u001b[0m\u001b[1;33m\u001b[0m\u001b[0m\n\u001b[0;32m      2\u001b[0m \u001b[0mf\u001b[0m \u001b[1;33m=\u001b[0m \u001b[1;34m\"1a2b\"\u001b[0m\u001b[1;33m\u001b[0m\u001b[1;33m\u001b[0m\u001b[0m\n\u001b[1;32m----> 3\u001b[1;33m \u001b[0mg\u001b[0m \u001b[1;33m=\u001b[0m \u001b[0mint\u001b[0m\u001b[1;33m(\u001b[0m\u001b[0mf\u001b[0m\u001b[1;33m)\u001b[0m\u001b[1;33m\u001b[0m\u001b[1;33m\u001b[0m\u001b[0m\n\u001b[0m",
      "\u001b[1;31mValueError\u001b[0m: invalid literal for int() with base 10: '1a2b'"
     ]
    }
   ],
   "source": [
    "# String can NOT convert to integer, so this cell will cause exception.\n",
    "f = \"1a2b\"\n",
    "g = int(f)"
   ]
  },
  {
   "cell_type": "code",
   "execution_count": null,
   "metadata": {},
   "outputs": [],
   "source": [
    "# put source code surround by try-except, handle this situation\n",
    "try:\n",
    "    f = \"1a2b\"\n",
    "    g = int(f)  \n",
    "except Exception as e:\n",
    "    print(e)\n",
    "    pass"
   ]
  },
  {
   "cell_type": "markdown",
   "metadata": {},
   "source": [
    "#### Python Operators\n",
    "\n",
    "Operators are used to perform operations on variables and values.\n",
    "\n",
    "Python divides the operators in the following groups:\n",
    "\n",
    "- Arithmetic operators\n",
    "- Assignment operators\n",
    "- Comparison operators\n",
    "- Logical operators\n",
    "- Identity operators\n",
    "- Membership operators\n",
    "- Bitwise operators"
   ]
  },
  {
   "cell_type": "markdown",
   "metadata": {},
   "source": [
    "|  Operator           |  Name  |  Example  |\n",
    "|:------:|:-----------:|:-------:|\n",
    "|  +     |  Addition  |  x + y  |\n",
    "|  -     |  Subtraction  |  x - y  |\n",
    "|  *     |  Multiplication  |  x * y  |\n",
    "|  /     |  Division  |  x / y  |\n",
    "|  %     |  Modulus  |  x % y  |\n",
    "|  **    |  Exponentiation  |  x ** y  |\n",
    "|  //    |  Floor division  |  x // y  |"
   ]
  },
  {
   "cell_type": "markdown",
   "metadata": {},
   "source": [
    "#### Python Assignment Operators\n",
    "\n",
    "Assignment operators are used to assign values to variables:"
   ]
  },
  {
   "cell_type": "markdown",
   "metadata": {},
   "source": [
    "|  Operator   |  Example  |  Same As  |\n",
    "|:------:|:------:|:-------:|\n",
    "|  =  |  x = 5  |  x = 5  |\n",
    "|  +=  |  x += 3  |  x = x + 3  |\n",
    "|  -=  |  x -= 3  |  x = x - 3  |\n",
    "|  *=  |  x *= 3  |  x = x * 3  |\n",
    "|  /=  |  x /= 3  |  x = x / 3  |\n",
    "|  %=  |  x %= 3  |  x = x % 3  |\n",
    "|  //=  |  x //= 3  |  x = x // 3  |\n",
    "|  **=  |  x **= 3  |  x = x ** 3  |\n",
    "|  &=  |  x &= 3  |  x = x & 3  |\n",
    "|  /=  |  x /= 3  |  x = x / 3  |\n",
    "|  ^=  |  x ^= 3  |  x = x ^ 3  |\n",
    "|  >>=  |  x >>= 3  |  x = x >> 3  |\n",
    "|  <<=  |  x <<= 3  |  x = x << 3  |"
   ]
  },
  {
   "cell_type": "markdown",
   "metadata": {},
   "source": [
    "#### Python Comparison Operators\n",
    "\n",
    "Comparison operators are used to compare two values:"
   ]
  },
  {
   "cell_type": "markdown",
   "metadata": {},
   "source": [
    "|  Operator   |  Name  |  Example  |\n",
    "|:------:|:------:|:-------:|\n",
    "|  ==  |  Equal  |  x == y  |\n",
    "|  !=  |  Not equal  |  x != y  |\n",
    "|  >  |  Greater than  |  x > y  |\n",
    "|  <  |  Less than  |  x < y  |\n",
    "|  >=  |  Greater than or equal to  |  x >= y  |\n",
    "|  <=  |  Less than or equal to  |  x <= y  |"
   ]
  },
  {
   "cell_type": "markdown",
   "metadata": {},
   "source": [
    "#### Python Logical Operators\n",
    "\n",
    "Logical operators are used to combine conditional statements:"
   ]
  },
  {
   "cell_type": "markdown",
   "metadata": {},
   "source": [
    "|  Operator   |  Description  |  Example  |\n",
    "|:------:|:------:|:-------:|\n",
    "|  and   |  Returns True if both statements are true  |  x < 5 and  x < 10  |\n",
    "|  or   |  Returns True if one of the statements is true  |  x < 5 or x < 4  |\n",
    "|  not   |  Reverse the result, returns False if the result is true  |  not(x < 5 and x < 10)  |"
   ]
  },
  {
   "cell_type": "markdown",
   "metadata": {},
   "source": [
    "#### Python Identity Operators\n",
    "\n",
    "Identity operators are used to compare the objects, not if they are equal, but if they are actually the same object, with the same memory location:"
   ]
  },
  {
   "cell_type": "markdown",
   "metadata": {},
   "source": [
    "|  Operator   |  Description  |  Example  |\n",
    "|:------:|:------:|:-------:|\n",
    "|  is   |  Returns True if both variables are the same object  |  x is y  |\n",
    "|  is not   |  Returns True if both variables are not the same object  |  x is not y  |"
   ]
  },
  {
   "cell_type": "markdown",
   "metadata": {},
   "source": [
    "#### Python Membership Operators\n",
    "\n",
    "Membership operators are used to test if a sequence is presented in an object:"
   ]
  },
  {
   "cell_type": "markdown",
   "metadata": {},
   "source": [
    "|  Operator   |  Description  |  Example  |\n",
    "|:------:|:------:|:-------:|\n",
    "|  in   |  Returns True if a sequence with the specified value is present in the object  |  x in y  |\n",
    "|  not in   |  Returns True if a sequence with the specified value is not present in the object  |  x not in y  |"
   ]
  },
  {
   "cell_type": "markdown",
   "metadata": {},
   "source": [
    "#### Python Bitwise Operators\n",
    "\n",
    "Bitwise operators are used to compare (binary) numbers:"
   ]
  },
  {
   "cell_type": "markdown",
   "metadata": {},
   "source": [
    "|  Operator   |  Name  |  Description  |\n",
    "|:------:|:------:|:-------:|\n",
    "|  &   |  AND  |  Sets each bit to 1 if both bits are 1  |\n",
    "|  ｜   |  OR  |  Sets each bit to 1 if one of two bits is 1  |\n",
    "|  ^   |  XOR  |  Sets each bit to 1 if only one of two bits is 1  |\n",
    "|  ~   |  NOT  |  Inverts all the bits  |\n",
    "|  <<   |  Zero fill left shift  |  Shift left by pushing zeros in from the right and let the leftmost bits fall off  |\n",
    "|  >>   |  Signed right shift  |  Shift right by pushing copies of the leftmost bit in from the left, and let the rightmost bits fall off  |\n"
   ]
  },
  {
   "cell_type": "markdown",
   "metadata": {},
   "source": [
    "#### Exercise:\n",
    "\n",
    "Calculate:\n",
    "\n",
    "a = 6\n",
    "\n",
    "b = 2\n",
    "\n",
    "c = 1\n",
    "\n",
    "d = 2\n",
    "\n",
    "a divided by b, times (c plus d)\n",
    "\n",
    "Hint: 6÷2(1+2) = ?\n",
    "\n",
    "算算看：6÷2(1+2) = ? 是 1 還是 9 ?"
   ]
  },
  {
   "cell_type": "code",
   "execution_count": null,
   "metadata": {},
   "outputs": [],
   "source": []
  },
  {
   "cell_type": "markdown",
   "metadata": {},
   "source": [
    "#### Booleans\n",
    "\n",
    "'True' and 'False' have special meaning in Python."
   ]
  },
  {
   "cell_type": "code",
   "execution_count": null,
   "metadata": {},
   "outputs": [],
   "source": [
    "a = True\n",
    "b = False"
   ]
  },
  {
   "cell_type": "code",
   "execution_count": null,
   "metadata": {},
   "outputs": [],
   "source": [
    "# 輸出 a 是否等於 True的寫法，有兩個等號，是表格中的operator(運算子)\n",
    "a == True"
   ]
  },
  {
   "cell_type": "code",
   "execution_count": null,
   "metadata": {},
   "outputs": [],
   "source": [
    "b == True  # 母丟喔"
   ]
  },
  {
   "cell_type": "code",
   "execution_count": null,
   "metadata": {},
   "outputs": [],
   "source": [
    "a or b  # or 有一個是True就是True"
   ]
  },
  {
   "cell_type": "code",
   "execution_count": null,
   "metadata": {},
   "outputs": [],
   "source": [
    "b or a"
   ]
  },
  {
   "cell_type": "code",
   "execution_count": null,
   "metadata": {},
   "outputs": [],
   "source": [
    "a and b  # a 和 b 兩個都要是True才是True"
   ]
  },
  {
   "cell_type": "code",
   "execution_count": null,
   "metadata": {},
   "outputs": [],
   "source": [
    "b and a"
   ]
  },
  {
   "cell_type": "markdown",
   "metadata": {},
   "source": [
    "|  AND   |  True  |  False  |\n",
    "|:------:|:------:|:-------:|\n",
    "|  True  |  True  |  False  |\n",
    "|  False |  False |  False  |"
   ]
  },
  {
   "cell_type": "markdown",
   "metadata": {},
   "source": [
    "|   OR   |  True  |  False  |\n",
    "|:------:|:------:|:-------:|\n",
    "|  True  |  True  |  True   |\n",
    "|  False |  True  |  False  |"
   ]
  },
  {
   "cell_type": "markdown",
   "metadata": {},
   "source": [
    "#### Math of Numbers: integers, floats and type\n",
    "\n",
    "Numbers are pretty straightforward, especially in Python 3."
   ]
  },
  {
   "cell_type": "code",
   "execution_count": null,
   "metadata": {},
   "outputs": [],
   "source": [
    "1 + 2"
   ]
  },
  {
   "cell_type": "code",
   "execution_count": null,
   "metadata": {},
   "outputs": [],
   "source": [
    "1.0 + 2.0"
   ]
  },
  {
   "cell_type": "code",
   "execution_count": null,
   "metadata": {},
   "outputs": [],
   "source": [
    "1 / 2"
   ]
  },
  {
   "cell_type": "code",
   "execution_count": null,
   "metadata": {},
   "outputs": [],
   "source": [
    "1.0 / 2.0"
   ]
  },
  {
   "cell_type": "code",
   "execution_count": null,
   "metadata": {},
   "outputs": [],
   "source": [
    "type(1)"
   ]
  },
  {
   "cell_type": "code",
   "execution_count": null,
   "metadata": {},
   "outputs": [],
   "source": [
    "type(1/2)"
   ]
  },
  {
   "cell_type": "code",
   "execution_count": null,
   "metadata": {},
   "outputs": [],
   "source": [
    "type(\"字串\")"
   ]
  },
  {
   "cell_type": "markdown",
   "metadata": {},
   "source": [
    "#### Strings\n",
    "\n",
    "The next four data types -- strings, lists, tuples, arrays -- are all sequences.\n",
    "\n",
    "Strings are sequences of characters."
   ]
  },
  {
   "cell_type": "code",
   "execution_count": null,
   "metadata": {},
   "outputs": [],
   "source": [
    "s1 = '嗨!'"
   ]
  },
  {
   "cell_type": "code",
   "execution_count": null,
   "metadata": {},
   "outputs": [],
   "source": [
    "# len 函數，計算字串中有幾個字元，包含標點符號，中文字一個算是1個字元，利用len()計算字元數\n",
    "len(s1)"
   ]
  },
  {
   "cell_type": "code",
   "execution_count": null,
   "metadata": {},
   "outputs": [],
   "source": [
    "s2 = '大衛!'"
   ]
  },
  {
   "cell_type": "code",
   "execution_count": null,
   "metadata": {},
   "outputs": [],
   "source": [
    "# 以 + operator 連接(concatenate)兩個字串\n",
    "s3 = s1 + s2\n",
    "s3"
   ]
  },
  {
   "cell_type": "code",
   "execution_count": null,
   "metadata": {},
   "outputs": [],
   "source": [
    "len(s3)"
   ]
  },
  {
   "cell_type": "code",
   "execution_count": null,
   "metadata": {},
   "outputs": [],
   "source": [
    "# Python中的字串，屬於list的型別(稍晚介紹)一種，可以中括號[]來取出某幾個字\n",
    "s3[0:1]"
   ]
  },
  {
   "cell_type": "code",
   "execution_count": null,
   "metadata": {},
   "outputs": [],
   "source": [
    "s3[1:2]"
   ]
  },
  {
   "cell_type": "code",
   "execution_count": null,
   "metadata": {},
   "outputs": [],
   "source": [
    "s3[1:]"
   ]
  },
  {
   "cell_type": "code",
   "execution_count": null,
   "metadata": {},
   "outputs": [],
   "source": [
    "s3[:1]"
   ]
  },
  {
   "cell_type": "markdown",
   "metadata": {},
   "source": [
    "#### print"
   ]
  },
  {
   "cell_type": "code",
   "execution_count": null,
   "metadata": {},
   "outputs": [],
   "source": [
    "# print => 印出文字在 console\n",
    "print('嗨! 單引號字串!')"
   ]
  },
  {
   "cell_type": "code",
   "execution_count": null,
   "metadata": {},
   "outputs": [],
   "source": [
    "print(\"雙引號字串 與 單引號字串輸出效果一樣，注意空格也會忠實輸出!\")"
   ]
  },
  {
   "cell_type": "code",
   "execution_count": null,
   "metadata": {},
   "outputs": [],
   "source": [
    "# 將剛才的 s3 變數的內容輸出在 console\n",
    "print(s3)"
   ]
  },
  {
   "cell_type": "markdown",
   "metadata": {},
   "source": [
    "#### 字串連接\n",
    "**Option 1: %-formatting** — Original Python syntax."
   ]
  },
  {
   "cell_type": "code",
   "execution_count": null,
   "metadata": {},
   "outputs": [],
   "source": [
    "# 使用 %s 作為變數，將要組成的變數利用 % (\"\") 來動態傳入變數\n",
    "s4 = \"天氣真好，%s %s\" % (s1, s2)\n",
    "print( s4 )"
   ]
  },
  {
   "cell_type": "markdown",
   "metadata": {},
   "source": [
    "**Option 2: str.format()** – Introduced since Python 2.6."
   ]
  },
  {
   "cell_type": "code",
   "execution_count": null,
   "metadata": {},
   "outputs": [],
   "source": [
    "s4 = \"天氣真好，{} {} \".format(s1, s2)\n",
    "print( s4 )"
   ]
  },
  {
   "cell_type": "markdown",
   "metadata": {},
   "source": [
    "**Option 3: f\"天氣真好，{s1} {s2}\"**"
   ]
  },
  {
   "cell_type": "code",
   "execution_count": null,
   "metadata": {},
   "outputs": [],
   "source": [
    "s4 = f\"天氣真好，{s1} {s2}\"\n",
    "print( s4 )"
   ]
  },
  {
   "cell_type": "code",
   "execution_count": null,
   "metadata": {},
   "outputs": [],
   "source": [
    "s5 = s4\n",
    "print(s5)"
   ]
  },
  {
   "cell_type": "markdown",
   "metadata": {},
   "source": [
    "#### 取代字串中的文字"
   ]
  },
  {
   "cell_type": "code",
   "execution_count": null,
   "metadata": {},
   "outputs": [],
   "source": [
    "s6 = s5.replace(\"大衛\", \"大胃王\")\n",
    "print(s6)"
   ]
  },
  {
   "cell_type": "markdown",
   "metadata": {},
   "source": [
    "### LAB\n",
    "\n",
    "1. 網路上找到一篇新聞，新聞中必須包含兩個人物的名字，複製其內文，設定於變數 s7\n",
    "2. 將 s7 中的兩個名字，提換掉成新的名字，並將結果儲存於 變數 s8\n",
    "3. 輸出 s8"
   ]
  },
  {
   "cell_type": "code",
   "execution_count": null,
   "metadata": {},
   "outputs": [],
   "source": []
  },
  {
   "cell_type": "markdown",
   "metadata": {},
   "source": [
    "<a id=\"ListDictionary\"></a>\n",
    "\n",
    "### Python List and Dictionary"
   ]
  },
  {
   "cell_type": "markdown",
   "metadata": {},
   "source": [
    "#### Lists (串列)\n",
    "\n",
    "Lists are _mutable_ sequences of anything."
   ]
  },
  {
   "cell_type": "code",
   "execution_count": null,
   "metadata": {},
   "outputs": [],
   "source": [
    "lst = [3, -5, 6, 8,  10]"
   ]
  },
  {
   "cell_type": "code",
   "execution_count": null,
   "metadata": {},
   "outputs": [],
   "source": [
    "# list 中的第一個元素(element)，索引為0，值為1，索引為1，值為3，依此類推\n",
    "lst[0]"
   ]
  },
  {
   "cell_type": "markdown",
   "metadata": {},
   "source": [
    "<img src=\"images/list01.png\">"
   ]
  },
  {
   "cell_type": "code",
   "execution_count": null,
   "metadata": {},
   "outputs": [],
   "source": [
    "lst[2]"
   ]
  },
  {
   "cell_type": "code",
   "execution_count": null,
   "metadata": {},
   "outputs": [],
   "source": [
    "# 取出 0 到 3 索引的值\n",
    "lst[0:3]"
   ]
  },
  {
   "cell_type": "code",
   "execution_count": null,
   "metadata": {},
   "outputs": [],
   "source": [
    "# 從最後面開始往前取\n",
    "lst[-1]"
   ]
  },
  {
   "cell_type": "markdown",
   "metadata": {},
   "source": [
    "<img src=\"images/list02.png\">"
   ]
  },
  {
   "cell_type": "code",
   "execution_count": null,
   "metadata": {},
   "outputs": [],
   "source": [
    "lst[-3]"
   ]
  },
  {
   "cell_type": "code",
   "execution_count": null,
   "metadata": {},
   "outputs": [],
   "source": [
    "# list 裡可以放置多種資料型別的值，也可以是串列中放串列\n",
    "mlst = [9, 4, 'David', 'Lanz', True, [8, 7]]"
   ]
  },
  {
   "cell_type": "code",
   "execution_count": null,
   "metadata": {},
   "outputs": [],
   "source": [
    "mlst[0]"
   ]
  },
  {
   "cell_type": "code",
   "execution_count": null,
   "metadata": {},
   "outputs": [],
   "source": [
    "mlst[1]"
   ]
  },
  {
   "cell_type": "code",
   "execution_count": null,
   "metadata": {},
   "outputs": [],
   "source": [
    "mlst[5]"
   ]
  },
  {
   "cell_type": "code",
   "execution_count": null,
   "metadata": {},
   "outputs": [],
   "source": [
    "# 第 1 個索引以後，當然包含 mlst[1]\n",
    "mlst[1:]"
   ]
  },
  {
   "cell_type": "code",
   "execution_count": null,
   "metadata": {},
   "outputs": [],
   "source": [
    "# 兩個串列 list 整合成 一個 串列 list\n",
    "lst1 = [\"a\", \"b\", \"c\"]\n",
    "lst2 = [\"1\", \"2\", \"3\"]\n",
    "lst3 = lst1 + lst2\n",
    "lst3"
   ]
  },
  {
   "cell_type": "code",
   "execution_count": null,
   "metadata": {},
   "outputs": [],
   "source": [
    "# 利用 append ，新加(附加)一個元素至串列，意即於串列之後的新元素\n",
    "lst3.append(\"4\")\n",
    "lst3"
   ]
  },
  {
   "cell_type": "markdown",
   "metadata": {},
   "source": [
    "#### Dictionaries\n",
    "\n",
    "Dictionaries or 'dicts' are hash tables, where a key points to a value."
   ]
  },
  {
   "cell_type": "code",
   "execution_count": null,
   "metadata": {},
   "outputs": [],
   "source": [
    "# name, age 與 birth 在 Dictionary 中稱之為 key，冒號後的稱之為 value，value可以為任何資料型別\n",
    "d = {'name': 'David', 'age': 25, 'birth': '10/10/1994'}"
   ]
  },
  {
   "cell_type": "code",
   "execution_count": null,
   "metadata": {},
   "outputs": [],
   "source": [
    "d['name']"
   ]
  },
  {
   "cell_type": "code",
   "execution_count": null,
   "metadata": {},
   "outputs": [],
   "source": [
    "d['age']"
   ]
  },
  {
   "cell_type": "markdown",
   "metadata": {},
   "source": [
    "#### List of Dictionaries\n",
    "\n",
    "Put dictionaries into list."
   ]
  },
  {
   "cell_type": "code",
   "execution_count": null,
   "metadata": {},
   "outputs": [],
   "source": [
    "# create empty list\n",
    "lst = []"
   ]
  },
  {
   "cell_type": "code",
   "execution_count": null,
   "metadata": {},
   "outputs": [],
   "source": [
    "# create two dictionaries\n",
    "student1 = {'國文': 92, '英文': 82, '數學': 88}\n",
    "student2 = {'國文': 87, '英文': 89, '數學': 98}"
   ]
  },
  {
   "cell_type": "code",
   "execution_count": null,
   "metadata": {},
   "outputs": [],
   "source": [
    "# append dictionary into list\n",
    "lst.append(student1)\n",
    "lst.append(student2)"
   ]
  },
  {
   "cell_type": "code",
   "execution_count": null,
   "metadata": {},
   "outputs": [],
   "source": [
    "lst"
   ]
  },
  {
   "cell_type": "code",
   "execution_count": null,
   "metadata": {},
   "outputs": [],
   "source": [
    "# student1\n",
    "lst[0]"
   ]
  },
  {
   "cell_type": "code",
   "execution_count": null,
   "metadata": {},
   "outputs": [],
   "source": [
    "# student2\n",
    "lst[1]"
   ]
  },
  {
   "cell_type": "markdown",
   "metadata": {},
   "source": [
    "### LAB\n",
    "\n",
    "1. 建立三個變數 p1, p2, p3，其資料型別為 Dictionary。\n",
    "2. Dictionary中具有 4 個 key，分別為：文章ID、按讚數、分享數、留言數。\n",
    "3. 變數 p1, p2, p3 表示三篇發文，包含文章編號、按讚、留言以及分享。\n",
    "4. 建立一個變數 post_list存放三篇文章\n",
    "5. 取出的結果"
   ]
  },
  {
   "cell_type": "markdown",
   "metadata": {},
   "source": [
    "<a id=\"Markdown\"></a>\n",
    "\n",
    "### Markdown\n",
    "\n",
    "Cell 可以選 Markdown 模式, 就可以用 Markdown 語法做筆記，就如同這份教材一樣。\n",
    "\n",
    "點選上方工具列，修改Cell的格式：\n",
    "\n",
    "<img src=\"images/notebook_cell_markdown.png\">"
   ]
  },
  {
   "cell_type": "markdown",
   "metadata": {},
   "source": [
    "### 【重點】標題\n",
    "\n",
    "`# 最大標題`\n",
    "# 最大標題\n",
    "\n",
    "`## 副標題`\n",
    "## 副標題\n",
    "\n",
    "..."
   ]
  },
  {
   "cell_type": "markdown",
   "metadata": {},
   "source": [
    "### 【重點】分點說明\n",
    "\n",
    "我們要學以下幾個套件:\n",
    "\n",
    "* `matplotlib`\n",
    "* `numpy`\n",
    "* `pandas`\n",
    "* `scikit-learn`"
   ]
  },
  {
   "cell_type": "markdown",
   "metadata": {},
   "source": [
    "### 【重點】程式碼\n",
    "\n",
    "顯示程式碼有幾種方式。\n",
    "\n",
    "#### [1] 前面有若干空白\n",
    "\n",
    "    for i in range(10):\n",
    "        print(i)\n",
    "        \n",
    "#### [2] 內文可以用斜引號\n",
    "\n",
    "    `matplotlib`\n",
    "    \n",
    "#### [3] 還可以用 3 個引號外加語言\n",
    "\n",
    "    ```python\n",
    "    for i in range(10):\n",
    "        print(i)\n",
    "    ```\n",
    "\n",
    "```python\n",
    "for i in range(10):\n",
    "    print(i)\n",
    "```"
   ]
  },
  {
   "cell_type": "markdown",
   "metadata": {},
   "source": [
    "### 【重點】插入網頁\n",
    "\n",
    "格式如下\n",
    "\n",
    "    [網頁名稱](URL)\n",
    "    \n",
    "例如\n",
    "\n",
    "    [大衛的網站](http://jumpin.cc)\n",
    "    \n",
    "結果: [大衛的網站](http://jumpin.cc)"
   ]
  },
  {
   "cell_type": "markdown",
   "metadata": {},
   "source": [
    "### 【重點】插入圖片\n",
    "\n",
    "    ![圖片名稱](圖片路徑)\n",
    "    \n",
    "例如\n",
    "\n",
    "    ![Python程式設計](images/PythonProgrammer.png)\n",
    "    \n",
    "![Python程式設計](images/PythonProgrammer.png)"
   ]
  },
  {
   "cell_type": "markdown",
   "metadata": {},
   "source": [
    "### 【重點】插入圖片 from Internet\n",
    "\n",
    "    ![圖片名稱](圖片網址)\n",
    "    \n",
    "例如\n",
    "\n",
    "    ![Python學習地圖](https://miro.medium.com/max/3000/1*ogmp6xjwPQ0-ZUZ86yftMA.png)\n",
    "    \n",
    "![Python學習地圖](https://miro.medium.com/max/3000/1*ogmp6xjwPQ0-ZUZ86yftMA.png)"
   ]
  },
  {
   "cell_type": "markdown",
   "metadata": {},
   "source": [
    "### 【重點】輸入數學符號\n",
    "\n",
    "支援 LaTeX 指令。\n",
    "\n",
    "#### 隨文模式\n",
    "\n",
    "例如\n",
    "\n",
    "    假設有函數 $f(x) = x^3 - 2x + 5$。\n",
    "    \n",
    "[結果] 假設有函數 $f(x) = x^3 - 2x + 5$。\n",
    "\n",
    "#### 展式模式\n",
    "\n",
    "例如\n",
    "\n",
    "    $$\\int_a^b f(x) \\, dx$$\n",
    "\n",
    "$$\\int_a^b f(x) \\, dx$$"
   ]
  },
  {
   "cell_type": "markdown",
   "metadata": {},
   "source": [
    "### Recap"
   ]
  },
  {
   "cell_type": "markdown",
   "metadata": {},
   "source": [
    "- Variable data type (String, List and Dictinday)"
   ]
  },
  {
   "cell_type": "markdown",
   "metadata": {},
   "source": [
    "### LAB\n",
    "\n",
    "a + b = 5, a × b = 6 求 a, b ?\n"
   ]
  },
  {
   "cell_type": "markdown",
   "metadata": {},
   "source": [
    "<iamg src=\"https://qph.fs.quoracdn.net/main-qimg-2f6fbcc5d10c7f022673f4acad373339\">"
   ]
  },
  {
   "cell_type": "markdown",
   "metadata": {},
   "source": [
    "### LAB: 撰寫 Markdown"
   ]
  },
  {
   "cell_type": "code",
   "execution_count": null,
   "metadata": {},
   "outputs": [],
   "source": []
  }
 ],
 "metadata": {
  "kernelspec": {
   "display_name": "Python 3",
   "language": "python",
   "name": "python3"
  },
  "language_info": {
   "codemirror_mode": {
    "name": "ipython",
    "version": 3
   },
   "file_extension": ".py",
   "mimetype": "text/x-python",
   "name": "python",
   "nbconvert_exporter": "python",
   "pygments_lexer": "ipython3",
   "version": "3.6.7"
  }
 },
 "nbformat": 4,
 "nbformat_minor": 2
}
