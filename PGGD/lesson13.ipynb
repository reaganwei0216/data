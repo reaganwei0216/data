{
 "cells": [
  {
   "cell_type": "markdown",
   "metadata": {},
   "source": [
    "## Lesson 13 - Graphs with Python and Neo4j\n",
    "\n",
    "\n",
    "\n",
    "\n",
    "\n",
    "### Table of Contents\n",
    "\n",
    "* [py2neo](#py2neo)\n",
    "* [Cypher query and fetch data](#fetch_data)\n",
    "* [Delete node on Neo4j server](#delete_node)\n",
    "* [Create Nodes and Relationship again](#create_node_again)\n",
    "* [Object Graph Mapping](#ogm)\n",
    "* [Create node by Person class](#class)\n",
    "* [MERGE AND UNIQUE Nodes](#merge)\n",
    "\n"
   ]
  },
  {
   "cell_type": "markdown",
   "metadata": {},
   "source": [
    "<a id=\"py2neo\"></a>\n",
    "## py2neo\n",
    "\n",
    "py2neo is one of Neo4j's Python drivers. It offers a fully-featured interface for interacting with your data in Neo4j. Install py2neo with pip install py2neo.\n",
    "\n",
    "```python\n",
    "pip install py2neo==5.0b1\n",
    "```\n",
    "\n",
    "```python\n",
    "pip install py2neo\n",
    "```\n",
    "https://py2neo.org/"
   ]
  },
  {
   "cell_type": "code",
   "execution_count": 1,
   "metadata": {},
   "outputs": [],
   "source": [
    "from py2neo import Graph\n",
    "\n",
    "# under 4.2.9\n",
    "# http://127.0.0.1:7474/browser/\n",
    "graph = Graph('http://127.0.0.1:7474', username='neo4j', password='42840667')\n",
    "\n",
    "# above 4.3+\n",
    "# pip uninstall py2neo\n",
    "# graph = Graph(\"bolt://localhost:7687\", auth=(\"neo4j\", \"42840667\"))"
   ]
  },
  {
   "cell_type": "markdown",
   "metadata": {},
   "source": [
    "### playground\n",
    "\n",
    "- Nodes - graph data records\n",
    "- Relationships - connect nodes\n",
    "- Properties - named data values\n",
    "\n",
    "<img src=\"images/cypher_graph_v1.jpg\">\n",
    "\n",
    "Ref. https://py2neo.org/v3/types.html"
   ]
  },
  {
   "cell_type": "code",
   "execution_count": 2,
   "metadata": {},
   "outputs": [
    {
     "name": "stdout",
     "output_type": "stream",
     "text": [
      "(:Person {name: 'David'}) (:Person {name: 'Arnold'}) (David)-[:KNOWS {}]->(Arnold)\n"
     ]
    }
   ],
   "source": [
    "'''\n",
    "### Node & relationship\n",
    "'''\n",
    "\n",
    "from py2neo import Node, Relationship\n",
    "a = Node('Person', name='David')\n",
    "b = Node('Person', name='Arnold')\n",
    "ab = Relationship(a, 'KNOWS', b)\n",
    "print(a, b, ab)"
   ]
  },
  {
   "cell_type": "markdown",
   "metadata": {},
   "source": [
    "<img src=\"images/Person.jpg\">"
   ]
  },
  {
   "cell_type": "code",
   "execution_count": 3,
   "metadata": {},
   "outputs": [
    {
     "name": "stdout",
     "output_type": "stream",
     "text": [
      "(:Person {age: 35, name: 'David'}) (:Person {age: 28, name: 'Arnold'}) (David)-[:KNOWS {time: '2021/07/03'}]->(Arnold)\n"
     ]
    }
   ],
   "source": [
    "# add properties\n",
    "a['age'] = 35\n",
    "b['age'] = 28\n",
    "ab['time'] = '2021/07/03'\n",
    "print(a, b, ab)"
   ]
  },
  {
   "cell_type": "code",
   "execution_count": 4,
   "metadata": {},
   "outputs": [
    {
     "name": "stdout",
     "output_type": "stream",
     "text": [
      "(:Person {age: 35, location: 'Taipei', name: 'David'}) (:Person {age: 28, name: 'Arnold'})\n"
     ]
    }
   ],
   "source": [
    "# set default properties if node doesn't have that properties\n",
    "a.setdefault('location', 'Taipei')\n",
    "print(a, b)"
   ]
  },
  {
   "cell_type": "code",
   "execution_count": 5,
   "metadata": {},
   "outputs": [
    {
     "name": "stdout",
     "output_type": "stream",
     "text": [
      "(:Person {age: 35, location: 'Taipei', name: 'David'}) (:Person {age: 28, gender: 'unknown', name: 'Arnold'})\n"
     ]
    }
   ],
   "source": [
    "b.setdefault('gender','unknown')\n",
    "print(a, b)"
   ]
  },
  {
   "cell_type": "markdown",
   "metadata": {},
   "source": [
    "### Update node"
   ]
  },
  {
   "cell_type": "code",
   "execution_count": 6,
   "metadata": {},
   "outputs": [
    {
     "name": "stdout",
     "output_type": "stream",
     "text": [
      "(:Person {age: 24, location: 'Taipei', name: 'Gracia'})\n"
     ]
    }
   ],
   "source": [
    "# update node\n",
    "data = {\n",
    "    'name': 'Gracia',\n",
    "    'age': 24\n",
    "}\n",
    "a.update(data)\n",
    "print(a)"
   ]
  },
  {
   "cell_type": "code",
   "execution_count": 7,
   "metadata": {},
   "outputs": [
    {
     "name": "stdout",
     "output_type": "stream",
     "text": [
      "(:Person {age: 24, location: 'Taipei', name: 'Gracia'}) (:Person {age: 28, gender: 'unknown', name: 'Arnold'}) (Gracia)-[:KNOWS {time: '2021/07/03'}]->(Arnold)\n"
     ]
    }
   ],
   "source": [
    "print(a, b, ab)"
   ]
  },
  {
   "cell_type": "code",
   "execution_count": 8,
   "metadata": {},
   "outputs": [
    {
     "name": "stdout",
     "output_type": "stream",
     "text": [
      "Gracia\n"
     ]
    }
   ],
   "source": [
    "# delete properties, but properties doesn't exist\n",
    "del a['age']\n",
    "print(a[\"name\"])"
   ]
  },
  {
   "cell_type": "code",
   "execution_count": 9,
   "metadata": {},
   "outputs": [],
   "source": [
    "# update properties and append relationship\n",
    "a['age']=20\n",
    "ab['time']='2021/07/02'"
   ]
  },
  {
   "cell_type": "code",
   "execution_count": 10,
   "metadata": {},
   "outputs": [],
   "source": [
    "# update relationship, and add properties to node\n",
    "a.update(age=22, sex='female')\n",
    "ab.update(time='2021/09/03')"
   ]
  },
  {
   "cell_type": "code",
   "execution_count": 11,
   "metadata": {},
   "outputs": [
    {
     "name": "stdout",
     "output_type": "stream",
     "text": [
      "(:Person {age: 22, location: 'Taipei', name: 'Gracia', sex: 'female'}) (:Person {age: 28, gender: 'unknown', name: 'Arnold'}) (Gracia)-[:KNOWS {time: '2021/09/03'}]->(Arnold)\n"
     ]
    }
   ],
   "source": [
    "print(a, b, ab)"
   ]
  },
  {
   "cell_type": "markdown",
   "metadata": {},
   "source": [
    "### Subgraphs\n",
    "\n",
    "A Subgraph is a collection of nodes and relationships. The simplest way to construct a subgraph is by combining nodes and relationships using standard set operations. For example:"
   ]
  },
  {
   "cell_type": "code",
   "execution_count": 12,
   "metadata": {},
   "outputs": [
    {
     "name": "stdout",
     "output_type": "stream",
     "text": [
      "Subgraph({Node('Person', age=23, location='高雄', name='Mike'), Node('Person', age=21, location='台北', name='Alice'), Node('Person', age=22, location='台中', name='Bob')}, {KNOWS(Node('Person', age=22, location='台中', name='Bob'), Node('Person', age=23, location='高雄', name='Mike')), ACTED_IN(Node('Person', age=21, location='台北', name='Alice'), Node('Person', age=22, location='台中', name='Bob'))})\n"
     ]
    }
   ],
   "source": [
    "from py2neo import Graph, Node, Relationship\n",
    "\n",
    "a = Node('Person', name='Alice', age=21, location='台北')\n",
    "b = Node('Person', name='Bob', age=22, location='台中')\n",
    "c = Node('Person', name='Mike', age=23, location='高雄')\n",
    "ab = Relationship(a, 'ACTED_IN', b)\n",
    "bc = Relationship(b, 'KNOWS', c)\n",
    "# graph.create(a)\n",
    "# graph.create(ab)\n",
    "# graph.create(bc)\n",
    "subgraph = a | ab | bc\n",
    "print(subgraph)"
   ]
  },
  {
   "cell_type": "code",
   "execution_count": 13,
   "metadata": {},
   "outputs": [
    {
     "data": {
      "text/plain": [
       "frozenset({'Person'})"
      ]
     },
     "execution_count": 13,
     "metadata": {},
     "output_type": "execute_result"
    }
   ],
   "source": [
    "subgraph.labels"
   ]
  },
  {
   "cell_type": "code",
   "execution_count": 14,
   "metadata": {},
   "outputs": [
    {
     "data": {
      "text/plain": [
       "frozenset({'age', 'location', 'name'})"
      ]
     },
     "execution_count": 14,
     "metadata": {},
     "output_type": "execute_result"
    }
   ],
   "source": [
    "subgraph.keys()"
   ]
  },
  {
   "cell_type": "code",
   "execution_count": 15,
   "metadata": {},
   "outputs": [
    {
     "data": {
      "text/plain": [
       "frozenset({'ACTED_IN', 'KNOWS'})"
      ]
     },
     "execution_count": 15,
     "metadata": {},
     "output_type": "execute_result"
    }
   ],
   "source": [
    "subgraph.types()"
   ]
  },
  {
   "cell_type": "code",
   "execution_count": 16,
   "metadata": {},
   "outputs": [
    {
     "name": "stdout",
     "output_type": "stream",
     "text": [
      "subgraph node: (:Person {age: 23, location: '\\u9ad8\\u96c4', name: 'Mike'})\n",
      "subgraph node: (:Person {age: 21, location: '\\u53f0\\u5317', name: 'Alice'})\n",
      "subgraph node: (:Person {age: 22, location: '\\u53f0\\u4e2d', name: 'Bob'})\n"
     ]
    }
   ],
   "source": [
    "for item in subgraph.nodes:\n",
    "    print('subgraph node:', item)"
   ]
  },
  {
   "cell_type": "markdown",
   "metadata": {},
   "source": [
    "### connect to neo4j server and create nodes"
   ]
  },
  {
   "cell_type": "markdown",
   "metadata": {},
   "source": [
    "### Create subgraph\n",
    "\n",
    "```\n",
    "graph.create(subgraph)\n",
    "```"
   ]
  },
  {
   "cell_type": "code",
   "execution_count": 17,
   "metadata": {},
   "outputs": [],
   "source": [
    "graph.create(subgraph)"
   ]
  },
  {
   "cell_type": "markdown",
   "metadata": {},
   "source": [
    "<img src=\"images/py2neo_playground_subgraph.png\">"
   ]
  },
  {
   "cell_type": "markdown",
   "metadata": {},
   "source": [
    "### Find one user with graph.match"
   ]
  },
  {
   "cell_type": "code",
   "execution_count": 18,
   "metadata": {},
   "outputs": [
    {
     "name": "stdout",
     "output_type": "stream",
     "text": [
      "(_1:Person {age: 21, location: '\\u53f0\\u5317', name: 'Alice'})\n"
     ]
    }
   ],
   "source": [
    "from py2neo import Graph, NodeMatcher\n",
    "\n",
    "persons = graph.nodes.match(\"Person\", name=\"Alice\").first()\n",
    "print(persons)"
   ]
  },
  {
   "cell_type": "code",
   "execution_count": 19,
   "metadata": {},
   "outputs": [
    {
     "name": "stdout",
     "output_type": "stream",
     "text": [
      "(_1:Person {age: 21, location: '\\u53f0\\u5317', name: 'Alice'})\n"
     ]
    }
   ],
   "source": [
    "persons = graph.nodes.match(\"Person\", age=21)\n",
    "for person in persons:\n",
    "    print(person.end_node)"
   ]
  },
  {
   "cell_type": "markdown",
   "metadata": {},
   "source": [
    "### Add node to database"
   ]
  },
  {
   "cell_type": "code",
   "execution_count": 20,
   "metadata": {},
   "outputs": [],
   "source": [
    "d = Node('Person', name='Billy', age=23, location='花蓮')\n",
    "ad = Relationship(a, 'KNOWS', d)\n",
    "# graph.create(d)\n",
    "# graph.create(ad)\n",
    "subgraph = ad\n",
    "graph.create(subgraph)"
   ]
  },
  {
   "cell_type": "code",
   "execution_count": 21,
   "metadata": {},
   "outputs": [
    {
     "name": "stdout",
     "output_type": "stream",
     "text": [
      "Billy exist\n"
     ]
    }
   ],
   "source": [
    "## Search nodes if Billy exists\n",
    "name = 'Billy'\n",
    "if len(graph.nodes.match(\"Person\", name=\"Billy\"))>0:\n",
    "    print(f\"{name} exist\")"
   ]
  },
  {
   "cell_type": "markdown",
   "metadata": {},
   "source": [
    "### LIKE match"
   ]
  },
  {
   "cell_type": "code",
   "execution_count": 22,
   "metadata": {},
   "outputs": [
    {
     "data": {
      "text/plain": [
       "[Node('Person', age=22, location='台中', name='Bob'),\n",
       " Node('Person', age=23, location='花蓮', name='Billy')]"
      ]
     },
     "execution_count": 22,
     "metadata": {},
     "output_type": "execute_result"
    }
   ],
   "source": [
    "list(graph.nodes.match(\"Person\").where(\"_.name =~ 'B.*'\"))"
   ]
  },
  {
   "cell_type": "code",
   "execution_count": 23,
   "metadata": {},
   "outputs": [
    {
     "data": {
      "text/plain": [
       "[Node('Person', age=23, location='高雄', name='Mike')]"
      ]
     },
     "execution_count": 23,
     "metadata": {},
     "output_type": "execute_result"
    }
   ],
   "source": [
    "list(graph.nodes.match(\"Person\").where(\"_.name =~ 'M.*'\").order_by(\"_.name\").limit(3))"
   ]
  },
  {
   "cell_type": "code",
   "execution_count": 24,
   "metadata": {},
   "outputs": [
    {
     "data": {
      "text/plain": [
       "1"
      ]
     },
     "execution_count": 24,
     "metadata": {},
     "output_type": "execute_result"
    }
   ],
   "source": [
    "len(graph.nodes.match(\"Person\").where(\"_.name =~ 'M.*'\"))"
   ]
  },
  {
   "cell_type": "code",
   "execution_count": 25,
   "metadata": {},
   "outputs": [
    {
     "name": "stdout",
     "output_type": "stream",
     "text": [
      "(Alice)-[:ACTED_IN {}]->(Bob)\n"
     ]
    }
   ],
   "source": [
    "keanu = graph.nodes.match(\"Person\", name=\"Alice\").first()\n",
    "#list(graph.relationships.match((keanu, None), \"ACTED_IN\").limit(3))\n",
    "for person in list(graph.relationships.match((keanu, None), \"ACTED_IN\")):\n",
    "    print(person)"
   ]
  },
  {
   "cell_type": "markdown",
   "metadata": {},
   "source": [
    "### NodeMatcher and RelationshipMatcher"
   ]
  },
  {
   "cell_type": "code",
   "execution_count": 26,
   "metadata": {},
   "outputs": [
    {
     "name": "stdout",
     "output_type": "stream",
     "text": [
      "5.0b1\n"
     ]
    }
   ],
   "source": [
    "import py2neo\n",
    "from py2neo import Graph, Node, Relationship, NodeMatcher, RelationshipMatcher\n",
    "print(py2neo.__version__)"
   ]
  },
  {
   "cell_type": "code",
   "execution_count": 27,
   "metadata": {},
   "outputs": [
    {
     "name": "stdout",
     "output_type": "stream",
     "text": [
      "2\n",
      "(_2:Person {age: 22, location: '\\u53f0\\u4e2d', name: 'Bob'}) Bob\n",
      "(_3:Person {age: 23, location: '\\u82b1\\u84ee', name: 'Billy'}) Billy\n"
     ]
    }
   ],
   "source": [
    "matcher = NodeMatcher(graph)\n",
    "# match.where(\"_.age >= 30\")\n",
    "nodeList = list(matcher.match().where(\"_.name =~ 'B.*'\").order_by(\"_.age\").limit(4))\n",
    "print(len(nodeList))\n",
    "for i in nodeList:\n",
    "    print(i, i[\"name\"])"
   ]
  },
  {
   "cell_type": "code",
   "execution_count": 28,
   "metadata": {},
   "outputs": [
    {
     "name": "stdout",
     "output_type": "stream",
     "text": [
      "1\n",
      "(Alice)-[:ACTED_IN {}]->(Bob)\n"
     ]
    }
   ],
   "source": [
    "rmatcher = RelationshipMatcher(graph)\n",
    "nodeList = rmatcher.match(nodes=(a,b), r_type=\"ACTED_IN\")\n",
    "print(len(nodeList))\n",
    "for i in nodeList:\n",
    "    print(i)"
   ]
  },
  {
   "cell_type": "code",
   "execution_count": 29,
   "metadata": {},
   "outputs": [
    {
     "name": "stdout",
     "output_type": "stream",
     "text": [
      "1\n",
      "(Alice)-[:ACTED_IN {}]->(Bob)\n",
      "(_1:Person {age: 21, location: '\\u53f0\\u5317', name: 'Alice'})\n",
      "1\n",
      "(_2:Person {age: 22, location: '\\u53f0\\u4e2d', name: 'Bob'})\n",
      "2\n",
      "(ACTED_IN(Node('Person', age=21, location='台北', name='Alice'), Node('Person', age=22, location='台中', name='Bob')),)\n",
      "frozenset({'Person'})\n",
      "(_1:Person {age: 21, location: '\\u53f0\\u5317', name: 'Alice'})\n",
      "(_2:Person {age: 22, location: '\\u53f0\\u4e2d', name: 'Bob'})\n",
      "<bound method Subgraph.types of ACTED_IN(Node('Person', age=21, location='台北', name='Alice'), Node('Person', age=22, location='台中', name='Bob'))>\n"
     ]
    }
   ],
   "source": [
    "nodeList = rmatcher.match(nodes=(a,b), r_type=\"ACTED_IN\")\n",
    "print(len(nodeList))\n",
    "for i in nodeList:\n",
    "    print(i)\n",
    "    print(i.start_node)\n",
    "    print(i.start_node.identity)\n",
    "    print(i.end_node)\n",
    "    print(i.end_node.identity)\n",
    "    print(i.relationships)\n",
    "    print(i.labels)\n",
    "    for node in i.nodes:\n",
    "        print(node)\n",
    "    print(i.types)"
   ]
  },
  {
   "cell_type": "code",
   "execution_count": 30,
   "metadata": {},
   "outputs": [
    {
     "name": "stdout",
     "output_type": "stream",
     "text": [
      "1\n",
      "(Alice)-[:ACTED_IN {}]->(Bob)\n",
      "(_1:Person {age: 21, location: '\\u53f0\\u5317', name: 'Alice'})\n",
      "1\n",
      "(_2:Person {age: 22, location: '\\u53f0\\u4e2d', name: 'Bob'})\n",
      "2\n",
      "(ACTED_IN(Node('Person', age=21, location='台北', name='Alice'), Node('Person', age=22, location='台中', name='Bob')),)\n",
      "frozenset({'Person'})\n",
      "(_1:Person {age: 21, location: '\\u53f0\\u5317', name: 'Alice'})\n",
      "(_2:Person {age: 22, location: '\\u53f0\\u4e2d', name: 'Bob'})\n",
      "<bound method Subgraph.types of ACTED_IN(Node('Person', age=21, location='台北', name='Alice'), Node('Person', age=22, location='台中', name='Bob'))>\n"
     ]
    }
   ],
   "source": [
    "nodeList = rmatcher.match(nodes=(a,b))\n",
    "print(len(nodeList))\n",
    "for i in nodeList:\n",
    "    print(i)\n",
    "    print(i.start_node)\n",
    "    print(i.start_node.identity)\n",
    "    print(i.end_node)\n",
    "    print(i.end_node.identity)\n",
    "    print(i.relationships)\n",
    "    print(i.labels)\n",
    "    for node in i.nodes:\n",
    "        print(node)\n",
    "    print(i.types)"
   ]
  },
  {
   "cell_type": "code",
   "execution_count": 31,
   "metadata": {},
   "outputs": [
    {
     "name": "stdout",
     "output_type": "stream",
     "text": [
      "0\n"
     ]
    }
   ],
   "source": [
    "# 不存在的 relationship\n",
    "nodeList = rmatcher.match(nodes=(a,c), r_type=\"ACTED_IN\")\n",
    "print(len(nodeList))"
   ]
  },
  {
   "cell_type": "code",
   "execution_count": 32,
   "metadata": {},
   "outputs": [
    {
     "name": "stdout",
     "output_type": "stream",
     "text": [
      "1\n",
      "(Alice)-[:ACTED_IN {}]->(Bob)\n",
      "(_1:Person {age: 21, location: '\\u53f0\\u5317', name: 'Alice'})\n",
      "1\n",
      "(_2:Person {age: 22, location: '\\u53f0\\u4e2d', name: 'Bob'})\n",
      "2\n",
      "(ACTED_IN(Node('Person', age=21, location='台北', name='Alice'), Node('Person', age=22, location='台中', name='Bob')),)\n",
      "frozenset({'Person'})\n",
      "(_1:Person {age: 21, location: '\\u53f0\\u5317', name: 'Alice'})\n",
      "(_2:Person {age: 22, location: '\\u53f0\\u4e2d', name: 'Bob'})\n",
      "<bound method Subgraph.types of ACTED_IN(Node('Person', age=21, location='台北', name='Alice'), Node('Person', age=22, location='台中', name='Bob'))>\n"
     ]
    }
   ],
   "source": [
    "# 搜尋start_node為a的 relationship 有哪些node\n",
    "nodeList = rmatcher.match(nodes=(a,), r_type=\"ACTED_IN\")\n",
    "print(len(nodeList))\n",
    "for i in nodeList:\n",
    "    print(i)\n",
    "    print(i.start_node)\n",
    "    print(i.start_node.identity)\n",
    "    print(i.end_node)\n",
    "    print(i.end_node.identity)\n",
    "    print(i.relationships)\n",
    "    print(i.labels)\n",
    "    for node in i.nodes:\n",
    "        print(node)\n",
    "    print(i.types)"
   ]
  },
  {
   "cell_type": "markdown",
   "metadata": {},
   "source": [
    "### Update node on neo4j server"
   ]
  },
  {
   "cell_type": "code",
   "execution_count": 34,
   "metadata": {},
   "outputs": [],
   "source": [
    "from py2neo import Graph, Node\n",
    "\n",
    "person = graph.nodes.match(\"Person\", name=\"Alice\")\n",
    "\n",
    "for node in person:\n",
    "    node['gender'] = \"female\"\n",
    "    graph.push(node)"
   ]
  },
  {
   "cell_type": "markdown",
   "metadata": {},
   "source": [
    "<a id=\"fetch_data\"></a>\n",
    "## Py2neo cypher query and fetch data"
   ]
  },
  {
   "cell_type": "code",
   "execution_count": 35,
   "metadata": {},
   "outputs": [
    {
     "data": {
      "text/html": [
       "<table><tr><th>a.name</th><th>a.age</th><th>a.location</th></tr><tr><td style=\"text-align:left\">Mike</td><td style=\"text-align:right\">23</td><td style=\"text-align:left\">高雄</td></tr><tr><td style=\"text-align:left\">Alice</td><td style=\"text-align:right\">21</td><td style=\"text-align:left\">台北</td></tr><tr><td style=\"text-align:left\">Bob</td><td style=\"text-align:right\">22</td><td style=\"text-align:left\">台中</td></tr><tr><td style=\"text-align:left\">Billy</td><td style=\"text-align:right\">23</td><td style=\"text-align:left\">花蓮</td></tr></table>"
      ],
      "text/plain": [
       " a.name | a.age | a.location \n",
       "--------|-------|------------\n",
       " Mike   |    23 | 高雄         \n",
       " Alice  |    21 | 台北         \n",
       " Bob    |    22 | 台中         \n",
       " Billy  |    23 | 花蓮         "
      ]
     },
     "execution_count": 35,
     "metadata": {},
     "output_type": "execute_result"
    }
   ],
   "source": [
    "# MERGE (a0:Foo {name:\"bar\"}) SET a0:Foo SET a0+={name: 'bar'} RETURN a0 LIMIT 1\n",
    "dt = graph.run(\"MATCH (a:Person) RETURN a.name, a.age, a.location LIMIT 10\").to_table()\n",
    "dt"
   ]
  },
  {
   "cell_type": "code",
   "execution_count": 36,
   "metadata": {},
   "outputs": [
    {
     "data": {
      "text/plain": [
       "array([['Mike', '23', '高雄'],\n",
       "       ['Alice', '21', '台北'],\n",
       "       ['Bob', '22', '台中'],\n",
       "       ['Billy', '23', '花蓮']], dtype='<U5')"
      ]
     },
     "execution_count": 36,
     "metadata": {},
     "output_type": "execute_result"
    }
   ],
   "source": [
    "ndarray = graph.run(\"MATCH (a:Person) RETURN a.name, a.age, a.location LIMIT 10\").to_ndarray()\n",
    "ndarray"
   ]
  },
  {
   "cell_type": "code",
   "execution_count": 37,
   "metadata": {},
   "outputs": [
    {
     "data": {
      "text/html": [
       "<div>\n",
       "<style scoped>\n",
       "    .dataframe tbody tr th:only-of-type {\n",
       "        vertical-align: middle;\n",
       "    }\n",
       "\n",
       "    .dataframe tbody tr th {\n",
       "        vertical-align: top;\n",
       "    }\n",
       "\n",
       "    .dataframe thead th {\n",
       "        text-align: right;\n",
       "    }\n",
       "</style>\n",
       "<table border=\"1\" class=\"dataframe\">\n",
       "  <thead>\n",
       "    <tr style=\"text-align: right;\">\n",
       "      <th></th>\n",
       "      <th>a.name</th>\n",
       "      <th>a.age</th>\n",
       "      <th>a.location</th>\n",
       "    </tr>\n",
       "  </thead>\n",
       "  <tbody>\n",
       "    <tr>\n",
       "      <th>0</th>\n",
       "      <td>Mike</td>\n",
       "      <td>23</td>\n",
       "      <td>高雄</td>\n",
       "    </tr>\n",
       "    <tr>\n",
       "      <th>1</th>\n",
       "      <td>Alice</td>\n",
       "      <td>21</td>\n",
       "      <td>台北</td>\n",
       "    </tr>\n",
       "    <tr>\n",
       "      <th>2</th>\n",
       "      <td>Bob</td>\n",
       "      <td>22</td>\n",
       "      <td>台中</td>\n",
       "    </tr>\n",
       "    <tr>\n",
       "      <th>3</th>\n",
       "      <td>Billy</td>\n",
       "      <td>23</td>\n",
       "      <td>花蓮</td>\n",
       "    </tr>\n",
       "  </tbody>\n",
       "</table>\n",
       "</div>"
      ],
      "text/plain": [
       "  a.name  a.age a.location\n",
       "0   Mike     23         高雄\n",
       "1  Alice     21         台北\n",
       "2    Bob     22         台中\n",
       "3  Billy     23         花蓮"
      ]
     },
     "execution_count": 37,
     "metadata": {},
     "output_type": "execute_result"
    }
   ],
   "source": [
    "ndf = graph.run(\"MATCH (a:Person) RETURN a.name, a.age, a.location LIMIT 10\").to_data_frame()\n",
    "ndf"
   ]
  },
  {
   "cell_type": "markdown",
   "metadata": {},
   "source": [
    "<a id=\"delete_node\"></a>\n",
    "## Delete node with Person on Neo4j server\n",
    "\n",
    "<font color=red>Notice! this step will drop all Person nodes.</font>"
   ]
  },
  {
   "cell_type": "code",
   "execution_count": 38,
   "metadata": {},
   "outputs": [
    {
     "data": {
      "text/plain": []
     },
     "execution_count": 38,
     "metadata": {},
     "output_type": "execute_result"
    }
   ],
   "source": [
    "graph.run(\"MATCH (n:`Person`) OPTIONAL MATCH (n)-[r]-() DELETE r,n\")"
   ]
  },
  {
   "cell_type": "markdown",
   "metadata": {},
   "source": [
    "### create, delete neo4j database\n",
    "py2neo operates the neo4j database through the graph object. The current neo4j only supports one database to define a graph\n",
    "\n",
    "Complete the connection to the database through the initialization function of Graph and create a graph object\n",
    "\n",
    "graph.create() can write subgraphs to the database or only one node or relationship at a time\n",
    "\n",
    "graph.delete() deletes the specified subgraph, graph.delete_all() deletes all subgraphs\n",
    "\n",
    "graph.seperate() deletes the specified relationship"
   ]
  },
  {
   "cell_type": "code",
   "execution_count": null,
   "metadata": {},
   "outputs": [],
   "source": [
    "# DELETE relationships\n",
    "# graph.separate(ac)"
   ]
  },
  {
   "cell_type": "code",
   "execution_count": 39,
   "metadata": {},
   "outputs": [],
   "source": [
    "# DELETE ALL GRAPH\n",
    "graph.delete_all()"
   ]
  },
  {
   "cell_type": "markdown",
   "metadata": {},
   "source": [
    "<a id=\"create_node_again\"></a>\n",
    "## Create Nodes and Relationship again"
   ]
  },
  {
   "cell_type": "code",
   "execution_count": null,
   "metadata": {},
   "outputs": [],
   "source": [
    "from py2neo import Graph, Node, Relationship\n",
    "\n",
    "a = Node('Person', name='Alice', age=21, location='台北')\n",
    "b = Node('Person', name='Bob', age=22, location='台中')\n",
    "c = Node('Person', name='Mike', age=23, location='高雄')\n",
    "d = Node('Person', name='Billy', age=23, location='花蓮')\n",
    "ab = Relationship(a, 'ACTED_IN', b)\n",
    "bc = Relationship(b, 'KNOWS', c)\n",
    "ad = Relationship(a, 'KNOWS', d)\n",
    "subgraph = a | ab | bc | ad\n",
    "print(subgraph)\n",
    "graph.create(subgraph)"
   ]
  },
  {
   "cell_type": "markdown",
   "metadata": {},
   "source": [
    "<img src=\"images/py2neo_create_node_again.png\">"
   ]
  },
  {
   "cell_type": "markdown",
   "metadata": {},
   "source": [
    "<a id=\"ogm\"></a>\n",
    "## OGM\n",
    "\n",
    "OGM 類似於 ORM，意為 Object Graph Mapping，這樣可以實現一個物件和 Node 的關聯，例如："
   ]
  },
  {
   "cell_type": "code",
   "execution_count": 40,
   "metadata": {},
   "outputs": [],
   "source": [
    "from py2neo.ogm import GraphObject, Property, RelatedTo, RelatedFrom\n",
    "\n",
    "class Movie(GraphObject):\n",
    "    __primarykey__ = 'title'\n",
    " \n",
    "    title = Property()\n",
    "    released = Property()\n",
    "    actors = RelatedFrom('Person', 'ACTED_IN')\n",
    "    directors = RelatedFrom('Person', 'DIRECTED')\n",
    "    producers = RelatedFrom('Person', 'PRODUCED')\n",
    "\n",
    "class Person(GraphObject):\n",
    "    __primarykey__ = 'name'\n",
    " \n",
    "    name = Property()\n",
    "    born = Property()\n",
    "    acted_in = RelatedTo('Movie')\n",
    "    directed = RelatedTo('Movie')\n",
    "    produced = RelatedTo('Movie')"
   ]
  },
  {
   "cell_type": "code",
   "execution_count": 42,
   "metadata": {},
   "outputs": [],
   "source": [
    "from py2neo import Graph, Node, Relationship\n",
    "from py2neo.ogm import GraphObject, Property, RelatedFrom\n",
    "\n",
    "graph = Graph('http://127.0.0.1:7474', username='neo4j', password='42840667')\n",
    "# graph = Graph(\"bolt://localhost:7687\", auth=(\"neo4j\", \"42840667\"))\n",
    "\n",
    "class Foo(GraphObject):\n",
    "    __primarykey__ = 'name'\n",
    "\n",
    "    def __init__(self, name):\n",
    "        self.name = name\n",
    "\n",
    "    name = Property()\n",
    "    age = Property()\n",
    "\n",
    "class Biz(GraphObject):\n",
    "    __primarykey__ = 'name'\n",
    "\n",
    "    def __init__(self, name):\n",
    "        self.name = name\n",
    "\n",
    "    name = Property()\n",
    "    age = Property()\n",
    "    foos = RelatedFrom(Foo, \"FOOS\")\n",
    "\n",
    "foo = Foo('foo')\n",
    "biz = Biz('biz')\n",
    "biz.foos.add(foo)\n",
    "\n",
    "# This will work on the first run but fail on the second.\n",
    "graph.push(biz)"
   ]
  },
  {
   "cell_type": "code",
   "execution_count": 43,
   "metadata": {},
   "outputs": [],
   "source": [
    "from py2neo import Graph\n",
    "from py2neo.ogm import GraphObject, Property\n",
    "\n",
    "class Person(GraphObject):\n",
    "    __primarykey__ = \"name\"\n",
    "\n",
    "    name = Property()\n",
    "    age = Property()\n",
    "    location = Property()\n",
    "\n",
    "# Query by property\n",
    "person = Person.match(graph).where(age=21).first()\n",
    "\n",
    "# Query by name\n",
    "person = Person.match(graph, \"Alice\").first()\n",
    "if person is not None:\n",
    "    print(person)\n",
    "    print(person.name)\n",
    "    print(person.age)\n",
    "    print(person.location)"
   ]
  },
  {
   "cell_type": "code",
   "execution_count": 44,
   "metadata": {},
   "outputs": [],
   "source": [
    "if person is not None:\n",
    "    print(person.__ogm__.node)"
   ]
  },
  {
   "cell_type": "code",
   "execution_count": 45,
   "metadata": {},
   "outputs": [],
   "source": [
    "# Query by __primarykey__\n",
    "alice = Person.match(graph,'Alice').first()"
   ]
  },
  {
   "cell_type": "code",
   "execution_count": 46,
   "metadata": {},
   "outputs": [],
   "source": [
    "# Delete alice Object\n",
    "if alice is not None:\n",
    "    graph.delete(alice)"
   ]
  },
  {
   "cell_type": "code",
   "execution_count": 47,
   "metadata": {},
   "outputs": [],
   "source": [
    "user_want_to_delete = Person.match(graph,'Mike').first()\n",
    "if user_want_to_delete is not None:\n",
    "    graph.delete(user_want_to_delete)"
   ]
  },
  {
   "cell_type": "markdown",
   "metadata": {},
   "source": [
    "### Create node by Person class"
   ]
  },
  {
   "cell_type": "code",
   "execution_count": 48,
   "metadata": {},
   "outputs": [],
   "source": [
    "user = Person()\n",
    "user.name =\"David\"\n",
    "user.age = 25\n",
    "user.location = \"New Taipei City\"\n",
    "\n",
    "graph.push(user)"
   ]
  },
  {
   "cell_type": "markdown",
   "metadata": {},
   "source": [
    "<a id=\"class\"></a>\n",
    "## User Class"
   ]
  },
  {
   "cell_type": "code",
   "execution_count": 49,
   "metadata": {},
   "outputs": [],
   "source": [
    "class Person(GraphObject):\n",
    "    __primarykey__ = \"name\"\n",
    "\n",
    "    name = Property()\n",
    "    age = Property()\n",
    "    location = Property()\n",
    "    \n",
    "    #knows=RelatedTo('Person','KNOWS')\n",
    "    #known=RelatedFrom('Person','KNOWN')\n",
    "\n",
    "    def __init__(self, name):\n",
    "        self.name = name\n",
    "    \n",
    "    def find(self):\n",
    "        user = self.match(graph, self.name).first()\n",
    "        return user\n",
    "\n",
    "    def register(self, age, location):\n",
    "        if not self.find():\n",
    "            user = Node('Person', name=self.name, age=age, location=location)\n",
    "            #ad = Relationship(a, 'KNOWS', d)\n",
    "            graph.create(user)\n",
    "            return True\n",
    "        else:\n",
    "            return False"
   ]
  },
  {
   "cell_type": "code",
   "execution_count": 50,
   "metadata": {},
   "outputs": [
    {
     "data": {
      "text/plain": [
       "True"
      ]
     },
     "execution_count": 50,
     "metadata": {},
     "output_type": "execute_result"
    }
   ],
   "source": [
    "p = Person(\"Alice\")\n",
    "p.register(21, \"台北\")\n",
    "p = Person(\"Bob\")\n",
    "p.register(22, \"台中\")\n",
    "p = Person(\"Mike\")\n",
    "p.register(23, \"高雄\")"
   ]
  },
  {
   "cell_type": "code",
   "execution_count": 51,
   "metadata": {},
   "outputs": [],
   "source": [
    "from py2neo import Graph, Node, Relationship, NodeMatcher, RelationshipMatcher\n",
    "\n",
    "matcher = NodeMatcher(graph)\n",
    "rmatcher = RelationshipMatcher(graph)"
   ]
  },
  {
   "cell_type": "code",
   "execution_count": 52,
   "metadata": {},
   "outputs": [],
   "source": [
    "a = Person(\"Alice\").__ogm__.node\n",
    "b = Person(\"Bob\").__ogm__.node\n",
    "c = Person(\"Mike\").__ogm__.node\n",
    "ab =  Relationship(a, \"ACTED_IN\", b)\n",
    "bc =  Relationship(b, \"KNOWS\", c)\n",
    "\n",
    "graph.create(ab)"
   ]
  },
  {
   "cell_type": "code",
   "execution_count": 53,
   "metadata": {},
   "outputs": [
    {
     "data": {
      "text/html": [
       "<div>\n",
       "<style scoped>\n",
       "    .dataframe tbody tr th:only-of-type {\n",
       "        vertical-align: middle;\n",
       "    }\n",
       "\n",
       "    .dataframe tbody tr th {\n",
       "        vertical-align: top;\n",
       "    }\n",
       "\n",
       "    .dataframe thead th {\n",
       "        text-align: right;\n",
       "    }\n",
       "</style>\n",
       "<table border=\"1\" class=\"dataframe\">\n",
       "  <thead>\n",
       "    <tr style=\"text-align: right;\">\n",
       "      <th></th>\n",
       "      <th>a.name</th>\n",
       "      <th>a.age</th>\n",
       "      <th>a.location</th>\n",
       "    </tr>\n",
       "  </thead>\n",
       "  <tbody>\n",
       "    <tr>\n",
       "      <th>0</th>\n",
       "      <td>David</td>\n",
       "      <td>25.0</td>\n",
       "      <td>New Taipei City</td>\n",
       "    </tr>\n",
       "    <tr>\n",
       "      <th>1</th>\n",
       "      <td>Alice</td>\n",
       "      <td>21.0</td>\n",
       "      <td>台北</td>\n",
       "    </tr>\n",
       "    <tr>\n",
       "      <th>2</th>\n",
       "      <td>Bob</td>\n",
       "      <td>22.0</td>\n",
       "      <td>台中</td>\n",
       "    </tr>\n",
       "    <tr>\n",
       "      <th>3</th>\n",
       "      <td>Mike</td>\n",
       "      <td>23.0</td>\n",
       "      <td>高雄</td>\n",
       "    </tr>\n",
       "    <tr>\n",
       "      <th>4</th>\n",
       "      <td>Alice</td>\n",
       "      <td>NaN</td>\n",
       "      <td>None</td>\n",
       "    </tr>\n",
       "    <tr>\n",
       "      <th>5</th>\n",
       "      <td>Bob</td>\n",
       "      <td>NaN</td>\n",
       "      <td>None</td>\n",
       "    </tr>\n",
       "  </tbody>\n",
       "</table>\n",
       "</div>"
      ],
      "text/plain": [
       "  a.name  a.age       a.location\n",
       "0  David   25.0  New Taipei City\n",
       "1  Alice   21.0               台北\n",
       "2    Bob   22.0               台中\n",
       "3   Mike   23.0               高雄\n",
       "4  Alice    NaN             None\n",
       "5    Bob    NaN             None"
      ]
     },
     "execution_count": 53,
     "metadata": {},
     "output_type": "execute_result"
    }
   ],
   "source": [
    "ndf = graph.run(\"MATCH (a:Person) RETURN a.name, a.age, a.location LIMIT 10\").to_data_frame()\n",
    "ndf"
   ]
  },
  {
   "cell_type": "code",
   "execution_count": 54,
   "metadata": {},
   "outputs": [
    {
     "name": "stdout",
     "output_type": "stream",
     "text": [
      "2\n",
      "(_4:Person {age: 22, location: '\\u53f0\\u4e2d', name: 'Bob'}) Bob\n",
      "(_7:Person {name: 'Bob'}) Bob\n"
     ]
    }
   ],
   "source": [
    "nodeList = list(matcher.match().where(\"_.name =~ 'B.*'\").order_by(\"_.age\").limit(4))\n",
    "print(len(nodeList))\n",
    "for i in nodeList:\n",
    "    print(i, i[\"name\"])"
   ]
  },
  {
   "cell_type": "markdown",
   "metadata": {},
   "source": [
    "### DELETE Node\n",
    "\n",
    "```\n",
    "MATCH (n:`User name`) OPTIONAL MATCH (n)-[r]-() DELETE r,n\n",
    "```"
   ]
  },
  {
   "cell_type": "code",
   "execution_count": 55,
   "metadata": {},
   "outputs": [
    {
     "data": {
      "text/plain": []
     },
     "execution_count": 55,
     "metadata": {},
     "output_type": "execute_result"
    }
   ],
   "source": [
    "graph = Graph('http://127.0.0.1:7474', username='neo4j', password='42840667')\n",
    "# graph = Graph(\"bolt://localhost:7687\", auth=(\"neo4j\", \"42840667\"))\n",
    "graph.run(\"MATCH (n:`User`) OPTIONAL MATCH (n)-[r]-() DELETE r,n\")\n",
    "graph.run(\"MATCH (n:`Person`) OPTIONAL MATCH (n)-[r]-() DELETE r,n\")\n",
    "graph.run(\"MATCH (n:`Biz`) OPTIONAL MATCH (n)-[r]-() DELETE r,n\")\n",
    "graph.run(\"MATCH (n:`Foo`) OPTIONAL MATCH (n)-[r]-() DELETE r,n\")"
   ]
  },
  {
   "cell_type": "markdown",
   "metadata": {},
   "source": [
    "## LAB\n",
    "\n",
    "Create 4 people with Node name `Person`, where:\n",
    "\n",
    "- A: David\n",
    "- B: Arnold\n",
    "- C: Gracia\n",
    "- D: Emily\n",
    "\n",
    "David KNOWS Arnold, Arnold LIKES Gracia, David LOVES Emily, and given their age, David is 35 years old, Arnold is 28, Gracia is 24, Emily is 22. Please create Nodes and Relationships with Py2neo.\n",
    "\n",
    "After you create Nodes, Relationships locally, push to Desktop Neo4j server."
   ]
  },
  {
   "cell_type": "code",
   "execution_count": 56,
   "metadata": {},
   "outputs": [
    {
     "name": "stdout",
     "output_type": "stream",
     "text": [
      "Subgraph({Node('Person', age=35, name='David'), Node('Person', age=24, name='Gracia'), Node('Person', age=28, name='Arnold'), Node('Person', age=22, name='Emily')}, {KNOWS(Node('Person', age=35, name='David'), Node('Person', age=24, name='Gracia')), LOVES(Node('Person', age=35, name='David'), Node('Person', age=22, name='Emily')), KNOWS(Node('Person', age=35, name='David'), Node('Person', age=28, name='Arnold')), LIKES(Node('Person', age=28, name='Arnold'), Node('Person', age=24, name='Gracia'))})\n"
     ]
    }
   ],
   "source": [
    "from py2neo import Node, Relationship\n",
    "\n",
    "graph = Graph('http://127.0.0.1:7474', username='neo4j', password='42840667')\n",
    "# graph = Graph(\"bolt://localhost:7687\", auth=(\"neo4j\", \"42840667\"))\n",
    "\n",
    "a = Node('Person', name='David')\n",
    "b = Node('Person', name='Arnold')\n",
    "c = Node('Person', name='Gracia')\n",
    "d = Node('Person', name='Emily')\n",
    "\n",
    "a['age'] = 35\n",
    "b['age'] = 28\n",
    "c['age'] = 24\n",
    "d['age'] = 22\n",
    "\n",
    "ab = Relationship(a, 'KNOWS', b)\n",
    "bc = Relationship(b, 'LIKES', c)\n",
    "ac = Relationship(a, 'KNOWS', c)\n",
    "ad = Relationship(a, 'LOVES', d)\n",
    "\n",
    "subgraph = ab | bc | ac | ad\n",
    "print(subgraph)\n",
    "graph.create(subgraph)"
   ]
  },
  {
   "cell_type": "markdown",
   "metadata": {},
   "source": [
    "## Duplicate Nodes when running more than once?\n",
    "\n",
    "<img src=\"images/duplicated_nodes_when_create.png\">"
   ]
  },
  {
   "cell_type": "markdown",
   "metadata": {},
   "source": [
    "<a id=\"merge\"></a>\n",
    "## MERGE AND UNIQUE Nodes\n",
    "\n",
    "```\n",
    "CREATE CONSTRAINT ON (p:Person)\n",
    "ASSERT p.name IS UNIQUE\n",
    "```"
   ]
  },
  {
   "cell_type": "markdown",
   "metadata": {},
   "source": [
    "### Drop CONSTRAINT\n",
    "```\n",
    "graph.run(\"DROP CONSTRAINT ON (p:Person) ASSERT p.name IS UNIQUE\")\n",
    "```"
   ]
  },
  {
   "cell_type": "code",
   "execution_count": null,
   "metadata": {},
   "outputs": [],
   "source": [
    "# graph.run(\"DROP CONSTRAINT ON (p:Person) ASSERT p.name IS UNIQUE\")"
   ]
  },
  {
   "cell_type": "markdown",
   "metadata": {},
   "source": [
    "### Create CONSTRAINT\n",
    "```\n",
    "graph.run(\"CREATE CONSTRAINT ON (p:Person) ASSERT p.name IS UNIQUE\")\n",
    "```"
   ]
  },
  {
   "cell_type": "code",
   "execution_count": 57,
   "metadata": {},
   "outputs": [
    {
     "data": {
      "text/plain": []
     },
     "execution_count": 57,
     "metadata": {},
     "output_type": "execute_result"
    }
   ],
   "source": [
    "graph.run(\"CREATE CONSTRAINT ON (p:Person) ASSERT p.name IS UNIQUE\")"
   ]
  },
  {
   "cell_type": "code",
   "execution_count": 58,
   "metadata": {},
   "outputs": [],
   "source": [
    "from py2neo import Graph,Node,Relationship\n",
    "\n",
    "a = Node('Person', name='David')\n",
    "b = Node('Person', name='Arnold')\n",
    "c = Node('Person', name='Gracia')\n",
    "d = Node('Person', name='Emily')\n",
    "\n",
    "a['age'] = 35\n",
    "b['age'] = 28\n",
    "c['age'] = 24\n",
    "d['age'] = 22\n",
    "a['location'] = \"Taipei City\" # adding property\n",
    "\n",
    "a.__primarylabel__ = \"Person\"\n",
    "a.__primarykey__ = \"name\"\n",
    "b.__primarylabel__ = \"Person\"\n",
    "b.__primarykey__ = \"name\"\n",
    "c.__primarylabel__ = \"Person\"\n",
    "c.__primarykey__ = \"name\"\n",
    "d.__primarylabel__ = \"Person\"\n",
    "d.__primarykey__ = \"name\"\n",
    "\n",
    "ab = Relationship(a, 'KNOWS', b)\n",
    "bc = Relationship(b, 'LIKES', c)\n",
    "ac = Relationship(a, 'KNOWS', c)\n",
    "ad = Relationship(a, 'LOVES', d)\n",
    "\n",
    "transaction = graph.begin()\n",
    "graph.merge(a)\n",
    "graph.merge(b)\n",
    "graph.merge(c)\n",
    "graph.merge(d)\n",
    "graph.merge(ab)\n",
    "graph.merge(bc)\n",
    "graph.merge(ac)\n",
    "graph.merge(ad)\n",
    "transaction.graph.push(a)"
   ]
  },
  {
   "cell_type": "markdown",
   "metadata": {},
   "source": [
    "## Summary\n",
    "\n",
    "When create Nodes on server, do consider CONSTRAINT on each Nodes, even different type of Nodes, I'll leave one question to you, what about create another type of Node, for example: Role\n",
    "\n",
    "aa = Node('Role', name='Manager')\n",
    "bb = Node('Role', name='Team Lead')\n",
    "\n",
    "you may try add another CONSTRAINT like this:\n",
    "\n",
    "```\n",
    "CREATE CONSTRAINT ON (r:Role)\n",
    "ASSERT r.name IS UNIQUE\n",
    "```"
   ]
  }
 ],
 "metadata": {
  "kernelspec": {
   "display_name": "Python 3",
   "language": "python",
   "name": "python3"
  },
  "language_info": {
   "codemirror_mode": {
    "name": "ipython",
    "version": 3
   },
   "file_extension": ".py",
   "mimetype": "text/x-python",
   "name": "python",
   "nbconvert_exporter": "python",
   "pygments_lexer": "ipython3",
   "version": "3.6.7"
  }
 },
 "nbformat": 4,
 "nbformat_minor": 2
}
