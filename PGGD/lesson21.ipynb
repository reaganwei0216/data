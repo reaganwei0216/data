{
 "cells": [
  {
   "cell_type": "markdown",
   "metadata": {},
   "source": [
    "## Lesson 21 - Analyze Netflix data using graphs\n",
    "\n",
    "\n",
    "\n",
    "\n",
    "\n",
    "### Table of Contents\n",
    "- [About Netflix](#netflix)\n",
    "- [Load the Netflix data](#load_data)\n",
    "- [Graph cardinalities](#graph_cardinalities)\n",
    "- [TOP 5 ACTOR - Greatest Number of films played](#top5)\n",
    "- [Count by Category](#count_by_category)\n",
    "- [Shortest between 2 persons](#shortest_between_2_persons)\n",
    "- [Recommendation](#recommendation)\n",
    "- [Evolution over year - Number of movies by countries](#evolution_over_year)\n",
    "\n",
    "\n",
    "\n",
    "\n",
    "\n",
    "\n"
   ]
  },
  {
   "cell_type": "markdown",
   "metadata": {},
   "source": [
    "<a id=\"netflix\"></a>\n",
    "## About Netflix\n",
    "How people ratings 王牌辯護人?\n",
    "\n",
    "That's a question that has run through my head repeatedly over the years. The beloved sitcom has been my top choice for a long time.\n",
    "\n",
    "It used to be a question I couldn't answer, because the data Netflix won't allowed users to download (but user can still download their activity in csv).\n",
    "\n",
    "Now, though, Netflix Kaggle compitition, allows you to download a veritable treasure-trove of data about each episode. The object of this session is:\n",
    "\n",
    "- to test the interaction with Neo4j\n",
    "- and use the graph algorithms to find similarities and recommendations\n",
    "<img src=\"images/analyse_netflix_data_using_graph.png\">"
   ]
  },
  {
   "cell_type": "code",
   "execution_count": 1,
   "metadata": {},
   "outputs": [
    {
     "name": "stdout",
     "output_type": "stream",
     "text": [
      "5.0b1\n"
     ]
    }
   ],
   "source": [
    "import time\n",
    "import numpy as np \n",
    "import pandas as pd\n",
    "import matplotlib.pyplot as plt\n",
    "import seaborn as sns\n",
    "import py2neo\n",
    "\n",
    "from matplotlib.font_manager import FontProperties\n",
    "from py2neo import Graph\n",
    "\n",
    "# Windows\n",
    "myfont = FontProperties(fname=r'C:\\Windows\\Fonts\\kaiu.ttf',size=14)\n",
    "\n",
    "# Mac OS\n",
    "#myfont = FontProperties(fname=\"/Users/mac/Library/Fonts/NotoSansHant-Medium.otf\", size=14)\n",
    "\n",
    "sns.set(font=myfont.get_name())\n",
    "\n",
    "%matplotlib inline\n",
    "plt.style.use('seaborn-whitegrid')\n",
    "\n",
    "print(py2neo.__version__)"
   ]
  },
  {
   "cell_type": "markdown",
   "metadata": {},
   "source": [
    "<a id=\"load_data\"></a>\n",
    "## Load the Netflix data\n",
    "\n",
    "Download the [data](https://www.kaggle.com/shivamb/netflix-shows) to your computer."
   ]
  },
  {
   "cell_type": "code",
   "execution_count": 2,
   "metadata": {},
   "outputs": [
    {
     "data": {
      "text/html": [
       "<div>\n",
       "<style scoped>\n",
       "    .dataframe tbody tr th:only-of-type {\n",
       "        vertical-align: middle;\n",
       "    }\n",
       "\n",
       "    .dataframe tbody tr th {\n",
       "        vertical-align: top;\n",
       "    }\n",
       "\n",
       "    .dataframe thead th {\n",
       "        text-align: right;\n",
       "    }\n",
       "</style>\n",
       "<table border=\"1\" class=\"dataframe\">\n",
       "  <thead>\n",
       "    <tr style=\"text-align: right;\">\n",
       "      <th></th>\n",
       "      <th>show_id</th>\n",
       "      <th>type</th>\n",
       "      <th>title</th>\n",
       "      <th>director</th>\n",
       "      <th>cast</th>\n",
       "      <th>country</th>\n",
       "      <th>date_added</th>\n",
       "      <th>release_year</th>\n",
       "      <th>rating</th>\n",
       "      <th>duration</th>\n",
       "      <th>listed_in</th>\n",
       "      <th>description</th>\n",
       "      <th>year</th>\n",
       "      <th>month</th>\n",
       "      <th>day</th>\n",
       "    </tr>\n",
       "  </thead>\n",
       "  <tbody>\n",
       "    <tr>\n",
       "      <th>0</th>\n",
       "      <td>s1</td>\n",
       "      <td>TV Show</td>\n",
       "      <td>3%</td>\n",
       "      <td>NaN</td>\n",
       "      <td>João Miguel, Bianca Comparato, Michel Gomes, R...</td>\n",
       "      <td>Brazil</td>\n",
       "      <td>2020-08-14</td>\n",
       "      <td>2020</td>\n",
       "      <td>TV-MA</td>\n",
       "      <td>4 Seasons</td>\n",
       "      <td>International TV Shows, TV Dramas, TV Sci-Fi &amp;...</td>\n",
       "      <td>In a future where the elite inhabit an island ...</td>\n",
       "      <td>2020.0</td>\n",
       "      <td>8.0</td>\n",
       "      <td>14.0</td>\n",
       "    </tr>\n",
       "    <tr>\n",
       "      <th>1</th>\n",
       "      <td>s2</td>\n",
       "      <td>Movie</td>\n",
       "      <td>7:19</td>\n",
       "      <td>Jorge Michel Grau</td>\n",
       "      <td>Demián Bichir, Héctor Bonilla, Oscar Serrano, ...</td>\n",
       "      <td>Mexico</td>\n",
       "      <td>2016-12-23</td>\n",
       "      <td>2016</td>\n",
       "      <td>TV-MA</td>\n",
       "      <td>93 min</td>\n",
       "      <td>Dramas, International Movies</td>\n",
       "      <td>After a devastating earthquake hits Mexico Cit...</td>\n",
       "      <td>2016.0</td>\n",
       "      <td>12.0</td>\n",
       "      <td>23.0</td>\n",
       "    </tr>\n",
       "    <tr>\n",
       "      <th>2</th>\n",
       "      <td>s3</td>\n",
       "      <td>Movie</td>\n",
       "      <td>23:59</td>\n",
       "      <td>Gilbert Chan</td>\n",
       "      <td>Tedd Chan, Stella Chung, Henley Hii, Lawrence ...</td>\n",
       "      <td>Singapore</td>\n",
       "      <td>2018-12-20</td>\n",
       "      <td>2011</td>\n",
       "      <td>R</td>\n",
       "      <td>78 min</td>\n",
       "      <td>Horror Movies, International Movies</td>\n",
       "      <td>When an army recruit is found dead, his fellow...</td>\n",
       "      <td>2018.0</td>\n",
       "      <td>12.0</td>\n",
       "      <td>20.0</td>\n",
       "    </tr>\n",
       "    <tr>\n",
       "      <th>3</th>\n",
       "      <td>s4</td>\n",
       "      <td>Movie</td>\n",
       "      <td>9</td>\n",
       "      <td>Shane Acker</td>\n",
       "      <td>Elijah Wood, John C. Reilly, Jennifer Connelly...</td>\n",
       "      <td>United States</td>\n",
       "      <td>2017-11-16</td>\n",
       "      <td>2009</td>\n",
       "      <td>PG-13</td>\n",
       "      <td>80 min</td>\n",
       "      <td>Action &amp; Adventure, Independent Movies, Sci-Fi...</td>\n",
       "      <td>In a postapocalyptic world, rag-doll robots hi...</td>\n",
       "      <td>2017.0</td>\n",
       "      <td>11.0</td>\n",
       "      <td>16.0</td>\n",
       "    </tr>\n",
       "    <tr>\n",
       "      <th>4</th>\n",
       "      <td>s5</td>\n",
       "      <td>Movie</td>\n",
       "      <td>21</td>\n",
       "      <td>Robert Luketic</td>\n",
       "      <td>Jim Sturgess, Kevin Spacey, Kate Bosworth, Aar...</td>\n",
       "      <td>United States</td>\n",
       "      <td>2020-01-01</td>\n",
       "      <td>2008</td>\n",
       "      <td>PG-13</td>\n",
       "      <td>123 min</td>\n",
       "      <td>Dramas</td>\n",
       "      <td>A brilliant group of students become card-coun...</td>\n",
       "      <td>2020.0</td>\n",
       "      <td>1.0</td>\n",
       "      <td>1.0</td>\n",
       "    </tr>\n",
       "  </tbody>\n",
       "</table>\n",
       "</div>"
      ],
      "text/plain": [
       "  show_id     type  title           director  \\\n",
       "0      s1  TV Show     3%                NaN   \n",
       "1      s2    Movie   7:19  Jorge Michel Grau   \n",
       "2      s3    Movie  23:59       Gilbert Chan   \n",
       "3      s4    Movie      9        Shane Acker   \n",
       "4      s5    Movie     21     Robert Luketic   \n",
       "\n",
       "                                                cast        country  \\\n",
       "0  João Miguel, Bianca Comparato, Michel Gomes, R...         Brazil   \n",
       "1  Demián Bichir, Héctor Bonilla, Oscar Serrano, ...         Mexico   \n",
       "2  Tedd Chan, Stella Chung, Henley Hii, Lawrence ...      Singapore   \n",
       "3  Elijah Wood, John C. Reilly, Jennifer Connelly...  United States   \n",
       "4  Jim Sturgess, Kevin Spacey, Kate Bosworth, Aar...  United States   \n",
       "\n",
       "  date_added  release_year rating   duration  \\\n",
       "0 2020-08-14          2020  TV-MA  4 Seasons   \n",
       "1 2016-12-23          2016  TV-MA     93 min   \n",
       "2 2018-12-20          2011      R     78 min   \n",
       "3 2017-11-16          2009  PG-13     80 min   \n",
       "4 2020-01-01          2008  PG-13    123 min   \n",
       "\n",
       "                                           listed_in  \\\n",
       "0  International TV Shows, TV Dramas, TV Sci-Fi &...   \n",
       "1                       Dramas, International Movies   \n",
       "2                Horror Movies, International Movies   \n",
       "3  Action & Adventure, Independent Movies, Sci-Fi...   \n",
       "4                                             Dramas   \n",
       "\n",
       "                                         description    year  month   day  \n",
       "0  In a future where the elite inhabit an island ...  2020.0    8.0  14.0  \n",
       "1  After a devastating earthquake hits Mexico Cit...  2016.0   12.0  23.0  \n",
       "2  When an army recruit is found dead, his fellow...  2018.0   12.0  20.0  \n",
       "3  In a postapocalyptic world, rag-doll robots hi...  2017.0   11.0  16.0  \n",
       "4  A brilliant group of students become card-coun...  2020.0    1.0   1.0  "
      ]
     },
     "execution_count": 2,
     "metadata": {},
     "output_type": "execute_result"
    }
   ],
   "source": [
    "df = pd.read_csv('./data/netflix/netflix_titles.csv')\n",
    "df[\"date_added\"] = pd.to_datetime(df['date_added'])\n",
    "df['year'] = df['date_added'].dt.year\n",
    "df['month'] = df['date_added'].dt.month\n",
    "df['day'] = df['date_added'].dt.day\n",
    "\n",
    "df.head()"
   ]
  },
  {
   "cell_type": "markdown",
   "metadata": {},
   "source": [
    "### Load the data from the dataframe to neo4j graph DB\n",
    "\n",
    "Notice: execution time can be long, about 6 minutes for requests as `create movies` or `create persons`\n",
    "\n",
    "So execute it, only once put LOAD_DATA = false, to not load data again\n",
    "\n",
    "I have tried the idea to not send a lot of queries through the net :\n",
    "\n",
    "- the first request load all the data as properties of the nodes Movies.\n",
    "- the other requests build the other nodes with these properties\n",
    "- at the end, the final request delete the unused properties\n",
    "\n",
    "### enable localhost access, or your public ip, domain name etc.\n",
    "<img src=\"images/neo4j_enable_localhost.png\">\n",
    "\n",
    "### Install APOC & Graph Data Science Library\n",
    "<img src=\"images/neo4j_install_apoc_gds.png\">"
   ]
  },
  {
   "cell_type": "code",
   "execution_count": 3,
   "metadata": {},
   "outputs": [],
   "source": [
    "# http://127.0.0.1:7474/browser/\n",
    "graph = Graph('http://127.0.0.1:7474', username='neo4j', password='42840667')\n",
    "transaction = graph.begin()"
   ]
  },
  {
   "cell_type": "code",
   "execution_count": 4,
   "metadata": {},
   "outputs": [],
   "source": [
    "LOAD_DATA = True\n",
    "\n",
    "def run_request(request, LOAD_DATA=False):\n",
    "    if (LOAD_DATA):\n",
    "        start_time = time.time()\n",
    "        print(graph.run(request)) \n",
    "        exec_time = time.time() - start_time\n",
    "        print(f'-- {exec_time} seconds --')"
   ]
  },
  {
   "cell_type": "code",
   "execution_count": 5,
   "metadata": {},
   "outputs": [
    {
     "name": "stdout",
     "output_type": "stream",
     "text": [
      "\n",
      "-- 0.6510665416717529 seconds --\n"
     ]
    }
   ],
   "source": [
    "# DELETE ALL NODES AND RELATIONSHIPS\n",
    "request_delete =\"\"\"\n",
    "MATCH (n) DETACH DELETE n;\n",
    "\"\"\"\n",
    "run_request(request_delete, LOAD_DATA)"
   ]
  },
  {
   "cell_type": "code",
   "execution_count": 6,
   "metadata": {},
   "outputs": [
    {
     "name": "stdout",
     "output_type": "stream",
     "text": [
      "0/7787 done ... -- 0.3787803649902344 seconds --\n",
      "500/7787 done ... -- 5.125551223754883 seconds --\n",
      "1000/7787 done ... -- 8.551947116851807 seconds --\n",
      "1500/7787 done ... -- 11.719141483306885 seconds --\n",
      "2000/7787 done ... -- 14.788352727890015 seconds --\n",
      "2500/7787 done ... -- 17.826533555984497 seconds --\n",
      "3000/7787 done ... -- 20.76275110244751 seconds --\n",
      "3500/7787 done ... -- 23.65630030632019 seconds --\n",
      "4000/7787 done ... -- 26.574928283691406 seconds --\n",
      "4500/7787 done ... -- 29.508315563201904 seconds --\n",
      "5000/7787 done ... -- 32.419533252716064 seconds --\n",
      "5500/7787 done ... -- 35.19644594192505 seconds --\n",
      "6000/7787 done ... -- 37.992531538009644 seconds --\n",
      "6500/7787 done ... -- 40.76964783668518 seconds --\n",
      "7000/7787 done ... -- 43.575711250305176 seconds --\n",
      "7500/7787 done ... -- 46.326470136642456 seconds --\n",
      " ... End ... -- 47.87985682487488 seconds --\n"
     ]
    }
   ],
   "source": [
    "request =\"\"\"\n",
    "CREATE (m:Movie {id: $show_id, title:$title})\n",
    "SET \n",
    "m.director = $director,\n",
    "m.country = $country,\n",
    "m.date_str = $date_added, \n",
    "m.release_year = $release_year,\n",
    "m.rating = $rating,\n",
    "m.duration = $duration,\n",
    "m.listed_in = $listed_in,\n",
    "m.description = $description,\n",
    "m.cast = $cast,\n",
    "m.year = $year,\n",
    "m.month = $month,\n",
    "m.day = $day,\n",
    "m.type = $type_movie\n",
    "\"\"\"\n",
    "start_time = time.time()\n",
    "count=df.shape[0]\n",
    "if (LOAD_DATA):\n",
    "    for index, row in df.iterrows():\n",
    "        graph.run(request,\n",
    "                  show_id=row['show_id'],\n",
    "                  title=row['title'],\n",
    "                  director=None if pd.isnull(row['director']) else row['director'],\n",
    "                  country=None if pd.isnull(row['country']) else row['country'],\n",
    "                  date_added= None if pd.isnull(row['date_added']) else row['date_added'].strftime('%Y-%m-%d'),\n",
    "                  release_year=None if pd.isnull(row['release_year']) else row['release_year'],\n",
    "                  rating=None if pd.isnull(row['rating']) else row['rating'],          \n",
    "                  duration=None if pd.isnull(row['duration']) else row['duration'],\n",
    "                  listed_in=None if pd.isnull(row['listed_in']) else row['listed_in'],\n",
    "                  description=None if pd.isnull(row['description']) else row['description'],\n",
    "                  cast= None if pd.isnull(row['cast']) else row['cast'],\n",
    "                  year=None if pd.isnull(row['year']) else row['year'],\n",
    "                  month=None if pd.isnull(row['month']) else row['month'],\n",
    "                  day=None if pd.isnull(row['day']) else row['day'],\n",
    "                  type_movie=None if pd.isnull(row['type']) else row['type']\n",
    "                  )\n",
    "        if (index%500==0):\n",
    "            exec_time = time.time() - start_time\n",
    "            print(f'{index}/{df.shape[0]} done ... -- {exec_time} seconds --')\n",
    "\n",
    "    exec_time = time.time() - start_time\n",
    "    print(f' ... End ... -- {exec_time} seconds --')"
   ]
  },
  {
   "cell_type": "code",
   "execution_count": 7,
   "metadata": {},
   "outputs": [
    {
     "name": "stdout",
     "output_type": "stream",
     "text": [
      "\n",
      "-- 504.6795160770416 seconds --\n"
     ]
    }
   ],
   "source": [
    "# CREATE PERSONS\n",
    "request =\"\"\"\n",
    "MATCH (m:Movie)\n",
    "WHERE m.cast IS NOT NULL\n",
    "WITH m\n",
    "UNWIND split(m.cast, ',') AS actor\n",
    "MERGE (p:Person {name: trim(actor)})\n",
    "MERGE (p)-[r:ACTED_IN]->(m);\n",
    "\"\"\"    \n",
    "run_request(request, LOAD_DATA)"
   ]
  },
  {
   "cell_type": "code",
   "execution_count": 8,
   "metadata": {},
   "outputs": [
    {
     "name": "stdout",
     "output_type": "stream",
     "text": [
      "\n",
      "-- 0.7651011943817139 seconds --\n"
     ]
    }
   ],
   "source": [
    "# CREATE CATEGORIES    \n",
    "request =\"\"\"    \n",
    "MATCH (m:Movie)\n",
    "WHERE m.listed_in IS NOT NULL\n",
    "WITH m\n",
    "UNWIND split(m.listed_in, ',') AS category\n",
    "MERGE (c:Category {name: trim(category)})\n",
    "MERGE (m)-[r:IN_CATEGORY]->(c);\n",
    "\"\"\"    \n",
    "run_request(request, LOAD_DATA)"
   ]
  },
  {
   "cell_type": "code",
   "execution_count": 9,
   "metadata": {},
   "outputs": [
    {
     "name": "stdout",
     "output_type": "stream",
     "text": [
      "\n",
      "-- 0.327791690826416 seconds --\n"
     ]
    }
   ],
   "source": [
    "# CREATE TYPE\n",
    "request =\"\"\" \n",
    "MATCH (m:Movie)\n",
    "WHERE m.type IS NOT NULL\n",
    "WITH m\n",
    "MERGE (t:Type {type: m.type})\n",
    "MERGE (m)-[r:TYPED_AS]->(t);\n",
    "\"\"\"\n",
    "run_request(request, LOAD_DATA)"
   ]
  },
  {
   "cell_type": "code",
   "execution_count": 10,
   "metadata": {},
   "outputs": [
    {
     "name": "stdout",
     "output_type": "stream",
     "text": [
      "\n",
      "-- 107.98202252388 seconds --\n"
     ]
    }
   ],
   "source": [
    "# CREATE DIRECTOR\n",
    "request =\"\"\" \n",
    "MATCH (m:Movie)\n",
    "WHERE m.director IS NOT NULL\n",
    "WITH m\n",
    "MERGE (d:Person {name: m.director})\n",
    "MERGE (d)-[r:DIRECTED]->(m);\n",
    "\"\"\"\n",
    "run_request(request, LOAD_DATA)"
   ]
  },
  {
   "cell_type": "code",
   "execution_count": 11,
   "metadata": {},
   "outputs": [
    {
     "name": "stdout",
     "output_type": "stream",
     "text": [
      "\n",
      "-- 1.1758637428283691 seconds --\n"
     ]
    }
   ],
   "source": [
    "# CREATE COUNTRIES\n",
    "request =\"\"\" \n",
    "MATCH (m:Movie)\n",
    "WHERE m.country IS NOT NULL\n",
    "MERGE (c:Country {name: trim(m.country)})\n",
    "MERGE (m)-[:WHERE]->(c);\n",
    "\"\"\"\n",
    "run_request(request, LOAD_DATA)"
   ]
  },
  {
   "cell_type": "code",
   "execution_count": 12,
   "metadata": {},
   "outputs": [
    {
     "name": "stdout",
     "output_type": "stream",
     "text": [
      "\n",
      "-- 0.36415982246398926 seconds --\n"
     ]
    }
   ],
   "source": [
    "# DELETE UNUSED PROPERTY\n",
    "request=\"\"\"\n",
    "MATCH(m:Movie)\n",
    "SET m.country = null, m.category = null,m.type = null , m.director = null , m.cast =null\n",
    "\"\"\"\n",
    "run_request(request, LOAD_DATA)"
   ]
  },
  {
   "cell_type": "code",
   "execution_count": 13,
   "metadata": {},
   "outputs": [
    {
     "name": "stdout",
     "output_type": "stream",
     "text": [
      "\n",
      "-- 6.580874443054199 seconds --\n"
     ]
    }
   ],
   "source": [
    "# BUILD THE WORK_WITH RELATIONSHIP\n",
    "request = \"\"\"\n",
    "MATCH (p:Person)-[rel:ACTED_IN]->(m:Movie)<-[:ACTED_IN]-(p2:Person)\n",
    "MERGE (p)-[r:WORK_WITH]-(p2);\n",
    "\"\"\"\n",
    "run_request(request, LOAD_DATA)"
   ]
  },
  {
   "cell_type": "code",
   "execution_count": 14,
   "metadata": {},
   "outputs": [
    {
     "name": "stdout",
     "output_type": "stream",
     "text": [
      "\n",
      "-- 0.12046408653259277 seconds --\n"
     ]
    }
   ],
   "source": [
    "# Create Time Tree Index\n",
    "request=\"\"\"\n",
    "CREATE INDEX ON :Year(value);\n",
    "\"\"\"\n",
    "run_request(request, LOAD_DATA)"
   ]
  },
  {
   "cell_type": "code",
   "execution_count": 15,
   "metadata": {},
   "outputs": [
    {
     "name": "stdout",
     "output_type": "stream",
     "text": [
      "\n",
      "-- 0.10972189903259277 seconds --\n"
     ]
    }
   ],
   "source": [
    "# Create Years\n",
    "request=\"\"\"\n",
    "WITH range(2012, 2019) AS years, range(1,12) AS months\n",
    "FOREACH(year IN years |\n",
    "  CREATE (y:Year {value: year}));\n",
    "\"\"\"\n",
    "run_request(request, LOAD_DATA)"
   ]
  },
  {
   "cell_type": "code",
   "execution_count": 16,
   "metadata": {},
   "outputs": [
    {
     "name": "stdout",
     "output_type": "stream",
     "text": [
      "\n",
      "-- 0.13090848922729492 seconds --\n"
     ]
    }
   ],
   "source": [
    "# Connect Years Sequentially\n",
    "request=\"\"\"\n",
    "MATCH (year:Year)\n",
    "WITH year\n",
    "ORDER BY year.value\n",
    "WITH collect(year) AS years\n",
    "FOREACH(i in RANGE(0, size(years)-2) |\n",
    "    FOREACH(year1 in [years[i]] |\n",
    "        FOREACH(year2 in [years[i+1]] |\n",
    "            MERGE (year1)-[:NEXT]->(year2))));\n",
    "\"\"\"\n",
    "run_request(request, LOAD_DATA)"
   ]
  },
  {
   "cell_type": "code",
   "execution_count": 17,
   "metadata": {},
   "outputs": [
    {
     "name": "stdout",
     "output_type": "stream",
     "text": [
      " m                                                                                                                                                                                                                                                                                                                                                                                                    | year                        \r\n",
      "------------------------------------------------------------------------------------------------------------------------------------------------------------------------------------------------------------------------------------------------------------------------------------------------------------------------------------------------------------------------------------------------------|-----------------------------\r\n",
      " (_7788:Movie {date_str: '2016-12-23', day: 23.0, description: 'After a devastating earthquake hits Mexico City, trapped survivors from all walks of life wait to be rescued while trying desperately to stay alive.', duration: '93 min', id: 's2', listed_in: 'Dramas, International Movies', month: 12.0, rating: 'TV-MA', release_year: 2016, title: '7:19', year: 2016.0})                       | (_45081:Year {value: 2016}) \r\n",
      " (_7789:Movie {date_str: '2018-12-20', day: 20.0, description: \"When an army recruit is found dead, his fellow soldiers are forced to confront a terrifying secret that's haunting their jungle island training camp.\", duration: '78 min', id: 's3', listed_in: 'Horror Movies, International Movies', month: 12.0, rating: 'R', release_year: 2011, title: '23:59', year: 2018.0})                  | (_45083:Year {value: 2018}) \r\n",
      " (_7790:Movie {date_str: '2017-11-16', day: 16.0, description: 'In a postapocalyptic world, rag-doll robots hide in fear from dangerous machines out to exterminate them, until a brave newcomer joins the group.', duration: '80 min', id: 's4', listed_in: 'Action & Adventure, Independent Movies, Sci-Fi & Fantasy', month: 11.0, rating: 'PG-13', release_year: 2009, title: '9', year: 2017.0}) | (_45082:Year {value: 2017}) \r\n",
      "\n",
      "-- 1.9843518733978271 seconds --\n"
     ]
    }
   ],
   "source": [
    "# Test Cypher query\n",
    "request=\"\"\"\n",
    "MATCH (m:Movie)\n",
    "WITH m, m.year AS y\n",
    "MATCH (year:Year {value: y})\n",
    "MERGE (m)-[:CREATED_ON]->(year)\n",
    "RETURN m,year;\n",
    "\"\"\"\n",
    "run_request(request, LOAD_DATA)"
   ]
  },
  {
   "cell_type": "markdown",
   "metadata": {},
   "source": [
    "<a id=\"graph_cardinalities\"></a>\n",
    "## Graph cardinalities"
   ]
  },
  {
   "cell_type": "code",
   "execution_count": 18,
   "metadata": {},
   "outputs": [
    {
     "data": {
      "text/html": [
       "<div>\n",
       "<style scoped>\n",
       "    .dataframe tbody tr th:only-of-type {\n",
       "        vertical-align: middle;\n",
       "    }\n",
       "\n",
       "    .dataframe tbody tr th {\n",
       "        vertical-align: top;\n",
       "    }\n",
       "\n",
       "    .dataframe thead th {\n",
       "        text-align: right;\n",
       "    }\n",
       "</style>\n",
       "<table border=\"1\" class=\"dataframe\">\n",
       "  <thead>\n",
       "    <tr style=\"text-align: right;\">\n",
       "      <th></th>\n",
       "      <th>label</th>\n",
       "      <th>count</th>\n",
       "    </tr>\n",
       "  </thead>\n",
       "  <tbody>\n",
       "    <tr>\n",
       "      <th>3</th>\n",
       "      <td>Type</td>\n",
       "      <td>2</td>\n",
       "    </tr>\n",
       "    <tr>\n",
       "      <th>5</th>\n",
       "      <td>Year</td>\n",
       "      <td>8</td>\n",
       "    </tr>\n",
       "    <tr>\n",
       "      <th>2</th>\n",
       "      <td>Category</td>\n",
       "      <td>42</td>\n",
       "    </tr>\n",
       "    <tr>\n",
       "      <th>4</th>\n",
       "      <td>Country</td>\n",
       "      <td>681</td>\n",
       "    </tr>\n",
       "    <tr>\n",
       "      <th>0</th>\n",
       "      <td>Movie</td>\n",
       "      <td>7787</td>\n",
       "    </tr>\n",
       "    <tr>\n",
       "      <th>1</th>\n",
       "      <td>Person</td>\n",
       "      <td>36565</td>\n",
       "    </tr>\n",
       "  </tbody>\n",
       "</table>\n",
       "</div>"
      ],
      "text/plain": [
       "      label  count\n",
       "3      Type      2\n",
       "5      Year      8\n",
       "2  Category     42\n",
       "4   Country    681\n",
       "0     Movie   7787\n",
       "1    Person  36565"
      ]
     },
     "execution_count": 18,
     "metadata": {},
     "output_type": "execute_result"
    }
   ],
   "source": [
    "# Nodes Cardinalities\n",
    "result = {\"label\": [], \"count\": []}\n",
    "for label in graph.run(\"CALL db.labels()\").to_series():\n",
    "    query = f\"MATCH (:`{label}`) RETURN count(*) as count\"\n",
    "    count = graph.run(query).to_data_frame().iloc[0]['count']\n",
    "    result[\"label\"].append(label)\n",
    "    result[\"count\"].append(count)\n",
    "nodes_df = pd.DataFrame(data=result)\n",
    "nodes_df.sort_values(\"count\")"
   ]
  },
  {
   "cell_type": "code",
   "execution_count": 19,
   "metadata": {},
   "outputs": [
    {
     "data": {
      "text/plain": [
       "<matplotlib.axes._subplots.AxesSubplot at 0x1f8f82f0908>"
      ]
     },
     "execution_count": 19,
     "metadata": {},
     "output_type": "execute_result"
    },
    {
     "data": {
      "image/png": "[encoded data removed]",
      "text/plain": [
       "<Figure size 720x576 with 1 Axes>"
      ]
     },
     "metadata": {},
     "output_type": "display_data"
    }
   ],
   "source": [
    "colors = ['#1f77b4', '#ff7f0e', '#2ca02c', '#d62728', '#9467bd',\n",
    "          '#8c564b', '#e377c2', '#7f7f7f', '#bcbd22', '#17becf']\n",
    "\n",
    "nodes_df.plot(kind='bar', x='label', y='count', legend=None, title=\"Node Cardinalities\",figsize=(10,8), rot=45, color=colors)"
   ]
  },
  {
   "cell_type": "code",
   "execution_count": 20,
   "metadata": {},
   "outputs": [
    {
     "data": {
      "text/html": [
       "<div>\n",
       "<style scoped>\n",
       "    .dataframe tbody tr th:only-of-type {\n",
       "        vertical-align: middle;\n",
       "    }\n",
       "\n",
       "    .dataframe tbody tr th {\n",
       "        vertical-align: top;\n",
       "    }\n",
       "\n",
       "    .dataframe thead th {\n",
       "        text-align: right;\n",
       "    }\n",
       "</style>\n",
       "<table border=\"1\" class=\"dataframe\">\n",
       "  <thead>\n",
       "    <tr style=\"text-align: right;\">\n",
       "      <th></th>\n",
       "      <th>relType</th>\n",
       "      <th>count</th>\n",
       "    </tr>\n",
       "  </thead>\n",
       "  <tbody>\n",
       "    <tr>\n",
       "      <th>6</th>\n",
       "      <td>NEXT</td>\n",
       "      <td>7</td>\n",
       "    </tr>\n",
       "    <tr>\n",
       "      <th>3</th>\n",
       "      <td>DIRECTED</td>\n",
       "      <td>5398</td>\n",
       "    </tr>\n",
       "    <tr>\n",
       "      <th>7</th>\n",
       "      <td>CREATED_ON</td>\n",
       "      <td>5633</td>\n",
       "    </tr>\n",
       "    <tr>\n",
       "      <th>4</th>\n",
       "      <td>WHERE</td>\n",
       "      <td>7280</td>\n",
       "    </tr>\n",
       "    <tr>\n",
       "      <th>2</th>\n",
       "      <td>TYPED_AS</td>\n",
       "      <td>7787</td>\n",
       "    </tr>\n",
       "    <tr>\n",
       "      <th>1</th>\n",
       "      <td>IN_CATEGORY</td>\n",
       "      <td>17071</td>\n",
       "    </tr>\n",
       "    <tr>\n",
       "      <th>0</th>\n",
       "      <td>ACTED_IN</td>\n",
       "      <td>55953</td>\n",
       "    </tr>\n",
       "    <tr>\n",
       "      <th>5</th>\n",
       "      <td>WORK_WITH</td>\n",
       "      <td>252053</td>\n",
       "    </tr>\n",
       "  </tbody>\n",
       "</table>\n",
       "</div>"
      ],
      "text/plain": [
       "       relType   count\n",
       "6         NEXT       7\n",
       "3     DIRECTED    5398\n",
       "7   CREATED_ON    5633\n",
       "4        WHERE    7280\n",
       "2     TYPED_AS    7787\n",
       "1  IN_CATEGORY   17071\n",
       "0     ACTED_IN   55953\n",
       "5    WORK_WITH  252053"
      ]
     },
     "execution_count": 20,
     "metadata": {},
     "output_type": "execute_result"
    }
   ],
   "source": [
    "# Relations Ship Cardinalities\n",
    "result = {\"relType\": [], \"count\": []}\n",
    "for relationship_type in graph.run(\"CALL db.relationshipTypes()\").to_series():\n",
    "    query = f\"MATCH ()-[:`{relationship_type}`]->() RETURN count(*) as count\"\n",
    "    count = graph.run(query).to_data_frame().iloc[0]['count']\n",
    "    result[\"relType\"].append(relationship_type)\n",
    "    result[\"count\"].append(count)\n",
    "rels_df = pd.DataFrame(data=result)\n",
    "rels_df.sort_values(\"count\")"
   ]
  },
  {
   "cell_type": "code",
   "execution_count": 21,
   "metadata": {},
   "outputs": [
    {
     "data": {
      "image/png": "[encoded data removed]",
      "text/plain": [
       "<Figure size 720x576 with 1 Axes>"
      ]
     },
     "metadata": {},
     "output_type": "display_data"
    }
   ],
   "source": [
    "colors = ['#1f77b4', '#ff7f0e', '#2ca02c', '#d62728', '#9467bd',\n",
    "          '#8c564b', '#e377c2', '#7f7f7f', '#bcbd22', '#17becf']\n",
    "\n",
    "rels_df.plot(kind='bar', x='relType', y='count', legend=None, title=\"Relationship Cardinalities\",figsize=(10,8), color=colors)\n",
    "plt.xticks(rotation=45)\n",
    "plt.tight_layout()\n",
    "plt.show()"
   ]
  },
  {
   "cell_type": "markdown",
   "metadata": {},
   "source": [
    "<a id=\"top5\"></a>\n",
    "## TOP 5 ACTOR - Greatest Number of films played"
   ]
  },
  {
   "cell_type": "code",
   "execution_count": 22,
   "metadata": {},
   "outputs": [
    {
     "data": {
      "text/html": [
       "<div>\n",
       "<style scoped>\n",
       "    .dataframe tbody tr th:only-of-type {\n",
       "        vertical-align: middle;\n",
       "    }\n",
       "\n",
       "    .dataframe tbody tr th {\n",
       "        vertical-align: top;\n",
       "    }\n",
       "\n",
       "    .dataframe thead th {\n",
       "        text-align: right;\n",
       "    }\n",
       "</style>\n",
       "<table border=\"1\" class=\"dataframe\">\n",
       "  <thead>\n",
       "    <tr style=\"text-align: right;\">\n",
       "      <th></th>\n",
       "      <th>p.name</th>\n",
       "      <th>movies</th>\n",
       "      <th>total</th>\n",
       "    </tr>\n",
       "  </thead>\n",
       "  <tbody>\n",
       "    <tr>\n",
       "      <th>0</th>\n",
       "      <td>Anupam Kher</td>\n",
       "      <td>[A Family Man, A Wednesday, Aiyaary, C Kkompan...</td>\n",
       "      <td>42</td>\n",
       "    </tr>\n",
       "    <tr>\n",
       "      <th>1</th>\n",
       "      <td>Shah Rukh Khan</td>\n",
       "      <td>[Asoka, Billu, Chaahat, Chalte Chalte, Chamatk...</td>\n",
       "      <td>35</td>\n",
       "    </tr>\n",
       "    <tr>\n",
       "      <th>2</th>\n",
       "      <td>Om Puri</td>\n",
       "      <td>[Action Replayy, Bhaji In Problem, Billu, Boll...</td>\n",
       "      <td>30</td>\n",
       "    </tr>\n",
       "    <tr>\n",
       "      <th>3</th>\n",
       "      <td>Naseeruddin Shah</td>\n",
       "      <td>[3 Deewarein, 7 Khoon Maaf, A Wednesday, Aiyaa...</td>\n",
       "      <td>30</td>\n",
       "    </tr>\n",
       "    <tr>\n",
       "      <th>4</th>\n",
       "      <td>Takahiro Sakurai</td>\n",
       "      <td>[​SAINT SEIYA: Knights of the Zodiac, 7SEEDS, ...</td>\n",
       "      <td>29</td>\n",
       "    </tr>\n",
       "  </tbody>\n",
       "</table>\n",
       "</div>"
      ],
      "text/plain": [
       "             p.name                                             movies  total\n",
       "0       Anupam Kher  [A Family Man, A Wednesday, Aiyaary, C Kkompan...     42\n",
       "1    Shah Rukh Khan  [Asoka, Billu, Chaahat, Chalte Chalte, Chamatk...     35\n",
       "2           Om Puri  [Action Replayy, Bhaji In Problem, Billu, Boll...     30\n",
       "3  Naseeruddin Shah  [3 Deewarein, 7 Khoon Maaf, A Wednesday, Aiyaa...     30\n",
       "4  Takahiro Sakurai  [​SAINT SEIYA: Knights of the Zodiac, 7SEEDS, ...     29"
      ]
     },
     "execution_count": 22,
     "metadata": {},
     "output_type": "execute_result"
    }
   ],
   "source": [
    "request_top_5_actor=\"\"\"\n",
    "MATCH (p:Person)-[rel:ACTED_IN]->(m:Movie)\n",
    "WITH p,collect(m.title) as movies,count(*) as total\n",
    "RETURN p.name, movies,total\n",
    "ORDER BY total DESC\n",
    "LIMIT 5\n",
    "\"\"\"\n",
    "graph.run(request_top_5_actor).to_data_frame().head()"
   ]
  },
  {
   "cell_type": "markdown",
   "metadata": {},
   "source": [
    "<a id=\"count_by_category\"></a>\n",
    "## Count by Category\n",
    "\n",
    "The grand total does not equal the number of movies, because a movie can be in several categories"
   ]
  },
  {
   "cell_type": "code",
   "execution_count": 23,
   "metadata": {},
   "outputs": [
    {
     "data": {
      "image/png": "[encoded data removed]",
      "text/plain": [
       "<Figure size 720x576 with 1 Axes>"
      ]
     },
     "metadata": {},
     "output_type": "display_data"
    }
   ],
   "source": [
    "request=\"\"\"\n",
    "MATCH (c:Category)<-[rel:IN_CATEGORY]-(m:Movie)\n",
    "WITH c.name as category,count(*) as total\n",
    "RETURN  category,total\n",
    "ORDER BY total DESC\n",
    "\"\"\"\n",
    "colors = ['#1f77b4', '#ff7f0e', '#2ca02c', '#d62728', '#9467bd',\n",
    "          '#8c564b', '#e377c2', '#7f7f7f', '#bcbd22', '#17becf']\n",
    "result = graph.run(request).to_data_frame()\n",
    "result.plot.barh(x='category', y='total', figsize=(10,8), color=colors)\n",
    "plt.show()"
   ]
  },
  {
   "cell_type": "markdown",
   "metadata": {},
   "source": [
    "<a id=\"shortest_between_2_persons\"></a>\n",
    "## Shortest between 2 persons\n",
    "\n",
    "If I want to meet someone, who should I ask to be present?"
   ]
  },
  {
   "cell_type": "code",
   "execution_count": 24,
   "metadata": {},
   "outputs": [
    {
     "name": "stdout",
     "output_type": "stream",
     "text": [
      "I'm Tom Cruise\n",
      "I want to meet Tom Hanks\n",
      "(Tom Cruise)-[:ACTED_IN {}]->(_11647)<-[:ACTED_IN {}]-(Alfred Molina)-[:ACTED_IN {}]->(_14049)<-[:ACTED_IN {}]-(Tom Hanks)\n",
      "\n",
      "\n"
     ]
    }
   ],
   "source": [
    "'''\n",
    "MATCH (cs:Person { name: 'Tom Cruise' }),(ms:Person { name: 'Tom Hanks' }), p = shortestPath((cs)-[:ACTED_IN|DIRECTED*]-(ms))\n",
    "WHERE length(p)> 1 \n",
    "RETURN p\n",
    "'''\n",
    "def who_be_present(I_AM, I_WANT_TO_MEET):\n",
    "    print(f\"I'm {I_AM}\")\n",
    "    print(f\"I want to meet {I_WANT_TO_MEET}\")\n",
    "    request=\"\"\"\n",
    "    MATCH (cs:Person { name: $pfrom }),(ms:Person { name: $pto }), p = shortestPath((cs)-[:ACTED_IN|DIRECTED*]-(ms))\n",
    "    WHERE length(p)> 1 \n",
    "    RETURN p\n",
    "    \"\"\"\n",
    "    cursor = graph.run(request, pfrom=I_AM, pto=I_WANT_TO_MEET)\n",
    "    while cursor.forward():\n",
    "        print(cursor['p'])\n",
    "    print('\\n')\n",
    "\n",
    "I_AM = 'Tom Cruise'\n",
    "I_WANT_TO_MEET = 'Tom Hanks'\n",
    "who_be_present(I_AM, I_WANT_TO_MEET)"
   ]
  },
  {
   "cell_type": "code",
   "execution_count": 25,
   "metadata": {},
   "outputs": [
    {
     "name": "stdout",
     "output_type": "stream",
     "text": [
      "I'm Nicolas Cage\n",
      "I want to meet Harrison Ford\n",
      "(Nicolas Cage)-[:ACTED_IN {}]->(_15164)<-[:ACTED_IN {}]-(James Remar)-[:ACTED_IN {}]->(_15345)<-[:ACTED_IN {}]-(Harrison Ford)\n",
      "\n",
      "\n"
     ]
    }
   ],
   "source": [
    "I_AM = 'Nicolas Cage'\n",
    "I_WANT_TO_MEET='Harrison Ford'\n",
    "who_be_present(I_AM, I_WANT_TO_MEET)"
   ]
  },
  {
   "cell_type": "markdown",
   "metadata": {},
   "source": [
    "<img src=\"images/netflix_actor_shortest_path.png\">"
   ]
  },
  {
   "cell_type": "markdown",
   "metadata": {},
   "source": [
    "## Similarity between categories\n",
    "\n",
    "The similarity between two categories is evaluated with the overlap of the movies sets that each category contains :\n",
    "\n",
    "Overlap similarity measures overlap between two sets. It is defined as the size of the intersection of two sets, divided by the size of the smaller of the two sets. https://neo4j.com/docs/graph-algorithms/current/labs-algorithms/overlap/\n",
    "\n",
    "$O(A,B)=\\frac{ |A \\cap B|}{min(|A|,|B|)}$\n",
    "\n",
    "<img src=\"images/overlap_similarity_algorithm.png\">\n",
    "\n",
    "Checking APOC and Graph Data Science Library (GDS)\n",
    "\n",
    "<img src=\"images/apoc_gds_library_plugin.png\">\n",
    "\n",
    "\n",
    "```\n",
    "CALL dbms.procedures\n",
    "```\n",
    "\n",
    "<img src=\"images/call_dbms_procedures.png\">\n",
    "\n",
    "```\n",
    "CALL gds.list()\n",
    "```\n",
    "\n",
    "<img src=\"images/gds_list.png\">\n",
    "\n",
    "ref. https://neo4j.com/docs/graph-data-science/current/alpha-algorithms/overlap/"
   ]
  },
  {
   "cell_type": "code",
   "execution_count": 26,
   "metadata": {},
   "outputs": [
    {
     "name": "stdout",
     "output_type": "stream",
     "text": [
      "-- 5.134585857391357 seconds --\n"
     ]
    },
    {
     "data": {
      "text/html": [
       "<div>\n",
       "<style scoped>\n",
       "    .dataframe tbody tr th:only-of-type {\n",
       "        vertical-align: middle;\n",
       "    }\n",
       "\n",
       "    .dataframe tbody tr th {\n",
       "        vertical-align: top;\n",
       "    }\n",
       "\n",
       "    .dataframe thead th {\n",
       "        text-align: right;\n",
       "    }\n",
       "</style>\n",
       "<table border=\"1\" class=\"dataframe\">\n",
       "  <thead>\n",
       "    <tr style=\"text-align: right;\">\n",
       "      <th></th>\n",
       "      <th>from</th>\n",
       "      <th>to</th>\n",
       "      <th>count1</th>\n",
       "      <th>count2</th>\n",
       "      <th>intersection</th>\n",
       "      <th>similarity</th>\n",
       "    </tr>\n",
       "  </thead>\n",
       "  <tbody>\n",
       "    <tr>\n",
       "      <th>0</th>\n",
       "      <td>Action &amp; Adventure</td>\n",
       "      <td>International Movies</td>\n",
       "      <td>721</td>\n",
       "      <td>2437</td>\n",
       "      <td>353</td>\n",
       "      <td>0.489598</td>\n",
       "    </tr>\n",
       "    <tr>\n",
       "      <th>1</th>\n",
       "      <td>Action &amp; Adventure</td>\n",
       "      <td>Dramas</td>\n",
       "      <td>721</td>\n",
       "      <td>2106</td>\n",
       "      <td>198</td>\n",
       "      <td>0.274619</td>\n",
       "    </tr>\n",
       "    <tr>\n",
       "      <th>2</th>\n",
       "      <td>Action &amp; Adventure</td>\n",
       "      <td>Comedies</td>\n",
       "      <td>721</td>\n",
       "      <td>1471</td>\n",
       "      <td>161</td>\n",
       "      <td>0.223301</td>\n",
       "    </tr>\n",
       "    <tr>\n",
       "      <th>3</th>\n",
       "      <td>Anime Features</td>\n",
       "      <td>International Movies</td>\n",
       "      <td>57</td>\n",
       "      <td>2437</td>\n",
       "      <td>34</td>\n",
       "      <td>0.596491</td>\n",
       "    </tr>\n",
       "    <tr>\n",
       "      <th>4</th>\n",
       "      <td>Anime Features</td>\n",
       "      <td>Children &amp; Family Movies</td>\n",
       "      <td>57</td>\n",
       "      <td>532</td>\n",
       "      <td>12</td>\n",
       "      <td>0.210526</td>\n",
       "    </tr>\n",
       "  </tbody>\n",
       "</table>\n",
       "</div>"
      ],
      "text/plain": [
       "                 from                        to  count1  count2  intersection  \\\n",
       "0  Action & Adventure      International Movies     721    2437           353   \n",
       "1  Action & Adventure                    Dramas     721    2106           198   \n",
       "2  Action & Adventure                  Comedies     721    1471           161   \n",
       "3      Anime Features      International Movies      57    2437            34   \n",
       "4      Anime Features  Children & Family Movies      57     532            12   \n",
       "\n",
       "   similarity  \n",
       "0    0.489598  \n",
       "1    0.274619  \n",
       "2    0.223301  \n",
       "3    0.596491  \n",
       "4    0.210526  "
      ]
     },
     "execution_count": 26,
     "metadata": {},
     "output_type": "execute_result"
    }
   ],
   "source": [
    "# SIMILARITY BETWEEN CATEGORY\n",
    "query = \"\"\"\n",
    "MATCH (m:Movie)-[:IN_CATEGORY]->(cat:Category)\n",
    "WITH {item:id(cat), categories: collect(id(m))} as userData\n",
    "WITH collect(userData) as data\n",
    "CALL gds.alpha.similarity.overlap.stream({data: data})\n",
    "YIELD item1, item2, count1, count2, intersection, similarity\n",
    "RETURN gds.util.asNode(item1).name AS from, gds.util.asNode(item2).name AS to,\n",
    "       count1, count2, intersection, similarity\n",
    "ORDER BY from,to DESC\n",
    "\"\"\"\n",
    "\n",
    "start_time = time.time()\n",
    "cat_result = graph.run(query).to_data_frame()\n",
    "exec_time = time.time() - start_time\n",
    "print(f'-- {exec_time} seconds --')\n",
    "cat_result.head()"
   ]
  },
  {
   "cell_type": "code",
   "execution_count": 27,
   "metadata": {},
   "outputs": [],
   "source": [
    "# Create the set of categories\n",
    "set1 = set(cat_result['to'].unique())\n",
    "set2 = set(cat_result['from'].unique())\n",
    "categories = np.asarray(list(set1 | set2))\n",
    "categories.sort()\n",
    "nbr_cat = categories.shape[0]\n",
    "\n",
    "# Create a dictionary key=categorie , value = index \n",
    "cat_index = np.arange(nbr_cat)\n",
    "dictionary = dict(zip(categories, cat_index))\n",
    "\n",
    "# Create a matrix of distance ( distance = 1 - similarity )\n",
    "matrix = 1 - np.eye(nbr_cat)\n",
    "for index, row in cat_result.iterrows():\n",
    "    matrix[dictionary[row['from']],dictionary[row['to']]]=1-row['similarity']\n",
    "    matrix[dictionary[row['to']],dictionary[row['from']]]=1-row['similarity']\n",
    "\n",
    "# Convert the matrix to a 1d condensed matrix\n",
    "cmatrix = []\n",
    "for i in range(0,nbr_cat-1):\n",
    "    for j in range(i+1,nbr_cat):\n",
    "        cmatrix.append(matrix[i,j])"
   ]
  },
  {
   "cell_type": "code",
   "execution_count": 28,
   "metadata": {},
   "outputs": [
    {
     "data": {
      "image/png": "[encoded data removed]",
      "text/plain": [
       "<Figure size 864x864 with 1 Axes>"
      ]
     },
     "metadata": {},
     "output_type": "display_data"
    }
   ],
   "source": [
    "# Hierarchical clustering\n",
    "from scipy.cluster.hierarchy import dendrogram, linkage\n",
    "linkage = linkage(np.asarray(cmatrix))\n",
    "\n",
    "fig, axes = plt.subplots(1, 1, figsize=(12, 12))\n",
    "dendro  = dendrogram(linkage, labels=categories, orientation='right', ax=axes, color_threshold=0.5)\n",
    "plt.show()"
   ]
  },
  {
   "cell_type": "markdown",
   "metadata": {},
   "source": [
    "<a id=\"recommendation\"></a>\n",
    "## Recommendation\n",
    "\n",
    "These algorithms help determine the closeness of a pair of nodes.\n",
    "\n",
    "Adamic Adar is a measure used to compute the closeness of nodes based on their shared neighbors.\n",
    "\n",
    "https://neo4j.com/docs/graph-data-science/current/alpha-algorithms/adamic-adar/\n",
    "\n",
    "x and y are nodes (Movies)\n",
    "\n",
    "if N(x) is the set of nodes adjacent to x\n",
    "if N(y) is the set of nodes adjacent to y\n",
    "\n",
    "<img src=\"images/adamic-adar.png\">"
   ]
  },
  {
   "cell_type": "code",
   "execution_count": 29,
   "metadata": {},
   "outputs": [
    {
     "name": "stdout",
     "output_type": "stream",
     "text": [
      "             title              recommendation     score\n",
      "0  Stranger Things                      The OA  0.839301\n",
      "1  Stranger Things            ThirTEEN Terrors  0.717114\n",
      "2  Stranger Things                  Typewriter  0.717114\n",
      "3  Stranger Things  The Haunting of Hill House  0.714278\n",
      "4  Stranger Things   The Haunting of Bly Manor  0.714278\n",
      "5  Stranger Things               The Originals  0.714278\n",
      "6  Stranger Things         The Vampire Diaries  0.709009\n",
      "7  Stranger Things              The Messengers  0.709009\n",
      "8  Stranger Things                 Warrior Nun  0.709009\n",
      "9  Stranger Things                    Z Nation  0.622339\n",
      "              title                             recommendation     score\n",
      "0  Ocean's Thirteen                             Ocean's Twelve  3.251960\n",
      "1  Ocean's Thirteen                             The Informant!  1.161873\n",
      "2  Ocean's Thirteen                             The Laundromat  1.069380\n",
      "3  Ocean's Thirteen  True Memoirs of an International Assassin  0.771621\n",
      "4  Ocean's Thirteen                                  Swordfish  0.735739\n",
      "5  Ocean's Thirteen                             Small Soldiers  0.663230\n",
      "6  Ocean's Thirteen                                     Popeye  0.663230\n",
      "7  Ocean's Thirteen                            Starsky & Hutch  0.663230\n",
      "8  Ocean's Thirteen              You Don't Mess with the Zohan  0.663230\n",
      "9  Ocean's Thirteen                         The Last Boy Scout  0.663230\n"
     ]
    }
   ],
   "source": [
    "# LINK PREDICTION BETWEEN MOVIES\n",
    "request_link_prediction_movie=\"\"\"\n",
    "MATCH (a:Movie {title:$ptitle} )-[*2]-(b:Movie)\n",
    "WHERE a <> b AND a.title < b.title\n",
    "WITH DISTINCT a,b\n",
    "RETURN a.title as title, b.title as recommendation, gds.alpha.linkprediction.adamicAdar(a, b) AS score\n",
    "ORDER BY score DESC\n",
    "LIMIT 10\n",
    "\"\"\"\n",
    "print(graph.run(request_link_prediction_movie,ptitle='Stranger Things').to_data_frame())\n",
    "print(graph.run(request_link_prediction_movie,ptitle=\"Ocean's Thirteen\").to_data_frame())"
   ]
  },
  {
   "cell_type": "markdown",
   "metadata": {},
   "source": [
    "<a id=\"evolution_over_year\"></a>\n",
    "## Evolution over year - Number of movies by countries"
   ]
  },
  {
   "cell_type": "code",
   "execution_count": 30,
   "metadata": {},
   "outputs": [],
   "source": [
    "request = \"\"\"\n",
    "MATCH (y:Year {value: 2012})-[:NEXT*0..10]->(y2:Year)<-[:CREATED_ON]-(f:Movie)-[r:WHERE]->(c:Country)\n",
    "RETURN y2.value as year,c.name as country,count(r) as count\n",
    "ORDER BY year DESC, count DESC\n",
    "\"\"\"\n",
    "result = graph.run(request).to_data_frame()\n",
    "filter_result = result['country'][:10]"
   ]
  },
  {
   "cell_type": "code",
   "execution_count": 31,
   "metadata": {},
   "outputs": [
    {
     "data": {
      "text/html": [
       "<div>\n",
       "<style scoped>\n",
       "    .dataframe tbody tr th:only-of-type {\n",
       "        vertical-align: middle;\n",
       "    }\n",
       "\n",
       "    .dataframe tbody tr th {\n",
       "        vertical-align: top;\n",
       "    }\n",
       "\n",
       "    .dataframe thead tr th {\n",
       "        text-align: left;\n",
       "    }\n",
       "\n",
       "    .dataframe thead tr:last-of-type th {\n",
       "        text-align: right;\n",
       "    }\n",
       "</style>\n",
       "<table border=\"1\" class=\"dataframe\">\n",
       "  <thead>\n",
       "    <tr>\n",
       "      <th></th>\n",
       "      <th colspan=\"10\" halign=\"left\">count</th>\n",
       "    </tr>\n",
       "    <tr>\n",
       "      <th>country</th>\n",
       "      <th>Canada</th>\n",
       "      <th>Egypt</th>\n",
       "      <th>France</th>\n",
       "      <th>India</th>\n",
       "      <th>Japan</th>\n",
       "      <th>Philippines</th>\n",
       "      <th>South Korea</th>\n",
       "      <th>Spain</th>\n",
       "      <th>United Kingdom</th>\n",
       "      <th>United States</th>\n",
       "    </tr>\n",
       "    <tr>\n",
       "      <th>year</th>\n",
       "      <th></th>\n",
       "      <th></th>\n",
       "      <th></th>\n",
       "      <th></th>\n",
       "      <th></th>\n",
       "      <th></th>\n",
       "      <th></th>\n",
       "      <th></th>\n",
       "      <th></th>\n",
       "      <th></th>\n",
       "    </tr>\n",
       "  </thead>\n",
       "  <tbody>\n",
       "    <tr>\n",
       "      <th>2012</th>\n",
       "      <td>0.0</td>\n",
       "      <td>0.0</td>\n",
       "      <td>0.0</td>\n",
       "      <td>0.0</td>\n",
       "      <td>0.0</td>\n",
       "      <td>0.0</td>\n",
       "      <td>0.0</td>\n",
       "      <td>0.0</td>\n",
       "      <td>0.0</td>\n",
       "      <td>2.0</td>\n",
       "    </tr>\n",
       "    <tr>\n",
       "      <th>2013</th>\n",
       "      <td>1.0</td>\n",
       "      <td>0.0</td>\n",
       "      <td>0.0</td>\n",
       "      <td>0.0</td>\n",
       "      <td>0.0</td>\n",
       "      <td>0.0</td>\n",
       "      <td>0.0</td>\n",
       "      <td>0.0</td>\n",
       "      <td>0.0</td>\n",
       "      <td>8.0</td>\n",
       "    </tr>\n",
       "    <tr>\n",
       "      <th>2014</th>\n",
       "      <td>1.0</td>\n",
       "      <td>0.0</td>\n",
       "      <td>0.0</td>\n",
       "      <td>0.0</td>\n",
       "      <td>0.0</td>\n",
       "      <td>0.0</td>\n",
       "      <td>0.0</td>\n",
       "      <td>0.0</td>\n",
       "      <td>0.0</td>\n",
       "      <td>16.0</td>\n",
       "    </tr>\n",
       "    <tr>\n",
       "      <th>2015</th>\n",
       "      <td>4.0</td>\n",
       "      <td>0.0</td>\n",
       "      <td>2.0</td>\n",
       "      <td>0.0</td>\n",
       "      <td>1.0</td>\n",
       "      <td>0.0</td>\n",
       "      <td>0.0</td>\n",
       "      <td>0.0</td>\n",
       "      <td>3.0</td>\n",
       "      <td>52.0</td>\n",
       "    </tr>\n",
       "    <tr>\n",
       "      <th>2016</th>\n",
       "      <td>13.0</td>\n",
       "      <td>0.0</td>\n",
       "      <td>8.0</td>\n",
       "      <td>11.0</td>\n",
       "      <td>17.0</td>\n",
       "      <td>0.0</td>\n",
       "      <td>9.0</td>\n",
       "      <td>11.0</td>\n",
       "      <td>37.0</td>\n",
       "      <td>159.0</td>\n",
       "    </tr>\n",
       "  </tbody>\n",
       "</table>\n",
       "</div>"
      ],
      "text/plain": [
       "         count                                                         \\\n",
       "country Canada Egypt France India Japan Philippines South Korea Spain   \n",
       "year                                                                    \n",
       "2012       0.0   0.0    0.0   0.0   0.0         0.0         0.0   0.0   \n",
       "2013       1.0   0.0    0.0   0.0   0.0         0.0         0.0   0.0   \n",
       "2014       1.0   0.0    0.0   0.0   0.0         0.0         0.0   0.0   \n",
       "2015       4.0   0.0    2.0   0.0   1.0         0.0         0.0   0.0   \n",
       "2016      13.0   0.0    8.0  11.0  17.0         0.0         9.0  11.0   \n",
       "\n",
       "                                      \n",
       "country United Kingdom United States  \n",
       "year                                  \n",
       "2012               0.0           2.0  \n",
       "2013               0.0           8.0  \n",
       "2014               0.0          16.0  \n",
       "2015               3.0          52.0  \n",
       "2016              37.0         159.0  "
      ]
     },
     "execution_count": 31,
     "metadata": {},
     "output_type": "execute_result"
    }
   ],
   "source": [
    "temp = result.loc[result['country'].isin(filter_result)]\n",
    "temp = temp.set_index(['year', 'country'])\n",
    "temp = temp.unstack(level=-1)\n",
    "temp.fillna(0,inplace=True)\n",
    "temp.head()"
   ]
  },
  {
   "cell_type": "code",
   "execution_count": 32,
   "metadata": {},
   "outputs": [
    {
     "data": {
      "image/png": "[encoded data removed]",
      "text/plain": [
       "<Figure size 864x864 with 1 Axes>"
      ]
     },
     "metadata": {},
     "output_type": "display_data"
    }
   ],
   "source": [
    "temp.plot(figsize=(12, 12)).legend(bbox_to_anchor=(1, 1))\n",
    "plt.show()"
   ]
  },
  {
   "cell_type": "markdown",
   "metadata": {},
   "source": [
    "## Summary\n",
    "\n",
    "This was really insightful and useful! But it will take a while considering it is 'unwinding' the cast list for each movie."
   ]
  }
 ],
 "metadata": {
  "kernelspec": {
   "display_name": "Python 3",
   "language": "python",
   "name": "python3"
  },
  "language_info": {
   "codemirror_mode": {
    "name": "ipython",
    "version": 3
   },
   "file_extension": ".py",
   "mimetype": "text/x-python",
   "name": "python",
   "nbconvert_exporter": "python",
   "pygments_lexer": "ipython3",
   "version": "3.6.7"
  }
 },
 "nbformat": 4,
 "nbformat_minor": 2
}
