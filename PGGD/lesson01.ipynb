{
 "cells": [
  {
   "cell_type": "markdown",
   "metadata": {},
   "source": [
    "## Lesson 1 - Python 環境安裝與爬蟲基本知識\n",
    "\n",
    "Conda, IPython, Jupyter Notebooks and Python introduction.\n",
    "\n",
    "### Table of Contents\n",
    "\n",
    "* [邁向Python 資料分析師 - From zero to Hero](#Python)\n",
    "* [安裝Python開發環境 - Anaconda](#PythonInstaller)\n",
    "* [雲端也能使用 Jupyter Notebook開發環境](#CloudNotebook)\n",
    "* [執行安裝 Anaconda](#InstallAnaconda)\n",
    "* [設定 Windows 路徑](#set_win_path)\n",
    "* [檢查 Python 與 版本](#check_env)\n",
    "* [解決 Windows 安裝 OpenSSL](#resolve_windows_openssl)\n",
    "* [Jupyter Notebook on the Cloud](#CloudNotebook)\n"
   ]
  },
  {
   "cell_type": "markdown",
   "metadata": {},
   "source": [
    "<a id=\"Python\"></a>\n",
    "<a id=\"ipython\"></a>\n",
    "\n",
    "## 邁向Python 資料分析師 - From zero to Hero\n",
    "\n",
    "Python 是一套功能強大、直譯式(透過Interpreter直譯器)，並且支援物件導向的程式語言，Python 程式語言有幾項特點：\n",
    "\n",
    "- 容易撰寫\n",
    "\n",
    "Python 具有物件導向(Object Oriented)的特性，但也可以不用物件導向的方式撰寫。撇開物件導向不談，Python 通常可以靠比較短的程式碼完成比較多的功能，或者可以寫得比較直覺易懂。\n",
    "\n",
    "- 社群支援性佳\n",
    "\n",
    "Python 自 1990 年由 Guido van Rossum 在荷蘭的 CWI 開始發展以來，從 0.9 進步到今天的 3.9，不但累積了相當完整的標準程式庫 (模組)，更有大量的統計、數學、演算法模組可安裝，更酷的是它們多多都是開放原始碼的。單以內建的模組來講，從簡單的數學運算、字串處理、網際網路連線(爬蟲)、各種壓縮檔案讀取功能等等，範圍非常地廣泛。隨著資料科學的工作越來越熱烈，Python在 技術問題討論網站 [stackoverflow.com](https://stackoverflow.com/questions/tagged/python) 上的搜尋排行也如日中天，遇到問題，可以在 stackoverflow 上面詢問，應該都有人和你遇到相同的問題。\n",
    "\n",
    "- 跨平台\n",
    "\n",
    "Python 除了支援 Windows 之外，其他作業系統如 macOS、Linux都相容與支援，甚至在macOS上還內建 Python ，可以下達以下指令查詢版本。\n",
    "\n",
    "```python\n",
    "which python\n",
    "```"
   ]
  },
  {
   "cell_type": "markdown",
   "metadata": {},
   "source": [
    "<a id=\"CloudNotebook\"></a>\n",
    "\n",
    "Python 環境除了作業系統支援程度佳，同時也支援雲端 Web 介面(Jupyter Notebook) 或 安裝 `JupyterHub` 多人共用開發環境等跨平台應用。\n",
    "\n",
    "<img src=\"images/JupyterHub.png\">\n",
    "\n",
    "以及可以運用免費的 Jupyter 雲端工具，如 [Google Colaboratory](https://colab.research.google.com/notebooks/intro.ipynb#recent=true)\n",
    "\n",
    "<img src=\"images/google_colab.png\">"
   ]
  },
  {
   "cell_type": "markdown",
   "metadata": {},
   "source": [
    "## 安裝Python開發環境 - Anaconda\n",
    "<a id=\"PythonInstaller\"></a>\n",
    "\n",
    "本課程使用 Python 3，開發環境使用 Anaconda (individual)，並使用 Chrome browser來做為開發介面。\n",
    "\n",
    "Python 下載官方網站： [https://www.anaconda.com/products/individual](https://www.anaconda.com/products/individual)\n",
    "\n",
    "<img src=\"images/download_anaconda.png\">"
   ]
  },
  {
   "cell_type": "markdown",
   "metadata": {},
   "source": [
    "#### 在MacOS上安裝Anaconda\n",
    "- [在 MacOS 上安裝Anaconda (Python 3.6) 的影片 ](https://www.youtube.com/watch?v=OUnQqlSIn3k)\n",
    "- [在 Windows 上安裝Anaconda (Python 3.6) 的影片](https://www.youtube.com/watch?v=T8wK5loXkXg)\n",
    "\n",
    "#### Python command-line interpreter\n",
    "\n",
    "To open the Python interpreter, go to your terminal and type:\n",
    "\n",
    "```\n",
    "python\n",
    "```\n",
    "\n",
    "#### IPython command-line interpreter\n",
    "\n",
    "To open the IPython interpreter, go to your terminal and type:\n",
    "\n",
    "```\n",
    "ipython\n",
    "```\n",
    "\n",
    "#### Jupyter (IPython) notebooks\n",
    "\n",
    "For macOS and Linux users, to launch a Jupyter notebook, open Terminal and type:\n",
    "\n",
    "```\n",
    "jupyter notebook\n",
    "```\n",
    "\n",
    "For Windows users, to launch a Jupyter notebook, open Anaconda Prompt and type:\n",
    "\n",
    "```\n",
    "jupyter notebook\n",
    "```"
   ]
  },
  {
   "cell_type": "markdown",
   "metadata": {},
   "source": [
    "### 在 Windows 上安裝Anaconda (Python 3.6) 的影片"
   ]
  },
  {
   "cell_type": "code",
   "execution_count": 1,
   "metadata": {},
   "outputs": [
    {
     "name": "stderr",
     "output_type": "stream",
     "text": [
      "C:\\Users\\princ\\AppData\\Roaming\\Python\\Python36\\site-packages\\IPython\\core\\display.py:717: UserWarning: Consider using IPython.display.IFrame instead\n",
      "  warnings.warn(\"Consider using IPython.display.IFrame instead\")\n"
     ]
    },
    {
     "data": {
      "text/html": [
       "<iframe width=\"560\" height=\"315\" src=\"https://www.youtube.com/embed/OUnQqlSIn3k?rel=0&amp;controls=0&amp;showinfo=0\" frameborder=\"0\" allowfullscreen></iframe>"
      ],
      "text/plain": [
       "<IPython.core.display.HTML object>"
      ]
     },
     "execution_count": 1,
     "metadata": {},
     "output_type": "execute_result"
    }
   ],
   "source": [
    "from IPython.display import HTML\n",
    "\n",
    "HTML('<iframe width=\"560\" height=\"315\" src=\"https://www.youtube.com/embed/OUnQqlSIn3k?rel=0&amp;controls=0&amp;showinfo=0\" frameborder=\"0\" allowfullscreen></iframe>')"
   ]
  },
  {
   "cell_type": "markdown",
   "metadata": {},
   "source": [
    "<a id=\"InstallAnaconda\"></a>\n",
    "## 執行安裝 Anaconda\n",
    "\n",
    "<img src=\"images/anaconda_1.png\">\n",
    "\n",
    "設定安裝的路徑，不要在 `C:\\` ，建議安裝在其他磁碟機的根目錄，如： `D:\\Anaconda3\\`\n",
    "\n",
    "<img src=\"images/anaconda_2.png\">\n",
    "\n",
    "安裝完成，我們將跳過教學。\n",
    "\n",
    "<img src=\"images/anaconda_3.png\">"
   ]
  },
  {
   "cell_type": "markdown",
   "metadata": {},
   "source": [
    "<a id=\"set_win_path\"></a>\n",
    "## 設定 Windows 路徑\n",
    "\n",
    "<img src=\"images/windows_path_advanced.png\">\n",
    "\n",
    "<img src=\"images/windows_system_environment.png\">\n",
    "\n",
    "<img src=\"images/windows_system_path_edit.png\">\n",
    "\n",
    "<img src=\"images/windows_system_path_add.png\">\n",
    "\n",
    "選擇剛才解壓縮的路徑 D:\\Anaconda3，並按下「確定」按鈕。\n",
    "\n",
    "<img src=\"images/windows_path_add_anaconda.png\">\n",
    "\n",
    "除了 D:\\Anaconda3，還須新增 D:\\Anaconda3\\Scripts 共兩個資料夾。\n",
    "\n",
    "<img src=\"images/windows_path_anaconda_all.png\">"
   ]
  },
  {
   "cell_type": "markdown",
   "metadata": {},
   "source": [
    "<a id=\"check_env\"></a>\n",
    "## 檢查 Python 與 版本\n",
    "\n",
    "在Windows 開始功能表中，輸入cmd，點選「命令提示字元」\n",
    "\n",
    "<img src=\"images/windows_start_cmd_admin.png\">\n",
    "\n",
    "測試Python，在DOS command視窗中，輸入python按下Enter (無論所在何路徑)\n",
    "\n",
    "```python\n",
    "python\n",
    "```\n",
    "\n",
    "<img src=\"images/windows_cmd_python_check.png\">"
   ]
  },
  {
   "cell_type": "markdown",
   "metadata": {},
   "source": [
    "<a id=\"resolve_windows_openssl\"></a>\n",
    "## 解決 Windows 安裝 OpenSSL"
   ]
  },
  {
   "cell_type": "markdown",
   "metadata": {},
   "source": [
    "Windows 剛安裝好 Anaconda ，要使用 `pip install` 來安裝新套件時，多數會遭遇到以下錯誤訊息：\n",
    "\n",
    "```python\n",
    "WARNING: pip is configured with locations that require TLS/SSL, however the ssl module in Python is not available.\n",
    "Could not fetch URL https://pypi.org/simple/pip/: There was a problem confirming the ssl certificate: HTTPSConnectionPool(host='pypi.org', port=443): Max retries exceeded with url: /simple/pip/ (Caused by SSLError(\"Can't connect to HTTPS URL because the SSL module is not available.\")) - skipping\n",
    "```\n",
    "\n",
    "<img src=\"images/windows_no_ssl_module.png\">\n",
    "\n",
    "解決方式\n",
    "\n",
    "安裝 OpenSSL，但在 Windows 下需要下載程式碼自己編譯，對於初學者比較不熟悉做法，以下提供使用 Windows 套件管理工具 Chocolatey 來安裝 OpenSSL。\n",
    "\n",
    "1) 按下 Windows Key\n",
    "<img src=\"images/windows_key.png\">\n",
    "在 Windows 程式集，或左下角輸入 `cmd` 尋找「命令提示字元」，並單擊滑鼠右鍵，選擇以「以系統管理員身分執行」。\n",
    "\n",
    "<img src=\"images/cmd_administrator.png\">\n",
    "\n",
    "2) 複製及貼上以下的安裝 Chocolatey 指令：\n",
    "\n",
    "```python\n",
    "@\"%SystemRoot%\\System32\\WindowsPowerShell\\v1.0\\powershell.exe\" -NoProfile -InputFormat None -ExecutionPolicy Bypass -Command \"[System.Net.ServicePointManager]::SecurityProtocol = 3072; iex ((New-Object System.Net.WebClient).DownloadString('https://chocolatey.org/install.ps1'))\" && SET \"PATH=%PATH%;%ALLUSERSPROFILE%\\chocolatey\\bin\"\n",
    "```\n",
    "\n",
    "<img src=\"images/install_chocolatey.png\">\n",
    "\n",
    "3) 複製及貼上以下安裝 OpenSSL 指令，在過程中若出現選擇安裝套件時，請輸入 `A`，來安裝全部套件：\n",
    "\n",
    "<img src=\"images/accept_install_chcolatey.png\">\n",
    "\n",
    "```python\n",
    "choco install openssl\n",
    "```\n",
    "\n",
    "安裝完成\n",
    "\n",
    "<img src=\"images/sucessful_install_ssl.png\">"
   ]
  },
  {
   "cell_type": "markdown",
   "metadata": {},
   "source": [
    "## 例外處理\n",
    "\n",
    "Q1. 如果第一次執行 出現了 DLL load failed...，找不到指定的模組，如下圖：\n",
    "\n",
    "<img src=\"images/jupyter_notebook_can_not_find_DLL.png\">\n",
    "\n",
    "解決方法為 執行以下兩行指令。\n",
    "```python\n",
    "pip uninstall pyzmq \n",
    "```\n",
    "\n",
    "```python\n",
    "pip install pyzmq \n",
    "```\n",
    "\n",
    "\n",
    "Q2. 發現找不到 sqlite3.dll，如下圖：\n",
    "\n",
    "The issue seems to arise from the missing of sqlite3.dll in path \".\\Anaconda\\Dlls\\\". I solved it by simply copying that .dll file from \\Anaconda3\\Library\\bin and put it under the path mentioned above. This was life saviour.\n",
    "\n"
   ]
  },
  {
   "cell_type": "markdown",
   "metadata": {},
   "source": [
    "<a id=\"CloudNotebook\"></a>\n",
    "\n",
    "## Jupyter Notebook on the Cloud"
   ]
  },
  {
   "cell_type": "markdown",
   "metadata": {},
   "source": [
    "### AWS SageMaker\n",
    "\n",
    "AWS SageMaker 提供雲端 Jupyter Notebook instance, based on resources you're using.\n",
    "\n",
    "https://aws.amazon.com/tw/sagemaker/"
   ]
  },
  {
   "cell_type": "markdown",
   "metadata": {},
   "source": [
    "<img src=\"images/aws-notebook-instances.png\">"
   ]
  },
  {
   "cell_type": "markdown",
   "metadata": {},
   "source": [
    "### Google Cloud Datalab | AI Platform Notebooks \n",
    "\n",
    "<img src=\"images/gcp-datalab-notebook.png\">\n",
    "\n",
    "https://cloud.google.com/ai-platform-notebooks/"
   ]
  },
  {
   "cell_type": "markdown",
   "metadata": {},
   "source": [
    "### Google Cloud Datalab | AI Platform Notebooks \n",
    "\n",
    "<img src=\"images/gcp-datalab-notebook.png\">\n",
    "\n",
    "https://cloud.google.com/ai-platform-notebooks/"
   ]
  },
  {
   "cell_type": "markdown",
   "metadata": {},
   "source": [
    "### Recap\n",
    "\n",
    "- Install Anaconda in your environment\n",
    "- Jupyter IDE\n",
    "- Jupyter on the cloud"
   ]
  },
  {
   "cell_type": "code",
   "execution_count": null,
   "metadata": {},
   "outputs": [],
   "source": []
  }
 ],
 "metadata": {
  "kernelspec": {
   "display_name": "Python 3",
   "language": "python",
   "name": "python3"
  },
  "language_info": {
   "codemirror_mode": {
    "name": "ipython",
    "version": 3
   },
   "file_extension": ".py",
   "mimetype": "text/x-python",
   "name": "python",
   "nbconvert_exporter": "python",
   "pygments_lexer": "ipython3",
   "version": "3.6.7"
  }
 },
 "nbformat": 4,
 "nbformat_minor": 2
}
