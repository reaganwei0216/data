{
 "cells": [
  {
   "cell_type": "markdown",
   "metadata": {},
   "source": [
    "# Python 圖資料庫與知識圖譜開發實務\n",
    "## Neo4j Graph Databases Specialty in Python"
   ]
  },
  {
   "cell_type": "markdown",
   "metadata": {},
   "source": [
    "| Lessons     | Content                                                                          |\n",
    "|:-----------:|:--------------------------------------------------------------------------------:|\n",
    "| Lesson  1   | Conda, IPython, Jupyter Notebooks and Python Introduction                        |\n",
    "| Lesson  2   | Learn Python Today                                                               |\n",
    "| Lesson  3   | Python Basics                                                                    |\n",
    "| Lesson  4   | Python Hands-On                                                                  |\n",
    "| Lesson  5   | Python Functions, Pandas                                                         |\n",
    "| Lesson  6   | Crawler & Fetch training data                                                    |\n",
    "| Lesson  7   | PTT Crawler                                                                      |\n",
    "| Lesson  8   | Getting Started with MongoDB                                                     |\n",
    "| Lesson  9   | Getting Started with Neo4j                                                       |\n",
    "| Lesson 10   | Create Nodes, Relations using Cypher                                             |\n",
    "| Lesson 11   | Import, LOAD CSV, Upgrade database and more Cypher                               |\n",
    "| Lesson 12   | Administrative and perform a backup (Enterprise Edition)                         |\n",
    "| Lesson 13   | Graphs with Python and Neo4j                                                     |\n",
    "| Lesson 14   | Twitter Graphs                                                                   |\n",
    "| Lesson 15   | Relationship between characters in the entertainment industry                    |\n",
    "| Lesson 16   | From structured database RDBMS to Neo4j                                          |\n",
    "| Lesson 17   | Text pre processing using jieba                                                  |\n",
    "| Lesson 18   | Text Analytics & Word2Vec                                                        |\n",
    "| Lesson 19   | Social Graph with Movie TENET                                                    |\n",
    "| Lesson 20   | PTT Graph                                                                        |\n",
    "| Lesson 21   | Analyze Netflix data using graphs                                                |\n",
    "| Lesson 22   | Walk with Graph Algorithms                                                       |\n",
    "| Lesson 23   | Develope Neo4j Application with HTTP API                                         |\n",
    "| Lesson 24   | Movie Database Flask API                                                         |\n",
    "| Lesson 25   | Graph Visualization on web                                                       |\n",
    "| Lesson 26   | Social Graph with TENET v2.0                                                     |\n",
    "| Lesson 27   | Bank Fraud Detection                                                             |\n",
    "| Lesson 28   | Neo4j Analysis using E-Commerce Data                                             |\n"
   ]
  },
  {
   "cell_type": "markdown",
   "metadata": {},
   "source": [
    "### | 講者 | 佘志龍 David"
   ]
  }
 ],
 "metadata": {
  "kernelspec": {
   "display_name": "Python 3",
   "language": "python",
   "name": "python3"
  },
  "language_info": {
   "codemirror_mode": {
    "name": "ipython",
    "version": 3
   },
   "file_extension": ".py",
   "mimetype": "text/x-python",
   "name": "python",
   "nbconvert_exporter": "python",
   "pygments_lexer": "ipython3",
   "version": "3.6.7"
  }
 },
 "nbformat": 4,
 "nbformat_minor": 2
}
