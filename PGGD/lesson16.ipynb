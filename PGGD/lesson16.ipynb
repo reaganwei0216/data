{
 "cells": [
  {
   "cell_type": "markdown",
   "metadata": {},
   "source": [
    "## Lesson 16 - 結構化資料庫 RDBS to Neo4j\n",
    "\n",
    "\n",
    "\n",
    "\n",
    "\n",
    "### Table of Contents\n",
    "- [About CareerVillage.org](#career_village)\n",
    "- [Dataset introduction](#data_set)\n",
    "- [Importing all the CSVs](#import_csv)\n",
    "- [RDBS schema](#RDBS_schema)\n",
    "- [Import the NODES, nodes' labels, and properties](#import_nodes)\n",
    "- [Import Relationships](#import_relationships)\n",
    "- [Making group type, location, and industry nodes](#making_group)\n",
    "- [Cypher query](#Cypher)\n",
    "- [NLP based tag enrichment](#nlp)\n",
    "- [Import tags into database a rerun the tests](#import_tags)"
   ]
  },
  {
   "cell_type": "markdown",
   "metadata": {},
   "source": [
    "<a id=\"career_village\"></a>\n",
    "## About CareerVillage.org\n",
    "CareerVillage.org是一家非營利性組織，致力於為年輕人提供職業建議。 該平台 2011 年成立於紐約，現已為25,000名志願者，提供了超過 350 萬線上學習者的職業建議。該平台使用類似於 StackOverflow 或 Quora 的問答方式，為學生提供有關任何職業的任何問題的答案。"
   ]
  },
  {
   "cell_type": "markdown",
   "metadata": {},
   "source": [
    "<a id=\"data_set\"></a>\n",
    "## Dataset introduction\n",
    "\n",
    "First download the [data](https://www.kaggle.com/c/data-science-for-good-careervillage/data) to your computer from kaggle to a separated folder on your local computer or server (I will be going with local computer because this should save us time)\n",
    "\n",
    "CareerVillage.org 提供了匿名數據，每個檔案都來自其資料庫中的一個資料表。\n",
    "\n",
    "| File     | Description                                                                         |\n",
    "|:-----------:|:--------------------------------------------------------------------------------:|\n",
    "| answers.csv   | 答案能由註冊為專業人員發佈，但也有可能是一個回覆答案的作者                          |\n",
    "| comments.csv  | 答案或問題的留言                                                                |\n",
    "| emails.csv    | 收件人Email, frequency_level 是指郵件樣板，包含回答問題立即發送的Email            |\n",
    "| group_memberships.csv   | 使用者可以加入任何群組，此為群組成員名單                                |\n",
    "| groups.csv   | 每個群組都有專屬「類別」，群組名稱多與討論主題有關                                   |\n",
    "| matchs.csv   | 一行電子郵件包含一個問題Id。一個電子郵件包含10個問題，則電子郵件Id將在此處顯示10列  |\n",
    "| professionals.csv | 志願成為「專業人士」的資料，他們自願花時間在網站上回答問題                        |\n",
    "| questions.csv   | 問題由學生發佈，與學生未來的職涯相關                                            |\n",
    "| school_memberships.csv   | 與 group_memberships相同，此為以學校學生                              |\n",
    "| students.csv   | 學生是此網站組成最重要的成員，年齡介於14至24歲之間，位於全世界各地                 |\n",
    "| tag_questions.csv | 每個問題都可以加註 hashtag 標籤，通常伴隨著問題提及的分類                      |\n",
    "| tag_users.csv   | 同上，這些hashtag對應的User                                                   |\n",
    "| tags.csv        | 每個 hashtag 標籤的名稱                                                       |\n",
    "| question_scores.csv   | 每個問題的按讚數                                                        |\n",
    "| answer_scores.csv   | 每個答案的按讚數                                                          |"
   ]
  },
  {
   "cell_type": "code",
   "execution_count": 1,
   "metadata": {},
   "outputs": [],
   "source": [
    "# !pip install chart_studio"
   ]
  },
  {
   "cell_type": "code",
   "execution_count": 2,
   "metadata": {},
   "outputs": [
    {
     "data": {
      "text/html": [
       "        <script type=\"text/javascript\">\n",
       "        window.PlotlyConfig = {MathJaxConfig: 'local'};\n",
       "        if (window.MathJax) {MathJax.Hub.Config({SVG: {font: \"STIX-Web\"}});}\n",
       "        if (typeof require !== 'undefined') {\n",
       "        require.undef(\"plotly\");\n",
       "        requirejs.config({\n",
       "            paths: {\n",
       "                'plotly': ['https://cdn.plot.ly/plotly-latest.min']\n",
       "            }\n",
       "        });\n",
       "        require(['plotly'], function(Plotly) {\n",
       "            window._Plotly = Plotly;\n",
       "        });\n",
       "        }\n",
       "        </script>\n",
       "        "
      ]
     },
     "metadata": {},
     "output_type": "display_data"
    }
   ],
   "source": [
    "import numpy as np\n",
    "import os\n",
    "import pandas as pd\n",
    "import sys\n",
    "import matplotlib.pyplot as plt\n",
    "import seaborn as sns\n",
    "import warnings\n",
    "import chart_studio.plotly as py\n",
    "import plotly.graph_objs as go\n",
    "from plotly.offline import init_notebook_mode, iplot\n",
    "from wordcloud import WordCloud,STOPWORDS\n",
    "\n",
    "%matplotlib inline\n",
    "\n",
    "sns.set(color_codes=True)\n",
    "warnings.filterwarnings('ignore')\n",
    "\n",
    "init_notebook_mode(connected=True)"
   ]
  },
  {
   "cell_type": "markdown",
   "metadata": {},
   "source": [
    "<a id=\"import_csv\"></a>\n",
    "## Importing all the CSVs"
   ]
  },
  {
   "cell_type": "code",
   "execution_count": 3,
   "metadata": {},
   "outputs": [],
   "source": [
    "answers = pd.read_csv('./data/CareerVillage/answers.csv')\n",
    "comments = pd.read_csv('./data/CareerVillage/comments.csv')\n",
    "emails = pd.read_csv(\"./data/CareerVillage/emails.csv\")\n",
    "group_memberships = pd.read_csv('./data/CareerVillage/group_memberships.csv')\n",
    "groups = pd.read_csv('./data/CareerVillage/groups.csv')\n",
    "matches = pd.read_csv('./data/CareerVillage/matches.csv')\n",
    "professionals = pd.read_csv(\"./data/CareerVillage/professionals.csv\")\n",
    "questions = pd.read_csv('./data/CareerVillage/questions.csv')\n",
    "school_memberships = pd.read_csv('./data/CareerVillage/school_memberships.csv')\n",
    "students = pd.read_csv('./data/CareerVillage/students.csv')\n",
    "tag_questions = pd.read_csv(\"./data/CareerVillage/tag_questions.csv\")\n",
    "tag_users = pd.read_csv('./data/CareerVillage/tag_users.csv')\n",
    "tags = pd.read_csv('./data/CareerVillage/tags.csv')"
   ]
  },
  {
   "cell_type": "markdown",
   "metadata": {},
   "source": [
    "Okay that's set, now I map the relational db schema to speed up the import and the understanding of the whole space with this free [tool](https://dbdiagram.io/). using the head of all of the dataframes and the explanation given in the data [description](https://www.kaggle.com/c/data-science-for-good-careervillage/data)."
   ]
  },
  {
   "cell_type": "code",
   "execution_count": 4,
   "metadata": {},
   "outputs": [],
   "source": [
    "df_list = [answers,comments,emails,group_memberships,groups,matches,professionals,questions,school_memberships,students,tag_questions,tag_users,tags]"
   ]
  },
  {
   "cell_type": "code",
   "execution_count": 5,
   "metadata": {},
   "outputs": [
    {
     "data": {
      "text/plain": [
       "13"
      ]
     },
     "execution_count": 5,
     "metadata": {},
     "output_type": "execute_result"
    }
   ],
   "source": [
    "# sanity check there is 13 csv file.\n",
    "len(df_list)"
   ]
  },
  {
   "cell_type": "code",
   "execution_count": 6,
   "metadata": {},
   "outputs": [
    {
     "name": "stdout",
     "output_type": "stream",
     "text": [
      "Index(['answers_id', 'answers_author_id', 'answers_question_id',\n",
      "       'answers_date_added', 'answers_body'],\n",
      "      dtype='object')\n",
      "Index(['comments_id', 'comments_author_id', 'comments_parent_content_id',\n",
      "       'comments_date_added', 'comments_body'],\n",
      "      dtype='object')\n",
      "Index(['emails_id', 'emails_recipient_id', 'emails_date_sent',\n",
      "       'emails_frequency_level'],\n",
      "      dtype='object')\n",
      "Index(['group_memberships_group_id', 'group_memberships_user_id'], dtype='object')\n",
      "Index(['groups_id', 'groups_group_type'], dtype='object')\n",
      "Index(['matches_email_id', 'matches_question_id'], dtype='object')\n",
      "Index(['professionals_id', 'professionals_location', 'professionals_industry',\n",
      "       'professionals_headline', 'professionals_date_joined'],\n",
      "      dtype='object')\n",
      "Index(['questions_id', 'questions_author_id', 'questions_date_added',\n",
      "       'questions_title', 'questions_body'],\n",
      "      dtype='object')\n",
      "Index(['school_memberships_school_id', 'school_memberships_user_id'], dtype='object')\n",
      "Index(['students_id', 'students_location', 'students_date_joined'], dtype='object')\n",
      "Index(['tag_questions_tag_id', 'tag_questions_question_id'], dtype='object')\n",
      "Index(['tag_users_tag_id', 'tag_users_user_id'], dtype='object')\n",
      "Index(['tags_tag_id', 'tags_tag_name'], dtype='object')\n"
     ]
    }
   ],
   "source": [
    "for table in df_list:\n",
    "    print(table.columns)"
   ]
  },
  {
   "cell_type": "markdown",
   "metadata": {},
   "source": [
    "Based on previously mentioned sources and the printed one this can be produced. (I used Sublime3 for faster code production)"
   ]
  },
  {
   "cell_type": "code",
   "execution_count": 7,
   "metadata": {},
   "outputs": [
    {
     "data": {
      "text/html": [
       "<div>\n",
       "<style scoped>\n",
       "    .dataframe tbody tr th:only-of-type {\n",
       "        vertical-align: middle;\n",
       "    }\n",
       "\n",
       "    .dataframe tbody tr th {\n",
       "        vertical-align: top;\n",
       "    }\n",
       "\n",
       "    .dataframe thead th {\n",
       "        text-align: right;\n",
       "    }\n",
       "</style>\n",
       "<table border=\"1\" class=\"dataframe\">\n",
       "  <thead>\n",
       "    <tr style=\"text-align: right;\">\n",
       "      <th></th>\n",
       "      <th>answers_id</th>\n",
       "      <th>answers_author_id</th>\n",
       "      <th>answers_question_id</th>\n",
       "      <th>answers_date_added</th>\n",
       "      <th>answers_body</th>\n",
       "    </tr>\n",
       "  </thead>\n",
       "  <tbody>\n",
       "    <tr>\n",
       "      <th>0</th>\n",
       "      <td>4e5f01128cae4f6d8fd697cec5dca60c</td>\n",
       "      <td>36ff3b3666df400f956f8335cf53e09e</td>\n",
       "      <td>332a511f1569444485cf7a7a556a5e54</td>\n",
       "      <td>2016-04-29 19:40:14 UTC+0000</td>\n",
       "      <td>&lt;p&gt;Hi!&lt;/p&gt;\\n&lt;p&gt;You are asking a very interesti...</td>\n",
       "    </tr>\n",
       "  </tbody>\n",
       "</table>\n",
       "</div>"
      ],
      "text/plain": [
       "                         answers_id                 answers_author_id  \\\n",
       "0  4e5f01128cae4f6d8fd697cec5dca60c  36ff3b3666df400f956f8335cf53e09e   \n",
       "\n",
       "                answers_question_id            answers_date_added  \\\n",
       "0  332a511f1569444485cf7a7a556a5e54  2016-04-29 19:40:14 UTC+0000   \n",
       "\n",
       "                                        answers_body  \n",
       "0  <p>Hi!</p>\\n<p>You are asking a very interesti...  "
      ]
     },
     "execution_count": 7,
     "metadata": {},
     "output_type": "execute_result"
    }
   ],
   "source": [
    "answers.head(1)"
   ]
  },
  {
   "cell_type": "code",
   "execution_count": 8,
   "metadata": {},
   "outputs": [
    {
     "data": {
      "text/html": [
       "<div>\n",
       "<style scoped>\n",
       "    .dataframe tbody tr th:only-of-type {\n",
       "        vertical-align: middle;\n",
       "    }\n",
       "\n",
       "    .dataframe tbody tr th {\n",
       "        vertical-align: top;\n",
       "    }\n",
       "\n",
       "    .dataframe thead th {\n",
       "        text-align: right;\n",
       "    }\n",
       "</style>\n",
       "<table border=\"1\" class=\"dataframe\">\n",
       "  <thead>\n",
       "    <tr style=\"text-align: right;\">\n",
       "      <th></th>\n",
       "      <th>comments_id</th>\n",
       "      <th>comments_author_id</th>\n",
       "      <th>comments_parent_content_id</th>\n",
       "      <th>comments_date_added</th>\n",
       "      <th>comments_body</th>\n",
       "    </tr>\n",
       "  </thead>\n",
       "  <tbody>\n",
       "    <tr>\n",
       "      <th>0</th>\n",
       "      <td>f30250d3c2ca489db1afa9b95d481e08</td>\n",
       "      <td>9fc88a7c3323466dbb35798264c7d497</td>\n",
       "      <td>b476f9c6d9cd4c50a7bacdd90edd015a</td>\n",
       "      <td>2019-01-31 23:39:40 UTC+0000</td>\n",
       "      <td>First, you speak to recruiters. They are train...</td>\n",
       "    </tr>\n",
       "  </tbody>\n",
       "</table>\n",
       "</div>"
      ],
      "text/plain": [
       "                        comments_id                comments_author_id  \\\n",
       "0  f30250d3c2ca489db1afa9b95d481e08  9fc88a7c3323466dbb35798264c7d497   \n",
       "\n",
       "         comments_parent_content_id           comments_date_added  \\\n",
       "0  b476f9c6d9cd4c50a7bacdd90edd015a  2019-01-31 23:39:40 UTC+0000   \n",
       "\n",
       "                                       comments_body  \n",
       "0  First, you speak to recruiters. They are train...  "
      ]
     },
     "execution_count": 8,
     "metadata": {},
     "output_type": "execute_result"
    }
   ],
   "source": [
    "comments.head(1)"
   ]
  },
  {
   "cell_type": "code",
   "execution_count": 9,
   "metadata": {},
   "outputs": [
    {
     "data": {
      "text/html": [
       "<div>\n",
       "<style scoped>\n",
       "    .dataframe tbody tr th:only-of-type {\n",
       "        vertical-align: middle;\n",
       "    }\n",
       "\n",
       "    .dataframe tbody tr th {\n",
       "        vertical-align: top;\n",
       "    }\n",
       "\n",
       "    .dataframe thead th {\n",
       "        text-align: right;\n",
       "    }\n",
       "</style>\n",
       "<table border=\"1\" class=\"dataframe\">\n",
       "  <thead>\n",
       "    <tr style=\"text-align: right;\">\n",
       "      <th></th>\n",
       "      <th>emails_id</th>\n",
       "      <th>emails_recipient_id</th>\n",
       "      <th>emails_date_sent</th>\n",
       "      <th>emails_frequency_level</th>\n",
       "    </tr>\n",
       "  </thead>\n",
       "  <tbody>\n",
       "    <tr>\n",
       "      <th>0</th>\n",
       "      <td>2337714</td>\n",
       "      <td>0c673e046d824ec0ad0ebe012a0673e4</td>\n",
       "      <td>2018-12-07 01:05:40 UTC+0000</td>\n",
       "      <td>email_notification_daily</td>\n",
       "    </tr>\n",
       "  </tbody>\n",
       "</table>\n",
       "</div>"
      ],
      "text/plain": [
       "   emails_id               emails_recipient_id              emails_date_sent  \\\n",
       "0    2337714  0c673e046d824ec0ad0ebe012a0673e4  2018-12-07 01:05:40 UTC+0000   \n",
       "\n",
       "     emails_frequency_level  \n",
       "0  email_notification_daily  "
      ]
     },
     "execution_count": 9,
     "metadata": {},
     "output_type": "execute_result"
    }
   ],
   "source": [
    "emails.head(1) # to find out the type of the emails_frequency_level -> varchar"
   ]
  },
  {
   "cell_type": "code",
   "execution_count": 10,
   "metadata": {},
   "outputs": [
    {
     "data": {
      "text/html": [
       "<div>\n",
       "<style scoped>\n",
       "    .dataframe tbody tr th:only-of-type {\n",
       "        vertical-align: middle;\n",
       "    }\n",
       "\n",
       "    .dataframe tbody tr th {\n",
       "        vertical-align: top;\n",
       "    }\n",
       "\n",
       "    .dataframe thead th {\n",
       "        text-align: right;\n",
       "    }\n",
       "</style>\n",
       "<table border=\"1\" class=\"dataframe\">\n",
       "  <thead>\n",
       "    <tr style=\"text-align: right;\">\n",
       "      <th></th>\n",
       "      <th>group_memberships_group_id</th>\n",
       "      <th>group_memberships_user_id</th>\n",
       "    </tr>\n",
       "  </thead>\n",
       "  <tbody>\n",
       "    <tr>\n",
       "      <th>0</th>\n",
       "      <td>eabbdf4029734c848a9da20779637d03</td>\n",
       "      <td>9a5aead62c344207b2624dba90985dc5</td>\n",
       "    </tr>\n",
       "  </tbody>\n",
       "</table>\n",
       "</div>"
      ],
      "text/plain": [
       "         group_memberships_group_id         group_memberships_user_id\n",
       "0  eabbdf4029734c848a9da20779637d03  9a5aead62c344207b2624dba90985dc5"
      ]
     },
     "execution_count": 10,
     "metadata": {},
     "output_type": "execute_result"
    }
   ],
   "source": [
    "group_memberships.head(1)"
   ]
  },
  {
   "cell_type": "code",
   "execution_count": 11,
   "metadata": {},
   "outputs": [
    {
     "data": {
      "text/html": [
       "<div>\n",
       "<style scoped>\n",
       "    .dataframe tbody tr th:only-of-type {\n",
       "        vertical-align: middle;\n",
       "    }\n",
       "\n",
       "    .dataframe tbody tr th {\n",
       "        vertical-align: top;\n",
       "    }\n",
       "\n",
       "    .dataframe thead th {\n",
       "        text-align: right;\n",
       "    }\n",
       "</style>\n",
       "<table border=\"1\" class=\"dataframe\">\n",
       "  <thead>\n",
       "    <tr style=\"text-align: right;\">\n",
       "      <th></th>\n",
       "      <th>groups_id</th>\n",
       "      <th>groups_group_type</th>\n",
       "    </tr>\n",
       "  </thead>\n",
       "  <tbody>\n",
       "    <tr>\n",
       "      <th>0</th>\n",
       "      <td>eabbdf4029734c848a9da20779637d03</td>\n",
       "      <td>youth program</td>\n",
       "    </tr>\n",
       "  </tbody>\n",
       "</table>\n",
       "</div>"
      ],
      "text/plain": [
       "                          groups_id groups_group_type\n",
       "0  eabbdf4029734c848a9da20779637d03     youth program"
      ]
     },
     "execution_count": 11,
     "metadata": {},
     "output_type": "execute_result"
    }
   ],
   "source": [
    "groups.head(1) # to find out the type of the groups_group_type -> varchar"
   ]
  },
  {
   "cell_type": "code",
   "execution_count": 12,
   "metadata": {},
   "outputs": [
    {
     "data": {
      "text/html": [
       "<div>\n",
       "<style scoped>\n",
       "    .dataframe tbody tr th:only-of-type {\n",
       "        vertical-align: middle;\n",
       "    }\n",
       "\n",
       "    .dataframe tbody tr th {\n",
       "        vertical-align: top;\n",
       "    }\n",
       "\n",
       "    .dataframe thead th {\n",
       "        text-align: right;\n",
       "    }\n",
       "</style>\n",
       "<table border=\"1\" class=\"dataframe\">\n",
       "  <thead>\n",
       "    <tr style=\"text-align: right;\">\n",
       "      <th></th>\n",
       "      <th>matches_email_id</th>\n",
       "      <th>matches_question_id</th>\n",
       "    </tr>\n",
       "  </thead>\n",
       "  <tbody>\n",
       "    <tr>\n",
       "      <th>0</th>\n",
       "      <td>1721939</td>\n",
       "      <td>332a511f1569444485cf7a7a556a5e54</td>\n",
       "    </tr>\n",
       "  </tbody>\n",
       "</table>\n",
       "</div>"
      ],
      "text/plain": [
       "   matches_email_id               matches_question_id\n",
       "0           1721939  332a511f1569444485cf7a7a556a5e54"
      ]
     },
     "execution_count": 12,
     "metadata": {},
     "output_type": "execute_result"
    }
   ],
   "source": [
    "matches.head(1)"
   ]
  },
  {
   "cell_type": "code",
   "execution_count": 13,
   "metadata": {},
   "outputs": [
    {
     "data": {
      "text/html": [
       "<div>\n",
       "<style scoped>\n",
       "    .dataframe tbody tr th:only-of-type {\n",
       "        vertical-align: middle;\n",
       "    }\n",
       "\n",
       "    .dataframe tbody tr th {\n",
       "        vertical-align: top;\n",
       "    }\n",
       "\n",
       "    .dataframe thead th {\n",
       "        text-align: right;\n",
       "    }\n",
       "</style>\n",
       "<table border=\"1\" class=\"dataframe\">\n",
       "  <thead>\n",
       "    <tr style=\"text-align: right;\">\n",
       "      <th></th>\n",
       "      <th>professionals_id</th>\n",
       "      <th>professionals_location</th>\n",
       "      <th>professionals_industry</th>\n",
       "      <th>professionals_headline</th>\n",
       "      <th>professionals_date_joined</th>\n",
       "    </tr>\n",
       "  </thead>\n",
       "  <tbody>\n",
       "    <tr>\n",
       "      <th>15</th>\n",
       "      <td>68ecc66323b8418092fdd724aaf5be94</td>\n",
       "      <td>New York, New York</td>\n",
       "      <td>Special Events</td>\n",
       "      <td>Event Hospitality &amp; Operations Specialist</td>\n",
       "      <td>2011-12-26 05:00:00 UTC+0000</td>\n",
       "    </tr>\n",
       "  </tbody>\n",
       "</table>\n",
       "</div>"
      ],
      "text/plain": [
       "                    professionals_id professionals_location  \\\n",
       "15  68ecc66323b8418092fdd724aaf5be94     New York, New York   \n",
       "\n",
       "   professionals_industry                     professionals_headline  \\\n",
       "15         Special Events  Event Hospitality & Operations Specialist   \n",
       "\n",
       "       professionals_date_joined  \n",
       "15  2011-12-26 05:00:00 UTC+0000  "
      ]
     },
     "execution_count": 13,
     "metadata": {},
     "output_type": "execute_result"
    }
   ],
   "source": [
    "professionals.dropna().head(1) # to find out the type of the cols and ignore the nan's -> varchar*3"
   ]
  },
  {
   "cell_type": "code",
   "execution_count": 14,
   "metadata": {},
   "outputs": [
    {
     "data": {
      "text/html": [
       "<div>\n",
       "<style scoped>\n",
       "    .dataframe tbody tr th:only-of-type {\n",
       "        vertical-align: middle;\n",
       "    }\n",
       "\n",
       "    .dataframe tbody tr th {\n",
       "        vertical-align: top;\n",
       "    }\n",
       "\n",
       "    .dataframe thead th {\n",
       "        text-align: right;\n",
       "    }\n",
       "</style>\n",
       "<table border=\"1\" class=\"dataframe\">\n",
       "  <thead>\n",
       "    <tr style=\"text-align: right;\">\n",
       "      <th></th>\n",
       "      <th>questions_id</th>\n",
       "      <th>questions_author_id</th>\n",
       "      <th>questions_date_added</th>\n",
       "      <th>questions_title</th>\n",
       "      <th>questions_body</th>\n",
       "    </tr>\n",
       "  </thead>\n",
       "  <tbody>\n",
       "    <tr>\n",
       "      <th>0</th>\n",
       "      <td>332a511f1569444485cf7a7a556a5e54</td>\n",
       "      <td>8f6f374ffd834d258ab69d376dd998f5</td>\n",
       "      <td>2016-04-26 11:14:26 UTC+0000</td>\n",
       "      <td>Teacher   career   question</td>\n",
       "      <td>What  is  a  maths  teacher?   what  is  a  ma...</td>\n",
       "    </tr>\n",
       "  </tbody>\n",
       "</table>\n",
       "</div>"
      ],
      "text/plain": [
       "                       questions_id               questions_author_id  \\\n",
       "0  332a511f1569444485cf7a7a556a5e54  8f6f374ffd834d258ab69d376dd998f5   \n",
       "\n",
       "           questions_date_added              questions_title  \\\n",
       "0  2016-04-26 11:14:26 UTC+0000  Teacher   career   question   \n",
       "\n",
       "                                      questions_body  \n",
       "0  What  is  a  maths  teacher?   what  is  a  ma...  "
      ]
     },
     "execution_count": 14,
     "metadata": {},
     "output_type": "execute_result"
    }
   ],
   "source": [
    "questions.head(1)"
   ]
  },
  {
   "cell_type": "code",
   "execution_count": 15,
   "metadata": {},
   "outputs": [
    {
     "data": {
      "text/html": [
       "<div>\n",
       "<style scoped>\n",
       "    .dataframe tbody tr th:only-of-type {\n",
       "        vertical-align: middle;\n",
       "    }\n",
       "\n",
       "    .dataframe tbody tr th {\n",
       "        vertical-align: top;\n",
       "    }\n",
       "\n",
       "    .dataframe thead th {\n",
       "        text-align: right;\n",
       "    }\n",
       "</style>\n",
       "<table border=\"1\" class=\"dataframe\">\n",
       "  <thead>\n",
       "    <tr style=\"text-align: right;\">\n",
       "      <th></th>\n",
       "      <th>school_memberships_school_id</th>\n",
       "      <th>school_memberships_user_id</th>\n",
       "    </tr>\n",
       "  </thead>\n",
       "  <tbody>\n",
       "    <tr>\n",
       "      <th>0</th>\n",
       "      <td>197406</td>\n",
       "      <td>23dce13ca6164a73aec7a3cd56a4884d</td>\n",
       "    </tr>\n",
       "  </tbody>\n",
       "</table>\n",
       "</div>"
      ],
      "text/plain": [
       "   school_memberships_school_id        school_memberships_user_id\n",
       "0                        197406  23dce13ca6164a73aec7a3cd56a4884d"
      ]
     },
     "execution_count": 15,
     "metadata": {},
     "output_type": "execute_result"
    }
   ],
   "source": [
    "school_memberships.head(1)"
   ]
  },
  {
   "cell_type": "code",
   "execution_count": 16,
   "metadata": {},
   "outputs": [
    {
     "data": {
      "text/html": [
       "<div>\n",
       "<style scoped>\n",
       "    .dataframe tbody tr th:only-of-type {\n",
       "        vertical-align: middle;\n",
       "    }\n",
       "\n",
       "    .dataframe tbody tr th {\n",
       "        vertical-align: top;\n",
       "    }\n",
       "\n",
       "    .dataframe thead th {\n",
       "        text-align: right;\n",
       "    }\n",
       "</style>\n",
       "<table border=\"1\" class=\"dataframe\">\n",
       "  <thead>\n",
       "    <tr style=\"text-align: right;\">\n",
       "      <th></th>\n",
       "      <th>students_id</th>\n",
       "      <th>students_location</th>\n",
       "      <th>students_date_joined</th>\n",
       "    </tr>\n",
       "  </thead>\n",
       "  <tbody>\n",
       "    <tr>\n",
       "      <th>59</th>\n",
       "      <td>9658267bc2564a85bad1e802de5fb597</td>\n",
       "      <td>Wayne, Pennsylvania</td>\n",
       "      <td>2012-01-01 05:00:00 UTC+0000</td>\n",
       "    </tr>\n",
       "  </tbody>\n",
       "</table>\n",
       "</div>"
      ],
      "text/plain": [
       "                         students_id    students_location  \\\n",
       "59  9658267bc2564a85bad1e802de5fb597  Wayne, Pennsylvania   \n",
       "\n",
       "            students_date_joined  \n",
       "59  2012-01-01 05:00:00 UTC+0000  "
      ]
     },
     "execution_count": 16,
     "metadata": {},
     "output_type": "execute_result"
    }
   ],
   "source": [
    "students.dropna().head(1)"
   ]
  },
  {
   "cell_type": "code",
   "execution_count": 17,
   "metadata": {},
   "outputs": [
    {
     "data": {
      "text/html": [
       "<div>\n",
       "<style scoped>\n",
       "    .dataframe tbody tr th:only-of-type {\n",
       "        vertical-align: middle;\n",
       "    }\n",
       "\n",
       "    .dataframe tbody tr th {\n",
       "        vertical-align: top;\n",
       "    }\n",
       "\n",
       "    .dataframe thead th {\n",
       "        text-align: right;\n",
       "    }\n",
       "</style>\n",
       "<table border=\"1\" class=\"dataframe\">\n",
       "  <thead>\n",
       "    <tr style=\"text-align: right;\">\n",
       "      <th></th>\n",
       "      <th>tag_questions_tag_id</th>\n",
       "      <th>tag_questions_question_id</th>\n",
       "    </tr>\n",
       "  </thead>\n",
       "  <tbody>\n",
       "    <tr>\n",
       "      <th>0</th>\n",
       "      <td>28930</td>\n",
       "      <td>cb43ebee01364c68ac61d347a393ae39</td>\n",
       "    </tr>\n",
       "  </tbody>\n",
       "</table>\n",
       "</div>"
      ],
      "text/plain": [
       "   tag_questions_tag_id         tag_questions_question_id\n",
       "0                 28930  cb43ebee01364c68ac61d347a393ae39"
      ]
     },
     "execution_count": 17,
     "metadata": {},
     "output_type": "execute_result"
    }
   ],
   "source": [
    "tag_questions.head(1)"
   ]
  },
  {
   "cell_type": "code",
   "execution_count": 18,
   "metadata": {},
   "outputs": [
    {
     "data": {
      "text/html": [
       "<div>\n",
       "<style scoped>\n",
       "    .dataframe tbody tr th:only-of-type {\n",
       "        vertical-align: middle;\n",
       "    }\n",
       "\n",
       "    .dataframe tbody tr th {\n",
       "        vertical-align: top;\n",
       "    }\n",
       "\n",
       "    .dataframe thead th {\n",
       "        text-align: right;\n",
       "    }\n",
       "</style>\n",
       "<table border=\"1\" class=\"dataframe\">\n",
       "  <thead>\n",
       "    <tr style=\"text-align: right;\">\n",
       "      <th></th>\n",
       "      <th>tag_users_tag_id</th>\n",
       "      <th>tag_users_user_id</th>\n",
       "    </tr>\n",
       "  </thead>\n",
       "  <tbody>\n",
       "    <tr>\n",
       "      <th>0</th>\n",
       "      <td>593</td>\n",
       "      <td>c72ab38e073246e88da7e9a4ec7a4472</td>\n",
       "    </tr>\n",
       "  </tbody>\n",
       "</table>\n",
       "</div>"
      ],
      "text/plain": [
       "   tag_users_tag_id                 tag_users_user_id\n",
       "0               593  c72ab38e073246e88da7e9a4ec7a4472"
      ]
     },
     "execution_count": 18,
     "metadata": {},
     "output_type": "execute_result"
    }
   ],
   "source": [
    "tag_users.head(1)"
   ]
  },
  {
   "cell_type": "code",
   "execution_count": 19,
   "metadata": {},
   "outputs": [
    {
     "data": {
      "text/html": [
       "<div>\n",
       "<style scoped>\n",
       "    .dataframe tbody tr th:only-of-type {\n",
       "        vertical-align: middle;\n",
       "    }\n",
       "\n",
       "    .dataframe tbody tr th {\n",
       "        vertical-align: top;\n",
       "    }\n",
       "\n",
       "    .dataframe thead th {\n",
       "        text-align: right;\n",
       "    }\n",
       "</style>\n",
       "<table border=\"1\" class=\"dataframe\">\n",
       "  <thead>\n",
       "    <tr style=\"text-align: right;\">\n",
       "      <th></th>\n",
       "      <th>tags_tag_id</th>\n",
       "      <th>tags_tag_name</th>\n",
       "    </tr>\n",
       "  </thead>\n",
       "  <tbody>\n",
       "    <tr>\n",
       "      <th>0</th>\n",
       "      <td>27490</td>\n",
       "      <td>college</td>\n",
       "    </tr>\n",
       "  </tbody>\n",
       "</table>\n",
       "</div>"
      ],
      "text/plain": [
       "   tags_tag_id tags_tag_name\n",
       "0        27490       college"
      ]
     },
     "execution_count": 19,
     "metadata": {},
     "output_type": "execute_result"
    }
   ],
   "source": [
    "tags.head(1)"
   ]
  },
  {
   "cell_type": "code",
   "execution_count": 20,
   "metadata": {},
   "outputs": [
    {
     "data": {
      "text/html": [
       "<div>\n",
       "<style scoped>\n",
       "    .dataframe tbody tr th:only-of-type {\n",
       "        vertical-align: middle;\n",
       "    }\n",
       "\n",
       "    .dataframe tbody tr th {\n",
       "        vertical-align: top;\n",
       "    }\n",
       "\n",
       "    .dataframe thead th {\n",
       "        text-align: right;\n",
       "    }\n",
       "</style>\n",
       "<table border=\"1\" class=\"dataframe\">\n",
       "  <thead>\n",
       "    <tr style=\"text-align: right;\">\n",
       "      <th></th>\n",
       "      <th>matches_email_id</th>\n",
       "      <th>matches_question_id</th>\n",
       "    </tr>\n",
       "  </thead>\n",
       "  <tbody>\n",
       "    <tr>\n",
       "      <th>0</th>\n",
       "      <td>1721939</td>\n",
       "      <td>332a511f1569444485cf7a7a556a5e54</td>\n",
       "    </tr>\n",
       "  </tbody>\n",
       "</table>\n",
       "</div>"
      ],
      "text/plain": [
       "   matches_email_id               matches_question_id\n",
       "0           1721939  332a511f1569444485cf7a7a556a5e54"
      ]
     },
     "execution_count": 20,
     "metadata": {},
     "output_type": "execute_result"
    }
   ],
   "source": [
    "matches.head(1)"
   ]
  },
  {
   "cell_type": "markdown",
   "metadata": {},
   "source": [
    "<a id=\"RDBS_schema\"></a>\n",
    "## RDBS schema\n",
    "So we have [this](https://dbdiagram.io/d/5ff3c48580d742080a35083c) the full map of the db schema and the relationships separately. This is important we use the relationships as first class citizen of a graph database, so we can look for patterns and travelsals and not just for tags.\n",
    "\n",
    "<img src=\"images/rdbs_table_schema.png\">\n",
    "https://dbdiagram.io/d/5ff3c48580d742080a35083c\n",
    "\n",
    "Before we begin the import based on the Northwind example into Neo4j I'am going to collect the nodes, properties relations ships and labels. (Disclaimer: I will not going to handle the changers between professional and student, however easy it is to give two labels to a node and extra properties, because it it not needed for recommendation) Note: it is not necessary to store the ID-s the database can generate it automatically, however it is useful for the full picture and for the matching in the beginning.\n",
    "\n",
    "**Nodes** (with labels and properties):\n",
    "- Student\n",
    "    - students_id char PK\n",
    "    - students_location varchar\n",
    "    - students_date_joined date\n",
    "- Question\n",
    "    - questions_id char PK\n",
    "    - questions_author_id char\n",
    "    - questions_date_added date\n",
    "    - questions_title varchar\n",
    "    - questions_body text\n",
    "- Professional\n",
    "    - professionals_id char PK\n",
    "    - professionals_location varchar\n",
    "    - professionals_industry varchar\n",
    "    - professionals_headline varchar\n",
    "    - professionals_date_joined date\n",
    "- Answer\n",
    "    - answers_id char PK\n",
    "    - answers_author_id char\n",
    "    - answers_question_id char\n",
    "    - answers_date_added date\n",
    "    - answers_body text\n",
    "- Comment\n",
    "    - comments_id char PK\n",
    "    - comments_author_id char\n",
    "    - comments_parent_content_id char\n",
    "    - comments_date_added date\n",
    "    - comments_body text\n",
    "- Email\n",
    "    - emails_id int PK\n",
    "    - emails_recipient_id char\n",
    "    - emails_date_sent date\n",
    "    - emails_frequency_level varchar\n",
    "- Group\n",
    "    - groups_id char PK\n",
    "    - groups_group_type varchar\n",
    "- Tag\n",
    "    - tags_tag_id int PK\n",
    "    - tags_tag_name varchar\n",
    "- School\n",
    "    - school_memberships_school_id int"
   ]
  },
  {
   "cell_type": "markdown",
   "metadata": {},
   "source": [
    "**Relationships**: (with **label** and properties) Note: One relationship could have just one label\n",
    "- MEMBER_IN based on the\n",
    "    - Table group_memberships tabel { group_memberships_group_id char, group_memberships_user_id char }\n",
    "        - Ref: \"groups\".\"groups_id\" < \"group_memberships\".\"group_memberships_group_id\"\n",
    "        - Ref: \"students\".\"students_id\" < \"group_memberships\".\"group_memberships_user_id\"\n",
    "        - Ref: \"professionals\".\"professionals_id\" < \"group_memberships\".\"group_memberships_user_id\"\n",
    "    - Table school_memberships { school_memberships_school_id int, school_memberships_user_id char }\n",
    "        - Ref: \"professionals\".\"professionals_id\" < \"school_memberships\".\"school_memberships_user_id\"\n",
    "        - Ref: \"students\".\"students_id\" < \"school_memberships\".\"school_memberships_user_id\"\n",
    "- IS_IN based on the\n",
    "    - Table matches { matches_email_id int, matches_question_id char }\n",
    "        - Ref: \"emails\".\"emails_id\" < \"matches\".\"matches_email_id\"\n",
    "        - Ref: \"questions\".\"questions_id\" < \"matches\".\"matches_question_id\"\n",
    "- HAS_TAG based on the\n",
    "    - Table tag_questions { tag_questions_tag_id int, tag_questions_question_id char }\n",
    "        - Ref: \"tags\".\"tags_tag_id\" < \"tag_questions\".\"tag_questions_tag_id\"\n",
    "        - Ref: \"questions\".\"questions_id\" < \"tag_questions\".\"tag_questions_question_id\"\n",
    "    - Table tag_users { tag_users_tag_id int, tag_users_user_id char }\n",
    "        - Ref: \"tags\".\"tags_tag_id\" < \"tag_users\".\"tag_users_tag_id\"\n",
    "        - Ref: \"professionals\".\"professionals_id\" < \"tag_users\".\"tag_users_user_id\"\n",
    "        - Ref: \"students\".\"students_id\" < \"tag_users\".\"tag_users_user_id\"\n",
    "- AUTHOR_OF based on the\n",
    "    - Ref: \"students\".\"students_id\" < \"questions\".\"questions_author_id\"\n",
    "    - Ref: \"professionals\".\"professionals_id\" < \"answers\".\"answers_author_id\"\n",
    "    - Ref: \"professionals\".\"professionals_id\" < \"comments\".\"comments_author_id\"\n",
    "    - Ref: \"students\".\"students_id\" < \"comments\".\"comments_author_id\"\n",
    "- IS_REPLY_TO based on the\n",
    "    - Ref: \"questions\".\"questions_id\" < \"answers\".\"answers_question_id\"\n",
    "    - Ref: \"questions\".\"questions_id\" < \"comments\".\"comments_parent_content_id\"\n",
    "    - Ref: \"answers\".\"answers_id\" < \"comments\".\"comments_parent_content_id\"\n",
    "- GOT_EMAIL based on the\n",
    "    - Ref: \"professionals\".\"professionals_id\" < \"emails\".\"emails_recipient_id\"\n",
    "    - Ref: \"students\".\"students_id\" < \"emails\".\"emails_recipient_id\"\n",
    "\n",
    "The graph database space is addtive so we can easily make a new node type from professional location or from any desired and usefull property, moreover we can make new connection based on insights, or reduce the tags as labels"
   ]
  },
  {
   "cell_type": "markdown",
   "metadata": {},
   "source": [
    "## Insert nodes query into the console\n",
    "```\n",
    "create (student:Student {students_id:\"StudentJerry\"}),(question:Question {questions_id:\"Why?\"}),(professional:Professional {professionals_id:\"Mr. CEO\"}),(answer:Answer {answers_id:\"Keep delivering!\"}),(comment:Comment {comments_id:\"Thank you!\"}),(email:Email {emails_id:\"You got a question!\"}), (group:Group {groups_id:\"Awesome Group\"}),(tag:Tag {tags_tag_id:\"Future Saver\"}),(school:School {schools_id:\"Oxford\"}), (student)-[:MEMBER_IN]->(group), (professional)-[:MEMBER_IN]->(group), (student)-[:MEMBER_IN]->(school),(professional)-[:MEMBER_IN]->(school),(student)-[:HAS_TAG]->(tag), (professional)-[:HAS_TAG]->(tag), (question)-[:HAS_TAG]->(tag), (student)-[:AUTHOR_OF]->(question), (student)-[:AUTHOR_OF]->(comment), (professional)-[:AUTHOR_OF]->(comment),(professional)-[:AUTHOR_OF]->(answer),(answer)-[:IS_REPLY_TO]->(question),(comment)-[:IS_REPLY_TO]->(question), (comment)-[:IS_REPLY_TO]->(answer), (professional)-[:GOT_EMAIL]->(email),(student)-[:GOT_EMAIL]->(email), (question)-[:QUESTION_IS_IN_EMAIL]->(email)\n",
    "```\n",
    "\n",
    "Then you will see the basic schema of the db, where any nodes can have any type of connections."
   ]
  },
  {
   "cell_type": "markdown",
   "metadata": {},
   "source": [
    "If you want to be more professional import the upper Cypher query from the upper cell to a Neo4j instance, then call:\n",
    "\n",
    "call db.schema()\n",
    "\n",
    "You have to allow [APOC, Awesome Procedures on Cypher](https://neo4j.com/developer/neo4j-apoc/) to do this.\n",
    "\n",
    "After a few visualisation trick you can see the following schema:"
   ]
  },
  {
   "cell_type": "code",
   "execution_count": 21,
   "metadata": {},
   "outputs": [
    {
     "data": {
      "image/png": "[encoded data removed]",
      "text/plain": [
       "<IPython.core.display.Image object>"
      ]
     },
     "execution_count": 21,
     "metadata": {},
     "output_type": "execute_result"
    }
   ],
   "source": [
    "from IPython.display import Image\n",
    "Image(filename=\"./images/graph_schema_kaggle.png\")"
   ]
  },
  {
   "cell_type": "markdown",
   "metadata": {},
   "source": [
    "Note1: COMPARE TO THIS [SQL SCHEMA](https://dbdiagram.io/d/5ff3c48580d742080a35083c)\n",
    "\n",
    "Note2: As you can see there is a self loop in the schema but I could not figure out why, if you do please tell me.\n",
    "\n",
    "Now we finally begin to import the CSVs to the Neo4j graph database. The previous section was just for the understanding of the process, thins are speeding up from here."
   ]
  },
  {
   "cell_type": "markdown",
   "metadata": {},
   "source": [
    "### Install APOC\n",
    "\n",
    "<img src=\"images/neo4j_install_apoc.png\">"
   ]
  },
  {
   "cell_type": "markdown",
   "metadata": {},
   "source": [
    "For the load and for other fun things locate the neo4j.conf file on you computer, and change the line of:\n",
    "\n",
    "```\n",
    "dbms.security.procedures.whitelist=\n",
    "dbms.security.procedures.allowlist=\n",
    "```\n",
    "\n",
    "to this:\n",
    "\n",
    "```\n",
    "dbms.security.procedures.allowlist=apoc.*,gds.*\n",
    "```\n",
    "\n",
    "and change the:\n",
    "\n",
    "```\n",
    "dbms.directories.import=import\n",
    "```\n",
    "\n",
    "to this:\n",
    "```\n",
    "dbms.directories.import=import\n",
    "```\n",
    "\n",
    "moreover change this:\n",
    "\n",
    "```\n",
    "dbms.security.procedures.unrestricted=my.extensions.example,my.procedures.*\n",
    "```\n",
    "\n",
    "to this:\n",
    "\n",
    "```\n",
    "dbms.security.procedures.unrestricted=apoc.*\n",
    "```"
   ]
  },
  {
   "cell_type": "markdown",
   "metadata": {},
   "source": [
    "### Copy csv to import folder\n",
    "\n",
    "<img src=\"images/copy_CareerVillage_csv_to_import.png\">"
   ]
  },
  {
   "cell_type": "markdown",
   "metadata": {},
   "source": [
    "<a id=\"import_nodes\"></a>\n",
    "### Import the NODES, nodes' labels, and properties first: students\n",
    "\n",
    "- students\n",
    "```\n",
    ":auto USING PERIODIC COMMIT 10000\n",
    "LOAD CSV WITH HEADERS FROM \"file:///students.csv\" AS row CREATE (student:Student) SET student._id = row.students_id, student.location = row.students_location, student.join_date = date(LEFT(row.students_date_joined,10)), student.join_date_text = row.students_date_joined\n",
    "```\n",
    "\n",
    "- questions\n",
    "```\n",
    ":auto USING PERIODIC COMMIT 10000\n",
    "LOAD CSV WITH HEADERS FROM \"file:///questions.csv\" AS row CREATE (question:Question) SET question._id = row.questions_id, question.author_id = row.questions_author_id, question.date_added = date(LEFT(row.questions_date_added,10)), question.date_added_text = row.questions_date_added, question.title = row.questions_title, question.body = row.questions_body\n",
    "```\n",
    "\n",
    "- professionals\n",
    "```\n",
    ":auto USING PERIODIC COMMIT 10000\n",
    "LOAD CSV WITH HEADERS FROM \"file:///professionals.csv\" AS row CREATE (professional:Professional) SET professional._id = row.professionals_id, professional.location = row.professionals_location, professional.industry = row.professionals_industry, professional.headline = row.professionals_headline, professional.date_joined = date(LEFT(row.professionals_date_joined,10)), professional.date_joined_text = row.professionals_date_joined\n",
    "```\n",
    "\n",
    "- asnwers\n",
    "```\n",
    ":auto USING PERIODIC COMMIT 10000\n",
    "LOAD CSV WITH HEADERS FROM \"file:///answers.csv\" AS row CREATE (answer:Answer) SET answer._id = row.answers_id, answer.author_id = row.answers_author_id, answer.question_id = row.answers_question_id, answer.date_added = date(LEFT(row.answers_date_added,10)), answer.date_added_text = row.answers_date_added, answer.body = row.answers_body\n",
    "```\n",
    "\n",
    "- comments\n",
    "```\n",
    ":auto USING PERIODIC COMMIT 10000\n",
    "LOAD CSV WITH HEADERS FROM \"file:///comments.csv\" AS row CREATE (comment:Comment) SET comment._id = row.comments_id, comment.author_id = row.comments_author_id, comment.parent_content_id = row.comments_parent_content_id, comment.date_added = date(LEFT(row.comments_date_added,10)), comment.date_added_text = row.comments_date_added, comment.body = row.comments_body\n",
    "```\n",
    "\n",
    "- emails\n",
    "```\n",
    ":auto USING PERIODIC COMMIT 10000\n",
    "LOAD CSV WITH HEADERS FROM \"file:///emails.csv\" AS row CREATE (email:Email) SET email._id = toInteger(row.emails_id), email.recipient_id = row.emails_recipient_id, email.date_sent = date(LEFT(row.emails_date_sent,10)), email.date_sent_text = row.emails_date_sent, email.frequency_level = row.emails_frequency_level\n",
    "```\n",
    "\n",
    "- groups\n",
    "```\n",
    ":auto USING PERIODIC COMMIT 10000\n",
    "LOAD CSV WITH HEADERS FROM \"file:///groups.csv\" AS row CREATE (group:Group) SET group._id = row.groups_id, group.type = row.groups_group_type\n",
    "```\n",
    "\n",
    "- tags\n",
    "```\n",
    ":auto USING PERIODIC COMMIT 10000\n",
    "LOAD CSV WITH HEADERS FROM \"file:///tags.csv\" AS row CREATE (tag:Tag) SET tag._id = toInteger(row.tags_tag_id), tag.name = row.tags_tag_name\n",
    "```\n",
    "\n",
    "- schools\n",
    "```\n",
    ":auto USING PERIODIC COMMIT 10000\n",
    "LOAD CSV WITH HEADERS FROM \"file:///school_memberships.csv\" AS row CREATE (school:School) SET school._id = toInteger(row.school_memberships_school_id)\n",
    "```\n",
    "\n",
    "Great! You just imported all the student nodes to the database!"
   ]
  },
  {
   "cell_type": "markdown",
   "metadata": {},
   "source": [
    "### Create indexes for faster maching\n",
    "```\n",
    "CREATE INDEX ON :School(_id)\n",
    "CREATE INDEX ON :Student(_id)\n",
    "CREATE INDEX ON :Question(_id)\n",
    "CREATE INDEX ON :Question(author_id)\n",
    "CREATE INDEX ON :Professional(_id)\n",
    "CREATE INDEX ON :Answer(_id)\n",
    "CREATE INDEX ON :Answer(author_id)\n",
    "CREATE INDEX ON :Answer(question_id)\n",
    "CREATE INDEX ON :Comment(_id)\n",
    "CREATE INDEX ON :Comment(author_id)\n",
    "CREATE INDEX ON :Comment(parent_content_id)\n",
    "CREATE INDEX ON :Email(_id)\n",
    "CREATE INDEX ON :Email(recipient_id)\n",
    "CREATE INDEX ON :Group(_id)\n",
    "CREATE INDEX ON :Tag(_id)\n",
    "CREATE INDEX ON :School(member_id)\n",
    "```\n",
    "\n",
    "### We imported the schools from a connecting table so we are getting rid of the duplications:\n",
    "```\n",
    "MATCH (n:School) RETURN count(n)\n",
    "MATCH (n:School) WITH n._id AS _id, COLLECT(n) AS nodelist, COUNT(n) AS count WHERE count > 1 return Count(nodelist)\n",
    "\n",
    "MATCH (n:School) WITH n._id AS _id, COLLECT(n) AS nodelist, COUNT(n) AS count WHERE count > 1 CALL apoc.refactor.mergeNodes(nodelist) YIELD node RETURN node\n",
    "\n",
    "MATCH (n:School) WITH n._id AS _id, COLLECT(n) AS nodelist, COUNT(*) AS count WHERE count > 1 return Count(nodelist)\n",
    "MATCH (n:School) RETURN count(n)\n",
    "```"
   ]
  },
  {
   "cell_type": "markdown",
   "metadata": {},
   "source": [
    "<a id=\"import_relationships\"></a>\n",
    "### Import Relationships\n",
    "The fun part the EDGES and edges' labels, (no properties here) (or relationships)\n",
    "\n",
    "#### (student)-[:MEMBER_IN]->(group)\n",
    "```\n",
    ":auto USING PERIODIC COMMIT 10000\n",
    "LOAD CSV WITH HEADERS FROM \"file:///group_memberships.csv\" AS row MATCH (student:Student {_id: row.group_memberships_user_id}) MATCH (group:Group {_id: row.group_memberships_group_id}) MERGE (student)-[:MEMBER_IN]->(group)\n",
    "```\n",
    "\n",
    "#### (student)-[:MEMBER_IN]->(school)\n",
    "```\n",
    ":auto USING PERIODIC COMMIT 10000\n",
    "LOAD CSV WITH HEADERS FROM \"file:///school_memberships.csv\" AS row MATCH (student:Student {_id: row.school_memberships_user_id}) MATCH (school:School {_id: toInteger(row.school_memberships_school_id)}) MERGE (student)-[:MEMBER_IN]->(school)\n",
    "```\n",
    "\n",
    "#### (professional)-[:MEMBER_IN]->(group)*\n",
    "```\n",
    ":auto USING PERIODIC COMMIT 10000\n",
    "LOAD CSV WITH HEADERS FROM \"file:///group_memberships.csv\" AS row MATCH (professional:Professional {_id: row.group_memberships_user_id}) MATCH (group:Group {_id: row.group_memberships_group_id}) MERGE (professional)-[:MEMBER_IN]->(group)\n",
    "```\n",
    "\n",
    "#### (professional)-[:MEMBER_IN]->(school)\n",
    "```\n",
    ":auto USING PERIODIC COMMIT 10000\n",
    "LOAD CSV WITH HEADERS FROM \"file:///school_memberships.csv\" AS row MATCH (professional:Professional {_id: row.school_memberships_user_id}) MATCH (school:School {_id: toInteger(row.school_memberships_school_id)}) MERGE (professional)-[:MEMBER_IN]->(school)\n",
    "```\n",
    "\n",
    "#### (student)-[:HAS_TAG]->(tag)\n",
    "```\n",
    ":auto USING PERIODIC COMMIT 10000\n",
    "LOAD CSV WITH HEADERS FROM \"file:///tag_users.csv\" AS row MATCH (student:Student {_id: row.tag_users_user_id}) MATCH (tag:Tag {_id: toInteger(row.tag_users_tag_id)}) MERGE (student)-[:HAS_TAG]->(tag)\n",
    "```\n",
    "\n",
    "#### (professional)-[:HAS_TAG]->(tag)\n",
    "```\n",
    ":auto USING PERIODIC COMMIT 10000\n",
    "LOAD CSV WITH HEADERS FROM \"file:///tag_users.csv\" AS row MATCH (professional:Professional {_id: row.tag_users_user_id}) MATCH (tag:Tag {_id: toInteger(row.tag_users_tag_id)}) MERGE (professional)-[:HAS_TAG]->(tag)\n",
    "```\n",
    "\n",
    "#### (question)-[:HAS_TAG]->(tag)\n",
    "```\n",
    ":auto USING PERIODIC COMMIT 10000\n",
    "LOAD CSV WITH HEADERS FROM \"file:///tag_questions.csv\" AS row MATCH (question:Question {_id: row.tag_questions_question_id}) MATCH (tag:Tag {_id: toInteger(row.tag_questions_tag_id)}) MERGE (question)-[:HAS_TAG]->(tag)\n",
    "```\n",
    "\n",
    "#### (student)-[:AUTHOR_OF]->(question)\n",
    "```\n",
    ":auto USING PERIODIC COMMIT 10000\n",
    "LOAD CSV WITH HEADERS FROM \"file:///questions.csv\" AS row MATCH (question:Question {_id: row.questions_id}) MATCH (student:Student {_id: row.questions_author_id}) MERGE (student)-[:AUTHOR_OF]->(question)\n",
    "```\n",
    "\n",
    "#### (student)-[:AUTHOR_OF]->(comment)\n",
    "```\n",
    ":auto USING PERIODIC COMMIT 10000\n",
    "LOAD CSV WITH HEADERS FROM \"file:///comments.csv\" AS row MATCH (comment:Comment {_id: row.comments_id}) MATCH (student:Student {_id: row.comments_author_id}) MERGE (student)-[:AUTHOR_OF]->(comment)\n",
    "```\n",
    "\n",
    "#### (professional)-[:AUTHOR_OF]->(comment)\n",
    "```\n",
    ":auto USING PERIODIC COMMIT 10000\n",
    "LOAD CSV WITH HEADERS FROM \"file:///comments.csv\" AS row MATCH (comment:Comment {_id: row.comments_id}) MATCH (professional:Professional {_id: row.comments_author_id}) MERGE (professional)-[:AUTHOR_OF]->(comment)\n",
    "```\n",
    "\n",
    "#### (professional)-[:AUTHOR_OF]->(answer)\n",
    "```\n",
    ":auto USING PERIODIC COMMIT 10000\n",
    "LOAD CSV WITH HEADERS FROM \"file:///answers.csv\" AS row MATCH (answer:Answer {_id: row.answers_id}) MATCH (professional:Professional {_id: row.answers_author_id}) MERGE (professional)-[:AUTHOR_OF]->(answer)\n",
    "```\n",
    "\n",
    "#### (answer)-[:IS_REPLY_TO]->(question)\n",
    "```\n",
    ":auto USING PERIODIC COMMIT 10000\n",
    "LOAD CSV WITH HEADERS FROM \"file:///answers.csv\" AS row MATCH (answer:Answer {_id: row.answers_id}) MATCH (question:Question {_id: row.answers_question_id}) MERGE (answer)-[:IS_REPLY_TO]->(question)\n",
    "```\n",
    "\n",
    "#### (comment)-[:IS_REPLY_TO]->(question)\n",
    "```\n",
    ":auto USING PERIODIC COMMIT 10000\n",
    "LOAD CSV WITH HEADERS FROM \"file:///comments.csv\" AS row MATCH (comment:Comment {_id: row.comments_id}) MATCH (question:Question {_id: row.comments_parent_content_id}) MERGE (comment)-[:IS_REPLY_TO]->(question)\n",
    "```\n",
    "\n",
    "#### (comment)-[:IS_REPLY_TO]->(answer)\n",
    "```\n",
    ":auto USING PERIODIC COMMIT 10000\n",
    "LOAD CSV WITH HEADERS FROM \"file:///comments.csv\" AS row MATCH (comment:Comment {_id: row.comments_id}) MATCH (answer:Answer {_id: row.comments_parent_content_id}) MERGE (comment)-[:IS_REPLY_TO]->(answer)\n",
    "```\n",
    "\n",
    "#### (question)-[:QUESTION_IS_IN_EMAIL]->(email)\n",
    "It's different iterative approach had taken, due to the high volume of edges and limited resources Importing the matches as nodes.\n",
    "```\n",
    ":auto USING PERIODIC COMMIT 10000\n",
    "LOAD CSV WITH HEADERS FROM \"file:///matches.csv\" AS row CREATE (matches:Matches) SET matches.email_id = toInteger(row.matches_email_id), matches.question_id = row.matches_question_id\n",
    "```"
   ]
  },
  {
   "cell_type": "markdown",
   "metadata": {},
   "source": [
    "### Creating indexes\n",
    "```\n",
    "CREATE INDEX ON :Matches(email_id)\n",
    "```\n",
    "```\n",
    "CREATE INDEX ON :Matches(question_id)\n",
    "```\n",
    "\n",
    "### Connect matches to question and email with and apoc method:\n",
    "```\n",
    "call apoc.periodic.iterate(\"MATCH (question:Question) with question match(matches:Matches {question_id:question._id}) return question,matches\",\"CREATE (question)-[:GOT_EMAIL]->(matches)\", {batchSize:1000}) yield batches, total return batches, total\n",
    "```\n",
    "```\n",
    "call apoc.periodic.iterate(\"MATCH (email:Email) with email match(matches:Matches {email_id:email._id}) return email,matches\",\"CREATE (email)-[:GOT_EMAIL]->(matches)\", {batchSize:1000}) yield batches, total return batches, total\n",
    "```\n",
    "\n",
    "### Make the relationships between email and questions:\n",
    "```\n",
    "call apoc.periodic.iterate(\"MATCH (question:Question)-[:GOT_EMAIL]->(matches:Matches)<-[:GOT_EMAIL]-(email:Email) return email,question\",\"CREATE (question)-[:IS_IN]->(email)\", {batchSize:1000}) yield batches, total return batches, total\n",
    "```\n",
    "\n",
    "### Delete matches nodes (請先不要執行):\n",
    "```\n",
    "call apoc.periodic.iterate(\"MATCH (matches:Matches) return matches\", \"DETACH DELETE matches\", {batchSize:1000}) yield batches, total return batches, total\n",
    "```\n",
    "\n",
    "Congratulations if you have the nodes and relationships in neo4j as it is written previously. You just uploaded a relational database into a graph database!"
   ]
  },
  {
   "cell_type": "markdown",
   "metadata": {},
   "source": [
    "<img src=\"images/neo4j_career_village_apoc_done.png\">"
   ]
  },
  {
   "cell_type": "markdown",
   "metadata": {},
   "source": [
    "<a id=\"making_group\"></a>\n",
    "## Making group type, location, and industry nodes\n",
    "\n",
    "#### make nodes from group properties\n",
    "```\n",
    "MATCH (n:Group) WITH COLLECT(DISTINCT n.type) AS gts UNWIND gts AS group_type MERGE (t:Group_Type {type:group_type}) WITH t,group_type MATCH (s:Group {type:group_type}) MERGE (s)-[:HAS_TYPE]->(t)\n",
    "```\n",
    "\n",
    "#### make nodes from student location\n",
    "```\n",
    "MATCH (n:Student) WITH COLLECT(DISTINCT n.location) as locs UNWIND locs as loc MERGE (t:Location {location:loc}) WITH t,loc MATCH (s:Student {location:loc}) MERGE (s)-[:BASED_IN]->(t)\n",
    "```\n",
    "\n",
    "#### make nodes from professional location\n",
    "```\n",
    "MATCH (n:Professional) WITH COLLECT(DISTINCT n.location) as locs UNWIND locs as loc MERGE (t:Location {location:loc}) WITH t,loc MATCH (p:Professional {location:loc}) MERGE (p)-[:BASED_IN]->(t)\n",
    "```\n",
    "\n",
    "#### make nodes from professional industry\n",
    "```\n",
    "MATCH (n:Professional) WITH COLLECT(DISTINCT n.industry) as inds UNWIND inds as ind MERGE (t:Industry {industry:ind}) WITH t,ind MATCH (p:Professional {industry:ind}) MERGE (p)-[:WORKING_IN]->(t)\n",
    "```"
   ]
  },
  {
   "cell_type": "markdown",
   "metadata": {},
   "source": [
    "<a id=\"Cypher\"></a>\n",
    "## Cypher query\n",
    "\n",
    "### How many nodes whe have?\n",
    "```\n",
    "MATCH (n) RETURN COUNT(n) AS CountOfNodes\n",
    "```\n",
    "<img src=\"images/rds2neo4j_num_of_nodes.png\">\n",
    "\n",
    "### Relationships?\n",
    "\n",
    "```\n",
    "MATCH ()-[m]->() RETURN COUNT(m) AS CountOfRels\n",
    "```\n",
    "<img src=\"images/rds2neo4j_num_of_relationships.png\">\n",
    "\n",
    "### How many node labels we have grouped by type?\n",
    "```\n",
    "CALL db.labels() YIELD label CALL apoc.cypher.run(\"MATCH (:\"+label+\") RETURN count(*) as count\", null) YIELD value RETURN label, value.count AS count ORDER BY count DESC\n",
    "```\n",
    "<img src=\"images/rds2neo4j_labels.png\">\n",
    "\n",
    "### How many relationships we have grouped by type?\n",
    "```\n",
    "CALL db.relationshipTypes() YIELD relationshipType CALL apoc.cypher.run(\"MATCH ()-[:\"+relationshipType +\"] -> () RETURN count(*) as count\", null) YIELD value RETURN relationshipType, value.count AS count ORDER BY count DESC\n",
    "```\n",
    "<img src=\"images/rds2neo4j_relationships_types.png\">\n",
    "\n",
    "One questions tags are connecting other questions, professionals and student to each other: Red: Student Dust: Professional DarkBlue: Question LightBlue: Tag"
   ]
  },
  {
   "cell_type": "markdown",
   "metadata": {},
   "source": [
    "<img src=\"images/neo4j_career_village_query_test.png\">"
   ]
  },
  {
   "cell_type": "markdown",
   "metadata": {},
   "source": [
    "We could go deeper, and get lost in the graph but I would like to take and iterative approach to build the recommendation engine and explore the graph along the path.\n",
    "\n",
    "Approach One to Recommendation Engine Get similar questions (with answers) to the student's unanswered questions, because this is THE fastes way to get answers to the students because it only depends on past professional activity and do not need future one, in most cases, I call this as a first line of help."
   ]
  },
  {
   "cell_type": "markdown",
   "metadata": {},
   "source": [
    "### Check out the unanswered questions:\n",
    "```\n",
    "MATCH (q:Question) WHERE not exists ((q)-[:IS_REPLY_TO]-(:Answer)) WITH q MATCH (q)-[:HAS_TAG]-(t:Tag) return q._id AS question_id, count(t) as tag_c order by tag_c desc\n",
    "```\n",
    "\n",
    "The dataset has 807 unanswered questions, and the db had given this result in 154 ms\n",
    "\n",
    "<img src=\"images/rds2neo4j_find_unwind_noides.png\">\n",
    "\n",
    "Check out these questions, the \"5194c9cac7134c868beb02f83c1a5bbf\" with 14 tags and the \"dab7b240dc394d30a54dd0c5862d5fe\" one with 3 tags.\n",
    "```\n",
    "MATCH (q:Question {_id:\"dab7b240dc394d30a54dd0c5862d5fe3\"})-[r]-(k) return q,r,k\n",
    "```"
   ]
  },
  {
   "cell_type": "markdown",
   "metadata": {},
   "source": [
    "As you can see an unanswered question on has 3 types of nodes in the neighbourhood, the tags, the email and the author, our best path is on the tags.\n",
    "```\n",
    "MATCH (q:Question {_id:\"5194c9cac7134c868beb02f83c1a5bbf\"})-[r:HAS_TAG]-(t:Tag) return q,r,t limit 300\n",
    "```\n",
    "<img src=\"images/rds2neo4j_graph_query_question.png\">\n",
    "\n",
    "\n",
    "Get similar answers based on Jaccard index for the question with 3 tags:\n",
    "```\n",
    "MATCH (q_or:Question {\n",
    "  _id:\"dab7b240dc394d30a54dd0c5862d5fe3\"\n",
    "})-[:HAS_TAG]-(t:Tag)-[:HAS_TAG]-(q_ot:Question)-[IS_REPLY_TO]-(a:Answer)\n",
    "WITH q_or, q_ot, COUNT(t) AS intersection, COLLECT(t.name) AS i\n",
    "MATCH (q_or)-[:HAS_TAG]-(o_or:Tag)\n",
    "WITH q_or, q_ot, intersection, i, COLLECT(o_or.name) AS s1\n",
    "MATCH (q_ot)-[:HAS_TAG]-(o_ot:Tag)\n",
    "WITH q_or, q_ot, intersection, i, s1, COLLECT(o_ot.name) AS s2\n",
    "WITH q_or, q_ot, intersection, s1, s2\n",
    "WITH q_or, q_ot, intersection, s1+[x IN s2 WHERE NOT x IN s1] AS UNION , s1, s2\n",
    "RETURN q_or.title, q_ot.title, s1, s2, ((1.0*intersection)/SIZE(UNION)) AS jaccard ORDER BY jaccard DESC\n",
    "LIMIT 20\n",
    "```\n",
    "\n",
    "- Original question title: \"Are there any resume items which would make my college application really stand out?\"\n",
    "- Most similar question: \"How do you make your university application stand out?\"\n",
    "- Second: \"Can someone proofread my college transfer essay?\"\n",
    "- Third: \"What should I look for if I am considering transferring colleges?\"\n",
    "- Fourth: \"How do you build your resume in college?\"\n",
    "- Fifth: \"How did you decide which college to attend?\"\n",
    "\n",
    "<img src=\"images/rds2neo4j_jaccard.png\">\n",
    "\n",
    "So it is quite powerful, considering it is only a query in a db with 2M nodes and 6M relationships and had given these results in 211 ms so it has real time applications"
   ]
  },
  {
   "cell_type": "markdown",
   "metadata": {},
   "source": [
    "### Get similar answers based on Jaccard index for the question with 14 tags:\n",
    "```\n",
    "MATCH (q_or:Question {\n",
    "  _id:\"5194c9cac7134c868beb02f83c1a5bbf\"\n",
    "})-[:HAS_TAG]-(t:Tag)-[:HAS_TAG]-(q_ot:Question)-[IS_REPLY_TO]-(a:Answer)\n",
    "WITH q_or, q_ot, COUNT(t) AS intersection, COLLECT(t.name) AS i\n",
    "MATCH (q_or)-[:HAS_TAG]-(o_or:Tag)\n",
    "WITH q_or, q_ot, intersection, i, COLLECT(o_or.name) AS s1\n",
    "MATCH (q_ot)-[:HAS_TAG]-(o_ot:Tag)\n",
    "WITH q_or, q_ot, intersection, i, s1, COLLECT(o_ot.name) AS s2\n",
    "WITH q_or, q_ot, intersection, s1, s2\n",
    "WITH q_or, q_ot, intersection, s1+[x IN s2 WHERE NOT x IN s1] AS UNION , s1, s2\n",
    "RETURN q_or.title, q_ot.title, s1, s2, ((1.0*intersection)/SIZE(UNION)) AS jaccard ORDER BY jaccard DESC\n",
    "LIMIT 20\n",
    "```\n",
    "- Original question title: \"What are the best free resources for MCAT prep?\"\n",
    "- - Most similar question: \"How have you reacted to the people who have told you that you don't have what it takes to become a doctor/surgeon?\"\n",
    "- Second: \"What helps you study for a test?\"\n",
    "- Third: \"How do I decide between career paths?\"\n",
    "- Fourth: \"What is the most rewarding part about being a doctor?\"\n",
    "- Fifth: \"What would you tell a high school/college student who has goals of attending Medical School but isn't sure what to specialize in?\"\n",
    "\n",
    "It was a bit slower 1139ms and you can build a recommendation function for a push of a button."
   ]
  },
  {
   "cell_type": "markdown",
   "metadata": {},
   "source": [
    "### Simpler solution and example with the 3 tags:\n",
    "```\n",
    "MATCH (q_o:Question {_id:\"dab7b240dc394d30a54dd0c5862d5fe3\"})-[:HAS_TAG]-(t:Tag)-[:HAS_TAG]-(q_s:Question)-[IS_REPLY_TO]-(a:Answer)-[:IS_REPLY_TO]-(c:Comment) RETURN q_o.title AS Question_WithOut_Answer, q_s.title AS Similar_Question, a.body AS Answers, count(distinct t) as tag_count, count(distinct c) as comment_count ORDER BY tag_count desc,comment_count desc limit 5\n",
    "```\n",
    "<img src=\"images/rds2neo4j_simpler_with_3_tags.png\">"
   ]
  },
  {
   "cell_type": "markdown",
   "metadata": {},
   "source": [
    "Approach Two to Recommendation Engine recommend a professional who had answered questions with similar tags\n",
    "\n",
    "Question with 3 tags:\n",
    "```\n",
    "MATCH (q_o:Question {_id:\"dab7b240dc394d30a54dd0c5862d5fe3\"})-[:HAS_TAG]-(t:Tag)-[:HAS_TAG]-(q_s1:Question)-[:IS_REPLY_TO]-(a:Answer)-[:AUTHOR_OF]-(p:Professional)-[:AUTHOR_OF]-(a_o:Answer)-[:IS_REPLY_TO]-(q_s2:Question)-[:HAS_TAG]-(:Tag)-[:HAS_TAG]-(q_o) RETURN q_o.title AS Question_WithOut_Answer, p._id AS Professional, count(distinct t) as tag_count, count(distinct a_o) as p_a_count ORDER BY tag_count desc, p_a_count desc limit 5\n",
    "```\n",
    "<img src=\"images/rds2neo4j_question_with_3_tags.png\">\n",
    "As you can see the best improvement opportunity is to upgrade the tagging system."
   ]
  },
  {
   "cell_type": "markdown",
   "metadata": {},
   "source": [
    "<a id=\"nlp\"></a>\n",
    "## NLP based tag enrichment"
   ]
  },
  {
   "cell_type": "code",
   "execution_count": 22,
   "metadata": {},
   "outputs": [],
   "source": [
    "# Merge Question Title and Body\n",
    "questions['questions_full_text'] = questions['questions_title'] +'\\r\\n\\r\\n'+ questions['questions_body']"
   ]
  },
  {
   "cell_type": "code",
   "execution_count": 23,
   "metadata": {},
   "outputs": [],
   "source": [
    "'''\n",
    "python -m spacy download en_core_web_sm\n",
    "python -m spacy download zh_core_web_sm\n",
    "'''\n",
    "    \n",
    "import spacy\n",
    "\n",
    "nlp = spacy.load(\"en_core_web_sm\")\n",
    "nlp.remove_pipe('parser')\n",
    "nlp.remove_pipe('ner')\n",
    "\n",
    "# Spacy Tokenfilter for part-of-speech tagging\n",
    "token_pos = ['NOUN', 'VERB', 'PROPN', 'ADJ', 'INTJ', 'X']\n",
    "\n",
    "def nlp_preprocessing(data):\n",
    "    \"\"\" Use NLP to transform the text corpus to cleaned sentences and word tokens\n",
    "\n",
    "    \"\"\"    \n",
    "    def token_filter(token):\n",
    "        \"\"\" Keep tokens who are alphapetic, in the pos (part-of-speech) list and not in stop list\n",
    "\n",
    "        \"\"\"    \n",
    "        return not token.is_stop and token.is_alpha and token.pos_ in token_pos\n",
    "    \n",
    "    processed_tokens = []\n",
    "    data_pipe = nlp.pipe(data)\n",
    "    for doc in data_pipe:\n",
    "        filtered_tokens = [token.lemma_.lower() for token in doc if token_filter(token)]\n",
    "        processed_tokens.append(set(filtered_tokens))\n",
    "    return processed_tokens\n",
    "\n",
    "# Get NLP Tokens\n",
    "questions['nlp_tokens'] = nlp_preprocessing(questions['questions_full_text'])"
   ]
  },
  {
   "cell_type": "code",
   "execution_count": 24,
   "metadata": {},
   "outputs": [
    {
     "data": {
      "text/plain": [
       "0    {question, college, professor, math, career, u...\n",
       "1    {priyanka, officer, question, college, std, wa...\n",
       "2    {increase, care, working, idea, huge, willl, f...\n",
       "3    {network, hear, know, networking, hard, busine...\n",
       "4    {highschoolsenior, find, college, state, first...\n",
       "Name: nlp_tokens, dtype: object"
      ]
     },
     "execution_count": 24,
     "metadata": {},
     "output_type": "execute_result"
    }
   ],
   "source": [
    "questions['nlp_tokens'].head()"
   ]
  },
  {
   "cell_type": "code",
   "execution_count": 25,
   "metadata": {},
   "outputs": [],
   "source": [
    "# Removing token which are more than x% of the questions\n",
    "all_q_tokens = list(questions['nlp_tokens'])"
   ]
  },
  {
   "cell_type": "code",
   "execution_count": 26,
   "metadata": {},
   "outputs": [
    {
     "data": {
      "text/plain": [
       "list"
      ]
     },
     "execution_count": 26,
     "metadata": {},
     "output_type": "execute_result"
    }
   ],
   "source": [
    "type(all_q_tokens)"
   ]
  },
  {
   "cell_type": "code",
   "execution_count": 27,
   "metadata": {},
   "outputs": [],
   "source": [
    "all_unique_q_tokens = set([token for token_list in all_q_tokens for token in token_list])\n",
    "flat_q_tokens = [token for token_list in all_q_tokens for token in token_list]"
   ]
  },
  {
   "cell_type": "code",
   "execution_count": 28,
   "metadata": {},
   "outputs": [
    {
     "data": {
      "text/plain": [
       "23931"
      ]
     },
     "execution_count": 28,
     "metadata": {},
     "output_type": "execute_result"
    }
   ],
   "source": [
    "len(all_q_tokens)"
   ]
  },
  {
   "cell_type": "code",
   "execution_count": 29,
   "metadata": {},
   "outputs": [
    {
     "data": {
      "text/plain": [
       "[{'career',\n",
       "  'college',\n",
       "  'lecture',\n",
       "  'math',\n",
       "  'professor',\n",
       "  'question',\n",
       "  'teacher',\n",
       "  'useful'}]"
      ]
     },
     "execution_count": 29,
     "metadata": {},
     "output_type": "execute_result"
    }
   ],
   "source": [
    "all_q_tokens[:1]"
   ]
  },
  {
   "cell_type": "code",
   "execution_count": 30,
   "metadata": {},
   "outputs": [
    {
     "data": {
      "text/plain": [
       "14223"
      ]
     },
     "execution_count": 30,
     "metadata": {},
     "output_type": "execute_result"
    }
   ],
   "source": [
    "len(all_unique_q_tokens)"
   ]
  },
  {
   "cell_type": "code",
   "execution_count": 31,
   "metadata": {},
   "outputs": [
    {
     "data": {
      "text/plain": [
       "['swedish', 'creativewriting', 'mackenzie', 'benefit', 'associated']"
      ]
     },
     "execution_count": 31,
     "metadata": {},
     "output_type": "execute_result"
    }
   ],
   "source": [
    "list(all_unique_q_tokens)[:5]"
   ]
  },
  {
   "cell_type": "code",
   "execution_count": 32,
   "metadata": {},
   "outputs": [
    {
     "data": {
      "text/plain": [
       "398356"
      ]
     },
     "execution_count": 32,
     "metadata": {},
     "output_type": "execute_result"
    }
   ],
   "source": [
    "len(flat_q_tokens)"
   ]
  },
  {
   "cell_type": "code",
   "execution_count": 33,
   "metadata": {},
   "outputs": [
    {
     "data": {
      "text/plain": [
       "['question', 'college', 'professor', 'math', 'career']"
      ]
     },
     "execution_count": 33,
     "metadata": {},
     "output_type": "execute_result"
    }
   ],
   "source": [
    "flat_q_tokens[:5]"
   ]
  },
  {
   "cell_type": "code",
   "execution_count": 34,
   "metadata": {},
   "outputs": [],
   "source": [
    "from collections import Counter,OrderedDict\n",
    "\n",
    "tokens_sum = Counter(flat_q_tokens)\n",
    "sorted_ord_tokens = sorted(tokens_sum.items(), key=lambda kv: kv[1],reverse=True)"
   ]
  },
  {
   "cell_type": "code",
   "execution_count": 35,
   "metadata": {},
   "outputs": [
    {
     "data": {
      "text/plain": [
       "[('college', 8969),\n",
       " ('want', 8637),\n",
       " ('know', 6346),\n",
       " ('career', 6158),\n",
       " ('school', 6072)]"
      ]
     },
     "execution_count": 35,
     "metadata": {},
     "output_type": "execute_result"
    }
   ],
   "source": [
    "sorted_ord_tokens[:5]"
   ]
  },
  {
   "cell_type": "code",
   "execution_count": 36,
   "metadata": {},
   "outputs": [],
   "source": [
    "q_exp = questions[['questions_id','nlp_tokens']]\n",
    "\n",
    "def replace_dict(dic):\n",
    "    return str(dic).replace('{','').replace('}','').replace(\"'\",'').replace(' ','')\n",
    "    #return ','.join(str(dic).replace('{','').replace('}','').split(','))\n",
    "q_exp['nlp_tokens'] = q_exp['nlp_tokens'].apply(lambda x: replace_dict(x))"
   ]
  },
  {
   "cell_type": "code",
   "execution_count": 37,
   "metadata": {},
   "outputs": [
    {
     "data": {
      "text/html": [
       "<div>\n",
       "<style scoped>\n",
       "    .dataframe tbody tr th:only-of-type {\n",
       "        vertical-align: middle;\n",
       "    }\n",
       "\n",
       "    .dataframe tbody tr th {\n",
       "        vertical-align: top;\n",
       "    }\n",
       "\n",
       "    .dataframe thead th {\n",
       "        text-align: right;\n",
       "    }\n",
       "</style>\n",
       "<table border=\"1\" class=\"dataframe\">\n",
       "  <thead>\n",
       "    <tr style=\"text-align: right;\">\n",
       "      <th></th>\n",
       "      <th>questions_id</th>\n",
       "      <th>nlp_tokens</th>\n",
       "    </tr>\n",
       "  </thead>\n",
       "  <tbody>\n",
       "    <tr>\n",
       "      <th>0</th>\n",
       "      <td>332a511f1569444485cf7a7a556a5e54</td>\n",
       "      <td>question,college,professor,math,career,useful,...</td>\n",
       "    </tr>\n",
       "    <tr>\n",
       "      <th>1</th>\n",
       "      <td>eb80205482e4424cad8f16bc25aa2d9c</td>\n",
       "      <td>priyanka,officer,question,college,std,want,mil...</td>\n",
       "    </tr>\n",
       "    <tr>\n",
       "      <th>2</th>\n",
       "      <td>4ec31632938a40b98909416bdd0decff</td>\n",
       "      <td>increase,care,working,idea,huge,willl,find,lea...</td>\n",
       "    </tr>\n",
       "    <tr>\n",
       "      <th>3</th>\n",
       "      <td>2f6a9a99d9b24e5baa50d40d0ba50a75</td>\n",
       "      <td>network,hear,know,networking,hard,business,are...</td>\n",
       "    </tr>\n",
       "    <tr>\n",
       "      <th>4</th>\n",
       "      <td>5af8880460c141dbb02971a1a8369529</td>\n",
       "      <td>highschoolsenior,find,college,state,firstgener...</td>\n",
       "    </tr>\n",
       "  </tbody>\n",
       "</table>\n",
       "</div>"
      ],
      "text/plain": [
       "                       questions_id  \\\n",
       "0  332a511f1569444485cf7a7a556a5e54   \n",
       "1  eb80205482e4424cad8f16bc25aa2d9c   \n",
       "2  4ec31632938a40b98909416bdd0decff   \n",
       "3  2f6a9a99d9b24e5baa50d40d0ba50a75   \n",
       "4  5af8880460c141dbb02971a1a8369529   \n",
       "\n",
       "                                          nlp_tokens  \n",
       "0  question,college,professor,math,career,useful,...  \n",
       "1  priyanka,officer,question,college,std,want,mil...  \n",
       "2  increase,care,working,idea,huge,willl,find,lea...  \n",
       "3  network,hear,know,networking,hard,business,are...  \n",
       "4  highschoolsenior,find,college,state,firstgener...  "
      ]
     },
     "execution_count": 37,
     "metadata": {},
     "output_type": "execute_result"
    }
   ],
   "source": [
    "q_exp.head()"
   ]
  },
  {
   "cell_type": "code",
   "execution_count": 38,
   "metadata": {},
   "outputs": [],
   "source": [
    "q_exp.to_csv(\"opt/csv/CareerVillage/q_exp_id_and_nlp_tokens.csv\", index=False)"
   ]
  },
  {
   "cell_type": "code",
   "execution_count": 39,
   "metadata": {},
   "outputs": [],
   "source": [
    "q_exp.head().to_csv(\"opt/csv/CareerVillage/q_exp_test_5.csv\", index=False)"
   ]
  },
  {
   "cell_type": "markdown",
   "metadata": {},
   "source": [
    "<a id=\"import_tags\"></a>\n",
    "## Import tags into database a rerun the tests\n",
    "\n",
    "copy q_exp_id_and_nlp_tokens.csv to ./import folder"
   ]
  },
  {
   "cell_type": "markdown",
   "metadata": {},
   "source": [
    "Use this code to generate mora tags based on the questions, and answer tags.\n",
    "```\n",
    ":auto USING PERIODIC COMMIT 10000\n",
    "LOAD CSV WITH HEADERS FROM \"file:///q_exp_id_and_nlp_tokens.csv\" AS row MATCH (q:Question {_id:row.questions_id}) WITH SPLIT (row.nlp_tokens, \",\") AS tags,q,row UNWIND tags as tag CREATE (t:Token:Tag {name:tag}) CREATE (q)-[:HAS_TAG]->(t)\n",
    "```\n",
    "\n",
    "```\n",
    "CREATE INDEX ON :Tag(name)\n",
    "CREATE INDEX ON :Token(name)\n",
    "```\n",
    "\n",
    "```\n",
    "MATCH (n:Tag) WITH n.name AS name, COLLECT(n) AS nodelist, COUNT(*) AS count WHERE count > 1 CALL apoc.refactor.mergeNodes(nodelist) YIELD node RETURN node\n",
    "```"
   ]
  },
  {
   "cell_type": "markdown",
   "metadata": {},
   "source": [
    "## Summary\n",
    "\n",
    "Now we import CareerVillage CSV to the databased and use it for the \"who can answer these questions\" recommendation practice.\n",
    "\n",
    "I guess that when combined with a recommendation system it would mean that any solution created for CareerVillage can potentially to be automatically updated as new professionals join, new questions are answered etc. I look forward to seeing a working prototype solution, even a very simple one, that uses this technique."
   ]
  }
 ],
 "metadata": {
  "kernelspec": {
   "display_name": "Python 3",
   "language": "python",
   "name": "python3"
  },
  "language_info": {
   "codemirror_mode": {
    "name": "ipython",
    "version": 3
   },
   "file_extension": ".py",
   "mimetype": "text/x-python",
   "name": "python",
   "nbconvert_exporter": "python",
   "pygments_lexer": "ipython3",
   "version": "3.6.7"
  }
 },
 "nbformat": 4,
 "nbformat_minor": 2
}
