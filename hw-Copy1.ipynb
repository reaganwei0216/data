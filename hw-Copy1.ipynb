{
 "cells": [
  {
   "cell_type": "code",
   "execution_count": 1,
   "metadata": {},
   "outputs": [
    {
     "name": "stdout",
     "output_type": "stream",
     "text": [
      "user\n",
      "<class 'str'>\n"
     ]
    }
   ],
   "source": [
    "import pandas as pd\n",
    "import numpy  as np\n",
    "import timeit\n",
    "# https://stackoverflow.com/questions/842059/is-there-a-portable-way-to-get-the-current-username-in-python\n",
    "import getpass\n",
    "getpass.getuser()\n",
    "print(getpass.getuser())\n",
    "print(type(getpass.getuser()))\n"
   ]
  },
  {
   "cell_type": "code",
   "execution_count": 94,
   "metadata": {},
   "outputs": [
    {
     "data": {
      "text/plain": [
       "'10705'"
      ]
     },
     "execution_count": 94,
     "metadata": {},
     "output_type": "execute_result"
    }
   ],
   "source": [
    "def YYYMM():\n",
    "    # http://blog.alarmchang.com/?p=230\n",
    "    import datetime\n",
    "#     print(datetime.datetime.now())\n",
    "#     print(datetime.datetime.now().month)\n",
    "#     print(datetime.datetime.now().year)\n",
    "    if (x.month <=10):\n",
    "        return str(datetime.datetime.now().year-1911)+\"0\"+str(datetime.datetime.now().month-1)\n",
    "    else:\n",
    "        return str(datetime.datetime.now().year-1911)+str(datetime.datetime.now().month-1)\n",
    "YYYMM()\n",
    "# YYYMM=YYYMM()\n",
    "# print(YYYMM)\n",
    "# print(type(YYYMM))"
   ]
  },
  {
   "cell_type": "code",
   "execution_count": 2,
   "metadata": {},
   "outputs": [
    {
     "name": "stdout",
     "output_type": "stream",
     "text": [
      "7.331069254778483e-07\n"
     ]
    }
   ],
   "source": [
    "start = timeit.default_timer()\n",
    "print(start)"
   ]
  },
  {
   "cell_type": "code",
   "execution_count": 3,
   "metadata": {
    "scrolled": true
   },
   "outputs": [
    {
     "name": "stderr",
     "output_type": "stream",
     "text": [
      "C:\\Users\\user\\Anaconda3\\lib\\site-packages\\IPython\\core\\interactiveshell.py:2698: DtypeWarning: Columns (0,8,52,55,57) have mixed types. Specify dtype option on import or set low_memory=False.\n",
      "  interactivity=interactivity, compiler=compiler, result=result)\n"
     ]
    },
    {
     "data": {
      "text/html": [
       "<div>\n",
       "<style>\n",
       "    .dataframe thead tr:only-child th {\n",
       "        text-align: right;\n",
       "    }\n",
       "\n",
       "    .dataframe thead th {\n",
       "        text-align: left;\n",
       "    }\n",
       "\n",
       "    .dataframe tbody tr th {\n",
       "        vertical-align: top;\n",
       "    }\n",
       "</style>\n",
       "<table border=\"1\" class=\"dataframe\">\n",
       "  <thead>\n",
       "    <tr style=\"text-align: right;\">\n",
       "      <th></th>\n",
       "      <th>ban</th>\n",
       "      <th>card</th>\n",
       "      <th>cardcode</th>\n",
       "      <th>company</th>\n",
       "      <th>organ</th>\n",
       "      <th>suborgan</th>\n",
       "      <th>idn</th>\n",
       "      <th>owner</th>\n",
       "      <th>arcno</th>\n",
       "      <th>idnspouse</th>\n",
       "      <th>...</th>\n",
       "      <th>avgemployeeendyymm</th>\n",
       "      <th>isfloorown</th>\n",
       "      <th>floorowner</th>\n",
       "      <th>origban</th>\n",
       "      <th>addressdes</th>\n",
       "      <th>ownerphone</th>\n",
       "      <th>mergeendday</th>\n",
       "      <th>owneremail</th>\n",
       "      <th>ownernationality</th>\n",
       "      <th>ownernationalitydes</th>\n",
       "    </tr>\n",
       "  </thead>\n",
       "  <tbody>\n",
       "    <tr>\n",
       "      <th>0</th>\n",
       "      <td>607</td>\n",
       "      <td>50844</td>\n",
       "      <td></td>\n",
       "      <td>一星營造廠</td>\n",
       "      <td>1</td>\n",
       "      <td>0</td>\n",
       "      <td>C101222478</td>\n",
       "      <td>江涵</td>\n",
       "      <td>NaN</td>\n",
       "      <td></td>\n",
       "      <td>...</td>\n",
       "      <td>0</td>\n",
       "      <td>0</td>\n",
       "      <td>0</td>\n",
       "      <td></td>\n",
       "      <td>NaN</td>\n",
       "      <td>NaN</td>\n",
       "      <td>0</td>\n",
       "      <td>NaN</td>\n",
       "      <td>0</td>\n",
       "      <td>NaN</td>\n",
       "    </tr>\n",
       "    <tr>\n",
       "      <th>1</th>\n",
       "      <td>3029</td>\n",
       "      <td>146347</td>\n",
       "      <td></td>\n",
       "      <td>大豐合記報關行</td>\n",
       "      <td>1</td>\n",
       "      <td>0</td>\n",
       "      <td>C200418409</td>\n",
       "      <td>陳玉淡</td>\n",
       "      <td>NaN</td>\n",
       "      <td>F101714714</td>\n",
       "      <td>...</td>\n",
       "      <td>0</td>\n",
       "      <td>0</td>\n",
       "      <td>0</td>\n",
       "      <td></td>\n",
       "      <td>NaN</td>\n",
       "      <td>NaN</td>\n",
       "      <td>0</td>\n",
       "      <td>NaN</td>\n",
       "      <td>0</td>\n",
       "      <td>NaN</td>\n",
       "    </tr>\n",
       "    <tr>\n",
       "      <th>2</th>\n",
       "      <td>3219</td>\n",
       "      <td>72310</td>\n",
       "      <td></td>\n",
       "      <td>勝發輪船</td>\n",
       "      <td>3</td>\n",
       "      <td>0</td>\n",
       "      <td>E220295904</td>\n",
       "      <td>胡卓麗華</td>\n",
       "      <td>NaN</td>\n",
       "      <td>E102817919</td>\n",
       "      <td>...</td>\n",
       "      <td>0</td>\n",
       "      <td>0</td>\n",
       "      <td>0</td>\n",
       "      <td></td>\n",
       "      <td>NaN</td>\n",
       "      <td>NaN</td>\n",
       "      <td>0</td>\n",
       "      <td>NaN</td>\n",
       "      <td>0</td>\n",
       "      <td>NaN</td>\n",
       "    </tr>\n",
       "    <tr>\n",
       "      <th>3</th>\n",
       "      <td>3251</td>\n",
       "      <td>18923</td>\n",
       "      <td></td>\n",
       "      <td>三通報關通運</td>\n",
       "      <td>2</td>\n",
       "      <td>0</td>\n",
       "      <td>A202103892</td>\n",
       "      <td>沈陳一惠</td>\n",
       "      <td>NaN</td>\n",
       "      <td></td>\n",
       "      <td>...</td>\n",
       "      <td>0</td>\n",
       "      <td>0</td>\n",
       "      <td>0</td>\n",
       "      <td></td>\n",
       "      <td>NaN</td>\n",
       "      <td>NaN</td>\n",
       "      <td>0</td>\n",
       "      <td>NaN</td>\n",
       "      <td>0</td>\n",
       "      <td>NaN</td>\n",
       "    </tr>\n",
       "    <tr>\n",
       "      <th>4</th>\n",
       "      <td>4006</td>\n",
       "      <td>203332</td>\n",
       "      <td>NaN</td>\n",
       "      <td>三友煤氣行</td>\n",
       "      <td>1</td>\n",
       "      <td>0</td>\n",
       "      <td>S221084479</td>\n",
       "      <td>蔡秀美</td>\n",
       "      <td>NaN</td>\n",
       "      <td>NaN</td>\n",
       "      <td>...</td>\n",
       "      <td>0</td>\n",
       "      <td>0</td>\n",
       "      <td>0</td>\n",
       "      <td></td>\n",
       "      <td>NaN</td>\n",
       "      <td>NaN</td>\n",
       "      <td>0</td>\n",
       "      <td>NaN</td>\n",
       "      <td>0</td>\n",
       "      <td>NaN</td>\n",
       "    </tr>\n",
       "  </tbody>\n",
       "</table>\n",
       "<p>5 rows × 58 columns</p>\n",
       "</div>"
      ],
      "text/plain": [
       "    ban    card cardcode               company  organ  suborgan         idn  \\\n",
       "0   607   50844            一星營造廠                    1         0  C101222478   \n",
       "1  3029  146347              大豐合記報關行                1         0  C200418409   \n",
       "2  3219   72310           勝發輪船                      3         0  E220295904   \n",
       "3  3251   18923             三通報關通運                  2         0  A202103892   \n",
       "4  4006  203332      NaN                 三友煤氣行      1         0  S221084479   \n",
       "\n",
       "    owner arcno   idnspouse         ...          avgemployeeendyymm  \\\n",
       "0  江涵       NaN                     ...                           0   \n",
       "1   陳玉淡     NaN  F101714714         ...                           0   \n",
       "2    胡卓麗華   NaN  E102817919         ...                           0   \n",
       "3    沈陳一惠   NaN                     ...                           0   \n",
       "4     蔡秀美   NaN         NaN         ...                           0   \n",
       "\n",
       "  isfloorown  floorowner   origban  addressdes  ownerphone  mergeendday  \\\n",
       "0          0           0                   NaN         NaN            0   \n",
       "1          0           0                   NaN         NaN            0   \n",
       "2          0           0                   NaN         NaN            0   \n",
       "3          0           0                   NaN         NaN            0   \n",
       "4          0           0                   NaN         NaN            0   \n",
       "\n",
       "   owneremail  ownernationality  ownernationalitydes  \n",
       "0         NaN                 0                  NaN  \n",
       "1         NaN                 0                  NaN  \n",
       "2         NaN                 0                  NaN  \n",
       "3         NaN                 0                  NaN  \n",
       "4         NaN                 0                  NaN  \n",
       "\n",
       "[5 rows x 58 columns]"
      ]
     },
     "execution_count": 3,
     "metadata": {},
     "output_type": "execute_result"
    }
   ],
   "source": [
    "GAPLF0 = pd.read_csv(\"GAPLF0.csv\")\n",
    "GAPLF0.head()"
   ]
  },
  {
   "cell_type": "code",
   "execution_count": 4,
   "metadata": {},
   "outputs": [
    {
     "data": {
      "text/html": [
       "<div>\n",
       "<style>\n",
       "    .dataframe thead tr:only-child th {\n",
       "        text-align: right;\n",
       "    }\n",
       "\n",
       "    .dataframe thead th {\n",
       "        text-align: left;\n",
       "    }\n",
       "\n",
       "    .dataframe tbody tr th {\n",
       "        vertical-align: top;\n",
       "    }\n",
       "</style>\n",
       "<table border=\"1\" class=\"dataframe\">\n",
       "  <thead>\n",
       "    <tr style=\"text-align: right;\">\n",
       "      <th></th>\n",
       "      <th>ban</th>\n",
       "      <th>company</th>\n",
       "      <th>overdueday</th>\n",
       "    </tr>\n",
       "  </thead>\n",
       "  <tbody>\n",
       "    <tr>\n",
       "      <th>0</th>\n",
       "      <td>607</td>\n",
       "      <td>一星營造廠</td>\n",
       "      <td>0</td>\n",
       "    </tr>\n",
       "    <tr>\n",
       "      <th>1</th>\n",
       "      <td>3029</td>\n",
       "      <td>大豐合記報關行</td>\n",
       "      <td>0</td>\n",
       "    </tr>\n",
       "    <tr>\n",
       "      <th>2</th>\n",
       "      <td>3219</td>\n",
       "      <td>勝發輪船</td>\n",
       "      <td>0</td>\n",
       "    </tr>\n",
       "    <tr>\n",
       "      <th>3</th>\n",
       "      <td>3251</td>\n",
       "      <td>三通報關通運</td>\n",
       "      <td>0</td>\n",
       "    </tr>\n",
       "    <tr>\n",
       "      <th>4</th>\n",
       "      <td>4006</td>\n",
       "      <td>三友煤氣行</td>\n",
       "      <td>970416</td>\n",
       "    </tr>\n",
       "  </tbody>\n",
       "</table>\n",
       "</div>"
      ],
      "text/plain": [
       "    ban               company  overdueday\n",
       "0   607   一星營造廠                         0\n",
       "1  3029     大豐合記報關行                     0\n",
       "2  3219  勝發輪船                           0\n",
       "3  3251    三通報關通運                       0\n",
       "4  4006                 三友煤氣行      970416"
      ]
     },
     "execution_count": 4,
     "metadata": {},
     "output_type": "execute_result"
    }
   ],
   "source": [
    "# GAPLF0<- subset(GAPLF0, select =c(ban,company,overdueday))\n",
    "GAPLF0 = GAPLF0[['ban','company','overdueday']]\n",
    "GAPLF0.head()"
   ]
  },
  {
   "cell_type": "code",
   "execution_count": 5,
   "metadata": {},
   "outputs": [
    {
     "name": "stderr",
     "output_type": "stream",
     "text": [
      "C:\\Users\\user\\Anaconda3\\lib\\site-packages\\IPython\\core\\interactiveshell.py:2698: DtypeWarning: Columns (43,49,51) have mixed types. Specify dtype option on import or set low_memory=False.\n",
      "  interactivity=interactivity, compiler=compiler, result=result)\n"
     ]
    },
    {
     "data": {
      "text/html": [
       "<div>\n",
       "<style>\n",
       "    .dataframe thead tr:only-child th {\n",
       "        text-align: right;\n",
       "    }\n",
       "\n",
       "    .dataframe thead th {\n",
       "        text-align: left;\n",
       "    }\n",
       "\n",
       "    .dataframe tbody tr th {\n",
       "        vertical-align: top;\n",
       "    }\n",
       "</style>\n",
       "<table border=\"1\" class=\"dataframe\">\n",
       "  <thead>\n",
       "    <tr style=\"text-align: right;\">\n",
       "      <th></th>\n",
       "      <th>card</th>\n",
       "      <th>typ</th>\n",
       "      <th>bank</th>\n",
       "      <th>brnh</th>\n",
       "      <th>vcrno</th>\n",
       "      <th>ban</th>\n",
       "      <th>scal</th>\n",
       "      <th>vcrday</th>\n",
       "      <th>begday</th>\n",
       "      <th>endday</th>\n",
       "      <th>...</th>\n",
       "      <th>adjpcentrate</th>\n",
       "      <th>sharegrnt</th>\n",
       "      <th>sharegrntret</th>\n",
       "      <th>feecode</th>\n",
       "      <th>policycode</th>\n",
       "      <th>oddcode</th>\n",
       "      <th>oddcnt</th>\n",
       "      <th>oddday</th>\n",
       "      <th>trad6abid</th>\n",
       "      <th>seqno</th>\n",
       "    </tr>\n",
       "  </thead>\n",
       "  <tbody>\n",
       "    <tr>\n",
       "      <th>0</th>\n",
       "      <td>2</td>\n",
       "      <td>1</td>\n",
       "      <td>9</td>\n",
       "      <td>8300</td>\n",
       "      <td>915606</td>\n",
       "      <td>90544026</td>\n",
       "      <td>1</td>\n",
       "      <td>680108</td>\n",
       "      <td>660826</td>\n",
       "      <td>670726</td>\n",
       "      <td>...</td>\n",
       "      <td>0.0</td>\n",
       "      <td>NT$0.00</td>\n",
       "      <td>NT$0.00</td>\n",
       "      <td>0</td>\n",
       "      <td>0</td>\n",
       "      <td>NaN</td>\n",
       "      <td>0</td>\n",
       "      <td>0</td>\n",
       "      <td>2</td>\n",
       "      <td>0</td>\n",
       "    </tr>\n",
       "    <tr>\n",
       "      <th>1</th>\n",
       "      <td>7</td>\n",
       "      <td>1</td>\n",
       "      <td>7</td>\n",
       "      <td>1484</td>\n",
       "      <td>18830085</td>\n",
       "      <td>33997414</td>\n",
       "      <td>1</td>\n",
       "      <td>1061211</td>\n",
       "      <td>1061208</td>\n",
       "      <td>1070608</td>\n",
       "      <td>...</td>\n",
       "      <td>0.0</td>\n",
       "      <td>NT$0.00</td>\n",
       "      <td>NT$0.00</td>\n",
       "      <td>0</td>\n",
       "      <td>0</td>\n",
       "      <td>NaN</td>\n",
       "      <td>0</td>\n",
       "      <td>0</td>\n",
       "      <td>2</td>\n",
       "      <td>1</td>\n",
       "    </tr>\n",
       "    <tr>\n",
       "      <th>2</th>\n",
       "      <td>7</td>\n",
       "      <td>1</td>\n",
       "      <td>7</td>\n",
       "      <td>1484</td>\n",
       "      <td>19109277</td>\n",
       "      <td>33997414</td>\n",
       "      <td>1</td>\n",
       "      <td>1070312</td>\n",
       "      <td>1070309</td>\n",
       "      <td>1070909</td>\n",
       "      <td>...</td>\n",
       "      <td>0.0</td>\n",
       "      <td>NT$0.00</td>\n",
       "      <td>NT$0.00</td>\n",
       "      <td>0</td>\n",
       "      <td>0</td>\n",
       "      <td>NaN</td>\n",
       "      <td>0</td>\n",
       "      <td>0</td>\n",
       "      <td>2</td>\n",
       "      <td>1</td>\n",
       "    </tr>\n",
       "    <tr>\n",
       "      <th>3</th>\n",
       "      <td>7</td>\n",
       "      <td>1</td>\n",
       "      <td>8</td>\n",
       "      <td>1164</td>\n",
       "      <td>18954688</td>\n",
       "      <td>33997414</td>\n",
       "      <td>1</td>\n",
       "      <td>1070116</td>\n",
       "      <td>1070115</td>\n",
       "      <td>1070713</td>\n",
       "      <td>...</td>\n",
       "      <td>0.0</td>\n",
       "      <td>NT$0.00</td>\n",
       "      <td>NT$0.00</td>\n",
       "      <td>0</td>\n",
       "      <td>0</td>\n",
       "      <td>NaN</td>\n",
       "      <td>0</td>\n",
       "      <td>0</td>\n",
       "      <td>2</td>\n",
       "      <td>1</td>\n",
       "    </tr>\n",
       "    <tr>\n",
       "      <th>4</th>\n",
       "      <td>7</td>\n",
       "      <td>1</td>\n",
       "      <td>8</td>\n",
       "      <td>1164</td>\n",
       "      <td>19232433</td>\n",
       "      <td>33997414</td>\n",
       "      <td>1</td>\n",
       "      <td>1070423</td>\n",
       "      <td>1070420</td>\n",
       "      <td>1071019</td>\n",
       "      <td>...</td>\n",
       "      <td>0.0</td>\n",
       "      <td>NT$0.00</td>\n",
       "      <td>NT$0.00</td>\n",
       "      <td>0</td>\n",
       "      <td>0</td>\n",
       "      <td>NaN</td>\n",
       "      <td>0</td>\n",
       "      <td>0</td>\n",
       "      <td>2</td>\n",
       "      <td>1</td>\n",
       "    </tr>\n",
       "  </tbody>\n",
       "</table>\n",
       "<p>5 rows × 69 columns</p>\n",
       "</div>"
      ],
      "text/plain": [
       "   card  typ  bank  brnh     vcrno       ban  scal   vcrday   begday   endday  \\\n",
       "0     2    1     9  8300    915606  90544026     1   680108   660826   670726   \n",
       "1     7    1     7  1484  18830085  33997414     1  1061211  1061208  1070608   \n",
       "2     7    1     7  1484  19109277  33997414     1  1070312  1070309  1070909   \n",
       "3     7    1     8  1164  18954688  33997414     1  1070116  1070115  1070713   \n",
       "4     7    1     8  1164  19232433  33997414     1  1070423  1070420  1071019   \n",
       "\n",
       "   ...    adjpcentrate  sharegrnt sharegrntret feecode policycode oddcode  \\\n",
       "0  ...             0.0    NT$0.00      NT$0.00       0          0     NaN   \n",
       "1  ...             0.0    NT$0.00      NT$0.00       0          0     NaN   \n",
       "2  ...             0.0    NT$0.00      NT$0.00       0          0     NaN   \n",
       "3  ...             0.0    NT$0.00      NT$0.00       0          0     NaN   \n",
       "4  ...             0.0    NT$0.00      NT$0.00       0          0     NaN   \n",
       "\n",
       "   oddcnt  oddday  trad6abid  seqno  \n",
       "0       0       0          2      0  \n",
       "1       0       0          2      1  \n",
       "2       0       0          2      1  \n",
       "3       0       0          2      1  \n",
       "4       0       0          2      1  \n",
       "\n",
       "[5 rows x 69 columns]"
      ]
     },
     "execution_count": 5,
     "metadata": {},
     "output_type": "execute_result"
    }
   ],
   "source": [
    "GCAS = pd.read_csv(\"GCAS.csv\")\n",
    "GCAS.head()"
   ]
  },
  {
   "cell_type": "code",
   "execution_count": 6,
   "metadata": {},
   "outputs": [
    {
     "data": {
      "text/html": [
       "<div>\n",
       "<style>\n",
       "    .dataframe thead tr:only-child th {\n",
       "        text-align: right;\n",
       "    }\n",
       "\n",
       "    .dataframe thead th {\n",
       "        text-align: left;\n",
       "    }\n",
       "\n",
       "    .dataframe tbody tr th {\n",
       "        vertical-align: top;\n",
       "    }\n",
       "</style>\n",
       "<table border=\"1\" class=\"dataframe\">\n",
       "  <thead>\n",
       "    <tr style=\"text-align: right;\">\n",
       "      <th></th>\n",
       "      <th>ban</th>\n",
       "      <th>sys</th>\n",
       "      <th>datacode</th>\n",
       "      <th>grnt</th>\n",
       "      <th>grntret</th>\n",
       "      <th>loan</th>\n",
       "      <th>loanret</th>\n",
       "    </tr>\n",
       "  </thead>\n",
       "  <tbody>\n",
       "    <tr>\n",
       "      <th>0</th>\n",
       "      <td>90544026</td>\n",
       "      <td>0</td>\n",
       "      <td>P</td>\n",
       "      <td>NT$420,000.00</td>\n",
       "      <td>NT$174,452.00</td>\n",
       "      <td>NT$0.00</td>\n",
       "      <td>NT$0.00</td>\n",
       "    </tr>\n",
       "    <tr>\n",
       "      <th>1</th>\n",
       "      <td>33997414</td>\n",
       "      <td>0</td>\n",
       "      <td>A</td>\n",
       "      <td>NT$1,500,000.00</td>\n",
       "      <td>NT$0.00</td>\n",
       "      <td>NT$2,000,000.00</td>\n",
       "      <td>NT$0.00</td>\n",
       "    </tr>\n",
       "    <tr>\n",
       "      <th>2</th>\n",
       "      <td>33997414</td>\n",
       "      <td>0</td>\n",
       "      <td>A</td>\n",
       "      <td>NT$3,000,000.00</td>\n",
       "      <td>NT$0.00</td>\n",
       "      <td>NT$4,000,000.00</td>\n",
       "      <td>NT$0.00</td>\n",
       "    </tr>\n",
       "    <tr>\n",
       "      <th>3</th>\n",
       "      <td>33997414</td>\n",
       "      <td>0</td>\n",
       "      <td>A</td>\n",
       "      <td>NT$4,500,000.00</td>\n",
       "      <td>NT$0.00</td>\n",
       "      <td>NT$6,000,000.00</td>\n",
       "      <td>NT$0.00</td>\n",
       "    </tr>\n",
       "    <tr>\n",
       "      <th>4</th>\n",
       "      <td>33997414</td>\n",
       "      <td>0</td>\n",
       "      <td>A</td>\n",
       "      <td>NT$3,000,000.00</td>\n",
       "      <td>NT$0.00</td>\n",
       "      <td>NT$4,000,000.00</td>\n",
       "      <td>NT$0.00</td>\n",
       "    </tr>\n",
       "  </tbody>\n",
       "</table>\n",
       "</div>"
      ],
      "text/plain": [
       "        ban  sys datacode             grnt        grntret             loan  \\\n",
       "0  90544026    0        P    NT$420,000.00  NT$174,452.00          NT$0.00   \n",
       "1  33997414    0        A  NT$1,500,000.00        NT$0.00  NT$2,000,000.00   \n",
       "2  33997414    0        A  NT$3,000,000.00        NT$0.00  NT$4,000,000.00   \n",
       "3  33997414    0        A  NT$4,500,000.00        NT$0.00  NT$6,000,000.00   \n",
       "4  33997414    0        A  NT$3,000,000.00        NT$0.00  NT$4,000,000.00   \n",
       "\n",
       "   loanret  \n",
       "0  NT$0.00  \n",
       "1  NT$0.00  \n",
       "2  NT$0.00  \n",
       "3  NT$0.00  \n",
       "4  NT$0.00  "
      ]
     },
     "execution_count": 6,
     "metadata": {},
     "output_type": "execute_result"
    }
   ],
   "source": [
    "# GCAS<- subset(GCAS, datacode %in% c('B') &  sys==31 ,select =c(ban,sys,datacode,grnt,grntret,loan,loanret))\n",
    "GCAS = GCAS[['ban','sys','datacode','grnt','grntret','loan','loanret']]\n",
    "GCAS.head()"
   ]
  },
  {
   "cell_type": "code",
   "execution_count": 7,
   "metadata": {
    "collapsed": true
   },
   "outputs": [],
   "source": [
    "GCAS = GCAS[(GCAS['datacode']=='B') & (GCAS['sys'] == 31)].head()"
   ]
  },
  {
   "cell_type": "code",
   "execution_count": 8,
   "metadata": {},
   "outputs": [
    {
     "data": {
      "text/plain": [
       "282507    NT$284,614.00\n",
       "286833    NT$271,978.00\n",
       "Name: grnt, dtype: object"
      ]
     },
     "execution_count": 8,
     "metadata": {},
     "output_type": "execute_result"
    }
   ],
   "source": [
    "GCAS['grnt'][0:2]"
   ]
  },
  {
   "cell_type": "code",
   "execution_count": 9,
   "metadata": {
    "collapsed": true
   },
   "outputs": [],
   "source": [
    "# https://stackoverflow.com/questions/32464280/converting-currency-with-to-numbers-in-python-pandas\n",
    "GCAS['grnt'] = GCAS['grnt'].replace('[\\$NT,]', '', regex=True).astype(float)\n",
    "GCAS['grntret'] = GCAS['grntret'].replace('[\\$NT,]', '', regex=True).astype(float)\n",
    "GCAS['loan'] = GCAS['loan'].replace('[\\$NT,]', '', regex=True).astype(float)\n",
    "GCAS['loanret'] = GCAS['loanret'].replace('[\\$NT,]', '', regex=True).astype(float)"
   ]
  },
  {
   "cell_type": "code",
   "execution_count": 10,
   "metadata": {},
   "outputs": [
    {
     "data": {
      "text/html": [
       "<div>\n",
       "<style>\n",
       "    .dataframe thead tr:only-child th {\n",
       "        text-align: right;\n",
       "    }\n",
       "\n",
       "    .dataframe thead th {\n",
       "        text-align: left;\n",
       "    }\n",
       "\n",
       "    .dataframe tbody tr th {\n",
       "        vertical-align: top;\n",
       "    }\n",
       "</style>\n",
       "<table border=\"1\" class=\"dataframe\">\n",
       "  <thead>\n",
       "    <tr style=\"text-align: right;\">\n",
       "      <th></th>\n",
       "      <th>ban</th>\n",
       "      <th>sys</th>\n",
       "      <th>datacode</th>\n",
       "      <th>grnt</th>\n",
       "      <th>grntret</th>\n",
       "      <th>loan</th>\n",
       "      <th>loanret</th>\n",
       "    </tr>\n",
       "  </thead>\n",
       "  <tbody>\n",
       "    <tr>\n",
       "      <th>282507</th>\n",
       "      <td>T0300060</td>\n",
       "      <td>31</td>\n",
       "      <td>B</td>\n",
       "      <td>284614.0</td>\n",
       "      <td>67760.0</td>\n",
       "      <td>299594.0</td>\n",
       "      <td>71326.0</td>\n",
       "    </tr>\n",
       "    <tr>\n",
       "      <th>286833</th>\n",
       "      <td>T0304143</td>\n",
       "      <td>31</td>\n",
       "      <td>B</td>\n",
       "      <td>271978.0</td>\n",
       "      <td>143033.0</td>\n",
       "      <td>286293.0</td>\n",
       "      <td>150561.0</td>\n",
       "    </tr>\n",
       "    <tr>\n",
       "      <th>301599</th>\n",
       "      <td>T0317079</td>\n",
       "      <td>31</td>\n",
       "      <td>B</td>\n",
       "      <td>331051.0</td>\n",
       "      <td>78029.0</td>\n",
       "      <td>348475.0</td>\n",
       "      <td>82136.0</td>\n",
       "    </tr>\n",
       "    <tr>\n",
       "      <th>392364</th>\n",
       "      <td>T0400775</td>\n",
       "      <td>31</td>\n",
       "      <td>B</td>\n",
       "      <td>284801.0</td>\n",
       "      <td>0.0</td>\n",
       "      <td>299791.0</td>\n",
       "      <td>0.0</td>\n",
       "    </tr>\n",
       "  </tbody>\n",
       "</table>\n",
       "</div>"
      ],
      "text/plain": [
       "             ban  sys datacode      grnt   grntret      loan   loanret\n",
       "282507  T0300060   31        B  284614.0   67760.0  299594.0   71326.0\n",
       "286833  T0304143   31        B  271978.0  143033.0  286293.0  150561.0\n",
       "301599  T0317079   31        B  331051.0   78029.0  348475.0   82136.0\n",
       "392364  T0400775   31        B  284801.0       0.0  299791.0       0.0"
      ]
     },
     "execution_count": 10,
     "metadata": {},
     "output_type": "execute_result"
    }
   ],
   "source": [
    "GCAS.head()"
   ]
  },
  {
   "cell_type": "code",
   "execution_count": 11,
   "metadata": {},
   "outputs": [
    {
     "name": "stdout",
     "output_type": "stream",
     "text": [
      "<class 'pandas.core.frame.DataFrame'>\n",
      "Int64Index: 4 entries, 282507 to 392364\n",
      "Data columns (total 7 columns):\n",
      "ban         4 non-null object\n",
      "sys         4 non-null int64\n",
      "datacode    4 non-null object\n",
      "grnt        4 non-null float64\n",
      "grntret     4 non-null float64\n",
      "loan        4 non-null float64\n",
      "loanret     4 non-null float64\n",
      "dtypes: float64(4), int64(1), object(2)\n",
      "memory usage: 256.0+ bytes\n"
     ]
    }
   ],
   "source": [
    "GCAS.info()"
   ]
  },
  {
   "cell_type": "code",
   "execution_count": 12,
   "metadata": {
    "collapsed": true
   },
   "outputs": [],
   "source": [
    "# https://stackoverflow.com/questions/43956335/convert-float64-column-to-int64-in-pandas\n",
    "GCAS['grnt'] = GCAS['grnt'].astype(np.int64)\n",
    "GCAS['grntret'] = GCAS['grntret'].astype(np.int64)\n",
    "GCAS['loan'] = GCAS['loan'].astype(np.int64)\n",
    "GCAS['loanret'] = GCAS['loanret'].astype(np.int64)"
   ]
  },
  {
   "cell_type": "code",
   "execution_count": 13,
   "metadata": {},
   "outputs": [
    {
     "name": "stdout",
     "output_type": "stream",
     "text": [
      "<class 'pandas.core.frame.DataFrame'>\n",
      "Int64Index: 4 entries, 282507 to 392364\n",
      "Data columns (total 7 columns):\n",
      "ban         4 non-null object\n",
      "sys         4 non-null int64\n",
      "datacode    4 non-null object\n",
      "grnt        4 non-null int64\n",
      "grntret     4 non-null int64\n",
      "loan        4 non-null int64\n",
      "loanret     4 non-null int64\n",
      "dtypes: int64(5), object(2)\n",
      "memory usage: 256.0+ bytes\n"
     ]
    }
   ],
   "source": [
    "GCAS.info()"
   ]
  },
  {
   "cell_type": "code",
   "execution_count": 14,
   "metadata": {
    "collapsed": true
   },
   "outputs": [],
   "source": [
    "#逾期案件融資餘額----\n",
    "#  GCAS_3<-sqldf(\"SELECT  ban,(loan-loanret) as Loan_sum7 FROM GCAS where datacode='B'\",drv=\"SQLite\")\n",
    "#  head(GCAS_3)\n",
    "#逾期案件保證餘額----\n",
    "#  GCAS_4<-sqldf(\"SELECT ban, (grnt-grntret) as Grnt_sum FROM GCAS where datacode='B'\",drv=\"SQLite\")\n",
    "#  head(GCAS_4)\n",
    "# merge0= merge(x = GCAS_4, y = GCAS_3, by = \"ban\", all.x = TRUE)\n",
    "# head(merge0)\n",
    "# merge1= merge(x = merge0, y = GAPLF0, by = \"ban\", all.x = TRUE)\n",
    "# head(merge1)\n",
    "# table<-sqldf(\"SELECT Company,count(Ban) as count ,sum(Loan_sum7) as Loan_sum7 ,sum(Grnt_sum) as Grnt_sum,OverdueDay FROM merge1 group by Ban  order by Grnt_sum desc\",drv=\"SQLite\")\n",
    "# tail(table)"
   ]
  },
  {
   "cell_type": "code",
   "execution_count": 15,
   "metadata": {
    "collapsed": true
   },
   "outputs": [],
   "source": [
    "GCAS['loan_sum7']=GCAS['loan']-GCAS['loanret']\n",
    "GCAS['grnt_sum']=GCAS['grnt']-GCAS['grntret']"
   ]
  },
  {
   "cell_type": "code",
   "execution_count": 16,
   "metadata": {},
   "outputs": [
    {
     "data": {
      "text/html": [
       "<div>\n",
       "<style>\n",
       "    .dataframe thead tr:only-child th {\n",
       "        text-align: right;\n",
       "    }\n",
       "\n",
       "    .dataframe thead th {\n",
       "        text-align: left;\n",
       "    }\n",
       "\n",
       "    .dataframe tbody tr th {\n",
       "        vertical-align: top;\n",
       "    }\n",
       "</style>\n",
       "<table border=\"1\" class=\"dataframe\">\n",
       "  <thead>\n",
       "    <tr style=\"text-align: right;\">\n",
       "      <th></th>\n",
       "      <th>ban</th>\n",
       "      <th>sys</th>\n",
       "      <th>datacode</th>\n",
       "      <th>grnt</th>\n",
       "      <th>grntret</th>\n",
       "      <th>loan</th>\n",
       "      <th>loanret</th>\n",
       "      <th>loan_sum7</th>\n",
       "      <th>grnt_sum</th>\n",
       "    </tr>\n",
       "  </thead>\n",
       "  <tbody>\n",
       "    <tr>\n",
       "      <th>282507</th>\n",
       "      <td>T0300060</td>\n",
       "      <td>31</td>\n",
       "      <td>B</td>\n",
       "      <td>284614</td>\n",
       "      <td>67760</td>\n",
       "      <td>299594</td>\n",
       "      <td>71326</td>\n",
       "      <td>228268</td>\n",
       "      <td>216854</td>\n",
       "    </tr>\n",
       "    <tr>\n",
       "      <th>286833</th>\n",
       "      <td>T0304143</td>\n",
       "      <td>31</td>\n",
       "      <td>B</td>\n",
       "      <td>271978</td>\n",
       "      <td>143033</td>\n",
       "      <td>286293</td>\n",
       "      <td>150561</td>\n",
       "      <td>135732</td>\n",
       "      <td>128945</td>\n",
       "    </tr>\n",
       "    <tr>\n",
       "      <th>301599</th>\n",
       "      <td>T0317079</td>\n",
       "      <td>31</td>\n",
       "      <td>B</td>\n",
       "      <td>331051</td>\n",
       "      <td>78029</td>\n",
       "      <td>348475</td>\n",
       "      <td>82136</td>\n",
       "      <td>266339</td>\n",
       "      <td>253022</td>\n",
       "    </tr>\n",
       "    <tr>\n",
       "      <th>392364</th>\n",
       "      <td>T0400775</td>\n",
       "      <td>31</td>\n",
       "      <td>B</td>\n",
       "      <td>284801</td>\n",
       "      <td>0</td>\n",
       "      <td>299791</td>\n",
       "      <td>0</td>\n",
       "      <td>299791</td>\n",
       "      <td>284801</td>\n",
       "    </tr>\n",
       "  </tbody>\n",
       "</table>\n",
       "</div>"
      ],
      "text/plain": [
       "             ban  sys datacode    grnt  grntret    loan  loanret  loan_sum7  \\\n",
       "282507  T0300060   31        B  284614    67760  299594    71326     228268   \n",
       "286833  T0304143   31        B  271978   143033  286293   150561     135732   \n",
       "301599  T0317079   31        B  331051    78029  348475    82136     266339   \n",
       "392364  T0400775   31        B  284801        0  299791        0     299791   \n",
       "\n",
       "        grnt_sum  \n",
       "282507    216854  \n",
       "286833    128945  \n",
       "301599    253022  \n",
       "392364    284801  "
      ]
     },
     "execution_count": 16,
     "metadata": {},
     "output_type": "execute_result"
    }
   ],
   "source": [
    "GCAS.head()"
   ]
  },
  {
   "cell_type": "code",
   "execution_count": 17,
   "metadata": {},
   "outputs": [
    {
     "data": {
      "text/html": [
       "<div>\n",
       "<style>\n",
       "    .dataframe thead tr:only-child th {\n",
       "        text-align: right;\n",
       "    }\n",
       "\n",
       "    .dataframe thead th {\n",
       "        text-align: left;\n",
       "    }\n",
       "\n",
       "    .dataframe tbody tr th {\n",
       "        vertical-align: top;\n",
       "    }\n",
       "</style>\n",
       "<table border=\"1\" class=\"dataframe\">\n",
       "  <thead>\n",
       "    <tr style=\"text-align: right;\">\n",
       "      <th></th>\n",
       "      <th>ban</th>\n",
       "      <th>company</th>\n",
       "      <th>overdueday</th>\n",
       "    </tr>\n",
       "  </thead>\n",
       "  <tbody>\n",
       "    <tr>\n",
       "      <th>0</th>\n",
       "      <td>607</td>\n",
       "      <td>一星營造廠</td>\n",
       "      <td>0</td>\n",
       "    </tr>\n",
       "    <tr>\n",
       "      <th>1</th>\n",
       "      <td>3029</td>\n",
       "      <td>大豐合記報關行</td>\n",
       "      <td>0</td>\n",
       "    </tr>\n",
       "    <tr>\n",
       "      <th>2</th>\n",
       "      <td>3219</td>\n",
       "      <td>勝發輪船</td>\n",
       "      <td>0</td>\n",
       "    </tr>\n",
       "    <tr>\n",
       "      <th>3</th>\n",
       "      <td>3251</td>\n",
       "      <td>三通報關通運</td>\n",
       "      <td>0</td>\n",
       "    </tr>\n",
       "    <tr>\n",
       "      <th>4</th>\n",
       "      <td>4006</td>\n",
       "      <td>三友煤氣行</td>\n",
       "      <td>970416</td>\n",
       "    </tr>\n",
       "  </tbody>\n",
       "</table>\n",
       "</div>"
      ],
      "text/plain": [
       "    ban               company  overdueday\n",
       "0   607   一星營造廠                         0\n",
       "1  3029     大豐合記報關行                     0\n",
       "2  3219  勝發輪船                           0\n",
       "3  3251    三通報關通運                       0\n",
       "4  4006                 三友煤氣行      970416"
      ]
     },
     "execution_count": 17,
     "metadata": {},
     "output_type": "execute_result"
    }
   ],
   "source": [
    "GAPLF0.head()"
   ]
  },
  {
   "cell_type": "code",
   "execution_count": 18,
   "metadata": {},
   "outputs": [
    {
     "data": {
      "text/html": [
       "<div>\n",
       "<style>\n",
       "    .dataframe thead tr:only-child th {\n",
       "        text-align: right;\n",
       "    }\n",
       "\n",
       "    .dataframe thead th {\n",
       "        text-align: left;\n",
       "    }\n",
       "\n",
       "    .dataframe tbody tr th {\n",
       "        vertical-align: top;\n",
       "    }\n",
       "</style>\n",
       "<table border=\"1\" class=\"dataframe\">\n",
       "  <thead>\n",
       "    <tr style=\"text-align: right;\">\n",
       "      <th></th>\n",
       "      <th>ban</th>\n",
       "      <th>sys</th>\n",
       "      <th>datacode</th>\n",
       "      <th>grnt</th>\n",
       "      <th>grntret</th>\n",
       "      <th>loan</th>\n",
       "      <th>loanret</th>\n",
       "      <th>loan_sum7</th>\n",
       "      <th>grnt_sum</th>\n",
       "      <th>company</th>\n",
       "      <th>overdueday</th>\n",
       "    </tr>\n",
       "  </thead>\n",
       "  <tbody>\n",
       "    <tr>\n",
       "      <th>0</th>\n",
       "      <td>T0300060</td>\n",
       "      <td>31</td>\n",
       "      <td>B</td>\n",
       "      <td>284614</td>\n",
       "      <td>67760</td>\n",
       "      <td>299594</td>\n",
       "      <td>71326</td>\n",
       "      <td>228268</td>\n",
       "      <td>216854</td>\n",
       "      <td>昌邑生機</td>\n",
       "      <td>1020716</td>\n",
       "    </tr>\n",
       "    <tr>\n",
       "      <th>1</th>\n",
       "      <td>T0304143</td>\n",
       "      <td>31</td>\n",
       "      <td>B</td>\n",
       "      <td>271978</td>\n",
       "      <td>143033</td>\n",
       "      <td>286293</td>\n",
       "      <td>150561</td>\n",
       "      <td>135732</td>\n",
       "      <td>128945</td>\n",
       "      <td>寶光宗教文物企業社</td>\n",
       "      <td>1010523</td>\n",
       "    </tr>\n",
       "    <tr>\n",
       "      <th>2</th>\n",
       "      <td>T0317079</td>\n",
       "      <td>31</td>\n",
       "      <td>B</td>\n",
       "      <td>331051</td>\n",
       "      <td>78029</td>\n",
       "      <td>348475</td>\n",
       "      <td>82136</td>\n",
       "      <td>266339</td>\n",
       "      <td>253022</td>\n",
       "      <td>昂進照明企業社</td>\n",
       "      <td>1040527</td>\n",
       "    </tr>\n",
       "    <tr>\n",
       "      <th>3</th>\n",
       "      <td>T0400775</td>\n",
       "      <td>31</td>\n",
       "      <td>B</td>\n",
       "      <td>284801</td>\n",
       "      <td>0</td>\n",
       "      <td>299791</td>\n",
       "      <td>0</td>\n",
       "      <td>299791</td>\n",
       "      <td>284801</td>\n",
       "      <td>明坤工程行</td>\n",
       "      <td>1061020</td>\n",
       "    </tr>\n",
       "  </tbody>\n",
       "</table>\n",
       "</div>"
      ],
      "text/plain": [
       "        ban  sys datacode    grnt  grntret    loan  loanret  loan_sum7  \\\n",
       "0  T0300060   31        B  284614    67760  299594    71326     228268   \n",
       "1  T0304143   31        B  271978   143033  286293   150561     135732   \n",
       "2  T0317079   31        B  331051    78029  348475    82136     266339   \n",
       "3  T0400775   31        B  284801        0  299791        0     299791   \n",
       "\n",
       "   grnt_sum    company  overdueday  \n",
       "0    216854       昌邑生機     1020716  \n",
       "1    128945  寶光宗教文物企業社     1010523  \n",
       "2    253022    昂進照明企業社     1040527  \n",
       "3    284801      明坤工程行     1061020  "
      ]
     },
     "execution_count": 18,
     "metadata": {},
     "output_type": "execute_result"
    }
   ],
   "source": [
    "result = pd.merge(GCAS,GAPLF0, left_on='ban', right_on='ban', how='left')\n",
    "result"
   ]
  },
  {
   "cell_type": "code",
   "execution_count": null,
   "metadata": {},
   "outputs": [],
   "source": [
    "result"
   ]
  },
  {
   "cell_type": "code",
   "execution_count": null,
   "metadata": {},
   "outputs": [],
   "source": [
    "# https://itw01.com/RMIE58I.html\n",
    "# https://github.com/yhat/pandasql\n",
    "# ! pip install pandasql"
   ]
  },
  {
   "cell_type": "code",
   "execution_count": 34,
   "metadata": {},
   "outputs": [],
   "source": [
    "# from pandasql import sqldf\n",
    "from pandasql import sqldf\n",
    "pysqldf = lambda q: sqldf(q, globals())\n",
    "# df=pysqldf(q)"
   ]
  },
  {
   "cell_type": "code",
   "execution_count": 38,
   "metadata": {},
   "outputs": [
    {
     "data": {
      "text/html": [
       "<div>\n",
       "<style>\n",
       "    .dataframe thead tr:only-child th {\n",
       "        text-align: right;\n",
       "    }\n",
       "\n",
       "    .dataframe thead th {\n",
       "        text-align: left;\n",
       "    }\n",
       "\n",
       "    .dataframe tbody tr th {\n",
       "        vertical-align: top;\n",
       "    }\n",
       "</style>\n",
       "<table border=\"1\" class=\"dataframe\">\n",
       "  <thead>\n",
       "    <tr style=\"text-align: right;\">\n",
       "      <th></th>\n",
       "      <th>company</th>\n",
       "      <th>count</th>\n",
       "      <th>loan_sum7_123</th>\n",
       "      <th>grnt_sum_123</th>\n",
       "      <th>overdueday</th>\n",
       "    </tr>\n",
       "  </thead>\n",
       "  <tbody>\n",
       "    <tr>\n",
       "      <th>0</th>\n",
       "      <td>明坤工程行</td>\n",
       "      <td>1</td>\n",
       "      <td>299791</td>\n",
       "      <td>284801</td>\n",
       "      <td>1061020</td>\n",
       "    </tr>\n",
       "    <tr>\n",
       "      <th>1</th>\n",
       "      <td>昂進照明企業社</td>\n",
       "      <td>1</td>\n",
       "      <td>266339</td>\n",
       "      <td>253022</td>\n",
       "      <td>1040527</td>\n",
       "    </tr>\n",
       "    <tr>\n",
       "      <th>2</th>\n",
       "      <td>昌邑生機</td>\n",
       "      <td>1</td>\n",
       "      <td>228268</td>\n",
       "      <td>216854</td>\n",
       "      <td>1020716</td>\n",
       "    </tr>\n",
       "    <tr>\n",
       "      <th>3</th>\n",
       "      <td>寶光宗教文物企業社</td>\n",
       "      <td>1</td>\n",
       "      <td>135732</td>\n",
       "      <td>128945</td>\n",
       "      <td>1010523</td>\n",
       "    </tr>\n",
       "  </tbody>\n",
       "</table>\n",
       "</div>"
      ],
      "text/plain": [
       "     company  count  loan_sum7_123  grnt_sum_123  overdueday\n",
       "0      明坤工程行      1         299791        284801     1061020\n",
       "1    昂進照明企業社      1         266339        253022     1040527\n",
       "2       昌邑生機      1         228268        216854     1020716\n",
       "3  寶光宗教文物企業社      1         135732        128945     1010523"
      ]
     },
     "execution_count": 38,
     "metadata": {},
     "output_type": "execute_result"
    }
   ],
   "source": [
    "done = pysqldf(\"SELECT company,count(ban) as count ,sum(loan_sum7) as loan_sum7_123 ,sum(grnt_sum) as grnt_sum_123,overdueday FROM result group by ban  order by grnt_sum desc;\")\n",
    "done"
   ]
  },
  {
   "cell_type": "code",
   "execution_count": 93,
   "metadata": {},
   "outputs": [
    {
     "ename": "TypeError",
     "evalue": "'str' object is not callable",
     "output_type": "error",
     "traceback": [
      "\u001b[1;31m---------------------------------------------------------------------------\u001b[0m",
      "\u001b[1;31mTypeError\u001b[0m                                 Traceback (most recent call last)",
      "\u001b[1;32m<ipython-input-93-56071f99d141>\u001b[0m in \u001b[0;36m<module>\u001b[1;34m()\u001b[0m\n\u001b[1;32m----> 1\u001b[1;33m \u001b[0mYYYMM\u001b[0m\u001b[1;33m(\u001b[0m\u001b[1;33m)\u001b[0m\u001b[1;33m\u001b[0m\u001b[0m\n\u001b[0m",
      "\u001b[1;31mTypeError\u001b[0m: 'str' object is not callable"
     ]
    }
   ],
   "source": [
    "YYYMM()"
   ]
  },
  {
   "cell_type": "code",
   "execution_count": 95,
   "metadata": {},
   "outputs": [
    {
     "name": "stdout",
     "output_type": "stream",
     "text": [
      "2996.199748177771\n",
      "2996.1997474446644\n"
     ]
    },
    {
     "data": {
      "text/html": [
       "<div>\n",
       "<style>\n",
       "    .dataframe thead tr:only-child th {\n",
       "        text-align: right;\n",
       "    }\n",
       "\n",
       "    .dataframe thead th {\n",
       "        text-align: left;\n",
       "    }\n",
       "\n",
       "    .dataframe tbody tr th {\n",
       "        vertical-align: top;\n",
       "    }\n",
       "</style>\n",
       "<table border=\"1\" class=\"dataframe\">\n",
       "  <thead>\n",
       "    <tr style=\"text-align: right;\">\n",
       "      <th></th>\n",
       "      <th>company</th>\n",
       "      <th>count</th>\n",
       "      <th>loan_sum7_123</th>\n",
       "      <th>grnt_sum_123</th>\n",
       "      <th>overdueday</th>\n",
       "      <th>runtime</th>\n",
       "      <th>name</th>\n",
       "      <th>yyymm</th>\n",
       "    </tr>\n",
       "  </thead>\n",
       "  <tbody>\n",
       "    <tr>\n",
       "      <th>0</th>\n",
       "      <td>明坤工程行</td>\n",
       "      <td>1</td>\n",
       "      <td>299791</td>\n",
       "      <td>284801</td>\n",
       "      <td>1061020</td>\n",
       "      <td>2996.199747</td>\n",
       "      <td>user</td>\n",
       "      <td>10705</td>\n",
       "    </tr>\n",
       "    <tr>\n",
       "      <th>1</th>\n",
       "      <td>昂進照明企業社</td>\n",
       "      <td>1</td>\n",
       "      <td>266339</td>\n",
       "      <td>253022</td>\n",
       "      <td>1040527</td>\n",
       "      <td>2996.199747</td>\n",
       "      <td>user</td>\n",
       "      <td>10705</td>\n",
       "    </tr>\n",
       "    <tr>\n",
       "      <th>2</th>\n",
       "      <td>昌邑生機</td>\n",
       "      <td>1</td>\n",
       "      <td>228268</td>\n",
       "      <td>216854</td>\n",
       "      <td>1020716</td>\n",
       "      <td>2996.199747</td>\n",
       "      <td>user</td>\n",
       "      <td>10705</td>\n",
       "    </tr>\n",
       "    <tr>\n",
       "      <th>3</th>\n",
       "      <td>寶光宗教文物企業社</td>\n",
       "      <td>1</td>\n",
       "      <td>135732</td>\n",
       "      <td>128945</td>\n",
       "      <td>1010523</td>\n",
       "      <td>2996.199747</td>\n",
       "      <td>user</td>\n",
       "      <td>10705</td>\n",
       "    </tr>\n",
       "  </tbody>\n",
       "</table>\n",
       "</div>"
      ],
      "text/plain": [
       "     company  count  loan_sum7_123  grnt_sum_123  overdueday      runtime  \\\n",
       "0      明坤工程行      1         299791        284801     1061020  2996.199747   \n",
       "1    昂進照明企業社      1         266339        253022     1040527  2996.199747   \n",
       "2       昌邑生機      1         228268        216854     1020716  2996.199747   \n",
       "3  寶光宗教文物企業社      1         135732        128945     1010523  2996.199747   \n",
       "\n",
       "   name  yyymm  \n",
       "0  user  10705  \n",
       "1  user  10705  \n",
       "2  user  10705  \n",
       "3  user  10705  "
      ]
     },
     "execution_count": 95,
     "metadata": {},
     "output_type": "execute_result"
    }
   ],
   "source": [
    "stop = timeit.default_timer()\n",
    "print(stop)\n",
    "print(stop - start)\n",
    "done['yyymm']=YYYMM()\n",
    "done['runtime']=stop - start\n",
    "done['name']=getpass.getuser()\n",
    "done"
   ]
  },
  {
   "cell_type": "code",
   "execution_count": null,
   "metadata": {
    "collapsed": true
   },
   "outputs": [],
   "source": []
  },
  {
   "cell_type": "code",
   "execution_count": null,
   "metadata": {
    "collapsed": true
   },
   "outputs": [],
   "source": []
  },
  {
   "cell_type": "code",
   "execution_count": null,
   "metadata": {
    "collapsed": true
   },
   "outputs": [],
   "source": []
  },
  {
   "cell_type": "code",
   "execution_count": null,
   "metadata": {
    "collapsed": true
   },
   "outputs": [],
   "source": []
  },
  {
   "cell_type": "code",
   "execution_count": null,
   "metadata": {
    "collapsed": true
   },
   "outputs": [],
   "source": []
  },
  {
   "cell_type": "code",
   "execution_count": null,
   "metadata": {},
   "outputs": [],
   "source": [
    "# count(Ban) as count ,sum(Loan_sum7) as Loan_sum7 ,sum(Grnt_sum) as Grnt_sum\n",
    "result.groupby('ban').sum()"
   ]
  },
  {
   "cell_type": "code",
   "execution_count": null,
   "metadata": {},
   "outputs": [],
   "source": [
    "# https://medium.com/datainpoint/%E5%BE%9E-pandas-%E9%96%8B%E5%A7%8B-python-%E8%88%87%E8%B3%87%E6%96%99%E7%A7%91%E5%AD%B8%E4%B9%8B%E6%97%85-8dee36796d4a\n",
    "# count(Ban) as count ,sum(Loan_sum7) as Loan_sum7 ,sum(Grnt_sum) as Grnt_sum\n",
    "# table<-sqldf(\"SELECT Company,count(Ban) as count ,sum(Loan_sum7) as Loan_sum7 ,sum(Grnt_sum) as Grnt_sum,OverdueDay FROM merge1 group by Ban  order by Grnt_sum desc\",drv=\"SQLite\")\n",
    "result.groupby(by = 'ban')['loan_sum7'].sum()"
   ]
  },
  {
   "cell_type": "code",
   "execution_count": null,
   "metadata": {},
   "outputs": [],
   "source": [
    "# table<-sqldf(\"SELECT Company,count(Ban) as count ,sum(Loan_sum7) as Loan_sum7 ,sum(Grnt_sum) as Grnt_sum,OverdueDay FROM merge1 group by Ban  order by Grnt_sum desc\",drv=\"SQLite\")\n",
    "result.groupby(by = 'ban')['grnt_sum'].sum()"
   ]
  },
  {
   "cell_type": "code",
   "execution_count": null,
   "metadata": {},
   "outputs": [],
   "source": [
    "result.groupby(by = 'ban')['ban'].count()"
   ]
  },
  {
   "cell_type": "code",
   "execution_count": null,
   "metadata": {},
   "outputs": [],
   "source": [
    "# table<-sqldf(\"SELECT Company,count(Ban) as count ,sum(Loan_sum7) as Loan_sum7 ,sum(Grnt_sum) as Grnt_sum,OverdueDay FROM merge1 group by Ban  order by Grnt_sum desc\",drv=\"SQLite\")\n",
    "result.groupby(by = 'ban')['ban'].count()\n",
    "pd_count = pd.DataFrame(result.groupby(by = 'ban')['ban'].count())\n",
    "print(type(pd_count))\n",
    "print(pd_count.values)\n",
    "result['count']=pd_count.values"
   ]
  },
  {
   "cell_type": "code",
   "execution_count": null,
   "metadata": {},
   "outputs": [],
   "source": [
    "# del result['aaa']\n",
    "result"
   ]
  },
  {
   "cell_type": "code",
   "execution_count": null,
   "metadata": {},
   "outputs": [],
   "source": [
    "# table<-sqldf(\"SELECT Company,count(Ban) as count ,sum(Loan_sum7) as Loan_sum7 ,sum(Grnt_sum) as Grnt_sum,OverdueDay FROM merge1 group by Ban  order by Grnt_sum desc\",drv=\"SQLite\")\n",
    "# result.groupby(by = 'ban')[['grnt_sum', 'loan_sum7']].sum()\n",
    "# pd.DataFrame(result.groupby(by = 'ban')[['grnt_sum', 'loan_sum7']].sum())"
   ]
  },
  {
   "cell_type": "code",
   "execution_count": null,
   "metadata": {},
   "outputs": [],
   "source": [
    "result = result.sort_values('grnt_sum',ascending=False)\n",
    "result"
   ]
  },
  {
   "cell_type": "code",
   "execution_count": null,
   "metadata": {
    "collapsed": true
   },
   "outputs": [],
   "source": [
    "# result[['company','count','loan_sum7','grnt_sum','overdueDay']]"
   ]
  },
  {
   "cell_type": "code",
   "execution_count": null,
   "metadata": {},
   "outputs": [],
   "source": [
    "result"
   ]
  },
  {
   "cell_type": "code",
   "execution_count": null,
   "metadata": {
    "collapsed": true
   },
   "outputs": [],
   "source": [
    "stop = timeit.default_timer()\n",
    "print(stop)\n",
    "print(stop - start)\n",
    "result['runtime']=stop - start\n",
    "result['name']=getpass.getuser()"
   ]
  },
  {
   "cell_type": "code",
   "execution_count": null,
   "metadata": {},
   "outputs": [],
   "source": [
    "result[['company','count','loan_sum7','grnt_sum','overdueday','runtime','name']]"
   ]
  },
  {
   "cell_type": "code",
   "execution_count": null,
   "metadata": {
    "collapsed": true
   },
   "outputs": [],
   "source": [
    "# Python中pandas函数操作数据库\n",
    "# https://blog.csdn.net/u011301133/article/details/52488690\n",
    "# pandas 链接 PostgreSQL 数据库\n",
    "# http://yuanjun.me/python/pandas-postgresql"
   ]
  }
 ],
 "metadata": {
  "kernelspec": {
   "display_name": "Python 3",
   "language": "python",
   "name": "python3"
  },
  "language_info": {
   "codemirror_mode": {
    "name": "ipython",
    "version": 3
   },
   "file_extension": ".py",
   "mimetype": "text/x-python",
   "name": "python",
   "nbconvert_exporter": "python",
   "pygments_lexer": "ipython3",
   "version": "3.6.3"
  }
 },
 "nbformat": 4,
 "nbformat_minor": 2
}
