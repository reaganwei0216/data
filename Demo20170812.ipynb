{
 "cells": [
  {
   "cell_type": "markdown",
   "metadata": {},
   "source": [
    "## Python Basic"
   ]
  },
  {
   "cell_type": "code",
   "execution_count": 1,
   "metadata": {},
   "outputs": [
    {
     "data": {
      "text/plain": [
       "15000"
      ]
     },
     "execution_count": 1,
     "metadata": {},
     "output_type": "execute_result"
    }
   ],
   "source": [
    "a = 500\n",
    "exchange = 30\n",
    "a * exchange"
   ]
  },
  {
   "cell_type": "markdown",
   "metadata": {},
   "source": [
    "## 資料分析範例"
   ]
  },
  {
   "cell_type": "code",
   "execution_count": 8,
   "metadata": {},
   "outputs": [
    {
     "data": {
      "text/plain": [
       "'<!DOCTYPE html>\\n<html>\\n<head>\\n<meta charset=\"utf-8\">\\n<meta http-equiv=\"X-UA-Compatible\" content=\"IE=edge\">\\n<script type=\"text/javascript\">window.NREUM||(NREUM={});NREUM.info={\"beacon\":\"bam.nr-data.net\",\"errorBeacon\":\"bam.nr-data.net\",\"licenseKey\":\"cd4a6493ab\",\"applicationID\":\"83495717\",\"transactionName\":\"dV5dRBNcDlkEEU5BEV9SVm8CWwNHFRBOQgtZRg==\",\"queueTime\":1,\"applicationTime\":268,\"agent\":\"\"}</script>\\n<script type=\"text/javascript\">(window.NREUM||(NREUM={})).loader_config={xpid:\"VQ4EVVBUCBAIV1VbAgYGUQ==\"};window.NREUM||(NREUM={}),__nr_require=function(t,n,e){function r(e){if(!n[e]){var o=n[e]={exports:{}};t[e][0].call(o.exports,function(n){var o=t[e][1][n];return r(o||n)},o,o.exports)}return n[e].exports}if(\"function\"==typeof __nr_require)return __nr_require;for(var o=0;o<e.length;o++)r(e[o]);return r}({1:[function(t,n,e){function r(t){try{s.console&&console.log(t)}catch(n){}}var o,i=t(\"ee\"),a=t(15),s={};try{o=localStorage.getItem(\"__nr_flags\").split(\",\"),console&&\"function\"==typeof console.log&&(s.console=!0,o.indexOf(\"dev\")!==-1&&(s.dev=!0),o.indexOf(\"nr_dev\")!==-1&&(s.nrDev=!0))}catch(c){}s.nrDev&&i.on(\"internal-error\",function(t){r(t.stack)}),s.dev&&i.on(\"fn-err\",function(t,n,e){r(e.stack)}),s.dev&&(r(\"NR AGENT IN DEVELOPMENT MODE\"),r(\"flags: \"+a(s,function(t,n){return t}).join(\", \")))},{}],2:[function(t,n,e){function r(t,n,e,r,s){try{p?p-=1:o(s||new UncaughtException(t,n,e),!0)}catch(f){try{i(\"ierr\",[f,c.now(),!0])}catch(d){}}return\"function\"==typeof u&&u.apply(this,a(arguments))}function UncaughtException(t,n,e){this.message=t||\"Uncaught error with no additional information\",this.sourceURL=n,this.line=e}function o(t,n){var e=n?null:c.now();i(\"err\",[t,e])}var i=t(\"handle\"),a=t(16),s=t(\"ee\"),c=t(\"loader\"),f=t(\"gos\"),u=window.onerror,d=!1,l=\"nr@seenError\",p=0;c.features.err=!0,t(1),window.onerror=r;try{throw new Error}catch(h){\"stack\"in h&&(t(8),t(7),\"addEventListener\"in window&&t(5),c.xhrWrappable&&t(9),d=!0)}s.on(\"fn-start\",function(t,n,e){d&&(p+=1)}),s.on(\"fn-err\",function(t,n,e){d&&!e[l]&&(f(e,l,function(){return!0}),this.thrown=!0,o(e))}),s.on(\"fn-end\",function(){d&&!this.thrown&&p>0&&(p-=1)}),s.on(\"internal-error\",function(t){i(\"ierr\",[t,c.now(),!0])})},{}],3:[function(t,n,e){t(\"loader\").features.ins=!0},{}],4:[function(t,n,e){function r(t){}if(window.performance&&window.performance.timing&&window.performance.getEntriesByType){var o=t(\"ee\"),i=t(\"handle\"),a=t(8),s=t(7),c=\"learResourceTimings\",f=\"addEventListener\",u=\"resourcetimingbufferfull\",d=\"bstResource\",l=\"resource\",p=\"-start\",h=\"-end\",m=\"fn\"+p,w=\"fn\"+h,v=\"bstTimer\",y=\"pushState\",g=t(\"loader\");g.features.stn=!0,t(6);var b=NREUM.o.EV;o.on(m,function(t,n){var e=t[0];e instanceof b&&(this.bstStart=g.now())}),o.on(w,function(t,n){var e=t[0];e instanceof b&&i(\"bst\",[e,n,this.bstStart,g.now()])}),a.on(m,function(t,n,e){this.bstStart=g.now(),this.bstType=e}),a.on(w,function(t,n){i(v,[n,this.bstStart,g.now(),this.bstType])}),s.on(m,function(){this.bstStart=g.now()}),s.on(w,function(t,n){i(v,[n,this.bstStart,g.now(),\"requestAnimationFrame\"])}),o.on(y+p,function(t){this.time=g.now(),this.startPath=location.pathname+location.hash}),o.on(y+h,function(t){i(\"bstHist\",[location.pathname+location.hash,this.startPath,this.time])}),f in window.performance&&(window.performance[\"c\"+c]?window.performance[f](u,function(t){i(d,[window.performance.getEntriesByType(l)]),window.performance[\"c\"+c]()},!1):window.performance[f](\"webkit\"+u,function(t){i(d,[window.performance.getEntriesByType(l)]),window.performance[\"webkitC\"+c]()},!1)),document[f](\"scroll\",r,{passive:!0}),document[f](\"keypress\",r,!1),document[f](\"click\",r,!1)}},{}],5:[function(t,n,e){function r(t){for(var n=t;n&&!n.hasOwnProperty(u);)n=Object.getPrototypeOf(n);n&&o(n)}function o(t){s.inPlace(t,[u,d],\"-\",i)}function i(t,n){return t[1]}var a=t(\"ee\").get(\"events\"),s=t(18)(a,!0),c=t(\"gos\"),f=XMLHttpRequest,u=\"addEventListener\",d=\"removeEventListener\";n.exports=a,\"getPrototypeOf\"in Object?(r(document),r(window),r(f.prototype)):f.prototype.hasOwnProperty(u)&&(o(window),o(f.prototype)),a.on(u+\"-start\",function(t,n){var e=t[1],r=c(e,\"nr@wrapped\",function(){function t(){if(\"function\"==typeof e.handleEvent)return e.handleEvent.apply(e,arguments)}var n={object:t,\"function\":e}[typeof e];return n?s(n,\"fn-\",null,n.name||\"anonymous\"):e});this.wrapped=t[1]=r}),a.on(d+\"-start\",function(t){t[1]=this.wrapped||t[1]})},{}],6:[function(t,n,e){var r=t(\"ee\").get(\"history\"),o=t(18)(r);n.exports=r,o.inPlace(window.history,[\"pushState\",\"replaceState\"],\"-\")},{}],7:[function(t,n,e){var r=t(\"ee\").get(\"raf\"),o=t(18)(r),i=\"equestAnimationFrame\";n.exports=r,o.inPlace(window,[\"r\"+i,\"mozR\"+i,\"webkitR\"+i,\"msR\"+i],\"raf-\"),r.on(\"raf-start\",function(t){t[0]=o(t[0],\"fn-\")})},{}],8:[function(t,n,e){function r(t,n,e){t[0]=a(t[0],\"fn-\",null,e)}function o(t,n,e){this.method=e,this.timerDuration=isNaN(t[1])?0:+t[1],t[0]=a(t[0],\"fn-\",this,e)}var i=t(\"ee\").get(\"timer\"),a=t(18)(i),s=\"setTimeout\",c=\"setInterval\",f=\"clearTimeout\",u=\"-start\",d=\"-\";n.exports=i,a.inPlace(window,[s,\"setImmediate\"],s+d),a.inPlace(window,[c],c+d),a.inPlace(window,[f,\"clearImmediate\"],f+d),i.on(c+u,r),i.on(s+u,o)},{}],9:[function(t,n,e){function r(t,n){d.inPlace(n,[\"onreadystatechange\"],\"fn-\",s)}function o(){var t=this,n=u.context(t);t.readyState>3&&!n.resolved&&(n.resolved=!0,u.emit(\"xhr-resolved\",[],t)),d.inPlace(t,y,\"fn-\",s)}function i(t){g.push(t),h&&(x?x.then(a):w?w(a):(E=-E,O.data=E))}function a(){for(var t=0;t<g.length;t++)r([],g[t]);g.length&&(g=[])}function s(t,n){return n}function c(t,n){for(var e in t)n[e]=t[e];return n}t(5);var f=t(\"ee\"),u=f.get(\"xhr\"),d=t(18)(u),l=NREUM.o,p=l.XHR,h=l.MO,m=l.PR,w=l.SI,v=\"readystatechange\",y=[\"onload\",\"onerror\",\"onabort\",\"onloadstart\",\"onloadend\",\"onprogress\",\"ontimeout\"],g=[];n.exports=u;var b=window.XMLHttpRequest=function(t){var n=new p(t);try{u.emit(\"new-xhr\",[n],n),n.addEventListener(v,o,!1)}catch(e){try{u.emit(\"internal-error\",[e])}catch(r){}}return n};if(c(p,b),b.prototype=p.prototype,d.inPlace(b.prototype,[\"open\",\"send\"],\"-xhr-\",s),u.on(\"send-xhr-start\",function(t,n){r(t,n),i(n)}),u.on(\"open-xhr-start\",r),h){var x=m&&m.resolve();if(!w&&!m){var E=1,O=document.createTextNode(E);new h(a).observe(O,{characterData:!0})}}else f.on(\"fn-end\",function(t){t[0]&&t[0].type===v||a()})},{}],10:[function(t,n,e){function r(t){var n=this.params,e=this.metrics;if(!this.ended){this.ended=!0;for(var r=0;r<d;r++)t.removeEventListener(u[r],this.listener,!1);if(!n.aborted){if(e.duration=a.now()-this.startTime,4===t.readyState){n.status=t.status;var i=o(t,this.lastSize);if(i&&(e.rxSize=i),this.sameOrigin){var c=t.getResponseHeader(\"X-NewRelic-App-Data\");c&&(n.cat=c.split(\", \").pop())}}else n.status=0;e.cbTime=this.cbTime,f.emit(\"xhr-done\",[t],t),s(\"xhr\",[n,e,this.startTime])}}}function o(t,n){var e=t.responseType;if(\"json\"===e&&null!==n)return n;var r=\"arraybuffer\"===e||\"blob\"===e||\"json\"===e?t.response:t.responseText;return h(r)}function i(t,n){var e=c(n),r=t.params;r.host=e.hostname+\":\"+e.port,r.pathname=e.pathname,t.sameOrigin=e.sameOrigin}var a=t(\"loader\");if(a.xhrWrappable){var s=t(\"handle\"),c=t(11),f=t(\"ee\"),u=[\"load\",\"error\",\"abort\",\"timeout\"],d=u.length,l=t(\"id\"),p=t(14),h=t(13),m=window.XMLHttpRequest;a.features.xhr=!0,t(9),f.on(\"new-xhr\",function(t){var n=this;n.totalCbs=0,n.called=0,n.cbTime=0,n.end=r,n.ended=!1,n.xhrGuids={},n.lastSize=null,p&&(p>34||p<10)||window.opera||t.addEventListener(\"progress\",function(t){n.lastSize=t.loaded},!1)}),f.on(\"open-xhr-start\",function(t){this.params={method:t[0]},i(this,t[1]),this.metrics={}}),f.on(\"open-xhr-end\",function(t,n){\"loader_config\"in NREUM&&\"xpid\"in NREUM.loader_config&&this.sameOrigin&&n.setRequestHeader(\"X-NewRelic-ID\",NREUM.loader_config.xpid)}),f.on(\"send-xhr-start\",function(t,n){var e=this.metrics,r=t[0],o=this;if(e&&r){var i=h(r);i&&(e.txSize=i)}this.startTime=a.now(),this.listener=function(t){try{\"abort\"===t.type&&(o.params.aborted=!0),(\"load\"!==t.type||o.called===o.totalCbs&&(o.onloadCalled||\"function\"!=typeof n.onload))&&o.end(n)}catch(e){try{f.emit(\"internal-error\",[e])}catch(r){}}};for(var s=0;s<d;s++)n.addEventListener(u[s],this.listener,!1)}),f.on(\"xhr-cb-time\",function(t,n,e){this.cbTime+=t,n?this.onloadCalled=!0:this.called+=1,this.called!==this.totalCbs||!this.onloadCalled&&\"function\"==typeof e.onload||this.end(e)}),f.on(\"xhr-load-added\",function(t,n){var e=\"\"+l(t)+!!n;this.xhrGuids&&!this.xhrGuids[e]&&(this.xhrGuids[e]=!0,this.totalCbs+=1)}),f.on(\"xhr-load-removed\",function(t,n){var e=\"\"+l(t)+!!n;this.xhrGuids&&this.xhrGuids[e]&&(delete this.xhrGuids[e],this.totalCbs-=1)}),f.on(\"addEventListener-end\",function(t,n){n instanceof m&&\"load\"===t[0]&&f.emit(\"xhr-load-added\",[t[1],t[2]],n)}),f.on(\"removeEventListener-end\",function(t,n){n instanceof m&&\"load\"===t[0]&&f.emit(\"xhr-load-removed\",[t[1],t[2]],n)}),f.on(\"fn-start\",function(t,n,e){n instanceof m&&(\"onload\"===e&&(this.onload=!0),(\"load\"===(t[0]&&t[0].type)||this.onload)&&(this.xhrCbStart=a.now()))}),f.on(\"fn-end\",function(t,n){this.xhrCbStart&&f.emit(\"xhr-cb-time\",[a.now()-this.xhrCbStart,this.onload,n],n)})}},{}],11:[function(t,n,e){n.exports=function(t){var n=document.createElement(\"a\"),e=window.location,r={};n.href=t,r.port=n.port;var o=n.href.split(\"://\");!r.port&&o[1]&&(r.port=o[1].split(\"/\")[0].split(\"@\").pop().split(\":\")[1]),r.port&&\"0\"!==r.port||(r.port=\"https\"===o[0]?\"443\":\"80\"),r.hostname=n.hostname||e.hostname,r.pathname=n.pathname,r.protocol=o[0],\"/\"!==r.pathname.charAt(0)&&(r.pathname=\"/\"+r.pathname);var i=!n.protocol||\":\"===n.protocol||n.protocol===e.protocol,a=n.hostname===document.domain&&n.port===e.port;return r.sameOrigin=i&&(!n.hostname||a),r}},{}],12:[function(t,n,e){function r(){}function o(t,n,e){return function(){return i(t,[f.now()].concat(s(arguments)),n?null:this,e),n?void 0:this}}var i=t(\"handle\"),a=t(15),s=t(16),c=t(\"ee\").get(\"tracer\"),f=t(\"loader\"),u=NREUM;\"undefined\"==typeof window.newrelic&&(newrelic=u);var d=[\"setPageViewName\",\"setCustomAttribute\",\"setErrorHandler\",\"finished\",\"addToTrace\",\"inlineHit\",\"addRelease\"],l=\"api-\",p=l+\"ixn-\";a(d,function(t,n){u[n]=o(l+n,!0,\"api\")}),u.addPageAction=o(l+\"addPageAction\",!0),u.setCurrentRouteName=o(l+\"routeName\",!0),n.exports=newrelic,u.interaction=function(){return(new r).get()};var h=r.prototype={createTracer:function(t,n){var e={},r=this,o=\"function\"==typeof n;return i(p+\"tracer\",[f.now(),t,e],r),function(){if(c.emit((o?\"\":\"no-\")+\"fn-start\",[f.now(),r,o],e),o)try{return n.apply(this,arguments)}catch(t){throw c.emit(\"fn-err\",[arguments,this,t],e),t}finally{c.emit(\"fn-end\",[f.now()],e)}}}};a(\"setName,setAttribute,save,ignore,onEnd,getContext,end,get\".split(\",\"),function(t,n){h[n]=o(p+n)}),newrelic.noticeError=function(t){\"string\"==typeof t&&(t=new Error(t)),i(\"err\",[t,f.now()])}},{}],13:[function(t,n,e){n.exports=function(t){if(\"string\"==typeof t&&t.length)return t.length;if(\"object\"==typeof t){if(\"undefined\"!=typeof ArrayBuffer&&t instanceof ArrayBuffer&&t.byteLength)return t.byteLength;if(\"undefined\"!=typeof Blob&&t instanceof Blob&&t.size)return t.size;if(!(\"undefined\"!=typeof FormData&&t instanceof FormData))try{return JSON.stringify(t).length}catch(n){return}}}},{}],14:[function(t,n,e){var r=0,o=navigator.userAgent.match(/Firefox[\\\\/\\\\s](\\\\d+\\\\.\\\\d+)/);o&&(r=+o[1]),n.exports=r},{}],15:[function(t,n,e){function r(t,n){var e=[],r=\"\",i=0;for(r in t)o.call(t,r)&&(e[i]=n(r,t[r]),i+=1);return e}var o=Object.prototype.hasOwnProperty;n.exports=r},{}],16:[function(t,n,e){function r(t,n,e){n||(n=0),\"undefined\"==typeof e&&(e=t?t.length:0);for(var r=-1,o=e-n||0,i=Array(o<0?0:o);++r<o;)i[r]=t[n+r];return i}n.exports=r},{}],17:[function(t,n,e){n.exports={exists:\"undefined\"!=typeof window.performance&&window.performance.timing&&\"undefined\"!=typeof window.performance.timing.navigationStart}},{}],18:[function(t,n,e){function r(t){return!(t&&t instanceof Function&&t.apply&&!t[a])}var o=t(\"ee\"),i=t(16),a=\"nr@original\",s=Object.prototype.hasOwnProperty,c=!1;n.exports=function(t,n){function e(t,n,e,o){function nrWrapper(){var r,a,s,c;try{a=this,r=i(arguments),s=\"function\"==typeof e?e(r,a):e||{}}catch(f){l([f,\"\",[r,a,o],s])}u(n+\"start\",[r,a,o],s);try{return c=t.apply(a,r)}catch(d){throw u(n+\"err\",[r,a,d],s),d}finally{u(n+\"end\",[r,a,c],s)}}return r(t)?t:(n||(n=\"\"),nrWrapper[a]=t,d(t,nrWrapper),nrWrapper)}function f(t,n,o,i){o||(o=\"\");var a,s,c,f=\"-\"===o.charAt(0);for(c=0;c<n.length;c++)s=n[c],a=t[s],r(a)||(t[s]=e(a,f?s+o:o,i,s))}function u(e,r,o){if(!c||n){var i=c;c=!0;try{t.emit(e,r,o,n)}catch(a){l([a,e,r,o])}c=i}}function d(t,n){if(Object.defineProperty&&Object.keys)try{var e=Object.keys(t);return e.forEach(function(e){Object.defineProperty(n,e,{get:function(){return t[e]},set:function(n){return t[e]=n,n}})}),n}catch(r){l([r])}for(var o in t)s.call(t,o)&&(n[o]=t[o]);return n}function l(n){try{t.emit(\"internal-error\",n)}catch(e){}}return t||(t=o),e.inPlace=f,e.flag=a,e}},{}],ee:[function(t,n,e){function r(){}function o(t){function n(t){return t&&t instanceof r?t:t?c(t,s,i):i()}function e(e,r,o,i){if(!l.aborted||i){t&&t(e,r,o);for(var a=n(o),s=h(e),c=s.length,f=0;f<c;f++)s[f].apply(a,r);var d=u[y[e]];return d&&d.push([g,e,r,a]),a}}function p(t,n){v[t]=h(t).concat(n)}function h(t){return v[t]||[]}function m(t){return d[t]=d[t]||o(e)}function w(t,n){f(t,function(t,e){n=n||\"feature\",y[e]=n,n in u||(u[n]=[])})}var v={},y={},g={on:p,emit:e,get:m,listeners:h,context:n,buffer:w,abort:a,aborted:!1};return g}function i(){return new r}function a(){(u.api||u.feature)&&(l.aborted=!0,u=l.backlog={})}var s=\"nr@context\",c=t(\"gos\"),f=t(15),u={},d={},l=n.exports=o();l.backlog=u},{}],gos:[function(t,n,e){function r(t,n,e){if(o.call(t,n))return t[n];var r=e();if(Object.defineProperty&&Object.keys)try{return Object.defineProperty(t,n,{value:r,writable:!0,enumerable:!1}),r}catch(i){}return t[n]=r,r}var o=Object.prototype.hasOwnProperty;n.exports=r},{}],handle:[function(t,n,e){function r(t,n,e,r){o.buffer([t],r),o.emit(t,n,e)}var o=t(\"ee\").get(\"handle\");n.exports=r,r.ee=o},{}],id:[function(t,n,e){function r(t){var n=typeof t;return!t||\"object\"!==n&&\"function\"!==n?-1:t===window?0:a(t,i,function(){return o++})}var o=1,i=\"nr@id\",a=t(\"gos\");n.exports=r},{}],loader:[function(t,n,e){function r(){if(!x++){var t=b.info=NREUM.info,n=l.getElementsByTagName(\"script\")[0];if(setTimeout(u.abort,3e4),!(t&&t.licenseKey&&t.applicationID&&n))return u.abort();f(y,function(n,e){t[n]||(t[n]=e)}),c(\"mark\",[\"onload\",a()+b.offset],null,\"api\");var e=l.createElement(\"script\");e.src=\"https://\"+t.agent,n.parentNode.insertBefore(e,n)}}function o(){\"complete\"===l.readyState&&i()}function i(){c(\"mark\",[\"domContent\",a()+b.offset],null,\"api\")}function a(){return E.exists&&performance.now?Math.round(performance.now()):(s=Math.max((new Date).getTime(),s))-b.offset}var s=(new Date).getTime(),c=t(\"handle\"),f=t(15),u=t(\"ee\"),d=window,l=d.document,p=\"addEventListener\",h=\"attachEvent\",m=d.XMLHttpRequest,w=m&&m.prototype;NREUM.o={ST:setTimeout,SI:d.setImmediate,CT:clearTimeout,XHR:m,REQ:d.Request,EV:d.Event,PR:d.Promise,MO:d.MutationObserver};var v=\"\"+location,y={beacon:\"bam.nr-data.net\",errorBeacon:\"bam.nr-data.net\",agent:\"js-agent.newrelic.com/nr-1071.min.js\"},g=m&&w&&w[p]&&!/CriOS/.test(navigator.userAgent),b=n.exports={offset:s,now:a,origin:v,features:{},xhrWrappable:g};t(12),l[p]?(l[p](\"DOMContentLoaded\",i,!1),d[p](\"load\",r,!1)):(l[h](\"onreadystatechange\",o),d[h](\"onload\",r)),c(\"mark\",[\"firstbyte\",s],null,\"api\");var x=0,E=t(17)},{}]},{},[\"loader\",2,10,4,3]);</script>\\n<meta name=\"viewport\" content=\"width=device-width, initial-scale=1.0\">\\n<link rel=\"shortcut icon\" href=\"/favicon.ico\">\\n<title>比特幣/Bitcoin 匯率走勢 (BTC/USD) | CoinGecko(幣虎)</title>\\n<meta name=\"description\" content=\"比特幣 數字貨幣歷史 BTC/USD 匯率圖表\" />\\n\\n<meta property=\"og:title\" content=\"比特幣/Bitcoin 匯率走勢 (BTC/USD) | CoinGecko(幣虎)\">\\n<meta property=\"og:type\" content=\"website\" />\\n<meta property=\"og:description\" content=\"比特幣 數字貨幣歷史 BTC/USD 匯率圖表\">\\n<meta property=\"og:image\" content=\"https://www.coingecko.com/assets/coin-250/bitcoin.png\">\\n<meta property=\"og:site_name\" content=\"CoinGecko\">\\n<link rel=\"alternate\" hreflang=\"en\" href=\"https://www.coingecko.com/en/price_charts/bitcoin/usd\" />\\n<link rel=\"alternate\" hreflang=\"zh\" href=\"https://www.coingecko.com/zh/%E4%BB%B7%E6%A0%BC%E5%9B%BE/%E6%AF%94%E7%89%B9%E5%B8%81/usd\" />\\n<link rel=\"alternate\" hreflang=\"zh-tw\" href=\"https://www.coingecko.com/zh-tw/%E5%8C%AF%E7%8E%87%E5%9C%96/%E6%AF%94%E7%89%B9%E5%B9%A3/usd\" />\\n<link rel=\"alternate\" hreflang=\"de\" href=\"https://www.coingecko.com/de/kurs_chart/bitcoin/usd\" />\\n<link rel=\"alternate\" hreflang=\"fr\" href=\"https://www.coingecko.com/fr/graphiques_cours/bitcoin/usd\" />\\n<link rel=\"alternate\" hreflang=\"es\" href=\"https://www.coingecko.com/es/tabla_de_precios/bitcoin/usd\" />\\n<link rel=\"alternate\" hreflang=\"ja\" href=\"https://www.coingecko.com/ja/%E7%9B%B8%E5%A0%B4%E3%83%81%E3%83%A3%E3%83%BC%E3%83%88/%E3%83%93%E3%83%83%E3%83%88%E3%82%B3%E3%82%A4%E3%83%B3/usd\" />\\n<link rel=\"alternate\" hreflang=\"id\" href=\"https://www.coingecko.com/id/grafik_harga/bitcoin/usd\" />\\n<link rel=\"alternate\" hreflang=\"ru\" href=\"https://www.coingecko.com/ru/%D0%B4%D0%B8%D0%BD%D0%B0%D0%BC%D0%B8%D0%BA%D0%B0_%D1%86%D0%B5%D0%BD/%D0%B1%D0%B8%D1%82%D0%BA%D0%BE%D0%B8%D0%BD%D0%B0/usd\" />\\n<link rel=\"alternate\" hreflang=\"ko\" href=\"https://www.coingecko.com/ko/%EC%8B%9C%EC%84%B8%EC%B0%A8%ED%8A%B8/%EB%B9%84%ED%8A%B8%EC%BD%94%EC%9D%B8/usd\" />\\n<link rel=\"alternate\" hreflang=\"ar\" href=\"https://www.coingecko.com/ar/%D9%85%D8%AE%D8%B7%D8%B7%D8%A7%D8%AA_%D8%A7%D9%84%D8%B3%D8%B9%D8%B1/%D8%A8%D9%8A%D8%AA%D9%83%D9%88%D9%8A%D9%86/usd\" />\\n<link rel=\"alternate\" hreflang=\"th\" href=\"https://www.coingecko.com/th/%E0%B8%81%E0%B8%A3%E0%B8%B2%E0%B8%9F_%E0%B8%A3%E0%B8%B2%E0%B8%84%E0%B8%B2/%E0%B8%9A%E0%B8%B4%E0%B8%95%E0%B8%84%E0%B8%AD%E0%B8%A2%E0%B8%99%E0%B9%8C/usd\" />\\n<link rel=\"alternate\" hreflang=\"vi\" href=\"https://www.coingecko.com/vi/b%E1%BA%A3ng_gi%C3%A1/bitcoin/usd\" />\\n<link rel=\"alternate\" hreflang=\"it\" href=\"https://www.coingecko.com/it/grafici_del_prezzo/bitcoin/usd\" />\\n<link rel=\"alternate\" hreflang=\"pt\" href=\"https://www.coingecko.com/pt/gr%C3%A1ficos_de_pre%C3%A7os/bitcoin/usd\" />\\n<link rel=\"stylesheet\" media=\"all\" href=\"https://www.coingecko.com/assets/application-074bc930be838f83059b26b9664e7b70640148c7e7d3eb0e99b606a585e850f7.css\" />\\n<script src=\"https://www.coingecko.com/assets/application-871cadfa89ad26d18cd5be27603a21bf3319072691ddbf07825827256ef02829.js\"></script>\\n<link rel=\"apple-touch-icon-precomposed\" sizes=\"57x57\" href=\"/apple-touch-icon-57x57.png\" />\\n<link rel=\"apple-touch-icon-precomposed\" sizes=\"114x114\" href=\"/apple-touch-icon-114x114.png\" />\\n<link rel=\"apple-touch-icon-precomposed\" sizes=\"72x72\" href=\"/apple-touch-icon-72x72.png\" />\\n<link rel=\"apple-touch-icon-precomposed\" sizes=\"144x144\" href=\"/apple-touch-icon-144x144.png\" />\\n<link rel=\"apple-touch-icon-precomposed\" sizes=\"60x60\" href=\"/apple-touch-icon-60x60.png\" />\\n<link rel=\"apple-touch-icon-precomposed\" sizes=\"120x120\" href=\"/apple-touch-icon-120x120.png\" />\\n<link rel=\"apple-touch-icon-precomposed\" sizes=\"76x76\" href=\"/apple-touch-icon-76x76.png\" />\\n<link rel=\"apple-touch-icon-precomposed\" sizes=\"152x152\" href=\"/apple-touch-icon-152x152.png\" />\\n<link rel=\"icon\" type=\"image/png\" href=\"/favicon-196x196.png\" sizes=\"196x196\" />\\n<link rel=\"icon\" type=\"image/png\" href=\"/favicon-96x96.png\" sizes=\"96x96\" />\\n<link rel=\"icon\" type=\"image/png\" href=\"/favicon-32x32.png\" sizes=\"32x32\" />\\n<link rel=\"icon\" type=\"image/png\" href=\"/favicon-16x16.png\" sizes=\"16x16\" />\\n<link rel=\"icon\" type=\"image/png\" href=\"/favicon-128.png\" sizes=\"128x128\" />\\n<meta name=\"application-name\" content=\"&nbsp;\" />\\n<meta name=\"msapplication-TileColor\" content=\"#FFFFFF\" />\\n<meta name=\"msapplication-TileImage\" content=\"mstile-144x144.png\" />\\n<meta name=\"msapplication-square70x70logo\" content=\"mstile-70x70.png\" />\\n<meta name=\"msapplication-square150x150logo\" content=\"mstile-150x150.png\" />\\n<meta name=\"msapplication-wide310x150logo\" content=\"mstile-310x150.png\" />\\n<meta name=\"msapplication-square310x310logo\" content=\"mstile-310x310.png\" />\\n</head>\\n<body class=\"\">\\n\\n<div id=\"wrapper\">\\n<div class=\"header dashboard\">\\n<div class=\"logo container\">\\n<div class=\"row\">\\n<div class=\"col-md-4\">\\n<div class=\"main-logo\">\\n<a href=\"/zh-tw\">\\n<img alt=\"CoinGecko Logo\" width=\"145px\" height=\"40px\" src=\"https://www.coingecko.com/assets/coingecko-logo-920e592635f3fb66a1a30e6bc47e026c10d814ecab489ace1f950bc791ab84e9.png\" />\\n</a> </div>\\n</div>\\n<div class=\"col-md-8 right-panel desktop\">\\n<div class=\"top-header-right\">\\n<ul class=\"menu-top-header-menu\">\\n<span class=\\'user-navigation\\'></span>\\n<li class=\"divider\"></li>\\n<li class=\"language\">\\n<a href=\"#\" data-toggle=\"dropdown\">繁體中文 <span class=\"fa fa-caret-down\"></span></a>\\n<ul class=\"dropdown-menu \">\\n<li><a class=\"\" href=\"/en/price_charts/bitcoin/usd\">English</a></li>\\n<li><a class=\"\" href=\"/es/tabla_de_precios/bitcoin/usd\">Español</a></li>\\n<li><a class=\"\" href=\"/de/kurs_chart/bitcoin/usd\">Deutsch</a></li>\\n<li><a class=\"\" href=\"/pt/gr%C3%A1ficos_de_pre%C3%A7os/bitcoin/usd\">Português</a></li>\\n<li><a class=\"\" href=\"/fr/graphiques_cours/bitcoin/usd\">Français</a></li>\\n<li><a class=\"\" href=\"/it/grafici_del_prezzo/bitcoin/usd\">Italiano</a></li>\\n<li><a class=\"\" href=\"/id/grafik_harga/bitcoin/usd\">Bahasa Indonesia</a></li>\\n<li><a class=\"\" href=\"/zh/%E4%BB%B7%E6%A0%BC%E5%9B%BE/%E6%AF%94%E7%89%B9%E5%B8%81/usd\">简体中文</a></li>\\n<li><a class=\"\" href=\"/zh-tw/%E5%8C%AF%E7%8E%87%E5%9C%96/%E6%AF%94%E7%89%B9%E5%B9%A3/usd\">繁體中文</a></li>\\n<li><a class=\"\" href=\"/ja/%E7%9B%B8%E5%A0%B4%E3%83%81%E3%83%A3%E3%83%BC%E3%83%88/%E3%83%93%E3%83%83%E3%83%88%E3%82%B3%E3%82%A4%E3%83%B3/usd\">日本語</a></li>\\n<li><a class=\"\" href=\"/ko/%EC%8B%9C%EC%84%B8%EC%B0%A8%ED%8A%B8/%EB%B9%84%ED%8A%B8%EC%BD%94%EC%9D%B8/usd\">한국어</a></li>\\n<li><a class=\"\" href=\"/ru/%D0%B4%D0%B8%D0%BD%D0%B0%D0%BC%D0%B8%D0%BA%D0%B0_%D1%86%D0%B5%D0%BD/%D0%B1%D0%B8%D1%82%D0%BA%D0%BE%D0%B8%D0%BD%D0%B0/usd\">ру́сский</a></li>\\n<li><a class=\"\" href=\"/ar/%D9%85%D8%AE%D8%B7%D8%B7%D8%A7%D8%AA_%D8%A7%D9%84%D8%B3%D8%B9%D8%B1/%D8%A8%D9%8A%D8%AA%D9%83%D9%88%D9%8A%D9%86/usd\">العربية</a></li>\\n<li><a class=\"\" href=\"/th/%E0%B8%81%E0%B8%A3%E0%B8%B2%E0%B8%9F_%E0%B8%A3%E0%B8%B2%E0%B8%84%E0%B8%B2/%E0%B8%9A%E0%B8%B4%E0%B8%95%E0%B8%84%E0%B8%AD%E0%B8%A2%E0%B8%99%E0%B9%8C/usd\">ภาษาไทย</a></li>\\n<li><a class=\"\" href=\"/vi/b%E1%BA%A3ng_gi%C3%A1/bitcoin/usd\">Tiếng việt</a></li>\\n</ul>\\n</li>\\n</ul>\\n</div>\\n</div>\\n</div>\\n<div class=\"language-mobile\">\\n<a href=\"#\" data-toggle=\"collapse\" data-target=\"#language-mobile\"><i class=\"fa fa-globe\" aria-hidden=\"true\"></i></a>\\n</div>\\n<div class=\"main-menu mobile\">\\n<nav class=\"coingecko navbar navbar-light navbar-toggleable-md menu\">\\n<button class=\"navbar-toggler navbar-toggler-right\" type=\"button\" data-toggle=\"collapse\" data-target=\"#containerNavbar\" aria-controls=\"containerNavbar\" aria-expanded=\"false\" aria-label=\"Toggle navigation\">\\n<span class=\"navbar-toggler-icon\"></span>\\n</button>\\n<div class=\"collapse navbar-collapse nav-menu\" id=\"containerNavbar\">\\n<ul class=\"navbar-nav mr-auto\">\\n<li class=\"nav-item\">\\n<a class=\"nav-link\" href=\"/zh-tw\">圖表</a>\\n </li>\\n<li class=\"nav-item\">\\n<a class=\"nav-link\" href=\"/zh-tw/crypto_index/crix\">\\nCRIX\\n</a> </li>\\n<li class=\"nav-item\">\\n<a class=\"nav-link\" href=\"/ico?locale=zh-tw\">\\nICO <span class=\"label label-orange\">Beta</span>\\n</a> </li>\\n<li class=\"nav-item\">\\n<a class=\"nav-link\" href=\"/zh-tw/%E5%95%86%E5%93%81\">\\n商品\\n</a> </li>\\n<li class=\"nav-item\">\\n<a class=\"nav-link\" href=\"/buzz?locale=zh-tw\">\\nBuzz\\n</a> </li>\\n<li class=\"nav-item\">\\n<a class=\"nav-link\" href=\"/zh-tw/%E9%97%9C%E6%96%BC\">關於</a>\\n</li>\\n<li class=\"nav-item\">\\n<a class=\"nav-link\" href=\"/zh-tw/%E5%B8%B8%E5%95%8F%E5%95%8F%E9%A1%8C\">常問問題</a>\\n</li>\\n<li class=\"nav-item\">\\n<a class=\"nav-link\" href=\"/zh-tw/%E6%96%B9%E6%B3%95\">方法</a>\\n</li>\\n<li class=\"nav-item\">\\n<a class=\"nav-link\" href=\"/coingecko-advertising.pdf\">廣告宣傳</a>\\n</li>\\n<span class=\\'user-navigation\\'></span>\\n</ul>\\n</div>\\n</nav>\\n</div>\\n<div class=\"coingecko collapse navbar-collapse nav-menu\" id=\"language-mobile\">\\n<ul class=\"navbar-nav mr-auto\">\\n<li class=\"nav-item\"><a class=\"nav-link\" href=\"/en/price_charts/bitcoin/usd\">English</a></li>\\n<li class=\"nav-item\"><a class=\"nav-link\" href=\"/es/tabla_de_precios/bitcoin/usd\">Español</a></li>\\n<li class=\"nav-item\"><a class=\"nav-link\" href=\"/de/kurs_chart/bitcoin/usd\">Deutsch</a></li>\\n<li class=\"nav-item\"><a class=\"nav-link\" href=\"/pt/gr%C3%A1ficos_de_pre%C3%A7os/bitcoin/usd\">Português</a></li>\\n<li class=\"nav-item\"><a class=\"nav-link\" href=\"/fr/graphiques_cours/bitcoin/usd\">Français</a></li>\\n<li class=\"nav-item\"><a class=\"nav-link\" href=\"/it/grafici_del_prezzo/bitcoin/usd\">Italiano</a></li>\\n<li class=\"nav-item\"><a class=\"nav-link\" href=\"/id/grafik_harga/bitcoin/usd\">Bahasa Indonesia</a></li>\\n<li class=\"nav-item\"><a class=\"nav-link\" href=\"/zh/%E4%BB%B7%E6%A0%BC%E5%9B%BE/%E6%AF%94%E7%89%B9%E5%B8%81/usd\">简体中文</a></li>\\n<li class=\"nav-item\"><a class=\"nav-link\" href=\"/zh-tw/%E5%8C%AF%E7%8E%87%E5%9C%96/%E6%AF%94%E7%89%B9%E5%B9%A3/usd\">繁體中文</a></li>\\n<li class=\"nav-item\"><a class=\"nav-link\" href=\"/ja/%E7%9B%B8%E5%A0%B4%E3%83%81%E3%83%A3%E3%83%BC%E3%83%88/%E3%83%93%E3%83%83%E3%83%88%E3%82%B3%E3%82%A4%E3%83%B3/usd\">日本語</a></li>\\n<li class=\"nav-item\"><a class=\"nav-link\" href=\"/ko/%EC%8B%9C%EC%84%B8%EC%B0%A8%ED%8A%B8/%EB%B9%84%ED%8A%B8%EC%BD%94%EC%9D%B8/usd\">한국어</a></li>\\n<li class=\"nav-item\"><a class=\"nav-link\" href=\"/ru/%D0%B4%D0%B8%D0%BD%D0%B0%D0%BC%D0%B8%D0%BA%D0%B0_%D1%86%D0%B5%D0%BD/%D0%B1%D0%B8%D1%82%D0%BA%D0%BE%D0%B8%D0%BD%D0%B0/usd\">ру́сский</a></li>\\n<li class=\"nav-item\"><a class=\"nav-link\" href=\"/ar/%D9%85%D8%AE%D8%B7%D8%B7%D8%A7%D8%AA_%D8%A7%D9%84%D8%B3%D8%B9%D8%B1/%D8%A8%D9%8A%D8%AA%D9%83%D9%88%D9%8A%D9%86/usd\">العربية</a></li>\\n<li class=\"nav-item\"><a class=\"nav-link\" href=\"/th/%E0%B8%81%E0%B8%A3%E0%B8%B2%E0%B8%9F_%E0%B8%A3%E0%B8%B2%E0%B8%84%E0%B8%B2/%E0%B8%9A%E0%B8%B4%E0%B8%95%E0%B8%84%E0%B8%AD%E0%B8%A2%E0%B8%99%E0%B9%8C/usd\">ภาษาไทย</a></li>\\n<li class=\"nav-item\"><a class=\"nav-link\" href=\"/vi/b%E1%BA%A3ng_gi%C3%A1/bitcoin/usd\">Tiếng việt</a></li>\\n</ul>\\n</div>\\n</div>\\n</div>\\n<div>\\n<div class=\\'\\' style=\\'background: #4d4d4d; padding: 10px; color: white\\'>\\n<div class=\\'container\\'>\\n<div class=\\'row\\'>\\n<div class=\\'col-md-5\\'>\\n</div>\\n<div class=\\'col-md-7\\' style=\\'text-align: right;\\'>\\nLearn about the current market dynamics.\\nDownload the exclusive <a target=\"_blank\" style=\"font-weight: 500; color: #8cc53f\" href=\"http://bit.ly/q3-2017-cryptocurrency-report-coingecko\">Q3 2017 Cryptocurrency Report</a>\\n</div>\\n</div>\\n</div>\\n</div>\\n \\n<div class=\"search-bar mobile\">\\n<div class=\"container\">\\n<div class=\"row justify-content-center\">\\n<div class=\"col-md-12\">\\n<div class=\\'input-group search\\'>\\n<select name=\"coins_to_search\" id=\"coins_to_search\" style=\"width:100%\" class=\"select2-search-coins\"><option value=\"\">Search Coin</option><option value=\"863\">0x (ZRX)</option>\\n<option value=\"1045\">10M Token (10MT)</option>\\n<option value=\"686\">1337 (1337)</option>\\n<option value=\"667\">2GIVE (2GIVE)</option>\\n<option value=\"822\">300 Token (300)</option>\\n<option value=\"1003\">ALIS (ALIS)</option>\\n<option value=\"1206\">ALQO (ALQO)</option>\\n<option value=\"148\">APEXcoin (APEX)</option>\\n<option value=\"1239\">APX (APX)</option>\\n<option value=\"185\">ARCHcoin (ARCH)</option>\\n<option value=\"873\">ATBCoin (ATB)</option>\\n<option value=\"806\">ATC Coin (ATCC)</option>\\n<option value=\"1108\">ATLANT (ATL)</option>\\n<option value=\"1095\">ATMChain (ATM)</option>\\n<option value=\"936\">ATMCoin (ATMC)</option>\\n<option value=\"1161\">Abjcoin (ABJ)</option>\\n<option value=\"1147\">Achain (ACT)</option>\\n<option value=\"172\">Acoin (ACOIN)</option>\\n<option value=\"929\">AdCoin (ACC)</option>\\n<option value=\"847\">AdEx (ADX)</option>\\n<option value=\"868\">AdShares (ADST)</option>\\n<option value=\"1246\">Adelphoi (ADL)</option>\\n<option value=\"1337\">Advanced Internet Block (AIB)</option>\\n<option value=\"418\">Adzcoin (ADZ)</option>\\n<option value=\"321\">Aeon (AEON)</option>\\n<option value=\"1192\">Aerium (AERM)</option>\\n<option value=\"1124\">Aeron (ARN)</option>\\n<option value=\"1091\">Aeternity (AE)</option>\\n<option value=\"399\">Agoras (AGRS)</option>\\n<option value=\"900\">Agrello (DLT)</option>\\n<option value=\"192\">AidBit (AID)</option>\\n<option value=\"74\">Aiden (ADN)</option>\\n<option value=\"1023\">Aion (AION)</option>\\n<option value=\"1019\">AirSwap (AST)</option>\\n<option value=\"1000\">AirToken (AIR)</option>\\n<option value=\"1015\">Akuya Coin (AKY)</option>\\n<option value=\"1112\">AltCommunity Coin (ALTCOM)</option>\\n<option value=\"855\">Altcoin (ALT)</option>\\n<option value=\"1041\">Amber (AMB)</option>\\n<option value=\"315\">AmberCoin (AMBER)</option>\\n<option value=\"319\">AmsterdamCoin (AMS)</option>\\n<option value=\"1311\">Animecoin (ANI)</option>\\n<option value=\"23\">Anoncoin (ANC)</option>\\n<option value=\"34\">Applecoin (APC)</option>\\n<option value=\"681\">Aragon (ANT)</option>\\n<option value=\"519\">Arcade Token (ARC)</option>\\n<option value=\"633\">ArcticCoin (ARC)</option>\\n<option value=\"525\">Ardor (ARDR)</option>\\n<option value=\"433\">Argentum (ARG)</option>\\n<option value=\"740\">Argus (ARGUS)</option>\\n<option value=\"613\">Ark (ARK)</option>\\n<option value=\"141\">ArtByte (ABY)</option>\\n<option value=\"530\">Artex Coin (ATX)</option>\\n<option value=\"636\">Asch (XAS)</option>\\n<option value=\"72\">Asiacoin (AC)</option>\\n<option value=\"474\">Asiadigicoin (ADCN)</option>\\n<option value=\"1188\">Astro (ASTRO)</option>\\n<option value=\"1242\">Atmos (ATMS)</option>\\n<option value=\"628\">AudioCoin (ADC)</option>\\n<option value=\"309\">Augur (REP)</option>\\n<option value=\"3\">Auroracoin (AUR)</option>\\n<option value=\"1012\">Authorship (ATS)</option>\\n<option value=\"1122\">Autonio (NIO)</option>\\n<option value=\"901\">Aventus (AVT)</option>\\n<option value=\"696\">Avoncoin (ACN)</option>\\n<option value=\"1211\">B2B (B2B)</option>\\n<option value=\"1174\">B3Coin (B3)</option>\\n<option value=\"678\">BCAP (BCAP)</option>\\n<option value=\"918\">BITFID (FID)</option>\\n<option value=\"1266\">BLOCKv (VEE)</option>\\n<option value=\"1056\">BOScoin (BOS)</option>\\n<option value=\"921\">BRAT (BRAT)</option>\\n<option value=\"1081\">BTCMoon (BTCM)</option>\\n<option value=\"432\">BTSR (BTSR)</option>\\n<option value=\"736\">Bancor Network Token (BNT)</option>\\n<option value=\"626\">Bankcoin (B@)</option>\\n<option value=\"677\">Basic Attention Token (BAT)</option>\\n<option value=\"1008\">Bastonet (BSN)</option>\\n<option value=\"271\">Bata (BTA)</option>\\n<option value=\"484\">Beatcoin (XBTS)</option>\\n<option value=\"580\">Belacoin (BELA)</option>\\n<option value=\"627\">BenjiRolls (BENJI)</option>\\n<option value=\"928\">BiblePay (BBP)</option>\\n<option value=\"485\">Bikercoin (BIC)</option>\\n<option value=\"946\">Billionaire Token (XBL)</option>\\n<option value=\"825\">Binance Coin (BNB)</option>\\n<option value=\"574\">BipCoin (BIP)</option>\\n<option value=\"974\">Bismuth (BIS)</option>\\n<option value=\"793\">Bit20 (BTWTY)</option>\\n<option value=\"258\">BitBay (BAY)</option>\\n<option value=\"1194\">BitBoost (BBT)</option>\\n<option value=\"842\">BitCoal (COAL)</option>\\n<option value=\"318\">BitCrystals (BCY)</option>\\n<option value=\"956\">BitDice (CSNO)</option>\\n<option value=\"612\">BitSend (BSD)</option>\\n<option value=\"1193\">BitSerial (BTE)</option>\\n<option value=\"95\">BitShares (BTS)</option>\\n<option value=\"1020\">BitSoar (BSR)</option>\\n<option value=\"231\">BitStake (XBS)</option>\\n<option value=\"250\">BitSwift (SWIFT)</option>\\n<option value=\"240\">BitUSD (BITUSD)</option>\\n<option value=\"283\">BitZeny (ZNY)</option>\\n<option value=\"1355\">Bitair (BTCA)</option>\\n<option value=\"97\">Bitbar (BTB)</option>\\n<option value=\"1101\">Bitbase (BTBC)</option>\\n<option value=\"254\">Bitbean (BITB)</option>\\n<option value=\"476\">Bitcedi (BXC)</option>\\n<option value=\"1198\">Bitcloud (BTDX)</option>\\n<option value=\"1\">Bitcoin (BTC)</option>\\n<option value=\"780\">Bitcoin Cash (BCH)</option>\\n<option value=\"1254\">Bitcoin Diamond [Futures] (BCD)</option>\\n<option value=\"1323\">Bitcoin Fast (BCF)</option>\\n<option value=\"1043\">Bitcoin Gold (BTG)</option>\\n<option value=\"469\">Bitcoin Plus (XBC)</option>\\n<option value=\"1054\">Bitcoin Red (BTCRED)</option>\\n<option value=\"296\">Bitcoin Scrypt (BTCS)</option>\\n<option value=\"1076\">Bitcoin SegWit2X (BT2)</option>\\n<option value=\"1063\">Bitcoin Silver (BTCS)</option>\\n<option value=\"1217\">Bitcoin2x (BTC2X)</option>\\n<option value=\"1033\">BitcoinCashScrypt (BCCS)</option>\\n<option value=\"118\">BitcoinDark (BTCD)</option>\\n<option value=\"360\">BitcoinUltra (BTCU)</option>\\n<option value=\"1351\">BitcoinX [Futures] (BCX)</option>\\n<option value=\"1004\">BitcoinZ (BTCZ)</option>\\n<option value=\"545\">Bitconnect (BCC)</option>\\n<option value=\"680\">Bitcore (BTX)</option>\\n<option value=\"1092\">Bitdeal (BDL)</option>\\n<option value=\"1075\">Bitfinex Bitcoin Future (BT1)</option>\\n<option value=\"368\">Bitgem (BTG)</option>\\n<option value=\"532\">Bitland (CADASTRAL)</option>\\n<option value=\"149\">Bitleu (BTL)</option>\\n<option value=\"125\">Bitmark (BTM)</option>\\n<option value=\"581\">Bitparkcoin (BPC)</option>\\n<option value=\"1156\">Bitradio (BRO)</option>\\n<option value=\"136\">Bitstar (BITS)</option>\\n<option value=\"249\">Bitz (BITZ)</option>\\n<option value=\"50\">BlackCoin (BLK)</option>\\n<option value=\"876\">Blackmoon Crypto (BMC)</option>\\n<option value=\"244\">Blakecoin (BLC)</option>\\n<option value=\"653\">Blitzcash (BLITZ)</option>\\n<option value=\"1154\">BlockCAT (CAT)</option>\\n<option value=\"1301\">BlockCDN (BCDN)</option>\\n<option value=\"1022\">BlockMason Credit Protocol (BCPT)</option>\\n<option value=\"481\">BlockPay (BLOCKPAY)</option>\\n<option value=\"344\">BlockShares (BKS)</option>\\n<option value=\"908\">Blockchain Index (BLX)</option>\\n<option value=\"236\">Blocknet (BLOCK)</option>\\n<option value=\"1143\">Blockpool (BPL)</option>\\n<option value=\"1233\">Blocktix (TIX)</option>\\n<option value=\"1036\">Blue (BLUE)</option>\\n<option value=\"96\">Bluecoin (BLU)</option>\\n<option value=\"1218\">Bodhi (BOT)</option>\\n<option value=\"1325\">Bolivarcoin (BOLI)</option>\\n<option value=\"1314\">Bonpay (BON)</option>\\n<option value=\"122\">Boolberry (BBR)</option>\\n<option value=\"345\">BoostCoin (BOST)</option>\\n<option value=\"180\">Bottlecaps (CAP)</option>\\n<option value=\"1444\">Bounty0x (BNTY)</option>\\n<option value=\"879\">Bowhead Health (AHT)</option>\\n<option value=\"624\">Breakout (BRK)</option>\\n<option value=\"625\">Breakout Stake (BRX)</option>\\n<option value=\"996\">BridgeCoin (BCO)</option>\\n<option value=\"651\">Britcoin (BRIT)</option>\\n<option value=\"202\">Bunnycoin (BUN)</option>\\n<option value=\"154\">Burst (BURST)</option>\\n<option value=\"884\">BuzzCoin (BUZZ)</option>\\n<option value=\"561\">Byteball Bytes (GBYTE)</option>\\n<option value=\"199\">Bytecent (BYC)</option>\\n<option value=\"92\">Bytecoin (BCN)</option>\\n<option value=\"1087\">Bytom (BTM)</option>\\n<option value=\"952\">CHIPS (CHIPS)</option>\\n<option value=\"1011\">CORION (COR)</option>\\n<option value=\"955\">COSS (COSS)</option>\\n<option value=\"862\">CVCoin (CVCOIN)</option>\\n<option value=\"401\">Cabbage Unit (CAB)</option>\\n<option value=\"560\">Cagecoin (CAGE)</option>\\n<option value=\"526\">Caliphcoin (CALC)</option>\\n<option value=\"818\">CampusCoin (CMPCO)</option>\\n<option value=\"347\">Canada eCoin (CDN)</option>\\n<option value=\"538\">Cannabis Industry Coin (XCI)</option>\\n<option value=\"109\">CannabisCoin (CANN)</option>\\n<option value=\"155\">Cannacoin (CCN)</option>\\n<option value=\"1302\">Cappasity (CAPP)</option>\\n<option value=\"327\">Capricoin (CPC)</option>\\n<option value=\"1123\">CarTaxi (CTX)</option>\\n<option value=\"1291\">Carboncoin (CARBON)</option>\\n<option value=\"975\">Cardano (ADA)</option>\\n<option value=\"1073\">Cash Poker Pro (CASH)</option>\\n<option value=\"64\">Casinocoin (CSC)</option>\\n<option value=\"844\">Catcoin (CAT)</option>\\n<option value=\"1287\">Ccore (CCO)</option>\\n<option value=\"941\">Centra (CTR)</option>\\n<option value=\"582\">Centurion (CNT)</option>\\n<option value=\"267\">Cerium (XCE)</option>\\n<option value=\"877\">ChainLink (LINK)</option>\\n<option value=\"672\">Chaincoin (CHC)</option>\\n<option value=\"1021\">Change (CAG)</option>\\n<option value=\"604\">Chronobank (TIME)</option>\\n<option value=\"951\">Chronologic (DAY)</option>\\n<option value=\"1006\">Cindicator (CND)</option>\\n<option value=\"70\">Cinni (CINNI)</option>\\n<option value=\"588\">Circuits of Value (COVAL)</option>\\n<option value=\"788\">Civic (CVC)</option>\\n<option value=\"230\">Clams (CLAM)</option>\\n<option value=\"1050\">ClearPoll (POLL)</option>\\n<option value=\"81\">Cloakcoin (CLOAK)</option>\\n<option value=\"415\">Clubcoin (CLUB)</option>\\n<option value=\"789\">CoEval (COE)</option>\\n<option value=\"971\">Cobinhood (COB)</option>\\n<option value=\"762\">Cofound.it (CFI)</option>\\n<option value=\"827\">Coimatic 2.0 (CTIC2)</option>\\n<option value=\"639\">Coin2.1 (C2)</option>\\n<option value=\"1231\">CoinDash (CDT)</option>\\n<option value=\"278\">Coinomat (CNMT)</option>\\n<option value=\"966\">ColossusCoinXT (COLX)</option>\\n<option value=\"470\">Comet (CMT)</option>\\n<option value=\"1157\">Compcoin (CMP)</option>\\n<option value=\"1204\">Condensate (RAIN)</option>\\n<option value=\"1126\">Confido (CFD)</option>\\n<option value=\"1213\">Copico (XCPO)</option>\\n<option value=\"1196\">Corethum (CRTM)</option>\\n<option value=\"9\">Counterparty (XCP)</option>\\n<option value=\"251\">Crave (CRAVE)</option>\\n<option value=\"1155\">Cream (CRM)</option>\\n<option value=\"682\">CreativeCoin (CREA)</option>\\n<option value=\"1121\">Credence Coin (CRDNC)</option>\\n<option value=\"378\">Creditbit (CRB)</option>\\n<option value=\"883\">Credo (CREDO)</option>\\n<option value=\"466\">Crevacoin (CREVA)</option>\\n<option value=\"1339\">CrowdCoin (CRC)</option>\\n<option value=\"328\">Crown (CRW)</option>\\n<option value=\"79\">CryptCoin (CRYPT)</option>\\n<option value=\"273\">Crypto (CTO)</option>\\n<option value=\"133\">Crypto Bullion (CBX)</option>\\n<option value=\"660\">CryptoCarbon (CCRB)</option>\\n<option value=\"135\">CryptoEscudo (CESC)</option>\\n<option value=\"857\">CryptoForecast (CFT)</option>\\n<option value=\"953\">CryptoInsight (TKR)</option>\\n<option value=\"770\">CryptoPing (PING)</option>\\n<option value=\"472\">Cryptojacks (CJ)</option>\\n<option value=\"291\">Cryptokenz (CYT)</option>\\n<option value=\"1176\">Cryptonex (CNX)</option>\\n<option value=\"158\">Cryptonite (XCN)</option>\\n<option value=\"2216\">Cryptopay (CPAY)</option>\\n<option value=\"995\">Crystal Clear (CCT)</option>\\n<option value=\"1368\">Cubits (QBT)</option>\\n<option value=\"76\">Curecoin (CURE)</option>\\n<option value=\"984\">CybCSec (XCS)</option>\\n<option value=\"1300\">CyberMiles (CMT)</option>\\n<option value=\"904\">Cyder (CYDER)</option>\\n<option value=\"867\">Cypher (CYP)</option>\\n<option value=\"1271\">DAO.Casino (BET)</option>\\n<option value=\"831\">DAS (DAS)</option>\\n<option value=\"1140\">DCORP (DRP)</option>\\n<option value=\"943\">DFSCoin (DFS)</option>\\n<option value=\"790\">DHG (DHG)</option>\\n<option value=\"1445\">DIMCOIN (DIM)</option>\\n<option value=\"87\">DNotes (NOTE)</option>\\n<option value=\"880\">DROXNE (DRXNE)</option>\\n<option value=\"1442\">Dai (DAI)</option>\\n<option value=\"932\">Dalecoin (DALC)</option>\\n<option value=\"591\">Darcrus (DAR)</option>\\n<option value=\"19\">Dash (DASH)</option>\\n<option value=\"297\">Dashcoin (DSH)</option>\\n<option value=\"1353\">Datum (DAT)</option>\\n<option value=\"1363\">DavorCoin (DAV)</option>\\n<option value=\"803\">Daxxcoin (DAXX)</option>\\n<option value=\"275\">DeBuNe (DEBUNE)</option>\\n<option value=\"754\">Decent (DCT)</option>\\n<option value=\"1168\">DecentBet (DBET)</option>\\n<option value=\"878\">Decentraland (MANA)</option>\\n<option value=\"1165\">Decision Token (HST)</option>\\n<option value=\"329\">Decred (DCR)</option>\\n<option value=\"1148\">DeepOnion (ONION)</option>\\n<option value=\"1133\">Delphy (DPY)</option>\\n<option value=\"760\">Denarius (DNR)</option>\\n<option value=\"1152\">Dent (DENT)</option>\\n<option value=\"850\">Dentacoin (DCN)</option>\\n<option value=\"1119\">Desire (DSR)</option>\\n<option value=\"272\">Deutsche eMark (DEM)</option>\\n<option value=\"22\">Devcoin (DVC)</option>\\n<option value=\"165\">Diamond (DMD)</option>\\n<option value=\"322\">DigiCube (CUBE)</option>\\n<option value=\"351\">DigiEuro (DEUR)</option>\\n<option value=\"1214\">DigiPulse (DGPT)</option>\\n<option value=\"63\">Digibyte (DGB)</option>\\n<option value=\"132\">DigitalNote (XDN)</option>\\n<option value=\"1138\">DigitalPrice (DP)</option>\\n<option value=\"33\">Digitalcoin (DGC)</option>\\n<option value=\"397\">DigixDAO (DGD)</option>\\n<option value=\"860\">Dimecoin (DIME)</option>\\n<option value=\"748\">Dinastycoin (DCY)</option>\\n<option value=\"153\">Dirac (XDQ)</option>\\n<option value=\"1273\">Divi (DIVX)</option>\\n<option value=\"376\">Dobbscoin (BOB)</option>\\n<option value=\"5\">Dogecoin (DOGE)</option>\\n<option value=\"120\">Dogeparty (XDP)</option>\\n<option value=\"1030\">DomRaider (DRT)</option>\\n<option value=\"295\">DopeCoin (DOPE)</option>\\n<option value=\"669\">Dotcoin (DOT)</option>\\n<option value=\"1072\">Dovu (DOVU)</option>\\n<option value=\"1289\">Dragonchain (DRGN)</option>\\n<option value=\"629\">DubaiCoin-DBIX (DBIX)</option>\\n<option value=\"1028\">Dutch Coin (DUTCH)</option>\\n<option value=\"697\">Dynamic (DYN)</option>\\n<option value=\"524\">E-Dinar Coin (EDR)</option>\\n<option value=\"1180\">E-coin (ECN)</option>\\n<option value=\"1182\">EA Coin (EAG)</option>\\n<option value=\"744\">ECC (ECC)</option>\\n<option value=\"439\">EDRCoin (EDRC)</option>\\n<option value=\"738\">EOS (EOS)</option>\\n<option value=\"919\">EOT Token (EOT)</option>\\n<option value=\"1141\">ERC20 (ERC20)</option>\\n<option value=\"1099\">ETHGAS (EGAS)</option>\\n<option value=\"1365\">ETHLend (LEND)</option>\\n<option value=\"1049\">EXRNchain (EXRN)</option>\\n<option value=\"1181\">EagleCoin (EAGLE)</option>\\n<option value=\"111\">Earthcoin (EAC)</option>\\n<option value=\"737\">Ecobit (ECOB)</option>\\n<option value=\"635\">Edgeless (EDG)</option>\\n<option value=\"1018\">Eidoo (EDO)</option>\\n<option value=\"46\">Einsteinium (EMC2)</option>\\n<option value=\"811\">Elastic (XEL)</option>\\n<option value=\"447\">Elcoin (EL)</option>\\n<option value=\"688\">Electra (ECA)</option>\\n<option value=\"1109\">Electroneum (ETN)</option>\\n<option value=\"234\">Electronic Gulden (EFL)</option>\\n<option value=\"264\">Elektron (EKN)</option>\\n<option value=\"1278\">Elementrem (ELE)</option>\\n<option value=\"945\">Elixir (ELIX)</option>\\n<option value=\"1083\">Ellaism (ELLA)</option>\\n<option value=\"1118\">Eltcoin (ELTCOIN)</option>\\n<option value=\"817\">EmberCoin (EMB)</option>\\n<option value=\"781\">Embers (MBRS)</option>\\n<option value=\"259\">EmerCoin (EMC)</option>\\n<option value=\"1162\">Emphy (EPY)</option>\\n<option value=\"1215\">EncrypGen (DNA)</option>\\n<option value=\"982\">EncryptoTel [ETH] (ETT)</option>\\n<option value=\"1222\">Energo (TSL)</option>\\n<option value=\"587\">Energycoin (ENRG)</option>\\n<option value=\"1007\">Enigma (ENG)</option>\\n<option value=\"1102\">Enjin Coin (ENJ)</option>\\n<option value=\"1202\">EquiTrader (EQT)</option>\\n<option value=\"1303\">Eroscoin (ERO)</option>\\n<option value=\"468\">Espers (ESP)</option>\\n<option value=\"856\">Eternity (ENT)</option>\\n<option value=\"990\">EthBet (EBET)</option>\\n<option value=\"1275\">Ethbits (ETBS)</option>\\n<option value=\"1013\">EtherDoge (EDOGE)</option>\\n<option value=\"279\">Ethereum (ETH)</option>\\n<option value=\"1010\">Ethereum Cash (ECASH)</option>\\n<option value=\"453\">Ethereum Classic (ETC)</option>\\n<option value=\"870\">Ethereum Dark (ETHD)</option>\\n<option value=\"1034\">Ethereum Gold (ETG)</option>\\n<option value=\"1062\">Ethereum Lite (ELITE)</option>\\n<option value=\"1274\">Ethereum Movie Venture (EMV)</option>\\n<option value=\"1232\">Etheroll (DICE)</option>\\n<option value=\"1082\">Etherparty (FUEL)</option>\\n<option value=\"794\">Ethos (ETHOS)</option>\\n<option value=\"1200\">EuropeCoin (ERC)</option>\\n<option value=\"1268\">EventChain (EVC)</option>\\n<option value=\"664\">EverGreenCoin (EGC)</option>\\n<option value=\"997\">Everex (EVX)</option>\\n<option value=\"1027\">Everus (EVR)</option>\\n<option value=\"1052\">Exchange Union (XUC)</option>\\n<option value=\"1016\">ExchangeN (EXN)</option>\\n<option value=\"609\">ExclusiveCoin (EXCL)</option>\\n<option value=\"150\">Execoin (EXE)</option>\\n<option value=\"339\">Expanse (EXP)</option>\\n<option value=\"1080\">FAPcoin (FAP)</option>\\n<option value=\"217\">FIMKrypto (FIMK)</option>\\n<option value=\"241\">FLO (FLO)</option>\\n<option value=\"989\">FLiK (FLIK)</option>\\n<option value=\"1114\">FORCE (FOR)</option>\\n<option value=\"1186\">Faceblock (FBL)</option>\\n<option value=\"896\">Facecoin (FC)</option>\\n<option value=\"310\">Factom (FCT)</option>\\n<option value=\"255\">Faircoin (FAIR)</option>\\n<option value=\"804\">Falcoin (FAL)</option>\\n<option value=\"191\">Fantomcoin (FCN)</option>\\n<option value=\"1130\">Farad (FRD)</option>\\n<option value=\"175\">Fastcoin (FST)</option>\\n<option value=\"12\">Feathercoin (FTC)</option>\\n<option value=\"35\">Fedoracoin (TIPS)</option>\\n<option value=\"166\">Fibre (FIBRE)</option>\\n<option value=\"1348\">Filecoin [Futures] (FIL)</option>\\n<option value=\"800\">FinCoin (FNC)</option>\\n<option value=\"615\">First Bitcoin (BIT)</option>\\n<option value=\"522\">First Blood (1ST)</option>\\n<option value=\"1310\">Firstcoin (FRST)</option>\\n<option value=\"601\">Fitcoin (FIT)</option>\\n<option value=\"1312\">Flappycoin (FLAP)</option>\\n<option value=\"765\">Flash (FLASH)</option>\\n<option value=\"1261\">Flixxo (FLIXX)</option>\\n<option value=\"348\">Flycoin (FLY)</option>\\n<option value=\"1098\">FlypMe (FYP)</option>\\n<option value=\"586\">Foldingcoin (FLDC)</option>\\n<option value=\"1277\">Footy Cash (XFT)</option>\\n<option value=\"47\">Franko (FRK)</option>\\n<option value=\"939\">Frazcoin (FRAZ)</option>\\n<option value=\"30\">Freicoin (FRC)</option>\\n<option value=\"108\">Freshcoin (FRSH)</option>\\n<option value=\"187\">FuelCoin (FC2)</option>\\n<option value=\"1135\">Fujicoin (FJC)</option>\\n<option value=\"909\">Fujinto (NTO)</option>\\n<option value=\"290\">Full Integrity Coin (FIC)</option>\\n<option value=\"761\">FunFair (FUN)</option>\\n<option value=\"1250\">FundYourselfNow (FYN)</option>\\n<option value=\"802\">FuturXe (FXE)</option>\\n<option value=\"182\">GAIA (GAIA)</option>\\n<option value=\"384\">GCoin (GCN)</option>\\n<option value=\"1191\">GOLD Reward Token (GRX)</option>\\n<option value=\"245\">GSMcoin (GSM)</option>\\n<option value=\"1089\">GXShares (GXS)</option>\\n<option value=\"584\">Gambit (GAM)</option>\\n<option value=\"445\">GameBet (GBT)</option>\\n<option value=\"193\">GameCredits (GAME)</option>\\n<option value=\"858\">Gas (GAS)</option>\\n<option value=\"771\">GeertCoin (GEERT)</option>\\n<option value=\"206\">Gems (GEMZ)</option>\\n<option value=\"1361\">Genaro Network (GNX)</option>\\n<option value=\"1173\">Genesis Vision (GVT)</option>\\n<option value=\"658\">Geocoin (GEO)</option>\\n<option value=\"816\">GeyserCoin (GSR)</option>\\n<option value=\"1359\">Gifto (GTO)</option>\\n<option value=\"907\">Giga Watt Token (WTT)</option>\\n<option value=\"1100\">Gimli (GIM)</option>\\n<option value=\"324\">Global Currency Reserve (GCR)</option>\\n<option value=\"799\">Global Tour Coin (GTC)</option>\\n<option value=\"73\">GlobalBoost-Y (BSTY)</option>\\n<option value=\"1150\">GlobalToken (GLT)</option>\\n<option value=\"188\">GlowShares (GSX)</option>\\n<option value=\"662\">Gnosis (GNO)</option>\\n<option value=\"1207\">GoByte (GBX)</option>\\n<option value=\"451\">GoldBlocks (GB)</option>\\n<option value=\"1146\">GoldPieces (GP)</option>\\n<option value=\"49\">Goldcoin (GLD)</option>\\n<option value=\"478\">Goldmaxcoin (GMX)</option>\\n<option value=\"542\">Golem (GNT)</option>\\n<option value=\"562\">Golos (GOLOS)</option>\\n<option value=\"1297\">Goodomy (GOOD)</option>\\n<option value=\"352\">GraniteCoin (GRN)</option>\\n<option value=\"544\">Grantcoin (GRT)</option>\\n<option value=\"1251\">Greencoin (GRE )</option>\\n<option value=\"1106\">Grid+ (GRID)</option>\\n<option value=\"243\">Gridcoin (GRC)</option>\\n<option value=\"1144\">Grimcoin (GRIM)</option>\\n<option value=\"71\">Groestlcoin (GRS)</option>\\n<option value=\"128\">Groupcoin (GPC)</option>\\n<option value=\"196\">Guarany (GUA)</option>\\n<option value=\"143\">Gulden (NLG)</option>\\n<option value=\"807\">GulfCoin (MGC)</option>\\n<option value=\"565\">HEAT (HEAT)</option>\\n<option value=\"969\">HODL Bucks (HDLB)</option>\\n<option value=\"434\">HOdlcoin (HODL)</option>\\n<option value=\"1085\">HShare (HSR)</option>\\n<option value=\"162\">HTMLcoin (HTML5)</option>\\n<option value=\"570\">Hacker Gold (HKG)</option>\\n<option value=\"1294\">Happycoin (HPC)</option>\\n<option value=\"829\">HarmonyCoin (HMC)</option>\\n<option value=\"1171\">Hawala.Today (HAT)</option>\\n<option value=\"45\">Heavycoin (HVC)</option>\\n<option value=\"1039\">Hedge (HDG)</option>\\n<option value=\"266\">HellasCoin (HLC)</option>\\n<option value=\"1005\">HelloGold (HGT)</option>\\n<option value=\"865\">Hempcoin (THC)</option>\\n<option value=\"572\">HiCoin (XHI)</option>\\n<option value=\"1110\">High Gain (HIGH)</option>\\n<option value=\"462\">Hitcoin (HTC)</option>\\n<option value=\"899\">Hive (HVN)</option>\\n<option value=\"59\">Hobonickels (HBN)</option>\\n<option value=\"1347\">HollyWoodCoin (HWC)</option>\\n<option value=\"772\">Honey (HONEY)</option>\\n<option value=\"139\">Horizon (HZ)</option>\\n<option value=\"994\">Hubii Network (HBT)</option>\\n<option value=\"647\">Humaniq (HMQ)</option>\\n<option value=\"126\">Huntercoin (HUC)</option>\\n<option value=\"701\">Hush (HUSH)</option>\\n<option value=\"142\">Hyper (HYPER)</option>\\n<option value=\"131\">HyperStake (HYP)</option>\\n<option value=\"106\">I/O Coin (IOC)</option>\\n<option value=\"533\">ICO OpenLedger (ICOO)</option>\\n<option value=\"1060\">ICON (ICX)</option>\\n<option value=\"1042\">ICOS (ICOS)</option>\\n<option value=\"1857\">INS Ecosystem (INS)</option>\\n<option value=\"465\">ION (ION)</option>\\n<option value=\"692\">IOTA (IOT)</option>\\n<option value=\"529\">Iconomi (ICN)</option>\\n<option value=\"1345\">Ignis [Futures] (IGNIS)</option>\\n<option value=\"854\">IncaKoin (NKA)</option>\\n<option value=\"567\">Incent (INCNT)</option>\\n<option value=\"963\">India Coin (INDIA)</option>\\n<option value=\"848\">Indorse (IND)</option>\\n<option value=\"14\">Infinitecoin (IFC)</option>\\n<option value=\"977\">Infinity Economics (XIN)</option>\\n<option value=\"1210\">Infinity Pay (IPY)</option>\\n<option value=\"311\">Influxcoin (INFX)</option>\\n<option value=\"1216\">Ink (INK)</option>\\n<option value=\"1131\">Innova (INN)</option>\\n<option value=\"655\">InsaneCoin (INSN)</option>\\n<option value=\"814\">InsureX (IXT)</option>\\n<option value=\"1064\">Intelligent Trading Tech (ITT)</option>\\n<option value=\"1184\">IntenseCoin (ITNS)</option>\\n<option value=\"743\">Internet of People (IOP)</option>\\n<option value=\"986\">Internxt (INXT)</option>\\n<option value=\"1163\">Interstellar Holdings (HOLD)</option>\\n<option value=\"960\">Interzone (ITZ)</option>\\n<option value=\"1153\">InvestFeed (IFT)</option>\\n<option value=\"1304\">IoT Chain (ITC)</option>\\n<option value=\"29\">Ixcoin (IXC)</option>\\n<option value=\"596\">Janus (JNS)</option>\\n<option value=\"1061\">JavaScript Token (JS)</option>\\n<option value=\"583\">Jinn (JINN)</option>\\n<option value=\"534\">Jobscoin (JOBS)</option>\\n<option value=\"650\">Joincoin (J)</option>\\n<option value=\"787\">Joulecoin (XJO)</option>\\n<option value=\"161\">Judgecoin (JUDGE)</option>\\n<option value=\"643\">Karbowanec (KRB)</option>\\n<option value=\"88\">Karma (KARMA)</option>\\n<option value=\"579\">Kashhcoin (KASHH)</option>\\n<option value=\"1404\">Kayicoin (KAYI)</option>\\n<option value=\"1280\">KekCoin (KEK)</option>\\n<option value=\"942\">KexCoin (KEXCOIN)</option>\\n<option value=\"981\">KickCoin (KICK)</option>\\n<option value=\"959\">Kin (KIN)</option>\\n<option value=\"965\">Kolion (KLN)</option>\\n<option value=\"611\">Komodo (KMD)</option>\\n<option value=\"668\">KoreCoin (KORE)</option>\\n<option value=\"905\">Kronecoin (KRONE)</option>\\n<option value=\"400\">Krypton (KR)</option>\\n<option value=\"1047\">KuCoin Shares (KCS)</option>\\n<option value=\"676\">Kurrent (KURT)</option>\\n<option value=\"671\">Kushcoin (KUSH)</option>\\n<option value=\"947\">Kyber Network (KNC)</option>\\n<option value=\"1051\">LAToken (LA)</option>\\n<option value=\"463\">LBRY Credits (LBC)</option>\\n<option value=\"424\">LEOcoin (LEO)</option>\\n<option value=\"1038\">LIFE (LIFE)</option>\\n<option value=\"911\">LLToken (LLT)</option>\\n<option value=\"198\">LTBcoin (LTBC)</option>\\n<option value=\"1068\">LUXCoin (LUX)</option>\\n<option value=\"954\">Lampix (PIX)</option>\\n<option value=\"619\">LePen (LEPEN)</option>\\n<option value=\"742\">Legends Room (LGD)</option>\\n<option value=\"68\">LibertyCoin (XLB)</option>\\n<option value=\"104\">Librexcoin (LXC)</option>\\n<option value=\"782\">Linda (LINDA)</option>\\n<option value=\"791\">Link Platform (LNK)</option>\\n<option value=\"1276\">Linx (LINX)</option>\\n<option value=\"385\">Lisk (LSK)</option>\\n<option value=\"841\">LiteBitcoin (LBTC)</option>\\n<option value=\"912\">LiteCoin Ultra (LTCU)</option>\\n<option value=\"257\">LiteDoge (LDOGE)</option>\\n<option value=\"2\">Litecoin (LTC)</option>\\n<option value=\"1046\">Litecoin Gold (LTG)</option>\\n<option value=\"140\">LitecoinDark (LTCD)</option>\\n<option value=\"564\">LoMoCoin (LMC)</option>\\n<option value=\"1357\">LockChain (LOC)</option>\\n<option value=\"913\">Loopring (LRC)</option>\\n<option value=\"656\">LuckChain (BASH)</option>\\n<option value=\"207\">Luckycoin (LKY)</option>\\n<option value=\"575\">Lunacoin (LUNA)</option>\\n<option value=\"735\">Lunyr (LUN)</option>\\n<option value=\"527\">Lykke (LKK)</option>\\n<option value=\"616\">MBitBooks (MBIT)</option>\\n<option value=\"747\">MCAP (MCAP)</option>\\n<option value=\"464\">MMNXT (MMNXT)</option>\\n<option value=\"973\">MSD (MSD)</option>\\n<option value=\"473\">MaYaCoin (MYC)</option>\\n<option value=\"679\">Machinecoin (MAC)</option>\\n<option value=\"980\">Macro (MCR)</option>\\n<option value=\"764\">Macron (MCRN)</option>\\n<option value=\"1025\">Maecenas (ART)</option>\\n<option value=\"176\">Magi (XMG)</option>\\n<option value=\"1313\">MagicCoin (MAGE)</option>\\n<option value=\"1225\">Magnet (MAG)</option>\\n<option value=\"897\">Magnetcoin (MAGN)</option>\\n<option value=\"80\">MaidSafeCoin (MAID)</option>\\n<option value=\"1364\">Maker (MKR)</option>\\n<option value=\"292\">MangoCoinz (MCZ)</option>\\n<option value=\"784\">MantraCoin (MNC)</option>\\n<option value=\"1295\">Mao Zedong (MAO)</option>\\n<option value=\"313\">MapCoin (MAPC)</option>\\n<option value=\"276\">Marinecoin (MTC)</option>\\n<option value=\"444\">MarteXcoin (MXT)</option>\\n<option value=\"159\">MaryJane (MARYJ)</option>\\n<option value=\"638\">Master Swiscoin (MSCN)</option>\\n<option value=\"246\">MasterTraderCoin (MTR)</option>\\n<option value=\"903\">Masternodecoin (MTNC)</option>\\n<option value=\"683\">Matchpool (GUP)</option>\\n<option value=\"24\">Maxcoin (MAX)</option>\\n<option value=\"25\">Mazacoin (MZC)</option>\\n<option value=\"1343\">MediShares (MDS)</option>\\n<option value=\"16\">Megacoin (MEC)</option>\\n<option value=\"605\">Melon (MLN)</option>\\n<option value=\"1139\">Memetic (MEME)</option>\\n<option value=\"1059\">Mercury Protocol (GMT)</option>\\n<option value=\"763\">Metal (MTL)</option>\\n<option value=\"317\">Metal Music Coin (MTLMC3)</option>\\n<option value=\"1086\">Metaverse ETP (ETP)</option>\\n<option value=\"1356\">MicroMoney (AMM)</option>\\n<option value=\"98\">Mincoin (MNC)</option>\\n<option value=\"82\">Mineralscoin (MIN)</option>\\n<option value=\"702\">Minereum (MNE)</option>\\n<option value=\"1111\">MinexCoin (MNX)</option>\\n<option value=\"21\">Mintcoin (MINT)</option>\\n<option value=\"768\">MobileGo (MGO)</option>\\n<option value=\"1040\">Modum (MOD)</option>\\n<option value=\"895\">Moeda Loyalty Points (MDA)</option>\\n<option value=\"340\">Moin (MOIN)</option>\\n<option value=\"475\">Mojocoin (MOJO)</option>\\n<option value=\"99\">MonaCoin (MONA)</option>\\n<option value=\"739\">Monaco (MCO)</option>\\n<option value=\"924\">MonacoCoin (XMCC)</option>\\n<option value=\"69\">Monero (XMR)</option>\\n<option value=\"690\">Moneta (MONETA)</option>\\n<option value=\"170\">MonetaryUnit (MUE)</option>\\n<option value=\"902\">Monetha (MTH)</option>\\n<option value=\"1260\">Monkey Project (MONK)</option>\\n<option value=\"75\">Monocle (MON)</option>\\n<option value=\"1279\">Monster Byte (MBI)</option>\\n<option value=\"294\">Mooncoin (MOON)</option>\\n<option value=\"871\">MorningStar (MRNG)</option>\\n<option value=\"815\">Mothership (MSP)</option>\\n<option value=\"343\">Muse (MUSE)</option>\\n<option value=\"622\">Musicoin (MUSIC)</option>\\n<option value=\"1350\">Musiconomi (MCI)</option>\\n<option value=\"1240\">MyBit Token (MYB)</option>\\n<option value=\"1267\">MyWish (WISH)</option>\\n<option value=\"66\">Myriadcoin (XMY)</option>\\n<option value=\"757\">Mysterium (MYST)</option>\\n<option value=\"1439\">NAGA (NGC)</option>\\n<option value=\"233\">NAV Coin (NAV)</option>\\n<option value=\"242\">NEM (XEM)</option>\\n<option value=\"480\">NEO (NEO)</option>\\n<option value=\"1164\">NEO GOLD (NEOG)</option>\\n<option value=\"845\">NVO (NVST)</option>\\n<option value=\"6\">NXT (NXT)</option>\\n<option value=\"239\">NXTventure (NXTV)</option>\\n<option value=\"8\">Namecoin (NMC)</option>\\n<option value=\"926\">NamoCoin (NAMO)</option>\\n<option value=\"1078\">Natcoin (NTC)</option>\\n<option value=\"62\">Nautiluscoin (NAUT)</option>\\n<option value=\"894\">Neblio (NEBL)</option>\\n<option value=\"147\">Neoscoin (NEOS)</option>\\n<option value=\"482\">Neptunecoin (NTC)</option>\\n<option value=\"36\">Netcoin (NET)</option>\\n<option value=\"1298\">Netko (NETKO)</option>\\n<option value=\"1070\">Network Token (NTWK)</option>\\n<option value=\"288\">NeuCoin (NEU)</option>\\n<option value=\"886\">NeuroDAO (NDAO)</option>\\n<option value=\"1203\">Neutron (NTRN)</option>\\n<option value=\"693\">NewYorkCoin (NYC)</option>\\n<option value=\"563\">Nexium (NXC)</option>\\n<option value=\"576\">Nexus (NXS)</option>\\n<option value=\"874\">Nexus Social (SCL)</option>\\n<option value=\"864\">Nimiq (NET)</option>\\n<option value=\"758\">NoLimitCoin (NLC2)</option>\\n<option value=\"204\">NobleCoin (NOBL)</option>\\n<option value=\"183\">Node (NODE)</option>\\n<option value=\"15\">Novacoin (NVC)</option>\\n<option value=\"167\">NuBits (USNBT)</option>\\n<option value=\"171\">NuShares (NSR)</option>\\n<option value=\"1053\">Nuls (NULS)</option>\\n<option value=\"752\">Numeraire (NMR)</option>\\n<option value=\"365\">NxttyACCI (ACCI)</option>\\n<option value=\"168\">Nxttycoin (NXTTY)</option>\\n<option value=\"281\">Nyancoin (NYAN)</option>\\n<option value=\"326\">OBITS (OBITS)</option>\\n<option value=\"274\">OKCash (OK)</option>\\n<option value=\"930\">OX Fina (OX)</option>\\n<option value=\"970\">Obsidian (ODN)</option>\\n<option value=\"887\">Oceanlab (OCL)</option>\\n<option value=\"448\">Octocoin (888)</option>\\n<option value=\"776\">OmiseGo (OMG)</option>\\n<option value=\"7\">Omni (Mastercoin) (OMNI)</option>\\n<option value=\"1136\">Onix (ONX)</option>\\n<option value=\"137\">Opal (OPAL)</option>\\n<option value=\"1048\">Open Trading Network (OTN)</option>\\n<option value=\"853\">OpenANX (OAX)</option>\\n<option value=\"785\">Operacoin (OCN)</option>\\n<option value=\"916\">Opus (OPT)</option>\\n<option value=\"826\">OracleChain (OCT)</option>\\n<option value=\"261\">Orbitcoin (ORB)</option>\\n<option value=\"964\">Ormeus Coin (ORME)</option>\\n<option value=\"1160\">Oxycoin (OXY)</option>\\n<option value=\"1209\">Oyster Pearl (PRL)</option>\\n<option value=\"548\">PIVX (PIVX)</option>\\n<option value=\"1255\">POLY AI (AI)</option>\\n<option value=\"606\">PRCoin (PRC)</option>\\n<option value=\"808\">Paccoin (PAC)</option>\\n<option value=\"607\">Pakcoin (PAK)</option>\\n<option value=\"138\">Pandacoin (PND)</option>\\n<option value=\"287\">Pangea Poker (PANGEA)</option>\\n<option value=\"1055\">Paragon (PRG)</option>\\n<option value=\"610\">ParkByte (PKB)</option>\\n<option value=\"839\">Particl (PART)</option>\\n<option value=\"547\">Pascalcoin (PASC)</option>\\n<option value=\"746\">Patientory (PTOY)</option>\\n<option value=\"999\">PayPie (PPP)</option>\\n<option value=\"195\">Paycoin (XPY)</option>\\n<option value=\"1290\">Payfair (PFR)</option>\\n<option value=\"1189\">Paypex (PAYX)</option>\\n<option value=\"786\">Peepcoin (PCN)</option>\\n<option value=\"4\">Peercoin (PPC)</option>\\n<option value=\"541\">Peerplays (PPY)</option>\\n<option value=\"812\">PeopleCoin (MEN)</option>\\n<option value=\"568\">PepeCash (PEPECASH)</option>\\n<option value=\"694\">Pesetacoin (PTC)</option>\\n<option value=\"537\">Pesobit (PSB)</option>\\n<option value=\"1296\">PetroDollar (XPD)</option>\\n<option value=\"1212\">Phantomx (PNX)</option>\\n<option value=\"160\">PhilosopherStone (PHS)</option>\\n<option value=\"177\">Phoenixcoin (PXC)</option>\\n<option value=\"1129\">Phore (PHR)</option>\\n<option value=\"190\">Piggycoin (PIGGY)</option>\\n<option value=\"809\">Pillar (PLR)</option>\\n<option value=\"631\">PinkDog (PDG)</option>\\n<option value=\"102\">Pinkcoin (PC)</option>\\n<option value=\"528\">Pipcoin (PIP)</option>\\n<option value=\"1017\">PiplCoin (PIPL)</option>\\n<option value=\"1066\">Pirl (PIRL)</option>\\n<option value=\"1077\">PlayerCoin (PLACO)</option>\\n<option value=\"1259\">PlexCoin (PLX)</option>\\n<option value=\"1185\">PlusCoin (PLC)</option>\\n<option value=\"1241\">Pluton (PLU)</option>\\n<option value=\"910\">Po.et (POE)</option>\\n<option value=\"1001\">PoSToken (POS)</option>\\n<option value=\"578\">PoSW Coin (POSW)</option>\\n<option value=\"766\">Polybius (PLBT)</option>\\n<option value=\"753\">Populous (PPT)</option>\\n<option value=\"51\">Potcoin (POT)</option>\\n<option value=\"1104\">Power Ledger (POWR)</option>\\n<option value=\"1299\">Presearch (PRE)</option>\\n<option value=\"823\">Primalbase (PBT)</option>\\n<option value=\"917\">Primas (PST)</option>\\n<option value=\"13\">Primecoin (XPM)</option>\\n<option value=\"833\">Primulon (PRIMU)</option>\\n<option value=\"1183\">Privatix (PRIX)</option>\\n<option value=\"674\">Prizm (PZM)</option>\\n<option value=\"767\">ProCurrency (PROC)</option>\\n<option value=\"637\">Project Decorum (PDC)</option>\\n<option value=\"869\">Propy (PRO)</option>\\n<option value=\"987\">Prospectors Gold (PGL)</option>\\n<option value=\"931\">Protean (PRN)</option>\\n<option value=\"1224\">Publica (PBL)</option>\\n<option value=\"1088\">Pura (PURA)</option>\\n<option value=\"573\">PureVidz (VIDZ)</option>\\n<option value=\"774\">Putin Classic (PUTIC)</option>\\n<option value=\"773\">PutinCoin (PUT)</option>\\n<option value=\"1220\">QASH (QASH)</option>\\n<option value=\"1288\">Qbao (QBT)</option>\\n<option value=\"107\">Qibuck (QBK)</option>\\n<option value=\"157\">Qora (QORA)</option>\\n<option value=\"684\">Qtum (QTUM)</option>\\n<option value=\"1219\">Quantstamp (QSP)</option>\\n<option value=\"1238\">Quantum (QAU)</option>\\n<option value=\"700\">Quantum Resistant Ledger (QRL)</option>\\n<option value=\"10\">Quark (QRK)</option>\\n<option value=\"262\">Quatloo (QTL)</option>\\n<option value=\"268\">QuazarCoin (QCN)</option>\\n<option value=\"1096\">Qvolta (QVT)</option>\\n<option value=\"654\">Qwark (QWARK)</option>\\n<option value=\"985\">RChain (RHOC)</option>\\n<option value=\"993\">REAL (REAL)</option>\\n<option value=\"885\">REX (REX)</option>\\n<option value=\"813\">RHFCoin (RHFC)</option>\\n<option value=\"843\">RSGPcoin (RSGP)</option>\\n<option value=\"338\">Radium (RADS)</option>\\n<option value=\"756\">RaiBlocks (XRB)</option>\\n<option value=\"1132\">Raiden Network Token (RDN)</option>\\n<option value=\"1127\">Rasputin Online Coin (ROC)</option>\\n<option value=\"284\">Ratecoin (XRA)</option>\\n<option value=\"85\">Razor (RZR)</option>\\n<option value=\"1074\">Red Pulse (RPX)</option>\\n<option value=\"40\">Reddcoin (RDD)</option>\\n<option value=\"972\">Regalcoin (REC)</option>\\n<option value=\"666\">Renos (RNS)</option>\\n<option value=\"1031\">Request Network (REQ)</option>\\n<option value=\"1107\">Revain (R)</option>\\n<option value=\"536\">Revolvercoin (XRE)</option>\\n<option value=\"783\">Rialto (XRL)</option>\\n<option value=\"593\">Riecoin (RIC)</option>\\n<option value=\"216\">Rimbit (RBT)</option>\\n<option value=\"1057\">Ripio Credit Network (RCN)</option>\\n<option value=\"44\">Ripple (XRP)</option>\\n<option value=\"452\">Rise (RISE)</option>\\n<option value=\"957\">Rivetz (RVT)</option>\\n<option value=\"1079\">Roofs (ROOFS)</option>\\n<option value=\"1243\">RouletteToken (RLT)</option>\\n<option value=\"617\">Round (ROUND)</option>\\n<option value=\"1014\">Royal Kingdom Coin (RKC)</option>\\n<option value=\"828\">Royalties (XRY)</option>\\n<option value=\"144\">Rubycoin (RBY)</option>\\n<option value=\"1037\">Runners (RUNNERS)</option>\\n<option value=\"801\">Rupee (RUP)</option>\\n<option value=\"962\">SALT (SALT)</option>\\n<option value=\"566\">SARCoin (SAR)</option>\\n<option value=\"1116\">SHIELD (XSH)</option>\\n<option value=\"417\">SIBCoin (SIB)</option>\\n<option value=\"925\">SIGMAcoin (SIGMA)</option>\\n<option value=\"1187\">SISA (SISA)</option>\\n<option value=\"350\">SOILcoin (SOIL)</option>\\n<option value=\"861\">SONM (SNM)</option>\\n<option value=\"419\">Safe Exchange Coin (SAFEX)</option>\\n<option value=\"750\">Sakuracoin (SKR)</option>\\n<option value=\"359\">SaluS (SLS)</option>\\n<option value=\"991\">Sandcoin (SND)</option>\\n<option value=\"797\">Santiment Network Token (SAN)</option>\\n<option value=\"323\">Sativacoin (STV)</option>\\n<option value=\"342\">Scotcoin (SCOT)</option>\\n<option value=\"349\">Secretcoin (SCRT)</option>\\n<option value=\"1032\">SegWit2x [Futures] (B2X)</option>\\n<option value=\"1002\">Senderon (SDRN)</option>\\n<option value=\"608\">Sequence (SEQ)</option>\\n<option value=\"164\">Sexcoin (SXC)</option>\\n<option value=\"129\">ShadowCash (SDC)</option>\\n<option value=\"1169\">Sharechain (SSS)</option>\\n<option value=\"173\">Shibecoin (SHIBE)</option>\\n<option value=\"426\">Shift (SHIFT)</option>\\n<option value=\"535\">Shilling (SH)</option>\\n<option value=\"289\">Siacoin (SC)</option>\\n<option value=\"810\">Signatum (SIGT)</option>\\n<option value=\"1367\">Simple Token (OST)</option>\\n<option value=\"521\">SingularDTV (SNGLS)</option>\\n<option value=\"830\">SkinCoin (SKIN)</option>\\n<option value=\"687\">Skycoin (SKY)</option>\\n<option value=\"1159\">Slevin (SLEVIN)</option>\\n<option value=\"968\">Smart Investment Fund Token (SIFT)</option>\\n<option value=\"1223\">SmartBillions (SMART)</option>\\n<option value=\"832\">SmartCash (SMART)</option>\\n<option value=\"1346\">SmartMesh (SMT)</option>\\n<option value=\"670\">Smartcoin (SMC)</option>\\n<option value=\"685\">Smileycoin (SMLY)</option>\\n<option value=\"1330\">Snovio (SNOV)</option>\\n<option value=\"751\">Soarcoin (SOAR)</option>\\n<option value=\"134\">SocialxBot (XBOT)</option>\\n<option value=\"630\">SolarFlareCoin (SFC)</option>\\n<option value=\"152\">Solarcoin (SLR)</option>\\n<option value=\"1293\">Solaris (XLR)</option>\\n<option value=\"179\">SonicScrewdriver (SSD)</option>\\n<option value=\"1443\">SophiaTX (SPHTX)</option>\\n<option value=\"796\">Sovereign Hero (HERO)</option>\\n<option value=\"1158\">Spacecoin (SPACE)</option>\\n<option value=\"546\">Spectrecoin (XSPEC)</option>\\n<option value=\"1199\">Sphere (SPHR)</option>\\n<option value=\"805\">Sphre AIR (XID)</option>\\n<option value=\"1340\">SportyFi (SPF)</option>\\n<option value=\"201\">SpreadCoin (SPR)</option>\\n<option value=\"435\">Sprouts (SPRTS)</option>\\n<option value=\"1128\">StarCash Network (STARS)</option>\\n<option value=\"906\">StarCredits (STRC)</option>\\n<option value=\"792\">Starta (STA)</option>\\n<option value=\"127\">Startcoin (START)</option>\\n<option value=\"779\">Status (SNT)</option>\\n<option value=\"189\">Stealthcoin (XST)</option>\\n<option value=\"398\">Steem (STEEM)</option>\\n<option value=\"652\">Steem Dollars (SBD)</option>\\n<option value=\"100\">Stellar (XLM)</option>\\n<option value=\"308\">Steps (STEPS)</option>\\n<option value=\"209\">Sterlingcoin (SLG)</option>\\n<option value=\"949\">Storj (STORJ)</option>\\n<option value=\"1369\">Storm (STORM)</option>\\n<option value=\"1230\">Stox (STX)</option>\\n<option value=\"531\">Stratis (STRAT)</option>\\n<option value=\"1115\">Streamr DATAcoin (DATA)</option>\\n<option value=\"416\">Stress (STS)</option>\\n<option value=\"859\">StrongHands (SHND)</option>\\n<option value=\"950\">Substratum (SUB)</option>\\n<option value=\"1195\">Sugar Exchange (SGR)</option>\\n<option value=\"1137\">Sumokoin (SUMO)</option>\\n<option value=\"1166\">SunContract (SNC)</option>\\n<option value=\"1352\">Super Bitcoin [Futures] (SBTC)</option>\\n<option value=\"200\">SuperCoin (SUPER)</option>\\n<option value=\"169\">SuperNET (UNITY)</option>\\n<option value=\"914\">Suretly (SUR)</option>\\n<option value=\"649\">SwagBucks (BUCKS)</option>\\n<option value=\"2214\">SwapToken (TOKEN)</option>\\n<option value=\"1029\">Swapcoin (SWP)</option>\\n<option value=\"621\">Swarm City (SWT)</option>\\n<option value=\"316\">Swing (SWING)</option>\\n<option value=\"130\">Sync (SYNC)</option>\\n<option value=\"698\">Syndicate (SYNX)</option>\\n<option value=\"320\">Synereo (AMP)</option>\\n<option value=\"600\">Synergy (SNRG)</option>\\n<option value=\"119\">Syscoin (SYS)</option>\\n<option value=\"1142\">TIES Network (TIE)</option>\\n<option value=\"1229\">TaaS (TAAS)</option>\\n<option value=\"94\">Tacocoin (TCO)</option>\\n<option value=\"665\">Tagcoin (TAG)</option>\\n<option value=\"597\">Tao (XTO)</option>\\n<option value=\"961\">Target Coin (TGT)</option>\\n<option value=\"641\">Tattoocoin (Limited Edition) (TLE)</option>\\n<option value=\"640\">Tattoocoin (Standard Edition) (TSE)</option>\\n<option value=\"146\">Techcoin (TECH)</option>\\n<option value=\"775\">TenX (PAY)</option>\\n<option value=\"795\">TerraNova (TER)</option>\\n<option value=\"31\">Terracoin (TRC)</option>\\n<option value=\"285\">Teslacoin (TES)</option>\\n<option value=\"325\">Tether (USDT)</option>\\n<option value=\"976\">Tezos (XTZ)</option>\\n<option value=\"1197\">The ChampCoin (TCC)</option>\\n<option value=\"866\">The Cypherfunks (FUNK)</option>\\n<option value=\"614\">TheGCCcoin (GCC)</option>\\n<option value=\"755\">Theresa May Coin (MAY)</option>\\n<option value=\"923\">Tierion (TNT)</option>\\n<option value=\"211\">TileCoin (XTC)</option>\\n<option value=\"184\">Titcoin (TIT)</option>\\n<option value=\"232\">TittieCoin (TTC)</option>\\n<option value=\"824\">ToaCoin (TOA)</option>\\n<option value=\"675\">TokenCard (TKN)</option>\\n<option value=\"642\">Torcoin (TOR)</option>\\n<option value=\"1024\">Tracto (TRCT)</option>\\n<option value=\"798\">TradecoinV2 (TRADE2)</option>\\n<option value=\"280\">Transfercoin (TX)</option>\\n<option value=\"967\">TrezarCoin (TZC)</option>\\n<option value=\"769\">Triangles (TRI)</option>\\n<option value=\"1354\">Trident Group (TRDT)</option>\\n<option value=\"592\">Triggers (TRIG)</option>\\n<option value=\"248\">Trollcoin (TROLL)</option>\\n<option value=\"1094\">Tron (TRX)</option>\\n<option value=\"623\">Truckcoin (TRK)</option>\\n<option value=\"940\">TrueFlip (TFL)</option>\\n<option value=\"460\">Trumpcoin (TRUMP)</option>\\n<option value=\"293\">TrustPlus (TRUST)</option>\\n<option value=\"741\">Tyrocoin (TYC)</option>\\n<option value=\"1269\">UAHPay (UAH)</option>\\n<option value=\"178\">UFO Coin (UFO)</option>\\n<option value=\"915\">UG Token (UGT)</option>\\n<option value=\"58\">USDe (USDE)</option>\\n<option value=\"1824\">UTRUST (UTK)</option>\\n<option value=\"181\">Ubiq (UBQ)</option>\\n<option value=\"265\">Ucoin (U)</option>\\n<option value=\"920\">Ulatech (ULA)</option>\\n<option value=\"26\">Ultracoin (UTC)</option>\\n<option value=\"212\">Unbreakablecoin (UNB)</option>\\n<option value=\"1120\">Unikoin Gold (UKG)</option>\\n<option value=\"467\">Unioncoin (UNC)</option>\\n<option value=\"1362\">United Bitcoin (UBTC)</option>\\n<option value=\"438\">Unitus (UIS)</option>\\n<option value=\"1272\">Universal Currency (UNIT)</option>\\n<option value=\"1366\">UniversalRoyalCoin (UNRC)</option>\\n<option value=\"38\">Unobtanium (UNO)</option>\\n<option value=\"1170\">Upfiring (UFR)</option>\\n<option value=\"1341\">Uquid Coin (UQC)</option>\\n<option value=\"186\">Uro (URO)</option>\\n<option value=\"777\">Useless Ethereum Token (UET)</option>\\n<option value=\"618\">UtaCoin (UTA)</option>\\n<option value=\"252\">UtilityCoin (UTIL)</option>\\n<option value=\"948\">VIBE (VIBE)</option>\\n<option value=\"893\">VIVO (VIVO)</option>\\n<option value=\"749\">VOISE (VSM)</option>\\n<option value=\"269\">VPNCoin (VPN)</option>\\n<option value=\"256\">Vcash (XVC)</option>\\n<option value=\"1167\">VeChain (VEN)</option>\\n<option value=\"599\">Veltor (VLT)</option>\\n<option value=\"203\">Verge (XVG)</option>\\n<option value=\"78\">VeriCoin (VRC)</option>\\n<option value=\"1349\">Verify (CRED)</option>\\n<option value=\"695\">Veritaseum (VERI)</option>\\n<option value=\"571\">VeriumReserve (VRM)</option>\\n<option value=\"539\">Veros (VRS)</option>\\n<option value=\"18\">Vertcoin (VTC)</option>\\n<option value=\"112\">Viacoin (VIA)</option>\\n<option value=\"983\">Viberate (VIB)</option>\\n<option value=\"101\">Virtacoinplus (XVP)</option>\\n<option value=\"632\">VirtualCoin (VC)</option>\\n<option value=\"657\">Visio (VISIO)</option>\\n<option value=\"1205\">Viuly (VIU)</option>\\n<option value=\"598\">Vootcoin (VOOT)</option>\\n<option value=\"1253\">VoteCoin (VOT)</option>\\n<option value=\"386\">Voxels (VOX)</option>\\n<option value=\"898\">Vsync (VSX)</option>\\n<option value=\"1084\">Vulcano (VULC)</option>\\n<option value=\"1208\">WINCOIN (WC)</option>\\n<option value=\"437\">WMCoin (WMC)</option>\\n<option value=\"1338\">WaBi (WABI)</option>\\n<option value=\"759\">Wagerr (WGR)</option>\\n<option value=\"889\">Wallet Builders Coin (WBC)</option>\\n<option value=\"1093\">Walton (WTC)</option>\\n<option value=\"163\">Wankcoin (WKC)</option>\\n<option value=\"425\">Waves (WAVES)</option>\\n<option value=\"645\">WeTrust (TRST)</option>\\n<option value=\"523\">WexCoin (WEX)</option>\\n<option value=\"988\">WhaleCoin (WHL)</option>\\n<option value=\"60\">Whitecoin (XWC)</option>\\n<option value=\"944\">Wi Coin (WIC)</option>\\n<option value=\"590\">Wild Beast Block (WBB)</option>\\n<option value=\"992\">Wild Crypto (WILD)</option>\\n<option value=\"648\">Wings (WINGS)</option>\\n<option value=\"346\">Woodcoin (LOG)</option>\\n<option value=\"17\">Worldcoin (WDC)</option>\\n<option value=\"1358\">Worldcore (WRC)</option>\\n<option value=\"247\">X-Coin (XCO)</option>\\n<option value=\"1201\">XGOX (XGOX)</option>\\n<option value=\"745\">XP (XP)</option>\\n<option value=\"875\">XPlay (XPA)</option>\\n<option value=\"938\">XTD Coin (XTD)</option>\\n<option value=\"461\">Xaurum (XAUR)</option>\\n<option value=\"577\">Xenixcoin (XEN)</option>\\n<option value=\"1067\">Xenon (XNN)</option>\\n<option value=\"314\">Xiaomicoin (MI)</option>\\n<option value=\"1058\">Xios (XIOS)</option>\\n<option value=\"644\">XtraBYtes (XBY)</option>\\n<option value=\"1360\">YENTEN (YTN)</option>\\n<option value=\"1270\">YOYOW (YOYOW)</option>\\n<option value=\"620\">YashCoin (YASH)</option>\\n<option value=\"20\">Ybcoin (YBC)</option>\\n<option value=\"1125\">Yellow Token (YEL)</option>\\n<option value=\"634\">YoGold (YOG)</option>\\n<option value=\"341\">Yocoin (YOC)</option>\\n<option value=\"1145\">ZCash Gold (ZCG)</option>\\n<option value=\"479\">ZCoin (XZC)</option>\\n<option value=\"595\">ZcCoin (ZCC)</option>\\n<option value=\"486\">Zcash (ZEC)</option>\\n<option value=\"540\">Zclassic (ZCL)</option>\\n<option value=\"65\">Zeitcoin (ZEIT)</option>\\n<option value=\"691\">ZenCash (ZEN)</option>\\n<option value=\"1252\">Zennies (ZENI)</option>\\n<option value=\"1134\">Zephyr (ZEPH)</option>\\n<option value=\"1292\">Zero (ZER)</option>\\n<option value=\"27\">Zetacoin (ZET)</option>\\n<option value=\"1009\">Zeusshield (ZSC)</option>\\n<option value=\"1221\">ZoZoCoin (ZZC)</option>\\n<option value=\"477\">Zonecoin (ZNE)</option>\\n<option value=\"699\">ZrCoin (ZRC)</option>\\n<option value=\"1149\">Zurcoin (ZUR)</option>\\n<option value=\"778\">adToken (ADT)</option>\\n<option value=\"1320\">bitBTC (BITBTC)</option>\\n<option value=\"673\">bitCNY (BITCNY)</option>\\n<option value=\"1172\">bitJob (STU)</option>\\n<option value=\"927\">bitqy (BQ)</option>\\n<option value=\"849\">district0x (DNT)</option>\\n<option value=\"1113\">eBIT (EBIT)</option>\\n<option value=\"978\">eBitcoin (EBTC)</option>\\n<option value=\"1190\">eBitcoin Cash (EBCH)</option>\\n<option value=\"1151\">eBoost (EBST)</option>\\n<option value=\"1105\">eGold (EGOLD)</option>\\n<option value=\"998\">eLTC (ELTC2)</option>\\n<option value=\"1069\">eREAL (EREAL)</option>\\n<option value=\"1035\">eUSD (EUSD)</option>\\n<option value=\"1103\">iBTC (IBTC)</option>\\n<option value=\"1065\">iEthereum (IETH)</option>\\n<option value=\"646\">iExec RLC (RLC)</option>\\n<option value=\"872\">iQuant (IQT)</option>\\n<option value=\"286\">jl777hodl (JLH)</option>\\n<option value=\"543\">vSlice (VSL)</option>\\n<option value=\"585\">vTorrent (VTR)</option>\\n<option value=\"253\">xCash (XCASH)</option>\\n<option value=\"780\">биткоин Cash (BCH)</option>\\n<option value=\"1\">биткоина (BTC)</option>\\n<option value=\"279\">эфириум (ETH)</option>\\n<option value=\"1\">بيتكوين (BTC)</option>\\n<option value=\"1\">บิตคอยน์ (BTC)</option>\\n<option value=\"279\">イーサリアム (ETH)</option>\\n<option value=\"975\">カルダノ エイダコイン (ADA)</option>\\n<option value=\"486\">ジーキャッシュ (ZEC)</option>\\n<option value=\"19\">ダークコイン (DASH)</option>\\n<option value=\"5\">ドージコイン (DOGE)</option>\\n<option value=\"1\">ビットコイン (BTC)</option>\\n<option value=\"1\">ビットコイン (BTC)</option>\\n<option value=\"780\">ビットコインキャッシュ (BCH)</option>\\n<option value=\"12\">フェザーコイン (FTC)</option>\\n<option value=\"99\">モナーコイン (MONA)</option>\\n<option value=\"2\">ライトコイン (LTC)</option>\\n<option value=\"44\">リップル (XRP)</option>\\n<option value=\"18\">ヴァートコイン (VTC)</option>\\n<option value=\"279\">以太坊 (ETH)</option>\\n<option value=\"279\">以太幣 (ETH)</option>\\n<option value=\"9\">合約幣 (XCP)</option>\\n<option value=\"9\">合约币 (XCP)</option>\\n<option value=\"8\">域名币 (NMC)</option>\\n<option value=\"8\">域名幣 (NMC)</option>\\n<option value=\"66\">多彩币 (XMY)</option>\\n<option value=\"66\">多彩幣 (XMY)</option>\\n<option value=\"10\">夸克币 (QRK)</option>\\n<option value=\"10\">夸克幣 (QRK)</option>\\n<option value=\"100\">恆星幣 (XLM)</option>\\n<option value=\"100\">恒星币 (XLM)</option>\\n<option value=\"14\">无限币 (IFC)</option>\\n<option value=\"6\">未來幣 (NXT)</option>\\n<option value=\"6\">未来币 (NXT)</option>\\n<option value=\"1\">比特币 (BTC)</option>\\n<option value=\"1\">比特幣 (BTC)</option>\\n<option value=\"95\">比特股 (BTS)</option>\\n<option value=\"95\">比特股 (BTS)</option>\\n<option value=\"4\">点点币 (PPC)</option>\\n<option value=\"14\">無限幣 (IFC)</option>\\n<option value=\"5\">狗币 (DOGE)</option>\\n<option value=\"5\">狗狗币 (DOGE)</option>\\n<option value=\"5\">狗狗幣 (DOGE)</option>\\n<option value=\"44\">瑞波币 (XRP)</option>\\n<option value=\"44\">瑞波幣 (XRP)</option>\\n<option value=\"40\">瑞迪币 (RDD)</option>\\n<option value=\"40\">瑞迪幣 (RDD)</option>\\n<option value=\"18\">綠幣 (VTC)</option>\\n<option value=\"78\">維理幣 (VRC)</option>\\n<option value=\"78\">维理币 (VRC)</option>\\n<option value=\"18\">绿币 (VTC)</option>\\n<option value=\"16\">美卡币 (MEC)</option>\\n<option value=\"16\">美卡幣 (MEC)</option>\\n<option value=\"12\">羽毛币 (FTC)</option>\\n<option value=\"12\">羽毛幣 (FTC)</option>\\n<option value=\"2\">莱特币 (LTC)</option>\\n<option value=\"2\">萊特幣 (LTC)</option>\\n<option value=\"13\">質數幣 (XPM)</option>\\n<option value=\"13\">质数币 (XPM)</option>\\n<option value=\"19\">达世币 (DASH)</option>\\n<option value=\"19\">達世幣 (DASH)</option>\\n<option value=\"69\">門羅幣 (XMR)</option>\\n<option value=\"69\">门罗币 (XMR)</option>\\n<option value=\"50\">黑币 (BLK)</option>\\n<option value=\"50\">黑幣 (BLK)</option>\\n<option value=\"4\">點點幣 (PPC)</option>\\n<option value=\"44\">리플코인 (XRP)</option>\\n<option value=\"1\">비트코인 (BTC)</option>\\n<option value=\"279\">이더리움 (ETH)</option></select>\\n</div>\\n<form id=\"coins-search-form\" data-search-placeholder=\"Search Coins\" action=\"/coins/search?locale=zh-tw\" accept-charset=\"UTF-8\" method=\"get\"><input name=\"utf8\" type=\"hidden\" value=\"&#x2713;\" />\\n<input type=\"hidden\" name=\"query\" id=\"query\" value=\"\" class=\"input-sm form-control\" />\\n</form>\\n</div>\\n</div>\\n</div>\\n</div>\\n<div class=\"main-menu deskstop\">\\n<div class=\"container\">\\n<div class=\"row\">\\n<div class=\"col-md-8\">\\n<ul class=\"nav coingecko\">\\n<li class=\"nav-item\">\\n<a href=\"/zh-tw\">圖表</a>\\n</li>\\n<li class=\"nav-item\">\\n<a href=\"/zh-tw/crypto_index/crix\">\\nCRIX\\n</a> </li>\\n<li class=\"nav-item\">\\n<a href=\"/ico?locale=zh-tw\">\\nICO\\n</a> </li>\\n<li>\\n<a href=\"/zh-tw/%E5%95%86%E5%93%81\">\\n商品\\n</a> </li>\\n<li class=\"buzz\">\\n<a href=\"/buzz?locale=zh-tw\">\\nBuzz\\n</a> </li>\\n<li><a href=\"#\" data-toggle=\"dropdown\"><i class=\"fa fa-ellipsis-h\"></i> <span class=\"fa fa-caret-down\"></span></a>\\n<ul class=\"dropdown-menu \">\\n<li><a href=\"/zh-tw/%E9%97%9C%E6%96%BC\">關於</a></li>\\n<li><a href=\"/zh-tw/%E5%B8%B8%E5%95%8F%E5%95%8F%E9%A1%8C\">常問問題</a></li>\\n<li><a href=\"/zh-tw/%E6%96%B9%E6%B3%95\">方法</a></li>\\n<li><a href=\"https://selfserve.coingecko.com/\">廣告宣傳</a></li>\\n</ul>\\n</li>\\n</ul>\\n</div>\\n<div class=\"col-md-4\">\\n<div class=\\'input-group search\\'>\\n<select name=\"coins_to_search\" id=\"coins_to_search\" style=\"width:100%\" class=\"select2-search-coins\"><option value=\"\">Search Coin</option><option value=\"863\">0x (ZRX)</option>\\n<option value=\"1045\">10M Token (10MT)</option>\\n<option value=\"686\">1337 (1337)</option>\\n<option value=\"667\">2GIVE (2GIVE)</option>\\n<option value=\"822\">300 Token (300)</option>\\n<option value=\"1003\">ALIS (ALIS)</option>\\n<option value=\"1206\">ALQO (ALQO)</option>\\n<option value=\"148\">APEXcoin (APEX)</option>\\n<option value=\"1239\">APX (APX)</option>\\n<option value=\"185\">ARCHcoin (ARCH)</option>\\n<option value=\"873\">ATBCoin (ATB)</option>\\n<option value=\"806\">ATC Coin (ATCC)</option>\\n<option value=\"1108\">ATLANT (ATL)</option>\\n<option value=\"1095\">ATMChain (ATM)</option>\\n<option value=\"936\">ATMCoin (ATMC)</option>\\n<option value=\"1161\">Abjcoin (ABJ)</option>\\n<option value=\"1147\">Achain (ACT)</option>\\n<option value=\"172\">Acoin (ACOIN)</option>\\n<option value=\"929\">AdCoin (ACC)</option>\\n<option value=\"847\">AdEx (ADX)</option>\\n<option value=\"868\">AdShares (ADST)</option>\\n<option value=\"1246\">Adelphoi (ADL)</option>\\n<option value=\"1337\">Advanced Internet Block (AIB)</option>\\n<option value=\"418\">Adzcoin (ADZ)</option>\\n<option value=\"321\">Aeon (AEON)</option>\\n<option value=\"1192\">Aerium (AERM)</option>\\n<option value=\"1124\">Aeron (ARN)</option>\\n<option value=\"1091\">Aeternity (AE)</option>\\n<option value=\"399\">Agoras (AGRS)</option>\\n<option value=\"900\">Agrello (DLT)</option>\\n<option value=\"192\">AidBit (AID)</option>\\n<option value=\"74\">Aiden (ADN)</option>\\n<option value=\"1023\">Aion (AION)</option>\\n<option value=\"1019\">AirSwap (AST)</option>\\n<option value=\"1000\">AirToken (AIR)</option>\\n<option value=\"1015\">Akuya Coin (AKY)</option>\\n<option value=\"1112\">AltCommunity Coin (ALTCOM)</option>\\n<option value=\"855\">Altcoin (ALT)</option>\\n<option value=\"1041\">Amber (AMB)</option>\\n<option value=\"315\">AmberCoin (AMBER)</option>\\n<option value=\"319\">AmsterdamCoin (AMS)</option>\\n<option value=\"1311\">Animecoin (ANI)</option>\\n<option value=\"23\">Anoncoin (ANC)</option>\\n<option value=\"34\">Applecoin (APC)</option>\\n<option value=\"681\">Aragon (ANT)</option>\\n<option value=\"519\">Arcade Token (ARC)</option>\\n<option value=\"633\">ArcticCoin (ARC)</option>\\n<option value=\"525\">Ardor (ARDR)</option>\\n<option value=\"433\">Argentum (ARG)</option>\\n<option value=\"740\">Argus (ARGUS)</option>\\n<option value=\"613\">Ark (ARK)</option>\\n<option value=\"141\">ArtByte (ABY)</option>\\n<option value=\"530\">Artex Coin (ATX)</option>\\n<option value=\"636\">Asch (XAS)</option>\\n<option value=\"72\">Asiacoin (AC)</option>\\n<option value=\"474\">Asiadigicoin (ADCN)</option>\\n<option value=\"1188\">Astro (ASTRO)</option>\\n<option value=\"1242\">Atmos (ATMS)</option>\\n<option value=\"628\">AudioCoin (ADC)</option>\\n<option value=\"309\">Augur (REP)</option>\\n<option value=\"3\">Auroracoin (AUR)</option>\\n<option value=\"1012\">Authorship (ATS)</option>\\n<option value=\"1122\">Autonio (NIO)</option>\\n<option value=\"901\">Aventus (AVT)</option>\\n<option value=\"696\">Avoncoin (ACN)</option>\\n<option value=\"1211\">B2B (B2B)</option>\\n<option value=\"1174\">B3Coin (B3)</option>\\n<option value=\"678\">BCAP (BCAP)</option>\\n<option value=\"918\">BITFID (FID)</option>\\n<option value=\"1266\">BLOCKv (VEE)</option>\\n<option value=\"1056\">BOScoin (BOS)</option>\\n<option value=\"921\">BRAT (BRAT)</option>\\n<option value=\"1081\">BTCMoon (BTCM)</option>\\n<option value=\"432\">BTSR (BTSR)</option>\\n<option value=\"736\">Bancor Network Token (BNT)</option>\\n<option value=\"626\">Bankcoin (B@)</option>\\n<option value=\"677\">Basic Attention Token (BAT)</option>\\n<option value=\"1008\">Bastonet (BSN)</option>\\n<option value=\"271\">Bata (BTA)</option>\\n<option value=\"484\">Beatcoin (XBTS)</option>\\n<option value=\"580\">Belacoin (BELA)</option>\\n<option value=\"627\">BenjiRolls (BENJI)</option>\\n<option value=\"928\">BiblePay (BBP)</option>\\n<option value=\"485\">Bikercoin (BIC)</option>\\n<option value=\"946\">Billionaire Token (XBL)</option>\\n<option value=\"825\">Binance Coin (BNB)</option>\\n<option value=\"574\">BipCoin (BIP)</option>\\n<option value=\"974\">Bismuth (BIS)</option>\\n<option value=\"793\">Bit20 (BTWTY)</option>\\n<option value=\"258\">BitBay (BAY)</option>\\n<option value=\"1194\">BitBoost (BBT)</option>\\n<option value=\"842\">BitCoal (COAL)</option>\\n<option value=\"318\">BitCrystals (BCY)</option>\\n<option value=\"956\">BitDice (CSNO)</option>\\n<option value=\"612\">BitSend (BSD)</option>\\n<option value=\"1193\">BitSerial (BTE)</option>\\n<option value=\"95\">BitShares (BTS)</option>\\n<option value=\"1020\">BitSoar (BSR)</option>\\n<option value=\"231\">BitStake (XBS)</option>\\n<option value=\"250\">BitSwift (SWIFT)</option>\\n<option value=\"240\">BitUSD (BITUSD)</option>\\n<option value=\"283\">BitZeny (ZNY)</option>\\n<option value=\"1355\">Bitair (BTCA)</option>\\n<option value=\"97\">Bitbar (BTB)</option>\\n<option value=\"1101\">Bitbase (BTBC)</option>\\n<option value=\"254\">Bitbean (BITB)</option>\\n<option value=\"476\">Bitcedi (BXC)</option>\\n<option value=\"1198\">Bitcloud (BTDX)</option>\\n<option value=\"1\">Bitcoin (BTC)</option>\\n<option value=\"780\">Bitcoin Cash (BCH)</option>\\n<option value=\"1254\">Bitcoin Diamond [Futures] (BCD)</option>\\n<option value=\"1323\">Bitcoin Fast (BCF)</option>\\n<option value=\"1043\">Bitcoin Gold (BTG)</option>\\n<option value=\"469\">Bitcoin Plus (XBC)</option>\\n<option value=\"1054\">Bitcoin Red (BTCRED)</option>\\n<option value=\"296\">Bitcoin Scrypt (BTCS)</option>\\n<option value=\"1076\">Bitcoin SegWit2X (BT2)</option>\\n<option value=\"1063\">Bitcoin Silver (BTCS)</option>\\n<option value=\"1217\">Bitcoin2x (BTC2X)</option>\\n<option value=\"1033\">BitcoinCashScrypt (BCCS)</option>\\n<option value=\"118\">BitcoinDark (BTCD)</option>\\n<option value=\"360\">BitcoinUltra (BTCU)</option>\\n<option value=\"1351\">BitcoinX [Futures] (BCX)</option>\\n<option value=\"1004\">BitcoinZ (BTCZ)</option>\\n<option value=\"545\">Bitconnect (BCC)</option>\\n<option value=\"680\">Bitcore (BTX)</option>\\n<option value=\"1092\">Bitdeal (BDL)</option>\\n<option value=\"1075\">Bitfinex Bitcoin Future (BT1)</option>\\n<option value=\"368\">Bitgem (BTG)</option>\\n<option value=\"532\">Bitland (CADASTRAL)</option>\\n<option value=\"149\">Bitleu (BTL)</option>\\n<option value=\"125\">Bitmark (BTM)</option>\\n<option value=\"581\">Bitparkcoin (BPC)</option>\\n<option value=\"1156\">Bitradio (BRO)</option>\\n<option value=\"136\">Bitstar (BITS)</option>\\n<option value=\"249\">Bitz (BITZ)</option>\\n<option value=\"50\">BlackCoin (BLK)</option>\\n<option value=\"876\">Blackmoon Crypto (BMC)</option>\\n<option value=\"244\">Blakecoin (BLC)</option>\\n<option value=\"653\">Blitzcash (BLITZ)</option>\\n<option value=\"1154\">BlockCAT (CAT)</option>\\n<option value=\"1301\">BlockCDN (BCDN)</option>\\n<option value=\"1022\">BlockMason Credit Protocol (BCPT)</option>\\n<option value=\"481\">BlockPay (BLOCKPAY)</option>\\n<option value=\"344\">BlockShares (BKS)</option>\\n<option value=\"908\">Blockchain Index (BLX)</option>\\n<option value=\"236\">Blocknet (BLOCK)</option>\\n<option value=\"1143\">Blockpool (BPL)</option>\\n<option value=\"1233\">Blocktix (TIX)</option>\\n<option value=\"1036\">Blue (BLUE)</option>\\n<option value=\"96\">Bluecoin (BLU)</option>\\n<option value=\"1218\">Bodhi (BOT)</option>\\n<option value=\"1325\">Bolivarcoin (BOLI)</option>\\n<option value=\"1314\">Bonpay (BON)</option>\\n<option value=\"122\">Boolberry (BBR)</option>\\n<option value=\"345\">BoostCoin (BOST)</option>\\n<option value=\"180\">Bottlecaps (CAP)</option>\\n<option value=\"1444\">Bounty0x (BNTY)</option>\\n<option value=\"879\">Bowhead Health (AHT)</option>\\n<option value=\"624\">Breakout (BRK)</option>\\n<option value=\"625\">Breakout Stake (BRX)</option>\\n<option value=\"996\">BridgeCoin (BCO)</option>\\n<option value=\"651\">Britcoin (BRIT)</option>\\n<option value=\"202\">Bunnycoin (BUN)</option>\\n<option value=\"154\">Burst (BURST)</option>\\n<option value=\"884\">BuzzCoin (BUZZ)</option>\\n<option value=\"561\">Byteball Bytes (GBYTE)</option>\\n<option value=\"199\">Bytecent (BYC)</option>\\n<option value=\"92\">Bytecoin (BCN)</option>\\n<option value=\"1087\">Bytom (BTM)</option>\\n<option value=\"952\">CHIPS (CHIPS)</option>\\n<option value=\"1011\">CORION (COR)</option>\\n<option value=\"955\">COSS (COSS)</option>\\n<option value=\"862\">CVCoin (CVCOIN)</option>\\n<option value=\"401\">Cabbage Unit (CAB)</option>\\n<option value=\"560\">Cagecoin (CAGE)</option>\\n<option value=\"526\">Caliphcoin (CALC)</option>\\n<option value=\"818\">CampusCoin (CMPCO)</option>\\n<option value=\"347\">Canada eCoin (CDN)</option>\\n<option value=\"538\">Cannabis Industry Coin (XCI)</option>\\n<option value=\"109\">CannabisCoin (CANN)</option>\\n<option value=\"155\">Cannacoin (CCN)</option>\\n<option value=\"1302\">Cappasity (CAPP)</option>\\n<option value=\"327\">Capricoin (CPC)</option>\\n<option value=\"1123\">CarTaxi (CTX)</option>\\n<option value=\"1291\">Carboncoin (CARBON)</option>\\n<option value=\"975\">Cardano (ADA)</option>\\n<option value=\"1073\">Cash Poker Pro (CASH)</option>\\n<option value=\"64\">Casinocoin (CSC)</option>\\n<option value=\"844\">Catcoin (CAT)</option>\\n<option value=\"1287\">Ccore (CCO)</option>\\n<option value=\"941\">Centra (CTR)</option>\\n<option value=\"582\">Centurion (CNT)</option>\\n<option value=\"267\">Cerium (XCE)</option>\\n<option value=\"877\">ChainLink (LINK)</option>\\n<option value=\"672\">Chaincoin (CHC)</option>\\n<option value=\"1021\">Change (CAG)</option>\\n<option value=\"604\">Chronobank (TIME)</option>\\n<option value=\"951\">Chronologic (DAY)</option>\\n<option value=\"1006\">Cindicator (CND)</option>\\n<option value=\"70\">Cinni (CINNI)</option>\\n<option value=\"588\">Circuits of Value (COVAL)</option>\\n<option value=\"788\">Civic (CVC)</option>\\n<option value=\"230\">Clams (CLAM)</option>\\n<option value=\"1050\">ClearPoll (POLL)</option>\\n<option value=\"81\">Cloakcoin (CLOAK)</option>\\n<option value=\"415\">Clubcoin (CLUB)</option>\\n<option value=\"789\">CoEval (COE)</option>\\n<option value=\"971\">Cobinhood (COB)</option>\\n<option value=\"762\">Cofound.it (CFI)</option>\\n<option value=\"827\">Coimatic 2.0 (CTIC2)</option>\\n<option value=\"639\">Coin2.1 (C2)</option>\\n<option value=\"1231\">CoinDash (CDT)</option>\\n<option value=\"278\">Coinomat (CNMT)</option>\\n<option value=\"966\">ColossusCoinXT (COLX)</option>\\n<option value=\"470\">Comet (CMT)</option>\\n<option value=\"1157\">Compcoin (CMP)</option>\\n<option value=\"1204\">Condensate (RAIN)</option>\\n<option value=\"1126\">Confido (CFD)</option>\\n<option value=\"1213\">Copico (XCPO)</option>\\n<option value=\"1196\">Corethum (CRTM)</option>\\n<option value=\"9\">Counterparty (XCP)</option>\\n<option value=\"251\">Crave (CRAVE)</option>\\n<option value=\"1155\">Cream (CRM)</option>\\n<option value=\"682\">CreativeCoin (CREA)</option>\\n<option value=\"1121\">Credence Coin (CRDNC)</option>\\n<option value=\"378\">Creditbit (CRB)</option>\\n<option value=\"883\">Credo (CREDO)</option>\\n<option value=\"466\">Crevacoin (CREVA)</option>\\n<option value=\"1339\">CrowdCoin (CRC)</option>\\n<option value=\"328\">Crown (CRW)</option>\\n<option value=\"79\">CryptCoin (CRYPT)</option>\\n<option value=\"273\">Crypto (CTO)</option>\\n<option value=\"133\">Crypto Bullion (CBX)</option>\\n<option value=\"660\">CryptoCarbon (CCRB)</option>\\n<option value=\"135\">CryptoEscudo (CESC)</option>\\n<option value=\"857\">CryptoForecast (CFT)</option>\\n<option value=\"953\">CryptoInsight (TKR)</option>\\n<option value=\"770\">CryptoPing (PING)</option>\\n<option value=\"472\">Cryptojacks (CJ)</option>\\n<option value=\"291\">Cryptokenz (CYT)</option>\\n<option value=\"1176\">Cryptonex (CNX)</option>\\n<option value=\"158\">Cryptonite (XCN)</option>\\n<option value=\"2216\">Cryptopay (CPAY)</option>\\n<option value=\"995\">Crystal Clear (CCT)</option>\\n<option value=\"1368\">Cubits (QBT)</option>\\n<option value=\"76\">Curecoin (CURE)</option>\\n<option value=\"984\">CybCSec (XCS)</option>\\n<option value=\"1300\">CyberMiles (CMT)</option>\\n<option value=\"904\">Cyder (CYDER)</option>\\n<option value=\"867\">Cypher (CYP)</option>\\n<option value=\"1271\">DAO.Casino (BET)</option>\\n<option value=\"831\">DAS (DAS)</option>\\n<option value=\"1140\">DCORP (DRP)</option>\\n<option value=\"943\">DFSCoin (DFS)</option>\\n<option value=\"790\">DHG (DHG)</option>\\n<option value=\"1445\">DIMCOIN (DIM)</option>\\n<option value=\"87\">DNotes (NOTE)</option>\\n<option value=\"880\">DROXNE (DRXNE)</option>\\n<option value=\"1442\">Dai (DAI)</option>\\n<option value=\"932\">Dalecoin (DALC)</option>\\n<option value=\"591\">Darcrus (DAR)</option>\\n<option value=\"19\">Dash (DASH)</option>\\n<option value=\"297\">Dashcoin (DSH)</option>\\n<option value=\"1353\">Datum (DAT)</option>\\n<option value=\"1363\">DavorCoin (DAV)</option>\\n<option value=\"803\">Daxxcoin (DAXX)</option>\\n<option value=\"275\">DeBuNe (DEBUNE)</option>\\n<option value=\"754\">Decent (DCT)</option>\\n<option value=\"1168\">DecentBet (DBET)</option>\\n<option value=\"878\">Decentraland (MANA)</option>\\n<option value=\"1165\">Decision Token (HST)</option>\\n<option value=\"329\">Decred (DCR)</option>\\n<option value=\"1148\">DeepOnion (ONION)</option>\\n<option value=\"1133\">Delphy (DPY)</option>\\n<option value=\"760\">Denarius (DNR)</option>\\n<option value=\"1152\">Dent (DENT)</option>\\n<option value=\"850\">Dentacoin (DCN)</option>\\n<option value=\"1119\">Desire (DSR)</option>\\n<option value=\"272\">Deutsche eMark (DEM)</option>\\n<option value=\"22\">Devcoin (DVC)</option>\\n<option value=\"165\">Diamond (DMD)</option>\\n<option value=\"322\">DigiCube (CUBE)</option>\\n<option value=\"351\">DigiEuro (DEUR)</option>\\n<option value=\"1214\">DigiPulse (DGPT)</option>\\n<option value=\"63\">Digibyte (DGB)</option>\\n<option value=\"132\">DigitalNote (XDN)</option>\\n<option value=\"1138\">DigitalPrice (DP)</option>\\n<option value=\"33\">Digitalcoin (DGC)</option>\\n<option value=\"397\">DigixDAO (DGD)</option>\\n<option value=\"860\">Dimecoin (DIME)</option>\\n<option value=\"748\">Dinastycoin (DCY)</option>\\n<option value=\"153\">Dirac (XDQ)</option>\\n<option value=\"1273\">Divi (DIVX)</option>\\n<option value=\"376\">Dobbscoin (BOB)</option>\\n<option value=\"5\">Dogecoin (DOGE)</option>\\n<option value=\"120\">Dogeparty (XDP)</option>\\n<option value=\"1030\">DomRaider (DRT)</option>\\n<option value=\"295\">DopeCoin (DOPE)</option>\\n<option value=\"669\">Dotcoin (DOT)</option>\\n<option value=\"1072\">Dovu (DOVU)</option>\\n<option value=\"1289\">Dragonchain (DRGN)</option>\\n<option value=\"629\">DubaiCoin-DBIX (DBIX)</option>\\n<option value=\"1028\">Dutch Coin (DUTCH)</option>\\n<option value=\"697\">Dynamic (DYN)</option>\\n<option value=\"524\">E-Dinar Coin (EDR)</option>\\n<option value=\"1180\">E-coin (ECN)</option>\\n<option value=\"1182\">EA Coin (EAG)</option>\\n<option value=\"744\">ECC (ECC)</option>\\n<option value=\"439\">EDRCoin (EDRC)</option>\\n<option value=\"738\">EOS (EOS)</option>\\n<option value=\"919\">EOT Token (EOT)</option>\\n<option value=\"1141\">ERC20 (ERC20)</option>\\n<option value=\"1099\">ETHGAS (EGAS)</option>\\n<option value=\"1365\">ETHLend (LEND)</option>\\n<option value=\"1049\">EXRNchain (EXRN)</option>\\n<option value=\"1181\">EagleCoin (EAGLE)</option>\\n<option value=\"111\">Earthcoin (EAC)</option>\\n<option value=\"737\">Ecobit (ECOB)</option>\\n<option value=\"635\">Edgeless (EDG)</option>\\n<option value=\"1018\">Eidoo (EDO)</option>\\n<option value=\"46\">Einsteinium (EMC2)</option>\\n<option value=\"811\">Elastic (XEL)</option>\\n<option value=\"447\">Elcoin (EL)</option>\\n<option value=\"688\">Electra (ECA)</option>\\n<option value=\"1109\">Electroneum (ETN)</option>\\n<option value=\"234\">Electronic Gulden (EFL)</option>\\n<option value=\"264\">Elektron (EKN)</option>\\n<option value=\"1278\">Elementrem (ELE)</option>\\n<option value=\"945\">Elixir (ELIX)</option>\\n<option value=\"1083\">Ellaism (ELLA)</option>\\n<option value=\"1118\">Eltcoin (ELTCOIN)</option>\\n<option value=\"817\">EmberCoin (EMB)</option>\\n<option value=\"781\">Embers (MBRS)</option>\\n<option value=\"259\">EmerCoin (EMC)</option>\\n<option value=\"1162\">Emphy (EPY)</option>\\n<option value=\"1215\">EncrypGen (DNA)</option>\\n<option value=\"982\">EncryptoTel [ETH] (ETT)</option>\\n<option value=\"1222\">Energo (TSL)</option>\\n<option value=\"587\">Energycoin (ENRG)</option>\\n<option value=\"1007\">Enigma (ENG)</option>\\n<option value=\"1102\">Enjin Coin (ENJ)</option>\\n<option value=\"1202\">EquiTrader (EQT)</option>\\n<option value=\"1303\">Eroscoin (ERO)</option>\\n<option value=\"468\">Espers (ESP)</option>\\n<option value=\"856\">Eternity (ENT)</option>\\n<option value=\"990\">EthBet (EBET)</option>\\n<option value=\"1275\">Ethbits (ETBS)</option>\\n<option value=\"1013\">EtherDoge (EDOGE)</option>\\n<option value=\"279\">Ethereum (ETH)</option>\\n<option value=\"1010\">Ethereum Cash (ECASH)</option>\\n<option value=\"453\">Ethereum Classic (ETC)</option>\\n<option value=\"870\">Ethereum Dark (ETHD)</option>\\n<option value=\"1034\">Ethereum Gold (ETG)</option>\\n<option value=\"1062\">Ethereum Lite (ELITE)</option>\\n<option value=\"1274\">Ethereum Movie Venture (EMV)</option>\\n<option value=\"1232\">Etheroll (DICE)</option>\\n<option value=\"1082\">Etherparty (FUEL)</option>\\n<option value=\"794\">Ethos (ETHOS)</option>\\n<option value=\"1200\">EuropeCoin (ERC)</option>\\n<option value=\"1268\">EventChain (EVC)</option>\\n<option value=\"664\">EverGreenCoin (EGC)</option>\\n<option value=\"997\">Everex (EVX)</option>\\n<option value=\"1027\">Everus (EVR)</option>\\n<option value=\"1052\">Exchange Union (XUC)</option>\\n<option value=\"1016\">ExchangeN (EXN)</option>\\n<option value=\"609\">ExclusiveCoin (EXCL)</option>\\n<option value=\"150\">Execoin (EXE)</option>\\n<option value=\"339\">Expanse (EXP)</option>\\n<option value=\"1080\">FAPcoin (FAP)</option>\\n<option value=\"217\">FIMKrypto (FIMK)</option>\\n<option value=\"241\">FLO (FLO)</option>\\n<option value=\"989\">FLiK (FLIK)</option>\\n<option value=\"1114\">FORCE (FOR)</option>\\n<option value=\"1186\">Faceblock (FBL)</option>\\n<option value=\"896\">Facecoin (FC)</option>\\n<option value=\"310\">Factom (FCT)</option>\\n<option value=\"255\">Faircoin (FAIR)</option>\\n<option value=\"804\">Falcoin (FAL)</option>\\n<option value=\"191\">Fantomcoin (FCN)</option>\\n<option value=\"1130\">Farad (FRD)</option>\\n<option value=\"175\">Fastcoin (FST)</option>\\n<option value=\"12\">Feathercoin (FTC)</option>\\n<option value=\"35\">Fedoracoin (TIPS)</option>\\n<option value=\"166\">Fibre (FIBRE)</option>\\n<option value=\"1348\">Filecoin [Futures] (FIL)</option>\\n<option value=\"800\">FinCoin (FNC)</option>\\n<option value=\"615\">First Bitcoin (BIT)</option>\\n<option value=\"522\">First Blood (1ST)</option>\\n<option value=\"1310\">Firstcoin (FRST)</option>\\n<option value=\"601\">Fitcoin (FIT)</option>\\n<option value=\"1312\">Flappycoin (FLAP)</option>\\n<option value=\"765\">Flash (FLASH)</option>\\n<option value=\"1261\">Flixxo (FLIXX)</option>\\n<option value=\"348\">Flycoin (FLY)</option>\\n<option value=\"1098\">FlypMe (FYP)</option>\\n<option value=\"586\">Foldingcoin (FLDC)</option>\\n<option value=\"1277\">Footy Cash (XFT)</option>\\n<option value=\"47\">Franko (FRK)</option>\\n<option value=\"939\">Frazcoin (FRAZ)</option>\\n<option value=\"30\">Freicoin (FRC)</option>\\n<option value=\"108\">Freshcoin (FRSH)</option>\\n<option value=\"187\">FuelCoin (FC2)</option>\\n<option value=\"1135\">Fujicoin (FJC)</option>\\n<option value=\"909\">Fujinto (NTO)</option>\\n<option value=\"290\">Full Integrity Coin (FIC)</option>\\n<option value=\"761\">FunFair (FUN)</option>\\n<option value=\"1250\">FundYourselfNow (FYN)</option>\\n<option value=\"802\">FuturXe (FXE)</option>\\n<option value=\"182\">GAIA (GAIA)</option>\\n<option value=\"384\">GCoin (GCN)</option>\\n<option value=\"1191\">GOLD Reward Token (GRX)</option>\\n<option value=\"245\">GSMcoin (GSM)</option>\\n<option value=\"1089\">GXShares (GXS)</option>\\n<option value=\"584\">Gambit (GAM)</option>\\n<option value=\"445\">GameBet (GBT)</option>\\n<option value=\"193\">GameCredits (GAME)</option>\\n<option value=\"858\">Gas (GAS)</option>\\n<option value=\"771\">GeertCoin (GEERT)</option>\\n<option value=\"206\">Gems (GEMZ)</option>\\n<option value=\"1361\">Genaro Network (GNX)</option>\\n<option value=\"1173\">Genesis Vision (GVT)</option>\\n<option value=\"658\">Geocoin (GEO)</option>\\n<option value=\"816\">GeyserCoin (GSR)</option>\\n<option value=\"1359\">Gifto (GTO)</option>\\n<option value=\"907\">Giga Watt Token (WTT)</option>\\n<option value=\"1100\">Gimli (GIM)</option>\\n<option value=\"324\">Global Currency Reserve (GCR)</option>\\n<option value=\"799\">Global Tour Coin (GTC)</option>\\n<option value=\"73\">GlobalBoost-Y (BSTY)</option>\\n<option value=\"1150\">GlobalToken (GLT)</option>\\n<option value=\"188\">GlowShares (GSX)</option>\\n<option value=\"662\">Gnosis (GNO)</option>\\n<option value=\"1207\">GoByte (GBX)</option>\\n<option value=\"451\">GoldBlocks (GB)</option>\\n<option value=\"1146\">GoldPieces (GP)</option>\\n<option value=\"49\">Goldcoin (GLD)</option>\\n<option value=\"478\">Goldmaxcoin (GMX)</option>\\n<option value=\"542\">Golem (GNT)</option>\\n<option value=\"562\">Golos (GOLOS)</option>\\n<option value=\"1297\">Goodomy (GOOD)</option>\\n<option value=\"352\">GraniteCoin (GRN)</option>\\n<option value=\"544\">Grantcoin (GRT)</option>\\n<option value=\"1251\">Greencoin (GRE )</option>\\n<option value=\"1106\">Grid+ (GRID)</option>\\n<option value=\"243\">Gridcoin (GRC)</option>\\n<option value=\"1144\">Grimcoin (GRIM)</option>\\n<option value=\"71\">Groestlcoin (GRS)</option>\\n<option value=\"128\">Groupcoin (GPC)</option>\\n<option value=\"196\">Guarany (GUA)</option>\\n<option value=\"143\">Gulden (NLG)</option>\\n<option value=\"807\">GulfCoin (MGC)</option>\\n<option value=\"565\">HEAT (HEAT)</option>\\n<option value=\"969\">HODL Bucks (HDLB)</option>\\n<option value=\"434\">HOdlcoin (HODL)</option>\\n<option value=\"1085\">HShare (HSR)</option>\\n<option value=\"162\">HTMLcoin (HTML5)</option>\\n<option value=\"570\">Hacker Gold (HKG)</option>\\n<option value=\"1294\">Happycoin (HPC)</option>\\n<option value=\"829\">HarmonyCoin (HMC)</option>\\n<option value=\"1171\">Hawala.Today (HAT)</option>\\n<option value=\"45\">Heavycoin (HVC)</option>\\n<option value=\"1039\">Hedge (HDG)</option>\\n<option value=\"266\">HellasCoin (HLC)</option>\\n<option value=\"1005\">HelloGold (HGT)</option>\\n<option value=\"865\">Hempcoin (THC)</option>\\n<option value=\"572\">HiCoin (XHI)</option>\\n<option value=\"1110\">High Gain (HIGH)</option>\\n<option value=\"462\">Hitcoin (HTC)</option>\\n<option value=\"899\">Hive (HVN)</option>\\n<option value=\"59\">Hobonickels (HBN)</option>\\n<option value=\"1347\">HollyWoodCoin (HWC)</option>\\n<option value=\"772\">Honey (HONEY)</option>\\n<option value=\"139\">Horizon (HZ)</option>\\n<option value=\"994\">Hubii Network (HBT)</option>\\n<option value=\"647\">Humaniq (HMQ)</option>\\n<option value=\"126\">Huntercoin (HUC)</option>\\n<option value=\"701\">Hush (HUSH)</option>\\n<option value=\"142\">Hyper (HYPER)</option>\\n<option value=\"131\">HyperStake (HYP)</option>\\n<option value=\"106\">I/O Coin (IOC)</option>\\n<option value=\"533\">ICO OpenLedger (ICOO)</option>\\n<option value=\"1060\">ICON (ICX)</option>\\n<option value=\"1042\">ICOS (ICOS)</option>\\n<option value=\"1857\">INS Ecosystem (INS)</option>\\n<option value=\"465\">ION (ION)</option>\\n<option value=\"692\">IOTA (IOT)</option>\\n<option value=\"529\">Iconomi (ICN)</option>\\n<option value=\"1345\">Ignis [Futures] (IGNIS)</option>\\n<option value=\"854\">IncaKoin (NKA)</option>\\n<option value=\"567\">Incent (INCNT)</option>\\n<option value=\"963\">India Coin (INDIA)</option>\\n<option value=\"848\">Indorse (IND)</option>\\n<option value=\"14\">Infinitecoin (IFC)</option>\\n<option value=\"977\">Infinity Economics (XIN)</option>\\n<option value=\"1210\">Infinity Pay (IPY)</option>\\n<option value=\"311\">Influxcoin (INFX)</option>\\n<option value=\"1216\">Ink (INK)</option>\\n<option value=\"1131\">Innova (INN)</option>\\n<option value=\"655\">InsaneCoin (INSN)</option>\\n<option value=\"814\">InsureX (IXT)</option>\\n<option value=\"1064\">Intelligent Trading Tech (ITT)</option>\\n<option value=\"1184\">IntenseCoin (ITNS)</option>\\n<option value=\"743\">Internet of People (IOP)</option>\\n<option value=\"986\">Internxt (INXT)</option>\\n<option value=\"1163\">Interstellar Holdings (HOLD)</option>\\n<option value=\"960\">Interzone (ITZ)</option>\\n<option value=\"1153\">InvestFeed (IFT)</option>\\n<option value=\"1304\">IoT Chain (ITC)</option>\\n<option value=\"29\">Ixcoin (IXC)</option>\\n<option value=\"596\">Janus (JNS)</option>\\n<option value=\"1061\">JavaScript Token (JS)</option>\\n<option value=\"583\">Jinn (JINN)</option>\\n<option value=\"534\">Jobscoin (JOBS)</option>\\n<option value=\"650\">Joincoin (J)</option>\\n<option value=\"787\">Joulecoin (XJO)</option>\\n<option value=\"161\">Judgecoin (JUDGE)</option>\\n<option value=\"643\">Karbowanec (KRB)</option>\\n<option value=\"88\">Karma (KARMA)</option>\\n<option value=\"579\">Kashhcoin (KASHH)</option>\\n<option value=\"1404\">Kayicoin (KAYI)</option>\\n<option value=\"1280\">KekCoin (KEK)</option>\\n<option value=\"942\">KexCoin (KEXCOIN)</option>\\n<option value=\"981\">KickCoin (KICK)</option>\\n<option value=\"959\">Kin (KIN)</option>\\n<option value=\"965\">Kolion (KLN)</option>\\n<option value=\"611\">Komodo (KMD)</option>\\n<option value=\"668\">KoreCoin (KORE)</option>\\n<option value=\"905\">Kronecoin (KRONE)</option>\\n<option value=\"400\">Krypton (KR)</option>\\n<option value=\"1047\">KuCoin Shares (KCS)</option>\\n<option value=\"676\">Kurrent (KURT)</option>\\n<option value=\"671\">Kushcoin (KUSH)</option>\\n<option value=\"947\">Kyber Network (KNC)</option>\\n<option value=\"1051\">LAToken (LA)</option>\\n<option value=\"463\">LBRY Credits (LBC)</option>\\n<option value=\"424\">LEOcoin (LEO)</option>\\n<option value=\"1038\">LIFE (LIFE)</option>\\n<option value=\"911\">LLToken (LLT)</option>\\n<option value=\"198\">LTBcoin (LTBC)</option>\\n<option value=\"1068\">LUXCoin (LUX)</option>\\n<option value=\"954\">Lampix (PIX)</option>\\n<option value=\"619\">LePen (LEPEN)</option>\\n<option value=\"742\">Legends Room (LGD)</option>\\n<option value=\"68\">LibertyCoin (XLB)</option>\\n<option value=\"104\">Librexcoin (LXC)</option>\\n<option value=\"782\">Linda (LINDA)</option>\\n<option value=\"791\">Link Platform (LNK)</option>\\n<option value=\"1276\">Linx (LINX)</option>\\n<option value=\"385\">Lisk (LSK)</option>\\n<option value=\"841\">LiteBitcoin (LBTC)</option>\\n<option value=\"912\">LiteCoin Ultra (LTCU)</option>\\n<option value=\"257\">LiteDoge (LDOGE)</option>\\n<option value=\"2\">Litecoin (LTC)</option>\\n<option value=\"1046\">Litecoin Gold (LTG)</option>\\n<option value=\"140\">LitecoinDark (LTCD)</option>\\n<option value=\"564\">LoMoCoin (LMC)</option>\\n<option value=\"1357\">LockChain (LOC)</option>\\n<option value=\"913\">Loopring (LRC)</option>\\n<option value=\"656\">LuckChain (BASH)</option>\\n<option value=\"207\">Luckycoin (LKY)</option>\\n<option value=\"575\">Lunacoin (LUNA)</option>\\n<option value=\"735\">Lunyr (LUN)</option>\\n<option value=\"527\">Lykke (LKK)</option>\\n<option value=\"616\">MBitBooks (MBIT)</option>\\n<option value=\"747\">MCAP (MCAP)</option>\\n<option value=\"464\">MMNXT (MMNXT)</option>\\n<option value=\"973\">MSD (MSD)</option>\\n<option value=\"473\">MaYaCoin (MYC)</option>\\n<option value=\"679\">Machinecoin (MAC)</option>\\n<option value=\"980\">Macro (MCR)</option>\\n<option value=\"764\">Macron (MCRN)</option>\\n<option value=\"1025\">Maecenas (ART)</option>\\n<option value=\"176\">Magi (XMG)</option>\\n<option value=\"1313\">MagicCoin (MAGE)</option>\\n<option value=\"1225\">Magnet (MAG)</option>\\n<option value=\"897\">Magnetcoin (MAGN)</option>\\n<option value=\"80\">MaidSafeCoin (MAID)</option>\\n<option value=\"1364\">Maker (MKR)</option>\\n<option value=\"292\">MangoCoinz (MCZ)</option>\\n<option value=\"784\">MantraCoin (MNC)</option>\\n<option value=\"1295\">Mao Zedong (MAO)</option>\\n<option value=\"313\">MapCoin (MAPC)</option>\\n<option value=\"276\">Marinecoin (MTC)</option>\\n<option value=\"444\">MarteXcoin (MXT)</option>\\n<option value=\"159\">MaryJane (MARYJ)</option>\\n<option value=\"638\">Master Swiscoin (MSCN)</option>\\n<option value=\"246\">MasterTraderCoin (MTR)</option>\\n<option value=\"903\">Masternodecoin (MTNC)</option>\\n<option value=\"683\">Matchpool (GUP)</option>\\n<option value=\"24\">Maxcoin (MAX)</option>\\n<option value=\"25\">Mazacoin (MZC)</option>\\n<option value=\"1343\">MediShares (MDS)</option>\\n<option value=\"16\">Megacoin (MEC)</option>\\n<option value=\"605\">Melon (MLN)</option>\\n<option value=\"1139\">Memetic (MEME)</option>\\n<option value=\"1059\">Mercury Protocol (GMT)</option>\\n<option value=\"763\">Metal (MTL)</option>\\n<option value=\"317\">Metal Music Coin (MTLMC3)</option>\\n<option value=\"1086\">Metaverse ETP (ETP)</option>\\n<option value=\"1356\">MicroMoney (AMM)</option>\\n<option value=\"98\">Mincoin (MNC)</option>\\n<option value=\"82\">Mineralscoin (MIN)</option>\\n<option value=\"702\">Minereum (MNE)</option>\\n<option value=\"1111\">MinexCoin (MNX)</option>\\n<option value=\"21\">Mintcoin (MINT)</option>\\n<option value=\"768\">MobileGo (MGO)</option>\\n<option value=\"1040\">Modum (MOD)</option>\\n<option value=\"895\">Moeda Loyalty Points (MDA)</option>\\n<option value=\"340\">Moin (MOIN)</option>\\n<option value=\"475\">Mojocoin (MOJO)</option>\\n<option value=\"99\">MonaCoin (MONA)</option>\\n<option value=\"739\">Monaco (MCO)</option>\\n<option value=\"924\">MonacoCoin (XMCC)</option>\\n<option value=\"69\">Monero (XMR)</option>\\n<option value=\"690\">Moneta (MONETA)</option>\\n<option value=\"170\">MonetaryUnit (MUE)</option>\\n<option value=\"902\">Monetha (MTH)</option>\\n<option value=\"1260\">Monkey Project (MONK)</option>\\n<option value=\"75\">Monocle (MON)</option>\\n<option value=\"1279\">Monster Byte (MBI)</option>\\n<option value=\"294\">Mooncoin (MOON)</option>\\n<option value=\"871\">MorningStar (MRNG)</option>\\n<option value=\"815\">Mothership (MSP)</option>\\n<option value=\"343\">Muse (MUSE)</option>\\n<option value=\"622\">Musicoin (MUSIC)</option>\\n<option value=\"1350\">Musiconomi (MCI)</option>\\n<option value=\"1240\">MyBit Token (MYB)</option>\\n<option value=\"1267\">MyWish (WISH)</option>\\n<option value=\"66\">Myriadcoin (XMY)</option>\\n<option value=\"757\">Mysterium (MYST)</option>\\n<option value=\"1439\">NAGA (NGC)</option>\\n<option value=\"233\">NAV Coin (NAV)</option>\\n<option value=\"242\">NEM (XEM)</option>\\n<option value=\"480\">NEO (NEO)</option>\\n<option value=\"1164\">NEO GOLD (NEOG)</option>\\n<option value=\"845\">NVO (NVST)</option>\\n<option value=\"6\">NXT (NXT)</option>\\n<option value=\"239\">NXTventure (NXTV)</option>\\n<option value=\"8\">Namecoin (NMC)</option>\\n<option value=\"926\">NamoCoin (NAMO)</option>\\n<option value=\"1078\">Natcoin (NTC)</option>\\n<option value=\"62\">Nautiluscoin (NAUT)</option>\\n<option value=\"894\">Neblio (NEBL)</option>\\n<option value=\"147\">Neoscoin (NEOS)</option>\\n<option value=\"482\">Neptunecoin (NTC)</option>\\n<option value=\"36\">Netcoin (NET)</option>\\n<option value=\"1298\">Netko (NETKO)</option>\\n<option value=\"1070\">Network Token (NTWK)</option>\\n<option value=\"288\">NeuCoin (NEU)</option>\\n<option value=\"886\">NeuroDAO (NDAO)</option>\\n<option value=\"1203\">Neutron (NTRN)</option>\\n<option value=\"693\">NewYorkCoin (NYC)</option>\\n<option value=\"563\">Nexium (NXC)</option>\\n<option value=\"576\">Nexus (NXS)</option>\\n<option value=\"874\">Nexus Social (SCL)</option>\\n<option value=\"864\">Nimiq (NET)</option>\\n<option value=\"758\">NoLimitCoin (NLC2)</option>\\n<option value=\"204\">NobleCoin (NOBL)</option>\\n<option value=\"183\">Node (NODE)</option>\\n<option value=\"15\">Novacoin (NVC)</option>\\n<option value=\"167\">NuBits (USNBT)</option>\\n<option value=\"171\">NuShares (NSR)</option>\\n<option value=\"1053\">Nuls (NULS)</option>\\n<option value=\"752\">Numeraire (NMR)</option>\\n<option value=\"365\">NxttyACCI (ACCI)</option>\\n<option value=\"168\">Nxttycoin (NXTTY)</option>\\n<option value=\"281\">Nyancoin (NYAN)</option>\\n<option value=\"326\">OBITS (OBITS)</option>\\n<option value=\"274\">OKCash (OK)</option>\\n<option value=\"930\">OX Fina (OX)</option>\\n<option value=\"970\">Obsidian (ODN)</option>\\n<option value=\"887\">Oceanlab (OCL)</option>\\n<option value=\"448\">Octocoin (888)</option>\\n<option value=\"776\">OmiseGo (OMG)</option>\\n<option value=\"7\">Omni (Mastercoin) (OMNI)</option>\\n<option value=\"1136\">Onix (ONX)</option>\\n<option value=\"137\">Opal (OPAL)</option>\\n<option value=\"1048\">Open Trading Network (OTN)</option>\\n<option value=\"853\">OpenANX (OAX)</option>\\n<option value=\"785\">Operacoin (OCN)</option>\\n<option value=\"916\">Opus (OPT)</option>\\n<option value=\"826\">OracleChain (OCT)</option>\\n<option value=\"261\">Orbitcoin (ORB)</option>\\n<option value=\"964\">Ormeus Coin (ORME)</option>\\n<option value=\"1160\">Oxycoin (OXY)</option>\\n<option value=\"1209\">Oyster Pearl (PRL)</option>\\n<option value=\"548\">PIVX (PIVX)</option>\\n<option value=\"1255\">POLY AI (AI)</option>\\n<option value=\"606\">PRCoin (PRC)</option>\\n<option value=\"808\">Paccoin (PAC)</option>\\n<option value=\"607\">Pakcoin (PAK)</option>\\n<option value=\"138\">Pandacoin (PND)</option>\\n<option value=\"287\">Pangea Poker (PANGEA)</option>\\n<option value=\"1055\">Paragon (PRG)</option>\\n<option value=\"610\">ParkByte (PKB)</option>\\n<option value=\"839\">Particl (PART)</option>\\n<option value=\"547\">Pascalcoin (PASC)</option>\\n<option value=\"746\">Patientory (PTOY)</option>\\n<option value=\"999\">PayPie (PPP)</option>\\n<option value=\"195\">Paycoin (XPY)</option>\\n<option value=\"1290\">Payfair (PFR)</option>\\n<option value=\"1189\">Paypex (PAYX)</option>\\n<option value=\"786\">Peepcoin (PCN)</option>\\n<option value=\"4\">Peercoin (PPC)</option>\\n<option value=\"541\">Peerplays (PPY)</option>\\n<option value=\"812\">PeopleCoin (MEN)</option>\\n<option value=\"568\">PepeCash (PEPECASH)</option>\\n<option value=\"694\">Pesetacoin (PTC)</option>\\n<option value=\"537\">Pesobit (PSB)</option>\\n<option value=\"1296\">PetroDollar (XPD)</option>\\n<option value=\"1212\">Phantomx (PNX)</option>\\n<option value=\"160\">PhilosopherStone (PHS)</option>\\n<option value=\"177\">Phoenixcoin (PXC)</option>\\n<option value=\"1129\">Phore (PHR)</option>\\n<option value=\"190\">Piggycoin (PIGGY)</option>\\n<option value=\"809\">Pillar (PLR)</option>\\n<option value=\"631\">PinkDog (PDG)</option>\\n<option value=\"102\">Pinkcoin (PC)</option>\\n<option value=\"528\">Pipcoin (PIP)</option>\\n<option value=\"1017\">PiplCoin (PIPL)</option>\\n<option value=\"1066\">Pirl (PIRL)</option>\\n<option value=\"1077\">PlayerCoin (PLACO)</option>\\n<option value=\"1259\">PlexCoin (PLX)</option>\\n<option value=\"1185\">PlusCoin (PLC)</option>\\n<option value=\"1241\">Pluton (PLU)</option>\\n<option value=\"910\">Po.et (POE)</option>\\n<option value=\"1001\">PoSToken (POS)</option>\\n<option value=\"578\">PoSW Coin (POSW)</option>\\n<option value=\"766\">Polybius (PLBT)</option>\\n<option value=\"753\">Populous (PPT)</option>\\n<option value=\"51\">Potcoin (POT)</option>\\n<option value=\"1104\">Power Ledger (POWR)</option>\\n<option value=\"1299\">Presearch (PRE)</option>\\n<option value=\"823\">Primalbase (PBT)</option>\\n<option value=\"917\">Primas (PST)</option>\\n<option value=\"13\">Primecoin (XPM)</option>\\n<option value=\"833\">Primulon (PRIMU)</option>\\n<option value=\"1183\">Privatix (PRIX)</option>\\n<option value=\"674\">Prizm (PZM)</option>\\n<option value=\"767\">ProCurrency (PROC)</option>\\n<option value=\"637\">Project Decorum (PDC)</option>\\n<option value=\"869\">Propy (PRO)</option>\\n<option value=\"987\">Prospectors Gold (PGL)</option>\\n<option value=\"931\">Protean (PRN)</option>\\n<option value=\"1224\">Publica (PBL)</option>\\n<option value=\"1088\">Pura (PURA)</option>\\n<option value=\"573\">PureVidz (VIDZ)</option>\\n<option value=\"774\">Putin Classic (PUTIC)</option>\\n<option value=\"773\">PutinCoin (PUT)</option>\\n<option value=\"1220\">QASH (QASH)</option>\\n<option value=\"1288\">Qbao (QBT)</option>\\n<option value=\"107\">Qibuck (QBK)</option>\\n<option value=\"157\">Qora (QORA)</option>\\n<option value=\"684\">Qtum (QTUM)</option>\\n<option value=\"1219\">Quantstamp (QSP)</option>\\n<option value=\"1238\">Quantum (QAU)</option>\\n<option value=\"700\">Quantum Resistant Ledger (QRL)</option>\\n<option value=\"10\">Quark (QRK)</option>\\n<option value=\"262\">Quatloo (QTL)</option>\\n<option value=\"268\">QuazarCoin (QCN)</option>\\n<option value=\"1096\">Qvolta (QVT)</option>\\n<option value=\"654\">Qwark (QWARK)</option>\\n<option value=\"985\">RChain (RHOC)</option>\\n<option value=\"993\">REAL (REAL)</option>\\n<option value=\"885\">REX (REX)</option>\\n<option value=\"813\">RHFCoin (RHFC)</option>\\n<option value=\"843\">RSGPcoin (RSGP)</option>\\n<option value=\"338\">Radium (RADS)</option>\\n<option value=\"756\">RaiBlocks (XRB)</option>\\n<option value=\"1132\">Raiden Network Token (RDN)</option>\\n<option value=\"1127\">Rasputin Online Coin (ROC)</option>\\n<option value=\"284\">Ratecoin (XRA)</option>\\n<option value=\"85\">Razor (RZR)</option>\\n<option value=\"1074\">Red Pulse (RPX)</option>\\n<option value=\"40\">Reddcoin (RDD)</option>\\n<option value=\"972\">Regalcoin (REC)</option>\\n<option value=\"666\">Renos (RNS)</option>\\n<option value=\"1031\">Request Network (REQ)</option>\\n<option value=\"1107\">Revain (R)</option>\\n<option value=\"536\">Revolvercoin (XRE)</option>\\n<option value=\"783\">Rialto (XRL)</option>\\n<option value=\"593\">Riecoin (RIC)</option>\\n<option value=\"216\">Rimbit (RBT)</option>\\n<option value=\"1057\">Ripio Credit Network (RCN)</option>\\n<option value=\"44\">Ripple (XRP)</option>\\n<option value=\"452\">Rise (RISE)</option>\\n<option value=\"957\">Rivetz (RVT)</option>\\n<option value=\"1079\">Roofs (ROOFS)</option>\\n<option value=\"1243\">RouletteToken (RLT)</option>\\n<option value=\"617\">Round (ROUND)</option>\\n<option value=\"1014\">Royal Kingdom Coin (RKC)</option>\\n<option value=\"828\">Royalties (XRY)</option>\\n<option value=\"144\">Rubycoin (RBY)</option>\\n<option value=\"1037\">Runners (RUNNERS)</option>\\n<option value=\"801\">Rupee (RUP)</option>\\n<option value=\"962\">SALT (SALT)</option>\\n<option value=\"566\">SARCoin (SAR)</option>\\n<option value=\"1116\">SHIELD (XSH)</option>\\n<option value=\"417\">SIBCoin (SIB)</option>\\n<option value=\"925\">SIGMAcoin (SIGMA)</option>\\n<option value=\"1187\">SISA (SISA)</option>\\n<option value=\"350\">SOILcoin (SOIL)</option>\\n<option value=\"861\">SONM (SNM)</option>\\n<option value=\"419\">Safe Exchange Coin (SAFEX)</option>\\n<option value=\"750\">Sakuracoin (SKR)</option>\\n<option value=\"359\">SaluS (SLS)</option>\\n<option value=\"991\">Sandcoin (SND)</option>\\n<option value=\"797\">Santiment Network Token (SAN)</option>\\n<option value=\"323\">Sativacoin (STV)</option>\\n<option value=\"342\">Scotcoin (SCOT)</option>\\n<option value=\"349\">Secretcoin (SCRT)</option>\\n<option value=\"1032\">SegWit2x [Futures] (B2X)</option>\\n<option value=\"1002\">Senderon (SDRN)</option>\\n<option value=\"608\">Sequence (SEQ)</option>\\n<option value=\"164\">Sexcoin (SXC)</option>\\n<option value=\"129\">ShadowCash (SDC)</option>\\n<option value=\"1169\">Sharechain (SSS)</option>\\n<option value=\"173\">Shibecoin (SHIBE)</option>\\n<option value=\"426\">Shift (SHIFT)</option>\\n<option value=\"535\">Shilling (SH)</option>\\n<option value=\"289\">Siacoin (SC)</option>\\n<option value=\"810\">Signatum (SIGT)</option>\\n<option value=\"1367\">Simple Token (OST)</option>\\n<option value=\"521\">SingularDTV (SNGLS)</option>\\n<option value=\"830\">SkinCoin (SKIN)</option>\\n<option value=\"687\">Skycoin (SKY)</option>\\n<option value=\"1159\">Slevin (SLEVIN)</option>\\n<option value=\"968\">Smart Investment Fund Token (SIFT)</option>\\n<option value=\"1223\">SmartBillions (SMART)</option>\\n<option value=\"832\">SmartCash (SMART)</option>\\n<option value=\"1346\">SmartMesh (SMT)</option>\\n<option value=\"670\">Smartcoin (SMC)</option>\\n<option value=\"685\">Smileycoin (SMLY)</option>\\n<option value=\"1330\">Snovio (SNOV)</option>\\n<option value=\"751\">Soarcoin (SOAR)</option>\\n<option value=\"134\">SocialxBot (XBOT)</option>\\n<option value=\"630\">SolarFlareCoin (SFC)</option>\\n<option value=\"152\">Solarcoin (SLR)</option>\\n<option value=\"1293\">Solaris (XLR)</option>\\n<option value=\"179\">SonicScrewdriver (SSD)</option>\\n<option value=\"1443\">SophiaTX (SPHTX)</option>\\n<option value=\"796\">Sovereign Hero (HERO)</option>\\n<option value=\"1158\">Spacecoin (SPACE)</option>\\n<option value=\"546\">Spectrecoin (XSPEC)</option>\\n<option value=\"1199\">Sphere (SPHR)</option>\\n<option value=\"805\">Sphre AIR (XID)</option>\\n<option value=\"1340\">SportyFi (SPF)</option>\\n<option value=\"201\">SpreadCoin (SPR)</option>\\n<option value=\"435\">Sprouts (SPRTS)</option>\\n<option value=\"1128\">StarCash Network (STARS)</option>\\n<option value=\"906\">StarCredits (STRC)</option>\\n<option value=\"792\">Starta (STA)</option>\\n<option value=\"127\">Startcoin (START)</option>\\n<option value=\"779\">Status (SNT)</option>\\n<option value=\"189\">Stealthcoin (XST)</option>\\n<option value=\"398\">Steem (STEEM)</option>\\n<option value=\"652\">Steem Dollars (SBD)</option>\\n<option value=\"100\">Stellar (XLM)</option>\\n<option value=\"308\">Steps (STEPS)</option>\\n<option value=\"209\">Sterlingcoin (SLG)</option>\\n<option value=\"949\">Storj (STORJ)</option>\\n<option value=\"1369\">Storm (STORM)</option>\\n<option value=\"1230\">Stox (STX)</option>\\n<option value=\"531\">Stratis (STRAT)</option>\\n<option value=\"1115\">Streamr DATAcoin (DATA)</option>\\n<option value=\"416\">Stress (STS)</option>\\n<option value=\"859\">StrongHands (SHND)</option>\\n<option value=\"950\">Substratum (SUB)</option>\\n<option value=\"1195\">Sugar Exchange (SGR)</option>\\n<option value=\"1137\">Sumokoin (SUMO)</option>\\n<option value=\"1166\">SunContract (SNC)</option>\\n<option value=\"1352\">Super Bitcoin [Futures] (SBTC)</option>\\n<option value=\"200\">SuperCoin (SUPER)</option>\\n<option value=\"169\">SuperNET (UNITY)</option>\\n<option value=\"914\">Suretly (SUR)</option>\\n<option value=\"649\">SwagBucks (BUCKS)</option>\\n<option value=\"2214\">SwapToken (TOKEN)</option>\\n<option value=\"1029\">Swapcoin (SWP)</option>\\n<option value=\"621\">Swarm City (SWT)</option>\\n<option value=\"316\">Swing (SWING)</option>\\n<option value=\"130\">Sync (SYNC)</option>\\n<option value=\"698\">Syndicate (SYNX)</option>\\n<option value=\"320\">Synereo (AMP)</option>\\n<option value=\"600\">Synergy (SNRG)</option>\\n<option value=\"119\">Syscoin (SYS)</option>\\n<option value=\"1142\">TIES Network (TIE)</option>\\n<option value=\"1229\">TaaS (TAAS)</option>\\n<option value=\"94\">Tacocoin (TCO)</option>\\n<option value=\"665\">Tagcoin (TAG)</option>\\n<option value=\"597\">Tao (XTO)</option>\\n<option value=\"961\">Target Coin (TGT)</option>\\n<option value=\"641\">Tattoocoin (Limited Edition) (TLE)</option>\\n<option value=\"640\">Tattoocoin (Standard Edition) (TSE)</option>\\n<option value=\"146\">Techcoin (TECH)</option>\\n<option value=\"775\">TenX (PAY)</option>\\n<option value=\"795\">TerraNova (TER)</option>\\n<option value=\"31\">Terracoin (TRC)</option>\\n<option value=\"285\">Teslacoin (TES)</option>\\n<option value=\"325\">Tether (USDT)</option>\\n<option value=\"976\">Tezos (XTZ)</option>\\n<option value=\"1197\">The ChampCoin (TCC)</option>\\n<option value=\"866\">The Cypherfunks (FUNK)</option>\\n<option value=\"614\">TheGCCcoin (GCC)</option>\\n<option value=\"755\">Theresa May Coin (MAY)</option>\\n<option value=\"923\">Tierion (TNT)</option>\\n<option value=\"211\">TileCoin (XTC)</option>\\n<option value=\"184\">Titcoin (TIT)</option>\\n<option value=\"232\">TittieCoin (TTC)</option>\\n<option value=\"824\">ToaCoin (TOA)</option>\\n<option value=\"675\">TokenCard (TKN)</option>\\n<option value=\"642\">Torcoin (TOR)</option>\\n<option value=\"1024\">Tracto (TRCT)</option>\\n<option value=\"798\">TradecoinV2 (TRADE2)</option>\\n<option value=\"280\">Transfercoin (TX)</option>\\n<option value=\"967\">TrezarCoin (TZC)</option>\\n<option value=\"769\">Triangles (TRI)</option>\\n<option value=\"1354\">Trident Group (TRDT)</option>\\n<option value=\"592\">Triggers (TRIG)</option>\\n<option value=\"248\">Trollcoin (TROLL)</option>\\n<option value=\"1094\">Tron (TRX)</option>\\n<option value=\"623\">Truckcoin (TRK)</option>\\n<option value=\"940\">TrueFlip (TFL)</option>\\n<option value=\"460\">Trumpcoin (TRUMP)</option>\\n<option value=\"293\">TrustPlus (TRUST)</option>\\n<option value=\"741\">Tyrocoin (TYC)</option>\\n<option value=\"1269\">UAHPay (UAH)</option>\\n<option value=\"178\">UFO Coin (UFO)</option>\\n<option value=\"915\">UG Token (UGT)</option>\\n<option value=\"58\">USDe (USDE)</option>\\n<option value=\"1824\">UTRUST (UTK)</option>\\n<option value=\"181\">Ubiq (UBQ)</option>\\n<option value=\"265\">Ucoin (U)</option>\\n<option value=\"920\">Ulatech (ULA)</option>\\n<option value=\"26\">Ultracoin (UTC)</option>\\n<option value=\"212\">Unbreakablecoin (UNB)</option>\\n<option value=\"1120\">Unikoin Gold (UKG)</option>\\n<option value=\"467\">Unioncoin (UNC)</option>\\n<option value=\"1362\">United Bitcoin (UBTC)</option>\\n<option value=\"438\">Unitus (UIS)</option>\\n<option value=\"1272\">Universal Currency (UNIT)</option>\\n<option value=\"1366\">UniversalRoyalCoin (UNRC)</option>\\n<option value=\"38\">Unobtanium (UNO)</option>\\n<option value=\"1170\">Upfiring (UFR)</option>\\n<option value=\"1341\">Uquid Coin (UQC)</option>\\n<option value=\"186\">Uro (URO)</option>\\n<option value=\"777\">Useless Ethereum Token (UET)</option>\\n<option value=\"618\">UtaCoin (UTA)</option>\\n<option value=\"252\">UtilityCoin (UTIL)</option>\\n<option value=\"948\">VIBE (VIBE)</option>\\n<option value=\"893\">VIVO (VIVO)</option>\\n<option value=\"749\">VOISE (VSM)</option>\\n<option value=\"269\">VPNCoin (VPN)</option>\\n<option value=\"256\">Vcash (XVC)</option>\\n<option value=\"1167\">VeChain (VEN)</option>\\n<option value=\"599\">Veltor (VLT)</option>\\n<option value=\"203\">Verge (XVG)</option>\\n<option value=\"78\">VeriCoin (VRC)</option>\\n<option value=\"1349\">Verify (CRED)</option>\\n<option value=\"695\">Veritaseum (VERI)</option>\\n<option value=\"571\">VeriumReserve (VRM)</option>\\n<option value=\"539\">Veros (VRS)</option>\\n<option value=\"18\">Vertcoin (VTC)</option>\\n<option value=\"112\">Viacoin (VIA)</option>\\n<option value=\"983\">Viberate (VIB)</option>\\n<option value=\"101\">Virtacoinplus (XVP)</option>\\n<option value=\"632\">VirtualCoin (VC)</option>\\n<option value=\"657\">Visio (VISIO)</option>\\n<option value=\"1205\">Viuly (VIU)</option>\\n<option value=\"598\">Vootcoin (VOOT)</option>\\n<option value=\"1253\">VoteCoin (VOT)</option>\\n<option value=\"386\">Voxels (VOX)</option>\\n<option value=\"898\">Vsync (VSX)</option>\\n<option value=\"1084\">Vulcano (VULC)</option>\\n<option value=\"1208\">WINCOIN (WC)</option>\\n<option value=\"437\">WMCoin (WMC)</option>\\n<option value=\"1338\">WaBi (WABI)</option>\\n<option value=\"759\">Wagerr (WGR)</option>\\n<option value=\"889\">Wallet Builders Coin (WBC)</option>\\n<option value=\"1093\">Walton (WTC)</option>\\n<option value=\"163\">Wankcoin (WKC)</option>\\n<option value=\"425\">Waves (WAVES)</option>\\n<option value=\"645\">WeTrust (TRST)</option>\\n<option value=\"523\">WexCoin (WEX)</option>\\n<option value=\"988\">WhaleCoin (WHL)</option>\\n<option value=\"60\">Whitecoin (XWC)</option>\\n<option value=\"944\">Wi Coin (WIC)</option>\\n<option value=\"590\">Wild Beast Block (WBB)</option>\\n<option value=\"992\">Wild Crypto (WILD)</option>\\n<option value=\"648\">Wings (WINGS)</option>\\n<option value=\"346\">Woodcoin (LOG)</option>\\n<option value=\"17\">Worldcoin (WDC)</option>\\n<option value=\"1358\">Worldcore (WRC)</option>\\n<option value=\"247\">X-Coin (XCO)</option>\\n<option value=\"1201\">XGOX (XGOX)</option>\\n<option value=\"745\">XP (XP)</option>\\n<option value=\"875\">XPlay (XPA)</option>\\n<option value=\"938\">XTD Coin (XTD)</option>\\n<option value=\"461\">Xaurum (XAUR)</option>\\n<option value=\"577\">Xenixcoin (XEN)</option>\\n<option value=\"1067\">Xenon (XNN)</option>\\n<option value=\"314\">Xiaomicoin (MI)</option>\\n<option value=\"1058\">Xios (XIOS)</option>\\n<option value=\"644\">XtraBYtes (XBY)</option>\\n<option value=\"1360\">YENTEN (YTN)</option>\\n<option value=\"1270\">YOYOW (YOYOW)</option>\\n<option value=\"620\">YashCoin (YASH)</option>\\n<option value=\"20\">Ybcoin (YBC)</option>\\n<option value=\"1125\">Yellow Token (YEL)</option>\\n<option value=\"634\">YoGold (YOG)</option>\\n<option value=\"341\">Yocoin (YOC)</option>\\n<option value=\"1145\">ZCash Gold (ZCG)</option>\\n<option value=\"479\">ZCoin (XZC)</option>\\n<option value=\"595\">ZcCoin (ZCC)</option>\\n<option value=\"486\">Zcash (ZEC)</option>\\n<option value=\"540\">Zclassic (ZCL)</option>\\n<option value=\"65\">Zeitcoin (ZEIT)</option>\\n<option value=\"691\">ZenCash (ZEN)</option>\\n<option value=\"1252\">Zennies (ZENI)</option>\\n<option value=\"1134\">Zephyr (ZEPH)</option>\\n<option value=\"1292\">Zero (ZER)</option>\\n<option value=\"27\">Zetacoin (ZET)</option>\\n<option value=\"1009\">Zeusshield (ZSC)</option>\\n<option value=\"1221\">ZoZoCoin (ZZC)</option>\\n<option value=\"477\">Zonecoin (ZNE)</option>\\n<option value=\"699\">ZrCoin (ZRC)</option>\\n<option value=\"1149\">Zurcoin (ZUR)</option>\\n<option value=\"778\">adToken (ADT)</option>\\n<option value=\"1320\">bitBTC (BITBTC)</option>\\n<option value=\"673\">bitCNY (BITCNY)</option>\\n<option value=\"1172\">bitJob (STU)</option>\\n<option value=\"927\">bitqy (BQ)</option>\\n<option value=\"849\">district0x (DNT)</option>\\n<option value=\"1113\">eBIT (EBIT)</option>\\n<option value=\"978\">eBitcoin (EBTC)</option>\\n<option value=\"1190\">eBitcoin Cash (EBCH)</option>\\n<option value=\"1151\">eBoost (EBST)</option>\\n<option value=\"1105\">eGold (EGOLD)</option>\\n<option value=\"998\">eLTC (ELTC2)</option>\\n<option value=\"1069\">eREAL (EREAL)</option>\\n<option value=\"1035\">eUSD (EUSD)</option>\\n<option value=\"1103\">iBTC (IBTC)</option>\\n<option value=\"1065\">iEthereum (IETH)</option>\\n<option value=\"646\">iExec RLC (RLC)</option>\\n<option value=\"872\">iQuant (IQT)</option>\\n<option value=\"286\">jl777hodl (JLH)</option>\\n<option value=\"543\">vSlice (VSL)</option>\\n<option value=\"585\">vTorrent (VTR)</option>\\n<option value=\"253\">xCash (XCASH)</option>\\n<option value=\"780\">биткоин Cash (BCH)</option>\\n<option value=\"1\">биткоина (BTC)</option>\\n<option value=\"279\">эфириум (ETH)</option>\\n<option value=\"1\">بيتكوين (BTC)</option>\\n<option value=\"1\">บิตคอยน์ (BTC)</option>\\n<option value=\"279\">イーサリアム (ETH)</option>\\n<option value=\"975\">カルダノ エイダコイン (ADA)</option>\\n<option value=\"486\">ジーキャッシュ (ZEC)</option>\\n<option value=\"19\">ダークコイン (DASH)</option>\\n<option value=\"5\">ドージコイン (DOGE)</option>\\n<option value=\"1\">ビットコイン (BTC)</option>\\n<option value=\"1\">ビットコイン (BTC)</option>\\n<option value=\"780\">ビットコインキャッシュ (BCH)</option>\\n<option value=\"12\">フェザーコイン (FTC)</option>\\n<option value=\"99\">モナーコイン (MONA)</option>\\n<option value=\"2\">ライトコイン (LTC)</option>\\n<option value=\"44\">リップル (XRP)</option>\\n<option value=\"18\">ヴァートコイン (VTC)</option>\\n<option value=\"279\">以太坊 (ETH)</option>\\n<option value=\"279\">以太幣 (ETH)</option>\\n<option value=\"9\">合約幣 (XCP)</option>\\n<option value=\"9\">合约币 (XCP)</option>\\n<option value=\"8\">域名币 (NMC)</option>\\n<option value=\"8\">域名幣 (NMC)</option>\\n<option value=\"66\">多彩币 (XMY)</option>\\n<option value=\"66\">多彩幣 (XMY)</option>\\n<option value=\"10\">夸克币 (QRK)</option>\\n<option value=\"10\">夸克幣 (QRK)</option>\\n<option value=\"100\">恆星幣 (XLM)</option>\\n<option value=\"100\">恒星币 (XLM)</option>\\n<option value=\"14\">无限币 (IFC)</option>\\n<option value=\"6\">未來幣 (NXT)</option>\\n<option value=\"6\">未来币 (NXT)</option>\\n<option value=\"1\">比特币 (BTC)</option>\\n<option value=\"1\">比特幣 (BTC)</option>\\n<option value=\"95\">比特股 (BTS)</option>\\n<option value=\"95\">比特股 (BTS)</option>\\n<option value=\"4\">点点币 (PPC)</option>\\n<option value=\"14\">無限幣 (IFC)</option>\\n<option value=\"5\">狗币 (DOGE)</option>\\n<option value=\"5\">狗狗币 (DOGE)</option>\\n<option value=\"5\">狗狗幣 (DOGE)</option>\\n<option value=\"44\">瑞波币 (XRP)</option>\\n<option value=\"44\">瑞波幣 (XRP)</option>\\n<option value=\"40\">瑞迪币 (RDD)</option>\\n<option value=\"40\">瑞迪幣 (RDD)</option>\\n<option value=\"18\">綠幣 (VTC)</option>\\n<option value=\"78\">維理幣 (VRC)</option>\\n<option value=\"78\">维理币 (VRC)</option>\\n<option value=\"18\">绿币 (VTC)</option>\\n<option value=\"16\">美卡币 (MEC)</option>\\n<option value=\"16\">美卡幣 (MEC)</option>\\n<option value=\"12\">羽毛币 (FTC)</option>\\n<option value=\"12\">羽毛幣 (FTC)</option>\\n<option value=\"2\">莱特币 (LTC)</option>\\n<option value=\"2\">萊特幣 (LTC)</option>\\n<option value=\"13\">質數幣 (XPM)</option>\\n<option value=\"13\">质数币 (XPM)</option>\\n<option value=\"19\">达世币 (DASH)</option>\\n<option value=\"19\">達世幣 (DASH)</option>\\n<option value=\"69\">門羅幣 (XMR)</option>\\n<option value=\"69\">门罗币 (XMR)</option>\\n<option value=\"50\">黑币 (BLK)</option>\\n<option value=\"50\">黑幣 (BLK)</option>\\n<option value=\"4\">點點幣 (PPC)</option>\\n<option value=\"44\">리플코인 (XRP)</option>\\n<option value=\"1\">비트코인 (BTC)</option>\\n<option value=\"279\">이더리움 (ETH)</option></select>\\n</div>\\n<form id=\"coins-search-form\" data-search-placeholder=\"Search Coins\" action=\"/coins/search?locale=zh-tw\" accept-charset=\"UTF-8\" method=\"get\"><input name=\"utf8\" type=\"hidden\" value=\"&#x2713;\" />\\n<input type=\"hidden\" name=\"query\" id=\"query\" value=\"\" class=\"input-sm form-control\" />\\n</form>\\n</div>\\n</div>\\n</div>\\n</div>\\n<div class=\"filter-menu desktop\">\\n<div class=\"container\">\\n<div class=\"row\">\\n<div class=\"col-md-5\">\\n<div class=\\'breadcrumb\\'>\\n<a href=\"/zh-tw\">圖表</a> &raquo; 比特幣的匯率\\n</div>\\n</div>\\n<div class=\"col-md-7\">\\n<div class=\"signup-column\">\\n</div>\\n</div>\\n</div>\\n</div>\\n</div>\\n<div class=\"filter-menu mobile\">\\n<div class=\"container\">\\n<div class=\"row\">\\n<div class=\"col-md-12\">\\n<div class=\"signup-column\">\\n</div>\\n</div>\\n<div class=\"col-md-12\">\\n<div class=\\'breadcrumb\\'>\\n<a href=\"/zh-tw\">圖表</a> &raquo; 比特幣的匯率\\n</div>\\n</div>\\n</div>\\n</div>\\n</div>\\n\\n</div>\\n\\n<div class=\"container\">\\n<div class=\\'unobtrusive-flash-container\\'></div>\\n<div class=\\'row justify-content-center mt-3\\'>\\n<div class=\\'mb-2 text-center\\'>\\n<div style=\\'height: 90px;\\'>\\n\\n<div id=\"bsa-zone_1509402283990-0_123456\"></div>\\n</div>\\n</div>\\n</div>\\n<div class=\"coingecko row\">\\n<div class=\"col-md-12\">\\n\\n<div class=\"coin-details row\">\\n<div class=\"col-md-7 coin-left-content\">\\n<div class=\"coin\">\\n<img alt=\"比特幣 logo (small)\" src=\"//assets.coingecko.com/coins/images/1/small/bitcoin.png?1510040391\" />\\n</div>\\n<div class=\"coin-header\">\\n<div class=\"row justify-content-center coin-image mobile text-center\">\\n<img alt=\"比特幣 logo (small)\" src=\"//assets.coingecko.com/coins/images/1/small/bitcoin.png?1510040391\" />\\n</div>\\n<div class=\"coin-name-filter\">\\n<div class=\"currency\">\\n比特幣/Bitcoin (BTC)\\n</div>\\n<div class=\"dropdown\">\\n<button type=\"button\" class=\"btn btn-primary coingecko dropdown-toggle\" data-toggle=\"dropdown\" aria-haspopup=\"true\" aria-expanded=\"false\">\\nBTC/USD <span class=\"caret\"></span>\\n</button>\\n<div class=\"dropdown-menu\">\\n<a class=\"dropdown-item \" href=\"/zh-tw/%E5%8C%AF%E7%8E%87%E5%9C%96/%E6%AF%94%E7%89%B9%E5%B9%A3/btc\">BTC/BTC</a>\\n<a class=\"dropdown-item \" href=\"/zh-tw/%E5%8C%AF%E7%8E%87%E5%9C%96/%E6%AF%94%E7%89%B9%E5%B9%A3/eth\">BTC/ETH</a>\\n<a class=\"dropdown-item disabled\" href=\"/zh-tw/%E5%8C%AF%E7%8E%87%E5%9C%96/%E6%AF%94%E7%89%B9%E5%B9%A3/usd\">BTC/USD</a>\\n<a class=\"dropdown-item \" href=\"/zh-tw/%E5%8C%AF%E7%8E%87%E5%9C%96/%E6%AF%94%E7%89%B9%E5%B9%A3/cad\">BTC/CAD</a>\\n<a class=\"dropdown-item \" href=\"/zh-tw/%E5%8C%AF%E7%8E%87%E5%9C%96/%E6%AF%94%E7%89%B9%E5%B9%A3/gbp\">BTC/GBP</a>\\n<a class=\"dropdown-item \" href=\"/zh-tw/%E5%8C%AF%E7%8E%87%E5%9C%96/%E6%AF%94%E7%89%B9%E5%B9%A3/eur\">BTC/EUR</a>\\n<a class=\"dropdown-item \" href=\"/zh-tw/%E5%8C%AF%E7%8E%87%E5%9C%96/%E6%AF%94%E7%89%B9%E5%B9%A3/chf\">BTC/CHF</a>\\n<a class=\"dropdown-item \" href=\"/zh-tw/%E5%8C%AF%E7%8E%87%E5%9C%96/%E6%AF%94%E7%89%B9%E5%B9%A3/sek\">BTC/SEK</a>\\n<a class=\"dropdown-item \" href=\"/zh-tw/%E5%8C%AF%E7%8E%87%E5%9C%96/%E6%AF%94%E7%89%B9%E5%B9%A3/jpy\">BTC/JPY</a>\\n<a class=\"dropdown-item \" href=\"/zh-tw/%E5%8C%AF%E7%8E%87%E5%9C%96/%E6%AF%94%E7%89%B9%E5%B9%A3/cny\">BTC/CNY</a>\\n<a class=\"dropdown-item \" href=\"/zh-tw/%E5%8C%AF%E7%8E%87%E5%9C%96/%E6%AF%94%E7%89%B9%E5%B9%A3/inr\">BTC/INR</a>\\n<a class=\"dropdown-item \" href=\"/zh-tw/%E5%8C%AF%E7%8E%87%E5%9C%96/%E6%AF%94%E7%89%B9%E5%B9%A3/rub\">BTC/RUB</a>\\n<a class=\"dropdown-item \" href=\"/zh-tw/%E5%8C%AF%E7%8E%87%E5%9C%96/%E6%AF%94%E7%89%B9%E5%B9%A3/aud\">BTC/AUD</a>\\n<a class=\"dropdown-item \" href=\"/zh-tw/%E5%8C%AF%E7%8E%87%E5%9C%96/%E6%AF%94%E7%89%B9%E5%B9%A3/hkd\">BTC/HKD</a>\\n<a class=\"dropdown-item \" href=\"/zh-tw/%E5%8C%AF%E7%8E%87%E5%9C%96/%E6%AF%94%E7%89%B9%E5%B9%A3/sgd\">BTC/SGD</a>\\n<a class=\"dropdown-item \" href=\"/zh-tw/%E5%8C%AF%E7%8E%87%E5%9C%96/%E6%AF%94%E7%89%B9%E5%B9%A3/twd\">BTC/TWD</a>\\n<a class=\"dropdown-item \" href=\"/zh-tw/%E5%8C%AF%E7%8E%87%E5%9C%96/%E6%AF%94%E7%89%B9%E5%B9%A3/brl\">BTC/BRL</a>\\n<a class=\"dropdown-item \" href=\"/zh-tw/%E5%8C%AF%E7%8E%87%E5%9C%96/%E6%AF%94%E7%89%B9%E5%B9%A3/krw\">BTC/KRW</a>\\n<a class=\"dropdown-item \" href=\"/zh-tw/%E5%8C%AF%E7%8E%87%E5%9C%96/%E6%AF%94%E7%89%B9%E5%B9%A3/zar\">BTC/ZAR</a>\\n<a class=\"dropdown-item \" href=\"/zh-tw/%E5%8C%AF%E7%8E%87%E5%9C%96/%E6%AF%94%E7%89%B9%E5%B9%A3/myr\">BTC/MYR</a>\\n<a class=\"dropdown-item \" href=\"/zh-tw/%E5%8C%AF%E7%8E%87%E5%9C%96/%E6%AF%94%E7%89%B9%E5%B9%A3/idr\">BTC/IDR</a>\\n<a class=\"dropdown-item \" href=\"/zh-tw/%E5%8C%AF%E7%8E%87%E5%9C%96/%E6%AF%94%E7%89%B9%E5%B9%A3/nzd\">BTC/NZD</a>\\n<a class=\"dropdown-item \" href=\"/zh-tw/%E5%8C%AF%E7%8E%87%E5%9C%96/%E6%AF%94%E7%89%B9%E5%B9%A3/mxn\">BTC/MXN</a>\\n<a class=\"dropdown-item \" href=\"/zh-tw/%E5%8C%AF%E7%8E%87%E5%9C%96/%E6%AF%94%E7%89%B9%E5%B9%A3/php\">BTC/PHP</a>\\n<a class=\"dropdown-item \" href=\"/zh-tw/%E5%8C%AF%E7%8E%87%E5%9C%96/%E6%AF%94%E7%89%B9%E5%B9%A3/dkk\">BTC/DKK</a>\\n<a class=\"dropdown-item \" href=\"/zh-tw/%E5%8C%AF%E7%8E%87%E5%9C%96/%E6%AF%94%E7%89%B9%E5%B9%A3/pln\">BTC/PLN</a>\\n<a class=\"dropdown-item \" href=\"/zh-tw/%E5%8C%AF%E7%8E%87%E5%9C%96/%E6%AF%94%E7%89%B9%E5%B9%A3/xau\">BTC/XAU</a>\\n<a class=\"dropdown-item \" href=\"/zh-tw/%E5%8C%AF%E7%8E%87%E5%9C%96/%E6%AF%94%E7%89%B9%E5%B9%A3/xag\">BTC/XAG</a>\\n<a class=\"dropdown-item \" href=\"/zh-tw/%E5%8C%AF%E7%8E%87%E5%9C%96/%E6%AF%94%E7%89%B9%E5%B9%A3/xdr\">BTC/XDR</a>\\n</div>\\n</div>\\n</div>\\n<div class=\"market-cap\">總市值\\n<span class=\"market-cap-num\">\\n<span class=\"currency-exchangable\" data-market-cap-btc=\"16787137.0\">\\n<span>$ 299,282,628,171</span>\\n</span> </span>\\n</div>\\n</div>\\n</div>\\n<div class=\"col-md-5 market-value\">\\n<div class=\"coin-value\">\\n<span class=\"currency-exchangable\" data-price-btc=\"1.0\">\\n<span>$ 17,828.0923</span>\\n</span> </div>\\n<div class=\"live-percent-change\">\\n<div class=\"stat-percent-lg text-danger\">\\n-0.242%\\n<i class=\"fa fa-level-down\"></i>\\n</div>\\n</div>\\n</div>\\n</div>\\n\\n\\n<div class=\"mobile-data\">\\n<div class=\"converter\">\\n<div class=\"converter-content text-center\">\\n<div class=\"converter-field\">\\n<div class=\"input-group\">\\n<span class=\"input-group-addon convert_from\">BTC</span>\\n<input type=\"text\" name=\"from_amount_mobile\" id=\"from_amount_mobile\" value=\"\" class=\"form-control convert from_amount\" />\\n</div>\\n<img class=\"exhcange\" src=\"https://www.coingecko.com/assets/exchange-4a65c3a727d67f246f5ccbf0173a31574f5308943ae1c2149f58bceb079ee9ca.svg\" alt=\"Exchange\" />\\n<div class=\"input-group\">\\n<span class=\"input-group-addon convert_to\">USD</span>\\n<input type=\"text\" name=\"to_amount_mobile\" id=\"to_amount_mobile\" value=\"\" class=\"form-control convert to_amount\" />\\n</div>\\n</div>\\n<div class=\"convert-buttons\">\\n</div>\\n</div>\\n</div>\\n<table class=\"daily-changes-value\">\\n<tbody>\\n<tr>\\n<td><div class=\"market-cap text-right\">總市值</div></td>\\n<td><div class=\"market-cap text-left\"><span class=\"market-cap-num\">\\n<span class=\"currency-exchangable\" data-market-cap-btc=\"16787137.0\">\\n<span>$ 299,282,628,171</span>\\n</span></span></div></td>\\n</tr>\\n<tr>\\n<td><div class=\"market-cap text-right\">24小時低 / 24小時高</div></td>\\n<td><div class=\"market-cap text-left\"><span class=\"market-cap-num\">\\n<span class=\"currency-exchangable\" data-h24-low-btc=\"1.0\" data-h24-low-usd=\"17528.5713882374\">\\n<span>$ 17,528.57139</span>\\n</span> /\\n<span class=\"currency-exchangable\" data-h24-high-btc=\"1.0\" data-h24-high-usd=\"18382.7162610784\">\\n<span>$ 18,382.71626</span>\\n</span></span>\\n</div></td>\\n</tr>\\n<tr>\\n<td><div class=\"market-cap text-right\">24小時交易量</div></td>\\n<td><div class=\"market-cap text-left\"><span class=\"market-cap-num\">\\n<span class=\"currency-exchangable\" data-total-volume-btc=\"203834.566518127\">\\n<span>$ 3,633,981,469</span>\\n</span></span></div></td>\\n</tr>\\n</tbody>\\n</table>\\n<div class=\"other-information row\">\\n<div class=\"col-md-3\">\\n<div class=\"information-title\">完整指標分數<span class=\"help-icon\"><a href=\"#\"><i class=\"fa fa-question-circle\" aria-hidden=\"true\" data-toggle=\"tooltip\" data-placement=\"left\" title=\"累積分數总市值，流動資金，開發，和社区活跃度。\"></i></a></span>\\n</div>\\n<div class=\"score\">總得分<span class=\"percentage-score\">90.54%</span>\\n</div>\\n</div>\\n<div class=\"col-md-3\">\\n<div class=\"information-title\">各大交易所交易活動<span class=\"help-icon\"><a href=\"#\"><i class=\"fa fa-question-circle\" aria-hidden=\"true\" data-toggle=\"tooltip\" data-placement=\"left\" title=\"一個貨幣的流動性，可以用來衡量其市場份額，市場成熟度和市場接受度。 \\n貨幣需要在交易所進行廣泛交易才能被認為是壹個潛在增長的硬幣。\"></i></a></span>\\n</div>\\n<div class=\"score\">流動性<span class=\"percentage-score\">98.01%</span>\\n</div>\\n</div>\\n<div class=\"col-md-3\">\\n<div class=\"information-title\">源代碼庫活動<span class=\"help-icon\"><a href=\"#\"><i class=\"fa fa-question-circle\" aria-hidden=\"true\" data-toggle=\"tooltip\" data-placement=\"left\" title=\"CoinGecko(幣虎)通過公共源代碼庫跟蹤貨幣的開發活動。 \\n為什麽我們正在尋找這樣做的原因是壹些貨幣壹不在由開發商維持 \\n因此，這些貨幣將不太可能隨著時間的推移而進步。 \\n通過觀察開發社区活跃度的興趣與精力， 此貨幣將繼續按照數字貨幣市場認為合適的做出創新。\"></i></a></span>\\n</div>\\n<div class=\"score\">開發人員<span class=\"percentage-score\">98.08%</span>\\n</div>\\n</div>\\n<div class=\"col-md-3\">\\n<div class=\"information-title\">社交媒體與討論區<span class=\"help-icon\"><a href=\"#\"><i class=\"fa fa-question-circle\" aria-hidden=\"true\" data-toggle=\"tooltip\" data-placement=\"left\" title=\"數字貨幣往往會在有壹個強大社区活跃度的支持下經歷巨大的增長。 \\n這個群體將貢獻新的想法和功能以被納入貨幣裏， \\n這將提高成交量，並使其走向更大的市場。\"></i></a></span>\\n</div>\\n<div class=\"score\">社区活跃度<span class=\"percentage-score\">85.20%</span>\\n</div>\\n</div>\\n</div>\\n</div>\\n\\n\\n<div class=\"desktop-data\">\\n\\n<table class=\"daily-changes-value\">\\n<tbody>\\n<tr>\\n<td>\\n<div class=\"market-cap\">\\n總市值\\n<span class=\"market-cap-num\">\\n<span class=\"currency-exchangable\" data-market-cap-btc=\"16787137.0\">\\n<span>$ 299,282,628,171</span>\\n</span></span>\\n</div>\\n</td>\\n<td><div class=\"market-cap\">24小時低 / 24小時高\\n<span class=\"market-cap-num\">\\n<span class=\"currency-exchangable\" data-h24-low-btc=\"1.0\" data-h24-low-usd=\"17528.5713882374\">\\n<span>$ 17,528.57139</span>\\n</span> /\\n<span class=\"currency-exchangable\" data-h24-high-btc=\"1.0\" data-h24-high-usd=\"18382.7162610784\">\\n<span>$ 18,382.71626</span>\\n</span></span>\\n</div></td>\\n<td><div class=\"market-cap\">24小時交易量\\n<span class=\"market-cap-num\">\\n<span class=\"currency-exchangable\" data-total-volume-btc=\"203834.566518127\">\\n<span>$ 3,633,981,469</span>\\n</span></span>\\n</div>\\n</td>\\n</tr>\\n</tbody>\\n</table>\\n\\n<div class=\"other-information row\">\\n<div class=\"col-md-3\">\\n<div class=\"information-title\">完整指標分數<span class=\"help-icon\"><a href=\"#\"><i class=\"fa fa-question-circle\" aria-hidden=\"true\" data-toggle=\"tooltip\" data-placement=\"left\" title=\"累積分數总市值，流動資金，開發，和社区活跃度。\"></i></a></span>\\n</div>\\n<div class=\"score\">總得分<span class=\"percentage-score\">90.54%</span>\\n</div>\\n</div>\\n<div class=\"col-md-3\">\\n<div class=\"information-title\">各大交易所交易活動<span class=\"help-icon\"><a href=\"#\"><i class=\"fa fa-question-circle\" aria-hidden=\"true\" data-toggle=\"tooltip\" data-placement=\"left\" title=\"一個貨幣的流動性，可以用來衡量其市場份額，市場成熟度和市場接受度。 \\n貨幣需要在交易所進行廣泛交易才能被認為是壹個潛在增長的硬幣。\"></i></a></span>\\n</div>\\n<div class=\"score\">流動性<span class=\"percentage-score\">98.01%</span>\\n</div>\\n</div>\\n<div class=\"col-md-3\">\\n<div class=\"information-title\">源代碼庫活動<span class=\"help-icon\"><a href=\"#\"><i class=\"fa fa-question-circle\" aria-hidden=\"true\" data-toggle=\"tooltip\" data-placement=\"left\" title=\"CoinGecko(幣虎)通過公共源代碼庫跟蹤貨幣的開發活動。 \\n為什麽我們正在尋找這樣做的原因是壹些貨幣壹不在由開發商維持 \\n因此，這些貨幣將不太可能隨著時間的推移而進步。 \\n通過觀察開發社区活跃度的興趣與精力， 此貨幣將繼續按照數字貨幣市場認為合適的做出創新。\"></i></a></span>\\n</div>\\n<div class=\"score\">開發人員<span class=\"percentage-score\">98.08%</span>\\n</div>\\n</div>\\n<div class=\"col-md-3\">\\n<div class=\"information-title\">社交媒體與討論區<span class=\"help-icon\"><a href=\"#\"><i class=\"fa fa-question-circle\" aria-hidden=\"true\" data-toggle=\"tooltip\" data-placement=\"left\" title=\"數字貨幣往往會在有壹個強大社区活跃度的支持下經歷巨大的增長。 \\n這個群體將貢獻新的想法和功能以被納入貨幣裏， \\n這將提高成交量，並使其走向更大的市場。\"></i></a></span>\\n</div>\\n<div class=\"score\">社区活跃度<span class=\"percentage-score\">85.20%</span>\\n</div>\\n</div>\\n</div>\\n\\n<div class=\"converter\">\\n<input type=\"hidden\" name=\"conversion_rate\" id=\"conversion_rate\" value=\"17828.0923167924\" class=\"conversion-rate-value\" />\\n<div class=\\'row justify-content-center\\'>\\n<div class=\"converter-field\">\\n<div class=\"input-group\">\\n<span class=\"input-group-addon convert_from\">BTC</span>\\n<input type=\"text\" name=\"from_amount_regular\" id=\"from_amount_regular\" value=\"\" class=\"form-control  from_amount\" />\\n</div>\\n<img class=\"exhcange\" src=\"https://www.coingecko.com/assets/exchange-4a65c3a727d67f246f5ccbf0173a31574f5308943ae1c2149f58bceb079ee9ca.svg\" alt=\"Exchange\" />\\n<div class=\"input-group\">\\n<span class=\"input-group-addon convert_to\">USD</span>\\n<input type=\"text\" name=\"to_amount_regular\" id=\"to_amount_regular\" value=\"\" class=\"form-control  to_amount\" />\\n</div>\\n</div>\\n</div>\\n</div>\\n</div>\\n\\n<span id=\"price-chart-vs-currency\" data-symbol=\"$\" data-iso-code=\"USD\"></span>\\n\\n<div class=\\'mt-4\\'>\\n<div class=\"card\">\\n<div class=\"card-header\">\\n<ul class=\"nav nav-tabs card-header-tabs\" id=\\'panel\\'>\\n<li class=\"nav-item\">\\n<a class=\"nav-link \" href=\"/zh-tw/%E6%95%B8%E5%AD%97%E8%B2%A8%E5%B9%A3/%E6%AF%94%E7%89%B9%E5%B9%A3#panel\">Overview</a>\\n</li>\\n<li class=\"nav-item\">\\n<a id=\"tab-nav-chart-link\" class=\"nav-link active\" href=\"/zh-tw/%E5%8C%AF%E7%8E%87%E5%9C%96/%E6%AF%94%E7%89%B9%E5%B9%A3/usd#panel\">匯率走勢</a>\\n</li>\\n<li class=\"nav-item\">\\n<a class=\"nav-link \" href=\"/zh-tw/%E6%95%B8%E5%AD%97%E8%B2%A8%E5%B9%A3/%E6%AF%94%E7%89%B9%E5%B9%A3/%E5%85%8C%E6%8F%9B%E5%B9%B3%E5%8F%B0#panel\">買賣交易</a>\\n</li>\\n<li class=\"nav-item\">\\n<a class=\"nav-link \" href=\"/zh-tw/%E6%95%B8%E5%AD%97%E8%B2%A8%E5%B9%A3/%E6%AF%94%E7%89%B9%E5%B9%A3/social#panel\">社区活跃度</a>\\n</li>\\n<li class=\"nav-item\">\\n<a class=\"nav-link \" href=\"/zh-tw/%E6%95%B8%E5%AD%97%E8%B2%A8%E5%B9%A3/%E6%AF%94%E7%89%B9%E5%B9%A3/developer#panel\">開發人員</a>\\n</li>\\n<li class=\"nav-item\">\\n<a class=\"nav-link \" href=\"/zh-tw/%E6%95%B8%E5%AD%97%E8%B2%A8%E5%B9%A3/%E6%AF%94%E7%89%B9%E5%B9%A3/tools#panel\">Tools</a>\\n</li>\\n<li class=\"nav-item\">\\n<a class=\"nav-link \" href=\"/zh-tw/%E6%95%B8%E5%AD%97%E8%B2%A8%E5%B9%A3/%E6%AF%94%E7%89%B9%E5%B9%A3/%E8%AB%96%E5%A3%87#panel\">論壇</a>\\n</li>\\n</ul>\\n</div>\\n<div class=\"card-body\">\\n<h1 class=\\'card-title card-title-h1\\'>\\n比特幣/Bitcoin 匯率走勢 US Dollar\\n(BTC/USD)\\n</h1>\\n<p>\\n比特幣 今天的價值為<b><span>$ 17,828.0923</span></b>.\\n它有16.8 百万 的貨幣供應和 <span>$ 3,633,981,469</span>的總交換量\\n</p>\\n<div class=\\'row\\'>\\n<div class=\"col-md-12 filter-chart\">\\n<div class=\"btn-group mr-2\" data-toggle=\"buttons\">\\n<label class=\"btn btn-primary coingecko active\" id=\\'chart-toggle-price\\'>\\n<input type=\"radio\" name=\"options\" id=\"option1\" autocomplete=\"off\"> 匯率\\n</label>\\n<label class=\"btn btn-primary coingecko\" id=\\'chart-toggle-market-cap\\'>\\n<input type=\"radio\" name=\"options\" id=\"option3\" autocomplete=\"off\"> 總市值\\n</label>\\n</div>\\n<div class=\"btn-group\" data-toggle=\"buttons\">\\n<label class=\"btn btn-primary coingecko active\" id=\\'chart-mode-point\\'>\\n<input type=\"radio\" name=\"mode-chart-options\" id=\"option3\" autocomplete=\"off\"> <i class=\"fa fa-circle\"></i>\\n</label>\\n<label class=\"btn btn-primary coingecko\" id=\\'chart-mode-line\\'>\\n<input type=\"radio\" name=\"mode-chart-options\" id=\"option1\" autocomplete=\"off\"> <i class=\"fa fa-line-chart\"></i>\\n</label>\\n</div>\\n</div>\\n</div>\\n<div class=\\'row\\'>\\n<div class=\"col-md-12\">\\n<div class=\\'ajax\\' style=\\'height: 490px;\\'>\\n<img class=\"img-auto graph-stats-loading\" width=\"20px\" height=\"20px\" style=\"display:none;\" src=\"https://www.coingecko.com/assets/loader-20-86d9029d50c95271ee19e93eaab40ca30749a7b56020e5669814873ed9f44e54.gif\" alt=\"Loader 20\" />\\n<div id=\"coin_portfolio_price_chart_btc\" class=\"coin_portfolio_price_chart\" data-prices=\"[[1515227134290.3298,17947.0],[1515227723133.59,17871.36],[1515228347773.77,17861.98],[1515228945753.52,17868.23],[1515229499509.76,17813.38],[1515230110751.83,17898.29],[1515230721597.24,17871.81],[1515231347450.0598,17816.3],[1515231921807.45,17744.44],[1515232527995.92,17663.01],[1515233135151.9102,17662.05],[1515233728737.88,17629.65],[1515234327124.39,17734.72],[1515234932915.3901,17814.82],[1515235547606.74,17865.7],[1515236144717.16,17951.74],[1515236740429.3499,17917.82],[1515237335801.07,17876.73],[1515237934691.54,17923.99],[1515238540727.52,17852.21],[1515239140524.62,17793.96],[1515239720848.0698,17754.46],[1515240339267.77,17796.5],[1515240931853.82,17796.17],[1515241514472.52,17754.65],[1515242130458.67,17696.23],[1515242743979.43,17710.23],[1515243327843.56,17689.0],[1515243930661.32,17592.41],[1515244515543.2898,17611.24],[1515245129360.73,17600.96],[1515245725029.5999,17589.89],[1515246339540.03,17564.9],[1515246931264.17,17552.8],[1515247544147.0698,17528.57],[1515248138410.41,17547.82],[1515248739995.08,17636.2],[1515249330513.25,17674.79],[1515249939856.19,17708.76],[1515250548594.0198,17690.81],[1515251143850.43,17683.49],[1515251736685.94,17663.97],[1515252322828.0,17851.93],[1515252934277.2998,17872.97],[1515253535763.8801,17857.36],[1515254123416.48,17897.67],[1515254697986.1501,17863.34],[1515255346042.71,17821.16],[1515255809626.56,17836.76],[1515256225928.4202,17845.26],[1515256748757.8699,17852.28],[1515257307594.1702,17969.43],[1515257946195.97,18059.69],[1515258569556.68,18086.89],[1515259127454.56,18079.35],[1515259747947.13,18040.24],[1515260339355.85,18035.0],[1515260912209.34,18061.33],[1515261578034.78,18083.66],[1515262176801.44,18125.93],[1515262772136.1,18177.0],[1515263402486.1602,18250.8],[1515263993206.36,18165.29],[1515264617003.0,18051.79],[1515265162746.74,18059.89],[1515265816835.58,18075.83],[1515266390710.37,18043.91],[1515266982190.0999,17976.36],[1515267612545.22,18003.52],[1515268198850.79,18000.59],[1515268811044.4,17969.22],[1515269412113.1,17961.41],[1515270017625.66,17969.43],[1515270571857.03,18034.32],[1515271206140.52,18047.82],[1515271813315.95,18103.65],[1515272394812.71,18099.4],[1515273010937.8801,18079.65],[1515273617206.73,18068.33],[1515274211055.3801,18048.06],[1515274786711.8198,18059.45],[1515275412874.64,18076.48],[1515275979544.6,18100.21],[1515276606087.43,18207.23],[1515277171043.04,18364.71],[1515277827918.62,18364.62],[1515278425072.64,18305.55],[1515279040108.27,18286.75],[1515279642731.08,18338.41],[1515280244870.34,18313.9],[1515280841266.9402,18346.4],[1515281434301.51,18382.72],[1515281993882.22,18340.63],[1515282643405.67,18343.66],[1515283244076.03,18319.47],[1515283838218.46,18296.45],[1515284443557.04,18193.68],[1515285026480.22,18158.78],[1515285627786.44,18158.47],[1515286212328.5798,18187.75],[1515286892354.38,18162.19],[1515287478908.35,18098.79],[1515288064725.06,17997.86],[1515288694801.07,18039.44],[1515289295078.64,18091.47],[1515289828627.77,18082.26],[1515290493591.74,18077.85],[1515291087677.8901,18031.28],[1515291666530.26,18001.7],[1515292250155.48,17978.32],[1515292890459.8,17977.34],[1515293488807.12,17932.34],[1515294107199.28,17921.95],[1515294705699.61,17898.64],[1515295301532.97,17890.98],[1515295896326.05,17830.54],[1515296498705.29,17782.88],[1515297104447.72,17810.16],[1515297705631.27,17820.45],[1515298282305.9001,17846.79],[1515298890702.26,17863.45],[1515299507362.61,17862.09],[1515300105332.0898,17820.55],[1515300709548.5798,17744.84],[1515301331438.96,17775.26],[1515301906003.57,17795.36],[1515302495596.21,17865.08],[1515303102879.76,17871.92],[1515303702721.8398,17826.7],[1515304284484.3499,17810.87],[1515304933436.97,17812.19],[1515305518252.11,17797.47],[1515306113220.87,17786.66],[1515306701034.75,17765.57],[1515307300578.8,17781.69],[1515307906698.06,17758.39],[1515308501384.22,17674.03],[1515309070169.3398,17693.13],[1515309719496.48,17708.13],[1515310288106.59,17733.21],[1515310915796.9602,17712.07],[1515311484876.28,17740.1],[1515312127214.65,17775.29],[1515312718309.31,17805.74],[1515313317322.63,17820.72],[1515313798000,17828.09]]\" data-vs-currency=\"usd\" data-vs-currency-symbol=\"$\" style=\"height:400px;\"></div>\\n<div class=\"btn-toolbar pull-right mt-3\" role=\"toolbar\">\\n<div class=\"dropdown mr-1\">\\n<button type=\"button\" class=\"btn btn-sm dropdown-toggle btn-outline-dark\" data-toggle=\"dropdown\" aria-haspopup=\"true\" aria-expanded=\"false\">\\nExport As <span class=\"caret\"></span>\\n</button>\\n<ul class=\"dropdown-menu\">\\n<li><a class=\"dropdown-item\" href=\"/price_charts/export/%E6%AF%94%E7%89%B9%E5%B9%A3/usd.xls\">Excel</a></a></li>\\n<li><a class=\"dropdown-item\" href=\"/price_charts/export/%E6%AF%94%E7%89%B9%E5%B9%A3/usd.csv\">CSV</a></a></li>\\n</ul>\\n</div>\\n<div class=\"btn-group\">\\n<a class=\"btn btn-primary btn btn-sm graph-stats-btn graph-stats-btn-24h active\" data-graph-stats-url=\"https://www.coingecko.com/price_charts/1/usd/24_hours.json\" data-market-cap-graph-stats-url=\"https://www.coingecko.com/market_cap/1/usd/24_hours.json\" data-full-graph-url=\"https://www.coingecko.com/price_charts/%E6%AF%94%E7%89%B9%E5%B9%A3/usd/24_hours?locale=zh-tw\" href=\"javascript:;\">24h</a>\\n<a class=\"btn btn-primary btn btn-sm graph-stats-btn graph-stats-btn-7d\" data-graph-stats-url=\"https://www.coingecko.com/price_charts/1/usd/7_days.json\" data-market-cap-graph-stats-url=\"https://www.coingecko.com/market_cap/1/usd/7_days.json\" data-full-graph-url=\"https://www.coingecko.com/price_charts/%E6%AF%94%E7%89%B9%E5%B9%A3/usd/7_days?locale=zh-tw\" href=\"javascript:;\">7d</a>\\n<a class=\"btn btn-primary btn btn-sm graph-stats-btn graph-stats-btn-14d\" data-graph-stats-url=\"https://www.coingecko.com/price_charts/1/usd/14_days.json\" data-market-cap-graph-stats-url=\"https://www.coingecko.com/market_cap/1/usd/14_days.json\" data-full-graph-url=\"https://www.coingecko.com/price_charts/%E6%AF%94%E7%89%B9%E5%B9%A3/usd/14_days?locale=zh-tw\" href=\"javascript:;\">14d</a>\\n<a class=\"btn btn-primary btn btn-sm graph-stats-btn graph-stats-btn-30d\" data-graph-stats-url=\"https://www.coingecko.com/price_charts/1/usd/30_days.json\" data-market-cap-graph-stats-url=\"https://www.coingecko.com/market_cap/1/usd/30_days.json\" data-full-graph-url=\"https://www.coingecko.com/price_charts/%E6%AF%94%E7%89%B9%E5%B9%A3/usd/30_days?locale=zh-tw\" href=\"javascript:;\">30d</a>\\n<a class=\"btn btn-primary btn btn-sm graph-stats-btn graph-stats-btn-60d\" data-graph-stats-url=\"https://www.coingecko.com/price_charts/1/usd/60_days.json\" data-market-cap-graph-stats-url=\"https://www.coingecko.com/market_cap/1/usd/60_days.json\" data-full-graph-url=\"https://www.coingecko.com/price_charts/%E6%AF%94%E7%89%B9%E5%B9%A3/usd/60_days?locale=zh-tw\" href=\"javascript:;\">60d</a>\\n<a class=\"btn btn-primary btn btn-sm graph-stats-btn graph-stats-btn-90d\" data-graph-stats-url=\"https://www.coingecko.com/price_charts/1/usd/90_days.json\" data-market-cap-graph-stats-url=\"https://www.coingecko.com/market_cap/1/usd/90_days.json\" data-full-graph-url=\"https://www.coingecko.com/price_charts/%E6%AF%94%E7%89%B9%E5%B9%A3/usd/90_days?locale=zh-tw\" href=\"javascript:;\">90d</a>\\n<a class=\"btn btn-primary btn btn-sm graph-stats-btn graph-stats-btn-max\" data-graph-stats-url=\"https://www.coingecko.com/chart/1/usd.json?locale=zh-tw\" data-market-cap-graph-stats-url=\"https://www.coingecko.com/market_cap/1/usd/max_days.json\" data-full-graph-url=\"https://www.coingecko.com/chart/%E6%AF%94%E7%89%B9%E5%B9%A3/usd?locale=zh-tw\" href=\"javascript:;\">Max</a>\\n</div>\\n</div>\\n</div>\\n</div>\\n</div>\\n<div class=\\'row\\'>\\n<div class=\"col-md-8 ads text-right\">\\n<div class=\"text-center\" style=\\'height: 250px;\\'>\\n\\n<div id=\"bsa-zone_1509402283990-1_123456\"></div>\\n</div>\\n</div>\\n<div class=\\'col-md-4 pl-5\\'>\\n<table class=\\'table\\'>\\n<thead>\\n<tr>\\n<th>日期</th>\\n<th>\\n匯率 (USD)\\n</th>\\n</tr>\\n</thead>\\n<tbody>\\n<tr>\\n<td>\\n不到 1 分钟前\\n</td>\\n<td>17828.09</td>\\n</tr>\\n<tr>\\n<td>\\n8 分钟前\\n</td>\\n<td>17820.72</td>\\n</tr>\\n<tr>\\n<td>\\n18 分钟前\\n</td>\\n<td>17805.74</td>\\n</tr>\\n<tr>\\n<td>\\n28 分钟前\\n</td>\\n<td>17775.29</td>\\n</tr>\\n<tr>\\n<td>\\n39 分钟前\\n</td>\\n<td>17740.1</td>\\n</tr>\\n<tr>\\n<td>\\n大约 1 小时前\\n</td>\\n<td>17712.07</td>\\n</tr>\\n</tbody>\\n</table>\\n</div>\\n</div>\\n</div>\\n<div class=\"card-footer bg-transparent\">\\n<table class=\"table table-responsive mt-2\">\\n<thead>\\n<tr>\\n<th>貨幣</th>\\n<th>代碼</th>\\n<th style=\"text-align:right;\">匯率</th>\\n<th style=\"text-align:right;\">总市值</th>\\n<th style=\"text-align:right;\">成交量</th>\\n</tr>\\n</thead>\\n<tbody>\\n<tr>\\n<td style=\"border-bottom: none;\">比特幣</td>\\n<td style=\"border-bottom: none;\">BTC</td>\\n<td style=\"text-align:right;border-bottom: none;\">\\n<span>$ 17,828.0923</span>\\n</td>\\n<td style=\"text-align:right;border-bottom: none;\">\\n<span>$ 299,282,628,171</span>\\n</td>\\n<td style=\"text-align:right;border-bottom: none;\">\\n<span>$ 3,633,981,469</span>\\n</td>\\n</tr>\\n</tbody>\\n</table>\\n</div>\\n</div>\\n</div>\\n\\n</div>\\n</div>\\n</div>\\n\\n<footer>\\n<div class=\"topfooter\">\\n<div class=\"container\">\\n<div class=\"row\">\\n<div class=\"col-md-2\"></div>\\n<div class=\"col-md-8\">\\n<div class=\"disclaimer-icon\">\\n<img alt=\"disclaimer\" src=\"https://www.coingecko.com/assets/disclaimer-8e54d418cc52b2c9035b439722d8d89ff19fdd06629c738bd348e805f574f337.png\" />\\n</div>\\n<div class=\"disclaimer-content\">\\n<span class=\"disclaimer\"><a href=\"/zh-tw/%E5%85%8D%E8%B2%AC%E8%81%B2%E6%98%8E\">請閱讀免責聲明</a></span>: 貨幣交易是一項高風險的活動。在作出任何決定之前，請咨詢您的財務顧問。 CoinGecko(幣虎)將不承擔任何交易決定。\\n</div>\\n</div>\\n<div class=\"col-md-2\"></div>\\n</div>\\n</div>\\n</div>\\n<div id=\"footer\" class=\"container\">\\n<div class=\"footer-header\">\\n你喜歡的貨幣不在列裏？\\n</div>\\n<div class=\"footer-content\">\\n我們將在每個星期增加壹些新的貨幣到排名上。如果您想看到您的貨幣在這個排名上，請於<a href=\"mailto:hello@coingecko.com\">hello@coingecko.com</a>給我們壹些意見和反饋，\\n</div>\\n<div class=\"footer-header-2\">喜歡我們的項目嗎？歡迎您慷慨解囊！</div>\\n<div class=\"donations row\">\\n<div class=\"col-md-6 coin-wrapper\">\\n<div class=\"footer-coin-img\"><img src=\"https://assets.coingecko.com/coins/images/1/thumb/bitcoin.png\" alt=\"Bitcoin\" /></div>\\n<div class=\"footer-donate-link\"><div class=\"donate-coin\">Bitcoin BTC</div><a href=\"https://blockchain.info/address/1ECGUKEosEhaZnywCVxw6e1VUcPRqGkhvd\" target=\"_blank\" rel=\\'nofollow\\'>1ECGUKEosEhaZnywCVxw6e1VUcPRqGkhvd</a></div>\\n</div>\\n<div class=\"col-md-6 coin-wrapper\">\\n<div class=\"footer-coin-img\"><img src=\"https://assets.coingecko.com/coins/images/2/thumb/litecoin.png\" alt=\"Litecoin\" /></div>\\n<div class=\"footer-donate-link\"><div class=\"donate-coin\">Litecoin LTC</div><a href=\"https://live.blockcypher.com/ltc/address/LZCRywjSPCXC2d8ybWgdTjyQrq7GRg3JqB\" target=\"_blank\" rel=\\'nofollow\\'>LZCRywjSPCXC2d8ybWgdTjyQrq7GRg3JqB</a></div>\\n</div>\\n<div class=\"col-md-6 coin-wrapper\">\\n<div class=\"footer-coin-img\"><img src=\"https://assets.coingecko.com/coins/images/5/thumb/dogecoin.png\" alt=\"Dogecoin\" /></div>\\n<div class=\"footer-donate-link\"><div class=\"donate-coin\">Dogecoin DOGE</div><a href=\"https://dogechain.info/address/DS3kJgp3mAdezrV5bmKKoXkUiR5tqbrAgg\" target=\"_blank\" rel=\\'nofollow\\'>DS3kJgp3mAdezrV5bmKKoXkUiR5tqbrAgg</a></div>\\n</div>\\n<div class=\"col-md-6 coin-wrapper\">\\n<div class=\"footer-coin-img\"><img src=\"https://assets.coingecko.com/coins/images/279/thumb/ethereum.png\" alt=\"Ethereum\" /></div>\\n<div class=\"footer-donate-link\"><div class=\"donate-coin\">Ethereum ETH</div><a href=\"https://etherscan.io/address/0x4Cdc86fa95Ec2704f0849825f1F8b077deeD8d39\" target=\"_blank\" rel=\\'nofollow\\'>0x4Cdc86fa95Ec2704f0849825f1F8b077deeD8d39</a></div>\\n</div>\\n</div>\\n</div>\\n<div class=\"bottomfooter desktop\">\\n<div class=\"container\">\\n<div class=\"row justify-content-center pt-2\">\\n<div class=\"btn-group pull-left\" role=\"group\">\\n<button type=\"button\" id=\\'\\' class=\"activate-light btn btn-sm btn-secondary\"><i class=\"fa fa-sun-o\"></i></button>\\n<button type=\"button\" id=\\'\\' class=\"activate-dark btn btn-sm btn-secondary\"><i class=\"fa fa-moon-o\"></i></button>\\n</div>\\n</div>\\n<div class=\"row\">\\n<div class=\"col-md-4\">\\n<div class=\"menu-footer-container\">\\n<ul class=\"menu-footer-menu\">\\n<li><a href=\"/zh-tw/%E5%85%8D%E8%B2%AC%E8%81%B2%E6%98%8E\">免責聲明</a></li>\\n<li><a href=\"/zh-tw/%E6%A2%9D%E6%AC%BE\">服務條款</a></li>\\n<li><a href=\"/zh-tw/%E9%9A%B1%E7%A7%81%E6%AC%8A\">隱私政策</a></li>\\n</ul>\\n</div>\\n</div>\\n<div class=\"col-md-4\"><div class=\"copyright\">© 2017 CoinGecko. All Rights Reserved.</div></div>\\n<div class=\"col-md-4\">\\n<div class=\"menu-footer-container social-media\">\\nFollow Us On:\\n<ul class=\"menu-footer-menu\">\\n<li><a href=\"https://www.facebook.com/coingecko\"><i class=\"fa fa-facebook\" aria-hidden=\"true\"></i></a></li>\\n<li><a href=\"http://twitter.com/coingecko\"><i class=\"fa fa-twitter\" aria-hidden=\"true\"></i></a></li>\\n<li><a href=\"https://www.instagram.com/coingecko/\"><i class=\"fa fa-instagram\" aria-hidden=\"true\"></i></a></li>\\n<li><a href=\"https://bitcointalk.org/index.php?topic=561516.0\"><i class=\"fa fa-btc\" aria-hidden=\"true\"></i></a></li>\\n</ul>\\n</div>\\n</div>\\n</div>\\n</div>\\n</div>\\n<div class=\"bottomfooter mobile\">\\n<div class=\"container\">\\n<div class=\"row justify-content-center pt-2\">\\n<div class=\"btn-group pull-left\" role=\"group\">\\n<button type=\"button\" class=\"activate-light btn btn-sm btn-secondary\"><i class=\"fa fa-sun-o\"></i></button>\\n<button type=\"button\" class=\"activate-dark btn btn-sm btn-secondary\"><i class=\"fa fa-moon-o\"></i></button>\\n</div>\\n</div>\\n<div class=\"row\">\\n<div class=\"col-md-4\">\\n<div class=\"menu-footer-container\">\\n<ul class=\"menu-footer-menu\">\\n<li><a href=\"/zh-tw/%E5%85%8D%E8%B2%AC%E8%81%B2%E6%98%8E\">免責聲明</a></li>\\n<li><a href=\"/zh-tw/%E6%A2%9D%E6%AC%BE\">服務條款</a></li>\\n<li><a href=\"/zh-tw/%E9%9A%B1%E7%A7%81%E6%AC%8A\">隱私政策</a></li>\\n</ul>\\n</div>\\n</div>\\n<div class=\"col-md-4\">\\n<div class=\"row justify-content-center social-media\">\\nFollow Us On:\\n<ul class=\"menu-footer-menu\">\\n<li><a href=\"https://www.facebook.com/coingecko\"><i class=\"fa fa-facebook\" aria-hidden=\"true\"></i></a></li>\\n<li><a href=\"http://twitter.com/coingecko\"><i class=\"fa fa-twitter\" aria-hidden=\"true\"></i></a></li>\\n<li><a href=\"https://www.instagram.com/coingecko/\"><i class=\"fa fa-instagram\" aria-hidden=\"true\"></i></a></li>\\n<li><a href=\"https://bitcointalk.org/index.php?topic=561516.0\"><i class=\"fa fa-btc\" aria-hidden=\"true\"></i></a></li>\\n</ul>\\n</div>\\n</div>\\n<div class=\"col-md-4\"><div class=\"copyright\">© 2017 CoinGecko. All Rights Reserved.</div></div>\\n</div>\\n</div>\\n</div>\\n</footer>\\n</div>\\n<script async src=\\'https://www.google.com/recaptcha/api.js\\' async></script>\\n<script>\\n  // $(\\'meta[name=csrf-param]\\').remove()\\n  // $(\\'meta[name=csrf-token]\\').remove()\\n  // $.getJSON(\\'/csrf_meta.json\\').then(function(json){\\n  //   $(\\'<meta>\\').attr(\\'name\\', \"csrf-param\").attr(\\'content\\', json.param).appendTo(\\'head\\');\\n  //   $(\\'<meta>\\').attr(\\'name\\', \\'csrf-token\\').attr(\\'content\\', json.token).appendTo(\\'head\\');\\n  // });\\n  $.getScript(\\'/zh-tw/accounts/current.js\\')\\n</script>\\n<script src=\"//cdn-s2s.buysellads.net/pub/coingecko.js\" data-cfasync=\"false\"></script>\\n<script type=\"text/javascript\" src=\"//m.servedby-buysellads.com/monetization.js\"></script>\\n<script>\\n    (function(i,s,o,g,r,a,m){i[\\'GoogleAnalyticsObject\\']=r;i[r]=i[r]||function(){\\n    (i[r].q=i[r].q||[]).push(arguments)},i[r].l=1*new Date();a=s.createElement(o),\\n    m=s.getElementsByTagName(o)[0];a.async=1;a.src=g;m.parentNode.insertBefore(a,m)\\n    })(window,document,\\'script\\',\\'//www.google-analytics.com/analytics.js\\',\\'ga\\');\\n\\n    ga(\\'create\\', \\'UA-49392197-1\\', \\'coingecko.com\\');\\n    ga(\\'send\\', \\'pageview\\');\\n\\n    </script>\\n<script>\\n    (function(){\\n      if(typeof _bsa !== \\'undefined\\' && _bsa) {\\n        _bsa.init(\\'fancybar\\', \\'CKYDV2QM\\', \\'placement:coingecko\\');\\n      }\\n    })();\\n    </script>\\n</body>\\n</html>\\n'"
      ]
     },
     "execution_count": 8,
     "metadata": {},
     "output_type": "execute_result"
    }
   ],
   "source": [
    "#https://www.coingecko.com/zh-tw/%E5%8C%AF%E7%8E%87%E5%9C%96/%E6%AF%94%E7%89%B9%E5%B9%A3/usd#panel\n",
    "\n",
    "import requests\n",
    "#res = requests.get('https://www.coingecko.com/zh-tw/%E5%8C%AF%E7%8E%87%E8%B5%B0%E5%8B%A2%E5%9C%96/%E6%AF%94%E7%89%B9%E5%B9%A3/twd')\n",
    "res=requests.get(\"https://www.coingecko.com/zh-tw/%E5%8C%AF%E7%8E%87%E5%9C%96/%E6%AF%94%E7%89%B9%E5%B9%A3/usd\")\n",
    "res.text"
   ]
  },
  {
   "cell_type": "code",
   "execution_count": 12,
   "metadata": {
    "collapsed": true
   },
   "outputs": [],
   "source": [
    "from bs4 import BeautifulSoup\n",
    "soup = BeautifulSoup(res.text, 'html.parser')\n",
    "price = soup.select('#coin_portfolio_price_chart_btc')[0].prettify('utf-8').decode('utf-8')"
   ]
  },
  {
   "cell_type": "code",
   "execution_count": 13,
   "metadata": {},
   "outputs": [
    {
     "data": {
      "text/plain": [
       "'<div class=\"coin_portfolio_price_chart\" data-prices=\"[[1515227134290.3298,17947.0],[1515227723133.59,17871.36],[1515228347773.77,17861.98],[1515228945753.52,17868.23],[1515229499509.76,17813.38],[1515230110751.83,17898.29],[1515230721597.24,17871.81],[1515231347450.0598,17816.3],[1515231921807.45,17744.44],[1515232527995.92,17663.01],[1515233135151.9102,17662.05],[1515233728737.88,17629.65],[1515234327124.39,17734.72],[1515234932915.3901,17814.82],[1515235547606.74,17865.7],[1515236144717.16,17951.74],[1515236740429.3499,17917.82],[1515237335801.07,17876.73],[1515237934691.54,17923.99],[1515238540727.52,17852.21],[1515239140524.62,17793.96],[1515239720848.0698,17754.46],[1515240339267.77,17796.5],[1515240931853.82,17796.17],[1515241514472.52,17754.65],[1515242130458.67,17696.23],[1515242743979.43,17710.23],[1515243327843.56,17689.0],[1515243930661.32,17592.41],[1515244515543.2898,17611.24],[1515245129360.73,17600.96],[1515245725029.5999,17589.89],[1515246339540.03,17564.9],[1515246931264.17,17552.8],[1515247544147.0698,17528.57],[1515248138410.41,17547.82],[1515248739995.08,17636.2],[1515249330513.25,17674.79],[1515249939856.19,17708.76],[1515250548594.0198,17690.81],[1515251143850.43,17683.49],[1515251736685.94,17663.97],[1515252322828.0,17851.93],[1515252934277.2998,17872.97],[1515253535763.8801,17857.36],[1515254123416.48,17897.67],[1515254697986.1501,17863.34],[1515255346042.71,17821.16],[1515255809626.56,17836.76],[1515256225928.4202,17845.26],[1515256748757.8699,17852.28],[1515257307594.1702,17969.43],[1515257946195.97,18059.69],[1515258569556.68,18086.89],[1515259127454.56,18079.35],[1515259747947.13,18040.24],[1515260339355.85,18035.0],[1515260912209.34,18061.33],[1515261578034.78,18083.66],[1515262176801.44,18125.93],[1515262772136.1,18177.0],[1515263402486.1602,18250.8],[1515263993206.36,18165.29],[1515264617003.0,18051.79],[1515265162746.74,18059.89],[1515265816835.58,18075.83],[1515266390710.37,18043.91],[1515266982190.0999,17976.36],[1515267612545.22,18003.52],[1515268198850.79,18000.59],[1515268811044.4,17969.22],[1515269412113.1,17961.41],[1515270017625.66,17969.43],[1515270571857.03,18034.32],[1515271206140.52,18047.82],[1515271813315.95,18103.65],[1515272394812.71,18099.4],[1515273010937.8801,18079.65],[1515273617206.73,18068.33],[1515274211055.3801,18048.06],[1515274786711.8198,18059.45],[1515275412874.64,18076.48],[1515275979544.6,18100.21],[1515276606087.43,18207.23],[1515277171043.04,18364.71],[1515277827918.62,18364.62],[1515278425072.64,18305.55],[1515279040108.27,18286.75],[1515279642731.08,18338.41],[1515280244870.34,18313.9],[1515280841266.9402,18346.4],[1515281434301.51,18382.72],[1515281993882.22,18340.63],[1515282643405.67,18343.66],[1515283244076.03,18319.47],[1515283838218.46,18296.45],[1515284443557.04,18193.68],[1515285026480.22,18158.78],[1515285627786.44,18158.47],[1515286212328.5798,18187.75],[1515286892354.38,18162.19],[1515287478908.35,18098.79],[1515288064725.06,17997.86],[1515288694801.07,18039.44],[1515289295078.64,18091.47],[1515289828627.77,18082.26],[1515290493591.74,18077.85],[1515291087677.8901,18031.28],[1515291666530.26,18001.7],[1515292250155.48,17978.32],[1515292890459.8,17977.34],[1515293488807.12,17932.34],[1515294107199.28,17921.95],[1515294705699.61,17898.64],[1515295301532.97,17890.98],[1515295896326.05,17830.54],[1515296498705.29,17782.88],[1515297104447.72,17810.16],[1515297705631.27,17820.45],[1515298282305.9001,17846.79],[1515298890702.26,17863.45],[1515299507362.61,17862.09],[1515300105332.0898,17820.55],[1515300709548.5798,17744.84],[1515301331438.96,17775.26],[1515301906003.57,17795.36],[1515302495596.21,17865.08],[1515303102879.76,17871.92],[1515303702721.8398,17826.7],[1515304284484.3499,17810.87],[1515304933436.97,17812.19],[1515305518252.11,17797.47],[1515306113220.87,17786.66],[1515306701034.75,17765.57],[1515307300578.8,17781.69],[1515307906698.06,17758.39],[1515308501384.22,17674.03],[1515309070169.3398,17693.13],[1515309719496.48,17708.13],[1515310288106.59,17733.21],[1515310915796.9602,17712.07],[1515311484876.28,17740.1],[1515312127214.65,17775.29],[1515312718309.31,17805.74],[1515313317322.63,17820.72],[1515313798000,17828.09]]\" data-vs-currency=\"usd\" data-vs-currency-symbol=\"$\" id=\"coin_portfolio_price_chart_btc\" style=\"height:400px;\">\\n</div>\\n'"
      ]
     },
     "execution_count": 13,
     "metadata": {},
     "output_type": "execute_result"
    }
   ],
   "source": [
    "price"
   ]
  },
  {
   "cell_type": "code",
   "execution_count": 35,
   "metadata": {
    "collapsed": true
   },
   "outputs": [],
   "source": [
    "import re\n",
    "m = re.search('(\\[\\[.*?\\]\\])', price)\n",
    "price_str = eval(m.group(1).replace('null', 'None'))"
   ]
  },
  {
   "cell_type": "code",
   "execution_count": 34,
   "metadata": {},
   "outputs": [
    {
     "data": {
      "text/plain": [
       "[[1515227134290.3298, 17947.0],\n",
       " [1515227723133.59, 17871.36],\n",
       " [1515228347773.77, 17861.98],\n",
       " [1515228945753.52, 17868.23],\n",
       " [1515229499509.76, 17813.38],\n",
       " [1515230110751.83, 17898.29],\n",
       " [1515230721597.24, 17871.81],\n",
       " [1515231347450.0598, 17816.3],\n",
       " [1515231921807.45, 17744.44],\n",
       " [1515232527995.92, 17663.01],\n",
       " [1515233135151.9102, 17662.05],\n",
       " [1515233728737.88, 17629.65],\n",
       " [1515234327124.39, 17734.72],\n",
       " [1515234932915.3901, 17814.82],\n",
       " [1515235547606.74, 17865.7],\n",
       " [1515236144717.16, 17951.74],\n",
       " [1515236740429.3499, 17917.82],\n",
       " [1515237335801.07, 17876.73],\n",
       " [1515237934691.54, 17923.99],\n",
       " [1515238540727.52, 17852.21],\n",
       " [1515239140524.62, 17793.96],\n",
       " [1515239720848.0698, 17754.46],\n",
       " [1515240339267.77, 17796.5],\n",
       " [1515240931853.82, 17796.17],\n",
       " [1515241514472.52, 17754.65],\n",
       " [1515242130458.67, 17696.23],\n",
       " [1515242743979.43, 17710.23],\n",
       " [1515243327843.56, 17689.0],\n",
       " [1515243930661.32, 17592.41],\n",
       " [1515244515543.2898, 17611.24],\n",
       " [1515245129360.73, 17600.96],\n",
       " [1515245725029.5999, 17589.89],\n",
       " [1515246339540.03, 17564.9],\n",
       " [1515246931264.17, 17552.8],\n",
       " [1515247544147.0698, 17528.57],\n",
       " [1515248138410.41, 17547.82],\n",
       " [1515248739995.08, 17636.2],\n",
       " [1515249330513.25, 17674.79],\n",
       " [1515249939856.19, 17708.76],\n",
       " [1515250548594.0198, 17690.81],\n",
       " [1515251143850.43, 17683.49],\n",
       " [1515251736685.94, 17663.97],\n",
       " [1515252322828.0, 17851.93],\n",
       " [1515252934277.2998, 17872.97],\n",
       " [1515253535763.8801, 17857.36],\n",
       " [1515254123416.48, 17897.67],\n",
       " [1515254697986.1501, 17863.34],\n",
       " [1515255346042.71, 17821.16],\n",
       " [1515255809626.56, 17836.76],\n",
       " [1515256225928.4202, 17845.26],\n",
       " [1515256748757.8699, 17852.28],\n",
       " [1515257307594.1702, 17969.43],\n",
       " [1515257946195.97, 18059.69],\n",
       " [1515258569556.68, 18086.89],\n",
       " [1515259127454.56, 18079.35],\n",
       " [1515259747947.13, 18040.24],\n",
       " [1515260339355.85, 18035.0],\n",
       " [1515260912209.34, 18061.33],\n",
       " [1515261578034.78, 18083.66],\n",
       " [1515262176801.44, 18125.93],\n",
       " [1515262772136.1, 18177.0],\n",
       " [1515263402486.1602, 18250.8],\n",
       " [1515263993206.36, 18165.29],\n",
       " [1515264617003.0, 18051.79],\n",
       " [1515265162746.74, 18059.89],\n",
       " [1515265816835.58, 18075.83],\n",
       " [1515266390710.37, 18043.91],\n",
       " [1515266982190.0999, 17976.36],\n",
       " [1515267612545.22, 18003.52],\n",
       " [1515268198850.79, 18000.59],\n",
       " [1515268811044.4, 17969.22],\n",
       " [1515269412113.1, 17961.41],\n",
       " [1515270017625.66, 17969.43],\n",
       " [1515270571857.03, 18034.32],\n",
       " [1515271206140.52, 18047.82],\n",
       " [1515271813315.95, 18103.65],\n",
       " [1515272394812.71, 18099.4],\n",
       " [1515273010937.8801, 18079.65],\n",
       " [1515273617206.73, 18068.33],\n",
       " [1515274211055.3801, 18048.06],\n",
       " [1515274786711.8198, 18059.45],\n",
       " [1515275412874.64, 18076.48],\n",
       " [1515275979544.6, 18100.21],\n",
       " [1515276606087.43, 18207.23],\n",
       " [1515277171043.04, 18364.71],\n",
       " [1515277827918.62, 18364.62],\n",
       " [1515278425072.64, 18305.55],\n",
       " [1515279040108.27, 18286.75],\n",
       " [1515279642731.08, 18338.41],\n",
       " [1515280244870.34, 18313.9],\n",
       " [1515280841266.9402, 18346.4],\n",
       " [1515281434301.51, 18382.72],\n",
       " [1515281993882.22, 18340.63],\n",
       " [1515282643405.67, 18343.66],\n",
       " [1515283244076.03, 18319.47],\n",
       " [1515283838218.46, 18296.45],\n",
       " [1515284443557.04, 18193.68],\n",
       " [1515285026480.22, 18158.78],\n",
       " [1515285627786.44, 18158.47],\n",
       " [1515286212328.5798, 18187.75],\n",
       " [1515286892354.38, 18162.19],\n",
       " [1515287478908.35, 18098.79],\n",
       " [1515288064725.06, 17997.86],\n",
       " [1515288694801.07, 18039.44],\n",
       " [1515289295078.64, 18091.47],\n",
       " [1515289828627.77, 18082.26],\n",
       " [1515290493591.74, 18077.85],\n",
       " [1515291087677.8901, 18031.28],\n",
       " [1515291666530.26, 18001.7],\n",
       " [1515292250155.48, 17978.32],\n",
       " [1515292890459.8, 17977.34],\n",
       " [1515293488807.12, 17932.34],\n",
       " [1515294107199.28, 17921.95],\n",
       " [1515294705699.61, 17898.64],\n",
       " [1515295301532.97, 17890.98],\n",
       " [1515295896326.05, 17830.54],\n",
       " [1515296498705.29, 17782.88],\n",
       " [1515297104447.72, 17810.16],\n",
       " [1515297705631.27, 17820.45],\n",
       " [1515298282305.9001, 17846.79],\n",
       " [1515298890702.26, 17863.45],\n",
       " [1515299507362.61, 17862.09],\n",
       " [1515300105332.0898, 17820.55],\n",
       " [1515300709548.5798, 17744.84],\n",
       " [1515301331438.96, 17775.26],\n",
       " [1515301906003.57, 17795.36],\n",
       " [1515302495596.21, 17865.08],\n",
       " [1515303102879.76, 17871.92],\n",
       " [1515303702721.8398, 17826.7],\n",
       " [1515304284484.3499, 17810.87],\n",
       " [1515304933436.97, 17812.19],\n",
       " [1515305518252.11, 17797.47],\n",
       " [1515306113220.87, 17786.66],\n",
       " [1515306701034.75, 17765.57],\n",
       " [1515307300578.8, 17781.69],\n",
       " [1515307906698.06, 17758.39],\n",
       " [1515308501384.22, 17674.03],\n",
       " [1515309070169.3398, 17693.13],\n",
       " [1515309719496.48, 17708.13],\n",
       " [1515310288106.59, 17733.21],\n",
       " [1515310915796.9602, 17712.07],\n",
       " [1515311484876.28, 17740.1],\n",
       " [1515312127214.65, 17775.29],\n",
       " [1515312718309.31, 17805.74],\n",
       " [1515313317322.63, 17820.72],\n",
       " [1515313798000, 17828.09]]"
      ]
     },
     "execution_count": 34,
     "metadata": {},
     "output_type": "execute_result"
    }
   ],
   "source": [
    "price_str"
   ]
  },
  {
   "cell_type": "code",
   "execution_count": 16,
   "metadata": {
    "collapsed": true
   },
   "outputs": [],
   "source": [
    "import pandas\n",
    "df = pandas.DataFrame(price_str)"
   ]
  },
  {
   "cell_type": "code",
   "execution_count": 17,
   "metadata": {},
   "outputs": [
    {
     "data": {
      "text/html": [
       "<div>\n",
       "<style>\n",
       "    .dataframe thead tr:only-child th {\n",
       "        text-align: right;\n",
       "    }\n",
       "\n",
       "    .dataframe thead th {\n",
       "        text-align: left;\n",
       "    }\n",
       "\n",
       "    .dataframe tbody tr th {\n",
       "        vertical-align: top;\n",
       "    }\n",
       "</style>\n",
       "<table border=\"1\" class=\"dataframe\">\n",
       "  <thead>\n",
       "    <tr style=\"text-align: right;\">\n",
       "      <th></th>\n",
       "      <th>0</th>\n",
       "      <th>1</th>\n",
       "    </tr>\n",
       "  </thead>\n",
       "  <tbody>\n",
       "    <tr>\n",
       "      <th>0</th>\n",
       "      <td>1.515227e+12</td>\n",
       "      <td>17947.00</td>\n",
       "    </tr>\n",
       "    <tr>\n",
       "      <th>1</th>\n",
       "      <td>1.515228e+12</td>\n",
       "      <td>17871.36</td>\n",
       "    </tr>\n",
       "    <tr>\n",
       "      <th>2</th>\n",
       "      <td>1.515228e+12</td>\n",
       "      <td>17861.98</td>\n",
       "    </tr>\n",
       "    <tr>\n",
       "      <th>3</th>\n",
       "      <td>1.515229e+12</td>\n",
       "      <td>17868.23</td>\n",
       "    </tr>\n",
       "    <tr>\n",
       "      <th>4</th>\n",
       "      <td>1.515229e+12</td>\n",
       "      <td>17813.38</td>\n",
       "    </tr>\n",
       "  </tbody>\n",
       "</table>\n",
       "</div>"
      ],
      "text/plain": [
       "              0         1\n",
       "0  1.515227e+12  17947.00\n",
       "1  1.515228e+12  17871.36\n",
       "2  1.515228e+12  17861.98\n",
       "3  1.515229e+12  17868.23\n",
       "4  1.515229e+12  17813.38"
      ]
     },
     "execution_count": 17,
     "metadata": {},
     "output_type": "execute_result"
    }
   ],
   "source": [
    "df.head()"
   ]
  },
  {
   "cell_type": "code",
   "execution_count": 18,
   "metadata": {
    "collapsed": true
   },
   "outputs": [],
   "source": [
    "df.columns = ['time', 'price']"
   ]
  },
  {
   "cell_type": "code",
   "execution_count": 20,
   "metadata": {},
   "outputs": [
    {
     "data": {
      "text/html": [
       "<div>\n",
       "<style>\n",
       "    .dataframe thead tr:only-child th {\n",
       "        text-align: right;\n",
       "    }\n",
       "\n",
       "    .dataframe thead th {\n",
       "        text-align: left;\n",
       "    }\n",
       "\n",
       "    .dataframe tbody tr th {\n",
       "        vertical-align: top;\n",
       "    }\n",
       "</style>\n",
       "<table border=\"1\" class=\"dataframe\">\n",
       "  <thead>\n",
       "    <tr style=\"text-align: right;\">\n",
       "      <th></th>\n",
       "      <th>time</th>\n",
       "      <th>price</th>\n",
       "    </tr>\n",
       "  </thead>\n",
       "  <tbody>\n",
       "    <tr>\n",
       "      <th>0</th>\n",
       "      <td>1.515227e+12</td>\n",
       "      <td>17947.00</td>\n",
       "    </tr>\n",
       "    <tr>\n",
       "      <th>1</th>\n",
       "      <td>1.515228e+12</td>\n",
       "      <td>17871.36</td>\n",
       "    </tr>\n",
       "    <tr>\n",
       "      <th>2</th>\n",
       "      <td>1.515228e+12</td>\n",
       "      <td>17861.98</td>\n",
       "    </tr>\n",
       "    <tr>\n",
       "      <th>3</th>\n",
       "      <td>1.515229e+12</td>\n",
       "      <td>17868.23</td>\n",
       "    </tr>\n",
       "    <tr>\n",
       "      <th>4</th>\n",
       "      <td>1.515229e+12</td>\n",
       "      <td>17813.38</td>\n",
       "    </tr>\n",
       "  </tbody>\n",
       "</table>\n",
       "</div>"
      ],
      "text/plain": [
       "           time     price\n",
       "0  1.515227e+12  17947.00\n",
       "1  1.515228e+12  17871.36\n",
       "2  1.515228e+12  17861.98\n",
       "3  1.515229e+12  17868.23\n",
       "4  1.515229e+12  17813.38"
      ]
     },
     "execution_count": 20,
     "metadata": {},
     "output_type": "execute_result"
    }
   ],
   "source": [
    "df.head()"
   ]
  },
  {
   "cell_type": "code",
   "execution_count": 22,
   "metadata": {},
   "outputs": [
    {
     "data": {
      "text/html": [
       "<div>\n",
       "<style>\n",
       "    .dataframe thead tr:only-child th {\n",
       "        text-align: right;\n",
       "    }\n",
       "\n",
       "    .dataframe thead th {\n",
       "        text-align: left;\n",
       "    }\n",
       "\n",
       "    .dataframe tbody tr th {\n",
       "        vertical-align: top;\n",
       "    }\n",
       "</style>\n",
       "<table border=\"1\" class=\"dataframe\">\n",
       "  <thead>\n",
       "    <tr style=\"text-align: right;\">\n",
       "      <th></th>\n",
       "      <th>time</th>\n",
       "      <th>price</th>\n",
       "    </tr>\n",
       "    <tr>\n",
       "      <th>time</th>\n",
       "      <th></th>\n",
       "      <th></th>\n",
       "    </tr>\n",
       "  </thead>\n",
       "  <tbody>\n",
       "    <tr>\n",
       "      <th>1.515227e+12</th>\n",
       "      <td>1.515227e+12</td>\n",
       "      <td>17947.00</td>\n",
       "    </tr>\n",
       "    <tr>\n",
       "      <th>1.515228e+12</th>\n",
       "      <td>1.515228e+12</td>\n",
       "      <td>17871.36</td>\n",
       "    </tr>\n",
       "    <tr>\n",
       "      <th>1.515228e+12</th>\n",
       "      <td>1.515228e+12</td>\n",
       "      <td>17861.98</td>\n",
       "    </tr>\n",
       "    <tr>\n",
       "      <th>1.515229e+12</th>\n",
       "      <td>1.515229e+12</td>\n",
       "      <td>17868.23</td>\n",
       "    </tr>\n",
       "    <tr>\n",
       "      <th>1.515229e+12</th>\n",
       "      <td>1.515229e+12</td>\n",
       "      <td>17813.38</td>\n",
       "    </tr>\n",
       "  </tbody>\n",
       "</table>\n",
       "</div>"
      ],
      "text/plain": [
       "                      time     price\n",
       "time                                \n",
       "1.515227e+12  1.515227e+12  17947.00\n",
       "1.515228e+12  1.515228e+12  17871.36\n",
       "1.515228e+12  1.515228e+12  17861.98\n",
       "1.515229e+12  1.515229e+12  17868.23\n",
       "1.515229e+12  1.515229e+12  17813.38"
      ]
     },
     "execution_count": 22,
     "metadata": {},
     "output_type": "execute_result"
    }
   ],
   "source": [
    "df.index= df['time']\n",
    "df.head()"
   ]
  },
  {
   "cell_type": "code",
   "execution_count": 23,
   "metadata": {},
   "outputs": [
    {
     "data": {
      "text/plain": [
       "count      146.000000\n",
       "mean     17921.210342\n",
       "std        202.347881\n",
       "min      17528.570000\n",
       "25%      17783.825000\n",
       "50%      17871.865000\n",
       "75%      18060.970000\n",
       "max      18382.720000\n",
       "Name: price, dtype: float64"
      ]
     },
     "execution_count": 23,
     "metadata": {},
     "output_type": "execute_result"
    }
   ],
   "source": [
    "df['price'].describe()"
   ]
  },
  {
   "cell_type": "code",
   "execution_count": 36,
   "metadata": {},
   "outputs": [
    {
     "name": "stdout",
     "output_type": "stream",
     "text": [
      "Populating the interactive namespace from numpy and matplotlib\n"
     ]
    },
    {
     "data": {
      "text/plain": [
       "<matplotlib.axes._subplots.AxesSubplot at 0xc5e1c88>"
      ]
     },
     "execution_count": 36,
     "metadata": {},
     "output_type": "execute_result"
    },
    {
     "data": {
      "image/png": "[encoded data removed]",
      "text/plain": [
       "<matplotlib.figure.Figure at 0x93ec710>"
      ]
     },
     "metadata": {},
     "output_type": "display_data"
    }
   ],
   "source": [
    "%pylab inline\n",
    "df[['price']].plot(kind = 'line')"
   ]
  },
  {
   "cell_type": "code",
   "execution_count": 37,
   "metadata": {
    "collapsed": true
   },
   "outputs": [],
   "source": [
    "df['mvg'] =  df['price'].rolling(window = 30).mean()"
   ]
  },
  {
   "cell_type": "code",
   "execution_count": 35,
   "metadata": {},
   "outputs": [
    {
     "data": {
      "text/plain": [
       "<matplotlib.axes._subplots.AxesSubplot at 0xbb49b70>"
      ]
     },
     "execution_count": 35,
     "metadata": {},
     "output_type": "execute_result"
    },
    {
     "data": {
      "image/png": "[encoded data removed]",
      "text/plain": [
       "<matplotlib.figure.Figure at 0xbe17978>"
      ]
     },
     "metadata": {},
     "output_type": "display_data"
    }
   ],
   "source": [
    "df[['mvg', 'price']].plot(kind = 'line')"
   ]
  },
  {
   "cell_type": "markdown",
   "metadata": {},
   "source": [
    "## 語音辨識"
   ]
  },
  {
   "cell_type": "code",
   "execution_count": 40,
   "metadata": {},
   "outputs": [
    {
     "ename": "ModuleNotFoundError",
     "evalue": "No module named 'speech_recognition'",
     "output_type": "error",
     "traceback": [
      "\u001b[1;31m---------------------------------------------------------------------------\u001b[0m",
      "\u001b[1;31mModuleNotFoundError\u001b[0m                       Traceback (most recent call last)",
      "\u001b[1;32m<ipython-input-40-444cb3bb94ee>\u001b[0m in \u001b[0;36m<module>\u001b[1;34m()\u001b[0m\n\u001b[1;32m----> 1\u001b[1;33m \u001b[1;32mimport\u001b[0m \u001b[0mspeech_recognition\u001b[0m\u001b[1;33m\u001b[0m\u001b[0m\n\u001b[0m\u001b[0;32m      2\u001b[0m \u001b[0mr\u001b[0m \u001b[1;33m=\u001b[0m \u001b[0mspeech_recognition\u001b[0m\u001b[1;33m.\u001b[0m\u001b[0mRecognizer\u001b[0m\u001b[1;33m(\u001b[0m\u001b[1;33m)\u001b[0m\u001b[1;33m\u001b[0m\u001b[0m\n\u001b[0;32m      3\u001b[0m \u001b[1;33m\u001b[0m\u001b[0m\n\u001b[0;32m      4\u001b[0m \u001b[1;32mwith\u001b[0m \u001b[0mspeech_recognition\u001b[0m\u001b[1;33m.\u001b[0m\u001b[0mMicrophone\u001b[0m\u001b[1;33m(\u001b[0m\u001b[1;33m)\u001b[0m \u001b[1;32mas\u001b[0m \u001b[0msource\u001b[0m\u001b[1;33m:\u001b[0m\u001b[1;33m\u001b[0m\u001b[0m\n\u001b[0;32m      5\u001b[0m     \u001b[0mr\u001b[0m\u001b[1;33m.\u001b[0m\u001b[0madjust_for_ambient_noise\u001b[0m\u001b[1;33m(\u001b[0m\u001b[0msource\u001b[0m\u001b[1;33m)\u001b[0m\u001b[1;33m\u001b[0m\u001b[0m\n",
      "\u001b[1;31mModuleNotFoundError\u001b[0m: No module named 'speech_recognition'"
     ]
    }
   ],
   "source": [
    "import speech_recognition\n",
    "r = speech_recognition.Recognizer()\n",
    "\n",
    "with speech_recognition.Microphone() as source:\n",
    "    r.adjust_for_ambient_noise(source)\n",
    "    audio = r.listen(source)"
   ]
  },
  {
   "cell_type": "code",
   "execution_count": 41,
   "metadata": {},
   "outputs": [
    {
     "ename": "NameError",
     "evalue": "name 'r' is not defined",
     "output_type": "error",
     "traceback": [
      "\u001b[1;31m---------------------------------------------------------------------------\u001b[0m",
      "\u001b[1;31mNameError\u001b[0m                                 Traceback (most recent call last)",
      "\u001b[1;32m<ipython-input-41-aac4118959f8>\u001b[0m in \u001b[0;36m<module>\u001b[1;34m()\u001b[0m\n\u001b[1;32m----> 1\u001b[1;33m \u001b[0mr\u001b[0m\u001b[1;33m.\u001b[0m\u001b[0mrecognize_google\u001b[0m\u001b[1;33m(\u001b[0m\u001b[0maudio\u001b[0m\u001b[1;33m,\u001b[0m \u001b[0mlanguage\u001b[0m\u001b[1;33m=\u001b[0m\u001b[1;34m'zh-TW'\u001b[0m\u001b[1;33m)\u001b[0m\u001b[1;33m\u001b[0m\u001b[0m\n\u001b[0m",
      "\u001b[1;31mNameError\u001b[0m: name 'r' is not defined"
     ]
    }
   ],
   "source": [
    "r.recognize_google(audio, language='zh-TW')"
   ]
  },
  {
   "cell_type": "markdown",
   "metadata": {},
   "source": [
    "## 讓電腦說話"
   ]
  },
  {
   "cell_type": "code",
   "execution_count": 42,
   "metadata": {},
   "outputs": [
    {
     "name": "stdout",
     "output_type": "stream",
     "text": [
      "Collecting gTTS\n",
      "Requirement already satisfied: six in c:\\users\\user\\anaconda3\\lib\\site-packages (from gTTS)\n",
      "Collecting gtts-token (from gTTS)\n",
      "Requirement already satisfied: requests in c:\\users\\user\\anaconda3\\lib\\site-packages (from gTTS)\n",
      "Requirement already satisfied: chardet<3.1.0,>=3.0.2 in c:\\users\\user\\anaconda3\\lib\\site-packages (from requests->gTTS)\n",
      "Requirement already satisfied: idna<2.7,>=2.5 in c:\\users\\user\\anaconda3\\lib\\site-packages (from requests->gTTS)\n",
      "Requirement already satisfied: urllib3<1.23,>=1.21.1 in c:\\users\\user\\anaconda3\\lib\\site-packages (from requests->gTTS)\n",
      "Requirement already satisfied: certifi>=2017.4.17 in c:\\users\\user\\anaconda3\\lib\\site-packages (from requests->gTTS)\n",
      "Installing collected packages: gtts-token, gTTS\n",
      "Successfully installed gTTS-1.2.2 gtts-token-1.1.1\n"
     ]
    }
   ],
   "source": [
    "! pip install gTTS"
   ]
  },
  {
   "cell_type": "code",
   "execution_count": 43,
   "metadata": {},
   "outputs": [
    {
     "name": "stdout",
     "output_type": "stream",
     "text": [
      "Collecting pygame\n",
      "  Using cached pygame-1.9.3-cp36-cp36m-win_amd64.whl\n",
      "Installing collected packages: pygame\n",
      "Successfully installed pygame-1.9.3\n"
     ]
    }
   ],
   "source": [
    "! pip install pygame"
   ]
  },
  {
   "cell_type": "code",
   "execution_count": 44,
   "metadata": {},
   "outputs": [
    {
     "name": "stdout",
     "output_type": "stream",
     "text": [
      "Collecting tempfile\n"
     ]
    },
    {
     "name": "stderr",
     "output_type": "stream",
     "text": [
      "  Could not find a version that satisfies the requirement tempfile (from versions: )\n",
      "No matching distribution found for tempfile\n"
     ]
    }
   ],
   "source": [
    "! pip install tempfile"
   ]
  },
  {
   "cell_type": "code",
   "execution_count": 45,
   "metadata": {
    "collapsed": true
   },
   "outputs": [],
   "source": [
    "from gtts import gTTS\n",
    "from pygame import mixer\n",
    "import tempfile\n",
    "\n",
    "from pygame import mixer\n",
    "mixer.init()\n",
    "def speak(sentence):\n",
    "    with tempfile.NamedTemporaryFile(delete=True) as fp:\n",
    "        tts = gTTS(text=sentence, lang='zh')\n",
    "        tts.save(\"{}.mp3\".format(fp.name))\n",
    "        mixer.music.load('{}.mp3'.format(fp.name))\n",
    "        mixer.music.play()"
   ]
  },
  {
   "cell_type": "code",
   "execution_count": 47,
   "metadata": {
    "collapsed": true
   },
   "outputs": [],
   "source": [
    "speak('九四八七九四狂')"
   ]
  },
  {
   "cell_type": "markdown",
   "metadata": {},
   "source": [
    "## Python 數值運算"
   ]
  },
  {
   "cell_type": "code",
   "execution_count": 18,
   "metadata": {},
   "outputs": [
    {
     "data": {
      "text/plain": [
       "19"
      ]
     },
     "execution_count": 18,
     "metadata": {},
     "output_type": "execute_result"
    }
   ],
   "source": [
    "3+2*8"
   ]
  },
  {
   "cell_type": "code",
   "execution_count": 19,
   "metadata": {
    "collapsed": true
   },
   "outputs": [],
   "source": [
    "# int a = 3\n",
    "a = 3\n",
    "b = 2"
   ]
  },
  {
   "cell_type": "code",
   "execution_count": 20,
   "metadata": {},
   "outputs": [
    {
     "data": {
      "text/plain": [
       "5"
      ]
     },
     "execution_count": 20,
     "metadata": {},
     "output_type": "execute_result"
    }
   ],
   "source": [
    "a + b "
   ]
  },
  {
   "cell_type": "code",
   "execution_count": 21,
   "metadata": {},
   "outputs": [
    {
     "data": {
      "text/plain": [
       "1"
      ]
     },
     "execution_count": 21,
     "metadata": {},
     "output_type": "execute_result"
    }
   ],
   "source": [
    "a - b "
   ]
  },
  {
   "cell_type": "code",
   "execution_count": 22,
   "metadata": {},
   "outputs": [
    {
     "data": {
      "text/plain": [
       "1.0"
      ]
     },
     "execution_count": 22,
     "metadata": {},
     "output_type": "execute_result"
    }
   ],
   "source": [
    "c = 2.5\n",
    "d = 1.5\n",
    "c + d\n",
    "c - d"
   ]
  },
  {
   "cell_type": "code",
   "execution_count": 23,
   "metadata": {},
   "outputs": [
    {
     "name": "stdout",
     "output_type": "stream",
     "text": [
      "4.0\n",
      "1.0\n"
     ]
    }
   ],
   "source": [
    "print(c + d)\n",
    "print(c - d)"
   ]
  },
  {
   "cell_type": "code",
   "execution_count": 24,
   "metadata": {},
   "outputs": [
    {
     "data": {
      "text/plain": [
       "5"
      ]
     },
     "execution_count": 24,
     "metadata": {},
     "output_type": "execute_result"
    }
   ],
   "source": [
    "3 + 2"
   ]
  },
  {
   "cell_type": "code",
   "execution_count": 16,
   "metadata": {},
   "outputs": [
    {
     "ename": "TypeError",
     "evalue": "must be str, not int",
     "output_type": "error",
     "traceback": [
      "\u001b[0;31m---------------------------------------------------------------------------\u001b[0m",
      "\u001b[0;31mTypeError\u001b[0m                                 Traceback (most recent call last)",
      "\u001b[0;32m<ipython-input-16-5d776413ef1b>\u001b[0m in \u001b[0;36m<module>\u001b[0;34m()\u001b[0m\n\u001b[0;32m----> 1\u001b[0;31m \u001b[1;34m'3'\u001b[0m \u001b[1;33m+\u001b[0m \u001b[1;36m2\u001b[0m\u001b[1;33m\u001b[0m\u001b[0m\n\u001b[0m",
      "\u001b[0;31mTypeError\u001b[0m: must be str, not int"
     ]
    }
   ],
   "source": [
    "'3' + 2"
   ]
  },
  {
   "cell_type": "code",
   "execution_count": 17,
   "metadata": {},
   "outputs": [
    {
     "data": {
      "text/plain": [
       "str"
      ]
     },
     "execution_count": 17,
     "metadata": {},
     "output_type": "execute_result"
    }
   ],
   "source": [
    "type('3')"
   ]
  },
  {
   "cell_type": "code",
   "execution_count": 18,
   "metadata": {},
   "outputs": [
    {
     "data": {
      "text/plain": [
       "int"
      ]
     },
     "execution_count": 18,
     "metadata": {},
     "output_type": "execute_result"
    }
   ],
   "source": [
    "type(2)"
   ]
  },
  {
   "cell_type": "code",
   "execution_count": 19,
   "metadata": {
    "collapsed": true
   },
   "outputs": [],
   "source": [
    "a = 5"
   ]
  },
  {
   "cell_type": "code",
   "execution_count": 21,
   "metadata": {},
   "outputs": [
    {
     "data": {
      "text/plain": [
       "5"
      ]
     },
     "execution_count": 21,
     "metadata": {},
     "output_type": "execute_result"
    }
   ],
   "source": [
    "a"
   ]
  },
  {
   "cell_type": "code",
   "execution_count": 22,
   "metadata": {},
   "outputs": [
    {
     "data": {
      "text/plain": [
       "10"
      ]
     },
     "execution_count": 22,
     "metadata": {},
     "output_type": "execute_result"
    }
   ],
   "source": [
    "a + a"
   ]
  },
  {
   "cell_type": "code",
   "execution_count": 23,
   "metadata": {
    "collapsed": true
   },
   "outputs": [],
   "source": [
    "a = 10"
   ]
  },
  {
   "cell_type": "code",
   "execution_count": 24,
   "metadata": {},
   "outputs": [
    {
     "data": {
      "text/plain": [
       "10"
      ]
     },
     "execution_count": 24,
     "metadata": {},
     "output_type": "execute_result"
    }
   ],
   "source": [
    "a"
   ]
  },
  {
   "cell_type": "code",
   "execution_count": 25,
   "metadata": {
    "collapsed": true
   },
   "outputs": [],
   "source": [
    "a = a + a"
   ]
  },
  {
   "cell_type": "code",
   "execution_count": 26,
   "metadata": {},
   "outputs": [
    {
     "data": {
      "text/plain": [
       "20"
      ]
     },
     "execution_count": 26,
     "metadata": {},
     "output_type": "execute_result"
    }
   ],
   "source": [
    "a"
   ]
  },
  {
   "cell_type": "code",
   "execution_count": 27,
   "metadata": {
    "collapsed": true
   },
   "outputs": [],
   "source": [
    "price = 25.6\n",
    "exchange_rate = 32.33"
   ]
  },
  {
   "cell_type": "code",
   "execution_count": 28,
   "metadata": {
    "collapsed": true
   },
   "outputs": [],
   "source": [
    "ntd_price = price * exchange_rate"
   ]
  },
  {
   "cell_type": "code",
   "execution_count": 29,
   "metadata": {},
   "outputs": [
    {
     "data": {
      "text/plain": [
       "827.648"
      ]
     },
     "execution_count": 29,
     "metadata": {},
     "output_type": "execute_result"
    }
   ],
   "source": [
    "ntd_price"
   ]
  },
  {
   "cell_type": "markdown",
   "metadata": {},
   "source": [
    "## 字串處理"
   ]
  },
  {
   "cell_type": "code",
   "execution_count": 30,
   "metadata": {},
   "outputs": [
    {
     "data": {
      "text/plain": [
       "'this is a book'"
      ]
     },
     "execution_count": 30,
     "metadata": {},
     "output_type": "execute_result"
    }
   ],
   "source": [
    "a = 'this is a book'\n",
    "a"
   ]
  },
  {
   "cell_type": "code",
   "execution_count": 32,
   "metadata": {},
   "outputs": [
    {
     "data": {
      "text/plain": [
       "str"
      ]
     },
     "execution_count": 32,
     "metadata": {},
     "output_type": "execute_result"
    }
   ],
   "source": [
    "type(a)"
   ]
  },
  {
   "cell_type": "code",
   "execution_count": 31,
   "metadata": {},
   "outputs": [
    {
     "data": {
      "text/plain": [
       "'thisi is also a book'"
      ]
     },
     "execution_count": 31,
     "metadata": {},
     "output_type": "execute_result"
    }
   ],
   "source": [
    "b = \"this is also a book\"\n",
    "b"
   ]
  },
  {
   "cell_type": "code",
   "execution_count": 33,
   "metadata": {},
   "outputs": [
    {
     "data": {
      "text/plain": [
       "str"
      ]
     },
     "execution_count": 33,
     "metadata": {},
     "output_type": "execute_result"
    }
   ],
   "source": [
    "type(b)"
   ]
  },
  {
   "cell_type": "code",
   "execution_count": 34,
   "metadata": {},
   "outputs": [
    {
     "ename": "SyntaxError",
     "evalue": "invalid syntax (<ipython-input-34-dc0f0b7e45c6>, line 1)",
     "output_type": "error",
     "traceback": [
      "\u001b[0;36m  File \u001b[0;32m\"<ipython-input-34-dc0f0b7e45c6>\"\u001b[0;36m, line \u001b[0;32m1\u001b[0m\n\u001b[0;31m    s = 'i'm twenty years old'\u001b[0m\n\u001b[0m           ^\u001b[0m\n\u001b[0;31mSyntaxError\u001b[0m\u001b[0;31m:\u001b[0m invalid syntax\n"
     ]
    }
   ],
   "source": [
    "s = 'i'm twenty years old'\n",
    "s"
   ]
  },
  {
   "cell_type": "code",
   "execution_count": 35,
   "metadata": {},
   "outputs": [
    {
     "data": {
      "text/plain": [
       "\"i'm twenty years old\""
      ]
     },
     "execution_count": 35,
     "metadata": {},
     "output_type": "execute_result"
    }
   ],
   "source": [
    "s = \"i'm twenty years old\"\n",
    "s"
   ]
  },
  {
   "cell_type": "code",
   "execution_count": 36,
   "metadata": {},
   "outputs": [
    {
     "data": {
      "text/plain": [
       "'Hello World'"
      ]
     },
     "execution_count": 36,
     "metadata": {},
     "output_type": "execute_result"
    }
   ],
   "source": [
    "'Hello World'"
   ]
  },
  {
   "cell_type": "code",
   "execution_count": 37,
   "metadata": {},
   "outputs": [
    {
     "name": "stdout",
     "output_type": "stream",
     "text": [
      "Hello World\n"
     ]
    }
   ],
   "source": [
    "print('Hello World')"
   ]
  },
  {
   "cell_type": "code",
   "execution_count": 25,
   "metadata": {},
   "outputs": [
    {
     "name": "stdout",
     "output_type": "stream",
     "text": [
      "寳寶心理苦 但寳寶不說\n",
      "hello there\n",
      "\n",
      "\n",
      "this is the end\n"
     ]
    }
   ],
   "source": [
    "print('寳寶心理苦 但寳寶不說')\n",
    "print('hello there')\n",
    "print('\\n')\n",
    "print('this is the end')"
   ]
  },
  {
   "cell_type": "code",
   "execution_count": 42,
   "metadata": {},
   "outputs": [
    {
     "name": "stdout",
     "output_type": "stream",
     "text": [
      "this is the first line this is the second line\n"
     ]
    }
   ],
   "source": [
    "print('this is the first line this is the second line')"
   ]
  },
  {
   "cell_type": "code",
   "execution_count": 43,
   "metadata": {},
   "outputs": [
    {
     "name": "stdout",
     "output_type": "stream",
     "text": [
      "this is the first line\n",
      "this is the second line\n"
     ]
    }
   ],
   "source": [
    "print('this is the first line\\nthis is the second line')"
   ]
  },
  {
   "cell_type": "code",
   "execution_count": 44,
   "metadata": {},
   "outputs": [
    {
     "name": "stdout",
     "output_type": "stream",
     "text": [
      "col1 col2 col3\n",
      "100 10000 1000\n",
      "99 1000 2000\n"
     ]
    }
   ],
   "source": [
    "print('col1 col2 col3\\n100 10000 1000\\n99 1000 2000')"
   ]
  },
  {
   "cell_type": "code",
   "execution_count": 45,
   "metadata": {},
   "outputs": [
    {
     "name": "stdout",
     "output_type": "stream",
     "text": [
      "col1\tcol2\tcol3\n",
      "100\t10000\t1000\n",
      "99\t1000\t2000\n"
     ]
    }
   ],
   "source": [
    "print('col1\\tcol2\\tcol3\\n100\\t10000\\t1000\\n99\\t1000\\t2000')"
   ]
  },
  {
   "cell_type": "code",
   "execution_count": 46,
   "metadata": {},
   "outputs": [
    {
     "data": {
      "text/plain": [
       "'this is a looooooooooooooooooooooooooooong  teeeeeeeeeeeeeeeext'"
      ]
     },
     "execution_count": 46,
     "metadata": {},
     "output_type": "execute_result"
    }
   ],
   "source": [
    "a = 'this is a looooooooooooooooooooooooooooong  teeeeeeeeeeeeeeeext'\n",
    "a"
   ]
  },
  {
   "cell_type": "code",
   "execution_count": 48,
   "metadata": {},
   "outputs": [
    {
     "data": {
      "text/plain": [
       "'this is a looooooooooooooooooooooooooooong  teeeeeeeeeeeeeeeext'"
      ]
     },
     "execution_count": 48,
     "metadata": {},
     "output_type": "execute_result"
    }
   ],
   "source": [
    "a = 'this is a \\\n",
    "looooooooooooooooooooooooooooong  \\\n",
    "teeeeeeeeeeeeeeeext'\n",
    "a"
   ]
  },
  {
   "cell_type": "code",
   "execution_count": 27,
   "metadata": {},
   "outputs": [
    {
     "data": {
      "text/plain": [
       "'\\n北韓今日發布最新集會系列照片，有許多民眾聚集平壤廣場，抗議聯合國與美國制裁北韓，北韓官方更稱在這短短3日內，已經有將近350萬人報名從軍，打倒美帝。\\n據北韓官媒《勞動新聞》報導，北韓人民為了為己的自主權與生存權，對於聯合國的無理制裁相當憤怒，更對「美帝」的戰爭狂妄非常「有感」，因此許多北韓人決定「千百倍奉還」。報導更稱，在這短短的3天內，就有347.5萬人報名從軍，準備打倒美帝。\\n今日稍早美國總統川普則再度對北韓警告，稱美國的軍事武裝皆已準備好，「隨時上膛」。（施旖婕／綜合外電報導）\\n'"
      ]
     },
     "execution_count": 27,
     "metadata": {},
     "output_type": "execute_result"
    }
   ],
   "source": [
    "article99='''\n",
    "北韓今日發布最新集會系列照片，有許多民眾聚集平壤廣場，抗議聯合國與美國制裁北韓，北韓官方更稱在這短短3日內，已經有將近350萬人報名從軍，打倒美帝。\n",
    "據北韓官媒《勞動新聞》報導，北韓人民為了為己的自主權與生存權，對於聯合國的無理制裁相當憤怒，更對「美帝」的戰爭狂妄非常「有感」，因此許多北韓人決定「千百倍奉還」。報導更稱，在這短短的3天內，就有347.5萬人報名從軍，準備打倒美帝。\n",
    "今日稍早美國總統川普則再度對北韓警告，稱美國的軍事武裝皆已準備好，「隨時上膛」。（施旖婕／綜合外電報導）\n",
    "'''\n",
    "article99"
   ]
  },
  {
   "cell_type": "code",
   "execution_count": 50,
   "metadata": {},
   "outputs": [
    {
     "data": {
      "text/plain": [
       "'\\n北韓今日發布最新集會系列照片，有許多民眾聚集平壤廣場，抗議聯合國與美國制裁北韓，北韓官方更稱在這短短3日內，已經有將近350萬人報名從軍，打倒美帝。\\n據北韓官媒《勞動新聞》報導，北韓人民為了為己的自主權與生存權，對於聯合國的無理制裁相當憤怒，更對「美帝」的戰爭狂妄非常「有感」，因此許多北韓人決定「千百倍奉還」。報導更稱，在這短短的3天內，就有347.5萬人報名從軍，準備打倒美帝。\\n今日稍早美國總統川普則再度對北韓警告，稱美國的軍事武裝皆已準備好，「隨時上膛」。（施旖婕／綜合外電報導）\\n'"
      ]
     },
     "execution_count": 50,
     "metadata": {},
     "output_type": "execute_result"
    }
   ],
   "source": [
    "article = '''\n",
    "北韓今日發布最新集會系列照片，有許多民眾聚集平壤廣場，抗議聯合國與美國制裁北韓，北韓官方更稱在這短短3日內，已經有將近350萬人報名從軍，打倒美帝。\n",
    "據北韓官媒《勞動新聞》報導，北韓人民為了為己的自主權與生存權，對於聯合國的無理制裁相當憤怒，更對「美帝」的戰爭狂妄非常「有感」，因此許多北韓人決定「千百倍奉還」。報導更稱，在這短短的3天內，就有347.5萬人報名從軍，準備打倒美帝。\n",
    "今日稍早美國總統川普則再度對北韓警告，稱美國的軍事武裝皆已準備好，「隨時上膛」。（施旖婕／綜合外電報導）\n",
    "'''\n",
    "article"
   ]
  },
  {
   "cell_type": "code",
   "execution_count": 54,
   "metadata": {},
   "outputs": [
    {
     "name": "stdout",
     "output_type": "stream",
     "text": [
      "H\n",
      "e\n",
      "o\n",
      "l\n"
     ]
    }
   ],
   "source": [
    "s = 'Hello'\n",
    "print(s[0])\n",
    "print(s[1])\n",
    "print(s[-1])\n",
    "print(s[-2])"
   ]
  },
  {
   "cell_type": "code",
   "execution_count": 56,
   "metadata": {},
   "outputs": [
    {
     "name": "stdout",
     "output_type": "stream",
     "text": [
      "寳\n",
      "說\n"
     ]
    }
   ],
   "source": [
    "s = '寳寶心理苦 但寳寶不說'\n",
    "print(s[0])\n",
    "print(s[-1])"
   ]
  },
  {
   "cell_type": "code",
   "execution_count": 60,
   "metadata": {},
   "outputs": [
    {
     "name": "stdout",
     "output_type": "stream",
     "text": [
      "寶心理苦 但寳寶不說\n",
      "寳寶心\n",
      "寳寶心理苦 但寳寶不說\n"
     ]
    }
   ],
   "source": [
    "s = '寳寶心理苦 但寳寶不說'\n",
    "print(s[ 1 : ])\n",
    "print(s[ : 3])\n",
    "print(s[:])"
   ]
  },
  {
   "cell_type": "code",
   "execution_count": 59,
   "metadata": {},
   "outputs": [
    {
     "data": {
      "text/plain": [
       "'新聞'"
      ]
     },
     "execution_count": 59,
     "metadata": {},
     "output_type": "execute_result"
    }
   ],
   "source": [
    "news = '[新聞] 瞧不起蔡英文 切割民進黨?柯文哲嗆姚立明'\n",
    "news[1:3]"
   ]
  },
  {
   "cell_type": "code",
   "execution_count": 63,
   "metadata": {},
   "outputs": [
    {
     "name": "stdout",
     "output_type": "stream",
     "text": [
      "寳寶心理苦 但寳寶不說\n",
      "寳寶心理苦 但寳寶不說\n"
     ]
    }
   ],
   "source": [
    "# for(i = 0 ; i< len(s); i++)\n",
    "s = '寳寶心理苦 但寳寶不說'\n",
    "print(s[ 0 : len(s) : 1 ])\n",
    "print(s[::1])"
   ]
  },
  {
   "cell_type": "code",
   "execution_count": 64,
   "metadata": {},
   "outputs": [
    {
     "name": "stdout",
     "output_type": "stream",
     "text": [
      "寳心苦但寶說\n",
      "寳心苦但寶說\n"
     ]
    }
   ],
   "source": [
    "# for(i = 0 ; i< len(s); i+=2)\n",
    "s = '寳寶心理苦 但寳寶不說'\n",
    "print(s[ 0 : len(s) : 2 ])\n",
    "print(s[::2])"
   ]
  },
  {
   "cell_type": "code",
   "execution_count": 65,
   "metadata": {},
   "outputs": [
    {
     "name": "stdout",
     "output_type": "stream",
     "text": [
      "說不寶寳但 苦理心寶寳\n"
     ]
    }
   ],
   "source": [
    "#for(i = len(s) ; i > 0; i -- )\n",
    "print(s[::-1])"
   ]
  },
  {
   "cell_type": "code",
   "execution_count": 70,
   "metadata": {},
   "outputs": [
    {
     "data": {
      "text/plain": [
       "True"
      ]
     },
     "execution_count": 70,
     "metadata": {},
     "output_type": "execute_result"
    }
   ],
   "source": [
    "s = '上海自來水來自海上'\n",
    "s[::] == s[::-1]"
   ]
  },
  {
   "cell_type": "code",
   "execution_count": 71,
   "metadata": {},
   "outputs": [
    {
     "data": {
      "text/plain": [
       "'this is a sentenceconcat me'"
      ]
     },
     "execution_count": 71,
     "metadata": {},
     "output_type": "execute_result"
    }
   ],
   "source": [
    "s1 = 'this is a sentence'\n",
    "s2 = 'concat me'\n",
    "s1 + s2"
   ]
  },
  {
   "cell_type": "code",
   "execution_count": 72,
   "metadata": {},
   "outputs": [
    {
     "data": {
      "text/plain": [
       "'??????????'"
      ]
     },
     "execution_count": 72,
     "metadata": {},
     "output_type": "execute_result"
    }
   ],
   "source": [
    "letter = '?'\n",
    "letter * 10"
   ]
  },
  {
   "cell_type": "code",
   "execution_count": 28,
   "metadata": {},
   "outputs": [
    {
     "name": "stdout",
     "output_type": "stream",
     "text": [
      "I LOVE THIS BOOK\n",
      "i love this book\n",
      "I Love This Book\n",
      "['I', 'love', 'this', 'book']\n",
      "<class 'list'>\n"
     ]
    }
   ],
   "source": [
    "s = 'I love this book'\n",
    "print(s.upper())\n",
    "print(s.lower())\n",
    "print(s.title())\n",
    "print(s.split())\n",
    "print(type(s.split()))"
   ]
  },
  {
   "cell_type": "code",
   "execution_count": 77,
   "metadata": {},
   "outputs": [
    {
     "data": {
      "text/plain": [
       "['__add__',\n",
       " '__class__',\n",
       " '__contains__',\n",
       " '__delattr__',\n",
       " '__dir__',\n",
       " '__doc__',\n",
       " '__eq__',\n",
       " '__format__',\n",
       " '__ge__',\n",
       " '__getattribute__',\n",
       " '__getitem__',\n",
       " '__getnewargs__',\n",
       " '__gt__',\n",
       " '__hash__',\n",
       " '__init__',\n",
       " '__init_subclass__',\n",
       " '__iter__',\n",
       " '__le__',\n",
       " '__len__',\n",
       " '__lt__',\n",
       " '__mod__',\n",
       " '__mul__',\n",
       " '__ne__',\n",
       " '__new__',\n",
       " '__reduce__',\n",
       " '__reduce_ex__',\n",
       " '__repr__',\n",
       " '__rmod__',\n",
       " '__rmul__',\n",
       " '__setattr__',\n",
       " '__sizeof__',\n",
       " '__str__',\n",
       " '__subclasshook__',\n",
       " 'capitalize',\n",
       " 'casefold',\n",
       " 'center',\n",
       " 'count',\n",
       " 'encode',\n",
       " 'endswith',\n",
       " 'expandtabs',\n",
       " 'find',\n",
       " 'format',\n",
       " 'format_map',\n",
       " 'index',\n",
       " 'isalnum',\n",
       " 'isalpha',\n",
       " 'isdecimal',\n",
       " 'isdigit',\n",
       " 'isidentifier',\n",
       " 'islower',\n",
       " 'isnumeric',\n",
       " 'isprintable',\n",
       " 'isspace',\n",
       " 'istitle',\n",
       " 'isupper',\n",
       " 'join',\n",
       " 'ljust',\n",
       " 'lower',\n",
       " 'lstrip',\n",
       " 'maketrans',\n",
       " 'partition',\n",
       " 'replace',\n",
       " 'rfind',\n",
       " 'rindex',\n",
       " 'rjust',\n",
       " 'rpartition',\n",
       " 'rsplit',\n",
       " 'rstrip',\n",
       " 'split',\n",
       " 'splitlines',\n",
       " 'startswith',\n",
       " 'strip',\n",
       " 'swapcase',\n",
       " 'title',\n",
       " 'translate',\n",
       " 'upper',\n",
       " 'zfill']"
      ]
     },
     "execution_count": 77,
     "metadata": {},
     "output_type": "execute_result"
    }
   ],
   "source": [
    "dir(s)"
   ]
  },
  {
   "cell_type": "code",
   "execution_count": 78,
   "metadata": {},
   "outputs": [
    {
     "name": "stdout",
     "output_type": "stream",
     "text": [
      "Help on built-in function count:\n",
      "\n",
      "count(...) method of builtins.str instance\n",
      "    S.count(sub[, start[, end]]) -> int\n",
      "    \n",
      "    Return the number of non-overlapping occurrences of substring sub in\n",
      "    string S[start:end].  Optional arguments start and end are\n",
      "    interpreted as in slice notation.\n",
      "\n"
     ]
    }
   ],
   "source": [
    "help(s.count)"
   ]
  },
  {
   "cell_type": "code",
   "execution_count": 79,
   "metadata": {
    "collapsed": true
   },
   "outputs": [],
   "source": [
    "?s.count"
   ]
  },
  {
   "cell_type": "code",
   "execution_count": 29,
   "metadata": {},
   "outputs": [
    {
     "data": {
      "text/plain": [
       "7"
      ]
     },
     "execution_count": 29,
     "metadata": {},
     "output_type": "execute_result"
    }
   ],
   "source": [
    "article = '''\n",
    "北韓今日發布最新集會系列照片，有許多民眾聚集平壤廣場，抗議聯合國與美國制裁北韓，北韓官方更稱在這短短3日內，已經有將近350萬人報名從軍，打倒美帝。\n",
    "據北韓官媒《勞動新聞》報導，北韓人民為了為己的自主權與生存權，對於聯合國的無理制裁相當憤怒，更對「美帝」的戰爭狂妄非常「有感」，因此許多北韓人決定「千百倍奉還」。報導更稱，在這短短的3天內，就有347.5萬人報名從軍，準備打倒美帝。\n",
    "今日稍早美國總統川普則再度對北韓警告，稱美國的軍事武裝皆已準備好，「隨時上膛」。（施旖婕／綜合外電報導）\n",
    "'''\n",
    "article.count('北韓')"
   ]
  },
  {
   "cell_type": "code",
   "execution_count": 30,
   "metadata": {},
   "outputs": [
    {
     "data": {
      "text/plain": [
       "'\\n北韓今日發布最新集會系列照片，有許多民眾聚集平壤廣場，抗議聯合國與美國制裁北韓，北韓官方更稱在這短短3日內，已經有將近350萬人報名從軍，打倒美帝。\\n據北韓官媒《勞動新聞》報導，北韓人民為了為己的自主權與生存權，對於聯合國的無理制裁相當憤怒，更對「美帝」的戰爭狂妄非常「有感」，因此許多北韓人決定「千百倍奉還」。報導更稱，在這短短的3天內，就有347.5萬人報名從軍，準備打倒美帝。\\n今日稍早美國總統Trump則再度對北韓警告，稱美國的軍事武裝皆已準備好，「隨時上膛」。（施旖婕／綜合外電報導）\\n'"
      ]
     },
     "execution_count": 30,
     "metadata": {},
     "output_type": "execute_result"
    }
   ],
   "source": [
    "article.replace('川普','Trump')"
   ]
  },
  {
   "cell_type": "code",
   "execution_count": 31,
   "metadata": {},
   "outputs": [
    {
     "data": {
      "text/plain": [
       "246"
      ]
     },
     "execution_count": 31,
     "metadata": {},
     "output_type": "execute_result"
    }
   ],
   "source": [
    "len(article)"
   ]
  },
  {
   "cell_type": "code",
   "execution_count": 32,
   "metadata": {},
   "outputs": [
    {
     "data": {
      "text/plain": [
       "['\\n北韓今日發布最新集會系列照片',\n",
       " '有許多民眾聚集平壤廣場',\n",
       " '抗議聯合國與美國制裁北韓',\n",
       " '北韓官方更稱在這短短3日內',\n",
       " '已經有將近350萬人報名從軍',\n",
       " '打倒美帝。\\n據北韓官媒《勞動新聞》報導',\n",
       " '北韓人民為了為己的自主權與生存權',\n",
       " '對於聯合國的無理制裁相當憤怒',\n",
       " '更對「美帝」的戰爭狂妄非常「有感」',\n",
       " '因此許多北韓人決定「千百倍奉還」。報導更稱',\n",
       " '在這短短的3天內',\n",
       " '就有347.5萬人報名從軍',\n",
       " '準備打倒美帝。\\n今日稍早美國總統川普則再度對北韓警告',\n",
       " '稱美國的軍事武裝皆已準備好',\n",
       " '「隨時上膛」。（施旖婕／綜合外電報導）\\n']"
      ]
     },
     "execution_count": 32,
     "metadata": {},
     "output_type": "execute_result"
    }
   ],
   "source": [
    "article.split('，')"
   ]
  },
  {
   "cell_type": "code",
   "execution_count": 33,
   "metadata": {},
   "outputs": [
    {
     "data": {
      "text/plain": [
       "list"
      ]
     },
     "execution_count": 33,
     "metadata": {},
     "output_type": "execute_result"
    }
   ],
   "source": [
    "type(article.split('，'))"
   ]
  },
  {
   "cell_type": "markdown",
   "metadata": {},
   "source": [
    "## Python List"
   ]
  },
  {
   "cell_type": "code",
   "execution_count": 34,
   "metadata": {},
   "outputs": [
    {
     "data": {
      "text/plain": [
       "170"
      ]
     },
     "execution_count": 34,
     "metadata": {},
     "output_type": "execute_result"
    }
   ],
   "source": [
    "height = 175\n",
    "heights = [170,165,175]\n",
    "heights[0]"
   ]
  },
  {
   "cell_type": "code",
   "execution_count": 91,
   "metadata": {},
   "outputs": [
    {
     "name": "stdout",
     "output_type": "stream",
     "text": [
      "<class 'list'>\n",
      "hello world\n",
      "<class 'str'>\n",
      "3\n",
      "<class 'int'>\n",
      "8\n"
     ]
    }
   ],
   "source": [
    "a = ['hello world', 3]\n",
    "print(type(a))\n",
    "\n",
    "print(a[0])\n",
    "print(type(a[0]))\n",
    "\n",
    "print(a[1])\n",
    "print(type(a[1]))\n",
    "\n",
    "print(a[1] + 5)"
   ]
  },
  {
   "cell_type": "code",
   "execution_count": 92,
   "metadata": {},
   "outputs": [
    {
     "name": "stdout",
     "output_type": "stream",
     "text": [
      "['w', 'o', 'r', 'd']\n"
     ]
    }
   ],
   "source": [
    "s = 'word'\n",
    "print(list(s))"
   ]
  },
  {
   "cell_type": "code",
   "execution_count": 93,
   "metadata": {},
   "outputs": [
    {
     "name": "stdout",
     "output_type": "stream",
     "text": [
      "[['list 1'], ['list2-0', 'list2-1']]\n"
     ]
    }
   ],
   "source": [
    "print([ ['list 1'], ['list2-0','list2-1'] ])"
   ]
  },
  {
   "cell_type": "code",
   "execution_count": 98,
   "metadata": {},
   "outputs": [
    {
     "name": "stdout",
     "output_type": "stream",
     "text": [
      "5\n",
      "s\n",
      "[7, 's']\n",
      "[7, 's']\n",
      "[7, 's']\n"
     ]
    }
   ],
   "source": [
    "a = [5,6,7,'s']\n",
    "print(a[0])\n",
    "print(a[-1])\n",
    "print(a[2:4])\n",
    "print(a[2:100])\n",
    "print(a[2:])"
   ]
  },
  {
   "cell_type": "code",
   "execution_count": 101,
   "metadata": {},
   "outputs": [
    {
     "name": "stdout",
     "output_type": "stream",
     "text": [
      "[5, 6, 7, 's']\n",
      "[5, 6, 7, 's']\n",
      "[5, 6, 7, 's']\n"
     ]
    }
   ],
   "source": [
    "print(a)\n",
    "print(a[:])\n",
    "print(a[::])"
   ]
  },
  {
   "cell_type": "code",
   "execution_count": 102,
   "metadata": {},
   "outputs": [
    {
     "name": "stdout",
     "output_type": "stream",
     "text": [
      "[5, 7]\n"
     ]
    }
   ],
   "source": [
    "print(a[::2])"
   ]
  },
  {
   "cell_type": "code",
   "execution_count": 103,
   "metadata": {},
   "outputs": [
    {
     "name": "stdout",
     "output_type": "stream",
     "text": [
      "['s', 7, 6, 5]\n"
     ]
    }
   ],
   "source": [
    "print(a[::-1])"
   ]
  },
  {
   "cell_type": "code",
   "execution_count": 104,
   "metadata": {},
   "outputs": [
    {
     "name": "stdout",
     "output_type": "stream",
     "text": [
      "4\n"
     ]
    }
   ],
   "source": [
    "print(len(a))"
   ]
  },
  {
   "cell_type": "code",
   "execution_count": 108,
   "metadata": {},
   "outputs": [
    {
     "name": "stdout",
     "output_type": "stream",
     "text": [
      "8\n",
      "5\n",
      "26\n"
     ]
    }
   ],
   "source": [
    "a = [5,6,7,8]\n",
    "print(max(a))\n",
    "print(min(a))\n",
    "print(sum(a))"
   ]
  },
  {
   "cell_type": "code",
   "execution_count": 110,
   "metadata": {},
   "outputs": [
    {
     "ename": "TypeError",
     "evalue": "'int' object is not callable",
     "output_type": "error",
     "traceback": [
      "\u001b[0;31m---------------------------------------------------------------------------\u001b[0m",
      "\u001b[0;31mTypeError\u001b[0m                                 Traceback (most recent call last)",
      "\u001b[0;32m<ipython-input-110-729a18f35cdc>\u001b[0m in \u001b[0;36m<module>\u001b[0;34m()\u001b[0m\n\u001b[1;32m      1\u001b[0m \u001b[0msum\u001b[0m \u001b[1;33m=\u001b[0m \u001b[1;36m30\u001b[0m\u001b[1;33m\u001b[0m\u001b[0m\n\u001b[0;32m----> 2\u001b[0;31m \u001b[0mprint\u001b[0m\u001b[1;33m(\u001b[0m\u001b[0msum\u001b[0m\u001b[1;33m(\u001b[0m\u001b[0ma\u001b[0m\u001b[1;33m)\u001b[0m\u001b[1;33m)\u001b[0m\u001b[1;33m\u001b[0m\u001b[0m\n\u001b[0m",
      "\u001b[0;31mTypeError\u001b[0m: 'int' object is not callable"
     ]
    }
   ],
   "source": [
    "sum = 30\n",
    "print(sum(a))"
   ]
  },
  {
   "cell_type": "code",
   "execution_count": 111,
   "metadata": {
    "collapsed": true
   },
   "outputs": [],
   "source": [
    "del sum"
   ]
  },
  {
   "cell_type": "code",
   "execution_count": 112,
   "metadata": {},
   "outputs": [
    {
     "name": "stdout",
     "output_type": "stream",
     "text": [
      "26\n"
     ]
    }
   ],
   "source": [
    "print(sum(a))"
   ]
  },
  {
   "cell_type": "code",
   "execution_count": 116,
   "metadata": {},
   "outputs": [
    {
     "name": "stdout",
     "output_type": "stream",
     "text": [
      "[5, 6, 7]\n",
      "[5, 6, 7, 2]\n",
      "[2, 5, 6, 7]\n",
      "[7, 6, 5, 2]\n"
     ]
    }
   ],
   "source": [
    "a = [5,6,7,8]\n",
    "a.pop()\n",
    "print(a)\n",
    "\n",
    "a.append(2)\n",
    "print(a)\n",
    "\n",
    "a.sort()\n",
    "print(a)\n",
    "\n",
    "a.reverse()\n",
    "print(a)"
   ]
  },
  {
   "cell_type": "code",
   "execution_count": 117,
   "metadata": {},
   "outputs": [
    {
     "data": {
      "text/plain": [
       "['h', 'e', 'l', 'l', 'o', ' ', 'w', 'o', 'r', 'l', 'd']"
      ]
     },
     "execution_count": 117,
     "metadata": {},
     "output_type": "execute_result"
    }
   ],
   "source": [
    "a = 'hello world'\n",
    "list(a)"
   ]
  },
  {
   "cell_type": "code",
   "execution_count": 120,
   "metadata": {},
   "outputs": [
    {
     "name": "stdout",
     "output_type": "stream",
     "text": [
      "True\n",
      "False\n"
     ]
    }
   ],
   "source": [
    "a = ['apple', 'bannana', 'cat', 'dog']\n",
    "print('apple' in a)\n",
    "print('book' in a)"
   ]
  },
  {
   "cell_type": "code",
   "execution_count": 122,
   "metadata": {},
   "outputs": [
    {
     "data": {
      "text/plain": [
       "True"
      ]
     },
     "execution_count": 122,
     "metadata": {},
     "output_type": "execute_result"
    }
   ],
   "source": [
    "article = '''\n",
    "北韓今日發布最新集會系列照片，有許多民眾聚集平壤廣場，抗議聯合國與美國制裁北韓，北韓官方更稱在這短短3日內，已經有將近350萬人報名從軍，打倒美帝。\n",
    "據北韓官媒《勞動新聞》報導，北韓人民為了為己的自主權與生存權，對於聯合國的無理制裁相當憤怒，更對「美帝」的戰爭狂妄非常「有感」，因此許多北韓人決定「千百倍奉還」。報導更稱，在這短短的3天內，就有347.5萬人報名從軍，準備打倒美帝。\n",
    "今日稍早美國總統川普則再度對北韓警告，稱美國的軍事武裝皆已準備好，「隨時上膛」。（施旖婕／綜合外電報導）\n",
    "'''\n",
    "'金正恩' in article\n",
    "'川普' in article\n"
   ]
  },
  {
   "cell_type": "code",
   "execution_count": 124,
   "metadata": {},
   "outputs": [
    {
     "name": "stdout",
     "output_type": "stream",
     "text": [
      "100 100\n",
      "30 100\n"
     ]
    }
   ],
   "source": [
    "a = 100\n",
    "b = a\n",
    "print(a,b)\n",
    "a= 30\n",
    "print(a,b)"
   ]
  },
  {
   "cell_type": "code",
   "execution_count": 125,
   "metadata": {},
   "outputs": [
    {
     "name": "stdout",
     "output_type": "stream",
     "text": [
      "[1, 2, 3] [1, 2, 3]\n",
      "[1, 2000, 3] [1, 2000, 3]\n"
     ]
    }
   ],
   "source": [
    "a = [1,2,3]\n",
    "b = a\n",
    "print(a,b)\n",
    "a[1] = 2000\n",
    "print(a,b)"
   ]
  },
  {
   "cell_type": "code",
   "execution_count": 126,
   "metadata": {},
   "outputs": [
    {
     "name": "stdout",
     "output_type": "stream",
     "text": [
      "[1, 2, 3] [1, 2, 3]\n",
      "[1, 2000, 3] [1, 2, 3]\n"
     ]
    }
   ],
   "source": [
    "\n",
    "a = [1,2,3]\n",
    "\n",
    "import copy\n",
    "b = copy.deepcopy(a)\n",
    "print(a,b)\n",
    "a[1] = 2000\n",
    "print(a,b)"
   ]
  },
  {
   "cell_type": "code",
   "execution_count": 133,
   "metadata": {},
   "outputs": [
    {
     "data": {
      "text/plain": [
       "50"
      ]
     },
     "execution_count": 133,
     "metadata": {},
     "output_type": "execute_result"
    }
   ],
   "source": [
    "import sys\n",
    "sys.getsizeof(letter)"
   ]
  },
  {
   "cell_type": "markdown",
   "metadata": {},
   "source": [
    "## Python Dictionary"
   ]
  },
  {
   "cell_type": "code",
   "execution_count": 1,
   "metadata": {},
   "outputs": [
    {
     "data": {
      "text/plain": [
       "{'a': 100, 'b': 'yes', 'c': 0.98}"
      ]
     },
     "execution_count": 1,
     "metadata": {},
     "output_type": "execute_result"
    }
   ],
   "source": [
    "dic = {'a': 100, 'b':'yes', 'c':0.98}\n",
    "dic"
   ]
  },
  {
   "cell_type": "code",
   "execution_count": 2,
   "metadata": {},
   "outputs": [
    {
     "data": {
      "text/plain": [
       "100"
      ]
     },
     "execution_count": 2,
     "metadata": {},
     "output_type": "execute_result"
    }
   ],
   "source": [
    "dic['a']"
   ]
  },
  {
   "cell_type": "code",
   "execution_count": 3,
   "metadata": {},
   "outputs": [
    {
     "ename": "KeyError",
     "evalue": "'d'",
     "output_type": "error",
     "traceback": [
      "\u001b[1;31m---------------------------------------------------------------------------\u001b[0m",
      "\u001b[1;31mKeyError\u001b[0m                                  Traceback (most recent call last)",
      "\u001b[1;32m<ipython-input-3-dedc2af341b8>\u001b[0m in \u001b[0;36m<module>\u001b[1;34m()\u001b[0m\n\u001b[1;32m----> 1\u001b[1;33m \u001b[0mdic\u001b[0m\u001b[1;33m[\u001b[0m\u001b[1;34m'd'\u001b[0m\u001b[1;33m]\u001b[0m\u001b[1;33m\u001b[0m\u001b[0m\n\u001b[0m",
      "\u001b[1;31mKeyError\u001b[0m: 'd'"
     ]
    }
   ],
   "source": [
    "dic['d']"
   ]
  },
  {
   "cell_type": "code",
   "execution_count": 4,
   "metadata": {},
   "outputs": [
    {
     "data": {
      "text/plain": [
       "100"
      ]
     },
     "execution_count": 4,
     "metadata": {},
     "output_type": "execute_result"
    }
   ],
   "source": [
    "dic.get('a')"
   ]
  },
  {
   "cell_type": "code",
   "execution_count": 5,
   "metadata": {
    "collapsed": true
   },
   "outputs": [],
   "source": [
    "dic.get('d')"
   ]
  },
  {
   "cell_type": "code",
   "execution_count": 6,
   "metadata": {},
   "outputs": [
    {
     "data": {
      "text/plain": [
       "100"
      ]
     },
     "execution_count": 6,
     "metadata": {},
     "output_type": "execute_result"
    }
   ],
   "source": [
    "dic.get('a', 'default')"
   ]
  },
  {
   "cell_type": "code",
   "execution_count": 7,
   "metadata": {},
   "outputs": [
    {
     "data": {
      "text/plain": [
       "''"
      ]
     },
     "execution_count": 7,
     "metadata": {},
     "output_type": "execute_result"
    }
   ],
   "source": [
    "dic.get('d', 'default')"
   ]
  },
  {
   "cell_type": "code",
   "execution_count": 136,
   "metadata": {},
   "outputs": [
    {
     "data": {
      "text/plain": [
       "dict_keys(['a', 'b', 'c'])"
      ]
     },
     "execution_count": 136,
     "metadata": {},
     "output_type": "execute_result"
    }
   ],
   "source": [
    "dic.keys()"
   ]
  },
  {
   "cell_type": "code",
   "execution_count": 137,
   "metadata": {},
   "outputs": [
    {
     "data": {
      "text/plain": [
       "dict_values([100, 'yes', 0.98])"
      ]
     },
     "execution_count": 137,
     "metadata": {},
     "output_type": "execute_result"
    }
   ],
   "source": [
    "dic.values()"
   ]
  },
  {
   "cell_type": "code",
   "execution_count": 143,
   "metadata": {},
   "outputs": [
    {
     "data": {
      "text/plain": [
       "{'a': 100, 'b': 'yes', 'c': 0.98}"
      ]
     },
     "execution_count": 143,
     "metadata": {},
     "output_type": "execute_result"
    }
   ],
   "source": [
    "dic"
   ]
  },
  {
   "cell_type": "code",
   "execution_count": 153,
   "metadata": {
    "collapsed": true
   },
   "outputs": [],
   "source": [
    "dic['d'] = 'new'"
   ]
  },
  {
   "cell_type": "code",
   "execution_count": 154,
   "metadata": {},
   "outputs": [
    {
     "data": {
      "text/plain": [
       "{'a': 100, 'b': 'yes', 'c': 0.98, 'd': 'new'}"
      ]
     },
     "execution_count": 154,
     "metadata": {},
     "output_type": "execute_result"
    }
   ],
   "source": [
    "dic"
   ]
  },
  {
   "cell_type": "code",
   "execution_count": 155,
   "metadata": {
    "collapsed": true
   },
   "outputs": [],
   "source": [
    "dic2 = {'e':'hello', 'g': 'world'}\n",
    "dic.update(dic2)"
   ]
  },
  {
   "cell_type": "code",
   "execution_count": 147,
   "metadata": {},
   "outputs": [
    {
     "data": {
      "text/plain": [
       "{'a': 100, 'b': 'yes', 'c': 0.98, 'd': 'new', 'e': 'hello', 'g': 'world'}"
      ]
     },
     "execution_count": 147,
     "metadata": {},
     "output_type": "execute_result"
    }
   ],
   "source": [
    "dic"
   ]
  },
  {
   "cell_type": "code",
   "execution_count": 148,
   "metadata": {
    "collapsed": true
   },
   "outputs": [],
   "source": [
    "dic['e'] = 'newstring'"
   ]
  },
  {
   "cell_type": "code",
   "execution_count": 149,
   "metadata": {},
   "outputs": [
    {
     "data": {
      "text/plain": [
       "{'a': 100, 'b': 'yes', 'c': 0.98, 'd': 'new', 'e': 'newstring', 'g': 'world'}"
      ]
     },
     "execution_count": 149,
     "metadata": {},
     "output_type": "execute_result"
    }
   ],
   "source": [
    "dic"
   ]
  },
  {
   "cell_type": "code",
   "execution_count": 158,
   "metadata": {},
   "outputs": [
    {
     "name": "stdout",
     "output_type": "stream",
     "text": [
      "a 100\n",
      "b yes\n",
      "c 0.98\n",
      "d new\n",
      "e hello\n",
      "g world\n"
     ]
    }
   ],
   "source": [
    "for key in dic:\n",
    "    print(key, dic.get(key))"
   ]
  },
  {
   "cell_type": "code",
   "execution_count": 150,
   "metadata": {},
   "outputs": [
    {
     "data": {
      "text/plain": [
       "{1: 3, 2: 2, 3: 2, 4: 1, 5: 1, 6: 1}"
      ]
     },
     "execution_count": 150,
     "metadata": {},
     "output_type": "execute_result"
    }
   ],
   "source": [
    "a = [1,2,4,1,5,6,1,2,3,3]\n",
    "dic = {}\n",
    "for e in a:\n",
    "    if e in dic:\n",
    "        dic[e] = dic[e] + 1\n",
    "    else:\n",
    "        dic[e] = 1\n",
    "dic"
   ]
  },
  {
   "cell_type": "markdown",
   "metadata": {},
   "source": [
    "## Set"
   ]
  },
  {
   "cell_type": "code",
   "execution_count": 159,
   "metadata": {},
   "outputs": [
    {
     "data": {
      "text/plain": [
       "{1, 2, 3}"
      ]
     },
     "execution_count": 159,
     "metadata": {},
     "output_type": "execute_result"
    }
   ],
   "source": [
    "a= [1,2,3,1,2,1,3,2,1]\n",
    "set(a)"
   ]
  },
  {
   "cell_type": "code",
   "execution_count": 165,
   "metadata": {},
   "outputs": [
    {
     "data": {
      "text/plain": [
       "{'0912345678', '0922333444', '0955623412', '0966777888'}"
      ]
     },
     "execution_count": 165,
     "metadata": {},
     "output_type": "execute_result"
    }
   ],
   "source": [
    "a = ['0912345678', '0922333444', '0955623412']\n",
    "b = ['0912345678', '0966777888']\n",
    "set(a) - set(b)\n",
    "set(b) - set(a)\n",
    "set(a).union(set(b))"
   ]
  },
  {
   "cell_type": "markdown",
   "metadata": {},
   "source": [
    "## Tuple"
   ]
  },
  {
   "cell_type": "code",
   "execution_count": 166,
   "metadata": {},
   "outputs": [
    {
     "name": "stdout",
     "output_type": "stream",
     "text": [
      "(1, 2, 3)\n",
      "<class 'tuple'>\n"
     ]
    }
   ],
   "source": [
    "a = (1,2,3)\n",
    "print(a)\n",
    "print(type(a))"
   ]
  },
  {
   "cell_type": "code",
   "execution_count": 167,
   "metadata": {},
   "outputs": [
    {
     "name": "stdout",
     "output_type": "stream",
     "text": [
      "(1, 2, 3)\n",
      "<class 'tuple'>\n"
     ]
    }
   ],
   "source": [
    "b = 1,2,3\n",
    "print(b)\n",
    "print(type(b))"
   ]
  },
  {
   "cell_type": "code",
   "execution_count": 168,
   "metadata": {},
   "outputs": [
    {
     "name": "stdout",
     "output_type": "stream",
     "text": [
      "['__add__', '__class__', '__contains__', '__delattr__', '__delitem__', '__dir__', '__doc__', '__eq__', '__format__', '__ge__', '__getattribute__', '__getitem__', '__gt__', '__hash__', '__iadd__', '__imul__', '__init__', '__init_subclass__', '__iter__', '__le__', '__len__', '__lt__', '__mul__', '__ne__', '__new__', '__reduce__', '__reduce_ex__', '__repr__', '__reversed__', '__rmul__', '__setattr__', '__setitem__', '__sizeof__', '__str__', '__subclasshook__', 'append', 'clear', 'copy', 'count', 'extend', 'index', 'insert', 'pop', 'remove', 'reverse', 'sort']\n",
      "['__add__', '__class__', '__contains__', '__delattr__', '__dir__', '__doc__', '__eq__', '__format__', '__ge__', '__getattribute__', '__getitem__', '__getnewargs__', '__gt__', '__hash__', '__init__', '__init_subclass__', '__iter__', '__le__', '__len__', '__lt__', '__mul__', '__ne__', '__new__', '__reduce__', '__reduce_ex__', '__repr__', '__rmul__', '__setattr__', '__sizeof__', '__str__', '__subclasshook__', 'count', 'index']\n"
     ]
    }
   ],
   "source": [
    "li = [1,2,3]\n",
    "tu = (1,2,3)\n",
    "print(dir(li))\n",
    "print(dir(tu))"
   ]
  },
  {
   "cell_type": "code",
   "execution_count": 169,
   "metadata": {},
   "outputs": [
    {
     "name": "stdout",
     "output_type": "stream",
     "text": [
      "2\n",
      "one\n",
      "2\n"
     ]
    }
   ],
   "source": [
    "t = ('one', 2)\n",
    "print(len(t))\n",
    "print(t[0])\n",
    "print(t[1])"
   ]
  },
  {
   "cell_type": "code",
   "execution_count": 170,
   "metadata": {
    "collapsed": true
   },
   "outputs": [],
   "source": [
    "a = 1\n",
    "b = 2"
   ]
  },
  {
   "cell_type": "code",
   "execution_count": 171,
   "metadata": {
    "collapsed": true
   },
   "outputs": [],
   "source": [
    "a,b = 1,2"
   ]
  },
  {
   "cell_type": "code",
   "execution_count": 172,
   "metadata": {},
   "outputs": [
    {
     "name": "stdout",
     "output_type": "stream",
     "text": [
      "1 2\n"
     ]
    }
   ],
   "source": [
    "print(a,b)"
   ]
  },
  {
   "cell_type": "code",
   "execution_count": 173,
   "metadata": {},
   "outputs": [
    {
     "name": "stdout",
     "output_type": "stream",
     "text": [
      "(1, 2)\n"
     ]
    }
   ],
   "source": [
    "c= a,b\n",
    "print(c)"
   ]
  },
  {
   "cell_type": "code",
   "execution_count": 174,
   "metadata": {},
   "outputs": [
    {
     "name": "stdout",
     "output_type": "stream",
     "text": [
      "<class 'tuple'>\n"
     ]
    }
   ],
   "source": [
    "print(type(c))"
   ]
  },
  {
   "cell_type": "code",
   "execution_count": 175,
   "metadata": {},
   "outputs": [
    {
     "name": "stdout",
     "output_type": "stream",
     "text": [
      "(1, 2)\n"
     ]
    }
   ],
   "source": [
    "d = 1,2\n",
    "print(d)"
   ]
  },
  {
   "cell_type": "code",
   "execution_count": 176,
   "metadata": {},
   "outputs": [
    {
     "data": {
      "text/plain": [
       "True"
      ]
     },
     "execution_count": 176,
     "metadata": {},
     "output_type": "execute_result"
    }
   ],
   "source": [
    "c == d"
   ]
  },
  {
   "cell_type": "code",
   "execution_count": 177,
   "metadata": {},
   "outputs": [
    {
     "name": "stdout",
     "output_type": "stream",
     "text": [
      "1 2\n",
      "2 1\n"
     ]
    }
   ],
   "source": [
    "a = 1\n",
    "b = 2\n",
    "print(a,b)\n",
    "\n",
    "tmp = a\n",
    "a = b\n",
    "b = tmp\n",
    "print(a,b)"
   ]
  },
  {
   "cell_type": "code",
   "execution_count": 178,
   "metadata": {
    "collapsed": true
   },
   "outputs": [],
   "source": [
    "a , b = 1,2\n",
    "a,b=b,a"
   ]
  },
  {
   "cell_type": "code",
   "execution_count": 179,
   "metadata": {},
   "outputs": [
    {
     "name": "stdout",
     "output_type": "stream",
     "text": [
      "2 1\n"
     ]
    }
   ],
   "source": [
    "print(a,b)"
   ]
  },
  {
   "cell_type": "markdown",
   "metadata": {},
   "source": [
    "## 迴圈與控制流程"
   ]
  },
  {
   "cell_type": "code",
   "execution_count": null,
   "metadata": {
    "collapsed": true
   },
   "outputs": [],
   "source": [
    "#if (a> 3){\n",
    "#    system.out.println('a is above 3')\n",
    "#}\n"
   ]
  },
  {
   "cell_type": "code",
   "execution_count": 185,
   "metadata": {},
   "outputs": [
    {
     "name": "stdout",
     "output_type": "stream",
     "text": [
      "a is above 3\n"
     ]
    }
   ],
   "source": [
    "a = 5\n",
    "if a > 3:\n",
    "    print('a is above 3')"
   ]
  },
  {
   "cell_type": "code",
   "execution_count": 191,
   "metadata": {},
   "outputs": [
    {
     "name": "stdout",
     "output_type": "stream",
     "text": [
      "do not found any\n",
      "do not found any\n",
      "do not found any\n",
      "do not found any\n",
      "do not found any\n",
      "do not found any\n",
      "do not found any\n",
      "found 8\n",
      "9 is found\n"
     ]
    }
   ],
   "source": [
    "a = 9\n",
    "b = 8\n",
    "for i in range(1,10):\n",
    "    #print(i)\n",
    "    if i == 9:\n",
    "        print(str(a) + ' is found')\n",
    "    elif i == 8:\n",
    "        print('found ' + str(b))\n",
    "    else:\n",
    "        print('do not found any')"
   ]
  },
  {
   "cell_type": "code",
   "execution_count": 192,
   "metadata": {},
   "outputs": [
    {
     "name": "stdout",
     "output_type": "stream",
     "text": [
      "1\n",
      "2\n",
      "3\n",
      "4\n",
      "5\n",
      "6\n",
      "7\n",
      "8\n",
      "9\n"
     ]
    }
   ],
   "source": [
    "for i in range(1,10):\n",
    "    print(i)"
   ]
  },
  {
   "cell_type": "code",
   "execution_count": 193,
   "metadata": {
    "scrolled": true
   },
   "outputs": [
    {
     "name": "stdout",
     "output_type": "stream",
     "text": [
      "1\n",
      "3\n",
      "5\n",
      "7\n",
      "9\n"
     ]
    }
   ],
   "source": [
    "for i in range(1,10, 2):\n",
    "    print(i)"
   ]
  },
  {
   "cell_type": "code",
   "execution_count": 194,
   "metadata": {},
   "outputs": [
    {
     "name": "stdout",
     "output_type": "stream",
     "text": [
      "a\n",
      "b\n",
      "c\n",
      "d\n",
      "e\n"
     ]
    }
   ],
   "source": [
    "for ele in ['a','b', 'c', 'd', 'e']:\n",
    "    print(ele)"
   ]
  },
  {
   "cell_type": "code",
   "execution_count": 195,
   "metadata": {},
   "outputs": [
    {
     "name": "stdout",
     "output_type": "stream",
     "text": [
      "a\n",
      "b\n",
      "c\n",
      "d\n",
      "e\n"
     ]
    }
   ],
   "source": [
    "for qoo in ['a','b', 'c', 'd', 'e']:\n",
    "    print(qoo)"
   ]
  },
  {
   "cell_type": "code",
   "execution_count": 197,
   "metadata": {},
   "outputs": [
    {
     "data": {
      "text/plain": [
       "range(1, 10)"
      ]
     },
     "execution_count": 197,
     "metadata": {},
     "output_type": "execute_result"
    }
   ],
   "source": [
    "range(1,10)"
   ]
  },
  {
   "cell_type": "code",
   "execution_count": 198,
   "metadata": {},
   "outputs": [
    {
     "data": {
      "text/plain": [
       "55"
      ]
     },
     "execution_count": 198,
     "metadata": {},
     "output_type": "execute_result"
    }
   ],
   "source": [
    "sum(range(1,11))"
   ]
  },
  {
   "cell_type": "code",
   "execution_count": 199,
   "metadata": {},
   "outputs": [
    {
     "name": "stdout",
     "output_type": "stream",
     "text": [
      "55\n"
     ]
    }
   ],
   "source": [
    "s = 0\n",
    "for i in range(1,11):\n",
    "    s = s + i\n",
    "print(s)"
   ]
  },
  {
   "cell_type": "code",
   "execution_count": 201,
   "metadata": {
    "collapsed": true
   },
   "outputs": [],
   "source": [
    "a = 0\n",
    "s = 0\n",
    "while s < 100:\n",
    "    a = a + 1\n",
    "    s += 1"
   ]
  },
  {
   "cell_type": "code",
   "execution_count": 203,
   "metadata": {},
   "outputs": [
    {
     "name": "stdout",
     "output_type": "stream",
     "text": [
      "a is above 3\n"
     ]
    }
   ],
   "source": [
    "a = 5\n",
    "if a > 3:\n",
    "    print('a is above 3')\n",
    "else:\n",
    "    print('a is below 3')"
   ]
  },
  {
   "cell_type": "markdown",
   "metadata": {},
   "source": [
    "## 函式"
   ]
  },
  {
   "cell_type": "code",
   "execution_count": 206,
   "metadata": {},
   "outputs": [
    {
     "name": "stdout",
     "output_type": "stream",
     "text": [
      "hello world\n"
     ]
    }
   ],
   "source": [
    "def say_hello():\n",
    "    print('hello world')\n",
    "    \n",
    "say_hello()"
   ]
  },
  {
   "cell_type": "code",
   "execution_count": 208,
   "metadata": {},
   "outputs": [
    {
     "name": "stdout",
     "output_type": "stream",
     "text": [
      "Hello David\n",
      "Hello John\n"
     ]
    }
   ],
   "source": [
    "def say_hello(name):\n",
    "    print('Hello ' + name)\n",
    "    \n",
    "say_hello('David')\n",
    "say_hello('John')"
   ]
  },
  {
   "cell_type": "code",
   "execution_count": 210,
   "metadata": {},
   "outputs": [
    {
     "data": {
      "text/plain": [
       "10"
      ]
     },
     "execution_count": 210,
     "metadata": {},
     "output_type": "execute_result"
    }
   ],
   "source": [
    "def addNum(a,b):\n",
    "    return a+b\n",
    "\n",
    "addNum(3,5)\n",
    "addNum(6,4)"
   ]
  },
  {
   "cell_type": "code",
   "execution_count": 212,
   "metadata": {},
   "outputs": [
    {
     "data": {
      "text/plain": [
       "10"
      ]
     },
     "execution_count": 212,
     "metadata": {},
     "output_type": "execute_result"
    }
   ],
   "source": [
    "def addNum(a =3,b =2):\n",
    "    return a+b\n",
    "addNum()\n",
    "addNum(a = 8)"
   ]
  },
  {
   "cell_type": "code",
   "execution_count": 8,
   "metadata": {},
   "outputs": [
    {
     "name": "stdout",
     "output_type": "stream",
     "text": [
      "['__doc__', '__loader__', '__name__', '__package__', '__spec__', 'acos', 'acosh', 'asin', 'asinh', 'atan', 'atan2', 'atanh', 'ceil', 'copysign', 'cos', 'cosh', 'degrees', 'e', 'erf', 'erfc', 'exp', 'expm1', 'fabs', 'factorial', 'floor', 'fmod', 'frexp', 'fsum', 'gamma', 'gcd', 'hypot', 'inf', 'isclose', 'isfinite', 'isinf', 'isnan', 'ldexp', 'lgamma', 'log', 'log10', 'log1p', 'log2', 'modf', 'nan', 'pi', 'pow', 'radians', 'sin', 'sinh', 'sqrt', 'tan', 'tanh', 'tau', 'trunc']\n",
      "Help on built-in function log in module math:\n",
      "\n",
      "log(...)\n",
      "    log(x[, base])\n",
      "    \n",
      "    Return the logarithm of x to the given base.\n",
      "    If the base not specified, returns the natural logarithm (base e) of x.\n",
      "\n",
      "None\n"
     ]
    }
   ],
   "source": [
    "import math\n",
    "#help(math)\n",
    "print(dir(math))\n",
    "print(help(math.log))\n",
    "?math.log"
   ]
  },
  {
   "cell_type": "code",
   "execution_count": 10,
   "metadata": {},
   "outputs": [
    {
     "data": {
      "text/plain": [
       "4"
      ]
     },
     "execution_count": 10,
     "metadata": {},
     "output_type": "execute_result"
    }
   ],
   "source": [
    "import math\n",
    "math.ceil(3.6)"
   ]
  },
  {
   "cell_type": "code",
   "execution_count": 11,
   "metadata": {},
   "outputs": [],
   "source": [
    "import requests\n",
    "res = requests.get('https://statics.591.com.tw/tools/showPhone.php?info_data=%2FuYFMu9EqL5hHOKni2jZ%2FxxWP68&type=rLEFMu4XrrpgEw')\n",
    "with open('phone3.jpg', 'wb') as f:\n",
    "    f.write(res.content)"
   ]
  },
  {
   "cell_type": "code",
   "execution_count": null,
   "metadata": {
    "collapsed": true
   },
   "outputs": [],
   "source": [
    "#import requests\n",
    "#requests.get\n",
    "\n",
    "#from requests import get\n",
    "#get"
   ]
  },
  {
   "cell_type": "code",
   "execution_count": 12,
   "metadata": {},
   "outputs": [
    {
     "data": {
      "image/png": "[encoded data removed]",
      "text/plain": [
       "<PIL.PngImagePlugin.PngImageFile image mode=P size=180x30 at 0x4A404E0>"
      ]
     },
     "execution_count": 12,
     "metadata": {},
     "output_type": "execute_result"
    }
   ],
   "source": [
    "from PIL import Image\n",
    "Image.open('phone3.jpg')"
   ]
  },
  {
   "cell_type": "code",
   "execution_count": 13,
   "metadata": {},
   "outputs": [
    {
     "name": "stdout",
     "output_type": "stream",
     "text": [
      "Collecting pytesseract\n",
      "Requirement already satisfied: Pillow in c:\\users\\user\\anaconda3\\lib\\site-packages (from pytesseract)\n",
      "Requirement already satisfied: olefile in c:\\users\\user\\anaconda3\\lib\\site-packages (from Pillow->pytesseract)\n",
      "Installing collected packages: pytesseract\n",
      "Successfully installed pytesseract-0.1.7\n"
     ]
    }
   ],
   "source": [
    "! pip install pytesseract"
   ]
  },
  {
   "cell_type": "code",
   "execution_count": 5,
   "metadata": {
    "collapsed": true
   },
   "outputs": [],
   "source": [
    "#! pip freeze"
   ]
  },
  {
   "cell_type": "code",
   "execution_count": 14,
   "metadata": {},
   "outputs": [
    {
     "name": "stdout",
     "output_type": "stream",
     "text": [
      "0989-321-758\n"
     ]
    }
   ],
   "source": [
    "import PIL \n",
    "import pytesseract\n",
    "\n",
    "print(pytesseract.image_to_string(PIL.Image.open('200811.pdf')))"
   ]
  },
  {
   "cell_type": "markdown",
   "metadata": {},
   "source": [
    "## 錯誤與例外"
   ]
  },
  {
   "cell_type": "code",
   "execution_count": 12,
   "metadata": {},
   "outputs": [
    {
     "name": "stdout",
     "output_type": "stream",
     "text": [
      "dividend:6\n",
      "divisor:qoo\n",
      "6 qoo\n"
     ]
    },
    {
     "ename": "ValueError",
     "evalue": "could not convert string to float: 'qoo'",
     "output_type": "error",
     "traceback": [
      "\u001b[0;31m---------------------------------------------------------------------------\u001b[0m",
      "\u001b[0;31mValueError\u001b[0m                                Traceback (most recent call last)",
      "\u001b[0;32m<ipython-input-12-c4e6feb26fc5>\u001b[0m in \u001b[0;36m<module>\u001b[0;34m()\u001b[0m\n\u001b[1;32m      4\u001b[0m \u001b[1;33m\u001b[0m\u001b[0m\n\u001b[1;32m      5\u001b[0m \u001b[1;32mtry\u001b[0m\u001b[1;33m:\u001b[0m\u001b[1;33m\u001b[0m\u001b[0m\n\u001b[0;32m----> 6\u001b[0;31m     \u001b[0mprint\u001b[0m\u001b[1;33m(\u001b[0m\u001b[0mfloat\u001b[0m\u001b[1;33m(\u001b[0m\u001b[0mdividend\u001b[0m\u001b[1;33m)\u001b[0m \u001b[1;33m/\u001b[0m \u001b[0mfloat\u001b[0m\u001b[1;33m(\u001b[0m\u001b[0mdivisor\u001b[0m\u001b[1;33m)\u001b[0m\u001b[1;33m)\u001b[0m\u001b[1;33m\u001b[0m\u001b[0m\n\u001b[0m\u001b[1;32m      7\u001b[0m \u001b[1;32mexcept\u001b[0m \u001b[0mZeroDivisionError\u001b[0m \u001b[1;32mas\u001b[0m \u001b[0mdetail\u001b[0m\u001b[1;33m:\u001b[0m\u001b[1;33m\u001b[0m\u001b[0m\n\u001b[1;32m      8\u001b[0m     \u001b[0mprint\u001b[0m\u001b[1;33m(\u001b[0m\u001b[1;34m'ERROR: {}'\u001b[0m\u001b[1;33m.\u001b[0m\u001b[0mformat\u001b[0m\u001b[1;33m(\u001b[0m\u001b[0mdetail\u001b[0m\u001b[1;33m)\u001b[0m\u001b[1;33m)\u001b[0m\u001b[1;33m\u001b[0m\u001b[0m\n",
      "\u001b[0;31mValueError\u001b[0m: could not convert string to float: 'qoo'"
     ]
    }
   ],
   "source": [
    "dividend = input('dividend:')\n",
    "divisor = input('divisor:')\n",
    "print(dividend, divisor)\n",
    "\n",
    "try:\n",
    "    print(float(dividend) / float(divisor))\n",
    "except ZeroDivisionError as detail:\n",
    "    print('ERROR: {}'.format(detail))"
   ]
  },
  {
   "cell_type": "code",
   "execution_count": 13,
   "metadata": {},
   "outputs": [
    {
     "name": "stdout",
     "output_type": "stream",
     "text": [
      "dividend:6\n",
      "divisor:qoo\n",
      "6 qoo\n",
      "VALUE ERROR: could not convert string to float: 'qoo'\n"
     ]
    }
   ],
   "source": [
    "dividend = input('dividend:')\n",
    "divisor = input('divisor:')\n",
    "print(dividend, divisor)\n",
    "\n",
    "try:\n",
    "    print(float(dividend) / float(divisor))\n",
    "except ZeroDivisionError as detail:\n",
    "    print('ERROR: {}'.format(detail))\n",
    "except ValueError as detail:\n",
    "    print('VALUE ERROR: {}'.format(detail))"
   ]
  },
  {
   "cell_type": "code",
   "execution_count": 18,
   "metadata": {},
   "outputs": [
    {
     "name": "stdout",
     "output_type": "stream",
     "text": [
      "dividend:6\n",
      "divisor:qoo\n",
      "6 qoo\n",
      "ERROR\n",
      "FINAL\n"
     ]
    }
   ],
   "source": [
    "dividend = input('dividend:')\n",
    "divisor = input('divisor:')\n",
    "print(dividend, divisor)\n",
    "\n",
    "try:\n",
    "    print(float(dividend) / float(divisor))\n",
    "except :\n",
    "    print('ERROR')\n",
    "finally:\n",
    "    print('FINAL')"
   ]
  },
  {
   "cell_type": "markdown",
   "metadata": {},
   "source": [
    "## 檔案操作"
   ]
  },
  {
   "cell_type": "code",
   "execution_count": 19,
   "metadata": {
    "collapsed": true
   },
   "outputs": [],
   "source": [
    "fid = open('test.txt', 'w')\n",
    "fid.write('Hello\\nWorld')\n",
    "fid.close()"
   ]
  },
  {
   "cell_type": "code",
   "execution_count": 22,
   "metadata": {
    "collapsed": true
   },
   "outputs": [],
   "source": [
    "with open('test.txt' , 'w') as f:\n",
    "    f.write('Hello\\nWorld')"
   ]
  },
  {
   "cell_type": "code",
   "execution_count": 27,
   "metadata": {},
   "outputs": [
    {
     "name": "stdout",
     "output_type": "stream",
     "text": [
      "Hello\n",
      "World\n"
     ]
    }
   ],
   "source": [
    "with open('test.txt', 'r') as f:\n",
    "    for line in f.readlines():\n",
    "        print(line.strip())"
   ]
  },
  {
   "cell_type": "code",
   "execution_count": 25,
   "metadata": {},
   "outputs": [
    {
     "name": "stdout",
     "output_type": "stream",
     "text": [
      "      \n",
      "\n",
      " hello \n",
      " world \n",
      "\n",
      "      \n"
     ]
    }
   ],
   "source": [
    "a = '      \\n\\n hello \\n world \\n\\n      '\n",
    "print(a)"
   ]
  },
  {
   "cell_type": "code",
   "execution_count": 26,
   "metadata": {},
   "outputs": [
    {
     "name": "stdout",
     "output_type": "stream",
     "text": [
      "hello \n",
      " world\n"
     ]
    }
   ],
   "source": [
    "print(a.strip())"
   ]
  },
  {
   "cell_type": "code",
   "execution_count": 28,
   "metadata": {},
   "outputs": [
    {
     "name": "stdout",
     "output_type": "stream",
     "text": [
      "Hello\n",
      "World\n"
     ]
    }
   ],
   "source": [
    "with open('test.txt', 'r') as f:\n",
    "    s = f.read()\n",
    "print(s)"
   ]
  },
  {
   "cell_type": "code",
   "execution_count": 26,
   "metadata": {},
   "outputs": [
    {
     "name": "stdout",
     "output_type": "stream",
     "text": [
      "2\n"
     ]
    }
   ],
   "source": [
    "cnt = 0 \n",
    "with open('test.txt', 'r') as f:\n",
    "    for line in f:\n",
    "        cnt = cnt + 1\n",
    "print(cnt)"
   ]
  },
  {
   "cell_type": "code",
   "execution_count": 31,
   "metadata": {},
   "outputs": [
    {
     "name": "stdout",
     "output_type": "stream",
     "text": [
      "['Hello\\n', 'World']\n",
      "2\n"
     ]
    }
   ],
   "source": [
    "ary = []\n",
    "with open('test.txt', 'r') as f:\n",
    "    for line in f:\n",
    "        ary.append(line)\n",
    "print(ary)\n",
    "print(len(ary))"
   ]
  },
  {
   "cell_type": "code",
   "execution_count": 33,
   "metadata": {},
   "outputs": [
    {
     "data": {
      "text/plain": [
       "2"
      ]
     },
     "execution_count": 33,
     "metadata": {},
     "output_type": "execute_result"
    }
   ],
   "source": [
    "s = [line for line in open('test.txt')]\n",
    "len(s)"
   ]
  },
  {
   "cell_type": "markdown",
   "metadata": {},
   "source": [
    "## 字詞分析"
   ]
  },
  {
   "cell_type": "code",
   "execution_count": 27,
   "metadata": {
    "collapsed": true
   },
   "outputs": [],
   "source": [
    "with open('data/cnn.txt', 'r') as f:\n",
    "    article = f.read()\n",
    "\n",
    "dic = {}\n",
    "for w in article.split():\n",
    "    word = w.lower()\n",
    "    if word not in dic:\n",
    "        dic[word] = 1\n",
    "    else:\n",
    "        dic[word] = dic[word] + 1\n",
    "#dic"
   ]
  },
  {
   "cell_type": "code",
   "execution_count": 28,
   "metadata": {},
   "outputs": [
    {
     "data": {
      "text/plain": [
       "[('the', 25),\n",
       " ('north', 11),\n",
       " ('and', 11),\n",
       " ('a', 9),\n",
       " ('on', 9),\n",
       " ('to', 8),\n",
       " ('with', 7),\n",
       " ('korea', 7),\n",
       " ('said', 6),\n",
       " ('in', 6)]"
      ]
     },
     "execution_count": 28,
     "metadata": {},
     "output_type": "execute_result"
    }
   ],
   "source": [
    "import operator\n",
    "swd = sorted(dic.items(), key=operator.itemgetter(1), reverse=True)\n",
    "swd[0:10]"
   ]
  },
  {
   "cell_type": "markdown",
   "metadata": {},
   "source": [
    "## Counter\n",
    "- https://docs.python.org/3.6/library/collections.html"
   ]
  },
  {
   "cell_type": "code",
   "execution_count": 29,
   "metadata": {},
   "outputs": [
    {
     "data": {
      "text/plain": [
       "[('the', 24),\n",
       " ('North', 11),\n",
       " ('and', 11),\n",
       " ('a', 9),\n",
       " ('on', 9),\n",
       " ('to', 8),\n",
       " ('with', 7),\n",
       " ('Korea', 7),\n",
       " ('said', 6),\n",
       " ('in', 6)]"
      ]
     },
     "execution_count": 29,
     "metadata": {},
     "output_type": "execute_result"
    }
   ],
   "source": [
    "from collections import Counter\n",
    "with open('data/cnn.txt', 'r') as f:\n",
    "    article = f.read()\n",
    "c = Counter(article.split())\n",
    "c.most_common(10)\n",
    "\n",
    "    "
   ]
  },
  {
   "cell_type": "code",
   "execution_count": 46,
   "metadata": {},
   "outputs": [
    {
     "name": "stdout",
     "output_type": "stream",
     "text": [
      "Requirement already satisfied: jieba in c:\\programdata\\anaconda3\\lib\\site-packages\n"
     ]
    }
   ],
   "source": [
    "! pip install jieba"
   ]
  },
  {
   "cell_type": "code",
   "execution_count": 50,
   "metadata": {},
   "outputs": [
    {
     "data": {
      "text/plain": [
       "[('，', 17),\n",
       " ('。', 9),\n",
       " ('%', 8),\n",
       " ('美元', 6),\n",
       " ('是', 6),\n",
       " (' ', 6),\n",
       " ('指數', 6),\n",
       " ('本周', 5),\n",
       " ('月', 5),\n",
       " ('最大', 5)]"
      ]
     },
     "execution_count": 50,
     "metadata": {},
     "output_type": "execute_result"
    }
   ],
   "source": [
    "import jieba\n",
    "from collections import Counter\n",
    "with open('data/appledaily.txt', 'r', encoding='utf-8') as f:\n",
    "    article = f.read()\n",
    "c = Counter([ele for ele in jieba.cut(article)])\n",
    "c.most_common(10)"
   ]
  },
  {
   "cell_type": "code",
   "execution_count": null,
   "metadata": {
    "collapsed": true
   },
   "outputs": [],
   "source": []
  }
 ],
 "metadata": {
  "kernelspec": {
   "display_name": "Python 3",
   "language": "python",
   "name": "python3"
  },
  "language_info": {
   "codemirror_mode": {
    "name": "ipython",
    "version": 3
   },
   "file_extension": ".py",
   "mimetype": "text/x-python",
   "name": "python",
   "nbconvert_exporter": "python",
   "pygments_lexer": "ipython3",
   "version": "3.6.3"
  }
 },
 "nbformat": 4,
 "nbformat_minor": 2
}
