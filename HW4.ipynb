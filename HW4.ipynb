{
  "nbformat": 4,
  "nbformat_minor": 0,
  "metadata": {
    "kernelspec": {
      "name": "python3",
      "display_name": "Python 3"
    },
    "colab": {
      "name": "HW4.ipynb",
      "provenance": [],
      "include_colab_link": true
    },
    "accelerator": "GPU"
  },
  "cells": [
    {
      "cell_type": "markdown",
      "metadata": {
        "id": "view-in-github",
        "colab_type": "text"
      },
      "source": [
        "<a href=\"https://colab.research.google.com/github/reaganwei0216/data/blob/master/HW4.ipynb\" target=\"_parent\"><img src=\"https://colab.research.google.com/assets/colab-badge.svg\" alt=\"Open In Colab\"/></a>"
      ]
    },
    {
      "cell_type": "code",
      "metadata": {
        "id": "N2rz3aYnKJ5G",
        "colab_type": "code",
        "colab": {
          "base_uri": "https://localhost:8080/",
          "height": 125
        },
        "outputId": "4a955eb4-1e06-4db3-c41f-c2208009c16e"
      },
      "source": [
        "from google.colab import drive\n",
        "drive.mount('/content/drive')"
      ],
      "execution_count": 15,
      "outputs": [
        {
          "output_type": "stream",
          "text": [
            "Go to this URL in a browser: https://accounts.google.com/o/oauth2/auth?client_id=947318989803-6bn6qk8qdgf4n4g3pfee6491hc0brc4i.apps.googleusercontent.com&redirect_uri=urn%3aietf%3awg%3aoauth%3a2.0%3aoob&response_type=code&scope=email%20https%3a%2f%2fwww.googleapis.com%2fauth%2fdocs.test%20https%3a%2f%2fwww.googleapis.com%2fauth%2fdrive%20https%3a%2f%2fwww.googleapis.com%2fauth%2fdrive.photos.readonly%20https%3a%2f%2fwww.googleapis.com%2fauth%2fpeopleapi.readonly\n",
            "\n",
            "Enter your authorization code:\n",
            "··········\n",
            "Mounted at /content/drive\n"
          ],
          "name": "stdout"
        }
      ]
    },
    {
      "cell_type": "code",
      "metadata": {
        "id": "m5777AE8JUIn",
        "colab_type": "code",
        "colab": {
          "base_uri": "https://localhost:8080/",
          "height": 34
        },
        "outputId": "439dc07b-3889-44f0-d208-64486df6c802"
      },
      "source": [
        "import tensorflow as tf\n",
        "tf.__version__"
      ],
      "execution_count": 16,
      "outputs": [
        {
          "output_type": "execute_result",
          "data": {
            "text/plain": [
              "'1.15.0'"
            ]
          },
          "metadata": {
            "tags": []
          },
          "execution_count": 16
        }
      ]
    },
    {
      "cell_type": "code",
      "metadata": {
        "id": "JKR7cO_kJUIx",
        "colab_type": "code",
        "colab": {
          "base_uri": "https://localhost:8080/",
          "height": 34
        },
        "outputId": "204c9c86-36e6-43cc-8d34-50e214f57889"
      },
      "source": [
        "import keras\n",
        "keras.__version__"
      ],
      "execution_count": 17,
      "outputs": [
        {
          "output_type": "execute_result",
          "data": {
            "text/plain": [
              "'2.2.5'"
            ]
          },
          "metadata": {
            "tags": []
          },
          "execution_count": 17
        }
      ]
    },
    {
      "cell_type": "code",
      "metadata": {
        "id": "80fqT6ilJUI1",
        "colab_type": "code",
        "colab": {}
      },
      "source": [
        "# ! pip install xgboost"
      ],
      "execution_count": 0,
      "outputs": []
    },
    {
      "cell_type": "code",
      "metadata": {
        "id": "F-ImU3KBJUI4",
        "colab_type": "code",
        "colab": {}
      },
      "source": [
        "import pandas as pd\n",
        "import numpy as np  \n",
        "\n",
        "# from xgboost import XGBClassifier\n",
        "\n",
        "from sklearn.feature_extraction.text import TfidfVectorizer, CountVectorizer\n",
        "from sklearn.metrics import accuracy_score, precision_score, recall_score, f1_score, classification_report\n",
        "from sklearn.ensemble import AdaBoostClassifier\n",
        "\n",
        "import nltk\n",
        "from nltk.corpus import stopwords"
      ],
      "execution_count": 0,
      "outputs": []
    },
    {
      "cell_type": "code",
      "metadata": {
        "id": "QZkR19L5JUI7",
        "colab_type": "code",
        "colab": {}
      },
      "source": [
        "def read_data(text_dir):\n",
        "    f = open(text_dir,'r',encoding = 'utf8')\n",
        "    lines=f.readlines()\n",
        "    x_ = []\n",
        "    y_ = []\n",
        "    for line in lines :\n",
        "        try:\n",
        "            y_.append(int(line.split('+++$+++')[0]))\n",
        "            x_.append(line.split('+++$+++')[1])\n",
        "        except:\n",
        "            if len(line) == 1:\n",
        "                continue\n",
        "            y_.append(int(line.split('#####')[0]))\n",
        "            x_.append(line.split('#####')[1])\n",
        "    return x_, y_"
      ],
      "execution_count": 0,
      "outputs": []
    },
    {
      "cell_type": "code",
      "metadata": {
        "id": "2XRNDvv0JUI-",
        "colab_type": "code",
        "colab": {}
      },
      "source": [
        "def print_performance(y, y_hat):\n",
        "    Accuracy=accuracy_score(y, y_hat)\n",
        "    Precision=precision_score(y, y_hat, average='macro')    \n",
        "    Recall=recall_score(y, y_hat,average='macro')\n",
        "    Fmeasure=f1_score(y, y_hat, average='weighted')  \n",
        "    print(\"Accuracy\",\"->\",Accuracy)\n",
        "    print(\"Precision\",\"->\",Precision)\n",
        "    print(\"Recall\",\"->\",Recall)\n",
        "    print(\"Fmeasure\",\"->\",Fmeasure)\n",
        "    print(classification_report(y, y_hat))"
      ],
      "execution_count": 0,
      "outputs": []
    },
    {
      "cell_type": "code",
      "metadata": {
        "id": "_72s4vjTJUJG",
        "colab_type": "code",
        "colab": {}
      },
      "source": [
        "import matplotlib.pyplot as plt\n",
        "def show_train_history(train_history,train,validation):\n",
        "    plt.plot(train_history.history[train])\n",
        "    plt.plot(train_history.history[validation])\n",
        "    plt.title('Train History')\n",
        "    plt.ylabel(train)\n",
        "    plt.xlabel('Epoch')\n",
        "    plt.legend(['train', 'validation'], loc='upper left')\n",
        "    plt.show()"
      ],
      "execution_count": 0,
      "outputs": []
    },
    {
      "cell_type": "code",
      "metadata": {
        "id": "cBOAwcFjJUJJ",
        "colab_type": "code",
        "colab": {
          "base_uri": "https://localhost:8080/",
          "height": 87
        },
        "outputId": "9d0e6bda-93f8-4799-b9d1-0ce6feddbdff"
      },
      "source": [
        "sample_num = 1000\n",
        "x_train, y_train = read_data(\"/content/drive/My Drive/DM_HW/HW4_0763418/training_label.txt\")\n",
        "x_test, y_test = read_data(\"/content/drive/My Drive/DM_HW/HW4_0763418/testing_label.txt\")\n",
        "x_train, y_train = x_train[:sample_num], y_train[:sample_num]\n",
        "\n",
        "print(len(x_train))\n",
        "print(len(y_train))\n",
        "print(len(x_test))\n",
        "print(len(y_test))"
      ],
      "execution_count": 60,
      "outputs": [
        {
          "output_type": "stream",
          "text": [
            "1000\n",
            "1000\n",
            "90\n",
            "90\n"
          ],
          "name": "stdout"
        }
      ]
    },
    {
      "cell_type": "code",
      "metadata": {
        "id": "SuNDiJj6TkQ3",
        "colab_type": "code",
        "colab": {
          "base_uri": "https://localhost:8080/",
          "height": 70
        },
        "outputId": "afa39df2-ce80-4593-f224-4abca20fd0d9"
      },
      "source": [
        "import nltk\n",
        "nltk.download('stopwords')"
      ],
      "execution_count": 61,
      "outputs": [
        {
          "output_type": "stream",
          "text": [
            "[nltk_data] Downloading package stopwords to /root/nltk_data...\n",
            "[nltk_data]   Package stopwords is already up-to-date!\n"
          ],
          "name": "stdout"
        },
        {
          "output_type": "execute_result",
          "data": {
            "text/plain": [
              "True"
            ]
          },
          "metadata": {
            "tags": []
          },
          "execution_count": 61
        }
      ]
    },
    {
      "cell_type": "code",
      "metadata": {
        "id": "_r9v61qQJUJM",
        "colab_type": "code",
        "colab": {
          "base_uri": "https://localhost:8080/",
          "height": 87
        },
        "outputId": "c7217b2f-f832-4534-993e-c022eea7a680"
      },
      "source": [
        "vectorizer = CountVectorizer(stop_words=stopwords.words('english'))\n",
        "\n",
        "ALL = vectorizer.fit_transform(x_train + x_test).toarray()\n",
        "X_train, X_test = ALL[:len(x_train)], ALL[len(x_train):]\n",
        "Y_train, Y_test = np.asarray(y_train), np.asarray(y_test)\n",
        "\n",
        "print(X_train.shape)\n",
        "print(Y_train.shape)\n",
        "print(X_test.shape)\n",
        "print(Y_test.shape)"
      ],
      "execution_count": 62,
      "outputs": [
        {
          "output_type": "stream",
          "text": [
            "(1000, 3136)\n",
            "(1000,)\n",
            "(90, 3136)\n",
            "(90,)\n"
          ],
          "name": "stdout"
        }
      ]
    },
    {
      "cell_type": "code",
      "metadata": {
        "id": "8bTw8aRPJUJQ",
        "colab_type": "code",
        "colab": {}
      },
      "source": [
        "# ##### xgboost  #####\n",
        "# xgbc=XGBClassifier()\n",
        "# model=xgbc.fit(X_train, Y_train)\n",
        "# Y_pred = model.predict(X_test)\n",
        "# print_performance(Y_test, Y_pred)"
      ],
      "execution_count": 0,
      "outputs": []
    },
    {
      "cell_type": "code",
      "metadata": {
        "id": "MgVIF15ZJUJW",
        "colab_type": "code",
        "colab": {}
      },
      "source": [
        "# ##### AdaBoost  #####\n",
        "# clf = AdaBoostClassifier(n_estimators=1000, random_state=0)\n",
        "# model=clf.fit(X_train, Y_train)\n",
        "# Y_pred = model.predict(X_test)\n",
        "# print_performance(Y_test, Y_pred)"
      ],
      "execution_count": 0,
      "outputs": []
    },
    {
      "cell_type": "code",
      "metadata": {
        "id": "tmGJFXMqJUJf",
        "colab_type": "code",
        "colab": {}
      },
      "source": [
        "##### RNN  #####\n",
        "from keras.models import Sequential\n",
        "from keras.layers.core import Dense,Dropout,Activation,Flatten\n",
        "from keras.layers.embeddings import Embedding\n",
        "from keras.layers.recurrent import SimpleRNN"
      ],
      "execution_count": 0,
      "outputs": []
    },
    {
      "cell_type": "code",
      "metadata": {
        "id": "cFix6taoJUJk",
        "colab_type": "code",
        "colab": {}
      },
      "source": [
        "modelRNN = Sequential()"
      ],
      "execution_count": 0,
      "outputs": []
    },
    {
      "cell_type": "code",
      "metadata": {
        "id": "ITbnMGBXJUJm",
        "colab_type": "code",
        "colab": {}
      },
      "source": [
        "modelRNN.add(Embedding(output_dim=32,  \n",
        "     input_dim=3136, \n",
        "     input_length=3136))"
      ],
      "execution_count": 0,
      "outputs": []
    },
    {
      "cell_type": "code",
      "metadata": {
        "id": "Crr-JMaPJUJo",
        "colab_type": "code",
        "colab": {}
      },
      "source": [
        "modelRNN.add(Dropout(0.2)) "
      ],
      "execution_count": 0,
      "outputs": []
    },
    {
      "cell_type": "code",
      "metadata": {
        "id": "KGBUTygRJUJr",
        "colab_type": "code",
        "colab": {}
      },
      "source": [
        "modelRNN.add(SimpleRNN(units=16))"
      ],
      "execution_count": 0,
      "outputs": []
    },
    {
      "cell_type": "code",
      "metadata": {
        "id": "XiirJGvPJUJt",
        "colab_type": "code",
        "colab": {}
      },
      "source": [
        "modelRNN.add(Dense(units=256,activation='relu'))"
      ],
      "execution_count": 0,
      "outputs": []
    },
    {
      "cell_type": "code",
      "metadata": {
        "id": "TFzDOCz8JUJx",
        "colab_type": "code",
        "colab": {
          "base_uri": "https://localhost:8080/",
          "height": 54
        },
        "outputId": "15ce9815-97b0-4a58-d4da-228fd9ab89da"
      },
      "source": [
        "modelRNN.add(Dropout(0.7))"
      ],
      "execution_count": 71,
      "outputs": [
        {
          "output_type": "stream",
          "text": [
            "WARNING:tensorflow:Large dropout rate: 0.7 (>0.5). In TensorFlow 2.x, dropout() uses dropout rate instead of keep_prob. Please ensure that this is intended.\n"
          ],
          "name": "stdout"
        }
      ]
    },
    {
      "cell_type": "code",
      "metadata": {
        "id": "Ys0C7ZLhJUJ0",
        "colab_type": "code",
        "colab": {}
      },
      "source": [
        "modelRNN.add(Dense(units=1,activation='sigmoid'))"
      ],
      "execution_count": 0,
      "outputs": []
    },
    {
      "cell_type": "code",
      "metadata": {
        "id": "DO23invwJUJ3",
        "colab_type": "code",
        "colab": {
          "base_uri": "https://localhost:8080/",
          "height": 368
        },
        "outputId": "909ed51c-6c73-4b75-b425-6911d263d824"
      },
      "source": [
        "modelRNN.summary()"
      ],
      "execution_count": 73,
      "outputs": [
        {
          "output_type": "stream",
          "text": [
            "Model: \"sequential_4\"\n",
            "_________________________________________________________________\n",
            "Layer (type)                 Output Shape              Param #   \n",
            "=================================================================\n",
            "embedding_4 (Embedding)      (None, 3136, 32)          100352    \n",
            "_________________________________________________________________\n",
            "dropout_7 (Dropout)          (None, 3136, 32)          0         \n",
            "_________________________________________________________________\n",
            "simple_rnn_3 (SimpleRNN)     (None, 16)                784       \n",
            "_________________________________________________________________\n",
            "dense_7 (Dense)              (None, 256)               4352      \n",
            "_________________________________________________________________\n",
            "dropout_8 (Dropout)          (None, 256)               0         \n",
            "_________________________________________________________________\n",
            "dense_8 (Dense)              (None, 1)                 257       \n",
            "=================================================================\n",
            "Total params: 105,745\n",
            "Trainable params: 105,745\n",
            "Non-trainable params: 0\n",
            "_________________________________________________________________\n"
          ],
          "name": "stdout"
        }
      ]
    },
    {
      "cell_type": "code",
      "metadata": {
        "id": "Y_qnDsGjJUJ8",
        "colab_type": "code",
        "colab": {}
      },
      "source": [
        "modelRNN.compile(loss='binary_crossentropy',\n",
        "     optimizer='adam',\n",
        "     metrics=['accuracy']) "
      ],
      "execution_count": 0,
      "outputs": []
    },
    {
      "cell_type": "code",
      "metadata": {
        "id": "odXgc4FLJUKD",
        "colab_type": "code",
        "colab": {
          "base_uri": "https://localhost:8080/",
          "height": 386
        },
        "outputId": "859f2568-d3c7-4231-e090-9e9c91631bda"
      },
      "source": [
        "train_history = modelRNN.fit(X_train,Y_train, \n",
        "         epochs=10, \n",
        "         batch_size=100,\n",
        "         verbose=2,\n",
        "         validation_split=0.2)"
      ],
      "execution_count": 75,
      "outputs": [
        {
          "output_type": "stream",
          "text": [
            "Train on 800 samples, validate on 200 samples\n",
            "Epoch 1/10\n",
            " - 16s - loss: 0.6955 - acc: 0.4837 - val_loss: 0.6917 - val_acc: 0.5700\n",
            "Epoch 2/10\n",
            " - 16s - loss: 0.6953 - acc: 0.4875 - val_loss: 0.6957 - val_acc: 0.4250\n",
            "Epoch 3/10\n",
            " - 16s - loss: 0.6942 - acc: 0.4900 - val_loss: 0.6937 - val_acc: 0.4400\n",
            "Epoch 4/10\n",
            " - 16s - loss: 0.6919 - acc: 0.5137 - val_loss: 0.6950 - val_acc: 0.4250\n",
            "Epoch 5/10\n",
            " - 16s - loss: 0.6931 - acc: 0.5050 - val_loss: 0.6903 - val_acc: 0.5750\n",
            "Epoch 6/10\n",
            " - 16s - loss: 0.6949 - acc: 0.5225 - val_loss: 0.6899 - val_acc: 0.5750\n",
            "Epoch 7/10\n",
            " - 16s - loss: 0.6954 - acc: 0.4925 - val_loss: 0.6908 - val_acc: 0.5750\n",
            "Epoch 8/10\n",
            " - 16s - loss: 0.6930 - acc: 0.5275 - val_loss: 0.6915 - val_acc: 0.5750\n",
            "Epoch 9/10\n",
            " - 16s - loss: 0.6957 - acc: 0.4925 - val_loss: 0.6912 - val_acc: 0.5750\n",
            "Epoch 10/10\n",
            " - 16s - loss: 0.6946 - acc: 0.4962 - val_loss: 0.6912 - val_acc: 0.5750\n"
          ],
          "name": "stdout"
        }
      ]
    },
    {
      "cell_type": "code",
      "metadata": {
        "id": "8s3G76z7JUKN",
        "colab_type": "code",
        "colab": {
          "base_uri": "https://localhost:8080/",
          "height": 70
        },
        "outputId": "a0caeb0b-9817-48cf-e165-de28aeb1a0d7"
      },
      "source": [
        "scores = modelRNN.evaluate(X_test, Y_test,verbose=1)\n",
        "print(scores)\n",
        "print(scores[1])"
      ],
      "execution_count": 76,
      "outputs": [
        {
          "output_type": "stream",
          "text": [
            "90/90 [==============================] - 3s 37ms/step\n",
            "[0.6956391414006551, 0.41111111177338494]\n",
            "0.41111111177338494\n"
          ],
          "name": "stdout"
        }
      ]
    },
    {
      "cell_type": "code",
      "metadata": {
        "id": "q6p8AWU2JUKP",
        "colab_type": "code",
        "colab": {
          "base_uri": "https://localhost:8080/",
          "height": 295
        },
        "outputId": "6954e099-49ec-452a-d021-4523bf7fafdb"
      },
      "source": [
        "show_train_history(train_history,'acc','val_acc')"
      ],
      "execution_count": 77,
      "outputs": [
        {
          "output_type": "display_data",
          "data": {
            "image/png": "[encoded data removed]",
            "text/plain": [
              "<Figure size 432x288 with 1 Axes>"
            ]
          },
          "metadata": {
            "tags": []
          }
        }
      ]
    },
    {
      "cell_type": "code",
      "metadata": {
        "id": "oasurOc5JUKS",
        "colab_type": "code",
        "colab": {
          "base_uri": "https://localhost:8080/",
          "height": 295
        },
        "outputId": "1727039c-7e2f-4969-b35d-73f0a7994291"
      },
      "source": [
        "show_train_history(train_history,'loss','val_loss')"
      ],
      "execution_count": 78,
      "outputs": [
        {
          "output_type": "display_data",
          "data": {
            "image/png": "[encoded data removed]",
            "text/plain": [
              "<Figure size 432x288 with 1 Axes>"
            ]
          },
          "metadata": {
            "tags": []
          }
        }
      ]
    },
    {
      "cell_type": "code",
      "metadata": {
        "id": "G2Y5zR1eJUKV",
        "colab_type": "code",
        "colab": {}
      },
      "source": [
        ""
      ],
      "execution_count": 0,
      "outputs": []
    },
    {
      "cell_type": "code",
      "metadata": {
        "id": "Ys5hFyJVJUKd",
        "colab_type": "code",
        "colab": {}
      },
      "source": [
        "##### LSTM  #####"
      ],
      "execution_count": 0,
      "outputs": []
    },
    {
      "cell_type": "code",
      "metadata": {
        "id": "6pIoaLPnJUKf",
        "colab_type": "code",
        "colab": {}
      },
      "source": [
        "from keras.models import Sequential\n",
        "from keras.layers.core import Dense,Dropout,Activation,Flatten\n",
        "from keras.layers.embeddings import Embedding\n",
        "from keras.layers.recurrent import LSTM"
      ],
      "execution_count": 0,
      "outputs": []
    },
    {
      "cell_type": "code",
      "metadata": {
        "id": "0n7IQmv3JUKh",
        "colab_type": "code",
        "colab": {}
      },
      "source": [
        "modelLSTM = Sequential() "
      ],
      "execution_count": 0,
      "outputs": []
    },
    {
      "cell_type": "code",
      "metadata": {
        "id": "SSse53uhJUKl",
        "colab_type": "code",
        "colab": {}
      },
      "source": [
        "modelLSTM.add(Embedding(output_dim=32,  \n",
        "     input_dim=3136, \n",
        "     input_length=3136))"
      ],
      "execution_count": 0,
      "outputs": []
    },
    {
      "cell_type": "code",
      "metadata": {
        "id": "0D-cq9gdJUKn",
        "colab_type": "code",
        "colab": {}
      },
      "source": [
        "modelLSTM.add(Dropout(0.2)) "
      ],
      "execution_count": 0,
      "outputs": []
    },
    {
      "cell_type": "code",
      "metadata": {
        "id": "0w1-k1yfJUKp",
        "colab_type": "code",
        "colab": {}
      },
      "source": [
        "modelLSTM.add(LSTM(32)) "
      ],
      "execution_count": 0,
      "outputs": []
    },
    {
      "cell_type": "code",
      "metadata": {
        "id": "YEzuhULNJUKs",
        "colab_type": "code",
        "colab": {}
      },
      "source": [
        "modelLSTM.add(Dense(units=256,activation='relu')) "
      ],
      "execution_count": 0,
      "outputs": []
    },
    {
      "cell_type": "code",
      "metadata": {
        "id": "1X918BtNJUKv",
        "colab_type": "code",
        "colab": {
          "base_uri": "https://localhost:8080/",
          "height": 54
        },
        "outputId": "9d2d86e3-de2e-4cc6-deae-3d3fae1bcd3f"
      },
      "source": [
        "modelLSTM.add(Dropout(0.7))"
      ],
      "execution_count": 86,
      "outputs": [
        {
          "output_type": "stream",
          "text": [
            "WARNING:tensorflow:Large dropout rate: 0.7 (>0.5). In TensorFlow 2.x, dropout() uses dropout rate instead of keep_prob. Please ensure that this is intended.\n"
          ],
          "name": "stdout"
        }
      ]
    },
    {
      "cell_type": "code",
      "metadata": {
        "id": "YXSqCOmqJUKx",
        "colab_type": "code",
        "colab": {}
      },
      "source": [
        "modelLSTM.add(Dense(units=1,activation='sigmoid'))"
      ],
      "execution_count": 0,
      "outputs": []
    },
    {
      "cell_type": "code",
      "metadata": {
        "id": "dXSfnmOOJUK1",
        "colab_type": "code",
        "colab": {
          "base_uri": "https://localhost:8080/",
          "height": 368
        },
        "outputId": "711c5802-f566-4807-be4d-28ff1c3b395c"
      },
      "source": [
        "modelLSTM.summary()"
      ],
      "execution_count": 88,
      "outputs": [
        {
          "output_type": "stream",
          "text": [
            "Model: \"sequential_5\"\n",
            "_________________________________________________________________\n",
            "Layer (type)                 Output Shape              Param #   \n",
            "=================================================================\n",
            "embedding_5 (Embedding)      (None, 3136, 32)          100352    \n",
            "_________________________________________________________________\n",
            "dropout_9 (Dropout)          (None, 3136, 32)          0         \n",
            "_________________________________________________________________\n",
            "lstm_2 (LSTM)                (None, 32)                8320      \n",
            "_________________________________________________________________\n",
            "dense_9 (Dense)              (None, 256)               8448      \n",
            "_________________________________________________________________\n",
            "dropout_10 (Dropout)         (None, 256)               0         \n",
            "_________________________________________________________________\n",
            "dense_10 (Dense)             (None, 1)                 257       \n",
            "=================================================================\n",
            "Total params: 117,377\n",
            "Trainable params: 117,377\n",
            "Non-trainable params: 0\n",
            "_________________________________________________________________\n"
          ],
          "name": "stdout"
        }
      ]
    },
    {
      "cell_type": "code",
      "metadata": {
        "id": "xkkiCUAYJUK4",
        "colab_type": "code",
        "colab": {}
      },
      "source": [
        "modelLSTM.compile(loss='binary_crossentropy',\n",
        "     optimizer='adam',\n",
        "     metrics=['accuracy']) "
      ],
      "execution_count": 0,
      "outputs": []
    },
    {
      "cell_type": "code",
      "metadata": {
        "id": "bokRiIgYJUK6",
        "colab_type": "code",
        "colab": {
          "base_uri": "https://localhost:8080/",
          "height": 386
        },
        "outputId": "52b7ffa4-b3d3-40b2-ae9b-fbe545bda01f"
      },
      "source": [
        "train_history = modelLSTM.fit(X_train,Y_train, \n",
        "         epochs=10, \n",
        "         batch_size=100,\n",
        "         verbose=2,\n",
        "         validation_split=0.2)"
      ],
      "execution_count": 90,
      "outputs": [
        {
          "output_type": "stream",
          "text": [
            "Train on 800 samples, validate on 200 samples\n",
            "Epoch 1/10\n",
            " - 38s - loss: 0.6927 - acc: 0.5200 - val_loss: 0.6932 - val_acc: 0.4250\n",
            "Epoch 2/10\n",
            " - 36s - loss: 0.6933 - acc: 0.5063 - val_loss: 0.6930 - val_acc: 0.5750\n",
            "Epoch 3/10\n",
            " - 37s - loss: 0.6931 - acc: 0.4975 - val_loss: 0.6935 - val_acc: 0.4250\n",
            "Epoch 4/10\n",
            " - 37s - loss: 0.6926 - acc: 0.5112 - val_loss: 0.6929 - val_acc: 0.5750\n",
            "Epoch 5/10\n",
            " - 37s - loss: 0.6936 - acc: 0.4787 - val_loss: 0.6920 - val_acc: 0.5750\n",
            "Epoch 6/10\n",
            " - 37s - loss: 0.6934 - acc: 0.4850 - val_loss: 0.6909 - val_acc: 0.5750\n",
            "Epoch 7/10\n",
            " - 37s - loss: 0.6920 - acc: 0.5300 - val_loss: 0.6912 - val_acc: 0.5750\n",
            "Epoch 8/10\n",
            " - 37s - loss: 0.6934 - acc: 0.5037 - val_loss: 0.6918 - val_acc: 0.5750\n",
            "Epoch 9/10\n",
            " - 37s - loss: 0.6943 - acc: 0.4675 - val_loss: 0.6923 - val_acc: 0.5750\n",
            "Epoch 10/10\n",
            " - 37s - loss: 0.6937 - acc: 0.4912 - val_loss: 0.6913 - val_acc: 0.5750\n"
          ],
          "name": "stdout"
        }
      ]
    },
    {
      "cell_type": "code",
      "metadata": {
        "id": "FCxV3HtRJUK-",
        "colab_type": "code",
        "colab": {
          "base_uri": "https://localhost:8080/",
          "height": 295
        },
        "outputId": "9d8fe03a-3255-493b-a360-599785788014"
      },
      "source": [
        "show_train_history(train_history,'acc','val_acc')"
      ],
      "execution_count": 91,
      "outputs": [
        {
          "output_type": "display_data",
          "data": {
            "image/png": "[encoded data removed]",
            "text/plain": [
              "<Figure size 432x288 with 1 Axes>"
            ]
          },
          "metadata": {
            "tags": []
          }
        }
      ]
    },
    {
      "cell_type": "code",
      "metadata": {
        "id": "ESkeZS2pJULC",
        "colab_type": "code",
        "colab": {
          "base_uri": "https://localhost:8080/",
          "height": 295
        },
        "outputId": "4bd1d80a-e0cf-485b-fbfc-ac4facabeae1"
      },
      "source": [
        "show_train_history(train_history,'loss','val_loss')"
      ],
      "execution_count": 92,
      "outputs": [
        {
          "output_type": "display_data",
          "data": {
            "image/png": "[encoded data removed]",
            "text/plain": [
              "<Figure size 432x288 with 1 Axes>"
            ]
          },
          "metadata": {
            "tags": []
          }
        }
      ]
    },
    {
      "cell_type": "code",
      "metadata": {
        "id": "7GfpkMwPJUK8",
        "colab_type": "code",
        "colab": {
          "base_uri": "https://localhost:8080/",
          "height": 70
        },
        "outputId": "e31e7e07-5f78-4af5-ce37-d4a615ae9cf4"
      },
      "source": [
        "scores = modelLSTM.evaluate(X_test, Y_test,verbose=1)\n",
        "print(scores)\n",
        "print(scores[1])"
      ],
      "execution_count": 93,
      "outputs": [
        {
          "output_type": "stream",
          "text": [
            "90/90 [==============================] - 5s 52ms/step\n",
            "[0.6955402135848999, 0.41111111177338494]\n",
            "0.41111111177338494\n"
          ],
          "name": "stdout"
        }
      ]
    },
    {
      "cell_type": "code",
      "metadata": {
        "id": "OCUrAIjTJULG",
        "colab_type": "code",
        "colab": {}
      },
      "source": [
        ""
      ],
      "execution_count": 0,
      "outputs": []
    },
    {
      "cell_type": "code",
      "metadata": {
        "id": "_qNjbxODJULK",
        "colab_type": "code",
        "colab": {}
      },
      "source": [
        ""
      ],
      "execution_count": 0,
      "outputs": []
    },
    {
      "cell_type": "code",
      "metadata": {
        "id": "ZjAc_hsiJULM",
        "colab_type": "code",
        "colab": {}
      },
      "source": [
        ""
      ],
      "execution_count": 0,
      "outputs": []
    },
    {
      "cell_type": "code",
      "metadata": {
        "id": "b3tup6FTJULN",
        "colab_type": "code",
        "colab": {}
      },
      "source": [
        ""
      ],
      "execution_count": 0,
      "outputs": []
    }
  ]
}