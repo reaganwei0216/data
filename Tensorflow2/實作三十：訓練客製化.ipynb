{
  "nbformat": 4,
  "nbformat_minor": 0,
  "metadata": {
    "colab": {
      "name": "實作三十：訓練客製化.ipynb",
      "provenance": [],
      "collapsed_sections": []
    },
    "kernelspec": {
      "name": "python3",
      "display_name": "Python 3"
    }
  },
  "cells": [
    {
      "cell_type": "code",
      "metadata": {
        "id": "7LCQdZNDKYTo"
      },
      "source": [
        "import tensorflow as tf\n",
        "from tensorflow import keras"
      ],
      "execution_count": null,
      "outputs": []
    },
    {
      "cell_type": "code",
      "metadata": {
        "id": "7VEncXiLMAzc"
      },
      "source": [
        "class CustomModel(keras.Model):\n",
        "    def train_step(self, data):\n",
        "        x, y = data\n",
        "\n",
        "        with tf.GradientTape() as tape:\n",
        "            y_pred = self(x, training=True) \n",
        "            # 計算Loss\n",
        "            # compile()的工作，根據計算Loss標準\n",
        "            loss = self.compiled_loss(y, y_pred, regularization_losses=self.losses)\n",
        "\n",
        "        # 計算梯度\n",
        "        trainable_vars = self.trainable_variables\n",
        "        gradients = tape.gradient(loss, trainable_vars)\n",
        "        # 更新權重\n",
        "        self.optimizer.apply_gradients(zip(gradients, trainable_vars))\n",
        "        # 更新與紀錄各類衡量標準，包含準確率、損失\n",
        "        self.compiled_metrics.update_state(y, y_pred)\n",
        "        # 回傳紀錄的各類資料\n",
        "        return {m.name: m.result() for m in self.metrics}\n"
      ],
      "execution_count": null,
      "outputs": []
    },
    {
      "cell_type": "code",
      "metadata": {
        "colab": {
          "base_uri": "https://localhost:8080/"
        },
        "id": "qkiUkN5xMCZb",
        "outputId": "822edeec-243c-41d7-9b87-92a4390856bc"
      },
      "source": [
        "import numpy as np\n",
        "\n",
        "# 透過前面的客製化訓練架構，放入對應的內容\n",
        "inputs = keras.Input(shape=(32,))\n",
        "outputs = keras.layers.Dense(1)(inputs)\n",
        "model = CustomModel(inputs, outputs)\n",
        "model.compile(optimizer=\"adam\", loss=\"mse\", metrics=[\"mae\"])\n",
        "\n",
        "x = np.random.random((1000, 32))\n",
        "y = np.random.random((1000, 1))\n",
        "model.fit(x, y, epochs=3)"
      ],
      "execution_count": null,
      "outputs": [
        {
          "output_type": "stream",
          "text": [
            "Epoch 1/3\n",
            "32/32 [==============================] - 1s 1ms/step - loss: 2.0655 - mae: 1.3531\n",
            "Epoch 2/3\n",
            "32/32 [==============================] - 0s 902us/step - loss: 0.9961 - mae: 0.8835\n",
            "Epoch 3/3\n",
            "32/32 [==============================] - 0s 973us/step - loss: 0.4107 - mae: 0.5239\n"
          ],
          "name": "stdout"
        },
        {
          "output_type": "execute_result",
          "data": {
            "text/plain": [
              "<tensorflow.python.keras.callbacks.History at 0x7ff3871e15c0>"
            ]
          },
          "metadata": {
            "tags": []
          },
          "execution_count": 3
        }
      ]
    },
    {
      "cell_type": "code",
      "metadata": {
        "colab": {
          "base_uri": "https://localhost:8080/"
        },
        "id": "GB69JhFvMFt_",
        "outputId": "0f4b455d-0456-4c0a-a7f2-7063e485030a"
      },
      "source": [
        "#更客製化的訓練\n",
        "\n",
        "loss_tracker = keras.metrics.Mean(name=\"loss\")\n",
        "mae_metric = keras.metrics.MeanAbsoluteError(name=\"mae\")\n",
        "\n",
        "class CustomModel(keras.Model):\n",
        "    def train_step(self, data):\n",
        "        x, y = data\n",
        "\n",
        "        with tf.GradientTape() as tape:\n",
        "            y_pred = self(x, training=True) \n",
        "            # 計算損失\n",
        "            loss = keras.losses.mean_squared_error(y, y_pred)\n",
        "\n",
        "        # 計算梯度\n",
        "        trainable_vars = self.trainable_variables\n",
        "        gradients = tape.gradient(loss, trainable_vars)\n",
        "\n",
        "        # 更新權重\n",
        "        self.optimizer.apply_gradients(zip(gradients, trainable_vars))\n",
        "\n",
        "        # 更新與紀錄各類衡量標準，包含準確率、損失\n",
        "        loss_tracker.update_state(loss)\n",
        "        mae_metric.update_state(y, y_pred)\n",
        "        return {\"loss\": loss_tracker.result(), \"mae\": mae_metric.result()}\n",
        "\n",
        "    @property\n",
        "    def metrics(self):\n",
        "      #可以放各類衡量標準\n",
        "        return [loss_tracker, mae_metric]\n",
        "\n",
        "\n",
        "# 透過前面的客製化訓練架構，放入對應的內容\n",
        "inputs = keras.Input(shape=(32,))\n",
        "outputs = keras.layers.Dense(1)(inputs)\n",
        "model = CustomModel(inputs, outputs)\n",
        "\n",
        "# 我們不用在這裡寫上損失、指標（因為Class裡面已經包含）\n",
        "model.compile(optimizer=\"adam\")\n",
        "\n",
        "x = np.random.random((1000, 32))\n",
        "y = np.random.random((1000, 1))\n",
        "model.fit(x, y, epochs=5)"
      ],
      "execution_count": null,
      "outputs": [
        {
          "output_type": "stream",
          "text": [
            "Epoch 1/5\n",
            "32/32 [==============================] - 0s 943us/step - loss: 0.3660 - mae: 0.4841\n",
            "Epoch 2/5\n",
            "32/32 [==============================] - 0s 1ms/step - loss: 0.2642 - mae: 0.4111\n",
            "Epoch 3/5\n",
            "32/32 [==============================] - 0s 849us/step - loss: 0.2558 - mae: 0.4049\n",
            "Epoch 4/5\n",
            "32/32 [==============================] - 0s 952us/step - loss: 0.2473 - mae: 0.3993\n",
            "Epoch 5/5\n",
            "32/32 [==============================] - 0s 1ms/step - loss: 0.2387 - mae: 0.3912\n"
          ],
          "name": "stdout"
        },
        {
          "output_type": "execute_result",
          "data": {
            "text/plain": [
              "<tensorflow.python.keras.callbacks.History at 0x7ff384b3a5c0>"
            ]
          },
          "metadata": {
            "tags": []
          },
          "execution_count": 4
        }
      ]
    },
    {
      "cell_type": "code",
      "metadata": {
        "id": "0lKN9PRHNgNq"
      },
      "source": [
        ""
      ],
      "execution_count": null,
      "outputs": []
    }
  ]
}