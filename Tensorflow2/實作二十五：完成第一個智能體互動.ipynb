{
  "nbformat": 4,
  "nbformat_minor": 0,
  "metadata": {
    "colab": {
      "name": "實作二十五：完成第一個智能體互動.ipynb",
      "provenance": [],
      "collapsed_sections": []
    },
    "kernelspec": {
      "name": "python3",
      "display_name": "Python 3"
    }
  },
  "cells": [
    {
      "cell_type": "code",
      "metadata": {
        "id": "G_jX6aBa_m6q"
      },
      "source": [
        "#強化學習課程補充：https://hiskio.com/courses/325/"
      ],
      "execution_count": null,
      "outputs": []
    },
    {
      "cell_type": "code",
      "metadata": {
        "colab": {
          "base_uri": "https://localhost:8080/"
        },
        "id": "cTk5W8M6AWHC",
        "outputId": "9cefa532-b9b1-4bd7-85aa-f6ced4b63538"
      },
      "source": [
        "!sudo apt-get install -y xvfb ffmpeg\n",
        "!pip install 'imageio==2.4.0'\n",
        "!pip install pyvirtualdisplay\n",
        "!pip install tf-agents"
      ],
      "execution_count": null,
      "outputs": [
        {
          "output_type": "stream",
          "text": [
            "Reading package lists... Done\n",
            "Building dependency tree       \n",
            "Reading state information... Done\n",
            "ffmpeg is already the newest version (7:3.4.8-0ubuntu0.2).\n",
            "xvfb is already the newest version (2:1.19.6-1ubuntu4.8).\n",
            "0 upgraded, 0 newly installed, 0 to remove and 17 not upgraded.\n",
            "Requirement already satisfied: imageio==2.4.0 in /usr/local/lib/python3.6/dist-packages (2.4.0)\n",
            "Requirement already satisfied: pillow in /usr/local/lib/python3.6/dist-packages (from imageio==2.4.0) (7.0.0)\n",
            "Requirement already satisfied: numpy in /usr/local/lib/python3.6/dist-packages (from imageio==2.4.0) (1.19.5)\n",
            "Requirement already satisfied: pyvirtualdisplay in /usr/local/lib/python3.6/dist-packages (2.0)\n",
            "Requirement already satisfied: EasyProcess in /usr/local/lib/python3.6/dist-packages (from pyvirtualdisplay) (0.3)\n",
            "Requirement already satisfied: tf-agents in /usr/local/lib/python3.6/dist-packages (0.7.1)\n",
            "Requirement already satisfied: six>=1.10.0 in /usr/local/lib/python3.6/dist-packages (from tf-agents) (1.15.0)\n",
            "Requirement already satisfied: cloudpickle>=1.3 in /usr/local/lib/python3.6/dist-packages (from tf-agents) (1.3.0)\n",
            "Requirement already satisfied: protobuf>=3.11.3 in /usr/local/lib/python3.6/dist-packages (from tf-agents) (3.12.4)\n",
            "Requirement already satisfied: wrapt>=1.11.1 in /usr/local/lib/python3.6/dist-packages (from tf-agents) (1.12.1)\n",
            "Requirement already satisfied: numpy>=1.13.3 in /usr/local/lib/python3.6/dist-packages (from tf-agents) (1.19.5)\n",
            "Requirement already satisfied: tensorflow-probability>=0.12.1 in /usr/local/lib/python3.6/dist-packages (from tf-agents) (0.12.1)\n",
            "Requirement already satisfied: absl-py>=0.6.1 in /usr/local/lib/python3.6/dist-packages (from tf-agents) (0.10.0)\n",
            "Requirement already satisfied: typing-extensions>=3.7.4.3 in /usr/local/lib/python3.6/dist-packages (from tf-agents) (3.7.4.3)\n",
            "Requirement already satisfied: pillow>=7.0.0 in /usr/local/lib/python3.6/dist-packages (from tf-agents) (7.0.0)\n",
            "Requirement already satisfied: gin-config>=0.4.0 in /usr/local/lib/python3.6/dist-packages (from tf-agents) (0.4.0)\n",
            "Requirement already satisfied: gym>=0.17.0 in /usr/local/lib/python3.6/dist-packages (from tf-agents) (0.17.3)\n",
            "Requirement already satisfied: setuptools in /usr/local/lib/python3.6/dist-packages (from protobuf>=3.11.3->tf-agents) (53.0.0)\n",
            "Requirement already satisfied: dm-tree in /usr/local/lib/python3.6/dist-packages (from tensorflow-probability>=0.12.1->tf-agents) (0.1.5)\n",
            "Requirement already satisfied: gast>=0.3.2 in /usr/local/lib/python3.6/dist-packages (from tensorflow-probability>=0.12.1->tf-agents) (0.3.3)\n",
            "Requirement already satisfied: decorator in /usr/local/lib/python3.6/dist-packages (from tensorflow-probability>=0.12.1->tf-agents) (4.4.2)\n",
            "Requirement already satisfied: scipy in /usr/local/lib/python3.6/dist-packages (from gym>=0.17.0->tf-agents) (1.4.1)\n",
            "Requirement already satisfied: pyglet<=1.5.0,>=1.4.0 in /usr/local/lib/python3.6/dist-packages (from gym>=0.17.0->tf-agents) (1.5.0)\n",
            "Requirement already satisfied: future in /usr/local/lib/python3.6/dist-packages (from pyglet<=1.5.0,>=1.4.0->gym>=0.17.0->tf-agents) (0.16.0)\n"
          ],
          "name": "stdout"
        }
      ]
    },
    {
      "cell_type": "code",
      "metadata": {
        "id": "mxWRVSpPAWRv"
      },
      "source": [
        "import base64\n",
        "import imageio\n",
        "import IPython\n",
        "import matplotlib\n",
        "import matplotlib.pyplot as plt\n",
        "import numpy as np\n",
        "import PIL.Image\n",
        "import pyvirtualdisplay\n",
        "\n",
        "import tensorflow as tf\n",
        "\n",
        "from tf_agents.agents.dqn import dqn_agent\n",
        "from tf_agents.drivers import dynamic_step_driver\n",
        "from tf_agents.environments import suite_gym\n",
        "from tf_agents.environments import tf_py_environment\n",
        "from tf_agents.eval import metric_utils\n",
        "from tf_agents.metrics import tf_metrics\n",
        "from tf_agents.networks import sequential\n",
        "from tf_agents.policies import random_tf_policy\n",
        "from tf_agents.replay_buffers import tf_uniform_replay_buffer\n",
        "from tf_agents.trajectories import trajectory\n",
        "from tf_agents.specs import tensor_spec\n",
        "from tf_agents.utils import common"
      ],
      "execution_count": null,
      "outputs": []
    },
    {
      "cell_type": "code",
      "metadata": {
        "id": "vLjZNkFpA5E2"
      },
      "source": [
        "# 建立OpenAI gym顯示環境\n",
        "display = pyvirtualdisplay.Display(visible=0, size=(1400, 900)).start()"
      ],
      "execution_count": null,
      "outputs": []
    },
    {
      "cell_type": "code",
      "metadata": {
        "id": "ZFfCnou9BCXC"
      },
      "source": [
        "#初始化參數設定\n",
        "\n",
        "num_iterations = 25000 \n",
        "\n",
        "initial_collect_steps = 100 \n",
        "collect_steps_per_iteration = 1  \n",
        "replay_buffer_max_length = 100000  \n",
        "\n",
        "batch_size = 64  \n",
        "learning_rate = 1e-3  \n",
        "log_interval = 200  \n",
        "\n",
        "num_eval_episodes = 10  \n",
        "eval_interval = 1000  "
      ],
      "execution_count": null,
      "outputs": []
    },
    {
      "cell_type": "code",
      "metadata": {
        "id": "No7Cl7w-BFd7"
      },
      "source": [
        "#建立環境\n",
        "env_name = 'CartPole-v0'\n",
        "env = suite_gym.load(env_name)"
      ],
      "execution_count": null,
      "outputs": []
    },
    {
      "cell_type": "code",
      "metadata": {
        "colab": {
          "base_uri": "https://localhost:8080/",
          "height": 417
        },
        "id": "7gbp-oa0BJmT",
        "outputId": "6a2667b1-e5fe-4dee-acb1-8d43c4c633f9"
      },
      "source": [
        "env.reset()\n",
        "PIL.Image.fromarray(env.render())"
      ],
      "execution_count": null,
      "outputs": [
        {
          "output_type": "execute_result",
          "data": {
            "image/png": "[encoded data removed]",
            "text/plain": [
              "<PIL.Image.Image image mode=RGB size=600x400 at 0x7F297EF248D0>"
            ]
          },
          "metadata": {
            "tags": []
          },
          "execution_count": 53
        }
      ]
    },
    {
      "cell_type": "code",
      "metadata": {
        "colab": {
          "base_uri": "https://localhost:8080/"
        },
        "id": "ZXtKlFZiBPKE",
        "outputId": "8bee2154-c022-40b0-b213-cfd18df4cada"
      },
      "source": [
        "#觀察值有四個\n",
        "#車子的位置、加速度、柱子對車子的角度、柱子倒下的加速度\n",
        "print('Observation Spec:')\n",
        "print(env.time_step_spec().observation)"
      ],
      "execution_count": null,
      "outputs": [
        {
          "output_type": "stream",
          "text": [
            "Observation Spec:\n",
            "BoundedArraySpec(shape=(4,), dtype=dtype('float32'), name='observation', minimum=[-4.8000002e+00 -3.4028235e+38 -4.1887903e-01 -3.4028235e+38], maximum=[4.8000002e+00 3.4028235e+38 4.1887903e-01 3.4028235e+38])\n"
          ],
          "name": "stdout"
        }
      ]
    },
    {
      "cell_type": "code",
      "metadata": {
        "colab": {
          "base_uri": "https://localhost:8080/"
        },
        "id": "9QPrNJWDBRhk",
        "outputId": "77f75051-67a2-4bb5-ea1b-6905783a4c83"
      },
      "source": [
        "print('Reward Spec:')\n",
        "print(env.time_step_spec().reward)"
      ],
      "execution_count": null,
      "outputs": [
        {
          "output_type": "stream",
          "text": [
            "Reward Spec:\n",
            "ArraySpec(shape=(), dtype=dtype('float32'), name='reward')\n"
          ],
          "name": "stdout"
        }
      ]
    },
    {
      "cell_type": "code",
      "metadata": {
        "colab": {
          "base_uri": "https://localhost:8080/"
        },
        "id": "mZOwxja0BSuW",
        "outputId": "46553d88-7130-4353-c020-db4ddc6fb627"
      },
      "source": [
        "#0往左移動，1為右移動\n",
        "print('Action Spec:')\n",
        "print(env.action_spec())"
      ],
      "execution_count": null,
      "outputs": [
        {
          "output_type": "stream",
          "text": [
            "Action Spec:\n",
            "BoundedArraySpec(shape=(), dtype=dtype('int64'), name='action', minimum=0, maximum=1)\n"
          ],
          "name": "stdout"
        }
      ]
    },
    {
      "cell_type": "code",
      "metadata": {
        "colab": {
          "base_uri": "https://localhost:8080/"
        },
        "id": "JOPNDHvEBTM4",
        "outputId": "9409fc7a-5167-4da2-ff36-1acd0a6d3e16"
      },
      "source": [
        "time_step = env.reset()\n",
        "print('Time step:')\n",
        "print(time_step)\n",
        "\n",
        "action = np.array(1, dtype=np.int32)\n",
        "\n",
        "next_time_step = env.step(action)\n",
        "print('Next time step:')\n",
        "print(next_time_step)"
      ],
      "execution_count": null,
      "outputs": [
        {
          "output_type": "stream",
          "text": [
            "Time step:\n",
            "TimeStep(step_type=array(0, dtype=int32), reward=array(0., dtype=float32), discount=array(1., dtype=float32), observation=array([-0.0452563 , -0.01831036, -0.01335976, -0.01177869], dtype=float32))\n",
            "Next time step:\n",
            "TimeStep(step_type=array(1, dtype=int32), reward=array(1., dtype=float32), discount=array(1., dtype=float32), observation=array([-0.04562251,  0.17700061, -0.01359533, -0.30864665], dtype=float32))\n"
          ],
          "name": "stdout"
        }
      ]
    },
    {
      "cell_type": "code",
      "metadata": {
        "id": "F6_2EByhCOuo"
      },
      "source": [
        "train_py_env = suite_gym.load(env_name)\n",
        "eval_py_env = suite_gym.load(env_name)"
      ],
      "execution_count": null,
      "outputs": []
    },
    {
      "cell_type": "code",
      "metadata": {
        "id": "8G1iu628CR7n"
      },
      "source": [
        "#透過TFPyEnvironment做TF的轉換\n",
        "train_env = tf_py_environment.TFPyEnvironment(train_py_env)\n",
        "eval_env = tf_py_environment.TFPyEnvironment(eval_py_env)"
      ],
      "execution_count": null,
      "outputs": []
    },
    {
      "cell_type": "markdown",
      "metadata": {
        "id": "RtLGsZYXCqrT"
      },
      "source": [
        "#建立DQN的Agent"
      ]
    },
    {
      "cell_type": "code",
      "metadata": {
        "id": "V0H7ooWxChPO"
      },
      "source": [
        "fc_layer_params = (100, 50)\n",
        "action_tensor_spec = tensor_spec.from_spec(env.action_spec())\n",
        "num_actions = action_tensor_spec.maximum - action_tensor_spec.minimum + 1\n",
        "\n",
        "# 定義DQN中的dense_layer\n",
        "# activation and kernel initializer.\n",
        "def dense_layer(num_units):\n",
        "  return tf.keras.layers.Dense(\n",
        "      num_units,\n",
        "      activation=tf.keras.activations.relu,\n",
        "      kernel_initializer=tf.keras.initializers.VarianceScaling(\n",
        "          scale=2.0, mode='fan_in', distribution='truncated_normal'))\n",
        "\n",
        "# QNetwork包含多個dense_layer\n",
        "# 透過產生q_net持續給予智能體學習的動作\n",
        "# it's output.\n",
        "dense_layers = [dense_layer(num_units) for num_units in fc_layer_params]\n",
        "q_values_layer = tf.keras.layers.Dense(\n",
        "    num_actions,\n",
        "    activation=None,\n",
        "    kernel_initializer=tf.keras.initializers.RandomUniform(\n",
        "        minval=-0.03, maxval=0.03),\n",
        "    bias_initializer=tf.keras.initializers.Constant(-0.2))\n",
        "q_net = sequential.Sequential(dense_layers + [q_values_layer])"
      ],
      "execution_count": null,
      "outputs": []
    },
    {
      "cell_type": "code",
      "metadata": {
        "id": "EMyIiyd_Chy6"
      },
      "source": [
        "#建立優化器、衡量標準\n",
        "optimizer = tf.keras.optimizers.Adam(learning_rate=learning_rate)\n",
        "\n",
        "train_step_counter = tf.Variable(0)\n",
        "\n",
        "agent = dqn_agent.DqnAgent(\n",
        "    train_env.time_step_spec(),\n",
        "    train_env.action_spec(),\n",
        "    q_network=q_net,\n",
        "    optimizer=optimizer,\n",
        "    td_errors_loss_fn=common.element_wise_squared_loss,\n",
        "    train_step_counter=train_step_counter)\n",
        "\n",
        "agent.initialize()"
      ],
      "execution_count": null,
      "outputs": []
    },
    {
      "cell_type": "markdown",
      "metadata": {
        "id": "UffYGaiECt2h"
      },
      "source": [
        "#建立Policies"
      ]
    },
    {
      "cell_type": "code",
      "metadata": {
        "id": "xpC4EDiaCkN_"
      },
      "source": [
        "#agent.policy用於評估和執行策略\n",
        "#agent.collect_policy為數據收集\n",
        "eval_policy = agent.policy\n",
        "collect_policy = agent.collect_policy"
      ],
      "execution_count": null,
      "outputs": []
    },
    {
      "cell_type": "code",
      "metadata": {
        "id": "_WMU0R3EDGgA"
      },
      "source": [
        "#建立一個隨機Policy，以這個範例為例，可以透過隨機左右移動來進行動作\n",
        "random_policy = random_tf_policy.RandomTFPolicy(train_env.time_step_spec(),\n",
        "                                                train_env.action_spec())"
      ],
      "execution_count": null,
      "outputs": []
    },
    {
      "cell_type": "code",
      "metadata": {
        "colab": {
          "base_uri": "https://localhost:8080/"
        },
        "id": "eGeKu_RiDf6Q",
        "outputId": "8e9f7ca2-ef43-46cb-f413-cda2975c96f1"
      },
      "source": [
        "#建立環境與time_step，其中time_step包含觀察值\n",
        "example_environment = tf_py_environment.TFPyEnvironment(\n",
        "    suite_gym.load('CartPole-v0'))\n",
        "time_step = example_environment.reset()\n",
        "random_policy.action(time_step)"
      ],
      "execution_count": null,
      "outputs": [
        {
          "output_type": "execute_result",
          "data": {
            "text/plain": [
              "PolicyStep(action=<tf.Tensor: shape=(1,), dtype=int64, numpy=array([1])>, state=(), info=())"
            ]
          },
          "metadata": {
            "tags": []
          },
          "execution_count": 64
        }
      ]
    },
    {
      "cell_type": "code",
      "metadata": {
        "colab": {
          "base_uri": "https://localhost:8080/"
        },
        "id": "4PAMrL20EJuk",
        "outputId": "e083e21e-5d8f-4506-ae73-d20e4ec13a05"
      },
      "source": [
        "#建立計算平均分數的函數\n",
        "\n",
        "def compute_avg_return(environment, policy, num_episodes=10):\n",
        "\n",
        "  total_return = 0.0\n",
        "  for _ in range(num_episodes):\n",
        "\n",
        "    time_step = environment.reset()\n",
        "    episode_return = 0.0\n",
        "\n",
        "    while not time_step.is_last():\n",
        "      action_step = policy.action(time_step)\n",
        "      time_step = environment.step(action_step.action)\n",
        "      episode_return += time_step.reward\n",
        "    total_return += episode_return\n",
        "\n",
        "  avg_return = total_return / num_episodes\n",
        "  return avg_return.numpy()[0]\n",
        "\n",
        "#觀察計算分數範例 \n",
        "compute_avg_return(eval_env, random_policy, num_eval_episodes)"
      ],
      "execution_count": null,
      "outputs": [
        {
          "output_type": "execute_result",
          "data": {
            "text/plain": [
              "22.9"
            ]
          },
          "metadata": {
            "tags": []
          },
          "execution_count": 65
        }
      ]
    },
    {
      "cell_type": "code",
      "metadata": {
        "id": "MtOklZjREPHJ"
      },
      "source": [
        "#建立replay_buffer持續收集資料\n",
        "replay_buffer = tf_uniform_replay_buffer.TFUniformReplayBuffer(\n",
        "    data_spec=agent.collect_data_spec,\n",
        "    batch_size=train_env.batch_size,\n",
        "    max_length=replay_buffer_max_length)"
      ],
      "execution_count": null,
      "outputs": []
    },
    {
      "cell_type": "code",
      "metadata": {
        "colab": {
          "base_uri": "https://localhost:8080/"
        },
        "id": "1sW4PRPxEaeY",
        "outputId": "7a1ac615-70e8-4c7d-f41a-1ae5bc54edd1"
      },
      "source": [
        "agent.collect_data_spec"
      ],
      "execution_count": null,
      "outputs": [
        {
          "output_type": "execute_result",
          "data": {
            "text/plain": [
              "Trajectory(step_type=TensorSpec(shape=(), dtype=tf.int32, name='step_type'), observation=BoundedTensorSpec(shape=(4,), dtype=tf.float32, name='observation', minimum=array([-4.8000002e+00, -3.4028235e+38, -4.1887903e-01, -3.4028235e+38],\n",
              "      dtype=float32), maximum=array([4.8000002e+00, 3.4028235e+38, 4.1887903e-01, 3.4028235e+38],\n",
              "      dtype=float32)), action=BoundedTensorSpec(shape=(), dtype=tf.int64, name='action', minimum=array(0), maximum=array(1)), policy_info=(), next_step_type=TensorSpec(shape=(), dtype=tf.int32, name='step_type'), reward=TensorSpec(shape=(), dtype=tf.float32, name='reward'), discount=BoundedTensorSpec(shape=(), dtype=tf.float32, name='discount', minimum=array(0., dtype=float32), maximum=array(1., dtype=float32)))"
            ]
          },
          "metadata": {
            "tags": []
          },
          "execution_count": 67
        }
      ]
    },
    {
      "cell_type": "code",
      "metadata": {
        "colab": {
          "base_uri": "https://localhost:8080/"
        },
        "id": "jQDomvaAFnX4",
        "outputId": "b57be8f4-6c69-49ba-c659-2863bfc25bff"
      },
      "source": [
        "agent.collect_data_spec._fields"
      ],
      "execution_count": null,
      "outputs": [
        {
          "output_type": "execute_result",
          "data": {
            "text/plain": [
              "('step_type',\n",
              " 'observation',\n",
              " 'action',\n",
              " 'policy_info',\n",
              " 'next_step_type',\n",
              " 'reward',\n",
              " 'discount')"
            ]
          },
          "metadata": {
            "tags": []
          },
          "execution_count": 68
        }
      ]
    },
    {
      "cell_type": "code",
      "metadata": {
        "id": "xwKn6uJVFni0"
      },
      "source": [
        "#資料收集\n",
        "def collect_step(environment, policy, buffer):\n",
        "  time_step = environment.current_time_step()\n",
        "  action_step = policy.action(time_step)\n",
        "  next_time_step = environment.step(action_step.action)\n",
        "  traj = trajectory.from_transition(time_step, action_step, next_time_step)\n",
        "\n",
        "  buffer.add_batch(traj)\n",
        "\n",
        "def collect_data(env, policy, buffer, steps):\n",
        "  for _ in range(steps):\n",
        "    collect_step(env, policy, buffer)\n",
        "\n",
        "collect_data(train_env, random_policy, replay_buffer, initial_collect_steps)"
      ],
      "execution_count": null,
      "outputs": []
    },
    {
      "cell_type": "code",
      "metadata": {
        "colab": {
          "base_uri": "https://localhost:8080/"
        },
        "id": "JsJ8xlDCFqeh",
        "outputId": "a1dc41eb-c4b9-46a6-b9bd-8dff10895d6f"
      },
      "source": [
        "dataset = replay_buffer.as_dataset(\n",
        "    num_parallel_calls=3, \n",
        "    sample_batch_size=batch_size, \n",
        "    num_steps=2).prefetch(3)\n",
        "\n",
        "\n",
        "dataset"
      ],
      "execution_count": null,
      "outputs": [
        {
          "output_type": "execute_result",
          "data": {
            "text/plain": [
              "<PrefetchDataset shapes: (Trajectory(step_type=(64, 2), observation=(64, 2, 4), action=(64, 2), policy_info=(), next_step_type=(64, 2), reward=(64, 2), discount=(64, 2)), BufferInfo(ids=(64, 2), probabilities=(64,))), types: (Trajectory(step_type=tf.int32, observation=tf.float32, action=tf.int64, policy_info=(), next_step_type=tf.int32, reward=tf.float32, discount=tf.float32), BufferInfo(ids=tf.int64, probabilities=tf.float32))>"
            ]
          },
          "metadata": {
            "tags": []
          },
          "execution_count": 70
        }
      ]
    },
    {
      "cell_type": "code",
      "metadata": {
        "colab": {
          "base_uri": "https://localhost:8080/"
        },
        "id": "5Bq99aQYF1J1",
        "outputId": "999b0a0c-3166-4d9c-9706-55f29775821b"
      },
      "source": [
        "iterator = iter(dataset)\n",
        "print(iterator)"
      ],
      "execution_count": null,
      "outputs": [
        {
          "output_type": "stream",
          "text": [
            "<tensorflow.python.data.ops.iterator_ops.OwnedIterator object at 0x7f297936ea20>\n"
          ],
          "name": "stdout"
        }
      ]
    },
    {
      "cell_type": "markdown",
      "metadata": {
        "id": "isHySxfjF__W"
      },
      "source": [
        "#智能體訓練"
      ]
    },
    {
      "cell_type": "code",
      "metadata": {
        "colab": {
          "base_uri": "https://localhost:8080/"
        },
        "id": "RAbUJH85F69H",
        "outputId": "cfe4257d-26e4-4ab7-e4dc-b602c128a5f0"
      },
      "source": [
        "try:\n",
        "  %%time\n",
        "except:\n",
        "  pass\n",
        "agent.train = common.function(agent.train)\n",
        "\n",
        "# 重置訓練階段\n",
        "agent.train_step_counter.assign(0)\n",
        "\n",
        "# 計算平均獎勵\n",
        "avg_return = compute_avg_return(eval_env, agent.policy, num_eval_episodes)\n",
        "returns = [avg_return]\n",
        "\n",
        "for _ in range(num_iterations):\n",
        "\n",
        "  # 收集階段的資料\n",
        "  collect_data(train_env, agent.collect_policy, replay_buffer, collect_steps_per_iteration)\n",
        "\n",
        "  # 更新智能體的神經網路\n",
        "  experience, unused_info = next(iterator)\n",
        "  train_loss = agent.train(experience).loss\n",
        "\n",
        "  step = agent.train_step_counter.numpy()\n",
        "\n",
        "  if step % log_interval == 0:\n",
        "    print('step = {0}: 損失 = {1}'.format(step, train_loss))\n",
        "\n",
        "  if step % eval_interval == 0:\n",
        "    avg_return = compute_avg_return(eval_env, agent.policy, num_eval_episodes)\n",
        "    print('step = {0}: 平均分數 = {1}'.format(step, avg_return))\n",
        "    returns.append(avg_return)"
      ],
      "execution_count": null,
      "outputs": [
        {
          "output_type": "stream",
          "text": [
            "CPU times: user 3 µs, sys: 0 ns, total: 3 µs\n",
            "Wall time: 6.68 µs\n",
            "step = 200: 損失 = 29.690593719482422\n",
            "step = 400: 損失 = 12.767662048339844\n",
            "step = 600: 損失 = 13.516475677490234\n",
            "step = 800: 損失 = 45.87874221801758\n",
            "step = 1000: 損失 = 39.4808464050293\n",
            "step = 1000: 平均分數 = 70.69999694824219\n",
            "step = 1200: 損失 = 70.92489624023438\n",
            "step = 1400: 損失 = 149.0686492919922\n",
            "step = 1600: 損失 = 27.32628059387207\n",
            "step = 1800: 損失 = 79.73705291748047\n",
            "step = 2000: 損失 = 311.8526611328125\n",
            "step = 2000: 平均分數 = 200.0\n",
            "step = 2200: 損失 = 441.3294982910156\n",
            "step = 2400: 損失 = 130.40420532226562\n",
            "step = 2600: 損失 = 3416.328369140625\n",
            "step = 2800: 損失 = 402.63018798828125\n",
            "step = 3000: 損失 = 950.214111328125\n",
            "step = 3000: 平均分數 = 200.0\n",
            "step = 3200: 損失 = 389.92364501953125\n",
            "step = 3400: 損失 = 1669.42236328125\n",
            "step = 3600: 損失 = 30848.5\n",
            "step = 3800: 損失 = 8599.130859375\n",
            "step = 4000: 損失 = 27829.255859375\n",
            "step = 4000: 平均分數 = 200.0\n",
            "step = 4200: 損失 = 110571.828125\n",
            "step = 4400: 損失 = 11453.18359375\n",
            "step = 4600: 損失 = 6846.66650390625\n",
            "step = 4800: 損失 = 2200.09423828125\n",
            "step = 5000: 損失 = 18694.2734375\n",
            "step = 5000: 平均分數 = 200.0\n",
            "step = 5200: 損失 = 6102.37841796875\n",
            "step = 5400: 損失 = 3542.34326171875\n",
            "step = 5600: 損失 = 4574.666015625\n",
            "step = 5800: 損失 = 5250.99853515625\n",
            "step = 6000: 損失 = 3663.30908203125\n",
            "step = 6000: 平均分數 = 200.0\n",
            "step = 6200: 損失 = 8092.3076171875\n",
            "step = 6400: 損失 = 38992.30859375\n",
            "step = 6600: 損失 = 44325.30859375\n",
            "step = 6800: 損失 = 44242.5703125\n",
            "step = 7000: 損失 = 28744.91015625\n",
            "step = 7000: 平均分數 = 200.0\n",
            "step = 7200: 損失 = 74083.9296875\n",
            "step = 7400: 損失 = 243189.75\n",
            "step = 7600: 損失 = 275317.15625\n",
            "step = 7800: 損失 = 408630.6875\n",
            "step = 8000: 損失 = 1148739.75\n",
            "step = 8000: 平均分數 = 200.0\n",
            "step = 8200: 損失 = 238107.78125\n",
            "step = 8400: 損失 = 125039.5625\n",
            "step = 8600: 損失 = 192523.0\n",
            "step = 8800: 損失 = 3138085.5\n",
            "step = 9000: 損失 = 557347.375\n",
            "step = 9000: 平均分數 = 200.0\n",
            "step = 9200: 損失 = 3320364.75\n",
            "step = 9400: 損失 = 1923031.25\n",
            "step = 9600: 損失 = 1904447.125\n",
            "step = 9800: 損失 = 1917573.25\n",
            "step = 10000: 損失 = 622135.625\n",
            "step = 10000: 平均分數 = 200.0\n",
            "step = 10200: 損失 = 1895570.25\n",
            "step = 10400: 損失 = 4305682.0\n",
            "step = 10600: 損失 = 1348846.875\n",
            "step = 10800: 損失 = 955486.625\n",
            "step = 11000: 損失 = 2800951.0\n",
            "step = 11000: 平均分數 = 200.0\n",
            "step = 11200: 損失 = 7843662.5\n",
            "step = 11400: 損失 = 1100447.375\n",
            "step = 11600: 損失 = 5213602.5\n",
            "step = 11800: 損失 = 2869489.5\n",
            "step = 12000: 損失 = 2080158.5\n",
            "step = 12000: 平均分數 = 200.0\n",
            "step = 12200: 損失 = 2652189.75\n",
            "step = 12400: 損失 = 2458843.0\n",
            "step = 12600: 損失 = 3572142.25\n",
            "step = 12800: 損失 = 7901519.0\n",
            "step = 13000: 損失 = 12095150.0\n",
            "step = 13000: 平均分數 = 200.0\n",
            "step = 13200: 損失 = 7328641.0\n",
            "step = 13400: 損失 = 1555334.5\n",
            "step = 13600: 損失 = 2065465.0\n",
            "step = 13800: 損失 = 3705682.5\n",
            "step = 14000: 損失 = 3758771.5\n",
            "step = 14000: 平均分數 = 200.0\n",
            "step = 14200: 損失 = 25034632.0\n",
            "step = 14400: 損失 = 8242341.5\n",
            "step = 14600: 損失 = 13737162.0\n",
            "step = 14800: 損失 = 18244626.0\n",
            "step = 15000: 損失 = 29621808.0\n",
            "step = 15000: 平均分數 = 200.0\n",
            "step = 15200: 損失 = 10331741.0\n",
            "step = 15400: 損失 = 37415092.0\n",
            "step = 15600: 損失 = 53891372.0\n",
            "step = 15800: 損失 = 61346632.0\n",
            "step = 16000: 損失 = 9291013.0\n",
            "step = 16000: 平均分數 = 200.0\n",
            "step = 16200: 損失 = 21411696.0\n",
            "step = 16400: 損失 = 27725536.0\n",
            "step = 16600: 損失 = 26094436.0\n",
            "step = 16800: 損失 = 6171717.0\n",
            "step = 17000: 損失 = 10134462.0\n",
            "step = 17000: 平均分數 = 200.0\n",
            "step = 17200: 損失 = 28726054.0\n",
            "step = 17400: 損失 = 30548776.0\n",
            "step = 17600: 損失 = 36487484.0\n",
            "step = 17800: 損失 = 16562970.0\n",
            "step = 18000: 損失 = 7724053.5\n",
            "step = 18000: 平均分數 = 200.0\n",
            "step = 18200: 損失 = 15839952.0\n",
            "step = 18400: 損失 = 15880795.0\n",
            "step = 18600: 損失 = 12173094.0\n",
            "step = 18800: 損失 = 53234220.0\n",
            "step = 19000: 損失 = 63301160.0\n",
            "step = 19000: 平均分數 = 200.0\n",
            "step = 19200: 損失 = 512858176.0\n",
            "step = 19400: 損失 = 3942249.0\n",
            "step = 19600: 損失 = 45301256.0\n",
            "step = 19800: 損失 = 30260716.0\n",
            "step = 20000: 損失 = 1949631616.0\n",
            "step = 20000: 平均分數 = 200.0\n",
            "step = 20200: 損失 = 11424727.0\n",
            "step = 20400: 損失 = 24105748.0\n",
            "step = 20600: 損失 = 25702812.0\n",
            "step = 20800: 損失 = 25290776.0\n",
            "step = 21000: 損失 = 44345352.0\n",
            "step = 21000: 平均分數 = 200.0\n",
            "step = 21200: 損失 = 24464662.0\n",
            "step = 21400: 損失 = 120516048.0\n",
            "step = 21600: 損失 = 70327936.0\n",
            "step = 21800: 損失 = 56411492.0\n",
            "step = 22000: 損失 = 67068640.0\n",
            "step = 22000: 平均分數 = 200.0\n",
            "step = 22200: 損失 = 237599424.0\n",
            "step = 22400: 損失 = 22436644.0\n",
            "step = 22600: 損失 = 222200432.0\n",
            "step = 22800: 損失 = 29404676.0\n",
            "step = 23000: 損失 = 41989640.0\n",
            "step = 23000: 平均分數 = 200.0\n",
            "step = 23200: 損失 = 70661760.0\n",
            "step = 23400: 損失 = 29819338.0\n",
            "step = 23600: 損失 = 66081784.0\n",
            "step = 23800: 損失 = 75697824.0\n",
            "step = 24000: 損失 = 33458662.0\n",
            "step = 24000: 平均分數 = 200.0\n",
            "step = 24200: 損失 = 96971200.0\n",
            "step = 24400: 損失 = 72892944.0\n",
            "step = 24600: 損失 = 184405312.0\n",
            "step = 24800: 損失 = 98486352.0\n",
            "step = 25000: 損失 = 30669642.0\n",
            "step = 25000: 平均分數 = 200.0\n"
          ],
          "name": "stdout"
        }
      ]
    },
    {
      "cell_type": "code",
      "metadata": {
        "colab": {
          "base_uri": "https://localhost:8080/",
          "height": 70
        },
        "id": "PvLjxOkMGELp",
        "outputId": "faccf73c-1ff2-4b7d-edb1-87b4a2b69580"
      },
      "source": [
        "#視覺化\n",
        "iterations = range(0, num_iterations + 1, eval_interval)\n",
        "plt.plot(iterations, returns)\n",
        "plt.ylabel('Average Return')\n",
        "plt.xlabel('Iterations')\n",
        "plt.ylim(top=250)"
      ],
      "execution_count": null,
      "outputs": [
        {
          "output_type": "execute_result",
          "data": {
            "text/plain": [
              "(0.1849997997283932, 250.0)"
            ]
          },
          "metadata": {
            "tags": []
          },
          "execution_count": 73
        },
        {
          "output_type": "display_data",
          "data": {
            "image/png": "[encoded data removed]",
            "text/plain": [
              "<Figure size 432x288 with 1 Axes>"
            ]
          },
          "metadata": {
            "tags": [],
            "needs_background": "light"
          }
        }
      ]
    },
    {
      "cell_type": "code",
      "metadata": {
        "id": "cbH3mCsWGO5y"
      },
      "source": [
        "def embed_mp4(filename):\n",
        "  video = open(filename,'rb').read()\n",
        "  b64 = base64.b64encode(video)\n",
        "  tag = '''\n",
        "  <video width=\"640\" height=\"480\" controls>\n",
        "    <source src=\"data:video/mp4;base64,{0}\" type=\"video/mp4\">\n",
        "  Your browser does not support the video tag.\n",
        "  </video>'''.format(b64.decode())\n",
        "\n",
        "  return IPython.display.HTML(tag)"
      ],
      "execution_count": null,
      "outputs": []
    },
    {
      "cell_type": "code",
      "metadata": {
        "colab": {
          "base_uri": "https://localhost:8080/",
          "height": 538
        },
        "id": "Dyop7AR-GQdQ",
        "outputId": "776e0227-73cb-40b1-cc7f-3b1fbfef3521"
      },
      "source": [
        "def create_policy_eval_video(policy, filename, num_episodes=5, fps=30):\n",
        "  filename = filename + \".mp4\"\n",
        "  with imageio.get_writer(filename, fps=fps) as video:\n",
        "    for _ in range(num_episodes):\n",
        "      time_step = eval_env.reset()\n",
        "      video.append_data(eval_py_env.render())\n",
        "      while not time_step.is_last():\n",
        "        action_step = policy.action(time_step)\n",
        "        time_step = eval_env.step(action_step.action)\n",
        "        video.append_data(eval_py_env.render())\n",
        "  return embed_mp4(filename)\n",
        "\n",
        "\n",
        "create_policy_eval_video(agent.policy, \"trained-agent\")"
      ],
      "execution_count": null,
      "outputs": [
        {
          "output_type": "stream",
          "text": [
            "WARNING:root:IMAGEIO FFMPEG_WRITER WARNING: input image is not divisible by macro_block_size=16, resizing from (400, 600) to (400, 608) to ensure video compatibility with most codecs and players. To prevent resizing, make your input image divisible by the macro_block_size or set the macro_block_size to None (risking incompatibility). You may also see a FFMPEG warning concerning speedloss due to data not being aligned.\n"
          ],
          "name": "stderr"
        },
        {
          "output_type": "execute_result",
          "data": {
            "text/html": [
              "\n",
              "  <video width=\"640\" height=\"480\" controls>\n",
              "    <source src=\"data:video/mp4;base64,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\" type=\"video/mp4\">\n",
              "  Your browser does not support the video tag.\n",
              "  </video>"
            ],
            "text/plain": [
              "<IPython.core.display.HTML object>"
            ]
          },
          "metadata": {
            "tags": []
          },
          "execution_count": 75
        }
      ]
    },
    {
      "cell_type": "code",
      "metadata": {
        "colab": {
          "base_uri": "https://localhost:8080/",
          "height": 538
        },
        "id": "WIrPLuSHJA28",
        "outputId": "e90bb20d-7d09-4038-980c-2f72cbd400d4"
      },
      "source": [
        "create_policy_eval_video(random_policy, \"random-agent\")"
      ],
      "execution_count": null,
      "outputs": [
        {
          "output_type": "stream",
          "text": [
            "WARNING:root:IMAGEIO FFMPEG_WRITER WARNING: input image is not divisible by macro_block_size=16, resizing from (400, 600) to (400, 608) to ensure video compatibility with most codecs and players. To prevent resizing, make your input image divisible by the macro_block_size or set the macro_block_size to None (risking incompatibility). You may also see a FFMPEG warning concerning speedloss due to data not being aligned.\n"
          ],
          "name": "stderr"
        },
        {
          "output_type": "execute_result",
          "data": {
            "text/html": [
              "\n",
              "  <video width=\"640\" height=\"480\" controls>\n",
              "    <source src=\"data:video/mp4;base64,AAAAIGZ0eXBpc29tAAACAGlzb21pc28yYXZjMW1wNDEAAAAIZnJlZQAANDNtZGF0AAACrgYF//+q3EXpvebZSLeWLNgg2SPu73gyNjQgLSBjb3JlIDE1MiByMjg1NCBlOWE1OTAzIC0gSC4yNjQvTVBFRy00IEFWQyBjb2RlYyAtIENvcHlsZWZ0IDIwMDMtMjAxNyAtIGh0dHA6Ly93d3cudmlkZW9sYW4ub3JnL3gyNjQuaHRtbCAtIG9wdGlvbnM6IGNhYmFjPTEgcmVmPTMgZGVibG9jaz0xOjA6MCBhbmFseXNlPTB4MzoweDExMyBtZT1oZXggc3VibWU9NyBwc3k9MSBwc3lfcmQ9MS4wMDowLjAwIG1peGVkX3JlZj0xIG1lX3JhbmdlPTE2IGNocm9tYV9tZT0xIHRyZWxsaXM9MSA4eDhkY3Q9MSBjcW09MCBkZWFkem9uZT0yMSwxMSBmYXN0X3Bza2lwPTEgY2hyb21hX3FwX29mZnNldD0tMiB0aHJlYWRzPTMgbG9va2FoZWFkX3RocmVhZHM9MSBzbGljZWRfdGhyZWFkcz0wIG5yPTAgZGVjaW1hdGU9MSBpbnRlcmxhY2VkPTAgYmx1cmF5X2NvbXBhdD0wIGNvbnN0cmFpbmVkX2ludHJhPTAgYmZyYW1lcz0zIGJfcHlyYW1pZD0yIGJfYWRhcHQ9MSBiX2JpYXM9MCBkaXJlY3Q9MSB3ZWlnaHRiPTEgb3Blbl9nb3A9MCB3ZWlnaHRwPTIga2V5aW50PTI1MCBrZXlpbnRfbWluPTI1IHNjZW5lY3V0PTQwIGludHJhX3JlZnJlc2g9MCByY19sb29rYWhlYWQ9NDAgcmM9Y3JmIG1idHJlZT0xIGNyZj0yNS4wIHFjb21wPTAuNjAgcXBtaW49MCBxcG1heD02OSBxcHN0ZXA9NCBpcF9yYXRpbz0xLjQwIGFxPTE6MS4wMACAAAABr2WIhAA3//72rvzLK0cLlS4dWXuzUfLoSXL9iDB9aAAAAwAAAwAAJuKiZ0WFMeJsgAAALmAIWElDyDzETFWKgSvGXwOeIADnZUUQQ71rg4+o6+Bp3yg4khV7MzbFcw3yaGItYhBs3zh9Co2NFP9a2EARYTj9YpGQlnYWCgDLIwQC/X0JDVL/iXdhtfuIPNK9RpbVLetwIZ015bDzr2VbvsvWtKDWIucaPZuuxz712EAK7+N6mAWJfA9W32GE5xL1pRDmBULggxucAwoOAzeSOWGDmpTKtrbgczB+gfDTzCO2l0Bgt3CPfnI2XrZylHuSmdCjG3oS2KAjOdsvGllouQ4Biwgc+oDbgwob8SqJJ9qyCT4tOQ+XUWIDFpm+LEmqoRhK3c9qsPlRnKrdv7+rEGSBiJ3HHg4ksdc1TDWz5rnFoCJnVV5+DE89EtS87pZHcqedg9c2L2TY456Al7PRCda6a8kj/R4cpxyakIrOcCq+g67NFYNAD8J41uykH/376Gkg9ktk7lU7DVoOzmsuPoSQCQE5M/hn/v1HOZBtx4t0YBxqW2BGUAAAAwAAAwMDAAABDEGaJGxDf/6MsAAARgru3vjTfQAg9FqCt5obOLguZlmC0e0DiyVMs/fq0SfgxreDq76MqqD7pHAsc73JasGhBKHS1zmQCoqUSZZVO222T9vlfuJ2OovkkFdpEZaehgtn5CRKnE786mtXOecU7utpvXtUuLu8/Y/4nv0fMbY5jdm3CNEpHrq3NuzV+gPlKaRF9FHurvZSM+N4Q/lwg0tDfRlDw8/6Flp/9b7cM5Y9a35+/IZFzY/XqYp8zdlBwWPp8BMKR0KWqEPd6DNf6UHOp59CnNC3xA6zD6iiA7MMwPIWw5FT41WLEi4KGOX/TGbnTN0AhpHTnFOC8eigAAm7Lm4P7D0rJGbYfuz19QMAAAA0QZ5CeIV/AAAWvkuu0NuLztiB1JB0FRwj8gvcea/D0qbOw35C7LAAAAMAAffF025uj4QG9QAAACoBnmF0Qn8AAA0uE/VEoO/9fzTJ+pGormg9XwdghftFgAAAAwGlUnaoB8wAAAAwAZ5jakJ/AAAjwjiRHroAHFg4HdpHhYFGA8h9GW/Haiemnnq+2d+GxsPo8+JFx5NTAAABC0GaZ0moQWiZTAhv//6MsAAARn4mPR+V1TAFgVedCrtEPM/vMZUFqSfyP2ekLC4byozZ1hNET2Hnuh74L4K4mSaLtWJUKUgHornrQ87JvCE5/7SmROFq/6Av9EyMKRDujpy2hzJNmM546xKi/ufP+n+Z+fvmQX+RCtSANGsTJJSZ17ZXiuNng0YqbId6RbGPvNzooezcvX8MNWO6Xa+e9qU82zanf2TrpI6GiILTq7WKSFXbvHwlTjZAVjyKm2ojJNOYpmxf5aUrNFQUnjxWjjWi3A38hwAZAphw1B3D8gpohgdyAZzHI/X64jf4J45QKXmNb4/cxVgZUfaFh3yaY3LlVjsulicZSIFlKQAAAFlBnoVFESwr/wAAFruUHRmMdn6iXjWj3hZmUeJa1axRiHvyTIgs7hIypb2bd5p0AEwp2iCRwf2LRpL2XygYfO3uMFNdnPS4Bu3bECEVwxLKJzmvxP5pUUo8/wAAAF8BnqZqQn8AACOxQwI+kxG+Q9/czoBXgKbO4+DTc0dPxAdMBXA9/fH796AFd9VBM/obb9dhGWWuD927sbCbSwdJBkgxYVW8Ppap2IBCF5MGO6A0tTJjDd0XZyvLTz3yDwAAAI1BmqtJqEFsmUwIb//+jLAAAERC4oSLjQBWlUZe8devh7gPKPNllkhgQHsEXIUcRVDZHxjOZ0NM0wqNu2DWMV5fPzIduczvUNv86eUxa+y2w3UIN93Pz2MLBBC/uSeHXPLDweX1C/MhpcbwcbnPlB/OqVUQzy+WUMiinzLNK3StsOKTD5MeLa1gDfhB9UAAAAC3QZ7JRRUsK/8AABYUqLcEmbla3FHh93eBdwA20wBTQe2ooPlednnmfu6QcwI1rHdQleXR6KWxsv1P4+/8bxDF0NtSyS2blWmD+7w0/1dV70AzqE1Hgl8eqfP/IukasBVjZB8zivXBLKSXxY78yzh/wbyIMhRs1Tn8tCiw2ywK2pxJjwidl0MUp2l/1znMxi7UOxYaB7IvDFB95Z1JD85IZnVt/7tzXQD7naxky1oDpHeZsF10P6mAAAAAUwGe6HRCfwAAIqNMKwtOlIh9wdyW6h9KN0HN02i1KizdHV814Ld0mnQ+rAlDHwTuWlrSFgzmv+3Y8IehX8vti96gRld7Ky+qgKAS4dy7Fo/7yZyxAAAAZAGe6mpCfwAAIr03TpXaeSnHYAwAW1+klL4DWaUSD71rM9mTctRK4Y3XN/PTUtj8GoNWF69S1p6jpDocdhUTH8jNNdiLLqreVeUMPBlM8BYbYUtDForCcP9BzXphfdzZVMLLmfAAAABzQZrvSahBbJlMCG///oywAABGf74ENf70RCwrJF82mY6NbNy0WWhszAZE1BpBujvnEq1xSrB0cvDREOtJAeOaDMkFWjBNYkBgiRtme0TCqDMAzEb0e5NMrL+BzpXVAYt/qILienfhFrr1M4rQzvpa8ZU1MAAAACpBnw1FFSwr/wAAFixObMWEvNY9Lk6vufYBWKMKRkCOx6nr1FLGb7SSTcEAAAAkAZ8sdEJ/AAAE/JCU5BnCVDJKDZgOifdX0J7n6+aoo7cmmALbAAAAJgGfLmpCfwAAIr8a3HAAJY/M+FHHmRkPH0HxkGyvAc+TSZqp5kMpAAAAzkGbM0moQWyZTAhv//6MsAAARgLwmQ8EiYaowAsFAop8vvVXe5mz0f4q8z+qQuKdD6wIs1dhqhwx2E43fwClM0g27iPXK7+ccWpfwvz0TheQxWK+P/AkIDfI/d+2lOE3/dgdC0XmVJBQZ0x+WcTe/fxqpKl28YQf0FFdYrI2EoZzF7fY7r9ImAdLAu2Z5NBL8MJ1MXWaePWST3KfToDWNUrXi4zHQZc3l4Je08u55JGt+CFr2ABbi95DY+Gphr/XEZ40c4fiCgjHxLvj3/HmAAAAT0GfUUUVLCv/AAAWvBarPlHKMAmmKZZMYHrUQGbNh3FLnMkYcx8D3J2EvaL0o/52nexRot1vJFNP778zOhweYtWf6PHpA+MlAr3S22LlBvwAAAAyAZ9wdEJ/AAAimIYLYegnuQPgAWojcIo3wYgYBeD+AO3mO2VsWlgs97SejnzuSwC0ZUEAAAAwAZ9yakJ/AAAjscvrZfwO9fAMvzHMHBXbn9c12qZoCQWj2FfhHc4UyGXlP3SqnDAgAAAAxUGbd0moQWyZTAhv//6MsAAARhC8hu538WZsBUb0teiwArmF83ZdfPldGEWYs6f/Ne/rSU1oJW/nCiGv1INxDShyXKOXgXGdjcGAbLu9dbcOMhWSsXTpth5aMf8cvl/yypcu5sY5NG+/06dMmMvlSPGjc9sKF9a5XBvSW+hpa3uJi0LO/G7M7qflgrMr4DO8y2LtBqAw4TEc6Mk2ykgr8dQrUwlkMkkS6p+G0WKvUCV2ABJDDRjJKnmHnyN0HdoKZGkVnQYBAAAAUkGflUUVLCv/AAAV4L1fE8w3MO5ojOoNq1VD139oDK6pDfTAoKWXLwT5ylOtA3vOCoBKKckv0R0AJkwXF7FdBWsVUJ8JdwmLeoKHJYkz0yEkxPkAAAAkAZ+0dEJ/AAAjwxdjMrsIhXFyQpXYn2ZRylPCIRWmUZi/20PAAAAANwGftmpCfwAAI7HMDUKS3MJMZ9x9H382pUyZdGJT7pw4fTzUAAffGHRnxtyb6a6EgYJv0slQBlUAAADhQZu7SahBbJlMCG///oywAABGAPVjzgBsP0hI178OG1koh03HN4SlfFfH2FPHKJbhvwR275BjY5WR3C9ylYy/aJB40p0dGVlVbG0MeRtQrMIkoGo3b+bee0oeewPmclA8ke64e5HOvoIb6TVqaS+GkonCxh4mlNcdLkRdY19/6yQHLUa2ONthmbpQKX/Otkc6XzLOmE5DEk0Ef9umZqI6GZ4CJzh7aFn5r3r5JAmKxHWvnk3iUiX4tOdUCobvraauB+a3wnGiLOm3di4ruIkLIP8RnMf0ZaHKicBLyhdQx9oVAAAAXkGf2UUVLCv/AAAWu1t75VAETFUoLpNekWU47tfsbLATqIFcT3naa2VzTWDFn2ltZPzIwB8KF3kiBqs4dY9lFaJ5or2HQnaLf8odz/bXJQxI9mjg6oeB91vlJk8Zs+AAAABJAZ/4dEJ/AAAjqenK3ROTaS443yEwASoVTXyVpTd4fSfZ7zv6+mMC8kwsZakBu8rrI07qmtlvBVtWwy8vvNg4mpkA/Yq4d12ggQAAAFABn/pqQn8AACKuYEJhzYheEFd6sqrXHn1niUlaRixYyOCMBQQP+4QEKYeh6p9j/C730zAXz7VZDu4kAJpSgPGSr7IfDMkW7uF2/B6m2cMHTAAAANVBm/9JqEFsmUwIb//+jLAAAEYQvGm5WPjAHKMwjEJugcTOundQr2Xnp9PF27wA/Zc2egIWuKRMbLV0ZwdzwKbMabGjErZ5bjFi1hr0NaznhkOinSPI7RZ3D6fsNPhY4g1bFfR55DCh1PoxX6F+/vnm3Q6YGhjv8FYFzjLq7VFIAXM+80X6ystRfABWbGlfTcEe3eOQSOX2hP4ZLsniiMRcIo2goHVgCFQt5CvXgJ+dWvv3uCQSc8PWIYJUFhaEmx+U0U1OjX694yZD3/HybbBl6+4SSkEAAACsQZ4dRRUsK/8AABaoCEHxz8kccqzB09c4ABtqMh3cNkkhp5KmqvMprPp04aJF+qNXUAtxeRJts544JxBgbFJQqiz+eWIUmRU91JOpwxfCoI9sUlA2Tesg1iyJxjBXRjUiM32KgHQrUpob1me0+h7WsWmlAh7hWhNdb53xXzmz8ZISGOp80qBbS4arGtWTuSaEN875uqUf9PmwjuOmAC78fiJvC+mH9ZAz+TqtdwAAAFEBnjx0Qn8AACO3dNsSm5AFro3yseV3K2kvls/u1/My9UAIDnCCDGkhe7wMgqC0Cb8cIVmKf+LA4PVthyrVgUxN1371bbkvt1ihGvl8jSiEbVMAAABxAZ4+akJ/AAAjvLcR5BZVm7M8qMMj62aOYnoVecjRxDUqT84/t5fLc9ntWzunXB+SIQIS1IbhRooGItZAQAL66F3z9yBC3Lqn4RTxHTH5ESztD0bcKPM7u+WHVc6CmwVn0uv3BtNqOiiiZ8Nolw9Im0AAAACLQZojSahBbJlMCGf//jhAAAEM+h8/GZK8A07kmlppQrRjhz2T7ikOBtplVuujoskKHYjnFyYD0oJK+V3ysKkuK3Y/pD37JcXID5y+IB7O6K7fPG4VLcnJZuj5UoGJi6PUcVKGvcZeEXQXcDxh2oL4s3N6jf9Kin8nnt1i9KkdCDZCb+Y/8eHaz1l20QAAADxBnkFFFSwr/wAAFrxCDtZWlfss1abzNlI2hZ2foadu432Yo9UCjEEuvwdpMHJTVb3shSdhWAOrAIshMWAAAAA5AZ5gdEJ/AAAiw0cIaubdRyzG7By6cBHtxAJxnpTpw83eSqoraAFxWkHIupE9OrnMj5Unt7PzZsEvAAAAOgGeYmpCfwAAI7IsaIQMUMNEq88GY4dSkpkZ7T76jmfXKYklAA6g97t1++3EU8Z8hz5vIrujIVOD2zAAAABaQZpkSahBbJlMCGf//jhAAAEM+jKABhAjqRk/ZzhT6o8DbRhrH+EjsnluA03Qt5FzBroGXmd6AnoS0FDkKLoi2rfogCsCr1g81FLmlU2PPYx6fpfuIdFMzXcRAAAAYUGahUnhClJlMCG//oywAABEFGCyVa/inwgWcQntQqhx4z2Ces+O1VEj3R0DekzljRM1rUODeV57lbzJ17fEeJva48HmaO/zRulV3UKju//n90rTMB4cTRw6HCoMSn1ty78AAABZQZqnSeEOiZTBTRMN//6MsAAARiXBNYVciAK0Sr+mpTtJXfb7qPc2VotjOzjQkdKZN9hNT/b5uW3LqSNhoZI5pWfqPjWJgEmRKO0szOkPnQ69AK5tuPikuIEAAAAyAZ7GakJ/AAAjvwQj5IR9hBFbcWOYK0NFpFJTLtsqGsioInjOAdGXjIDJfRuOGCY1p4MAAABBQZrLSeEPJlMCG//+jLAAAEY7dWNWk5yINbK2dxnjw1JJwAm4eAgCvxJYh0U8O5I4fxMZsZ+Yijpj14uBfTE8TEUAAAA0QZ7pRRE8K/8AABbAVnTGjYPufVhZANozDJ3oYI5RoEvbO5wLy7QyTlU3d4gRBkPvkhB1twAAADMBnwh0Qn8AACPC8Hvgf/uSY7r+mWm7/bwnM+S5UGJ9SLAl4BEcuABwGgByeDWCeMDv7BkAAAAwAZ8KakJ/AAAjvv4UFosV8xv2VCs2EOyPqTyve5XreyIMEMGAn1XolTryfVSAPtuAAAAAeEGbD0moQWiZTAhv//6MsAAARiQCkd3qB8lNFCh15OSVAjgPhn/8aSsacbM7ln/mlXkSExQWgA4tEvysvbrIDHiXrLgSEwNFAHJMiSs/0w+UiZWABAahbuS94grRmcsFhgKsB40/owz4QEc5pwNofl40qzEhbra90AAAAEBBny1FESwr/wAAFr5p4UyBsAAtmMMeoQKhXVjXbrjvRkugdwjeju4LuDAma533C9CCxhpob1x6PgjOSQzpa7ZhAAAAOwGfTHRCfwAAI8MxvGZC5mz2HSQ9nSx3WPj7drG3flg6UXHar6xNwOneSI3XRQATt2oA8u9cGv6s1U8HAAAALAGfTmpCfwAAI8cr+gUh3jrbVcMcmMtKlAM2Ozyq/vyQ0R/13LTvMvzNeyKDAAAA0EGbU0moQWyZTAhv//6MsAAASHjf4Gn6AxvUoTJhuxWdinkvFZAHSzRmsUFUdCGqYeLh1IFr4Lfw1IOJwmTlacLn6aliVNnIxWTVybCSJBT4+o4IAD2J2pi0mm7nlFezUmwGtNlv2vdflFhyMmz+xFQkoPeggVjZ0ONqCinh2e3+sixnqq/8GkJm0YrHIMO3ZqSJlYXI4t/DHK08za8zNLecQ/MFDGLYssb3HMYMXV09OCUx2AqM/xTZ6PlWkBPROCGlut7aCjLcJouOqS9uCGQAAABQQZ9xRRUsK/8AABdMRYeJPACJBjsUYyvUg4ekcbAFCxqjTJBpPMiTZYMm8CeFoJZqTMw07SNrJIr9+yhiRZSuKM5ZabOI6YJg9cRMQ7YEK24AAAA8AZ+QdEJ/AAAjqescc+Iqk2SLQ7pw316Gps8GlR9Sq6K8tUd9ABqM7g1tb3fTkgtrzdRESfezUOG7gggJAAAARQGfkmpCfwAAJL8CaZJABuSx9RrKW2EiyGgwoJHKQavO3xjQkkO3oIKvbA00llfG3lSuH/2WFkZM9cMsH+2eS0TXLMPOSAAAAPxBm5dJqEFsmUwIb//+jLAAAEgR/Tgr/UoS4NclXOHscJ8AiTBChbsPcAhsvSHoWOYCA2EVBAalEhqDdSD/ye1KpknrbD1tz/GtIXdacfSreTPt4nZQdeUlwoQBFRjH4tTGLTT1M249zsjUO7n7ZgNbWMqTrhcVNWBymyJraJJtZmVapsntBbtcDFr57xAOqHVbz2ejYdHDIl/rU5Kp6SBmBCJsZWXm+6HVh4bC3dWwUk1g2brJ6HnszvpB0YmjYC900GeuNtKtr53VB/yux6gqibmb3dSZhQsI6dhVu0Fb0oYu84gOPJNbO/gc2vBHNJ6nfpQoJ28ZcabsC+AAAABoQZ+1RRUsK/8AABdLJOxDSBC7M1PUiGhcjnhwIAW+rF7YoSn9/4lyWZ+sXqapWWVZ68dhHlwbNZq4OcDfOjfwzaxLtadJ0QADavEsJdr68KFERHW0X4N+Xf7PsEA1/2nPtShd4/mUt6EAAABXAZ/UdEJ/AAAkqUyLr86ACMT6zmN7vELIpFKOpxuZY4/dinlt1BMkNnKfgkRnZLx3Q9WwgUcmrSQMsj3f77yW5iTYowl10K5xGqNGfa3tCHovbe9P+1W9AAAAXAGf1mpCfwAAJK1GjVlHQAV7XQFWnbnc8hnyJythOt3AVd7wMepv/THDBX8lGlYxGfsa3ulIYQlLGhCeSJ67fTyLL5FZEk3JJnRDsTHZiVFTc6G7Zxi034H2jQ2BAAABQEGb20moQWyZTAhv//6MsAAASH4mxVknOKRABfiJnha5qdQaWEwJz51ttcyhE4CLXGQllDsBVjfARoHfQvdgtTvE90+QTuCzJd8f6Nxv8Ta+uID7EIXXpF5gFQhlzm1ihG+TWOtCLc09tzHc+4cQbuCHw+JnV5RbEtVW9Mu3covVKYq73v9OZ021afdhBjxsLxex3C3aPq1+f+RTdTMY+V4rPSf0+MYeUWamsKanQ5LoKwCUivDL5AIwhEissMPWfK7DVGuxAEoAXt0V3tdKO4nTXdJWVwMcMM3rxeNAAM/pgma6b859T4qoxsTDXCOzrL1i9qYaSAequBquvO4J+LDckLMqTfCMnK0vDKSuLu7bQJVeq//8n4ewgiN1A1EY0XixicnW7D8+7jid4FpAzTM62g24t/yePLNQw/OOqRr9AAAAZUGf+UUVLCv/AAAXRSrHmJeYAEYDissKJJspzsMfT8BqwaVw5YXnw6rxS67S8OGrxLmwV8axmchUq1nGZ4N7bE5nij/dE6Mm4pQxqctNZ6+VYX2ynUV+7G+Os2rVdj6lxPIWUPNgAAAAJwGeGHRCfwAAJKv3+VC6AXWvzx/UohyF3HhrcBoliPFZFQw8TWjfNwAAACgBnhpqQn8AAA2ElSz3Er+dADBQi1ujnAnEmbkYXgZK5PrhA3EudDAQAAAAc0GaH0moQWyZTAhv//6MsAAARggaMAOka0vPC4do2tI+NllY8DAN1J86+rfI/tmWeR62YfDH43sVGEB6tmPjQMBD6OClpZc1aHihlTt/MyrFqyRrQMdpo0jT4M/DTsdWUwVb2MaM+8h5jDP1K8VcIiU7hYEAAAA5QZ49RRUsK/8AABa1XBinW39oUeC10YTAJToYALQ8dQO/CKsuUJwRLwVdMiQ76liQU7ctMZ+cYPOBAAAAIQGeXHRCfwAAI6xB4gKgUTIQnzvQa82Zy7DLUTki4cDAgAAAAB8Bnl5qQn8AAAUYiWWYs0RhZwKuUxGgSw5PmncVUnKjAAAASUGaQ0moQWyZTAhv//6MsAAARgNvtwBWH/Bq7Ak2zgDYKh0gU6w7ImO4GfqTlarv/w/erDAtU6LSfmZC5KUzwO6tNT75j6EwToEAAAA2QZ5hRRUsK/8AABa8nXgCJjHZfB6yWbwdQJPcTLhCyNhG9rF6AtE+u5ZqmpqSdisCswLqEeYmAAAAIwGegHRCfwAAI8NAqvm02ZIooa1fRwgzUNF8weqiykcijZuBAAAAHAGegmpCfwAAI78EK9XPMVygkN8hUiwbqhoAqMAAAABjQZqHSahBbJlMCG///oywAABGEQXpZ9AFb8aWofqWT0d3Kj0352b45fAwFbS/WmbYaERMWkMWtBBVO6BF29L0jy0n0Y17Xpe8YGlEgJ2Iy/swScm9m/hqomiX7WG3yBSoq4zVAAAAREGepUUVLCv/AAAWs2c7FDIA3cALIQ2Z6/EF+argOjpLenAEYhuGIlNFt72qy2YoHrV35dl/w4w+BIB2Nh4o9/jAObcXAAAAJwGexHRCfwAAI6SnwLCoyKoKG7pik2bK2eCBXI7b/7CssDAij7pbMQAAACABnsZqQn8AACO/BCdhsqBC9MGeGtBwbZmWBw3z7KsOSQAAAJJBmstJqEFsmUwIb//+jLAAAEYUbdqwA4j8kwQMRxGRDpH6BLQmunrO/EPuZIyAEy/sP/YO4qBfl5pLhW0lSBwCseaBHvDU/z4wO7Ca9ZOgvlp9/s8kTPo4WiTlKmzYteZsLHPmBKQS2DuzadprigwBK+CCCceROsB3q/zBzRiWv2bpkR1iWhyZmCIJYMwB+z0C6AAAACNBnulFFSwr/wAAFrxDzbcVzloXk+PbMsFFto/aPSCrHxdtmAAAABkBnwh0Qn8AAAT4XBYn5f9Y/HTCTQWtZ4clAAAAJgGfCmpCfwAAI7HMCW+pa0YKAFrrCJLQulvBKfFvxLY0K0wGUaggAAAAkEGbD0moQWyZTAhv//6MsAAARhCT5LWAFr2k/hkYtuUXeCCcGPIv/Cc7e9xn56+KDh/HOTnwCDUjdVqrmyUx63sYmEhZ8q+yuPBeTqaAKN+oNjblYby7hx64LuS3U4QtYM5UN1+tQLuebuzQKMPBwRIewq5+Jo/e0rIP7rCOOoT18TCHNBS+ZKYHX5d91ybIgAAAAElBny1FFSwr/wAAFsifgCtH5jTDnlfXBjUc1nLuu+G2GzbGHnB9lXBjYl58DcFC+tgAjb95NqqW9ph50m6h8ukA4EYW6J0H30bNAAAAJAGfTHRCfwAAI8C45MLoUy+TZojbRx6vSnc3aBIFYzVuh4nHJQAAAEYBn05qQn8AACPVIQAjCF5unxeZ4tFW1BgalvrhJugMrz13gYVbXdJAjY/FJ7Cf8N3ml22kj1IXcP8DMmdicVchDS8rbKdtAAAAgUGbUEmoQWyZTAhv//6MsAAARgMXmEGk8PiywAXULefGtx67k00XdEVSnKlJoWW5cGTjVw0k2jbWIv7B52RfZKFPsKtYsfJDGt7I/8iM342du5818XJgeK4frgs7E3oXI5CfCJnF7J6y2DIf9qQCaHoKPePgdRx3VJ0fa83uuhTdgAAAAPpBm3RJ4QpSZTAhv/6MsAAARnpvTLMD58WAHL46+8CqSVZjECCWw3jNdd9yAZoFsUDVYaPrTOvNn8Cq9GkDba31fO3tQfKbiK9hYlYIG3HYwu+gi2NHmPqTFviheUgbbWyllYYmryn8/TFWLiTcqF2p8UVgXa418kyggTuhSAm9t57Pe2vQCD7zzzZpgSy+bEM//g7zy8ZtpSy3FloWlYlErAqh2/Tkeap4h9YAIX+Ato+T0NFrnPS8yNBVjP92R/+wY8Mz6WhIRq192hItojy13hB/htt6Jq8shwFLE66Sj091EnyNKV0R/9L1aAf1QVhHrWDFYo11LY+AAAAAe0GfkkU0TCv/AAAWtP2qSnv/My2XgDy0GuoFnshYNgO8nS7gN2w2Znu1OodgBuZjqjjVlyTgzu8T+a6Pxx60HnTiwv1+nO6jnjcjyegALu5smQT9oqO9jOtI8JRBOZB+rZluw0T/POCJK1KayJM+Q/tzCWmrcn6l3KWi3QAAAFYBn7F0Qn8AACOr5czE89ma0rKC2P0UnY3V/wD/U4MrQYTil/wecRb8ZGDgdiQR61ibqoqPvLA3wATPwTUXDlY/EfTgsnCDTQ6HhSlk9ialb+9whG+cCAAAAFkBn7NqQn8AACKtV5vAgA43YqVavV9Od3cFyJ8WIqJC1WLlOFEA31j0bgQJl0/7xWmfmi6jW9+LZeKmixrdaQUSu5usIHR50jrtIjdU2sr4dULTQHx240diTAAAARRBm7hJqEFomUwIb//+jLAAAEY0OcjM1g4+AE/jET7wSoSIVG76A3RYkjf0BPxCqeCv+BhzXCxJXvSXH1EloekNGf9NB90XB42RkW6e5aRHxkSRpawxdWRC82q8HYaqeoozcmbphHeQksdc71UJPdI0GqhUNc7MxSVUGSd7KJXINfs1P5L/+5lmaIcRjUTyrNOXdo+QZfcz4I/q1SGUgS77VajjS6nCOBXUSvDd6LLOxX238nNN60Rn+AB39pe1TQNiWtXvtnTV/KuivgCZweMpUt8l6MvKAkvYB9dqp0ldpHLA3Nx8D2MoXUVqcBCNJLj6P0Slhc7V27vGV5kP4CPnuSaQ5UTQIxXzIN/Z9MEKtRkewQUAAABTQZ/WRREsK/8AABa1I/nVAHIz1iFZwQhk2+wnoZzdwIlANM6eayIivB8PYsYkQctTjdTD9U6al7rKWMBOqFU58tWJxSoCcORsxJxkQv1NPQzZNz4AAABIAZ/1dEJ/AAAjwtxyblJzZ3C7B6xk0rCauOCzFyu30dRTeyPEV8ZdeEoDJ0uoNan65Bko5YFThVd0tYZz+Ti795zMPQ7/FaVBAAAAKAGf92pCfwAAIr8fjdB4SaAwGV+JuMxURf1DfM1jm017MUQoDsJ0OWEAAACAQZv8SahBbJlMCG///oywAABF8th3FOAJ9sR7RkfT3ZDgN6TUFYUnxhqSUxU0QIWBtkbHJWnTR/XBTdTnFpWvA4KaGqgX5ITN9gebRUBV+cjUdcV6yxLXtXBR4XoJLeBkj8BMzHK0Qw//HMo34cmA3+lWnTqoMPTALoD4xzptyiAAAABFQZ4aRRUsK/8AABazSAOg+b9jca9594BiKTBNddc7mAq+ZoOlI1OF9en8t7j1qFShhJugHBbKGm40Hypq4skDiVHPzb3pAAAAQQGeOXRCfwAADX9JPk8tIzXc3zpRLSz5OlA4ORH1YAaifGxUp+nSI9Qa3mJLAC3OYo+8DFW0X/A/9+QywnhdsIZQAAAAQAGeO2pCfwAAIthcwBWbZ0+ByL6zDL+5BnPa4YcEbgsxw+taD7rrNnrlJVTmcsejelDFjrqLrOv8VtCh5ELn58EAAABhQZogSahBbJlMCG///oywAABGAs/yekCWdftL7X1e/NLuQPYsqTHYVVbMT/wMvTnAAJgLe+XgHX05O6aRZG3yoc+XISrPfsh/QiiwW5tRYKfC+ntl79snMxuJ3///WGKoNwAAAEFBnl5FFSwr/wAAFrUiliABFp3Vp7sPe9HSjVFT1c4PSkRsRvheswAL7qbM/PXXJGX5H1jXtUtkL2xABhRs28DggAAAADABnn10Qn8AACPDOeIAhS+8+gDUbn7+GX3KVdGKKaGUH4oAGozoe4kxBpc63WYuowYAAAAuAZ5/akJ/AAAisjy4S+BxEc49Mx3JDu/aQFzktNuEC2N9LmyteUCgtYH6+pArYQAAAEhBmmFJqEFsmUwIb//+jLAAAEQOZrq2c+kr9AB96+bPY05GucWHS7ciZ5zpGpM3WunMbNse/QC5u8pesBJNmLvWR69evbwqpOAAAACKQZqFSeEKUmUwIb/+jLAAAEYHuQAR71KEtT7fnKIbp4j+bmgbjWBOr40cCi5x3BexjdBYu3lGSrNsb7fB9wIPzSV1IGgm4zkziW6VF+YW1qAswAb8hTzFYs12FivkW/Cj0lwV5gteOqVJRvRALk5rKwb8nUI+HI4c9ILPWSj3LsF3ba4+lT+FeVMJAAAAU0Geo0U0TCv/AAAWvnVvshN8tmNfSlarqRuWt5/MBaWtMAajOclwW9bL6mW8lc6t4EGJglwAnDpm+DSaiJVxMnU63W2EC340gvXdK2cpjptLiWVAAAAANAGewnRCfwAAI6v4XC6a1BAMAtreqa1ehyH/PhbZSfxWe547gTRpPioFoZHV6SO+uskAz4EAAABDAZ7EakJ/AAAjhGBQUFmD9oR5vFWb7nGQDoKL+Vfw10MmUEkRSIZWlxTTeqfnXiwAE6wg6mEAyfwTgKH4+xbRROKqfQAAAQtBmslJqEFomUwIb//+jLAAAEY0qjtEAEdq8n9h4cv5aZR+TkZV9w/GJzG6h9kQsJbUIQRTu+5fjMvtdCo6ceDqR/jLfoVonDAcF7dFjLYR7rTFLqa0QDPnjw+mR6fqN27I2TEohxX7r/Hqkhawe5WRWnx4XeFI9YEuljPoHtx/eIoQMkpeppgbySU8wnJr3+JKgMgAT/+D277grTTzvcGoPOBB/4Zud8uE5k+734wf4+0U4ruBpUzIELDgP8mmUTulQ5JblcH6+zdV2EYjWV4FnyqNYAzrOPIbmea/iS8nXMIogwMn4i2QW8n680n8AXpfwfIHuWLySrLG4dpYOOG0e4JYVMSTWtKblJkAAABWQZ7nRREsK/8AABaoFgfL2x0F4rJncLJsQ7wj4qdoHRWTGQ4HaRFWXGsnsnIZ7Zfg/tVx/2JBLQ9yzxHzIxCKROBZXJ+ru6SAeBKSqWN01ozodyt8LTcAAAA0AZ8GdEJ/AAAjuREQAcWDXjFNSn6z8WkPYriAziqu/UFPtLcaQPJNAOH6D73WBGh8NMfafAAAADwBnwhqQn8AACOyLXTLX2mACUi5dG0NKWsZ4gl1KP4JWm20I22cihRV22SeK2s3Jg+vwzzU2n16j97owIAAAACIQZsNSahBbJlMCG///oywAABGAfJ1HB7bIAToC9CZ5OUuFAFIDqZ/KGi8r5PF7lxFEDGZdVn3xuTOWxxfjMgbo2OFDLpn+kW7tQPZEWvLclTBJfueXBAfNJJbbvv53LcxRtBE0BQEVCuePdHS0iKGihbAUSCbQGa0rI1ZhHYWufNd/DBfhd+vgQAAAExBnytFFSwr/wAAFrNHzp7yIelmua44Jma/GUVI9rPVN4/ojZxkJfK6WPHgP3p16ytXXN171Iwc03+lYKcBhD9lqbIN36VUd6iNmq7MAAAAIwGfSnRCfwAAIsNHEViZ6vLXXeVXw1ig5DSSKZS/p6GZsJGhAAAAPgGfTGpCfwAAI78aR/sAEprqxqztKf/Eq1Xc7ULeltRGLcQAyNw75MIjYBUzEm7DiYLphY6c1ZhmFTTDSzZhAAAA1kGbUUmoQWyZTAhv//6MsAAARjDKLy0A5wAXQZ8bYc15Lca9Ze0JiSqluHixLgYPa8r+66prW32EuewVwX3dc/kK1/6vtraTnaSlylFGnGjKe/WDcWesZY9N3LexDd72Qf7d3VF59zIf+QXuvlT2fLrKMLmT55xKXrpVhivM2wbRIIz3LO5nyZa8VaPft2ltBJEcAhasUQ2O/TByh3+VYCO7H4wZrQSyPtjY0lMgUztdiarfgSVX2gyjEagQZZzC8sCzhYFxASD4NWh/zMB5l7i7CpfYeSEAAAAtQZ9vRRUsK/8AABZuTZLHwPaQIl5X8LiOiI7tkTXAamHVlMsFbNfhfoeq4gJhAAAANwGfjnRCfwAAI7rUsO8ax9T6KAC1E1Xkycu4I8fQiiTMZI0Z8uJd0+DWk+ACZaHttn9rb9Kw7xYAAAA8AZ+QakJ/AAAjO4oI8Pk++79ALRh2BnCO485FwWOEUtsAE6w04d0gLMYVFeElMG0K+iz4F3Bz4GR+q3oTAAAAwUGblUmoQWyZTAhv//6MsAAASADs1Pz0E8YAbkCC1lcuovH+oW5+ZhbAfX45oByqEL0GVptlEGmcO+VviXwngKypC652awXI7kae+qZmzDolsOyPICcs4HZiN9PIcWEkZSZreeYbXxb9P0E053rzRffInGh4zXVlbiT7LvF9IzXqpU50MbQxfTW4ARhyB6H7/Qb2lMYTjLfetv2kwmBoEUrylCxRc0HLBek0m0Iyo15ghsM9nUvKmD6CrEMr8rduAYEAAABAQZ+zRRUsK/8AABdDRYinYT2OXDf6Y/CP1i+O4CsI1ugBtnKtV7u5e0vnngaJljVUAHyroprsglw0RTGUw2BmzAAAAD4Bn9J0Qn8AACTCW0ZayJVml0aAbKT5ghCeieF+89+ElFRDv7VsJ3khsACcXm4RP21iAdT000yGIEk76zSzFQAAADgBn9RqQn8AACS/BCABphSaHOQMR+5q0cjCS0yMcgdWso0NgIfB0xpIAPwrT76dSq+Y/krvnZFRKwAAAK9Bm9lJqEFsmUwIZ//+OEAAARU3fvysWphoAIv/DtPIBU0s+h4kbN92fCuhK1a17mCZDMkjiEbgBunbu5V8KuGzIJQTbNh0/qYoxzSR2/c//UtkVmPszwKPeWnMHxZiJgzRwtiJS/jUglDQINUkD7g13uVhJwWC22Bdy7PBWMvW2wamKJ6IMSHYbo+jgqXfHzOioYfll3ZexGTMgxAmhQ3rPf1YXfVCOXoB4EenLvDJAAAAcUGf90UVLCv/AAAXTmIPfSQBf5hkpsIubRakzzppyCk94DydmrA4cxd0ybH+PhcHUw9KcwIcJbmOXOgUMtc305XPzr1F08zP8wRYo3+s3U1tpDIz4iR3fGBh9ofQ9peFDIRGuPj/92m9TqbiwLUH3HkxAAAAPQGeFnRCfwAAJKpzB3kH+UyhqxSgAkGRXmw7k2HW62jn1EUONsHNXGXvEYNFDijwRLl1ks8HGcGbv3ckuxcAAAA8AZ4YakJ/AAAkvapaSTkRrdkfKTZ/K2rT9lgdAmqxt+QVSmkw407tsS8UJYD/aZI5u9XNE/tg8pJ+CHEqAAAAekGaG0moQWyZTBRML//98QAAAwKxuGEx5gMqvCbIHj72tcGV26W0yxMigfoIqBYWarE4fyLgcBb6pcvzhZhoSDBHlxBQ1i74wAyfUKHWOIUC3OyTehbyxHIwgAfK8Ti46wuAv99otnhFTXKr1huisV/WeQ1yJ7aItwlNAAAARwGeOmpCfwAAJIRQNWXtoVBgHr0KDLyOEHAHUN1DIZIUW8B+SMMSTtHLmTkctlHRwtAGJLFJupiUvqimngAm06JQCFE0wSoIAAAAkkGaPUnhClJlMFLCf/yEAAAQTLvmTAFb5yUqTRjU2qlXzKhIA80eeOUlSQA3yPMV0H+fxSmKHMg+k0NB3fH5NRB/I/O4rU3lEgcDBUmpKtXKcKGI8+7cxi8E1Bt/qljuJlQD/3rras0w2w8VwI0h+ygZ3kL9jsBCHfZ/gN+sQJ7BH28XO3tUqbwz8OVjRY9/JuhBAAAAWAGeXGpCfwAAJK1tC/1vAhD+M6LN6uRpsPI1ZiVJZMHBVUZvQbrS3ydE+pFc3rRBbvi+Yd/cTgrK2BH0e6puhZElLHGCcsFrcnTHJ6eAEn0La+/OiXtxUVkAAAjpbW9vdgAAAGxtdmhkAAAAAAAAAAAAAAAAAAAD6AAAEGgAAQAAAQAAAAAAAAAAAAAAAAEAAAAAAAAAAAAAAAAAAAABAAAAAAAAAAAAAAAAAABAAAAAAAAAAAAAAAAAAAAAAAAAAAAAAAAAAAAAAAAAAgAACBN0cmFrAAAAXHRraGQAAAADAAAAAAAAAAAAAAABAAAAAAAAEGgAAAAAAAAAAAAAAAAAAAAAAAEAAAAAAAAAAAAAAAAAAAABAAAAAAAAAAAAAAAAAABAAAAAAmAAAAGQAAAAAAAkZWR0cwAAABxlbHN0AAAAAAAAAAEAABBoAAAEAAABAAAAAAeLbWRpYQAAACBtZGhkAAAAAAAAAAAAAAAAAAA8AAAA/ABVxAAAAAAALWhkbHIAAAAAAAAAAHZpZGUAAAAAAAAAAAAAAABWaWRlb0hhbmRsZXIAAAAHNm1pbmYAAAAUdm1oZAAAAAEAAAAAAAAAAAAAACRkaW5mAAAAHGRyZWYAAAAAAAAAAQAAAAx1cmwgAAAAAQAABvZzdGJsAAAAlnN0c2QAAAAAAAAAAQAAAIZhdmMxAAAAAAAAAAEAAAAAAAAAAAAAAAAAAAAAAmABkABIAAAASAAAAAAAAAABAAAAAAAAAAAAAAAAAAAAAAAAAAAAAAAAAAAAAAAAAAAAGP//AAAAMGF2Y0MBZAAe/+EAGGdkAB6s2UCYM6EAAAMAAQAAAwA8DxYtlgEABWjr5yyLAAAAGHN0dHMAAAAAAAAAAQAAAH4AAAIAAAAAFHN0c3MAAAAAAAAAAQAAAAEAAAPwY3R0cwAAAAAAAAB8AAAAAQAABAAAAAABAAAKAAAAAAEAAAQAAAAAAQAAAAAAAAABAAACAAAAAAEAAAgAAAAAAgAAAgAAAAABAAAKAAAAAAEAAAQAAAAAAQAAAAAAAAABAAACAAAAAAEAAAoAAAAAAQAABAAAAAABAAAAAAAAAAEAAAIAAAAAAQAACgAAAAABAAAEAAAAAAEAAAAAAAAAAQAAAgAAAAABAAAKAAAAAAEAAAQAAAAAAQAAAAAAAAABAAACAAAAAAEAAAoAAAAAAQAABAAAAAABAAAAAAAAAAEAAAIAAAAAAQAACgAAAAABAAAEAAAAAAEAAAAAAAAAAQAAAgAAAAABAAAKAAAAAAEAAAQAAAAAAQAAAAAAAAABAAACAAAAAAIAAAQAAAAAAQAABgAAAAABAAACAAAAAAEAAAoAAAAAAQAABAAAAAABAAAAAAAAAAEAAAIAAAAAAQAACgAAAAABAAAEAAAAAAEAAAAAAAAAAQAAAgAAAAABAAAKAAAAAAEAAAQAAAAAAQAAAAAAAAABAAACAAAAAAEAAAoAAAAAAQAABAAAAAABAAAAAAAAAAEAAAIAAAAAAQAACgAAAAABAAAEAAAAAAEAAAAAAAAAAQAAAgAAAAABAAAKAAAAAAEAAAQAAAAAAQAAAAAAAAABAAACAAAAAAEAAAoAAAAAAQAABAAAAAABAAAAAAAAAAEAAAIAAAAAAQAACgAAAAABAAAEAAAAAAEAAAAAAAAAAQAAAgAAAAABAAAKAAAAAAEAAAQAAAAAAQAAAAAAAAABAAACAAAAAAEAAAoAAAAAAQAABAAAAAABAAAAAAAAAAEAAAIAAAAAAQAABAAAAAABAAAKAAAAAAEAAAQAAAAAAQAAAAAAAAABAAACAAAAAAEAAAoAAAAAAQAABAAAAAABAAAAAAAAAAEAAAIAAAAAAQAACgAAAAABAAAEAAAAAAEAAAAAAAAAAQAAAgAAAAABAAAKAAAAAAEAAAQAAAAAAQAAAAAAAAABAAACAAAAAAEAAAQAAAAAAQAACgAAAAABAAAEAAAAAAEAAAAAAAAAAQAAAgAAAAABAAAKAAAAAAEAAAQAAAAAAQAAAAAAAAABAAACAAAAAAEAAAoAAAAAAQAABAAAAAABAAAAAAAAAAEAAAIAAAAAAQAACgAAAAABAAAEAAAAAAEAAAAAAAAAAQAAAgAAAAABAAAKAAAAAAEAAAQAAAAAAQAAAAAAAAABAAACAAAAAAEAAAoAAAAAAQAABAAAAAABAAAAAAAAAAEAAAIAAAAAAQAABgAAAAABAAACAAAAAAEAAAYAAAAAAQAAAgAAAAAcc3RzYwAAAAAAAAABAAAAAQAAAH4AAAABAAACDHN0c3oAAAAAAAAAAAAAAH4AAARlAAABEAAAADgAAAAuAAAANAAAAQ8AAABdAAAAYwAAAJEAAAC7AAAAVwAAAGgAAAB3AAAALgAAACgAAAAqAAAA0gAAAFMAAAA2AAAANAAAAMkAAABWAAAAKAAAADsAAADlAAAAYgAAAE0AAABUAAAA2QAAALAAAABVAAAAdQAAAI8AAABAAAAAPQAAAD4AAABeAAAAZQAAAF0AAAA2AAAARQAAADgAAAA3AAAANAAAAHwAAABEAAAAPwAAADAAAADUAAAAVAAAAEAAAABJAAABAAAAAGwAAABbAAAAYAAAAUQAAABpAAAAKwAAACwAAAB3AAAAPQAAACUAAAAjAAAATQAAADoAAAAnAAAAIAAAAGcAAABIAAAAKwAAACQAAACWAAAAJwAAAB0AAAAqAAAAlAAAAE0AAAAoAAAASgAAAIUAAAD+AAAAfwAAAFoAAABdAAABGAAAAFcAAABMAAAALAAAAIQAAABJAAAARQAAAEQAAABlAAAARQAAADQAAAAyAAAATAAAAI4AAABXAAAAOAAAAEcAAAEPAAAAWgAAADgAAABAAAAAjAAAAFAAAAAnAAAAQgAAANoAAAAxAAAAOwAAAEAAAADFAAAARAAAAEIAAAA8AAAAswAAAHUAAABBAAAAQAAAAH4AAABLAAAAlgAAAFwAAAAUc3RjbwAAAAAAAAABAAAAMAAAAGJ1ZHRhAAAAWm1ldGEAAAAAAAAAIWhkbHIAAAAAAAAAAG1kaXJhcHBsAAAAAAAAAAAAAAAALWlsc3QAAAAlqXRvbwAAAB1kYXRhAAAAAQAAAABMYXZmNTcuODMuMTAw\" type=\"video/mp4\">\n",
              "  Your browser does not support the video tag.\n",
              "  </video>"
            ],
            "text/plain": [
              "<IPython.core.display.HTML object>"
            ]
          },
          "metadata": {
            "tags": []
          },
          "execution_count": 76
        }
      ]
    },
    {
      "cell_type": "code",
      "metadata": {
        "id": "jUfbUQmAJHyM"
      },
      "source": [
        ""
      ],
      "execution_count": null,
      "outputs": []
    }
  ]
}