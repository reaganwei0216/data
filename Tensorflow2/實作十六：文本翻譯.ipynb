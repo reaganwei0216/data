{
  "nbformat": 4,
  "nbformat_minor": 0,
  "metadata": {
    "colab": {
      "name": "16實作十六：文本翻譯.ipynb",
      "provenance": [],
      "collapsed_sections": []
    },
    "kernelspec": {
      "display_name": "Python 3",
      "name": "python3"
    },
    "accelerator": "GPU"
  },
  "cells": [
    {
      "cell_type": "code",
      "metadata": {
        "id": "tnxXKDjq3jEL"
      },
      "source": [
        "import tensorflow as tf\n",
        "import matplotlib.pyplot as plt\n",
        "import matplotlib.ticker as ticker\n",
        "from sklearn.model_selection import train_test_split\n",
        "import unicodedata\n",
        "import re\n",
        "import numpy as np\n",
        "import os\n",
        "import io\n",
        "import time"
      ],
      "execution_count": null,
      "outputs": []
    },
    {
      "cell_type": "code",
      "metadata": {
        "id": "kRVATYOgJs1b"
      },
      "source": [
        "#西班牙文翻英文\n",
        "#資料來源http://www.manythings.org/anki/\n",
        "\n",
        "path_to_zip = tf.keras.utils.get_file(\n",
        "    'spa-eng.zip', origin='http://storage.googleapis.com/download.tensorflow.org/data/spa-eng.zip',\n",
        "    extract=True)\n",
        "\n",
        "path_to_file = os.path.dirname(path_to_zip)+\"/spa-eng/spa.txt\""
      ],
      "execution_count": null,
      "outputs": []
    },
    {
      "cell_type": "code",
      "metadata": {
        "id": "rd0jw-eC3jEh"
      },
      "source": [
        "#資料前處理：\n",
        "# 將每個句子增加開始與結束標記\n",
        "# 刪除特殊符號\n",
        "# 建立單詞索引\n",
        "# 將句子進行填充\n",
        "\n",
        "def unicode_to_ascii(s):\n",
        "    return ''.join(c for c in unicodedata.normalize('NFD', s)\n",
        "        if unicodedata.category(c) != 'Mn')\n",
        "\n",
        "\n",
        "def preprocess_sentence(w):\n",
        "    w = unicode_to_ascii(w.lower().strip())\n",
        "    w = re.sub(r\"([?.!,¿])\", r\" \\1 \", w)\n",
        "    w = re.sub(r'[\" \"]+', \" \", w)\n",
        "    w = re.sub(r\"[^a-zA-Z?.!,¿]+\", \" \", w)\n",
        "    w = w.rstrip().strip()\n",
        "    w = '<start> ' + w + ' <end>' #開始與結束\n",
        "    return w"
      ],
      "execution_count": null,
      "outputs": []
    },
    {
      "cell_type": "code",
      "metadata": {
        "id": "opI2GzOt479E",
        "colab": {
          "base_uri": "https://localhost:8080/"
        },
        "outputId": "fe5997ba-9d24-4493-c08e-443f1bb93c55"
      },
      "source": [
        "en_sentence = u\"May I borrow this book?\"\n",
        "sp_sentence = u\"¿Puedo tomar prestado este libro?\"\n",
        "print(preprocess_sentence(en_sentence))\n",
        "print(preprocess_sentence(sp_sentence).encode('utf-8'))"
      ],
      "execution_count": null,
      "outputs": [
        {
          "output_type": "stream",
          "text": [
            "<start> may i borrow this book ? <end>\n",
            "b'<start> \\xc2\\xbf puedo tomar prestado este libro ? <end>'\n"
          ],
          "name": "stdout"
        }
      ]
    },
    {
      "cell_type": "code",
      "metadata": {
        "id": "OHn4Dct23jEm"
      },
      "source": [
        "# 清除重音\n",
        "# 清理句子\n",
        "# 整理回傳的句子\n",
        "def create_dataset(path, num_examples):\n",
        "    lines = io.open(path, encoding='UTF-8').read().strip().split('\\n')\n",
        "\n",
        "    word_pairs = [[preprocess_sentence(w) for w in l.split('\\t')]  for l in lines[:num_examples]]\n",
        "\n",
        "    return zip(*word_pairs)"
      ],
      "execution_count": null,
      "outputs": []
    },
    {
      "cell_type": "code",
      "metadata": {
        "id": "cTbSbBz55QtF",
        "colab": {
          "base_uri": "https://localhost:8080/"
        },
        "outputId": "318de0f9-5f78-49ae-c4cc-a40b71d2e9a8"
      },
      "source": [
        "en, sp = create_dataset(path_to_file, None)\n",
        "print(en[-1])\n",
        "print(sp[-1])"
      ],
      "execution_count": null,
      "outputs": [
        {
          "output_type": "stream",
          "text": [
            "<start> if you want to sound like a native speaker , you must be willing to practice saying the same sentence over and over in the same way that banjo players practice the same phrase over and over until they can play it correctly and at the desired tempo . <end>\n",
            "<start> si quieres sonar como un hablante nativo , debes estar dispuesto a practicar diciendo la misma frase una y otra vez de la misma manera en que un musico de banjo practica el mismo fraseo una y otra vez hasta que lo puedan tocar correctamente y en el tiempo esperado . <end>\n"
          ],
          "name": "stdout"
        }
      ]
    },
    {
      "cell_type": "code",
      "metadata": {
        "id": "OmMZQpdO60dt"
      },
      "source": [
        "def max_length(tensor):\n",
        "    return max(len(t) for t in tensor)"
      ],
      "execution_count": null,
      "outputs": []
    },
    {
      "cell_type": "code",
      "metadata": {
        "id": "bIOn8RCNDJXG"
      },
      "source": [
        "def tokenize(lang):\n",
        "  lang_tokenizer = tf.keras.preprocessing.text.Tokenizer(\n",
        "      filters='')\n",
        "  lang_tokenizer.fit_on_texts(lang)\n",
        "  tensor = lang_tokenizer.texts_to_sequences(lang)\n",
        "  tensor = tf.keras.preprocessing.sequence.pad_sequences(tensor,\n",
        "                                                         padding='post')\n",
        "  return tensor, lang_tokenizer"
      ],
      "execution_count": null,
      "outputs": []
    },
    {
      "cell_type": "code",
      "metadata": {
        "id": "eAY9k49G3jE_"
      },
      "source": [
        "def load_dataset(path, num_examples=None):\n",
        "    # 建立輸入與預測對象\n",
        "    targ_lang, inp_lang = create_dataset(path, num_examples)\n",
        "\n",
        "    input_tensor, inp_lang_tokenizer = tokenize(inp_lang)\n",
        "    target_tensor, targ_lang_tokenizer = tokenize(targ_lang)\n",
        "\n",
        "    return input_tensor, target_tensor, inp_lang_tokenizer, targ_lang_tokenizer"
      ],
      "execution_count": null,
      "outputs": []
    },
    {
      "cell_type": "code",
      "metadata": {
        "id": "cnxC7q-j3jFD"
      },
      "source": [
        "# 將數據大小控制在30000筆\n",
        "num_examples = 30000\n",
        "input_tensor, target_tensor, inp_lang, targ_lang = load_dataset(path_to_file, num_examples)\n",
        "max_length_targ, max_length_inp = max_length(target_tensor), max_length(input_tensor) #計算最大長度的張量"
      ],
      "execution_count": null,
      "outputs": []
    },
    {
      "cell_type": "code",
      "metadata": {
        "id": "4QILQkOs3jFG",
        "colab": {
          "base_uri": "https://localhost:8080/"
        },
        "outputId": "35e82895-3f27-447a-f91d-b03e77844d72"
      },
      "source": [
        "# 拆分80%訓練、20%測試\n",
        "input_tensor_train, input_tensor_val, target_tensor_train, target_tensor_val = train_test_split(input_tensor, target_tensor, test_size=0.2)\n",
        "\n",
        "# 確認長度\n",
        "len(input_tensor_train), len(target_tensor_train), len(input_tensor_val), len(target_tensor_val)"
      ],
      "execution_count": null,
      "outputs": [
        {
          "output_type": "execute_result",
          "data": {
            "text/plain": [
              "(24000, 24000, 6000, 6000)"
            ]
          },
          "metadata": {
            "tags": []
          },
          "execution_count": 45
        }
      ]
    },
    {
      "cell_type": "code",
      "metadata": {
        "id": "lJPmLZGMeD5q"
      },
      "source": [
        "def convert(lang, tensor):\n",
        "  for t in tensor:\n",
        "    if t!=0:\n",
        "      print (\"%d ----> %s\" % (t, lang.index_word[t]))"
      ],
      "execution_count": null,
      "outputs": []
    },
    {
      "cell_type": "code",
      "metadata": {
        "id": "VXukARTDd7MT",
        "colab": {
          "base_uri": "https://localhost:8080/"
        },
        "outputId": "9d5662ad-5e30-4cf0-bad0-0268b806849e"
      },
      "source": [
        "print (\"輸入; 文字索引\")\n",
        "convert(inp_lang, input_tensor_train[0])\n",
        "print ()\n",
        "print (\"目標; 文字索引\")\n",
        "convert(targ_lang, target_tensor_train[0])"
      ],
      "execution_count": null,
      "outputs": [
        {
          "output_type": "stream",
          "text": [
            "輸入; 文字索引\n",
            "1 ----> <start>\n",
            "23 ----> te\n",
            "428 ----> encontre\n",
            "3 ----> .\n",
            "2 ----> <end>\n",
            "\n",
            "目標; 文字索引\n",
            "1 ----> <start>\n",
            "4 ----> i\n",
            "331 ----> found\n",
            "6 ----> you\n",
            "3 ----> .\n",
            "2 ----> <end>\n"
          ],
          "name": "stdout"
        }
      ]
    },
    {
      "cell_type": "code",
      "metadata": {
        "id": "E3alGSTdBjA6",
        "colab": {
          "base_uri": "https://localhost:8080/"
        },
        "outputId": "2d5c37ac-5fea-4734-812d-b37bf47692c4"
      },
      "source": [
        "len(input_tensor_train)"
      ],
      "execution_count": null,
      "outputs": [
        {
          "output_type": "execute_result",
          "data": {
            "text/plain": [
              "24000"
            ]
          },
          "metadata": {
            "tags": []
          },
          "execution_count": 48
        }
      ]
    },
    {
      "cell_type": "code",
      "metadata": {
        "id": "TqHsArVZ3jFS"
      },
      "source": [
        "#透過tf.data，將input_tensor_train與target_tensor_train做資料整理，以提升運算效率\n",
        "BUFFER_SIZE = len(input_tensor_train)\n",
        "#依據input_tensor_train筆數建立BUFFER，進行shuffle\n",
        "BATCH_SIZE = 64\n",
        "#取整數作為每一次epoch的steps\n",
        "steps_per_epoch = len(input_tensor_train)//BATCH_SIZE \n",
        "embedding_dim = 256\n",
        "#GRU的單元數\n",
        "units = 1024\n",
        "#預測內容是西班牙文，預測目標是英文\n",
        "vocab_inp_size = len(inp_lang.word_index)+1\n",
        "vocab_tar_size = len(targ_lang.word_index)+1\n",
        "\n",
        "dataset = tf.data.Dataset.from_tensor_slices((input_tensor_train, target_tensor_train)).shuffle(BUFFER_SIZE)\n",
        "dataset = dataset.batch(BATCH_SIZE, drop_remainder=True)"
      ],
      "execution_count": null,
      "outputs": []
    },
    {
      "cell_type": "code",
      "metadata": {
        "id": "-yyU04eOBaX0",
        "colab": {
          "base_uri": "https://localhost:8080/"
        },
        "outputId": "9f95613e-7040-4fe0-9581-f245d127e04d"
      },
      "source": [
        "input_tensor_train"
      ],
      "execution_count": null,
      "outputs": [
        {
          "output_type": "execute_result",
          "data": {
            "text/plain": [
              "array([[   1,   23,  428, ...,    0,    0,    0],\n",
              "       [   1,   54, 3123, ...,    0,    0,    0],\n",
              "       [   1,    4,    8, ...,    0,    0,    0],\n",
              "       ...,\n",
              "       [   1,    9,   17, ...,    0,    0,    0],\n",
              "       [   1, 3028,   32, ...,    0,    0,    0],\n",
              "       [   1,   54,  345, ...,    0,    0,    0]], dtype=int32)"
            ]
          },
          "metadata": {
            "tags": []
          },
          "execution_count": 50
        }
      ]
    },
    {
      "cell_type": "code",
      "metadata": {
        "id": "-h43kskwwoo8",
        "colab": {
          "base_uri": "https://localhost:8080/"
        },
        "outputId": "b906f26a-1e05-4505-e9b5-ed0589db5ba2"
      },
      "source": [
        "next(iter(dataset))"
      ],
      "execution_count": null,
      "outputs": [
        {
          "output_type": "execute_result",
          "data": {
            "text/plain": [
              "(<tf.Tensor: shape=(64, 16), dtype=int32, numpy=\n",
              " array([[   1, 1810,   21, ...,    0,    0,    0],\n",
              "        [   1,  100,   53, ...,    0,    0,    0],\n",
              "        [   1,   28,    7, ...,    0,    0,    0],\n",
              "        ...,\n",
              "        [   1,   26,  142, ...,    0,    0,    0],\n",
              "        [   1,  489,  273, ...,    0,    0,    0],\n",
              "        [   1,   53,  647, ...,    0,    0,    0]], dtype=int32)>,\n",
              " <tf.Tensor: shape=(64, 11), dtype=int32, numpy=\n",
              " array([[   1,    4,   76,    9,  146,  595,    3,    2,    0,    0,    0],\n",
              "        [   1,    4,  103,   47,   15,   36,    3,    2,    0,    0,    0],\n",
              "        [   1,   20,   90,   12,  601,    3,    2,    0,    0,    0,    0],\n",
              "        [   1,  280,   31,  765,    3,    2,    0,    0,    0,    0,    0],\n",
              "        [   1, 1048, 1100,    3,    2,    0,    0,    0,    0,    0,    0],\n",
              "        [   1,    4,   18,   34,  129,    3,    2,    0,    0,    0,    0],\n",
              "        [   1,   10,  361,   21,  189,    3,    2,    0,    0,    0,    0],\n",
              "        [   1,   10,   11, 1231,   97,    3,    2,    0,    0,    0,    0],\n",
              "        [   1,   10,   11,    9,  101,  748,    3,    2,    0,    0,    0],\n",
              "        [   1,    4,  317, 1367,    3,    2,    0,    0,    0,    0,    0],\n",
              "        [   1,  244,  128,   49,   56,    3,    2,    0,    0,    0,    0],\n",
              "        [   1,   39,  590,    5,    3,    2,    0,    0,    0,    0,    0],\n",
              "        [   1,    4,  760,   50,   33,  158,    3,    2,    0,    0,    0],\n",
              "        [   1,    4,   18, 1468,  410,    6,    3,    2,    0,    0,    0],\n",
              "        [   1,    4,   22,  221,    3,    2,    0,    0,    0,    0,    0],\n",
              "        [   1,    4,   47,  371,  347,    3,    2,    0,    0,    0,    0],\n",
              "        [   1,    4,   18,   34, 2709,    3,    2,    0,    0,    0,    0],\n",
              "        [   1,   46,   11,   22,   13,   93,    3,    2,    0,    0,    0],\n",
              "        [   1,    4,  135,  187,    3,    2,    0,    0,    0,    0,    0],\n",
              "        [   1,   20,  518, 1434,    3,    2,    0,    0,    0,    0,    0],\n",
              "        [   1,    4,   47,   15,  149,   15,   68,    3,    2,    0,    0],\n",
              "        [   1,   14,   11, 1687,  163,  892,    3,    2,    0,    0,    0],\n",
              "        [   1,  518,   69,   15,   17,    3,    2,    0,    0,    0,    0],\n",
              "        [   1,    4,  328,   41,  119, 1277,    3,    2,    0,    0,    0],\n",
              "        [   1,    4,   75, 1814,   41,    3,    2,    0,    0,    0,    0],\n",
              "        [   1,    4,   18,    9, 1751,   49,   78,    3,    2,    0,    0],\n",
              "        [   1,   27,  603,    9,  153,    3,    2,    0,    0,    0,    0],\n",
              "        [   1,  281,   89,    3,    2,    0,    0,    0,    0,    0,    0],\n",
              "        [   1,   13,  211,    8,  793,    3,    2,    0,    0,    0,    0],\n",
              "        [   1,   86, 2024,    3,    2,    0,    0,    0,    0,    0,    0],\n",
              "        [   1,    4,   65,  411, 1067,    3,    2,    0,    0,    0,    0],\n",
              "        [   1,   10,   11,   35,    9, 2714,    3,    2,    0,    0,    0],\n",
              "        [   1, 1583,   10,   15,   17,    3,    2,    0,    0,    0,    0],\n",
              "        [   1,    4,   87,   12,  438,   10,    3,    2,    0,    0,    0],\n",
              "        [   1,   30,   12,  295,    3,    2,    0,    0,    0,    0,    0],\n",
              "        [   1,    4,   43,   32,   11,  991,    3,    2,    0,    0,    0],\n",
              "        [   1,    5,   11,  741,    3,    2,    0,    0,    0,    0,    0],\n",
              "        [   1,   14,  311,  142,   61,  890,    3,    2,    0,    0,    0],\n",
              "        [   1,    4,  177, 2875,    3,    2,    0,    0,    0,    0,    0],\n",
              "        [   1,   10,   26,    9,  856,    3,    2,    0,    0,    0,    0],\n",
              "        [   1,    6,   42,   10,  131,    3,    2,    0,    0,    0,    0],\n",
              "        [   1,    4,   63,  371,  803,    3,    2,    0,    0,    0,    0],\n",
              "        [   1,    5,    8,  330,  131,    3,    2,    0,    0,    0,    0],\n",
              "        [   1,   10,   11,   66,  155,  748,    3,    2,    0,    0,    0],\n",
              "        [   1,   14,  513,    3,    2,    0,    0,    0,    0,    0,    0],\n",
              "        [   1,    4,   76,    9, 2213, 3709,    3,    2,    0,    0,    0],\n",
              "        [   1,  459,   10,  203, 1414,    3,    2,    0,    0,    0,    0],\n",
              "        [   1,   20,   11,  204,   15,  136,    3,    2,    0,    0,    0],\n",
              "        [   1,  912,  323,   37,    2,    0,    0,    0,    0,    0,    0],\n",
              "        [   1,   14,   11,  330,    3,    2,    0,    0,    0,    0,    0],\n",
              "        [   1,   16,   77,   13, 1469,    3,    2,    0,    0,    0,    0],\n",
              "        [   1,    5,  292,   40,  148,    3,    2,    0,    0,    0,    0],\n",
              "        [   1,   10,   26,    9, 2586,    3,    2,    0,    0,    0,    0],\n",
              "        [   1,   56,  497,   17,    3,    2,    0,    0,    0,    0,    0],\n",
              "        [   1,    4,   26,  130,  759,    3,    2,    0,    0,    0,    0],\n",
              "        [   1,    6,   25,   12,   73,  126,    3,    2,    0,    0,    0],\n",
              "        [   1,  821,   51,   53,    3,    2,    0,    0,    0,    0,    0],\n",
              "        [   1,    5,  179,   15,  295,    3,    2,    0,    0,    0,    0],\n",
              "        [   1, 1221, 3858,   17,    3,    2,    0,    0,    0,    0,    0],\n",
              "        [   1,   20,    8,   34,  172,    3,    2,    0,    0,    0,    0],\n",
              "        [   1,  116,   81,  119,  126,    3,    2,    0,    0,    0,    0],\n",
              "        [   1,    4,  135,   21,  542,    3,    2,    0,    0,    0,    0],\n",
              "        [   1,    4,   46,   13,  229,   33,    3,    2,    0,    0,    0],\n",
              "        [   1,    4,   47,    9,  206,    3,    2,    0,    0,    0,    0]],\n",
              "       dtype=int32)>)"
            ]
          },
          "metadata": {
            "tags": []
          },
          "execution_count": 51
        }
      ]
    },
    {
      "cell_type": "code",
      "metadata": {
        "id": "qc6-NK1GtWQt",
        "colab": {
          "base_uri": "https://localhost:8080/"
        },
        "outputId": "467e1556-d43f-4ab6-ff96-3aafb29ff942"
      },
      "source": [
        "#生成迭代器觀察內容與目標\n",
        "example_input_batch, example_target_batch = next(iter(dataset))\n",
        "example_input_batch.shape, example_target_batch.shape"
      ],
      "execution_count": null,
      "outputs": [
        {
          "output_type": "execute_result",
          "data": {
            "text/plain": [
              "(TensorShape([64, 16]), TensorShape([64, 11]))"
            ]
          },
          "metadata": {
            "tags": []
          },
          "execution_count": 52
        }
      ]
    },
    {
      "cell_type": "code",
      "metadata": {
        "id": "qVXeIvVyxXt8",
        "colab": {
          "base_uri": "https://localhost:8080/"
        },
        "outputId": "f3e983a8-6ea9-4cc6-d9fd-179044d8a95c"
      },
      "source": [
        "example_target_batch"
      ],
      "execution_count": null,
      "outputs": [
        {
          "output_type": "execute_result",
          "data": {
            "text/plain": [
              "<tf.Tensor: shape=(64, 11), dtype=int32, numpy=\n",
              "array([[   1,   10,   11,  412,    3,    2,    0,    0,    0,    0,    0],\n",
              "       [   1,  255,   17,   31, 1259,    3,    2,    0,    0,    0,    0],\n",
              "       [   1,   32,    9,  625, 1864,   37,    2,    0,    0,    0,    0],\n",
              "       [   1,   14,   51,    9, 2589,  449,    3,    2,    0,    0,    0],\n",
              "       [   1,    4,   26, 2619,    3,    2,    0,    0,    0,    0,    0],\n",
              "       [   1,  124,   31,  312,   43,    7,    2,    0,    0,    0,    0],\n",
              "       [   1,    8,   57,  365,  662,    7,    2,    0,    0,    0,    0],\n",
              "       [   1,    8,   19, 2398, 3097,    7,    2,    0,    0,    0,    0],\n",
              "       [   1,    4, 1132,   19, 3047,    3,    2,    0,    0,    0,    0],\n",
              "       [   1,   20,  168,  137,  186,    3,    2,    0,    0,    0,    0],\n",
              "       [   1,  279,   15,    5,    3,    2,    0,    0,    0,    0,    0],\n",
              "       [   1,   10,   11,   31,  209,  803,    3,    2,    0,    0,    0],\n",
              "       [   1,    4,   18,    9, 2624,    3,    2,    0,    0,    0,    0],\n",
              "       [   1,   75,    6,   36,   80,   81,    7,    2,    0,    0,    0],\n",
              "       [   1,  379,   11,  217,    3,    2,    0,    0,    0,    0,    0],\n",
              "       [   1,   14,    8,  946,    9,  282,    3,    2,    0,    0,    0],\n",
              "       [   1,  244,  128,   80,   17,    3,    2,    0,    0,    0,    0],\n",
              "       [   1,    4,   25,   12,  185,   13,  201,    3,    2,    0,    0],\n",
              "       [   1,    4,   47,   15,  161,    3,    2,    0,    0,    0,    0],\n",
              "       [   1,   25,    4,  185,   21,  324,    7,    2,    0,    0,    0],\n",
              "       [   1,    5,    8,    9, 3624,    3,    2,    0,    0,    0,    0],\n",
              "       [   1,   14,   11,   21,  782,    3,    2,    0,    0,    0,    0],\n",
              "       [   1,   16,   23,  269,    3,    2,    0,    0,    0,    0,    0],\n",
              "       [   1,  185,   31,  532,   37,    2,    0,    0,    0,    0,    0],\n",
              "       [   1,    4,   62,   79,  819,    3,    2,    0,    0,    0,    0],\n",
              "       [   1,   28,   93,  451,    3,    2,    0,    0,    0,    0,    0],\n",
              "       [   1,   16,   29,   66,  990,    3,    2,    0,    0,    0,    0],\n",
              "       [   1,  195,    8,  182,    3,    2,    0,    0,    0,    0,    0],\n",
              "       [   1,    8,   10,   69,    7,    2,    0,    0,    0,    0,    0],\n",
              "       [   1,   46,   11,  264,    3,    2,    0,    0,    0,    0,    0],\n",
              "       [   1,   16,   23, 2126,    3,    2,    0,    0,    0,    0,    0],\n",
              "       [   1,   19,    8,   21,  229,    3,    2,    0,    0,    0,    0],\n",
              "       [   1,    5,  361,    3,    2,    0,    0,    0,    0,    0,    0],\n",
              "       [   1,    4,   77, 1500, 4695,    3,    2,    0,    0,    0,    0],\n",
              "       [   1,    4,  656,   12,  307,    5,    3,    2,    0,    0,    0],\n",
              "       [   1,   10,   11,   33,  526,   11,  344,    3,    2,    0,    0],\n",
              "       [   1,    4,   25, 1180,   72,   10,    3,    2,    0,    0,    0],\n",
              "       [   1,   36,   20,  196,    3,    2,    0,    0,    0,    0,    0],\n",
              "       [   1,   60,  271,  436,    7,    2,    0,    0,    0,    0,    0],\n",
              "       [   1,    4,  114,    5,  121,    6,    3,    2,    0,    0,    0],\n",
              "       [   1,    5,  706,    6,   23,  330,    3,    2,    0,    0,    0],\n",
              "       [   1,   60,  815,   57,    7,    2,    0,    0,    0,    0,    0],\n",
              "       [   1,    4,  192,   21, 2094,    3,    2,    0,    0,    0,    0],\n",
              "       [   1,    4,  169,   36,   15, 1330,    3,    2,    0,    0,    0],\n",
              "       [   1,    4,   62,  225,    3,    2,    0,    0,    0,    0,    0],\n",
              "       [   1,   28,   88,  101,    3,    2,    0,    0,    0,    0,    0],\n",
              "       [   1,   67,    8,  453,    3,    2,    0,    0,    0,    0,    0],\n",
              "       [   1,   14,    8,   48,  549,    3,    2,    0,    0,    0,    0],\n",
              "       [   1,   94,   17,   80,    6,    3,    2,    0,    0,    0,    0],\n",
              "       [   1,    4,  173,    5,    9, 3075,    3,    2,    0,    0,    0],\n",
              "       [   1,   13,  465,  551,    3,    2,    0,    0,    0,    0,    0],\n",
              "       [   1,    5,   75,   77,   10,    3,    2,    0,    0,    0,    0],\n",
              "       [   1,   19,    8,    9,  864,    3,    2,    0,    0,    0,    0],\n",
              "       [   1,   88,   91,   37,    2,    0,    0,    0,    0,    0,    0],\n",
              "       [   1,    4,   30,   12,  477,   41,    3,    2,    0,    0,    0],\n",
              "       [   1,  304,   10,  543,  724,   10,    3,    2,    0,    0,    0],\n",
              "       [   1,  260,  106,  590,    3,    2,    0,    0,    0,    0,    0],\n",
              "       [   1,  806,   31,  344,  109,    3,    2,    0,    0,    0,    0],\n",
              "       [   1,   60,   26,   20,  350,    7,    2,    0,    0,    0,    0],\n",
              "       [   1,   24,    6,    9, 1155,    7,    2,    0,    0,    0,    0],\n",
              "       [   1,  111,   31, 2890,    3,    2,    0,    0,    0,    0,    0],\n",
              "       [   1,    5,   11,  375,    3,    2,    0,    0,    0,    0,    0],\n",
              "       [   1,    4,   35, 1654, 2372,    3,    2,    0,    0,    0,    0],\n",
              "       [   1,   14,    8,  288,   15, 4337,    3,    2,    0,    0,    0]],\n",
              "      dtype=int32)>"
            ]
          },
          "metadata": {
            "tags": []
          },
          "execution_count": 53
        }
      ]
    },
    {
      "cell_type": "code",
      "metadata": {
        "id": "nZ2rI24i3jFg"
      },
      "source": [
        "class Encoder(tf.keras.Model):\n",
        "  def __init__(self, vocab_size, embedding_dim, enc_units, batch_sz):\n",
        "    super(Encoder, self).__init__()\n",
        "    self.batch_sz = batch_sz #BATCH_SIZE\n",
        "    self.enc_units = enc_units #單元數\n",
        "    self.embedding = tf.keras.layers.Embedding(vocab_size, embedding_dim) #每一個單詞轉為Embedding\n",
        "    self.gru = tf.keras.layers.GRU(self.enc_units,\n",
        "                                   return_sequences=True,\n",
        "                                   return_state=True,\n",
        "                                   recurrent_initializer='glorot_uniform') #均勻初始化\n",
        "\n",
        "  def call(self, x, hidden): #做一層embedding+GRU\n",
        "    x = self.embedding(x)\n",
        "    output, state = self.gru(x, initial_state = hidden) #每一次初始化為Hidden的變數\n",
        "    return output, state\n",
        "\n",
        "  def initialize_hidden_state(self): #建立空的初始化\n",
        "    return tf.zeros((self.batch_sz, self.enc_units))"
      ],
      "execution_count": null,
      "outputs": []
    },
    {
      "cell_type": "code",
      "metadata": {
        "id": "60gSVh05Jl6l",
        "colab": {
          "base_uri": "https://localhost:8080/"
        },
        "outputId": "bd78b200-3b71-4dfd-be45-c661a82a3794"
      },
      "source": [
        "encoder = Encoder(vocab_inp_size, embedding_dim, units, BATCH_SIZE) #依據vocab_inp_size、embedding_dim、單元數、BATCH_SIZE建立Encoder\n",
        "\n",
        "# 輸入的樣本\n",
        "sample_hidden = encoder.initialize_hidden_state() #依據Batch_sz與enc_units初始化\n",
        "sample_output, sample_hidden = encoder(example_input_batch, sample_hidden) #觀察一下預測內容與具備GRU單元數的隱藏層樣態\n",
        "print ('Encoder output shape: (batch size, sequence length, units) {}'.format(sample_output.shape)) #sample_output（批次大小、訓練資料長度、單元數）\n",
        "print ('Encoder Hidden state shape: (batch size, units) {}'.format(sample_hidden.shape)) #sample_hidden（批次大小、單元數）"
      ],
      "execution_count": null,
      "outputs": [
        {
          "output_type": "stream",
          "text": [
            "Encoder output shape: (batch size, sequence length, units) (64, 16, 1024)\n",
            "Encoder Hidden state shape: (batch size, units) (64, 1024)\n"
          ],
          "name": "stdout"
        }
      ]
    },
    {
      "cell_type": "code",
      "metadata": {
        "id": "umohpBN2OM94"
      },
      "source": [
        "class BahdanauAttention(tf.keras.Model):\n",
        "  def __init__(self, units):\n",
        "    super(BahdanauAttention, self).__init__() #繼承TF的BahdanauAttention\n",
        "    self.W1 = tf.keras.layers.Dense(units) #依據GRU的單元數進行Dense\n",
        "    self.W2 = tf.keras.layers.Dense(units)\n",
        "    self.V = tf.keras.layers.Dense(1)\n",
        "\n",
        "  def call(self, query, values):\n",
        "    # 執行加法計算分數，先將讓query多一個維度，相加之後做一個tanh，獲得分數，score = FC(tanh(FC(EO) + FC(H)))\n",
        "    hidden_with_time_axis = tf.expand_dims(query, 1)\n",
        "    score = self.V(tf.nn.tanh(\n",
        "        self.W1(values) + self.W2(hidden_with_time_axis)))\n",
        "    # attention weights = softmax(score, axis = 1) \n",
        "    attention_weights = tf.nn.softmax(score, axis=1) \n",
        "    # context_vector = sum(attention weights * EO, axis = 1)\n",
        "    context_vector = attention_weights * values \n",
        "    context_vector = tf.reduce_sum(context_vector, axis=1)\n",
        "\n",
        "    return context_vector, attention_weights"
      ],
      "execution_count": null,
      "outputs": []
    },
    {
      "cell_type": "code",
      "metadata": {
        "id": "k534zTHiDjQU",
        "colab": {
          "base_uri": "https://localhost:8080/"
        },
        "outputId": "32c449a0-3c70-46ae-dd80-83b7ac33683a"
      },
      "source": [
        "attention_layer = BahdanauAttention(10) #Attention的強度\n",
        "attention_result, attention_weights = attention_layer(sample_hidden, sample_output) #將初始化空的sample_hidden與要進行預測內容\n",
        "\n",
        "print(\"Attention result shape: (batch size, units) {}\".format(attention_result.shape))\n",
        "print(\"Attention weights shape: (batch_size, sequence_length, 1) {}\".format(attention_weights.shape))"
      ],
      "execution_count": null,
      "outputs": [
        {
          "output_type": "stream",
          "text": [
            "Attention result shape: (batch size, units) (64, 1024)\n",
            "Attention weights shape: (batch_size, sequence_length, 1) (64, 16, 1)\n"
          ],
          "name": "stdout"
        }
      ]
    },
    {
      "cell_type": "code",
      "metadata": {
        "id": "yJ_B3mhW3jFk"
      },
      "source": [
        "class Decoder(tf.keras.Model):\n",
        "  def __init__(self, vocab_size, embedding_dim, dec_units, batch_sz): #詞彙、embedding維度、單元數、批次大小\n",
        "    super(Decoder, self).__init__()\n",
        "    self.batch_sz = batch_sz\n",
        "    self.dec_units = dec_units\n",
        "    self.embedding = tf.keras.layers.Embedding(vocab_size, embedding_dim)\n",
        "    self.gru = tf.keras.layers.GRU(self.dec_units,\n",
        "                                   return_sequences=True,\n",
        "                                   return_state=True,\n",
        "                                   recurrent_initializer='glorot_uniform')\n",
        "    self.fc = tf.keras.layers.Dense(vocab_size) \n",
        "    self.attention = BahdanauAttention(self.dec_units)\n",
        "\n",
        "  def call(self, x, hidden, enc_output):\n",
        "    # 透過BahdanauAttention建立context_vector、attention_weights\n",
        "    context_vector, attention_weights = self.attention(hidden, enc_output)\n",
        "\n",
        "    # 做一次embedding\n",
        "    x = self.embedding(x)\n",
        "\n",
        "    # x整合後的大小batch_size、embedding_dim + hidden_size)\n",
        "    x = tf.concat([tf.expand_dims(context_vector, 1), x], axis=-1)\n",
        "\n",
        "    # 將x給GRU計算後回報結果與狀態\n",
        "    output, state = self.gru(x)\n",
        "\n",
        "    # 資料維度整理\n",
        "    output = tf.reshape(output, (-1, output.shape[2]))\n",
        "\n",
        "    # 做線性轉換後輸出\n",
        "    x = self.fc(output)\n",
        "\n",
        "    return x, state, attention_weights"
      ],
      "execution_count": null,
      "outputs": []
    },
    {
      "cell_type": "code",
      "metadata": {
        "id": "P5UY8wko3jFp",
        "colab": {
          "base_uri": "https://localhost:8080/"
        },
        "outputId": "9dd24432-c5a8-4782-dc68-3e732b918eb0"
      },
      "source": [
        "decoder = Decoder(vocab_tar_size, embedding_dim, units, BATCH_SIZE) #依據詞彙、embedding維度、單元數、批次大小進行Decoder\n",
        "\n",
        "sample_decoder_output, _, _ = decoder(tf.random.uniform((64, 1)), #隨機產生批次大小的資料作為起始值、sample_hidden初始值、預測內容\n",
        "                                      sample_hidden, sample_output)\n",
        "\n",
        "print ('Decoder output shape: (batch_size, vocab size) {}'.format(sample_decoder_output.shape))"
      ],
      "execution_count": null,
      "outputs": [
        {
          "output_type": "stream",
          "text": [
            "Decoder output shape: (batch_size, vocab size) (64, 4935)\n"
          ],
          "name": "stdout"
        }
      ]
    },
    {
      "cell_type": "code",
      "metadata": {
        "id": "WmTHr5iV3jFr"
      },
      "source": [
        "#定義優化器、衡量標準\n",
        "optimizer = tf.keras.optimizers.Adam()\n",
        "loss_object = tf.keras.losses.SparseCategoricalCrossentropy(\n",
        "    from_logits=True, reduction='none')\n",
        "\n",
        "def loss_function(real, pred):\n",
        "  mask = tf.math.logical_not(tf.math.equal(real, 0)) #將數字轉換為邏輯值\n",
        "  loss_ = loss_object(real, pred) #透過loss_object做Crossentropy計算\n",
        "  #透過tf.cast做函數轉換，如：1轉True\n",
        "  mask = tf.cast(mask, dtype=loss_.dtype)\n",
        "  loss_ *= mask\n",
        "\n",
        "  return tf.reduce_mean(loss_)"
      ],
      "execution_count": null,
      "outputs": []
    },
    {
      "cell_type": "code",
      "metadata": {
        "id": "Zj8bXQTgNwrF"
      },
      "source": [
        "#記錄每一次計算的Checkpoints\n",
        "checkpoint_dir = './training_checkpoints'\n",
        "checkpoint_prefix = os.path.join(checkpoint_dir, \"ckpt\")\n",
        "checkpoint = tf.train.Checkpoint(optimizer=optimizer,\n",
        "                                 encoder=encoder,\n",
        "                                 decoder=decoder)"
      ],
      "execution_count": null,
      "outputs": []
    },
    {
      "cell_type": "code",
      "metadata": {
        "id": "sC9ArXSsVfqn"
      },
      "source": [
        "@tf.function #加上tf.function修飾器\n",
        "def train_step(inp, targ, enc_hidden):\n",
        "  loss = 0\n",
        "\n",
        "  with tf.GradientTape() as tape:\n",
        "    #通過編碼器傳遞輸入，編碼器產生「編碼器輸出」和「編碼器隱藏狀態」。\n",
        "    enc_output, enc_hidden = encoder(inp, enc_hidden)\n",
        "    #將「編碼器隱藏狀態」傳給「解碼器的隱藏狀態」\n",
        "    dec_hidden = enc_hidden\n",
        "\n",
        "    dec_input = tf.expand_dims([targ_lang.word_index['<start>']] * BATCH_SIZE, 1)\n",
        "\n",
        "    # 將預測結果作為下一個輸入\n",
        "    for t in range(1, targ.shape[1]):\n",
        "      # 解碼器返回「預測值」和「解碼器隱藏狀態」。\n",
        "      predictions, dec_hidden, _ = decoder(dec_input, dec_hidden, enc_output)\n",
        "      # 將答案與predictions做Loss計算\n",
        "      loss += loss_function(targ[:, t], predictions)\n",
        "\n",
        "      # 將預測目標，作為下一個解碼器dec_input的輸入\n",
        "      dec_input = tf.expand_dims(targ[:, t], 1)\n",
        "\n",
        "  batch_loss = (loss / int(targ.shape[1]))\n",
        "  \n",
        "  variables = encoder.trainable_variables + decoder.trainable_variables\n",
        "  #紀錄每一次的自動微分結果\n",
        "  gradients = tape.gradient(loss, variables)\n",
        "  #進行優化器計算\n",
        "  optimizer.apply_gradients(zip(gradients, variables))\n",
        "\n",
        "  return batch_loss"
      ],
      "execution_count": null,
      "outputs": []
    },
    {
      "cell_type": "code",
      "metadata": {
        "id": "ddefjBMa3jF0",
        "colab": {
          "base_uri": "https://localhost:8080/"
        },
        "outputId": "61f1090c-718c-4d04-aca5-976799dfa1ae"
      },
      "source": [
        "#開始訓練模型\n",
        "EPOCHS = 10\n",
        "\n",
        "for epoch in range(EPOCHS):\n",
        "  start = time.time()\n",
        "\n",
        "  enc_hidden = encoder.initialize_hidden_state()\n",
        "  total_loss = 0\n",
        "  #將預測內容、預測目標放入\n",
        "  for (batch, (inp, targ)) in enumerate(dataset.take(steps_per_epoch)):\n",
        "    batch_loss = train_step(inp, targ, enc_hidden)\n",
        "    total_loss += batch_loss\n",
        "\n",
        "    if batch % 100 == 0:\n",
        "        print('Epoch {} Batch {} Loss {:.4f}'.format(epoch + 1,\n",
        "                                                     batch,\n",
        "                                                     batch_loss.numpy()))\n",
        "  # 每兩個epochs就儲存一次checkpoint\n",
        "  if (epoch + 1) % 2 == 0:\n",
        "    checkpoint.save(file_prefix = checkpoint_prefix)\n",
        "\n",
        "  print('Epoch {} Loss {:.4f}'.format(epoch + 1,\n",
        "                                      total_loss / steps_per_epoch))\n",
        "  print('Time taken for 1 epoch {} sec\\n'.format(time.time() - start))"
      ],
      "execution_count": null,
      "outputs": [
        {
          "output_type": "stream",
          "text": [
            "Epoch 1 Batch 0 Loss 4.6868\n",
            "Epoch 1 Batch 100 Loss 2.1530\n",
            "Epoch 1 Batch 200 Loss 1.7936\n",
            "Epoch 1 Batch 300 Loss 1.6646\n",
            "Epoch 1 Loss 2.0365\n",
            "Time taken for 1 epoch 42.73405861854553 sec\n",
            "\n",
            "Epoch 2 Batch 0 Loss 1.5754\n",
            "Epoch 2 Batch 100 Loss 1.4577\n",
            "Epoch 2 Batch 200 Loss 1.3582\n",
            "Epoch 2 Batch 300 Loss 1.2172\n",
            "Epoch 2 Loss 1.3887\n",
            "Time taken for 1 epoch 33.29595971107483 sec\n",
            "\n",
            "Epoch 3 Batch 0 Loss 1.0997\n",
            "Epoch 3 Batch 100 Loss 0.9315\n",
            "Epoch 3 Batch 200 Loss 0.9037\n",
            "Epoch 3 Batch 300 Loss 0.8976\n",
            "Epoch 3 Loss 0.9723\n",
            "Time taken for 1 epoch 32.43663215637207 sec\n",
            "\n",
            "Epoch 4 Batch 0 Loss 0.7002\n",
            "Epoch 4 Batch 100 Loss 0.6771\n",
            "Epoch 4 Batch 200 Loss 0.5618\n",
            "Epoch 4 Batch 300 Loss 0.6263\n",
            "Epoch 4 Loss 0.6640\n",
            "Time taken for 1 epoch 33.00522756576538 sec\n",
            "\n",
            "Epoch 5 Batch 0 Loss 0.4257\n",
            "Epoch 5 Batch 100 Loss 0.3978\n",
            "Epoch 5 Batch 200 Loss 0.5117\n",
            "Epoch 5 Batch 300 Loss 0.4234\n",
            "Epoch 5 Loss 0.4544\n",
            "Time taken for 1 epoch 32.55444025993347 sec\n",
            "\n",
            "Epoch 6 Batch 0 Loss 0.2512\n",
            "Epoch 6 Batch 100 Loss 0.4008\n",
            "Epoch 6 Batch 200 Loss 0.3353\n",
            "Epoch 6 Batch 300 Loss 0.4329\n",
            "Epoch 6 Loss 0.3165\n",
            "Time taken for 1 epoch 32.86260485649109 sec\n",
            "\n",
            "Epoch 7 Batch 0 Loss 0.2414\n",
            "Epoch 7 Batch 100 Loss 0.2300\n",
            "Epoch 7 Batch 200 Loss 0.2425\n",
            "Epoch 7 Batch 300 Loss 0.2852\n",
            "Epoch 7 Loss 0.2272\n",
            "Time taken for 1 epoch 32.67666983604431 sec\n",
            "\n",
            "Epoch 8 Batch 0 Loss 0.1491\n",
            "Epoch 8 Batch 100 Loss 0.1380\n",
            "Epoch 8 Batch 200 Loss 0.1723\n",
            "Epoch 8 Batch 300 Loss 0.1455\n",
            "Epoch 8 Loss 0.1678\n",
            "Time taken for 1 epoch 33.09664869308472 sec\n",
            "\n",
            "Epoch 9 Batch 0 Loss 0.1147\n",
            "Epoch 9 Batch 100 Loss 0.1029\n",
            "Epoch 9 Batch 200 Loss 0.0847\n",
            "Epoch 9 Batch 300 Loss 0.1332\n",
            "Epoch 9 Loss 0.1300\n",
            "Time taken for 1 epoch 32.55344867706299 sec\n",
            "\n",
            "Epoch 10 Batch 0 Loss 0.1158\n",
            "Epoch 10 Batch 100 Loss 0.1114\n",
            "Epoch 10 Batch 200 Loss 0.0958\n",
            "Epoch 10 Batch 300 Loss 0.1076\n",
            "Epoch 10 Loss 0.1058\n",
            "Time taken for 1 epoch 33.03606629371643 sec\n",
            "\n"
          ],
          "name": "stdout"
        }
      ]
    },
    {
      "cell_type": "code",
      "metadata": {
        "id": "EbQpyYs13jF_"
      },
      "source": [
        "#驗證與產生結果\n",
        "def evaluate(sentence):\n",
        "    attention_plot = np.zeros((max_length_targ, max_length_inp)) #建立最大的輸入與預測目標\n",
        "    #將資料做前處理，如去除符號、轉tensor..等\n",
        "    sentence = preprocess_sentence(sentence) \n",
        "    inputs = [inp_lang.word_index[i] for i in sentence.split(' ')]\n",
        "    inputs = tf.keras.preprocessing.sequence.pad_sequences([inputs],\n",
        "                                                           maxlen=max_length_inp,\n",
        "                                                           padding='post')    \n",
        "    inputs = tf.convert_to_tensor(inputs)\n",
        "    result = ''\n",
        "\n",
        "    hidden = [tf.zeros((1, units))]\n",
        "    #透過encoder產生出輸出與狀態\n",
        "    enc_out, enc_hidden = encoder(inputs, hidden)\n",
        "    #編碼層的狀態一樣給解碼層(dec_hidden)\n",
        "    dec_hidden = enc_hidden\n",
        "    dec_input = tf.expand_dims([targ_lang.word_index['<start>']], 0)\n",
        "\n",
        "    for t in range(max_length_targ):\n",
        "        # 透過decoder解碼，獲得預測結果、解碼狀態、注意力權重\n",
        "        predictions, dec_hidden, attention_weights = decoder(dec_input,\n",
        "                                                             dec_hidden,\n",
        "                                                             enc_out)\n",
        "\n",
        "        # 儲存注意力權重\n",
        "        attention_weights = tf.reshape(attention_weights, (-1, ))\n",
        "        attention_plot[t] = attention_weights.numpy()\n",
        "        # 將預測ID回饋到模型\n",
        "        predicted_id = tf.argmax(predictions[0]).numpy()\n",
        "\n",
        "        result += targ_lang.index_word[predicted_id] + ' '\n",
        "        \n",
        "        if targ_lang.index_word[predicted_id] == '<end>':\n",
        "            return result, sentence, attention_plot\n",
        "\n",
        "       \n",
        "        dec_input = tf.expand_dims([predicted_id], 0)\n",
        "\n",
        "    return result, sentence, attention_plot"
      ],
      "execution_count": null,
      "outputs": []
    },
    {
      "cell_type": "code",
      "metadata": {
        "id": "s5hQWlbN3jGF"
      },
      "source": [
        "# 繪製注意力視覺化\n",
        "def plot_attention(attention, sentence, predicted_sentence):\n",
        "    fig = plt.figure(figsize=(10,10))\n",
        "    ax = fig.add_subplot(1, 1, 1)\n",
        "    ax.matshow(attention, cmap='viridis')\n",
        "\n",
        "    fontdict = {'fontsize': 14}\n",
        "\n",
        "    ax.set_xticklabels([''] + sentence, fontdict=fontdict, rotation=90)\n",
        "    ax.set_yticklabels([''] + predicted_sentence, fontdict=fontdict)\n",
        "\n",
        "    plt.show()"
      ],
      "execution_count": null,
      "outputs": []
    },
    {
      "cell_type": "code",
      "metadata": {
        "id": "sl9zUHzg3jGI"
      },
      "source": [
        "# 將模型用來做結果預測\n",
        "def translate(sentence):\n",
        "    result, sentence, attention_plot = evaluate(sentence)\n",
        "\n",
        "    print('Input: %s' % (sentence))\n",
        "    print('Predicted translation: {}'.format(result))\n",
        "\n",
        "    attention_plot = attention_plot[:len(result.split(' ')), :len(sentence.split(' '))]\n",
        "    plot_attention(attention_plot, sentence.split(' '), result.split(' '))"
      ],
      "execution_count": null,
      "outputs": []
    },
    {
      "cell_type": "code",
      "metadata": {
        "id": "WrAM0FDomq3E",
        "colab": {
          "base_uri": "https://localhost:8080/",
          "height": 674
        },
        "outputId": "5bdceaaa-6ae3-429d-fe0c-8bb83ed6578d"
      },
      "source": [
        "translate(u'hace mucho frio aqui.')"
      ],
      "execution_count": null,
      "outputs": [
        {
          "output_type": "stream",
          "text": [
            "Input: <start> hace mucho frio aqui . <end>\n",
            "Predicted translation: it s very cold here . <end> \n"
          ],
          "name": "stdout"
        },
        {
          "output_type": "display_data",
          "data": {
            "image/png": "[encoded data removed]",
            "text/plain": [
              "<Figure size 720x720 with 1 Axes>"
            ]
          },
          "metadata": {
            "tags": [],
            "needs_background": "light"
          }
        }
      ]
    },
    {
      "cell_type": "code",
      "metadata": {
        "id": "DUQVLVqUE1YW",
        "colab": {
          "base_uri": "https://localhost:8080/",
          "height": 698
        },
        "outputId": "7bd028e2-0626-4eff-f955-b25b56cd0fe6"
      },
      "source": [
        "translate(u'trata de averiguarlo.')"
      ],
      "execution_count": null,
      "outputs": [
        {
          "output_type": "stream",
          "text": [
            "Input: <start> trata de averiguarlo . <end>\n",
            "Predicted translation: try to figure it out . <end> \n"
          ],
          "name": "stdout"
        },
        {
          "output_type": "display_data",
          "data": {
            "image/png": "[encoded data removed]",
            "text/plain": [
              "<Figure size 720x720 with 1 Axes>"
            ]
          },
          "metadata": {
            "tags": [],
            "needs_background": "light"
          }
        }
      ]
    },
    {
      "cell_type": "code",
      "metadata": {
        "id": "VS9YWFFou4UB"
      },
      "source": [
        ""
      ],
      "execution_count": null,
      "outputs": []
    }
  ]
}