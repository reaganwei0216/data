{
  "nbformat": 4,
  "nbformat_minor": 0,
  "metadata": {
    "colab": {
      "name": "實作三十三：分散式訓練.ipynb",
      "provenance": [],
      "collapsed_sections": []
    },
    "kernelspec": {
      "name": "python3",
      "display_name": "Python 3"
    },
    "accelerator": "GPU"
  },
  "cells": [
    {
      "cell_type": "code",
      "metadata": {
        "id": "c629zOX_uEZo"
      },
      "source": [
        "import tensorflow_datasets as tfds\n",
        "import tensorflow as tf\n",
        "import os"
      ],
      "execution_count": null,
      "outputs": []
    },
    {
      "cell_type": "code",
      "metadata": {
        "id": "2yqfZ5D4uIdO"
      },
      "source": [
        "datasets, info = tfds.load(name='mnist', with_info=True, as_supervised=True)\n",
        "mnist_train, mnist_test = datasets['train'], datasets['test']"
      ],
      "execution_count": null,
      "outputs": []
    },
    {
      "cell_type": "code",
      "metadata": {
        "id": "F8UeOeL2uK43",
        "colab": {
          "base_uri": "https://localhost:8080/"
        },
        "outputId": "cce7af6e-fbf6-4bb8-97c8-c88c4141143a"
      },
      "source": [
        "strategy = tf.distribute.MirroredStrategy()\n",
        "print('Number of devices: {}'.format(strategy.num_replicas_in_sync))"
      ],
      "execution_count": null,
      "outputs": [
        {
          "output_type": "stream",
          "text": [
            "INFO:tensorflow:Using MirroredStrategy with devices ('/job:localhost/replica:0/task:0/device:GPU:0',)\n"
          ],
          "name": "stdout"
        },
        {
          "output_type": "stream",
          "text": [
            "INFO:tensorflow:Using MirroredStrategy with devices ('/job:localhost/replica:0/task:0/device:GPU:0',)\n"
          ],
          "name": "stderr"
        },
        {
          "output_type": "stream",
          "text": [
            "Number of devices: 1\n"
          ],
          "name": "stdout"
        }
      ]
    },
    {
      "cell_type": "code",
      "metadata": {
        "id": "xOdQT8zKuNfE"
      },
      "source": [
        "num_train_examples = info.splits['train'].num_examples\n",
        "num_test_examples = info.splits['test'].num_examples\n",
        "BUFFER_SIZE = 10000\n",
        "BATCH_SIZE_PER_REPLICA = 64 #每一個Worker中的REPLICA數量\n",
        "BATCH_SIZE = BATCH_SIZE_PER_REPLICA * strategy.num_replicas_in_sync"
      ],
      "execution_count": null,
      "outputs": []
    },
    {
      "cell_type": "code",
      "metadata": {
        "id": "XMzKIbvouOvt"
      },
      "source": [
        "def scale(image, label):\n",
        "  image = tf.cast(image, tf.float32)\n",
        "  image /= 255\n",
        "  return image, label"
      ],
      "execution_count": null,
      "outputs": []
    },
    {
      "cell_type": "code",
      "metadata": {
        "id": "w9bKGcLRuP2y"
      },
      "source": [
        "train_dataset = mnist_train.map(scale).cache().shuffle(BUFFER_SIZE).batch(BATCH_SIZE)\n",
        "eval_dataset = mnist_test.map(scale).batch(BATCH_SIZE)"
      ],
      "execution_count": null,
      "outputs": []
    },
    {
      "cell_type": "code",
      "metadata": {
        "id": "5h2n1OSxuRJs"
      },
      "source": [
        "with strategy.scope():\n",
        "  model = tf.keras.Sequential([\n",
        "      tf.keras.layers.Conv2D(32, 3, activation='relu', input_shape=(28, 28, 1)),\n",
        "      tf.keras.layers.MaxPooling2D(),\n",
        "      tf.keras.layers.Flatten(),\n",
        "      tf.keras.layers.Dense(64, activation='relu'),\n",
        "      tf.keras.layers.Dense(10)\n",
        "  ])\n",
        "\n",
        "  model.compile(loss=tf.keras.losses.SparseCategoricalCrossentropy(from_logits=True),\n",
        "                optimizer=tf.keras.optimizers.Adam(),\n",
        "                metrics=['accuracy'])"
      ],
      "execution_count": null,
      "outputs": []
    },
    {
      "cell_type": "code",
      "metadata": {
        "id": "Z-m15oCFuSzp"
      },
      "source": [
        "# 設定每一個結果回收的位置\n",
        "checkpoint_dir = './training_checkpoints'\n",
        "checkpoint_prefix = os.path.join(checkpoint_dir, \"ckpt_{epoch}\")"
      ],
      "execution_count": null,
      "outputs": []
    },
    {
      "cell_type": "code",
      "metadata": {
        "id": "HZ_zaWc9uWps"
      },
      "source": [
        "# 設定顯示學習速率\n",
        "class LR(tf.keras.callbacks.Callback):\n",
        "  def on_epoch_end(self, epoch, logs=None):\n",
        "    print('\\nLearning rate for epoch {} is {}'.format(epoch + 1, model.optimizer.lr.numpy()))\n",
        "\n",
        "callbacks = [\n",
        "    tf.keras.callbacks.TensorBoard(log_dir='./logs'),\n",
        "    tf.keras.callbacks.ModelCheckpoint(filepath=checkpoint_prefix,\n",
        "                                       save_weights_only=True),\n",
        "    LR()\n",
        "]"
      ],
      "execution_count": null,
      "outputs": []
    },
    {
      "cell_type": "code",
      "metadata": {
        "id": "OyGQAeLFuXv1",
        "colab": {
          "base_uri": "https://localhost:8080/"
        },
        "outputId": "c50a89ac-958e-4bf1-cafa-050719e9c3b1"
      },
      "source": [
        "model.fit(train_dataset, epochs=10, callbacks=callbacks)"
      ],
      "execution_count": null,
      "outputs": [
        {
          "output_type": "stream",
          "text": [
            "Epoch 1/10\n",
            "  3/938 [..............................] - ETA: 26s - loss: 0.0070 - accuracy: 1.0000WARNING:tensorflow:Callback method `on_train_batch_end` is slow compared to the batch time (batch time: 0.0053s vs `on_train_batch_end` time: 0.0084s). Check your callbacks.\n"
          ],
          "name": "stdout"
        },
        {
          "output_type": "stream",
          "text": [
            "WARNING:tensorflow:Callback method `on_train_batch_end` is slow compared to the batch time (batch time: 0.0053s vs `on_train_batch_end` time: 0.0084s). Check your callbacks.\n"
          ],
          "name": "stderr"
        },
        {
          "output_type": "stream",
          "text": [
            "938/938 [==============================] - 4s 4ms/step - loss: 0.0077 - accuracy: 0.9975\n",
            "\n",
            "Learning rate for epoch 1 is 0.0010000000474974513\n",
            "Epoch 2/10\n",
            "938/938 [==============================] - 4s 4ms/step - loss: 0.0057 - accuracy: 0.9983\n",
            "\n",
            "Learning rate for epoch 2 is 0.0010000000474974513\n",
            "Epoch 3/10\n",
            "938/938 [==============================] - 3s 4ms/step - loss: 0.0053 - accuracy: 0.9983\n",
            "\n",
            "Learning rate for epoch 3 is 0.0010000000474974513\n",
            "Epoch 4/10\n",
            "938/938 [==============================] - 4s 4ms/step - loss: 0.0038 - accuracy: 0.9991\n",
            "\n",
            "Learning rate for epoch 4 is 0.0010000000474974513\n",
            "Epoch 5/10\n",
            "938/938 [==============================] - 3s 4ms/step - loss: 0.0038 - accuracy: 0.9987\n",
            "\n",
            "Learning rate for epoch 5 is 0.0010000000474974513\n",
            "Epoch 6/10\n",
            "938/938 [==============================] - 3s 4ms/step - loss: 0.0020 - accuracy: 0.9995\n",
            "\n",
            "Learning rate for epoch 6 is 0.0010000000474974513\n",
            "Epoch 7/10\n",
            "938/938 [==============================] - 3s 4ms/step - loss: 0.0044 - accuracy: 0.9986\n",
            "\n",
            "Learning rate for epoch 7 is 0.0010000000474974513\n",
            "Epoch 8/10\n",
            "938/938 [==============================] - 3s 4ms/step - loss: 0.0023 - accuracy: 0.9992\n",
            "\n",
            "Learning rate for epoch 8 is 0.0010000000474974513\n",
            "Epoch 9/10\n",
            "938/938 [==============================] - 3s 4ms/step - loss: 0.0025 - accuracy: 0.9992\n",
            "\n",
            "Learning rate for epoch 9 is 0.0010000000474974513\n",
            "Epoch 10/10\n",
            "938/938 [==============================] - 4s 4ms/step - loss: 0.0032 - accuracy: 0.9988\n",
            "\n",
            "Learning rate for epoch 10 is 0.0010000000474974513\n"
          ],
          "name": "stdout"
        },
        {
          "output_type": "execute_result",
          "data": {
            "text/plain": [
              "<tensorflow.python.keras.callbacks.History at 0x7f6c425867f0>"
            ]
          },
          "metadata": {
            "tags": []
          },
          "execution_count": 70
        }
      ]
    },
    {
      "cell_type": "code",
      "metadata": {
        "id": "r62XJ5wxuZKv",
        "colab": {
          "base_uri": "https://localhost:8080/"
        },
        "outputId": "37222be8-2a33-4e1f-fa9e-ac61bb626a02"
      },
      "source": [
        "# 確認結果的位置\n",
        "!ls {checkpoint_dir}"
      ],
      "execution_count": null,
      "outputs": [
        {
          "output_type": "stream",
          "text": [
            "checkpoint\t\t     ckpt_5.data-00000-of-00001\n",
            "ckpt_10.data-00000-of-00001  ckpt_5.index\n",
            "ckpt_10.index\t\t     ckpt_6.data-00000-of-00001\n",
            "ckpt_1.data-00000-of-00001   ckpt_6.index\n",
            "ckpt_1.index\t\t     ckpt_7.data-00000-of-00001\n",
            "ckpt_2.data-00000-of-00001   ckpt_7.index\n",
            "ckpt_2.index\t\t     ckpt_8.data-00000-of-00001\n",
            "ckpt_3.data-00000-of-00001   ckpt_8.index\n",
            "ckpt_3.index\t\t     ckpt_9.data-00000-of-00001\n",
            "ckpt_4.data-00000-of-00001   ckpt_9.index\n",
            "ckpt_4.index\n"
          ],
          "name": "stdout"
        }
      ]
    },
    {
      "cell_type": "code",
      "metadata": {
        "id": "R0SyaKd3uaT_",
        "colab": {
          "base_uri": "https://localhost:8080/"
        },
        "outputId": "832bc741-1fcc-4e51-e7c3-9fde740bc137"
      },
      "source": [
        "model.load_weights(tf.train.latest_checkpoint(checkpoint_dir))\n",
        "eval_loss, eval_acc = model.evaluate(eval_dataset)\n",
        "print('loss: {}, Accuracy: {}'.format(eval_loss, eval_acc))"
      ],
      "execution_count": null,
      "outputs": [
        {
          "output_type": "stream",
          "text": [
            "157/157 [==============================] - 2s 8ms/step - loss: 0.0527 - accuracy: 0.9853\n",
            "loss: 0.05265086144208908, Accuracy: 0.9853000044822693\n"
          ],
          "name": "stdout"
        }
      ]
    }
  ]
}