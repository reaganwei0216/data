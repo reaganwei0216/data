{
  "nbformat": 4,
  "nbformat_minor": 0,
  "metadata": {
    "colab": {
      "name": "01_實作十八：完成第一個結構化數據分析.ipynb",
      "provenance": [],
      "collapsed_sections": []
    },
    "kernelspec": {
      "name": "python3",
      "display_name": "Python 3"
    },
    "accelerator": "GPU"
  },
  "cells": [
    {
      "cell_type": "code",
      "metadata": {
        "id": "MOZgBNzydysY"
      },
      "source": [
        "#Petfinder是一家公司北美地區的最大的線上寵物領養網站，目前有來自近14,000個動物收容所和超過315,000個寵物。"
      ],
      "execution_count": null,
      "outputs": []
    },
    {
      "cell_type": "code",
      "metadata": {
        "id": "-VFHnwOGi9XZ"
      },
      "source": [
        "#Type：種類（狗、貓）\b\n",
        "#Age：年齡\n",
        "#Breed1：品種\n",
        "#Gender：性別\n",
        "#Color1：主色\n",
        "#Color2：次色\n",
        "#MaturitySize：寵物成熟的大小\n",
        "#FurLength：毛髮長度\n",
        "#Vaccinated：是否已接種疫苗，（Not Sure\t表示不確定）\n",
        "#Sterilized：是否已經絕育，（Not Sure\t表示不確定）\n",
        "#Health：寵物健康狀況\n",
        "#Fee：收養費用，0表示免費\n",
        "#Description：寵物的基本資料\n",
        "#PhotoAmt：該寵物上傳的照片總數\n",
        "#AdoptionSpeed\t：領養速度，0表示當天就被領養、1表示一周內被領養、2表示一個月內被領養、3表示第二跟第三個月還沒被領養、4表示100天之後仍然沒被領養"
      ],
      "execution_count": null,
      "outputs": []
    },
    {
      "cell_type": "code",
      "metadata": {
        "id": "xLluLICwpzpU"
      },
      "source": [
        "import numpy as np\n",
        "import pandas as pd\n",
        "import tensorflow as tf\n",
        "from tensorflow import feature_column\n",
        "from sklearn.model_selection import train_test_split"
      ],
      "execution_count": null,
      "outputs": []
    },
    {
      "cell_type": "code",
      "metadata": {
        "colab": {
          "base_uri": "https://localhost:8080/",
          "height": 884
        },
        "id": "tNjZYb4kp07S",
        "outputId": "07d54a15-2af3-49a2-9cf2-124c03a9f08a"
      },
      "source": [
        "import pathlib\n",
        "\n",
        "dataset_url = 'http://storage.googleapis.com/download.tensorflow.org/data/petfinder-mini.zip'\n",
        "csv_file = 'datasets/petfinder-mini/petfinder-mini.csv'\n",
        "\n",
        "tf.keras.utils.get_file('petfinder_mini.zip', dataset_url,\n",
        "                        extract=True, cache_dir='.')\n",
        "dataset = pd.read_csv(csv_file)\n",
        "dataset.head(10)"
      ],
      "execution_count": null,
      "outputs": [
        {
          "output_type": "execute_result",
          "data": {
            "text/html": [
              "<div>\n",
              "<style scoped>\n",
              "    .dataframe tbody tr th:only-of-type {\n",
              "        vertical-align: middle;\n",
              "    }\n",
              "\n",
              "    .dataframe tbody tr th {\n",
              "        vertical-align: top;\n",
              "    }\n",
              "\n",
              "    .dataframe thead th {\n",
              "        text-align: right;\n",
              "    }\n",
              "</style>\n",
              "<table border=\"1\" class=\"dataframe\">\n",
              "  <thead>\n",
              "    <tr style=\"text-align: right;\">\n",
              "      <th></th>\n",
              "      <th>Type</th>\n",
              "      <th>Age</th>\n",
              "      <th>Breed1</th>\n",
              "      <th>Gender</th>\n",
              "      <th>Color1</th>\n",
              "      <th>Color2</th>\n",
              "      <th>MaturitySize</th>\n",
              "      <th>FurLength</th>\n",
              "      <th>Vaccinated</th>\n",
              "      <th>Sterilized</th>\n",
              "      <th>Health</th>\n",
              "      <th>Fee</th>\n",
              "      <th>Description</th>\n",
              "      <th>PhotoAmt</th>\n",
              "      <th>AdoptionSpeed</th>\n",
              "    </tr>\n",
              "  </thead>\n",
              "  <tbody>\n",
              "    <tr>\n",
              "      <th>0</th>\n",
              "      <td>Cat</td>\n",
              "      <td>3</td>\n",
              "      <td>Tabby</td>\n",
              "      <td>Male</td>\n",
              "      <td>Black</td>\n",
              "      <td>White</td>\n",
              "      <td>Small</td>\n",
              "      <td>Short</td>\n",
              "      <td>No</td>\n",
              "      <td>No</td>\n",
              "      <td>Healthy</td>\n",
              "      <td>100</td>\n",
              "      <td>Nibble is a 3+ month old ball of cuteness. He ...</td>\n",
              "      <td>1</td>\n",
              "      <td>2</td>\n",
              "    </tr>\n",
              "    <tr>\n",
              "      <th>1</th>\n",
              "      <td>Cat</td>\n",
              "      <td>1</td>\n",
              "      <td>Domestic Medium Hair</td>\n",
              "      <td>Male</td>\n",
              "      <td>Black</td>\n",
              "      <td>Brown</td>\n",
              "      <td>Medium</td>\n",
              "      <td>Medium</td>\n",
              "      <td>Not Sure</td>\n",
              "      <td>Not Sure</td>\n",
              "      <td>Healthy</td>\n",
              "      <td>0</td>\n",
              "      <td>I just found it alone yesterday near my apartm...</td>\n",
              "      <td>2</td>\n",
              "      <td>0</td>\n",
              "    </tr>\n",
              "    <tr>\n",
              "      <th>2</th>\n",
              "      <td>Dog</td>\n",
              "      <td>1</td>\n",
              "      <td>Mixed Breed</td>\n",
              "      <td>Male</td>\n",
              "      <td>Brown</td>\n",
              "      <td>White</td>\n",
              "      <td>Medium</td>\n",
              "      <td>Medium</td>\n",
              "      <td>Yes</td>\n",
              "      <td>No</td>\n",
              "      <td>Healthy</td>\n",
              "      <td>0</td>\n",
              "      <td>Their pregnant mother was dumped by her irresp...</td>\n",
              "      <td>7</td>\n",
              "      <td>3</td>\n",
              "    </tr>\n",
              "    <tr>\n",
              "      <th>3</th>\n",
              "      <td>Dog</td>\n",
              "      <td>4</td>\n",
              "      <td>Mixed Breed</td>\n",
              "      <td>Female</td>\n",
              "      <td>Black</td>\n",
              "      <td>Brown</td>\n",
              "      <td>Medium</td>\n",
              "      <td>Short</td>\n",
              "      <td>Yes</td>\n",
              "      <td>No</td>\n",
              "      <td>Healthy</td>\n",
              "      <td>150</td>\n",
              "      <td>Good guard dog, very alert, active, obedience ...</td>\n",
              "      <td>8</td>\n",
              "      <td>2</td>\n",
              "    </tr>\n",
              "    <tr>\n",
              "      <th>4</th>\n",
              "      <td>Dog</td>\n",
              "      <td>1</td>\n",
              "      <td>Mixed Breed</td>\n",
              "      <td>Male</td>\n",
              "      <td>Black</td>\n",
              "      <td>No Color</td>\n",
              "      <td>Medium</td>\n",
              "      <td>Short</td>\n",
              "      <td>No</td>\n",
              "      <td>No</td>\n",
              "      <td>Healthy</td>\n",
              "      <td>0</td>\n",
              "      <td>This handsome yet cute boy is up for adoption....</td>\n",
              "      <td>3</td>\n",
              "      <td>2</td>\n",
              "    </tr>\n",
              "    <tr>\n",
              "      <th>5</th>\n",
              "      <td>Cat</td>\n",
              "      <td>3</td>\n",
              "      <td>Domestic Short Hair</td>\n",
              "      <td>Female</td>\n",
              "      <td>Cream</td>\n",
              "      <td>Gray</td>\n",
              "      <td>Medium</td>\n",
              "      <td>Short</td>\n",
              "      <td>No</td>\n",
              "      <td>No</td>\n",
              "      <td>Healthy</td>\n",
              "      <td>0</td>\n",
              "      <td>This is a stray kitten that came to my house. ...</td>\n",
              "      <td>2</td>\n",
              "      <td>2</td>\n",
              "    </tr>\n",
              "    <tr>\n",
              "      <th>6</th>\n",
              "      <td>Cat</td>\n",
              "      <td>12</td>\n",
              "      <td>Domestic Long Hair</td>\n",
              "      <td>Male</td>\n",
              "      <td>Black</td>\n",
              "      <td>No Color</td>\n",
              "      <td>Medium</td>\n",
              "      <td>Long</td>\n",
              "      <td>No</td>\n",
              "      <td>Not Sure</td>\n",
              "      <td>Healthy</td>\n",
              "      <td>300</td>\n",
              "      <td>anyone within the area of ipoh or taiping who ...</td>\n",
              "      <td>3</td>\n",
              "      <td>1</td>\n",
              "    </tr>\n",
              "    <tr>\n",
              "      <th>7</th>\n",
              "      <td>Cat</td>\n",
              "      <td>2</td>\n",
              "      <td>Domestic Medium Hair</td>\n",
              "      <td>Female</td>\n",
              "      <td>Gray</td>\n",
              "      <td>No Color</td>\n",
              "      <td>Medium</td>\n",
              "      <td>Medium</td>\n",
              "      <td>No</td>\n",
              "      <td>No</td>\n",
              "      <td>Healthy</td>\n",
              "      <td>0</td>\n",
              "      <td>healthy and active, feisty kitten found in nei...</td>\n",
              "      <td>6</td>\n",
              "      <td>1</td>\n",
              "    </tr>\n",
              "    <tr>\n",
              "      <th>8</th>\n",
              "      <td>Cat</td>\n",
              "      <td>12</td>\n",
              "      <td>Domestic Medium Hair</td>\n",
              "      <td>Female</td>\n",
              "      <td>Black</td>\n",
              "      <td>White</td>\n",
              "      <td>Medium</td>\n",
              "      <td>Medium</td>\n",
              "      <td>Not Sure</td>\n",
              "      <td>Not Sure</td>\n",
              "      <td>Healthy</td>\n",
              "      <td>0</td>\n",
              "      <td>Very manja and gentle stray cat found, we woul...</td>\n",
              "      <td>2</td>\n",
              "      <td>4</td>\n",
              "    </tr>\n",
              "    <tr>\n",
              "      <th>9</th>\n",
              "      <td>Dog</td>\n",
              "      <td>2</td>\n",
              "      <td>Mixed Breed</td>\n",
              "      <td>Male</td>\n",
              "      <td>Black</td>\n",
              "      <td>Brown</td>\n",
              "      <td>Medium</td>\n",
              "      <td>Short</td>\n",
              "      <td>No</td>\n",
              "      <td>No</td>\n",
              "      <td>Healthy</td>\n",
              "      <td>0</td>\n",
              "      <td>For serious adopter, please do sms or call for...</td>\n",
              "      <td>7</td>\n",
              "      <td>1</td>\n",
              "    </tr>\n",
              "  </tbody>\n",
              "</table>\n",
              "</div>"
            ],
            "text/plain": [
              "  Type  Age  ... PhotoAmt AdoptionSpeed\n",
              "0  Cat    3  ...        1             2\n",
              "1  Cat    1  ...        2             0\n",
              "2  Dog    1  ...        7             3\n",
              "3  Dog    4  ...        8             2\n",
              "4  Dog    1  ...        3             2\n",
              "5  Cat    3  ...        2             2\n",
              "6  Cat   12  ...        3             1\n",
              "7  Cat    2  ...        6             1\n",
              "8  Cat   12  ...        2             4\n",
              "9  Dog    2  ...        7             1\n",
              "\n",
              "[10 rows x 15 columns]"
            ]
          },
          "metadata": {
            "tags": []
          },
          "execution_count": 4
        }
      ]
    },
    {
      "cell_type": "markdown",
      "metadata": {
        "id": "mTJbBcIHqy-a"
      },
      "source": [
        "#建立預測目標"
      ]
    },
    {
      "cell_type": "code",
      "metadata": {
        "id": "yBRAsDPUq1TN"
      },
      "source": [
        "# 建立預測目標\n",
        "# 透過np.where做條件資料替換，取得AdoptionSpeed=4，未領養數據為0，領養為1\n",
        "dataset['target'] = np.where(dataset['AdoptionSpeed']==4, 0, 1)\n",
        "\n",
        "# 刪除未使用的列\n",
        "dataset = dataset.drop(columns=['AdoptionSpeed', 'Description'])"
      ],
      "execution_count": null,
      "outputs": []
    },
    {
      "cell_type": "code",
      "metadata": {
        "colab": {
          "base_uri": "https://localhost:8080/"
        },
        "id": "BdMRnFCXq1rK",
        "outputId": "40a11946-835b-4711-a539-222e0060fc38"
      },
      "source": [
        "#建立訓練、測試、驗證資料集\n",
        "train, test = train_test_split(dataset, test_size=0.2)\n",
        "train, val = train_test_split(train, test_size=0.2)\n",
        "print(len(train), 'train examples')\n",
        "print(len(val), 'validation examples')\n",
        "print(len(test), 'test examples')"
      ],
      "execution_count": null,
      "outputs": [
        {
          "output_type": "stream",
          "text": [
            "7383 train examples\n",
            "1846 validation examples\n",
            "2308 test examples\n"
          ],
          "name": "stdout"
        }
      ]
    },
    {
      "cell_type": "code",
      "metadata": {
        "id": "L9NeOXwnq3Lj"
      },
      "source": [
        "#從dataframe轉tf.data格式\n",
        "def df_to_dataset(dataset, shuffle=True, batch_size=32):\n",
        "  dataset = dataset.copy()\n",
        "  #取出預測目標\n",
        "  labels = dataset.pop('target')#資料轉換\n",
        "  ds = tf.data.Dataset.from_tensor_slices((dict(dataset), labels))\n",
        "  if shuffle:\n",
        "    ds = ds.shuffle(buffer_size=len(dataset))\n",
        "  ds = ds.batch(batch_size)\n",
        "  return ds"
      ],
      "execution_count": null,
      "outputs": []
    },
    {
      "cell_type": "code",
      "metadata": {
        "id": "vBAqBn8frj6J"
      },
      "source": [
        "batch_size = 5 # 展示一下batch_size的內容\n",
        "train_ds = df_to_dataset(train, batch_size=batch_size)\n",
        "val_ds = df_to_dataset(val, shuffle=False, batch_size=batch_size)\n",
        "test_ds = df_to_dataset(test, shuffle=False, batch_size=batch_size)"
      ],
      "execution_count": null,
      "outputs": []
    },
    {
      "cell_type": "code",
      "metadata": {
        "colab": {
          "base_uri": "https://localhost:8080/"
        },
        "id": "ThmPpg6FrkJJ",
        "outputId": "2120284a-ca13-4b78-88c1-ecbdd307adff"
      },
      "source": [
        "for feature_batch, label_batch in train_ds.take(1):\n",
        "  print('顯示每一個特徵:', list(feature_batch.keys()))\n",
        "  print('年齡的每一批次資料:', feature_batch['Age'])\n",
        "  print('目標值每一批次資料:', label_batch )"
      ],
      "execution_count": null,
      "outputs": [
        {
          "output_type": "stream",
          "text": [
            "顯示每一個特徵: ['Type', 'Age', 'Breed1', 'Gender', 'Color1', 'Color2', 'MaturitySize', 'FurLength', 'Vaccinated', 'Sterilized', 'Health', 'Fee', 'PhotoAmt']\n",
            "年齡的每一批次資料: tf.Tensor([4 2 3 6 2], shape=(5,), dtype=int64)\n",
            "目標值每一批次資料: tf.Tensor([1 1 1 1 1], shape=(5,), dtype=int64)\n"
          ],
          "name": "stdout"
        }
      ]
    },
    {
      "cell_type": "code",
      "metadata": {
        "id": "zE0TRnMaPpKS"
      },
      "source": [
        "#寫一段Demo函式，可以用來觀察feature columns\n",
        "example_batch = next(iter(train_ds))[0]#取得第0筆資料\n",
        "def demo(feature_column):\n",
        "  feature_layer = tf.keras.layers.DenseFeatures(feature_column) #基於等下給的feature_column展示Tensor的內容\n",
        "  print(feature_layer(example_batch).numpy())"
      ],
      "execution_count": null,
      "outputs": []
    },
    {
      "cell_type": "code",
      "metadata": {
        "colab": {
          "base_uri": "https://localhost:8080/"
        },
        "id": "tAEw8a2Wa3bL",
        "outputId": "9d2f193d-449f-450a-c0b0-58fb911c3b39"
      },
      "source": [
        "example_batch"
      ],
      "execution_count": null,
      "outputs": [
        {
          "output_type": "execute_result",
          "data": {
            "text/plain": [
              "{'Age': <tf.Tensor: shape=(5,), dtype=int64, numpy=array([6, 2, 3, 5, 6])>,\n",
              " 'Breed1': <tf.Tensor: shape=(5,), dtype=string, numpy=\n",
              " array([b'Mixed Breed', b'Domestic Short Hair', b'Tuxedo', b'Dalmatian',\n",
              "        b'Domestic Medium Hair'], dtype=object)>,\n",
              " 'Color1': <tf.Tensor: shape=(5,), dtype=string, numpy=array([b'Brown', b'Gray', b'Black', b'Black', b'Golden'], dtype=object)>,\n",
              " 'Color2': <tf.Tensor: shape=(5,), dtype=string, numpy=array([b'No Color', b'White', b'White', b'Gray', b'White'], dtype=object)>,\n",
              " 'Fee': <tf.Tensor: shape=(5,), dtype=int64, numpy=array([ 0,  0,  0, 50,  0])>,\n",
              " 'FurLength': <tf.Tensor: shape=(5,), dtype=string, numpy=array([b'Short', b'Short', b'Long', b'Short', b'Medium'], dtype=object)>,\n",
              " 'Gender': <tf.Tensor: shape=(5,), dtype=string, numpy=array([b'Male', b'Male', b'Female', b'Female', b'Male'], dtype=object)>,\n",
              " 'Health': <tf.Tensor: shape=(5,), dtype=string, numpy=\n",
              " array([b'Healthy', b'Healthy', b'Healthy', b'Healthy', b'Healthy'],\n",
              "       dtype=object)>,\n",
              " 'MaturitySize': <tf.Tensor: shape=(5,), dtype=string, numpy=array([b'Medium', b'Medium', b'Small', b'Large', b'Medium'], dtype=object)>,\n",
              " 'PhotoAmt': <tf.Tensor: shape=(5,), dtype=int64, numpy=array([2, 7, 6, 1, 6])>,\n",
              " 'Sterilized': <tf.Tensor: shape=(5,), dtype=string, numpy=array([b'No', b'No', b'No', b'No', b'No'], dtype=object)>,\n",
              " 'Type': <tf.Tensor: shape=(5,), dtype=string, numpy=array([b'Dog', b'Cat', b'Cat', b'Dog', b'Cat'], dtype=object)>,\n",
              " 'Vaccinated': <tf.Tensor: shape=(5,), dtype=string, numpy=array([b'No', b'No', b'Not Sure', b'Yes', b'No'], dtype=object)>}"
            ]
          },
          "metadata": {
            "tags": []
          },
          "execution_count": 11
        }
      ]
    },
    {
      "cell_type": "code",
      "metadata": {
        "id": "_YkyGXZQefO0"
      },
      "source": [
        "#透過example_batch來展示TF裝載不同格式資料的方式"
      ],
      "execution_count": null,
      "outputs": []
    },
    {
      "cell_type": "code",
      "metadata": {
        "colab": {
          "base_uri": "https://localhost:8080/"
        },
        "id": "UmPtTcyVPwjj",
        "outputId": "41071cb0-3b3c-4ffb-d104-69dafe9037b6"
      },
      "source": [
        "#觀看該寵物上傳的照片總數\n",
        "photo_count = feature_column.numeric_column('PhotoAmt')\n",
        "demo(photo_count)"
      ],
      "execution_count": null,
      "outputs": [
        {
          "output_type": "stream",
          "text": [
            "[[2.]\n",
            " [7.]\n",
            " [6.]\n",
            " [1.]\n",
            " [6.]]\n"
          ],
          "name": "stdout"
        }
      ]
    },
    {
      "cell_type": "code",
      "metadata": {
        "colab": {
          "base_uri": "https://localhost:8080/"
        },
        "id": "o1Cj1fNyP3wu",
        "outputId": "033f396b-2a24-4417-e9ee-420c19d3490d"
      },
      "source": [
        "#年齡轉換為bucketized，轉換到1,3,5區間\n",
        "age = feature_column.numeric_column('Age')\n",
        "age_buckets = feature_column.bucketized_column(age, boundaries=[1, 3, 5])\n",
        "demo(age_buckets)\n",
        "#6, 2, 3, 5, 6"
      ],
      "execution_count": null,
      "outputs": [
        {
          "output_type": "stream",
          "text": [
            "[[0. 0. 0. 1.]\n",
            " [0. 1. 0. 0.]\n",
            " [0. 0. 1. 0.]\n",
            " [0. 0. 0. 1.]\n",
            " [0. 0. 0. 1.]]\n"
          ],
          "name": "stdout"
        }
      ]
    },
    {
      "cell_type": "code",
      "metadata": {
        "colab": {
          "base_uri": "https://localhost:8080/"
        },
        "id": "aeAOC6J_P6rY",
        "outputId": "8fcb4bd4-4ef4-420a-b0c9-f6b9eca5ee68"
      },
      "source": [
        "#寵物轉換為indicator_column\n",
        "animal_type = feature_column.categorical_column_with_vocabulary_list(\n",
        "      'Type', ['Cat', 'Dog'])\n",
        "animal_type_one_hot = feature_column.indicator_column(animal_type)\n",
        "demo(animal_type_one_hot)\n",
        "#b'Dog', b'Cat', b'Cat', b'Dog', b'Cat'"
      ],
      "execution_count": null,
      "outputs": [
        {
          "output_type": "stream",
          "text": [
            "[[0. 1.]\n",
            " [1. 0.]\n",
            " [1. 0.]\n",
            " [0. 1.]\n",
            " [1. 0.]]\n"
          ],
          "name": "stdout"
        }
      ]
    },
    {
      "cell_type": "code",
      "metadata": {
        "colab": {
          "base_uri": "https://localhost:8080/"
        },
        "id": "sBMd6AvbQAY0",
        "outputId": "b803f7e1-5f1a-46b7-8a02-ad70b1bd22c1"
      },
      "source": [
        "#將品種轉為embedding_column，當一個特徵有比較多數值，就會建議將數值轉為embedding_column\n",
        "breed1 = feature_column.categorical_column_with_vocabulary_list(\n",
        "      'Breed1', dataset.Breed1.unique())\n",
        "breed1_embedding = feature_column.embedding_column(breed1, dimension=8) #轉為8個元素\n",
        "demo(breed1_embedding)"
      ],
      "execution_count": null,
      "outputs": [
        {
          "output_type": "stream",
          "text": [
            "[[ 2.6368424e-01  1.9794904e-01  1.0925880e-01 -8.8757277e-02\n",
            "  -1.5210855e-01  6.1805207e-01 -6.5286440e-01 -5.8875346e-01]\n",
            " [ 5.6207187e-02  4.6664558e-04  3.0018637e-01  5.9047192e-01\n",
            "   2.1837243e-01 -5.3819394e-01  1.1317693e-01  1.8330643e-01]\n",
            " [ 4.2359334e-01  3.9783618e-01  8.7481275e-02 -5.3136524e-02\n",
            "  -1.5287885e-02 -7.4953124e-02  2.1722165e-01 -2.9806530e-01]\n",
            " [-1.9744405e-01  4.4208340e-02 -5.6195849e-01 -2.9894170e-01\n",
            "  -1.8420246e-01  2.5974263e-02  1.8686196e-01 -3.1319866e-01]\n",
            " [ 1.3513073e-01 -9.6416257e-02  7.3689461e-02  3.0079672e-01\n",
            "   3.5942587e-01 -6.5286636e-01  2.0029575e-01  2.7677476e-01]]\n"
          ],
          "name": "stdout"
        }
      ]
    },
    {
      "cell_type": "code",
      "metadata": {
        "colab": {
          "base_uri": "https://localhost:8080/"
        },
        "id": "TFA4XQ8HQbyu",
        "outputId": "ab347745-0c1b-4854-e774-d7e8b18a82c4"
      },
      "source": [
        "#將品種資料轉為hash_bucket\n",
        "breed1_hashed = feature_column.categorical_column_with_hash_bucket(\n",
        "      'Breed1', hash_bucket_size=10)\n",
        "demo(feature_column.indicator_column(breed1_hashed))"
      ],
      "execution_count": null,
      "outputs": [
        {
          "output_type": "stream",
          "text": [
            "[[0. 0. 0. 0. 0. 0. 0. 1. 0. 0.]\n",
            " [0. 0. 0. 0. 0. 0. 0. 0. 0. 1.]\n",
            " [0. 0. 0. 0. 0. 0. 0. 0. 0. 1.]\n",
            " [0. 0. 0. 0. 0. 0. 1. 0. 0. 0.]\n",
            " [0. 0. 0. 0. 1. 0. 0. 0. 0. 0.]]\n"
          ],
          "name": "stdout"
        }
      ]
    },
    {
      "cell_type": "code",
      "metadata": {
        "colab": {
          "base_uri": "https://localhost:8080/"
        },
        "id": "jXTtuPJ2Qeh-",
        "outputId": "0dc9ec58-60a8-404e-8d9f-ed23de932a85"
      },
      "source": [
        "#將多個特徵（年齡、寵物類型）合成一個特徵，並轉為hash_bucket\n",
        "crossed_feature = feature_column.crossed_column([age_buckets, animal_type], hash_bucket_size=10)\n",
        "demo(feature_column.indicator_column(crossed_feature))"
      ],
      "execution_count": null,
      "outputs": [
        {
          "output_type": "stream",
          "text": [
            "[[0. 0. 0. 0. 0. 0. 0. 0. 1. 0.]\n",
            " [0. 0. 0. 1. 0. 0. 0. 0. 0. 0.]\n",
            " [0. 1. 0. 0. 0. 0. 0. 0. 0. 0.]\n",
            " [0. 0. 0. 0. 0. 0. 0. 0. 1. 0.]\n",
            " [1. 0. 0. 0. 0. 0. 0. 0. 0. 0.]]\n"
          ],
          "name": "stdout"
        }
      ]
    },
    {
      "cell_type": "code",
      "metadata": {
        "id": "9zRPE3neQYcJ"
      },
      "source": [
        "#清空前面測試的欄位\n",
        "feature_columns = []\n",
        "# 選擇做訓練的數值行\n",
        "for header in ['PhotoAmt', 'Fee', 'Age']:\n",
        "  feature_columns.append(feature_column.numeric_column(header))"
      ],
      "execution_count": null,
      "outputs": []
    },
    {
      "cell_type": "code",
      "metadata": {
        "colab": {
          "base_uri": "https://localhost:8080/"
        },
        "id": "132_Jwm-fTXo",
        "outputId": "def8928b-9507-4cf1-bb8e-0fc8f8c945fd"
      },
      "source": [
        "feature_columns"
      ],
      "execution_count": null,
      "outputs": [
        {
          "output_type": "execute_result",
          "data": {
            "text/plain": [
              "[NumericColumn(key='PhotoAmt', shape=(1,), default_value=None, dtype=tf.float32, normalizer_fn=None),\n",
              " NumericColumn(key='Fee', shape=(1,), default_value=None, dtype=tf.float32, normalizer_fn=None),\n",
              " NumericColumn(key='Age', shape=(1,), default_value=None, dtype=tf.float32, normalizer_fn=None)]"
            ]
          },
          "metadata": {
            "tags": []
          },
          "execution_count": 20
        }
      ]
    },
    {
      "cell_type": "code",
      "metadata": {
        "id": "JoUftmMMsIo0"
      },
      "source": [
        "# 把年齡做bucketized，區間為1,2,3,4,5\n",
        "age = feature_column.numeric_column('Age')\n",
        "age_buckets = feature_column.bucketized_column(age, boundaries=[1, 2, 3, 4, 5])\n",
        "feature_columns.append(age_buckets)"
      ],
      "execution_count": null,
      "outputs": []
    },
    {
      "cell_type": "code",
      "metadata": {
        "id": "oNHrMgKSsK6f"
      },
      "source": [
        "# 將指定欄位轉indicator_columns，並加入feature_columns\n",
        "indicator_column_names = ['Type', 'Color1', 'Color2', 'Gender', 'MaturitySize',\n",
        "                          'FurLength', 'Vaccinated', 'Sterilized', 'Health']\n",
        "for col_name in indicator_column_names:\n",
        "  categorical_column = feature_column.categorical_column_with_vocabulary_list(\n",
        "      col_name, dataset[col_name].unique())\n",
        "  indicator_column = feature_column.indicator_column(categorical_column)\n",
        "  feature_columns.append(indicator_column)"
      ],
      "execution_count": null,
      "outputs": []
    },
    {
      "cell_type": "code",
      "metadata": {
        "colab": {
          "base_uri": "https://localhost:8080/"
        },
        "id": "O9OwH2pSOvfT",
        "outputId": "f342990f-96da-433e-a64a-ad32579142a4"
      },
      "source": [
        "animal_type = feature_column.categorical_column_with_vocabulary_list(\n",
        "      'Type', ['Cat', 'Dog'])\n",
        "\n",
        "animal_type_one_hot = feature_column.indicator_column(animal_type)\n",
        "demo(animal_type_one_hot)"
      ],
      "execution_count": null,
      "outputs": [
        {
          "output_type": "stream",
          "text": [
            "[[0. 1.]\n",
            " [1. 0.]\n",
            " [1. 0.]\n",
            " [0. 1.]\n",
            " [1. 0.]]\n"
          ],
          "name": "stdout"
        }
      ]
    },
    {
      "cell_type": "code",
      "metadata": {
        "id": "ltWeWjU6sLQs",
        "colab": {
          "base_uri": "https://localhost:8080/"
        },
        "outputId": "e5a4eebf-a3f6-4688-b51e-f83cfd16be1b"
      },
      "source": [
        "#將品種資料轉為embedding columns\n",
        "breed1 = feature_column.categorical_column_with_vocabulary_list(\n",
        "      'Breed1', dataset.Breed1.unique())\n",
        "breed1_embedding = feature_column.embedding_column(breed1, dimension=8)\n",
        "feature_columns.append(breed1_embedding)\n",
        "demo(breed1_embedding)"
      ],
      "execution_count": null,
      "outputs": [
        {
          "output_type": "stream",
          "text": [
            "[[-0.15580982  0.3722761   0.44045505  0.47772503  0.41481584  0.12851077\n",
            "   0.28865653  0.38193673]\n",
            " [ 0.45517522  0.5250243   0.36296305  0.07183133  0.4992528   0.4160294\n",
            "  -0.258904   -0.20568205]\n",
            " [ 0.58727497 -0.61253846 -0.0403722   0.23990083 -0.19180748  0.38073212\n",
            "  -0.07963162 -0.6687922 ]\n",
            " [ 0.08968242 -0.5383558  -0.34849492 -0.11525047 -0.28622463 -0.23836617\n",
            "   0.47824782  0.0968101 ]\n",
            " [ 0.07311627 -0.6666989  -0.06445301 -0.26953122 -0.23101848 -0.02003135\n",
            "  -0.10697258 -0.16698767]]\n"
          ],
          "name": "stdout"
        }
      ]
    },
    {
      "cell_type": "code",
      "metadata": {
        "id": "OJyVayKQsMY8"
      },
      "source": [
        "#將多個特徵（年齡、寵物類型）合成一個特徵，並轉為hash_bucket\n",
        "age_type_feature = feature_column.crossed_column([age_buckets, animal_type], hash_bucket_size=100)\n",
        "feature_columns.append(feature_column.indicator_column(age_type_feature))"
      ],
      "execution_count": null,
      "outputs": []
    },
    {
      "cell_type": "code",
      "metadata": {
        "id": "r5m1yX7usNQI"
      },
      "source": [
        "#建立特徵網路層\n",
        "feature_layer = tf.keras.layers.DenseFeatures(feature_columns)\n",
        "batch_size = 32\n",
        "train_ds = df_to_dataset(train, batch_size=batch_size)\n",
        "val_ds = df_to_dataset(val, shuffle=False, batch_size=batch_size)\n",
        "test_ds = df_to_dataset(test, shuffle=False, batch_size=batch_size)"
      ],
      "execution_count": null,
      "outputs": []
    },
    {
      "cell_type": "code",
      "metadata": {
        "id": "ZqCI_8sbsRCb",
        "colab": {
          "base_uri": "https://localhost:8080/"
        },
        "outputId": "66570fab-dd3d-4227-bd10-dffd78304c40"
      },
      "source": [
        "#訓練模型\n",
        "model = tf.keras.Sequential([\n",
        "  feature_layer,\n",
        "  tf.keras.layers.Dense(128, activation='relu'),\n",
        "  tf.keras.layers.Dense(128, activation='relu'),\n",
        "  tf.keras.layers.Dropout(.1),\n",
        "  tf.keras.layers.Dense(1)\n",
        "])\n",
        "\n",
        "model.compile(optimizer='adam',\n",
        "              loss=tf.keras.losses.BinaryCrossentropy(from_logits=True),\n",
        "              metrics=['accuracy'])\n",
        "\n",
        "model.fit(train_ds,\n",
        "          validation_data=val_ds,\n",
        "          epochs=10)\n",
        "loss, accuracy = model.evaluate(test_ds)\n",
        "print(\"Accuracy\", accuracy)"
      ],
      "execution_count": null,
      "outputs": [
        {
          "output_type": "stream",
          "text": [
            "Epoch 1/10\n",
            "WARNING:tensorflow:Layers in a Sequential model should only have a single input tensor, but we receive a <class 'dict'> input: {'Type': <tf.Tensor 'ExpandDims_11:0' shape=(None, 1) dtype=string>, 'Age': <tf.Tensor 'ExpandDims:0' shape=(None, 1) dtype=int64>, 'Breed1': <tf.Tensor 'ExpandDims_1:0' shape=(None, 1) dtype=string>, 'Gender': <tf.Tensor 'ExpandDims_6:0' shape=(None, 1) dtype=string>, 'Color1': <tf.Tensor 'ExpandDims_2:0' shape=(None, 1) dtype=string>, 'Color2': <tf.Tensor 'ExpandDims_3:0' shape=(None, 1) dtype=string>, 'MaturitySize': <tf.Tensor 'ExpandDims_8:0' shape=(None, 1) dtype=string>, 'FurLength': <tf.Tensor 'ExpandDims_5:0' shape=(None, 1) dtype=string>, 'Vaccinated': <tf.Tensor 'ExpandDims_12:0' shape=(None, 1) dtype=string>, 'Sterilized': <tf.Tensor 'ExpandDims_10:0' shape=(None, 1) dtype=string>, 'Health': <tf.Tensor 'ExpandDims_7:0' shape=(None, 1) dtype=string>, 'Fee': <tf.Tensor 'ExpandDims_4:0' shape=(None, 1) dtype=int64>, 'PhotoAmt': <tf.Tensor 'ExpandDims_9:0' shape=(None, 1) dtype=int64>}\n",
            "Consider rewriting this model with the Functional API.\n",
            "WARNING:tensorflow:Layers in a Sequential model should only have a single input tensor, but we receive a <class 'dict'> input: {'Type': <tf.Tensor 'ExpandDims_11:0' shape=(None, 1) dtype=string>, 'Age': <tf.Tensor 'ExpandDims:0' shape=(None, 1) dtype=int64>, 'Breed1': <tf.Tensor 'ExpandDims_1:0' shape=(None, 1) dtype=string>, 'Gender': <tf.Tensor 'ExpandDims_6:0' shape=(None, 1) dtype=string>, 'Color1': <tf.Tensor 'ExpandDims_2:0' shape=(None, 1) dtype=string>, 'Color2': <tf.Tensor 'ExpandDims_3:0' shape=(None, 1) dtype=string>, 'MaturitySize': <tf.Tensor 'ExpandDims_8:0' shape=(None, 1) dtype=string>, 'FurLength': <tf.Tensor 'ExpandDims_5:0' shape=(None, 1) dtype=string>, 'Vaccinated': <tf.Tensor 'ExpandDims_12:0' shape=(None, 1) dtype=string>, 'Sterilized': <tf.Tensor 'ExpandDims_10:0' shape=(None, 1) dtype=string>, 'Health': <tf.Tensor 'ExpandDims_7:0' shape=(None, 1) dtype=string>, 'Fee': <tf.Tensor 'ExpandDims_4:0' shape=(None, 1) dtype=int64>, 'PhotoAmt': <tf.Tensor 'ExpandDims_9:0' shape=(None, 1) dtype=int64>}\n",
            "Consider rewriting this model with the Functional API.\n",
            "225/231 [============================>.] - ETA: 0s - loss: 0.7956 - accuracy: 0.6568WARNING:tensorflow:Layers in a Sequential model should only have a single input tensor, but we receive a <class 'dict'> input: {'Type': <tf.Tensor 'ExpandDims_11:0' shape=(None, 1) dtype=string>, 'Age': <tf.Tensor 'ExpandDims:0' shape=(None, 1) dtype=int64>, 'Breed1': <tf.Tensor 'ExpandDims_1:0' shape=(None, 1) dtype=string>, 'Gender': <tf.Tensor 'ExpandDims_6:0' shape=(None, 1) dtype=string>, 'Color1': <tf.Tensor 'ExpandDims_2:0' shape=(None, 1) dtype=string>, 'Color2': <tf.Tensor 'ExpandDims_3:0' shape=(None, 1) dtype=string>, 'MaturitySize': <tf.Tensor 'ExpandDims_8:0' shape=(None, 1) dtype=string>, 'FurLength': <tf.Tensor 'ExpandDims_5:0' shape=(None, 1) dtype=string>, 'Vaccinated': <tf.Tensor 'ExpandDims_12:0' shape=(None, 1) dtype=string>, 'Sterilized': <tf.Tensor 'ExpandDims_10:0' shape=(None, 1) dtype=string>, 'Health': <tf.Tensor 'ExpandDims_7:0' shape=(None, 1) dtype=string>, 'Fee': <tf.Tensor 'ExpandDims_4:0' shape=(None, 1) dtype=int64>, 'PhotoAmt': <tf.Tensor 'ExpandDims_9:0' shape=(None, 1) dtype=int64>}\n",
            "Consider rewriting this model with the Functional API.\n",
            "231/231 [==============================] - 4s 10ms/step - loss: 0.7924 - accuracy: 0.6580 - val_loss: 0.5326 - val_accuracy: 0.6706\n",
            "Epoch 2/10\n",
            "231/231 [==============================] - 2s 7ms/step - loss: 0.5939 - accuracy: 0.7104 - val_loss: 0.5113 - val_accuracy: 0.6999\n",
            "Epoch 3/10\n",
            "231/231 [==============================] - 2s 8ms/step - loss: 0.5160 - accuracy: 0.7386 - val_loss: 0.5316 - val_accuracy: 0.6603\n",
            "Epoch 4/10\n",
            "231/231 [==============================] - 2s 7ms/step - loss: 0.5003 - accuracy: 0.7371 - val_loss: 0.4937 - val_accuracy: 0.7232\n",
            "Epoch 5/10\n",
            "231/231 [==============================] - 2s 7ms/step - loss: 0.4864 - accuracy: 0.7411 - val_loss: 0.4947 - val_accuracy: 0.7264\n",
            "Epoch 6/10\n",
            "231/231 [==============================] - 2s 7ms/step - loss: 0.4822 - accuracy: 0.7418 - val_loss: 0.5000 - val_accuracy: 0.6999\n",
            "Epoch 7/10\n",
            "231/231 [==============================] - 2s 7ms/step - loss: 0.4912 - accuracy: 0.7453 - val_loss: 0.4940 - val_accuracy: 0.7172\n",
            "Epoch 8/10\n",
            "231/231 [==============================] - 2s 7ms/step - loss: 0.4650 - accuracy: 0.7518 - val_loss: 0.5040 - val_accuracy: 0.7091\n",
            "Epoch 9/10\n",
            "231/231 [==============================] - 2s 7ms/step - loss: 0.4724 - accuracy: 0.7404 - val_loss: 0.4977 - val_accuracy: 0.7064\n",
            "Epoch 10/10\n",
            "231/231 [==============================] - 2s 8ms/step - loss: 0.4607 - accuracy: 0.7566 - val_loss: 0.4915 - val_accuracy: 0.7335\n",
            "73/73 [==============================] - 0s 5ms/step - loss: 0.5121 - accuracy: 0.7409\n",
            "Accuracy 0.7409012317657471\n"
          ],
          "name": "stdout"
        }
      ]
    },
    {
      "cell_type": "code",
      "metadata": {
        "id": "3KVoj-JHsWC1",
        "colab": {
          "base_uri": "https://localhost:8080/"
        },
        "outputId": "b14de6d6-807d-4386-d4f7-a5aaa926085a"
      },
      "source": [
        "#預測領養的速度，數值越小則領養速度越快\n",
        "model.predict(next(iter(test_ds))[0])"
      ],
      "execution_count": null,
      "outputs": [
        {
          "output_type": "execute_result",
          "data": {
            "text/plain": [
              "array([[ 1.0752643 ],\n",
              "       [ 1.2660422 ],\n",
              "       [-0.00866931],\n",
              "       [ 1.4008915 ],\n",
              "       [-0.5113961 ],\n",
              "       [ 3.9423954 ],\n",
              "       [ 3.8328466 ],\n",
              "       [ 2.7835858 ],\n",
              "       [ 0.66131413],\n",
              "       [ 0.68969065],\n",
              "       [ 0.89744973],\n",
              "       [ 2.9224386 ],\n",
              "       [ 0.3232326 ],\n",
              "       [-0.08829938],\n",
              "       [-0.1800879 ],\n",
              "       [ 2.5596764 ],\n",
              "       [ 1.5758972 ],\n",
              "       [ 0.45695907],\n",
              "       [ 0.8428226 ],\n",
              "       [-0.03696763],\n",
              "       [ 1.3700149 ],\n",
              "       [ 2.0845215 ],\n",
              "       [ 2.0333266 ],\n",
              "       [ 3.903319  ],\n",
              "       [ 2.9249804 ],\n",
              "       [ 2.3734372 ],\n",
              "       [ 1.4671569 ],\n",
              "       [ 3.4405103 ],\n",
              "       [ 1.0151669 ],\n",
              "       [ 2.8925798 ],\n",
              "       [ 0.08667261],\n",
              "       [ 2.4066722 ]], dtype=float32)"
            ]
          },
          "metadata": {
            "tags": []
          },
          "execution_count": 44
        }
      ]
    },
    {
      "cell_type": "code",
      "metadata": {
        "id": "ODheh2r1nN0U"
      },
      "source": [
        ""
      ],
      "execution_count": null,
      "outputs": []
    }
  ]
}