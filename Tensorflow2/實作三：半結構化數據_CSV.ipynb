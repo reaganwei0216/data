{
  "nbformat": 4,
  "nbformat_minor": 0,
  "metadata": {
    "colab": {
      "name": "實作三：半結構化數據-CSV.ipynb",
      "provenance": [],
      "collapsed_sections": []
    },
    "kernelspec": {
      "name": "python3",
      "display_name": "Python 3"
    }
  },
  "cells": [
    {
      "cell_type": "code",
      "metadata": {
        "id": "QFMLq-klEHLq"
      },
      "source": [
        "import tensorflow as tf"
      ],
      "execution_count": null,
      "outputs": []
    },
    {
      "cell_type": "markdown",
      "metadata": {
        "id": "uHKYJXH4EW8N"
      },
      "source": [
        "# 單一CSV檔案"
      ]
    },
    {
      "cell_type": "code",
      "metadata": {
        "colab": {
          "base_uri": "https://localhost:8080/"
        },
        "id": "UhRsOATxD8PZ",
        "outputId": "cbbbbfdc-4a60-4167-9ab0-a9ee3fbb0659"
      },
      "source": [
        "titanic_file_path = tf.keras.utils.get_file(\"train.csv\", \"https://storage.googleapis.com/tf-datasets/titanic/train.csv\")"
      ],
      "execution_count": null,
      "outputs": [
        {
          "output_type": "stream",
          "text": [
            "Downloading data from https://storage.googleapis.com/tf-datasets/titanic/train.csv\n",
            "32768/30874 [===============================] - 0s 0us/step\n"
          ],
          "name": "stdout"
        }
      ]
    },
    {
      "cell_type": "code",
      "metadata": {
        "id": "RZbD5_WoEFmV"
      },
      "source": [
        "titanic_csv_ds = tf.data.experimental.make_csv_dataset(\n",
        "    titanic_file_path,\n",
        "    batch_size=5,\n",
        "    label_name='survived',\n",
        "    ignore_errors=True,)\n",
        "\n",
        "#file_pattern：指定的資料來源\n",
        "#batch_size：單一批次處理的數量\n",
        "#column_names：欄位的名稱，若無指定則會自動推論名稱\n",
        "#column_defaults：欄位中指定的格式，如float32, float64, int32, int64, string\n",
        "#label_name：指定模型推論的欄位\n",
        "#select_columns：可以挑選指定的欄位資料\n",
        "#field_delim：預設為csv的\",\"，可用於指定分隔資料的符號\n",
        "#use_quote_delim：預設值為True，若設定為False則會將雙引號讀取為常規字串\n",
        "#na_value：可以設定是否識別NA / NaN值\n",
        "#header：是否包含檔頭\n",
        "#num_epochs：可以指定重複該數據的次數\n",
        "#shuffle：隨機抽換資料\n",
        "#shuffle_buffer_size：隨機抽換資料的大小，數字越大，記憶體消耗越大\n",
        "#shuffle_seed：隨機種子\n",
        "#prefetch_buffer_size：預設為自動調整，通常是配合批次量來處理\n",
        "#num_parallel_reads：指定讀取資料的線程數，預設為1\n",
        "#sloppy:如果設定為True，則會盡可能高效率的方式給予讀取資料，但不保證排序或資料是否有問題\n",
        "#num_rows_for_inference：預設為100，如果設定為None則可以讀取所有的資料\n",
        "#compression_type：預設為無壓縮，支援ZLIB與GZIP格式\n",
        "#ignore_errors：忽略CSV文件解析過程中的錯誤"
      ],
      "execution_count": null,
      "outputs": []
    },
    {
      "cell_type": "code",
      "metadata": {
        "colab": {
          "base_uri": "https://localhost:8080/"
        },
        "id": "uAqMOJocEOYD",
        "outputId": "dbcf0ed5-b9ce-447c-f48b-b2cc1ddb1807"
      },
      "source": [
        "for batch, label in titanic_csv_ds.take(1): #資料數\n",
        "  for key, value in batch.items(): #欄位\n",
        "    print(f\"{key:1s}: {value}\")\n",
        "  print(f\"{'label':1s}: {label}\")"
      ],
      "execution_count": null,
      "outputs": [
        {
          "output_type": "stream",
          "text": [
            "sex: [b'male' b'female' b'male' b'male' b'male']\n",
            "age: [42. 29. 28. 28. 38.]\n",
            "n_siblings_spouses: [1 1 0 1 0]\n",
            "parch: [0 0 0 0 0]\n",
            "fare: [27.     26.     13.8625 15.5     7.05  ]\n",
            "class: [b'Second' b'Second' b'Second' b'Third' b'Third']\n",
            "deck: [b'unknown' b'unknown' b'unknown' b'unknown' b'unknown']\n",
            "embark_town: [b'Southampton' b'Southampton' b'Cherbourg' b'Queenstown' b'Southampton']\n",
            "alone: [b'n' b'n' b'y' b'n' b'y']\n",
            "label      : [0 1 1 0 0]\n"
          ],
          "name": "stdout"
        }
      ]
    },
    {
      "cell_type": "markdown",
      "metadata": {
        "id": "0t2cDamxEgaE"
      },
      "source": [
        "#單一gz檔案"
      ]
    },
    {
      "cell_type": "code",
      "metadata": {
        "colab": {
          "base_uri": "https://localhost:8080/"
        },
        "id": "OTNZN6HLEjqO",
        "outputId": "704f4bc1-3da6-412e-cdfe-b3ea9ab8e9af"
      },
      "source": [
        "traffic_volume_csv_gz = tf.keras.utils.get_file(\n",
        "    'Metro_Interstate_Traffic_Volume.csv.gz', \n",
        "    \"https://archive.ics.uci.edu/ml/machine-learning-databases/00492/Metro_Interstate_Traffic_Volume.csv.gz\",\n",
        "    cache_dir='.', cache_subdir='traffic')"
      ],
      "execution_count": null,
      "outputs": [
        {
          "output_type": "stream",
          "text": [
            "Downloading data from https://archive.ics.uci.edu/ml/machine-learning-databases/00492/Metro_Interstate_Traffic_Volume.csv.gz\n",
            "409600/405373 [==============================] - 0s 1us/step\n"
          ],
          "name": "stdout"
        }
      ]
    },
    {
      "cell_type": "code",
      "metadata": {
        "colab": {
          "base_uri": "https://localhost:8080/"
        },
        "id": "hEjej3ypEj6R",
        "outputId": "b5ea642c-c8ca-49a8-cd23-c24949fa8e25"
      },
      "source": [
        "traffic_volume_csv_gz_ds = tf.data.experimental.make_csv_dataset(\n",
        "    traffic_volume_csv_gz,\n",
        "    batch_size=256,\n",
        "    label_name='traffic_volume',\n",
        "    num_epochs=1,\n",
        "    compression_type=\"GZIP\")\n",
        "\n",
        "for batch, label in traffic_volume_csv_gz_ds.take(1):\n",
        "  for key, value in batch.items():\n",
        "    print(f\"{key:20s}: {value[:5]}\")\n",
        "  print()\n",
        "  print(f\"{'label':20s}: {label[:5]}\")"
      ],
      "execution_count": null,
      "outputs": [
        {
          "output_type": "stream",
          "text": [
            "holiday             : [b'None' b'None' b'None' b'None' b'None']\n",
            "temp                : [293.67 287.5  290.04 274.26 288.73]\n",
            "rain_1h             : [0. 0. 0. 0. 0.]\n",
            "snow_1h             : [0. 0. 0. 0. 0.]\n",
            "clouds_all          : [40  1  1 90  0]\n",
            "weather_main        : [b'Clouds' b'Clear' b'Clear' b'Clouds' b'Clear']\n",
            "weather_description : [b'scattered clouds' b'sky is clear' b'sky is clear' b'overcast clouds'\n",
            " b'Sky is Clear']\n",
            "date_time           : [b'2013-05-20 03:00:00' b'2013-10-09 07:00:00' b'2013-05-15 01:00:00'\n",
            " b'2012-11-05 09:00:00' b'2013-08-19 05:00:00']\n",
            "\n",
            "label               : [ 325 6616  389 4999 2851]\n"
          ],
          "name": "stdout"
        }
      ]
    },
    {
      "cell_type": "code",
      "metadata": {
        "colab": {
          "base_uri": "https://localhost:8080/"
        },
        "id": "Z_YQGh1IImfS",
        "outputId": "61714360-b1a0-4eb7-b134-37dade6fda79"
      },
      "source": [
        "traffic_volume_csv_gz_ds"
      ],
      "execution_count": null,
      "outputs": [
        {
          "output_type": "execute_result",
          "data": {
            "text/plain": [
              "<PrefetchDataset shapes: (OrderedDict([(holiday, (None,)), (temp, (None,)), (rain_1h, (None,)), (snow_1h, (None,)), (clouds_all, (None,)), (weather_main, (None,)), (weather_description, (None,)), (date_time, (None,))]), (None,)), types: (OrderedDict([(holiday, tf.string), (temp, tf.float32), (rain_1h, tf.float32), (snow_1h, tf.float32), (clouds_all, tf.int32), (weather_main, tf.string), (weather_description, tf.string), (date_time, tf.string)]), tf.int32)>"
            ]
          },
          "metadata": {
            "tags": []
          },
          "execution_count": 14
        }
      ]
    },
    {
      "cell_type": "markdown",
      "metadata": {
        "id": "VRq_A4IfEyOX"
      },
      "source": [
        "#透過快取(Caching)或快照(Snapshot)處理數據"
      ]
    },
    {
      "cell_type": "code",
      "metadata": {
        "colab": {
          "base_uri": "https://localhost:8080/"
        },
        "id": "gdavFwysE01d",
        "outputId": "b9252c7d-e487-41d8-e924-eecc02bdaa3b"
      },
      "source": [
        "%%time\n",
        "for i, (batch, label) in enumerate(traffic_volume_csv_gz_ds.repeat(20)):\n",
        "  if i % 40 == 0:\n",
        "    print('.', end='')\n",
        "print()"
      ],
      "execution_count": null,
      "outputs": [
        {
          "output_type": "stream",
          "text": [
            "...............................................................................................\n",
            "CPU times: user 15.9 s, sys: 3.43 s, total: 19.4 s\n",
            "Wall time: 13.1 s\n"
          ],
          "name": "stdout"
        }
      ]
    },
    {
      "cell_type": "code",
      "metadata": {
        "colab": {
          "base_uri": "https://localhost:8080/"
        },
        "id": "5kdB5sXTE22j",
        "outputId": "b037480b-573c-4d1e-dcf3-cd7cf5117d66"
      },
      "source": [
        "#快取(Caching)將數據在第一次epoch就做快取\n",
        "%%time\n",
        "caching = traffic_volume_csv_gz_ds.cache().shuffle(1000)\n",
        "\n",
        "for i, (batch, label) in enumerate(caching.shuffle(1000).repeat(20)):\n",
        "  if i % 40 == 0:\n",
        "    print('.', end='')\n",
        "print()"
      ],
      "execution_count": null,
      "outputs": [
        {
          "output_type": "stream",
          "text": [
            "...............................................................................................\n",
            "CPU times: user 1.68 s, sys: 200 ms, total: 1.88 s\n",
            "Wall time: 1.56 s\n"
          ],
          "name": "stdout"
        }
      ]
    },
    {
      "cell_type": "code",
      "metadata": {
        "colab": {
          "base_uri": "https://localhost:8080/"
        },
        "id": "pwe1F_3qFLKp",
        "outputId": "1dec92e5-3193-4a0b-cabf-0956ff833c16"
      },
      "source": [
        "#快照(Snapshot)將數據臨時儲存\n",
        "%%tim\n",
        "snapshot = tf.data.experimental.snapshot('titanic.tfsnap')\n",
        "snapshotting = traffic_volume_csv_gz_ds.apply(snapshot).shuffle(1000)\n",
        "\n",
        "for i, (batch, label) in enumerate(snapshotting.shuffle(1000).repeat(20)):\n",
        "  if i % 40 == 0:\n",
        "    print('.', end='')\n",
        "print()"
      ],
      "execution_count": null,
      "outputs": [
        {
          "output_type": "stream",
          "text": [
            "...............................................................................................\n",
            "CPU times: user 2.26 s, sys: 203 ms, total: 2.46 s\n",
            "Wall time: 1.98 s\n"
          ],
          "name": "stdout"
        }
      ]
    },
    {
      "cell_type": "code",
      "metadata": {
        "id": "C19-BIKEFS_g"
      },
      "source": [
        ""
      ],
      "execution_count": null,
      "outputs": []
    }
  ]
}