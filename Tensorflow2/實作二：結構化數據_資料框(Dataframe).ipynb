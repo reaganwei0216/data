{
 "cells": [
  {
   "cell_type": "code",
   "execution_count": 1,
   "metadata": {
    "id": "0xO_2OJrtYMk"
   },
   "outputs": [],
   "source": [
    "import pandas as pd\n",
    "import numpy as np\n",
    "import tensorflow as tf"
   ]
  },
  {
   "cell_type": "code",
   "execution_count": 2,
   "metadata": {
    "colab": {
     "base_uri": "https://localhost:8080/"
    },
    "id": "OK1soXZhuWYE",
    "outputId": "2954ee31-6b9b-46fc-8f39-cd8fbf43eb93"
   },
   "outputs": [
    {
     "name": "stdout",
     "output_type": "stream",
     "text": [
      "Downloading data from https://raw.githubusercontent.com/jerrywu2013/Hiskio_data/master/iris.csv\n",
      "8192/3975 [=============================================================] - 0s 1us/step\n"
     ]
    }
   ],
   "source": [
    "csv_data = tf.keras.utils.get_file('iris.csv', 'https://raw.githubusercontent.com/jerrywu2013/Hiskio_data/master/iris.csv')"
   ]
  },
  {
   "cell_type": "code",
   "execution_count": 3,
   "metadata": {
    "id": "u97tpMi8zh_W"
   },
   "outputs": [],
   "source": [
    "df = pd.read_csv(csv_data)"
   ]
  },
  {
   "cell_type": "code",
   "execution_count": 4,
   "metadata": {
    "colab": {
     "base_uri": "https://localhost:8080/",
     "height": 203
    },
    "id": "Cg9SxS3xzl6F",
    "outputId": "3bdf1842-6fc1-4a92-9070-824050dadcb0"
   },
   "outputs": [
    {
     "data": {
      "text/html": [
       "<div>\n",
       "<style scoped>\n",
       "    .dataframe tbody tr th:only-of-type {\n",
       "        vertical-align: middle;\n",
       "    }\n",
       "\n",
       "    .dataframe tbody tr th {\n",
       "        vertical-align: top;\n",
       "    }\n",
       "\n",
       "    .dataframe thead th {\n",
       "        text-align: right;\n",
       "    }\n",
       "</style>\n",
       "<table border=\"1\" class=\"dataframe\">\n",
       "  <thead>\n",
       "    <tr style=\"text-align: right;\">\n",
       "      <th></th>\n",
       "      <th>sepal.length</th>\n",
       "      <th>sepal.width</th>\n",
       "      <th>petal.length</th>\n",
       "      <th>petal.width</th>\n",
       "      <th>variety</th>\n",
       "    </tr>\n",
       "  </thead>\n",
       "  <tbody>\n",
       "    <tr>\n",
       "      <th>0</th>\n",
       "      <td>5.1</td>\n",
       "      <td>3.5</td>\n",
       "      <td>1.4</td>\n",
       "      <td>0.2</td>\n",
       "      <td>Setosa</td>\n",
       "    </tr>\n",
       "    <tr>\n",
       "      <th>1</th>\n",
       "      <td>4.9</td>\n",
       "      <td>3.0</td>\n",
       "      <td>1.4</td>\n",
       "      <td>0.2</td>\n",
       "      <td>Setosa</td>\n",
       "    </tr>\n",
       "    <tr>\n",
       "      <th>2</th>\n",
       "      <td>4.7</td>\n",
       "      <td>3.2</td>\n",
       "      <td>1.3</td>\n",
       "      <td>0.2</td>\n",
       "      <td>Setosa</td>\n",
       "    </tr>\n",
       "    <tr>\n",
       "      <th>3</th>\n",
       "      <td>4.6</td>\n",
       "      <td>3.1</td>\n",
       "      <td>1.5</td>\n",
       "      <td>0.2</td>\n",
       "      <td>Setosa</td>\n",
       "    </tr>\n",
       "    <tr>\n",
       "      <th>4</th>\n",
       "      <td>5.0</td>\n",
       "      <td>3.6</td>\n",
       "      <td>1.4</td>\n",
       "      <td>0.2</td>\n",
       "      <td>Setosa</td>\n",
       "    </tr>\n",
       "  </tbody>\n",
       "</table>\n",
       "</div>"
      ],
      "text/plain": [
       "   sepal.length  sepal.width  petal.length  petal.width variety\n",
       "0           5.1          3.5           1.4          0.2  Setosa\n",
       "1           4.9          3.0           1.4          0.2  Setosa\n",
       "2           4.7          3.2           1.3          0.2  Setosa\n",
       "3           4.6          3.1           1.5          0.2  Setosa\n",
       "4           5.0          3.6           1.4          0.2  Setosa"
      ]
     },
     "execution_count": 4,
     "metadata": {},
     "output_type": "execute_result"
    }
   ],
   "source": [
    "df.head()"
   ]
  },
  {
   "cell_type": "code",
   "execution_count": 5,
   "metadata": {
    "colab": {
     "base_uri": "https://localhost:8080/"
    },
    "id": "UrHt49ICzona",
    "outputId": "688fcec4-153f-4a02-b0e4-de6af635888d"
   },
   "outputs": [
    {
     "data": {
      "text/plain": [
       "sepal.length    float64\n",
       "sepal.width     float64\n",
       "petal.length    float64\n",
       "petal.width     float64\n",
       "variety          object\n",
       "dtype: object"
      ]
     },
     "execution_count": 5,
     "metadata": {},
     "output_type": "execute_result"
    }
   ],
   "source": [
    "df.dtypes"
   ]
  },
  {
   "cell_type": "code",
   "execution_count": 6,
   "metadata": {
    "id": "pTY4f-_bzqmW"
   },
   "outputs": [],
   "source": [
    "#轉換目標欄位為離散值\n",
    "df['variety'] = pd.Categorical(df['variety'])"
   ]
  },
  {
   "cell_type": "code",
   "execution_count": 7,
   "metadata": {
    "colab": {
     "base_uri": "https://localhost:8080/"
    },
    "id": "69RaffNHz7Wl",
    "outputId": "2a88f535-e8b4-4bb2-eb6a-469b412b3a52"
   },
   "outputs": [
    {
     "data": {
      "text/plain": [
       "sepal.length     float64\n",
       "sepal.width      float64\n",
       "petal.length     float64\n",
       "petal.width      float64\n",
       "variety         category\n",
       "dtype: object"
      ]
     },
     "execution_count": 7,
     "metadata": {},
     "output_type": "execute_result"
    }
   ],
   "source": [
    "df.dtypes"
   ]
  },
  {
   "cell_type": "code",
   "execution_count": 9,
   "metadata": {
    "id": "pIVfnKZ50AqE"
   },
   "outputs": [],
   "source": [
    "df['variety'] = df.variety.cat.codes"
   ]
  },
  {
   "cell_type": "code",
   "execution_count": 10,
   "metadata": {
    "colab": {
     "base_uri": "https://localhost:8080/",
     "height": 203
    },
    "id": "1dK7nnoV0CfR",
    "outputId": "c0cbf566-3770-438a-9104-6470bc6c54ab"
   },
   "outputs": [
    {
     "data": {
      "text/html": [
       "<div>\n",
       "<style scoped>\n",
       "    .dataframe tbody tr th:only-of-type {\n",
       "        vertical-align: middle;\n",
       "    }\n",
       "\n",
       "    .dataframe tbody tr th {\n",
       "        vertical-align: top;\n",
       "    }\n",
       "\n",
       "    .dataframe thead th {\n",
       "        text-align: right;\n",
       "    }\n",
       "</style>\n",
       "<table border=\"1\" class=\"dataframe\">\n",
       "  <thead>\n",
       "    <tr style=\"text-align: right;\">\n",
       "      <th></th>\n",
       "      <th>sepal.length</th>\n",
       "      <th>sepal.width</th>\n",
       "      <th>petal.length</th>\n",
       "      <th>petal.width</th>\n",
       "      <th>variety</th>\n",
       "    </tr>\n",
       "  </thead>\n",
       "  <tbody>\n",
       "    <tr>\n",
       "      <th>0</th>\n",
       "      <td>5.1</td>\n",
       "      <td>3.5</td>\n",
       "      <td>1.4</td>\n",
       "      <td>0.2</td>\n",
       "      <td>0</td>\n",
       "    </tr>\n",
       "    <tr>\n",
       "      <th>1</th>\n",
       "      <td>4.9</td>\n",
       "      <td>3.0</td>\n",
       "      <td>1.4</td>\n",
       "      <td>0.2</td>\n",
       "      <td>0</td>\n",
       "    </tr>\n",
       "    <tr>\n",
       "      <th>2</th>\n",
       "      <td>4.7</td>\n",
       "      <td>3.2</td>\n",
       "      <td>1.3</td>\n",
       "      <td>0.2</td>\n",
       "      <td>0</td>\n",
       "    </tr>\n",
       "    <tr>\n",
       "      <th>3</th>\n",
       "      <td>4.6</td>\n",
       "      <td>3.1</td>\n",
       "      <td>1.5</td>\n",
       "      <td>0.2</td>\n",
       "      <td>0</td>\n",
       "    </tr>\n",
       "    <tr>\n",
       "      <th>4</th>\n",
       "      <td>5.0</td>\n",
       "      <td>3.6</td>\n",
       "      <td>1.4</td>\n",
       "      <td>0.2</td>\n",
       "      <td>0</td>\n",
       "    </tr>\n",
       "  </tbody>\n",
       "</table>\n",
       "</div>"
      ],
      "text/plain": [
       "   sepal.length  sepal.width  petal.length  petal.width  variety\n",
       "0           5.1          3.5           1.4          0.2        0\n",
       "1           4.9          3.0           1.4          0.2        0\n",
       "2           4.7          3.2           1.3          0.2        0\n",
       "3           4.6          3.1           1.5          0.2        0\n",
       "4           5.0          3.6           1.4          0.2        0"
      ]
     },
     "execution_count": 10,
     "metadata": {},
     "output_type": "execute_result"
    }
   ],
   "source": [
    "df.head()"
   ]
  },
  {
   "cell_type": "code",
   "execution_count": 11,
   "metadata": {
    "id": "qJt4SSNr0IT6"
   },
   "outputs": [],
   "source": [
    "#透過tf.data.Dataset做資料切割與轉換"
   ]
  },
  {
   "cell_type": "code",
   "execution_count": 12,
   "metadata": {
    "id": "kST-Ec-O0WU4"
   },
   "outputs": [],
   "source": [
    "target = df.pop('variety')"
   ]
  },
  {
   "cell_type": "code",
   "execution_count": 13,
   "metadata": {},
   "outputs": [
    {
     "data": {
      "text/plain": [
       "array([[5.1, 3.5, 1.4, 0.2],\n",
       "       [4.9, 3. , 1.4, 0.2],\n",
       "       [4.7, 3.2, 1.3, 0.2],\n",
       "       [4.6, 3.1, 1.5, 0.2],\n",
       "       [5. , 3.6, 1.4, 0.2],\n",
       "       [5.4, 3.9, 1.7, 0.4],\n",
       "       [4.6, 3.4, 1.4, 0.3],\n",
       "       [5. , 3.4, 1.5, 0.2],\n",
       "       [4.4, 2.9, 1.4, 0.2],\n",
       "       [4.9, 3.1, 1.5, 0.1],\n",
       "       [5.4, 3.7, 1.5, 0.2],\n",
       "       [4.8, 3.4, 1.6, 0.2],\n",
       "       [4.8, 3. , 1.4, 0.1],\n",
       "       [4.3, 3. , 1.1, 0.1],\n",
       "       [5.8, 4. , 1.2, 0.2],\n",
       "       [5.7, 4.4, 1.5, 0.4],\n",
       "       [5.4, 3.9, 1.3, 0.4],\n",
       "       [5.1, 3.5, 1.4, 0.3],\n",
       "       [5.7, 3.8, 1.7, 0.3],\n",
       "       [5.1, 3.8, 1.5, 0.3],\n",
       "       [5.4, 3.4, 1.7, 0.2],\n",
       "       [5.1, 3.7, 1.5, 0.4],\n",
       "       [4.6, 3.6, 1. , 0.2],\n",
       "       [5.1, 3.3, 1.7, 0.5],\n",
       "       [4.8, 3.4, 1.9, 0.2],\n",
       "       [5. , 3. , 1.6, 0.2],\n",
       "       [5. , 3.4, 1.6, 0.4],\n",
       "       [5.2, 3.5, 1.5, 0.2],\n",
       "       [5.2, 3.4, 1.4, 0.2],\n",
       "       [4.7, 3.2, 1.6, 0.2],\n",
       "       [4.8, 3.1, 1.6, 0.2],\n",
       "       [5.4, 3.4, 1.5, 0.4],\n",
       "       [5.2, 4.1, 1.5, 0.1],\n",
       "       [5.5, 4.2, 1.4, 0.2],\n",
       "       [4.9, 3.1, 1.5, 0.2],\n",
       "       [5. , 3.2, 1.2, 0.2],\n",
       "       [5.5, 3.5, 1.3, 0.2],\n",
       "       [4.9, 3.6, 1.4, 0.1],\n",
       "       [4.4, 3. , 1.3, 0.2],\n",
       "       [5.1, 3.4, 1.5, 0.2],\n",
       "       [5. , 3.5, 1.3, 0.3],\n",
       "       [4.5, 2.3, 1.3, 0.3],\n",
       "       [4.4, 3.2, 1.3, 0.2],\n",
       "       [5. , 3.5, 1.6, 0.6],\n",
       "       [5.1, 3.8, 1.9, 0.4],\n",
       "       [4.8, 3. , 1.4, 0.3],\n",
       "       [5.1, 3.8, 1.6, 0.2],\n",
       "       [4.6, 3.2, 1.4, 0.2],\n",
       "       [5.3, 3.7, 1.5, 0.2],\n",
       "       [5. , 3.3, 1.4, 0.2],\n",
       "       [7. , 3.2, 4.7, 1.4],\n",
       "       [6.4, 3.2, 4.5, 1.5],\n",
       "       [6.9, 3.1, 4.9, 1.5],\n",
       "       [5.5, 2.3, 4. , 1.3],\n",
       "       [6.5, 2.8, 4.6, 1.5],\n",
       "       [5.7, 2.8, 4.5, 1.3],\n",
       "       [6.3, 3.3, 4.7, 1.6],\n",
       "       [4.9, 2.4, 3.3, 1. ],\n",
       "       [6.6, 2.9, 4.6, 1.3],\n",
       "       [5.2, 2.7, 3.9, 1.4],\n",
       "       [5. , 2. , 3.5, 1. ],\n",
       "       [5.9, 3. , 4.2, 1.5],\n",
       "       [6. , 2.2, 4. , 1. ],\n",
       "       [6.1, 2.9, 4.7, 1.4],\n",
       "       [5.6, 2.9, 3.6, 1.3],\n",
       "       [6.7, 3.1, 4.4, 1.4],\n",
       "       [5.6, 3. , 4.5, 1.5],\n",
       "       [5.8, 2.7, 4.1, 1. ],\n",
       "       [6.2, 2.2, 4.5, 1.5],\n",
       "       [5.6, 2.5, 3.9, 1.1],\n",
       "       [5.9, 3.2, 4.8, 1.8],\n",
       "       [6.1, 2.8, 4. , 1.3],\n",
       "       [6.3, 2.5, 4.9, 1.5],\n",
       "       [6.1, 2.8, 4.7, 1.2],\n",
       "       [6.4, 2.9, 4.3, 1.3],\n",
       "       [6.6, 3. , 4.4, 1.4],\n",
       "       [6.8, 2.8, 4.8, 1.4],\n",
       "       [6.7, 3. , 5. , 1.7],\n",
       "       [6. , 2.9, 4.5, 1.5],\n",
       "       [5.7, 2.6, 3.5, 1. ],\n",
       "       [5.5, 2.4, 3.8, 1.1],\n",
       "       [5.5, 2.4, 3.7, 1. ],\n",
       "       [5.8, 2.7, 3.9, 1.2],\n",
       "       [6. , 2.7, 5.1, 1.6],\n",
       "       [5.4, 3. , 4.5, 1.5],\n",
       "       [6. , 3.4, 4.5, 1.6],\n",
       "       [6.7, 3.1, 4.7, 1.5],\n",
       "       [6.3, 2.3, 4.4, 1.3],\n",
       "       [5.6, 3. , 4.1, 1.3],\n",
       "       [5.5, 2.5, 4. , 1.3],\n",
       "       [5.5, 2.6, 4.4, 1.2],\n",
       "       [6.1, 3. , 4.6, 1.4],\n",
       "       [5.8, 2.6, 4. , 1.2],\n",
       "       [5. , 2.3, 3.3, 1. ],\n",
       "       [5.6, 2.7, 4.2, 1.3],\n",
       "       [5.7, 3. , 4.2, 1.2],\n",
       "       [5.7, 2.9, 4.2, 1.3],\n",
       "       [6.2, 2.9, 4.3, 1.3],\n",
       "       [5.1, 2.5, 3. , 1.1],\n",
       "       [5.7, 2.8, 4.1, 1.3],\n",
       "       [6.3, 3.3, 6. , 2.5],\n",
       "       [5.8, 2.7, 5.1, 1.9],\n",
       "       [7.1, 3. , 5.9, 2.1],\n",
       "       [6.3, 2.9, 5.6, 1.8],\n",
       "       [6.5, 3. , 5.8, 2.2],\n",
       "       [7.6, 3. , 6.6, 2.1],\n",
       "       [4.9, 2.5, 4.5, 1.7],\n",
       "       [7.3, 2.9, 6.3, 1.8],\n",
       "       [6.7, 2.5, 5.8, 1.8],\n",
       "       [7.2, 3.6, 6.1, 2.5],\n",
       "       [6.5, 3.2, 5.1, 2. ],\n",
       "       [6.4, 2.7, 5.3, 1.9],\n",
       "       [6.8, 3. , 5.5, 2.1],\n",
       "       [5.7, 2.5, 5. , 2. ],\n",
       "       [5.8, 2.8, 5.1, 2.4],\n",
       "       [6.4, 3.2, 5.3, 2.3],\n",
       "       [6.5, 3. , 5.5, 1.8],\n",
       "       [7.7, 3.8, 6.7, 2.2],\n",
       "       [7.7, 2.6, 6.9, 2.3],\n",
       "       [6. , 2.2, 5. , 1.5],\n",
       "       [6.9, 3.2, 5.7, 2.3],\n",
       "       [5.6, 2.8, 4.9, 2. ],\n",
       "       [7.7, 2.8, 6.7, 2. ],\n",
       "       [6.3, 2.7, 4.9, 1.8],\n",
       "       [6.7, 3.3, 5.7, 2.1],\n",
       "       [7.2, 3.2, 6. , 1.8],\n",
       "       [6.2, 2.8, 4.8, 1.8],\n",
       "       [6.1, 3. , 4.9, 1.8],\n",
       "       [6.4, 2.8, 5.6, 2.1],\n",
       "       [7.2, 3. , 5.8, 1.6],\n",
       "       [7.4, 2.8, 6.1, 1.9],\n",
       "       [7.9, 3.8, 6.4, 2. ],\n",
       "       [6.4, 2.8, 5.6, 2.2],\n",
       "       [6.3, 2.8, 5.1, 1.5],\n",
       "       [6.1, 2.6, 5.6, 1.4],\n",
       "       [7.7, 3. , 6.1, 2.3],\n",
       "       [6.3, 3.4, 5.6, 2.4],\n",
       "       [6.4, 3.1, 5.5, 1.8],\n",
       "       [6. , 3. , 4.8, 1.8],\n",
       "       [6.9, 3.1, 5.4, 2.1],\n",
       "       [6.7, 3.1, 5.6, 2.4],\n",
       "       [6.9, 3.1, 5.1, 2.3],\n",
       "       [5.8, 2.7, 5.1, 1.9],\n",
       "       [6.8, 3.2, 5.9, 2.3],\n",
       "       [6.7, 3.3, 5.7, 2.5],\n",
       "       [6.7, 3. , 5.2, 2.3],\n",
       "       [6.3, 2.5, 5. , 1.9],\n",
       "       [6.5, 3. , 5.2, 2. ],\n",
       "       [6.2, 3.4, 5.4, 2.3],\n",
       "       [5.9, 3. , 5.1, 1.8]])"
      ]
     },
     "execution_count": 13,
     "metadata": {},
     "output_type": "execute_result"
    }
   ],
   "source": [
    "df.values"
   ]
  },
  {
   "cell_type": "code",
   "execution_count": 14,
   "metadata": {},
   "outputs": [
    {
     "data": {
      "text/plain": [
       "array([0, 0, 0, 0, 0, 0, 0, 0, 0, 0, 0, 0, 0, 0, 0, 0, 0, 0, 0, 0, 0, 0,\n",
       "       0, 0, 0, 0, 0, 0, 0, 0, 0, 0, 0, 0, 0, 0, 0, 0, 0, 0, 0, 0, 0, 0,\n",
       "       0, 0, 0, 0, 0, 0, 1, 1, 1, 1, 1, 1, 1, 1, 1, 1, 1, 1, 1, 1, 1, 1,\n",
       "       1, 1, 1, 1, 1, 1, 1, 1, 1, 1, 1, 1, 1, 1, 1, 1, 1, 1, 1, 1, 1, 1,\n",
       "       1, 1, 1, 1, 1, 1, 1, 1, 1, 1, 1, 1, 2, 2, 2, 2, 2, 2, 2, 2, 2, 2,\n",
       "       2, 2, 2, 2, 2, 2, 2, 2, 2, 2, 2, 2, 2, 2, 2, 2, 2, 2, 2, 2, 2, 2,\n",
       "       2, 2, 2, 2, 2, 2, 2, 2, 2, 2, 2, 2, 2, 2, 2, 2, 2, 2], dtype=int8)"
      ]
     },
     "execution_count": 14,
     "metadata": {},
     "output_type": "execute_result"
    }
   ],
   "source": [
    "target.values"
   ]
  },
  {
   "cell_type": "code",
   "execution_count": 15,
   "metadata": {
    "id": "h7Cv58m30imN"
   },
   "outputs": [],
   "source": [
    "dataset = tf.data.Dataset.from_tensor_slices((df.values, target.values))"
   ]
  },
  {
   "cell_type": "code",
   "execution_count": 16,
   "metadata": {
    "colab": {
     "base_uri": "https://localhost:8080/"
    },
    "id": "oyBg_NlK1D-7",
    "outputId": "3ffbc528-717d-48b9-fb69-8ec4f19cc13a"
   },
   "outputs": [
    {
     "data": {
      "text/plain": [
       "<TensorSliceDataset shapes: ((4,), ()), types: (tf.float64, tf.int8)>"
      ]
     },
     "execution_count": 16,
     "metadata": {},
     "output_type": "execute_result"
    }
   ],
   "source": [
    "#透過tf.data.Dataset可以轉換標準的Tensor資料管道方便之後運算\n",
    "dataset"
   ]
  },
  {
   "cell_type": "code",
   "execution_count": 18,
   "metadata": {
    "colab": {
     "base_uri": "https://localhost:8080/"
    },
    "id": "3Bt4S9Gr1l2G",
    "outputId": "4e50bf1b-f44d-45cb-8961-739065300292"
   },
   "outputs": [
    {
     "name": "stdout",
     "output_type": "stream",
     "text": [
      "(<tf.Tensor: id=58, shape=(4,), dtype=float64, numpy=array([5.1, 3.5, 1.4, 0.2])>, <tf.Tensor: id=59, shape=(), dtype=int8, numpy=0>)\n",
      "\n",
      "(<tf.Tensor: id=60, shape=(4,), dtype=float64, numpy=array([4.9, 3. , 1.4, 0.2])>, <tf.Tensor: id=61, shape=(), dtype=int8, numpy=0>)\n",
      "\n",
      "(<tf.Tensor: id=62, shape=(4,), dtype=float64, numpy=array([4.7, 3.2, 1.3, 0.2])>, <tf.Tensor: id=63, shape=(), dtype=int8, numpy=0>)\n",
      "\n",
      "(<tf.Tensor: id=64, shape=(4,), dtype=float64, numpy=array([4.6, 3.1, 1.5, 0.2])>, <tf.Tensor: id=65, shape=(), dtype=int8, numpy=0>)\n",
      "\n",
      "(<tf.Tensor: id=66, shape=(4,), dtype=float64, numpy=array([5. , 3.6, 1.4, 0.2])>, <tf.Tensor: id=67, shape=(), dtype=int8, numpy=0>)\n",
      "\n",
      "(<tf.Tensor: id=68, shape=(4,), dtype=float64, numpy=array([5.4, 3.9, 1.7, 0.4])>, <tf.Tensor: id=69, shape=(), dtype=int8, numpy=0>)\n",
      "\n",
      "(<tf.Tensor: id=70, shape=(4,), dtype=float64, numpy=array([4.6, 3.4, 1.4, 0.3])>, <tf.Tensor: id=71, shape=(), dtype=int8, numpy=0>)\n",
      "\n",
      "(<tf.Tensor: id=72, shape=(4,), dtype=float64, numpy=array([5. , 3.4, 1.5, 0.2])>, <tf.Tensor: id=73, shape=(), dtype=int8, numpy=0>)\n",
      "\n",
      "(<tf.Tensor: id=74, shape=(4,), dtype=float64, numpy=array([4.4, 2.9, 1.4, 0.2])>, <tf.Tensor: id=75, shape=(), dtype=int8, numpy=0>)\n",
      "\n",
      "(<tf.Tensor: id=76, shape=(4,), dtype=float64, numpy=array([4.9, 3.1, 1.5, 0.1])>, <tf.Tensor: id=77, shape=(), dtype=int8, numpy=0>)\n",
      "\n",
      "(<tf.Tensor: id=78, shape=(4,), dtype=float64, numpy=array([5.4, 3.7, 1.5, 0.2])>, <tf.Tensor: id=79, shape=(), dtype=int8, numpy=0>)\n",
      "\n",
      "(<tf.Tensor: id=80, shape=(4,), dtype=float64, numpy=array([4.8, 3.4, 1.6, 0.2])>, <tf.Tensor: id=81, shape=(), dtype=int8, numpy=0>)\n",
      "\n",
      "(<tf.Tensor: id=82, shape=(4,), dtype=float64, numpy=array([4.8, 3. , 1.4, 0.1])>, <tf.Tensor: id=83, shape=(), dtype=int8, numpy=0>)\n",
      "\n",
      "(<tf.Tensor: id=84, shape=(4,), dtype=float64, numpy=array([4.3, 3. , 1.1, 0.1])>, <tf.Tensor: id=85, shape=(), dtype=int8, numpy=0>)\n",
      "\n",
      "(<tf.Tensor: id=86, shape=(4,), dtype=float64, numpy=array([5.8, 4. , 1.2, 0.2])>, <tf.Tensor: id=87, shape=(), dtype=int8, numpy=0>)\n",
      "\n",
      "(<tf.Tensor: id=88, shape=(4,), dtype=float64, numpy=array([5.7, 4.4, 1.5, 0.4])>, <tf.Tensor: id=89, shape=(), dtype=int8, numpy=0>)\n",
      "\n",
      "(<tf.Tensor: id=90, shape=(4,), dtype=float64, numpy=array([5.4, 3.9, 1.3, 0.4])>, <tf.Tensor: id=91, shape=(), dtype=int8, numpy=0>)\n",
      "\n",
      "(<tf.Tensor: id=92, shape=(4,), dtype=float64, numpy=array([5.1, 3.5, 1.4, 0.3])>, <tf.Tensor: id=93, shape=(), dtype=int8, numpy=0>)\n",
      "\n",
      "(<tf.Tensor: id=94, shape=(4,), dtype=float64, numpy=array([5.7, 3.8, 1.7, 0.3])>, <tf.Tensor: id=95, shape=(), dtype=int8, numpy=0>)\n",
      "\n",
      "(<tf.Tensor: id=96, shape=(4,), dtype=float64, numpy=array([5.1, 3.8, 1.5, 0.3])>, <tf.Tensor: id=97, shape=(), dtype=int8, numpy=0>)\n",
      "\n"
     ]
    }
   ],
   "source": [
    "#觀察資料\n",
    "for i in dataset.take(20):\n",
    "  print (i)\n",
    "  print()"
   ]
  },
  {
   "cell_type": "code",
   "execution_count": 19,
   "metadata": {
    "id": "M2WCbIRs0ntd"
   },
   "outputs": [],
   "source": [
    "#將資料根據資料列數進行shuffle\n",
    "all_train_dataset = dataset.shuffle(len(df)).batch(1)"
   ]
  },
  {
   "cell_type": "code",
   "execution_count": 20,
   "metadata": {
    "colab": {
     "base_uri": "https://localhost:8080/"
    },
    "id": "13J-Bt-W33zH",
    "outputId": "67b1d853-6641-4d44-eafa-a664369b7577"
   },
   "outputs": [
    {
     "name": "stdout",
     "output_type": "stream",
     "text": [
      "(<tf.Tensor: id=114, shape=(1, 4), dtype=float64, numpy=array([[6. , 3. , 4.8, 1.8]])>, <tf.Tensor: id=115, shape=(1,), dtype=int8, numpy=array([2], dtype=int8)>)\n",
      "\n",
      "(<tf.Tensor: id=116, shape=(1, 4), dtype=float64, numpy=array([[6.7, 3.3, 5.7, 2.5]])>, <tf.Tensor: id=117, shape=(1,), dtype=int8, numpy=array([2], dtype=int8)>)\n",
      "\n",
      "(<tf.Tensor: id=118, shape=(1, 4), dtype=float64, numpy=array([[5.7, 2.5, 5. , 2. ]])>, <tf.Tensor: id=119, shape=(1,), dtype=int8, numpy=array([2], dtype=int8)>)\n",
      "\n",
      "(<tf.Tensor: id=120, shape=(1, 4), dtype=float64, numpy=array([[4.8, 3. , 1.4, 0.3]])>, <tf.Tensor: id=121, shape=(1,), dtype=int8, numpy=array([0], dtype=int8)>)\n",
      "\n",
      "(<tf.Tensor: id=122, shape=(1, 4), dtype=float64, numpy=array([[5.7, 2.9, 4.2, 1.3]])>, <tf.Tensor: id=123, shape=(1,), dtype=int8, numpy=array([1], dtype=int8)>)\n",
      "\n",
      "(<tf.Tensor: id=124, shape=(1, 4), dtype=float64, numpy=array([[5.8, 2.7, 5.1, 1.9]])>, <tf.Tensor: id=125, shape=(1,), dtype=int8, numpy=array([2], dtype=int8)>)\n",
      "\n",
      "(<tf.Tensor: id=126, shape=(1, 4), dtype=float64, numpy=array([[6.7, 3. , 5. , 1.7]])>, <tf.Tensor: id=127, shape=(1,), dtype=int8, numpy=array([1], dtype=int8)>)\n",
      "\n",
      "(<tf.Tensor: id=128, shape=(1, 4), dtype=float64, numpy=array([[5.2, 2.7, 3.9, 1.4]])>, <tf.Tensor: id=129, shape=(1,), dtype=int8, numpy=array([1], dtype=int8)>)\n",
      "\n",
      "(<tf.Tensor: id=130, shape=(1, 4), dtype=float64, numpy=array([[5.6, 2.5, 3.9, 1.1]])>, <tf.Tensor: id=131, shape=(1,), dtype=int8, numpy=array([1], dtype=int8)>)\n",
      "\n",
      "(<tf.Tensor: id=132, shape=(1, 4), dtype=float64, numpy=array([[6.4, 2.7, 5.3, 1.9]])>, <tf.Tensor: id=133, shape=(1,), dtype=int8, numpy=array([2], dtype=int8)>)\n",
      "\n",
      "(<tf.Tensor: id=134, shape=(1, 4), dtype=float64, numpy=array([[4.9, 3.1, 1.5, 0.2]])>, <tf.Tensor: id=135, shape=(1,), dtype=int8, numpy=array([0], dtype=int8)>)\n",
      "\n",
      "(<tf.Tensor: id=136, shape=(1, 4), dtype=float64, numpy=array([[5. , 3.2, 1.2, 0.2]])>, <tf.Tensor: id=137, shape=(1,), dtype=int8, numpy=array([0], dtype=int8)>)\n",
      "\n",
      "(<tf.Tensor: id=138, shape=(1, 4), dtype=float64, numpy=array([[5. , 3.4, 1.6, 0.4]])>, <tf.Tensor: id=139, shape=(1,), dtype=int8, numpy=array([0], dtype=int8)>)\n",
      "\n",
      "(<tf.Tensor: id=140, shape=(1, 4), dtype=float64, numpy=array([[5. , 3.6, 1.4, 0.2]])>, <tf.Tensor: id=141, shape=(1,), dtype=int8, numpy=array([0], dtype=int8)>)\n",
      "\n",
      "(<tf.Tensor: id=142, shape=(1, 4), dtype=float64, numpy=array([[7.1, 3. , 5.9, 2.1]])>, <tf.Tensor: id=143, shape=(1,), dtype=int8, numpy=array([2], dtype=int8)>)\n",
      "\n",
      "(<tf.Tensor: id=144, shape=(1, 4), dtype=float64, numpy=array([[6.7, 3.1, 4.4, 1.4]])>, <tf.Tensor: id=145, shape=(1,), dtype=int8, numpy=array([1], dtype=int8)>)\n",
      "\n",
      "(<tf.Tensor: id=146, shape=(1, 4), dtype=float64, numpy=array([[6.2, 3.4, 5.4, 2.3]])>, <tf.Tensor: id=147, shape=(1,), dtype=int8, numpy=array([2], dtype=int8)>)\n",
      "\n",
      "(<tf.Tensor: id=148, shape=(1, 4), dtype=float64, numpy=array([[5.1, 2.5, 3. , 1.1]])>, <tf.Tensor: id=149, shape=(1,), dtype=int8, numpy=array([1], dtype=int8)>)\n",
      "\n",
      "(<tf.Tensor: id=150, shape=(1, 4), dtype=float64, numpy=array([[6.1, 2.9, 4.7, 1.4]])>, <tf.Tensor: id=151, shape=(1,), dtype=int8, numpy=array([1], dtype=int8)>)\n",
      "\n",
      "(<tf.Tensor: id=152, shape=(1, 4), dtype=float64, numpy=array([[5.1, 3.8, 1.6, 0.2]])>, <tf.Tensor: id=153, shape=(1,), dtype=int8, numpy=array([0], dtype=int8)>)\n",
      "\n"
     ]
    }
   ],
   "source": [
    "#觀察資料\n",
    "for i in all_train_dataset.take(20):\n",
    "  print (i)\n",
    "  print()  "
   ]
  },
  {
   "cell_type": "code",
   "execution_count": null,
   "metadata": {
    "id": "m7G7_A3R83H_"
   },
   "outputs": [],
   "source": [
    "train_dataset = all_train_dataset.take(int(0.7 * len(df)))\n",
    "test_dataset = all_train_dataset.skip(int(0.7 * len(df)))"
   ]
  },
  {
   "cell_type": "code",
   "execution_count": null,
   "metadata": {
    "colab": {
     "base_uri": "https://localhost:8080/"
    },
    "id": "ODjO5geV-w_-",
    "outputId": "b4877af0-857c-44b3-d11a-d381d02438cb"
   },
   "outputs": [
    {
     "name": "stdout",
     "output_type": "stream",
     "text": [
      "(<tf.Tensor: shape=(1, 4), dtype=float64, numpy=array([[5.8, 2.7, 3.9, 1.2]])>, <tf.Tensor: shape=(1,), dtype=int8, numpy=array([1], dtype=int8)>)\n",
      "(<tf.Tensor: shape=(1, 4), dtype=float64, numpy=array([[5.9, 3. , 5.1, 1.8]])>, <tf.Tensor: shape=(1,), dtype=int8, numpy=array([2], dtype=int8)>)\n",
      "(<tf.Tensor: shape=(1, 4), dtype=float64, numpy=array([[5.4, 3.7, 1.5, 0.2]])>, <tf.Tensor: shape=(1,), dtype=int8, numpy=array([0], dtype=int8)>)\n",
      "(<tf.Tensor: shape=(1, 4), dtype=float64, numpy=array([[5.7, 2.6, 3.5, 1. ]])>, <tf.Tensor: shape=(1,), dtype=int8, numpy=array([1], dtype=int8)>)\n",
      "(<tf.Tensor: shape=(1, 4), dtype=float64, numpy=array([[5.7, 4.4, 1.5, 0.4]])>, <tf.Tensor: shape=(1,), dtype=int8, numpy=array([0], dtype=int8)>)\n",
      "(<tf.Tensor: shape=(1, 4), dtype=float64, numpy=array([[6.7, 3.3, 5.7, 2.1]])>, <tf.Tensor: shape=(1,), dtype=int8, numpy=array([2], dtype=int8)>)\n",
      "(<tf.Tensor: shape=(1, 4), dtype=float64, numpy=array([[6.5, 3. , 5.5, 1.8]])>, <tf.Tensor: shape=(1,), dtype=int8, numpy=array([2], dtype=int8)>)\n",
      "(<tf.Tensor: shape=(1, 4), dtype=float64, numpy=array([[6.6, 2.9, 4.6, 1.3]])>, <tf.Tensor: shape=(1,), dtype=int8, numpy=array([1], dtype=int8)>)\n",
      "(<tf.Tensor: shape=(1, 4), dtype=float64, numpy=array([[5.1, 3.7, 1.5, 0.4]])>, <tf.Tensor: shape=(1,), dtype=int8, numpy=array([0], dtype=int8)>)\n",
      "(<tf.Tensor: shape=(1, 4), dtype=float64, numpy=array([[5.6, 2.5, 3.9, 1.1]])>, <tf.Tensor: shape=(1,), dtype=int8, numpy=array([1], dtype=int8)>)\n",
      "(<tf.Tensor: shape=(1, 4), dtype=float64, numpy=array([[4.4, 3.2, 1.3, 0.2]])>, <tf.Tensor: shape=(1,), dtype=int8, numpy=array([0], dtype=int8)>)\n",
      "(<tf.Tensor: shape=(1, 4), dtype=float64, numpy=array([[5.7, 2.8, 4.5, 1.3]])>, <tf.Tensor: shape=(1,), dtype=int8, numpy=array([1], dtype=int8)>)\n",
      "(<tf.Tensor: shape=(1, 4), dtype=float64, numpy=array([[5.5, 2.4, 3.8, 1.1]])>, <tf.Tensor: shape=(1,), dtype=int8, numpy=array([1], dtype=int8)>)\n",
      "(<tf.Tensor: shape=(1, 4), dtype=float64, numpy=array([[5.5, 2.6, 4.4, 1.2]])>, <tf.Tensor: shape=(1,), dtype=int8, numpy=array([1], dtype=int8)>)\n",
      "(<tf.Tensor: shape=(1, 4), dtype=float64, numpy=array([[5. , 3.5, 1.6, 0.6]])>, <tf.Tensor: shape=(1,), dtype=int8, numpy=array([0], dtype=int8)>)\n",
      "(<tf.Tensor: shape=(1, 4), dtype=float64, numpy=array([[6.4, 3.2, 4.5, 1.5]])>, <tf.Tensor: shape=(1,), dtype=int8, numpy=array([1], dtype=int8)>)\n",
      "(<tf.Tensor: shape=(1, 4), dtype=float64, numpy=array([[5. , 3.6, 1.4, 0.2]])>, <tf.Tensor: shape=(1,), dtype=int8, numpy=array([0], dtype=int8)>)\n",
      "(<tf.Tensor: shape=(1, 4), dtype=float64, numpy=array([[7.7, 2.6, 6.9, 2.3]])>, <tf.Tensor: shape=(1,), dtype=int8, numpy=array([2], dtype=int8)>)\n",
      "(<tf.Tensor: shape=(1, 4), dtype=float64, numpy=array([[6.2, 2.2, 4.5, 1.5]])>, <tf.Tensor: shape=(1,), dtype=int8, numpy=array([1], dtype=int8)>)\n",
      "(<tf.Tensor: shape=(1, 4), dtype=float64, numpy=array([[4.6, 3.1, 1.5, 0.2]])>, <tf.Tensor: shape=(1,), dtype=int8, numpy=array([0], dtype=int8)>)\n"
     ]
    }
   ],
   "source": [
    "for i in test_dataset.take(20):\n",
    "  print (i)"
   ]
  },
  {
   "cell_type": "code",
   "execution_count": null,
   "metadata": {
    "id": "a8jnISeS1Rov"
   },
   "outputs": [],
   "source": [
    "model = tf.keras.models.Sequential([\n",
    "  tf.keras.layers.Flatten(),\n",
    "  tf.keras.layers.Dense(128, activation='relu'),\n",
    "  tf.keras.layers.Dropout(0.2),\n",
    "  tf.keras.layers.Dense(3)\n",
    "])"
   ]
  },
  {
   "cell_type": "code",
   "execution_count": null,
   "metadata": {
    "colab": {
     "base_uri": "https://localhost:8080/"
    },
    "id": "Xk4UN-Jv2iXx",
    "outputId": "a57b3d44-c79e-4bd0-94ef-e2358cb64cd7"
   },
   "outputs": [
    {
     "name": "stdout",
     "output_type": "stream",
     "text": [
      "Epoch 1/10\n",
      "105/105 [==============================] - 1s 919us/step - loss: 1.2478 - accuracy: 0.2873\n",
      "Epoch 2/10\n",
      "105/105 [==============================] - 0s 924us/step - loss: 0.8328 - accuracy: 0.6573\n",
      "Epoch 3/10\n",
      "105/105 [==============================] - 0s 1ms/step - loss: 0.6077 - accuracy: 0.7214\n",
      "Epoch 4/10\n",
      "105/105 [==============================] - 0s 1ms/step - loss: 0.5616 - accuracy: 0.6617\n",
      "Epoch 5/10\n",
      "105/105 [==============================] - 0s 1ms/step - loss: 0.4857 - accuracy: 0.8640\n",
      "Epoch 6/10\n",
      "105/105 [==============================] - 0s 1ms/step - loss: 0.4259 - accuracy: 0.8322\n",
      "Epoch 7/10\n",
      "105/105 [==============================] - 0s 1ms/step - loss: 0.3707 - accuracy: 0.7939\n",
      "Epoch 8/10\n",
      "105/105 [==============================] - 0s 1ms/step - loss: 0.3426 - accuracy: 0.8878\n",
      "Epoch 9/10\n",
      "105/105 [==============================] - 0s 1ms/step - loss: 0.3553 - accuracy: 0.9271\n",
      "Epoch 10/10\n",
      "105/105 [==============================] - 0s 1ms/step - loss: 0.2587 - accuracy: 0.9757\n"
     ]
    },
    {
     "data": {
      "text/plain": [
       "<tensorflow.python.keras.callbacks.History at 0x7fab36636e10>"
      ]
     },
     "execution_count": 20,
     "metadata": {
      "tags": []
     },
     "output_type": "execute_result"
    }
   ],
   "source": [
    "loss_fn = tf.keras.losses.SparseCategoricalCrossentropy(from_logits=True) \n",
    "model.compile(optimizer='adam',\n",
    "              loss=loss_fn,\n",
    "              metrics=['accuracy'])\n",
    "model.fit(train_dataset, epochs=10)"
   ]
  },
  {
   "cell_type": "code",
   "execution_count": null,
   "metadata": {
    "colab": {
     "base_uri": "https://localhost:8080/"
    },
    "id": "4GhJMcpr2pZ3",
    "outputId": "fe33038c-f731-49c5-a3d0-b38d13e7cce6"
   },
   "outputs": [
    {
     "name": "stdout",
     "output_type": "stream",
     "text": [
      "45/45 [==============================] - 0s 809us/step - loss: 0.2238 - accuracy: 0.9778\n"
     ]
    },
    {
     "data": {
      "text/plain": [
       "[0.22379349172115326, 0.9777777791023254]"
      ]
     },
     "execution_count": 21,
     "metadata": {
      "tags": []
     },
     "output_type": "execute_result"
    }
   ],
   "source": [
    "model.evaluate(test_dataset)"
   ]
  },
  {
   "cell_type": "code",
   "execution_count": null,
   "metadata": {
    "colab": {
     "base_uri": "https://localhost:8080/"
    },
    "id": "nDhttJnr_b9t",
    "outputId": "61d43c58-a693-483b-a885-40c5dd00ca0f"
   },
   "outputs": [
    {
     "name": "stdout",
     "output_type": "stream",
     "text": [
      "(<tf.Tensor: shape=(1, 4), dtype=float64, numpy=array([[5.4, 3.4, 1.5, 0.4]])>, <tf.Tensor: shape=(1,), dtype=int8, numpy=array([0], dtype=int8)>)\n"
     ]
    }
   ],
   "source": [
    "for i in test_dataset.take(1):\n",
    "  print (i)"
   ]
  },
  {
   "cell_type": "code",
   "execution_count": null,
   "metadata": {
    "colab": {
     "base_uri": "https://localhost:8080/"
    },
    "id": "-kvXXXqU951x",
    "outputId": "eaba2944-0772-4086-df6b-38fcb832ff2c"
   },
   "outputs": [
    {
     "data": {
      "text/plain": [
       "0"
      ]
     },
     "execution_count": 24,
     "metadata": {
      "tags": []
     },
     "output_type": "execute_result"
    }
   ],
   "source": [
    "pred = model.predict([[5.4, 3.4, 1.5, 0.4]])\n",
    "np.argmax(pred)"
   ]
  },
  {
   "cell_type": "code",
   "execution_count": null,
   "metadata": {
    "id": "Nl916Ktn7G3m"
   },
   "outputs": [],
   "source": []
  }
 ],
 "metadata": {
  "colab": {
   "collapsed_sections": [],
   "name": "02實作二：結構化數據-資料框(Dataframe).ipynb",
   "provenance": []
  },
  "kernelspec": {
   "display_name": "Python 3",
   "language": "python",
   "name": "python3"
  },
  "language_info": {
   "codemirror_mode": {
    "name": "ipython",
    "version": 3
   },
   "file_extension": ".py",
   "mimetype": "text/x-python",
   "name": "python",
   "nbconvert_exporter": "python",
   "pygments_lexer": "ipython3",
   "version": "3.7.5"
  }
 },
 "nbformat": 4,
 "nbformat_minor": 1
}
