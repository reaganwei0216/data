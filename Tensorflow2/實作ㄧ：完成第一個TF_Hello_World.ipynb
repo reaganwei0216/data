{
  "nbformat": 4,
  "nbformat_minor": 0,
  "metadata": {
    "colab": {
      "name": "01實作ㄧ：完成第一個TF Hello World.ipynb",
      "provenance": [],
      "collapsed_sections": []
    },
    "kernelspec": {
      "name": "python3",
      "display_name": "Python 3"
    }
  },
  "cells": [
    {
      "cell_type": "markdown",
      "metadata": {
        "id": "2RF_9Ha04lOG"
      },
      "source": [
        "##第一個TF Hello World（簡單版）"
      ]
    },
    {
      "cell_type": "code",
      "metadata": {
        "id": "9C_jU5Do3Adh"
      },
      "source": [
        "import tensorflow as tf\n",
        "import numpy as np\n",
        "from sklearn.datasets import load_iris\n",
        "from sklearn.model_selection import train_test_split\n",
        "data = load_iris()\n",
        "x_train, x_test, y_train, y_test = train_test_split(data.data, data.target, test_size=0.3, random_state=88)"
      ],
      "execution_count": null,
      "outputs": []
    },
    {
      "cell_type": "code",
      "metadata": {
        "id": "_opRwPzj3M1j"
      },
      "source": [
        "model = tf.keras.models.Sequential([\n",
        "  tf.keras.layers.Flatten(),\n",
        "  tf.keras.layers.Dense(128, activation='relu'),\n",
        "  tf.keras.layers.Dropout(0.2),\n",
        "  tf.keras.layers.Dense(3)\n",
        "])"
      ],
      "execution_count": null,
      "outputs": []
    },
    {
      "cell_type": "code",
      "metadata": {
        "id": "qOQ3CeMV3UHW"
      },
      "source": [
        "loss_fn = tf.keras.losses.SparseCategoricalCrossentropy(from_logits=True) \n",
        "model.compile(optimizer='adam',\n",
        "              loss=loss_fn,\n",
        "              metrics=['accuracy'])\n",
        "model.fit(x_train, y_train, epochs=100)"
      ],
      "execution_count": null,
      "outputs": []
    },
    {
      "cell_type": "code",
      "metadata": {
        "id": "BwKmG7uQ3hyz",
        "colab": {
          "base_uri": "https://localhost:8080/"
        },
        "outputId": "46c7c509-6823-4503-b30c-cf534f8f4478"
      },
      "source": [
        "model.evaluate(x_test,  y_test)"
      ],
      "execution_count": null,
      "outputs": [
        {
          "output_type": "stream",
          "text": [
            "2/2 [==============================] - 0s 3ms/step - loss: 0.2188 - accuracy: 0.9556\n"
          ],
          "name": "stdout"
        },
        {
          "output_type": "execute_result",
          "data": {
            "text/plain": [
              "[0.2188202142715454, 0.9555555582046509]"
            ]
          },
          "metadata": {
            "tags": []
          },
          "execution_count": 40
        }
      ]
    },
    {
      "cell_type": "code",
      "metadata": {
        "colab": {
          "base_uri": "https://localhost:8080/"
        },
        "id": "wztFqTSAZViW",
        "outputId": "11cc0cf4-0942-4751-a146-e1aec99711c3"
      },
      "source": [
        "x_test[0]"
      ],
      "execution_count": null,
      "outputs": [
        {
          "output_type": "execute_result",
          "data": {
            "text/plain": [
              "array([5.4, 3. , 4.5, 1.5])"
            ]
          },
          "metadata": {
            "tags": []
          },
          "execution_count": 36
        }
      ]
    },
    {
      "cell_type": "code",
      "metadata": {
        "colab": {
          "base_uri": "https://localhost:8080/"
        },
        "id": "LK0h9gk6WvVn",
        "outputId": "fbf0c5d9-545c-4224-ea7d-c89ccbe48040"
      },
      "source": [
        "y_test[0]"
      ],
      "execution_count": null,
      "outputs": [
        {
          "output_type": "execute_result",
          "data": {
            "text/plain": [
              "1"
            ]
          },
          "metadata": {
            "tags": []
          },
          "execution_count": 37
        }
      ]
    },
    {
      "cell_type": "code",
      "metadata": {
        "colab": {
          "base_uri": "https://localhost:8080/"
        },
        "id": "Ghs2FDQqVhMj",
        "outputId": "b3474991-f18f-4b71-e3aa-d20f9078ea79"
      },
      "source": [
        "pred = model.predict([[5.4, 3. , 4.5, 1.5]])\n",
        "np.argmax(pred)"
      ],
      "execution_count": null,
      "outputs": [
        {
          "output_type": "execute_result",
          "data": {
            "text/plain": [
              "1"
            ]
          },
          "metadata": {
            "tags": []
          },
          "execution_count": 39
        }
      ]
    },
    {
      "cell_type": "markdown",
      "metadata": {
        "id": "0bKN0kzg4r8a"
      },
      "source": [
        "## 第一個TF Hello World(專家版)"
      ]
    },
    {
      "cell_type": "code",
      "metadata": {
        "id": "Oktmq-fYeNJV"
      },
      "source": [
        "import tensorflow as tf\n",
        "from tensorflow.keras import Model\n",
        "from tensorflow.keras.layers import Dense, Flatten"
      ],
      "execution_count": null,
      "outputs": []
    },
    {
      "cell_type": "code",
      "metadata": {
        "id": "wMUO8pgcyjkG"
      },
      "source": [
        "from sklearn.datasets import load_iris\n",
        "from sklearn.model_selection import train_test_split\n",
        "data = load_iris()\n",
        "x_train, x_test, y_train, y_test = train_test_split(data.data, data.target, test_size=0.3, random_state=88)"
      ],
      "execution_count": null,
      "outputs": []
    },
    {
      "cell_type": "code",
      "metadata": {
        "id": "oxxCGaoAzqlx"
      },
      "source": [
        "train_ds = tf.data.Dataset.from_tensor_slices((x_train, y_train)).batch(32)\n",
        "test_ds = tf.data.Dataset.from_tensor_slices((x_test, y_test)).batch(32)"
      ],
      "execution_count": null,
      "outputs": []
    },
    {
      "cell_type": "code",
      "metadata": {
        "id": "mlfDLSW00oPT"
      },
      "source": [
        "for iris_data, iris_labels in train_ds:\n",
        "  print(iris_data, iris_labels)"
      ],
      "execution_count": null,
      "outputs": []
    },
    {
      "cell_type": "code",
      "metadata": {
        "id": "LgQz7U-vzgzM"
      },
      "source": [
        "class MyModel(Model):\n",
        "  def __init__(self):\n",
        "    super(MyModel, self).__init__()\n",
        "    self.flatten = Flatten()\n",
        "    self.d1 = Dense(128, activation='relu')\n",
        "    self.d2 = Dense(3)\n",
        "\n",
        "  def call(self, x):\n",
        "    x = self.flatten(x)\n",
        "    x = self.d1(x)\n",
        "    return self.d2(x)\n",
        "\n",
        "\n",
        "model = MyModel()"
      ],
      "execution_count": null,
      "outputs": []
    },
    {
      "cell_type": "code",
      "metadata": {
        "id": "ubZ7uxyEzwW1"
      },
      "source": [
        "loss_object = tf.keras.losses.SparseCategoricalCrossentropy(from_logits=True)\n",
        "optimizer = tf.keras.optimizers.Adam()"
      ],
      "execution_count": null,
      "outputs": []
    },
    {
      "cell_type": "code",
      "metadata": {
        "id": "GALDSpiQzzB7"
      },
      "source": [
        "train_loss = tf.keras.metrics.Mean(name='train_loss')\n",
        "train_accuracy = tf.keras.metrics.SparseCategoricalAccuracy(name='train_accuracy')\n",
        "\n",
        "test_loss = tf.keras.metrics.Mean(name='test_loss') \n",
        "test_accuracy = tf.keras.metrics.SparseCategoricalAccuracy(name='test_accuracy')"
      ],
      "execution_count": null,
      "outputs": []
    },
    {
      "cell_type": "code",
      "metadata": {
        "id": "mmk_NKoUz0XU"
      },
      "source": [
        "@tf.function\n",
        "def train_step(iris_data, iris_labels):\n",
        "  with tf.GradientTape() as tape: #tf.GradientTape訓練模型\n",
        "    predictions = model(iris_data, training=True) #確認訓練來源\n",
        "    loss = loss_object(iris_labels, predictions) #建立Loss運算來源\n",
        "  gradients = tape.gradient(loss, model.trainable_variables) #\bbackward 反向傳播\n",
        "  optimizer.apply_gradients(zip(gradients, model.trainable_variables)) #取得訓練的權重、偏移量優化\n",
        "\n",
        "  train_loss(loss)\n",
        "  train_accuracy(iris_labels, predictions)"
      ],
      "execution_count": null,
      "outputs": []
    },
    {
      "cell_type": "code",
      "metadata": {
        "id": "QldMTnCGz3S_"
      },
      "source": [
        "@tf.function\n",
        "def test_step(iris_data, iris_labels):\n",
        "  predictions = model(iris_data, training=False) #training=False 表示測試資料進行測試\n",
        "  t_loss = loss_object(iris_labels, predictions) #建立Loss\n",
        "\n",
        "  test_loss(t_loss)\n",
        "  test_accuracy(iris_labels, predictions)"
      ],
      "execution_count": null,
      "outputs": []
    },
    {
      "cell_type": "code",
      "metadata": {
        "id": "2S4QL59cz5Dw",
        "colab": {
          "base_uri": "https://localhost:8080/"
        },
        "outputId": "999cb0d9-d150-4e80-810f-199cd8fc4c01"
      },
      "source": [
        "EPOCHS = 50\n",
        "\n",
        "for epoch in range(EPOCHS):\n",
        "  #每一次epoch的時候做重整\n",
        "  train_loss.reset_states()\n",
        "  train_accuracy.reset_states()\n",
        "  test_loss.reset_states()\n",
        "  test_accuracy.reset_states()\n",
        "\n",
        "  for iris_data, iris_labels in train_ds:\n",
        "    train_step(iris_data, iris_labels)\n",
        "\n",
        "  for test_iris_data, test_iris_labels in test_ds:\n",
        "    test_step(test_iris_data, test_iris_labels)\n",
        "\n",
        "  template = '迭代 {}, 訓練資料損失: {}, 訓練資料準確率: {}, 測試資料損失: {}, 測試資料準確率: {}'\n",
        "  print(template.format(epoch+1,\n",
        "                        train_loss.result(),\n",
        "                        train_accuracy.result()*100,\n",
        "                        test_loss.result(),\n",
        "                        test_accuracy.result()*100))"
      ],
      "execution_count": null,
      "outputs": [
        {
          "output_type": "stream",
          "text": [
            "迭代 1, 訓練資料損失: 1.0532121658325195, 訓練資料準確率: 29.52381134033203, 測試資料損失: 0.9019368886947632, 測試資料準確率: 42.22222137451172\n",
            "迭代 2, 訓練資料損失: 0.9497863054275513, 訓練資料準確率: 34.28571701049805, 測試資料損失: 0.9381266832351685, 測試資料準確率: 33.333335876464844\n",
            "迭代 3, 訓練資料損失: 0.9094387292861938, 訓練資料準確率: 41.904762268066406, 測試資料損失: 0.930955171585083, 測試資料準確率: 42.22222137451172\n",
            "迭代 4, 訓練資料損失: 0.8707206845283508, 訓練資料準確率: 60.000003814697266, 測試資料損失: 0.8703829050064087, 測試資料準確率: 66.66667175292969\n",
            "迭代 5, 訓練資料損失: 0.8288087844848633, 訓練資料準確率: 89.52381134033203, 測試資料損失: 0.7996152639389038, 測試資料準確率: 95.55555725097656\n",
            "迭代 6, 訓練資料損失: 0.7959583401679993, 訓練資料準確率: 87.61904907226562, 測試資料損失: 0.7482044696807861, 測試資料準確率: 80.0\n",
            "迭代 7, 訓練資料損失: 0.7708638310432434, 訓練資料準確率: 66.66667175292969, 測試資料損失: 0.7188720703125, 測試資料準確率: 80.0\n",
            "迭代 8, 訓練資料損失: 0.7454959750175476, 訓練資料準確率: 72.38095092773438, 測試資料損失: 0.7050217390060425, 測試資料準確率: 84.44444274902344\n",
            "迭代 9, 訓練資料損失: 0.719704806804657, 訓練資料準確率: 86.66666412353516, 測試資料損失: 0.6966571807861328, 測試資料準確率: 95.55555725097656\n",
            "迭代 10, 訓練資料損失: 0.69566810131073, 訓練資料準確率: 96.19047546386719, 測試資料損失: 0.6819182634353638, 測試資料準確率: 97.77777862548828\n",
            "迭代 11, 訓練資料損失: 0.6725143194198608, 訓練資料準確率: 97.14286041259766, 測試資料損失: 0.6564987897872925, 測試資料準確率: 97.77777862548828\n",
            "迭代 12, 訓練資料損失: 0.649822473526001, 訓練資料準確率: 97.14286041259766, 測試資料損失: 0.6264297962188721, 測試資料準確率: 95.55555725097656\n",
            "迭代 13, 訓練資料損失: 0.6287463307380676, 訓練資料準確率: 95.23809814453125, 測試資料損失: 0.6017207503318787, 測試資料準確率: 95.55555725097656\n",
            "迭代 14, 訓練資料損失: 0.6096129417419434, 訓練資料準確率: 95.23809814453125, 測試資料損失: 0.5854500532150269, 測試資料準確率: 95.55555725097656\n",
            "迭代 15, 訓練資料損失: 0.5916305780410767, 訓練資料準確率: 95.23809814453125, 測試資料損失: 0.5732357501983643, 測試資料準確率: 95.55555725097656\n",
            "迭代 16, 訓練資料損失: 0.5746474266052246, 訓練資料準確率: 96.19047546386719, 測試資料損失: 0.5606381893157959, 測試資料準確率: 95.55555725097656\n",
            "迭代 17, 訓練資料損失: 0.5585335493087769, 訓練資料準確率: 96.19047546386719, 測試資料損失: 0.5462108850479126, 測試資料準確率: 95.55555725097656\n",
            "迭代 18, 訓練資料損失: 0.5433734655380249, 訓練資料準確率: 96.19047546386719, 測試資料損失: 0.5313658118247986, 測試資料準確率: 95.55555725097656\n",
            "迭代 19, 訓練資料損失: 0.5291953682899475, 訓練資料準確率: 96.19047546386719, 測試資料損失: 0.5181186199188232, 測試資料準確率: 95.55555725097656\n",
            "迭代 20, 訓練資料損失: 0.5158184766769409, 訓練資料準確率: 96.19047546386719, 測試資料損失: 0.5071433782577515, 測試資料準確率: 95.55555725097656\n",
            "迭代 21, 訓練資料損失: 0.5030529499053955, 訓練資料準確率: 96.19047546386719, 測試資料損失: 0.4972534775733948, 測試資料準確率: 97.77777862548828\n",
            "迭代 22, 訓練資料損失: 0.4908444285392761, 訓練資料準確率: 96.19047546386719, 測試資料損失: 0.48732566833496094, 測試資料準確率: 97.77777862548828\n",
            "迭代 23, 訓練資料損失: 0.47921282052993774, 訓練資料準確率: 97.14286041259766, 測試資料損失: 0.47733741998672485, 測試資料準確率: 97.77777862548828\n",
            "迭代 24, 訓練資料損失: 0.4681439995765686, 訓練資料準確率: 97.14286041259766, 測試資料損失: 0.467798113822937, 測試資料準確率: 97.77777862548828\n",
            "迭代 25, 訓練資料損失: 0.4575980007648468, 訓練資料準確率: 97.14286041259766, 測試資料損失: 0.45920777320861816, 測試資料準確率: 97.77777862548828\n",
            "迭代 26, 訓練資料損失: 0.4474716782569885, 訓練資料準確率: 97.14286041259766, 測試資料損失: 0.45128333568573, 測試資料準確率: 97.77777862548828\n",
            "迭代 27, 訓練資料損失: 0.43773189187049866, 訓練資料準確率: 97.14286041259766, 測試資料損失: 0.44371679425239563, 測試資料準確率: 97.77777862548828\n",
            "迭代 28, 訓練資料損失: 0.42832931876182556, 訓練資料準確率: 97.14286041259766, 測試資料損失: 0.4360794425010681, 測試資料準確率: 97.77777862548828\n",
            "迭代 29, 訓練資料損失: 0.41927391290664673, 訓練資料準確率: 97.14286041259766, 測試資料損失: 0.428644597530365, 測試資料準確率: 97.77777862548828\n",
            "迭代 30, 訓練資料損失: 0.41052311658859253, 訓練資料準確率: 97.14286041259766, 測試資料損失: 0.42161160707473755, 測試資料準確率: 97.77777862548828\n",
            "迭代 31, 訓練資料損失: 0.4020389914512634, 訓練資料準確率: 97.14286041259766, 測試資料損失: 0.41485464572906494, 測試資料準確率: 97.77777862548828\n",
            "迭代 32, 訓練資料損失: 0.39381760358810425, 訓練資料準確率: 97.14286041259766, 測試資料損失: 0.4082832932472229, 測試資料準確率: 97.77777862548828\n",
            "迭代 33, 訓練資料損失: 0.38583922386169434, 訓練資料準確率: 97.14286041259766, 測試資料損失: 0.40198230743408203, 測試資料準確率: 97.77777862548828\n",
            "迭代 34, 訓練資料損失: 0.37810906767845154, 訓練資料準確率: 97.14286041259766, 測試資料損失: 0.39590978622436523, 測試資料準確率: 97.77777862548828\n",
            "迭代 35, 訓練資料損失: 0.3705853223800659, 訓練資料準確率: 97.14286041259766, 測試資料損失: 0.3899162709712982, 測試資料準確率: 97.77777862548828\n",
            "迭代 36, 訓練資料損失: 0.36327096819877625, 訓練資料準確率: 97.14286041259766, 測試資料損失: 0.38405996561050415, 測試資料準確率: 95.55555725097656\n",
            "迭代 37, 訓練資料損失: 0.35617172718048096, 訓練資料準確率: 98.0952377319336, 測試資料損失: 0.3784042000770569, 測試資料準確率: 95.55555725097656\n",
            "迭代 38, 訓練資料損失: 0.349278062582016, 訓練資料準確率: 98.0952377319336, 測試資料損失: 0.37303656339645386, 測試資料準確率: 93.33333587646484\n",
            "迭代 39, 訓練資料損失: 0.34252607822418213, 訓練資料準確率: 98.0952377319336, 測試資料損失: 0.3678017854690552, 測試資料準確率: 93.33333587646484\n",
            "迭代 40, 訓練資料損失: 0.33590736985206604, 訓練資料準確率: 98.0952377319336, 測試資料損失: 0.36257827281951904, 測試資料準確率: 93.33333587646484\n",
            "迭代 41, 訓練資料損失: 0.3294599950313568, 訓練資料準確率: 98.0952377319336, 測試資料損失: 0.3575560748577118, 測試資料準確率: 93.33333587646484\n",
            "迭代 42, 訓練資料損失: 0.32317590713500977, 訓練資料準確率: 98.0952377319336, 測試資料損失: 0.3527940511703491, 測試資料準確率: 93.33333587646484\n",
            "迭代 43, 訓練資料損失: 0.3170161545276642, 訓練資料準確率: 98.0952377319336, 測試資料損失: 0.348003089427948, 測試資料準確率: 93.33333587646484\n",
            "迭代 44, 訓練資料損失: 0.31097766757011414, 訓練資料準確率: 98.0952377319336, 測試資料損失: 0.3430679738521576, 測試資料準確率: 95.55555725097656\n",
            "迭代 45, 訓練資料損失: 0.30510255694389343, 訓練資料準確率: 98.0952377319336, 測試資料損失: 0.33831679821014404, 測試資料準確率: 95.55555725097656\n",
            "迭代 46, 訓練資料損失: 0.2993815541267395, 訓練資料準確率: 98.0952377319336, 測試資料損失: 0.33397892117500305, 測試資料準確率: 95.55555725097656\n",
            "迭代 47, 訓練資料損失: 0.2937543988227844, 訓練資料準確率: 98.0952377319336, 測試資料損失: 0.32967162132263184, 測試資料準確率: 95.55555725097656\n",
            "迭代 48, 訓練資料損失: 0.28823956847190857, 訓練資料準確率: 98.0952377319336, 測試資料損失: 0.325284481048584, 測試資料準確率: 95.55555725097656\n",
            "迭代 49, 訓練資料損失: 0.28286221623420715, 訓練資料準確率: 98.0952377319336, 測試資料損失: 0.3210020363330841, 測試資料準確率: 95.55555725097656\n",
            "迭代 50, 訓練資料損失: 0.2776120901107788, 訓練資料準確率: 98.0952377319336, 測試資料損失: 0.31682559847831726, 測試資料準確率: 95.55555725097656\n"
          ],
          "name": "stdout"
        }
      ]
    }
  ]
}