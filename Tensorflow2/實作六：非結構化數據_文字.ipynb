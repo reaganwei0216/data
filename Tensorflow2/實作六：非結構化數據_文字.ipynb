{
  "nbformat": 4,
  "nbformat_minor": 0,
  "metadata": {
    "colab": {
      "name": "實作六：非結構化數據-文字",
      "provenance": [],
      "collapsed_sections": []
    },
    "kernelspec": {
      "name": "python3",
      "display_name": "Python 3"
    }
  },
  "cells": [
    {
      "cell_type": "code",
      "metadata": {
        "id": "lL_ckvo1L7Xy"
      },
      "source": [
        "import tensorflow as tf\n",
        "import pathlib\n",
        "from tensorflow.keras import preprocessing"
      ],
      "execution_count": null,
      "outputs": []
    },
    {
      "cell_type": "code",
      "metadata": {
        "id": "DtB_ww8jMAv2"
      },
      "source": [
        "data_url = 'https://storage.googleapis.com/download.tensorflow.org/data/stack_overflow_16k.tar.gz'\n",
        "dataset = tf.keras.utils.get_file(\n",
        "    'stack_overflow_16k.tar.gz',\n",
        "    data_url,\n",
        "    untar=True, #是否解壓縮\n",
        "    cache_dir='stack_overflow',\n",
        "    cache_subdir='') #快取的子目錄\n",
        "dataset_dir = pathlib.Path(dataset).parent"
      ],
      "execution_count": null,
      "outputs": []
    },
    {
      "cell_type": "code",
      "metadata": {
        "colab": {
          "base_uri": "https://localhost:8080/"
        },
        "id": "D0X1Xi9-MDGG",
        "outputId": "ae7658cb-c7d9-4b76-baf8-e1f01e539a38"
      },
      "source": [
        "list(dataset_dir.iterdir())"
      ],
      "execution_count": null,
      "outputs": [
        {
          "output_type": "execute_result",
          "data": {
            "text/plain": [
              "[PosixPath('/tmp/.keras/test'),\n",
              " PosixPath('/tmp/.keras/stack_overflow_16k.tar.gz.tar.gz'),\n",
              " PosixPath('/tmp/.keras/README.md'),\n",
              " PosixPath('/tmp/.keras/train')]"
            ]
          },
          "metadata": {
            "tags": []
          },
          "execution_count": 30
        }
      ]
    },
    {
      "cell_type": "code",
      "metadata": {
        "colab": {
          "base_uri": "https://localhost:8080/"
        },
        "id": "t7yOijdcMOXD",
        "outputId": "49330ddc-0e12-46ed-9da8-d1dc3e13e985"
      },
      "source": [
        "train_dir = dataset_dir/'train' #取得train的路徑\n",
        "list(train_dir.iterdir())"
      ],
      "execution_count": null,
      "outputs": [
        {
          "output_type": "execute_result",
          "data": {
            "text/plain": [
              "[PosixPath('/tmp/.keras/train/python'),\n",
              " PosixPath('/tmp/.keras/train/csharp'),\n",
              " PosixPath('/tmp/.keras/train/javascript'),\n",
              " PosixPath('/tmp/.keras/train/java')]"
            ]
          },
          "metadata": {
            "tags": []
          },
          "execution_count": 31
        }
      ]
    },
    {
      "cell_type": "code",
      "metadata": {
        "colab": {
          "base_uri": "https://localhost:8080/"
        },
        "id": "KCkmTvO9MQwE",
        "outputId": "bd669dd8-f00e-471c-dabf-e501df07c92e"
      },
      "source": [
        "sample_file = train_dir/'python/1755.txt' #取得某一個文檔檢視\n",
        "with open(sample_file) as f:\n",
        "  print(f.read())"
      ],
      "execution_count": null,
      "outputs": [
        {
          "output_type": "stream",
          "text": [
            "why does this blank program print true x=true.def stupid():.    x=false.stupid().print x\n",
            "\n"
          ],
          "name": "stdout"
        }
      ]
    },
    {
      "cell_type": "code",
      "metadata": {
        "colab": {
          "base_uri": "https://localhost:8080/"
        },
        "id": "q-cIgpqwMR8_",
        "outputId": "7209a9d7-d89b-4384-f331-5e4cdecbf024"
      },
      "source": [
        "batch_size = 32\n",
        "seed = 88\n",
        "\n",
        "#透過text_dataset_from_directory取得資料\n",
        "raw_train_ds = preprocessing.text_dataset_from_directory(\n",
        "    train_dir,\n",
        "    batch_size=batch_size,\n",
        "    validation_split=0.2,\n",
        "    subset='training', #將該資料設定為training用\n",
        "    seed=seed)\n",
        "\n",
        "#main_directory/\n",
        "#...class_a/\n",
        "#......a_text_1.txt\n",
        "#......a_text_2.txt\n",
        "#...class_b/\n",
        "#......b_text_1.txt\n",
        "#......b_text_2.txt\n",
        "\n",
        "#directory：數據來源\n",
        "#labels：如果設定inferred，則會根據資料夾名稱當作標籤\n",
        "#label_mode：分為int、categorical、binary\n",
        "#class_names：可指定標籤名稱或使用inferred自動處理\n",
        "#batch_size：預設32\n",
        "#max_length：最長的字串長度\n",
        "#shuffle：隨機排序資料\n",
        "#seed：隨機種子\n",
        "#validation_split：介於0~1之前指定測試資料，通常設定0.2,0.3,0.4\n",
        "#subset：指定用途，參數只有\"training\" 或 \"validation\"\n",
        "#follow_links：預設為Flase，是否以參照方式訪問子目錄\n"
      ],
      "execution_count": null,
      "outputs": [
        {
          "output_type": "stream",
          "text": [
            "Found 8000 files belonging to 4 classes.\n",
            "Using 6400 files for training.\n"
          ],
          "name": "stdout"
        }
      ]
    },
    {
      "cell_type": "code",
      "metadata": {
        "colab": {
          "base_uri": "https://localhost:8080/"
        },
        "id": "QASG3vdCMU6l",
        "outputId": "3adf5067-41cd-4b43-f90e-45c4d36db520"
      },
      "source": [
        "for text_batch, label_batch in raw_train_ds.take(1):\n",
        "  for i in range(10):\n",
        "    print(\"Question: \", text_batch.numpy()[i][:100], '...')\n",
        "    print(\"Label:\", label_batch.numpy()[i])"
      ],
      "execution_count": null,
      "outputs": [
        {
          "output_type": "stream",
          "text": [
            "Question:  b'can object method have own propertis? for function i can make this:..uniqueinteger.counter = 0;..fun' ...\n",
            "Label: 2\n",
            "Question:  b'\"getting cards in hand blank i am currently writing a modified version of gin rummy. my problem is i' ...\n",
            "Label: 1\n",
            "Question:  b'\"blank.net excel reading and writing i have two times in the format..\"\"hours:mins:secs\"\" and and i w' ...\n",
            "Label: 0\n",
            "Question:  b'\"writing column entry just one below another in blank i have imported a file containing 8 columns, e' ...\n",
            "Label: 3\n",
            "Question:  b'\"extract id from json string i have the following json string. what is the best way to extract the i' ...\n",
            "Label: 0\n",
            "Question:  b'\"ifs and arraylists is there a way to do an if statement where one number is compared to an entire a' ...\n",
            "Label: 1\n",
            "Question:  b'\"clarification on filter() function; how it works so, i am self-learning html, css, blank. i was goi' ...\n",
            "Label: 2\n",
            "Question:  b'\"blank - \\'too many values to unpack\\', and \\'list has no attribute \\'iteritems\\'\\' i am trying to compare' ...\n",
            "Label: 3\n",
            "Question:  b'delete number after slash in blank hey lets say i have url like this:..http://google.com/1/2...how d' ...\n",
            "Label: 2\n",
            "Question:  b'blankic way of doing so? i wish to have the following simple algorithm implemented in blank..here is' ...\n",
            "Label: 3\n"
          ],
          "name": "stdout"
        }
      ]
    },
    {
      "cell_type": "code",
      "metadata": {
        "colab": {
          "base_uri": "https://localhost:8080/"
        },
        "id": "JA8I5mAYMXGT",
        "outputId": "75b1ede0-d27d-45ef-b228-360f5930e253"
      },
      "source": [
        "for i, label in enumerate(raw_train_ds.class_names):\n",
        "  print(\"Label\", i, \"corresponds to\", label)"
      ],
      "execution_count": null,
      "outputs": [
        {
          "output_type": "stream",
          "text": [
            "Label 0 corresponds to csharp\n",
            "Label 1 corresponds to java\n",
            "Label 2 corresponds to javascript\n",
            "Label 3 corresponds to python\n"
          ],
          "name": "stdout"
        }
      ]
    },
    {
      "cell_type": "code",
      "metadata": {
        "colab": {
          "base_uri": "https://localhost:8080/"
        },
        "id": "_-tNI-CZMaf6",
        "outputId": "f063c759-a469-416d-8f1e-de6e1c7fd2aa"
      },
      "source": [
        "raw_val_ds = preprocessing.text_dataset_from_directory(\n",
        "    train_dir,\n",
        "    batch_size=batch_size,\n",
        "    validation_split=0.2,\n",
        "    subset='validation', #將該資料設定為validation用\n",
        "    seed=seed)"
      ],
      "execution_count": null,
      "outputs": [
        {
          "output_type": "stream",
          "text": [
            "Found 8000 files belonging to 4 classes.\n",
            "Using 1600 files for validation.\n"
          ],
          "name": "stdout"
        }
      ]
    },
    {
      "cell_type": "code",
      "metadata": {
        "colab": {
          "base_uri": "https://localhost:8080/"
        },
        "id": "SFB7AlHPS9MB",
        "outputId": "4dc61f26-a3a9-4ba7-da64-76e189b6f5a2"
      },
      "source": [
        "for text_batch, label_batch in raw_val_ds.take(1):\n",
        "  for i in range(10):\n",
        "    print(\"Question: \", text_batch.numpy()[i][:50], '...')\n",
        "    print(\"Label:\", label_batch.numpy()[i])"
      ],
      "execution_count": null,
      "outputs": [
        {
          "output_type": "stream",
          "text": [
            "Question:  b'\"i have trouble with static main method and inputt' ...\n",
            "Label: 1\n",
            "Question:  b'\"having trouble with this quadratic equation class' ...\n",
            "Label: 1\n",
            "Question:  b'\"blank error: import module not found i am trying ' ...\n",
            "Label: 3\n",
            "Question:  b'\"swap the letters of the input string swap the cas' ...\n",
            "Label: 3\n",
            "Question:  b'\"how to address instance of anonymous class from i' ...\n",
            "Label: 1\n",
            "Question:  b'\"checking for multiple values in object what would' ...\n",
            "Label: 2\n",
            "Question:  b'\"blank: no overload for \\'listview_itemdrag\\' matche' ...\n",
            "Label: 0\n",
            "Question:  b'\"add new columns to comma delimited text file blan' ...\n",
            "Label: 3\n",
            "Question:  b'\"blank making a txt file .  possible duplicate:.  ' ...\n",
            "Label: 1\n",
            "Question:  b'\"lib/class which can execute methods written as st' ...\n",
            "Label: 1\n"
          ],
          "name": "stdout"
        }
      ]
    }
  ]
}