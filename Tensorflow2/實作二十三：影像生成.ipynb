{
  "nbformat": 4,
  "nbformat_minor": 0,
  "metadata": {
    "colab": {
      "name": "實作二十三：影像生成.ipynb",
      "provenance": [],
      "collapsed_sections": []
    },
    "kernelspec": {
      "name": "python3",
      "display_name": "Python 3"
    },
    "accelerator": "GPU"
  },
  "cells": [
    {
      "cell_type": "code",
      "metadata": {
        "id": "oveEWPKBZgaf"
      },
      "source": [
        "import tensorflow as tf"
      ],
      "execution_count": null,
      "outputs": []
    },
    {
      "cell_type": "code",
      "metadata": {
        "colab": {
          "base_uri": "https://localhost:8080/"
        },
        "id": "u_UI5FmwZumi",
        "outputId": "3ec99a4e-10bf-4004-d1e5-38cefe4da506"
      },
      "source": [
        "!pip install -q imageio\n",
        "!pip install -q git+https://github.com/tensorflow/docs"
      ],
      "execution_count": null,
      "outputs": [
        {
          "output_type": "stream",
          "text": [
            "\u001b[?25l\r\u001b[K     |▎                               | 10kB 30.1MB/s eta 0:00:01\r\u001b[K     |▋                               | 20kB 21.3MB/s eta 0:00:01\r\u001b[K     |█                               | 30kB 16.1MB/s eta 0:00:01\r\u001b[K     |█▎                              | 40kB 14.4MB/s eta 0:00:01\r\u001b[K     |█▋                              | 51kB 8.7MB/s eta 0:00:01\r\u001b[K     |██                              | 61kB 8.2MB/s eta 0:00:01\r\u001b[K     |██▎                             | 71kB 9.4MB/s eta 0:00:01\r\u001b[K     |██▋                             | 81kB 10.4MB/s eta 0:00:01\r\u001b[K     |██▉                             | 92kB 9.5MB/s eta 0:00:01\r\u001b[K     |███▏                            | 102kB 8.4MB/s eta 0:00:01\r\u001b[K     |███▌                            | 112kB 8.4MB/s eta 0:00:01\r\u001b[K     |███▉                            | 122kB 8.4MB/s eta 0:00:01\r\u001b[K     |████▏                           | 133kB 8.4MB/s eta 0:00:01\r\u001b[K     |████▌                           | 143kB 8.4MB/s eta 0:00:01\r\u001b[K     |████▉                           | 153kB 8.4MB/s eta 0:00:01\r\u001b[K     |█████▏                          | 163kB 8.4MB/s eta 0:00:01\r\u001b[K     |█████▌                          | 174kB 8.4MB/s eta 0:00:01\r\u001b[K     |█████▊                          | 184kB 8.4MB/s eta 0:00:01\r\u001b[K     |██████                          | 194kB 8.4MB/s eta 0:00:01\r\u001b[K     |██████▍                         | 204kB 8.4MB/s eta 0:00:01\r\u001b[K     |██████▊                         | 215kB 8.4MB/s eta 0:00:01\r\u001b[K     |███████                         | 225kB 8.4MB/s eta 0:00:01\r\u001b[K     |███████▍                        | 235kB 8.4MB/s eta 0:00:01\r\u001b[K     |███████▊                        | 245kB 8.4MB/s eta 0:00:01\r\u001b[K     |████████                        | 256kB 8.4MB/s eta 0:00:01\r\u001b[K     |████████▍                       | 266kB 8.4MB/s eta 0:00:01\r\u001b[K     |████████▋                       | 276kB 8.4MB/s eta 0:00:01\r\u001b[K     |█████████                       | 286kB 8.4MB/s eta 0:00:01\r\u001b[K     |█████████▎                      | 296kB 8.4MB/s eta 0:00:01\r\u001b[K     |█████████▋                      | 307kB 8.4MB/s eta 0:00:01\r\u001b[K     |██████████                      | 317kB 8.4MB/s eta 0:00:01\r\u001b[K     |██████████▎                     | 327kB 8.4MB/s eta 0:00:01\r\u001b[K     |██████████▋                     | 337kB 8.4MB/s eta 0:00:01\r\u001b[K     |███████████                     | 348kB 8.4MB/s eta 0:00:01\r\u001b[K     |███████████▎                    | 358kB 8.4MB/s eta 0:00:01\r\u001b[K     |███████████▌                    | 368kB 8.4MB/s eta 0:00:01\r\u001b[K     |███████████▉                    | 378kB 8.4MB/s eta 0:00:01\r\u001b[K     |████████████▏                   | 389kB 8.4MB/s eta 0:00:01\r\u001b[K     |████████████▌                   | 399kB 8.4MB/s eta 0:00:01\r\u001b[K     |████████████▉                   | 409kB 8.4MB/s eta 0:00:01\r\u001b[K     |█████████████▏                  | 419kB 8.4MB/s eta 0:00:01\r\u001b[K     |█████████████▌                  | 430kB 8.4MB/s eta 0:00:01\r\u001b[K     |█████████████▉                  | 440kB 8.4MB/s eta 0:00:01\r\u001b[K     |██████████████▏                 | 450kB 8.4MB/s eta 0:00:01\r\u001b[K     |██████████████▍                 | 460kB 8.4MB/s eta 0:00:01\r\u001b[K     |██████████████▊                 | 471kB 8.4MB/s eta 0:00:01\r\u001b[K     |███████████████                 | 481kB 8.4MB/s eta 0:00:01\r\u001b[K     |███████████████▍                | 491kB 8.4MB/s eta 0:00:01\r\u001b[K     |███████████████▊                | 501kB 8.4MB/s eta 0:00:01\r\u001b[K     |████████████████                | 512kB 8.4MB/s eta 0:00:01\r\u001b[K     |████████████████▍               | 522kB 8.4MB/s eta 0:00:01\r\u001b[K     |████████████████▊               | 532kB 8.4MB/s eta 0:00:01\r\u001b[K     |█████████████████               | 542kB 8.4MB/s eta 0:00:01\r\u001b[K     |█████████████████▎              | 552kB 8.4MB/s eta 0:00:01\r\u001b[K     |█████████████████▋              | 563kB 8.4MB/s eta 0:00:01\r\u001b[K     |██████████████████              | 573kB 8.4MB/s eta 0:00:01\r\u001b[K     |██████████████████▎             | 583kB 8.4MB/s eta 0:00:01\r\u001b[K     |██████████████████▋             | 593kB 8.4MB/s eta 0:00:01\r\u001b[K     |███████████████████             | 604kB 8.4MB/s eta 0:00:01\r\u001b[K     |███████████████████▎            | 614kB 8.4MB/s eta 0:00:01\r\u001b[K     |███████████████████▋            | 624kB 8.4MB/s eta 0:00:01\r\u001b[K     |████████████████████            | 634kB 8.4MB/s eta 0:00:01\r\u001b[K     |████████████████████▏           | 645kB 8.4MB/s eta 0:00:01\r\u001b[K     |████████████████████▌           | 655kB 8.4MB/s eta 0:00:01\r\u001b[K     |████████████████████▉           | 665kB 8.4MB/s eta 0:00:01\r\u001b[K     |█████████████████████▏          | 675kB 8.4MB/s eta 0:00:01\r\u001b[K     |█████████████████████▌          | 686kB 8.4MB/s eta 0:00:01\r\u001b[K     |█████████████████████▉          | 696kB 8.4MB/s eta 0:00:01\r\u001b[K     |██████████████████████▏         | 706kB 8.4MB/s eta 0:00:01\r\u001b[K     |██████████████████████▌         | 716kB 8.4MB/s eta 0:00:01\r\u001b[K     |██████████████████████▉         | 727kB 8.4MB/s eta 0:00:01\r\u001b[K     |███████████████████████         | 737kB 8.4MB/s eta 0:00:01\r\u001b[K     |███████████████████████▍        | 747kB 8.4MB/s eta 0:00:01\r\u001b[K     |███████████████████████▊        | 757kB 8.4MB/s eta 0:00:01\r\u001b[K     |████████████████████████        | 768kB 8.4MB/s eta 0:00:01\r\u001b[K     |████████████████████████▍       | 778kB 8.4MB/s eta 0:00:01\r\u001b[K     |████████████████████████▊       | 788kB 8.4MB/s eta 0:00:01\r\u001b[K     |█████████████████████████       | 798kB 8.4MB/s eta 0:00:01\r\u001b[K     |█████████████████████████▍      | 808kB 8.4MB/s eta 0:00:01\r\u001b[K     |█████████████████████████▊      | 819kB 8.4MB/s eta 0:00:01\r\u001b[K     |██████████████████████████      | 829kB 8.4MB/s eta 0:00:01\r\u001b[K     |██████████████████████████▎     | 839kB 8.4MB/s eta 0:00:01\r\u001b[K     |██████████████████████████▋     | 849kB 8.4MB/s eta 0:00:01\r\u001b[K     |███████████████████████████     | 860kB 8.4MB/s eta 0:00:01\r\u001b[K     |███████████████████████████▎    | 870kB 8.4MB/s eta 0:00:01\r\u001b[K     |███████████████████████████▋    | 880kB 8.4MB/s eta 0:00:01\r\u001b[K     |████████████████████████████    | 890kB 8.4MB/s eta 0:00:01\r\u001b[K     |████████████████████████████▎   | 901kB 8.4MB/s eta 0:00:01\r\u001b[K     |████████████████████████████▋   | 911kB 8.4MB/s eta 0:00:01\r\u001b[K     |████████████████████████████▉   | 921kB 8.4MB/s eta 0:00:01\r\u001b[K     |█████████████████████████████▏  | 931kB 8.4MB/s eta 0:00:01\r\u001b[K     |█████████████████████████████▌  | 942kB 8.4MB/s eta 0:00:01\r\u001b[K     |█████████████████████████████▉  | 952kB 8.4MB/s eta 0:00:01\r\u001b[K     |██████████████████████████████▏ | 962kB 8.4MB/s eta 0:00:01\r\u001b[K     |██████████████████████████████▌ | 972kB 8.4MB/s eta 0:00:01\r\u001b[K     |██████████████████████████████▉ | 983kB 8.4MB/s eta 0:00:01\r\u001b[K     |███████████████████████████████▏| 993kB 8.4MB/s eta 0:00:01\r\u001b[K     |███████████████████████████████▌| 1.0MB 8.4MB/s eta 0:00:01\r\u001b[K     |███████████████████████████████▊| 1.0MB 8.4MB/s eta 0:00:01\r\u001b[K     |████████████████████████████████| 1.0MB 8.4MB/s \n",
            "\u001b[?25h  Building wheel for tensorflow-docs (setup.py) ... \u001b[?25l\u001b[?25hdone\n"
          ],
          "name": "stdout"
        }
      ]
    },
    {
      "cell_type": "code",
      "metadata": {
        "id": "54yDd3wLZxeb"
      },
      "source": [
        "import glob\n",
        "import imageio\n",
        "import matplotlib.pyplot as plt\n",
        "import numpy as np\n",
        "import os\n",
        "import PIL\n",
        "from tensorflow.keras import layers\n",
        "import time\n",
        "\n",
        "from IPython import display"
      ],
      "execution_count": null,
      "outputs": []
    },
    {
      "cell_type": "code",
      "metadata": {
        "colab": {
          "base_uri": "https://localhost:8080/"
        },
        "id": "OHMQHp-aZzG1",
        "outputId": "b5e0c5c1-c721-4804-d855-4073c5a7885c"
      },
      "source": [
        "(train_images, train_labels), (_, _) = tf.keras.datasets.mnist.load_data()"
      ],
      "execution_count": null,
      "outputs": [
        {
          "output_type": "stream",
          "text": [
            "Downloading data from https://storage.googleapis.com/tensorflow/tf-keras-datasets/mnist.npz\n",
            "11493376/11490434 [==============================] - 0s 0us/step\n"
          ],
          "name": "stdout"
        }
      ]
    },
    {
      "cell_type": "code",
      "metadata": {
        "id": "w1fkKHijZzf1"
      },
      "source": [
        "train_images = train_images.reshape(train_images.shape[0], 28, 28, 1).astype('float32')\n",
        "train_images = (train_images - 127.5) / 127.5 # Normalize the images to [-1, 1]"
      ],
      "execution_count": null,
      "outputs": []
    },
    {
      "cell_type": "code",
      "metadata": {
        "id": "56AudQC4Z0cT"
      },
      "source": [
        "BUFFER_SIZE = 60000\n",
        "BATCH_SIZE = 256"
      ],
      "execution_count": null,
      "outputs": []
    },
    {
      "cell_type": "code",
      "metadata": {
        "id": "x54fQTCeZ1My"
      },
      "source": [
        "# Batch and shuffle the data\n",
        "train_dataset = tf.data.Dataset.from_tensor_slices(train_images).shuffle(BUFFER_SIZE).batch(BATCH_SIZE)"
      ],
      "execution_count": null,
      "outputs": []
    },
    {
      "cell_type": "code",
      "metadata": {
        "id": "IMESMNX7Z4Q3"
      },
      "source": [
        "#建立生成模型\n",
        "def make_generator_model():\n",
        "    model = tf.keras.Sequential()\n",
        "    model.add(layers.Dense(7*7*256, use_bias=False, input_shape=(100,)))\n",
        "    model.add(layers.BatchNormalization())\n",
        "    model.add(layers.LeakyReLU())\n",
        "\n",
        "    model.add(layers.Reshape((7, 7, 256)))\n",
        "    assert model.output_shape == (None, 7, 7, 256) # Note: None is the batch size\n",
        "\n",
        "    model.add(layers.Conv2DTranspose(128, (5, 5), strides=(1, 1), padding='same', use_bias=False))\n",
        "    assert model.output_shape == (None, 7, 7, 128)\n",
        "    model.add(layers.BatchNormalization())\n",
        "    model.add(layers.LeakyReLU())\n",
        "\n",
        "    model.add(layers.Conv2DTranspose(64, (5, 5), strides=(2, 2), padding='same', use_bias=False))\n",
        "    assert model.output_shape == (None, 14, 14, 64)\n",
        "    model.add(layers.BatchNormalization())\n",
        "    model.add(layers.LeakyReLU())\n",
        "\n",
        "    model.add(layers.Conv2DTranspose(1, (5, 5), strides=(2, 2), padding='same', use_bias=False, activation='tanh'))\n",
        "    assert model.output_shape == (None, 28, 28, 1)\n",
        "\n",
        "    return model"
      ],
      "execution_count": null,
      "outputs": []
    },
    {
      "cell_type": "code",
      "metadata": {
        "colab": {
          "base_uri": "https://localhost:8080/",
          "height": 282
        },
        "id": "OHqrxoSsZ3oP",
        "outputId": "5bef477e-f55c-44f0-aa31-5704cd90354c"
      },
      "source": [
        "#檢視模型輸出\n",
        "generator = make_generator_model()\n",
        "\n",
        "noise = tf.random.normal([1, 100])\n",
        "generated_image = generator(noise, training=False)\n",
        "\n",
        "plt.imshow(generated_image[0, :, :, 0], cmap='gray')"
      ],
      "execution_count": null,
      "outputs": [
        {
          "output_type": "execute_result",
          "data": {
            "text/plain": [
              "<matplotlib.image.AxesImage at 0x7fa4a0615748>"
            ]
          },
          "metadata": {
            "tags": []
          },
          "execution_count": 9
        },
        {
          "output_type": "display_data",
          "data": {
            "image/png": "[encoded data removed]",
            "text/plain": [
              "<Figure size 432x288 with 1 Axes>"
            ]
          },
          "metadata": {
            "tags": [],
            "needs_background": "light"
          }
        }
      ]
    },
    {
      "cell_type": "code",
      "metadata": {
        "id": "9_Tu3s3TZ-vZ"
      },
      "source": [
        "#建立判別模型\n",
        "def make_discriminator_model():\n",
        "    model = tf.keras.Sequential()\n",
        "    model.add(layers.Conv2D(64, (5, 5), strides=(2, 2), padding='same',\n",
        "                                     input_shape=[28, 28, 1]))\n",
        "    model.add(layers.LeakyReLU())\n",
        "    model.add(layers.Dropout(0.3))\n",
        "\n",
        "    model.add(layers.Conv2D(128, (5, 5), strides=(2, 2), padding='same'))\n",
        "    model.add(layers.LeakyReLU())\n",
        "    model.add(layers.Dropout(0.3))\n",
        "\n",
        "    model.add(layers.Flatten())\n",
        "    model.add(layers.Dense(1))\n",
        "\n",
        "    return model"
      ],
      "execution_count": null,
      "outputs": []
    },
    {
      "cell_type": "code",
      "metadata": {
        "colab": {
          "base_uri": "https://localhost:8080/"
        },
        "id": "D37XMZj9aCuJ",
        "outputId": "c63384d8-c109-46d9-db13-6890a7918c75"
      },
      "source": [
        "#檢視模型輸出\n",
        "discriminator = make_discriminator_model()\n",
        "decision = discriminator(generated_image)\n",
        "print (decision)"
      ],
      "execution_count": null,
      "outputs": [
        {
          "output_type": "stream",
          "text": [
            "tf.Tensor([[0.00051967]], shape=(1, 1), dtype=float32)\n"
          ],
          "name": "stdout"
        }
      ]
    },
    {
      "cell_type": "code",
      "metadata": {
        "id": "qZo2HP-EaH8B"
      },
      "source": [
        "#定義優化器與優化器\n",
        "cross_entropy = tf.keras.losses.BinaryCrossentropy(from_logits=True)"
      ],
      "execution_count": null,
      "outputs": []
    },
    {
      "cell_type": "code",
      "metadata": {
        "id": "WLPAqNSvaOFY"
      },
      "source": [
        "#判別網路的衡量標準\n",
        "def discriminator_loss(real_output, fake_output):\n",
        "    real_loss = cross_entropy(tf.ones_like(real_output), real_output)\n",
        "    fake_loss = cross_entropy(tf.zeros_like(fake_output), fake_output)\n",
        "    total_loss = real_loss + fake_loss\n",
        "    return total_loss"
      ],
      "execution_count": null,
      "outputs": []
    },
    {
      "cell_type": "code",
      "metadata": {
        "id": "ddLFbVQYaSlI"
      },
      "source": [
        "#生成網路的衡量標準\n",
        "def generator_loss(fake_output):\n",
        "    return cross_entropy(tf.ones_like(fake_output), fake_output)"
      ],
      "execution_count": null,
      "outputs": []
    },
    {
      "cell_type": "code",
      "metadata": {
        "id": "4nBahGBhaYMy"
      },
      "source": [
        "#生成網路與判別網路的優化器\n",
        "generator_optimizer = tf.keras.optimizers.Adam(1e-4)\n",
        "discriminator_optimizer = tf.keras.optimizers.Adam(1e-4)"
      ],
      "execution_count": null,
      "outputs": []
    },
    {
      "cell_type": "code",
      "metadata": {
        "id": "n-Z7q2n4ablW"
      },
      "source": [
        "#記錄計算\n",
        "checkpoint_dir = './training_checkpoints'\n",
        "checkpoint_prefix = os.path.join(checkpoint_dir, \"ckpt\")\n",
        "checkpoint = tf.train.Checkpoint(generator_optimizer=generator_optimizer,\n",
        "                                 discriminator_optimizer=discriminator_optimizer,\n",
        "                                 generator=generator,\n",
        "                                 discriminator=discriminator)"
      ],
      "execution_count": null,
      "outputs": []
    },
    {
      "cell_type": "code",
      "metadata": {
        "id": "S9nYKTusac_Q"
      },
      "source": [
        "#建立初始化參數\n",
        "EPOCHS = 50\n",
        "noise_dim = 100\n",
        "num_examples_to_generate = 16\n",
        "seed = tf.random.normal([num_examples_to_generate, noise_dim])"
      ],
      "execution_count": null,
      "outputs": []
    },
    {
      "cell_type": "code",
      "metadata": {
        "id": "kv6KXvgeagyV"
      },
      "source": [
        "@tf.function\n",
        "def train_step(images):\n",
        "    noise = tf.random.normal([BATCH_SIZE, noise_dim])\n",
        "\n",
        "    with tf.GradientTape() as gen_tape, tf.GradientTape() as disc_tape:\n",
        "      generated_images = generator(noise, training=True)\n",
        "\n",
        "      real_output = discriminator(images, training=True)\n",
        "      fake_output = discriminator(generated_images, training=True)\n",
        "\n",
        "      gen_loss = generator_loss(fake_output)\n",
        "      disc_loss = discriminator_loss(real_output, fake_output)\n",
        "\n",
        "    gradients_of_generator = gen_tape.gradient(gen_loss, generator.trainable_variables)\n",
        "    gradients_of_discriminator = disc_tape.gradient(disc_loss, discriminator.trainable_variables)\n",
        "\n",
        "    generator_optimizer.apply_gradients(zip(gradients_of_generator, generator.trainable_variables))\n",
        "    discriminator_optimizer.apply_gradients(zip(gradients_of_discriminator, discriminator.trainable_variables))"
      ],
      "execution_count": null,
      "outputs": []
    },
    {
      "cell_type": "code",
      "metadata": {
        "id": "w9u60GvYalAw"
      },
      "source": [
        "#訓練網路函式\n",
        "def train(dataset, epochs):\n",
        "  for epoch in range(epochs):\n",
        "    start = time.time()\n",
        "\n",
        "    for image_batch in dataset:\n",
        "      train_step(image_batch)\n",
        "\n",
        "    # 顯示每一次生成的圖片\n",
        "    display.clear_output(wait=True)\n",
        "    generate_and_save_images(generator,\n",
        "                             epoch + 1,\n",
        "                             seed)\n",
        "\n",
        "    # 每15次epochs存模型\n",
        "    if (epoch + 1) % 15 == 0:\n",
        "      checkpoint.save(file_prefix = checkpoint_prefix)\n",
        "\n",
        "    print ('Time for epoch {} is {} sec'.format(epoch + 1, time.time()-start))\n",
        "\n",
        "  # Generate after the final epoch\n",
        "  display.clear_output(wait=True)\n",
        "  generate_and_save_images(generator,\n",
        "                           epochs,\n",
        "                           seed)"
      ],
      "execution_count": null,
      "outputs": []
    },
    {
      "cell_type": "code",
      "metadata": {
        "id": "UTMkHYt1aqBZ"
      },
      "source": [
        "#生成圖片\n",
        "def generate_and_save_images(model, epoch, test_input):\n",
        "  predictions = model(test_input, training=False)\n",
        "\n",
        "  fig = plt.figure(figsize=(4,4))\n",
        "\n",
        "  for i in range(predictions.shape[0]):\n",
        "      plt.subplot(4, 4, i+1)\n",
        "      plt.imshow(predictions[i, :, :, 0] * 127.5 + 127.5, cmap='gray')\n",
        "      plt.axis('off')\n",
        "\n",
        "  plt.savefig('image_at_epoch_{:04d}.png'.format(epoch))\n",
        "  plt.show()"
      ],
      "execution_count": null,
      "outputs": []
    },
    {
      "cell_type": "code",
      "metadata": {
        "colab": {
          "base_uri": "https://localhost:8080/",
          "height": 248
        },
        "id": "2RdVp_JLauJ9",
        "outputId": "4241127f-5a2d-4493-fdbd-8346708dbdcb"
      },
      "source": [
        "#訓練模型\n",
        "train(train_dataset, EPOCHS)"
      ],
      "execution_count": null,
      "outputs": [
        {
          "output_type": "display_data",
          "data": {
            "image/png": "[encoded data removed]",
            "text/plain": [
              "<Figure size 288x288 with 16 Axes>"
            ]
          },
          "metadata": {
            "tags": [],
            "needs_background": "light"
          }
        }
      ]
    },
    {
      "cell_type": "code",
      "metadata": {
        "colab": {
          "base_uri": "https://localhost:8080/"
        },
        "id": "SbxjeJ1Law_k",
        "outputId": "039c4d6e-28b0-4a02-d9fe-addae3548022"
      },
      "source": [
        "#讀取模型\n",
        "checkpoint.restore(tf.train.latest_checkpoint(checkpoint_dir))"
      ],
      "execution_count": null,
      "outputs": [
        {
          "output_type": "execute_result",
          "data": {
            "text/plain": [
              "<tensorflow.python.training.tracking.util.CheckpointLoadStatus at 0x7fa49934fcc0>"
            ]
          },
          "metadata": {
            "tags": []
          },
          "execution_count": 22
        }
      ]
    },
    {
      "cell_type": "code",
      "metadata": {
        "colab": {
          "base_uri": "https://localhost:8080/",
          "height": 305
        },
        "id": "SKA45CiCa4xV",
        "outputId": "c3b529ec-69fc-4687-f41f-ee17628d6506"
      },
      "source": [
        "#讀取單一epoch成果\n",
        "def display_image(epoch_no):\n",
        "  return PIL.Image.open('image_at_epoch_{:04d}.png'.format(epoch_no))\n",
        "\n",
        "display_image(EPOCHS)"
      ],
      "execution_count": null,
      "outputs": [
        {
          "output_type": "execute_result",
          "data": {
            "image/png": "[encoded data removed]",
            "text/plain": [
              "<PIL.PngImagePlugin.PngImageFile image mode=RGBA size=288x288 at 0x7FA498EE87F0>"
            ]
          },
          "metadata": {
            "tags": []
          },
          "execution_count": 23
        }
      ]
    },
    {
      "cell_type": "code",
      "metadata": {
        "id": "x2E9BNApeScY"
      },
      "source": [
        ""
      ],
      "execution_count": null,
      "outputs": []
    }
  ]
}