{
  "nbformat": 4,
  "nbformat_minor": 0,
  "metadata": {
    "colab": {
      "name": "Untitled0.ipynb",
      "version": "0.3.2",
      "provenance": [],
      "include_colab_link": true
    },
    "kernelspec": {
      "name": "python3",
      "display_name": "Python 3"
    }
  },
  "cells": [
    {
      "cell_type": "markdown",
      "metadata": {
        "id": "view-in-github",
        "colab_type": "text"
      },
      "source": [
        "[View in Colaboratory](https://colab.research.google.com/github/reaganwei0216/data/blob/master/Untitled0.ipynb)"
      ]
    },
    {
      "metadata": {
        "id": "DGkA9xizGWfI",
        "colab_type": "code",
        "colab": {
          "base_uri": "https://localhost:8080/",
          "height": 35
        },
        "outputId": "b86dfc68-0670-4dee-dd4a-4dba5e71ea17"
      },
      "cell_type": "code",
      "source": [
        "from random import sample\n",
        "\n",
        "sample(range(1, 21), k=1)"
      ],
      "execution_count": 1,
      "outputs": [
        {
          "output_type": "execute_result",
          "data": {
            "text/plain": [
              "[16]"
            ]
          },
          "metadata": {
            "tags": []
          },
          "execution_count": 1
        }
      ]
    },
    {
      "metadata": {
        "id": "y-iBiitjGiNe",
        "colab_type": "code",
        "colab": {
          "base_uri": "https://localhost:8080/",
          "height": 35
        },
        "outputId": "2b216349-c294-4234-fd5e-8e46d1b32ce6"
      },
      "cell_type": "code",
      "source": [
        "print(\"Hello 104!\")"
      ],
      "execution_count": 6,
      "outputs": [
        {
          "output_type": "stream",
          "text": [
            "Hello 104!\n"
          ],
          "name": "stdout"
        }
      ]
    },
    {
      "metadata": {
        "id": "bZMN7cp8IqAJ",
        "colab_type": "text"
      },
      "cell_type": "markdown",
      "source": [
        "test"
      ]
    },
    {
      "metadata": {
        "id": "-57JArzqIhaH",
        "colab_type": "code",
        "colab": {
          "base_uri": "https://localhost:8080/",
          "height": 35
        },
        "outputId": "084a57c7-048f-456a-ad16-508d8f84cf13"
      },
      "cell_type": "code",
      "source": [
        "tony = \"Iron Man\"\n",
        "print(tony)"
      ],
      "execution_count": 7,
      "outputs": [
        {
          "output_type": "stream",
          "text": [
            "Iron Man\n"
          ],
          "name": "stdout"
        }
      ]
    },
    {
      "metadata": {
        "id": "bJSlGzCnJoZS",
        "colab_type": "code",
        "colab": {
          "base_uri": "https://localhost:8080/",
          "height": 35
        },
        "outputId": "4cee545f-a998-41bc-cd5a-0358d738e547"
      },
      "cell_type": "code",
      "source": [
        "tony.upper()"
      ],
      "execution_count": 9,
      "outputs": [
        {
          "output_type": "execute_result",
          "data": {
            "text/plain": [
              "'IRON MAN'"
            ]
          },
          "metadata": {
            "tags": []
          },
          "execution_count": 9
        }
      ]
    },
    {
      "metadata": {
        "id": "L7LhTtrDJrh8",
        "colab_type": "code",
        "colab": {}
      },
      "cell_type": "code",
      "source": [
        ""
      ],
      "execution_count": 0,
      "outputs": []
    },
    {
      "metadata": {
        "id": "iYM_PlgFJ79z",
        "colab_type": "text"
      },
      "cell_type": "markdown",
      "source": [
        "## 如何使用 Google Colaboratory"
      ]
    },
    {
      "metadata": {
        "id": "wBtXpr_mJ-bE",
        "colab_type": "code",
        "colab": {}
      },
      "cell_type": "code",
      "source": [
        "steve = \"Captain America\""
      ],
      "execution_count": 0,
      "outputs": []
    },
    {
      "metadata": {
        "id": "1DEBjK1nKEtz",
        "colab_type": "code",
        "colab": {
          "base_uri": "https://localhost:8080/",
          "height": 35
        },
        "outputId": "dbf071df-b32d-4fe7-e679-169ef27df402"
      },
      "cell_type": "code",
      "source": [
        "steve.split(sep=\" \")"
      ],
      "execution_count": 11,
      "outputs": [
        {
          "output_type": "execute_result",
          "data": {
            "text/plain": [
              "['Captain', 'America']"
            ]
          },
          "metadata": {
            "tags": []
          },
          "execution_count": 11
        }
      ]
    },
    {
      "metadata": {
        "id": "j8l0wLXRKUyg",
        "colab_type": "code",
        "colab": {
          "base_uri": "https://localhost:8080/",
          "height": 34
        },
        "outputId": "5d623978-4341-4b00-89d8-47a88042cbe5"
      },
      "cell_type": "code",
      "source": [
        "type(steve.split(sep=\" \"))"
      ],
      "execution_count": 13,
      "outputs": [
        {
          "output_type": "execute_result",
          "data": {
            "text/plain": [
              "list"
            ]
          },
          "metadata": {
            "tags": []
          },
          "execution_count": 13
        }
      ]
    },
    {
      "metadata": {
        "id": "x6E_BM2UKXe4",
        "colab_type": "code",
        "colab": {}
      },
      "cell_type": "code",
      "source": [
        "?range"
      ],
      "execution_count": 0,
      "outputs": []
    },
    {
      "metadata": {
        "id": "ndT2V75BKrnc",
        "colab_type": "code",
        "colab": {
          "base_uri": "https://localhost:8080/",
          "height": 34
        },
        "outputId": "108e21cb-28fb-4a71-e2f7-ada28334d964"
      },
      "cell_type": "code",
      "source": [
        "#@title 我最喜歡的漫威英雄\n",
        "\n",
        "fav_hero = \"bbb\" #@param [\"aaa\", \"bbb\"]\n",
        "print(\"我最喜歡的漫威英雄是{}\".format(fav_hero))"
      ],
      "execution_count": 19,
      "outputs": [
        {
          "output_type": "stream",
          "text": [
            "我最喜歡的漫威英雄是bbb\n"
          ],
          "name": "stdout"
        }
      ]
    },
    {
      "metadata": {
        "id": "ri5zKFFDLGOD",
        "colab_type": "code",
        "colab": {
          "base_uri": "https://localhost:8080/",
          "height": 34
        },
        "outputId": "39edfd55-867a-4312-b747-55406d49a2dd"
      },
      "cell_type": "code",
      "source": [
        "#@title 給復仇者聯盟三：無限之戰一個分數，從 0 到 10\n",
        "\n",
        "avengers_3_rating = 100 #@param {type:\"slider\", min:0, max:100, step:10}\n",
        "print(\"我給復仇者聯盟三的分數是 {}\".format(avengers_3_rating))"
      ],
      "execution_count": 21,
      "outputs": [
        {
          "output_type": "stream",
          "text": [
            "我給復仇者聯盟三的分數是 6.7\n"
          ],
          "name": "stdout"
        }
      ]
    },
    {
      "metadata": {
        "id": "-2UgKwltLib5",
        "colab_type": "code",
        "colab": {}
      },
      "cell_type": "code",
      "source": [
        "def get_bmi(height, weight):\n",
        "  \"\"\"\n",
        "  告知使用者的 BMI 與指標\n",
        "  \"\"\"\n",
        "  bmi = weight / (height*0.01)**2\n",
        "  if bmi < 18.5:\n",
        "    label = \"Underweight\"\n",
        "  elif 18.5 <= bmi < 25:\n",
        "    label = \"Normal\"\n",
        "  elif 25 <= bmi < 30:\n",
        "    label = \"Overweight\"\n",
        "  else:\n",
        "    label = \"Obese\"\n",
        "  return bmi, label"
      ],
      "execution_count": 0,
      "outputs": []
    },
    {
      "metadata": {
        "id": "ha_nFihtNkbl",
        "colab_type": "code",
        "colab": {}
      },
      "cell_type": "code",
      "source": [
        "?get_bmi"
      ],
      "execution_count": 0,
      "outputs": []
    },
    {
      "metadata": {
        "id": "cNASkOgONmxZ",
        "colab_type": "code",
        "colab": {
          "base_uri": "https://localhost:8080/",
          "height": 34
        },
        "outputId": "6acb3907-ece1-465f-d051-d3782aec5565"
      },
      "cell_type": "code",
      "source": [
        "get_bmi(172, 65)"
      ],
      "execution_count": 24,
      "outputs": [
        {
          "output_type": "execute_result",
          "data": {
            "text/plain": [
              "(21.971335857220122, 'Normal')"
            ]
          },
          "metadata": {
            "tags": []
          },
          "execution_count": 24
        }
      ]
    },
    {
      "metadata": {
        "id": "QPz0uK_cNvv6",
        "colab_type": "code",
        "colab": {
          "base_uri": "https://localhost:8080/",
          "height": 34
        },
        "outputId": "590168eb-f607-4608-b4e0-3537dd8056f6"
      },
      "cell_type": "code",
      "source": [
        "my_bmi, my_label = get_bmi(172, 65)\n",
        "print(\"我的 BMI 是 {:.2f}，指標是 {}\".format(my_bmi, my_label))"
      ],
      "execution_count": 25,
      "outputs": [
        {
          "output_type": "stream",
          "text": [
            "我的 BMI 是 21.97，指標是 Normal\n"
          ],
          "name": "stdout"
        }
      ]
    },
    {
      "metadata": {
        "id": "POMymgMGOS8e",
        "colab_type": "code",
        "colab": {
          "base_uri": "https://localhost:8080/",
          "height": 34
        },
        "outputId": "4f3cd7a6-ca6a-49f2-cb3a-dde10f2017fd"
      },
      "cell_type": "code",
      "source": [
        "!pip install numpy"
      ],
      "execution_count": 26,
      "outputs": [
        {
          "output_type": "stream",
          "text": [
            "Requirement already satisfied: numpy in /usr/local/lib/python3.6/dist-packages (1.14.5)\r\n"
          ],
          "name": "stdout"
        }
      ]
    },
    {
      "metadata": {
        "id": "lwFh97asOUux",
        "colab_type": "code",
        "colab": {
          "base_uri": "https://localhost:8080/",
          "height": 71
        },
        "outputId": "9a764276-ea69-4ee2-c1b3-e60f6139d97c"
      },
      "cell_type": "code",
      "source": [
        "import numpy as np\n",
        "\n",
        "heights = [175, 170, 165, 160, 155]\n",
        "weights = [50, 55, 60, 65, 70]\n",
        "bmis = []\n",
        "for h, w in zip(heights, weights):\n",
        "  bmis.append(w/(h*0.01)**2)\n",
        "print(bmis)\n",
        "type(bmis)"
      ],
      "execution_count": 32,
      "outputs": [
        {
          "output_type": "stream",
          "text": [
            "[16.3265306122449, 19.031141868512112, 22.038567493112943, 25.390624999999996, 29.1363163371488]\n"
          ],
          "name": "stdout"
        },
        {
          "output_type": "execute_result",
          "data": {
            "text/plain": [
              "list"
            ]
          },
          "metadata": {
            "tags": []
          },
          "execution_count": 32
        }
      ]
    },
    {
      "metadata": {
        "id": "s5JBj_OkOUyC",
        "colab_type": "code",
        "colab": {
          "base_uri": "https://localhost:8080/",
          "height": 51
        },
        "outputId": "f24a06b8-ae31-45ec-ccb3-99f90f416d24"
      },
      "cell_type": "code",
      "source": [
        "heights_arr = np.array(heights)\n",
        "weights_arr = np.array(weights)\n",
        "bmis = weights_arr / (heights_arr*0.01)**2\n",
        "print(bmis)\n",
        "type(bmis)"
      ],
      "execution_count": 30,
      "outputs": [
        {
          "output_type": "stream",
          "text": [
            "[16.32653061 19.03114187 22.03856749 25.390625   29.13631634]\n"
          ],
          "name": "stdout"
        },
        {
          "output_type": "execute_result",
          "data": {
            "text/plain": [
              "numpy.ndarray"
            ]
          },
          "metadata": {
            "tags": []
          },
          "execution_count": 30
        }
      ]
    },
    {
      "metadata": {
        "id": "VBprVm4TQgcA",
        "colab_type": "code",
        "colab": {}
      },
      "cell_type": "code",
      "source": [
        ""
      ],
      "execution_count": 0,
      "outputs": []
    },
    {
      "metadata": {
        "id": "3IAyGXI8Qgsk",
        "colab_type": "code",
        "colab": {}
      },
      "cell_type": "code",
      "source": [
        ""
      ],
      "execution_count": 0,
      "outputs": []
    }
  ]
}