{
  "nbformat": 4,
  "nbformat_minor": 0,
  "metadata": {
    "colab": {
      "name": "kuo.ipynb",
      "version": "0.3.2",
      "provenance": [],
      "include_colab_link": true
    },
    "kernelspec": {
      "name": "python3",
      "display_name": "Python 3"
    }
  },
  "cells": [
    {
      "cell_type": "markdown",
      "metadata": {
        "id": "view-in-github",
        "colab_type": "text"
      },
      "source": [
        "[View in Colaboratory](https://colab.research.google.com/github/reaganwei0216/data/blob/master/kuo.ipynb)"
      ]
    },
    {
      "metadata": {
        "id": "DGkA9xizGWfI",
        "colab_type": "code",
        "colab": {
          "base_uri": "https://localhost:8080/",
          "height": 35
        },
        "outputId": "b86dfc68-0670-4dee-dd4a-4dba5e71ea17"
      },
      "cell_type": "code",
      "source": [
        "from random import sample\n",
        "\n",
        "sample(range(1, 21), k=1)"
      ],
      "execution_count": 1,
      "outputs": [
        {
          "output_type": "execute_result",
          "data": {
            "text/plain": [
              "[16]"
            ]
          },
          "metadata": {
            "tags": []
          },
          "execution_count": 1
        }
      ]
    },
    {
      "metadata": {
        "id": "y-iBiitjGiNe",
        "colab_type": "code",
        "colab": {
          "base_uri": "https://localhost:8080/",
          "height": 35
        },
        "outputId": "2b216349-c294-4234-fd5e-8e46d1b32ce6"
      },
      "cell_type": "code",
      "source": [
        "print(\"Hello 104!\")"
      ],
      "execution_count": 6,
      "outputs": [
        {
          "output_type": "stream",
          "text": [
            "Hello 104!\n"
          ],
          "name": "stdout"
        }
      ]
    },
    {
      "metadata": {
        "id": "bZMN7cp8IqAJ",
        "colab_type": "text"
      },
      "cell_type": "markdown",
      "source": [
        "test"
      ]
    },
    {
      "metadata": {
        "id": "-57JArzqIhaH",
        "colab_type": "code",
        "colab": {
          "base_uri": "https://localhost:8080/",
          "height": 35
        },
        "outputId": "084a57c7-048f-456a-ad16-508d8f84cf13"
      },
      "cell_type": "code",
      "source": [
        "tony = \"Iron Man\"\n",
        "print(tony)"
      ],
      "execution_count": 7,
      "outputs": [
        {
          "output_type": "stream",
          "text": [
            "Iron Man\n"
          ],
          "name": "stdout"
        }
      ]
    },
    {
      "metadata": {
        "id": "bJSlGzCnJoZS",
        "colab_type": "code",
        "colab": {
          "base_uri": "https://localhost:8080/",
          "height": 35
        },
        "outputId": "4cee545f-a998-41bc-cd5a-0358d738e547"
      },
      "cell_type": "code",
      "source": [
        "tony.upper()"
      ],
      "execution_count": 9,
      "outputs": [
        {
          "output_type": "execute_result",
          "data": {
            "text/plain": [
              "'IRON MAN'"
            ]
          },
          "metadata": {
            "tags": []
          },
          "execution_count": 9
        }
      ]
    },
    {
      "metadata": {
        "id": "L7LhTtrDJrh8",
        "colab_type": "code",
        "colab": {}
      },
      "cell_type": "code",
      "source": [
        ""
      ],
      "execution_count": 0,
      "outputs": []
    },
    {
      "metadata": {
        "id": "iYM_PlgFJ79z",
        "colab_type": "text"
      },
      "cell_type": "markdown",
      "source": [
        "## 如何使用 Google Colaboratory"
      ]
    },
    {
      "metadata": {
        "id": "wBtXpr_mJ-bE",
        "colab_type": "code",
        "colab": {}
      },
      "cell_type": "code",
      "source": [
        "steve = \"Captain America\""
      ],
      "execution_count": 0,
      "outputs": []
    },
    {
      "metadata": {
        "id": "1DEBjK1nKEtz",
        "colab_type": "code",
        "colab": {
          "base_uri": "https://localhost:8080/",
          "height": 35
        },
        "outputId": "dbf071df-b32d-4fe7-e679-169ef27df402"
      },
      "cell_type": "code",
      "source": [
        "steve.split(sep=\" \")"
      ],
      "execution_count": 11,
      "outputs": [
        {
          "output_type": "execute_result",
          "data": {
            "text/plain": [
              "['Captain', 'America']"
            ]
          },
          "metadata": {
            "tags": []
          },
          "execution_count": 11
        }
      ]
    },
    {
      "metadata": {
        "id": "j8l0wLXRKUyg",
        "colab_type": "code",
        "colab": {
          "base_uri": "https://localhost:8080/",
          "height": 34
        },
        "outputId": "5d623978-4341-4b00-89d8-47a88042cbe5"
      },
      "cell_type": "code",
      "source": [
        "type(steve.split(sep=\" \"))"
      ],
      "execution_count": 13,
      "outputs": [
        {
          "output_type": "execute_result",
          "data": {
            "text/plain": [
              "list"
            ]
          },
          "metadata": {
            "tags": []
          },
          "execution_count": 13
        }
      ]
    },
    {
      "metadata": {
        "id": "x6E_BM2UKXe4",
        "colab_type": "code",
        "colab": {}
      },
      "cell_type": "code",
      "source": [
        "?range"
      ],
      "execution_count": 0,
      "outputs": []
    },
    {
      "metadata": {
        "id": "ndT2V75BKrnc",
        "colab_type": "code",
        "colab": {
          "base_uri": "https://localhost:8080/",
          "height": 34
        },
        "outputId": "108e21cb-28fb-4a71-e2f7-ada28334d964"
      },
      "cell_type": "code",
      "source": [
        "#@title 我最喜歡的漫威英雄\n",
        "\n",
        "fav_hero = \"bbb\" #@param [\"aaa\", \"bbb\"]\n",
        "print(\"我最喜歡的漫威英雄是{}\".format(fav_hero))"
      ],
      "execution_count": 19,
      "outputs": [
        {
          "output_type": "stream",
          "text": [
            "我最喜歡的漫威英雄是bbb\n"
          ],
          "name": "stdout"
        }
      ]
    },
    {
      "metadata": {
        "id": "ri5zKFFDLGOD",
        "colab_type": "code",
        "colab": {
          "base_uri": "https://localhost:8080/",
          "height": 34
        },
        "outputId": "39edfd55-867a-4312-b747-55406d49a2dd"
      },
      "cell_type": "code",
      "source": [
        "#@title 給復仇者聯盟三：無限之戰一個分數，從 0 到 10\n",
        "\n",
        "avengers_3_rating = 100 #@param {type:\"slider\", min:0, max:100, step:10}\n",
        "print(\"我給復仇者聯盟三的分數是 {}\".format(avengers_3_rating))"
      ],
      "execution_count": 21,
      "outputs": [
        {
          "output_type": "stream",
          "text": [
            "我給復仇者聯盟三的分數是 6.7\n"
          ],
          "name": "stdout"
        }
      ]
    },
    {
      "metadata": {
        "id": "-2UgKwltLib5",
        "colab_type": "code",
        "colab": {}
      },
      "cell_type": "code",
      "source": [
        "def get_bmi(height, weight):\n",
        "  \"\"\"\n",
        "  告知使用者的 BMI 與指標\n",
        "  \"\"\"\n",
        "  bmi = weight / (height*0.01)**2\n",
        "  if bmi < 18.5:\n",
        "    label = \"Underweight\"\n",
        "  elif 18.5 <= bmi < 25:\n",
        "    label = \"Normal\"\n",
        "  elif 25 <= bmi < 30:\n",
        "    label = \"Overweight\"\n",
        "  else:\n",
        "    label = \"Obese\"\n",
        "  return bmi, label"
      ],
      "execution_count": 0,
      "outputs": []
    },
    {
      "metadata": {
        "id": "ha_nFihtNkbl",
        "colab_type": "code",
        "colab": {}
      },
      "cell_type": "code",
      "source": [
        "?get_bmi"
      ],
      "execution_count": 0,
      "outputs": []
    },
    {
      "metadata": {
        "id": "cNASkOgONmxZ",
        "colab_type": "code",
        "colab": {
          "base_uri": "https://localhost:8080/",
          "height": 34
        },
        "outputId": "6acb3907-ece1-465f-d051-d3782aec5565"
      },
      "cell_type": "code",
      "source": [
        "get_bmi(172, 65)"
      ],
      "execution_count": 24,
      "outputs": [
        {
          "output_type": "execute_result",
          "data": {
            "text/plain": [
              "(21.971335857220122, 'Normal')"
            ]
          },
          "metadata": {
            "tags": []
          },
          "execution_count": 24
        }
      ]
    },
    {
      "metadata": {
        "id": "QPz0uK_cNvv6",
        "colab_type": "code",
        "colab": {
          "base_uri": "https://localhost:8080/",
          "height": 34
        },
        "outputId": "590168eb-f607-4608-b4e0-3537dd8056f6"
      },
      "cell_type": "code",
      "source": [
        "my_bmi, my_label = get_bmi(172, 65)\n",
        "print(\"我的 BMI 是 {:.2f}，指標是 {}\".format(my_bmi, my_label))"
      ],
      "execution_count": 25,
      "outputs": [
        {
          "output_type": "stream",
          "text": [
            "我的 BMI 是 21.97，指標是 Normal\n"
          ],
          "name": "stdout"
        }
      ]
    },
    {
      "metadata": {
        "id": "POMymgMGOS8e",
        "colab_type": "code",
        "colab": {
          "base_uri": "https://localhost:8080/",
          "height": 34
        },
        "outputId": "4f3cd7a6-ca6a-49f2-cb3a-dde10f2017fd"
      },
      "cell_type": "code",
      "source": [
        "!pip install numpy"
      ],
      "execution_count": 26,
      "outputs": [
        {
          "output_type": "stream",
          "text": [
            "Requirement already satisfied: numpy in /usr/local/lib/python3.6/dist-packages (1.14.5)\r\n"
          ],
          "name": "stdout"
        }
      ]
    },
    {
      "metadata": {
        "id": "lwFh97asOUux",
        "colab_type": "code",
        "colab": {
          "base_uri": "https://localhost:8080/",
          "height": 71
        },
        "outputId": "9a764276-ea69-4ee2-c1b3-e60f6139d97c"
      },
      "cell_type": "code",
      "source": [
        "import numpy as np\n",
        "\n",
        "heights = [175, 170, 165, 160, 155]\n",
        "weights = [50, 55, 60, 65, 70]\n",
        "bmis = []\n",
        "for h, w in zip(heights, weights):\n",
        "  bmis.append(w/(h*0.01)**2)\n",
        "print(bmis)\n",
        "type(bmis)"
      ],
      "execution_count": 32,
      "outputs": [
        {
          "output_type": "stream",
          "text": [
            "[16.3265306122449, 19.031141868512112, 22.038567493112943, 25.390624999999996, 29.1363163371488]\n"
          ],
          "name": "stdout"
        },
        {
          "output_type": "execute_result",
          "data": {
            "text/plain": [
              "list"
            ]
          },
          "metadata": {
            "tags": []
          },
          "execution_count": 32
        }
      ]
    },
    {
      "metadata": {
        "id": "s5JBj_OkOUyC",
        "colab_type": "code",
        "colab": {
          "base_uri": "https://localhost:8080/",
          "height": 51
        },
        "outputId": "f24a06b8-ae31-45ec-ccb3-99f90f416d24"
      },
      "cell_type": "code",
      "source": [
        "heights_arr = np.array(heights)\n",
        "weights_arr = np.array(weights)\n",
        "bmis = weights_arr / (heights_arr*0.01)**2\n",
        "print(bmis)\n",
        "type(bmis)"
      ],
      "execution_count": 30,
      "outputs": [
        {
          "output_type": "stream",
          "text": [
            "[16.32653061 19.03114187 22.03856749 25.390625   29.13631634]\n"
          ],
          "name": "stdout"
        },
        {
          "output_type": "execute_result",
          "data": {
            "text/plain": [
              "numpy.ndarray"
            ]
          },
          "metadata": {
            "tags": []
          },
          "execution_count": 30
        }
      ]
    },
    {
      "metadata": {
        "id": "p8GjGBF3RhbF",
        "colab_type": "code",
        "colab": {
          "base_uri": "https://localhost:8080/",
          "height": 34
        },
        "outputId": "d95b9248-3412-4a6c-9632-7a38b81721c8"
      },
      "cell_type": "code",
      "source": [
        "np.arange(10)"
      ],
      "execution_count": 35,
      "outputs": [
        {
          "output_type": "execute_result",
          "data": {
            "text/plain": [
              "array([0, 1, 2, 3, 4, 5, 6, 7, 8, 9])"
            ]
          },
          "metadata": {
            "tags": []
          },
          "execution_count": 35
        }
      ]
    },
    {
      "metadata": {
        "id": "VBprVm4TQgcA",
        "colab_type": "code",
        "colab": {
          "base_uri": "https://localhost:8080/",
          "height": 190
        },
        "outputId": "74aa104c-f8ec-4b48-9dd8-1e33caf6ea5f"
      },
      "cell_type": "code",
      "source": [
        "np.arange(10).reshape(10, 1)"
      ],
      "execution_count": 33,
      "outputs": [
        {
          "output_type": "execute_result",
          "data": {
            "text/plain": [
              "array([[0],\n",
              "       [1],\n",
              "       [2],\n",
              "       [3],\n",
              "       [4],\n",
              "       [5],\n",
              "       [6],\n",
              "       [7],\n",
              "       [8],\n",
              "       [9]])"
            ]
          },
          "metadata": {
            "tags": []
          },
          "execution_count": 33
        }
      ]
    },
    {
      "metadata": {
        "id": "3IAyGXI8Qgsk",
        "colab_type": "code",
        "colab": {
          "base_uri": "https://localhost:8080/",
          "height": 51
        },
        "outputId": "195edbbc-c9c3-44d3-d54e-2949fcad3141"
      },
      "cell_type": "code",
      "source": [
        "np.arange(10).reshape(2, 5)"
      ],
      "execution_count": 36,
      "outputs": [
        {
          "output_type": "execute_result",
          "data": {
            "text/plain": [
              "array([[0, 1, 2, 3, 4],\n",
              "       [5, 6, 7, 8, 9]])"
            ]
          },
          "metadata": {
            "tags": []
          },
          "execution_count": 36
        }
      ]
    },
    {
      "metadata": {
        "id": "m3SelIU-Rru9",
        "colab_type": "code",
        "colab": {
          "base_uri": "https://localhost:8080/",
          "height": 34
        },
        "outputId": "ff1c5411-646d-4fdf-c032-f40a1c3afe0d"
      },
      "cell_type": "code",
      "source": [
        "type(np.arange(24).reshape(2, 3, 4))"
      ],
      "execution_count": 37,
      "outputs": [
        {
          "output_type": "execute_result",
          "data": {
            "text/plain": [
              "numpy.ndarray"
            ]
          },
          "metadata": {
            "tags": []
          },
          "execution_count": 37
        }
      ]
    },
    {
      "metadata": {
        "id": "5beXW8B7RvhQ",
        "colab_type": "code",
        "colab": {
          "base_uri": "https://localhost:8080/",
          "height": 138
        },
        "outputId": "9d66c4db-e818-4007-a047-b34a9212c2bd"
      },
      "cell_type": "code",
      "source": [
        "np.arange(24).reshape(2, 3, 4)"
      ],
      "execution_count": 38,
      "outputs": [
        {
          "output_type": "execute_result",
          "data": {
            "text/plain": [
              "array([[[ 0,  1,  2,  3],\n",
              "        [ 4,  5,  6,  7],\n",
              "        [ 8,  9, 10, 11]],\n",
              "\n",
              "       [[12, 13, 14, 15],\n",
              "        [16, 17, 18, 19],\n",
              "        [20, 21, 22, 23]]])"
            ]
          },
          "metadata": {
            "tags": []
          },
          "execution_count": 38
        }
      ]
    },
    {
      "metadata": {
        "id": "ZxDMfzU5Rzsx",
        "colab_type": "code",
        "colab": {
          "base_uri": "https://localhost:8080/",
          "height": 123
        },
        "outputId": "7581f0a0-bedf-4fbe-f4f2-af42fd9b94cc"
      },
      "cell_type": "code",
      "source": [
        "!pip install pandas"
      ],
      "execution_count": 39,
      "outputs": [
        {
          "output_type": "stream",
          "text": [
            "Requirement already satisfied: pandas in /usr/local/lib/python3.6/dist-packages (0.22.0)\r\n",
            "Requirement already satisfied: numpy>=1.9.0 in /usr/local/lib/python3.6/dist-packages (from pandas) (1.14.5)\r\n",
            "Requirement already satisfied: python-dateutil>=2 in /usr/local/lib/python3.6/dist-packages (from pandas) (2.5.3)\r\n",
            "Requirement already satisfied: pytz>=2011k in /usr/local/lib/python3.6/dist-packages (from pandas) (2018.4)\r\n",
            "Requirement already satisfied: six>=1.5 in /usr/local/lib/python3.6/dist-packages (from python-dateutil>=2->pandas) (1.11.0)\r\n"
          ],
          "name": "stdout"
        }
      ]
    },
    {
      "metadata": {
        "id": "eWB_8AdkR4qW",
        "colab_type": "code",
        "colab": {
          "base_uri": "https://localhost:8080/",
          "height": 140
        },
        "outputId": "e867ae19-c228-43b2-9bca-e7367d9336d6"
      },
      "cell_type": "code",
      "source": [
        "import pandas as pd\n",
        "\n",
        "avengers = [\"Iron Man\", \"Captain America\", \"Black Panther\"]\n",
        "characters = [\"Tony Stark\", \"Steve Rogers\", \"T'Challa\"]\n",
        "df = pd.DataFrame()\n",
        "df[\"avenger\"] = avengers\n",
        "df[\"character\"] = characters\n",
        "df"
      ],
      "execution_count": 40,
      "outputs": [
        {
          "output_type": "execute_result",
          "data": {
            "text/html": [
              "<div>\n",
              "<style scoped>\n",
              "    .dataframe tbody tr th:only-of-type {\n",
              "        vertical-align: middle;\n",
              "    }\n",
              "\n",
              "    .dataframe tbody tr th {\n",
              "        vertical-align: top;\n",
              "    }\n",
              "\n",
              "    .dataframe thead th {\n",
              "        text-align: right;\n",
              "    }\n",
              "</style>\n",
              "<table border=\"1\" class=\"dataframe\">\n",
              "  <thead>\n",
              "    <tr style=\"text-align: right;\">\n",
              "      <th></th>\n",
              "      <th>avenger</th>\n",
              "      <th>character</th>\n",
              "    </tr>\n",
              "  </thead>\n",
              "  <tbody>\n",
              "    <tr>\n",
              "      <th>0</th>\n",
              "      <td>Iron Man</td>\n",
              "      <td>Tony Stark</td>\n",
              "    </tr>\n",
              "    <tr>\n",
              "      <th>1</th>\n",
              "      <td>Captain America</td>\n",
              "      <td>Steve Rogers</td>\n",
              "    </tr>\n",
              "    <tr>\n",
              "      <th>2</th>\n",
              "      <td>Black Panther</td>\n",
              "      <td>T'Challa</td>\n",
              "    </tr>\n",
              "  </tbody>\n",
              "</table>\n",
              "</div>"
            ],
            "text/plain": [
              "           avenger     character\n",
              "0         Iron Man    Tony Stark\n",
              "1  Captain America  Steve Rogers\n",
              "2    Black Panther      T'Challa"
            ]
          },
          "metadata": {
            "tags": []
          },
          "execution_count": 40
        }
      ]
    },
    {
      "metadata": {
        "id": "w6WvQFZASR60",
        "colab_type": "code",
        "colab": {
          "base_uri": "https://localhost:8080/",
          "height": 34
        },
        "outputId": "3a06a99b-a4be-4506-d903-3586aacfb294"
      },
      "cell_type": "code",
      "source": [
        "type(df)"
      ],
      "execution_count": 41,
      "outputs": [
        {
          "output_type": "execute_result",
          "data": {
            "text/plain": [
              "pandas.core.frame.DataFrame"
            ]
          },
          "metadata": {
            "tags": []
          },
          "execution_count": 41
        }
      ]
    },
    {
      "metadata": {
        "id": "DtbGQy9LSfew",
        "colab_type": "code",
        "colab": {
          "base_uri": "https://localhost:8080/",
          "height": 86
        },
        "outputId": "28b655b2-f204-41d7-a17c-2d38579d0e9a"
      },
      "cell_type": "code",
      "source": [
        "df['avenger']"
      ],
      "execution_count": 42,
      "outputs": [
        {
          "output_type": "execute_result",
          "data": {
            "text/plain": [
              "0           Iron Man\n",
              "1    Captain America\n",
              "2      Black Panther\n",
              "Name: avenger, dtype: object"
            ]
          },
          "metadata": {
            "tags": []
          },
          "execution_count": 42
        }
      ]
    },
    {
      "metadata": {
        "id": "2Jpf52eoSo1x",
        "colab_type": "code",
        "colab": {
          "base_uri": "https://localhost:8080/",
          "height": 34
        },
        "outputId": "29e0ca52-debd-499d-82ed-3b5f9f5a9ed6"
      },
      "cell_type": "code",
      "source": [
        "type(df[\"avenger\"])"
      ],
      "execution_count": 43,
      "outputs": [
        {
          "output_type": "execute_result",
          "data": {
            "text/plain": [
              "pandas.core.series.Series"
            ]
          },
          "metadata": {
            "tags": []
          },
          "execution_count": 43
        }
      ]
    },
    {
      "metadata": {
        "id": "Lg5nF58XSwkH",
        "colab_type": "code",
        "colab": {
          "base_uri": "https://localhost:8080/",
          "height": 34
        },
        "outputId": "fac71ad4-a012-40da-fe5b-17b046759c2e"
      },
      "cell_type": "code",
      "source": [
        "type(df[\"avenger\"].values)"
      ],
      "execution_count": 44,
      "outputs": [
        {
          "output_type": "execute_result",
          "data": {
            "text/plain": [
              "numpy.ndarray"
            ]
          },
          "metadata": {
            "tags": []
          },
          "execution_count": 44
        }
      ]
    },
    {
      "metadata": {
        "id": "3qbgyZYeSxls",
        "colab_type": "code",
        "colab": {
          "base_uri": "https://localhost:8080/",
          "height": 34
        },
        "outputId": "db2287ea-2790-487c-8d09-da89b449f676"
      },
      "cell_type": "code",
      "source": [
        "df.index"
      ],
      "execution_count": 45,
      "outputs": [
        {
          "output_type": "execute_result",
          "data": {
            "text/plain": [
              "RangeIndex(start=0, stop=3, step=1)"
            ]
          },
          "metadata": {
            "tags": []
          },
          "execution_count": 45
        }
      ]
    },
    {
      "metadata": {
        "id": "NpogShiISxoq",
        "colab_type": "code",
        "colab": {
          "base_uri": "https://localhost:8080/",
          "height": 86
        },
        "outputId": "ab8f1e93-b420-4b60-8884-f9bbd48b5e9b"
      },
      "cell_type": "code",
      "source": [
        "df[\"character\"] == \"Tony Stark\""
      ],
      "execution_count": 46,
      "outputs": [
        {
          "output_type": "execute_result",
          "data": {
            "text/plain": [
              "0     True\n",
              "1    False\n",
              "2    False\n",
              "Name: character, dtype: bool"
            ]
          },
          "metadata": {
            "tags": []
          },
          "execution_count": 46
        }
      ]
    },
    {
      "metadata": {
        "id": "v2LtYXDuSxrm",
        "colab_type": "code",
        "colab": {
          "base_uri": "https://localhost:8080/",
          "height": 79
        },
        "outputId": "08421ba5-5b82-4e71-83c3-677ba2ea76bb"
      },
      "cell_type": "code",
      "source": [
        "df[df[\"character\"] == \"Tony Stark\"]"
      ],
      "execution_count": 48,
      "outputs": [
        {
          "output_type": "execute_result",
          "data": {
            "text/html": [
              "<div>\n",
              "<style scoped>\n",
              "    .dataframe tbody tr th:only-of-type {\n",
              "        vertical-align: middle;\n",
              "    }\n",
              "\n",
              "    .dataframe tbody tr th {\n",
              "        vertical-align: top;\n",
              "    }\n",
              "\n",
              "    .dataframe thead th {\n",
              "        text-align: right;\n",
              "    }\n",
              "</style>\n",
              "<table border=\"1\" class=\"dataframe\">\n",
              "  <thead>\n",
              "    <tr style=\"text-align: right;\">\n",
              "      <th></th>\n",
              "      <th>avenger</th>\n",
              "      <th>character</th>\n",
              "    </tr>\n",
              "  </thead>\n",
              "  <tbody>\n",
              "    <tr>\n",
              "      <th>0</th>\n",
              "      <td>Iron Man</td>\n",
              "      <td>Tony Stark</td>\n",
              "    </tr>\n",
              "  </tbody>\n",
              "</table>\n",
              "</div>"
            ],
            "text/plain": [
              "    avenger   character\n",
              "0  Iron Man  Tony Stark"
            ]
          },
          "metadata": {
            "tags": []
          },
          "execution_count": 48
        }
      ]
    },
    {
      "metadata": {
        "id": "J8o882tmSxv1",
        "colab_type": "code",
        "colab": {
          "base_uri": "https://localhost:8080/",
          "height": 193
        },
        "outputId": "79b70e87-0c1c-48c7-f1dd-bb043de01829"
      },
      "cell_type": "code",
      "source": [
        "!pip install pyquery"
      ],
      "execution_count": 49,
      "outputs": [
        {
          "output_type": "stream",
          "text": [
            "Collecting pyquery\n",
            "  Downloading https://files.pythonhosted.org/packages/09/c7/ce8c9c37ab8ff8337faad3335c088d60bed4a35a4bed33a64f0e64fbcf29/pyquery-1.4.0-py2.py3-none-any.whl\n",
            "Collecting lxml>=2.1 (from pyquery)\n",
            "\u001b[?25l  Downloading https://files.pythonhosted.org/packages/fe/71/640d6b3f911184bbd3b92b78478b770630f07d58f3c3bcd67d244bd616d1/lxml-4.2.2-cp36-cp36m-manylinux1_x86_64.whl (5.9MB)\n",
            "\u001b[K    100% |████████████████████████████████| 5.9MB 6.5MB/s \n",
            "\u001b[?25hCollecting cssselect>0.7.9 (from pyquery)\n",
            "  Downloading https://files.pythonhosted.org/packages/7b/44/25b7283e50585f0b4156960691d951b05d061abf4a714078393e51929b30/cssselect-1.0.3-py2.py3-none-any.whl\n",
            "Installing collected packages: lxml, cssselect, pyquery\n",
            "Successfully installed cssselect-1.0.3 lxml-4.2.2 pyquery-1.4.0\n"
          ],
          "name": "stdout"
        }
      ]
    },
    {
      "metadata": {
        "id": "gd12pkyjTgVa",
        "colab_type": "code",
        "colab": {
          "base_uri": "https://localhost:8080/",
          "height": 34
        },
        "outputId": "45f4c56d-8fb3-437f-fd30-284fa502ac96"
      },
      "cell_type": "code",
      "source": [
        "from pyquery import PyQuery as pq\n",
        "\n",
        "rating_css = \"strong span\"\n",
        "html_doc = pq(\"https://www.imdb.com/title/tt4154756\")\n",
        "rating = html_doc(rating_css).text()\n",
        "rating = float(rating)\n",
        "rating"
      ],
      "execution_count": 54,
      "outputs": [
        {
          "output_type": "execute_result",
          "data": {
            "text/plain": [
              "8.8"
            ]
          },
          "metadata": {
            "tags": []
          },
          "execution_count": 54
        }
      ]
    },
    {
      "metadata": {
        "id": "kH4k886-TgYs",
        "colab_type": "code",
        "colab": {}
      },
      "cell_type": "code",
      "source": [
        "from pyquery import PyQuery as pq\n",
        "\n",
        "def get_movie_info(movie_url):\n",
        "  \"\"\"\n",
        "  get movie info\n",
        "  \"\"\"\n",
        "  rating_css = \"strong span\"\n",
        "  genre_css = \".subtext .itemprop\"\n",
        "  cast_css = \".itemprop .itemprop\"\n",
        "  html_doc = pq(movie_url)\n",
        "  rating = html_doc(rating_css).text()\n",
        "  rating = float(rating)\n",
        "  rating\n",
        "  genre = [g.text for g in html_doc(genre_css)]\n",
        "  genre\n",
        "  cast = [c.text for c in html_doc(cast_css)]\n",
        "  movie_info = {\n",
        "      \"rating\": rating,\n",
        "      \"genre\": genre,\n",
        "      \"cast\": cast\n",
        "  }\n",
        "  return(movie_info)"
      ],
      "execution_count": 0,
      "outputs": []
    },
    {
      "metadata": {
        "id": "-eumMxZhTgeD",
        "colab_type": "code",
        "colab": {
          "base_uri": "https://localhost:8080/",
          "height": 311
        },
        "outputId": "418ee042-1505-4026-96c4-a3baeabdb854"
      },
      "cell_type": "code",
      "source": [
        "get_movie_info(\"https://www.imdb.com/title/tt4154756\")"
      ],
      "execution_count": 56,
      "outputs": [
        {
          "output_type": "execute_result",
          "data": {
            "text/plain": [
              "{'cast': ['Robert Downey Jr.',\n",
              "  'Chris Hemsworth',\n",
              "  'Mark Ruffalo',\n",
              "  'Chris Evans',\n",
              "  'Scarlett Johansson',\n",
              "  'Don Cheadle',\n",
              "  'Benedict Cumberbatch',\n",
              "  'Tom Holland',\n",
              "  'Chadwick Boseman',\n",
              "  'Zoe Saldana',\n",
              "  'Karen Gillan',\n",
              "  'Tom Hiddleston',\n",
              "  'Paul Bettany',\n",
              "  'Elizabeth Olsen',\n",
              "  'Anthony Mackie'],\n",
              " 'genre': ['Action', 'Adventure', 'Fantasy'],\n",
              " 'rating': 8.8}"
            ]
          },
          "metadata": {
            "tags": []
          },
          "execution_count": 56
        }
      ]
    },
    {
      "metadata": {
        "id": "-UdmaxuWTgcZ",
        "colab_type": "code",
        "colab": {
          "base_uri": "https://localhost:8080/",
          "height": 311
        },
        "outputId": "7a42d0be-2428-422d-d78b-6ee040ccb90f"
      },
      "cell_type": "code",
      "source": [
        "get_movie_info(\"https://www.imdb.com/title/tt1825683\")"
      ],
      "execution_count": 57,
      "outputs": [
        {
          "output_type": "execute_result",
          "data": {
            "text/plain": [
              "{'cast': ['Chadwick Boseman',\n",
              "  'Michael B. Jordan',\n",
              "  \"Lupita Nyong'o\",\n",
              "  'Danai Gurira',\n",
              "  'Martin Freeman',\n",
              "  'Daniel Kaluuya',\n",
              "  'Letitia Wright',\n",
              "  'Winston Duke',\n",
              "  'Sterling K. Brown',\n",
              "  'Angela Bassett',\n",
              "  'Forest Whitaker',\n",
              "  'Andy Serkis',\n",
              "  'Florence Kasumba',\n",
              "  'John Kani',\n",
              "  'David S. Lee'],\n",
              " 'genre': ['Action', 'Adventure', 'Sci-Fi'],\n",
              " 'rating': 7.5}"
            ]
          },
          "metadata": {
            "tags": []
          },
          "execution_count": 57
        }
      ]
    },
    {
      "metadata": {
        "id": "8AmNlmVISxzD",
        "colab_type": "code",
        "colab": {}
      },
      "cell_type": "code",
      "source": [
        ""
      ],
      "execution_count": 0,
      "outputs": []
    },
    {
      "metadata": {
        "id": "SLwb-KDBSx2W",
        "colab_type": "code",
        "colab": {}
      },
      "cell_type": "code",
      "source": [
        ""
      ],
      "execution_count": 0,
      "outputs": []
    },
    {
      "metadata": {
        "id": "UmQLqpG8SxuU",
        "colab_type": "code",
        "colab": {}
      },
      "cell_type": "code",
      "source": [
        ""
      ],
      "execution_count": 0,
      "outputs": []
    }
  ]
}