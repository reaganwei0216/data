{
  "cells": [
    {
      "cell_type": "code",
      "source": [
        "#@title Mount Google Drive\n",
        "from google.colab import drive\n",
        "drive.mount('/content/drive')"
      ],
      "metadata": {
        "id": "uMWS5EcEGR8g",
        "outputId": "de2c2e0b-cd1b-4c67-8a31-cc2e24188849",
        "colab": {
          "base_uri": "https://localhost:8080/"
        }
      },
      "execution_count": null,
      "outputs": [
        {
          "output_type": "stream",
          "name": "stdout",
          "text": [
            "Mounted at /content/drive\n"
          ]
        }
      ]
    },
    {
      "cell_type": "code",
      "source": [
        "cmd =f\"mv /content/cc.zh.300.bin.gz.txt /content/cc.zh.300.bin.gz\"\n",
        "! $cmd"
      ],
      "metadata": {
        "id": "FbpTERChGSsQ"
      },
      "execution_count": null,
      "outputs": []
    },
    {
      "cell_type": "code",
      "source": [
        "!gunzip cc.zh.300.bin.gz"
      ],
      "metadata": {
        "id": "0NFMUBZ7GSvC"
      },
      "execution_count": null,
      "outputs": []
    },
    {
      "cell_type": "code",
      "source": [
        "from gensim.models.fasttext import FastText\n",
        "model = FastText.load_fasttext_format('cc.zh.300.bin')"
      ],
      "metadata": {
        "id": "ytnNCJebGt64"
      },
      "execution_count": null,
      "outputs": []
    },
    {
      "cell_type": "code",
      "source": [
        "model"
      ],
      "metadata": {
        "id": "UMRgtoYFIhD6",
        "outputId": "76833f98-30ef-47cf-8620-29bed8279bbf",
        "colab": {
          "base_uri": "https://localhost:8080/"
        }
      },
      "execution_count": null,
      "outputs": [
        {
          "output_type": "execute_result",
          "data": {
            "text/plain": [
              "<gensim.models.fasttext.FastText at 0x7f8f33af9790>"
            ]
          },
          "metadata": {},
          "execution_count": 5
        }
      ]
    },
    {
      "cell_type": "code",
      "source": [
        "import warnings\n",
        "warnings.filterwarnings(\"ignore\", category=FutureWarning)"
      ],
      "metadata": {
        "id": "gWU-q8oAH5Hi"
      },
      "execution_count": null,
      "outputs": []
    },
    {
      "cell_type": "code",
      "source": [
        "# 我們的模型裡面有多少個詞\n",
        "len(model.wv.vocab)"
      ],
      "metadata": {
        "id": "9Z3C3GuXH51f",
        "outputId": "82b59349-0944-4b7a-eb4a-8a07d1645ba9",
        "colab": {
          "base_uri": "https://localhost:8080/"
        }
      },
      "execution_count": null,
      "outputs": [
        {
          "output_type": "execute_result",
          "data": {
            "text/plain": [
              "2000000"
            ]
          },
          "metadata": {},
          "execution_count": 7
        }
      ]
    },
    {
      "cell_type": "code",
      "source": [
        "word = \"\\u53F0\\u7063\"#@param {type:\"string\"}\n",
        "print(word, \"長這樣:\")\n",
        "model.wv[word]"
      ],
      "metadata": {
        "id": "9RrNWSQdH534"
      },
      "execution_count": null,
      "outputs": []
    },
    {
      "cell_type": "code",
      "source": [
        "#@title 找出相似詞!!!\n",
        "\n",
        "text = '\\u53F0\\u7063' #@param {type:\"string\"}\n",
        "model.wv.most_similar(text)"
      ],
      "metadata": {
        "id": "YqAocOR5H5KC",
        "outputId": "c51df5d5-6c04-4e82-b462-80ecded449f5",
        "colab": {
          "base_uri": "https://localhost:8080/"
        }
      },
      "execution_count": null,
      "outputs": [
        {
          "output_type": "execute_result",
          "data": {
            "text/plain": [
              "[('臺灣', 0.8362592458724976),\n",
              " ('為臺灣', 0.6565476655960083),\n",
              " ('台灣與', 0.652172327041626),\n",
              " ('台灣還', 0.6478472352027893),\n",
              " ('美國', 0.6477651596069336),\n",
              " ('台湾', 0.6421438455581665),\n",
              " ('中國', 0.6415499448776245),\n",
              " ('台彎', 0.6296838521957397),\n",
              " ('與臺灣', 0.6192030906677246),\n",
              " ('台灣現', 0.6169569492340088)]"
            ]
          },
          "metadata": {},
          "execution_count": 10
        }
      ]
    },
    {
      "cell_type": "code",
      "source": [
        "#@title 比較兩個特定詞的相似度\n",
        "\n",
        "text1 = '\\u53F0\\u7063' #@param {type:\"string\"}\n",
        "text2 = '\\u4E2D\\u570B' #@param {type:\"string\"}\n",
        "model.wv.similarity(text1, text2)"
      ],
      "metadata": {
        "id": "P2n0D3TCGt9o",
        "outputId": "e10ad8c0-06ee-4bb0-dd74-c66bff80f573",
        "colab": {
          "base_uri": "https://localhost:8080/"
        }
      },
      "execution_count": null,
      "outputs": [
        {
          "output_type": "execute_result",
          "data": {
            "text/plain": [
              "0.64154994"
            ]
          },
          "metadata": {},
          "execution_count": 11
        }
      ]
    },
    {
      "cell_type": "code",
      "source": [
        "#@title 找到不是同一掛的詞\n",
        "\n",
        "text1 = '\\u53F0\\u7063' #@param {type:\"string\"}\n",
        "text2 = '\\u65E5\\u672C' #@param {type:\"string\"}\n",
        "text3 = '\\u7F8E\\u570B' #@param {type:\"string\"}\n",
        "text4 = '\\u4E2D\\u570B' #@param {type:\"string\"}\n",
        "\n",
        "notmatch = model.wv.doesnt_match([text1, text2, text3, text4])\n",
        "print(\"不是同一掛的:\", notmatch)"
      ],
      "metadata": {
        "id": "axxCw_tYGuAE",
        "outputId": "0925e347-4131-4be9-9f03-fda2dd83876a",
        "colab": {
          "base_uri": "https://localhost:8080/"
        }
      },
      "execution_count": null,
      "outputs": [
        {
          "output_type": "stream",
          "name": "stdout",
          "text": [
            "不是同一掛的: 日本\n"
          ]
        }
      ]
    },
    {
      "cell_type": "code",
      "source": [
        "#@title 給電腦做智力測驗(詞1 - 詞3 = ? - 詞2)\n",
        "\n",
        "# text1 + text2 - text3 = ?\n",
        "# text1 - text3 = ? - text2\n",
        "text1 = 'king' #@param {type:\"string\"}\n",
        "text2 = 'woman' #@param {type:\"string\"}\n",
        "text3 = 'man' #@param {type:\"string\"}\n",
        "question = model.wv.most_similar(positive=[text1, text2], negative=[text3])\n",
        "print(text1, \"-\", text3, \"=\", \"?\", \"-\", text2)\n",
        "question"
      ],
      "metadata": {
        "id": "G8zB4fLCGuCs",
        "outputId": "928f84ce-f652-4b66-f622-10881cac13a7",
        "colab": {
          "base_uri": "https://localhost:8080/"
        }
      },
      "execution_count": null,
      "outputs": [
        {
          "output_type": "stream",
          "name": "stdout",
          "text": [
            "king - man = ? - woman\n"
          ]
        },
        {
          "output_type": "execute_result",
          "data": {
            "text/plain": [
              "[('Queen', 0.47597557306289673),\n",
              " ('queen', 0.4628932476043701),\n",
              " ('crown', 0.44457292556762695),\n",
              " ('crowned', 0.4357331395149231),\n",
              " ('fools', 0.4278017282485962),\n",
              " ('kings', 0.4216810464859009),\n",
              " ('sweetest', 0.42113667726516724),\n",
              " ('crowns', 0.4130510687828064),\n",
              " ('desperado', 0.41293561458587646),\n",
              " ('weeping', 0.40486544370651245)]"
            ]
          },
          "metadata": {},
          "execution_count": 14
        }
      ]
    },
    {
      "cell_type": "code",
      "source": [
        "text1 = \"\\u53F0\\u7063\"#@param {type:\"string\"}\n",
        "text2 = '\\u7F8E\\u570B' #@param {type:\"string\"}\n",
        "print(text1 +\" 有在字典裡?\", text1 in model.wv.vocab)\n",
        "print(text2 +\" 有在字典裡?\", text2 in model.wv.vocab)\n",
        "model.wv.similarity(text, text2)"
      ],
      "metadata": {
        "id": "YLlZ9NOHGuFJ",
        "outputId": "4b72bc08-d87d-433d-98fe-ae65261ae3e2",
        "colab": {
          "base_uri": "https://localhost:8080/"
        }
      },
      "execution_count": null,
      "outputs": [
        {
          "output_type": "stream",
          "name": "stdout",
          "text": [
            "台灣 有在字典裡? True\n",
            "美國 有在字典裡? True\n"
          ]
        },
        {
          "output_type": "execute_result",
          "data": {
            "text/plain": [
              "0.10815601"
            ]
          },
          "metadata": {},
          "execution_count": 23
        }
      ]
    },
    {
      "cell_type": "code",
      "source": [
        ""
      ],
      "metadata": {
        "id": "BLQN_a1uGuHq"
      },
      "execution_count": null,
      "outputs": []
    },
    {
      "cell_type": "code",
      "source": [
        ""
      ],
      "metadata": {
        "id": "i_CLWaNDGuPV"
      },
      "execution_count": null,
      "outputs": []
    }
  ],
  "metadata": {
    "colab": {
      "collapsed_sections": [],
      "name": "實作一ChineseNLU_word2vec.ipynb",
      "provenance": []
    },
    "kernelspec": {
      "display_name": "Python 3",
      "name": "python3"
    }
  },
  "nbformat": 4,
  "nbformat_minor": 0
}