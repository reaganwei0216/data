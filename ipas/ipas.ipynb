{
 "cells": [
  {
   "cell_type": "markdown",
   "id": "04b19c0b",
   "metadata": {},
   "source": [
    "# 題目一：文字資料處理 "
   ]
  },
  {
   "cell_type": "markdown",
   "id": "81a37c42",
   "metadata": {},
   "source": [
    "## 20% 小題一：透過程式產生重複資料 "
   ]
  },
  {
   "cell_type": "code",
   "execution_count": 3,
   "id": "6d88965e",
   "metadata": {},
   "outputs": [
    {
     "name": "stdout",
     "output_type": "stream",
     "text": [
      "https://iii-bid.com?page=1&q=iphone\n",
      "https://iii-bid.com?page=2&q=iphone\n",
      "https://iii-bid.com?page=3&q=iphone\n",
      "https://iii-bid.com?page=4&q=iphone\n",
      "https://iii-bid.com?page=5&q=iphone\n",
      "https://iii-bid.com?page=6&q=iphone\n",
      "https://iii-bid.com?page=7&q=iphone\n",
      "https://iii-bid.com?page=8&q=iphone\n",
      "https://iii-bid.com?page=9&q=iphone\n",
      "https://iii-bid.com?page=10&q=iphone\n"
     ]
    }
   ],
   "source": [
    "for i in range(1,11):\n",
    "    print(\"https://iii-bid.com?page=\"+str(i)+\"&q=iphone\" )"
   ]
  },
  {
   "cell_type": "code",
   "execution_count": 387,
   "id": "9d5be5ac",
   "metadata": {},
   "outputs": [],
   "source": [
    "import json"
   ]
  },
  {
   "cell_type": "code",
   "execution_count": 388,
   "id": "e3508e0f",
   "metadata": {},
   "outputs": [],
   "source": [
    "??json"
   ]
  },
  {
   "cell_type": "code",
   "execution_count": 368,
   "id": "810af864",
   "metadata": {},
   "outputs": [
    {
     "data": {
      "text/plain": [
       "{'QTime': 73,\n",
       " 'totalRows': 163547,\n",
       " 'totalPage': 100,\n",
       " 'range': {'min': '', 'max': ''},\n",
       " 'cateName': '',\n",
       " 'q': 'iphone',\n",
       " 'subq': '',\n",
       " 'token': ['iphone'],\n",
       " 'prods': [{'Id': 'DYAF13-A9007Z1GM',\n",
       "   'cateId': 'DYAF13',\n",
       "   'picB': '000001_1489735402.jpg',\n",
       "   'name': '2 in 1 bamboo charging base Apple Watch+iPhone charging stand / mobile phone holder',\n",
       "   'describe': '2 in 1 bamboo charging base Apple Watch+iPhone charging stand / mobile phone holder for iPhone7/7plus/6S/6S Plus/6/6 Plus/5 birthday gift  mobile phone + Apple watch watch charging base\\r has a small and lightweight features   suitable for the office, home   easy to charge the apple watch',\n",
       "   'price': 399},\n",
       "  {'Id': 'DYAJDR-19009JGT8',\n",
       "   'cateId': 'DYAJDT',\n",
       "   'picB': '000001_1555383734.jpg',\n",
       "   'name': 'Apple iPhone Xs Max (256G)-Gold (MT552TA/A)',\n",
       "   'describe': 'Gold send glass to protect Apple iPhone Xs Max (256G) - gold  market price $ 45500. Special offer 4 $41999  Buy now the province $3501 iphone xs max screen The diagonal length is 6.46 . The actual viewable area may be small. Related Note Because this product is a special 3c product, after the product is connected to the Internet (including wifi), login to the apple id or link to itunes, this The item is registered and begins to calculate the product warranty time, and the warranty date of the item is calculated after registration and cannot be restored! In the future, when the return is required, the company confirms that if the product has been opened for warranty, additional fees may be required. Do not connect this item to the Internet until you are sure you want to return it, to avoid inadvertently starting the warranty period. If you claim the seven-day appreciation period, please restore the original product including packaging, accessories, etc.; once the product is registered, you may need to pay additional fees.',\n",
       "   'price': 41999},\n",
       "  {'Id': 'DYAJDN-A9009N87T',\n",
       "   'cateId': 'DYAJDN',\n",
       "   'picB': '000001_1555379017.jpg',\n",
       "   'name': 'Apple iPhone XR (64G) - Red (MRY62TA/A)',\n",
       "   'describe': 'Daily strongmad kill sale  red  send wireless charging board Apple iPhone XR (64G) - red  only one day  limited time mad The display has a rounded corner design. When measuring in a rectangular shape, the diagonal length of the iphone xr screen is 6.06 . The actual viewable area may be small. The anti-splash and water-repellent functions are non-permanent and may decrease with the wear and tear caused by daily use. Do not charge your wet iPhone; refer to the instruction manual for cleaning and drying instructions. Damage caused by liquids is not covered by the warranty. Because this product is a special 3c product, the product is registered and started after the product is connected to the Internet (including wifi), login to the apple id or linked to itunes. Calculate the warranty period of the product, and the warranty date of the product will be calculated after registration, and cannot be restored! In the future, when the return is required, the company confirms that if the product has been opened for warranty, additional fees may be required. Do not connect this item to the Internet until you are sure you want to return it, to avoid inadvertently starting the warranty period.',\n",
       "   'price': 25288},\n",
       "  {'Id': 'DYAJ8H-A9008TS5F',\n",
       "   'cateId': 'DYAJ8I',\n",
       "   'picB': '000001_1546576470.jpg',\n",
       "   'name': 'Welfare Products - Apple iPhone 7 128GB',\n",
       "   'describe': 'Welfare Products  Limited Edition Apple iPhone 7 128Ga10 Chip Processor\\r\\n1200 million pixels main camera\\r\\n700 million pixels front lens  waterproof Dust-proof level\\r\\ntouch id Fingerprint identification',\n",
       "   'price': 11900},\n",
       "  {'Id': 'DYAJCX-A9009UFV0',\n",
       "   'cateId': 'DYAJ9Y',\n",
       "   'picB': '000001_1554781348.jpg',\n",
       "   'name': 'Apple iPhone 8 (64G) - Space Gray',\n",
       "   'describe': \"Space Gray  mad down $1501 Apple iPhone 8 (64G)  market price $ 21500. Special offer 1999 $19999\\r\\n now buy the current province $1501\\r\\n limited special kill ~ any return price ~! ! \\r\\n\\r\\n 4.7 retina hd monitor with true tone\\r\\n Full glass and aluminum metal body design\\r\\n Anti-splash water and dust proof function\\r\\n 12 million pixels Camera with optical image stabilization (ois)\\r\\n 4k film shooting (up to 60 fps)\\r\\n 7 megapixel facetime hd camera\\r\\n touch id for secure authentication and apple pay\\n a11 bionic smart phone chip\\r\\n wireless charging (can be used with qi charger)\\r\\n\\r\\niphone8 Featured accessories:\\r\\niphone original protection Shell\\r\\n iphone 8 Protector\\r\\n\\r\\nLegal Notice\\r\\n 1. Charging board sold separately. \\r\\n2. Both the iphone 8 and the iphone 8 plus are flood- and water-repellent and have been tested under controlled laboratory conditions to achieve the i ip67 rating. The anti-splash and water-repellent functions are non-permanent and may decrease with the wear and tear caused by daily use. \\r\\nDo not charge your wet iphone; refer to the instruction manual for cleaning and drying instructions. Damage caused by liquids is not covered by the warranty. \\r\\n3. The display size is the diagonal length. \\r\\n4.facetime Both parties need to use the facetime function device\\r\\n to connect with wi-fi. The application of the mobile network depends on the carrier's solution; data services may be subject to payment. \\r\\n\\r\\n\\r\\nRelated note\\r\\n  Because this product is a special 3c product, after the product is connected to the Internet (including wifi), login to the apple id or link to itunes, this The item is registered and begins to calculate the product warranty time, and the warranty date of the item is calculated after registration and cannot be restored! In the future, when the return is required, the company confirms that if the product has been opened for warranty, additional fees may be required. Do not connect this item to the Internet until you are sure you want to return it, to avoid inadvertently starting the warranty period. If you claim the seven-day appreciation period, please restore the original product ( including packaging, accessories, etc.; once the product is registered, you may need to pay additional fees). You confirm that you have read the above instructions and agree to the order on this page to agree to the terms. Please forgive me for your inconvenience. \",\n",
       "   'price': 19999},\n",
       "  {'Id': 'DYAJDN-A9009H4QZ',\n",
       "   'cateId': 'DYAJDN',\n",
       "   'picB': '000001_1554948610.jpg',\n",
       "   'name': 'Apple iPhone XR (64G) - Black (MRY42TA/A)',\n",
       "   'describe': 'Black  send premium accessories group Apple iPhone XR (64G) - black   send wireless charging board + shell stickers   6.1  liquid retina display (lcd)    ip67 level Anti-splash and water-proof function (up to 30 minutes in the deepest 1 meter water)\\r\\n 12 megapixel camera (with optical image stabilization) and 7 megapixel original deep sensing front camera, both With portrait mode, portrait light, depth of field control and smart hdr function\\r\\n face id, for secure authentication and apple pay \\r\\n a12 bionic, with a new generation of neural network engine\\r\\n wireless Charging (can be used with qi charger)\\r\\n ios 12 with memoji, screen usage time, siri shortcut and group facetime function\\r\\n\\r\\n============ ==============\\r\\n\\r\\niphone xrshell\\r\\niphone xr\\r \\n============================================================================================= For rectangular measurements, the iphone xr screen has a diagonal length of 6.06 . The actual viewable area may be small. \\r\\n2.iphone xr is water and dust proof and has been tested in controlled laboratory environment to achieve ipk 60529 ip67 rating (up to 30 minutes in the deepest 1 meter water) . The anti-splash and water-repellent functions are non-permanent and may decrease with the wear and tear caused by daily use. Do not charge your wet iPhone; refer to the instruction manual for cleaning and drying instructions. Damage caused by liquids is not covered by the warranty. \\r\\n3.apple pay is not available in all markets. See www.apple.com tw ios feature-availability #apple-pay\\r\\n See a list of countries or regions where apple pay is available. \\r\\n4.qi Wireless charger sold separately. \\r\\n5. The group facetime feature will be available on iOS 12 via software update later this year. \\r\\n\\r\\nRelated Note\\r\\n  Because this product is a special 3c product, the product is registered and started after the product is connected to the Internet (including wifi), login to the apple id or linked to itunes. Calculate the warranty period of the product, and the warranty date of the product will be calculated after registration, and cannot be restored! In the future, when the return is required, the company confirms that if the product has been opened for warranty, additional fees may be required. Do not connect this item to the Internet until you are sure you want to return it, to avoid inadvertently starting the warranty period. If you claim the seven-day appreciation period, please restore the original product ( including packaging, accessories, etc.; once the product is registered, you may need to pay additional fees). You confirm that you have read the above instructions and agree to the order on this page to agree to the terms. Please forgive me for your inconvenience. ',\n",
       "   'price': 25888},\n",
       "  {'Id': 'DYAJDG-A9009N8Q2',\n",
       "   'cateId': 'DYAJDG',\n",
       "   'picB': '000001_1553652419.jpg',\n",
       "   'name': 'Apple iPhone Xs (256G)',\n",
       "   'describe': 'Gray l silver  limited time to spend $ 2501 Apple iPhone Xs (256G)  market price $ 41500. Special offer 38 $38999\\r\\n Buy now save $2501\\r\\n limited special kill ~ any return price ~! ! \\r\\n\\r\\n 5.8  super retina display (oled) with hdr\\r\\n ip68 level dustproof and anti-splashing function (up to 30 minutes in the deepest 2 meters water)\\r 12 megapixel dual lens camera (with optical image stabilization dual lens) and 7 megapixel original deep sensing front camera with portrait mode, portrait light, depth of field control and smart hdr function\\r\\nface Id, for security authentication and apple pay\\r\\n a12 bionic, with a new generation of neural network engine\\r\\n wireless charging (can be used with qi charger)\\r\\n ios 12, with memoji, screen Use time, siri shortcuts and group facetime functions\\r\\n\\r\\nLegal Notices\\n\\r\\n1. The display has a rounded corner design. When measuring in a rectangle, the diagonal length of the iphone xs screen is 5.85. The actual viewable area may be small. \\r\\n2. iphone xs is water- and water-repellent and has been tested in controlled laboratory environment to achieve ibp 60529 ip68 rating (up to 30 minutes in the deepest 2 meters of water) . The anti-splash and water-repellent functions are non-permanent and may decrease with the wear and tear caused by daily use. Do not charge your wet iPhone; refer to the instruction manual for cleaning and drying instructions. Damage caused by liquids is not covered by the warranty. \\r\\n3. Apple pay is not available in all markets. \\r\\n See www.apple.com tw ios feature-availability #apple-pay See a list of countries or regions where apple pay is available. \\r\\n4. qi Wireless charger sold separately. \\r\\n5. The group facetime feature will be available in iOS 12 via software update later this year. \\r\\n\\r\\n\\r\\n Related Note \\r\\n  Because this product is a special 3c product, after the product is connected to the Internet (including wifi), login to the apple id or link to itunes, this The item is registered and begins to calculate the product warranty time, and the warranty date of the item is calculated after registration and cannot be restored! In the future, when the return is required, the company confirms that if the product has been opened for warranty, additional fees may be required. Do not connect this item to the Internet until you are sure you want to return it, to avoid inadvertently starting the warranty period. If you claim the seven-day appreciation period, please restore the original product ( including packaging, accessories, etc.; once the product is registered, you may need to pay additional fees). You confirm that you have read the above instructions and agree to the order on this page to agree to the terms. Please forgive me for your inconvenience. ',\n",
       "   'price': 38999},\n",
       "  {'Id': 'DYAJDF-A9009EQNF',\n",
       "   'cateId': 'DYAJDF',\n",
       "   'picB': '000001_1553479796.jpg',\n",
       "   'name': 'Apple iPhone Xs (64G) - Gold (MT9G2TA/A)',\n",
       "   'describe': 'Gold  send glass to protect Apple iPhone Xs (64G) - gold  market price $ 35900. Special offer 340 $34099\\r\\n Buy now save the province $1801\\r\\n limited plus code to send glass stickers! ! \\r\\n\\r\\n 5.8  super retina display (oled) with hdr\\r\\n ip68 level dustproof and anti-splashing function (up to 30 minutes in the deepest 2 meters water)\\r 12 megapixel dual lens camera (with optical image stabilization dual lens) and 7 megapixel original deep sensing front camera with portrait mode, portrait light, depth of field control and smart hdr function\\r\\nface Id, for security authentication and apple pay\\r\\n a12 bionic, with a new generation of neural network engine\\r\\n wireless charging (can be used with qi charger)\\r\\n ios 12, with memoji, screen Use time, siri shortcuts and group facetime functions\\r\\n\\r\\n================================= I bought iphone xs accessories\\r\\n iphone xs shell\\r\\n iphone xs stickers\\r\\n================== ========\\r\\n\\r\\n\\r\\nLegal Notices\\n\\r\\n1. The monitor has a rounded corner design. When measuring in a rectangle, the diagonal length of the iphone xs screen is 5.85 . The actual viewable area may be small. \\r\\n2. iphone xs is water- and water-repellent and has been tested in controlled laboratory environment to achieve ibp 60529 ip68 rating (up to 30 minutes in the deepest 2 meters of water) . The anti-splash and water-repellent functions are non-permanent and may decrease with the wear and tear caused by daily use. Do not charge your wet iPhone; refer to the instruction manual for cleaning and drying instructions. Damage caused by liquids is not covered by the warranty. \\r\\n3. Apple pay is not available in all markets. \\r\\n See www.apple.com tw ios feature-availability #apple-pay See a list of countries or regions where apple pay is available. \\r\\n4. qi Wireless charger sold separately. \\r\\n5. The group facetime feature will be available in iOS 12 via software update later this year. \\r\\n\\r\\n\\r\\n Related Note \\r\\n  Because this product is a special 3c product, after the product is connected to the Internet (including wifi), login to the apple id or link to itunes, this The item is registered and begins to calculate the product warranty time, and the warranty date of the item is calculated after registration and cannot be restored! In the future, when the return is required, the company confirms that if the product has been opened for warranty, additional fees may be required. Do not connect this item to the Internet until you are sure you want to return it, to avoid inadvertently starting the warranty period. If you claim the seven-day appreciation period, please restore the original product ( including packaging, accessories, etc.; once the product is registered, you may need to pay additional fees). You confirm that you have read the above instructions and agree to the order on this page to agree to the terms. Please forgive me for your inconvenience. ',\n",
       "   'price': 34099},\n",
       "  {'Id': 'DYAJ2N-A9009PUGA',\n",
       "   'cateId': 'DYAJ2N',\n",
       "   'picB': '000001_1546938527.jpg',\n",
       "   'name': '[welfare] Apple iPhone 8 plus 64GB',\n",
       "   'describe': '90% New Original Boxed+Original AccessoriesApple iPhone 8 plus 64G5.5 ips Touch Screen\\r\\na11 bionic Processor\\r\\nDouble 12 million Isight lens\\r\\nfront camera 7 million pixels\\r\\nsupport touch id fingerprint identification',\n",
       "   'price': 19900},\n",
       "  {'Id': 'DYAJ93-A900929I2',\n",
       "   'cateId': 'DYAJ93',\n",
       "   'picB': '000001_1554691189.jpg',\n",
       "   'name': 'Apple iPhone X (256G) - Space Gray',\n",
       "   'describe': 'Space gray  send premium accessories group Apple iPhone X (256G)   send mfi transmission line + shell + security stickers   5.8  super retina hd display with hdr and true tone\\r\\n  All-glass and stainless steel body design\\r\\n Anti-splash and water-proof function\\r\\n 12 million dual-lens camera with optical image stabilization\\r\\n Portrait mode, portrait light and 4k film shooting Function (up to 60 fps)\\r\\n 7 megapixel truedepth front camera\\r\\nface id for secure authentication and apple pay\\r\\n a11 bionic smart phone chip\\r\\n wireless Charging (can be used with qi charger)\\r\\n\\r\\niphone x\\r\\n iphone original protective case\\r\\niphone x multi-category stickers\\n\\r\\n Legal Notice\\r\\n 1.iphone x The display has a rounded corner design. When measuring in a rectangular manner, the diagonal length of the screen is 5.85 . The actual viewable area may be small. \\r\\n2. The charging board is sold separately. \\r\\n3.iphone x is water- and water-repellent and has been tested in laboratory environment with controlled tubes to an ip67 rating of the iec 60529 standard. The anti-splash and water-repellent functions are non-permanent and may decrease with the wear and tear caused by daily use. Do not charge your wet iphone; refer to the instruction manual for cleaning and drying instructions. Damage caused by liquids is not covered by the warranty. \\r\\n4. Portrait Light is available in beta. \\r\\n\\r\\n Related Note\\r\\n  Because this product is a special 3c product, this product is registered after the product is connected to the Internet (including wifi), login to the apple id or linked to itunes. And start to calculate the product warranty time, and after the registration, the warranty date of this product begins to calculate, can not be restored! In the future, when the return is required, the company confirms that if the product has been opened for warranty, additional fees may be required. Do not connect this item to the Internet until you are sure you want to return it, to avoid inadvertently starting the warranty period. If you claim the seven-day appreciation period, please restore the original product ( including packaging, accessories, etc.; once the product is registered, you may need to pay additional fees). You confirm that you have read the above instructions and agree to the order on this page to agree to the terms. Please forgive me for your inconvenience. ',\n",
       "   'price': 31999},\n",
       "  {'Id': 'DYAJDR-19009JGT1',\n",
       "   'cateId': 'DYAJDT',\n",
       "   'picB': '000001_1554948220.jpg',\n",
       "   'name': 'Apple iPhone Xs Max (256G) - Silver (MT542TA/A)',\n",
       "   'describe': 'Silver  send glass protector Apple iPhone Xs Max (256G)  market price $ 45500. Special offer 4 $41999\\r\\n Buy now the province $3501\\r\\n limited special kill ~ any return price ~! ! \\r\\n\\r\\n 6.5  super retina display (oled) with hdr\\r\\n ip68 level dustproof and anti-splash water resistance (up to 30 minutes in the deepest 2 meters water)\\r 12 megapixel dual lens camera (with optical image stabilization dual lens) and 7 megapixel original deep sensing front camera with portrait mode, portrait light, depth of field control and smart hdr function\\r\\nface Id, for security authentication and apple pay\\r\\n a12 bionic, with a new generation of neural network engine\\r\\n wireless charging (can be used with qi charger)\\r\\n ios 12, with memoji, screen Use time, siri shortcuts and group facetime functions\\r\\n\\r\\n================================= I bought iphone xs max accessories\\r\\n iphone xs max shell\\r\\n iphone xs max stickers\\r\\n=============== ===========\\r\\n\\r\\n\\r\\nLegal Notices\\r\\n1. The display is rounded and the diagonal of the iphone xs max screen is measured in rectangular dimensions. The length is 6.46 . The actual viewable area may be small. \\r\\n2. iphone xs max is water- and water-repellent and has been tested in controlled laboratory environment to achieve ibp 60529 ip68 rating (up to 30 minutes in the deepest 2 meters of water) ). The anti-splash and water-repellent functions are non-permanent and may decrease with the wear and tear caused by daily use. Do not charge your wet iphone; refer to the instruction manual for cleaning and drying instructions. Damage caused by liquids is not covered by the warranty. \\r\\n3. Apple pay is not available in all markets. \\r\\n See www.apple.com tw ios feature-availability #apple-pay \\r\\n See a list of countries or regions where apple pay is available. \\r\\n4. qi Wireless charger sold separately. \\r\\n5. The group facetime feature will be available in iOS 12 via software update later this year. \\r\\n\\r\\n\\r\\n Related Note \\r\\n  Because this product is a special 3c product, after the product is connected to the Internet (including wifi), login to the apple id or link to itunes, this The item is registered and begins to calculate the product warranty time, and the warranty date of the item is calculated after registration and cannot be restored! In the future, when the return is required, the company confirms that if the product has been opened for warranty, additional fees may be required. Do not connect this item to the Internet until you are sure you want to return it, to avoid inadvertently starting the warranty period. If you claim the seven-day appreciation period, please restore the original product ( including packaging, accessories, etc.; once the product is registered, you may need to pay additional fees). You confirm that you have read the above instructions and agree to the order on this page to agree to the terms. Please forgive me for your inconvenience. ',\n",
       "   'price': 41999},\n",
       "  {'Id': 'DYAJ21-A9009PPL9',\n",
       "   'cateId': 'DYAJ21',\n",
       "   'picB': '000001_1547024213.jpg',\n",
       "   'name': 'Apple iPhone 6s (32G) 2018 Edition',\n",
       "   'describe': 'Gold l rose gold  send shell + security stickers Apple iPhone 6S 4.7  32G 2018 version   64 bit architecture a9 chip   embedded m9 motion sensing coprocessor \\r \\n  4.7  3d touch retinahd monitor   ios10 operating system    new 12 million pixel camera f 2.2 aperture    built-in fingerprint identity sensor  above information content There are errors, mainly based on official information! \\r\\n\\r\\n<Notes>\\r\\napple products are special. After connecting to the online login account or connecting to the system software, they are registered and start to calculate the product warranty time, which cannot be restored. \\r\\n When returning the goods in the future, if the goods have been opened for warranty, additional fees may apply. \\r\\nPlease take a video when receiving the product to protect your rights, and do not rush to unpack, first confirm that the model color is correct. \\r\\n Do not connect this item to the Internet if you have any concerns about the product, and avoid inadvertently starting the warranty time. \\r\\n If you advocate the 7-day appreciation period, please restore the original product ( including packaging, accessories, manuals, etc., and you can return the goods after you can re-sell the goods, otherwise you will charge 10% of the original price of the original product; Once the product is registered, additional fees will be charged.',\n",
       "   'price': 9790},\n",
       "  {'Id': 'DYAJ9Y-A9008F4S4',\n",
       "   'cateId': 'DYAJ9Y',\n",
       "   'picB': '000001_1554890673.jpg',\n",
       "   'name': 'Apple iPhone 8 (64G) - Gold',\n",
       "   'describe': \"Golden  limited time to spend $1501 Apple iPhone 8 (64G)  market price $ 21500. Special offer 1999 $19999\\r\\n now buy the current province $1501\\r\\n limited special kill ~ any return price ~! ! \\r\\n\\r\\n 4.7 retina hd monitor with true tone\\r\\n Full glass and aluminum metal body design\\r\\n Anti-splash water and dust proof function\\r\\n 12 million pixels Camera with optical image stabilization (ois)\\r\\n 4k film shooting (up to 60 fps)\\r\\n 7 megapixel facetime hd camera\\r\\n touch id for secure authentication and apple pay\\n a11 bionic smart phone chip\\r\\n wireless charging (can be used with qi charger)\\r\\n\\r\\niphone8 Featured accessories:\\r\\niphone original protection Shell\\r\\n iphone 8 Protector\\r\\n\\r\\nLegal Notice\\r\\n 1. Charging board sold separately. \\r\\n2. Both the iphone 8 and the iphone 8 plus are flood- and water-repellent and have been tested under controlled laboratory conditions to achieve the i ip67 rating. The anti-splash and water-repellent functions are non-permanent and may decrease with the wear and tear caused by daily use. \\r\\nDo not charge your wet iphone; refer to the instruction manual for cleaning and drying instructions. Damage caused by liquids is not covered by the warranty. \\r\\n3. The display size is the diagonal length. \\r\\n4.facetime Both parties need to use the facetime function device\\r\\n to connect with wi-fi. The application of the mobile network depends on the carrier's solution; data services may be subject to payment. \\r\\n\\r\\n\\r\\nRelated note\\r\\n  Because this product is a special 3c product, after the product is connected to the Internet (including wifi), login to the apple id or link to itunes, this The product is registered and begins to calculate the warranty period\\r\\n, and the warranty date of the product is calculated after registration, and cannot be restored! In the future, when the return is required, the company confirms that if the product has been opened for warranty, additional fees may be required. Do not connect this item to the Internet until you are sure you want to return it, to avoid inadvertently starting the warranty period. If you claim the seven-day appreciation period, please restore the original product ( including packaging, accessories, etc.; once the product is registered, you may need to pay additional fees). You confirm that you have read the above instructions and agree to the order on this page to agree to the terms. Please forgive me for your inconvenience. \",\n",
       "   'price': 19999},\n",
       "  {'Id': 'DYAJDN-A9009N878',\n",
       "   'cateId': 'DYAJDN',\n",
       "   'picB': '000001_1555379070.jpg',\n",
       "   'name': 'Apple iPhone XR (64G)-White (MRY52TA/A)',\n",
       "   'describe': 'White  send wireless charging board Apple iPhone XR (64G) - white  only one day  limited time mad \\r\\n start: 04/16 (Tuesday) 10:00 \\r\\n end: 04 /17 (Wednesday) 10:00\\r\\n market price $26900. Limited time price 25$25288\\r\\n\\r\\n 6.1 liquid retina display (lcd)\\r\\n ip67 grade anti-splash water and dustproof function (up to 30 minutes in the deepest 1 meter water)\\n 12 megapixel camera (with optical image stabilization) and 7 megapixel original deep sensing front camera with portrait mode, portrait light, depth of field control and smart hdr function\\r\\n face id For security certification and apple pay \\r\\n a12 bionic, with a new generation of neural network engine\\r\\n wireless charging (can be used with qi charger)\\r\\n ios 12, with memoji, screen use Time, siri shortcut and group facetime function\\r\\n\\r\\n curator Xiaoyan: the most cost-effective purchase of stored value ~\\r\\n4 month stored value promotion, please click me\\r\\n\\r\\n ============================================================================================================ r\\n iphone xr security\\r\\n============================================================ \\r\\n1. The display has a rounded corner design. When measuring in a rectangular shape, the diagonal length of the iphone xr screen is 6.06 . The actual viewable area may be small. \\r\\n2.iphone xr is water and dust proof and has been tested in controlled laboratory environment to achieve ipk 60529 ip67 rating (up to 30 minutes in the deepest 1 meter water) . The anti-splash and water-repellent functions are non-permanent and may decrease with the wear and tear caused by daily use. Do not charge your wet iPhone; refer to the instruction manual for cleaning and drying instructions. Damage caused by liquids is not covered by the warranty. \\r\\n3.apple pay is not available in all markets. See www.apple.com tw ios feature-availability #apple-pay\\r\\n See a list of countries or regions where apple pay is available. \\r\\n4.qi Wireless charger sold separately. \\r\\n5. The group facetime feature will be available on iOS 12 via software update later this year. \\r\\n\\r\\nRelated Note\\r\\n  Because this product is a special 3c product, the product is registered and started after the product is connected to the Internet (including wifi), login to the apple id or linked to itunes. Calculate the warranty period of the product, and the warranty date of the product will be calculated after registration, and cannot be restored! In the future, when the return is required, the company confirms that if the product has been opened for warranty, additional fees may be required. Do not connect this item to the Internet until you are sure you want to return it, to avoid inadvertently starting the warranty period. If you claim the seven-day appreciation period, please restore the original product ( including packaging, accessories, etc.; once the product is registered, you may need to pay additional fees). You confirm that you have read the above instructions and agree to the order on this page to agree to the terms. Please forgive me for your inconvenience. ',\n",
       "   'price': 25288},\n",
       "  {'Id': 'DGCD1E-A90084KAA',\n",
       "   'cateId': 'DGCD1E',\n",
       "   'picB': '000001_1555399157.jpg',\n",
       "   'name': 'SanDisk iXpand Mini Drive 64GB (Company) iPhone / iPad Applicable',\n",
       "   'describe': 'SanDisk iXpand Mini flash drive 64GB (company) iPhone / iPad for  designed for ios devices\\r\\nEasily and quickly release iphone, ipad storage space\\r\\nusb 3.0 High speed transmission\\r \\nixpand mobile app, easy to manage photos and videos\\r\\ncompany goods, the first choice is guaranteed\\r\\n\\r\\n\\r\\n There are other capacities available here:\\r 32gb 128gb \\r\\n\\r\\n\\r\\n curator Xiao Yan: the most cost-effective purchase of stored value ~\\r\\n4 month stored value promotion activities, please click me\\r\\n \\r\\n4 Bank discounts are required to log in\\r\\nBank credit card activities Please click on the picture to learn more',\n",
       "   'price': 999},\n",
       "  {'Id': 'DYAJDO-A9009H4RQ',\n",
       "   'cateId': 'DYAJDO',\n",
       "   'picB': '000001_1551924378.jpg',\n",
       "   'name': 'Apple iPhone XR (128G)-White (MRYD2TA/A)',\n",
       "   'describe': 'White  kill and send transmission line Apple iPhone XR (128G) - white  market price $ 28900. Special offer 27 $27288\\r\\n now buy the current province $1612\\r\\n limited special kill ~ any return price ~! ! \\r\\n\\r\\n 6.1 liquid retina display (lcd)\\r\\n ip67 Level anti-splash water and dust resistance (up to 30 minutes in the deepest 1 meter water)\\r\\n 1200 Megapixel camera (with optical image stabilization) and 7 megapixel original deep sensing front camera with portrait mode, portrait light, depth of field control and smart hdr function\\r\\n face id for safety certification With apple pay \\r\\n a12 bionic, with a new generation of neural network engine\\r\\n wireless charging (can be used with qi charger)\\r\\n ios 12, with memoji, screen usage time, siri shortcut and Group facetime function\\r\\n\\r\\n========================================================================= \\r\\niphone xr shell\\r\\niphone xr stickers\\r\\n========================= ==\\r\\n\\r\\nLegal Notice\\r\\n1. The display has a rounded corner design. When measuring in rectangular shape, the diagonal length of the iphone xr screen is 6.06 . The actual viewable area may be small. \\r\\n2.iphone xr is water and dust proof and has been tested in controlled laboratory environment to achieve ipk 60529 ip67 rating (up to 30 minutes in the deepest 1 meter water) . The anti-splash and water-repellent functions are non-permanent and may decrease with the wear and tear caused by daily use. Do not charge your wet iPhone; refer to the instruction manual for cleaning and drying instructions. Damage caused by liquids is not covered by the warranty. \\r\\n3.apple pay is not available in all markets. See www.apple.com tw ios feature-availability #apple-pay\\r\\n See a list of countries or regions where apple pay is available. \\r\\n4.qi Wireless charger sold separately. \\r\\n5. The group facetime feature will be available on iOS 12 via software update later this year. \\r\\n\\r\\nRelated Note\\r\\n  Because this product is a special 3c product, the product is registered and started after the product is connected to the Internet (including wifi), login to the apple id or linked to itunes. Calculate the warranty period of the product, and the warranty date of the product will be calculated after registration, and cannot be restored! In the future, when the return is required, the company confirms that if the product has been opened for warranty, additional fees may be required. Do not connect this item to the Internet until you are sure you want to return it, to avoid inadvertently starting the warranty period. If you claim the seven-day appreciation period, please restore the original product ( including packaging, accessories, etc.; once the product is registered, you may need to pay additional fees). You confirm that you have read the above instructions and agree to the order on this page to agree to the terms. Please forgive me for your inconvenience. ',\n",
       "   'price': 27288},\n",
       "  {'Id': 'DYAJDO-19009LXPW',\n",
       "   'cateId': 'DYAJDO',\n",
       "   'picB': '000001_1554688741.jpg',\n",
       "   'name': 'Apple iPhone XR (128G)-Red (MRYE2TA/A)',\n",
       "   'describe': 'Red  kill and send transmission line Apple iPhone XR (128G) - red  market price $ 28900. Special offer 27 $27288\\r\\n now buy the current province $1612\\r\\n limited special kill ~ any return price ~! ! \\r\\n\\r\\n 6.1 liquid retina display (lcd)\\r\\n ip67 Level anti-splash water and dust resistance (up to 30 minutes in the deepest 1 meter water)\\r\\n 1200 Megapixel camera (with optical image stabilization) and 7 megapixel original deep sensing front camera with portrait mode, portrait light, depth of field control and smart hdr function\\r\\n face id for safety certification With apple pay \\r\\n a12 bionic, with a new generation of neural network engine\\r\\n wireless charging (can be used with qi charger)\\r\\n ios 12, with memoji, screen usage time, siri shortcut and Group facetime function\\r\\n\\r\\n========================================================================= \\r\\niphone xr shell\\r\\niphone xr stickers\\r\\n========================= ==\\r\\n\\r\\nLegal Notice\\r\\n1. The display has a rounded corner design. When measuring in rectangular shape, the diagonal length of the iphone xr screen is 6.06 . The actual viewable area may be small. \\r\\n2.iphone xr is water and dust proof and has been tested in controlled laboratory environment to achieve ipk 60529 ip67 rating (up to 30 minutes in the deepest 1 meter water) . The anti-splash and water-repellent functions are non-permanent and may decrease with the wear and tear caused by daily use. Do not charge your wet iPhone; refer to the instruction manual for cleaning and drying instructions. Damage caused by liquids is not covered by the warranty. \\r\\n3.apple pay is not available in all markets. See www.apple.com tw ios feature-availability #apple-pay\\r\\n See a list of countries or regions where apple pay is available. \\r\\n4.qi Wireless charger sold separately. \\r\\n5. The group facetime feature will be available on iOS 12 via software update later this year. \\r\\n\\r\\nRelated Note\\r\\n  Because this product is a special 3c product, the product is registered and started after the product is connected to the Internet (including wifi), login to the apple id or linked to itunes. Calculate the warranty period of the product, and the warranty date of the product will be calculated after registration, and cannot be restored! In the future, when the return is required, the company confirms that if the product has been opened for warranty, additional fees may be required. Do not connect this item to the Internet until you are sure you want to return it, to avoid inadvertently starting the warranty period. If you claim the seven-day appreciation period, please restore the original product ( including packaging, accessories, etc.; once the product is registered, you may need to pay additional fees). You confirm that you have read the above instructions and agree to the order on this page to agree to the terms. Please forgive me for your inconvenience. ',\n",
       "   'price': 27288},\n",
       "  {'Id': 'DYAP00-A9008NDAW',\n",
       "   'cateId': 'DYAP00',\n",
       "   'picB': '000001_1536049459.jpg',\n",
       "   'name': 'Apple Lightning 8pin 200cm 2M Apple USB Cable / Charging Cable iPhone X / 8 / 7 / 6s Plus',\n",
       "   'describe': 'Apple transmission line / charging line Apple Lightning 8Pin iPhone X / 8 / 7 new transmission line 200cm iosapple transmission line new version 200cm iphone x warranty one year\\r\\n  support the latest system ios11\\r\\n  support each iphonex iphone8 Plus iphone8 iphone7 6s 5se ipad and so on Apple host\\r\\n  length 2m (200cm), wire diameter 3mm\\r\\n  after testing three yards in one \\r\\n  simple packaging \\r\\n see other Apple accessories:\\r\\napple transmission line 100cm\\r\\napple transmission line 200cm\\r\\napple adapter\\r\\napple transmission line+charger\\r\\napple 3.5mm headset\\rapple lightning earphone\\r\\nanycast TV stick\\r\\nRecommendedrival lifetime warranty transmission line:\\r\\nrival micro usb 20cm\\r\\nrival micro usb 100cm\\r\\nrival micro usb 200cm\\r\\nrival type-c usb 20cm\\r\\nrival type-c usb 100cm\\r\\nrival type-c usb 200cm',\n",
       "   'price': 299},\n",
       "  {'Id': 'DYAJA0-A9008F4ZL',\n",
       "   'cateId': 'DYAJA0',\n",
       "   'picB': '000001_1554691692.jpg',\n",
       "   'name': 'Apple iPhone 8 Plus (64G) - Gold',\n",
       "   'describe': \"Gold  send shell + security stickers Apple iPhone 8 Plus (64G)  5.5 retina hd display with true tone\\r\\n all glass and aluminum metal body design \\r\\n anti-splash Water and dust proof function\\r\\n 12 megapixel dual lens camera\\r\\n 4k movie shooting function (up to 60 fps)\\r\\n 7 megapixel facetime hd camera\\r\\n touch id, with For safety certification and apple pay\\r\\n a11 bionic smart phone chip\\r\\n wireless charging (can be used with qi charger)\\r\\n\\r\\nClick me to buy iphone8 plus Featured accessories:\\r \\n iphone original protective case\\r\\n iphone 8 plus protection sticker\\r\\n\\r\\nLegal statement\\r\\n 1. Charging board sold separately. \\r\\n2. Both the iphone 8 and the iphone 8 plus are flood- and water-repellent and have been tested under controlled laboratory conditions to achieve the i ip67 rating. The anti-splash and water-repellent functions are non-permanent and may decrease with the wear and tear caused by daily use. \\r\\nDo not charge your wet iphone; refer to the instruction manual for cleaning and drying instructions. Damage caused by liquids is not covered by the warranty. \\r\\n3. The display size is the diagonal length. \\r\\n4.facetime Both parties need to use the facetime function device\\r\\n to connect with wi-fi. The application of the mobile network depends on the carrier's solution; data services may be subject to payment. \\r\\n\\r\\nRelated Note\\r\\n Because this product is a special 3c product, this product is registered after the product is connected to the Internet (including wifi), login to apple id or link to itunes. And start to calculate the product warranty time, and after the registration, the warranty date of this product begins to calculate, can not be restored! In the future, when the return is required, the company confirms that if the product has been opened for warranty, additional fees may be required. Do not connect this item to the Internet until you are sure you want to return it, to avoid inadvertently starting the warranty period. If you claim the seven-day appreciation period, please restore the original product ( including packaging, accessories, etc.; once the product is registered, you may need to pay additional fees). You confirm that you have read the above instructions and agree to the order on this page to agree to the terms. Please forgive me for your inconvenience. \",\n",
       "   'price': 24188},\n",
       "  {'Id': 'DYAJ2Y-A900929HK',\n",
       "   'cateId': 'DYAJ2Y',\n",
       "   'picB': '000001_1555294039.jpg',\n",
       "   'name': 'Apple iPhone X (64G) - Space Gray',\n",
       "   'describe': 'Space Gray  Send Shell + Glass Sticker Apple iPhone X (64G) 5.8 super retina hd monitor with hdr and true tone\\r\\n Full glass and stainless steel body design\\r\\n  Anti-splash and water-proof function\\r\\n 12 million dual-lens camera with optical image stabilization\\r\\n Portrait mode, portrait light and 4k film shooting function (up to 60 fps)\\r\\n 700 Megapixel truedepth front camera\\r\\n face id for secure authentication and apple pay\\r\\n a11 bionic smart phone chip\\r\\n wireless charging (can be used with qi charger)\\r\\n \\r\\niphone original protection shell\\r\\niphone x multi-category stickers\\r\\n\\r\\n Legal statement\\n 1.iphone x The display has a rounded corner design. When measuring in a rectangular manner, the diagonal length of the screen is 5.85 . The actual viewable area may be small. \\r\\n2. The charging board is sold separately. \\r\\n3.iphone x is water- and water-repellent and has been tested in laboratory environment with controlled tubes to an ip67 rating of the iec 60529 standard. The anti-splash and water-repellent functions are non-permanent and may decrease with the wear and tear caused by daily use. Do not charge your wet iphone; refer to the instruction manual for cleaning and drying instructions. Damage caused by liquids is not covered by the warranty. \\r\\n4. Portrait Light is available in beta. \\r\\n\\r\\n\\r\\n Related Note \\r\\n  Because this product is a special 3c product, after the product is connected to the Internet (including wifi), login to the apple id or link to itunes, this The item is registered and begins to calculate the product warranty time, and the warranty date of the item is calculated after registration and cannot be restored! In the future, when the return is required, the company confirms that if the product has been opened for warranty, additional fees may be required. Do not connect this item to the Internet until you are sure you want to return it, to avoid inadvertently starting the warranty period. If you claim the seven-day appreciation period, please restore the original product ( including packaging, accessories, etc.; once the product is registered, you may need to pay additional fees). You confirm that you have read the above instructions and agree to the order on this page to agree to the terms. Please forgive me for your inconvenience. ',\n",
       "   'price': 30288}]}"
      ]
     },
     "execution_count": 368,
     "metadata": {},
     "output_type": "execute_result"
    }
   ],
   "source": [
    "import json\n",
    "\n",
    "\n",
    "f = open(\"巨量資料分析師中級術科題目資料集\\\\1_bid.json\")\n",
    "data = json.load(f)\n",
    "data"
   ]
  },
  {
   "cell_type": "code",
   "execution_count": 373,
   "id": "99277438",
   "metadata": {
    "scrolled": true
   },
   "outputs": [
    {
     "data": {
      "text/html": [
       "<div>\n",
       "<style scoped>\n",
       "    .dataframe tbody tr th:only-of-type {\n",
       "        vertical-align: middle;\n",
       "    }\n",
       "\n",
       "    .dataframe tbody tr th {\n",
       "        vertical-align: top;\n",
       "    }\n",
       "\n",
       "    .dataframe thead th {\n",
       "        text-align: right;\n",
       "    }\n",
       "</style>\n",
       "<table border=\"1\" class=\"dataframe\">\n",
       "  <thead>\n",
       "    <tr style=\"text-align: right;\">\n",
       "      <th></th>\n",
       "      <th>Id</th>\n",
       "      <th>cateId</th>\n",
       "      <th>picB</th>\n",
       "      <th>name</th>\n",
       "      <th>describe</th>\n",
       "      <th>price</th>\n",
       "    </tr>\n",
       "  </thead>\n",
       "  <tbody>\n",
       "    <tr>\n",
       "      <th>0</th>\n",
       "      <td>DYAF13-A9007Z1GM</td>\n",
       "      <td>DYAF13</td>\n",
       "      <td>000001_1489735402.jpg</td>\n",
       "      <td>2 in 1 bamboo charging base Apple Watch+iPhone...</td>\n",
       "      <td>2 in 1 bamboo charging base Apple Watch+iPhone...</td>\n",
       "      <td>399</td>\n",
       "    </tr>\n",
       "    <tr>\n",
       "      <th>1</th>\n",
       "      <td>DYAJDR-19009JGT8</td>\n",
       "      <td>DYAJDT</td>\n",
       "      <td>000001_1555383734.jpg</td>\n",
       "      <td>Apple iPhone Xs Max (256G)-Gold (MT552TA/A)</td>\n",
       "      <td>Gold send glass to protect Apple iPhone Xs Max...</td>\n",
       "      <td>41999</td>\n",
       "    </tr>\n",
       "    <tr>\n",
       "      <th>2</th>\n",
       "      <td>DYAJDN-A9009N87T</td>\n",
       "      <td>DYAJDN</td>\n",
       "      <td>000001_1555379017.jpg</td>\n",
       "      <td>Apple iPhone XR (64G) - Red (MRY62TA/A)</td>\n",
       "      <td>Daily strongmad kill sale  red  send wireless ...</td>\n",
       "      <td>25288</td>\n",
       "    </tr>\n",
       "    <tr>\n",
       "      <th>3</th>\n",
       "      <td>DYAJ8H-A9008TS5F</td>\n",
       "      <td>DYAJ8I</td>\n",
       "      <td>000001_1546576470.jpg</td>\n",
       "      <td>Welfare Products - Apple iPhone 7 128GB</td>\n",
       "      <td>Welfare Products  Limited Edition Apple iPhone...</td>\n",
       "      <td>11900</td>\n",
       "    </tr>\n",
       "    <tr>\n",
       "      <th>4</th>\n",
       "      <td>DYAJCX-A9009UFV0</td>\n",
       "      <td>DYAJ9Y</td>\n",
       "      <td>000001_1554781348.jpg</td>\n",
       "      <td>Apple iPhone 8 (64G) - Space Gray</td>\n",
       "      <td>Space Gray  mad down $1501 Apple iPhone 8 (64G...</td>\n",
       "      <td>19999</td>\n",
       "    </tr>\n",
       "  </tbody>\n",
       "</table>\n",
       "</div>"
      ],
      "text/plain": [
       "                 Id  cateId                   picB  \\\n",
       "0  DYAF13-A9007Z1GM  DYAF13  000001_1489735402.jpg   \n",
       "1  DYAJDR-19009JGT8  DYAJDT  000001_1555383734.jpg   \n",
       "2  DYAJDN-A9009N87T  DYAJDN  000001_1555379017.jpg   \n",
       "3  DYAJ8H-A9008TS5F  DYAJ8I  000001_1546576470.jpg   \n",
       "4  DYAJCX-A9009UFV0  DYAJ9Y  000001_1554781348.jpg   \n",
       "\n",
       "                                                name  \\\n",
       "0  2 in 1 bamboo charging base Apple Watch+iPhone...   \n",
       "1        Apple iPhone Xs Max (256G)-Gold (MT552TA/A)   \n",
       "2            Apple iPhone XR (64G) - Red (MRY62TA/A)   \n",
       "3            Welfare Products - Apple iPhone 7 128GB   \n",
       "4                  Apple iPhone 8 (64G) - Space Gray   \n",
       "\n",
       "                                            describe  price  \n",
       "0  2 in 1 bamboo charging base Apple Watch+iPhone...    399  \n",
       "1  Gold send glass to protect Apple iPhone Xs Max...  41999  \n",
       "2  Daily strongmad kill sale  red  send wireless ...  25288  \n",
       "3  Welfare Products  Limited Edition Apple iPhone...  11900  \n",
       "4  Space Gray  mad down $1501 Apple iPhone 8 (64G...  19999  "
      ]
     },
     "execution_count": 373,
     "metadata": {},
     "output_type": "execute_result"
    }
   ],
   "source": [
    "df = pd.DataFrame(data['prods'])\n",
    "df.head()"
   ]
  },
  {
   "cell_type": "markdown",
   "id": "8fc621a9",
   "metadata": {},
   "source": [
    "## 20% 小題三：取出描述內容包含字串「Limited」之商品資料 "
   ]
  },
  {
   "cell_type": "code",
   "execution_count": 375,
   "id": "a6f47b87",
   "metadata": {},
   "outputs": [
    {
     "data": {
      "text/html": [
       "<div>\n",
       "<style scoped>\n",
       "    .dataframe tbody tr th:only-of-type {\n",
       "        vertical-align: middle;\n",
       "    }\n",
       "\n",
       "    .dataframe tbody tr th {\n",
       "        vertical-align: top;\n",
       "    }\n",
       "\n",
       "    .dataframe thead th {\n",
       "        text-align: right;\n",
       "    }\n",
       "</style>\n",
       "<table border=\"1\" class=\"dataframe\">\n",
       "  <thead>\n",
       "    <tr style=\"text-align: right;\">\n",
       "      <th></th>\n",
       "      <th>Id</th>\n",
       "      <th>cateId</th>\n",
       "      <th>picB</th>\n",
       "      <th>name</th>\n",
       "      <th>describe</th>\n",
       "      <th>price</th>\n",
       "    </tr>\n",
       "  </thead>\n",
       "  <tbody>\n",
       "    <tr>\n",
       "      <th>3</th>\n",
       "      <td>DYAJ8H-A9008TS5F</td>\n",
       "      <td>DYAJ8I</td>\n",
       "      <td>000001_1546576470.jpg</td>\n",
       "      <td>Welfare Products - Apple iPhone 7 128GB</td>\n",
       "      <td>Welfare Products  Limited Edition Apple iPhone...</td>\n",
       "      <td>11900</td>\n",
       "    </tr>\n",
       "    <tr>\n",
       "      <th>13</th>\n",
       "      <td>DYAJDN-A9009N878</td>\n",
       "      <td>DYAJDN</td>\n",
       "      <td>000001_1555379070.jpg</td>\n",
       "      <td>Apple iPhone XR (64G)-White (MRY52TA/A)</td>\n",
       "      <td>White  send wireless charging board Apple iPho...</td>\n",
       "      <td>25288</td>\n",
       "    </tr>\n",
       "  </tbody>\n",
       "</table>\n",
       "</div>"
      ],
      "text/plain": [
       "                  Id  cateId                   picB  \\\n",
       "3   DYAJ8H-A9008TS5F  DYAJ8I  000001_1546576470.jpg   \n",
       "13  DYAJDN-A9009N878  DYAJDN  000001_1555379070.jpg   \n",
       "\n",
       "                                       name  \\\n",
       "3   Welfare Products - Apple iPhone 7 128GB   \n",
       "13  Apple iPhone XR (64G)-White (MRY52TA/A)   \n",
       "\n",
       "                                             describe  price  \n",
       "3   Welfare Products  Limited Edition Apple iPhone...  11900  \n",
       "13  White  send wireless charging board Apple iPho...  25288  "
      ]
     },
     "execution_count": 375,
     "metadata": {},
     "output_type": "execute_result"
    }
   ],
   "source": [
    "# https://stackoverflow.com/questions/27975069/how-to-filter-rows-containing-a-string-pattern-from-a-pandas-dataframe\n",
    "df[df['describe'].str.contains(\"Limited\")]"
   ]
  },
  {
   "cell_type": "markdown",
   "id": "453abfdf",
   "metadata": {},
   "source": [
    "## 20% 小題四：字串處理技巧 "
   ]
  },
  {
   "cell_type": "code",
   "execution_count": 379,
   "id": "86848b83",
   "metadata": {},
   "outputs": [
    {
     "data": {
      "text/plain": [
       "0     1489735402\n",
       "1     1555383734\n",
       "2     1555379017\n",
       "3     1546576470\n",
       "4     1554781348\n",
       "5     1554948610\n",
       "6     1553652419\n",
       "7     1553479796\n",
       "8     1546938527\n",
       "9     1554691189\n",
       "10    1554948220\n",
       "11    1547024213\n",
       "12    1554890673\n",
       "13    1555379070\n",
       "14    1555399157\n",
       "15    1551924378\n",
       "16    1554688741\n",
       "17    1536049459\n",
       "18    1554691692\n",
       "19    1555294039\n",
       "Name: picB, dtype: object"
      ]
     },
     "execution_count": 379,
     "metadata": {},
     "output_type": "execute_result"
    }
   ],
   "source": [
    "def normalizePrice(ele):\n",
    "    res = ele.split(\"_\")[1].split(\".jpg\")[0]\n",
    "    return res\n",
    "df['picB'].map(normalizePrice)"
   ]
  },
  {
   "cell_type": "markdown",
   "id": "a8c30a93",
   "metadata": {},
   "source": [
    "## 20% 小題五：將商品描述(describe)透過結巴斷詞並計算詞頻排行 "
   ]
  },
  {
   "cell_type": "code",
   "execution_count": null,
   "id": "c90e016c",
   "metadata": {},
   "outputs": [],
   "source": [
    "# https://blog.csdn.net/longwei92/article/details/105233268"
   ]
  },
  {
   "cell_type": "code",
   "execution_count": 380,
   "id": "2c1a6db9",
   "metadata": {},
   "outputs": [],
   "source": [
    "# ! pip install jieba"
   ]
  },
  {
   "cell_type": "code",
   "execution_count": 70,
   "id": "54eac21f",
   "metadata": {},
   "outputs": [],
   "source": [
    "import  jieba"
   ]
  },
  {
   "cell_type": "code",
   "execution_count": 77,
   "id": "42a59a42",
   "metadata": {},
   "outputs": [
    {
     "data": {
      "text/plain": [
       "['我來', '到', '北京', '清華大學']"
      ]
     },
     "execution_count": 77,
     "metadata": {},
     "output_type": "execute_result"
    }
   ],
   "source": [
    "text = '我來到北京清華大學'\n",
    "t= jieba.lcut(text)\n",
    "t"
   ]
  },
  {
   "cell_type": "code",
   "execution_count": 381,
   "id": "f7db22b7",
   "metadata": {},
   "outputs": [
    {
     "data": {
      "text/html": [
       "<div>\n",
       "<style scoped>\n",
       "    .dataframe tbody tr th:only-of-type {\n",
       "        vertical-align: middle;\n",
       "    }\n",
       "\n",
       "    .dataframe tbody tr th {\n",
       "        vertical-align: top;\n",
       "    }\n",
       "\n",
       "    .dataframe thead th {\n",
       "        text-align: right;\n",
       "    }\n",
       "</style>\n",
       "<table border=\"1\" class=\"dataframe\">\n",
       "  <thead>\n",
       "    <tr style=\"text-align: right;\">\n",
       "      <th></th>\n",
       "      <th>Id</th>\n",
       "      <th>cateId</th>\n",
       "      <th>picB</th>\n",
       "      <th>name</th>\n",
       "      <th>describe</th>\n",
       "      <th>price</th>\n",
       "    </tr>\n",
       "  </thead>\n",
       "  <tbody>\n",
       "    <tr>\n",
       "      <th>0</th>\n",
       "      <td>DYAF13-A9007Z1GM</td>\n",
       "      <td>DYAF13</td>\n",
       "      <td>000001_1489735402.jpg</td>\n",
       "      <td>2 in 1 bamboo charging base Apple Watch+iPhone...</td>\n",
       "      <td>2 in 1 bamboo charging base Apple Watch+iPhone...</td>\n",
       "      <td>399</td>\n",
       "    </tr>\n",
       "    <tr>\n",
       "      <th>1</th>\n",
       "      <td>DYAJDR-19009JGT8</td>\n",
       "      <td>DYAJDT</td>\n",
       "      <td>000001_1555383734.jpg</td>\n",
       "      <td>Apple iPhone Xs Max (256G)-Gold (MT552TA/A)</td>\n",
       "      <td>Gold send glass to protect Apple iPhone Xs Max...</td>\n",
       "      <td>41999</td>\n",
       "    </tr>\n",
       "    <tr>\n",
       "      <th>2</th>\n",
       "      <td>DYAJDN-A9009N87T</td>\n",
       "      <td>DYAJDN</td>\n",
       "      <td>000001_1555379017.jpg</td>\n",
       "      <td>Apple iPhone XR (64G) - Red (MRY62TA/A)</td>\n",
       "      <td>Daily strongmad kill sale  red  send wireless ...</td>\n",
       "      <td>25288</td>\n",
       "    </tr>\n",
       "    <tr>\n",
       "      <th>3</th>\n",
       "      <td>DYAJ8H-A9008TS5F</td>\n",
       "      <td>DYAJ8I</td>\n",
       "      <td>000001_1546576470.jpg</td>\n",
       "      <td>Welfare Products - Apple iPhone 7 128GB</td>\n",
       "      <td>Welfare Products  Limited Edition Apple iPhone...</td>\n",
       "      <td>11900</td>\n",
       "    </tr>\n",
       "    <tr>\n",
       "      <th>4</th>\n",
       "      <td>DYAJCX-A9009UFV0</td>\n",
       "      <td>DYAJ9Y</td>\n",
       "      <td>000001_1554781348.jpg</td>\n",
       "      <td>Apple iPhone 8 (64G) - Space Gray</td>\n",
       "      <td>Space Gray  mad down $1501 Apple iPhone 8 (64G...</td>\n",
       "      <td>19999</td>\n",
       "    </tr>\n",
       "  </tbody>\n",
       "</table>\n",
       "</div>"
      ],
      "text/plain": [
       "                 Id  cateId                   picB  \\\n",
       "0  DYAF13-A9007Z1GM  DYAF13  000001_1489735402.jpg   \n",
       "1  DYAJDR-19009JGT8  DYAJDT  000001_1555383734.jpg   \n",
       "2  DYAJDN-A9009N87T  DYAJDN  000001_1555379017.jpg   \n",
       "3  DYAJ8H-A9008TS5F  DYAJ8I  000001_1546576470.jpg   \n",
       "4  DYAJCX-A9009UFV0  DYAJ9Y  000001_1554781348.jpg   \n",
       "\n",
       "                                                name  \\\n",
       "0  2 in 1 bamboo charging base Apple Watch+iPhone...   \n",
       "1        Apple iPhone Xs Max (256G)-Gold (MT552TA/A)   \n",
       "2            Apple iPhone XR (64G) - Red (MRY62TA/A)   \n",
       "3            Welfare Products - Apple iPhone 7 128GB   \n",
       "4                  Apple iPhone 8 (64G) - Space Gray   \n",
       "\n",
       "                                            describe  price  \n",
       "0  2 in 1 bamboo charging base Apple Watch+iPhone...    399  \n",
       "1  Gold send glass to protect Apple iPhone Xs Max...  41999  \n",
       "2  Daily strongmad kill sale  red  send wireless ...  25288  \n",
       "3  Welfare Products  Limited Edition Apple iPhone...  11900  \n",
       "4  Space Gray  mad down $1501 Apple iPhone 8 (64G...  19999  "
      ]
     },
     "execution_count": 381,
     "metadata": {},
     "output_type": "execute_result"
    }
   ],
   "source": [
    "df.head()"
   ]
  },
  {
   "cell_type": "code",
   "execution_count": 382,
   "id": "65057c92",
   "metadata": {},
   "outputs": [
    {
     "data": {
      "text/plain": [
       "0     [2,  , in,  , 1,  , bamboo,  , charging,  , ba...\n",
       "1     [Gold,  , send,  , glass,  , to,  , protect,  ...\n",
       "2     [Daily,  , strongmad,  , kill,  , sale,  ,  , ...\n",
       "3     [Welfare,  , Products,  ,  , Limited,  , Editi...\n",
       "4     [Space,  , Gray,  ,  , mad,  , down,  , $, 150...\n",
       "5     [Black,  ,  , send,  , premium,  , accessories...\n",
       "6     [Gray,  , l,  , silver,  ,  , limited,  , time...\n",
       "7     [Gold,  ,  , send,  , glass,  , to,  , protect...\n",
       "8     [90%,  , New,  , Original,  , Boxed, +, Origin...\n",
       "9     [Space,  , gray,  ,  , send,  , premium,  , ac...\n",
       "10    [Silver,  ,  , send,  , glass,  , protector,  ...\n",
       "11    [Gold,  , l,  , rose,  , gold,  ,  , send,  , ...\n",
       "12    [Golden,  ,  , limited,  , time,  , to,  , spe...\n",
       "13    [White,  ,  , send,  , wireless,  , charging, ...\n",
       "14    [SanDisk,  , iXpand,  , Mini,  , flash,  , dri...\n",
       "15    [White,  ,  , kill,  , and,  , send,  , transm...\n",
       "16    [Red,  ,  , kill,  , and,  , send,  , transmis...\n",
       "17    [Apple,  , transmission,  , line,  , /,  , cha...\n",
       "18    [Gold,  ,  , send,  , shell,  , +,  , security...\n",
       "19    [Space,  , Gray,  ,  , Send,  , Shell,  , +,  ...\n",
       "Name: describe, dtype: object"
      ]
     },
     "execution_count": 382,
     "metadata": {},
     "output_type": "execute_result"
    }
   ],
   "source": [
    "def jb(ele):\n",
    "    t= jieba.lcut(ele)\n",
    "    return t\n",
    "df['describe'].map(jb)"
   ]
  },
  {
   "cell_type": "code",
   "execution_count": 386,
   "id": "fbdad1d2",
   "metadata": {},
   "outputs": [
    {
     "data": {
      "text/plain": [
       "        6024\n",
       "=        605\n",
       "the      379\n",
       "\\r\\n     334\n",
       ".        295\n",
       "dtype: int64"
      ]
     },
     "execution_count": 386,
     "metadata": {},
     "output_type": "execute_result"
    }
   ],
   "source": [
    "l=[]\n",
    "for i in range(len(df)):\n",
    "#     print(df.loc[i,\"describe\"])\n",
    "    l.extend(jb(df.loc[i,\"describe\"]))\n",
    "# print(l)\n",
    "pd.Series(l).value_counts(sort=True)[0:5]\n",
    "# pd.Series(l).value_counts(sort=False)"
   ]
  },
  {
   "cell_type": "markdown",
   "id": "4aa6b92a",
   "metadata": {},
   "source": [
    "## 題目二：集群與視覺化 "
   ]
  },
  {
   "cell_type": "code",
   "execution_count": 102,
   "id": "17b6c34c",
   "metadata": {},
   "outputs": [],
   "source": [
    "iris = pd.read_csv(\"巨量資料分析師中級術科題目資料集\\\\2_iris.csv\")"
   ]
  },
  {
   "cell_type": "code",
   "execution_count": 104,
   "id": "b4d55268",
   "metadata": {},
   "outputs": [
    {
     "data": {
      "text/html": [
       "<div>\n",
       "<style scoped>\n",
       "    .dataframe tbody tr th:only-of-type {\n",
       "        vertical-align: middle;\n",
       "    }\n",
       "\n",
       "    .dataframe tbody tr th {\n",
       "        vertical-align: top;\n",
       "    }\n",
       "\n",
       "    .dataframe thead th {\n",
       "        text-align: right;\n",
       "    }\n",
       "</style>\n",
       "<table border=\"1\" class=\"dataframe\">\n",
       "  <thead>\n",
       "    <tr style=\"text-align: right;\">\n",
       "      <th></th>\n",
       "      <th>Sepal.Length</th>\n",
       "      <th>Sepal.Width</th>\n",
       "      <th>Petal.Length</th>\n",
       "      <th>Petal.Width</th>\n",
       "      <th>Species</th>\n",
       "    </tr>\n",
       "  </thead>\n",
       "  <tbody>\n",
       "    <tr>\n",
       "      <th>0</th>\n",
       "      <td>5.1</td>\n",
       "      <td>3.5</td>\n",
       "      <td>1.4</td>\n",
       "      <td>0.2</td>\n",
       "      <td>setosa</td>\n",
       "    </tr>\n",
       "    <tr>\n",
       "      <th>1</th>\n",
       "      <td>4.9</td>\n",
       "      <td>3.0</td>\n",
       "      <td>1.4</td>\n",
       "      <td>0.2</td>\n",
       "      <td>setosa</td>\n",
       "    </tr>\n",
       "    <tr>\n",
       "      <th>2</th>\n",
       "      <td>4.7</td>\n",
       "      <td>3.2</td>\n",
       "      <td>1.3</td>\n",
       "      <td>0.2</td>\n",
       "      <td>setosa</td>\n",
       "    </tr>\n",
       "    <tr>\n",
       "      <th>3</th>\n",
       "      <td>4.6</td>\n",
       "      <td>3.1</td>\n",
       "      <td>1.5</td>\n",
       "      <td>0.2</td>\n",
       "      <td>setosa</td>\n",
       "    </tr>\n",
       "    <tr>\n",
       "      <th>4</th>\n",
       "      <td>5.0</td>\n",
       "      <td>3.6</td>\n",
       "      <td>1.4</td>\n",
       "      <td>0.2</td>\n",
       "      <td>setosa</td>\n",
       "    </tr>\n",
       "  </tbody>\n",
       "</table>\n",
       "</div>"
      ],
      "text/plain": [
       "   Sepal.Length  Sepal.Width  Petal.Length  Petal.Width Species\n",
       "0           5.1          3.5           1.4          0.2  setosa\n",
       "1           4.9          3.0           1.4          0.2  setosa\n",
       "2           4.7          3.2           1.3          0.2  setosa\n",
       "3           4.6          3.1           1.5          0.2  setosa\n",
       "4           5.0          3.6           1.4          0.2  setosa"
      ]
     },
     "execution_count": 104,
     "metadata": {},
     "output_type": "execute_result"
    }
   ],
   "source": [
    "iris.head()"
   ]
  },
  {
   "cell_type": "code",
   "execution_count": 117,
   "id": "570652e1",
   "metadata": {},
   "outputs": [
    {
     "data": {
      "text/html": [
       "<div>\n",
       "<style scoped>\n",
       "    .dataframe tbody tr th:only-of-type {\n",
       "        vertical-align: middle;\n",
       "    }\n",
       "\n",
       "    .dataframe tbody tr th {\n",
       "        vertical-align: top;\n",
       "    }\n",
       "\n",
       "    .dataframe thead th {\n",
       "        text-align: right;\n",
       "    }\n",
       "</style>\n",
       "<table border=\"1\" class=\"dataframe\">\n",
       "  <thead>\n",
       "    <tr style=\"text-align: right;\">\n",
       "      <th></th>\n",
       "      <th>Sepal.Length</th>\n",
       "      <th>Sepal.Width</th>\n",
       "      <th>Petal.Length</th>\n",
       "      <th>Petal.Width</th>\n",
       "    </tr>\n",
       "  </thead>\n",
       "  <tbody>\n",
       "    <tr>\n",
       "      <th>0</th>\n",
       "      <td>5.1</td>\n",
       "      <td>3.5</td>\n",
       "      <td>1.4</td>\n",
       "      <td>0.2</td>\n",
       "    </tr>\n",
       "    <tr>\n",
       "      <th>1</th>\n",
       "      <td>4.9</td>\n",
       "      <td>3.0</td>\n",
       "      <td>1.4</td>\n",
       "      <td>0.2</td>\n",
       "    </tr>\n",
       "    <tr>\n",
       "      <th>2</th>\n",
       "      <td>4.7</td>\n",
       "      <td>3.2</td>\n",
       "      <td>1.3</td>\n",
       "      <td>0.2</td>\n",
       "    </tr>\n",
       "    <tr>\n",
       "      <th>3</th>\n",
       "      <td>4.6</td>\n",
       "      <td>3.1</td>\n",
       "      <td>1.5</td>\n",
       "      <td>0.2</td>\n",
       "    </tr>\n",
       "    <tr>\n",
       "      <th>4</th>\n",
       "      <td>5.0</td>\n",
       "      <td>3.6</td>\n",
       "      <td>1.4</td>\n",
       "      <td>0.2</td>\n",
       "    </tr>\n",
       "    <tr>\n",
       "      <th>...</th>\n",
       "      <td>...</td>\n",
       "      <td>...</td>\n",
       "      <td>...</td>\n",
       "      <td>...</td>\n",
       "    </tr>\n",
       "    <tr>\n",
       "      <th>145</th>\n",
       "      <td>6.7</td>\n",
       "      <td>3.0</td>\n",
       "      <td>5.2</td>\n",
       "      <td>2.3</td>\n",
       "    </tr>\n",
       "    <tr>\n",
       "      <th>146</th>\n",
       "      <td>6.3</td>\n",
       "      <td>2.5</td>\n",
       "      <td>5.0</td>\n",
       "      <td>1.9</td>\n",
       "    </tr>\n",
       "    <tr>\n",
       "      <th>147</th>\n",
       "      <td>6.5</td>\n",
       "      <td>3.0</td>\n",
       "      <td>5.2</td>\n",
       "      <td>2.0</td>\n",
       "    </tr>\n",
       "    <tr>\n",
       "      <th>148</th>\n",
       "      <td>6.2</td>\n",
       "      <td>3.4</td>\n",
       "      <td>5.4</td>\n",
       "      <td>2.3</td>\n",
       "    </tr>\n",
       "    <tr>\n",
       "      <th>149</th>\n",
       "      <td>5.9</td>\n",
       "      <td>3.0</td>\n",
       "      <td>5.1</td>\n",
       "      <td>1.8</td>\n",
       "    </tr>\n",
       "  </tbody>\n",
       "</table>\n",
       "<p>150 rows × 4 columns</p>\n",
       "</div>"
      ],
      "text/plain": [
       "     Sepal.Length  Sepal.Width  Petal.Length  Petal.Width\n",
       "0             5.1          3.5           1.4          0.2\n",
       "1             4.9          3.0           1.4          0.2\n",
       "2             4.7          3.2           1.3          0.2\n",
       "3             4.6          3.1           1.5          0.2\n",
       "4             5.0          3.6           1.4          0.2\n",
       "..            ...          ...           ...          ...\n",
       "145           6.7          3.0           5.2          2.3\n",
       "146           6.3          2.5           5.0          1.9\n",
       "147           6.5          3.0           5.2          2.0\n",
       "148           6.2          3.4           5.4          2.3\n",
       "149           5.9          3.0           5.1          1.8\n",
       "\n",
       "[150 rows x 4 columns]"
      ]
     },
     "execution_count": 117,
     "metadata": {},
     "output_type": "execute_result"
    }
   ],
   "source": [
    "iris.iloc[:,0:4]"
   ]
  },
  {
   "cell_type": "code",
   "execution_count": 108,
   "id": "cf01eadc",
   "metadata": {},
   "outputs": [
    {
     "data": {
      "text/plain": [
       "setosa        50\n",
       "versicolor    50\n",
       "virginica     50\n",
       "Name: Species, dtype: int64"
      ]
     },
     "execution_count": 108,
     "metadata": {},
     "output_type": "execute_result"
    }
   ],
   "source": [
    "iris.Species.value_counts()"
   ]
  },
  {
   "cell_type": "code",
   "execution_count": 110,
   "id": "7d14b6c0",
   "metadata": {},
   "outputs": [],
   "source": [
    "import sklearn.cluster"
   ]
  },
  {
   "cell_type": "code",
   "execution_count": 113,
   "id": "1a31a020",
   "metadata": {},
   "outputs": [],
   "source": [
    "from sklearn.cluster import KMeans"
   ]
  },
  {
   "cell_type": "code",
   "execution_count": 121,
   "id": "1b5c408c",
   "metadata": {},
   "outputs": [],
   "source": [
    "kmeans = KMeans(n_clusters=3, random_state=1).fit(iris.iloc[:,0:4])"
   ]
  },
  {
   "cell_type": "code",
   "execution_count": 122,
   "id": "49410159",
   "metadata": {},
   "outputs": [
    {
     "data": {
      "text/plain": [
       "KMeans(algorithm='auto', copy_x=True, init='k-means++', max_iter=300,\n",
       "       n_clusters=3, n_init=10, n_jobs=None, precompute_distances='auto',\n",
       "       random_state=1, tol=0.0001, verbose=0)"
      ]
     },
     "execution_count": 122,
     "metadata": {},
     "output_type": "execute_result"
    }
   ],
   "source": [
    "kmeans"
   ]
  },
  {
   "cell_type": "code",
   "execution_count": 123,
   "id": "9d84b272",
   "metadata": {},
   "outputs": [
    {
     "data": {
      "text/plain": [
       "array([1, 1, 1, 1, 1, 1, 1, 1, 1, 1, 1, 1, 1, 1, 1, 1, 1, 1, 1, 1, 1, 1,\n",
       "       1, 1, 1, 1, 1, 1, 1, 1, 1, 1, 1, 1, 1, 1, 1, 1, 1, 1, 1, 1, 1, 1,\n",
       "       1, 1, 1, 1, 1, 1, 0, 0, 2, 0, 0, 0, 0, 0, 0, 0, 0, 0, 0, 0, 0, 0,\n",
       "       0, 0, 0, 0, 0, 0, 0, 0, 0, 0, 0, 2, 0, 0, 0, 0, 0, 0, 0, 0, 0, 0,\n",
       "       0, 0, 0, 0, 0, 0, 0, 0, 0, 0, 0, 0, 2, 0, 2, 2, 2, 2, 0, 2, 2, 2,\n",
       "       2, 2, 2, 0, 0, 2, 2, 2, 2, 0, 2, 0, 2, 0, 2, 2, 0, 0, 2, 2, 2, 2,\n",
       "       2, 0, 2, 2, 2, 2, 0, 2, 2, 2, 0, 2, 2, 2, 0, 2, 2, 0])"
      ]
     },
     "execution_count": 123,
     "metadata": {},
     "output_type": "execute_result"
    }
   ],
   "source": [
    "kmeans.labels_"
   ]
  },
  {
   "cell_type": "code",
   "execution_count": 133,
   "id": "bc94beb6",
   "metadata": {},
   "outputs": [],
   "source": [
    "iris[\"labels_\"]=kmeans.labels_"
   ]
  },
  {
   "cell_type": "code",
   "execution_count": 134,
   "id": "68cbf782",
   "metadata": {},
   "outputs": [
    {
     "data": {
      "text/html": [
       "<div>\n",
       "<style scoped>\n",
       "    .dataframe tbody tr th:only-of-type {\n",
       "        vertical-align: middle;\n",
       "    }\n",
       "\n",
       "    .dataframe tbody tr th {\n",
       "        vertical-align: top;\n",
       "    }\n",
       "\n",
       "    .dataframe thead th {\n",
       "        text-align: right;\n",
       "    }\n",
       "</style>\n",
       "<table border=\"1\" class=\"dataframe\">\n",
       "  <thead>\n",
       "    <tr style=\"text-align: right;\">\n",
       "      <th></th>\n",
       "      <th>Sepal.Length</th>\n",
       "      <th>Sepal.Width</th>\n",
       "      <th>Petal.Length</th>\n",
       "      <th>Petal.Width</th>\n",
       "      <th>Species</th>\n",
       "      <th>labels_</th>\n",
       "    </tr>\n",
       "  </thead>\n",
       "  <tbody>\n",
       "    <tr>\n",
       "      <th>0</th>\n",
       "      <td>5.1</td>\n",
       "      <td>3.5</td>\n",
       "      <td>1.4</td>\n",
       "      <td>0.2</td>\n",
       "      <td>setosa</td>\n",
       "      <td>1</td>\n",
       "    </tr>\n",
       "    <tr>\n",
       "      <th>1</th>\n",
       "      <td>4.9</td>\n",
       "      <td>3.0</td>\n",
       "      <td>1.4</td>\n",
       "      <td>0.2</td>\n",
       "      <td>setosa</td>\n",
       "      <td>1</td>\n",
       "    </tr>\n",
       "    <tr>\n",
       "      <th>2</th>\n",
       "      <td>4.7</td>\n",
       "      <td>3.2</td>\n",
       "      <td>1.3</td>\n",
       "      <td>0.2</td>\n",
       "      <td>setosa</td>\n",
       "      <td>1</td>\n",
       "    </tr>\n",
       "    <tr>\n",
       "      <th>3</th>\n",
       "      <td>4.6</td>\n",
       "      <td>3.1</td>\n",
       "      <td>1.5</td>\n",
       "      <td>0.2</td>\n",
       "      <td>setosa</td>\n",
       "      <td>1</td>\n",
       "    </tr>\n",
       "    <tr>\n",
       "      <th>4</th>\n",
       "      <td>5.0</td>\n",
       "      <td>3.6</td>\n",
       "      <td>1.4</td>\n",
       "      <td>0.2</td>\n",
       "      <td>setosa</td>\n",
       "      <td>1</td>\n",
       "    </tr>\n",
       "  </tbody>\n",
       "</table>\n",
       "</div>"
      ],
      "text/plain": [
       "   Sepal.Length  Sepal.Width  Petal.Length  Petal.Width Species  labels_\n",
       "0           5.1          3.5           1.4          0.2  setosa        1\n",
       "1           4.9          3.0           1.4          0.2  setosa        1\n",
       "2           4.7          3.2           1.3          0.2  setosa        1\n",
       "3           4.6          3.1           1.5          0.2  setosa        1\n",
       "4           5.0          3.6           1.4          0.2  setosa        1"
      ]
     },
     "execution_count": 134,
     "metadata": {},
     "output_type": "execute_result"
    }
   ],
   "source": [
    "iris.head()"
   ]
  },
  {
   "cell_type": "code",
   "execution_count": 158,
   "id": "2f0de218",
   "metadata": {},
   "outputs": [
    {
     "data": {
      "text/plain": [
       "Sepal.Length       5.1\n",
       "Sepal.Width        3.5\n",
       "Petal.Length       1.4\n",
       "Petal.Width        0.2\n",
       "Species         setosa\n",
       "labels_              1\n",
       "Name: 0, dtype: object"
      ]
     },
     "execution_count": 158,
     "metadata": {},
     "output_type": "execute_result"
    }
   ],
   "source": [
    "iris.iloc[0,:]"
   ]
  },
  {
   "cell_type": "code",
   "execution_count": 156,
   "id": "fde01337",
   "metadata": {},
   "outputs": [
    {
     "data": {
      "text/plain": [
       "Sepal.Length           5.7\n",
       "Sepal.Width            2.8\n",
       "Petal.Length           4.1\n",
       "Petal.Width            1.3\n",
       "Species         versicolor\n",
       "labels_                  0\n",
       "Name: 99, dtype: object"
      ]
     },
     "execution_count": 156,
     "metadata": {},
     "output_type": "execute_result"
    }
   ],
   "source": [
    "iris.iloc[99,:]"
   ]
  },
  {
   "cell_type": "code",
   "execution_count": 155,
   "id": "5ecd52a2",
   "metadata": {},
   "outputs": [
    {
     "data": {
      "text/plain": [
       "Sepal.Length          5.9\n",
       "Sepal.Width           3.0\n",
       "Petal.Length          5.1\n",
       "Petal.Width           1.8\n",
       "Species         virginica\n",
       "labels_                 0\n",
       "Name: 149, dtype: object"
      ]
     },
     "execution_count": 155,
     "metadata": {},
     "output_type": "execute_result"
    }
   ],
   "source": [
    "iris.iloc[149,:]"
   ]
  },
  {
   "cell_type": "code",
   "execution_count": 140,
   "id": "0a1d6677",
   "metadata": {},
   "outputs": [
    {
     "data": {
      "text/plain": [
       "array(['1', '1', '1', '1', '1', '1', '1', '1', '1', '1', '1', '1', '1',\n",
       "       '1', '1', '1', '1', '1', '1', '1', '1', '1', '1', '1', '1', '1',\n",
       "       '1', '1', '1', '1', '1', '1', '1', '1', '1', '1', '1', '1', '1',\n",
       "       '1', '1', '1', '1', '1', '1', '1', '1', '1', '1', '1', '0', '0',\n",
       "       '2', '0', '0', '0', '0', '0', '0', '0', '0', '0', '0', '0', '0',\n",
       "       '0', '0', '0', '0', '0', '0', '0', '0', '0', '0', '0', '0', '2',\n",
       "       '0', '0', '0', '0', '0', '0', '0', '0', '0', '0', '0', '0', '0',\n",
       "       '0', '0', '0', '0', '0', '0', '0', '0', '0', '2', '0', '2', '2',\n",
       "       '2', '2', '0', '2', '2', '2', '2', '2', '2', '0', '0', '2', '2',\n",
       "       '2', '2', '0', '2', '0', '2', '0', '2', '2', '0', '0', '2', '2',\n",
       "       '2', '2', '2', '0', '2', '2', '2', '2', '0', '2', '2', '2', '0',\n",
       "       '2', '2', '2', '0', '2', '2', '0'], dtype='<U11')"
      ]
     },
     "execution_count": 140,
     "metadata": {},
     "output_type": "execute_result"
    }
   ],
   "source": [
    "iris.labels_.values.astype('str')"
   ]
  },
  {
   "cell_type": "code",
   "execution_count": 160,
   "id": "ab7425c2",
   "metadata": {},
   "outputs": [
    {
     "data": {
      "text/plain": [
       "array([[0, 0, 0],\n",
       "       [0, 0, 0],\n",
       "       [0, 0, 0]], dtype=int64)"
      ]
     },
     "execution_count": 160,
     "metadata": {},
     "output_type": "execute_result"
    }
   ],
   "source": [
    "from sklearn.metrics import confusion_matrix\n",
    "confusion_matrix(iris.iloc[:,4], iris.labels_.values.astype('str'),labels=[\"setosa\", \"versicolor\", \"virginica\"])"
   ]
  },
  {
   "cell_type": "code",
   "execution_count": 162,
   "id": "8d35d103",
   "metadata": {},
   "outputs": [
    {
     "data": {
      "text/plain": [
       "array(['1', '1', '1', '1', '1', '1', '1', '1', '1', '1', '1', '1', '1',\n",
       "       '1', '1', '1', '1', '1', '1', '1', '1', '1', '1', '1', '1', '1',\n",
       "       '1', '1', '1', '1', '1', '1', '1', '1', '1', '1', '1', '1', '1',\n",
       "       '1', '1', '1', '1', '1', '1', '1', '1', '1', '1', '1', '0', '0',\n",
       "       '2', '0', '0', '0', '0', '0', '0', '0', '0', '0', '0', '0', '0',\n",
       "       '0', '0', '0', '0', '0', '0', '0', '0', '0', '0', '0', '0', '2',\n",
       "       '0', '0', '0', '0', '0', '0', '0', '0', '0', '0', '0', '0', '0',\n",
       "       '0', '0', '0', '0', '0', '0', '0', '0', '0', '2', '0', '2', '2',\n",
       "       '2', '2', '0', '2', '2', '2', '2', '2', '2', '0', '0', '2', '2',\n",
       "       '2', '2', '0', '2', '0', '2', '0', '2', '2', '0', '0', '2', '2',\n",
       "       '2', '2', '2', '0', '2', '2', '2', '2', '0', '2', '2', '2', '0',\n",
       "       '2', '2', '2', '0', '2', '2', '0'], dtype='<U11')"
      ]
     },
     "execution_count": 162,
     "metadata": {},
     "output_type": "execute_result"
    }
   ],
   "source": [
    "iris.labels_.values.astype('str')"
   ]
  },
  {
   "cell_type": "code",
   "execution_count": 167,
   "id": "cc376da0",
   "metadata": {},
   "outputs": [],
   "source": [
    "m = {\"setosa\":0, \"versicolor\":1, \"virginica\":2}\n",
    "iris[\"Species_\"] = iris[\"Species\"].map(m)"
   ]
  },
  {
   "cell_type": "code",
   "execution_count": 165,
   "id": "aa74e11f",
   "metadata": {},
   "outputs": [
    {
     "data": {
      "text/html": [
       "<div>\n",
       "<style scoped>\n",
       "    .dataframe tbody tr th:only-of-type {\n",
       "        vertical-align: middle;\n",
       "    }\n",
       "\n",
       "    .dataframe tbody tr th {\n",
       "        vertical-align: top;\n",
       "    }\n",
       "\n",
       "    .dataframe thead th {\n",
       "        text-align: right;\n",
       "    }\n",
       "</style>\n",
       "<table border=\"1\" class=\"dataframe\">\n",
       "  <thead>\n",
       "    <tr style=\"text-align: right;\">\n",
       "      <th></th>\n",
       "      <th>Sepal.Length</th>\n",
       "      <th>Sepal.Width</th>\n",
       "      <th>Petal.Length</th>\n",
       "      <th>Petal.Width</th>\n",
       "      <th>Species</th>\n",
       "      <th>labels_</th>\n",
       "      <th>Species_</th>\n",
       "    </tr>\n",
       "  </thead>\n",
       "  <tbody>\n",
       "    <tr>\n",
       "      <th>0</th>\n",
       "      <td>5.1</td>\n",
       "      <td>3.5</td>\n",
       "      <td>1.4</td>\n",
       "      <td>0.2</td>\n",
       "      <td>setosa</td>\n",
       "      <td>1</td>\n",
       "      <td>0</td>\n",
       "    </tr>\n",
       "    <tr>\n",
       "      <th>1</th>\n",
       "      <td>4.9</td>\n",
       "      <td>3.0</td>\n",
       "      <td>1.4</td>\n",
       "      <td>0.2</td>\n",
       "      <td>setosa</td>\n",
       "      <td>1</td>\n",
       "      <td>0</td>\n",
       "    </tr>\n",
       "    <tr>\n",
       "      <th>2</th>\n",
       "      <td>4.7</td>\n",
       "      <td>3.2</td>\n",
       "      <td>1.3</td>\n",
       "      <td>0.2</td>\n",
       "      <td>setosa</td>\n",
       "      <td>1</td>\n",
       "      <td>0</td>\n",
       "    </tr>\n",
       "    <tr>\n",
       "      <th>3</th>\n",
       "      <td>4.6</td>\n",
       "      <td>3.1</td>\n",
       "      <td>1.5</td>\n",
       "      <td>0.2</td>\n",
       "      <td>setosa</td>\n",
       "      <td>1</td>\n",
       "      <td>0</td>\n",
       "    </tr>\n",
       "    <tr>\n",
       "      <th>4</th>\n",
       "      <td>5.0</td>\n",
       "      <td>3.6</td>\n",
       "      <td>1.4</td>\n",
       "      <td>0.2</td>\n",
       "      <td>setosa</td>\n",
       "      <td>1</td>\n",
       "      <td>0</td>\n",
       "    </tr>\n",
       "  </tbody>\n",
       "</table>\n",
       "</div>"
      ],
      "text/plain": [
       "   Sepal.Length  Sepal.Width  Petal.Length  Petal.Width Species  labels_  \\\n",
       "0           5.1          3.5           1.4          0.2  setosa        1   \n",
       "1           4.9          3.0           1.4          0.2  setosa        1   \n",
       "2           4.7          3.2           1.3          0.2  setosa        1   \n",
       "3           4.6          3.1           1.5          0.2  setosa        1   \n",
       "4           5.0          3.6           1.4          0.2  setosa        1   \n",
       "\n",
       "   Species_  \n",
       "0         0  \n",
       "1         0  \n",
       "2         0  \n",
       "3         0  \n",
       "4         0  "
      ]
     },
     "execution_count": 165,
     "metadata": {},
     "output_type": "execute_result"
    }
   ],
   "source": [
    "iris.head()"
   ]
  },
  {
   "cell_type": "code",
   "execution_count": 168,
   "id": "4989502c",
   "metadata": {},
   "outputs": [
    {
     "data": {
      "text/plain": [
       "array([[ 0, 50,  0],\n",
       "       [48,  0,  2],\n",
       "       [14,  0, 36]], dtype=int64)"
      ]
     },
     "execution_count": 168,
     "metadata": {},
     "output_type": "execute_result"
    }
   ],
   "source": [
    "from sklearn.metrics import confusion_matrix\n",
    "confusion_matrix(iris.Species_, iris.labels_)"
   ]
  },
  {
   "cell_type": "code",
   "execution_count": 170,
   "id": "991ef7d2",
   "metadata": {},
   "outputs": [
    {
     "data": {
      "text/plain": [
       "Species_  labels_\n",
       "0         1          50\n",
       "1         0          48\n",
       "          2           2\n",
       "2         0          14\n",
       "          2          36\n",
       "Name: Species, dtype: int64"
      ]
     },
     "execution_count": 170,
     "metadata": {},
     "output_type": "execute_result"
    }
   ],
   "source": [
    "iris.groupby([\"Species_\",\"labels_\"]).count()[\"Species\"]"
   ]
  },
  {
   "cell_type": "code",
   "execution_count": 174,
   "id": "60645e28",
   "metadata": {},
   "outputs": [
    {
     "data": {
      "text/html": [
       "<div>\n",
       "<style scoped>\n",
       "    .dataframe tbody tr th:only-of-type {\n",
       "        vertical-align: middle;\n",
       "    }\n",
       "\n",
       "    .dataframe tbody tr th {\n",
       "        vertical-align: top;\n",
       "    }\n",
       "\n",
       "    .dataframe thead th {\n",
       "        text-align: right;\n",
       "    }\n",
       "</style>\n",
       "<table border=\"1\" class=\"dataframe\">\n",
       "  <thead>\n",
       "    <tr style=\"text-align: right;\">\n",
       "      <th></th>\n",
       "      <th>Sepal.Length</th>\n",
       "      <th>Sepal.Width</th>\n",
       "      <th>Petal.Length</th>\n",
       "      <th>Petal.Width</th>\n",
       "      <th>Species</th>\n",
       "      <th>labels_</th>\n",
       "      <th>Species_</th>\n",
       "    </tr>\n",
       "  </thead>\n",
       "  <tbody>\n",
       "    <tr>\n",
       "      <th>0</th>\n",
       "      <td>5.1</td>\n",
       "      <td>3.5</td>\n",
       "      <td>1.4</td>\n",
       "      <td>0.2</td>\n",
       "      <td>setosa</td>\n",
       "      <td>1</td>\n",
       "      <td>0</td>\n",
       "    </tr>\n",
       "    <tr>\n",
       "      <th>1</th>\n",
       "      <td>4.9</td>\n",
       "      <td>3.0</td>\n",
       "      <td>1.4</td>\n",
       "      <td>0.2</td>\n",
       "      <td>setosa</td>\n",
       "      <td>1</td>\n",
       "      <td>0</td>\n",
       "    </tr>\n",
       "    <tr>\n",
       "      <th>2</th>\n",
       "      <td>4.7</td>\n",
       "      <td>3.2</td>\n",
       "      <td>1.3</td>\n",
       "      <td>0.2</td>\n",
       "      <td>setosa</td>\n",
       "      <td>1</td>\n",
       "      <td>0</td>\n",
       "    </tr>\n",
       "    <tr>\n",
       "      <th>3</th>\n",
       "      <td>4.6</td>\n",
       "      <td>3.1</td>\n",
       "      <td>1.5</td>\n",
       "      <td>0.2</td>\n",
       "      <td>setosa</td>\n",
       "      <td>1</td>\n",
       "      <td>0</td>\n",
       "    </tr>\n",
       "    <tr>\n",
       "      <th>4</th>\n",
       "      <td>5.0</td>\n",
       "      <td>3.6</td>\n",
       "      <td>1.4</td>\n",
       "      <td>0.2</td>\n",
       "      <td>setosa</td>\n",
       "      <td>1</td>\n",
       "      <td>0</td>\n",
       "    </tr>\n",
       "  </tbody>\n",
       "</table>\n",
       "</div>"
      ],
      "text/plain": [
       "   Sepal.Length  Sepal.Width  Petal.Length  Petal.Width Species  labels_  \\\n",
       "0           5.1          3.5           1.4          0.2  setosa        1   \n",
       "1           4.9          3.0           1.4          0.2  setosa        1   \n",
       "2           4.7          3.2           1.3          0.2  setosa        1   \n",
       "3           4.6          3.1           1.5          0.2  setosa        1   \n",
       "4           5.0          3.6           1.4          0.2  setosa        1   \n",
       "\n",
       "   Species_  \n",
       "0         0  \n",
       "1         0  \n",
       "2         0  \n",
       "3         0  \n",
       "4         0  "
      ]
     },
     "execution_count": 174,
     "metadata": {},
     "output_type": "execute_result"
    }
   ],
   "source": [
    "iris.head()"
   ]
  },
  {
   "cell_type": "code",
   "execution_count": 198,
   "id": "02c81b0d",
   "metadata": {},
   "outputs": [
    {
     "data": {
      "image/png": "[encoded data removed]",
      "text/plain": [
       "<Figure size 432x288 with 1 Axes>"
      ]
     },
     "metadata": {
      "needs_background": "light"
     },
     "output_type": "display_data"
    }
   ],
   "source": [
    "import matplotlib.pyplot as plt\n",
    "plt.scatter(iris[\"Sepal.Length\"] , iris[\"Sepal.Width\"],\n",
    "            c=iris[\"Species_\"],\n",
    "            s=10\n",
    "           )\n",
    "plt.scatter(iris[\"Sepal.Length\"][iris[\"Species_\"]==0] , iris[\"Sepal.Width\"][iris[\"Species_\"]==0], marker='o')\n",
    "plt.scatter(iris[\"Sepal.Length\"][iris[\"Species_\"]==1] , iris[\"Sepal.Width\"][iris[\"Species_\"]==1], marker='+')\n",
    "plt.scatter(iris[\"Sepal.Length\"][iris[\"Species_\"]==2] , iris[\"Sepal.Width\"][iris[\"Species_\"]==2], marker='*')\n",
    "plt.show()"
   ]
  },
  {
   "cell_type": "markdown",
   "id": "953137f6",
   "metadata": {},
   "source": [
    "# 題目三：隨機森林迴歸預測模型 "
   ]
  },
  {
   "cell_type": "markdown",
   "id": "b0cb1cc7",
   "metadata": {},
   "source": [
    "## 10% 小題一：讀取資料 "
   ]
  },
  {
   "cell_type": "code",
   "execution_count": 201,
   "id": "a64ec21a",
   "metadata": {},
   "outputs": [],
   "source": [
    "from sklearn.ensemble import RandomForestRegressor "
   ]
  },
  {
   "cell_type": "code",
   "execution_count": 199,
   "id": "58427c2d",
   "metadata": {},
   "outputs": [],
   "source": [
    "car = pd.read_csv(\"巨量資料分析師中級術科題目資料集\\\\3_cars.csv\")"
   ]
  },
  {
   "cell_type": "code",
   "execution_count": 200,
   "id": "274495b7",
   "metadata": {},
   "outputs": [
    {
     "data": {
      "text/html": [
       "<div>\n",
       "<style scoped>\n",
       "    .dataframe tbody tr th:only-of-type {\n",
       "        vertical-align: middle;\n",
       "    }\n",
       "\n",
       "    .dataframe tbody tr th {\n",
       "        vertical-align: top;\n",
       "    }\n",
       "\n",
       "    .dataframe thead th {\n",
       "        text-align: right;\n",
       "    }\n",
       "</style>\n",
       "<table border=\"1\" class=\"dataframe\">\n",
       "  <thead>\n",
       "    <tr style=\"text-align: right;\">\n",
       "      <th></th>\n",
       "      <th>speed</th>\n",
       "      <th>dist</th>\n",
       "    </tr>\n",
       "  </thead>\n",
       "  <tbody>\n",
       "    <tr>\n",
       "      <th>0</th>\n",
       "      <td>4</td>\n",
       "      <td>2</td>\n",
       "    </tr>\n",
       "    <tr>\n",
       "      <th>1</th>\n",
       "      <td>4</td>\n",
       "      <td>10</td>\n",
       "    </tr>\n",
       "    <tr>\n",
       "      <th>2</th>\n",
       "      <td>7</td>\n",
       "      <td>4</td>\n",
       "    </tr>\n",
       "    <tr>\n",
       "      <th>3</th>\n",
       "      <td>7</td>\n",
       "      <td>22</td>\n",
       "    </tr>\n",
       "    <tr>\n",
       "      <th>4</th>\n",
       "      <td>8</td>\n",
       "      <td>16</td>\n",
       "    </tr>\n",
       "  </tbody>\n",
       "</table>\n",
       "</div>"
      ],
      "text/plain": [
       "   speed  dist\n",
       "0      4     2\n",
       "1      4    10\n",
       "2      7     4\n",
       "3      7    22\n",
       "4      8    16"
      ]
     },
     "execution_count": 200,
     "metadata": {},
     "output_type": "execute_result"
    }
   ],
   "source": [
    "car.head()"
   ]
  },
  {
   "cell_type": "code",
   "execution_count": 202,
   "id": "69ec4645",
   "metadata": {},
   "outputs": [
    {
     "name": "stdout",
     "output_type": "stream",
     "text": [
      "Help on class RandomForestRegressor in module sklearn.ensemble._forest:\n",
      "\n",
      "class RandomForestRegressor(ForestRegressor)\n",
      " |  RandomForestRegressor(n_estimators=100, criterion='mse', max_depth=None, min_samples_split=2, min_samples_leaf=1, min_weight_fraction_leaf=0.0, max_features='auto', max_leaf_nodes=None, min_impurity_decrease=0.0, min_impurity_split=None, bootstrap=True, oob_score=False, n_jobs=None, random_state=None, verbose=0, warm_start=False, ccp_alpha=0.0, max_samples=None)\n",
      " |  \n",
      " |  A random forest regressor.\n",
      " |  \n",
      " |  A random forest is a meta estimator that fits a number of classifying\n",
      " |  decision trees on various sub-samples of the dataset and uses averaging\n",
      " |  to improve the predictive accuracy and control over-fitting.\n",
      " |  The sub-sample size is always the same as the original\n",
      " |  input sample size but the samples are drawn with replacement if\n",
      " |  `bootstrap=True` (default).\n",
      " |  \n",
      " |  Read more in the :ref:`User Guide <forest>`.\n",
      " |  \n",
      " |  Parameters\n",
      " |  ----------\n",
      " |  n_estimators : integer, optional (default=10)\n",
      " |      The number of trees in the forest.\n",
      " |  \n",
      " |      .. versionchanged:: 0.22\n",
      " |         The default value of ``n_estimators`` changed from 10 to 100\n",
      " |         in 0.22.\n",
      " |  \n",
      " |  criterion : string, optional (default=\"mse\")\n",
      " |      The function to measure the quality of a split. Supported criteria\n",
      " |      are \"mse\" for the mean squared error, which is equal to variance\n",
      " |      reduction as feature selection criterion, and \"mae\" for the mean\n",
      " |      absolute error.\n",
      " |  \n",
      " |      .. versionadded:: 0.18\n",
      " |         Mean Absolute Error (MAE) criterion.\n",
      " |  \n",
      " |  max_depth : integer or None, optional (default=None)\n",
      " |      The maximum depth of the tree. If None, then nodes are expanded until\n",
      " |      all leaves are pure or until all leaves contain less than\n",
      " |      min_samples_split samples.\n",
      " |  \n",
      " |  min_samples_split : int, float, optional (default=2)\n",
      " |      The minimum number of samples required to split an internal node:\n",
      " |  \n",
      " |      - If int, then consider `min_samples_split` as the minimum number.\n",
      " |      - If float, then `min_samples_split` is a fraction and\n",
      " |        `ceil(min_samples_split * n_samples)` are the minimum\n",
      " |        number of samples for each split.\n",
      " |  \n",
      " |      .. versionchanged:: 0.18\n",
      " |         Added float values for fractions.\n",
      " |  \n",
      " |  min_samples_leaf : int, float, optional (default=1)\n",
      " |      The minimum number of samples required to be at a leaf node.\n",
      " |      A split point at any depth will only be considered if it leaves at\n",
      " |      least ``min_samples_leaf`` training samples in each of the left and\n",
      " |      right branches.  This may have the effect of smoothing the model,\n",
      " |      especially in regression.\n",
      " |  \n",
      " |      - If int, then consider `min_samples_leaf` as the minimum number.\n",
      " |      - If float, then `min_samples_leaf` is a fraction and\n",
      " |        `ceil(min_samples_leaf * n_samples)` are the minimum\n",
      " |        number of samples for each node.\n",
      " |  \n",
      " |      .. versionchanged:: 0.18\n",
      " |         Added float values for fractions.\n",
      " |  \n",
      " |  min_weight_fraction_leaf : float, optional (default=0.)\n",
      " |      The minimum weighted fraction of the sum total of weights (of all\n",
      " |      the input samples) required to be at a leaf node. Samples have\n",
      " |      equal weight when sample_weight is not provided.\n",
      " |  \n",
      " |  max_features : int, float, string or None, optional (default=\"auto\")\n",
      " |      The number of features to consider when looking for the best split:\n",
      " |  \n",
      " |      - If int, then consider `max_features` features at each split.\n",
      " |      - If float, then `max_features` is a fraction and\n",
      " |        `int(max_features * n_features)` features are considered at each\n",
      " |        split.\n",
      " |      - If \"auto\", then `max_features=n_features`.\n",
      " |      - If \"sqrt\", then `max_features=sqrt(n_features)`.\n",
      " |      - If \"log2\", then `max_features=log2(n_features)`.\n",
      " |      - If None, then `max_features=n_features`.\n",
      " |  \n",
      " |      Note: the search for a split does not stop until at least one\n",
      " |      valid partition of the node samples is found, even if it requires to\n",
      " |      effectively inspect more than ``max_features`` features.\n",
      " |  \n",
      " |  max_leaf_nodes : int or None, optional (default=None)\n",
      " |      Grow trees with ``max_leaf_nodes`` in best-first fashion.\n",
      " |      Best nodes are defined as relative reduction in impurity.\n",
      " |      If None then unlimited number of leaf nodes.\n",
      " |  \n",
      " |  min_impurity_decrease : float, optional (default=0.)\n",
      " |      A node will be split if this split induces a decrease of the impurity\n",
      " |      greater than or equal to this value.\n",
      " |  \n",
      " |      The weighted impurity decrease equation is the following::\n",
      " |  \n",
      " |          N_t / N * (impurity - N_t_R / N_t * right_impurity\n",
      " |                              - N_t_L / N_t * left_impurity)\n",
      " |  \n",
      " |      where ``N`` is the total number of samples, ``N_t`` is the number of\n",
      " |      samples at the current node, ``N_t_L`` is the number of samples in the\n",
      " |      left child, and ``N_t_R`` is the number of samples in the right child.\n",
      " |  \n",
      " |      ``N``, ``N_t``, ``N_t_R`` and ``N_t_L`` all refer to the weighted sum,\n",
      " |      if ``sample_weight`` is passed.\n",
      " |  \n",
      " |      .. versionadded:: 0.19\n",
      " |  \n",
      " |  min_impurity_split : float, (default=1e-7)\n",
      " |      Threshold for early stopping in tree growth. A node will split\n",
      " |      if its impurity is above the threshold, otherwise it is a leaf.\n",
      " |  \n",
      " |      .. deprecated:: 0.19\n",
      " |         ``min_impurity_split`` has been deprecated in favor of\n",
      " |         ``min_impurity_decrease`` in 0.19. The default value of\n",
      " |         ``min_impurity_split`` will change from 1e-7 to 0 in 0.23 and it\n",
      " |         will be removed in 0.25. Use ``min_impurity_decrease`` instead.\n",
      " |  \n",
      " |  bootstrap : boolean, optional (default=True)\n",
      " |      Whether bootstrap samples are used when building trees. If False, the\n",
      " |      whole datset is used to build each tree.\n",
      " |  \n",
      " |  oob_score : bool, optional (default=False)\n",
      " |      whether to use out-of-bag samples to estimate\n",
      " |      the R^2 on unseen data.\n",
      " |  \n",
      " |  n_jobs : int or None, optional (default=None)\n",
      " |      The number of jobs to run in parallel. :meth:`fit`, :meth:`predict`,\n",
      " |      :meth:`decision_path` and :meth:`apply` are all parallelized over the\n",
      " |      trees. ``None`` means 1 unless in a :obj:`joblib.parallel_backend`\n",
      " |      context. ``-1`` means using all processors. See :term:`Glossary\n",
      " |      <n_jobs>` for more details.\n",
      " |  \n",
      " |  random_state : int, RandomState instance or None, optional (default=None)\n",
      " |      Controls both the randomness of the bootstrapping of the samples used\n",
      " |      when building trees (if ``bootstrap=True``) and the sampling of the\n",
      " |      features to consider when looking for the best split at each node\n",
      " |      (if ``max_features < n_features``).\n",
      " |      See :term:`Glossary <random_state>` for details.\n",
      " |  \n",
      " |  verbose : int, optional (default=0)\n",
      " |      Controls the verbosity when fitting and predicting.\n",
      " |  \n",
      " |  warm_start : bool, optional (default=False)\n",
      " |      When set to ``True``, reuse the solution of the previous call to fit\n",
      " |      and add more estimators to the ensemble, otherwise, just fit a whole\n",
      " |      new forest. See :term:`the Glossary <warm_start>`.\n",
      " |  \n",
      " |  ccp_alpha : non-negative float, optional (default=0.0)\n",
      " |      Complexity parameter used for Minimal Cost-Complexity Pruning. The\n",
      " |      subtree with the largest cost complexity that is smaller than\n",
      " |      ``ccp_alpha`` will be chosen. By default, no pruning is performed. See\n",
      " |      :ref:`minimal_cost_complexity_pruning` for details.\n",
      " |  \n",
      " |      .. versionadded:: 0.22\n",
      " |  \n",
      " |  max_samples : int or float, default=None\n",
      " |      If bootstrap is True, the number of samples to draw from X\n",
      " |      to train each base estimator.\n",
      " |  \n",
      " |      - If None (default), then draw `X.shape[0]` samples.\n",
      " |      - If int, then draw `max_samples` samples.\n",
      " |      - If float, then draw `max_samples * X.shape[0]` samples. Thus,\n",
      " |        `max_samples` should be in the interval `(0, 1)`.\n",
      " |  \n",
      " |      .. versionadded:: 0.22\n",
      " |  \n",
      " |  Attributes\n",
      " |  ----------\n",
      " |  base_estimator_ : DecisionTreeRegressor\n",
      " |      The child estimator template used to create the collection of fitted\n",
      " |      sub-estimators.\n",
      " |  \n",
      " |  estimators_ : list of DecisionTreeRegressor\n",
      " |      The collection of fitted sub-estimators.\n",
      " |  \n",
      " |  feature_importances_ : ndarray of shape (n_features,)\n",
      " |      The feature importances (the higher, the more important the feature).\n",
      " |  \n",
      " |  n_features_ : int\n",
      " |      The number of features when ``fit`` is performed.\n",
      " |  \n",
      " |  n_outputs_ : int\n",
      " |      The number of outputs when ``fit`` is performed.\n",
      " |  \n",
      " |  oob_score_ : float\n",
      " |      Score of the training dataset obtained using an out-of-bag estimate.\n",
      " |      This attribute exists only when ``oob_score`` is True.\n",
      " |  \n",
      " |  oob_prediction_ : ndarray of shape (n_samples,)\n",
      " |      Prediction computed with out-of-bag estimate on the training set.\n",
      " |      This attribute exists only when ``oob_score`` is True.\n",
      " |  \n",
      " |  Examples\n",
      " |  --------\n",
      " |  >>> from sklearn.ensemble import RandomForestRegressor\n",
      " |  >>> from sklearn.datasets import make_regression\n",
      " |  \n",
      " |  >>> X, y = make_regression(n_features=4, n_informative=2,\n",
      " |  ...                        random_state=0, shuffle=False)\n",
      " |  >>> regr = RandomForestRegressor(max_depth=2, random_state=0)\n",
      " |  >>> regr.fit(X, y)\n",
      " |  RandomForestRegressor(max_depth=2, random_state=0)\n",
      " |  >>> print(regr.feature_importances_)\n",
      " |  [0.18146984 0.81473937 0.00145312 0.00233767]\n",
      " |  >>> print(regr.predict([[0, 0, 0, 0]]))\n",
      " |  [-8.32987858]\n",
      " |  \n",
      " |  Notes\n",
      " |  -----\n",
      " |  The default values for the parameters controlling the size of the trees\n",
      " |  (e.g. ``max_depth``, ``min_samples_leaf``, etc.) lead to fully grown and\n",
      " |  unpruned trees which can potentially be very large on some data sets. To\n",
      " |  reduce memory consumption, the complexity and size of the trees should be\n",
      " |  controlled by setting those parameter values.\n",
      " |  \n",
      " |  The features are always randomly permuted at each split. Therefore,\n",
      " |  the best found split may vary, even with the same training data,\n",
      " |  ``max_features=n_features`` and ``bootstrap=False``, if the improvement\n",
      " |  of the criterion is identical for several splits enumerated during the\n",
      " |  search of the best split. To obtain a deterministic behaviour during\n",
      " |  fitting, ``random_state`` has to be fixed.\n",
      " |  \n",
      " |  The default value ``max_features=\"auto\"`` uses ``n_features``\n",
      " |  rather than ``n_features / 3``. The latter was originally suggested in\n",
      " |  [1], whereas the former was more recently justified empirically in [2].\n",
      " |  \n",
      " |  References\n",
      " |  ----------\n",
      " |  \n",
      " |  .. [1] L. Breiman, \"Random Forests\", Machine Learning, 45(1), 5-32, 2001.\n",
      " |  \n",
      " |  .. [2] P. Geurts, D. Ernst., and L. Wehenkel, \"Extremely randomized\n",
      " |         trees\", Machine Learning, 63(1), 3-42, 2006.\n",
      " |  \n",
      " |  See Also\n",
      " |  --------\n",
      " |  DecisionTreeRegressor, ExtraTreesRegressor\n",
      " |  \n",
      " |  Method resolution order:\n",
      " |      RandomForestRegressor\n",
      " |      ForestRegressor\n",
      " |      sklearn.base.RegressorMixin\n",
      " |      BaseForest\n",
      " |      sklearn.base.MultiOutputMixin\n",
      " |      sklearn.ensemble._base.BaseEnsemble\n",
      " |      sklearn.base.MetaEstimatorMixin\n",
      " |      sklearn.base.BaseEstimator\n",
      " |      builtins.object\n",
      " |  \n",
      " |  Methods defined here:\n",
      " |  \n",
      " |  __init__(self, n_estimators=100, criterion='mse', max_depth=None, min_samples_split=2, min_samples_leaf=1, min_weight_fraction_leaf=0.0, max_features='auto', max_leaf_nodes=None, min_impurity_decrease=0.0, min_impurity_split=None, bootstrap=True, oob_score=False, n_jobs=None, random_state=None, verbose=0, warm_start=False, ccp_alpha=0.0, max_samples=None)\n",
      " |      Initialize self.  See help(type(self)) for accurate signature.\n",
      " |  \n",
      " |  ----------------------------------------------------------------------\n",
      " |  Data and other attributes defined here:\n",
      " |  \n",
      " |  __abstractmethods__ = frozenset()\n",
      " |  \n",
      " |  ----------------------------------------------------------------------\n",
      " |  Methods inherited from ForestRegressor:\n",
      " |  \n",
      " |  predict(self, X)\n",
      " |      Predict regression target for X.\n",
      " |      \n",
      " |      The predicted regression target of an input sample is computed as the\n",
      " |      mean predicted regression targets of the trees in the forest.\n",
      " |      \n",
      " |      Parameters\n",
      " |      ----------\n",
      " |      X : array-like or sparse matrix of shape (n_samples, n_features)\n",
      " |          The input samples. Internally, its dtype will be converted to\n",
      " |          ``dtype=np.float32``. If a sparse matrix is provided, it will be\n",
      " |          converted into a sparse ``csr_matrix``.\n",
      " |      \n",
      " |      Returns\n",
      " |      -------\n",
      " |      y : array-like of shape (n_samples,) or (n_samples, n_outputs)\n",
      " |          The predicted values.\n",
      " |  \n",
      " |  ----------------------------------------------------------------------\n",
      " |  Methods inherited from sklearn.base.RegressorMixin:\n",
      " |  \n",
      " |  score(self, X, y, sample_weight=None)\n",
      " |      Return the coefficient of determination R^2 of the prediction.\n",
      " |      \n",
      " |      The coefficient R^2 is defined as (1 - u/v), where u is the residual\n",
      " |      sum of squares ((y_true - y_pred) ** 2).sum() and v is the total\n",
      " |      sum of squares ((y_true - y_true.mean()) ** 2).sum().\n",
      " |      The best possible score is 1.0 and it can be negative (because the\n",
      " |      model can be arbitrarily worse). A constant model that always\n",
      " |      predicts the expected value of y, disregarding the input features,\n",
      " |      would get a R^2 score of 0.0.\n",
      " |      \n",
      " |      Parameters\n",
      " |      ----------\n",
      " |      X : array-like of shape (n_samples, n_features)\n",
      " |          Test samples. For some estimators this may be a\n",
      " |          precomputed kernel matrix or a list of generic objects instead,\n",
      " |          shape = (n_samples, n_samples_fitted),\n",
      " |          where n_samples_fitted is the number of\n",
      " |          samples used in the fitting for the estimator.\n",
      " |      \n",
      " |      y : array-like of shape (n_samples,) or (n_samples, n_outputs)\n",
      " |          True values for X.\n",
      " |      \n",
      " |      sample_weight : array-like of shape (n_samples,), default=None\n",
      " |          Sample weights.\n",
      " |      \n",
      " |      Returns\n",
      " |      -------\n",
      " |      score : float\n",
      " |          R^2 of self.predict(X) wrt. y.\n",
      " |      \n",
      " |      Notes\n",
      " |      -----\n",
      " |      The R2 score used when calling ``score`` on a regressor will use\n",
      " |      ``multioutput='uniform_average'`` from version 0.23 to keep consistent\n",
      " |      with :func:`~sklearn.metrics.r2_score`. This will influence the\n",
      " |      ``score`` method of all the multioutput regressors (except for\n",
      " |      :class:`~sklearn.multioutput.MultiOutputRegressor`). To specify the\n",
      " |      default value manually and avoid the warning, please either call\n",
      " |      :func:`~sklearn.metrics.r2_score` directly or make a custom scorer with\n",
      " |      :func:`~sklearn.metrics.make_scorer` (the built-in scorer ``'r2'`` uses\n",
      " |      ``multioutput='uniform_average'``).\n",
      " |  \n",
      " |  ----------------------------------------------------------------------\n",
      " |  Data descriptors inherited from sklearn.base.RegressorMixin:\n",
      " |  \n",
      " |  __dict__\n",
      " |      dictionary for instance variables (if defined)\n",
      " |  \n",
      " |  __weakref__\n",
      " |      list of weak references to the object (if defined)\n",
      " |  \n",
      " |  ----------------------------------------------------------------------\n",
      " |  Methods inherited from BaseForest:\n",
      " |  \n",
      " |  apply(self, X)\n",
      " |      Apply trees in the forest to X, return leaf indices.\n",
      " |      \n",
      " |      Parameters\n",
      " |      ----------\n",
      " |      X : {array-like or sparse matrix} of shape (n_samples, n_features)\n",
      " |          The input samples. Internally, its dtype will be converted to\n",
      " |          ``dtype=np.float32``. If a sparse matrix is provided, it will be\n",
      " |          converted into a sparse ``csr_matrix``.\n",
      " |      \n",
      " |      Returns\n",
      " |      -------\n",
      " |      X_leaves : array_like, shape = [n_samples, n_estimators]\n",
      " |          For each datapoint x in X and for each tree in the forest,\n",
      " |          return the index of the leaf x ends up in.\n",
      " |  \n",
      " |  decision_path(self, X)\n",
      " |      Return the decision path in the forest.\n",
      " |      \n",
      " |      .. versionadded:: 0.18\n",
      " |      \n",
      " |      Parameters\n",
      " |      ----------\n",
      " |      X : {array-like or sparse matrix} of shape (n_samples, n_features)\n",
      " |          The input samples. Internally, its dtype will be converted to\n",
      " |          ``dtype=np.float32``. If a sparse matrix is provided, it will be\n",
      " |          converted into a sparse ``csr_matrix``.\n",
      " |      \n",
      " |      Returns\n",
      " |      -------\n",
      " |      indicator : sparse csr array, shape = [n_samples, n_nodes]\n",
      " |          Return a node indicator matrix where non zero elements\n",
      " |          indicates that the samples goes through the nodes.\n",
      " |      \n",
      " |      n_nodes_ptr : array of size (n_estimators + 1, )\n",
      " |          The columns from indicator[n_nodes_ptr[i]:n_nodes_ptr[i+1]]\n",
      " |          gives the indicator value for the i-th estimator.\n",
      " |  \n",
      " |  fit(self, X, y, sample_weight=None)\n",
      " |      Build a forest of trees from the training set (X, y).\n",
      " |      \n",
      " |      Parameters\n",
      " |      ----------\n",
      " |      X : array-like or sparse matrix of shape (n_samples, n_features)\n",
      " |          The training input samples. Internally, its dtype will be converted\n",
      " |          to ``dtype=np.float32``. If a sparse matrix is provided, it will be\n",
      " |          converted into a sparse ``csc_matrix``.\n",
      " |      \n",
      " |      y : array-like of shape (n_samples,) or (n_samples, n_outputs)\n",
      " |          The target values (class labels in classification, real numbers in\n",
      " |          regression).\n",
      " |      \n",
      " |      sample_weight : array-like of shape (n_samples,), default=None\n",
      " |          Sample weights. If None, then samples are equally weighted. Splits\n",
      " |          that would create child nodes with net zero or negative weight are\n",
      " |          ignored while searching for a split in each node. In the case of\n",
      " |          classification, splits are also ignored if they would result in any\n",
      " |          single class carrying a negative weight in either child node.\n",
      " |      \n",
      " |      Returns\n",
      " |      -------\n",
      " |      self : object\n",
      " |  \n",
      " |  ----------------------------------------------------------------------\n",
      " |  Data descriptors inherited from BaseForest:\n",
      " |  \n",
      " |  feature_importances_\n",
      " |      Return the feature importances (the higher, the more important the\n",
      " |         feature).\n",
      " |      \n",
      " |      Returns\n",
      " |      -------\n",
      " |      feature_importances_ : array, shape = [n_features]\n",
      " |          The values of this array sum to 1, unless all trees are single node\n",
      " |          trees consisting of only the root node, in which case it will be an\n",
      " |          array of zeros.\n",
      " |  \n",
      " |  ----------------------------------------------------------------------\n",
      " |  Methods inherited from sklearn.ensemble._base.BaseEnsemble:\n",
      " |  \n",
      " |  __getitem__(self, index)\n",
      " |      Return the index'th estimator in the ensemble.\n",
      " |  \n",
      " |  __iter__(self)\n",
      " |      Return iterator over estimators in the ensemble.\n",
      " |  \n",
      " |  __len__(self)\n",
      " |      Return the number of estimators in the ensemble.\n",
      " |  \n",
      " |  ----------------------------------------------------------------------\n",
      " |  Methods inherited from sklearn.base.BaseEstimator:\n",
      " |  \n",
      " |  __getstate__(self)\n",
      " |  \n",
      " |  __repr__(self, N_CHAR_MAX=700)\n",
      " |      Return repr(self).\n",
      " |  \n",
      " |  __setstate__(self, state)\n",
      " |  \n",
      " |  get_params(self, deep=True)\n",
      " |      Get parameters for this estimator.\n",
      " |      \n",
      " |      Parameters\n",
      " |      ----------\n",
      " |      deep : bool, default=True\n",
      " |          If True, will return the parameters for this estimator and\n",
      " |          contained subobjects that are estimators.\n",
      " |      \n",
      " |      Returns\n",
      " |      -------\n",
      " |      params : mapping of string to any\n",
      " |          Parameter names mapped to their values.\n",
      " |  \n",
      " |  set_params(self, **params)\n",
      " |      Set the parameters of this estimator.\n",
      " |      \n",
      " |      The method works on simple estimators as well as on nested objects\n",
      " |      (such as pipelines). The latter have parameters of the form\n",
      " |      ``<component>__<parameter>`` so that it's possible to update each\n",
      " |      component of a nested object.\n",
      " |      \n",
      " |      Parameters\n",
      " |      ----------\n",
      " |      **params : dict\n",
      " |          Estimator parameters.\n",
      " |      \n",
      " |      Returns\n",
      " |      -------\n",
      " |      self : object\n",
      " |          Estimator instance.\n",
      "\n"
     ]
    }
   ],
   "source": [
    "help(RandomForestRegressor)"
   ]
  },
  {
   "cell_type": "code",
   "execution_count": 203,
   "id": "ab402e36",
   "metadata": {},
   "outputs": [],
   "source": [
    "??RandomForestRegressor"
   ]
  },
  {
   "cell_type": "markdown",
   "id": "62547e24",
   "metadata": {},
   "source": [
    "## 20% 小題二：切分訓練集與測試集 "
   ]
  },
  {
   "cell_type": "code",
   "execution_count": 204,
   "id": "60670234",
   "metadata": {},
   "outputs": [],
   "source": [
    "from sklearn.model_selection import train_test_split"
   ]
  },
  {
   "cell_type": "code",
   "execution_count": 237,
   "id": "77683881",
   "metadata": {},
   "outputs": [],
   "source": [
    "import numpy as np\n",
    "features = np.array(car['speed'])\n",
    "labels = np.array(car['dist'])"
   ]
  },
  {
   "cell_type": "code",
   "execution_count": 238,
   "id": "0722b05e",
   "metadata": {},
   "outputs": [],
   "source": [
    "X_train, X_test, y_train, y_test = train_test_split(\n",
    "...     features, labels, test_size=0.3, random_state=1)"
   ]
  },
  {
   "cell_type": "code",
   "execution_count": 289,
   "id": "62fa8874",
   "metadata": {},
   "outputs": [
    {
     "data": {
      "text/plain": [
       "(pandas.core.frame.DataFrame, numpy.ndarray)"
      ]
     },
     "execution_count": 289,
     "metadata": {},
     "output_type": "execute_result"
    }
   ],
   "source": [
    "type(X_train),type(y_train)"
   ]
  },
  {
   "cell_type": "code",
   "execution_count": 283,
   "id": "b2e6300b",
   "metadata": {},
   "outputs": [
    {
     "data": {
      "text/html": [
       "<div>\n",
       "<style scoped>\n",
       "    .dataframe tbody tr th:only-of-type {\n",
       "        vertical-align: middle;\n",
       "    }\n",
       "\n",
       "    .dataframe tbody tr th {\n",
       "        vertical-align: top;\n",
       "    }\n",
       "\n",
       "    .dataframe thead th {\n",
       "        text-align: right;\n",
       "    }\n",
       "</style>\n",
       "<table border=\"1\" class=\"dataframe\">\n",
       "  <thead>\n",
       "    <tr style=\"text-align: right;\">\n",
       "      <th></th>\n",
       "      <th>speed</th>\n",
       "      <th>dist</th>\n",
       "    </tr>\n",
       "  </thead>\n",
       "  <tbody>\n",
       "    <tr>\n",
       "      <th>0</th>\n",
       "      <td>20</td>\n",
       "      <td>64</td>\n",
       "    </tr>\n",
       "    <tr>\n",
       "      <th>1</th>\n",
       "      <td>25</td>\n",
       "      <td>85</td>\n",
       "    </tr>\n",
       "    <tr>\n",
       "      <th>2</th>\n",
       "      <td>16</td>\n",
       "      <td>32</td>\n",
       "    </tr>\n",
       "    <tr>\n",
       "      <th>3</th>\n",
       "      <td>14</td>\n",
       "      <td>80</td>\n",
       "    </tr>\n",
       "    <tr>\n",
       "      <th>4</th>\n",
       "      <td>12</td>\n",
       "      <td>24</td>\n",
       "    </tr>\n",
       "  </tbody>\n",
       "</table>\n",
       "</div>"
      ],
      "text/plain": [
       "   speed  dist\n",
       "0     20    64\n",
       "1     25    85\n",
       "2     16    32\n",
       "3     14    80\n",
       "4     12    24"
      ]
     },
     "execution_count": 283,
     "metadata": {},
     "output_type": "execute_result"
    }
   ],
   "source": [
    "train= pd.concat([\n",
    "    pd.DataFrame(X_train,columns=[\"speed\"]),\n",
    "    pd.DataFrame(y_train,columns=[\"dist\"])],axis=1)\n",
    "train.head()"
   ]
  },
  {
   "cell_type": "code",
   "execution_count": 235,
   "id": "ae3210fb",
   "metadata": {},
   "outputs": [],
   "source": [
    "# pd series\n",
    "# train = pd.concat([X_train, y_train], axis=1)\n",
    "# train.head()"
   ]
  },
  {
   "cell_type": "code",
   "execution_count": 224,
   "id": "6cb951b8",
   "metadata": {},
   "outputs": [
    {
     "data": {
      "text/html": [
       "<div>\n",
       "<style scoped>\n",
       "    .dataframe tbody tr th:only-of-type {\n",
       "        vertical-align: middle;\n",
       "    }\n",
       "\n",
       "    .dataframe tbody tr th {\n",
       "        vertical-align: top;\n",
       "    }\n",
       "\n",
       "    .dataframe thead th {\n",
       "        text-align: right;\n",
       "    }\n",
       "</style>\n",
       "<table border=\"1\" class=\"dataframe\">\n",
       "  <thead>\n",
       "    <tr style=\"text-align: right;\">\n",
       "      <th></th>\n",
       "      <th>speed</th>\n",
       "      <th>dist</th>\n",
       "    </tr>\n",
       "  </thead>\n",
       "  <tbody>\n",
       "    <tr>\n",
       "      <th>27</th>\n",
       "      <td>16</td>\n",
       "      <td>40</td>\n",
       "    </tr>\n",
       "    <tr>\n",
       "      <th>35</th>\n",
       "      <td>19</td>\n",
       "      <td>36</td>\n",
       "    </tr>\n",
       "    <tr>\n",
       "      <th>40</th>\n",
       "      <td>20</td>\n",
       "      <td>52</td>\n",
       "    </tr>\n",
       "    <tr>\n",
       "      <th>38</th>\n",
       "      <td>20</td>\n",
       "      <td>32</td>\n",
       "    </tr>\n",
       "    <tr>\n",
       "      <th>2</th>\n",
       "      <td>7</td>\n",
       "      <td>4</td>\n",
       "    </tr>\n",
       "  </tbody>\n",
       "</table>\n",
       "</div>"
      ],
      "text/plain": [
       "    speed  dist\n",
       "27     16    40\n",
       "35     19    36\n",
       "40     20    52\n",
       "38     20    32\n",
       "2       7     4"
      ]
     },
     "execution_count": 224,
     "metadata": {},
     "output_type": "execute_result"
    }
   ],
   "source": [
    "# pd series\n",
    "# test = pd.concat([X_test, y_test], axis=1)\n",
    "# test.head()"
   ]
  },
  {
   "cell_type": "markdown",
   "id": "3539c92c",
   "metadata": {},
   "source": [
    "##  30% 小題三：模型配適 "
   ]
  },
  {
   "cell_type": "code",
   "execution_count": 250,
   "id": "136c759c",
   "metadata": {},
   "outputs": [
    {
     "data": {
      "text/plain": [
       "(35,)"
      ]
     },
     "execution_count": 250,
     "metadata": {},
     "output_type": "execute_result"
    }
   ],
   "source": [
    "X_train.shape"
   ]
  },
  {
   "cell_type": "code",
   "execution_count": 246,
   "id": "eca1f502",
   "metadata": {},
   "outputs": [
    {
     "data": {
      "text/plain": [
       "(35, 1)"
      ]
     },
     "execution_count": 246,
     "metadata": {},
     "output_type": "execute_result"
    }
   ],
   "source": [
    "X_train.reshape(-1, 1).shape"
   ]
  },
  {
   "cell_type": "code",
   "execution_count": 251,
   "id": "ca78cb0b",
   "metadata": {},
   "outputs": [
    {
     "data": {
      "text/plain": [
       "RandomForestRegressor(bootstrap=True, ccp_alpha=0.0, criterion='mse',\n",
       "                      max_depth=2, max_features='auto', max_leaf_nodes=None,\n",
       "                      max_samples=None, min_impurity_decrease=0.0,\n",
       "                      min_impurity_split=None, min_samples_leaf=1,\n",
       "                      min_samples_split=2, min_weight_fraction_leaf=0.0,\n",
       "                      n_estimators=100, n_jobs=None, oob_score=False,\n",
       "                      random_state=0, verbose=0, warm_start=False)"
      ]
     },
     "execution_count": 251,
     "metadata": {},
     "output_type": "execute_result"
    }
   ],
   "source": [
    "regr = RandomForestRegressor(max_depth=2, random_state=0)\n",
    "regr.fit(X_train.reshape(-1, 1), y_train)"
   ]
  },
  {
   "cell_type": "markdown",
   "id": "e24b0eaa",
   "metadata": {},
   "source": [
    "## 20% 小題四：預測"
   ]
  },
  {
   "cell_type": "code",
   "execution_count": 254,
   "id": "b741adb0",
   "metadata": {},
   "outputs": [
    {
     "data": {
      "text/plain": [
       "array([40.70091652, 66.87468583, 66.4823525 , 66.4823525 , 16.07171299,\n",
       "       16.07171299, 77.28669588, 45.0726515 , 77.28669588, 65.93211372,\n",
       "       65.93211372, 66.4823525 , 40.68171018, 66.87468583, 40.68171018])"
      ]
     },
     "execution_count": 254,
     "metadata": {},
     "output_type": "execute_result"
    }
   ],
   "source": [
    "predictions = regr.predict(X_test.reshape(-1, 1))\n",
    "predictions"
   ]
  },
  {
   "cell_type": "markdown",
   "id": "895f54bb",
   "metadata": {},
   "source": [
    "##  20% 小題五：評估"
   ]
  },
  {
   "cell_type": "code",
   "execution_count": 256,
   "id": "f911effa",
   "metadata": {},
   "outputs": [
    {
     "data": {
      "text/plain": [
       "442.5007151412594"
      ]
     },
     "execution_count": 256,
     "metadata": {},
     "output_type": "execute_result"
    }
   ],
   "source": [
    "from sklearn.metrics import mean_squared_error\n",
    "mean_squared_error(y_test, predictions)"
   ]
  },
  {
   "cell_type": "markdown",
   "id": "1bc44be7",
   "metadata": {},
   "source": [
    "# 題目四：隨機森林分類預測模型 "
   ]
  },
  {
   "cell_type": "code",
   "execution_count": 258,
   "id": "cefffac7",
   "metadata": {},
   "outputs": [],
   "source": [
    "from sklearn.ensemble import RandomForestClassifier\n",
    "from sklearn.preprocessing import  LabelEncoder"
   ]
  },
  {
   "cell_type": "code",
   "execution_count": 259,
   "id": "54eae5c8",
   "metadata": {},
   "outputs": [],
   "source": [
    "titanic = pd.read_csv(\"巨量資料分析師中級術科題目資料集\\\\4_titanic_data.csv \")"
   ]
  },
  {
   "cell_type": "code",
   "execution_count": 260,
   "id": "96dc2514",
   "metadata": {},
   "outputs": [
    {
     "data": {
      "text/html": [
       "<div>\n",
       "<style scoped>\n",
       "    .dataframe tbody tr th:only-of-type {\n",
       "        vertical-align: middle;\n",
       "    }\n",
       "\n",
       "    .dataframe tbody tr th {\n",
       "        vertical-align: top;\n",
       "    }\n",
       "\n",
       "    .dataframe thead th {\n",
       "        text-align: right;\n",
       "    }\n",
       "</style>\n",
       "<table border=\"1\" class=\"dataframe\">\n",
       "  <thead>\n",
       "    <tr style=\"text-align: right;\">\n",
       "      <th></th>\n",
       "      <th>pclass</th>\n",
       "      <th>survived</th>\n",
       "      <th>sex</th>\n",
       "      <th>age</th>\n",
       "      <th>sibsp</th>\n",
       "      <th>parch</th>\n",
       "      <th>fare</th>\n",
       "      <th>embarked</th>\n",
       "    </tr>\n",
       "  </thead>\n",
       "  <tbody>\n",
       "    <tr>\n",
       "      <th>0</th>\n",
       "      <td>Upper</td>\n",
       "      <td>Yes</td>\n",
       "      <td>female</td>\n",
       "      <td>39</td>\n",
       "      <td>0</td>\n",
       "      <td>0</td>\n",
       "      <td>79</td>\n",
       "      <td>S</td>\n",
       "    </tr>\n",
       "    <tr>\n",
       "      <th>1</th>\n",
       "      <td>Upper</td>\n",
       "      <td>Yes</td>\n",
       "      <td>male</td>\n",
       "      <td>8</td>\n",
       "      <td>1</td>\n",
       "      <td>2</td>\n",
       "      <td>58</td>\n",
       "      <td>S</td>\n",
       "    </tr>\n",
       "    <tr>\n",
       "      <th>2</th>\n",
       "      <td>Upper</td>\n",
       "      <td>No</td>\n",
       "      <td>female</td>\n",
       "      <td>23</td>\n",
       "      <td>1</td>\n",
       "      <td>2</td>\n",
       "      <td>58</td>\n",
       "      <td>S</td>\n",
       "    </tr>\n",
       "    <tr>\n",
       "      <th>3</th>\n",
       "      <td>Upper</td>\n",
       "      <td>No</td>\n",
       "      <td>male</td>\n",
       "      <td>41</td>\n",
       "      <td>1</td>\n",
       "      <td>2</td>\n",
       "      <td>58</td>\n",
       "      <td>S</td>\n",
       "    </tr>\n",
       "    <tr>\n",
       "      <th>4</th>\n",
       "      <td>Upper</td>\n",
       "      <td>No</td>\n",
       "      <td>female</td>\n",
       "      <td>33</td>\n",
       "      <td>1</td>\n",
       "      <td>2</td>\n",
       "      <td>58</td>\n",
       "      <td>S</td>\n",
       "    </tr>\n",
       "  </tbody>\n",
       "</table>\n",
       "</div>"
      ],
      "text/plain": [
       "  pclass survived     sex  age  sibsp  parch  fare embarked\n",
       "0  Upper      Yes  female   39      0      0    79        S\n",
       "1  Upper      Yes    male    8      1      2    58        S\n",
       "2  Upper       No  female   23      1      2    58        S\n",
       "3  Upper       No    male   41      1      2    58        S\n",
       "4  Upper       No  female   33      1      2    58        S"
      ]
     },
     "execution_count": 260,
     "metadata": {},
     "output_type": "execute_result"
    }
   ],
   "source": [
    "titanic.head()"
   ]
  },
  {
   "cell_type": "code",
   "execution_count": 324,
   "id": "376dbc1f",
   "metadata": {},
   "outputs": [
    {
     "name": "stdout",
     "output_type": "stream",
     "text": [
      "<class 'pandas.core.frame.DataFrame'>\n",
      "RangeIndex: 1046 entries, 0 to 1045\n",
      "Data columns (total 8 columns):\n",
      " #   Column    Non-Null Count  Dtype \n",
      "---  ------    --------------  ----- \n",
      " 0   pclass    1046 non-null   object\n",
      " 1   survived  1046 non-null   object\n",
      " 2   sex       1046 non-null   object\n",
      " 3   age       1046 non-null   int64 \n",
      " 4   sibsp     1046 non-null   int64 \n",
      " 5   parch     1046 non-null   int64 \n",
      " 6   fare      1046 non-null   int64 \n",
      " 7   embarked  1046 non-null   object\n",
      "dtypes: int64(4), object(4)\n",
      "memory usage: 65.5+ KB\n"
     ]
    }
   ],
   "source": [
    "titanic.info()"
   ]
  },
  {
   "cell_type": "code",
   "execution_count": 297,
   "id": "016b091a",
   "metadata": {},
   "outputs": [],
   "source": [
    "import numpy as np\n",
    "features= titanic.drop('survived', axis = 1)\n",
    "labels = np.array(titanic['survived'])"
   ]
  },
  {
   "cell_type": "code",
   "execution_count": 302,
   "id": "52fcd19c",
   "metadata": {},
   "outputs": [
    {
     "data": {
      "text/plain": [
       "1046"
      ]
     },
     "execution_count": 302,
     "metadata": {},
     "output_type": "execute_result"
    }
   ],
   "source": []
  },
  {
   "cell_type": "code",
   "execution_count": 291,
   "id": "ebd898ed",
   "metadata": {},
   "outputs": [
    {
     "data": {
      "text/plain": [
       "Index(['pclass', 'sex', 'age', 'sibsp', 'parch', 'fare', 'embarked'], dtype='object')"
      ]
     },
     "execution_count": 291,
     "metadata": {},
     "output_type": "execute_result"
    }
   ],
   "source": [
    "features.columns"
   ]
  },
  {
   "cell_type": "code",
   "execution_count": 286,
   "id": "5acd12d0",
   "metadata": {},
   "outputs": [],
   "source": [
    "from sklearn.model_selection import train_test_split"
   ]
  },
  {
   "cell_type": "code",
   "execution_count": 321,
   "id": "5c1512e9",
   "metadata": {},
   "outputs": [],
   "source": [
    "X_train, X_test, y_train, y_test = train_test_split(\n",
    "...     features, labels, test_size=0.3, random_state=1)"
   ]
  },
  {
   "cell_type": "code",
   "execution_count": 322,
   "id": "b33020d9",
   "metadata": {},
   "outputs": [
    {
     "data": {
      "text/html": [
       "<div>\n",
       "<style scoped>\n",
       "    .dataframe tbody tr th:only-of-type {\n",
       "        vertical-align: middle;\n",
       "    }\n",
       "\n",
       "    .dataframe tbody tr th {\n",
       "        vertical-align: top;\n",
       "    }\n",
       "\n",
       "    .dataframe thead th {\n",
       "        text-align: right;\n",
       "    }\n",
       "</style>\n",
       "<table border=\"1\" class=\"dataframe\">\n",
       "  <thead>\n",
       "    <tr style=\"text-align: right;\">\n",
       "      <th></th>\n",
       "      <th>pclass</th>\n",
       "      <th>sex</th>\n",
       "      <th>age</th>\n",
       "      <th>sibsp</th>\n",
       "      <th>parch</th>\n",
       "      <th>fare</th>\n",
       "      <th>embarked</th>\n",
       "      <th>survived</th>\n",
       "    </tr>\n",
       "  </thead>\n",
       "  <tbody>\n",
       "    <tr>\n",
       "      <th>934</th>\n",
       "      <td>Lower</td>\n",
       "      <td>female</td>\n",
       "      <td>20</td>\n",
       "      <td>0</td>\n",
       "      <td>0</td>\n",
       "      <td>214</td>\n",
       "      <td>S</td>\n",
       "      <td>No</td>\n",
       "    </tr>\n",
       "    <tr>\n",
       "      <th>74</th>\n",
       "      <td>Upper</td>\n",
       "      <td>female</td>\n",
       "      <td>87</td>\n",
       "      <td>1</td>\n",
       "      <td>1</td>\n",
       "      <td>103</td>\n",
       "      <td>S</td>\n",
       "      <td>Yes</td>\n",
       "    </tr>\n",
       "    <tr>\n",
       "      <th>218</th>\n",
       "      <td>Upper</td>\n",
       "      <td>male</td>\n",
       "      <td>46</td>\n",
       "      <td>0</td>\n",
       "      <td>0</td>\n",
       "      <td>103</td>\n",
       "      <td>S</td>\n",
       "      <td>No</td>\n",
       "    </tr>\n",
       "    <tr>\n",
       "      <th>1013</th>\n",
       "      <td>Lower</td>\n",
       "      <td>female</td>\n",
       "      <td>10</td>\n",
       "      <td>0</td>\n",
       "      <td>2</td>\n",
       "      <td>90</td>\n",
       "      <td>S</td>\n",
       "      <td>No</td>\n",
       "    </tr>\n",
       "    <tr>\n",
       "      <th>265</th>\n",
       "      <td>Upper</td>\n",
       "      <td>female</td>\n",
       "      <td>49</td>\n",
       "      <td>0</td>\n",
       "      <td>0</td>\n",
       "      <td>159</td>\n",
       "      <td>C</td>\n",
       "      <td>Yes</td>\n",
       "    </tr>\n",
       "  </tbody>\n",
       "</table>\n",
       "</div>"
      ],
      "text/plain": [
       "     pclass     sex  age  sibsp  parch  fare embarked survived\n",
       "934   Lower  female   20      0      0   214        S       No\n",
       "74    Upper  female   87      1      1   103        S      Yes\n",
       "218   Upper    male   46      0      0   103        S       No\n",
       "1013  Lower  female   10      0      2    90        S       No\n",
       "265   Upper  female   49      0      0   159        C      Yes"
      ]
     },
     "execution_count": 322,
     "metadata": {},
     "output_type": "execute_result"
    }
   ],
   "source": [
    "train = X_train.copy()\n",
    "train['survived']=y_train\n",
    "train.head()"
   ]
  },
  {
   "cell_type": "markdown",
   "id": "5ae4e342",
   "metadata": {},
   "source": [
    "## 30% 小題三：模型配適 "
   ]
  },
  {
   "cell_type": "code",
   "execution_count": 325,
   "id": "19047747",
   "metadata": {},
   "outputs": [
    {
     "data": {
      "text/plain": [
       "array([2, 2, 2, ..., 0, 0, 0])"
      ]
     },
     "execution_count": 325,
     "metadata": {},
     "output_type": "execute_result"
    }
   ],
   "source": [
    "from sklearn.preprocessing import  LabelEncoder\n",
    "# 創造 dummy variables\n",
    "label_encoder = LabelEncoder()\n",
    "encoded_pclass= label_encoder.fit_transform(titanic[\"pclass\"])\n",
    "encoded_pclass"
   ]
  },
  {
   "cell_type": "code",
   "execution_count": 326,
   "id": "9b3bc4e1",
   "metadata": {},
   "outputs": [
    {
     "data": {
      "text/plain": [
       "array([0, 1, 0, ..., 1, 1, 1])"
      ]
     },
     "execution_count": 326,
     "metadata": {},
     "output_type": "execute_result"
    }
   ],
   "source": [
    "# 創造 dummy variables\n",
    "label_encoder = LabelEncoder()\n",
    "encoded_sex= label_encoder.fit_transform(titanic[\"sex\"])\n",
    "encoded_sex"
   ]
  },
  {
   "cell_type": "code",
   "execution_count": 328,
   "id": "2a51e252",
   "metadata": {},
   "outputs": [
    {
     "data": {
      "text/plain": [
       "array([3, 3, 3, ..., 1, 1, 3])"
      ]
     },
     "execution_count": 328,
     "metadata": {},
     "output_type": "execute_result"
    }
   ],
   "source": [
    "# 創造 dummy variables\n",
    "label_encoder = LabelEncoder()\n",
    "encoded_embarked = label_encoder.fit_transform(titanic[\"embarked\"])\n",
    "encoded_embarked"
   ]
  },
  {
   "cell_type": "code",
   "execution_count": 358,
   "id": "3436032d",
   "metadata": {},
   "outputs": [
    {
     "data": {
      "text/plain": [
       "array([1, 1, 0, ..., 0, 0, 0])"
      ]
     },
     "execution_count": 358,
     "metadata": {},
     "output_type": "execute_result"
    }
   ],
   "source": [
    "# 創造 dummy variables\n",
    "label_encoder = LabelEncoder()\n",
    "encoded_survived= label_encoder.fit_transform(titanic[\"survived\"])\n",
    "encoded_survived"
   ]
  },
  {
   "cell_type": "code",
   "execution_count": 362,
   "id": "7b408f8a",
   "metadata": {},
   "outputs": [
    {
     "data": {
      "text/plain": [
       "array([0, 1], dtype=int64)"
      ]
     },
     "execution_count": 362,
     "metadata": {},
     "output_type": "execute_result"
    }
   ],
   "source": [
    "label_encoder.transform([\"No\", \"Yes\"])"
   ]
  },
  {
   "cell_type": "code",
   "execution_count": 360,
   "id": "732f2053",
   "metadata": {},
   "outputs": [
    {
     "data": {
      "text/plain": [
       "array(['No', 'Yes'], dtype=object)"
      ]
     },
     "execution_count": 360,
     "metadata": {},
     "output_type": "execute_result"
    }
   ],
   "source": [
    "label_encoder.inverse_transform([0, 1])"
   ]
  },
  {
   "cell_type": "code",
   "execution_count": 330,
   "id": "b23feb2f",
   "metadata": {},
   "outputs": [
    {
     "data": {
      "text/html": [
       "<div>\n",
       "<style scoped>\n",
       "    .dataframe tbody tr th:only-of-type {\n",
       "        vertical-align: middle;\n",
       "    }\n",
       "\n",
       "    .dataframe tbody tr th {\n",
       "        vertical-align: top;\n",
       "    }\n",
       "\n",
       "    .dataframe thead th {\n",
       "        text-align: right;\n",
       "    }\n",
       "</style>\n",
       "<table border=\"1\" class=\"dataframe\">\n",
       "  <thead>\n",
       "    <tr style=\"text-align: right;\">\n",
       "      <th></th>\n",
       "      <th>pclass</th>\n",
       "      <th>survived</th>\n",
       "      <th>sex</th>\n",
       "      <th>age</th>\n",
       "      <th>sibsp</th>\n",
       "      <th>parch</th>\n",
       "      <th>fare</th>\n",
       "      <th>embarked</th>\n",
       "    </tr>\n",
       "  </thead>\n",
       "  <tbody>\n",
       "    <tr>\n",
       "      <th>0</th>\n",
       "      <td>Upper</td>\n",
       "      <td>Yes</td>\n",
       "      <td>female</td>\n",
       "      <td>39</td>\n",
       "      <td>0</td>\n",
       "      <td>0</td>\n",
       "      <td>79</td>\n",
       "      <td>S</td>\n",
       "    </tr>\n",
       "    <tr>\n",
       "      <th>1</th>\n",
       "      <td>Upper</td>\n",
       "      <td>Yes</td>\n",
       "      <td>male</td>\n",
       "      <td>8</td>\n",
       "      <td>1</td>\n",
       "      <td>2</td>\n",
       "      <td>58</td>\n",
       "      <td>S</td>\n",
       "    </tr>\n",
       "    <tr>\n",
       "      <th>2</th>\n",
       "      <td>Upper</td>\n",
       "      <td>No</td>\n",
       "      <td>female</td>\n",
       "      <td>23</td>\n",
       "      <td>1</td>\n",
       "      <td>2</td>\n",
       "      <td>58</td>\n",
       "      <td>S</td>\n",
       "    </tr>\n",
       "    <tr>\n",
       "      <th>3</th>\n",
       "      <td>Upper</td>\n",
       "      <td>No</td>\n",
       "      <td>male</td>\n",
       "      <td>41</td>\n",
       "      <td>1</td>\n",
       "      <td>2</td>\n",
       "      <td>58</td>\n",
       "      <td>S</td>\n",
       "    </tr>\n",
       "    <tr>\n",
       "      <th>4</th>\n",
       "      <td>Upper</td>\n",
       "      <td>No</td>\n",
       "      <td>female</td>\n",
       "      <td>33</td>\n",
       "      <td>1</td>\n",
       "      <td>2</td>\n",
       "      <td>58</td>\n",
       "      <td>S</td>\n",
       "    </tr>\n",
       "  </tbody>\n",
       "</table>\n",
       "</div>"
      ],
      "text/plain": [
       "  pclass survived     sex  age  sibsp  parch  fare embarked\n",
       "0  Upper      Yes  female   39      0      0    79        S\n",
       "1  Upper      Yes    male    8      1      2    58        S\n",
       "2  Upper       No  female   23      1      2    58        S\n",
       "3  Upper       No    male   41      1      2    58        S\n",
       "4  Upper       No  female   33      1      2    58        S"
      ]
     },
     "execution_count": 330,
     "metadata": {},
     "output_type": "execute_result"
    }
   ],
   "source": [
    "titanic.head()"
   ]
  },
  {
   "cell_type": "code",
   "execution_count": 338,
   "id": "b144720a",
   "metadata": {},
   "outputs": [
    {
     "name": "stderr",
     "output_type": "stream",
     "text": [
      "C:\\Users\\reaganwei\\anaconda3\\envs\\py37\\lib\\site-packages\\ipykernel_launcher.py:2: SettingWithCopyWarning: \n",
      "A value is trying to be set on a copy of a slice from a DataFrame.\n",
      "Try using .loc[row_indexer,col_indexer] = value instead\n",
      "\n",
      "See the caveats in the documentation: https://pandas.pydata.org/pandas-docs/stable/user_guide/indexing.html#returning-a-view-versus-a-copy\n",
      "  \n",
      "C:\\Users\\reaganwei\\anaconda3\\envs\\py37\\lib\\site-packages\\ipykernel_launcher.py:3: SettingWithCopyWarning: \n",
      "A value is trying to be set on a copy of a slice from a DataFrame.\n",
      "Try using .loc[row_indexer,col_indexer] = value instead\n",
      "\n",
      "See the caveats in the documentation: https://pandas.pydata.org/pandas-docs/stable/user_guide/indexing.html#returning-a-view-versus-a-copy\n",
      "  This is separate from the ipykernel package so we can avoid doing imports until\n",
      "C:\\Users\\reaganwei\\anaconda3\\envs\\py37\\lib\\site-packages\\ipykernel_launcher.py:4: SettingWithCopyWarning: \n",
      "A value is trying to be set on a copy of a slice from a DataFrame.\n",
      "Try using .loc[row_indexer,col_indexer] = value instead\n",
      "\n",
      "See the caveats in the documentation: https://pandas.pydata.org/pandas-docs/stable/user_guide/indexing.html#returning-a-view-versus-a-copy\n",
      "  after removing the cwd from sys.path.\n"
     ]
    },
    {
     "data": {
      "text/html": [
       "<div>\n",
       "<style scoped>\n",
       "    .dataframe tbody tr th:only-of-type {\n",
       "        vertical-align: middle;\n",
       "    }\n",
       "\n",
       "    .dataframe tbody tr th {\n",
       "        vertical-align: top;\n",
       "    }\n",
       "\n",
       "    .dataframe thead th {\n",
       "        text-align: right;\n",
       "    }\n",
       "</style>\n",
       "<table border=\"1\" class=\"dataframe\">\n",
       "  <thead>\n",
       "    <tr style=\"text-align: right;\">\n",
       "      <th></th>\n",
       "      <th>age</th>\n",
       "      <th>sibsp</th>\n",
       "      <th>parch</th>\n",
       "      <th>fare</th>\n",
       "      <th>encoded_pclass</th>\n",
       "      <th>encoded_sex</th>\n",
       "      <th>encoded_embarked</th>\n",
       "      <th>encoded_survived</th>\n",
       "    </tr>\n",
       "  </thead>\n",
       "  <tbody>\n",
       "    <tr>\n",
       "      <th>0</th>\n",
       "      <td>39</td>\n",
       "      <td>0</td>\n",
       "      <td>0</td>\n",
       "      <td>79</td>\n",
       "      <td>2</td>\n",
       "      <td>0</td>\n",
       "      <td>3</td>\n",
       "      <td>1</td>\n",
       "    </tr>\n",
       "    <tr>\n",
       "      <th>1</th>\n",
       "      <td>8</td>\n",
       "      <td>1</td>\n",
       "      <td>2</td>\n",
       "      <td>58</td>\n",
       "      <td>2</td>\n",
       "      <td>1</td>\n",
       "      <td>3</td>\n",
       "      <td>1</td>\n",
       "    </tr>\n",
       "    <tr>\n",
       "      <th>2</th>\n",
       "      <td>23</td>\n",
       "      <td>1</td>\n",
       "      <td>2</td>\n",
       "      <td>58</td>\n",
       "      <td>2</td>\n",
       "      <td>0</td>\n",
       "      <td>3</td>\n",
       "      <td>0</td>\n",
       "    </tr>\n",
       "    <tr>\n",
       "      <th>3</th>\n",
       "      <td>41</td>\n",
       "      <td>1</td>\n",
       "      <td>2</td>\n",
       "      <td>58</td>\n",
       "      <td>2</td>\n",
       "      <td>1</td>\n",
       "      <td>3</td>\n",
       "      <td>0</td>\n",
       "    </tr>\n",
       "    <tr>\n",
       "      <th>4</th>\n",
       "      <td>33</td>\n",
       "      <td>1</td>\n",
       "      <td>2</td>\n",
       "      <td>58</td>\n",
       "      <td>2</td>\n",
       "      <td>0</td>\n",
       "      <td>3</td>\n",
       "      <td>0</td>\n",
       "    </tr>\n",
       "  </tbody>\n",
       "</table>\n",
       "</div>"
      ],
      "text/plain": [
       "   age  sibsp  parch  fare  encoded_pclass  encoded_sex  encoded_embarked  \\\n",
       "0   39      0      0    79               2            0                 3   \n",
       "1    8      1      2    58               2            1                 3   \n",
       "2   23      1      2    58               2            0                 3   \n",
       "3   41      1      2    58               2            1                 3   \n",
       "4   33      1      2    58               2            0                 3   \n",
       "\n",
       "   encoded_survived  \n",
       "0                 1  \n",
       "1                 1  \n",
       "2                 0  \n",
       "3                 0  \n",
       "4                 0  "
      ]
     },
     "execution_count": 338,
     "metadata": {},
     "output_type": "execute_result"
    }
   ],
   "source": [
    "titanic2 = titanic[[\"age\",\"sibsp\",\"parch\",\"fare\"]]\n",
    "titanic2[\"encoded_pclass\"]=encoded_pclass\n",
    "titanic2[\"encoded_sex\"]=encoded_sex\n",
    "titanic2[\"encoded_embarked\"]=encoded_embarked\n",
    "titanic2[\"encoded_survived\"]=encoded_survived\n",
    "titanic2.head()"
   ]
  },
  {
   "cell_type": "code",
   "execution_count": 348,
   "id": "bbc85a88",
   "metadata": {},
   "outputs": [],
   "source": [
    "import numpy as np\n",
    "features= titanic2.drop('encoded_survived', axis = 1)\n",
    "# labels = np.array(titanic2['encoded_survived'])\n",
    "labels = titanic2['encoded_survived']"
   ]
  },
  {
   "cell_type": "code",
   "execution_count": 349,
   "id": "5968d10b",
   "metadata": {},
   "outputs": [],
   "source": [
    "X_train, X_test, y_train, y_test = train_test_split(\n",
    "...     features, labels, test_size=0.3, random_state=1)"
   ]
  },
  {
   "cell_type": "code",
   "execution_count": 351,
   "id": "9a0e27df",
   "metadata": {},
   "outputs": [
    {
     "data": {
      "text/plain": [
       "RandomForestClassifier(bootstrap=True, ccp_alpha=0.0, class_weight=None,\n",
       "                       criterion='gini', max_depth=None, max_features='auto',\n",
       "                       max_leaf_nodes=None, max_samples=None,\n",
       "                       min_impurity_decrease=0.0, min_impurity_split=None,\n",
       "                       min_samples_leaf=1, min_samples_split=2,\n",
       "                       min_weight_fraction_leaf=0.0, n_estimators=100,\n",
       "                       n_jobs=None, oob_score=False, random_state=None,\n",
       "                       verbose=0, warm_start=False)"
      ]
     },
     "execution_count": 351,
     "metadata": {},
     "output_type": "execute_result"
    }
   ],
   "source": [
    "# 建立 random forest 模型\n",
    "forest = RandomForestClassifier()\n",
    "forest.fit(X_train, y_train)"
   ]
  },
  {
   "cell_type": "markdown",
   "id": "8a639a77",
   "metadata": {},
   "source": [
    "## 20% 小題四：預測 "
   ]
  },
  {
   "cell_type": "code",
   "execution_count": 355,
   "id": "65f75857",
   "metadata": {},
   "outputs": [
    {
     "data": {
      "text/plain": [
       "array([1, 0, 1, 0, 1, 0, 0, 1, 1, 0, 1, 1, 1, 1, 1, 0, 0, 0, 0, 0, 1, 1,\n",
       "       1, 0, 0, 0, 0, 1, 1, 1, 0, 0, 0, 1, 0, 0, 1, 1, 0, 1, 0, 1, 0, 1,\n",
       "       1, 1, 0, 1, 1, 1, 1, 0, 0, 1, 0, 0, 0, 0, 0, 0, 0, 0, 0, 0, 0, 0,\n",
       "       0, 0, 1, 0, 0, 0, 1, 1, 1, 1, 1, 1, 0, 0, 0, 1, 1, 0, 1, 1, 1, 0,\n",
       "       0, 0, 0, 0, 0, 0, 0, 0, 0, 0, 1, 0, 1, 0, 0, 0, 1, 1, 1, 1, 0, 0,\n",
       "       0, 1, 0, 0, 0, 1, 1, 1, 0, 0, 0, 1, 0, 0, 1, 1, 1, 0, 0, 0, 0, 1,\n",
       "       0, 1, 0, 0, 0, 0, 0, 1, 1, 1, 0, 0, 1, 0, 0, 1, 1, 0, 0, 0, 0, 1,\n",
       "       1, 1, 0, 1, 0, 0, 1, 0, 1, 1, 0, 0, 1, 0, 0, 0, 1, 1, 1, 1, 1, 0,\n",
       "       0, 0, 0, 1, 1, 0, 0, 1, 1, 1, 1, 0, 0, 1, 1, 1, 0, 0, 0, 0, 0, 0,\n",
       "       1, 0, 1, 0, 1, 1, 1, 0, 0, 1, 1, 0, 0, 1, 0, 0, 1, 0, 0, 0, 0, 1,\n",
       "       0, 0, 1, 0, 0, 0, 0, 1, 1, 0, 0, 0, 0, 0, 0, 1, 0, 1, 1, 1, 1, 0,\n",
       "       0, 0, 1, 0, 0, 1, 0, 0, 0, 0, 1, 0, 1, 1, 0, 0, 0, 1, 0, 0, 0, 1,\n",
       "       1, 1, 0, 0, 0, 0, 0, 1, 1, 0, 1, 0, 0, 0, 1, 1, 0, 0, 0, 1, 0, 0,\n",
       "       0, 0, 0, 1, 0, 0, 0, 1, 0, 1, 1, 1, 1, 1, 0, 0, 0, 1, 0, 1, 0, 1,\n",
       "       1, 0, 0, 0, 0, 0])"
      ]
     },
     "execution_count": 355,
     "metadata": {},
     "output_type": "execute_result"
    }
   ],
   "source": [
    "predictions = forest.predict(X_test)\n",
    "predictions"
   ]
  },
  {
   "cell_type": "code",
   "execution_count": 363,
   "id": "39f75334",
   "metadata": {},
   "outputs": [
    {
     "data": {
      "text/plain": [
       "array(['Yes', 'No', 'Yes', 'No', 'Yes', 'No', 'No', 'Yes', 'Yes', 'No',\n",
       "       'Yes', 'Yes', 'Yes', 'Yes', 'Yes', 'No', 'No', 'No', 'No', 'No',\n",
       "       'Yes', 'Yes', 'Yes', 'No', 'No', 'No', 'No', 'Yes', 'Yes', 'Yes',\n",
       "       'No', 'No', 'No', 'Yes', 'No', 'No', 'Yes', 'Yes', 'No', 'Yes',\n",
       "       'No', 'Yes', 'No', 'Yes', 'Yes', 'Yes', 'No', 'Yes', 'Yes', 'Yes',\n",
       "       'Yes', 'No', 'No', 'Yes', 'No', 'No', 'No', 'No', 'No', 'No', 'No',\n",
       "       'No', 'No', 'No', 'No', 'No', 'No', 'No', 'Yes', 'No', 'No', 'No',\n",
       "       'Yes', 'Yes', 'Yes', 'Yes', 'Yes', 'Yes', 'No', 'No', 'No', 'Yes',\n",
       "       'Yes', 'No', 'Yes', 'Yes', 'Yes', 'No', 'No', 'No', 'No', 'No',\n",
       "       'No', 'No', 'No', 'No', 'No', 'No', 'Yes', 'No', 'Yes', 'No', 'No',\n",
       "       'No', 'Yes', 'Yes', 'Yes', 'Yes', 'No', 'No', 'No', 'Yes', 'No',\n",
       "       'No', 'No', 'Yes', 'Yes', 'Yes', 'No', 'No', 'No', 'Yes', 'No',\n",
       "       'No', 'Yes', 'Yes', 'Yes', 'No', 'No', 'No', 'No', 'Yes', 'No',\n",
       "       'Yes', 'No', 'No', 'No', 'No', 'No', 'Yes', 'Yes', 'Yes', 'No',\n",
       "       'No', 'Yes', 'No', 'No', 'Yes', 'Yes', 'No', 'No', 'No', 'No',\n",
       "       'Yes', 'Yes', 'Yes', 'No', 'Yes', 'No', 'No', 'Yes', 'No', 'Yes',\n",
       "       'Yes', 'No', 'No', 'Yes', 'No', 'No', 'No', 'Yes', 'Yes', 'Yes',\n",
       "       'Yes', 'Yes', 'No', 'No', 'No', 'No', 'Yes', 'Yes', 'No', 'No',\n",
       "       'Yes', 'Yes', 'Yes', 'Yes', 'No', 'No', 'Yes', 'Yes', 'Yes', 'No',\n",
       "       'No', 'No', 'No', 'No', 'No', 'Yes', 'No', 'Yes', 'No', 'Yes',\n",
       "       'Yes', 'Yes', 'No', 'No', 'Yes', 'Yes', 'No', 'No', 'Yes', 'No',\n",
       "       'No', 'Yes', 'No', 'No', 'No', 'No', 'Yes', 'No', 'No', 'Yes',\n",
       "       'No', 'No', 'No', 'No', 'Yes', 'Yes', 'No', 'No', 'No', 'No', 'No',\n",
       "       'No', 'Yes', 'No', 'Yes', 'Yes', 'Yes', 'Yes', 'No', 'No', 'No',\n",
       "       'Yes', 'No', 'No', 'Yes', 'No', 'No', 'No', 'No', 'Yes', 'No',\n",
       "       'Yes', 'Yes', 'No', 'No', 'No', 'Yes', 'No', 'No', 'No', 'Yes',\n",
       "       'Yes', 'Yes', 'No', 'No', 'No', 'No', 'No', 'Yes', 'Yes', 'No',\n",
       "       'Yes', 'No', 'No', 'No', 'Yes', 'Yes', 'No', 'No', 'No', 'Yes',\n",
       "       'No', 'No', 'No', 'No', 'No', 'Yes', 'No', 'No', 'No', 'Yes', 'No',\n",
       "       'Yes', 'Yes', 'Yes', 'Yes', 'Yes', 'No', 'No', 'No', 'Yes', 'No',\n",
       "       'Yes', 'No', 'Yes', 'Yes', 'No', 'No', 'No', 'No', 'No'],\n",
       "      dtype=object)"
      ]
     },
     "execution_count": 363,
     "metadata": {},
     "output_type": "execute_result"
    }
   ],
   "source": [
    "label_encoder.inverse_transform(predictions)"
   ]
  },
  {
   "cell_type": "markdown",
   "id": "7aec40fb",
   "metadata": {},
   "source": [
    "## 20% 小題五：評估 "
   ]
  },
  {
   "cell_type": "code",
   "execution_count": 364,
   "id": "597853f0",
   "metadata": {},
   "outputs": [
    {
     "data": {
      "text/plain": [
       "0.7547770700636943"
      ]
     },
     "execution_count": 364,
     "metadata": {},
     "output_type": "execute_result"
    }
   ],
   "source": [
    "from sklearn.metrics import accuracy_score\n",
    "accuracy_score(y_test, predictions)"
   ]
  },
  {
   "cell_type": "code",
   "execution_count": 365,
   "id": "2a4606a0",
   "metadata": {},
   "outputs": [],
   "source": [
    "??accuracy_score"
   ]
  },
  {
   "cell_type": "code",
   "execution_count": null,
   "id": "b9e6190a",
   "metadata": {},
   "outputs": [],
   "source": []
  }
 ],
 "metadata": {
  "kernelspec": {
   "display_name": "Python 3 (ipykernel)",
   "language": "python",
   "name": "python3"
  },
  "language_info": {
   "codemirror_mode": {
    "name": "ipython",
    "version": 3
   },
   "file_extension": ".py",
   "mimetype": "text/x-python",
   "name": "python",
   "nbconvert_exporter": "python",
   "pygments_lexer": "ipython3",
   "version": "3.7.11"
  }
 },
 "nbformat": 4,
 "nbformat_minor": 5
}
