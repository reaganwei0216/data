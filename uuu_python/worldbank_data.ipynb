{
 "cells": [
  {
   "cell_type": "code",
   "execution_count": 1,
   "metadata": {},
   "outputs": [
    {
     "name": "stdout",
     "output_type": "stream",
     "text": [
      "(3960, 1)\n"
     ]
    }
   ],
   "source": [
    "import pandas as pd\n",
    "from pandas_datareader import data, wb\n",
    "\n",
    "data = wb.download(\n",
    "    indicator='SE.PRM.TENR',\n",
    "    country=['all'],\n",
    "    start='2002',\n",
    "    end='2016'\n",
    ")\n",
    "\n",
    "print data.shape\n",
    "\n"
   ]
  },
  {
   "cell_type": "code",
   "execution_count": 2,
   "metadata": {},
   "outputs": [
    {
     "name": "stdout",
     "output_type": "stream",
     "text": [
      "                 SE.PRM.TENR\n",
      "country    year             \n",
      "Arab World 2016          NaN\n",
      "           2015          NaN\n",
      "           2014    85.320152\n",
      "           2013    85.511940\n",
      "           2012    86.101669\n"
     ]
    }
   ],
   "source": [
    "print data.head()"
   ]
  },
  {
   "cell_type": "code",
   "execution_count": 4,
   "metadata": {},
   "outputs": [
    {
     "data": {
      "text/plain": [
       "(3960, 3)"
      ]
     },
     "execution_count": 4,
     "metadata": {},
     "output_type": "execute_result"
    }
   ],
   "source": [
    "data2 = data.reset_index()\n",
    "data2.shape"
   ]
  },
  {
   "cell_type": "code",
   "execution_count": 5,
   "metadata": {},
   "outputs": [
    {
     "data": {
      "text/html": [
       "<div>\n",
       "<style scoped>\n",
       "    .dataframe tbody tr th:only-of-type {\n",
       "        vertical-align: middle;\n",
       "    }\n",
       "\n",
       "    .dataframe tbody tr th {\n",
       "        vertical-align: top;\n",
       "    }\n",
       "\n",
       "    .dataframe thead th {\n",
       "        text-align: right;\n",
       "    }\n",
       "</style>\n",
       "<table border=\"1\" class=\"dataframe\">\n",
       "  <thead>\n",
       "    <tr style=\"text-align: right;\">\n",
       "      <th></th>\n",
       "      <th>country</th>\n",
       "      <th>year</th>\n",
       "      <th>SE.PRM.TENR</th>\n",
       "    </tr>\n",
       "  </thead>\n",
       "  <tbody>\n",
       "    <tr>\n",
       "      <th>0</th>\n",
       "      <td>Arab World</td>\n",
       "      <td>2016</td>\n",
       "      <td>NaN</td>\n",
       "    </tr>\n",
       "    <tr>\n",
       "      <th>1</th>\n",
       "      <td>Arab World</td>\n",
       "      <td>2015</td>\n",
       "      <td>NaN</td>\n",
       "    </tr>\n",
       "    <tr>\n",
       "      <th>2</th>\n",
       "      <td>Arab World</td>\n",
       "      <td>2014</td>\n",
       "      <td>85.320152</td>\n",
       "    </tr>\n",
       "    <tr>\n",
       "      <th>3</th>\n",
       "      <td>Arab World</td>\n",
       "      <td>2013</td>\n",
       "      <td>85.511940</td>\n",
       "    </tr>\n",
       "    <tr>\n",
       "      <th>4</th>\n",
       "      <td>Arab World</td>\n",
       "      <td>2012</td>\n",
       "      <td>86.101669</td>\n",
       "    </tr>\n",
       "  </tbody>\n",
       "</table>\n",
       "</div>"
      ],
      "text/plain": [
       "      country  year  SE.PRM.TENR\n",
       "0  Arab World  2016          NaN\n",
       "1  Arab World  2015          NaN\n",
       "2  Arab World  2014    85.320152\n",
       "3  Arab World  2013    85.511940\n",
       "4  Arab World  2012    86.101669"
      ]
     },
     "execution_count": 5,
     "metadata": {},
     "output_type": "execute_result"
    }
   ],
   "source": [
    "data2.head()"
   ]
  },
  {
   "cell_type": "code",
   "execution_count": 8,
   "metadata": {},
   "outputs": [
    {
     "data": {
      "text/html": [
       "<div>\n",
       "<style scoped>\n",
       "    .dataframe tbody tr th:only-of-type {\n",
       "        vertical-align: middle;\n",
       "    }\n",
       "\n",
       "    .dataframe tbody tr th {\n",
       "        vertical-align: top;\n",
       "    }\n",
       "\n",
       "    .dataframe thead th {\n",
       "        text-align: right;\n",
       "    }\n",
       "</style>\n",
       "<table border=\"1\" class=\"dataframe\">\n",
       "  <thead>\n",
       "    <tr style=\"text-align: right;\">\n",
       "      <th></th>\n",
       "      <th>country</th>\n",
       "      <th>year</th>\n",
       "      <th>SE.PRM.TENR</th>\n",
       "    </tr>\n",
       "  </thead>\n",
       "  <tbody>\n",
       "    <tr>\n",
       "      <th>0</th>\n",
       "      <td>Arab World</td>\n",
       "      <td>2016</td>\n",
       "      <td>NaN</td>\n",
       "    </tr>\n",
       "    <tr>\n",
       "      <th>1</th>\n",
       "      <td>Arab World</td>\n",
       "      <td>2015</td>\n",
       "      <td>NaN</td>\n",
       "    </tr>\n",
       "    <tr>\n",
       "      <th>2</th>\n",
       "      <td>Arab World</td>\n",
       "      <td>2014</td>\n",
       "      <td>85.320152</td>\n",
       "    </tr>\n",
       "    <tr>\n",
       "      <th>3</th>\n",
       "      <td>Arab World</td>\n",
       "      <td>2013</td>\n",
       "      <td>85.511940</td>\n",
       "    </tr>\n",
       "    <tr>\n",
       "      <th>4</th>\n",
       "      <td>Arab World</td>\n",
       "      <td>2012</td>\n",
       "      <td>86.101669</td>\n",
       "    </tr>\n",
       "    <tr>\n",
       "      <th>5</th>\n",
       "      <td>Arab World</td>\n",
       "      <td>2011</td>\n",
       "      <td>85.245140</td>\n",
       "    </tr>\n",
       "    <tr>\n",
       "      <th>6</th>\n",
       "      <td>Arab World</td>\n",
       "      <td>2010</td>\n",
       "      <td>85.211998</td>\n",
       "    </tr>\n",
       "    <tr>\n",
       "      <th>7</th>\n",
       "      <td>Arab World</td>\n",
       "      <td>2009</td>\n",
       "      <td>84.195961</td>\n",
       "    </tr>\n",
       "    <tr>\n",
       "      <th>8</th>\n",
       "      <td>Arab World</td>\n",
       "      <td>2008</td>\n",
       "      <td>84.011871</td>\n",
       "    </tr>\n",
       "    <tr>\n",
       "      <th>9</th>\n",
       "      <td>Arab World</td>\n",
       "      <td>2007</td>\n",
       "      <td>83.280342</td>\n",
       "    </tr>\n",
       "  </tbody>\n",
       "</table>\n",
       "</div>"
      ],
      "text/plain": [
       "      country  year  SE.PRM.TENR\n",
       "0  Arab World  2016          NaN\n",
       "1  Arab World  2015          NaN\n",
       "2  Arab World  2014    85.320152\n",
       "3  Arab World  2013    85.511940\n",
       "4  Arab World  2012    86.101669\n",
       "5  Arab World  2011    85.245140\n",
       "6  Arab World  2010    85.211998\n",
       "7  Arab World  2009    84.195961\n",
       "8  Arab World  2008    84.011871\n",
       "9  Arab World  2007    83.280342"
      ]
     },
     "execution_count": 8,
     "metadata": {},
     "output_type": "execute_result"
    }
   ],
   "source": [
    "data2.head(n=10)"
   ]
  },
  {
   "cell_type": "code",
   "execution_count": 13,
   "metadata": {
    "scrolled": true
   },
   "outputs": [
    {
     "data": {
      "text/plain": [
       "array([u'Arab World', u'Caribbean small states',\n",
       "       u'Central Europe and the Baltics', u'Early-demographic dividend',\n",
       "       u'East Asia & Pacific',\n",
       "       u'East Asia & Pacific (excluding high income)',\n",
       "       u'East Asia & Pacific (IDA & IBRD countries)', u'Euro area',\n",
       "       u'Europe & Central Asia',\n",
       "       u'Europe & Central Asia (excluding high income)',\n",
       "       u'Europe & Central Asia (IDA & IBRD countries)', u'European Union',\n",
       "       u'Fragile and conflict affected situations',\n",
       "       u'Heavily indebted poor countries (HIPC)', u'High income',\n",
       "       u'IBRD only', u'IDA & IBRD total', u'IDA blend', u'IDA only',\n",
       "       u'IDA total', u'Late-demographic dividend',\n",
       "       u'Latin America & Caribbean',\n",
       "       u'Latin America & Caribbean (excluding high income)',\n",
       "       u'Latin America & the Caribbean (IDA & IBRD countries)',\n",
       "       u'Least developed countries: UN classification',\n",
       "       u'Low & middle income', u'Low income', u'Lower middle income',\n",
       "       u'Middle East & North Africa',\n",
       "       u'Middle East & North Africa (excluding high income)',\n",
       "       u'Middle East & North Africa (IDA & IBRD countries)',\n",
       "       u'Middle income', u'North America', u'Not classified',\n",
       "       u'OECD members', u'Other small states',\n",
       "       u'Pacific island small states', u'Post-demographic dividend',\n",
       "       u'Pre-demographic dividend', u'Small states', u'South Asia',\n",
       "       u'South Asia (IDA & IBRD)', u'Sub-Saharan Africa',\n",
       "       u'Sub-Saharan Africa (excluding high income)',\n",
       "       u'Sub-Saharan Africa (IDA & IBRD countries)',\n",
       "       u'Upper middle income', u'World', u'Afghanistan', u'Albania',\n",
       "       u'Algeria', u'American Samoa', u'Andorra', u'Angola',\n",
       "       u'Antigua and Barbuda', u'Argentina', u'Armenia', u'Aruba',\n",
       "       u'Australia', u'Austria', u'Azerbaijan', u'Bahamas, The',\n",
       "       u'Bahrain', u'Bangladesh', u'Barbados', u'Belarus', u'Belgium',\n",
       "       u'Belize', u'Benin', u'Bermuda', u'Bhutan', u'Bolivia',\n",
       "       u'Bosnia and Herzegovina', u'Botswana', u'Brazil',\n",
       "       u'British Virgin Islands', u'Brunei Darussalam', u'Bulgaria',\n",
       "       u'Burkina Faso', u'Burundi', u'Cabo Verde', u'Cambodia',\n",
       "       u'Cameroon', u'Canada', u'Cayman Islands',\n",
       "       u'Central African Republic', u'Chad', u'Channel Islands', u'Chile',\n",
       "       u'China', u'Colombia', u'Comoros', u'Congo, Dem. Rep.',\n",
       "       u'Congo, Rep.', u'Costa Rica', u\"Cote d'Ivoire\", u'Croatia',\n",
       "       u'Cuba', u'Curacao', u'Cyprus', u'Czech Republic', u'Denmark',\n",
       "       u'Djibouti', u'Dominica', u'Dominican Republic', u'Ecuador',\n",
       "       u'Egypt, Arab Rep.', u'El Salvador', u'Equatorial Guinea',\n",
       "       u'Eritrea', u'Estonia', u'Ethiopia', u'Faroe Islands', u'Fiji',\n",
       "       u'Finland', u'France', u'French Polynesia', u'Gabon',\n",
       "       u'Gambia, The', u'Georgia', u'Germany', u'Ghana', u'Gibraltar',\n",
       "       u'Greece', u'Greenland', u'Grenada', u'Guam', u'Guatemala',\n",
       "       u'Guinea', u'Guinea-Bissau', u'Guyana', u'Haiti', u'Honduras',\n",
       "       u'Hong Kong SAR, China', u'Hungary', u'Iceland', u'India',\n",
       "       u'Indonesia', u'Iran, Islamic Rep.', u'Iraq', u'Ireland',\n",
       "       u'Isle of Man', u'Israel', u'Italy', u'Jamaica', u'Japan',\n",
       "       u'Jordan', u'Kazakhstan', u'Kenya', u'Kiribati',\n",
       "       u'Korea, Dem. People\\u2019s Rep.', u'Korea, Rep.', u'Kosovo',\n",
       "       u'Kuwait', u'Kyrgyz Republic', u'Lao PDR', u'Latvia', u'Lebanon',\n",
       "       u'Lesotho', u'Liberia', u'Libya', u'Liechtenstein', u'Lithuania',\n",
       "       u'Luxembourg', u'Macao SAR, China', u'Macedonia, FYR',\n",
       "       u'Madagascar', u'Malawi', u'Malaysia', u'Maldives', u'Mali',\n",
       "       u'Malta', u'Marshall Islands', u'Mauritania', u'Mauritius',\n",
       "       u'Mexico', u'Micronesia, Fed. Sts.', u'Moldova', u'Monaco',\n",
       "       u'Mongolia', u'Montenegro', u'Morocco', u'Mozambique', u'Myanmar',\n",
       "       u'Namibia', u'Nauru', u'Nepal', u'Netherlands', u'New Caledonia',\n",
       "       u'New Zealand', u'Nicaragua', u'Niger', u'Nigeria',\n",
       "       u'Northern Mariana Islands', u'Norway', u'Oman', u'Pakistan',\n",
       "       u'Palau', u'Panama', u'Papua New Guinea', u'Paraguay', u'Peru',\n",
       "       u'Philippines', u'Poland', u'Portugal', u'Puerto Rico', u'Qatar',\n",
       "       u'Romania', u'Russian Federation', u'Rwanda', u'Samoa',\n",
       "       u'San Marino', u'Sao Tome and Principe', u'Saudi Arabia',\n",
       "       u'Senegal', u'Serbia', u'Seychelles', u'Sierra Leone', u'Singapore',\n",
       "       u'Sint Maarten (Dutch part)', u'Slovak Republic', u'Slovenia',\n",
       "       u'Solomon Islands', u'Somalia', u'South Africa', u'South Sudan',\n",
       "       u'Spain', u'Sri Lanka', u'St. Kitts and Nevis', u'St. Lucia',\n",
       "       u'St. Martin (French part)', u'St. Vincent and the Grenadines',\n",
       "       u'Sudan', u'Suriname', u'Swaziland', u'Sweden', u'Switzerland',\n",
       "       u'Syrian Arab Republic', u'Tajikistan', u'Tanzania', u'Thailand',\n",
       "       u'Timor-Leste', u'Togo', u'Tonga', u'Trinidad and Tobago',\n",
       "       u'Tunisia', u'Turkey', u'Turkmenistan', u'Turks and Caicos Islands',\n",
       "       u'Tuvalu', u'Uganda', u'Ukraine', u'United Arab Emirates',\n",
       "       u'United Kingdom', u'United States', u'Uruguay', u'Uzbekistan',\n",
       "       u'Vanuatu', u'Venezuela, RB', u'Vietnam', u'Virgin Islands (U.S.)',\n",
       "       u'West Bank and Gaza', u'Yemen, Rep.', u'Zambia', u'Zimbabwe'], dtype=object)"
      ]
     },
     "execution_count": 13,
     "metadata": {},
     "output_type": "execute_result"
    }
   ],
   "source": [
    "data2.country.unique()"
   ]
  },
  {
   "cell_type": "code",
   "execution_count": 15,
   "metadata": {},
   "outputs": [
    {
     "data": {
      "text/plain": [
       "array([u'2016', u'2015', u'2014', u'2013', u'2012', u'2011', u'2010',\n",
       "       u'2009', u'2008', u'2007', u'2006', u'2005', u'2004', u'2003',\n",
       "       u'2002'], dtype=object)"
      ]
     },
     "execution_count": 15,
     "metadata": {},
     "output_type": "execute_result"
    }
   ],
   "source": [
    "data2.year.unique()"
   ]
  },
  {
   "cell_type": "code",
   "execution_count": 36,
   "metadata": {},
   "outputs": [
    {
     "data": {
      "text/html": [
       "<div>\n",
       "<style scoped>\n",
       "    .dataframe tbody tr th:only-of-type {\n",
       "        vertical-align: middle;\n",
       "    }\n",
       "\n",
       "    .dataframe tbody tr th {\n",
       "        vertical-align: top;\n",
       "    }\n",
       "\n",
       "    .dataframe thead th {\n",
       "        text-align: right;\n",
       "    }\n",
       "</style>\n",
       "<table border=\"1\" class=\"dataframe\">\n",
       "  <thead>\n",
       "    <tr style=\"text-align: right;\">\n",
       "      <th></th>\n",
       "      <th>country</th>\n",
       "      <th>year</th>\n",
       "      <th>SE.PRM.TENR</th>\n",
       "    </tr>\n",
       "  </thead>\n",
       "  <tbody>\n",
       "    <tr>\n",
       "      <th>1705</th>\n",
       "      <td>Finland</td>\n",
       "      <td>2006</td>\n",
       "      <td>96.926971</td>\n",
       "    </tr>\n",
       "    <tr>\n",
       "      <th>1704</th>\n",
       "      <td>Finland</td>\n",
       "      <td>2007</td>\n",
       "      <td>97.383652</td>\n",
       "    </tr>\n",
       "    <tr>\n",
       "      <th>1706</th>\n",
       "      <td>Finland</td>\n",
       "      <td>2005</td>\n",
       "      <td>97.488358</td>\n",
       "    </tr>\n",
       "    <tr>\n",
       "      <th>1703</th>\n",
       "      <td>Finland</td>\n",
       "      <td>2008</td>\n",
       "      <td>97.682266</td>\n",
       "    </tr>\n",
       "    <tr>\n",
       "      <th>1702</th>\n",
       "      <td>Finland</td>\n",
       "      <td>2009</td>\n",
       "      <td>97.725739</td>\n",
       "    </tr>\n",
       "    <tr>\n",
       "      <th>1707</th>\n",
       "      <td>Finland</td>\n",
       "      <td>2004</td>\n",
       "      <td>97.891487</td>\n",
       "    </tr>\n",
       "    <tr>\n",
       "      <th>1701</th>\n",
       "      <td>Finland</td>\n",
       "      <td>2010</td>\n",
       "      <td>97.958946</td>\n",
       "    </tr>\n",
       "    <tr>\n",
       "      <th>1700</th>\n",
       "      <td>Finland</td>\n",
       "      <td>2011</td>\n",
       "      <td>98.257950</td>\n",
       "    </tr>\n",
       "    <tr>\n",
       "      <th>1708</th>\n",
       "      <td>Finland</td>\n",
       "      <td>2003</td>\n",
       "      <td>98.819458</td>\n",
       "    </tr>\n",
       "    <tr>\n",
       "      <th>1699</th>\n",
       "      <td>Finland</td>\n",
       "      <td>2012</td>\n",
       "      <td>99.174988</td>\n",
       "    </tr>\n",
       "    <tr>\n",
       "      <th>1697</th>\n",
       "      <td>Finland</td>\n",
       "      <td>2014</td>\n",
       "      <td>99.503860</td>\n",
       "    </tr>\n",
       "    <tr>\n",
       "      <th>1709</th>\n",
       "      <td>Finland</td>\n",
       "      <td>2002</td>\n",
       "      <td>99.528641</td>\n",
       "    </tr>\n",
       "    <tr>\n",
       "      <th>1698</th>\n",
       "      <td>Finland</td>\n",
       "      <td>2013</td>\n",
       "      <td>99.588509</td>\n",
       "    </tr>\n",
       "    <tr>\n",
       "      <th>1696</th>\n",
       "      <td>Finland</td>\n",
       "      <td>2015</td>\n",
       "      <td>99.644997</td>\n",
       "    </tr>\n",
       "    <tr>\n",
       "      <th>1695</th>\n",
       "      <td>Finland</td>\n",
       "      <td>2016</td>\n",
       "      <td>NaN</td>\n",
       "    </tr>\n",
       "  </tbody>\n",
       "</table>\n",
       "</div>"
      ],
      "text/plain": [
       "      country  year  SE.PRM.TENR\n",
       "1705  Finland  2006    96.926971\n",
       "1704  Finland  2007    97.383652\n",
       "1706  Finland  2005    97.488358\n",
       "1703  Finland  2008    97.682266\n",
       "1702  Finland  2009    97.725739\n",
       "1707  Finland  2004    97.891487\n",
       "1701  Finland  2010    97.958946\n",
       "1700  Finland  2011    98.257950\n",
       "1708  Finland  2003    98.819458\n",
       "1699  Finland  2012    99.174988\n",
       "1697  Finland  2014    99.503860\n",
       "1709  Finland  2002    99.528641\n",
       "1698  Finland  2013    99.588509\n",
       "1696  Finland  2015    99.644997\n",
       "1695  Finland  2016          NaN"
      ]
     },
     "execution_count": 36,
     "metadata": {},
     "output_type": "execute_result"
    }
   ],
   "source": [
    "data3 = data2[data2.country==u'Finland']\n",
    "data3\n",
    "data3.sort_values('SE.PRM.TENR', ascending=True)"
   ]
  },
  {
   "cell_type": "code",
   "execution_count": 23,
   "metadata": {},
   "outputs": [
    {
     "data": {
      "text/plain": [
       "(3960L,)"
      ]
     },
     "execution_count": 23,
     "metadata": {},
     "output_type": "execute_result"
    }
   ],
   "source": [
    "index = data2.groupby(['country'])['SE.PRM.TENR'].transform(max)==data2['SE.PRM.TENR']\n",
    "index.shape"
   ]
  },
  {
   "cell_type": "code",
   "execution_count": 27,
   "metadata": {
    "collapsed": true
   },
   "outputs": [
    {
     "name": "stdout",
     "output_type": "stream",
     "text": [
      "(227, 3)\n",
      "                                           country  year  SE.PRM.TENR\n",
      "4                                       Arab World  2012    86.101669\n",
      "20                          Caribbean small states  2011    93.887428\n",
      "36                  Central Europe and the Baltics  2010    96.898399\n",
      "47                      Early-demographic dividend  2014    93.689827\n",
      "74                             East Asia & Pacific  2002    97.492416\n",
      "89     East Asia & Pacific (excluding high income)  2002    97.399597\n",
      "104     East Asia & Pacific (IDA & IBRD countries)  2002    97.403282\n",
      "119                                      Euro area  2002    99.234787\n",
      "134                          Europe & Central Asia  2002    97.972458\n",
      "147  Europe & Central Asia (excluding high income)  2004    96.850891\n",
      "164   Europe & Central Asia (IDA & IBRD countries)  2002    96.736809\n",
      "171                                 European Union  2010    98.725594\n",
      "182       Fragile and conflict affected situations  2014    76.548607\n",
      "197         Heavily indebted poor countries (HIPC)  2014    80.689568\n",
      "218                                    High income  2008    97.457123\n",
      "229                                      IBRD only  2012    96.137398\n",
      "242                               IDA & IBRD total  2014    90.453590\n",
      "264                                      IDA blend  2007    76.786331\n",
      "272                                       IDA only  2014    82.773888\n",
      "287                                      IDA total  2014    80.789719\n"
     ]
    }
   ],
   "source": [
    "data4 = data2[index]\n",
    "print data4.shape\n"
   ]
  },
  {
   "cell_type": "code",
   "execution_count": 29,
   "metadata": {},
   "outputs": [
    {
     "name": "stdout",
     "output_type": "stream",
     "text": [
      "                                           country  year  SE.PRM.TENR\n",
      "4                                       Arab World  2012    86.101669\n",
      "20                          Caribbean small states  2011    93.887428\n",
      "36                  Central Europe and the Baltics  2010    96.898399\n",
      "47                      Early-demographic dividend  2014    93.689827\n",
      "74                             East Asia & Pacific  2002    97.492416\n",
      "89     East Asia & Pacific (excluding high income)  2002    97.399597\n",
      "104     East Asia & Pacific (IDA & IBRD countries)  2002    97.403282\n",
      "119                                      Euro area  2002    99.234787\n",
      "134                          Europe & Central Asia  2002    97.972458\n",
      "147  Europe & Central Asia (excluding high income)  2004    96.850891\n",
      "164   Europe & Central Asia (IDA & IBRD countries)  2002    96.736809\n",
      "171                                 European Union  2010    98.725594\n",
      "182       Fragile and conflict affected situations  2014    76.548607\n",
      "197         Heavily indebted poor countries (HIPC)  2014    80.689568\n",
      "218                                    High income  2008    97.457123\n",
      "229                                      IBRD only  2012    96.137398\n",
      "242                               IDA & IBRD total  2014    90.453590\n",
      "264                                      IDA blend  2007    76.786331\n",
      "272                                       IDA only  2014    82.773888\n",
      "287                                      IDA total  2014    80.789719\n"
     ]
    }
   ],
   "source": [
    "print data4.head(n=20)"
   ]
  },
  {
   "cell_type": "code",
   "execution_count": 30,
   "metadata": {},
   "outputs": [
    {
     "name": "stdout",
     "output_type": "stream",
     "text": [
      "<class 'pandas.core.frame.DataFrame'>\n"
     ]
    }
   ],
   "source": [
    "print type(data)"
   ]
  }
 ],
 "metadata": {
  "kernelspec": {
   "display_name": "Python 2",
   "language": "python",
   "name": "python2"
  },
  "language_info": {
   "codemirror_mode": {
    "name": "ipython",
    "version": 2
   },
   "file_extension": ".py",
   "mimetype": "text/x-python",
   "name": "python",
   "nbconvert_exporter": "python",
   "pygments_lexer": "ipython2",
   "version": "2.7.14"
  }
 },
 "nbformat": 4,
 "nbformat_minor": 2
}
