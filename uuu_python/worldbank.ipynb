{
 "cells": [
  {
   "cell_type": "code",
   "execution_count": 3,
   "metadata": {},
   "outputs": [],
   "source": [
    "import pandas_datareader.wb as wb\n",
    "result1 = wb.search(string='SE.PRM.TENR', field='id')"
   ]
  },
  {
   "cell_type": "code",
   "execution_count": 7,
   "metadata": {},
   "outputs": [
    {
     "data": {
      "text/html": [
       "<div>\n",
       "<style scoped>\n",
       "    .dataframe tbody tr th:only-of-type {\n",
       "        vertical-align: middle;\n",
       "    }\n",
       "\n",
       "    .dataframe tbody tr th {\n",
       "        vertical-align: top;\n",
       "    }\n",
       "\n",
       "    .dataframe thead th {\n",
       "        text-align: right;\n",
       "    }\n",
       "</style>\n",
       "<table border=\"1\" class=\"dataframe\">\n",
       "  <thead>\n",
       "    <tr style=\"text-align: right;\">\n",
       "      <th></th>\n",
       "      <th>id</th>\n",
       "      <th>name</th>\n",
       "    </tr>\n",
       "  </thead>\n",
       "  <tbody>\n",
       "    <tr>\n",
       "      <th>9001</th>\n",
       "      <td>SE.PRM.TENR</td>\n",
       "      <td>Adjusted net enrollment rate, primary (% of pr...</td>\n",
       "    </tr>\n",
       "    <tr>\n",
       "      <th>9002</th>\n",
       "      <td>SE.PRM.TENR.FE</td>\n",
       "      <td>Adjusted net enrollment rate, primary, female ...</td>\n",
       "    </tr>\n",
       "    <tr>\n",
       "      <th>9003</th>\n",
       "      <td>SE.PRM.TENR.MA</td>\n",
       "      <td>Adjusted net enrollment rate, primary, male (%...</td>\n",
       "    </tr>\n",
       "  </tbody>\n",
       "</table>\n",
       "</div>"
      ],
      "text/plain": [
       "                  id                                               name\n",
       "9001     SE.PRM.TENR  Adjusted net enrollment rate, primary (% of pr...\n",
       "9002  SE.PRM.TENR.FE  Adjusted net enrollment rate, primary, female ...\n",
       "9003  SE.PRM.TENR.MA  Adjusted net enrollment rate, primary, male (%..."
      ]
     },
     "execution_count": 7,
     "metadata": {},
     "output_type": "execute_result"
    }
   ],
   "source": [
    "result1.iloc[:,:2]"
   ]
  },
  {
   "cell_type": "code",
   "execution_count": 9,
   "metadata": {},
   "outputs": [
    {
     "data": {
      "text/html": [
       "<div>\n",
       "<style scoped>\n",
       "    .dataframe tbody tr th:only-of-type {\n",
       "        vertical-align: middle;\n",
       "    }\n",
       "\n",
       "    .dataframe tbody tr th {\n",
       "        vertical-align: top;\n",
       "    }\n",
       "\n",
       "    .dataframe thead th {\n",
       "        text-align: right;\n",
       "    }\n",
       "</style>\n",
       "<table border=\"1\" class=\"dataframe\">\n",
       "  <thead>\n",
       "    <tr style=\"text-align: right;\">\n",
       "      <th></th>\n",
       "      <th>source</th>\n",
       "      <th>sourceNote</th>\n",
       "      <th>sourceOrganization</th>\n",
       "      <th>topics</th>\n",
       "    </tr>\n",
       "  </thead>\n",
       "  <tbody>\n",
       "    <tr>\n",
       "      <th>9001</th>\n",
       "      <td>World Development Indicators</td>\n",
       "      <td>Adjusted net enrollment is the number of pupil...</td>\n",
       "      <td>United Nations Educational, Scientific, and Cu...</td>\n",
       "      <td>Education</td>\n",
       "    </tr>\n",
       "    <tr>\n",
       "      <th>9002</th>\n",
       "      <td>World Development Indicators</td>\n",
       "      <td>Adjusted net enrollment is the number of pupil...</td>\n",
       "      <td>United Nations Educational, Scientific, and Cu...</td>\n",
       "      <td>Education  ; Gender</td>\n",
       "    </tr>\n",
       "    <tr>\n",
       "      <th>9003</th>\n",
       "      <td>World Development Indicators</td>\n",
       "      <td>Adjusted net enrollment is the number of pupil...</td>\n",
       "      <td>United Nations Educational, Scientific, and Cu...</td>\n",
       "      <td>Education  ; Gender</td>\n",
       "    </tr>\n",
       "  </tbody>\n",
       "</table>\n",
       "</div>"
      ],
      "text/plain": [
       "                            source  \\\n",
       "9001  World Development Indicators   \n",
       "9002  World Development Indicators   \n",
       "9003  World Development Indicators   \n",
       "\n",
       "                                             sourceNote  \\\n",
       "9001  Adjusted net enrollment is the number of pupil...   \n",
       "9002  Adjusted net enrollment is the number of pupil...   \n",
       "9003  Adjusted net enrollment is the number of pupil...   \n",
       "\n",
       "                                     sourceOrganization               topics  \n",
       "9001  United Nations Educational, Scientific, and Cu...           Education   \n",
       "9002  United Nations Educational, Scientific, and Cu...  Education  ; Gender  \n",
       "9003  United Nations Educational, Scientific, and Cu...  Education  ; Gender  "
      ]
     },
     "execution_count": 9,
     "metadata": {},
     "output_type": "execute_result"
    }
   ],
   "source": [
    "result1.iloc[:,2:]"
   ]
  },
  {
   "cell_type": "code",
   "execution_count": 17,
   "metadata": {},
   "outputs": [
    {
     "data": {
      "text/plain": [
       "u'Adjusted net enrollment rate, primary, male (% of primary school age children)'"
      ]
     },
     "execution_count": 17,
     "metadata": {},
     "output_type": "execute_result"
    }
   ],
   "source": [
    "result1.iloc[2,1]"
   ]
  }
 ],
 "metadata": {
  "kernelspec": {
   "display_name": "Python 2",
   "language": "python",
   "name": "python2"
  },
  "language_info": {
   "codemirror_mode": {
    "name": "ipython",
    "version": 2
   },
   "file_extension": ".py",
   "mimetype": "text/x-python",
   "name": "python",
   "nbconvert_exporter": "python",
   "pygments_lexer": "ipython2",
   "version": "2.7.14"
  }
 },
 "nbformat": 4,
 "nbformat_minor": 2
}
