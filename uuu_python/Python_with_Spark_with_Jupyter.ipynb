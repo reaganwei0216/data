{
 "cells": [
  {
   "cell_type": "code",
   "execution_count": 6,
   "metadata": {},
   "outputs": [
    {
     "data": {
      "text/plain": [
       "112"
      ]
     },
     "execution_count": 6,
     "metadata": {},
     "output_type": "execute_result"
    }
   ],
   "source": [
    "import re\n",
    "from operator import add\n",
    "file_in1 = sc.textFile('.//data//eula_ascii.1028.txt')\n",
    "file_in1.count()"
   ]
  },
  {
   "cell_type": "code",
   "execution_count": 7,
   "metadata": {},
   "outputs": [
    {
     "data": {
      "text/plain": [
       "8681"
      ]
     },
     "execution_count": 7,
     "metadata": {},
     "output_type": "execute_result"
    }
   ],
   "source": [
    "chars=file_in1.map(lambda s:len(s)).reduce(add)\n",
    "chars"
   ]
  },
  {
   "cell_type": "code",
   "execution_count": 9,
   "metadata": {},
   "outputs": [
    {
     "data": {
      "text/plain": [
       "[80, 76, 78, 79, 79]"
      ]
     },
     "execution_count": 9,
     "metadata": {},
     "output_type": "execute_result"
    }
   ],
   "source": [
    "file_in1.map(lambda s:len(s)).take(5)"
   ]
  },
  {
   "cell_type": "code",
   "execution_count": 12,
   "metadata": {
    "collapsed": true
   },
   "outputs": [
    {
     "data": {
      "text/plain": [
       "[u'',\n",
       " u'you',\n",
       " u'have',\n",
       " u'received',\n",
       " u'the',\n",
       " u'software',\n",
       " u'as',\n",
       " u'part',\n",
       " u'of',\n",
       " u'the',\n",
       " u'visual',\n",
       " u'studio',\n",
       " u'9',\n",
       " u'0',\n",
       " u'beta',\n",
       " u'program',\n",
       " u'',\n",
       " u'the',\n",
       " u'terms',\n",
       " u'and']"
      ]
     },
     "execution_count": 12,
     "metadata": {},
     "output_type": "execute_result"
    }
   ],
   "source": [
    "words = file_in1.flatMap(lambda line:re.split('\\\\W+', line.lower().strip()))\n",
    "words.take(20)"
   ]
  },
  {
   "cell_type": "code",
   "execution_count": 15,
   "metadata": {
    "collapsed": true
   },
   "outputs": [
    {
     "data": {
      "text/plain": [
       "[(u'', 112),\n",
       " (u'FEEDBACK.', 1),\n",
       " (u'all', 4),\n",
       " (u'permits,', 1),\n",
       " (u'LICENSE', 1),\n",
       " (u'from', 1),\n",
       " (u'EFFECT.', 1),\n",
       " (u'able', 1),\n",
       " (u'\\ufffd\\ufffdas', 1),\n",
       " (u'domestic', 1),\n",
       " (u'peut', 2),\n",
       " (u'LAWS,', 1),\n",
       " (u'including', 1),\n",
       " (u'publish', 1),\n",
       " (u'EXTENT', 1),\n",
       " (u'tort.', 1),\n",
       " (u'interpretation', 1),\n",
       " (u'Program.', 1),\n",
       " (u'present', 2),\n",
       " (u'faute', 1)]"
      ]
     },
     "execution_count": 15,
     "metadata": {},
     "output_type": "execute_result"
    }
   ],
   "source": [
    "counts = file_in1.flatMap(lambda line:line.split(\" \"))\\\n",
    ".map(lambda word:(word, 1)).reduceByKey(lambda a,b: a+b)\n",
    "counts.take(20)"
   ]
  },
  {
   "cell_type": "code",
   "execution_count": 17,
   "metadata": {
    "collapsed": true
   },
   "outputs": [
    {
     "data": {
      "text/plain": [
       "[(112, u''),\n",
       " (54, u'the'),\n",
       " (30, u'to'),\n",
       " (27, u'software'),\n",
       " (25, u'of'),\n",
       " (20, u'\\ufffdE'),\n",
       " (19, u'and'),\n",
       " (18, u'you'),\n",
       " (18, u'de'),\n",
       " (16, u'or'),\n",
       " (14, u'may'),\n",
       " (14, u'any'),\n",
       " (13, u'not'),\n",
       " (13, u'for'),\n",
       " (13, u'in'),\n",
       " (12, u'this'),\n",
       " (12, u'Microsoft'),\n",
       " (11, u'ou'),\n",
       " (11, u'with'),\n",
       " (11, u'your')]"
      ]
     },
     "execution_count": 17,
     "metadata": {},
     "output_type": "execute_result"
    }
   ],
   "source": [
    "countsReverse = counts.map(lambda x:(x[1],x[0])).sortByKey(False)\n",
    "countsReverse.take(20)"
   ]
  },
  {
   "cell_type": "code",
   "execution_count": 19,
   "metadata": {
    "collapsed": true
   },
   "outputs": [
    {
     "data": {
      "text/plain": [
       "([<matplotlib.axis.YTick at 0xfc61128>,\n",
       "  <matplotlib.axis.YTick at 0xfd4fe10>,\n",
       "  <matplotlib.axis.YTick at 0x1204d9e8>,\n",
       "  <matplotlib.axis.YTick at 0x12079c88>,\n",
       "  <matplotlib.axis.YTick at 0x120880f0>,\n",
       "  <matplotlib.axis.YTick at 0x12088518>,\n",
       "  <matplotlib.axis.YTick at 0x12088940>,\n",
       "  <matplotlib.axis.YTick at 0x12088da0>,\n",
       "  <matplotlib.axis.YTick at 0x120d3240>,\n",
       "  <matplotlib.axis.YTick at 0x120d36a0>,\n",
       "  <matplotlib.axis.YTick at 0x120d3b00>,\n",
       "  <matplotlib.axis.YTick at 0x120d3f60>,\n",
       "  <matplotlib.axis.YTick at 0x120df400>,\n",
       "  <matplotlib.axis.YTick at 0x120df860>,\n",
       "  <matplotlib.axis.YTick at 0x120dfcc0>],\n",
       " <a list of 15 Text yticklabel objects>)"
      ]
     },
     "execution_count": 19,
     "metadata": {},
     "output_type": "execute_result"
    },
    {
     "data": {
      "image/png": "[encoded data removed]",
      "text/plain": [
       "<matplotlib.figure.Figure at 0x6c1d860>"
      ]
     },
     "metadata": {},
     "output_type": "display_data"
    }
   ],
   "source": [
    "% matplotlib inline\n",
    "import matplotlib.pyplot as plt\n",
    "count = map(lambda x:x[0], countsReverse.take(15))\n",
    "word = map(lambda x:x[1], countsReverse.take(15))\n",
    "plt.barh(range(len(count)),count, color='green')\n",
    "plt.yticks(range(len(count)), word)"
   ]
  },
  {
   "cell_type": "code",
   "execution_count": 1,
   "metadata": {},
   "outputs": [
    {
     "data": {
      "text/plain": [
       "<pyspark.context.SparkContext at 0x63c2eb8>"
      ]
     },
     "execution_count": 1,
     "metadata": {},
     "output_type": "execute_result"
    }
   ],
   "source": [
    "sc"
   ]
  }
 ],
 "metadata": {
  "kernelspec": {
   "display_name": "Python 2",
   "language": "python",
   "name": "python2"
  },
  "language_info": {
   "codemirror_mode": {
    "name": "ipython",
    "version": 2
   },
   "file_extension": ".py",
   "mimetype": "text/x-python",
   "name": "python",
   "nbconvert_exporter": "python",
   "pygments_lexer": "ipython2",
   "version": "2.7.14"
  }
 },
 "nbformat": 4,
 "nbformat_minor": 2
}
