{
 "cells": [
  {
   "cell_type": "markdown",
   "metadata": {},
   "source": [
    "## [爬蟲實戰] 如何簡簡單單突破驗證碼 (Captcha) 限制 - 爬取國際貿易局廠商資料_\n",
    "## http://www.largitdata.com/course/60/\n",
    "## https://fbfh.trade.gov.tw/rich/text/indexfbol.asp"
   ]
  },
  {
   "cell_type": "code",
   "execution_count": 11,
   "metadata": {},
   "outputs": [
    {
     "name": "stderr",
     "output_type": "stream",
     "text": [
      "C:\\Users\\user\\Anaconda3\\lib\\site-packages\\urllib3\\connectionpool.py:858: InsecureRequestWarning: Unverified HTTPS request is being made. Adding certificate verification is strongly advised. See: https://urllib3.readthedocs.io/en/latest/advanced-usage.html#ssl-warnings\n",
      "  InsecureRequestWarning)\n"
     ]
    }
   ],
   "source": [
    "import requests\n",
    "import shutil\n",
    "rs=requests.session()\n",
    "res=rs.get('https://fbfh.trade.gov.tw/rich/text/common/code_98/CheckImageCode.aspx',stream=True,verify=False)\n",
    "f=open('check.png','wb')\n",
    "shutil.copyfileobj(res.raw,f)\n",
    "f.close()"
   ]
  },
  {
   "cell_type": "code",
   "execution_count": 12,
   "metadata": {},
   "outputs": [
    {
     "data": {
      "image/png": "[encoded data removed]",
      "text/plain": [
       "<IPython.core.display.Image object>"
      ]
     },
     "execution_count": 12,
     "metadata": {},
     "output_type": "execute_result"
    }
   ],
   "source": [
    "from IPython.display import Image\n",
    "Image('check.png')"
   ]
  },
  {
   "cell_type": "code",
   "execution_count": 18,
   "metadata": {},
   "outputs": [
    {
     "name": "stderr",
     "output_type": "stream",
     "text": [
      "C:\\Users\\user\\Anaconda3\\lib\\site-packages\\urllib3\\connectionpool.py:858: InsecureRequestWarning: Unverified HTTPS request is being made. Adding certificate verification is strongly advised. See: https://urllib3.readthedocs.io/en/latest/advanced-usage.html#ssl-warnings\n",
      "  InsecureRequestWarning)\n"
     ]
    }
   ],
   "source": [
    "import requests\n",
    "payload={\n",
    "    'queryType':'C',\n",
    "    'uni_number':'',\n",
    "    'basic_select':'2',\n",
    "    'chinese_name':'台北',\n",
    "    'english_name':'',\n",
    "    'owner':'',\n",
    "    'product':'',\n",
    "    'ccc_select':'1',\n",
    "    'ccc_num':'8',\n",
    "    'product_name':'',\n",
    "    'pname_select':'1',\n",
    "    'txtCheckCode':'t4tm85',\n",
    "}\n",
    "res=rs.post('https://fbfh.trade.gov.tw/rich/text/fbj/asp/fbje140L.asp',data=payload,verify=False)\n",
    "res.encoding='utf-8'"
   ]
  },
  {
   "cell_type": "code",
   "execution_count": 19,
   "metadata": {},
   "outputs": [
    {
     "data": {
      "text/plain": [
       "<Response [200]>"
      ]
     },
     "execution_count": 19,
     "metadata": {},
     "output_type": "execute_result"
    }
   ],
   "source": [
    "res"
   ]
  },
  {
   "cell_type": "code",
   "execution_count": 20,
   "metadata": {},
   "outputs": [
    {
     "name": "stdout",
     "output_type": "stream",
     "text": [
      "<!DOCTYPE HTML>\r\n",
      "\r\n",
      "<html>\r\n",
      "<head>\r\n",
      "\t<meta charset=\"utf-8\">\r\n",
      "\t<meta content=\"text/html; charset=utf-8\" http-equiv=\"content-type\">\r\n",
      "\t<meta name=\"viewport\" content=\"width=device-width, initial-scale=1\">\r\n",
      "\t<title>廠商基本資料索引查詢</title>\r\n",
      "\t<link href=\"../../css/common.css\" rel=\"stylesheet\" type=\"text/css\"/>\r\n",
      "\t<script src=\"https://CNSIMEII.trade.gov.tw/FontSubsetOutput/WebFontStd-BBBFFD8F3296479BB605F7D3A0193B28/WebFontStd-BBBFFD8F3296479BB605F7D3A0193B28.js?5574918115\"></script>\r\n",
      "\t<script>\r\n",
      "\tfunction openwindow(no,pcy)\r\n",
      "\t{\r\n",
      "\t\tvar URL = \"fbje140Q2.asp?uni_no=\"+no+\"&pcy=\"+pcy\r\n",
      "\t\twindow.open(URL,\"廠商基本資料\",\"top=0,screenX=0,screenY=0,width=700,height=550,scrollbars=yes,resizable=yes\")\r\n",
      "\t}\r\n",
      "\t</script>\r\n",
      "</head>\r\n",
      "<body>\r\n",
      "<div style=\"text-align:left;color:#FF8000;\"><h3>\r\n",
      "\t查詢廠商中文名稱 台北 查詢結果\r\n",
      "</h3></div>\r\n",
      " \r\n",
      "\r\n",
      "<div style=\"text-align:left;color:#FF0000;\">\r\n",
      "(網站公開之依據：出進口廠商登記辦法第7條之1。)<br>\r\n",
      "2018/2/12&nbsp;上午 12:40:33&nbsp;&nbsp;&nbsp; 搜尋結果共372筆記錄 , 1/ 38 頁<br>\r\n",
      "查詢廠商基本登記資料,請再點選該廠商之英文名稱\r\n",
      "</div>\r\n",
      "\r\n",
      "<div style=\"text-align:center;\">\r\n",
      "<table style=\"border: 1px solid black\" class=\"table1\">\r\n",
      "\t<tr class=\"tr1bg1\">\r\n",
      "\t\t<td colspan=3><div style=\"text-align:center;\"><h3>廠商基本資料查詢</h3></div></td>\r\n",
      "\t</tr>\r\n",
      "  <tr>\r\n",
      "    <th class=\"td1bg1\" style=\"text-align:center;\">廠商中文名稱</th>\r\n",
      "    <th class=\"td1bg1\" style=\"text-align:center;\">廠商英文名稱</th>\r\n",
      "    <th class=\"td1bg1\" style=\"text-align:center;\">廠商代表人姓名</th>\r\n",
      "  </tr>\r\n",
      "<Tr>\r\n",
      "\t\t<TD  class='td2bg1 arWebFont' style=\"text-align:center;\">\r\n",
      "\t\t\t日商永達榮股份有限公司台北分公司\r\n",
      "\t\t</TD>\r\n",
      "\t\t<TD class='td2bg1'>\r\n",
      "\t\t\t<a href=\"JavaScript:openwindow('23116968', '9061')\">A&A MATERIAL CORPORATION TAIPEI BRANCH (JAPAN)</A>\r\n",
      "\t\t</TD>\r\n",
      "\t\t<TD class='td2bg1 arWebFont' style=\"text-align:center;\">\r\n",
      "\t\t\t朱燕鳳\r\n",
      "\t\t</TD>\r\n",
      "</Tr><Tr>\r\n",
      "\t\t<TD  class='td2bg1 arWebFont' style=\"text-align:center;\">\r\n",
      "\t\t\t台北亞伯拉罕管理顧問有限公司\r\n",
      "\t\t</TD>\r\n",
      "\t\t<TD class='td2bg1'>\r\n",
      "\t\t\t<a href=\"JavaScript:openwindow('16779167', '9061')\">ABRAHAM CONSULTING TAIPEI CO., LTD.</A>\r\n",
      "\t\t</TD>\r\n",
      "\t\t<TD class='td2bg1 arWebFont' style=\"text-align:center;\">\r\n",
      "\t\t\t郭沅櫂\r\n",
      "\t\t</TD>\r\n",
      "</Tr><Tr>\r\n",
      "\t\t<TD  class='td2bg1 arWebFont' style=\"text-align:center;\">\r\n",
      "\t\t\t大台北尖端儀器有限公司\r\n",
      "\t\t</TD>\r\n",
      "\t\t<TD class='td2bg1'>\r\n",
      "\t\t\t<a href=\"JavaScript:openwindow('28846752', '9061')\">ABTEK CORP.</A>\r\n",
      "\t\t</TD>\r\n",
      "\t\t<TD class='td2bg1 arWebFont' style=\"text-align:center;\">\r\n",
      "\t\t\t吳書緯\r\n",
      "\t\t</TD>\r\n",
      "</Tr><Tr>\r\n",
      "\t\t<TD  class='td2bg1 arWebFont' style=\"text-align:center;\">\r\n",
      "\t\t\t台北聚原有限公司\r\n",
      "\t\t</TD>\r\n",
      "\t\t<TD class='td2bg1'>\r\n",
      "\t\t\t<a href=\"JavaScript:openwindow('24928628', '9061')\">ACROSS OFFICE SOLUTIONS (TAIPEI) CO., LTD.</A>\r\n",
      "\t\t</TD>\r\n",
      "\t\t<TD class='td2bg1 arWebFont' style=\"text-align:center;\">\r\n",
      "\t\t\t郭敬賢\r\n",
      "\t\t</TD>\r\n",
      "</Tr><Tr>\r\n",
      "\t\t<TD  class='td2bg1 arWebFont' style=\"text-align:center;\">\r\n",
      "\t\t\t日商阿克斯特股份有限公司台北分公司\r\n",
      "\t\t</TD>\r\n",
      "\t\t<TD class='td2bg1'>\r\n",
      "\t\t\t<a href=\"JavaScript:openwindow('28411320', '9061')\">ACST-CS CO., LTD. TAIPEI BRANCH (JAPAN)</A>\r\n",
      "\t\t</TD>\r\n",
      "\t\t<TD class='td2bg1 arWebFont' style=\"text-align:center;\">\r\n",
      "\t\t\t土江和宏\r\n",
      "\t\t</TD>\r\n",
      "</Tr><Tr>\r\n",
      "\t\t<TD  class='td2bg1 arWebFont' style=\"text-align:center;\">\r\n",
      "\t\t\t台灣類比科技股份有限公司台北分公司\r\n",
      "\t\t</TD>\r\n",
      "\t\t<TD class='td2bg1'>\r\n",
      "\t\t\t<a href=\"JavaScript:openwindow('28112940', '9061')\">ADVANCED ANALOG TECHNOLOGY, INC. TAIPEI BRANCH</A>\r\n",
      "\t\t</TD>\r\n",
      "\t\t<TD class='td2bg1 arWebFont' style=\"text-align:center;\">\r\n",
      "\t\t\t劉紹宗\r\n",
      "\t\t</TD>\r\n",
      "</Tr><Tr>\r\n",
      "\t\t<TD  class='td2bg1 arWebFont' style=\"text-align:center;\">\r\n",
      "\t\t\t聯發生物科技股份有限公司台北分公司\r\n",
      "\t\t</TD>\r\n",
      "\t\t<TD class='td2bg1'>\r\n",
      "\t\t\t<a href=\"JavaScript:openwindow('27680326', '9061')\">ADVANCED GREEN BIOTECHNOLOGY INC. TAIPEI BRANCH</A>\r\n",
      "\t\t</TD>\r\n",
      "\t\t<TD class='td2bg1 arWebFont' style=\"text-align:center;\">\r\n",
      "\t\t\t劉健誼\r\n",
      "\t\t</TD>\r\n",
      "</Tr><Tr>\r\n",
      "\t\t<TD  class='td2bg1 arWebFont' style=\"text-align:center;\">\r\n",
      "\t\t\t香港商艾佩有限公司台北分公司\r\n",
      "\t\t</TD>\r\n",
      "\t\t<TD class='td2bg1'>\r\n",
      "\t\t\t<a href=\"JavaScript:openwindow('24796746', '9061')\">AGENT PROVOCATEUR LIMITED TAIPEI BRANCH (H.K.)</A>\r\n",
      "\t\t</TD>\r\n",
      "\t\t<TD class='td2bg1 arWebFont' style=\"text-align:center;\">\r\n",
      "\t\t\t鄭有榮\r\n",
      "\t\t</TD>\r\n",
      "</Tr><Tr>\r\n",
      "\t\t<TD  class='td2bg1 arWebFont' style=\"text-align:center;\">\r\n",
      "\t\t\t日商新創機電科技股份有限公司台北分公司\r\n",
      "\t\t</TD>\r\n",
      "\t\t<TD class='td2bg1'>\r\n",
      "\t\t\t<a href=\"JavaScript:openwindow('43240108', '9061')\">AIMECHATEC, LTD. TAIPEI BRANCH (JAPAN)</A>\r\n",
      "\t\t</TD>\r\n",
      "\t\t<TD class='td2bg1 arWebFont' style=\"text-align:center;\">\r\n",
      "\t\t\t野澤貞雄　ＮＯＺＡＷＡ　ＳＡＤＡＯ　　\r\n",
      "\t\t</TD>\r\n",
      "</Tr><Tr>\r\n",
      "\t\t<TD  class='td2bg1 arWebFont' style=\"text-align:center;\">\r\n",
      "\t\t\t台灣超碩股份有限公司台北分公司\r\n",
      "\t\t</TD>\r\n",
      "\t\t<TD class='td2bg1'>\r\n",
      "\t\t\t<a href=\"JavaScript:openwindow('53823497', '9061')\">AKROS TRADING TAIWAN CO. LTD. TAIPEI BRANCH</A>\r\n",
      "\t\t</TD>\r\n",
      "\t\t<TD class='td2bg1 arWebFont' style=\"text-align:center;\">\r\n",
      "\t\t\t西田人　\r\n",
      "\t\t</TD>\r\n",
      "</Tr>\r\n",
      "</table>\r\n",
      "</div>\r\n",
      "<p><a href='fbje140L.asp?ScrollAction=Page 2&ban_no=&txtCheckCode=t4tm85&isCA='>Next Page</a></p><p><a href='fbje140L.asp?ScrollAction=Page 1&ban_no=&txtCheckCode=t4tm85&isCA='>1</a>&nbsp;&nbsp;<a href='fbje140L.asp?ScrollAction=Page 2&ban_no=&txtCheckCode=t4tm85&isCA='>2</a>&nbsp;&nbsp;<a href='fbje140L.asp?ScrollAction=Page 3&ban_no=&txtCheckCode=t4tm85&isCA='>3</a>&nbsp;&nbsp;<a href='fbje140L.asp?ScrollAction=Page 4&ban_no=&txtCheckCode=t4tm85&isCA='>4</a>&nbsp;&nbsp;<a href='fbje140L.asp?ScrollAction=Page 5&ban_no=&txtCheckCode=t4tm85&isCA='>5</a>&nbsp;&nbsp;<a href='fbje140L.asp?ScrollAction=Page 6&ban_no=&txtCheckCode=t4tm85&isCA='>6</a>&nbsp;&nbsp;<a href='fbje140L.asp?ScrollAction=Page 7&ban_no=&txtCheckCode=t4tm85&isCA='>7</a>&nbsp;&nbsp;<a href='fbje140L.asp?ScrollAction=Page 8&ban_no=&txtCheckCode=t4tm85&isCA='>8</a>&nbsp;&nbsp;<a href='fbje140L.asp?ScrollAction=Page 9&ban_no=&txtCheckCode=t4tm85&isCA='>9</a>&nbsp;&nbsp;<a href='fbje140L.asp?ScrollAction=Page 10&ban_no=&txtCheckCode=t4tm85&isCA='>10</a>&nbsp;&nbsp;<a href='fbje140L.asp?ScrollAction=Page 11&ban_no=&txtCheckCode=t4tm85&isCA='>Next 10</a>&nbsp;&nbsp;</p>\r\n",
      "\r\n",
      "</body>\r\n",
      "</html>\r\n",
      "\r\n",
      "\n"
     ]
    }
   ],
   "source": [
    "print(res.text)"
   ]
  },
  {
   "cell_type": "code",
   "execution_count": 21,
   "metadata": {},
   "outputs": [
    {
     "name": "stderr",
     "output_type": "stream",
     "text": [
      "C:\\Users\\user\\Anaconda3\\lib\\site-packages\\urllib3\\connectionpool.py:858: InsecureRequestWarning: Unverified HTTPS request is being made. Adding certificate verification is strongly advised. See: https://urllib3.readthedocs.io/en/latest/advanced-usage.html#ssl-warnings\n",
      "  InsecureRequestWarning)\n"
     ]
    }
   ],
   "source": [
    "import requests\n",
    "payload={\n",
    "    'queryType':'C',\n",
    "    'uni_number':'',\n",
    "    'basic_select':'2',\n",
    "    'chinese_name':'台中',\n",
    "    'english_name':'',\n",
    "    'owner':'',\n",
    "    'product':'',\n",
    "    'ccc_select':'1',\n",
    "    'ccc_num':'8',\n",
    "    'product_name':'',\n",
    "    'pname_select':'1',\n",
    "    'txtCheckCode':'t4tm85',\n",
    "}\n",
    "res=rs.post('https://fbfh.trade.gov.tw/rich/text/fbj/asp/fbje140L.asp',data=payload,verify=False)\n",
    "res.encoding='utf-8'"
   ]
  },
  {
   "cell_type": "code",
   "execution_count": 22,
   "metadata": {},
   "outputs": [
    {
     "data": {
      "text/plain": [
       "<Response [200]>"
      ]
     },
     "execution_count": 22,
     "metadata": {},
     "output_type": "execute_result"
    }
   ],
   "source": [
    "res"
   ]
  },
  {
   "cell_type": "code",
   "execution_count": 23,
   "metadata": {},
   "outputs": [
    {
     "name": "stdout",
     "output_type": "stream",
     "text": [
      "<!DOCTYPE HTML>\r\n",
      "\r\n",
      "<html>\r\n",
      "<head>\r\n",
      "\t<meta charset=\"utf-8\">\r\n",
      "\t<meta content=\"text/html; charset=utf-8\" http-equiv=\"content-type\">\r\n",
      "\t<meta name=\"viewport\" content=\"width=device-width, initial-scale=1\">\r\n",
      "\t<title>廠商基本資料索引查詢</title>\r\n",
      "\t<link href=\"../../css/common.css\" rel=\"stylesheet\" type=\"text/css\"/>\r\n",
      "\t<script src=\"https://CNSIMEII.trade.gov.tw/FontSubsetOutput/WebFontStd-BBBFFD8F3296479BB605F7D3A0193B28/WebFontStd-BBBFFD8F3296479BB605F7D3A0193B28.js?5574918115\"></script>\r\n",
      "\t<script>\r\n",
      "\tfunction openwindow(no,pcy)\r\n",
      "\t{\r\n",
      "\t\tvar URL = \"fbje140Q2.asp?uni_no=\"+no+\"&pcy=\"+pcy\r\n",
      "\t\twindow.open(URL,\"廠商基本資料\",\"top=0,screenX=0,screenY=0,width=700,height=550,scrollbars=yes,resizable=yes\")\r\n",
      "\t}\r\n",
      "\t</script>\r\n",
      "</head>\r\n",
      "<body>\r\n",
      "<div style=\"text-align:left;color:#FF8000;\"><h3>\r\n",
      "\t查詢廠商中文名稱 台中 查詢結果\r\n",
      "</h3></div>\r\n",
      " \r\n",
      "\r\n",
      "<div style=\"text-align:left;color:#FF0000;\">\r\n",
      "(網站公開之依據：出進口廠商登記辦法第7條之1。)<br>\r\n",
      "2018/2/12&nbsp;上午 12:42:37&nbsp;&nbsp;&nbsp; 搜尋結果共88筆記錄 , 1/ 9 頁<br>\r\n",
      "查詢廠商基本登記資料,請再點選該廠商之英文名稱\r\n",
      "</div>\r\n",
      "\r\n",
      "<div style=\"text-align:center;\">\r\n",
      "<table style=\"border: 1px solid black\" class=\"table1\">\r\n",
      "\t<tr class=\"tr1bg1\">\r\n",
      "\t\t<td colspan=3><div style=\"text-align:center;\"><h3>廠商基本資料查詢</h3></div></td>\r\n",
      "\t</tr>\r\n",
      "  <tr>\r\n",
      "    <th class=\"td1bg1\" style=\"text-align:center;\">廠商中文名稱</th>\r\n",
      "    <th class=\"td1bg1\" style=\"text-align:center;\">廠商英文名稱</th>\r\n",
      "    <th class=\"td1bg1\" style=\"text-align:center;\">廠商代表人姓名</th>\r\n",
      "  </tr>\r\n",
      "<Tr>\r\n",
      "\t\t<TD  class='td2bg1 arWebFont' style=\"text-align:center;\">\r\n",
      "\t\t\t安可光電股份有限公司台中分公司\r\n",
      "\t\t</TD>\r\n",
      "\t\t<TD class='td2bg1'>\r\n",
      "\t\t\t<a href=\"JavaScript:openwindow('29186390', '6216')\">AIMCORE TECHNOLOGY CO., LTD. TAICHUNG BRANCH</A>\r\n",
      "\t\t</TD>\r\n",
      "\t\t<TD class='td2bg1 arWebFont' style=\"text-align:center;\">\r\n",
      "\t\t\t姜明君\r\n",
      "\t\t</TD>\r\n",
      "</Tr><Tr>\r\n",
      "\t\t<TD  class='td2bg1 arWebFont' style=\"text-align:center;\">\r\n",
      "\t\t\t亞東工業氣體股份有限公司台中分公司\r\n",
      "\t\t</TD>\r\n",
      "\t\t<TD class='td2bg1'>\r\n",
      "\t\t\t<a href=\"JavaScript:openwindow('22101755', '6216')\">AIR LIQUIDE FAR EASTERN LTD. TAICHUNG BRANCH</A>\r\n",
      "\t\t</TD>\r\n",
      "\t\t<TD class='td2bg1 arWebFont' style=\"text-align:center;\">\r\n",
      "\t\t\t李偉精\r\n",
      "\t\t</TD>\r\n",
      "</Tr><Tr>\r\n",
      "\t\t<TD  class='td2bg1 arWebFont' style=\"text-align:center;\">\r\n",
      "\t\t\t三福氣體股份有限公司台中分公司\r\n",
      "\t\t</TD>\r\n",
      "\t\t<TD class='td2bg1'>\r\n",
      "\t\t\t<a href=\"JavaScript:openwindow('27250064', '6216')\">AIR PRODUCTS SAN FU CO., LTD. TAICHUNG BRANCH</A>\r\n",
      "\t\t</TD>\r\n",
      "\t\t<TD class='td2bg1 arWebFont' style=\"text-align:center;\">\r\n",
      "\t\t\t趙奕卿\r\n",
      "\t\t</TD>\r\n",
      "</Tr><Tr>\r\n",
      "\t\t<TD  class='td2bg1 arWebFont' style=\"text-align:center;\">\r\n",
      "\t\t\t恩德科技股份有限公司台中分公司\r\n",
      "\t\t</TD>\r\n",
      "\t\t<TD class='td2bg1'>\r\n",
      "\t\t\t<a href=\"JavaScript:openwindow('70849859', '6216')\">ANDERSON INDUSTRIAL CORPORATION, TAICHUNG BRANCH</A>\r\n",
      "\t\t</TD>\r\n",
      "\t\t<TD class='td2bg1 arWebFont' style=\"text-align:center;\">\r\n",
      "\t\t\t謝子福\r\n",
      "\t\t</TD>\r\n",
      "</Tr><Tr>\r\n",
      "\t\t<TD  class='td2bg1 arWebFont' style=\"text-align:center;\">\r\n",
      "\t\t\t台灣應用材料股份有限公司台中分公司\r\n",
      "\t\t</TD>\r\n",
      "\t\t<TD class='td2bg1'>\r\n",
      "\t\t\t<a href=\"JavaScript:openwindow('12800962', '6216')\">APPLIED MATERIALS TAIWAN, LTD., CTSP BRANCH</A>\r\n",
      "\t\t</TD>\r\n",
      "\t\t<TD class='td2bg1 arWebFont' style=\"text-align:center;\">\r\n",
      "\t\t\t余定陸\r\n",
      "\t\t</TD>\r\n",
      "</Tr><Tr>\r\n",
      "\t\t<TD  class='td2bg1 arWebFont' style=\"text-align:center;\">\r\n",
      "\t\t\t和椿科技股份有限公司台中分公司\r\n",
      "\t\t</TD>\r\n",
      "\t\t<TD class='td2bg1'>\r\n",
      "\t\t\t<a href=\"JavaScript:openwindow('28205829', '6216')\">AUROTEK CORPORATION TAICHUNG BRANCH</A>\r\n",
      "\t\t</TD>\r\n",
      "\t\t<TD class='td2bg1 arWebFont' style=\"text-align:center;\">\r\n",
      "\t\t\t李正模\r\n",
      "\t\t</TD>\r\n",
      "</Tr><Tr>\r\n",
      "\t\t<TD  class='td2bg1 arWebFont' style=\"text-align:center;\">\r\n",
      "\t\t\t帷享科技有限公司台中分公司\r\n",
      "\t\t</TD>\r\n",
      "\t\t<TD class='td2bg1'>\r\n",
      "\t\t\t<a href=\"JavaScript:openwindow('54720553', '6216')\">AUTOEQUIPS TECH CO., LTD. TAICHUNG BRANCH</A>\r\n",
      "\t\t</TD>\r\n",
      "\t\t<TD class='td2bg1 arWebFont' style=\"text-align:center;\">\r\n",
      "\t\t\t陳加增\r\n",
      "\t\t</TD>\r\n",
      "</Tr><Tr>\r\n",
      "\t\t<TD  class='td2bg1 arWebFont' style=\"text-align:center;\">\r\n",
      "\t\t\t亞崴機電股份有限公司台中分公司\r\n",
      "\t\t</TD>\r\n",
      "\t\t<TD class='td2bg1'>\r\n",
      "\t\t\t<a href=\"JavaScript:openwindow('29182330', '6216')\">AWEA MECHANTRONIC CO., LTD. TAICHUNG BRANCH OFFICE</A>\r\n",
      "\t\t</TD>\r\n",
      "\t\t<TD class='td2bg1 arWebFont' style=\"text-align:center;\">\r\n",
      "\t\t\t楊德華\r\n",
      "\t\t</TD>\r\n",
      "</Tr><Tr>\r\n",
      "\t\t<TD  class='td2bg1 arWebFont' style=\"text-align:center;\">\r\n",
      "\t\t\t寶富鐘錶股份有限公司台中分公司\r\n",
      "\t\t</TD>\r\n",
      "\t\t<TD class='td2bg1'>\r\n",
      "\t\t\t<a href=\"JavaScript:openwindow('84443654', '6216')\">BAO FU WATCH CO., LTD. TAICHUNG BRANCH</A>\r\n",
      "\t\t</TD>\r\n",
      "\t\t<TD class='td2bg1 arWebFont' style=\"text-align:center;\">\r\n",
      "\t\t\t王寶慶\r\n",
      "\t\t</TD>\r\n",
      "</Tr><Tr>\r\n",
      "\t\t<TD  class='td2bg1 arWebFont' style=\"text-align:center;\">\r\n",
      "\t\t\t佳能半導體設備股份有限公司台中分公司\r\n",
      "\t\t</TD>\r\n",
      "\t\t<TD class='td2bg1'>\r\n",
      "\t\t\t<a href=\"JavaScript:openwindow('70849345', '6216')\">CANON SEMICONDUCTOR EQUIPMENT TAIWAN INC. TAICHUNG BRANCH</A>\r\n",
      "\t\t</TD>\r\n",
      "\t\t<TD class='td2bg1 arWebFont' style=\"text-align:center;\">\r\n",
      "\t\t\t瀧山清久\r\n",
      "\t\t</TD>\r\n",
      "</Tr>\r\n",
      "</table>\r\n",
      "</div>\r\n",
      "<p><a href='fbje140L.asp?ScrollAction=Page 2&ban_no=&txtCheckCode=t4tm85&isCA='>Next Page</a></p><p><a href='fbje140L.asp?ScrollAction=Page 1&ban_no=&txtCheckCode=t4tm85&isCA='>1</a>&nbsp;&nbsp;<a href='fbje140L.asp?ScrollAction=Page 2&ban_no=&txtCheckCode=t4tm85&isCA='>2</a>&nbsp;&nbsp;<a href='fbje140L.asp?ScrollAction=Page 3&ban_no=&txtCheckCode=t4tm85&isCA='>3</a>&nbsp;&nbsp;<a href='fbje140L.asp?ScrollAction=Page 4&ban_no=&txtCheckCode=t4tm85&isCA='>4</a>&nbsp;&nbsp;<a href='fbje140L.asp?ScrollAction=Page 5&ban_no=&txtCheckCode=t4tm85&isCA='>5</a>&nbsp;&nbsp;<a href='fbje140L.asp?ScrollAction=Page 6&ban_no=&txtCheckCode=t4tm85&isCA='>6</a>&nbsp;&nbsp;<a href='fbje140L.asp?ScrollAction=Page 7&ban_no=&txtCheckCode=t4tm85&isCA='>7</a>&nbsp;&nbsp;<a href='fbje140L.asp?ScrollAction=Page 8&ban_no=&txtCheckCode=t4tm85&isCA='>8</a>&nbsp;&nbsp;<a href='fbje140L.asp?ScrollAction=Page 9&ban_no=&txtCheckCode=t4tm85&isCA='>9</a>&nbsp;&nbsp;</p>\r\n",
      "\r\n",
      "</body>\r\n",
      "</html>\r\n",
      "\r\n",
      "\n"
     ]
    }
   ],
   "source": [
    "print(res.text)"
   ]
  },
  {
   "cell_type": "code",
   "execution_count": null,
   "metadata": {
    "collapsed": true
   },
   "outputs": [],
   "source": []
  }
 ],
 "metadata": {
  "kernelspec": {
   "display_name": "Python 3",
   "language": "python",
   "name": "python3"
  },
  "language_info": {
   "codemirror_mode": {
    "name": "ipython",
    "version": 3
   },
   "file_extension": ".py",
   "mimetype": "text/x-python",
   "name": "python",
   "nbconvert_exporter": "python",
   "pygments_lexer": "ipython3",
   "version": "3.6.3"
  }
 },
 "nbformat": 4,
 "nbformat_minor": 2
}
