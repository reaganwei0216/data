{
 "cells": [
  {
   "cell_type": "code",
   "execution_count": 5,
   "metadata": {},
   "outputs": [
    {
     "data": {
      "text/plain": [
       "array([[0.3640126]])"
      ]
     },
     "execution_count": 5,
     "metadata": {},
     "output_type": "execute_result"
    }
   ],
   "source": [
    "# 使用者0跟使用者1的餘弦相似度\n",
    "from sklearn.metrics.pairwise import cosine_similarity\n",
    "cosine_similarity([[5,4,0,2,1,0]], [[0,1,0,4,4,3]])\n"
   ]
  },
  {
   "cell_type": "code",
   "execution_count": 17,
   "metadata": {},
   "outputs": [
    {
     "name": "stdout",
     "output_type": "stream",
     "text": [
      "pairwise dense output:\n",
      " [[1.         0.3640126  0.513327   0.48846721]\n",
      " [0.3640126  1.         0.0805823  0.68159818]\n",
      " [0.513327   0.0805823  1.         0.38447322]\n",
      " [0.48846721 0.68159818 0.38447322 1.        ]]\n",
      "\n"
     ]
    }
   ],
   "source": [
    "# 使用者彼此間的餘弦相似度\n",
    "from sklearn.metrics.pairwise import cosine_similarity\n",
    "from scipy import sparse\n",
    "user0=[5,4,0,2,1,0]\n",
    "user1=[0,1,0,4,4,3]\n",
    "user2=[4,0,4,0,0,1]\n",
    "user3=[0,4,5,5,4,0]\n",
    "# A =  np.array([[5,4,0,2,1,0], [0,1,0,4,4,3],[4,0,4,0,0,1],[0,4,5,5,4,0]])\n",
    "A =  np.array([user0,user1,user2,user3])\n",
    "A_sparse = sparse.csr_matrix(A)\n",
    "A_sparse\n",
    "similarities = cosine_similarity(A_sparse)\n",
    "print('pairwise dense output:\\n {}\\n'.format(similarities))"
   ]
  },
  {
   "cell_type": "code",
   "execution_count": 19,
   "metadata": {},
   "outputs": [
    {
     "name": "stdout",
     "output_type": "stream",
     "text": [
      "pairwise dense output:\n",
      " [[ 1.         -0.40201513  0.09656091 -0.24174689]\n",
      " [-0.40201513  1.         -0.80064077  0.17817416]\n",
      " [ 0.09656091 -0.80064077  1.         -0.29957234]\n",
      " [-0.24174689  0.17817416 -0.29957234  1.        ]]\n",
      "\n"
     ]
    }
   ],
   "source": [
    "def Average(lst):\n",
    "    return sum(lst) / len(lst)\n",
    "\n",
    "from sklearn.metrics.pairwise import cosine_similarity\n",
    "from scipy import sparse\n",
    "user0=[5,4,0,2,1,0]\n",
    "user1=[0,1,0,4,4,3]\n",
    "user2=[4,0,4,0,0,1]\n",
    "user3=[0,4,5,5,4,0]\n",
    "# A =  np.array([[5,4,0,2,1,0], [0,1,0,4,4,3],[4,0,4,0,0,1],[0,4,5,5,4,0]])\n",
    "A =  np.array([[x-Average(user0) for x in user0],\n",
    "               [x-Average(user1) for x in user1],\n",
    "               [x-Average(user2) for x in user2],\n",
    "               [x-Average(user3) for x in user3]])\n",
    "A_sparse = sparse.csr_matrix(A)\n",
    "A_sparse\n",
    "similarities = cosine_similarity(A_sparse)\n",
    "print('pairwise dense output:\\n {}\\n'.format(similarities))"
   ]
  },
  {
   "cell_type": "code",
   "execution_count": 22,
   "metadata": {},
   "outputs": [
    {
     "data": {
      "text/plain": [
       "[3.0, 2.0, -2.0, 0.0, -1.0, -2.0]"
      ]
     },
     "execution_count": 22,
     "metadata": {},
     "output_type": "execute_result"
    }
   ],
   "source": [
    "# mylist=[5,4,0,2,1,0]\n",
    "[x-Average(user0) for x in user0]"
   ]
  },
  {
   "cell_type": "code",
   "execution_count": 21,
   "metadata": {},
   "outputs": [
    {
     "data": {
      "text/plain": [
       "2.0"
      ]
     },
     "execution_count": 21,
     "metadata": {},
     "output_type": "execute_result"
    }
   ],
   "source": [
    "Average(user0)"
   ]
  },
  {
   "cell_type": "code",
   "execution_count": null,
   "metadata": {},
   "outputs": [],
   "source": []
  },
  {
   "cell_type": "code",
   "execution_count": 3,
   "metadata": {
    "_cell_guid": "b1076dfc-b9ad-4769-8c92-a6c4dae69d19",
    "_uuid": "8f2839f25d086af736a60e9eeb907d3b93b6e0e5",
    "execution": {
     "iopub.execute_input": "2021-12-28T06:15:35.801023Z",
     "iopub.status.busy": "2021-12-28T06:15:35.800404Z",
     "iopub.status.idle": "2021-12-28T06:15:36.17233Z",
     "shell.execute_reply": "2021-12-28T06:15:36.171616Z",
     "shell.execute_reply.started": "2021-12-28T06:15:35.800927Z"
    }
   },
   "outputs": [
    {
     "name": "stdout",
     "output_type": "stream",
     "text": [
      "   userId  movieId  rating  timestamp\n",
      "0       1        1     4.0  964982703\n",
      "1       1        3     4.0  964981247\n",
      "2       1        6     4.0  964982224\n",
      "3       1       47     5.0  964983815\n",
      "4       1       50     5.0  964982931\n"
     ]
    },
    {
     "data": {
      "image/png": "[encoded data removed]",
      "text/plain": [
       "<Figure size 576x576 with 1 Axes>"
      ]
     },
     "metadata": {
      "needs_background": "light"
     },
     "output_type": "display_data"
    }
   ],
   "source": [
    "import matplotlib.pyplot as plt\n",
    "import pandas as pd\n",
    "\n",
    "data = pd.read_csv('../Data/ratings.csv')\n",
    "print(data.head())\n",
    "\n",
    "plt.figure(figsize = (8, 8))\n",
    "data.rating.hist(grid=False)\n",
    "plt.ylabel('Frequency')\n",
    "plt.ylabel('Rating')\n",
    "plt.title('Rating Distribution')\n",
    "plt.show()"
   ]
  },
  {
   "cell_type": "markdown",
   "metadata": {},
   "source": [
    "# 12.3 推薦電影-使用 Keras 實作使用點積的神經網路"
   ]
  },
  {
   "cell_type": "code",
   "execution_count": 51,
   "metadata": {
    "_cell_guid": "b1076dfc-b9ad-4769-8c92-a6c4dae69d19",
    "_uuid": "8f2839f25d086af736a60e9eeb907d3b93b6e0e5",
    "execution": {
     "iopub.execute_input": "2021-12-28T06:15:36.17442Z",
     "iopub.status.busy": "2021-12-28T06:15:36.173949Z",
     "iopub.status.idle": "2021-12-28T06:15:42.245982Z",
     "shell.execute_reply": "2021-12-28T06:15:42.245203Z",
     "shell.execute_reply.started": "2021-12-28T06:15:36.174378Z"
    }
   },
   "outputs": [],
   "source": [
    "# 第 1 部分\n",
    "# 載入函式庫與資料集\n",
    "from keras.layers import Input, Embedding, Flatten, Dot\n",
    "from keras.models import Model\n",
    "from sklearn.model_selection import train_test_split\n",
    "from sklearn import metrics\n",
    "\n",
    "import numpy as np\n",
    "import pandas as pd\n",
    "\n",
    "np.random.seed(123456)\n",
    "data = pd.read_csv('../Data/ratings.csv')"
   ]
  },
  {
   "cell_type": "code",
   "execution_count": 52,
   "metadata": {},
   "outputs": [],
   "source": [
    "# 'userId'    # 使用者的索引\n",
    "# 'movieId'   # 電影的索引\n",
    "# 'rating'    # 0到5之間的評分值\n",
    "# 'timestamp' # 使用者評分的時間"
   ]
  },
  {
   "cell_type": "code",
   "execution_count": 53,
   "metadata": {
    "execution": {
     "iopub.execute_input": "2021-12-28T06:16:52.348359Z",
     "iopub.status.busy": "2021-12-28T06:16:52.347559Z",
     "iopub.status.idle": "2021-12-28T06:16:52.358293Z",
     "shell.execute_reply": "2021-12-28T06:16:52.357704Z",
     "shell.execute_reply.started": "2021-12-28T06:16:52.34832Z"
    }
   },
   "outputs": [
    {
     "data": {
      "text/html": [
       "<div>\n",
       "<style scoped>\n",
       "    .dataframe tbody tr th:only-of-type {\n",
       "        vertical-align: middle;\n",
       "    }\n",
       "\n",
       "    .dataframe tbody tr th {\n",
       "        vertical-align: top;\n",
       "    }\n",
       "\n",
       "    .dataframe thead th {\n",
       "        text-align: right;\n",
       "    }\n",
       "</style>\n",
       "<table border=\"1\" class=\"dataframe\">\n",
       "  <thead>\n",
       "    <tr style=\"text-align: right;\">\n",
       "      <th></th>\n",
       "      <th>userId</th>\n",
       "      <th>movieId</th>\n",
       "      <th>rating</th>\n",
       "      <th>timestamp</th>\n",
       "    </tr>\n",
       "  </thead>\n",
       "  <tbody>\n",
       "    <tr>\n",
       "      <th>0</th>\n",
       "      <td>1</td>\n",
       "      <td>1</td>\n",
       "      <td>4.0</td>\n",
       "      <td>964982703</td>\n",
       "    </tr>\n",
       "    <tr>\n",
       "      <th>1</th>\n",
       "      <td>1</td>\n",
       "      <td>3</td>\n",
       "      <td>4.0</td>\n",
       "      <td>964981247</td>\n",
       "    </tr>\n",
       "    <tr>\n",
       "      <th>2</th>\n",
       "      <td>1</td>\n",
       "      <td>6</td>\n",
       "      <td>4.0</td>\n",
       "      <td>964982224</td>\n",
       "    </tr>\n",
       "    <tr>\n",
       "      <th>3</th>\n",
       "      <td>1</td>\n",
       "      <td>47</td>\n",
       "      <td>5.0</td>\n",
       "      <td>964983815</td>\n",
       "    </tr>\n",
       "    <tr>\n",
       "      <th>4</th>\n",
       "      <td>1</td>\n",
       "      <td>50</td>\n",
       "      <td>5.0</td>\n",
       "      <td>964982931</td>\n",
       "    </tr>\n",
       "  </tbody>\n",
       "</table>\n",
       "</div>"
      ],
      "text/plain": [
       "   userId  movieId  rating  timestamp\n",
       "0       1        1     4.0  964982703\n",
       "1       1        3     4.0  964981247\n",
       "2       1        6     4.0  964982224\n",
       "3       1       47     5.0  964983815\n",
       "4       1       50     5.0  964982931"
      ]
     },
     "execution_count": 53,
     "metadata": {},
     "output_type": "execute_result"
    }
   ],
   "source": [
    "data.head()"
   ]
  },
  {
   "cell_type": "code",
   "execution_count": 54,
   "metadata": {
    "_cell_guid": "b1076dfc-b9ad-4769-8c92-a6c4dae69d19",
    "_uuid": "8f2839f25d086af736a60e9eeb907d3b93b6e0e5",
    "execution": {
     "iopub.execute_input": "2021-12-28T06:15:42.247847Z",
     "iopub.status.busy": "2021-12-28T06:15:42.247548Z",
     "iopub.status.idle": "2021-12-28T06:15:42.484301Z",
     "shell.execute_reply": "2021-12-28T06:15:42.483611Z",
     "shell.execute_reply.started": "2021-12-28T06:15:42.247807Z"
    }
   },
   "outputs": [],
   "source": [
    "# 第 2 部分\n",
    "# 資料清理\n",
    "def get_data(data):\n",
    "\n",
    "    # 刪除時間\n",
    "    data.drop('timestamp', axis=1, inplace=True)\n",
    "    \n",
    "    # 抓出所有使用者跟電影索引\n",
    "    users = data.userId.unique()\n",
    "    movies = data.movieId.unique()\n",
    " \n",
    "    # 找出新索引跟原始索引的對應關係\n",
    "    # 原始索引是moveies[i]，會改成i\n",
    "    moviemap={}\n",
    "    for i in range(len(movies)):\n",
    "        moviemap[movies[i]]=i\n",
    "    usermap={}\n",
    "    for i in range(len(users)):\n",
    "        usermap[users[i]]=i\n",
    "    \n",
    "    # 根據對應關係，將原始索引更改成新索(連續整數值)\n",
    "    data.movieId = data.movieId.apply(lambda x: moviemap[x])    \n",
    "    data.userId = data.userId.apply(lambda x: usermap[x])    \n",
    "        \n",
    "    # 打亂資料\n",
    "    data = data.sample(frac=1.0).reset_index(drop=True)\n",
    "    \n",
    "    # 建立訓練資料、測試資料集\n",
    "    train, test = train_test_split(data, test_size=0.2)\n",
    "    \n",
    "    n_users = len(users)\n",
    "    n_movies = len(movies)\n",
    "\n",
    "    return train, test, n_users, n_movies\n",
    "\n",
    "train, test, n_users, n_movies = get_data(data)"
   ]
  },
  {
   "cell_type": "code",
   "execution_count": 55,
   "metadata": {
    "execution": {
     "iopub.execute_input": "2021-12-28T06:17:48.223453Z",
     "iopub.status.busy": "2021-12-28T06:17:48.223033Z",
     "iopub.status.idle": "2021-12-28T06:17:48.235046Z",
     "shell.execute_reply": "2021-12-28T06:17:48.234339Z",
     "shell.execute_reply.started": "2021-12-28T06:17:48.223414Z"
    }
   },
   "outputs": [
    {
     "name": "stdout",
     "output_type": "stream",
     "text": [
      "       userId  movieId  rating\n",
      "83462      62     3140     5.0\n",
      "5538      596     2425     2.0\n",
      "267       489      941     3.0\n",
      "52715     274     6347     5.0\n",
      "78791     454      472     3.0\n",
      "...       ...      ...     ...\n",
      "86006     167     1103     5.0\n",
      "27890      99      147     4.0\n",
      "69284     598     1033     3.5\n",
      "32154     379     1054     5.0\n",
      "44005     462       42     3.5\n",
      "\n",
      "[80668 rows x 3 columns]\n",
      "       userId  movieId  rating\n",
      "44019     379     1647     4.0\n",
      "87173     408       44     5.0\n",
      "9004       73     2202     3.5\n",
      "14862     199     1513     4.5\n",
      "19754     102     1168     4.5\n",
      "...       ...      ...     ...\n",
      "74170     306     2679     2.5\n",
      "21465     104     1815     3.5\n",
      "35907     595     1831     3.5\n",
      "36610      68       20     4.0\n",
      "71165     473     8409     3.5\n",
      "\n",
      "[20168 rows x 3 columns]\n"
     ]
    }
   ],
   "source": [
    "print(train) # DataFrame\n",
    "print(test)  # DataFrame"
   ]
  },
  {
   "cell_type": "code",
   "execution_count": 56,
   "metadata": {},
   "outputs": [
    {
     "name": "stdout",
     "output_type": "stream",
     "text": [
      "610\n",
      "9724\n"
     ]
    }
   ],
   "source": [
    "print(n_users)\n",
    "print(n_movies)"
   ]
  },
  {
   "cell_type": "markdown",
   "metadata": {},
   "source": [
    "## 神經網路的有2個嵌入層，一個用於處理電影索引，另一個用於處理使用者索引。神經網路會先使用輸入層來接收索引，此層的輸入會送到嵌入層，並將每一個索引轉換到五維空間，最後通過展平層，即可做點積運算，得到最終的預測值。\n",
    "\n",
    "###  keras.layers模組包含需要的網路結構\n",
    "### 輸入層 Input:接收資料\n",
    "### 嵌入層 Embedding:實作嵌入層\n",
    "### 展平層 Flatten:將n維張量轉換為一維張量\n",
    "### 點積層 Dot:實作點積運算"
   ]
  },
  {
   "cell_type": "code",
   "execution_count": 57,
   "metadata": {
    "_cell_guid": "b1076dfc-b9ad-4769-8c92-a6c4dae69d19",
    "_uuid": "8f2839f25d086af736a60e9eeb907d3b93b6e0e5",
    "execution": {
     "iopub.execute_input": "2021-12-28T06:15:42.487434Z",
     "iopub.status.busy": "2021-12-28T06:15:42.486765Z",
     "iopub.status.idle": "2021-12-28T06:15:42.619498Z",
     "shell.execute_reply": "2021-12-28T06:15:42.618162Z",
     "shell.execute_reply.started": "2021-12-28T06:15:42.4874Z"
    }
   },
   "outputs": [
    {
     "name": "stdout",
     "output_type": "stream",
     "text": [
      "Model: \"model_1\"\n",
      "__________________________________________________________________________________________________\n",
      "Layer (type)                    Output Shape         Param #     Connected to                     \n",
      "==================================================================================================\n",
      "Movie (InputLayer)              (None, 1)            0                                            \n",
      "__________________________________________________________________________________________________\n",
      "User (InputLayer)               (None, 1)            0                                            \n",
      "__________________________________________________________________________________________________\n",
      "Movie_Embed (Embedding)         (None, 1, 5)         48620       Movie[0][0]                      \n",
      "__________________________________________________________________________________________________\n",
      "User_Embed (Embedding)          (None, 1, 5)         3050        User[0][0]                       \n",
      "__________________________________________________________________________________________________\n",
      "FlattenM (Flatten)              (None, 5)            0           Movie_Embed[0][0]                \n",
      "__________________________________________________________________________________________________\n",
      "FlattenU (Flatten)              (None, 5)            0           User_Embed[0][0]                 \n",
      "__________________________________________________________________________________________________\n",
      "Mult (Dot)                      (None, 1)            0           FlattenM[0][0]                   \n",
      "                                                                 FlattenU[0][0]                   \n",
      "==================================================================================================\n",
      "Total params: 51,670\n",
      "Trainable params: 51,670\n",
      "Non-trainable params: 0\n",
      "__________________________________________________________________________________________________\n"
     ]
    }
   ],
   "source": [
    "# 第 3 部分\n",
    "# 建立神經網路結構\n",
    "\n",
    "fts = 5 # 嵌入層的輸出維度\n",
    "\n",
    "# 輸入層接收資料\n",
    "# 嵌入層將資料轉換成5維矩陣\n",
    "# 展平層將5維矩陣拉直成陣列\n",
    "\n",
    "# 處理電影索引的嵌入層\n",
    "movie_in = Input(shape=[1], name=\"Movie\")\n",
    "mov_embed = Embedding(n_movies, fts, name=\"Movie_Embed\")(movie_in)\n",
    "flat_movie = Flatten(name=\"FlattenM\")(mov_embed)\n",
    "\n",
    "\n",
    "# 處理使用者索引的嵌入層\n",
    "user_in = Input(shape=[1], name=\"User\")\n",
    "user_inuser_embed = Embedding(n_users, fts, name=\"User_Embed\")(user_in)\n",
    "flat_user = Flatten(name=\"FlattenU\")(user_inuser_embed)\n",
    "\n",
    "# 計算點積\n",
    "prod = Dot(name=\"Mult\", axes=1)([flat_movie, flat_user])\n",
    "\n",
    "# 編譯模型\n",
    "model = Model([user_in, movie_in], prod)\n",
    "model.compile('adam', 'mean_squared_error')\n",
    "model.summary() "
   ]
  },
  {
   "cell_type": "code",
   "execution_count": 60,
   "metadata": {
    "execution": {
     "iopub.execute_input": "2021-12-28T06:15:42.621006Z",
     "iopub.status.busy": "2021-12-28T06:15:42.620802Z",
     "iopub.status.idle": "2021-12-28T06:16:23.258593Z",
     "shell.execute_reply": "2021-12-28T06:16:23.258009Z",
     "shell.execute_reply.started": "2021-12-28T06:15:42.620968Z"
    }
   },
   "outputs": [
    {
     "name": "stdout",
     "output_type": "stream",
     "text": [
      "WARNING:tensorflow:From C:\\Users\\011305\\Anaconda3\\envs\\py37\\lib\\site-packages\\keras\\backend\\tensorflow_backend.py:422: The name tf.global_variables is deprecated. Please use tf.compat.v1.global_variables instead.\n",
      "\n",
      "Epoch 1/10\n",
      "80668/80668 [==============================] - 3s 35us/step - loss: 12.1260\n",
      "Epoch 2/10\n",
      "80668/80668 [==============================] - 3s 36us/step - loss: 5.4187\n",
      "Epoch 3/10\n",
      "80668/80668 [==============================] - 2s 30us/step - loss: 2.7344\n",
      "Epoch 4/10\n",
      "80668/80668 [==============================] - 3s 31us/step - loss: 1.8298\n",
      "Epoch 5/10\n",
      "80668/80668 [==============================] - 3s 32us/step - loss: 1.3970\n",
      "Epoch 6/10\n",
      "80668/80668 [==============================] - 2s 31us/step - loss: 1.1579\n",
      "Epoch 7/10\n",
      "80668/80668 [==============================] - 3s 32us/step - loss: 1.0113\n",
      "Epoch 8/10\n",
      "80668/80668 [==============================] - 2s 31us/step - loss: 0.9161\n",
      "Epoch 9/10\n",
      "80668/80668 [==============================] - 2s 31us/step - loss: 0.8507\n",
      "Epoch 10/10\n",
      "80668/80668 [==============================] - 3s 31us/step - loss: 0.8021\n",
      "MSE: 1.2838826160222194\n"
     ]
    }
   ],
   "source": [
    "# 第 4 部分\n",
    "# 訓練神經網路\n",
    "model.fit([train.userId, train.movieId], train.rating, epochs=10, verbose=1)\n",
    "\n",
    "# 評估神經網路\n",
    "print(\"MSE:\", \n",
    "      metrics.mean_squared_error(test.rating, \n",
    "                                 model.predict([test.userId, \n",
    "                                                test.movieId])))"
   ]
  },
  {
   "cell_type": "code",
   "execution_count": null,
   "metadata": {},
   "outputs": [],
   "source": []
  }
 ],
 "metadata": {
  "kernelspec": {
   "display_name": "Python 3 (ipykernel)",
   "language": "python",
   "name": "python3"
  },
  "language_info": {
   "codemirror_mode": {
    "name": "ipython",
    "version": 3
   },
   "file_extension": ".py",
   "mimetype": "text/x-python",
   "name": "python",
   "nbconvert_exporter": "python",
   "pygments_lexer": "ipython3",
   "version": "3.7.11"
  }
 },
 "nbformat": 4,
 "nbformat_minor": 4
}
