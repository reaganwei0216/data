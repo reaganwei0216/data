{
 "cells": [
  {
   "cell_type": "code",
   "execution_count": 2,
   "metadata": {},
   "outputs": [],
   "source": [
    "# 7.4 使用scikit-leran提供的極端隨機數處理分類問題(ExtraTreesClassifier)"
   ]
  },
  {
   "cell_type": "code",
   "execution_count": 9,
   "metadata": {
    "_cell_guid": "b1076dfc-b9ad-4769-8c92-a6c4dae69d19",
    "_uuid": "8f2839f25d086af736a60e9eeb907d3b93b6e0e5",
    "execution": {
     "iopub.execute_input": "2021-11-23T07:55:26.087513Z",
     "iopub.status.busy": "2021-11-23T07:55:26.087204Z",
     "iopub.status.idle": "2021-11-23T07:55:27.459907Z",
     "shell.execute_reply": "2021-11-23T07:55:27.459059Z",
     "shell.execute_reply.started": "2021-11-23T07:55:26.087431Z"
    }
   },
   "outputs": [],
   "source": [
    "# --- 第 1 部分 ---\n",
    "# 載入函式庫與資料集\n",
    "from sklearn.datasets import load_digits\n",
    "from sklearn.ensemble import ExtraTreesClassifier\n",
    "from sklearn.model_selection import validation_curve\n",
    "from sklearn import metrics\n",
    "import numpy as np\n",
    "import matplotlib.pyplot as plt\n",
    "\n",
    "digits = load_digits()\n",
    "\n",
    "\n",
    "train_size = 1500\n",
    "train_x, train_y = digits.data[:train_size], digits.target[:train_size]\n",
    "test_x, test_y = digits.data[train_size:], digits.target[train_size:]\n",
    "\n",
    "np.random.seed(123456)"
   ]
  },
  {
   "cell_type": "code",
   "execution_count": 10,
   "metadata": {
    "execution": {
     "iopub.execute_input": "2021-11-23T07:55:27.461805Z",
     "iopub.status.busy": "2021-11-23T07:55:27.461553Z",
     "iopub.status.idle": "2021-11-23T07:56:31.049534Z",
     "shell.execute_reply": "2021-11-23T07:56:31.048537Z",
     "shell.execute_reply.started": "2021-11-23T07:55:27.461774Z"
    }
   },
   "outputs": [],
   "source": [
    "# --- 第 2 部分 ---\n",
    "# 初始化模型\n",
    "ensemble_size = 500\n",
    "ensemble = ExtraTreesClassifier(n_estimators = ensemble_size,  # 指定基學習器的數量\n",
    "                                n_jobs = 4)                    # 決定平行程序的數目 \n",
    "\n",
    "param_range = [10, 50, 100, 150, 200, 250, 300, 350, 400]\n",
    "train_scores, test_scores = validation_curve(ensemble,  # 模型\n",
    "                                             train_x,   # 資料集的特徵 \n",
    "                                             train_y,   # 資料集的標籤\n",
    "                                             param_name = 'n_estimators',  # 欲調整的超參數\n",
    "                                             param_range = param_range,    # 超參數的範圍\n",
    "                                             cv = 10,                      # 交叉驗證的折數\n",
    "                                             scoring = 'accuracy')         # 評價指標 "
   ]
  },
  {
   "cell_type": "code",
   "execution_count": 11,
   "metadata": {
    "execution": {
     "iopub.execute_input": "2021-11-23T07:56:31.051957Z",
     "iopub.status.busy": "2021-11-23T07:56:31.051599Z",
     "iopub.status.idle": "2021-11-23T07:56:31.059178Z",
     "shell.execute_reply": "2021-11-23T07:56:31.058188Z",
     "shell.execute_reply.started": "2021-11-23T07:56:31.051902Z"
    }
   },
   "outputs": [],
   "source": [
    "# --- 第 3 部分 ---\n",
    "# 計算準確率的平均數跟標準差\n",
    "train_scores_mean = np.mean(train_scores, axis = 1)\n",
    "train_scores_std = np.std(train_scores, axis = 1)\n",
    "test_scores_mean = np.mean(test_scores, axis = 1)\n",
    "test_scores_std = np.std(test_scores, axis = 1)"
   ]
  },
  {
   "cell_type": "code",
   "execution_count": 12,
   "metadata": {
    "execution": {
     "iopub.execute_input": "2021-11-23T07:59:54.28401Z",
     "iopub.status.busy": "2021-11-23T07:59:54.283567Z",
     "iopub.status.idle": "2021-11-23T07:59:54.591918Z",
     "shell.execute_reply": "2021-11-23T07:59:54.59114Z",
     "shell.execute_reply.started": "2021-11-23T07:59:54.283962Z"
    }
   },
   "outputs": [
    {
     "data": {
      "text/plain": [
       "<matplotlib.legend.Legend at 0x2b13209b1c8>"
      ]
     },
     "execution_count": 12,
     "metadata": {},
     "output_type": "execute_result"
    },
    {
     "data": {
      "image/png": "[encoded data removed]",
      "text/plain": [
       "<Figure size 576x576 with 1 Axes>"
      ]
     },
     "metadata": {
      "needs_background": "light"
     },
     "output_type": "display_data"
    }
   ],
   "source": [
    "# --- 第 4 部分 ---\n",
    "# 繪製圖形\n",
    "plt.figure(figsize = (8, 8))\n",
    "plt.title('Validation curves (Extra Trees)')\n",
    "# 繪製標準差\n",
    "plt.fill_between(param_range, \n",
    "                 train_scores_mean - train_scores_std,\n",
    "                 train_scores_mean + train_scores_std, \n",
    "                 alpha = 0.1,\n",
    "                 color = \"C1\")\n",
    "plt.fill_between(param_range, \n",
    "                 test_scores_mean - test_scores_std,\n",
    "                 test_scores_mean + test_scores_std, \n",
    "                 alpha = 0.1, \n",
    "                 color = \"C0\")\n",
    "\n",
    "# 繪製平均數\n",
    "plt.plot(param_range, \n",
    "         train_scores_mean, \n",
    "         'o-', \n",
    "         color = \"C1\",\n",
    "         label = \"Training score\")\n",
    "plt.plot(param_range, \n",
    "         test_scores_mean, \n",
    "         'x-', \n",
    "         color = \"C0\",\n",
    "         label = \"Cross-validation score\")\n",
    "\n",
    "plt.xticks(param_range)\n",
    "plt.xlabel('Number of learners')\n",
    "plt.ylabel('Accuracy')\n",
    "plt.legend(loc = \"best\")"
   ]
  },
  {
   "cell_type": "code",
   "execution_count": null,
   "metadata": {},
   "outputs": [],
   "source": []
  }
 ],
 "metadata": {
  "kernelspec": {
   "display_name": "Python 3 (ipykernel)",
   "language": "python",
   "name": "python3"
  },
  "language_info": {
   "codemirror_mode": {
    "name": "ipython",
    "version": 3
   },
   "file_extension": ".py",
   "mimetype": "text/x-python",
   "name": "python",
   "nbconvert_exporter": "python",
   "pygments_lexer": "ipython3",
   "version": "3.7.11"
  }
 },
 "nbformat": 4,
 "nbformat_minor": 4
}
