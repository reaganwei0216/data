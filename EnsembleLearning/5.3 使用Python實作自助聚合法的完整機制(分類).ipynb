{
 "cells": [
  {
   "cell_type": "markdown",
   "metadata": {},
   "source": [
    "# 5.3 使用Python實作自助聚合法的完整機制(分類)"
   ]
  },
  {
   "cell_type": "code",
   "execution_count": 2,
   "metadata": {
    "_cell_guid": "b1076dfc-b9ad-4769-8c92-a6c4dae69d19",
    "_uuid": "8f2839f25d086af736a60e9eeb907d3b93b6e0e5",
    "execution": {
     "iopub.execute_input": "2021-12-23T09:20:41.42013Z",
     "iopub.status.busy": "2021-12-23T09:20:41.419178Z",
     "iopub.status.idle": "2021-12-23T09:20:42.928915Z",
     "shell.execute_reply": "2021-12-23T09:20:42.927924Z",
     "shell.execute_reply.started": "2021-12-23T09:20:41.419977Z"
    }
   },
   "outputs": [],
   "source": [
    "# --- 第 1 部分 ---\n",
    "# 載入函式庫與資料集\n",
    "from sklearn.datasets import load_digits\n",
    "from sklearn.tree import DecisionTreeClassifier\n",
    "from sklearn import metrics\n",
    "import numpy as np\n",
    "digits = load_digits()\n",
    "\n",
    "np.random.seed(1)\n",
    "\n",
    "train_size = 1500\n",
    "train_x, train_y = digits.data[:train_size], digits.target[:train_size]\n",
    "test_x, test_y = digits.data[train_size:], digits.target[train_size:]\n"
   ]
  },
  {
   "cell_type": "code",
   "execution_count": 9,
   "metadata": {},
   "outputs": [
    {
     "data": {
      "text/plain": [
       "(1797,)"
      ]
     },
     "execution_count": 9,
     "metadata": {},
     "output_type": "execute_result"
    }
   ],
   "source": [
    "# digits['target'].shape"
   ]
  },
  {
   "cell_type": "code",
   "execution_count": 12,
   "metadata": {
    "execution": {
     "iopub.execute_input": "2021-12-23T09:20:42.93082Z",
     "iopub.status.busy": "2021-12-23T09:20:42.930568Z",
     "iopub.status.idle": "2021-12-23T09:20:43.122905Z",
     "shell.execute_reply": "2021-12-23T09:20:43.121743Z",
     "shell.execute_reply.started": "2021-12-23T09:20:42.93079Z"
    }
   },
   "outputs": [],
   "source": [
    " # --- 第 2 部分 ---\n",
    "# 產生子樣本並訓練基學習器\n",
    "ensemble_size = 10\n",
    "base_learners = []\n",
    "\n",
    "for _ in range(ensemble_size):\n",
    "    # 取後放回的抽樣，產生子樣本\n",
    "    # 子樣本的資料數跟訓練資料的資料數一樣多\n",
    "    # 某些資料可能被重複抽到，某些資料可能不曾被抽過\n",
    "    \n",
    "    bootstrap_sample_indices = np.random.randint(0, train_size, size = train_size)\n",
    "    bootstrap_x = train_x[bootstrap_sample_indices]\n",
    "    bootstrap_y = train_y[bootstrap_sample_indices]\n",
    "    # 訓練基學習器\n",
    "    dtree = DecisionTreeClassifier()\n",
    "    dtree.fit(bootstrap_x, bootstrap_y)\n",
    "    base_learners.append(dtree)"
   ]
  },
  {
   "cell_type": "code",
   "execution_count": 13,
   "metadata": {},
   "outputs": [
    {
     "data": {
      "text/plain": [
       "[DecisionTreeClassifier(),\n",
       " DecisionTreeClassifier(),\n",
       " DecisionTreeClassifier(),\n",
       " DecisionTreeClassifier(),\n",
       " DecisionTreeClassifier(),\n",
       " DecisionTreeClassifier(),\n",
       " DecisionTreeClassifier(),\n",
       " DecisionTreeClassifier(),\n",
       " DecisionTreeClassifier(),\n",
       " DecisionTreeClassifier()]"
      ]
     },
     "execution_count": 13,
     "metadata": {},
     "output_type": "execute_result"
    }
   ],
   "source": [
    "# base_learners"
   ]
  },
  {
   "cell_type": "code",
   "execution_count": 4,
   "metadata": {
    "execution": {
     "iopub.execute_input": "2021-12-23T09:20:43.124426Z",
     "iopub.status.busy": "2021-12-23T09:20:43.124177Z",
     "iopub.status.idle": "2021-12-23T09:20:43.13679Z",
     "shell.execute_reply": "2021-12-23T09:20:43.135672Z",
     "shell.execute_reply.started": "2021-12-23T09:20:43.124398Z"
    }
   },
   "outputs": [],
   "source": [
    "# --- 第 3 部分 ---\n",
    "# 用基學習器做預測並評估效能\n",
    "base_predictions = []\n",
    "base_accuracy = []\n",
    "for learner in base_learners:\n",
    "    predictions = learner.predict(test_x)\n",
    "    base_predictions.append(predictions)\n",
    "    acc = metrics.accuracy_score(test_y, predictions)\n",
    "    base_accuracy.append(acc)\n"
   ]
  },
  {
   "cell_type": "code",
   "execution_count": 16,
   "metadata": {},
   "outputs": [
    {
     "data": {
      "text/plain": [
       "(10, 10)"
      ]
     },
     "execution_count": 16,
     "metadata": {},
     "output_type": "execute_result"
    }
   ],
   "source": [
    "# len(base_predictions),len(base_accuracy)"
   ]
  },
  {
   "cell_type": "code",
   "execution_count": 21,
   "metadata": {},
   "outputs": [
    {
     "data": {
      "text/plain": [
       "9"
      ]
     },
     "execution_count": 21,
     "metadata": {},
     "output_type": "execute_result"
    }
   ],
   "source": []
  },
  {
   "cell_type": "code",
   "execution_count": 24,
   "metadata": {
    "execution": {
     "iopub.execute_input": "2021-12-23T09:20:43.139415Z",
     "iopub.status.busy": "2021-12-23T09:20:43.138811Z",
     "iopub.status.idle": "2021-12-23T09:20:43.154259Z",
     "shell.execute_reply": "2021-12-23T09:20:43.153187Z",
     "shell.execute_reply.started": "2021-12-23T09:20:43.139372Z"
    }
   },
   "outputs": [],
   "source": [
    "# --- 第 4 部分 ---\n",
    "# 組合基學習器的預測\n",
    "\n",
    "ensemble_predictions = []\n",
    "# 找出每一筆資料得票最多的類別\n",
    "for i in range(len(test_y)):\n",
    "    # 計算每個類別的得票數\n",
    "    counts = [0 for _ in range(10)]\n",
    "    for learner_p in base_predictions:\n",
    "        counts[learner_p[i]] = counts[learner_p[i]] + 1\n",
    "#         print(counts)    \n",
    "    # 找到得票最多的類別\n",
    "    final = np.argmax(counts)\n",
    "    # 將此類別加入最終預測中\n",
    "    ensemble_predictions.append(final)\n",
    "\n",
    "ensemble_acc = metrics.accuracy_score(test_y, \n",
    "                                      ensemble_predictions)\n"
   ]
  },
  {
   "cell_type": "code",
   "execution_count": 26,
   "metadata": {
    "execution": {
     "iopub.execute_input": "2021-12-23T09:20:43.156393Z",
     "iopub.status.busy": "2021-12-23T09:20:43.155575Z",
     "iopub.status.idle": "2021-12-23T09:20:43.164906Z",
     "shell.execute_reply": "2021-12-23T09:20:43.163902Z",
     "shell.execute_reply.started": "2021-12-23T09:20:43.156349Z"
    }
   },
   "outputs": [
    {
     "name": "stdout",
     "output_type": "stream",
     "text": [
      "Base Learners:\n",
      "------------------------------\n",
      "Learner 1: 0.75\n",
      "Learner 2: 0.75\n",
      "Learner 3: 0.75\n",
      "Learner 4: 0.75\n",
      "Learner 5: 0.77\n",
      "Learner 6: 0.78\n",
      "Learner 7: 0.78\n",
      "Learner 8: 0.78\n",
      "Learner 9: 0.79\n",
      "Learner 10: 0.81\n",
      "------------------------------\n",
      "Bagging: 0.87\n"
     ]
    }
   ],
   "source": [
    "# --- 第 5 部分 ---\n",
    "# 顯示準確率，從小到大依序印出來\n",
    "print('Base Learners:')\n",
    "print('-'*30)\n",
    "for index, acc in enumerate(sorted(base_accuracy)):\n",
    "    print(f'Learner {index+1}: %.2f' % acc)\n",
    "print('-'*30)\n",
    "print('Bagging: %.2f' % ensemble_acc)\n"
   ]
  },
  {
   "cell_type": "code",
   "execution_count": null,
   "metadata": {},
   "outputs": [],
   "source": []
  }
 ],
 "metadata": {
  "kernelspec": {
   "display_name": "Python 3 (ipykernel)",
   "language": "python",
   "name": "python3"
  },
  "language_info": {
   "codemirror_mode": {
    "name": "ipython",
    "version": 3
   },
   "file_extension": ".py",
   "mimetype": "text/x-python",
   "name": "python",
   "nbconvert_exporter": "python",
   "pygments_lexer": "ipython3",
   "version": "3.7.11"
  }
 },
 "nbformat": 4,
 "nbformat_minor": 4
}
