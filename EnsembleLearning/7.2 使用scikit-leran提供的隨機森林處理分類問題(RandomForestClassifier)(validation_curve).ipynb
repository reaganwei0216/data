{
 "cells": [
  {
   "cell_type": "code",
   "execution_count": 2,
   "metadata": {},
   "outputs": [],
   "source": [
    "# 7.2 使用scikit-leran提供的隨機森林處理分類問題(RandomForestClassifier)(validation_curve)"
   ]
  },
  {
   "cell_type": "code",
   "execution_count": 5,
   "metadata": {
    "_cell_guid": "b1076dfc-b9ad-4769-8c92-a6c4dae69d19",
    "_uuid": "8f2839f25d086af736a60e9eeb907d3b93b6e0e5",
    "execution": {
     "iopub.execute_input": "2021-12-27T06:53:46.937967Z",
     "iopub.status.busy": "2021-12-27T06:53:46.937433Z",
     "iopub.status.idle": "2021-12-27T06:53:47.049089Z",
     "shell.execute_reply": "2021-12-27T06:53:47.048219Z",
     "shell.execute_reply.started": "2021-12-27T06:53:46.937925Z"
    }
   },
   "outputs": [],
   "source": [
    "# --- 第 1 部分 ---\n",
    "# 載入函式庫與資料集\n",
    "from sklearn.datasets import load_digits\n",
    "from sklearn.ensemble import RandomForestClassifier\n",
    "from sklearn.model_selection import validation_curve # 驗證曲線:看不同數目的基學習器跟準確率的關係)\n",
    "from sklearn import metrics\n",
    "import numpy as np\n",
    "import matplotlib.pyplot as plt\n",
    "\n",
    "digits = load_digits()\n",
    "\n",
    "\n",
    "train_size = 1500\n",
    "train_x, train_y = digits.data[:train_size], digits.target[:train_size]\n",
    "test_x, test_y = digits.data[train_size:], digits.target[train_size:]\n",
    "\n",
    "np.random.seed(123456)"
   ]
  },
  {
   "cell_type": "code",
   "execution_count": null,
   "metadata": {},
   "outputs": [],
   "source": []
  },
  {
   "cell_type": "code",
   "execution_count": 11,
   "metadata": {},
   "outputs": [],
   "source": [
    "# --- 第 2 部分 ---\n",
    "# 初始化模型\n",
    "\n",
    "ensemble_size = 500\n",
    "ensemble = RandomForestClassifier(n_estimators=ensemble_size,  # 指定基學習器的數量\n",
    "                                  n_jobs=4)                    # 決定平行程序的數目\n",
    "\n",
    "param_range = [10, 50, 100, 150, 200, 250, 300, 350, 400]\n",
    "train_scores, test_scores = validation_curve(\n",
    "    ensemble,   # 模型\n",
    "    train_x,    # 資料集的特徵\n",
    "    train_y,    # 資料集的標籤\n",
    "    param_name='n_estimators', # 欲調整的超參數\n",
    "    param_range=param_range,   # 超參數的範圍\n",
    "    cv = 10,                   # 交叉驗證的折數\n",
    "    scoring = 'accuracy')      # 評價指標"
   ]
  },
  {
   "cell_type": "code",
   "execution_count": 12,
   "metadata": {
    "execution": {
     "iopub.execute_input": "2021-12-27T06:54:53.49498Z",
     "iopub.status.busy": "2021-12-27T06:54:53.494757Z",
     "iopub.status.idle": "2021-12-27T06:54:53.500567Z",
     "shell.execute_reply": "2021-12-27T06:54:53.499724Z",
     "shell.execute_reply.started": "2021-12-27T06:54:53.494952Z"
    }
   },
   "outputs": [],
   "source": [
    "# --- 第 3 部分 ---\n",
    "# 計算準確率的平均數跟標準差\n",
    "train_scores_mean = np.mean(train_scores, axis = 1)\n",
    "train_scores_std = np.std(train_scores, axis = 1)\n",
    "test_scores_mean = np.mean(test_scores, axis = 1)\n",
    "test_scores_std = np.std(test_scores, axis = 1)"
   ]
  },
  {
   "cell_type": "code",
   "execution_count": 13,
   "metadata": {
    "execution": {
     "iopub.execute_input": "2021-12-27T06:54:53.50196Z",
     "iopub.status.busy": "2021-12-27T06:54:53.501718Z",
     "iopub.status.idle": "2021-12-27T06:54:53.807816Z",
     "shell.execute_reply": "2021-12-27T06:54:53.80694Z",
     "shell.execute_reply.started": "2021-12-27T06:54:53.501931Z"
    }
   },
   "outputs": [
    {
     "data": {
      "text/plain": [
       "<matplotlib.legend.Legend at 0x2b20cf5e788>"
      ]
     },
     "execution_count": 13,
     "metadata": {},
     "output_type": "execute_result"
    },
    {
     "data": {
      "image/png": "[encoded data removed]",
      "text/plain": [
       "<Figure size 576x576 with 1 Axes>"
      ]
     },
     "metadata": {
      "needs_background": "light"
     },
     "output_type": "display_data"
    }
   ],
   "source": [
    "# --- 第 4 部分 ---\n",
    "# 繪製徒刑\n",
    "plt.figure(figsize = (8, 8))\n",
    "plt.title('Validation curves (Random Forest)')\n",
    "# 繪製標準差\n",
    "plt.fill_between(param_range, \n",
    "                 train_scores_mean - train_scores_std,\n",
    "                 train_scores_mean + train_scores_std, \n",
    "                 alpha = 0.1,\n",
    "                 color = \"C1\")\n",
    "plt.fill_between(param_range, \n",
    "                 test_scores_mean - test_scores_std,\n",
    "                 test_scores_mean + test_scores_std, \n",
    "                 alpha = 0.1, \n",
    "                 color = \"C0\")\n",
    "\n",
    "# 繪製平均數\n",
    "plt.plot(param_range, \n",
    "         train_scores_mean, \n",
    "         'o-', \n",
    "         color = \"C1\",\n",
    "         label = \"Training score\")\n",
    "plt.plot(param_range, \n",
    "         test_scores_mean, \n",
    "         'x-', \n",
    "         color = \"C0\",\n",
    "         label = \"Cross-validation score\")\n",
    "\n",
    "plt.xticks(param_range)\n",
    "plt.xlabel('Number of learners')\n",
    "plt.ylabel('Accuracy')\n",
    "plt.legend(loc = \"best\")"
   ]
  },
  {
   "cell_type": "code",
   "execution_count": null,
   "metadata": {},
   "outputs": [],
   "source": []
  }
 ],
 "metadata": {
  "kernelspec": {
   "display_name": "Python 3 (ipykernel)",
   "language": "python",
   "name": "python3"
  },
  "language_info": {
   "codemirror_mode": {
    "name": "ipython",
    "version": 3
   },
   "file_extension": ".py",
   "mimetype": "text/x-python",
   "name": "python",
   "nbconvert_exporter": "python",
   "pygments_lexer": "ipython3",
   "version": "3.7.11"
  }
 },
 "nbformat": 4,
 "nbformat_minor": 4
}
