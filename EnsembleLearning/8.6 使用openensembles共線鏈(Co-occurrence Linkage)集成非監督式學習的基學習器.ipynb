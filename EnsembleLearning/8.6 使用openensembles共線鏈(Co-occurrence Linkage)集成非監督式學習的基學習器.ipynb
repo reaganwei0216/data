{
 "cells": [
  {
   "cell_type": "code",
   "execution_count": 3,
   "metadata": {},
   "outputs": [],
   "source": [
    "# 8.6 使用openensembles共線鏈(Co-occurrence Linkage)集成非監督式學習的基學習器\n",
    "# 共線矩陣顯示任何2筆資料被基學習器分在相同子群的頻率\n",
    "# 共線鏈將共線矩陣視為相似度矩陣，接著使用階層式分群"
   ]
  },
  {
   "cell_type": "code",
   "execution_count": null,
   "metadata": {
    "_cell_guid": "b1076dfc-b9ad-4769-8c92-a6c4dae69d19",
    "_uuid": "8f2839f25d086af736a60e9eeb907d3b93b6e0e5"
   },
   "outputs": [],
   "source": [
    "# --- 第 1 部分 ---\n",
    "# 載入函式庫與資料\n",
    "import openensembles as oe\n",
    "import numpy as np\n",
    "import pandas as pd\n",
    "import sklearn.metrics\n",
    "\n",
    "from sklearn.datasets import load_breast_cancer\n",
    "\n",
    "bc = load_breast_cancer()\n",
    "\n",
    "np.random.seed(123456)"
   ]
  },
  {
   "cell_type": "code",
   "execution_count": null,
   "metadata": {},
   "outputs": [],
   "source": [
    "# --- 第 2 部分 ---\n",
    "# 建立資料\n",
    "cluster_data = oe.data(pd.DataFrame(bc.data), bc.feature_names)"
   ]
  },
  {
   "cell_type": "code",
   "execution_count": null,
   "metadata": {},
   "outputs": [],
   "source": [
    "# --- 第 3 部分 ---\n",
    "# 建立總體並計算同質性\n",
    "for K in [2, 3, 4, 5, 6, 7]:\n",
    "    for ensemble_size in [3, 4, 5]:\n",
    "        ensemble = oe.cluster(cluster_data)\n",
    "        for i in range(ensemble_size):\n",
    "            name = f'kmeans_{ensemble_size}_{i}'\n",
    "            ensemble.cluster('parent', 'kmeans', name, K)\n",
    "        preds = ensemble.finish_co_occ_linkage(threshold=0.5)\n",
    "        print(f'K: {K}, size {ensemble_size}:', end=' ')\n",
    "        print('%.2f' % sklearn.metrics.homogeneity_score(\n",
    "                bc.target, preds.labels['co_occ_linkage']))"
   ]
  }
 ],
 "metadata": {
  "kernelspec": {
   "display_name": "Python 3 (ipykernel)",
   "language": "python",
   "name": "python3"
  },
  "language_info": {
   "codemirror_mode": {
    "name": "ipython",
    "version": 3
   },
   "file_extension": ".py",
   "mimetype": "text/x-python",
   "name": "python",
   "nbconvert_exporter": "python",
   "pygments_lexer": "ipython3",
   "version": "3.7.11"
  }
 },
 "nbformat": 4,
 "nbformat_minor": 4
}
