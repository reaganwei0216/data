{
 "cells": [
  {
   "cell_type": "code",
   "execution_count": null,
   "metadata": {},
   "outputs": [],
   "source": [
    "# 6.10 使用XGBoost提供的梯度提升處理分類問題(XGBClassifier)"
   ]
  },
  {
   "cell_type": "code",
   "execution_count": 1,
   "metadata": {
    "_cell_guid": "b1076dfc-b9ad-4769-8c92-a6c4dae69d19",
    "_uuid": "8f2839f25d086af736a60e9eeb907d3b93b6e0e5",
    "execution": {
     "iopub.execute_input": "2021-12-16T09:42:38.752834Z",
     "iopub.status.busy": "2021-12-16T09:42:38.752465Z",
     "iopub.status.idle": "2021-12-16T09:42:41.563236Z",
     "shell.execute_reply": "2021-12-16T09:42:41.562548Z",
     "shell.execute_reply.started": "2021-12-16T09:42:38.752743Z"
    }
   },
   "outputs": [
    {
     "name": "stderr",
     "output_type": "stream",
     "text": [
      "C:\\Users\\011305\\Anaconda3\\envs\\py37\\lib\\site-packages\\xgboost\\sklearn.py:1224: UserWarning: The use of label encoder in XGBClassifier is deprecated and will be removed in a future release. To remove this warning, do the following: 1) Pass option use_label_encoder=False when constructing XGBClassifier object; and 2) Encode your labels (y) as integers starting with 0, i.e. 0, 1, 2, ..., [num_class - 1].\n",
      "  warnings.warn(label_encoder_deprecation_msg, UserWarning)\n"
     ]
    },
    {
     "name": "stdout",
     "output_type": "stream",
     "text": [
      "[10:57:22] WARNING: ..\\src\\learner.cc:1115: Starting in XGBoost 1.3.0, the default evaluation metric used with the objective 'multi:softprob' was changed from 'merror' to 'mlogloss'. Explicitly set eval_metric if you'd like to restore the old behavior.\n",
      "Boosting: 0.90\n"
     ]
    }
   ],
   "source": [
    "# --- 第 1 部分 ---\n",
    "# 載入函式庫與資料集\n",
    "from sklearn.datasets import load_digits\n",
    "from xgboost import XGBClassifier\n",
    "from sklearn import metrics\n",
    "import numpy as np\n",
    "digits = load_digits()\n",
    "train_size = 1500\n",
    "train_x, train_y = digits.data[:train_size], digits.target[:train_size]\n",
    "test_x, test_y = digits.data[train_size:], digits.target[train_size:]\n",
    "np.random.seed(123456)\n",
    "\n",
    "# --- 第 2 部分 ---\n",
    "# 初始化模型\n",
    "ensemble_size = 100\n",
    "ensemble = XGBClassifier(n_estimators=ensemble_size,  # 弱學習器數量\n",
    "                         n_jobs=4)                    # 平行程序數 \n",
    "\n",
    "# --- 第 3 部分 ---\n",
    "# 訓練模型\n",
    "ensemble.fit(train_x, train_y)\n",
    "\n",
    "# --- 第 4 部分 ---\n",
    "# 評估模型\n",
    "ensemble_predictions = ensemble.predict(test_x)\n",
    "ensemble_acc = metrics.accuracy_score(test_y, ensemble_predictions)\n",
    "\n",
    "# --- 第 5 部分 ---\n",
    "# 顯示準確率\n",
    "print('Boosting: %.2f' % ensemble_acc)\n"
   ]
  },
  {
   "cell_type": "code",
   "execution_count": null,
   "metadata": {},
   "outputs": [],
   "source": []
  }
 ],
 "metadata": {
  "kernelspec": {
   "display_name": "Python 3 (ipykernel)",
   "language": "python",
   "name": "python3"
  },
  "language_info": {
   "codemirror_mode": {
    "name": "ipython",
    "version": 3
   },
   "file_extension": ".py",
   "mimetype": "text/x-python",
   "name": "python",
   "nbconvert_exporter": "python",
   "pygments_lexer": "ipython3",
   "version": "3.7.11"
  }
 },
 "nbformat": 4,
 "nbformat_minor": 4
}
