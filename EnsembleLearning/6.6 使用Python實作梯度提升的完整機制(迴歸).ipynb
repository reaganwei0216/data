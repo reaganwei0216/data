{
 "cells": [
  {
   "cell_type": "code",
   "execution_count": 1,
   "metadata": {},
   "outputs": [],
   "source": [
    "# 6.6 使用Python實作梯度提升的完整機制(迴歸)"
   ]
  },
  {
   "cell_type": "code",
   "execution_count": 2,
   "metadata": {
    "execution": {
     "iopub.execute_input": "2021-12-24T08:29:12.205759Z",
     "iopub.status.busy": "2021-12-24T08:29:12.205475Z",
     "iopub.status.idle": "2021-12-24T08:29:12.228602Z",
     "shell.execute_reply": "2021-12-24T08:29:12.227593Z",
     "shell.execute_reply.started": "2021-12-24T08:29:12.205731Z"
    }
   },
   "outputs": [],
   "source": [
    "# --- 第 1 部分 ---\n",
    "# 載入函式庫與資料集\n",
    "from copy import deepcopy\n",
    "from sklearn.datasets import load_diabetes\n",
    "from sklearn.tree import DecisionTreeRegressor\n",
    "from sklearn import metrics\n",
    "import numpy as np\n",
    "diabetes = load_diabetes()\n",
    "train_size = 400\n",
    "train_x, train_y = diabetes.data[:train_size], diabetes.target[:train_size]\n",
    "test_x, test_y = diabetes.data[train_size:], diabetes.target[train_size:]\n",
    "np.random.seed(123456)\n"
   ]
  },
  {
   "cell_type": "code",
   "execution_count": 3,
   "metadata": {
    "execution": {
     "iopub.execute_input": "2021-12-24T08:29:12.230635Z",
     "iopub.status.busy": "2021-12-24T08:29:12.230316Z",
     "iopub.status.idle": "2021-12-24T08:29:12.235795Z",
     "shell.execute_reply": "2021-12-24T08:29:12.235229Z",
     "shell.execute_reply.started": "2021-12-24T08:29:12.230605Z"
    }
   },
   "outputs": [],
   "source": [
    "# --- 第 2 部分 ---\n",
    "# 設定總體大小、學習率及決策樹深度\n",
    "ensemble_size = 200\n",
    "learning_rate = 0.1\n",
    "base_classifier = DecisionTreeRegressor(max_depth=3)\n",
    "\n",
    "# 創建變數以儲存基學習器與其預測\n",
    "base_learners = []\n",
    "# 初始預測為標籤平均值\n",
    "previous_p = np.zeros(len(train_y)) + np.mean(train_y)\n"
   ]
  },
  {
   "cell_type": "code",
   "execution_count": 7,
   "metadata": {
    "execution": {
     "iopub.execute_input": "2021-12-24T08:29:12.237059Z",
     "iopub.status.busy": "2021-12-24T08:29:12.236825Z",
     "iopub.status.idle": "2021-12-24T08:29:12.478985Z",
     "shell.execute_reply": "2021-12-24T08:29:12.478109Z",
     "shell.execute_reply.started": "2021-12-24T08:29:12.237031Z"
    }
   },
   "outputs": [],
   "source": [
    "# --- 第 3 部分 ---\n",
    "# 訓練弱學習器\n",
    "for _ in range(ensemble_size):\n",
    "    # 計算偽殘差\n",
    "    errors = train_y - previous_p\n",
    "    # 訓練弱學習器\n",
    "    learner = deepcopy(base_classifier)\n",
    "    learner.fit(train_x, errors)\n",
    "    # 在訓練集上預測偽殘差\n",
    "    p = learner.predict(train_x)\n",
    "    # 將預測值乘上學習率\n",
    "    # 再加上先前的預測值\n",
    "    previous_p = previous_p + learning_rate * p\n",
    "    # 儲存弱學習器\n",
    "    base_learners.append(learner)\n"
   ]
  },
  {
   "cell_type": "code",
   "execution_count": 8,
   "metadata": {
    "execution": {
     "iopub.execute_input": "2021-12-24T08:29:12.481454Z",
     "iopub.status.busy": "2021-12-24T08:29:12.48104Z",
     "iopub.status.idle": "2021-12-24T08:29:12.505937Z",
     "shell.execute_reply": "2021-12-24T08:29:12.505336Z",
     "shell.execute_reply.started": "2021-12-24T08:29:12.481408Z"
    }
   },
   "outputs": [],
   "source": [
    "# --- 第 4 部分 ---\n",
    "# 評估集成後效能\n",
    "# 訓練資料集的標籤平均值為初始預測\n",
    "previous_p = np.zeros(len(test_y)) + np.mean(train_y)\n",
    "# 每個弱學習器都用測試資料集的特徵來預測偽殘差\n",
    "# 預測值乘上學習率後相加\n",
    "for learner in base_learners:\n",
    "    p = learner.predict(test_x)\n",
    "    previous_p = previous_p + learning_rate * p\n"
   ]
  },
  {
   "cell_type": "code",
   "execution_count": 9,
   "metadata": {
    "execution": {
     "iopub.execute_input": "2021-12-24T08:29:12.507333Z",
     "iopub.status.busy": "2021-12-24T08:29:12.507005Z",
     "iopub.status.idle": "2021-12-24T08:29:12.514767Z",
     "shell.execute_reply": "2021-12-24T08:29:12.513939Z",
     "shell.execute_reply.started": "2021-12-24T08:29:12.507298Z"
    }
   },
   "outputs": [
    {
     "name": "stdout",
     "output_type": "stream",
     "text": [
      "Gradient Boosting:\n",
      "R-squared: 0.44\n",
      "MSE: 3109.81\n"
     ]
    }
   ],
   "source": [
    "# --- 第 5 部分 ---\n",
    "# 顯示結果\n",
    "r2 = metrics.r2_score(test_y, previous_p)\n",
    "mse = metrics.mean_squared_error(test_y, previous_p)\n",
    "print('Gradient Boosting:')\n",
    "print('R-squared: %.2f' % r2)\n",
    "print('MSE: %.2f' % mse)\n"
   ]
  },
  {
   "cell_type": "code",
   "execution_count": null,
   "metadata": {},
   "outputs": [],
   "source": []
  }
 ],
 "metadata": {
  "kernelspec": {
   "display_name": "Python 3 (ipykernel)",
   "language": "python",
   "name": "python3"
  },
  "language_info": {
   "codemirror_mode": {
    "name": "ipython",
    "version": 3
   },
   "file_extension": ".py",
   "mimetype": "text/x-python",
   "name": "python",
   "nbconvert_exporter": "python",
   "pygments_lexer": "ipython3",
   "version": "3.7.11"
  }
 },
 "nbformat": 4,
 "nbformat_minor": 4
}
