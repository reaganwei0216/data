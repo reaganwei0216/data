{
 "cells": [
  {
   "cell_type": "code",
   "execution_count": 1,
   "metadata": {},
   "outputs": [],
   "source": [
    "# 6.9 使用XGBoost提供的梯度提升處理迴歸問題(XGBRegressor)"
   ]
  },
  {
   "cell_type": "code",
   "execution_count": 2,
   "metadata": {
    "_cell_guid": "b1076dfc-b9ad-4769-8c92-a6c4dae69d19",
    "_uuid": "8f2839f25d086af736a60e9eeb907d3b93b6e0e5",
    "execution": {
     "iopub.execute_input": "2021-12-16T09:42:37.205526Z",
     "iopub.status.busy": "2021-12-16T09:42:37.204362Z",
     "iopub.status.idle": "2021-12-16T09:42:39.022246Z",
     "shell.execute_reply": "2021-12-16T09:42:39.021322Z",
     "shell.execute_reply.started": "2021-12-16T09:42:37.205403Z"
    }
   },
   "outputs": [
    {
     "name": "stdout",
     "output_type": "stream",
     "text": [
      "Gradient Boosting:\n",
      "R-squared: 0.65\n",
      "MSE: 1932.91\n"
     ]
    }
   ],
   "source": [
    "# --- 第 1 部分 ---\n",
    "# 載入函式庫與資料集\n",
    "from sklearn.datasets import load_diabetes\n",
    "from xgboost import XGBRegressor\n",
    "from sklearn import metrics\n",
    "import numpy as np\n",
    "diabetes = load_diabetes()\n",
    "train_size = 400\n",
    "train_x, train_y = diabetes.data[:train_size], diabetes.target[:train_size]\n",
    "test_x, test_y = diabetes.data[train_size:], diabetes.target[train_size:]\n",
    "np.random.seed(123456)\n",
    "\n",
    "# --- 第 2 部分 ---\n",
    "# 初始化模型\n",
    "ensemble_size = 200\n",
    "ensemble = XGBRegressor(n_estimators=ensemble_size,  # 弱學習器數量\n",
    "                        n_jobs=4,                    # 平行程序數 \n",
    "                        max_depth=1,                 # 決策數的最大深度\n",
    "                        learning_rate=0.1,           # 學習率         \n",
    "                        objective ='reg:squarederror') # default\n",
    "\n",
    "# --- 第 3 部分 ---\n",
    "# 訓練模型\n",
    "ensemble.fit(train_x, train_y)\n",
    "predictions = ensemble.predict(test_x)\n",
    "\n",
    "# --- 第 4 部分 ---\n",
    "# 評估模型\n",
    "r2 = metrics.r2_score(test_y, predictions)\n",
    "mse = metrics.mean_squared_error(test_y, predictions)\n",
    "\n",
    "# --- 第 5 部分 ---\n",
    "# 顯示結果\n",
    "print('Gradient Boosting:')\n",
    "print('R-squared: %.2f' % r2)\n",
    "print('MSE: %.2f' % mse)\n"
   ]
  },
  {
   "cell_type": "code",
   "execution_count": null,
   "metadata": {},
   "outputs": [],
   "source": []
  }
 ],
 "metadata": {
  "kernelspec": {
   "display_name": "Python 3 (ipykernel)",
   "language": "python",
   "name": "python3"
  },
  "language_info": {
   "codemirror_mode": {
    "name": "ipython",
    "version": 3
   },
   "file_extension": ".py",
   "mimetype": "text/x-python",
   "name": "python",
   "nbconvert_exporter": "python",
   "pygments_lexer": "ipython3",
   "version": "3.7.11"
  }
 },
 "nbformat": 4,
 "nbformat_minor": 4
}
