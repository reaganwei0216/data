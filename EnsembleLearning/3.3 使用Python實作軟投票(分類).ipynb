{
 "cells": [
  {
   "cell_type": "markdown",
   "metadata": {},
   "source": [
    "# 3.3 使用Python實作軟投票(VotingClassifier)(分類)\n",
    "## 參與軟投票的基學習器，必須能輸入預測機率\n",
    "## voting='soft'"
   ]
  },
  {
   "cell_type": "code",
   "execution_count": 15,
   "metadata": {
    "_cell_guid": "b1076dfc-b9ad-4769-8c92-a6c4dae69d19",
    "_uuid": "8f2839f25d086af736a60e9eeb907d3b93b6e0e5",
    "execution": {
     "iopub.execute_input": "2021-12-20T08:11:55.64808Z",
     "iopub.status.busy": "2021-12-20T08:11:55.647388Z",
     "iopub.status.idle": "2021-12-20T08:11:55.66274Z",
     "shell.execute_reply": "2021-12-20T08:11:55.661917Z",
     "shell.execute_reply.started": "2021-12-20T08:11:55.648046Z"
    }
   },
   "outputs": [],
   "source": [
    "# --- 第 1 部分 ---\n",
    "# 載入函式庫\n",
    "from sklearn import datasets, naive_bayes, svm, neighbors\n",
    "from sklearn.ensemble import VotingClassifier\n",
    "from sklearn.metrics import accuracy_score\n",
    "# 載入資料集\n",
    "breast_cancer = datasets.load_breast_cancer()\n",
    "x, y = breast_cancer.data, breast_cancer.target\n",
    "\n",
    "# 把資料分為訓練資料集與驗證資料集\n",
    "test_samples = 100\n",
    "x_train, y_train = x[:-test_samples], y[:-test_samples]\n",
    "x_test, y_test = x[-test_samples:], y[-test_samples:]\n"
   ]
  },
  {
   "cell_type": "code",
   "execution_count": 16,
   "metadata": {
    "execution": {
     "iopub.execute_input": "2021-12-20T08:11:55.665725Z",
     "iopub.status.busy": "2021-12-20T08:11:55.665111Z",
     "iopub.status.idle": "2021-12-20T08:11:55.671608Z",
     "shell.execute_reply": "2021-12-20T08:11:55.670577Z",
     "shell.execute_reply.started": "2021-12-20T08:11:55.66568Z"
    }
   },
   "outputs": [],
   "source": [
    "# --- 第 2 部分 ---\n",
    "# 初始化基學習器\n",
    "learner_1 = neighbors.KNeighborsClassifier(n_neighbors=5)\n",
    "learner_2 = naive_bayes.GaussianNB()\n",
    "learner_3 = svm.SVC(gamma=0.001, probability=True) # 設定probability=True以輸出預測機率\n"
   ]
  },
  {
   "cell_type": "code",
   "execution_count": 17,
   "metadata": {
    "execution": {
     "iopub.execute_input": "2021-12-20T08:11:55.67316Z",
     "iopub.status.busy": "2021-12-20T08:11:55.672873Z",
     "iopub.status.idle": "2021-12-20T08:11:55.687512Z",
     "shell.execute_reply": "2021-12-20T08:11:55.686615Z",
     "shell.execute_reply.started": "2021-12-20T08:11:55.67312Z"
    }
   },
   "outputs": [],
   "source": [
    "# --- 第 3 部分 ---\n",
    "# 初始化投票分類器\n",
    "voting = VotingClassifier([('KNN', learner_1),\n",
    "                           ('NB', learner_2),\n",
    "                           ('SVM', learner_3)],\n",
    "                            voting='soft')"
   ]
  },
  {
   "cell_type": "code",
   "execution_count": 18,
   "metadata": {
    "execution": {
     "iopub.execute_input": "2021-12-20T08:11:55.69099Z",
     "iopub.status.busy": "2021-12-20T08:11:55.690514Z",
     "iopub.status.idle": "2021-12-20T08:11:55.871209Z",
     "shell.execute_reply": "2021-12-20T08:11:55.870357Z",
     "shell.execute_reply.started": "2021-12-20T08:11:55.690944Z"
    }
   },
   "outputs": [
    {
     "data": {
      "text/plain": [
       "SVC(gamma=0.001, probability=True)"
      ]
     },
     "execution_count": 18,
     "metadata": {},
     "output_type": "execute_result"
    }
   ],
   "source": [
    "# --- 第 4 部分 ---\n",
    "# 用訓練資料訓練分類器\n",
    "voting.fit(x_train, y_train)\n",
    "learner_1.fit(x_train, y_train)\n",
    "learner_2.fit(x_train, y_train)\n",
    "learner_3.fit(x_train, y_train)\n"
   ]
  },
  {
   "cell_type": "code",
   "execution_count": 19,
   "metadata": {
    "execution": {
     "iopub.execute_input": "2021-12-20T08:11:55.874333Z",
     "iopub.status.busy": "2021-12-20T08:11:55.873862Z",
     "iopub.status.idle": "2021-12-20T08:11:55.884027Z",
     "shell.execute_reply": "2021-12-20T08:11:55.883089Z",
     "shell.execute_reply.started": "2021-12-20T08:11:55.874293Z"
    }
   },
   "outputs": [
    {
     "data": {
      "text/plain": [
       "array([1, 1, 1, 1, 1, 1, 1, 0, 1, 1, 0, 1, 0, 1, 1, 0, 1, 1, 0, 1, 0, 1,\n",
       "       0, 0, 1, 1, 1, 1, 1, 0, 0, 1, 0, 1, 0, 1, 1, 1, 1, 1, 0, 1, 1, 0,\n",
       "       1, 0, 1, 0, 0, 1, 1, 1, 0, 1, 1, 1, 1, 1, 1, 1, 1, 1, 1, 1, 0, 1,\n",
       "       0, 1, 1, 1, 1, 1, 0, 1, 1, 1, 1, 1, 1, 1, 1, 1, 1, 1, 1, 1, 1, 1,\n",
       "       1, 1, 1, 1, 1, 0, 0, 0, 0, 0, 0, 1])"
      ]
     },
     "execution_count": 19,
     "metadata": {},
     "output_type": "execute_result"
    }
   ],
   "source": [
    "# --- 第 5 部分 ---\n",
    "# 預測最可能的類別\n",
    "soft_predictions = voting.predict(x_test)\n",
    "soft_predictions"
   ]
  },
  {
   "cell_type": "code",
   "execution_count": 20,
   "metadata": {
    "execution": {
     "iopub.execute_input": "2021-12-20T08:11:55.885902Z",
     "iopub.status.busy": "2021-12-20T08:11:55.88541Z",
     "iopub.status.idle": "2021-12-20T08:11:55.899517Z",
     "shell.execute_reply": "2021-12-20T08:11:55.898549Z",
     "shell.execute_reply.started": "2021-12-20T08:11:55.885858Z"
    }
   },
   "outputs": [],
   "source": [
    "# --- 第 6 部分 ---\n",
    "# 取得基學習器的預測\n",
    "predictions_1 = learner_1.predict(x_test)\n",
    "predictions_2 = learner_2.predict(x_test)\n",
    "predictions_3 = learner_3.predict(x_test)\n"
   ]
  },
  {
   "cell_type": "code",
   "execution_count": 21,
   "metadata": {
    "execution": {
     "iopub.execute_input": "2021-12-20T08:11:55.901394Z",
     "iopub.status.busy": "2021-12-20T08:11:55.90056Z",
     "iopub.status.idle": "2021-12-20T08:11:55.909592Z",
     "shell.execute_reply": "2021-12-20T08:11:55.908853Z",
     "shell.execute_reply.started": "2021-12-20T08:11:55.901355Z"
    }
   },
   "outputs": [
    {
     "name": "stdout",
     "output_type": "stream",
     "text": [
      "L1: 0.94\n",
      "L2: 0.96\n",
      "L3: 0.88\n",
      "------------------------------\n",
      "Soft Voting: 0.94\n"
     ]
    }
   ],
   "source": [
    "# --- 第 7 部分 ---\n",
    "# 基學習器的準確率\n",
    "print('L1:', accuracy_score(y_test, predictions_1))\n",
    "print('L2:', accuracy_score(y_test, predictions_2))\n",
    "print('L3:', accuracy_score(y_test, predictions_3))\n",
    "# 集成後模型的準確率\n",
    "print('-'*30)\n",
    "print('Soft Voting:', accuracy_score(y_test, soft_predictions))\n"
   ]
  },
  {
   "cell_type": "markdown",
   "metadata": {},
   "source": [
    "## 視覺化軟投票的結果"
   ]
  },
  {
   "cell_type": "code",
   "execution_count": 22,
   "metadata": {
    "execution": {
     "iopub.execute_input": "2021-12-20T08:11:55.911211Z",
     "iopub.status.busy": "2021-12-20T08:11:55.910661Z",
     "iopub.status.idle": "2021-12-20T08:11:55.918053Z",
     "shell.execute_reply": "2021-12-20T08:11:55.917258Z",
     "shell.execute_reply.started": "2021-12-20T08:11:55.911178Z"
    }
   },
   "outputs": [],
   "source": [
    "# --- 第 1 部分 ---\n",
    "# 載入函式庫\n",
    "import matplotlib as mpl\n",
    "import matplotlib.pyplot as plt\n",
    "mpl.style.use('seaborn-paper')\n"
   ]
  },
  {
   "cell_type": "code",
   "execution_count": 23,
   "metadata": {
    "execution": {
     "iopub.execute_input": "2021-12-20T08:11:55.921597Z",
     "iopub.status.busy": "2021-12-20T08:11:55.921183Z",
     "iopub.status.idle": "2021-12-20T08:11:55.934739Z",
     "shell.execute_reply": "2021-12-20T08:11:55.933826Z",
     "shell.execute_reply.started": "2021-12-20T08:11:55.921566Z"
    }
   },
   "outputs": [],
   "source": [
    "# --- 第 2 部分 ---\n",
    "# 得到驗證資料集的預測機愈\n",
    "errors = y_test - soft_predictions\n",
    "\n",
    "probabilities_1 = learner_1.predict_proba(x_test)\n",
    "probabilities_2 = learner_2.predict_proba(x_test)\n",
    "probabilities_3 = learner_3.predict_proba(x_test)\n"
   ]
  },
  {
   "cell_type": "code",
   "execution_count": 26,
   "metadata": {
    "execution": {
     "iopub.execute_input": "2021-12-20T08:11:55.936528Z",
     "iopub.status.busy": "2021-12-20T08:11:55.936271Z",
     "iopub.status.idle": "2021-12-20T08:11:55.94262Z",
     "shell.execute_reply": "2021-12-20T08:11:55.94186Z",
     "shell.execute_reply.started": "2021-12-20T08:11:55.936498Z"
    }
   },
   "outputs": [],
   "source": [
    "# --- 第 3 部分 ---\n",
    "# 儲存每一筆被錯誤分類的資料\n",
    "# 在每個基學習器上的預測機率\n",
    "# 以及集成後的預測機率\n",
    "x=[]\n",
    "y_1=[]\n",
    "y_2=[]\n",
    "y_3=[]\n",
    "y_avg=[]\n",
    "\n",
    "for i in range(len(errors)):\n",
    "    if not errors[i] == 0: # 有誤差即分類錯誤的資料\n",
    "        x.append(i)\n",
    "        y_1.append(probabilities_1[i][0])\n",
    "        y_2.append(probabilities_2[i][0])\n",
    "        y_3.append(probabilities_3[i][0])\n",
    "        y_s = probabilities_1[i][0] + probabilities_2[i][0]\n",
    "        y_s = y_s + probabilities_3[i][0]\n",
    "        y_avg.append(y_s / 3)\n"
   ]
  },
  {
   "cell_type": "code",
   "execution_count": 27,
   "metadata": {
    "execution": {
     "iopub.execute_input": "2021-12-20T08:11:55.944403Z",
     "iopub.status.busy": "2021-12-20T08:11:55.943754Z",
     "iopub.status.idle": "2021-12-20T08:11:56.263127Z",
     "shell.execute_reply": "2021-12-20T08:11:56.262168Z",
     "shell.execute_reply.started": "2021-12-20T08:11:55.944374Z"
    }
   },
   "outputs": [
    {
     "data": {
      "image/png": "[encoded data removed]",
      "text/plain": [
       "<Figure size 720x720 with 1 Axes>"
      ]
     },
     "metadata": {
      "needs_background": "light"
     },
     "output_type": "display_data"
    }
   ],
   "source": [
    "# --- 第 4 部分 ---\n",
    "# 繪製在每個基學習器的預測機率\n",
    "plt.figure(figsize = (10,10)) \n",
    "plt.scatter(x, y_1, marker='*', c='k', label='KNN', zorder=10)\n",
    "plt.scatter(x, y_2, marker='.', c='k', label='NB', zorder=10)\n",
    "plt.scatter(x, y_3, marker='o', c='k', label='SVM', zorder=10)\n",
    "plt.scatter(x, y_avg, marker='x', c='k', label='Average Positive', zorder=10)\n",
    "\n",
    "y = [0.5 for x in range(len(errors))]\n",
    "plt.plot(y, c='k', linestyle='--')\n",
    "\n",
    "plt.title('Positive Probability')\n",
    "plt.xlabel('Test sample')\n",
    "plt.ylabel('probability')\n",
    "plt.legend()\n",
    "plt.show()"
   ]
  },
  {
   "cell_type": "markdown",
   "metadata": {},
   "source": [
    "## 將原先learner_3的支援向量機改成k近鄰演算法(k=50) "
   ]
  },
  {
   "cell_type": "code",
   "execution_count": 28,
   "metadata": {
    "execution": {
     "iopub.execute_input": "2021-12-20T08:11:56.265382Z",
     "iopub.status.busy": "2021-12-20T08:11:56.265052Z",
     "iopub.status.idle": "2021-12-20T08:11:56.588891Z",
     "shell.execute_reply": "2021-12-20T08:11:56.587847Z",
     "shell.execute_reply.started": "2021-12-20T08:11:56.265339Z"
    }
   },
   "outputs": [
    {
     "name": "stdout",
     "output_type": "stream",
     "text": [
      "L1: 0.94\n",
      "L2: 0.96\n",
      "L3: 0.95\n",
      "------------------------------\n",
      "Soft Voting: 0.97\n"
     ]
    },
    {
     "data": {
      "image/png": "[encoded data removed]",
      "text/plain": [
       "<Figure size 720x720 with 1 Axes>"
      ]
     },
     "metadata": {
      "needs_background": "light"
     },
     "output_type": "display_data"
    }
   ],
   "source": [
    "# 載入函式庫\n",
    "from sklearn import datasets, naive_bayes, svm, neighbors\n",
    "from sklearn.ensemble import VotingClassifier\n",
    "from sklearn.metrics import accuracy_score\n",
    "# 載入資料集\n",
    "breast_cancer = datasets.load_breast_cancer()\n",
    "x, y = breast_cancer.data, breast_cancer.target\n",
    "\n",
    "# 把資料分為訓練資料集與驗證資料集\n",
    "test_samples = 100\n",
    "x_train, y_train = x[:-test_samples], y[:-test_samples]\n",
    "x_test, y_test = x[-test_samples:], y[-test_samples:]\n",
    "\n",
    "# 初始化基學習器\n",
    "learner_1 = neighbors.KNeighborsClassifier(n_neighbors=5)\n",
    "learner_2 = naive_bayes.GaussianNB()\n",
    "learner_3 = neighbors.KNeighborsClassifier(n_neighbors=50)\n",
    "\n",
    "# 初始化投票分類器\n",
    "voting = VotingClassifier([('KNN1', learner_1),\n",
    "                           ('KNN2', learner_2),\n",
    "                           ('SVM', learner_3)],\n",
    "                            voting='soft')\n",
    "\n",
    "# 用訓練資料訓練分類器\n",
    "voting.fit(x_train, y_train)\n",
    "learner_1.fit(x_train, y_train)\n",
    "learner_2.fit(x_train, y_train)\n",
    "learner_3.fit(x_train, y_train)\n",
    "\n",
    "# 預測最可能的類別\n",
    "soft_predictions = voting.predict(x_test)\n",
    "\n",
    "# 取得基學習器的預測\n",
    "predictions_1 = learner_1.predict(x_test)\n",
    "predictions_2 = learner_2.predict(x_test)\n",
    "predictions_3 = learner_3.predict(x_test)\n",
    "\n",
    "# 基學習器的準確率\n",
    "print('L1:', accuracy_score(y_test, predictions_1))\n",
    "print('L2:', accuracy_score(y_test, predictions_2))\n",
    "print('L3:', accuracy_score(y_test, predictions_3))\n",
    "# 集成後模型的準確率\n",
    "print('-'*30)\n",
    "print('Soft Voting:', accuracy_score(y_test, soft_predictions))\n",
    "\n",
    "# 載入函式庫\n",
    "import matplotlib as mpl\n",
    "import matplotlib.pyplot as plt\n",
    "mpl.style.use('seaborn-paper')\n",
    "\n",
    "# 得到驗證資料集的預測機愈\n",
    "errors = y_test - soft_predictions\n",
    "\n",
    "probabilities_1 = learner_1.predict_proba(x_test)\n",
    "probabilities_2 = learner_2.predict_proba(x_test)\n",
    "probabilities_3 = learner_3.predict_proba(x_test)\n",
    "\n",
    "# 儲存每一筆被錯誤分類的資料\n",
    "# 在每個基學習器上的預測機率\n",
    "# 以及集成後的預測機率\n",
    "x=[]\n",
    "y_1=[]\n",
    "y_2=[]\n",
    "y_3=[]\n",
    "y_avg=[]\n",
    "\n",
    "for i in range(len(errors)):\n",
    "    if not errors[i] == 0:\n",
    "        x.append(i)\n",
    "        y_1.append(probabilities_1[i][0])\n",
    "        y_2.append(probabilities_2[i][0])\n",
    "        y_3.append(probabilities_3[i][0])\n",
    "        y_avg.append((probabilities_1[i][0]+probabilities_2[i][0]+probabilities_3[i][0])/3)\n",
    "\n",
    "# 繪製在每個基學習器的預測機率\n",
    "plt.figure(figsize = (10,10)) \n",
    "plt.scatter(x, y_1, marker='*', c='k', label='KNN', zorder=10)\n",
    "plt.scatter(x, y_2, marker='.', c='k', label='NB', zorder=10)\n",
    "plt.scatter(x, y_3, marker='o', c='k', label='SVM', zorder=10)\n",
    "plt.scatter(x, y_avg, marker='x', c='k', label='Average Positive', zorder=10)\n",
    "\n",
    "y = [0.5 for x in range(len(errors))]\n",
    "plt.plot(y, c='k', linestyle='--')\n",
    "\n",
    "plt.title('Positive Probability')\n",
    "plt.xlabel('Test sample')\n",
    "plt.ylabel('probability')\n",
    "plt.legend()\n",
    "plt.show()"
   ]
  },
  {
   "cell_type": "code",
   "execution_count": null,
   "metadata": {},
   "outputs": [],
   "source": []
  }
 ],
 "metadata": {
  "kernelspec": {
   "display_name": "Python 3 (ipykernel)",
   "language": "python",
   "name": "python3"
  },
  "language_info": {
   "codemirror_mode": {
    "name": "ipython",
    "version": 3
   },
   "file_extension": ".py",
   "mimetype": "text/x-python",
   "name": "python",
   "nbconvert_exporter": "python",
   "pygments_lexer": "ipython3",
   "version": "3.7.11"
  }
 },
 "nbformat": 4,
 "nbformat_minor": 4
}
