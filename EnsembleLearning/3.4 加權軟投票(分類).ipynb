{
 "cells": [
  {
   "cell_type": "markdown",
   "metadata": {},
   "source": [
    "# 3.4 加權軟投票(分類)"
   ]
  },
  {
   "cell_type": "markdown",
   "metadata": {},
   "source": [
    "## 使用驗證資料來找到各個基學習器的最佳權重\n",
    "### 先訓練基學習器，接著使用基學習器輸出驗證資料的預測機率，接下來找一組最佳的權重組合，可以讓加權平均後的預測值，在驗證資料集上得到最高的分數。"
   ]
  },
  {
   "cell_type": "code",
   "execution_count": 2,
   "metadata": {
    "_cell_guid": "b1076dfc-b9ad-4769-8c92-a6c4dae69d19",
    "_uuid": "8f2839f25d086af736a60e9eeb907d3b93b6e0e5",
    "execution": {
     "iopub.execute_input": "2021-11-11T08:18:10.098365Z",
     "iopub.status.busy": "2021-11-11T08:18:10.098014Z",
     "iopub.status.idle": "2021-11-11T08:18:10.116102Z",
     "shell.execute_reply": "2021-11-11T08:18:10.115538Z",
     "shell.execute_reply.started": "2021-11-11T08:18:10.098322Z"
    }
   },
   "outputs": [],
   "source": [
    "# --- 第 1 部分 ---\n",
    "# 載入函式庫\n",
    "from sklearn import datasets, naive_bayes, svm, neighbors\n",
    "from sklearn.ensemble import VotingClassifier\n",
    "from sklearn.metrics import accuracy_score\n",
    "import numpy as np\n",
    "# 載入資料集\n",
    "breast_cancer = datasets.load_breast_cancer()\n",
    "x, y = breast_cancer.data, breast_cancer.target\n",
    "\n",
    "# 把資料分為訓練資料集與驗證資料集\n",
    "test_samples = 100\n",
    "x_train, y_train = x[:-test_samples], y[:-test_samples]\n",
    "x_test, y_test = x[-test_samples:], y[-test_samples:]\n"
   ]
  },
  {
   "cell_type": "code",
   "execution_count": 3,
   "metadata": {
    "execution": {
     "iopub.execute_input": "2021-11-11T08:18:10.117966Z",
     "iopub.status.busy": "2021-11-11T08:18:10.117589Z",
     "iopub.status.idle": "2021-11-11T08:18:10.122664Z",
     "shell.execute_reply": "2021-11-11T08:18:10.121938Z",
     "shell.execute_reply.started": "2021-11-11T08:18:10.117935Z"
    }
   },
   "outputs": [],
   "source": [
    "# --- 第 2 部分 ---\n",
    "# 初始化基學習器\n",
    "learner_1 = neighbors.KNeighborsClassifier(n_neighbors=5)\n",
    "learner_2 = naive_bayes.GaussianNB()\n",
    "learner_3 = svm.SVC(gamma=0.001, probability=True)\n",
    "\n",
    "# 訓練基學習器\n",
    "learner_1.fit(x_train, y_train)\n",
    "learner_2.fit(x_train, y_train)\n",
    "learner_3.fit(x_train, y_train)\n",
    "\n",
    "# 取得基學習器的預測\n",
    "prob_1 = learner_1.predict_proba(x_test)\n",
    "prob_2 = learner_2.predict_proba(x_test)\n",
    "prob_3 = learner_3.predict_proba(x_test)"
   ]
  },
  {
   "cell_type": "code",
   "execution_count": 4,
   "metadata": {
    "execution": {
     "iopub.execute_input": "2021-11-11T08:22:03.963727Z",
     "iopub.status.busy": "2021-11-11T08:22:03.963472Z",
     "iopub.status.idle": "2021-11-11T08:22:05.746968Z",
     "shell.execute_reply": "2021-11-11T08:22:05.746157Z",
     "shell.execute_reply.started": "2021-11-11T08:22:03.963702Z"
    }
   },
   "outputs": [
    {
     "name": "stdout",
     "output_type": "stream",
     "text": [
      "Weight: [0.18181818 0.50505051 0.31313131]\n",
      "Weighted Soft Voting: 0.97\n"
     ]
    }
   ],
   "source": [
    "best = 0\n",
    "best_weight = np.zeros(3)\n",
    "space = np.linspace(start = 0, stop = 1, num = 100) # Numpy 中的 linspace 函數可以在一定範圍內來均勻地撒點，在0到1之間產生100個點\n",
    "for weight_1 in space:\n",
    "    for weight_2 in space:\n",
    "        if((weight_1 + weight_2) <= 1):\n",
    "            prob_avg = weight_1 * prob_1 + weight_2 * prob_2 + (1 - weight_1 - weight_2) * prob_3\n",
    "            pred = [np.argmax(row) for row in prob_avg]\n",
    "            score = accuracy_score(y_test, pred)\n",
    "            if(score > best):\n",
    "                best = score\n",
    "                best_weight[0] = weight_1\n",
    "                best_weight[1] = weight_2\n",
    "                best_weight[2] = 1 - weight_1 - weight_2\n",
    "            \n",
    "print('Weight:', best_weight)\n",
    "print('Weighted Soft Voting:', best)\n"
   ]
  },
  {
   "cell_type": "code",
   "execution_count": null,
   "metadata": {},
   "outputs": [],
   "source": []
  }
 ],
 "metadata": {
  "kernelspec": {
   "display_name": "Python 3 (ipykernel)",
   "language": "python",
   "name": "python3"
  },
  "language_info": {
   "codemirror_mode": {
    "name": "ipython",
    "version": 3
   },
   "file_extension": ".py",
   "mimetype": "text/x-python",
   "name": "python",
   "nbconvert_exporter": "python",
   "pygments_lexer": "ipython3",
   "version": "3.7.11"
  }
 },
 "nbformat": 4,
 "nbformat_minor": 4
}
