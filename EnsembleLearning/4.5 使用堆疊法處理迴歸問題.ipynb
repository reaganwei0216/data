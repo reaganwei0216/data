{
 "cells": [
  {
   "cell_type": "markdown",
   "metadata": {},
   "source": [
    "# 4.5 使用堆疊法處理迴歸問題"
   ]
  },
  {
   "cell_type": "code",
   "execution_count": 40,
   "metadata": {
    "_cell_guid": "b1076dfc-b9ad-4769-8c92-a6c4dae69d19",
    "_uuid": "8f2839f25d086af736a60e9eeb907d3b93b6e0e5",
    "execution": {
     "iopub.execute_input": "2021-12-22T03:51:56.046448Z",
     "iopub.status.busy": "2021-12-22T03:51:56.045929Z",
     "iopub.status.idle": "2021-12-22T03:51:56.068981Z",
     "shell.execute_reply": "2021-12-22T03:51:56.068286Z",
     "shell.execute_reply.started": "2021-12-22T03:51:56.046404Z"
    }
   },
   "outputs": [],
   "source": [
    "# --- 第 1 部分 ---\n",
    "# 載入函式庫與資料集\n",
    "from sklearn.datasets import load_diabetes\n",
    "from sklearn.neighbors import KNeighborsRegressor\n",
    "from sklearn.tree import DecisionTreeRegressor\n",
    "from sklearn.linear_model import LinearRegression, Ridge\n",
    "from sklearn.model_selection import KFold\n",
    "from sklearn import metrics\n",
    "import numpy as np\n",
    "diabetes = load_diabetes()\n",
    "\n",
    "train_x, train_y = diabetes.data[:400], diabetes.target[:400]\n",
    "test_x, test_y = diabetes.data[400:], diabetes.target[400:]\n"
   ]
  },
  {
   "cell_type": "code",
   "execution_count": 41,
   "metadata": {
    "execution": {
     "iopub.execute_input": "2021-12-22T03:51:56.071321Z",
     "iopub.status.busy": "2021-12-22T03:51:56.070253Z",
     "iopub.status.idle": "2021-12-22T03:51:56.077752Z",
     "shell.execute_reply": "2021-12-22T03:51:56.077013Z",
     "shell.execute_reply.started": "2021-12-22T03:51:56.071276Z"
    }
   },
   "outputs": [],
   "source": [
    "# --- 第 2 部分 ---\n",
    "# 建立基學習器與超學習器\n",
    "# 將基學習器放到串列中\n",
    "base_learners = []\n",
    "\n",
    "knn = KNeighborsRegressor(n_neighbors = 5)\n",
    "base_learners.append(knn)\n",
    "\n",
    "dtr = DecisionTreeRegressor(max_depth = 4, random_state = 123456)\n",
    "base_learners.append(dtr)\n",
    "\n",
    "ridge = Ridge()\n",
    "base_learners.append(ridge)\n",
    "\n",
    "meta_learner = LinearRegression() # 超學習器為線性迴歸"
   ]
  },
  {
   "cell_type": "code",
   "execution_count": 42,
   "metadata": {
    "execution": {
     "iopub.execute_input": "2021-12-22T03:51:56.079543Z",
     "iopub.status.busy": "2021-12-22T03:51:56.078757Z",
     "iopub.status.idle": "2021-12-22T03:51:56.117303Z",
     "shell.execute_reply": "2021-12-22T03:51:56.115834Z",
     "shell.execute_reply.started": "2021-12-22T03:51:56.07951Z"
    }
   },
   "outputs": [],
   "source": [
    "# --- 第 3 部分 ---\n",
    "# 產生訓練超學習器用的中繼資料\n",
    "\n",
    "# 建立變數以儲存中繼資料及其標籤\n",
    "meta_data = np.zeros((len(base_learners), len(train_x))) # meta_data.shape (3, 400)\n",
    "meta_targets = np.zeros(len(train_x))                    # meta_targets.shape (400,) \n",
    "\n",
    "# 進行交叉驗證\n",
    "KF = KFold(n_splits=5) # 使用KFold函式並指訂將資料分成5折，傳回這5折資料的索引\n",
    "index = 0\n",
    "for train_indices, test_indices in KF.split(train_x): # train_indices包含4/5的資料索引 ,test_indices包含1/5的資料索引\n",
    "    # 前K-1折是訓練資料集\n",
    "    # 第K折是驗證資料集\n",
    "    for i in range(len(base_learners)):\n",
    "        learner = base_learners[i]\n",
    "        learner.fit(train_x[train_indices], train_y[train_indices])\n",
    "        p = learner.predict(train_x[test_indices])\n",
    "        meta_data[i][index:index + len(test_indices)] = p\n",
    "\n",
    "    meta_targets[index:index + \n",
    "                 len(test_indices)] = train_y[test_indices]\n",
    "    index += len(test_indices)\n",
    "\n",
    "# 中繼資料的特徵存在meta_data陣列\n",
    "# 中繼資料的標籤存在meta_targets陣列        \n",
    "    \n",
    "# 將中繼資料轉置為超學習器需要的形式，使陣列的每一列是一筆資料，每一行是一個基學習器的預測值\n",
    "meta_data = meta_data.transpose()  # meta_data.shape (400, 3)"
   ]
  },
  {
   "cell_type": "code",
   "execution_count": 43,
   "metadata": {
    "execution": {
     "iopub.execute_input": "2021-12-22T03:51:56.119378Z",
     "iopub.status.busy": "2021-12-22T03:51:56.119115Z",
     "iopub.status.idle": "2021-12-22T03:51:56.134882Z",
     "shell.execute_reply": "2021-12-22T03:51:56.133902Z",
     "shell.execute_reply.started": "2021-12-22T03:51:56.119341Z"
    }
   },
   "outputs": [],
   "source": [
    "# --- 第 4 部分 ---\n",
    "# 產生超學習器的測試資料\n",
    "test_meta_data = np.zeros((len(base_learners), len(test_x))) # test_meta_data.shape (3, 42)\n",
    "base_errors = []\n",
    "base_r2 = []\n",
    "for i in range(len(base_learners)):\n",
    "    learner = base_learners[i]\n",
    "    learner.fit(train_x, train_y)\n",
    "    predictions = learner.predict(test_x)\n",
    "    test_meta_data[i] = predictions\n",
    "\n",
    "    err = metrics.mean_squared_error(test_y, predictions)\n",
    "    r2 = metrics.r2_score(test_y, predictions)\n",
    "\n",
    "    base_errors.append(err)\n",
    "    base_r2.append(r2)\n",
    "\n",
    "test_meta_data = test_meta_data.transpose()  # test_meta_data.shape (42, 3)\n"
   ]
  },
  {
   "cell_type": "code",
   "execution_count": 44,
   "metadata": {
    "execution": {
     "iopub.execute_input": "2021-12-22T03:51:56.13727Z",
     "iopub.status.busy": "2021-12-22T03:51:56.136509Z",
     "iopub.status.idle": "2021-12-22T03:51:56.145175Z",
     "shell.execute_reply": "2021-12-22T03:51:56.14449Z",
     "shell.execute_reply.started": "2021-12-22T03:51:56.137222Z"
    }
   },
   "outputs": [],
   "source": [
    "# --- 第 5 部分 ---\n",
    "# 訓練超學習器\n",
    "meta_learner.fit(meta_data, meta_targets)\n",
    "ensemble_predictions = meta_learner.predict(test_meta_data)\n",
    "\n",
    "err = metrics.mean_squared_error(test_y, ensemble_predictions)\n",
    "r2 = metrics.r2_score(test_y, ensemble_predictions)\n"
   ]
  },
  {
   "cell_type": "code",
   "execution_count": 45,
   "metadata": {
    "execution": {
     "iopub.execute_input": "2021-12-22T03:51:56.147251Z",
     "iopub.status.busy": "2021-12-22T03:51:56.146134Z",
     "iopub.status.idle": "2021-12-22T03:51:56.164515Z",
     "shell.execute_reply": "2021-12-22T03:51:56.163729Z",
     "shell.execute_reply.started": "2021-12-22T03:51:56.147215Z"
    }
   },
   "outputs": [
    {
     "name": "stdout",
     "output_type": "stream",
     "text": [
      "ERROR  R2  Name\n",
      "--------------------\n",
      "2697.8 0.51 KNeighborsRegressor\n",
      "3142.5 0.43 DecisionTreeRegressor\n",
      "2564.8 0.54 Ridge\n",
      "2066.6 0.63 Ensemble\n"
     ]
    }
   ],
   "source": [
    "# --- 第 6 部分 ---\n",
    "# 顯示結果\n",
    "print('ERROR  R2  Name')\n",
    "print('-'*20)\n",
    "for i in range(len(base_learners)):\n",
    "    e = base_errors[i]\n",
    "    r = base_r2[i]\n",
    "    b = base_learners[i]\n",
    "\n",
    "    print(f'{e:.1f} {r:.2f} {b.__class__.__name__}')\n",
    "print(f'{err:.1f} {r2:.2f} Ensemble')\n"
   ]
  },
  {
   "cell_type": "code",
   "execution_count": null,
   "metadata": {},
   "outputs": [],
   "source": []
  },
  {
   "cell_type": "code",
   "execution_count": null,
   "metadata": {},
   "outputs": [],
   "source": []
  }
 ],
 "metadata": {
  "kernelspec": {
   "display_name": "Python 3 (ipykernel)",
   "language": "python",
   "name": "python3"
  },
  "language_info": {
   "codemirror_mode": {
    "name": "ipython",
    "version": 3
   },
   "file_extension": ".py",
   "mimetype": "text/x-python",
   "name": "python",
   "nbconvert_exporter": "python",
   "pygments_lexer": "ipython3",
   "version": "3.7.11"
  }
 },
 "nbformat": 4,
 "nbformat_minor": 4
}
