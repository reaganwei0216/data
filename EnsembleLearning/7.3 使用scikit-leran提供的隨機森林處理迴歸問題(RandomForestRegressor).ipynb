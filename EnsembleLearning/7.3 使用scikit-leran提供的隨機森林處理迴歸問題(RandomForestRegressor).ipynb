{
 "cells": [
  {
   "cell_type": "code",
   "execution_count": null,
   "metadata": {},
   "outputs": [],
   "source": [
    "# 7.3 使用scikit-leran提供的隨機森林處理迴歸問題(RandomForestRegressor)"
   ]
  },
  {
   "cell_type": "code",
   "execution_count": 3,
   "metadata": {
    "_cell_guid": "b1076dfc-b9ad-4769-8c92-a6c4dae69d19",
    "_uuid": "8f2839f25d086af736a60e9eeb907d3b93b6e0e5",
    "execution": {
     "iopub.execute_input": "2021-11-23T07:37:50.637667Z",
     "iopub.status.busy": "2021-11-23T07:37:50.637367Z",
     "iopub.status.idle": "2021-11-23T07:37:50.660969Z",
     "shell.execute_reply": "2021-11-23T07:37:50.660138Z",
     "shell.execute_reply.started": "2021-11-23T07:37:50.637635Z"
    }
   },
   "outputs": [],
   "source": [
    "# --- 第 1 部分 ---\n",
    "# 載入函式庫與資料集\n",
    "from copy import deepcopy\n",
    "from sklearn.datasets import load_diabetes\n",
    "from sklearn.ensemble import RandomForestRegressor\n",
    "from sklearn import metrics\n",
    "\n",
    "import numpy as np\n",
    "\n",
    "diabetes = load_diabetes()\n",
    "\n",
    "train_size = 400\n",
    "train_x, train_y = diabetes.data[:train_size], diabetes.target[:train_size]\n",
    "test_x, test_y = diabetes.data[train_size:], diabetes.target[train_size:]\n",
    "\n",
    "np.random.seed(123456)\n"
   ]
  },
  {
   "cell_type": "code",
   "execution_count": 12,
   "metadata": {
    "execution": {
     "iopub.execute_input": "2021-11-23T07:37:50.662752Z",
     "iopub.status.busy": "2021-11-23T07:37:50.662503Z",
     "iopub.status.idle": "2021-11-23T07:37:50.668133Z",
     "shell.execute_reply": "2021-11-23T07:37:50.667143Z",
     "shell.execute_reply.started": "2021-11-23T07:37:50.662722Z"
    }
   },
   "outputs": [],
   "source": [
    "# --- 第 2 部分 ---\n",
    "# 初始化模型\n",
    "ensemble_size = 1000\n",
    "ensemble = RandomForestRegressor(n_estimators=ensemble_size,   # 指定基學習器的數量\n",
    "                                 n_jobs=4,                     # 決定平行程序的數目   \n",
    "                                 min_samples_leaf=20)                     \n"
   ]
  },
  {
   "cell_type": "code",
   "execution_count": 13,
   "metadata": {
    "execution": {
     "iopub.execute_input": "2021-11-23T07:37:50.669833Z",
     "iopub.status.busy": "2021-11-23T07:37:50.669514Z",
     "iopub.status.idle": "2021-11-23T07:37:51.138922Z",
     "shell.execute_reply": "2021-11-23T07:37:51.137988Z",
     "shell.execute_reply.started": "2021-11-23T07:37:50.669779Z"
    }
   },
   "outputs": [],
   "source": [
    "# --- 第 3 部分 ---\n",
    "# 訓練模型\n",
    "ensemble.fit(train_x, train_y)\n",
    "predictions = ensemble.predict(test_x)\n"
   ]
  },
  {
   "cell_type": "code",
   "execution_count": 14,
   "metadata": {
    "execution": {
     "iopub.execute_input": "2021-11-23T07:37:51.140486Z",
     "iopub.status.busy": "2021-11-23T07:37:51.140236Z",
     "iopub.status.idle": "2021-11-23T07:37:51.353057Z",
     "shell.execute_reply": "2021-11-23T07:37:51.352018Z",
     "shell.execute_reply.started": "2021-11-23T07:37:51.140454Z"
    }
   },
   "outputs": [],
   "source": [
    "# --- 第 4 部分 ---\n",
    "# 評估模型\n",
    "train_r2 = metrics.r2_score(train_y, \n",
    "                            ensemble.predict(train_x))\n",
    "train_mse = metrics.mean_squared_error(train_y, \n",
    "                                       ensemble.predict(train_x))\n",
    "\n",
    "test_r2 = metrics.r2_score(test_y, predictions)\n",
    "test_mse = metrics.mean_squared_error(test_y, predictions)\n"
   ]
  },
  {
   "cell_type": "code",
   "execution_count": 15,
   "metadata": {
    "execution": {
     "iopub.execute_input": "2021-11-23T07:37:51.355406Z",
     "iopub.status.busy": "2021-11-23T07:37:51.355107Z",
     "iopub.status.idle": "2021-11-23T07:37:51.361855Z",
     "shell.execute_reply": "2021-11-23T07:37:51.361215Z",
     "shell.execute_reply.started": "2021-11-23T07:37:51.355371Z"
    }
   },
   "outputs": [
    {
     "name": "stdout",
     "output_type": "stream",
     "text": [
      "Random Forest Train:\n",
      "R-squared: 0.55\n",
      "MSE: 2675.90\n",
      "Random Forest Test:\n",
      "R-squared: 0.61\n",
      "MSE: 2160.98\n"
     ]
    }
   ],
   "source": [
    "# --- 第 5 部分 ---\n",
    "# 顯示結果\n",
    "print('Random Forest Train:')\n",
    "print('R-squared: %.2f' % train_r2)\n",
    "print('MSE: %.2f' % train_mse)\n",
    "print('Random Forest Test:')\n",
    "print('R-squared: %.2f' % test_r2)\n",
    "print('MSE: %.2f' % test_mse)\n"
   ]
  },
  {
   "cell_type": "code",
   "execution_count": null,
   "metadata": {},
   "outputs": [],
   "source": []
  },
  {
   "cell_type": "code",
   "execution_count": null,
   "metadata": {},
   "outputs": [],
   "source": []
  }
 ],
 "metadata": {
  "kernelspec": {
   "display_name": "Python 3 (ipykernel)",
   "language": "python",
   "name": "python3"
  },
  "language_info": {
   "codemirror_mode": {
    "name": "ipython",
    "version": 3
   },
   "file_extension": ".py",
   "mimetype": "text/x-python",
   "name": "python",
   "nbconvert_exporter": "python",
   "pygments_lexer": "ipython3",
   "version": "3.7.11"
  }
 },
 "nbformat": 4,
 "nbformat_minor": 4
}
