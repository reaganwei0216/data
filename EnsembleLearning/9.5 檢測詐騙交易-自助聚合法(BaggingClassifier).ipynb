{
 "cells": [
  {
   "cell_type": "code",
   "execution_count": null,
   "metadata": {
    "_cell_guid": "b1076dfc-b9ad-4769-8c92-a6c4dae69d19",
    "_uuid": "8f2839f25d086af736a60e9eeb907d3b93b6e0e5",
    "execution": {
     "iopub.execute_input": "2021-12-23T08:52:52.18543Z",
     "iopub.status.busy": "2021-12-23T08:52:52.185089Z",
     "iopub.status.idle": "2021-12-23T08:55:22.165177Z",
     "shell.execute_reply": "2021-12-23T08:55:22.164329Z",
     "shell.execute_reply.started": "2021-12-23T08:52:52.185395Z"
    }
   },
   "outputs": [],
   "source": [
    "# --- 第 1 部分 ---\n",
    "# 載入函式庫與資料集\n",
    "from sklearn.datasets import load_digits\n",
    "from sklearn.tree import DecisionTreeClassifier\n",
    "from sklearn.ensemble import BaggingClassifier\n",
    "from sklearn.model_selection import validation_curve\n",
    "from sklearn.model_selection import train_test_split\n",
    "from sklearn import metrics\n",
    "import warnings\n",
    "import matplotlib.pyplot as plt\n",
    "import numpy as np\n",
    "import pandas as pd\n",
    "\n",
    "warnings.filterwarnings(\"ignore\")\n",
    "\n",
    "np.random.seed(123456)\n",
    "data = pd.read_csv('../Data/creditcard.csv')\n",
    "data.Time = (data.Time-data.Time.min())/data.Time.std()\n",
    "data.Amount = (data.Amount-data.Amount.mean())/data.Amount.std()\n",
    "\n",
    "# 把資料分為 70% 訓練資料集與 30% 測試資料集\n",
    "x_train, x_test, y_train, y_test = train_test_split(data.drop('Class', axis=1).values, \n",
    "                                                    data.Class.values, \n",
    "                                                    test_size=0.3)\n",
    "\n",
    "# --- 第 2 部分 ---\n",
    "# 計算訓練資料集以及驗證資料集準確率\n",
    "x, y = x_train, y_train\n",
    "learner = BaggingClassifier(base_estimator = DecisionTreeClassifier(max_depth = 10),\n",
    "                            oob_score=True) # default=False ;True 計算基學習器的袋外分數\n",
    "# 用驗證曲線來看5到30個基學習器的自助聚合結果差異\n",
    "param_range = [x for x in range(5, 31)]\n",
    "train_scores, test_scores = validation_curve(\n",
    "    learner, x, y,\n",
    "    param_name = 'n_estimators',\n",
    "    param_range = param_range,\n",
    "    cv = 10,\n",
    "    scoring = \"f1\", \n",
    "    n_jobs = -1)\n",
    "\n",
    "# --- 第 3 部分 ---\n",
    "# 對每個超參數計算模型準確率的平均數與標準差\n",
    "train_scores_mean = np.mean(train_scores, axis=1)\n",
    "train_scores_std = np.std(train_scores, axis=1)\n",
    "test_scores_mean = np.mean(test_scores, axis=1)\n",
    "test_scores_std = np.std(test_scores, axis=1)\n",
    "\n",
    "\n",
    "# --- 第 4 部分 ---\n",
    "# 繪製折線圖\n",
    "plt.figure(figsize = (8, 8))\n",
    "plt.title('Validation curves')\n",
    "# 繪製標準差\n",
    "plt.fill_between(param_range, train_scores_mean - train_scores_std,\n",
    "                 train_scores_mean + train_scores_std, alpha=0.1,\n",
    "                 color=\"C1\")\n",
    "plt.fill_between(param_range, test_scores_mean - test_scores_std,\n",
    "                 test_scores_mean + test_scores_std, alpha=0.1, color=\"C0\")\n",
    "# 繪製平均數\n",
    "plt.plot(param_range, train_scores_mean, 'o-', color=\"C1\",\n",
    "         label=\"Training score\")\n",
    "plt.plot(param_range, test_scores_mean, 'o-', color=\"C0\",\n",
    "         label=\"Cross-validation score\")\n",
    "\n",
    "plt.xticks(param_range)\n",
    "plt.xlabel('Ensemble Size')\n",
    "plt.ylabel('F1 Score')\n",
    "plt.legend(loc=\"best\")"
   ]
  },
  {
   "cell_type": "code",
   "execution_count": null,
   "metadata": {
    "execution": {
     "iopub.execute_input": "2021-12-23T08:55:22.167636Z",
     "iopub.status.busy": "2021-12-23T08:55:22.167194Z",
     "iopub.status.idle": "2021-12-23T08:56:22.415586Z",
     "shell.execute_reply": "2021-12-23T08:56:22.414534Z",
     "shell.execute_reply.started": "2021-12-23T08:55:22.167586Z"
    }
   },
   "outputs": [],
   "source": [
    "# --- 第 5 部分 ---\n",
    "# 進行集成\n",
    "# 原始訓練資料\n",
    "ensemble = BaggingClassifier(n_estimators = 7,\n",
    "                             base_estimator = DecisionTreeClassifier(max_depth = 10))\n",
    "ensemble.fit(x_train, y_train)\n",
    "print('原始訓練資料:')\n",
    "print('Bagging f1', metrics.f1_score(y_test, ensemble.predict(x_test)))\n",
    "print('Bagging recall', metrics.recall_score(y_test, ensemble.predict(x_test)))\n"
   ]
  },
  {
   "cell_type": "code",
   "execution_count": null,
   "metadata": {
    "execution": {
     "iopub.execute_input": "2021-12-23T08:56:22.417735Z",
     "iopub.status.busy": "2021-12-23T08:56:22.417461Z",
     "iopub.status.idle": "2021-12-23T08:56:45.44723Z",
     "shell.execute_reply": "2021-12-23T08:56:45.446008Z",
     "shell.execute_reply.started": "2021-12-23T08:56:22.417702Z"
    }
   },
   "outputs": [],
   "source": [
    "# --- 第 6 部分 ---\n",
    "\n",
    "# 過濾低相關性的資料\n",
    "# 篩選特徵\n",
    "threshold = 0.1\n",
    "\n",
    "correlations = data.corr()['Class'].drop('Class')\n",
    "fs = list(correlations[(abs(correlations)>threshold)].index.values)\n",
    "fs.append('Class')\n",
    "data = data[fs]\n",
    "\n",
    "x_train_f, x_test_f, y_train_f, y_test_f = train_test_split(data.drop('Class', axis = 1).values, \n",
    "                                                            data.Class.values, \n",
    "                                                            test_size = 0.3)\n",
    "\n",
    "ensemble = BaggingClassifier(n_estimators = 7,\n",
    "                             base_estimator = \n",
    "                             DecisionTreeClassifier(max_depth = 10))\n",
    "ensemble.fit(x_train_f, y_train_f)\n",
    "print('過濾低相關性的資料:')\n",
    "print('Bagging f1', metrics.f1_score(y_test_f, ensemble.predict(x_test_f)))\n",
    "print('Bagging recall', metrics.recall_score(y_test_f, ensemble.predict(x_test_f)))\n"
   ]
  },
  {
   "cell_type": "code",
   "execution_count": null,
   "metadata": {
    "execution": {
     "iopub.execute_input": "2021-12-23T08:56:45.45078Z",
     "iopub.status.busy": "2021-12-23T08:56:45.449282Z",
     "iopub.status.idle": "2021-12-23T08:58:33.275999Z",
     "shell.execute_reply": "2021-12-23T08:58:33.275277Z",
     "shell.execute_reply.started": "2021-12-23T08:56:45.45074Z"
    }
   },
   "outputs": [],
   "source": [
    "# --- 第 7 部分 ---\n",
    "# 增加最大深度，從原本的10提高到15\n",
    "# 原始訓練資料\n",
    "ensemble = BaggingClassifier(n_estimators = 7,\n",
    "                             base_estimator = DecisionTreeClassifier(max_depth = 15))\n",
    "ensemble.fit(x_train, y_train)\n",
    "print('原始訓練資料:')\n",
    "print('Bagging f1', metrics.f1_score(y_test, ensemble.predict(x_test)))\n",
    "print('Bagging recall', metrics.recall_score(y_test, ensemble.predict(x_test)))\n",
    "\n",
    "# 過濾低相關性的資料\n",
    "ensemble = BaggingClassifier(n_estimators = 7,\n",
    "                             base_estimator = \n",
    "                             DecisionTreeClassifier(max_depth = 15))\n",
    "ensemble.fit(x_train_f, y_train_f)\n",
    "print('過濾低相關性的資料:')\n",
    "print('Bagging f1', metrics.f1_score(y_test_f, ensemble.predict(x_test_f)))\n",
    "print('Bagging recall', metrics.recall_score(y_test_f, ensemble.predict(x_test_f)))"
   ]
  },
  {
   "cell_type": "code",
   "execution_count": null,
   "metadata": {},
   "outputs": [],
   "source": []
  }
 ],
 "metadata": {
  "kernelspec": {
   "display_name": "Python 3 (ipykernel)",
   "language": "python",
   "name": "python3"
  },
  "language_info": {
   "codemirror_mode": {
    "name": "ipython",
    "version": 3
   },
   "file_extension": ".py",
   "mimetype": "text/x-python",
   "name": "python",
   "nbconvert_exporter": "python",
   "pygments_lexer": "ipython3",
   "version": "3.7.11"
  }
 },
 "nbformat": 4,
 "nbformat_minor": 4
}
