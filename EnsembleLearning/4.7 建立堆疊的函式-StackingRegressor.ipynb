{
 "cells": [
  {
   "cell_type": "markdown",
   "metadata": {},
   "source": [
    "# 4.7 建立堆疊的函式"
   ]
  },
  {
   "cell_type": "code",
   "execution_count": 5,
   "metadata": {
    "_cell_guid": "b1076dfc-b9ad-4769-8c92-a6c4dae69d19",
    "_uuid": "8f2839f25d086af736a60e9eeb907d3b93b6e0e5",
    "execution": {
     "iopub.execute_input": "2021-12-22T03:55:04.532907Z",
     "iopub.status.busy": "2021-12-22T03:55:04.532054Z",
     "iopub.status.idle": "2021-12-22T03:55:05.551209Z",
     "shell.execute_reply": "2021-12-22T03:55:05.550274Z",
     "shell.execute_reply.started": "2021-12-22T03:55:04.532808Z"
    }
   },
   "outputs": [],
   "source": [
    "# --- 第 1 部分 ---\n",
    "# 匯入函式庫\n",
    "import numpy as np\n",
    "from sklearn.model_selection import KFold\n",
    "from copy import deepcopy"
   ]
  },
  {
   "cell_type": "code",
   "execution_count": 6,
   "metadata": {
    "execution": {
     "iopub.execute_input": "2021-12-22T03:55:05.553301Z",
     "iopub.status.busy": "2021-12-22T03:55:05.553041Z",
     "iopub.status.idle": "2021-12-22T03:55:05.571819Z",
     "shell.execute_reply": "2021-12-22T03:55:05.570904Z",
     "shell.execute_reply.started": "2021-12-22T03:55:05.55327Z"
    }
   },
   "outputs": [],
   "source": [
    "# --- 第 2 部分 ---\n",
    "class StackingRegressor():\n",
    "    def __init__(self, learners):\n",
    "        # 接收基學習器、超學習器、以及堆疊中每一層分別有多少學習器\n",
    "        # 複製學習器\n",
    "        self.level_sizes = []\n",
    "        self.learners = []\n",
    "        for learning_level in learners:\n",
    "            self.level_sizes.append(len(learning_level))\n",
    "            level_learners = []\n",
    "            for learner in learning_level:\n",
    "                level_learners.append(deepcopy(learner))\n",
    "            self.learners.append(level_learners)\n",
    "# --- 第 3 部分 ---\n",
    "    # fit 函式\n",
    "    # 用第i-1層的基學習器預測值來訓練第i層的基學習器\n",
    "    def fit(self, x, y):\n",
    "        # 第1層基學習器的訓練資料即為原始資料\n",
    "        meta_data = [x]\n",
    "        meta_targets = [y]\n",
    "        for i in range(len(self.learners)):\n",
    "            level_size = self.level_sizes[i]\n",
    "\n",
    "            # 建立第i層預測值的儲存空間\n",
    "            data_z = np.zeros((level_size, len(x)))\n",
    "            target_z = np.zeros(len(x))\n",
    "\n",
    "            # 取得第i層訓練資料集\n",
    "            train_x = meta_data[i]\n",
    "            train_y = meta_targets[i]\n",
    "\n",
    "            # 建立交叉驗證\n",
    "            KF = KFold(n_splits=5)\n",
    "            meta_index = 0\n",
    "            for train_indices, test_indices in KF.split(x):\n",
    "                for j in range(len(self.learners[i])):\n",
    "                    # 使用前K-1折訓練第j個基學習器\n",
    "                    learner = self.learners[i][j]\n",
    "                    learner.fit(train_x[train_indices],train_y[train_indices])\n",
    "                    # 使用第K折驗證第j個基學習器\n",
    "                    predictions = learner.predict(train_x[test_indices])\n",
    "                    # 儲存第K折第j個基學習器預測結果\n",
    "                    data_z[j][meta_index:meta_index+len(test_indices)] = predictions\n",
    "\n",
    "                target_z[meta_index:meta_index + len(test_indices)] = train_y[test_indices]\n",
    "                meta_index += len(test_indices)\n",
    "\n",
    "            # 儲存第i層基學習器的預測結果\n",
    "            # 作為第i+1層基學習器的訓練資料\n",
    "            data_z = data_z.transpose()\n",
    "            meta_data.append(data_z)\n",
    "            meta_targets.append(target_z)\n",
    "\n",
    "\n",
    "            # 使用完整的訓練資料來訓練基學習器\n",
    "            for learner in self.learners[i]:\n",
    "                learner.fit(train_x, train_y)\n",
    "# --- 第 4 部分 ---\n",
    "    # predict 函式\n",
    "    def predict(self, x):\n",
    "\n",
    "        # 儲存每一層的預測\n",
    "        meta_data = [x]\n",
    "        for i in range(len(self.learners)):\n",
    "            level_size = self.level_sizes[i]\n",
    "\n",
    "            data_z = np.zeros((level_size, len(x)))\n",
    "\n",
    "            test_x = meta_data[i]\n",
    "\n",
    "            for j in range(len(self.learners[i])):\n",
    "\n",
    "                learner = self.learners[i][j]\n",
    "                predictions = learner.predict(test_x)\n",
    "                data_z[j] = predictions\n",
    "\n",
    "            # 儲存第i層基學習器的預測結果\n",
    "            # 作為第i+1層基學習器的輸入\n",
    "            data_z = data_z.transpose()\n",
    "            meta_data.append(data_z)\n",
    "\n",
    "        # 傳回預測結果\n",
    "        return meta_data"
   ]
  },
  {
   "cell_type": "code",
   "execution_count": 3,
   "metadata": {},
   "outputs": [
    {
     "ename": "NameError",
     "evalue": "name 'meta_data' is not defined",
     "output_type": "error",
     "traceback": [
      "\u001b[1;31m---------------------------------------------------------------------------\u001b[0m",
      "\u001b[1;31mNameError\u001b[0m                                 Traceback (most recent call last)",
      "\u001b[1;32m~\\AppData\\Local\\Temp\\1/ipykernel_71196/3840182838.py\u001b[0m in \u001b[0;36m<module>\u001b[1;34m\u001b[0m\n\u001b[1;32m----> 1\u001b[1;33m \u001b[0mmeta_data\u001b[0m\u001b[1;33m[\u001b[0m\u001b[1;36m0\u001b[0m\u001b[1;33m]\u001b[0m\u001b[1;33m[\u001b[0m\u001b[1;36m0\u001b[0m\u001b[1;33m]\u001b[0m\u001b[1;33m==\u001b[0m\u001b[0mtest_x\u001b[0m\u001b[1;33m[\u001b[0m\u001b[1;36m0\u001b[0m\u001b[1;33m]\u001b[0m\u001b[1;33m\u001b[0m\u001b[1;33m\u001b[0m\u001b[0m\n\u001b[0m",
      "\u001b[1;31mNameError\u001b[0m: name 'meta_data' is not defined"
     ]
    }
   ],
   "source": [
    "# meta_data[0][0]==test_x[0]"
   ]
  },
  {
   "cell_type": "code",
   "execution_count": 7,
   "metadata": {
    "execution": {
     "iopub.execute_input": "2021-12-22T03:55:05.573308Z",
     "iopub.status.busy": "2021-12-22T03:55:05.573073Z",
     "iopub.status.idle": "2021-12-22T03:55:06.029827Z",
     "shell.execute_reply": "2021-12-22T03:55:06.02884Z",
     "shell.execute_reply.started": "2021-12-22T03:55:05.573279Z"
    }
   },
   "outputs": [
    {
     "name": "stdout",
     "output_type": "stream",
     "text": [
      "ERROR  R2  Name\n",
      "--------------------\n",
      "2697.8 0.51 KNeighborsRegressor\n",
      "3142.5 0.43 DecisionTreeRegressor\n",
      "2564.8 0.54 Ridge\n",
      "2066.6 0.63 Ensemble\n"
     ]
    }
   ],
   "source": [
    "# 匯入函式庫與資料集\n",
    "from sklearn.datasets import load_diabetes\n",
    "from sklearn.neighbors import KNeighborsRegressor\n",
    "from sklearn.tree import DecisionTreeRegressor\n",
    "from sklearn.linear_model import LinearRegression, Ridge\n",
    "from sklearn import metrics\n",
    "diabetes = load_diabetes()\n",
    "\n",
    "train_x, train_y = diabetes.data[:400], diabetes.target[:400]\n",
    "test_x, test_y = diabetes.data[400:], diabetes.target[400:]\n",
    "\n",
    "base_learners = []\n",
    "\n",
    "knn = KNeighborsRegressor(n_neighbors=5)\n",
    "base_learners.append(knn)\n",
    "\n",
    "dtr = DecisionTreeRegressor(max_depth=4, random_state=123456)\n",
    "base_learners.append(dtr)\n",
    "\n",
    "ridge = Ridge()\n",
    "base_learners.append(ridge)\n",
    "\n",
    "meta_learner = LinearRegression()\n",
    "\n",
    "# 傳入我們建立的函式\n",
    "sc = StackingRegressor([[knn,dtr,ridge],[meta_learner]])\n",
    "\n",
    "# 訓練、預測\n",
    "sc.fit(train_x, train_y)\n",
    "meta_data = sc.predict(test_x)\n",
    "\n",
    "# 衡量基學習器跟集成後效能\n",
    "base_errors = []\n",
    "base_r2 = []\n",
    "for i in range(len(base_learners)):\n",
    "    learner = base_learners[i]\n",
    "    predictions = meta_data[1][:,i]\n",
    "    err = metrics.mean_squared_error(test_y, predictions)\n",
    "    r2 = metrics.r2_score(test_y, predictions)\n",
    "    base_errors.append(err)\n",
    "    base_r2.append(r2)\n",
    "\n",
    "err = metrics.mean_squared_error(test_y, meta_data[-1])\n",
    "r2 = metrics.r2_score(test_y, meta_data[-1])\n",
    "\n",
    "# 顯示結果\n",
    "print('ERROR  R2  Name')\n",
    "print('-'*20)\n",
    "for i in range(len(base_learners)):\n",
    "    e = base_errors[i]\n",
    "    r = base_r2[i]\n",
    "    b = base_learners[i]\n",
    "    print(f'{e:.1f} {r:.2f} {b.__class__.__name__}')\n",
    "print(f'{err:.1f} {r2:.2f} Ensemble')\n"
   ]
  },
  {
   "cell_type": "code",
   "execution_count": null,
   "metadata": {},
   "outputs": [],
   "source": []
  }
 ],
 "metadata": {
  "kernelspec": {
   "display_name": "Python 3 (ipykernel)",
   "language": "python",
   "name": "python3"
  },
  "language_info": {
   "codemirror_mode": {
    "name": "ipython",
    "version": 3
   },
   "file_extension": ".py",
   "mimetype": "text/x-python",
   "name": "python",
   "nbconvert_exporter": "python",
   "pygments_lexer": "ipython3",
   "version": "3.7.11"
  }
 },
 "nbformat": 4,
 "nbformat_minor": 4
}
