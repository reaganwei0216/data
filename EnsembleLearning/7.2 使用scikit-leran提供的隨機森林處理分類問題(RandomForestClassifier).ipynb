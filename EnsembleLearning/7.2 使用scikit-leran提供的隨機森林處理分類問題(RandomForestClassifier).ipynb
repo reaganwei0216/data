{
 "cells": [
  {
   "cell_type": "code",
   "execution_count": null,
   "metadata": {},
   "outputs": [],
   "source": [
    "# 7.2 使用scikit-leran提供的隨機森林處理分類問題(RandomForestClassifier)"
   ]
  },
  {
   "cell_type": "code",
   "execution_count": 1,
   "metadata": {
    "_cell_guid": "b1076dfc-b9ad-4769-8c92-a6c4dae69d19",
    "_uuid": "8f2839f25d086af736a60e9eeb907d3b93b6e0e5",
    "execution": {
     "iopub.execute_input": "2021-12-23T02:03:30.442228Z",
     "iopub.status.busy": "2021-12-23T02:03:30.441942Z",
     "iopub.status.idle": "2021-12-23T02:03:30.551516Z",
     "shell.execute_reply": "2021-12-23T02:03:30.550395Z",
     "shell.execute_reply.started": "2021-12-23T02:03:30.442198Z"
    }
   },
   "outputs": [],
   "source": [
    "# --- 第 1 部分 ---\n",
    "# 載入函式庫與資料集\n",
    "from sklearn.datasets import load_digits\n",
    "from sklearn.ensemble import RandomForestClassifier\n",
    "from sklearn import metrics\n",
    "import numpy as np\n",
    "\n",
    "digits = load_digits()\n",
    "\n",
    "train_size = 1500\n",
    "train_x = digits.data[:train_size]\n",
    "train_y = digits.target[:train_size]\n",
    "test_x = digits.data[train_size:]\n",
    "test_y = digits.target[train_size:]\n",
    "\n",
    "np.random.seed(123456)\n"
   ]
  },
  {
   "cell_type": "code",
   "execution_count": 2,
   "metadata": {
    "execution": {
     "iopub.execute_input": "2021-12-23T02:03:30.553998Z",
     "iopub.status.busy": "2021-12-23T02:03:30.55365Z",
     "iopub.status.idle": "2021-12-23T02:03:30.559348Z",
     "shell.execute_reply": "2021-12-23T02:03:30.558336Z",
     "shell.execute_reply.started": "2021-12-23T02:03:30.553954Z"
    }
   },
   "outputs": [],
   "source": [
    "# --- 第 2 部分 ---\n",
    "# 初始化模型\n",
    "ensemble_size = 500\n",
    "ensemble = RandomForestClassifier(n_estimators=ensemble_size, # 指定基學習器的數量\n",
    "                                  n_jobs=4)                   # 決定平行程序的數目\n"
   ]
  },
  {
   "cell_type": "code",
   "execution_count": 11,
   "metadata": {},
   "outputs": [
    {
     "data": {
      "text/plain": [
       "{'bootstrap': True,\n",
       " 'ccp_alpha': 0.0,\n",
       " 'class_weight': None,\n",
       " 'criterion': 'gini',\n",
       " 'max_depth': None,\n",
       " 'max_features': 'auto',\n",
       " 'max_leaf_nodes': None,\n",
       " 'max_samples': None,\n",
       " 'min_impurity_decrease': 0.0,\n",
       " 'min_samples_leaf': 1,\n",
       " 'min_samples_split': 2,\n",
       " 'min_weight_fraction_leaf': 0.0,\n",
       " 'n_estimators': 500,\n",
       " 'n_jobs': 4,\n",
       " 'oob_score': False,\n",
       " 'random_state': None,\n",
       " 'verbose': 0,\n",
       " 'warm_start': False}"
      ]
     },
     "execution_count": 11,
     "metadata": {},
     "output_type": "execute_result"
    }
   ],
   "source": [
    "ensemble.get_params()"
   ]
  },
  {
   "cell_type": "code",
   "execution_count": 3,
   "metadata": {
    "execution": {
     "iopub.execute_input": "2021-12-23T02:03:30.561247Z",
     "iopub.status.busy": "2021-12-23T02:03:30.560921Z",
     "iopub.status.idle": "2021-12-23T02:03:32.554594Z",
     "shell.execute_reply": "2021-12-23T02:03:32.553665Z",
     "shell.execute_reply.started": "2021-12-23T02:03:30.561206Z"
    }
   },
   "outputs": [
    {
     "data": {
      "text/plain": [
       "RandomForestClassifier(n_estimators=500, n_jobs=4)"
      ]
     },
     "execution_count": 3,
     "metadata": {},
     "output_type": "execute_result"
    }
   ],
   "source": [
    "# --- 第 3 部分 ---\n",
    "# 訓練模型\n",
    "ensemble.fit(train_x, train_y)\n"
   ]
  },
  {
   "cell_type": "code",
   "execution_count": 4,
   "metadata": {
    "execution": {
     "iopub.execute_input": "2021-12-23T02:03:32.556198Z",
     "iopub.status.busy": "2021-12-23T02:03:32.555911Z",
     "iopub.status.idle": "2021-12-23T02:03:32.764186Z",
     "shell.execute_reply": "2021-12-23T02:03:32.763305Z",
     "shell.execute_reply.started": "2021-12-23T02:03:32.556134Z"
    }
   },
   "outputs": [],
   "source": [
    "# --- 第 4 部分 ---\n",
    "# 評估模型\n",
    "ensemble_predictions = ensemble.predict(test_x)\n",
    "\n",
    "ensemble_acc = metrics.accuracy_score(test_y, \n",
    "                                      ensemble_predictions)\n"
   ]
  },
  {
   "cell_type": "code",
   "execution_count": 5,
   "metadata": {
    "execution": {
     "iopub.execute_input": "2021-12-23T02:03:32.766189Z",
     "iopub.status.busy": "2021-12-23T02:03:32.765904Z",
     "iopub.status.idle": "2021-12-23T02:03:32.77103Z",
     "shell.execute_reply": "2021-12-23T02:03:32.770104Z",
     "shell.execute_reply.started": "2021-12-23T02:03:32.76616Z"
    }
   },
   "outputs": [
    {
     "name": "stdout",
     "output_type": "stream",
     "text": [
      "Random Forest: 0.93\n"
     ]
    }
   ],
   "source": [
    "# --- 第 5 部分 ---\n",
    "# 顯示準確率\n",
    "print('Random Forest: %.2f' % ensemble_acc)\n"
   ]
  },
  {
   "cell_type": "code",
   "execution_count": null,
   "metadata": {},
   "outputs": [],
   "source": []
  }
 ],
 "metadata": {
  "kernelspec": {
   "display_name": "Python 3 (ipykernel)",
   "language": "python",
   "name": "python3"
  },
  "language_info": {
   "codemirror_mode": {
    "name": "ipython",
    "version": 3
   },
   "file_extension": ".py",
   "mimetype": "text/x-python",
   "name": "python",
   "nbconvert_exporter": "python",
   "pygments_lexer": "ipython3",
   "version": "3.7.11"
  }
 },
 "nbformat": 4,
 "nbformat_minor": 4
}
