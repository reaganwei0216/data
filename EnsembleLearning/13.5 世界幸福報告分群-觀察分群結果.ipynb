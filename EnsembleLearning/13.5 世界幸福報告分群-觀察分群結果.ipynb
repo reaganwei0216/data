{
 "cells": [
  {
   "cell_type": "code",
   "execution_count": null,
   "metadata": {
    "_cell_guid": "b1076dfc-b9ad-4769-8c92-a6c4dae69d19",
    "_uuid": "8f2839f25d086af736a60e9eeb907d3b93b6e0e5"
   },
   "outputs": [],
   "source": [
    "!pip install xlrd"
   ]
  },
  {
   "cell_type": "code",
   "execution_count": null,
   "metadata": {},
   "outputs": [],
   "source": [
    "# 第 1 部分\n",
    "# 載入函式庫\n",
    "import matplotlib.pyplot as plt\n",
    "import numpy as np\n",
    "import openensembles as oe \n",
    "import pandas as pd\n",
    "from sklearn import metrics\n",
    "\n",
    "# 載入資料集\n",
    "data = pd.read_excel('WHR.xls')\n",
    "regs = pd.read_excel('REG.xls')\n",
    "\n",
    "# 使用 2017 年的資料並填補缺少的項目\n",
    "recents = data[data.Year == 2017]\n",
    "recents = recents.dropna(axis=1, how=\"all\")\n",
    "recents = recents.fillna(recents.median())\n",
    "\n",
    "# 使用以下特徵\n",
    "columns = ['Log GDP per capita',\n",
    "           'Social support',\n",
    "           'Healthy life expectancy at birth',\n",
    "           'Freedom to make life choices',\n",
    "           'Generosity',\n",
    "           'Perceptions of corruption',\n",
    "           'Positive affect',\n",
    "           'Negative affect',\n",
    "           'Confidence in national government',\n",
    "           'Democratic Quality',\n",
    "           'Delivery Quality']\n",
    "\n",
    "# 特徵正規化\n",
    "normalized = recents[columns]\n",
    "normalized = normalized - normalized.mean()\n",
    "normalized = normalized / normalized.std()\n",
    "\n",
    "cluster_data = oe.data(recents[columns], columns)"
   ]
  },
  {
   "cell_type": "code",
   "execution_count": null,
   "metadata": {},
   "outputs": [],
   "source": [
    "# 第 2 部分程式\n",
    "# 建立集成模型\n",
    "ensemble = oe.cluster(cluster_data)\n",
    "for i in range(10):\n",
    "    name = f'kmeans({i}-tsne'\n",
    "    ensemble.cluster('parent', 'kmeans', name, 10)\n",
    "\n",
    "# 使用共現鏈組成所有基學習器的輸出\n",
    "preds = ensemble.finish_co_occ_linkage(threshold=0.5)"
   ]
  },
  {
   "cell_type": "code",
   "execution_count": null,
   "metadata": {},
   "outputs": [],
   "source": [
    "# 第 3 部分程式\n",
    "# 分析成果\n",
    "\n",
    "# 將「生活階梯」資料集\n",
    "columns = ['Life Ladder',\n",
    "           'Log GDP per capita',\n",
    "           'Social support',\n",
    "           'Healthy life expectancy at birth',\n",
    "           'Freedom to make life choices',\n",
    "           'Generosity',\n",
    "           'Perceptions of corruption',\n",
    "           'Positive affect',\n",
    "           'Negative affect',\n",
    "           'Confidence in national government',\n",
    "           'Democratic Quality',\n",
    "           'Delivery Quality']\n",
    "\n",
    "# 將預測值加入資料集\n",
    "recents['Cluster'] = preds.labels['co_occ_linkage']\n",
    "grouped = recents.groupby('Cluster')\n",
    "\n",
    "# 計算平均值\n",
    "means = grouped.mean()[columns]\n",
    "\n",
    "# 建立長條圖\n",
    "def create_bar(col, nc, nr, index):\n",
    "    plt.subplot(nc, nr, index)\n",
    "    values = means.sort_values('Life Ladder')[col]\n",
    "    values.plot(kind='bar')\n",
    "    plt.title(col[:18])\n",
    "    \n",
    "# 繪製每項特徵\n",
    "plt.figure(figsize = (20, 60))\n",
    "plt.subplots_adjust(hspace=0.4)\n",
    "i = 1\n",
    "for col in columns:\n",
    "    create_bar(col, 3, 4, i)\n",
    "    i += 1\n",
    "plt.show()\n",
    "\n",
    "# 列出每個子群的國家\n",
    "for index, row in recents.iterrows():\n",
    "    print(row['Country name'], row['Cluster'])"
   ]
  }
 ],
 "metadata": {
  "kernelspec": {
   "display_name": "Python 3 (ipykernel)",
   "language": "python",
   "name": "python3"
  },
  "language_info": {
   "codemirror_mode": {
    "name": "ipython",
    "version": 3
   },
   "file_extension": ".py",
   "mimetype": "text/x-python",
   "name": "python",
   "nbconvert_exporter": "python",
   "pygments_lexer": "ipython3",
   "version": "3.7.11"
  }
 },
 "nbformat": 4,
 "nbformat_minor": 4
}
