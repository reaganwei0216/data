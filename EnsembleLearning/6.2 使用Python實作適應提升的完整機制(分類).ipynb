{
 "cells": [
  {
   "cell_type": "code",
   "execution_count": 4,
   "metadata": {},
   "outputs": [],
   "source": [
    "# 6.2 使用Python實作適應提升的完整機制(分類)"
   ]
  },
  {
   "cell_type": "code",
   "execution_count": 5,
   "metadata": {
    "_cell_guid": "b1076dfc-b9ad-4769-8c92-a6c4dae69d19",
    "_uuid": "8f2839f25d086af736a60e9eeb907d3b93b6e0e5",
    "execution": {
     "iopub.execute_input": "2021-12-24T08:01:54.638502Z",
     "iopub.status.busy": "2021-12-24T08:01:54.638164Z",
     "iopub.status.idle": "2021-12-24T08:01:54.654901Z",
     "shell.execute_reply": "2021-12-24T08:01:54.653908Z",
     "shell.execute_reply.started": "2021-12-24T08:01:54.638465Z"
    }
   },
   "outputs": [],
   "source": [
    "# --- 第 1 部分 ---\n",
    "# 載入函式庫與資料集\n",
    "from copy import deepcopy\n",
    "from sklearn.datasets import load_breast_cancer\n",
    "from sklearn.tree import DecisionTreeClassifier\n",
    "from sklearn import metrics\n",
    "import numpy as np\n",
    "bc = load_breast_cancer()\n",
    "train_size = 400\n",
    "train_x, train_y = bc.data[:train_size], bc.target[:train_size]\n",
    "test_x, test_y = bc.data[train_size:], bc.target[train_size:]\n",
    "np.random.seed(123456)\n"
   ]
  },
  {
   "cell_type": "code",
   "execution_count": 6,
   "metadata": {},
   "outputs": [
    {
     "data": {
      "text/plain": [
       "(100,)"
      ]
     },
     "execution_count": 6,
     "metadata": {},
     "output_type": "execute_result"
    }
   ],
   "source": [
    "ensemble_size = 100\n",
    "np.zeros(ensemble_size).shape"
   ]
  },
  {
   "cell_type": "code",
   "execution_count": 7,
   "metadata": {
    "execution": {
     "iopub.execute_input": "2021-12-24T08:01:54.656842Z",
     "iopub.status.busy": "2021-12-24T08:01:54.656376Z",
     "iopub.status.idle": "2021-12-24T08:01:54.664793Z",
     "shell.execute_reply": "2021-12-24T08:01:54.664139Z",
     "shell.execute_reply.started": "2021-12-24T08:01:54.656802Z"
    }
   },
   "outputs": [],
   "source": [
    "# --- 第 2 部分 ---\n",
    "ensemble_size = 100\n",
    "base_classifier = DecisionTreeClassifier(max_depth=1)\n",
    "\n",
    "# 建立訓練資料集的索引串列\n",
    "indices = [x for x in range(train_size)]\n",
    "\n",
    "# 建立弱學習器串列\n",
    "base_learners = []\n",
    "\n",
    "# 設定初始權重與誤差\n",
    "data_weights = np.zeros(train_size) + 1/train_size # 資料的權重\n",
    "learners_errors = np.zeros(ensemble_size) # 弱學習器的權重\n",
    "learners_weights = np.zeros(ensemble_size)# 弱學習器的誤差\n"
   ]
  },
  {
   "cell_type": "code",
   "execution_count": 8,
   "metadata": {
    "execution": {
     "iopub.execute_input": "2021-12-24T08:01:54.666747Z",
     "iopub.status.busy": "2021-12-24T08:01:54.665973Z",
     "iopub.status.idle": "2021-12-24T08:01:54.870722Z",
     "shell.execute_reply": "2021-12-24T08:01:54.869589Z",
     "shell.execute_reply.started": "2021-12-24T08:01:54.666702Z"
    }
   },
   "outputs": [],
   "source": [
    "# --- 第 3 部分 ---\n",
    "# 訓練弱學習器\n",
    "for i in range(ensemble_size):\n",
    "    # 複製弱學習器\n",
    "    weak_learner = deepcopy(base_classifier)\n",
    "\n",
    "    # 加權抽樣\n",
    "    # 每筆資料抽到的機率即其權重\n",
    "    data_indices = np.random.choice(indices, train_size, p=data_weights)\n",
    "    sample_x, sample_y = train_x[data_indices], train_y[data_indices]\n",
    "\n",
    "    # 訓練、評估弱學習器\n",
    "    weak_learner.fit(sample_x, sample_y)\n",
    "    predictions = weak_learner.predict(train_x)\n",
    "    errors = predictions != train_y   # 布林串列\n",
    "    corrects = predictions == train_y # 布林串列\n",
    "\n",
    "    # 儲存學習器\n",
    "    base_learners.append(weak_learner)\n",
    "\n",
    "    # 計算加權錯誤\n",
    "    weighted_errors = data_weights*errors\n",
    "    # 計算平均加權錯誤\n",
    "    learner_error = np.mean(weighted_errors)\n",
    "    # 計算弱學習器權重\n",
    "    learner_weight = np.log((1-learner_error)/learner_error)/2  # 權重公式\n",
    "    # 儲存計算結果\n",
    "    learners_errors[i] = learner_error\n",
    "    learners_weights[i] = learner_weight\n",
    "\n",
    "    # 更新資料權重\n",
    "    data_weights[errors] = np.exp(data_weights[errors] * learner_weight)     # 錯誤分類的資料「舊權重」乘上「弱學習器權重」再娶「自然指數」\n",
    "    data_weights[corrects] = np.exp(-data_weights[corrects] * learner_weight)# 正確分類的資料「負的舊權重」乘上「弱學習器權重」再娶「自然指數」\n",
    "    # 權重正規化\n",
    "    data_weights = data_weights / sum(data_weights)\n"
   ]
  },
  {
   "cell_type": "code",
   "execution_count": null,
   "metadata": {},
   "outputs": [],
   "source": []
  },
  {
   "cell_type": "code",
   "execution_count": null,
   "metadata": {},
   "outputs": [],
   "source": []
  },
  {
   "cell_type": "code",
   "execution_count": 9,
   "metadata": {
    "execution": {
     "iopub.execute_input": "2021-12-24T08:01:54.872742Z",
     "iopub.status.busy": "2021-12-24T08:01:54.872385Z",
     "iopub.status.idle": "2021-12-24T08:01:54.892731Z",
     "shell.execute_reply": "2021-12-24T08:01:54.891648Z",
     "shell.execute_reply.started": "2021-12-24T08:01:54.872697Z"
    }
   },
   "outputs": [
    {
     "name": "stdout",
     "output_type": "stream",
     "text": [
      "Boosting: 0.96\n"
     ]
    }
   ],
   "source": [
    "# --- 第 4 部分 ---\n",
    "# 集成\n",
    "ensemble_predictions = []\n",
    "for learner, weight in zip(base_learners, learners_weights):\n",
    "    # 計算加權後的預測值\n",
    "    prediction = learner.predict(test_x)\n",
    "    ensemble_predictions.append(prediction * weight)\n",
    "\n",
    "# 輸出預測分類\n",
    "ensemble_predictions = np.mean(ensemble_predictions, axis = 0) >= 0.5 # 加權後大於0.5預測分類為0，反之為1\n",
    "\n",
    "ensemble_acc = metrics.accuracy_score(test_y, ensemble_predictions)\n",
    "\n",
    "# 顯示準確率\n",
    "print('Boosting: %.2f' % ensemble_acc)\n"
   ]
  },
  {
   "cell_type": "code",
   "execution_count": 25,
   "metadata": {},
   "outputs": [
    {
     "data": {
      "text/plain": [
       "'E:\\\\F2387\\\\Code'"
      ]
     },
     "execution_count": 25,
     "metadata": {},
     "output_type": "execute_result"
    }
   ],
   "source": [
    "%pwd"
   ]
  },
  {
   "cell_type": "code",
   "execution_count": null,
   "metadata": {},
   "outputs": [],
   "source": []
  }
 ],
 "metadata": {
  "kernelspec": {
   "display_name": "Python 3 (ipykernel)",
   "language": "python",
   "name": "python3"
  },
  "language_info": {
   "codemirror_mode": {
    "name": "ipython",
    "version": 3
   },
   "file_extension": ".py",
   "mimetype": "text/x-python",
   "name": "python",
   "nbconvert_exporter": "python",
   "pygments_lexer": "ipython3",
   "version": "3.7.11"
  }
 },
 "nbformat": 4,
 "nbformat_minor": 4
}
