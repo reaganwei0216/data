{
 "cells": [
  {
   "cell_type": "markdown",
   "metadata": {},
   "source": [
    "# 4.6 使用堆疊法處理分類問題"
   ]
  },
  {
   "cell_type": "code",
   "execution_count": 2,
   "metadata": {
    "_cell_guid": "b1076dfc-b9ad-4769-8c92-a6c4dae69d19",
    "_uuid": "8f2839f25d086af736a60e9eeb907d3b93b6e0e5",
    "execution": {
     "iopub.execute_input": "2021-12-22T03:53:45.608171Z",
     "iopub.status.busy": "2021-12-22T03:53:45.607809Z",
     "iopub.status.idle": "2021-12-22T03:53:46.965626Z",
     "shell.execute_reply": "2021-12-22T03:53:46.964926Z",
     "shell.execute_reply.started": "2021-12-22T03:53:45.608063Z"
    }
   },
   "outputs": [],
   "source": [
    "# --- 第 1 部分 ---\n",
    "# 載入函式庫與資料集\n",
    "from sklearn.datasets import load_breast_cancer\n",
    "from sklearn.neighbors import KNeighborsClassifier\n",
    "from sklearn.tree import DecisionTreeClassifier\n",
    "from sklearn.neural_network import MLPClassifier\n",
    "from sklearn.naive_bayes import GaussianNB\n",
    "from sklearn.linear_model import LogisticRegression\n",
    "from sklearn.model_selection import KFold\n",
    "from sklearn import metrics\n",
    "import numpy as np\n",
    "bc = load_breast_cancer()\n",
    "\n",
    "train_x, train_y = bc.data[:400], bc.target[:400]\n",
    "test_x, test_y = bc.data[400:], bc.target[400:]\n"
   ]
  },
  {
   "cell_type": "code",
   "execution_count": 3,
   "metadata": {
    "execution": {
     "iopub.execute_input": "2021-12-22T03:53:46.967985Z",
     "iopub.status.busy": "2021-12-22T03:53:46.967194Z",
     "iopub.status.idle": "2021-12-22T03:53:46.975123Z",
     "shell.execute_reply": "2021-12-22T03:53:46.974253Z",
     "shell.execute_reply.started": "2021-12-22T03:53:46.967937Z"
    }
   },
   "outputs": [],
   "source": [
    "# --- 第 2 部分 ---\n",
    "# 建立基學習器與超學習器\n",
    "# 將基學習器放到串列中\n",
    "base_learners = []\n",
    "\n",
    "knn = KNeighborsClassifier(n_neighbors=2)\n",
    "base_learners.append(knn)\n",
    "\n",
    "dtr = DecisionTreeClassifier(max_depth=4, random_state=2)\n",
    "base_learners.append(dtr)\n",
    "\n",
    "mlpc = MLPClassifier(hidden_layer_sizes =(100, ), random_state=2)\n",
    "base_learners.append(mlpc)\n",
    "\n",
    "meta_learner = LogisticRegression() # 超學習器為邏輯斯迴歸"
   ]
  },
  {
   "cell_type": "code",
   "execution_count": 4,
   "metadata": {
    "execution": {
     "iopub.execute_input": "2021-12-22T03:53:46.97661Z",
     "iopub.status.busy": "2021-12-22T03:53:46.976369Z",
     "iopub.status.idle": "2021-12-22T03:53:50.013828Z",
     "shell.execute_reply": "2021-12-22T03:53:50.012845Z",
     "shell.execute_reply.started": "2021-12-22T03:53:46.976583Z"
    }
   },
   "outputs": [
    {
     "name": "stderr",
     "output_type": "stream",
     "text": [
      "C:\\Users\\011305\\Anaconda3\\envs\\py37\\lib\\site-packages\\sklearn\\neural_network\\_multilayer_perceptron.py:696: ConvergenceWarning: Stochastic Optimizer: Maximum iterations (200) reached and the optimization hasn't converged yet.\n",
      "  ConvergenceWarning,\n",
      "C:\\Users\\011305\\Anaconda3\\envs\\py37\\lib\\site-packages\\sklearn\\neural_network\\_multilayer_perceptron.py:696: ConvergenceWarning: Stochastic Optimizer: Maximum iterations (200) reached and the optimization hasn't converged yet.\n",
      "  ConvergenceWarning,\n"
     ]
    }
   ],
   "source": [
    "# --- 第 3 部分 ---\n",
    "# 產生訓練超學習器用的中繼資料\n",
    "\n",
    "# 建立變數以儲存中繼資料及其標籤\n",
    "meta_data = np.zeros((len(base_learners), len(train_x)))  # meta_data.shape (3, 400)\n",
    "meta_targets = np.zeros(len(train_x))                     # meta_targets.shape (400,) \n",
    "\n",
    "# 進行交叉驗證\n",
    "KF = KFold(n_splits=5) # 使用KFold函式並指訂將資料分成5折，傳回這5折資料的索引\n",
    "index = 0\n",
    "for train_indices, test_indices in KF.split(train_x): # train_indices包含4/5的資料索引 ,test_indices包含1/5的資料索引\n",
    "    # 前K-1折是訓練資料集\n",
    "    # 第K折是驗證資料集\n",
    "    for i in range(len(base_learners)):\n",
    "        learner = base_learners[i]\n",
    "        \n",
    "        learner.fit(train_x[train_indices], train_y[train_indices])\n",
    "        p = learner.predict_proba(train_x[test_indices])[:,0] # predict_proba 只記錄每一筆資料屬於其中一個類別的機率\n",
    "\n",
    "        meta_data[i][index:index + len(test_indices)] = p\n",
    "\n",
    "    meta_targets[index:index + \n",
    "                 len(test_indices)] = train_y[test_indices]\n",
    "    index += len(test_indices)\n",
    "\n",
    "# 中繼資料的特徵存在meta_data陣列\n",
    "# 中繼資料的標籤存在meta_targets陣列        \n",
    "    \n",
    "# 將中繼資料轉置為超學習器需要的形式，使陣列的每一列是一筆資料，每一行是一個基學習器的預測值\n",
    "meta_data = meta_data.transpose() # meta_data.shape (400, 3)"
   ]
  },
  {
   "cell_type": "code",
   "execution_count": 5,
   "metadata": {
    "execution": {
     "iopub.execute_input": "2021-12-22T03:53:50.023794Z",
     "iopub.status.busy": "2021-12-22T03:53:50.020604Z",
     "iopub.status.idle": "2021-12-22T03:53:50.803819Z",
     "shell.execute_reply": "2021-12-22T03:53:50.802707Z",
     "shell.execute_reply.started": "2021-12-22T03:53:50.023725Z"
    }
   },
   "outputs": [
    {
     "name": "stderr",
     "output_type": "stream",
     "text": [
      "C:\\Users\\011305\\Anaconda3\\envs\\py37\\lib\\site-packages\\sklearn\\neural_network\\_multilayer_perceptron.py:696: ConvergenceWarning: Stochastic Optimizer: Maximum iterations (200) reached and the optimization hasn't converged yet.\n",
      "  ConvergenceWarning,\n"
     ]
    }
   ],
   "source": [
    "# --- 第 4 部分 ---\n",
    "# 產生超學習器的測試資料\n",
    "test_meta_data = np.zeros((len(base_learners), len(test_x)))  # test_meta_data.shape  (3, 169)\n",
    "base_acc = []\n",
    "for i in range(len(base_learners)):\n",
    "    b = base_learners[i]\n",
    "    b.fit(train_x, train_y)\n",
    "    predictions = b.predict_proba(test_x)[:,0] # predict_proba 只記錄每一筆資料屬於其中一個類別的機率\n",
    "    test_meta_data[i] = predictions\n",
    "\n",
    "    acc = metrics.accuracy_score(test_y, b.predict(test_x))\n",
    "    base_acc.append(acc)\n",
    "test_meta_data = test_meta_data.transpose()  # test_meta_data.shape  (169, 3)"
   ]
  },
  {
   "cell_type": "code",
   "execution_count": 6,
   "metadata": {
    "execution": {
     "iopub.execute_input": "2021-12-22T03:53:50.813714Z",
     "iopub.status.busy": "2021-12-22T03:53:50.810488Z",
     "iopub.status.idle": "2021-12-22T03:53:50.839894Z",
     "shell.execute_reply": "2021-12-22T03:53:50.838808Z",
     "shell.execute_reply.started": "2021-12-22T03:53:50.813641Z"
    }
   },
   "outputs": [],
   "source": [
    "# --- 第 5 部分 ---\n",
    "# 訓練超學習器\n",
    "meta_learner.fit(meta_data, meta_targets)\n",
    "ensemble_predictions = meta_learner.predict(test_meta_data)\n",
    "\n",
    "acc = metrics.accuracy_score(test_y, ensemble_predictions)\n"
   ]
  },
  {
   "cell_type": "code",
   "execution_count": 7,
   "metadata": {
    "execution": {
     "iopub.execute_input": "2021-12-22T03:53:50.849722Z",
     "iopub.status.busy": "2021-12-22T03:53:50.846489Z",
     "iopub.status.idle": "2021-12-22T03:53:50.864197Z",
     "shell.execute_reply": "2021-12-22T03:53:50.86303Z",
     "shell.execute_reply.started": "2021-12-22T03:53:50.849645Z"
    }
   },
   "outputs": [
    {
     "name": "stdout",
     "output_type": "stream",
     "text": [
      "Acc  Name\n",
      "--------------------\n",
      "0.86 KNeighborsClassifier\n",
      "0.89 DecisionTreeClassifier\n",
      "0.93 MLPClassifier\n",
      "0.95 Ensemble\n"
     ]
    }
   ],
   "source": [
    "# --- 第 6 部分 ---\n",
    "# 顯示結果\n",
    "print('Acc  Name')\n",
    "print('-'*20)\n",
    "for i in range(len(base_learners)):\n",
    "    learner = base_learners[i]\n",
    "    print(f'{base_acc[i]:.2f} {learner.__class__.__name__}')\n",
    "print(f'{acc:.2f} Ensemble')\n"
   ]
  },
  {
   "cell_type": "code",
   "execution_count": null,
   "metadata": {},
   "outputs": [],
   "source": []
  },
  {
   "cell_type": "code",
   "execution_count": null,
   "metadata": {},
   "outputs": [],
   "source": []
  }
 ],
 "metadata": {
  "kernelspec": {
   "display_name": "Python 3 (ipykernel)",
   "language": "python",
   "name": "python3"
  },
  "language_info": {
   "codemirror_mode": {
    "name": "ipython",
    "version": 3
   },
   "file_extension": ".py",
   "mimetype": "text/x-python",
   "name": "python",
   "nbconvert_exporter": "python",
   "pygments_lexer": "ipython3",
   "version": "3.7.11"
  }
 },
 "nbformat": 4,
 "nbformat_minor": 4
}
