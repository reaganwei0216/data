{
 "cells": [
  {
   "cell_type": "code",
   "execution_count": null,
   "metadata": {
    "_cell_guid": "b1076dfc-b9ad-4769-8c92-a6c4dae69d19",
    "_uuid": "8f2839f25d086af736a60e9eeb907d3b93b6e0e5"
   },
   "outputs": [],
   "source": [
    "# !pip install xlrd"
   ]
  },
  {
   "cell_type": "code",
   "execution_count": null,
   "metadata": {},
   "outputs": [],
   "source": [
    "# pip install --no-index --find-links=\"xlrd-2.0.1-py2.py3-none-any.whl\" xlrd"
   ]
  },
  {
   "cell_type": "code",
   "execution_count": null,
   "metadata": {},
   "outputs": [],
   "source": [
    "# 'Life Ladder'                         生活階梯  \n",
    "# 'Log GDP per capita'                  人均GDP的對數\n",
    "# 'Social support'                      社會支持   \n",
    "# 'Healthy life expectancy at birth'    出生時的健康預期壽命\n",
    "# 'Freedom to make life choices'        生活選擇自由度\n",
    "# 'Generosity'                          慷慨程度\n",
    "# 'Perceptions of corruption'           腐敗感知程度 \n",
    "# 'Positive affect'                     正面影響(幸福、歡笑和享受的平均水平)\n",
    "# 'Negative affect'                     負面影響(擔心、悲傷和憤怒的平均水平)\n",
    "# 'Confidence in national government'   對國家政府的信心\n",
    "# 'Democratic Quality'                  民主品質(政府的民主程度)\n",
    "# 'Delivery Quality'                    行政品質(政府的執行力)"
   ]
  },
  {
   "cell_type": "code",
   "execution_count": 2,
   "metadata": {},
   "outputs": [
    {
     "ename": "ModuleNotFoundError",
     "evalue": "No module named 'openensembles'",
     "output_type": "error",
     "traceback": [
      "\u001b[1;31m---------------------------------------------------------------------------\u001b[0m",
      "\u001b[1;31mModuleNotFoundError\u001b[0m                       Traceback (most recent call last)",
      "\u001b[1;32m~\\AppData\\Local\\Temp\\1/ipykernel_22476/1485830278.py\u001b[0m in \u001b[0;36m<module>\u001b[1;34m\u001b[0m\n\u001b[0;32m      3\u001b[0m \u001b[1;32mimport\u001b[0m \u001b[0mmatplotlib\u001b[0m\u001b[1;33m.\u001b[0m\u001b[0mpyplot\u001b[0m \u001b[1;32mas\u001b[0m \u001b[0mplt\u001b[0m\u001b[1;33m\u001b[0m\u001b[1;33m\u001b[0m\u001b[0m\n\u001b[0;32m      4\u001b[0m \u001b[1;32mimport\u001b[0m \u001b[0mnumpy\u001b[0m \u001b[1;32mas\u001b[0m \u001b[0mnp\u001b[0m\u001b[1;33m\u001b[0m\u001b[1;33m\u001b[0m\u001b[0m\n\u001b[1;32m----> 5\u001b[1;33m \u001b[1;32mimport\u001b[0m \u001b[0mopenensembles\u001b[0m \u001b[1;32mas\u001b[0m \u001b[0moe\u001b[0m\u001b[1;33m\u001b[0m\u001b[1;33m\u001b[0m\u001b[0m\n\u001b[0m\u001b[0;32m      6\u001b[0m \u001b[1;32mimport\u001b[0m \u001b[0mpandas\u001b[0m \u001b[1;32mas\u001b[0m \u001b[0mpd\u001b[0m\u001b[1;33m\u001b[0m\u001b[1;33m\u001b[0m\u001b[0m\n\u001b[0;32m      7\u001b[0m \u001b[1;32mfrom\u001b[0m \u001b[0msklearn\u001b[0m \u001b[1;32mimport\u001b[0m \u001b[0mmetrics\u001b[0m\u001b[1;33m\u001b[0m\u001b[1;33m\u001b[0m\u001b[0m\n",
      "\u001b[1;31mModuleNotFoundError\u001b[0m: No module named 'openensembles'"
     ]
    }
   ],
   "source": [
    "# 第 1 部分\n",
    "# 載入函式庫\n",
    "import matplotlib.pyplot as plt\n",
    "import numpy as np\n",
    "import openensembles as oe \n",
    "import pandas as pd\n",
    "from sklearn import metrics\n",
    "\n",
    "# 載入資料集\n",
    "data = pd.read_excel('../Data/WHR.xls')\n",
    "regs = pd.read_excel('../Data/REG.xls')\n",
    "\n",
    "\n",
    "# 使用 2017 年的資料並填補缺少的項目\n",
    "recents = data[data.Year == 2017]\n",
    "recents = recents.dropna(axis=1, how=\"all\") # axis=1: 刪除包含缺失值的列; how=\"all\": 所有的值都缺失，才刪除行或列\n",
    "recents = recents.fillna(recents.median())\n",
    "\n",
    "# 使用以下特徵\n",
    "columns = ['Log GDP per capita',\n",
    "           'Social support',\n",
    "           'Healthy life expectancy at birth',\n",
    "           'Freedom to make life choices',\n",
    "           'Generosity',\n",
    "           'Perceptions of corruption',\n",
    "           'Positive affect',\n",
    "           'Negative affect',\n",
    "           'Confidence in national government',\n",
    "           'Democratic Quality',\n",
    "           'Delivery Quality']\n",
    "\n",
    "# 建立 data 物件\n",
    "cluster_data = oe.data(recents[columns], columns)"
   ]
  },
  {
   "cell_type": "code",
   "execution_count": null,
   "metadata": {},
   "outputs": [],
   "source": [
    "recents.median()"
   ]
  },
  {
   "cell_type": "code",
   "execution_count": null,
   "metadata": {},
   "outputs": [],
   "source": [
    "# 第 2 部分程式\n",
    "# 建立集成模型\n",
    "np.random.seed(123456)\n",
    "results = {'K':[], 'size':[], 'silhouette': []}\n",
    "# 測試不同的子群數\n",
    "Ks = [2, 4, 6, 8, 10, 12, 14]\n",
    "# 測試不同的基學習器個數\n",
    "sizes = [5, 10, 20, 50]\n",
    "for K in Ks:\n",
    "    for ensemble_size in sizes:\n",
    "        # 初始化基學習器\n",
    "        ensemble = oe.cluster(cluster_data)\n",
    "        for i in range(ensemble_size):\n",
    "            # 訓練基學習器\n",
    "            name = f'kmeans_{ensemble_size}_{i}'\n",
    "            ensemble.cluster('parent', 'kmeans', name, K)\n",
    "\n",
    "        # 使用共現鏈組成所有基學習器的輸出\n",
    "        preds = ensemble.finish_co_occ_linkage(threshold = 0.5)\n",
    "        print(f'K: {K}, size {ensemble_size}:', end=' ')\n",
    "        # 計算輪廓係數\n",
    "        silhouette = metrics.silhouette_score(recents[columns],\n",
    "                                              preds.labels['co_occ_linkage'])\n",
    "        print('%.2f' % silhouette)\n",
    "        results['K'].append(K)\n",
    "        results['size'].append(ensemble_size)\n",
    "        results['silhouette'].append(silhouette)\n",
    "        \n",
    "results_df = pd.DataFrame(results)\n",
    "cross = pd.crosstab(results_df.K,\n",
    "                    results_df['size'], \n",
    "                    results_df['silhouette'],\n",
    "                    aggfunc=lambda x: x)\n",
    "print(cross)"
   ]
  }
 ],
 "metadata": {
  "kernelspec": {
   "display_name": "Python 3 (ipykernel)",
   "language": "python",
   "name": "python3"
  },
  "language_info": {
   "codemirror_mode": {
    "name": "ipython",
    "version": 3
   },
   "file_extension": ".py",
   "mimetype": "text/x-python",
   "name": "python",
   "nbconvert_exporter": "python",
   "pygments_lexer": "ipython3",
   "version": "3.7.11"
  }
 },
 "nbformat": 4,
 "nbformat_minor": 4
}
