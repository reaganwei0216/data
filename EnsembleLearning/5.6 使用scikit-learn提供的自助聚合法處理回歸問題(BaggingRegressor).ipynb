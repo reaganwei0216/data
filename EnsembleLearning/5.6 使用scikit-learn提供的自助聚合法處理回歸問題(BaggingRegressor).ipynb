{
 "cells": [
  {
   "cell_type": "markdown",
   "metadata": {},
   "source": [
    "# 5.6 使用scikit-learn提供的自助聚合法處理回歸問題(BaggingRegressor)"
   ]
  },
  {
   "cell_type": "code",
   "execution_count": 3,
   "metadata": {
    "_cell_guid": "b1076dfc-b9ad-4769-8c92-a6c4dae69d19",
    "_uuid": "8f2839f25d086af736a60e9eeb907d3b93b6e0e5",
    "execution": {
     "iopub.execute_input": "2021-11-18T08:22:20.785467Z",
     "iopub.status.busy": "2021-11-18T08:22:20.784893Z",
     "iopub.status.idle": "2021-11-18T08:22:22.09411Z",
     "shell.execute_reply": "2021-11-18T08:22:22.093215Z",
     "shell.execute_reply.started": "2021-11-18T08:22:20.785366Z"
    }
   },
   "outputs": [],
   "source": [
    "# --- 第 1 部分 ---\n",
    "# 載入函式庫與資料\n",
    "from sklearn.datasets import load_diabetes\n",
    "from sklearn.tree import DecisionTreeRegressor\n",
    "from sklearn.ensemble import BaggingRegressor\n",
    "from sklearn import metrics\n",
    "import numpy as np\n",
    "diabetes = load_diabetes()\n",
    "\n",
    "np.random.seed(1234)\n",
    "\n",
    "train_x, train_y = diabetes.data[:400], diabetes.target[:400]\n",
    "test_x, test_y = diabetes.data[400:], diabetes.target[400:]\n"
   ]
  },
  {
   "cell_type": "code",
   "execution_count": 4,
   "metadata": {
    "execution": {
     "iopub.execute_input": "2021-11-18T08:22:22.095976Z",
     "iopub.status.busy": "2021-11-18T08:22:22.095659Z",
     "iopub.status.idle": "2021-11-18T08:22:22.100601Z",
     "shell.execute_reply": "2021-11-18T08:22:22.099572Z",
     "shell.execute_reply.started": "2021-11-18T08:22:22.095936Z"
    }
   },
   "outputs": [],
   "source": [
    "# --- 第 2 部分 ---\n",
    "# 建立集成模型\n",
    "estimator = DecisionTreeRegressor(max_depth=6)\n",
    "ensemble = BaggingRegressor(base_estimator=estimator,\n",
    "                            n_estimators=10)\n"
   ]
  },
  {
   "cell_type": "code",
   "execution_count": 5,
   "metadata": {
    "execution": {
     "iopub.execute_input": "2021-11-18T08:22:22.102392Z",
     "iopub.status.busy": "2021-11-18T08:22:22.101993Z",
     "iopub.status.idle": "2021-11-18T08:22:22.15351Z",
     "shell.execute_reply": "2021-11-18T08:22:22.152584Z",
     "shell.execute_reply.started": "2021-11-18T08:22:22.10235Z"
    }
   },
   "outputs": [],
   "source": [
    "# --- 第 3 部分 ---\n",
    "# 訓練並評估模型\n",
    "ensemble.fit(train_x, train_y)\n",
    "ensemble_predictions = ensemble.predict(test_x)\n",
    "\n",
    "estimator.fit(train_x, train_y)\n",
    "single_predictions = estimator.predict(test_x)\n",
    "\n",
    "ensemble_r2 = metrics.r2_score(test_y, ensemble_predictions)\n",
    "ensemble_mse = metrics.mean_squared_error(test_y, \n",
    "                                          ensemble_predictions)\n",
    "\n",
    "single_r2 = metrics.r2_score(test_y, single_predictions)\n",
    "single_mse = metrics.mean_squared_error(test_y, \n",
    "                                        single_predictions)\n"
   ]
  },
  {
   "cell_type": "code",
   "execution_count": 6,
   "metadata": {
    "execution": {
     "iopub.execute_input": "2021-11-18T08:22:22.155328Z",
     "iopub.status.busy": "2021-11-18T08:22:22.155093Z",
     "iopub.status.idle": "2021-11-18T08:22:22.161635Z",
     "shell.execute_reply": "2021-11-18T08:22:22.160961Z",
     "shell.execute_reply.started": "2021-11-18T08:22:22.155302Z"
    }
   },
   "outputs": [
    {
     "name": "stdout",
     "output_type": "stream",
     "text": [
      "Bagging r-squared: 0.52\n",
      "Bagging MSE: 2684.82\n",
      "------------------------------\n",
      "Decision Tree r-squared: 0.15\n",
      "Decision Tree MSE: 4733.35\n"
     ]
    }
   ],
   "source": [
    "# --- 第 4 部分 ---\n",
    "# 顯示結果\n",
    "print('Bagging r-squared: %.2f' % ensemble_r2)\n",
    "print('Bagging MSE: %.2f' % ensemble_mse)\n",
    "print('-'*30)\n",
    "print('Decision Tree r-squared: %.2f' % single_r2)\n",
    "print('Decision Tree MSE: %.2f' % single_mse)\n",
    "###\n"
   ]
  },
  {
   "cell_type": "code",
   "execution_count": null,
   "metadata": {},
   "outputs": [],
   "source": []
  }
 ],
 "metadata": {
  "kernelspec": {
   "display_name": "Python 3 (ipykernel)",
   "language": "python",
   "name": "python3"
  },
  "language_info": {
   "codemirror_mode": {
    "name": "ipython",
    "version": 3
   },
   "file_extension": ".py",
   "mimetype": "text/x-python",
   "name": "python",
   "nbconvert_exporter": "python",
   "pygments_lexer": "ipython3",
   "version": "3.7.11"
  }
 },
 "nbformat": 4,
 "nbformat_minor": 4
}
