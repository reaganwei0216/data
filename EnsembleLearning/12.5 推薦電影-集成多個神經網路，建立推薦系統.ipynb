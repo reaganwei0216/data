{
 "cells": [
  {
   "cell_type": "code",
   "execution_count": 1,
   "metadata": {
    "_cell_guid": "b1076dfc-b9ad-4769-8c92-a6c4dae69d19",
    "_uuid": "8f2839f25d086af736a60e9eeb907d3b93b6e0e5",
    "execution": {
     "iopub.execute_input": "2021-12-29T06:50:26.946962Z",
     "iopub.status.busy": "2021-12-29T06:50:26.945243Z",
     "iopub.status.idle": "2021-12-29T06:50:33.808549Z",
     "shell.execute_reply": "2021-12-29T06:50:33.807621Z",
     "shell.execute_reply.started": "2021-12-29T06:50:26.946822Z"
    },
    "scrolled": true
   },
   "outputs": [
    {
     "name": "stderr",
     "output_type": "stream",
     "text": [
      "Using TensorFlow backend.\n",
      "C:\\Users\\011305\\Anaconda3\\envs\\py37\\lib\\site-packages\\tensorflow\\python\\framework\\dtypes.py:516: FutureWarning: Passing (type, 1) or '1type' as a synonym of type is deprecated; in a future version of numpy, it will be understood as (type, (1,)) / '(1,)type'.\n",
      "  _np_qint8 = np.dtype([(\"qint8\", np.int8, 1)])\n",
      "C:\\Users\\011305\\Anaconda3\\envs\\py37\\lib\\site-packages\\tensorflow\\python\\framework\\dtypes.py:517: FutureWarning: Passing (type, 1) or '1type' as a synonym of type is deprecated; in a future version of numpy, it will be understood as (type, (1,)) / '(1,)type'.\n",
      "  _np_quint8 = np.dtype([(\"quint8\", np.uint8, 1)])\n",
      "C:\\Users\\011305\\Anaconda3\\envs\\py37\\lib\\site-packages\\tensorflow\\python\\framework\\dtypes.py:518: FutureWarning: Passing (type, 1) or '1type' as a synonym of type is deprecated; in a future version of numpy, it will be understood as (type, (1,)) / '(1,)type'.\n",
      "  _np_qint16 = np.dtype([(\"qint16\", np.int16, 1)])\n",
      "C:\\Users\\011305\\Anaconda3\\envs\\py37\\lib\\site-packages\\tensorflow\\python\\framework\\dtypes.py:519: FutureWarning: Passing (type, 1) or '1type' as a synonym of type is deprecated; in a future version of numpy, it will be understood as (type, (1,)) / '(1,)type'.\n",
      "  _np_quint16 = np.dtype([(\"quint16\", np.uint16, 1)])\n",
      "C:\\Users\\011305\\Anaconda3\\envs\\py37\\lib\\site-packages\\tensorflow\\python\\framework\\dtypes.py:520: FutureWarning: Passing (type, 1) or '1type' as a synonym of type is deprecated; in a future version of numpy, it will be understood as (type, (1,)) / '(1,)type'.\n",
      "  _np_qint32 = np.dtype([(\"qint32\", np.int32, 1)])\n",
      "C:\\Users\\011305\\Anaconda3\\envs\\py37\\lib\\site-packages\\tensorflow\\python\\framework\\dtypes.py:525: FutureWarning: Passing (type, 1) or '1type' as a synonym of type is deprecated; in a future version of numpy, it will be understood as (type, (1,)) / '(1,)type'.\n",
      "  np_resource = np.dtype([(\"resource\", np.ubyte, 1)])\n"
     ]
    }
   ],
   "source": [
    "# 第 1 部分\n",
    "# 載入函式庫與資料集\n",
    "from keras.layers import Input, Embedding, Flatten, Dense, Concatenate\n",
    "from keras.models import Model\n",
    "from sklearn.model_selection import train_test_split\n",
    "from sklearn import metrics\n",
    "\n",
    "import numpy as np\n",
    "import pandas as pd\n",
    "\n",
    "np.random.seed(123456)\n",
    "data = pd.read_csv('../Data/ratings.csv')"
   ]
  },
  {
   "cell_type": "code",
   "execution_count": 2,
   "metadata": {},
   "outputs": [
    {
     "data": {
      "text/html": [
       "<div>\n",
       "<style scoped>\n",
       "    .dataframe tbody tr th:only-of-type {\n",
       "        vertical-align: middle;\n",
       "    }\n",
       "\n",
       "    .dataframe tbody tr th {\n",
       "        vertical-align: top;\n",
       "    }\n",
       "\n",
       "    .dataframe thead th {\n",
       "        text-align: right;\n",
       "    }\n",
       "</style>\n",
       "<table border=\"1\" class=\"dataframe\">\n",
       "  <thead>\n",
       "    <tr style=\"text-align: right;\">\n",
       "      <th></th>\n",
       "      <th>userId</th>\n",
       "      <th>movieId</th>\n",
       "      <th>rating</th>\n",
       "      <th>timestamp</th>\n",
       "    </tr>\n",
       "  </thead>\n",
       "  <tbody>\n",
       "    <tr>\n",
       "      <th>0</th>\n",
       "      <td>1</td>\n",
       "      <td>1</td>\n",
       "      <td>4.0</td>\n",
       "      <td>964982703</td>\n",
       "    </tr>\n",
       "    <tr>\n",
       "      <th>1</th>\n",
       "      <td>1</td>\n",
       "      <td>3</td>\n",
       "      <td>4.0</td>\n",
       "      <td>964981247</td>\n",
       "    </tr>\n",
       "    <tr>\n",
       "      <th>2</th>\n",
       "      <td>1</td>\n",
       "      <td>6</td>\n",
       "      <td>4.0</td>\n",
       "      <td>964982224</td>\n",
       "    </tr>\n",
       "    <tr>\n",
       "      <th>3</th>\n",
       "      <td>1</td>\n",
       "      <td>47</td>\n",
       "      <td>5.0</td>\n",
       "      <td>964983815</td>\n",
       "    </tr>\n",
       "    <tr>\n",
       "      <th>4</th>\n",
       "      <td>1</td>\n",
       "      <td>50</td>\n",
       "      <td>5.0</td>\n",
       "      <td>964982931</td>\n",
       "    </tr>\n",
       "  </tbody>\n",
       "</table>\n",
       "</div>"
      ],
      "text/plain": [
       "   userId  movieId  rating  timestamp\n",
       "0       1        1     4.0  964982703\n",
       "1       1        3     4.0  964981247\n",
       "2       1        6     4.0  964982224\n",
       "3       1       47     5.0  964983815\n",
       "4       1       50     5.0  964982931"
      ]
     },
     "execution_count": 2,
     "metadata": {},
     "output_type": "execute_result"
    }
   ],
   "source": [
    "data.head()"
   ]
  },
  {
   "cell_type": "code",
   "execution_count": 3,
   "metadata": {
    "_cell_guid": "b1076dfc-b9ad-4769-8c92-a6c4dae69d19",
    "_uuid": "8f2839f25d086af736a60e9eeb907d3b93b6e0e5",
    "execution": {
     "iopub.execute_input": "2021-12-29T06:50:33.810812Z",
     "iopub.status.busy": "2021-12-29T06:50:33.810376Z",
     "iopub.status.idle": "2021-12-29T06:50:34.065394Z",
     "shell.execute_reply": "2021-12-29T06:50:34.064528Z",
     "shell.execute_reply.started": "2021-12-29T06:50:33.810779Z"
    }
   },
   "outputs": [],
   "source": [
    "# 第 2 部分\n",
    "# 資料清理\n",
    "def get_data(data):\n",
    "\n",
    "    # 刪除時間\n",
    "    data.drop('timestamp', axis=1, inplace=True)\n",
    "    \n",
    "    # 抓出所有使用者跟電影索引\n",
    "    users = data.userId.unique()\n",
    "    movies = data.movieId.unique()\n",
    " \n",
    "    # 找出新索引跟原始索引的對應關係\n",
    "    # 原始索引是moveies[i]，會改成i\n",
    "    moviemap={}\n",
    "    for i in range(len(movies)):\n",
    "        moviemap[movies[i]]=i\n",
    "    usermap={}\n",
    "    for i in range(len(users)):\n",
    "        usermap[users[i]]=i\n",
    "    \n",
    "    # 根據對應關係，將原始索引更改成新索(連續整數值)\n",
    "    data.movieId = data.movieId.apply(lambda x: moviemap[x])    \n",
    "    data.userId = data.userId.apply(lambda x: usermap[x])    \n",
    "        \n",
    "    # 打亂資料\n",
    "    data = data.sample(frac=1.0).reset_index(drop=True)\n",
    "    \n",
    "    # 建立訓練資料、測試資料集\n",
    "    train, test = train_test_split(data, test_size=0.2)\n",
    "    \n",
    "    n_users = len(users)\n",
    "    n_movies = len(movies)\n",
    "\n",
    "    return train, test, n_users, n_movies\n",
    "\n",
    "train, test, n_users, n_movies = get_data(data)"
   ]
  },
  {
   "cell_type": "markdown",
   "metadata": {},
   "source": [
    "## 用堆疊法來集成多個神經網路。基學習器是三個神經網路，嵌入層的輸出維度分別是5、10、15。超學習器為貝氏Ridge迴歸。"
   ]
  },
  {
   "cell_type": "code",
   "execution_count": 4,
   "metadata": {
    "execution": {
     "iopub.execute_input": "2021-12-29T06:50:34.067595Z",
     "iopub.status.busy": "2021-12-29T06:50:34.067237Z",
     "iopub.status.idle": "2021-12-29T06:50:34.077924Z",
     "shell.execute_reply": "2021-12-29T06:50:34.077134Z",
     "shell.execute_reply.started": "2021-12-29T06:50:34.067558Z"
    }
   },
   "outputs": [],
   "source": [
    "# 第 3 部分\n",
    "# 定義基學習器的相關函式\n",
    "def create_model(n_features=5, \n",
    "                 train_model=True, \n",
    "                 load_weights=False):\n",
    "\n",
    "    fts = n_features # 嵌入層的輸出維度\n",
    "    \n",
    "    # 輸入層接收資料\n",
    "    # 嵌入層將資料轉換成n維矩陣\n",
    "    # 展平層將n維矩陣拉直成陣列\n",
    "    \n",
    "    # 處理電影索引的嵌入層\n",
    "    movie_in = Input(shape=[1], name=\"Movie\")\n",
    "    mov_embed = Embedding(n_movies, fts, name=\"Movie_Embed\")(movie_in)\n",
    "    flat_movie = Flatten(name=\"FlattenM\")(mov_embed)\n",
    "    \n",
    "    # 處理使用者索引的嵌入層\n",
    "    user_in = Input(shape=[1], name=\"User\")\n",
    "    user_inuser_embed = Embedding(n_users, fts, name=\"User_Embed\")(user_in)\n",
    "    flat_user = Flatten(name=\"FlattenU\")(user_inuser_embed)\n",
    "    \n",
    "    # 將兩個嵌入層的輸出值串接之後餵入密集層\n",
    "    concat = Concatenate()([flat_movie, flat_user])\n",
    "    dense_1 = Dense(128)(concat)\n",
    "    dense_2 = Dense(32)(dense_1)\n",
    "    out = Dense(1)(dense_2)\n",
    "    \n",
    "    # 編譯模型\n",
    "    model = Model([user_in, movie_in], out)\n",
    "    model.compile('adam', 'mean_squared_error')\n",
    "    \n",
    "    # 訓練神經網路\n",
    "    model.fit([train.userId, train.movieId], train.rating, epochs=10, verbose=1)\n",
    "    \n",
    "    return model\n",
    "\n",
    "def predictions(model):\n",
    "    # 評估神經網路\n",
    "    preds = model.predict([test.userId, test.movieId])\n",
    "    return preds\n"
   ]
  },
  {
   "cell_type": "code",
   "execution_count": 8,
   "metadata": {},
   "outputs": [
    {
     "data": {
      "text/plain": [
       "numpy.ndarray"
      ]
     },
     "execution_count": 8,
     "metadata": {},
     "output_type": "execute_result"
    }
   ],
   "source": [
    "# type(preds5)"
   ]
  },
  {
   "cell_type": "code",
   "execution_count": 7,
   "metadata": {},
   "outputs": [
    {
     "data": {
      "text/plain": [
       "(20168, 1)"
      ]
     },
     "execution_count": 7,
     "metadata": {},
     "output_type": "execute_result"
    }
   ],
   "source": [
    "# preds5.shape"
   ]
  },
  {
   "cell_type": "code",
   "execution_count": 9,
   "metadata": {},
   "outputs": [
    {
     "data": {
      "text/plain": [
       "(20168, 1)"
      ]
     },
     "execution_count": 9,
     "metadata": {},
     "output_type": "execute_result"
    }
   ],
   "source": [
    "# preds10.shape"
   ]
  },
  {
   "cell_type": "code",
   "execution_count": 12,
   "metadata": {},
   "outputs": [
    {
     "data": {
      "text/plain": [
       "(20168, 1)"
      ]
     },
     "execution_count": 12,
     "metadata": {},
     "output_type": "execute_result"
    }
   ],
   "source": [
    "# preds15.shape"
   ]
  },
  {
   "cell_type": "code",
   "execution_count": 13,
   "metadata": {},
   "outputs": [
    {
     "data": {
      "text/plain": [
       "(20168, 1, 3)"
      ]
     },
     "execution_count": 13,
     "metadata": {},
     "output_type": "execute_result"
    }
   ],
   "source": [
    "# np.stack([preds5, preds10, preds15],axis=-1).shape"
   ]
  },
  {
   "cell_type": "code",
   "execution_count": 15,
   "metadata": {},
   "outputs": [
    {
     "data": {
      "text/plain": [
       "array([[3.7907405, 3.9538522, 3.7271705]], dtype=float32)"
      ]
     },
     "execution_count": 15,
     "metadata": {},
     "output_type": "execute_result"
    }
   ],
   "source": [
    "# np.stack([preds5, preds10, preds15],axis=-1)[0]"
   ]
  },
  {
   "cell_type": "code",
   "execution_count": 24,
   "metadata": {},
   "outputs": [
    {
     "data": {
      "text/plain": [
       "(1, 3)"
      ]
     },
     "execution_count": 24,
     "metadata": {},
     "output_type": "execute_result"
    }
   ],
   "source": [
    "# np.stack([preds5, preds10, preds15],axis=-1)[0].shape"
   ]
  },
  {
   "cell_type": "code",
   "execution_count": 19,
   "metadata": {},
   "outputs": [
    {
     "data": {
      "text/plain": [
       "(20168, 1, 3)"
      ]
     },
     "execution_count": 19,
     "metadata": {},
     "output_type": "execute_result"
    }
   ],
   "source": [
    "# np.stack([preds5, preds10, preds15],axis=-1).shape"
   ]
  },
  {
   "cell_type": "code",
   "execution_count": 28,
   "metadata": {},
   "outputs": [
    {
     "data": {
      "text/plain": [
       "array([[[3.7907405, 3.9538522, 3.7271705]],\n",
       "\n",
       "       [[3.967098 , 4.132909 , 4.319345 ]],\n",
       "\n",
       "       [[3.9918156, 4.1864166, 4.029768 ]],\n",
       "\n",
       "       ...,\n",
       "\n",
       "       [[3.6014662, 3.8807626, 3.6360133]],\n",
       "\n",
       "       [[4.7140737, 4.8692975, 4.8886924]],\n",
       "\n",
       "       [[3.246836 , 3.240417 , 3.1273239]]], dtype=float32)"
      ]
     },
     "execution_count": 28,
     "metadata": {},
     "output_type": "execute_result"
    }
   ],
   "source": [
    "# np.stack([preds5, preds10, preds15],axis=-1)"
   ]
  },
  {
   "cell_type": "code",
   "execution_count": 20,
   "metadata": {},
   "outputs": [
    {
     "data": {
      "text/plain": [
       "array([[3.7907405, 3.9538522, 3.7271705],\n",
       "       [3.967098 , 4.132909 , 4.319345 ],\n",
       "       [3.9918156, 4.1864166, 4.029768 ],\n",
       "       ...,\n",
       "       [3.6014662, 3.8807626, 3.6360133],\n",
       "       [4.7140737, 4.8692975, 4.8886924],\n",
       "       [3.246836 , 3.240417 , 3.1273239]], dtype=float32)"
      ]
     },
     "execution_count": 20,
     "metadata": {},
     "output_type": "execute_result"
    }
   ],
   "source": [
    "# np.stack([preds5, preds10, preds15],axis=-1).reshape(-1, 3)"
   ]
  },
  {
   "cell_type": "code",
   "execution_count": 22,
   "metadata": {},
   "outputs": [
    {
     "data": {
      "text/plain": [
       "(20168, 3)"
      ]
     },
     "execution_count": 22,
     "metadata": {},
     "output_type": "execute_result"
    }
   ],
   "source": [
    "# np.stack([preds5, preds10, preds15],axis=-1).reshape(-1, 3).shape"
   ]
  },
  {
   "cell_type": "code",
   "execution_count": 23,
   "metadata": {},
   "outputs": [
    {
     "data": {
      "text/plain": [
       "array([3.7907405, 3.9538522, 3.7271705], dtype=float32)"
      ]
     },
     "execution_count": 23,
     "metadata": {},
     "output_type": "execute_result"
    }
   ],
   "source": [
    "# np.stack([preds5, preds10, preds15],axis=-1).reshape(-1, 3)[0]"
   ]
  },
  {
   "cell_type": "code",
   "execution_count": 25,
   "metadata": {},
   "outputs": [
    {
     "data": {
      "text/plain": [
       "(3,)"
      ]
     },
     "execution_count": 25,
     "metadata": {},
     "output_type": "execute_result"
    }
   ],
   "source": [
    "# np.stack([preds5, preds10, preds15],axis=-1).reshape(-1, 3)[0].shape"
   ]
  },
  {
   "cell_type": "code",
   "execution_count": 27,
   "metadata": {
    "execution": {
     "iopub.execute_input": "2021-12-29T06:50:34.080293Z",
     "iopub.status.busy": "2021-12-29T06:50:34.079911Z",
     "iopub.status.idle": "2021-12-29T06:54:05.162717Z",
     "shell.execute_reply": "2021-12-29T06:54:05.16178Z",
     "shell.execute_reply.started": "2021-12-29T06:50:34.080252Z"
    }
   },
   "outputs": [],
   "source": [
    "# 第 4 部分\n",
    "# 初始化基學習器\n",
    "\n",
    "model5 = create_model(5)\n",
    "model10 = create_model(10)\n",
    "model15 = create_model(15)\n",
    "\n",
    "# 使用基學習器對測試資料進行預測\n",
    "preds5 = predictions(model5)\n",
    "preds10 = predictions(model10)\n",
    "preds15 = predictions(model15)\n",
    "\n",
    "# 整合預測值成為超學習器的訓練資料\n",
    "preds = np.stack([preds5, preds10, preds15],axis=-1).reshape(-1, 3)  # (20168, 1, 3)->(20168, 3)"
   ]
  },
  {
   "cell_type": "code",
   "execution_count": 38,
   "metadata": {},
   "outputs": [
    {
     "data": {
      "text/plain": [
       "(20168, 3)"
      ]
     },
     "execution_count": 38,
     "metadata": {},
     "output_type": "execute_result"
    }
   ],
   "source": [
    "preds.shape"
   ]
  },
  {
   "cell_type": "code",
   "execution_count": 39,
   "metadata": {},
   "outputs": [
    {
     "data": {
      "text/plain": [
       "array([[3.7907405, 3.9538522, 3.7271705],\n",
       "       [3.967098 , 4.132909 , 4.319345 ],\n",
       "       [3.9918156, 4.1864166, 4.029768 ],\n",
       "       ...,\n",
       "       [3.6014662, 3.8807626, 3.6360133],\n",
       "       [4.7140737, 4.8692975, 4.8886924],\n",
       "       [3.246836 , 3.240417 , 3.1273239]], dtype=float32)"
      ]
     },
     "execution_count": 39,
     "metadata": {},
     "output_type": "execute_result"
    }
   ],
   "source": [
    "preds"
   ]
  },
  {
   "cell_type": "code",
   "execution_count": 44,
   "metadata": {},
   "outputs": [
    {
     "data": {
      "text/plain": [
       "BayesianRidge()"
      ]
     },
     "execution_count": 44,
     "metadata": {},
     "output_type": "execute_result"
    }
   ],
   "source": [
    "# 第 5 部分\n",
    "# 訓練超學習器\n",
    "from sklearn.linear_model import BayesianRidge\n",
    "meta_learner = BayesianRidge()\n",
    "meta_learner.fit(preds[:-1000], test.rating[:-1000])"
   ]
  },
  {
   "cell_type": "code",
   "execution_count": 45,
   "metadata": {
    "execution": {
     "iopub.execute_input": "2021-12-29T06:54:05.164118Z",
     "iopub.status.busy": "2021-12-29T06:54:05.163898Z",
     "iopub.status.idle": "2021-12-29T06:54:05.292504Z",
     "shell.execute_reply": "2021-12-29T06:54:05.289814Z",
     "shell.execute_reply.started": "2021-12-29T06:54:05.16409Z"
    }
   },
   "outputs": [
    {
     "name": "stdout",
     "output_type": "stream",
     "text": [
      "Base Learner 5 Features\n",
      "0.7573521303212949\n",
      "Base Learner 10 Features\n",
      "0.7976369724866421\n",
      "Base Learner 15 Features\n",
      "0.774595203453332\n",
      "Ensemble\n",
      "0.7584831311054545\n"
     ]
    }
   ],
   "source": [
    "# 第 5 部分\n",
    "# 訓練超學習器\n",
    "from sklearn.linear_model import BayesianRidge\n",
    "meta_learner = BayesianRidge()\n",
    "meta_learner.fit(preds[:-1000], test.rating[:-1000])\n",
    "\n",
    "# 用最後 1000 筆資料來評估集成後效能\n",
    "print('Base Learner 5 Features')\n",
    "print(metrics.mean_squared_error(test.rating[-1000:], preds5[-1000:]))\n",
    "print('Base Learner 10 Features')\n",
    "print(metrics.mean_squared_error(test.rating[-1000:], preds10[-1000:]))\n",
    "print('Base Learner 15 Features')\n",
    "print(metrics.mean_squared_error(test.rating[-1000:], preds15[-1000:]))\n",
    "print('Ensemble')\n",
    "print(metrics.mean_squared_error(test.rating[-1000:], meta_learner.predict(preds[-1000:])))"
   ]
  },
  {
   "cell_type": "markdown",
   "metadata": {},
   "source": [
    "## 集成後效能可以勝過單一基學習器，得到最低的均方誤差"
   ]
  },
  {
   "cell_type": "code",
   "execution_count": null,
   "metadata": {},
   "outputs": [],
   "source": []
  }
 ],
 "metadata": {
  "kernelspec": {
   "display_name": "Python 3 (ipykernel)",
   "language": "python",
   "name": "python3"
  },
  "language_info": {
   "codemirror_mode": {
    "name": "ipython",
    "version": 3
   },
   "file_extension": ".py",
   "mimetype": "text/x-python",
   "name": "python",
   "nbconvert_exporter": "python",
   "pygments_lexer": "ipython3",
   "version": "3.7.11"
  }
 },
 "nbformat": 4,
 "nbformat_minor": 4
}
