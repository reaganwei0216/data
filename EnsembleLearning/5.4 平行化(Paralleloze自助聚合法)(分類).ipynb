{
 "cells": [
  {
   "cell_type": "markdown",
   "metadata": {},
   "source": [
    "# 5.4 平行化(Paralleloze自助聚合法)(分類)"
   ]
  },
  {
   "cell_type": "code",
   "execution_count": 1,
   "metadata": {},
   "outputs": [
    {
     "data": {
      "text/plain": [
       "'E:\\\\F2387\\\\Code'"
      ]
     },
     "execution_count": 1,
     "metadata": {},
     "output_type": "execute_result"
    }
   ],
   "source": [
    "%pwd"
   ]
  },
  {
   "cell_type": "code",
   "execution_count": 26,
   "metadata": {},
   "outputs": [],
   "source": [
    "import futures3"
   ]
  },
  {
   "cell_type": "code",
   "execution_count": 3,
   "metadata": {},
   "outputs": [
    {
     "ename": "NameError",
     "evalue": "name 'concurrent' is not defined",
     "output_type": "error",
     "traceback": [
      "\u001b[1;31m---------------------------------------------------------------------------\u001b[0m",
      "\u001b[1;31mNameError\u001b[0m                                 Traceback (most recent call last)",
      "\u001b[1;32m~\\AppData\\Local\\Temp\\1/ipykernel_100248/1123934457.py\u001b[0m in \u001b[0;36m<module>\u001b[1;34m\u001b[0m\n\u001b[1;32m----> 1\u001b[1;33m \u001b[0mconcurrent\u001b[0m\u001b[1;33m.\u001b[0m\u001b[0mfutures\u001b[0m\u001b[1;33m\u001b[0m\u001b[1;33m\u001b[0m\u001b[0m\n\u001b[0m",
      "\u001b[1;31mNameError\u001b[0m: name 'concurrent' is not defined"
     ]
    }
   ],
   "source": [
    "concurrent.futures"
   ]
  },
  {
   "cell_type": "code",
   "execution_count": 2,
   "metadata": {
    "_cell_guid": "b1076dfc-b9ad-4769-8c92-a6c4dae69d19",
    "_uuid": "8f2839f25d086af736a60e9eeb907d3b93b6e0e5",
    "execution": {
     "iopub.execute_input": "2021-12-23T09:31:48.571582Z",
     "iopub.status.busy": "2021-12-23T09:31:48.570666Z",
     "iopub.status.idle": "2021-12-23T09:31:50.237524Z",
     "shell.execute_reply": "2021-12-23T09:31:50.236217Z",
     "shell.execute_reply.started": "2021-12-23T09:31:48.571486Z"
    }
   },
   "outputs": [],
   "source": [
    "# --- 第 1 部分 ---\n",
    "# 載入函式庫與資料集\n",
    "from sklearn.datasets import load_digits\n",
    "from sklearn.tree import DecisionTreeClassifier\n",
    "from sklearn import metrics\n",
    "import numpy as np\n",
    "from concurrent.futures import ProcessPoolExecutor # Multiprocessing\n",
    "digits = load_digits()\n",
    "\n",
    "np.random.seed(1)\n",
    "train_size = 1500\n",
    "train_x = digits.data[:train_size]\n",
    "train_y = digits.target[:train_size]\n",
    "test_x = digits.data[train_size:]\n",
    "test_y = digits.target[train_size:]\n"
   ]
  },
  {
   "cell_type": "code",
   "execution_count": 3,
   "metadata": {
    "execution": {
     "iopub.execute_input": "2021-12-23T09:31:50.239299Z",
     "iopub.status.busy": "2021-12-23T09:31:50.239061Z",
     "iopub.status.idle": "2021-12-23T09:31:50.247078Z",
     "shell.execute_reply": "2021-12-23T09:31:50.246398Z",
     "shell.execute_reply.started": "2021-12-23T09:31:50.239272Z"
    }
   },
   "outputs": [],
   "source": [
    "# --- 第 2 部分 ---\n",
    "def create_learner(train_x, train_y):\n",
    "    # 產生子樣本\n",
    "    bootstrap_sample_indices = np.random.randint(0, train_size, size=train_size)\n",
    "    bootstrap_x = train_x[bootstrap_sample_indices]\n",
    "    bootstrap_y = train_y[bootstrap_sample_indices]\n",
    "    # 訓練基學習器\n",
    "    dtree = DecisionTreeClassifier()\n",
    "    dtree.fit(bootstrap_x, bootstrap_y)\n",
    "    return dtree\n",
    "\n",
    "def predict(learner, test_x):\n",
    "    return learner.predict(test_x)\n"
   ]
  },
  {
   "cell_type": "code",
   "execution_count": null,
   "metadata": {},
   "outputs": [],
   "source": []
  },
  {
   "cell_type": "code",
   "execution_count": 23,
   "metadata": {
    "execution": {
     "iopub.execute_input": "2021-12-23T09:31:50.248562Z",
     "iopub.status.busy": "2021-12-23T09:31:50.248209Z",
     "iopub.status.idle": "2021-12-23T09:31:59.679217Z",
     "shell.execute_reply": "2021-12-23T09:31:59.67791Z",
     "shell.execute_reply.started": "2021-12-23T09:31:50.24853Z"
    }
   },
   "outputs": [
    {
     "ename": "BrokenProcessPool",
     "evalue": "A process in the process pool was terminated abruptly while the future was running or pending.",
     "output_type": "error",
     "traceback": [
      "\u001b[1;31m---------------------------------------------------------------------------\u001b[0m",
      "\u001b[1;31mBrokenProcessPool\u001b[0m                         Traceback (most recent call last)",
      "\u001b[1;32m~\\AppData\\Local\\Temp\\1/ipykernel_65760/3659660147.py\u001b[0m in \u001b[0;36m<module>\u001b[1;34m\u001b[0m\n\u001b[0;32m     14\u001b[0m \u001b[1;33m\u001b[0m\u001b[0m\n\u001b[0;32m     15\u001b[0m         \u001b[1;32mfor\u001b[0m \u001b[0mfuture\u001b[0m \u001b[1;32min\u001b[0m \u001b[0mfutures\u001b[0m\u001b[1;33m:\u001b[0m\u001b[1;33m\u001b[0m\u001b[1;33m\u001b[0m\u001b[0m\n\u001b[1;32m---> 16\u001b[1;33m             \u001b[0mbase_learners\u001b[0m\u001b[1;33m.\u001b[0m\u001b[0mappend\u001b[0m\u001b[1;33m(\u001b[0m\u001b[0mfuture\u001b[0m\u001b[1;33m.\u001b[0m\u001b[0mresult\u001b[0m\u001b[1;33m(\u001b[0m\u001b[1;33m)\u001b[0m\u001b[1;33m)\u001b[0m\u001b[1;33m\u001b[0m\u001b[1;33m\u001b[0m\u001b[0m\n\u001b[0m\u001b[0;32m     17\u001b[0m \u001b[1;33m\u001b[0m\u001b[0m\n\u001b[0;32m     18\u001b[0m     \u001b[1;31m# 產生基學習器的預測值\u001b[0m\u001b[1;33m\u001b[0m\u001b[1;33m\u001b[0m\u001b[1;33m\u001b[0m\u001b[0m\n",
      "\u001b[1;32m~\\Anaconda3\\envs\\py37\\lib\\concurrent\\futures\\_base.py\u001b[0m in \u001b[0;36mresult\u001b[1;34m(self, timeout)\u001b[0m\n\u001b[0;32m    433\u001b[0m                 \u001b[1;32mraise\u001b[0m \u001b[0mCancelledError\u001b[0m\u001b[1;33m(\u001b[0m\u001b[1;33m)\u001b[0m\u001b[1;33m\u001b[0m\u001b[1;33m\u001b[0m\u001b[0m\n\u001b[0;32m    434\u001b[0m             \u001b[1;32melif\u001b[0m \u001b[0mself\u001b[0m\u001b[1;33m.\u001b[0m\u001b[0m_state\u001b[0m \u001b[1;33m==\u001b[0m \u001b[0mFINISHED\u001b[0m\u001b[1;33m:\u001b[0m\u001b[1;33m\u001b[0m\u001b[1;33m\u001b[0m\u001b[0m\n\u001b[1;32m--> 435\u001b[1;33m                 \u001b[1;32mreturn\u001b[0m \u001b[0mself\u001b[0m\u001b[1;33m.\u001b[0m\u001b[0m__get_result\u001b[0m\u001b[1;33m(\u001b[0m\u001b[1;33m)\u001b[0m\u001b[1;33m\u001b[0m\u001b[1;33m\u001b[0m\u001b[0m\n\u001b[0m\u001b[0;32m    436\u001b[0m             \u001b[1;32melse\u001b[0m\u001b[1;33m:\u001b[0m\u001b[1;33m\u001b[0m\u001b[1;33m\u001b[0m\u001b[0m\n\u001b[0;32m    437\u001b[0m                 \u001b[1;32mraise\u001b[0m \u001b[0mTimeoutError\u001b[0m\u001b[1;33m(\u001b[0m\u001b[1;33m)\u001b[0m\u001b[1;33m\u001b[0m\u001b[1;33m\u001b[0m\u001b[0m\n",
      "\u001b[1;32m~\\Anaconda3\\envs\\py37\\lib\\concurrent\\futures\\_base.py\u001b[0m in \u001b[0;36m__get_result\u001b[1;34m(self)\u001b[0m\n\u001b[0;32m    382\u001b[0m     \u001b[1;32mdef\u001b[0m \u001b[0m__get_result\u001b[0m\u001b[1;33m(\u001b[0m\u001b[0mself\u001b[0m\u001b[1;33m)\u001b[0m\u001b[1;33m:\u001b[0m\u001b[1;33m\u001b[0m\u001b[1;33m\u001b[0m\u001b[0m\n\u001b[0;32m    383\u001b[0m         \u001b[1;32mif\u001b[0m \u001b[0mself\u001b[0m\u001b[1;33m.\u001b[0m\u001b[0m_exception\u001b[0m\u001b[1;33m:\u001b[0m\u001b[1;33m\u001b[0m\u001b[1;33m\u001b[0m\u001b[0m\n\u001b[1;32m--> 384\u001b[1;33m             \u001b[1;32mraise\u001b[0m \u001b[0mself\u001b[0m\u001b[1;33m.\u001b[0m\u001b[0m_exception\u001b[0m\u001b[1;33m\u001b[0m\u001b[1;33m\u001b[0m\u001b[0m\n\u001b[0m\u001b[0;32m    385\u001b[0m         \u001b[1;32melse\u001b[0m\u001b[1;33m:\u001b[0m\u001b[1;33m\u001b[0m\u001b[1;33m\u001b[0m\u001b[0m\n\u001b[0;32m    386\u001b[0m             \u001b[1;32mreturn\u001b[0m \u001b[0mself\u001b[0m\u001b[1;33m.\u001b[0m\u001b[0m_result\u001b[0m\u001b[1;33m\u001b[0m\u001b[1;33m\u001b[0m\u001b[0m\n",
      "\u001b[1;31mBrokenProcessPool\u001b[0m: A process in the process pool was terminated abruptly while the future was running or pending."
     ]
    }
   ],
   "source": [
    "# --- 第 3 部分 ---\n",
    "if __name__ == '__main__':\n",
    "\n",
    "    ensemble_size = 1000\n",
    "    base_learners = []\n",
    "\n",
    "    # 利用平行運算建立基學習器\n",
    "    with ProcessPoolExecutor() as executor:    \n",
    "        futures = []\n",
    "        for _ in range(ensemble_size):\n",
    "            future = executor.submit(create_learner, train_x, train_y)\n",
    "            futures.append(future)\n",
    "\n",
    "        for future in futures:\n",
    "            base_learners.append(future.result())\n",
    "\n",
    "    # 產生基學習器的預測值\n",
    "    base_predictions = []\n",
    "    base_accuracy = []\n",
    "    with ProcessPoolExecutor() as executor: \n",
    "        futures = []\n",
    "        for learner in base_learners:\n",
    "            future = executor.submit(predict, learner, test_x)\n",
    "            futures.append(future)\n",
    "\n",
    "        for future in futures:\n",
    "            predictions = future.result()\n",
    "            base_predictions.append(predictions)\n",
    "            acc = metrics.accuracy_score(test_y, predictions)\n",
    "            base_accuracy.append(acc)"
   ]
  },
  {
   "cell_type": "code",
   "execution_count": null,
   "metadata": {
    "execution": {
     "iopub.execute_input": "2021-12-23T09:31:59.682222Z",
     "iopub.status.busy": "2021-12-23T09:31:59.681661Z",
     "iopub.status.idle": "2021-12-23T09:31:59.95738Z",
     "shell.execute_reply": "2021-12-23T09:31:59.956453Z",
     "shell.execute_reply.started": "2021-12-23T09:31:59.682167Z"
    }
   },
   "outputs": [],
   "source": [
    "# --- 第 5 部分 ---\n",
    "# 產生集成後預測並計算準確率\n",
    "ensemble_predictions = []\n",
    "# 找出每一筆資料得票最多的類別\n",
    "for i in range(len(test_y)):\n",
    "    # 計算每個類別的得票數\n",
    "    counts = [0 for _ in range(10)]\n",
    "    for learner_p in base_predictions:\n",
    "        counts[learner_p[i]] = counts[learner_p[i]]+1\n",
    "\n",
    "    # 找到得票最多的類別\n",
    "    final = np.argmax(counts)\n",
    "    # 將此類別加入最終預測中\n",
    "    ensemble_predictions.append(final)\n",
    "\n",
    "ensemble_acc = metrics.accuracy_score(test_y, \n",
    "                                      ensemble_predictions)\n"
   ]
  },
  {
   "cell_type": "code",
   "execution_count": null,
   "metadata": {
    "execution": {
     "iopub.execute_input": "2021-12-23T09:31:59.95893Z",
     "iopub.status.busy": "2021-12-23T09:31:59.958678Z",
     "iopub.status.idle": "2021-12-23T09:32:00.092407Z",
     "shell.execute_reply": "2021-12-23T09:32:00.089725Z",
     "shell.execute_reply.started": "2021-12-23T09:31:59.958901Z"
    }
   },
   "outputs": [],
   "source": [
    "# --- 第 6 部分 ---\n",
    "# 顯示準確率，從小到大依序印出來\n",
    "print('Base Learners:')\n",
    "print('-'*30)\n",
    "for index, acc in enumerate(sorted(base_accuracy)):\n",
    "    print(f'Learner {index+1}: %.2f' % acc)\n",
    "print('-'*30)\n",
    "print('Bagging: %.2f' % ensemble_acc)"
   ]
  },
  {
   "cell_type": "code",
   "execution_count": null,
   "metadata": {},
   "outputs": [],
   "source": []
  }
 ],
 "metadata": {
  "kernelspec": {
   "display_name": "Python 3 (ipykernel)",
   "language": "python",
   "name": "python3"
  },
  "language_info": {
   "codemirror_mode": {
    "name": "ipython",
    "version": 3
   },
   "file_extension": ".py",
   "mimetype": "text/x-python",
   "name": "python",
   "nbconvert_exporter": "python",
   "pygments_lexer": "ipython3",
   "version": "3.7.11"
  }
 },
 "nbformat": 4,
 "nbformat_minor": 4
}
