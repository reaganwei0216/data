{
 "cells": [
  {
   "cell_type": "markdown",
   "metadata": {},
   "source": [
    "# 3.2 使用Python實作硬投票(分類)"
   ]
  },
  {
   "cell_type": "markdown",
   "metadata": {},
   "source": [
    "## 自製完整硬投票機制"
   ]
  },
  {
   "cell_type": "code",
   "execution_count": 1,
   "metadata": {
    "execution": {
     "iopub.execute_input": "2021-12-20T07:58:45.830183Z",
     "iopub.status.busy": "2021-12-20T07:58:45.829912Z",
     "iopub.status.idle": "2021-12-20T07:58:46.955335Z",
     "shell.execute_reply": "2021-12-20T07:58:46.954421Z",
     "shell.execute_reply.started": "2021-12-20T07:58:45.830106Z"
    }
   },
   "outputs": [],
   "source": [
    "# --- 第 1 部分 ---\n",
    "# 載入函式庫\n",
    "from sklearn import datasets, linear_model, svm, neighbors\n",
    "from sklearn.metrics import accuracy_score\n",
    "from numpy import argmax\n",
    "# 載入資料集\n",
    "breast_cancer = datasets.load_breast_cancer()\n",
    "x, y = breast_cancer.data, breast_cancer.target\n"
   ]
  },
  {
   "cell_type": "code",
   "execution_count": 2,
   "metadata": {
    "execution": {
     "iopub.execute_input": "2021-12-20T07:58:46.957189Z",
     "iopub.status.busy": "2021-12-20T07:58:46.956954Z",
     "iopub.status.idle": "2021-12-20T07:58:46.961763Z",
     "shell.execute_reply": "2021-12-20T07:58:46.960998Z",
     "shell.execute_reply.started": "2021-12-20T07:58:46.95716Z"
    }
   },
   "outputs": [],
   "source": [
    "# --- 第 2 部分 ---\n",
    "# 初始化基學習器\n",
    "learner_1 = neighbors.KNeighborsClassifier(n_neighbors = 5)\n",
    "learner_2 = linear_model.Perceptron(tol = 1e-2, random_state = 2)\n",
    "learner_3 = svm.SVC(gamma = 0.001)\n"
   ]
  },
  {
   "cell_type": "code",
   "execution_count": 3,
   "metadata": {
    "execution": {
     "iopub.execute_input": "2021-12-20T07:58:46.963057Z",
     "iopub.status.busy": "2021-12-20T07:58:46.962852Z",
     "iopub.status.idle": "2021-12-20T07:58:47.104293Z",
     "shell.execute_reply": "2021-12-20T07:58:47.103444Z",
     "shell.execute_reply.started": "2021-12-20T07:58:46.963032Z"
    }
   },
   "outputs": [
    {
     "data": {
      "text/plain": [
       "SVC(gamma=0.001)"
      ]
     },
     "execution_count": 3,
     "metadata": {},
     "output_type": "execute_result"
    }
   ],
   "source": [
    "# --- 第 3 部分 ---\n",
    "# 把資料分為訓練資料集和驗證資料集\n",
    "test_samples = 100\n",
    "x_train, y_train = x[:-test_samples], y[:-test_samples]\n",
    "x_test, y_test = x[-test_samples:], y[-test_samples:]\n",
    "\n",
    "# 訓練基學習器\n",
    "learner_1.fit(x_train, y_train)\n",
    "learner_2.fit(x_train, y_train)\n",
    "learner_3.fit(x_train, y_train)\n"
   ]
  },
  {
   "cell_type": "code",
   "execution_count": 4,
   "metadata": {
    "execution": {
     "iopub.execute_input": "2021-12-20T07:58:47.106598Z",
     "iopub.status.busy": "2021-12-20T07:58:47.106271Z",
     "iopub.status.idle": "2021-12-20T07:58:47.350147Z",
     "shell.execute_reply": "2021-12-20T07:58:47.349043Z",
     "shell.execute_reply.started": "2021-12-20T07:58:47.106567Z"
    }
   },
   "outputs": [],
   "source": [
    "# --- 第 4 部分 ---\n",
    "# 每個基學習器預測驗證資料的類別\n",
    "predictions_1 = learner_1.predict(x_test)\n",
    "predictions_2 = learner_2.predict(x_test)\n",
    "predictions_3 = learner_3.predict(x_test)\n"
   ]
  },
  {
   "cell_type": "code",
   "execution_count": 5,
   "metadata": {},
   "outputs": [
    {
     "data": {
      "text/plain": [
       "array([1, 1, 1, 1, 1, 1, 1, 0, 1, 1, 0, 1, 0, 1, 1, 1, 1, 1, 0, 1, 0, 1,\n",
       "       0, 0, 1, 1, 1, 1, 1, 0, 0, 1, 0, 1, 0, 1, 1, 1, 1, 0, 0, 1, 1, 0,\n",
       "       1, 0, 1, 0, 0, 1, 1, 1, 0, 1, 1, 1, 1, 1, 1, 1, 1, 1, 1, 1, 0, 1,\n",
       "       0, 1, 1, 1, 1, 1, 0, 1, 1, 1, 1, 1, 1, 1, 1, 1, 1, 1, 1, 1, 1, 1,\n",
       "       1, 1, 1, 1, 1, 0, 0, 0, 0, 0, 0, 1])"
      ]
     },
     "execution_count": 5,
     "metadata": {},
     "output_type": "execute_result"
    }
   ],
   "source": [
    "predictions_1"
   ]
  },
  {
   "cell_type": "code",
   "execution_count": 6,
   "metadata": {},
   "outputs": [
    {
     "data": {
      "text/plain": [
       "array([1, 1, 1, 1, 1, 1, 1, 1, 1, 1, 1, 1, 0, 1, 1, 1, 1, 1, 0, 1, 1, 1,\n",
       "       0, 0, 1, 1, 1, 1, 1, 0, 0, 1, 1, 1, 0, 1, 1, 1, 1, 1, 1, 1, 1, 0,\n",
       "       1, 0, 1, 0, 0, 1, 1, 1, 0, 1, 1, 1, 1, 1, 1, 1, 1, 1, 1, 1, 0, 1,\n",
       "       0, 1, 1, 1, 1, 1, 1, 1, 1, 1, 1, 1, 1, 1, 1, 1, 1, 1, 1, 1, 1, 1,\n",
       "       1, 1, 1, 1, 1, 1, 0, 0, 0, 0, 0, 1])"
      ]
     },
     "execution_count": 6,
     "metadata": {},
     "output_type": "execute_result"
    }
   ],
   "source": [
    "predictions_2"
   ]
  },
  {
   "cell_type": "code",
   "execution_count": 7,
   "metadata": {},
   "outputs": [
    {
     "data": {
      "text/plain": [
       "array([1, 1, 1, 0, 1, 1, 1, 0, 1, 1, 0, 1, 0, 1, 1, 0, 1, 1, 0, 1, 0, 1,\n",
       "       0, 0, 1, 1, 1, 1, 1, 0, 0, 1, 0, 1, 0, 1, 1, 1, 1, 0, 0, 1, 1, 0,\n",
       "       1, 0, 1, 0, 0, 1, 1, 1, 0, 1, 1, 1, 1, 1, 1, 0, 1, 1, 1, 0, 0, 1,\n",
       "       0, 1, 1, 1, 0, 1, 1, 1, 1, 1, 1, 1, 1, 1, 0, 1, 1, 1, 1, 1, 1, 1,\n",
       "       1, 1, 1, 1, 1, 0, 0, 0, 0, 0, 0, 0])"
      ]
     },
     "execution_count": 7,
     "metadata": {},
     "output_type": "execute_result"
    }
   ],
   "source": [
    "predictions_3"
   ]
  },
  {
   "cell_type": "code",
   "execution_count": 11,
   "metadata": {
    "execution": {
     "iopub.execute_input": "2021-12-20T07:58:47.351975Z",
     "iopub.status.busy": "2021-12-20T07:58:47.351614Z",
     "iopub.status.idle": "2021-12-20T07:58:47.360834Z",
     "shell.execute_reply": "2021-12-20T07:58:47.359905Z",
     "shell.execute_reply.started": "2021-12-20T07:58:47.351946Z"
    }
   },
   "outputs": [],
   "source": [
    "# --- 第 5 部分 ---\n",
    "# 使用硬投票結合預測\n",
    "hard_predictions = []\n",
    "# 對每一筆驗證資料\n",
    "for i in range(test_samples):\n",
    "    # 計算每個類別的得票數\n",
    "    counts = [0 for _ in range(2)]\n",
    "    counts[predictions_1[i]] = counts[predictions_1[i]]+1\n",
    "    counts[predictions_2[i]] = counts[predictions_2[i]]+1\n",
    "    counts[predictions_3[i]] = counts[predictions_3[i]]+1\n",
    "    # 找到得票最多的類別\n",
    "    final = argmax(counts)\n",
    "    # 將此類別加入最終預測中\n",
    "    hard_predictions.append(final)\n"
   ]
  },
  {
   "cell_type": "code",
   "execution_count": 10,
   "metadata": {
    "execution": {
     "iopub.execute_input": "2021-12-20T07:58:47.363006Z",
     "iopub.status.busy": "2021-12-20T07:58:47.362298Z",
     "iopub.status.idle": "2021-12-20T07:58:47.377058Z",
     "shell.execute_reply": "2021-12-20T07:58:47.376426Z",
     "shell.execute_reply.started": "2021-12-20T07:58:47.362965Z"
    }
   },
   "outputs": [
    {
     "name": "stdout",
     "output_type": "stream",
     "text": [
      "L1: 0.94\n",
      "L2: 0.92\n",
      "L3: 0.88\n",
      "------------------------------\n",
      "Hard Voting: 0.95\n"
     ]
    }
   ],
   "source": [
    "# --- 第 6 部分 ---\n",
    "# 基學習器的準確率\n",
    "print('L1:', accuracy_score(y_test, predictions_1))\n",
    "print('L2:', accuracy_score(y_test, predictions_2))\n",
    "print('L3:', accuracy_score(y_test, predictions_3))\n",
    "# 硬投票的準確率\n",
    "print('-'*30)\n",
    "print('Hard Voting:', accuracy_score(y_test, hard_predictions))\n"
   ]
  },
  {
   "cell_type": "code",
   "execution_count": 12,
   "metadata": {
    "execution": {
     "iopub.execute_input": "2021-12-20T07:58:47.378903Z",
     "iopub.status.busy": "2021-12-20T07:58:47.378188Z",
     "iopub.status.idle": "2021-12-20T07:58:47.38671Z",
     "shell.execute_reply": "2021-12-20T07:58:47.385827Z",
     "shell.execute_reply.started": "2021-12-20T07:58:47.378858Z"
    }
   },
   "outputs": [],
   "source": [
    "# --- 第 1 部分 ---\n",
    "# 載入函式庫\n",
    "import matplotlib as mpl\n",
    "import matplotlib.pyplot as plt\n",
    "# 設定視覺化風格\n",
    "mpl.style.use('seaborn-paper')\n"
   ]
  },
  {
   "cell_type": "code",
   "execution_count": 13,
   "metadata": {
    "execution": {
     "iopub.execute_input": "2021-12-20T07:58:47.388405Z",
     "iopub.status.busy": "2021-12-20T07:58:47.387803Z",
     "iopub.status.idle": "2021-12-20T07:58:47.398297Z",
     "shell.execute_reply": "2021-12-20T07:58:47.397714Z",
     "shell.execute_reply.started": "2021-12-20T07:58:47.388371Z"
    }
   },
   "outputs": [],
   "source": [
    "# --- 第 2 部分 ---\n",
    "# 計算誤差\n",
    "errors_1 = y_test-predictions_1\n",
    "errors_2 = y_test-predictions_2\n",
    "errors_3 = y_test-predictions_3\n"
   ]
  },
  {
   "cell_type": "code",
   "execution_count": 14,
   "metadata": {},
   "outputs": [
    {
     "data": {
      "text/plain": [
       "array([ 0,  0,  0,  0,  0,  0,  0,  1,  0,  0,  0,  0,  1,  0,  0,  0,  0,\n",
       "        0,  0,  0,  0,  0,  1,  0,  0,  0,  0,  0,  0,  0,  0,  0,  0,  0,\n",
       "        0,  0,  0,  0,  0,  1,  0,  0,  0,  0,  0,  0,  0,  0,  0,  0,  0,\n",
       "        0,  0,  0,  0,  0,  0,  0,  0,  0,  0,  0,  0,  0,  0,  0,  0, -1,\n",
       "        0,  0,  0,  0,  1,  0,  0,  0,  0,  0,  0,  0,  0,  0,  0,  0,  0,\n",
       "        0,  0,  0,  0,  0,  0,  0,  0,  0,  0,  0,  0,  0,  0,  0])"
      ]
     },
     "execution_count": 14,
     "metadata": {},
     "output_type": "execute_result"
    }
   ],
   "source": [
    "errors_1"
   ]
  },
  {
   "cell_type": "code",
   "execution_count": 16,
   "metadata": {},
   "outputs": [
    {
     "data": {
      "text/plain": [
       "array([ 0,  0,  0,  0,  0,  0,  0,  0,  0,  0, -1,  0,  1,  0,  0,  0,  0,\n",
       "        0,  0,  0, -1,  0,  1,  0,  0,  0,  0,  0,  0,  0,  0,  0, -1,  0,\n",
       "        0,  0,  0,  0,  0,  0, -1,  0,  0,  0,  0,  0,  0,  0,  0,  0,  0,\n",
       "        0,  0,  0,  0,  0,  0,  0,  0,  0,  0,  0,  0,  0,  0,  0,  0, -1,\n",
       "        0,  0,  0,  0,  0,  0,  0,  0,  0,  0,  0,  0,  0,  0,  0,  0,  0,\n",
       "        0,  0,  0,  0,  0,  0,  0,  0, -1,  0,  0,  0,  0,  0,  0])"
      ]
     },
     "execution_count": 16,
     "metadata": {},
     "output_type": "execute_result"
    }
   ],
   "source": [
    "errors_2"
   ]
  },
  {
   "cell_type": "code",
   "execution_count": 17,
   "metadata": {},
   "outputs": [
    {
     "data": {
      "text/plain": [
       "array([ 0,  0,  0,  1,  0,  0,  0,  1,  0,  0,  0,  0,  1,  0,  0,  1,  0,\n",
       "        0,  0,  0,  0,  0,  1,  0,  0,  0,  0,  0,  0,  0,  0,  0,  0,  0,\n",
       "        0,  0,  0,  0,  0,  1,  0,  0,  0,  0,  0,  0,  0,  0,  0,  0,  0,\n",
       "        0,  0,  0,  0,  0,  0,  0,  0,  1,  0,  0,  0,  1,  0,  0,  0, -1,\n",
       "        0,  0,  1,  0,  0,  0,  0,  0,  0,  0,  0,  0,  1,  0,  0,  0,  0,\n",
       "        0,  0,  0,  0,  0,  0,  0,  0,  0,  0,  0,  0,  0,  0,  1])"
      ]
     },
     "execution_count": 17,
     "metadata": {},
     "output_type": "execute_result"
    }
   ],
   "source": [
    "errors_3"
   ]
  },
  {
   "cell_type": "markdown",
   "metadata": {},
   "source": [
    "## 視覺化硬投票的結果"
   ]
  },
  {
   "cell_type": "code",
   "execution_count": 18,
   "metadata": {
    "execution": {
     "iopub.execute_input": "2021-12-20T07:58:47.400144Z",
     "iopub.status.busy": "2021-12-20T07:58:47.399413Z",
     "iopub.status.idle": "2021-12-20T07:58:47.693896Z",
     "shell.execute_reply": "2021-12-20T07:58:47.692883Z",
     "shell.execute_reply.started": "2021-12-20T07:58:47.400092Z"
    }
   },
   "outputs": [
    {
     "data": {
      "image/png": "[encoded data removed]",
      "text/plain": [
       "<Figure size 576x576 with 1 Axes>"
      ]
     },
     "metadata": {
      "needs_background": "light"
     },
     "output_type": "display_data"
    }
   ],
   "source": [
    "# --- 第 3 部分 ---\n",
    "# 略去正確的預測並繪製每個基學習器的誤差\n",
    "plt.figure(figsize = (8, 8))\n",
    "x=[]\n",
    "y=[]\n",
    "for i in range(len(errors_1)):\n",
    "    if not errors_1[i] == 0:\n",
    "        x.append(i)\n",
    "        y.append(errors_1[i])\n",
    "plt.scatter(x, y, marker='o', s=60, label='Learner 1 Errors')\n",
    "\n",
    "x=[]\n",
    "y=[]\n",
    "for i in range(len(errors_2)):\n",
    "    if not errors_2[i] == 0:\n",
    "        x.append(i)\n",
    "        y.append(errors_2[i])\n",
    "plt.scatter(x, y, marker='x', s=60, label='Learner 2 Errors')\n",
    "\n",
    "x=[]\n",
    "y=[]\n",
    "for i in range(len(errors_3)):\n",
    "    if not errors_3[i] == 0:\n",
    "        x.append(i)\n",
    "        y.append(errors_3[i])\n",
    "plt.scatter(x, y, marker='*', s=60, label='Learner 3 Errors')\n",
    "plt.title('Learner errors')\n",
    "plt.xlabel('Test sample')\n",
    "plt.ylabel('Error')\n",
    "plt.legend()\n",
    "plt.show()\n",
    "\n"
   ]
  },
  {
   "cell_type": "markdown",
   "metadata": {},
   "source": [
    "## 使用scikit-learn函式庫實作硬投票機制(VotingClassifier)"
   ]
  },
  {
   "cell_type": "code",
   "execution_count": 20,
   "metadata": {
    "execution": {
     "iopub.execute_input": "2021-12-20T07:58:47.695226Z",
     "iopub.status.busy": "2021-12-20T07:58:47.695009Z",
     "iopub.status.idle": "2021-12-20T07:58:47.754541Z",
     "shell.execute_reply": "2021-12-20T07:58:47.753822Z",
     "shell.execute_reply.started": "2021-12-20T07:58:47.695201Z"
    }
   },
   "outputs": [],
   "source": [
    "# --- 第 1 部分 ---\n",
    "# 載入函式庫\n",
    "from sklearn import datasets, linear_model, svm, neighbors\n",
    "from sklearn.ensemble import VotingClassifier\n",
    "from sklearn.metrics import accuracy_score\n",
    "# 載入資料集\n",
    "breast_cancer = datasets.load_breast_cancer()\n",
    "x, y = breast_cancer.data, breast_cancer.target\n",
    "\n",
    "# 把資料分為訓練集與測試集\n",
    "test_samples = 100\n",
    "x_train, y_train = x[:-test_samples], y[:-test_samples]\n",
    "x_test, y_test = x[-test_samples:], y[-test_samples:]\n"
   ]
  },
  {
   "cell_type": "code",
   "execution_count": 21,
   "metadata": {
    "execution": {
     "iopub.execute_input": "2021-12-20T07:58:47.75793Z",
     "iopub.status.busy": "2021-12-20T07:58:47.757211Z",
     "iopub.status.idle": "2021-12-20T07:58:47.763163Z",
     "shell.execute_reply": "2021-12-20T07:58:47.762246Z",
     "shell.execute_reply.started": "2021-12-20T07:58:47.757879Z"
    }
   },
   "outputs": [],
   "source": [
    "# --- 第 2 部分 ---\n",
    "# 初始化基學習器\n",
    "learner_1 = neighbors.KNeighborsClassifier(n_neighbors = 5)\n",
    "learner_2 = linear_model.Perceptron(tol = 1e-2, random_state = 2)\n",
    "learner_3 = svm.SVC(gamma = 0.001)\n"
   ]
  },
  {
   "cell_type": "code",
   "execution_count": 22,
   "metadata": {
    "execution": {
     "iopub.execute_input": "2021-12-20T07:58:47.764387Z",
     "iopub.status.busy": "2021-12-20T07:58:47.764172Z",
     "iopub.status.idle": "2021-12-20T07:58:47.775408Z",
     "shell.execute_reply": "2021-12-20T07:58:47.774638Z",
     "shell.execute_reply.started": "2021-12-20T07:58:47.764362Z"
    }
   },
   "outputs": [],
   "source": [
    "# --- 第 3 部分 ---\n",
    "# 初始化硬投票機制\n",
    "voting = VotingClassifier([('KNN', learner_1),\n",
    "                           ('Prc', learner_2),\n",
    "                           ('SVM', learner_3)])\n"
   ]
  },
  {
   "cell_type": "code",
   "execution_count": 23,
   "metadata": {
    "execution": {
     "iopub.execute_input": "2021-12-20T07:58:47.777129Z",
     "iopub.status.busy": "2021-12-20T07:58:47.776906Z",
     "iopub.status.idle": "2021-12-20T07:58:47.816203Z",
     "shell.execute_reply": "2021-12-20T07:58:47.815599Z",
     "shell.execute_reply.started": "2021-12-20T07:58:47.777104Z"
    }
   },
   "outputs": [
    {
     "data": {
      "text/plain": [
       "VotingClassifier(estimators=[('KNN', KNeighborsClassifier()),\n",
       "                             ('Prc', Perceptron(random_state=2, tol=0.01)),\n",
       "                             ('SVM', SVC(gamma=0.001))])"
      ]
     },
     "execution_count": 23,
     "metadata": {},
     "output_type": "execute_result"
    }
   ],
   "source": [
    "# --- 第 4 部分 ---\n",
    "# 訓練集成後模型\n",
    "voting.fit(x_train, y_train)\n"
   ]
  },
  {
   "cell_type": "code",
   "execution_count": 24,
   "metadata": {
    "execution": {
     "iopub.execute_input": "2021-12-20T07:58:47.817567Z",
     "iopub.status.busy": "2021-12-20T07:58:47.817211Z",
     "iopub.status.idle": "2021-12-20T07:58:47.830423Z",
     "shell.execute_reply": "2021-12-20T07:58:47.829596Z",
     "shell.execute_reply.started": "2021-12-20T07:58:47.817512Z"
    }
   },
   "outputs": [],
   "source": [
    "# --- 第 5 部分 ---\n",
    "# 使用集成後模型做預測\n",
    "hard_predictions = voting.predict(x_test)\n"
   ]
  },
  {
   "cell_type": "code",
   "execution_count": 25,
   "metadata": {
    "execution": {
     "iopub.execute_input": "2021-12-20T07:58:47.832452Z",
     "iopub.status.busy": "2021-12-20T07:58:47.831734Z",
     "iopub.status.idle": "2021-12-20T07:58:47.837945Z",
     "shell.execute_reply": "2021-12-20T07:58:47.837143Z",
     "shell.execute_reply.started": "2021-12-20T07:58:47.832419Z"
    }
   },
   "outputs": [
    {
     "name": "stdout",
     "output_type": "stream",
     "text": [
      "------------------------------\n",
      "Hard Voting: 0.95\n"
     ]
    }
   ],
   "source": [
    "# --- 第 6 部分 ---\n",
    "# 硬投票的準確率\n",
    "print('-'*30)\n",
    "print('Hard Voting:', accuracy_score(y_test, hard_predictions))\n"
   ]
  },
  {
   "cell_type": "code",
   "execution_count": null,
   "metadata": {},
   "outputs": [],
   "source": []
  }
 ],
 "metadata": {
  "kernelspec": {
   "display_name": "Python 3 (ipykernel)",
   "language": "python",
   "name": "python3"
  },
  "language_info": {
   "codemirror_mode": {
    "name": "ipython",
    "version": 3
   },
   "file_extension": ".py",
   "mimetype": "text/x-python",
   "name": "python",
   "nbconvert_exporter": "python",
   "pygments_lexer": "ipython3",
   "version": "3.7.11"
  }
 },
 "nbformat": 4,
 "nbformat_minor": 4
}
