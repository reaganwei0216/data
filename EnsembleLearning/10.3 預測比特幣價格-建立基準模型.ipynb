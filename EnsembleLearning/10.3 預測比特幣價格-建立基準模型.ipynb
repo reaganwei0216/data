{
 "cells": [
  {
   "cell_type": "code",
   "execution_count": 1,
   "metadata": {
    "_cell_guid": "b1076dfc-b9ad-4769-8c92-a6c4dae69d19",
    "_uuid": "8f2839f25d086af736a60e9eeb907d3b93b6e0e5",
    "execution": {
     "iopub.execute_input": "2022-01-06T01:17:15.455127Z",
     "iopub.status.busy": "2022-01-06T01:17:15.454785Z",
     "iopub.status.idle": "2022-01-06T01:17:16.652953Z",
     "shell.execute_reply": "2022-01-06T01:17:16.651905Z",
     "shell.execute_reply.started": "2022-01-06T01:17:15.455036Z"
    }
   },
   "outputs": [],
   "source": [
    "# 第 1 部分\n",
    "# 載入函式庫與資料集\n",
    "import numpy as np\n",
    "import pandas as pd\n",
    "import matplotlib.pyplot as plt\n",
    "from sklearn import metrics\n",
    "from sklearn.linear_model import LinearRegression\n",
    "from sklearn.model_selection import train_test_split\n",
    "\n",
    "np.random.seed(123456)\n",
    "lr = LinearRegression()\n",
    "\n",
    "data = pd.read_csv('../Data/BTC-USD.csv')"
   ]
  },
  {
   "cell_type": "code",
   "execution_count": 9,
   "metadata": {},
   "outputs": [],
   "source": [
    "# 計算變化百分比\n",
    "data['diffs'] = (data.Close.diff() / data.Close.shift(periods=1,fill_value=0)).values\n",
    "data['diffs'] = data['diffs'].fillna(0)"
   ]
  },
  {
   "cell_type": "code",
   "execution_count": 5,
   "metadata": {},
   "outputs": [
    {
     "data": {
      "text/plain": [
       "(1826,)"
      ]
     },
     "execution_count": 5,
     "metadata": {},
     "output_type": "execute_result"
    }
   ],
   "source": [
    "# (data.Close.diff() / data.Close.shift(periods = 1,fill_value = 0)).values.shape"
   ]
  },
  {
   "cell_type": "code",
   "execution_count": 7,
   "metadata": {},
   "outputs": [
    {
     "data": {
      "text/plain": [
       "array([        nan, -0.07192558, -0.06984264, ..., -0.00024111,\n",
       "       -0.00099787, -0.00685359])"
      ]
     },
     "execution_count": 7,
     "metadata": {},
     "output_type": "execute_result"
    }
   ],
   "source": [
    "# (data.Close.diff() / data.Close.shift(periods = 1,fill_value = 0)).values"
   ]
  },
  {
   "cell_type": "code",
   "execution_count": 6,
   "metadata": {},
   "outputs": [
    {
     "data": {
      "text/plain": [
       "(1825,)"
      ]
     },
     "execution_count": 6,
     "metadata": {},
     "output_type": "execute_result"
    }
   ],
   "source": [
    "# (data.Close.diff() / data.Close.shift(periods = 1,fill_value = 0)).values[1:].shape"
   ]
  },
  {
   "cell_type": "code",
   "execution_count": 8,
   "metadata": {},
   "outputs": [
    {
     "data": {
      "text/plain": [
       "array([-0.07192558, -0.06984264,  0.03573492, ..., -0.00024111,\n",
       "       -0.00099787, -0.00685359])"
      ]
     },
     "execution_count": 8,
     "metadata": {},
     "output_type": "execute_result"
    }
   ],
   "source": [
    "# (data.Close.diff() / data.Close.shift(periods = 1,fill_value = 0)).values[1:]"
   ]
  },
  {
   "cell_type": "code",
   "execution_count": 10,
   "metadata": {},
   "outputs": [
    {
     "data": {
      "text/html": [
       "<div>\n",
       "<style scoped>\n",
       "    .dataframe tbody tr th:only-of-type {\n",
       "        vertical-align: middle;\n",
       "    }\n",
       "\n",
       "    .dataframe tbody tr th {\n",
       "        vertical-align: top;\n",
       "    }\n",
       "\n",
       "    .dataframe thead th {\n",
       "        text-align: right;\n",
       "    }\n",
       "</style>\n",
       "<table border=\"1\" class=\"dataframe\">\n",
       "  <thead>\n",
       "    <tr style=\"text-align: right;\">\n",
       "      <th></th>\n",
       "      <th>Date</th>\n",
       "      <th>Open</th>\n",
       "      <th>High</th>\n",
       "      <th>Low</th>\n",
       "      <th>Close</th>\n",
       "      <th>Adj Close</th>\n",
       "      <th>Volume</th>\n",
       "      <th>diffs</th>\n",
       "    </tr>\n",
       "  </thead>\n",
       "  <tbody>\n",
       "    <tr>\n",
       "      <th>0</th>\n",
       "      <td>2014-09-17</td>\n",
       "      <td>465.864014</td>\n",
       "      <td>468.174011</td>\n",
       "      <td>452.421997</td>\n",
       "      <td>457.334015</td>\n",
       "      <td>457.334015</td>\n",
       "      <td>21056800</td>\n",
       "      <td>0.000000</td>\n",
       "    </tr>\n",
       "    <tr>\n",
       "      <th>1</th>\n",
       "      <td>2014-09-18</td>\n",
       "      <td>456.859985</td>\n",
       "      <td>456.859985</td>\n",
       "      <td>413.104004</td>\n",
       "      <td>424.440002</td>\n",
       "      <td>424.440002</td>\n",
       "      <td>34483200</td>\n",
       "      <td>-0.071926</td>\n",
       "    </tr>\n",
       "    <tr>\n",
       "      <th>2</th>\n",
       "      <td>2014-09-19</td>\n",
       "      <td>424.102997</td>\n",
       "      <td>427.834991</td>\n",
       "      <td>384.532013</td>\n",
       "      <td>394.795990</td>\n",
       "      <td>394.795990</td>\n",
       "      <td>37919700</td>\n",
       "      <td>-0.069843</td>\n",
       "    </tr>\n",
       "    <tr>\n",
       "      <th>3</th>\n",
       "      <td>2014-09-20</td>\n",
       "      <td>394.673004</td>\n",
       "      <td>423.295990</td>\n",
       "      <td>389.882996</td>\n",
       "      <td>408.903992</td>\n",
       "      <td>408.903992</td>\n",
       "      <td>36863600</td>\n",
       "      <td>0.035735</td>\n",
       "    </tr>\n",
       "    <tr>\n",
       "      <th>4</th>\n",
       "      <td>2014-09-21</td>\n",
       "      <td>408.084991</td>\n",
       "      <td>412.425995</td>\n",
       "      <td>393.181000</td>\n",
       "      <td>398.821014</td>\n",
       "      <td>398.821014</td>\n",
       "      <td>26580100</td>\n",
       "      <td>-0.024659</td>\n",
       "    </tr>\n",
       "  </tbody>\n",
       "</table>\n",
       "</div>"
      ],
      "text/plain": [
       "         Date        Open        High         Low       Close   Adj Close  \\\n",
       "0  2014-09-17  465.864014  468.174011  452.421997  457.334015  457.334015   \n",
       "1  2014-09-18  456.859985  456.859985  413.104004  424.440002  424.440002   \n",
       "2  2014-09-19  424.102997  427.834991  384.532013  394.795990  394.795990   \n",
       "3  2014-09-20  394.673004  423.295990  389.882996  408.903992  408.903992   \n",
       "4  2014-09-21  408.084991  412.425995  393.181000  398.821014  398.821014   \n",
       "\n",
       "     Volume     diffs  \n",
       "0  21056800  0.000000  \n",
       "1  34483200 -0.071926  \n",
       "2  37919700 -0.069843  \n",
       "3  36863600  0.035735  \n",
       "4  26580100 -0.024659  "
      ]
     },
     "execution_count": 10,
     "metadata": {},
     "output_type": "execute_result"
    }
   ],
   "source": [
    "data.head()"
   ]
  },
  {
   "cell_type": "code",
   "execution_count": 11,
   "metadata": {
    "execution": {
     "iopub.execute_input": "2022-01-06T01:17:16.656215Z",
     "iopub.status.busy": "2022-01-06T01:17:16.655806Z",
     "iopub.status.idle": "2022-01-06T01:17:16.684464Z",
     "shell.execute_reply": "2022-01-06T01:17:16.683441Z",
     "shell.execute_reply.started": "2022-01-06T01:17:16.656163Z"
    }
   },
   "outputs": [],
   "source": [
    "# 第 2 部分\n",
    "# 特徵工程\n",
    "# 刪除資料中的缺失值\n",
    "data = data.dropna()\n",
    "# 將UTC時間轉成年月日\n",
    "data['Date'] = pd.to_datetime(data['Date'])\n",
    "# 將時間設定為索引\n",
    "data.set_index('Date', drop = True, inplace = True)\n",
    "diffs = (data.Close.diff() / data.Close.shift(periods = 1,fill_value = 0)).values[1:]\n",
    "diff_len = len(diffs)"
   ]
  },
  {
   "cell_type": "code",
   "execution_count": 12,
   "metadata": {},
   "outputs": [
    {
     "data": {
      "text/plain": [
       "1825"
      ]
     },
     "execution_count": 12,
     "metadata": {},
     "output_type": "execute_result"
    }
   ],
   "source": [
    "diff_len"
   ]
  },
  {
   "cell_type": "code",
   "execution_count": null,
   "metadata": {},
   "outputs": [],
   "source": []
  },
  {
   "cell_type": "code",
   "execution_count": 23,
   "metadata": {
    "execution": {
     "iopub.execute_input": "2022-01-06T01:17:16.686693Z",
     "iopub.status.busy": "2022-01-06T01:17:16.686168Z",
     "iopub.status.idle": "2022-01-06T01:17:16.698747Z",
     "shell.execute_reply": "2022-01-06T01:17:16.697807Z",
     "shell.execute_reply.started": "2022-01-06T01:17:16.686649Z"
    }
   },
   "outputs": [],
   "source": [
    "# 第 3 部分\n",
    "# 建立特徵\n",
    "def create_x_data(lags=1):\n",
    "    diff_data = np.zeros((diff_len, lags))\n",
    "\n",
    "    for lag in range(1, lags+1):\n",
    "        this_data = diffs[:-lag]\n",
    "        diff_data[lag:, lag-1] = this_data\n",
    "\n",
    "    return  diff_data\n",
    "\n",
    "# 資料可重現調整\n",
    "x_data = create_x_data(lags = 20) * 100 # 特徵是從當前時間點往回推算20筆比特幣收盤價變化百分比\n",
    "y_data = diffs * 100                    # 標籤為從當前時間點比特幣收盤價變化百分比\n",
    "\n",
    "x_data = np.around(x_data, decimals = 8)\n",
    "y_data = np.around(y_data, decimals = 8)"
   ]
  },
  {
   "cell_type": "code",
   "execution_count": 21,
   "metadata": {},
   "outputs": [
    {
     "data": {
      "text/plain": [
       "(1825, 20)"
      ]
     },
     "execution_count": 21,
     "metadata": {},
     "output_type": "execute_result"
    }
   ],
   "source": [
    "# x_data.shape"
   ]
  },
  {
   "cell_type": "code",
   "execution_count": 15,
   "metadata": {},
   "outputs": [
    {
     "data": {
      "text/plain": [
       "array([[ 0.        ,  0.        ,  0.        , ...,  0.        ,\n",
       "         0.        ,  0.        ],\n",
       "       [-7.19255772,  0.        ,  0.        , ...,  0.        ,\n",
       "         0.        ,  0.        ],\n",
       "       [-6.98426441, -7.19255772,  0.        , ...,  0.        ,\n",
       "         0.        ,  0.        ],\n",
       "       ...,\n",
       "       [-0.47626776,  2.27693467,  0.61681133, ..., -1.78693977,\n",
       "         2.29128897, -0.2110575 ],\n",
       "       [-0.02411115, -0.47626776,  2.27693467, ..., -4.232263  ,\n",
       "        -1.78693977,  2.29128897],\n",
       "       [-0.09978653, -0.02411115, -0.47626776, ..., -2.50371202,\n",
       "        -4.232263  , -1.78693977]])"
      ]
     },
     "execution_count": 15,
     "metadata": {},
     "output_type": "execute_result"
    }
   ],
   "source": [
    "# x_data"
   ]
  },
  {
   "cell_type": "code",
   "execution_count": 22,
   "metadata": {},
   "outputs": [
    {
     "data": {
      "text/plain": [
       "(1825,)"
      ]
     },
     "execution_count": 22,
     "metadata": {},
     "output_type": "execute_result"
    }
   ],
   "source": [
    "# y_data.shape"
   ]
  },
  {
   "cell_type": "code",
   "execution_count": 16,
   "metadata": {},
   "outputs": [
    {
     "data": {
      "text/plain": [
       "array([-7.19255772, -6.98426441,  3.57349172, ..., -0.02411115,\n",
       "       -0.09978653, -0.68535866])"
      ]
     },
     "execution_count": 16,
     "metadata": {},
     "output_type": "execute_result"
    }
   ],
   "source": [
    "# y_data"
   ]
  },
  {
   "cell_type": "code",
   "execution_count": 24,
   "metadata": {
    "execution": {
     "iopub.execute_input": "2022-01-06T01:17:16.703083Z",
     "iopub.status.busy": "2022-01-06T01:17:16.701948Z",
     "iopub.status.idle": "2022-01-06T01:17:17.977375Z",
     "shell.execute_reply": "2022-01-06T01:17:17.976156Z",
     "shell.execute_reply.started": "2022-01-06T01:17:16.703038Z"
    }
   },
   "outputs": [
    {
     "name": "stdout",
     "output_type": "stream",
     "text": [
      "Percentages MSE: 2.77\n"
     ]
    }
   ],
   "source": [
    "# 第 4 部分\n",
    "# 訓練模型\n",
    "window = 150 # 訓練資料取150筆\n",
    "preds = np.zeros(diff_len - window)\n",
    "for i in range(diff_len - window - 1):\n",
    "    x_train = x_data[i : i + window, :]\n",
    "    y_train = y_data[i : i + window]\n",
    "    lr.fit(x_train, y_train)\n",
    "    preds[i] = lr.predict(x_data[i + window + 1, :].reshape(1, -1))\n",
    "\n",
    "print('Percentages MSE: %.2f' % \n",
    "      metrics.mean_absolute_error(y_data[window : ], preds))"
   ]
  },
  {
   "cell_type": "code",
   "execution_count": 19,
   "metadata": {
    "execution": {
     "iopub.execute_input": "2022-01-06T01:17:17.978926Z",
     "iopub.status.busy": "2022-01-06T01:17:17.978687Z",
     "iopub.status.idle": "2022-01-06T01:17:17.995528Z",
     "shell.execute_reply": "2022-01-06T01:17:17.994622Z",
     "shell.execute_reply.started": "2022-01-06T01:17:17.978895Z"
    }
   },
   "outputs": [],
   "source": [
    "def simulate(data, preds):  # (模型預測值,標籤值)\n",
    "    # 常數與暫存變數\n",
    "    buy_threshold = 0.5 # 預測比特幣價格變化百分比大於0.5%時，且未持有比特幣則投資100元買比特幣;反之低於-0.5%以當前的收盤價出售持有的比特幣\n",
    "    stake = 100\n",
    "\n",
    "    true, pred, balances = [], [], []  # 將出售價減去購買價存在balances中\n",
    "\n",
    "    buy_price = 0\n",
    "    buy_points, sell_points = [], []\n",
    "    balance = 0\n",
    "\n",
    "    start_index = len(data) - len(preds) - 1\n",
    "\n",
    "    # 計算預測值\n",
    "    for i in range(len(preds)):\n",
    "        # 昨日收盤價\n",
    "        last_close = data.Close[i+start_index-1]\n",
    "        # 今日收盤價\n",
    "        current_close = data.Close[i+start_index]\n",
    "\n",
    "        # 儲存今日收盤價\n",
    "        true.append(current_close)\n",
    "        # 儲存今日預測收盤價\n",
    "        # 使用昨日收盤價跟模型預測的變化百分比換算而得\n",
    "        pred.append(last_close*(1+preds[i]/100))\n",
    "\n",
    "\n",
    "        # 根據預測進行交易\n",
    "        # 預測會漲價並且手上沒有比特幣\n",
    "        if preds[i] > buy_threshold and buy_price == 0:\n",
    "            buy_price = true[-1]\n",
    "            buy_points.append(i)\n",
    "\n",
    "        # 預測會下跌且手上持有比特幣\n",
    "        elif preds[i] < -buy_threshold and not buy_price == 0:\n",
    "            unit = stake / buy_price\n",
    "            profit = (current_close - buy_price) * unit\n",
    "            balance += profit\n",
    "            buy_price = 0\n",
    "            sell_points.append(i)\n",
    "\n",
    "        balances.append(balance)\n",
    "\n",
    "\n",
    "    true = np.array(true)\n",
    "    pred = np.array(pred)\n",
    "\n",
    "    # 繪製圖表\n",
    "    plt.figure(figsize = (8, 8))\n",
    "    plt.scatter(buy_points, true[buy_points]+500, \n",
    "                marker='x', label = \"buy\")\n",
    "    plt.scatter(sell_points, true[sell_points]-500, \n",
    "                marker='o', label = \"sell\", s = 5)\n",
    "    plt.plot(true, label = 'True', c = 'red')\n",
    "    plt.plot(pred, label = 'pred', linestyle = '--', \n",
    "             c = 'black')\n",
    "    plt.title('Trades')\n",
    "    plt.legend()\n",
    "    plt.show()\n",
    "\n",
    "    plt.figure(figsize = (8, 8))\n",
    "    plt.plot(balances)\n",
    "    plt.title('Profit')\n",
    "    plt.show()\n",
    "    print('MSE: %.2f'%metrics.mean_squared_error(true, pred))\n",
    "    balance_df = pd.DataFrame(balances)\n",
    "\n",
    "    pct_returns = balance_df.diff()/stake\n",
    "    pct_returns = pct_returns[pct_returns != 0].dropna()\n",
    "\n",
    "\n",
    "    print('Sharpe: %.2f'%\n",
    "          (np.mean(pct_returns)/np.std(pct_returns)))\n"
   ]
  },
  {
   "cell_type": "code",
   "execution_count": 20,
   "metadata": {
    "execution": {
     "iopub.execute_input": "2022-01-06T01:17:17.9971Z",
     "iopub.status.busy": "2022-01-06T01:17:17.996711Z",
     "iopub.status.idle": "2022-01-06T01:17:18.560552Z",
     "shell.execute_reply": "2022-01-06T01:17:18.559575Z",
     "shell.execute_reply.started": "2022-01-06T01:17:17.997064Z"
    }
   },
   "outputs": [
    {
     "data": {
      "image/png": "[encoded data removed]",
      "text/plain": [
       "<Figure size 576x576 with 1 Axes>"
      ]
     },
     "metadata": {
      "needs_background": "light"
     },
     "output_type": "display_data"
    },
    {
     "data": {
      "image/png": "[encoded data removed]",
      "text/plain": [
       "<Figure size 576x576 with 1 Axes>"
      ]
     },
     "metadata": {
      "needs_background": "light"
     },
     "output_type": "display_data"
    },
    {
     "name": "stdout",
     "output_type": "stream",
     "text": [
      "MSE: 95217.10\n",
      "Sharpe: 0.16\n"
     ]
    }
   ],
   "source": [
    "simulate(data, preds) # (模型預測值,標籤值)"
   ]
  },
  {
   "cell_type": "code",
   "execution_count": null,
   "metadata": {},
   "outputs": [],
   "source": []
  }
 ],
 "metadata": {
  "kernelspec": {
   "display_name": "Python 3 (ipykernel)",
   "language": "python",
   "name": "python3"
  },
  "language_info": {
   "codemirror_mode": {
    "name": "ipython",
    "version": 3
   },
   "file_extension": ".py",
   "mimetype": "text/x-python",
   "name": "python",
   "nbconvert_exporter": "python",
   "pygments_lexer": "ipython3",
   "version": "3.7.11"
  }
 },
 "nbformat": 4,
 "nbformat_minor": 4
}
