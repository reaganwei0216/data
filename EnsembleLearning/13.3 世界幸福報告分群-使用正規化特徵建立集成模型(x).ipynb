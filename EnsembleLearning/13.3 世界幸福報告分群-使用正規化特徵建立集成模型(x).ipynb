{
 "cells": [
  {
   "cell_type": "code",
   "execution_count": null,
   "metadata": {
    "_cell_guid": "b1076dfc-b9ad-4769-8c92-a6c4dae69d19",
    "_uuid": "8f2839f25d086af736a60e9eeb907d3b93b6e0e5"
   },
   "outputs": [],
   "source": [
    "!pip install xlrd"
   ]
  },
  {
   "cell_type": "code",
   "execution_count": null,
   "metadata": {},
   "outputs": [],
   "source": [
    "# 第 1 部分\n",
    "# 載入函式庫\n",
    "import matplotlib.pyplot as plt\n",
    "import numpy as np\n",
    "import openensembles as oe \n",
    "import pandas as pd\n",
    "from sklearn import metrics\n",
    "\n",
    "# 載入資料集\n",
    "data = pd.read_excel('WHR.xls')\n",
    "regs = pd.read_excel('REG.xls')\n",
    "\n",
    "# 使用 2017 年的資料並填補缺少的項目\n",
    "recents = data[data.Year == 2017]\n",
    "recents = recents.dropna(axis=1, how=\"all\")\n",
    "recents = recents.fillna(recents.median())\n",
    "\n",
    "# 使用以下特徵\n",
    "columns = ['Log GDP per capita',\n",
    "           'Social support',\n",
    "           'Healthy life expectancy at birth',\n",
    "           'Freedom to make life choices',\n",
    "           'Generosity',\n",
    "           'Perceptions of corruption',\n",
    "           'Positive affect',\n",
    "           'Negative affect',\n",
    "           'Confidence in national government',\n",
    "           'Democratic Quality',\n",
    "           'Delivery Quality']\n",
    "\n",
    "# 特徵正規化\n",
    "normalized = recents[columns]\n",
    "normalized = normalized - normalized.mean()\n",
    "normalized = normalized / normalized.std()\n",
    "\n",
    "cluster_data = oe.data(recents[columns], columns)"
   ]
  },
  {
   "cell_type": "code",
   "execution_count": null,
   "metadata": {},
   "outputs": [],
   "source": [
    "# 第 2 部分程式\n",
    "# 建立集成模型\n",
    "np.random.seed(123456)\n",
    "results = {'K':[], 'size':[], 'silhouette': []}\n",
    "# 測試不同的子群數\n",
    "Ks = [2, 4, 6, 8, 10, 12, 14]\n",
    "# 測試不同的基學習器個數\n",
    "sizes = [5, 10, 20, 50]\n",
    "for K in Ks:\n",
    "    for ensemble_size in sizes:\n",
    "        # 初始化基學習器\n",
    "        ensemble = oe.cluster(cluster_data)\n",
    "        for i in range(ensemble_size):\n",
    "            # 訓練基學習器\n",
    "            name = f'kmeans_{ensemble_size}_{i}'\n",
    "            ensemble.cluster('parent', 'kmeans', name, K)\n",
    "\n",
    "        # 使用共現鏈組成所有基學習器的輸出\n",
    "        preds = ensemble.finish_co_occ_linkage(threshold = 0.5)\n",
    "        print(f'K: {K}, size {ensemble_size}:', end=' ')\n",
    "        # 計算輪廓係數\n",
    "        silhouette = metrics.silhouette_score(recents[columns],\n",
    "                                              preds.labels['co_occ_linkage'])\n",
    "        print('%.2f' % silhouette)\n",
    "        results['K'].append(K)\n",
    "        results['size'].append(ensemble_size)\n",
    "        results['silhouette'].append(silhouette)\n",
    "        \n",
    "results_df = pd.DataFrame(results)\n",
    "cross = pd.crosstab(results_df.K,\n",
    "                    results_df['size'], \n",
    "                    results_df['silhouette'],\n",
    "                    aggfunc=lambda x: x)\n",
    "print(cross)"
   ]
  }
 ],
 "metadata": {
  "kernelspec": {
   "display_name": "Python 3 (ipykernel)",
   "language": "python",
   "name": "python3"
  },
  "language_info": {
   "codemirror_mode": {
    "name": "ipython",
    "version": 3
   },
   "file_extension": ".py",
   "mimetype": "text/x-python",
   "name": "python",
   "nbconvert_exporter": "python",
   "pygments_lexer": "ipython3",
   "version": "3.7.11"
  }
 },
 "nbformat": 4,
 "nbformat_minor": 4
}
