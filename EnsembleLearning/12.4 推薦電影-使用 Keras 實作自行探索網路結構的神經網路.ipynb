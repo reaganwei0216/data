{
 "cells": [
  {
   "cell_type": "code",
   "execution_count": 4,
   "metadata": {
    "_cell_guid": "b1076dfc-b9ad-4769-8c92-a6c4dae69d19",
    "_uuid": "8f2839f25d086af736a60e9eeb907d3b93b6e0e5",
    "execution": {
     "iopub.execute_input": "2021-12-09T03:22:38.85883Z",
     "iopub.status.busy": "2021-12-09T03:22:38.858265Z",
     "iopub.status.idle": "2021-12-09T03:22:38.930388Z",
     "shell.execute_reply": "2021-12-09T03:22:38.929824Z",
     "shell.execute_reply.started": "2021-12-09T03:22:38.858801Z"
    }
   },
   "outputs": [],
   "source": [
    "# 第 1 部分\n",
    "# 載入函式庫與資料集\n",
    "from keras.layers import Input, Embedding, Flatten, Dense, Concatenate\n",
    "from keras.models import Model\n",
    "from sklearn.model_selection import train_test_split\n",
    "from sklearn import metrics\n",
    "\n",
    "import numpy as np\n",
    "import pandas as pd\n",
    "\n",
    "np.random.seed(123456)\n",
    "data = pd.read_csv('../Data/ratings.csv')"
   ]
  },
  {
   "cell_type": "code",
   "execution_count": 5,
   "metadata": {},
   "outputs": [
    {
     "data": {
      "text/html": [
       "<div>\n",
       "<style scoped>\n",
       "    .dataframe tbody tr th:only-of-type {\n",
       "        vertical-align: middle;\n",
       "    }\n",
       "\n",
       "    .dataframe tbody tr th {\n",
       "        vertical-align: top;\n",
       "    }\n",
       "\n",
       "    .dataframe thead th {\n",
       "        text-align: right;\n",
       "    }\n",
       "</style>\n",
       "<table border=\"1\" class=\"dataframe\">\n",
       "  <thead>\n",
       "    <tr style=\"text-align: right;\">\n",
       "      <th></th>\n",
       "      <th>userId</th>\n",
       "      <th>movieId</th>\n",
       "      <th>rating</th>\n",
       "      <th>timestamp</th>\n",
       "    </tr>\n",
       "  </thead>\n",
       "  <tbody>\n",
       "    <tr>\n",
       "      <th>0</th>\n",
       "      <td>1</td>\n",
       "      <td>1</td>\n",
       "      <td>4.0</td>\n",
       "      <td>964982703</td>\n",
       "    </tr>\n",
       "    <tr>\n",
       "      <th>1</th>\n",
       "      <td>1</td>\n",
       "      <td>3</td>\n",
       "      <td>4.0</td>\n",
       "      <td>964981247</td>\n",
       "    </tr>\n",
       "    <tr>\n",
       "      <th>2</th>\n",
       "      <td>1</td>\n",
       "      <td>6</td>\n",
       "      <td>4.0</td>\n",
       "      <td>964982224</td>\n",
       "    </tr>\n",
       "    <tr>\n",
       "      <th>3</th>\n",
       "      <td>1</td>\n",
       "      <td>47</td>\n",
       "      <td>5.0</td>\n",
       "      <td>964983815</td>\n",
       "    </tr>\n",
       "    <tr>\n",
       "      <th>4</th>\n",
       "      <td>1</td>\n",
       "      <td>50</td>\n",
       "      <td>5.0</td>\n",
       "      <td>964982931</td>\n",
       "    </tr>\n",
       "  </tbody>\n",
       "</table>\n",
       "</div>"
      ],
      "text/plain": [
       "   userId  movieId  rating  timestamp\n",
       "0       1        1     4.0  964982703\n",
       "1       1        3     4.0  964981247\n",
       "2       1        6     4.0  964982224\n",
       "3       1       47     5.0  964983815\n",
       "4       1       50     5.0  964982931"
      ]
     },
     "execution_count": 5,
     "metadata": {},
     "output_type": "execute_result"
    }
   ],
   "source": [
    "data.head()"
   ]
  },
  {
   "cell_type": "code",
   "execution_count": 6,
   "metadata": {
    "_cell_guid": "b1076dfc-b9ad-4769-8c92-a6c4dae69d19",
    "_uuid": "8f2839f25d086af736a60e9eeb907d3b93b6e0e5",
    "execution": {
     "iopub.execute_input": "2021-12-09T03:22:38.932039Z",
     "iopub.status.busy": "2021-12-09T03:22:38.931748Z",
     "iopub.status.idle": "2021-12-09T03:22:39.178709Z",
     "shell.execute_reply": "2021-12-09T03:22:39.178138Z",
     "shell.execute_reply.started": "2021-12-09T03:22:38.932013Z"
    }
   },
   "outputs": [],
   "source": [
    "# 第 2 部分\n",
    "# 資料清理\n",
    "def get_data(data):\n",
    "\n",
    "    # 刪除時間\n",
    "    data.drop('timestamp', axis=1, inplace=True)\n",
    "    \n",
    "    # 抓出所有使用者跟電影索引\n",
    "    users = data.userId.unique()\n",
    "    movies = data.movieId.unique()\n",
    " \n",
    "    # 找出新索引跟原始索引的對應關係\n",
    "    # 原始索引是moveies[i]，會改成i\n",
    "    moviemap={}\n",
    "    for i in range(len(movies)):\n",
    "        moviemap[movies[i]]=i\n",
    "    usermap={}\n",
    "    for i in range(len(users)):\n",
    "        usermap[users[i]]=i\n",
    "    \n",
    "    # 根據對應關係，將原始索引更改成新索(連續整數值)\n",
    "    data.movieId = data.movieId.apply(lambda x: moviemap[x])    \n",
    "    data.userId = data.userId.apply(lambda x: usermap[x])    \n",
    "        \n",
    "    # 打亂資料\n",
    "    data = data.sample(frac=1.0).reset_index(drop=True)\n",
    "    \n",
    "    # 建立訓練資料、測試資料集\n",
    "    train, test = train_test_split(data, test_size=0.2)\n",
    "    \n",
    "    n_users = len(users)\n",
    "    n_movies = len(movies)\n",
    "\n",
    "    return train, test, n_users, n_movies\n",
    "\n",
    "train, test, n_users, n_movies = get_data(data)"
   ]
  },
  {
   "cell_type": "code",
   "execution_count": 7,
   "metadata": {
    "execution": {
     "iopub.execute_input": "2021-12-09T03:22:39.180034Z",
     "iopub.status.busy": "2021-12-09T03:22:39.179752Z",
     "iopub.status.idle": "2021-12-09T03:22:39.24429Z",
     "shell.execute_reply": "2021-12-09T03:22:39.243601Z",
     "shell.execute_reply.started": "2021-12-09T03:22:39.180009Z"
    }
   },
   "outputs": [
    {
     "name": "stdout",
     "output_type": "stream",
     "text": [
      "Model: \"model_1\"\n",
      "__________________________________________________________________________________________________\n",
      "Layer (type)                    Output Shape         Param #     Connected to                     \n",
      "==================================================================================================\n",
      "Movie (InputLayer)              (None, 1)            0                                            \n",
      "__________________________________________________________________________________________________\n",
      "User (InputLayer)               (None, 1)            0                                            \n",
      "__________________________________________________________________________________________________\n",
      "Movie_Embed (Embedding)         (None, 1, 5)         48620       Movie[0][0]                      \n",
      "__________________________________________________________________________________________________\n",
      "User_Embed (Embedding)          (None, 1, 5)         3050        User[0][0]                       \n",
      "__________________________________________________________________________________________________\n",
      "FlattenM (Flatten)              (None, 5)            0           Movie_Embed[0][0]                \n",
      "__________________________________________________________________________________________________\n",
      "FlattenU (Flatten)              (None, 5)            0           User_Embed[0][0]                 \n",
      "__________________________________________________________________________________________________\n",
      "concatenate_1 (Concatenate)     (None, 10)           0           FlattenM[0][0]                   \n",
      "                                                                 FlattenU[0][0]                   \n",
      "__________________________________________________________________________________________________\n",
      "dense_1 (Dense)                 (None, 128)          1408        concatenate_1[0][0]              \n",
      "__________________________________________________________________________________________________\n",
      "dense_2 (Dense)                 (None, 32)           4128        dense_1[0][0]                    \n",
      "__________________________________________________________________________________________________\n",
      "dense_3 (Dense)                 (None, 1)            33          dense_2[0][0]                    \n",
      "==================================================================================================\n",
      "Total params: 57,239\n",
      "Trainable params: 57,239\n",
      "Non-trainable params: 0\n",
      "__________________________________________________________________________________________________\n"
     ]
    }
   ],
   "source": [
    "# 第 3 部分\n",
    "# 建立神經網路結構\n",
    "\n",
    "fts = 5 # 嵌入層的輸出維度\n",
    "\n",
    "# 輸入層接收資料\n",
    "# 嵌入層將資料轉換成5維矩陣\n",
    "# 展平層將5維矩陣拉直成陣列\n",
    "\n",
    "# 處理電影索引的嵌入層\n",
    "movie_in = Input(shape=[1], name=\"Movie\")\n",
    "mov_embed = Embedding(n_movies, fts, name=\"Movie_Embed\")(movie_in)\n",
    "flat_movie = Flatten(name=\"FlattenM\")(mov_embed)\n",
    "\n",
    "# 處理使用者索引的嵌入層\n",
    "user_in = Input(shape=[1], name=\"User\")\n",
    "user_inuser_embed = Embedding(n_users, fts, name=\"User_Embed\")(user_in)\n",
    "flat_user = Flatten(name=\"FlattenU\")(user_inuser_embed)\n",
    "\n",
    "# 將兩個嵌入層的輸出值串接之後餵入密集層\n",
    "concat = Concatenate()([flat_movie, flat_user])\n",
    "dense_1 = Dense(128)(concat)\n",
    "dense_2 = Dense(32)(dense_1)\n",
    "out = Dense(1)(dense_2)\n",
    "\n",
    "# 編譯模型\n",
    "model = Model([user_in, movie_in], out)\n",
    "model.compile('adam', 'mean_squared_error')\n",
    "model.summary()"
   ]
  },
  {
   "cell_type": "code",
   "execution_count": 8,
   "metadata": {
    "execution": {
     "iopub.execute_input": "2021-12-09T03:22:39.245948Z",
     "iopub.status.busy": "2021-12-09T03:22:39.245767Z",
     "iopub.status.idle": "2021-12-09T03:23:37.241854Z",
     "shell.execute_reply": "2021-12-09T03:23:37.241095Z",
     "shell.execute_reply.started": "2021-12-09T03:22:39.245926Z"
    }
   },
   "outputs": [
    {
     "name": "stdout",
     "output_type": "stream",
     "text": [
      "WARNING:tensorflow:From C:\\Users\\011305\\Anaconda3\\envs\\py37\\lib\\site-packages\\keras\\backend\\tensorflow_backend.py:422: The name tf.global_variables is deprecated. Please use tf.compat.v1.global_variables instead.\n",
      "\n",
      "Epoch 1/10\n",
      "80668/80668 [==============================] - 3s 40us/step - loss: 0.9614\n",
      "Epoch 2/10\n",
      "80668/80668 [==============================] - 3s 38us/step - loss: 0.7314\n",
      "Epoch 3/10\n",
      "80668/80668 [==============================] - 3s 38us/step - loss: 0.7025\n",
      "Epoch 4/10\n",
      "80668/80668 [==============================] - 3s 39us/step - loss: 0.6878\n",
      "Epoch 5/10\n",
      "80668/80668 [==============================] - 3s 38us/step - loss: 0.6768\n",
      "Epoch 6/10\n",
      "80668/80668 [==============================] - 3s 38us/step - loss: 0.6703\n",
      "Epoch 7/10\n",
      "80668/80668 [==============================] - 3s 39us/step - loss: 0.6649\n",
      "Epoch 8/10\n",
      "80668/80668 [==============================] - 3s 38us/step - loss: 0.6607\n",
      "Epoch 9/10\n",
      "80668/80668 [==============================] - 3s 38us/step - loss: 0.6571\n",
      "Epoch 10/10\n",
      "80668/80668 [==============================] - 3s 39us/step - loss: 0.6538\n",
      "MSE: 0.7704167223986362\n"
     ]
    }
   ],
   "source": [
    "# 第 4 部分\n",
    "# 訓練神經網路\n",
    "model.fit([train.userId, train.movieId], train.rating, epochs=10, verbose=1)\n",
    "\n",
    "# 評估神經網路\n",
    "print(\"MSE:\", \n",
    "      metrics.mean_squared_error(test.rating, \n",
    "                                 model.predict([test.userId, test.movieId])))"
   ]
  },
  {
   "cell_type": "code",
   "execution_count": null,
   "metadata": {},
   "outputs": [],
   "source": []
  },
  {
   "cell_type": "code",
   "execution_count": null,
   "metadata": {},
   "outputs": [],
   "source": []
  }
 ],
 "metadata": {
  "kernelspec": {
   "display_name": "Python 3 (ipykernel)",
   "language": "python",
   "name": "python3"
  },
  "language_info": {
   "codemirror_mode": {
    "name": "ipython",
    "version": 3
   },
   "file_extension": ".py",
   "mimetype": "text/x-python",
   "name": "python",
   "nbconvert_exporter": "python",
   "pygments_lexer": "ipython3",
   "version": "3.7.11"
  }
 },
 "nbformat": 4,
 "nbformat_minor": 4
}
