{
 "cells": [
  {
   "cell_type": "code",
   "execution_count": 1,
   "metadata": {
    "colab": {},
    "colab_type": "code",
    "id": "yk4tijU2krXt"
   },
   "outputs": [],
   "source": [
    "import pandas as pd\n",
    "import requests\n",
    "import io\n",
    "import numpy as np"
   ]
  },
  {
   "cell_type": "markdown",
   "metadata": {
    "colab_type": "text",
    "id": "OudtLwiBqpek"
   },
   "source": [
    "#觀察資料"
   ]
  },
  {
   "cell_type": "code",
   "execution_count": 2,
   "metadata": {
    "colab": {},
    "colab_type": "code",
    "id": "Bnrv5POGkvXN"
   },
   "outputs": [],
   "source": [
    "url = \"https://github.com/jerrywu2013/Tensorflow_Data/raw/master/pima-indians-diabetes.csv\"\n",
    "s = requests.get(url).content\n",
    "diabetes = pd.read_csv(io.StringIO(s.decode('utf-8')))"
   ]
  },
  {
   "cell_type": "code",
   "execution_count": 3,
   "metadata": {
    "colab": {
     "base_uri": "https://localhost:8080/",
     "height": 306
    },
    "colab_type": "code",
    "executionInfo": {
     "elapsed": 2664,
     "status": "ok",
     "timestamp": 1597767633964,
     "user": {
      "displayName": "Jerry Wu",
      "photoUrl": "https://lh3.googleusercontent.com/a-/AOh14GgwwBYdSCjzetqgP6Z-QKEO6cCZ4SkgzLVjyj6IPpXCGKrFOiQc1UPWPh-CC9iqZk5_BV1u-73zzFH88gHnH_xXqtna4qvxDTZLOUmxo9Suow3OVCTMUf-rTWdtGbPsLoOwytotH2JMpK4cBSpWQUdS--S5C5Zhfhl3SlV22Nr7-T9cie29ummn6IKn1PmsFrq9ix_UeV9QGr0wnLZjrNcpnh2p3Dw3-kTgdzo2MAmE3ag6sexCyan4TiW7i_UraIL3wWQwzPm5X7DVNwz_9Vqt0xvwZIIpSGvue_binWPosb0Z_nUQAvt7veQww_GhrqR-jEw1G82T9Lgi8xCNwP90nDPYu-GYvAsaoRcDfHOzVbrgicrpeM4sv8sNSfbTCZDcfAwoyb-cQXaOmrcLEXw_6RTQMTR3T-on25RPb0RZp48POTaZb4RfMvTqs0q7jzg9z1J66nMUoBLvtoISVZUPD1c4zOzw7o6u7jiqs_uD9g5ukSzNoceu1R_Pbwli8_T_1G3MlXz9MzWocAAEruah0nErptb3VW4nVG4JgrrPJWXKHUoB5lZXtM5Zq_mmFXhnayDqvePLkl2y505pzii87yj8vJzKp_Q2iGnxw4MT7uzpTo9Z2-_yosRqQ9ir_zjKMg9ztEya32Dt__1g6ULAsVjmpcS0GQ-P-1hR8idtQcPK3MQvjggUQdVRVZQEHsYdlL4EKZPO4RHviqLZ8RTuyPU3k87vXFg_ZGPk65dltzybQ0oA_K5sAEyT5dMIQHNlZg=s64",
      "userId": "04264918358957182897"
     },
     "user_tz": -480
    },
    "id": "DcUpGcmRkzAK",
    "outputId": "02ee9d94-13ae-4927-8e4a-5bec1239116f"
   },
   "outputs": [
    {
     "name": "stdout",
     "output_type": "stream",
     "text": [
      "<class 'pandas.core.frame.DataFrame'>\n",
      "RangeIndex: 768 entries, 0 to 767\n",
      "Data columns (total 10 columns):\n",
      " #   Column                 Non-Null Count  Dtype  \n",
      "---  ------                 --------------  -----  \n",
      " 0   Number_pregnant        768 non-null    int64  \n",
      " 1   Glucose_concentration  768 non-null    float64\n",
      " 2   Blood_pressure         768 non-null    float64\n",
      " 3   Triceps                768 non-null    float64\n",
      " 4   Insulin                768 non-null    float64\n",
      " 5   BMI                    768 non-null    float64\n",
      " 6   Pedigree               768 non-null    float64\n",
      " 7   Age                    768 non-null    int64  \n",
      " 8   Class                  768 non-null    int64  \n",
      " 9   Group                  768 non-null    object \n",
      "dtypes: float64(6), int64(3), object(1)\n",
      "memory usage: 60.1+ KB\n"
     ]
    }
   ],
   "source": [
    "diabetes.info()"
   ]
  },
  {
   "cell_type": "code",
   "execution_count": 4,
   "metadata": {
    "colab": {
     "base_uri": "https://localhost:8080/",
     "height": 204
    },
    "colab_type": "code",
    "executionInfo": {
     "elapsed": 2653,
     "status": "ok",
     "timestamp": 1597767633965,
     "user": {
      "displayName": "Jerry Wu",
      "photoUrl": "https://lh3.googleusercontent.com/a-/AOh14GgwwBYdSCjzetqgP6Z-QKEO6cCZ4SkgzLVjyj6IPpXCGKrFOiQc1UPWPh-CC9iqZk5_BV1u-73zzFH88gHnH_xXqtna4qvxDTZLOUmxo9Suow3OVCTMUf-rTWdtGbPsLoOwytotH2JMpK4cBSpWQUdS--S5C5Zhfhl3SlV22Nr7-T9cie29ummn6IKn1PmsFrq9ix_UeV9QGr0wnLZjrNcpnh2p3Dw3-kTgdzo2MAmE3ag6sexCyan4TiW7i_UraIL3wWQwzPm5X7DVNwz_9Vqt0xvwZIIpSGvue_binWPosb0Z_nUQAvt7veQww_GhrqR-jEw1G82T9Lgi8xCNwP90nDPYu-GYvAsaoRcDfHOzVbrgicrpeM4sv8sNSfbTCZDcfAwoyb-cQXaOmrcLEXw_6RTQMTR3T-on25RPb0RZp48POTaZb4RfMvTqs0q7jzg9z1J66nMUoBLvtoISVZUPD1c4zOzw7o6u7jiqs_uD9g5ukSzNoceu1R_Pbwli8_T_1G3MlXz9MzWocAAEruah0nErptb3VW4nVG4JgrrPJWXKHUoB5lZXtM5Zq_mmFXhnayDqvePLkl2y505pzii87yj8vJzKp_Q2iGnxw4MT7uzpTo9Z2-_yosRqQ9ir_zjKMg9ztEya32Dt__1g6ULAsVjmpcS0GQ-P-1hR8idtQcPK3MQvjggUQdVRVZQEHsYdlL4EKZPO4RHviqLZ8RTuyPU3k87vXFg_ZGPk65dltzybQ0oA_K5sAEyT5dMIQHNlZg=s64",
      "userId": "04264918358957182897"
     },
     "user_tz": -480
    },
    "id": "Vv_zRCJsk2KA",
    "outputId": "cb290613-dfdf-464e-c212-cecb1841acfc"
   },
   "outputs": [
    {
     "data": {
      "text/html": [
       "<div>\n",
       "<style scoped>\n",
       "    .dataframe tbody tr th:only-of-type {\n",
       "        vertical-align: middle;\n",
       "    }\n",
       "\n",
       "    .dataframe tbody tr th {\n",
       "        vertical-align: top;\n",
       "    }\n",
       "\n",
       "    .dataframe thead th {\n",
       "        text-align: right;\n",
       "    }\n",
       "</style>\n",
       "<table border=\"1\" class=\"dataframe\">\n",
       "  <thead>\n",
       "    <tr style=\"text-align: right;\">\n",
       "      <th></th>\n",
       "      <th>Number_pregnant</th>\n",
       "      <th>Glucose_concentration</th>\n",
       "      <th>Blood_pressure</th>\n",
       "      <th>Triceps</th>\n",
       "      <th>Insulin</th>\n",
       "      <th>BMI</th>\n",
       "      <th>Pedigree</th>\n",
       "      <th>Age</th>\n",
       "      <th>Class</th>\n",
       "      <th>Group</th>\n",
       "    </tr>\n",
       "  </thead>\n",
       "  <tbody>\n",
       "    <tr>\n",
       "      <th>0</th>\n",
       "      <td>6</td>\n",
       "      <td>0.743719</td>\n",
       "      <td>0.590164</td>\n",
       "      <td>0.353535</td>\n",
       "      <td>0.000000</td>\n",
       "      <td>0.500745</td>\n",
       "      <td>0.234415</td>\n",
       "      <td>50</td>\n",
       "      <td>1</td>\n",
       "      <td>B</td>\n",
       "    </tr>\n",
       "    <tr>\n",
       "      <th>1</th>\n",
       "      <td>1</td>\n",
       "      <td>0.427136</td>\n",
       "      <td>0.540984</td>\n",
       "      <td>0.292929</td>\n",
       "      <td>0.000000</td>\n",
       "      <td>0.396423</td>\n",
       "      <td>0.116567</td>\n",
       "      <td>31</td>\n",
       "      <td>0</td>\n",
       "      <td>C</td>\n",
       "    </tr>\n",
       "    <tr>\n",
       "      <th>2</th>\n",
       "      <td>8</td>\n",
       "      <td>0.919598</td>\n",
       "      <td>0.524590</td>\n",
       "      <td>0.000000</td>\n",
       "      <td>0.000000</td>\n",
       "      <td>0.347243</td>\n",
       "      <td>0.253629</td>\n",
       "      <td>32</td>\n",
       "      <td>1</td>\n",
       "      <td>B</td>\n",
       "    </tr>\n",
       "    <tr>\n",
       "      <th>3</th>\n",
       "      <td>1</td>\n",
       "      <td>0.447236</td>\n",
       "      <td>0.540984</td>\n",
       "      <td>0.232323</td>\n",
       "      <td>0.111111</td>\n",
       "      <td>0.418778</td>\n",
       "      <td>0.038002</td>\n",
       "      <td>21</td>\n",
       "      <td>0</td>\n",
       "      <td>B</td>\n",
       "    </tr>\n",
       "    <tr>\n",
       "      <th>4</th>\n",
       "      <td>0</td>\n",
       "      <td>0.688442</td>\n",
       "      <td>0.327869</td>\n",
       "      <td>0.353535</td>\n",
       "      <td>0.198582</td>\n",
       "      <td>0.642325</td>\n",
       "      <td>0.943638</td>\n",
       "      <td>33</td>\n",
       "      <td>1</td>\n",
       "      <td>C</td>\n",
       "    </tr>\n",
       "  </tbody>\n",
       "</table>\n",
       "</div>"
      ],
      "text/plain": [
       "   Number_pregnant  Glucose_concentration  Blood_pressure   Triceps   Insulin  \\\n",
       "0                6               0.743719        0.590164  0.353535  0.000000   \n",
       "1                1               0.427136        0.540984  0.292929  0.000000   \n",
       "2                8               0.919598        0.524590  0.000000  0.000000   \n",
       "3                1               0.447236        0.540984  0.232323  0.111111   \n",
       "4                0               0.688442        0.327869  0.353535  0.198582   \n",
       "\n",
       "        BMI  Pedigree  Age  Class Group  \n",
       "0  0.500745  0.234415   50      1     B  \n",
       "1  0.396423  0.116567   31      0     C  \n",
       "2  0.347243  0.253629   32      1     B  \n",
       "3  0.418778  0.038002   21      0     B  \n",
       "4  0.642325  0.943638   33      1     C  "
      ]
     },
     "execution_count": 4,
     "metadata": {},
     "output_type": "execute_result"
    }
   ],
   "source": [
    "diabetes.head()"
   ]
  },
  {
   "cell_type": "code",
   "execution_count": 5,
   "metadata": {
    "colab": {},
    "colab_type": "code",
    "id": "qhkT5LCmk_XA"
   },
   "outputs": [],
   "source": [
    "#懷孕次數(Number_pregnant)\n",
    "#口服葡萄糖耐量試驗中血漿葡萄糖濃度為2小時(Glucose_concentration)\n",
    "#舒張壓(Blood_pressure (mm Hg))\n",
    "#三頭肌皮膚褶皺厚度(Triceps (mm))\n",
    "#2小時血清胰島素(Insulin (mu U/ml))\n",
    "#體重指數（體重kg /（身高m）^ 2）(BMI (weight in kg/(height in m)^2))\n",
    "#糖尿病家族函數(Pedigree)\n",
    "#年齡(Age (years))\n",
    "#分類(Class variable (0 or 1)) - 1為陽性 0為陰性\n",
    "#群組(A,B,C)"
   ]
  },
  {
   "cell_type": "markdown",
   "metadata": {
    "colab_type": "text",
    "id": "-Z_Owx1tqm4n"
   },
   "source": [
    "#資料清理"
   ]
  },
  {
   "cell_type": "code",
   "execution_count": 6,
   "metadata": {
    "colab": {},
    "colab_type": "code",
    "id": "g6RlVgnBqoAV"
   },
   "outputs": [],
   "source": [
    "cols_to_norm = ['Number_pregnant', 'Glucose_concentration', 'Blood_pressure', 'Triceps',\n",
    "       'Insulin', 'BMI', 'Pedigree']"
   ]
  },
  {
   "cell_type": "code",
   "execution_count": 7,
   "metadata": {
    "colab": {},
    "colab_type": "code",
    "id": "0-ZH5_WQqwSW"
   },
   "outputs": [],
   "source": [
    "diabetes[cols_to_norm] = diabetes[cols_to_norm].apply(lambda x: (x - x.min()) / (x.max() - x.min()))"
   ]
  },
  {
   "cell_type": "code",
   "execution_count": 8,
   "metadata": {
    "colab": {
     "base_uri": "https://localhost:8080/",
     "height": 204
    },
    "colab_type": "code",
    "executionInfo": {
     "elapsed": 3318,
     "status": "ok",
     "timestamp": 1597767634652,
     "user": {
      "displayName": "Jerry Wu",
      "photoUrl": "https://lh3.googleusercontent.com/a-/AOh14GgwwBYdSCjzetqgP6Z-QKEO6cCZ4SkgzLVjyj6IPpXCGKrFOiQc1UPWPh-CC9iqZk5_BV1u-73zzFH88gHnH_xXqtna4qvxDTZLOUmxo9Suow3OVCTMUf-rTWdtGbPsLoOwytotH2JMpK4cBSpWQUdS--S5C5Zhfhl3SlV22Nr7-T9cie29ummn6IKn1PmsFrq9ix_UeV9QGr0wnLZjrNcpnh2p3Dw3-kTgdzo2MAmE3ag6sexCyan4TiW7i_UraIL3wWQwzPm5X7DVNwz_9Vqt0xvwZIIpSGvue_binWPosb0Z_nUQAvt7veQww_GhrqR-jEw1G82T9Lgi8xCNwP90nDPYu-GYvAsaoRcDfHOzVbrgicrpeM4sv8sNSfbTCZDcfAwoyb-cQXaOmrcLEXw_6RTQMTR3T-on25RPb0RZp48POTaZb4RfMvTqs0q7jzg9z1J66nMUoBLvtoISVZUPD1c4zOzw7o6u7jiqs_uD9g5ukSzNoceu1R_Pbwli8_T_1G3MlXz9MzWocAAEruah0nErptb3VW4nVG4JgrrPJWXKHUoB5lZXtM5Zq_mmFXhnayDqvePLkl2y505pzii87yj8vJzKp_Q2iGnxw4MT7uzpTo9Z2-_yosRqQ9ir_zjKMg9ztEya32Dt__1g6ULAsVjmpcS0GQ-P-1hR8idtQcPK3MQvjggUQdVRVZQEHsYdlL4EKZPO4RHviqLZ8RTuyPU3k87vXFg_ZGPk65dltzybQ0oA_K5sAEyT5dMIQHNlZg=s64",
      "userId": "04264918358957182897"
     },
     "user_tz": -480
    },
    "id": "hiapStQgqwsF",
    "outputId": "4d669187-6c83-4255-bf9b-93b267e5d97c"
   },
   "outputs": [
    {
     "data": {
      "text/html": [
       "<div>\n",
       "<style scoped>\n",
       "    .dataframe tbody tr th:only-of-type {\n",
       "        vertical-align: middle;\n",
       "    }\n",
       "\n",
       "    .dataframe tbody tr th {\n",
       "        vertical-align: top;\n",
       "    }\n",
       "\n",
       "    .dataframe thead th {\n",
       "        text-align: right;\n",
       "    }\n",
       "</style>\n",
       "<table border=\"1\" class=\"dataframe\">\n",
       "  <thead>\n",
       "    <tr style=\"text-align: right;\">\n",
       "      <th></th>\n",
       "      <th>Number_pregnant</th>\n",
       "      <th>Glucose_concentration</th>\n",
       "      <th>Blood_pressure</th>\n",
       "      <th>Triceps</th>\n",
       "      <th>Insulin</th>\n",
       "      <th>BMI</th>\n",
       "      <th>Pedigree</th>\n",
       "      <th>Age</th>\n",
       "      <th>Class</th>\n",
       "      <th>Group</th>\n",
       "    </tr>\n",
       "  </thead>\n",
       "  <tbody>\n",
       "    <tr>\n",
       "      <th>0</th>\n",
       "      <td>0.352941</td>\n",
       "      <td>0.743719</td>\n",
       "      <td>0.590164</td>\n",
       "      <td>0.353535</td>\n",
       "      <td>0.000000</td>\n",
       "      <td>0.500745</td>\n",
       "      <td>0.234415</td>\n",
       "      <td>50</td>\n",
       "      <td>1</td>\n",
       "      <td>B</td>\n",
       "    </tr>\n",
       "    <tr>\n",
       "      <th>1</th>\n",
       "      <td>0.058824</td>\n",
       "      <td>0.427136</td>\n",
       "      <td>0.540984</td>\n",
       "      <td>0.292929</td>\n",
       "      <td>0.000000</td>\n",
       "      <td>0.396423</td>\n",
       "      <td>0.116567</td>\n",
       "      <td>31</td>\n",
       "      <td>0</td>\n",
       "      <td>C</td>\n",
       "    </tr>\n",
       "    <tr>\n",
       "      <th>2</th>\n",
       "      <td>0.470588</td>\n",
       "      <td>0.919598</td>\n",
       "      <td>0.524590</td>\n",
       "      <td>0.000000</td>\n",
       "      <td>0.000000</td>\n",
       "      <td>0.347243</td>\n",
       "      <td>0.253629</td>\n",
       "      <td>32</td>\n",
       "      <td>1</td>\n",
       "      <td>B</td>\n",
       "    </tr>\n",
       "    <tr>\n",
       "      <th>3</th>\n",
       "      <td>0.058824</td>\n",
       "      <td>0.447236</td>\n",
       "      <td>0.540984</td>\n",
       "      <td>0.232323</td>\n",
       "      <td>0.111111</td>\n",
       "      <td>0.418778</td>\n",
       "      <td>0.038002</td>\n",
       "      <td>21</td>\n",
       "      <td>0</td>\n",
       "      <td>B</td>\n",
       "    </tr>\n",
       "    <tr>\n",
       "      <th>4</th>\n",
       "      <td>0.000000</td>\n",
       "      <td>0.688442</td>\n",
       "      <td>0.327869</td>\n",
       "      <td>0.353535</td>\n",
       "      <td>0.198582</td>\n",
       "      <td>0.642325</td>\n",
       "      <td>0.943638</td>\n",
       "      <td>33</td>\n",
       "      <td>1</td>\n",
       "      <td>C</td>\n",
       "    </tr>\n",
       "  </tbody>\n",
       "</table>\n",
       "</div>"
      ],
      "text/plain": [
       "   Number_pregnant  Glucose_concentration  Blood_pressure   Triceps   Insulin  \\\n",
       "0         0.352941               0.743719        0.590164  0.353535  0.000000   \n",
       "1         0.058824               0.427136        0.540984  0.292929  0.000000   \n",
       "2         0.470588               0.919598        0.524590  0.000000  0.000000   \n",
       "3         0.058824               0.447236        0.540984  0.232323  0.111111   \n",
       "4         0.000000               0.688442        0.327869  0.353535  0.198582   \n",
       "\n",
       "        BMI  Pedigree  Age  Class Group  \n",
       "0  0.500745  0.234415   50      1     B  \n",
       "1  0.396423  0.116567   31      0     C  \n",
       "2  0.347243  0.253629   32      1     B  \n",
       "3  0.418778  0.038002   21      0     B  \n",
       "4  0.642325  0.943638   33      1     C  "
      ]
     },
     "execution_count": 8,
     "metadata": {},
     "output_type": "execute_result"
    }
   ],
   "source": [
    "diabetes.head()"
   ]
  },
  {
   "cell_type": "markdown",
   "metadata": {
    "colab_type": "text",
    "id": "fxMDu2jOrBGO"
   },
   "source": [
    "#模型函式"
   ]
  },
  {
   "cell_type": "code",
   "execution_count": 9,
   "metadata": {
    "colab": {},
    "colab_type": "code",
    "id": "PQfuktiFrF08"
   },
   "outputs": [],
   "source": [
    "from sklearn import datasets\n",
    "import pandas as pd\n",
    "import numpy as np\n",
    "from sklearn.neighbors import KNeighborsClassifier\n",
    "from sklearn.model_selection import train_test_split"
   ]
  },
  {
   "cell_type": "code",
   "execution_count": 10,
   "metadata": {
    "colab": {},
    "colab_type": "code",
    "id": "AC8lLfa3sB6k"
   },
   "outputs": [],
   "source": [
    "cols_to_norm = ['Number_pregnant', 'Glucose_concentration', 'Blood_pressure', 'Triceps', 'Insulin', 'BMI', 'Pedigree','Age']"
   ]
  },
  {
   "cell_type": "code",
   "execution_count": 11,
   "metadata": {
    "colab": {},
    "colab_type": "code",
    "id": "aSiMtb3SrGUN"
   },
   "outputs": [],
   "source": [
    "df_data = pd.DataFrame(diabetes[cols_to_norm])\n",
    "df_target = pd.DataFrame(diabetes['Class'])\n",
    "df = pd.concat([df_data,df_target],axis=1)"
   ]
  },
  {
   "cell_type": "code",
   "execution_count": null,
   "metadata": {},
   "outputs": [],
   "source": []
  },
  {
   "cell_type": "code",
   "execution_count": 12,
   "metadata": {
    "colab": {},
    "colab_type": "code",
    "id": "1NDocnChtMER"
   },
   "outputs": [],
   "source": [
    "X_train, X_test, y_train, y_test = train_test_split(df_data, df_target,\n",
    "                                                    test_size = 0.3,\n",
    "                                                    random_state=42)"
   ]
  },
  {
   "cell_type": "code",
   "execution_count": 13,
   "metadata": {
    "colab": {
     "base_uri": "https://localhost:8080/",
     "height": 34
    },
    "colab_type": "code",
    "executionInfo": {
     "elapsed": 1487,
     "status": "ok",
     "timestamp": 1597767649271,
     "user": {
      "displayName": "Jerry Wu",
      "photoUrl": "https://lh3.googleusercontent.com/a-/AOh14GgwwBYdSCjzetqgP6Z-QKEO6cCZ4SkgzLVjyj6IPpXCGKrFOiQc1UPWPh-CC9iqZk5_BV1u-73zzFH88gHnH_xXqtna4qvxDTZLOUmxo9Suow3OVCTMUf-rTWdtGbPsLoOwytotH2JMpK4cBSpWQUdS--S5C5Zhfhl3SlV22Nr7-T9cie29ummn6IKn1PmsFrq9ix_UeV9QGr0wnLZjrNcpnh2p3Dw3-kTgdzo2MAmE3ag6sexCyan4TiW7i_UraIL3wWQwzPm5X7DVNwz_9Vqt0xvwZIIpSGvue_binWPosb0Z_nUQAvt7veQww_GhrqR-jEw1G82T9Lgi8xCNwP90nDPYu-GYvAsaoRcDfHOzVbrgicrpeM4sv8sNSfbTCZDcfAwoyb-cQXaOmrcLEXw_6RTQMTR3T-on25RPb0RZp48POTaZb4RfMvTqs0q7jzg9z1J66nMUoBLvtoISVZUPD1c4zOzw7o6u7jiqs_uD9g5ukSzNoceu1R_Pbwli8_T_1G3MlXz9MzWocAAEruah0nErptb3VW4nVG4JgrrPJWXKHUoB5lZXtM5Zq_mmFXhnayDqvePLkl2y505pzii87yj8vJzKp_Q2iGnxw4MT7uzpTo9Z2-_yosRqQ9ir_zjKMg9ztEya32Dt__1g6ULAsVjmpcS0GQ-P-1hR8idtQcPK3MQvjggUQdVRVZQEHsYdlL4EKZPO4RHviqLZ8RTuyPU3k87vXFg_ZGPk65dltzybQ0oA_K5sAEyT5dMIQHNlZg=s64",
      "userId": "04264918358957182897"
     },
     "user_tz": -480
    },
    "id": "Fj1SSFlFsRG_",
    "outputId": "d4892f3c-cc15-41d6-e9fb-ed5448323417"
   },
   "outputs": [
    {
     "data": {
      "text/plain": [
       "0.7914338919925512"
      ]
     },
     "execution_count": 13,
     "metadata": {},
     "output_type": "execute_result"
    }
   ],
   "source": [
    "knn = KNeighborsClassifier()\n",
    "knn.fit(X_train,y_train.values.ravel())\n",
    "knn.score(X_train,y_train)"
   ]
  },
  {
   "cell_type": "code",
   "execution_count": 14,
   "metadata": {
    "colab": {
     "base_uri": "https://localhost:8080/",
     "height": 204
    },
    "colab_type": "code",
    "executionInfo": {
     "elapsed": 1562,
     "status": "ok",
     "timestamp": 1597767649592,
     "user": {
      "displayName": "Jerry Wu",
      "photoUrl": "https://lh3.googleusercontent.com/a-/AOh14GgwwBYdSCjzetqgP6Z-QKEO6cCZ4SkgzLVjyj6IPpXCGKrFOiQc1UPWPh-CC9iqZk5_BV1u-73zzFH88gHnH_xXqtna4qvxDTZLOUmxo9Suow3OVCTMUf-rTWdtGbPsLoOwytotH2JMpK4cBSpWQUdS--S5C5Zhfhl3SlV22Nr7-T9cie29ummn6IKn1PmsFrq9ix_UeV9QGr0wnLZjrNcpnh2p3Dw3-kTgdzo2MAmE3ag6sexCyan4TiW7i_UraIL3wWQwzPm5X7DVNwz_9Vqt0xvwZIIpSGvue_binWPosb0Z_nUQAvt7veQww_GhrqR-jEw1G82T9Lgi8xCNwP90nDPYu-GYvAsaoRcDfHOzVbrgicrpeM4sv8sNSfbTCZDcfAwoyb-cQXaOmrcLEXw_6RTQMTR3T-on25RPb0RZp48POTaZb4RfMvTqs0q7jzg9z1J66nMUoBLvtoISVZUPD1c4zOzw7o6u7jiqs_uD9g5ukSzNoceu1R_Pbwli8_T_1G3MlXz9MzWocAAEruah0nErptb3VW4nVG4JgrrPJWXKHUoB5lZXtM5Zq_mmFXhnayDqvePLkl2y505pzii87yj8vJzKp_Q2iGnxw4MT7uzpTo9Z2-_yosRqQ9ir_zjKMg9ztEya32Dt__1g6ULAsVjmpcS0GQ-P-1hR8idtQcPK3MQvjggUQdVRVZQEHsYdlL4EKZPO4RHviqLZ8RTuyPU3k87vXFg_ZGPk65dltzybQ0oA_K5sAEyT5dMIQHNlZg=s64",
      "userId": "04264918358957182897"
     },
     "user_tz": -480
    },
    "id": "TwmAqq0zspvl",
    "outputId": "ab45be43-51df-4034-bf1e-89ecd1ffcab5"
   },
   "outputs": [
    {
     "data": {
      "text/plain": [
       "array([1, 0, 0, 0, 1, 1, 0, 1, 0, 0, 0, 1, 1, 1, 0, 0, 0, 0, 1, 0, 0, 0,\n",
       "       0, 0, 0, 1, 0, 0, 0, 0, 0, 0, 1, 0, 1, 0, 0, 1, 0, 0, 0, 0, 1, 1,\n",
       "       0, 0, 0, 0, 0, 1, 0, 1, 1, 0, 0, 0, 0, 0, 0, 1, 0, 0, 1, 1, 0, 0,\n",
       "       0, 0, 0, 0, 0, 0, 0, 0, 0, 0, 1, 0, 0, 0, 1, 0, 0, 0, 0, 1, 1, 0,\n",
       "       0, 0, 0, 0, 0, 1, 0, 0, 0, 0, 0, 0, 1, 0, 1, 1, 1, 0, 0, 1, 0, 1,\n",
       "       0, 0, 0, 1, 0, 0, 0, 0, 0, 1, 0, 0, 1, 0, 0, 0, 0, 1, 0, 1, 0, 1,\n",
       "       0, 0, 1, 0, 0, 1, 1, 0, 0, 0, 0, 0, 0, 0, 0, 0, 0, 1, 0, 0, 1, 0,\n",
       "       0, 1, 0, 0, 1, 0, 0, 1, 0, 0, 0, 0, 0, 0, 1, 1, 0, 0, 1, 0, 0, 0,\n",
       "       0, 1, 0, 0, 0, 0, 0, 0, 1, 0, 0, 0, 1, 0, 0, 0, 1, 0, 0, 0, 0, 0,\n",
       "       0, 0, 1, 0, 1, 1, 0, 0, 0, 0, 1, 1, 0, 0, 0, 0, 0, 0, 0, 1, 0, 0,\n",
       "       0, 0, 0, 0, 0, 1, 0, 0, 0, 0, 1], dtype=int64)"
      ]
     },
     "execution_count": 14,
     "metadata": {},
     "output_type": "execute_result"
    }
   ],
   "source": [
    "knn.predict(X_test)"
   ]
  },
  {
   "cell_type": "code",
   "execution_count": 15,
   "metadata": {
    "colab": {},
    "colab_type": "code",
    "id": "OhbVM71b14Hi"
   },
   "outputs": [],
   "source": [
    "knn_score = knn.score(X_train,y_train)"
   ]
  },
  {
   "cell_type": "code",
   "execution_count": 16,
   "metadata": {
    "colab": {},
    "colab_type": "code",
    "id": "jOX7MKMrsoWA"
   },
   "outputs": [],
   "source": [
    "from sklearn import tree\n",
    "from sklearn.tree import DecisionTreeClassifier\n",
    "#決策樹"
   ]
  },
  {
   "cell_type": "code",
   "execution_count": 17,
   "metadata": {
    "colab": {
     "base_uri": "https://localhost:8080/",
     "height": 34
    },
    "colab_type": "code",
    "executionInfo": {
     "elapsed": 1591,
     "status": "ok",
     "timestamp": 1597767650195,
     "user": {
      "displayName": "Jerry Wu",
      "photoUrl": "https://lh3.googleusercontent.com/a-/AOh14GgwwBYdSCjzetqgP6Z-QKEO6cCZ4SkgzLVjyj6IPpXCGKrFOiQc1UPWPh-CC9iqZk5_BV1u-73zzFH88gHnH_xXqtna4qvxDTZLOUmxo9Suow3OVCTMUf-rTWdtGbPsLoOwytotH2JMpK4cBSpWQUdS--S5C5Zhfhl3SlV22Nr7-T9cie29ummn6IKn1PmsFrq9ix_UeV9QGr0wnLZjrNcpnh2p3Dw3-kTgdzo2MAmE3ag6sexCyan4TiW7i_UraIL3wWQwzPm5X7DVNwz_9Vqt0xvwZIIpSGvue_binWPosb0Z_nUQAvt7veQww_GhrqR-jEw1G82T9Lgi8xCNwP90nDPYu-GYvAsaoRcDfHOzVbrgicrpeM4sv8sNSfbTCZDcfAwoyb-cQXaOmrcLEXw_6RTQMTR3T-on25RPb0RZp48POTaZb4RfMvTqs0q7jzg9z1J66nMUoBLvtoISVZUPD1c4zOzw7o6u7jiqs_uD9g5ukSzNoceu1R_Pbwli8_T_1G3MlXz9MzWocAAEruah0nErptb3VW4nVG4JgrrPJWXKHUoB5lZXtM5Zq_mmFXhnayDqvePLkl2y505pzii87yj8vJzKp_Q2iGnxw4MT7uzpTo9Z2-_yosRqQ9ir_zjKMg9ztEya32Dt__1g6ULAsVjmpcS0GQ-P-1hR8idtQcPK3MQvjggUQdVRVZQEHsYdlL4EKZPO4RHviqLZ8RTuyPU3k87vXFg_ZGPk65dltzybQ0oA_K5sAEyT5dMIQHNlZg=s64",
      "userId": "04264918358957182897"
     },
     "user_tz": -480
    },
    "id": "vogITiOxuHbD",
    "outputId": "d9d64e74-cd88-49f6-d1a9-3256ff560588"
   },
   "outputs": [
    {
     "data": {
      "text/plain": [
       "1.0"
      ]
     },
     "execution_count": 17,
     "metadata": {},
     "output_type": "execute_result"
    }
   ],
   "source": [
    "dtc = tree.DecisionTreeClassifier()\n",
    "dtc.fit(X_train, y_train.values.ravel())\n",
    "dtc.score(X_train,y_train)"
   ]
  },
  {
   "cell_type": "code",
   "execution_count": 18,
   "metadata": {
    "colab": {},
    "colab_type": "code",
    "id": "6ORHa3y01zGF"
   },
   "outputs": [],
   "source": [
    "dtc_score = dtc.score(X_train,y_train)"
   ]
  },
  {
   "cell_type": "code",
   "execution_count": 19,
   "metadata": {
    "colab": {},
    "colab_type": "code",
    "id": "lCgIeY1suVgw"
   },
   "outputs": [],
   "source": [
    "from sklearn.ensemble import RandomForestClassifier\n",
    "#隨機森林"
   ]
  },
  {
   "cell_type": "code",
   "execution_count": 20,
   "metadata": {
    "colab": {
     "base_uri": "https://localhost:8080/",
     "height": 34
    },
    "colab_type": "code",
    "executionInfo": {
     "elapsed": 668,
     "status": "ok",
     "timestamp": 1597767655318,
     "user": {
      "displayName": "Jerry Wu",
      "photoUrl": "https://lh3.googleusercontent.com/a-/AOh14GgwwBYdSCjzetqgP6Z-QKEO6cCZ4SkgzLVjyj6IPpXCGKrFOiQc1UPWPh-CC9iqZk5_BV1u-73zzFH88gHnH_xXqtna4qvxDTZLOUmxo9Suow3OVCTMUf-rTWdtGbPsLoOwytotH2JMpK4cBSpWQUdS--S5C5Zhfhl3SlV22Nr7-T9cie29ummn6IKn1PmsFrq9ix_UeV9QGr0wnLZjrNcpnh2p3Dw3-kTgdzo2MAmE3ag6sexCyan4TiW7i_UraIL3wWQwzPm5X7DVNwz_9Vqt0xvwZIIpSGvue_binWPosb0Z_nUQAvt7veQww_GhrqR-jEw1G82T9Lgi8xCNwP90nDPYu-GYvAsaoRcDfHOzVbrgicrpeM4sv8sNSfbTCZDcfAwoyb-cQXaOmrcLEXw_6RTQMTR3T-on25RPb0RZp48POTaZb4RfMvTqs0q7jzg9z1J66nMUoBLvtoISVZUPD1c4zOzw7o6u7jiqs_uD9g5ukSzNoceu1R_Pbwli8_T_1G3MlXz9MzWocAAEruah0nErptb3VW4nVG4JgrrPJWXKHUoB5lZXtM5Zq_mmFXhnayDqvePLkl2y505pzii87yj8vJzKp_Q2iGnxw4MT7uzpTo9Z2-_yosRqQ9ir_zjKMg9ztEya32Dt__1g6ULAsVjmpcS0GQ-P-1hR8idtQcPK3MQvjggUQdVRVZQEHsYdlL4EKZPO4RHviqLZ8RTuyPU3k87vXFg_ZGPk65dltzybQ0oA_K5sAEyT5dMIQHNlZg=s64",
      "userId": "04264918358957182897"
     },
     "user_tz": -480
    },
    "id": "V5Tv5S8BustO",
    "outputId": "825dac3e-60e1-4f0a-b7db-41f14b9d297f"
   },
   "outputs": [
    {
     "data": {
      "text/plain": [
       "1.0"
      ]
     },
     "execution_count": 20,
     "metadata": {},
     "output_type": "execute_result"
    }
   ],
   "source": [
    "rf = RandomForestClassifier()\n",
    "rf.fit(X_train, y_train.values.ravel())\n",
    "rf.score(X_train,y_train)"
   ]
  },
  {
   "cell_type": "code",
   "execution_count": 21,
   "metadata": {
    "colab": {},
    "colab_type": "code",
    "id": "nF7nZyjX1vS-"
   },
   "outputs": [],
   "source": [
    "rf_score = rf.score(X_train,y_train)"
   ]
  },
  {
   "cell_type": "code",
   "execution_count": 22,
   "metadata": {
    "colab": {},
    "colab_type": "code",
    "id": "D7uOn_53uuaq"
   },
   "outputs": [],
   "source": [
    "from sklearn.naive_bayes import GaussianNB\n",
    "#高斯貝氏分類器"
   ]
  },
  {
   "cell_type": "code",
   "execution_count": 23,
   "metadata": {
    "colab": {
     "base_uri": "https://localhost:8080/",
     "height": 34
    },
    "colab_type": "code",
    "executionInfo": {
     "elapsed": 481,
     "status": "ok",
     "timestamp": 1597767657442,
     "user": {
      "displayName": "Jerry Wu",
      "photoUrl": "https://lh3.googleusercontent.com/a-/AOh14GgwwBYdSCjzetqgP6Z-QKEO6cCZ4SkgzLVjyj6IPpXCGKrFOiQc1UPWPh-CC9iqZk5_BV1u-73zzFH88gHnH_xXqtna4qvxDTZLOUmxo9Suow3OVCTMUf-rTWdtGbPsLoOwytotH2JMpK4cBSpWQUdS--S5C5Zhfhl3SlV22Nr7-T9cie29ummn6IKn1PmsFrq9ix_UeV9QGr0wnLZjrNcpnh2p3Dw3-kTgdzo2MAmE3ag6sexCyan4TiW7i_UraIL3wWQwzPm5X7DVNwz_9Vqt0xvwZIIpSGvue_binWPosb0Z_nUQAvt7veQww_GhrqR-jEw1G82T9Lgi8xCNwP90nDPYu-GYvAsaoRcDfHOzVbrgicrpeM4sv8sNSfbTCZDcfAwoyb-cQXaOmrcLEXw_6RTQMTR3T-on25RPb0RZp48POTaZb4RfMvTqs0q7jzg9z1J66nMUoBLvtoISVZUPD1c4zOzw7o6u7jiqs_uD9g5ukSzNoceu1R_Pbwli8_T_1G3MlXz9MzWocAAEruah0nErptb3VW4nVG4JgrrPJWXKHUoB5lZXtM5Zq_mmFXhnayDqvePLkl2y505pzii87yj8vJzKp_Q2iGnxw4MT7uzpTo9Z2-_yosRqQ9ir_zjKMg9ztEya32Dt__1g6ULAsVjmpcS0GQ-P-1hR8idtQcPK3MQvjggUQdVRVZQEHsYdlL4EKZPO4RHviqLZ8RTuyPU3k87vXFg_ZGPk65dltzybQ0oA_K5sAEyT5dMIQHNlZg=s64",
      "userId": "04264918358957182897"
     },
     "user_tz": -480
    },
    "id": "UvqSb90bvHOH",
    "outputId": "dcb05fa8-c88c-4312-b367-6e0122691920"
   },
   "outputs": [
    {
     "data": {
      "text/plain": [
       "0.7672253258845437"
      ]
     },
     "execution_count": 23,
     "metadata": {},
     "output_type": "execute_result"
    }
   ],
   "source": [
    "gnb = GaussianNB()\n",
    "gnb.fit(X_train, y_train.values.ravel())\n",
    "gnb.score(X_train,y_train)"
   ]
  },
  {
   "cell_type": "code",
   "execution_count": 24,
   "metadata": {
    "colab": {},
    "colab_type": "code",
    "id": "abmhmSJs1qdn"
   },
   "outputs": [],
   "source": [
    "gnb_score = gnb.score(X_train,y_train)"
   ]
  },
  {
   "cell_type": "code",
   "execution_count": 25,
   "metadata": {
    "colab": {},
    "colab_type": "code",
    "id": "ZH-muaJ8vLnS"
   },
   "outputs": [],
   "source": [
    "from sklearn.neural_network import MLPClassifier\n",
    "#多層感知神經網路分類器"
   ]
  },
  {
   "cell_type": "code",
   "execution_count": 26,
   "metadata": {
    "colab": {
     "base_uri": "https://localhost:8080/",
     "height": 34
    },
    "colab_type": "code",
    "executionInfo": {
     "elapsed": 754,
     "status": "ok",
     "timestamp": 1597767683851,
     "user": {
      "displayName": "Jerry Wu",
      "photoUrl": "https://lh3.googleusercontent.com/a-/AOh14GgwwBYdSCjzetqgP6Z-QKEO6cCZ4SkgzLVjyj6IPpXCGKrFOiQc1UPWPh-CC9iqZk5_BV1u-73zzFH88gHnH_xXqtna4qvxDTZLOUmxo9Suow3OVCTMUf-rTWdtGbPsLoOwytotH2JMpK4cBSpWQUdS--S5C5Zhfhl3SlV22Nr7-T9cie29ummn6IKn1PmsFrq9ix_UeV9QGr0wnLZjrNcpnh2p3Dw3-kTgdzo2MAmE3ag6sexCyan4TiW7i_UraIL3wWQwzPm5X7DVNwz_9Vqt0xvwZIIpSGvue_binWPosb0Z_nUQAvt7veQww_GhrqR-jEw1G82T9Lgi8xCNwP90nDPYu-GYvAsaoRcDfHOzVbrgicrpeM4sv8sNSfbTCZDcfAwoyb-cQXaOmrcLEXw_6RTQMTR3T-on25RPb0RZp48POTaZb4RfMvTqs0q7jzg9z1J66nMUoBLvtoISVZUPD1c4zOzw7o6u7jiqs_uD9g5ukSzNoceu1R_Pbwli8_T_1G3MlXz9MzWocAAEruah0nErptb3VW4nVG4JgrrPJWXKHUoB5lZXtM5Zq_mmFXhnayDqvePLkl2y505pzii87yj8vJzKp_Q2iGnxw4MT7uzpTo9Z2-_yosRqQ9ir_zjKMg9ztEya32Dt__1g6ULAsVjmpcS0GQ-P-1hR8idtQcPK3MQvjggUQdVRVZQEHsYdlL4EKZPO4RHviqLZ8RTuyPU3k87vXFg_ZGPk65dltzybQ0oA_K5sAEyT5dMIQHNlZg=s64",
      "userId": "04264918358957182897"
     },
     "user_tz": -480
    },
    "id": "hr0-9OJpv61x",
    "outputId": "3a143aff-ea99-49c3-f274-971ef0d05f68"
   },
   "outputs": [
    {
     "data": {
      "text/plain": [
       "0.7821229050279329"
      ]
     },
     "execution_count": 26,
     "metadata": {},
     "output_type": "execute_result"
    }
   ],
   "source": [
    "mlp = MLPClassifier(solver='lbfgs', alpha=1e-5, hidden_layer_sizes=(20, 8), random_state=1)\n",
    "mlp.fit(X_train, y_train.values.ravel())\n",
    "mlp.score(X_train,y_train)"
   ]
  },
  {
   "cell_type": "code",
   "execution_count": 27,
   "metadata": {
    "colab": {},
    "colab_type": "code",
    "id": "lJNUtxRm1geP"
   },
   "outputs": [],
   "source": [
    "mlp_score = mlp.score(X_train,y_train)"
   ]
  },
  {
   "cell_type": "code",
   "execution_count": 28,
   "metadata": {
    "colab": {},
    "colab_type": "code",
    "id": "25xlw6YQwD7_"
   },
   "outputs": [],
   "source": [
    "from sklearn.linear_model import LogisticRegression\n",
    "#羅吉斯迴歸"
   ]
  },
  {
   "cell_type": "code",
   "execution_count": 29,
   "metadata": {
    "colab": {
     "base_uri": "https://localhost:8080/",
     "height": 34
    },
    "colab_type": "code",
    "executionInfo": {
     "elapsed": 572,
     "status": "ok",
     "timestamp": 1597767688521,
     "user": {
      "displayName": "Jerry Wu",
      "photoUrl": "https://lh3.googleusercontent.com/a-/AOh14GgwwBYdSCjzetqgP6Z-QKEO6cCZ4SkgzLVjyj6IPpXCGKrFOiQc1UPWPh-CC9iqZk5_BV1u-73zzFH88gHnH_xXqtna4qvxDTZLOUmxo9Suow3OVCTMUf-rTWdtGbPsLoOwytotH2JMpK4cBSpWQUdS--S5C5Zhfhl3SlV22Nr7-T9cie29ummn6IKn1PmsFrq9ix_UeV9QGr0wnLZjrNcpnh2p3Dw3-kTgdzo2MAmE3ag6sexCyan4TiW7i_UraIL3wWQwzPm5X7DVNwz_9Vqt0xvwZIIpSGvue_binWPosb0Z_nUQAvt7veQww_GhrqR-jEw1G82T9Lgi8xCNwP90nDPYu-GYvAsaoRcDfHOzVbrgicrpeM4sv8sNSfbTCZDcfAwoyb-cQXaOmrcLEXw_6RTQMTR3T-on25RPb0RZp48POTaZb4RfMvTqs0q7jzg9z1J66nMUoBLvtoISVZUPD1c4zOzw7o6u7jiqs_uD9g5ukSzNoceu1R_Pbwli8_T_1G3MlXz9MzWocAAEruah0nErptb3VW4nVG4JgrrPJWXKHUoB5lZXtM5Zq_mmFXhnayDqvePLkl2y505pzii87yj8vJzKp_Q2iGnxw4MT7uzpTo9Z2-_yosRqQ9ir_zjKMg9ztEya32Dt__1g6ULAsVjmpcS0GQ-P-1hR8idtQcPK3MQvjggUQdVRVZQEHsYdlL4EKZPO4RHviqLZ8RTuyPU3k87vXFg_ZGPk65dltzybQ0oA_K5sAEyT5dMIQHNlZg=s64",
      "userId": "04264918358957182897"
     },
     "user_tz": -480
    },
    "id": "Dvhg2ZO4xJsp",
    "outputId": "e376211c-9add-4518-f9a4-feb13c2aac99"
   },
   "outputs": [
    {
     "data": {
      "text/plain": [
       "0.7616387337057728"
      ]
     },
     "execution_count": 29,
     "metadata": {},
     "output_type": "execute_result"
    }
   ],
   "source": [
    "logreg = LogisticRegression()\n",
    "logreg.fit(X_train, y_train.values.ravel())\n",
    "logreg.score(X_train,y_train)"
   ]
  },
  {
   "cell_type": "code",
   "execution_count": 30,
   "metadata": {
    "colab": {},
    "colab_type": "code",
    "id": "F2krVwO11Xrr"
   },
   "outputs": [],
   "source": [
    "logreg_score = logreg.score(X_train,y_train)"
   ]
  },
  {
   "cell_type": "code",
   "execution_count": 31,
   "metadata": {
    "colab": {},
    "colab_type": "code",
    "id": "qLG10V0hxbhl"
   },
   "outputs": [],
   "source": [
    "from sklearn.svm import SVC\n",
    "#支援向量機"
   ]
  },
  {
   "cell_type": "code",
   "execution_count": 32,
   "metadata": {
    "colab": {
     "base_uri": "https://localhost:8080/",
     "height": 34
    },
    "colab_type": "code",
    "executionInfo": {
     "elapsed": 829,
     "status": "ok",
     "timestamp": 1597767689290,
     "user": {
      "displayName": "Jerry Wu",
      "photoUrl": "https://lh3.googleusercontent.com/a-/AOh14GgwwBYdSCjzetqgP6Z-QKEO6cCZ4SkgzLVjyj6IPpXCGKrFOiQc1UPWPh-CC9iqZk5_BV1u-73zzFH88gHnH_xXqtna4qvxDTZLOUmxo9Suow3OVCTMUf-rTWdtGbPsLoOwytotH2JMpK4cBSpWQUdS--S5C5Zhfhl3SlV22Nr7-T9cie29ummn6IKn1PmsFrq9ix_UeV9QGr0wnLZjrNcpnh2p3Dw3-kTgdzo2MAmE3ag6sexCyan4TiW7i_UraIL3wWQwzPm5X7DVNwz_9Vqt0xvwZIIpSGvue_binWPosb0Z_nUQAvt7veQww_GhrqR-jEw1G82T9Lgi8xCNwP90nDPYu-GYvAsaoRcDfHOzVbrgicrpeM4sv8sNSfbTCZDcfAwoyb-cQXaOmrcLEXw_6RTQMTR3T-on25RPb0RZp48POTaZb4RfMvTqs0q7jzg9z1J66nMUoBLvtoISVZUPD1c4zOzw7o6u7jiqs_uD9g5ukSzNoceu1R_Pbwli8_T_1G3MlXz9MzWocAAEruah0nErptb3VW4nVG4JgrrPJWXKHUoB5lZXtM5Zq_mmFXhnayDqvePLkl2y505pzii87yj8vJzKp_Q2iGnxw4MT7uzpTo9Z2-_yosRqQ9ir_zjKMg9ztEya32Dt__1g6ULAsVjmpcS0GQ-P-1hR8idtQcPK3MQvjggUQdVRVZQEHsYdlL4EKZPO4RHviqLZ8RTuyPU3k87vXFg_ZGPk65dltzybQ0oA_K5sAEyT5dMIQHNlZg=s64",
      "userId": "04264918358957182897"
     },
     "user_tz": -480
    },
    "id": "AGMkttC2xtvk",
    "outputId": "c98a963c-110e-46df-c5ef-cdde2b8c4c7f"
   },
   "outputs": [
    {
     "data": {
      "text/plain": [
       "0.6797020484171322"
      ]
     },
     "execution_count": 32,
     "metadata": {},
     "output_type": "execute_result"
    }
   ],
   "source": [
    "svm_classifier = SVC()\n",
    "svm_classifier.fit(X_train, y_train.values.ravel())\n",
    "svm_classifier.score(X_train,y_train)"
   ]
  },
  {
   "cell_type": "code",
   "execution_count": 33,
   "metadata": {
    "colab": {},
    "colab_type": "code",
    "id": "v9M2q7P9zJqA"
   },
   "outputs": [],
   "source": [
    "svm_score = svm_classifier.score(X_train,y_train)"
   ]
  },
  {
   "cell_type": "code",
   "execution_count": 34,
   "metadata": {
    "colab": {
     "base_uri": "https://localhost:8080/",
     "height": 136
    },
    "colab_type": "code",
    "executionInfo": {
     "elapsed": 479,
     "status": "ok",
     "timestamp": 1597767691244,
     "user": {
      "displayName": "Jerry Wu",
      "photoUrl": "https://lh3.googleusercontent.com/a-/AOh14GgwwBYdSCjzetqgP6Z-QKEO6cCZ4SkgzLVjyj6IPpXCGKrFOiQc1UPWPh-CC9iqZk5_BV1u-73zzFH88gHnH_xXqtna4qvxDTZLOUmxo9Suow3OVCTMUf-rTWdtGbPsLoOwytotH2JMpK4cBSpWQUdS--S5C5Zhfhl3SlV22Nr7-T9cie29ummn6IKn1PmsFrq9ix_UeV9QGr0wnLZjrNcpnh2p3Dw3-kTgdzo2MAmE3ag6sexCyan4TiW7i_UraIL3wWQwzPm5X7DVNwz_9Vqt0xvwZIIpSGvue_binWPosb0Z_nUQAvt7veQww_GhrqR-jEw1G82T9Lgi8xCNwP90nDPYu-GYvAsaoRcDfHOzVbrgicrpeM4sv8sNSfbTCZDcfAwoyb-cQXaOmrcLEXw_6RTQMTR3T-on25RPb0RZp48POTaZb4RfMvTqs0q7jzg9z1J66nMUoBLvtoISVZUPD1c4zOzw7o6u7jiqs_uD9g5ukSzNoceu1R_Pbwli8_T_1G3MlXz9MzWocAAEruah0nErptb3VW4nVG4JgrrPJWXKHUoB5lZXtM5Zq_mmFXhnayDqvePLkl2y505pzii87yj8vJzKp_Q2iGnxw4MT7uzpTo9Z2-_yosRqQ9ir_zjKMg9ztEya32Dt__1g6ULAsVjmpcS0GQ-P-1hR8idtQcPK3MQvjggUQdVRVZQEHsYdlL4EKZPO4RHviqLZ8RTuyPU3k87vXFg_ZGPk65dltzybQ0oA_K5sAEyT5dMIQHNlZg=s64",
      "userId": "04264918358957182897"
     },
     "user_tz": -480
    },
    "id": "_7UZHNKB1WU9",
    "outputId": "96d8d365-5935-49b9-f32b-ca8f1d44ded3"
   },
   "outputs": [
    {
     "name": "stdout",
     "output_type": "stream",
     "text": [
      "決策樹: 1.0 \n",
      "隨機森林: 1.0 \n",
      "單純貝氏分類器: 0.7672253258845437 \n",
      "類神經網路; 0.7821229050279329 \n",
      "羅吉斯迴歸: 0.7616387337057728 \n",
      "K-近鄰演算法: 0.7914338919925512 \n",
      "支援向量機: 0.6797020484171322\n"
     ]
    }
   ],
   "source": [
    "print(\"決策樹:\",dtc_score,\"\\n隨機森林:\",rf_score,\"\\n單純貝氏分類器:\",\n",
    "      gnb_score,\"\\n類神經網路;\",mlp_score,\"\\n羅吉斯迴歸:\",logreg_score,'\\nK-近鄰演算法:',knn_score,\"\\n支援向量機:\",svm_score)"
   ]
  },
  {
   "cell_type": "code",
   "execution_count": null,
   "metadata": {
    "colab": {},
    "colab_type": "code",
    "id": "QTqWfpek4OlD"
   },
   "outputs": [],
   "source": []
  },
  {
   "cell_type": "code",
   "execution_count": null,
   "metadata": {},
   "outputs": [],
   "source": []
  }
 ],
 "metadata": {
  "colab": {
   "authorship_tag": "ABX9TyNROvwGVOKZ79zuRYgxntQU",
   "collapsed_sections": [],
   "name": "ML_01",
   "provenance": []
  },
  "kernelspec": {
   "display_name": "Python 3 (ipykernel)",
   "language": "python",
   "name": "python3"
  },
  "language_info": {
   "codemirror_mode": {
    "name": "ipython",
    "version": 3
   },
   "file_extension": ".py",
   "mimetype": "text/x-python",
   "name": "python",
   "nbconvert_exporter": "python",
   "pygments_lexer": "ipython3",
   "version": "3.7.11"
  }
 },
 "nbformat": 4,
 "nbformat_minor": 1
}
