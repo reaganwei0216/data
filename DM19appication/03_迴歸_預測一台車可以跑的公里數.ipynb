{
 "cells": [
  {
   "cell_type": "code",
   "execution_count": 1,
   "metadata": {
    "id": "G5nu6ZEGWOPk"
   },
   "outputs": [],
   "source": [
    "import pandas as pd\n",
    "import requests\n",
    "import io\n",
    "import numpy as np\n",
    "from sklearn.linear_model import LinearRegression\n",
    "from sklearn.model_selection import train_test_split"
   ]
  },
  {
   "cell_type": "code",
   "execution_count": 2,
   "metadata": {
    "id": "89zJ3Ik_VlIA"
   },
   "outputs": [],
   "source": [
    "url = \"https://gist.githubusercontent.com/omarish/5687264/raw/7e5c814ce6ef33e25d5259c1fe79463c190800d9/mpg.csv\"\n",
    "s = requests.get(url).content\n",
    "autompg = pd.read_csv(io.StringIO(s.decode('utf-8')))"
   ]
  },
  {
   "cell_type": "code",
   "execution_count": 3,
   "metadata": {
    "colab": {
     "base_uri": "https://localhost:8080/",
     "height": 289
    },
    "id": "Kx4gh0hRVped",
    "outputId": "97206cd9-0e2b-416b-eb0c-31fbf99f3af3"
   },
   "outputs": [
    {
     "name": "stdout",
     "output_type": "stream",
     "text": [
      "<class 'pandas.core.frame.DataFrame'>\n",
      "RangeIndex: 398 entries, 0 to 397\n",
      "Data columns (total 9 columns):\n",
      " #   Column        Non-Null Count  Dtype  \n",
      "---  ------        --------------  -----  \n",
      " 0   mpg           398 non-null    float64\n",
      " 1   cylinders     398 non-null    int64  \n",
      " 2   displacement  398 non-null    float64\n",
      " 3   horsepower    398 non-null    object \n",
      " 4   weight        398 non-null    int64  \n",
      " 5   acceleration  398 non-null    float64\n",
      " 6   model_year    398 non-null    int64  \n",
      " 7   origin        398 non-null    int64  \n",
      " 8   name          398 non-null    object \n",
      "dtypes: float64(3), int64(4), object(2)\n",
      "memory usage: 28.1+ KB\n"
     ]
    }
   ],
   "source": [
    "autompg.info()"
   ]
  },
  {
   "cell_type": "code",
   "execution_count": 4,
   "metadata": {
    "colab": {
     "base_uri": "https://localhost:8080/",
     "height": 204
    },
    "id": "rQsaLY8CWcF_",
    "outputId": "d5172f42-674d-44f3-fa6a-74ff86a92808"
   },
   "outputs": [
    {
     "data": {
      "text/html": [
       "<div>\n",
       "<style scoped>\n",
       "    .dataframe tbody tr th:only-of-type {\n",
       "        vertical-align: middle;\n",
       "    }\n",
       "\n",
       "    .dataframe tbody tr th {\n",
       "        vertical-align: top;\n",
       "    }\n",
       "\n",
       "    .dataframe thead th {\n",
       "        text-align: right;\n",
       "    }\n",
       "</style>\n",
       "<table border=\"1\" class=\"dataframe\">\n",
       "  <thead>\n",
       "    <tr style=\"text-align: right;\">\n",
       "      <th></th>\n",
       "      <th>mpg</th>\n",
       "      <th>cylinders</th>\n",
       "      <th>displacement</th>\n",
       "      <th>horsepower</th>\n",
       "      <th>weight</th>\n",
       "      <th>acceleration</th>\n",
       "      <th>model_year</th>\n",
       "      <th>origin</th>\n",
       "      <th>name</th>\n",
       "    </tr>\n",
       "  </thead>\n",
       "  <tbody>\n",
       "    <tr>\n",
       "      <th>0</th>\n",
       "      <td>18.0</td>\n",
       "      <td>8</td>\n",
       "      <td>307.0</td>\n",
       "      <td>130</td>\n",
       "      <td>3504</td>\n",
       "      <td>12.0</td>\n",
       "      <td>70</td>\n",
       "      <td>1</td>\n",
       "      <td>chevrolet chevelle malibu</td>\n",
       "    </tr>\n",
       "    <tr>\n",
       "      <th>1</th>\n",
       "      <td>15.0</td>\n",
       "      <td>8</td>\n",
       "      <td>350.0</td>\n",
       "      <td>165</td>\n",
       "      <td>3693</td>\n",
       "      <td>11.5</td>\n",
       "      <td>70</td>\n",
       "      <td>1</td>\n",
       "      <td>buick skylark 320</td>\n",
       "    </tr>\n",
       "    <tr>\n",
       "      <th>2</th>\n",
       "      <td>18.0</td>\n",
       "      <td>8</td>\n",
       "      <td>318.0</td>\n",
       "      <td>150</td>\n",
       "      <td>3436</td>\n",
       "      <td>11.0</td>\n",
       "      <td>70</td>\n",
       "      <td>1</td>\n",
       "      <td>plymouth satellite</td>\n",
       "    </tr>\n",
       "    <tr>\n",
       "      <th>3</th>\n",
       "      <td>16.0</td>\n",
       "      <td>8</td>\n",
       "      <td>304.0</td>\n",
       "      <td>150</td>\n",
       "      <td>3433</td>\n",
       "      <td>12.0</td>\n",
       "      <td>70</td>\n",
       "      <td>1</td>\n",
       "      <td>amc rebel sst</td>\n",
       "    </tr>\n",
       "    <tr>\n",
       "      <th>4</th>\n",
       "      <td>17.0</td>\n",
       "      <td>8</td>\n",
       "      <td>302.0</td>\n",
       "      <td>140</td>\n",
       "      <td>3449</td>\n",
       "      <td>10.5</td>\n",
       "      <td>70</td>\n",
       "      <td>1</td>\n",
       "      <td>ford torino</td>\n",
       "    </tr>\n",
       "  </tbody>\n",
       "</table>\n",
       "</div>"
      ],
      "text/plain": [
       "    mpg  cylinders  displacement horsepower  weight  acceleration  model_year  \\\n",
       "0  18.0          8         307.0        130    3504          12.0          70   \n",
       "1  15.0          8         350.0        165    3693          11.5          70   \n",
       "2  18.0          8         318.0        150    3436          11.0          70   \n",
       "3  16.0          8         304.0        150    3433          12.0          70   \n",
       "4  17.0          8         302.0        140    3449          10.5          70   \n",
       "\n",
       "   origin                       name  \n",
       "0       1  chevrolet chevelle malibu  \n",
       "1       1          buick skylark 320  \n",
       "2       1         plymouth satellite  \n",
       "3       1              amc rebel sst  \n",
       "4       1                ford torino  "
      ]
     },
     "execution_count": 4,
     "metadata": {},
     "output_type": "execute_result"
    }
   ],
   "source": [
    "autompg.head()"
   ]
  },
  {
   "cell_type": "code",
   "execution_count": 5,
   "metadata": {
    "id": "_D7SMlMlXacF"
   },
   "outputs": [],
   "source": [
    "autompg = autompg.dropna()"
   ]
  },
  {
   "cell_type": "code",
   "execution_count": 6,
   "metadata": {
    "id": "XrLNI4D8YkLi"
   },
   "outputs": [],
   "source": [
    "cols_to_norm = ['cylinders', 'displacement', 'weight', 'acceleration']"
   ]
  },
  {
   "cell_type": "code",
   "execution_count": 7,
   "metadata": {
    "id": "01vsDCXgYgR-"
   },
   "outputs": [],
   "source": [
    "df_data = pd.DataFrame(autompg[cols_to_norm])\n",
    "df_target = pd.DataFrame(autompg['mpg'])\n",
    "df = pd.concat([df_data,df_target],axis=1)"
   ]
  },
  {
   "cell_type": "code",
   "execution_count": 8,
   "metadata": {
    "id": "mGhfi9yBYeiJ"
   },
   "outputs": [],
   "source": [
    "X_train, X_test, y_train, y_test = train_test_split(df_data, df_target,\n",
    "                                                    test_size = 0.3,\n",
    "                                                    random_state=42)"
   ]
  },
  {
   "cell_type": "code",
   "execution_count": 9,
   "metadata": {
    "colab": {
     "base_uri": "https://localhost:8080/",
     "height": 34
    },
    "id": "dIOPmkJKZBNF",
    "outputId": "30d145a6-47dc-42bf-f0dd-96a65c8288a8"
   },
   "outputs": [
    {
     "data": {
      "text/plain": [
       "0.692957993903571"
      ]
     },
     "execution_count": 9,
     "metadata": {},
     "output_type": "execute_result"
    }
   ],
   "source": [
    "reg_all = LinearRegression()\n",
    "reg_all.fit(X_train,y_train.values.ravel())\n",
    "reg_all.score(X_train,y_train)"
   ]
  },
  {
   "cell_type": "code",
   "execution_count": 10,
   "metadata": {
    "colab": {
     "base_uri": "https://localhost:8080/",
     "height": 425
    },
    "id": "dxXNo-H0ZKpZ",
    "outputId": "ae05eedc-7782-4394-bcbf-5c38c4cb70b6"
   },
   "outputs": [
    {
     "data": {
      "text/plain": [
       "array([32.46838477, 27.31966612, 24.4529797 , 15.57664995, 14.09085863,\n",
       "       30.38760946, 25.11502999,  8.32491711, 17.05167646, 24.39938828,\n",
       "       13.90216458, 30.98464166, 32.1513017 , 15.96259485, 27.13651369,\n",
       "        8.12651647, 27.27018072, 22.80137508, 12.07402863, 31.47891542,\n",
       "       27.85216049, 24.37932483, 23.61265029, 30.39640057, 18.09260368,\n",
       "       31.84259255, 29.19781387, 25.57789807, 19.85568411,  8.31938429,\n",
       "       25.39521595, 30.71231036, 16.09915021, 28.85936101, 31.03619785,\n",
       "       11.41046484, 26.95237052, 18.83409698, 12.55505469, 29.66991322,\n",
       "       25.07483705, 32.45638811, 24.66400879, 11.03240098, 27.19407137,\n",
       "       29.23004135, 28.69313554, 26.00427577, 28.84859996, 29.78608633,\n",
       "       28.32785327, 31.05340181, 29.19566399, 11.16738854, 24.86730301,\n",
       "       10.71882641, 14.80288646, 25.94471677, 28.47021893, 21.47237708,\n",
       "       16.19875037, 32.4885269 , 26.56573598, 25.41790084, 24.06224971,\n",
       "       28.85144442, 25.22347687, 30.63335614, 31.12150917, 15.00016828,\n",
       "       29.24892988, 14.41908686, 10.63401423, 22.1695793 , 24.19844612,\n",
       "       20.43629489, 19.60996839, 27.77848385, 30.96544476, 16.83523666,\n",
       "       18.5627808 , 29.80823774, 31.27613134, 32.23754197, 26.27585138,\n",
       "       11.28439724, 31.9802384 , 29.56850924, 29.83787181,  7.34083499,\n",
       "       11.67773987, 28.03538071, 29.51308639, 32.7431266 , 24.54202636,\n",
       "       29.73823319, 27.12244458, 21.35854339, 24.8152467 , 14.93163701,\n",
       "       31.71245289, 28.5537863 , 24.70903511, 17.05572096, 19.88834257,\n",
       "       10.3104255 , 32.7526357 , 10.8134678 , 29.25504265, 31.91683492,\n",
       "       33.30152061, 27.86966279, 18.8011042 , 31.12563655, 26.31229198,\n",
       "       28.4285639 , 30.1835019 , 21.02833644, 29.95330474, 21.65573918])"
      ]
     },
     "execution_count": 10,
     "metadata": {},
     "output_type": "execute_result"
    }
   ],
   "source": [
    "reg_all.predict(X_test)"
   ]
  },
  {
   "cell_type": "code",
   "execution_count": null,
   "metadata": {
    "id": "SHUV8nvFZPNA"
   },
   "outputs": [],
   "source": []
  },
  {
   "cell_type": "code",
   "execution_count": null,
   "metadata": {},
   "outputs": [],
   "source": []
  }
 ],
 "metadata": {
  "colab": {
   "collapsed_sections": [],
   "name": "03_迴歸-預測一台車可以跑的公里數.ipynb",
   "provenance": []
  },
  "kernelspec": {
   "display_name": "Python 3 (ipykernel)",
   "language": "python",
   "name": "python3"
  },
  "language_info": {
   "codemirror_mode": {
    "name": "ipython",
    "version": 3
   },
   "file_extension": ".py",
   "mimetype": "text/x-python",
   "name": "python",
   "nbconvert_exporter": "python",
   "pygments_lexer": "ipython3",
   "version": "3.7.11"
  }
 },
 "nbformat": 4,
 "nbformat_minor": 1
}
